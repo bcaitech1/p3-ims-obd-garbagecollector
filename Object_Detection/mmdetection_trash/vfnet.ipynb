{
 "cells": [
  {
   "cell_type": "code",
   "execution_count": 8,
   "metadata": {},
   "outputs": [],
   "source": [
    "import wandb"
   ]
  },
  {
   "cell_type": "code",
   "execution_count": 9,
   "metadata": {},
   "outputs": [
    {
     "name": "stderr",
     "output_type": "stream",
     "text": [
      "\u001b[34m\u001b[1mwandb\u001b[0m: Currently logged in as: \u001b[33mk1smet14\u001b[0m (use `wandb login --relogin` to force relogin)\n"
     ]
    },
    {
     "data": {
      "text/plain": [
       "True"
      ]
     },
     "execution_count": 9,
     "metadata": {},
     "output_type": "execute_result"
    }
   ],
   "source": [
    "wandb.login()"
   ]
  },
  {
   "cell_type": "code",
   "execution_count": 1,
   "metadata": {},
   "outputs": [
    {
     "name": "stdout",
     "output_type": "stream",
     "text": [
      "1.7.1+cu101\n"
     ]
    }
   ],
   "source": [
    "import torch\n",
    "print(torch.__version__)"
   ]
  },
  {
   "cell_type": "code",
   "execution_count": 2,
   "metadata": {},
   "outputs": [
    {
     "name": "stdout",
     "output_type": "stream",
     "text": [
      "True\n"
     ]
    }
   ],
   "source": [
    "print(torch.cuda.is_available())"
   ]
  },
  {
   "cell_type": "code",
   "execution_count": 18,
   "metadata": {
    "pycharm": {
     "name": "#%%\n"
    }
   },
   "outputs": [],
   "source": [
    "from mmcv import Config\n",
    "from mmdet.datasets import build_dataset\n",
    "from mmdet.models import build_detector\n",
    "from mmdet.apis import train_detector\n",
    "from mmdet.datasets import (build_dataloader, build_dataset,\n",
    "                            replace_ImageToTensor)"
   ]
  },
  {
   "cell_type": "code",
   "execution_count": null,
   "metadata": {},
   "outputs": [],
   "source": []
  },
  {
   "cell_type": "code",
   "execution_count": 28,
   "metadata": {
    "pycharm": {
     "name": "#%%\n"
    }
   },
   "outputs": [],
   "source": [
    "classes = (\"UNKNOWN\", \"General trash\", \"Paper\", \"Paper pack\", \"Metal\", \"Glass\", \n",
    "           \"Plastic\", \"Styrofoam\", \"Plastic bag\", \"Battery\", \"Clothing\")\n",
    "# config file 들고오기\n",
    "cfg = Config.fromfile('./configs/vfnet/vfnet_x101_64x4d_fpn_mstrain_2x_coco.py')\n",
    "\n",
    "PREFIX = '../../input/data/'\n",
    "\n",
    "\n",
    "# dataset 바꾸기\n",
    "cfg.data.train.classes = classes\n",
    "cfg.data.train.img_prefix = PREFIX\n",
    "cfg.data.train.ann_file = PREFIX + 'train.json'\n",
    "cfg.data.train.pipeline[2]['img_scale'] = (512, 512)\n",
    "\n",
    "cfg.data.val.classes = classes\n",
    "cfg.data.val.img_prefix = PREFIX\n",
    "cfg.data.val.ann_file = PREFIX + 'val.json'\n",
    "cfg.data.val.pipeline[1]['img_scale'] = (512, 512)\n",
    "\n",
    "cfg.data.test.classes = classes\n",
    "cfg.data.test.img_prefix = PREFIX\n",
    "cfg.data.test.ann_file = PREFIX + 'test.json'\n",
    "cfg.data.test.pipeline[1]['img_scale'] = (512, 512)\n",
    "\n",
    "cfg.data.samples_per_gpu = 4\n",
    "\n",
    "cfg.seed=90\n",
    "cfg.gpu_ids = [0]\n",
    "cfg.work_dir = './work_dirs/vfnet_x101_64x4d_fpn_mstrain_2x_coco'\n",
    "\n",
    "cfg.model.bbox_head.num_classes = 11\n",
    "cfg.optimizer_config.grad_clip = dict(max_norm=35, norm_type=2)\n",
    "\n",
    "cfg.log_config.hooks = [dict(type='TextLoggerHook'), dict(type='WandbLoggerHook')]\n",
    "cfg.checkpoint_config['max_keep_ckpts']=5\n",
    "cfg.evaluation.save_best = 'bbox_mAP_50'"
   ]
  },
  {
   "cell_type": "code",
   "execution_count": null,
   "metadata": {},
   "outputs": [],
   "source": []
  },
  {
   "cell_type": "code",
   "execution_count": 33,
   "metadata": {},
   "outputs": [
    {
     "name": "stdout",
     "output_type": "stream",
     "text": [
      "{'warmup': 'linear', 'warmup_iters': 500, 'warmup_ratio': 0.1, 'step': [16, 22], 'type': 'StepLrUpdaterHook'}\n"
     ]
    }
   ],
   "source": [
    "print(cfg.lr_config)"
   ]
  },
  {
   "cell_type": "code",
   "execution_count": 30,
   "metadata": {
    "pycharm": {
     "name": "#%%\n"
    }
   },
   "outputs": [
    {
     "name": "stderr",
     "output_type": "stream",
     "text": [
      "2021-05-12 08:44:30,861 - mmdet - INFO - load model from: open-mmlab://resnext101_64x4d\n",
      "2021-05-12 08:44:30,862 - mmdet - INFO - Use load_from_openmmlab loader\n"
     ]
    }
   ],
   "source": [
    "model = build_detector(cfg.model)"
   ]
  },
  {
   "cell_type": "code",
   "execution_count": 31,
   "metadata": {
    "pycharm": {
     "name": "#%%\n"
    }
   },
   "outputs": [
    {
     "name": "stdout",
     "output_type": "stream",
     "text": [
      "loading annotations into memory...\n",
      "Done (t=3.85s)\n",
      "creating index...\n",
      "index created!\n"
     ]
    }
   ],
   "source": [
    "datasets = [build_dataset(cfg.data.train)]"
   ]
  },
  {
   "cell_type": "code",
   "execution_count": 32,
   "metadata": {
    "pycharm": {
     "name": "#%%\n"
    }
   },
   "outputs": [
    {
     "name": "stdout",
     "output_type": "stream",
     "text": [
      "loading annotations into memory...\n"
     ]
    },
    {
     "name": "stderr",
     "output_type": "stream",
     "text": [
      "2021-05-12 08:44:45,672 - mmdet - INFO - Start running, host: root@bc720df3e041, work_dir: /opt/ml/code/mmdetection_trash/work_dirs/vfnet_x101_64x4d_fpn_mstrain_2x_coco\n",
      "2021-05-12 08:44:45,673 - mmdet - INFO - workflow: [('train', 1)], max: 24 epochs\n",
      "/opt/ml/code/mmdetection_trash/mmdet/core/evaluation/eval_hooks.py:111: UserWarning: runner.meta is None. Creating a empty one.\n",
      "  warnings.warn('runner.meta is None. Creating a empty one.')\n",
      "\u001b[34m\u001b[1mwandb\u001b[0m: Currently logged in as: \u001b[33mk1smet14\u001b[0m (use `wandb login --relogin` to force relogin)\n"
     ]
    },
    {
     "name": "stdout",
     "output_type": "stream",
     "text": [
      "Done (t=0.83s)\n",
      "creating index...\n",
      "index created!\n"
     ]
    },
    {
     "data": {
      "text/html": [
       "\n",
       "                Tracking run with wandb version 0.10.30<br/>\n",
       "                Syncing run <strong style=\"color:#cdcd00\">youthful-donkey-1</strong> to <a href=\"https://wandb.ai\" target=\"_blank\">Weights & Biases</a> <a href=\"https://docs.wandb.com/integrations/jupyter.html\" target=\"_blank\">(Documentation)</a>.<br/>\n",
       "                Project page: <a href=\"https://wandb.ai/k1smet14/mmdetection_trash\" target=\"_blank\">https://wandb.ai/k1smet14/mmdetection_trash</a><br/>\n",
       "                Run page: <a href=\"https://wandb.ai/k1smet14/mmdetection_trash/runs/3hwwk6a0\" target=\"_blank\">https://wandb.ai/k1smet14/mmdetection_trash/runs/3hwwk6a0</a><br/>\n",
       "                Run data is saved locally in <code>/opt/ml/code/mmdetection_trash/wandb/run-20210512_084445-3hwwk6a0</code><br/><br/>\n",
       "            "
      ],
      "text/plain": [
       "<IPython.core.display.HTML object>"
      ]
     },
     "metadata": {},
     "output_type": "display_data"
    },
    {
     "name": "stderr",
     "output_type": "stream",
     "text": [
      "2021-05-12 08:45:30,490 - mmdet - INFO - Epoch [1][50/655]\tlr: 1.882e-03, eta: 3:30:51, time: 0.807, data_time: 0.051, memory: 5266, loss_cls: 0.7396, loss_bbox: 0.8646, loss_bbox_rf: 1.1749, loss: 2.7791, grad_norm: 15.2026\n",
      "2021-05-12 08:46:08,660 - mmdet - INFO - Epoch [1][100/655]\tlr: 2.782e-03, eta: 3:24:27, time: 0.763, data_time: 0.007, memory: 5266, loss_cls: 0.7810, loss_bbox: 0.7959, loss_bbox_rf: 1.0683, loss: 2.6452, grad_norm: 7.6943\n",
      "2021-05-12 08:46:47,145 - mmdet - INFO - Epoch [1][150/655]\tlr: 3.682e-03, eta: 3:22:26, time: 0.770, data_time: 0.007, memory: 5266, loss_cls: 0.8343, loss_bbox: 0.7758, loss_bbox_rf: 1.0346, loss: 2.6447, grad_norm: 5.8828\n",
      "2021-05-12 08:47:25,351 - mmdet - INFO - Epoch [1][200/655]\tlr: 4.582e-03, eta: 3:20:45, time: 0.764, data_time: 0.007, memory: 5266, loss_cls: 0.7759, loss_bbox: 0.7496, loss_bbox_rf: 1.0032, loss: 2.5287, grad_norm: 4.5393\n",
      "2021-05-12 08:48:03,662 - mmdet - INFO - Epoch [1][250/655]\tlr: 5.482e-03, eta: 3:19:36, time: 0.766, data_time: 0.007, memory: 5266, loss_cls: 0.9235, loss_bbox: 0.7108, loss_bbox_rf: 0.9474, loss: 2.5818, grad_norm: 4.7515\n",
      "2021-05-12 08:48:41,913 - mmdet - INFO - Epoch [1][300/655]\tlr: 6.382e-03, eta: 3:18:33, time: 0.765, data_time: 0.007, memory: 5266, loss_cls: 0.8896, loss_bbox: 0.6856, loss_bbox_rf: 0.9084, loss: 2.4836, grad_norm: 4.6019\n",
      "2021-05-12 08:49:20,128 - mmdet - INFO - Epoch [1][350/655]\tlr: 7.282e-03, eta: 3:17:37, time: 0.764, data_time: 0.007, memory: 5266, loss_cls: 1.0760, loss_bbox: 0.6661, loss_bbox_rf: 0.8743, loss: 2.6164, grad_norm: 5.2661\n",
      "2021-05-12 08:49:58,309 - mmdet - INFO - Epoch [1][400/655]\tlr: 8.182e-03, eta: 3:16:43, time: 0.764, data_time: 0.007, memory: 5266, loss_cls: 0.9518, loss_bbox: 0.7120, loss_bbox_rf: 0.9470, loss: 2.6108, grad_norm: 5.1685\n",
      "2021-05-12 08:50:36,541 - mmdet - INFO - Epoch [1][450/655]\tlr: 9.082e-03, eta: 3:15:55, time: 0.765, data_time: 0.007, memory: 5266, loss_cls: 1.1112, loss_bbox: 0.6589, loss_bbox_rf: 0.8716, loss: 2.6417, grad_norm: 3.6805\n",
      "2021-05-12 08:51:14,802 - mmdet - INFO - Epoch [1][500/655]\tlr: 9.982e-03, eta: 3:15:09, time: 0.765, data_time: 0.007, memory: 5266, loss_cls: 0.9171, loss_bbox: 0.6412, loss_bbox_rf: 0.8491, loss: 2.4074, grad_norm: 3.4035\n",
      "2021-05-12 08:51:52,997 - mmdet - INFO - Epoch [1][550/655]\tlr: 1.000e-02, eta: 3:14:23, time: 0.764, data_time: 0.007, memory: 5266, loss_cls: 0.9219, loss_bbox: 0.6626, loss_bbox_rf: 0.8804, loss: 2.4649, grad_norm: 4.1098\n",
      "2021-05-12 08:52:31,246 - mmdet - INFO - Epoch [1][600/655]\tlr: 1.000e-02, eta: 3:13:40, time: 0.765, data_time: 0.007, memory: 5266, loss_cls: 0.9671, loss_bbox: 0.6292, loss_bbox_rf: 0.8361, loss: 2.4324, grad_norm: 3.2110\n",
      "2021-05-12 08:53:09,555 - mmdet - INFO - Epoch [1][650/655]\tlr: 1.000e-02, eta: 3:12:59, time: 0.766, data_time: 0.007, memory: 5266, loss_cls: 0.9890, loss_bbox: 0.6207, loss_bbox_rf: 0.8233, loss: 2.4329, grad_norm: 3.2593\n",
      "2021-05-12 08:53:13,461 - mmdet - INFO - Saving checkpoint at 1 epochs\n"
     ]
    },
    {
     "name": "stdout",
     "output_type": "stream",
     "text": [
      "[>>>>>>>>>>>>>>>>>>>>>>>>>>>>>>] 655/655, 9.9 task/s, elapsed: 66s, ETA:     0s"
     ]
    },
    {
     "name": "stderr",
     "output_type": "stream",
     "text": [
      "2021-05-12 08:54:22,419 - mmdet - INFO - Evaluating bbox...\n"
     ]
    },
    {
     "name": "stdout",
     "output_type": "stream",
     "text": [
      "Loading and preparing results...\n",
      "DONE (t=1.31s)\n",
      "creating index...\n",
      "index created!\n",
      "Running per image evaluation...\n",
      "Evaluate annotation type *bbox*\n",
      "DONE (t=6.83s).\n",
      "Accumulating evaluation results...\n"
     ]
    },
    {
     "name": "stderr",
     "output_type": "stream",
     "text": [
      "2021-05-12 08:54:32,630 - mmdet - INFO - Now best checkpoint is epoch_1.pth.Best bbox_mAP_50 is 0.0230\n",
      "2021-05-12 08:54:32,639 - mmdet - INFO - Epoch(val) [1][655]\tbbox_mAP: 0.0100, bbox_mAP_50: 0.0230, bbox_mAP_75: 0.0070, bbox_mAP_s: 0.0010, bbox_mAP_m: 0.0260, bbox_mAP_l: 0.0260, bbox_mAP_copypaste: 0.010 0.023 0.007 0.001 0.026 0.026\n"
     ]
    },
    {
     "name": "stdout",
     "output_type": "stream",
     "text": [
      "DONE (t=1.92s).\n",
      "Average Precision  (AP) @[ IoU=0.50:0.95 | area=   all | maxDets=100 ] = 0.010\n",
      "Average Precision  (AP) @[ IoU=0.50      | area=   all | maxDets=1000 ] = 0.023\n",
      "Average Precision  (AP) @[ IoU=0.75      | area=   all | maxDets=1000 ] = 0.007\n",
      "Average Precision  (AP) @[ IoU=0.50:0.95 | area= small | maxDets=1000 ] = 0.001\n",
      "Average Precision  (AP) @[ IoU=0.50:0.95 | area=medium | maxDets=1000 ] = 0.026\n",
      "Average Precision  (AP) @[ IoU=0.50:0.95 | area= large | maxDets=1000 ] = 0.026\n",
      "Average Recall     (AR) @[ IoU=0.50:0.95 | area=   all | maxDets=100 ] = 0.083\n",
      "Average Recall     (AR) @[ IoU=0.50:0.95 | area=   all | maxDets=300 ] = 0.083\n",
      "Average Recall     (AR) @[ IoU=0.50:0.95 | area=   all | maxDets=1000 ] = 0.083\n",
      "Average Recall     (AR) @[ IoU=0.50:0.95 | area= small | maxDets=1000 ] = 0.001\n",
      "Average Recall     (AR) @[ IoU=0.50:0.95 | area=medium | maxDets=1000 ] = 0.038\n",
      "Average Recall     (AR) @[ IoU=0.50:0.95 | area= large | maxDets=1000 ] = 0.238\n"
     ]
    },
    {
     "name": "stderr",
     "output_type": "stream",
     "text": [
      "2021-05-12 08:55:13,203 - mmdet - INFO - Epoch [2][50/655]\tlr: 1.000e-02, eta: 3:11:40, time: 0.811, data_time: 0.052, memory: 5266, loss_cls: 0.9181, loss_bbox: 0.5869, loss_bbox_rf: 0.7787, loss: 2.2836, grad_norm: 3.8000\n",
      "2021-05-12 08:55:51,227 - mmdet - INFO - Epoch [2][100/655]\tlr: 1.000e-02, eta: 3:10:56, time: 0.760, data_time: 0.007, memory: 5266, loss_cls: 0.8970, loss_bbox: 0.5711, loss_bbox_rf: 0.7592, loss: 2.2272, grad_norm: 3.3359\n",
      "2021-05-12 08:56:29,373 - mmdet - INFO - Epoch [2][150/655]\tlr: 1.000e-02, eta: 3:10:15, time: 0.763, data_time: 0.007, memory: 5266, loss_cls: 0.9692, loss_bbox: 0.5574, loss_bbox_rf: 0.7429, loss: 2.2696, grad_norm: 4.0312\n",
      "2021-05-12 08:57:07,955 - mmdet - INFO - Epoch [2][200/655]\tlr: 1.000e-02, eta: 3:09:43, time: 0.772, data_time: 0.007, memory: 5266, loss_cls: 1.0192, loss_bbox: 0.5365, loss_bbox_rf: 0.7115, loss: 2.2672, grad_norm: 3.7261\n",
      "2021-05-12 08:57:46,557 - mmdet - INFO - Epoch [2][250/655]\tlr: 1.000e-02, eta: 3:09:09, time: 0.772, data_time: 0.007, memory: 5266, loss_cls: 1.0707, loss_bbox: 0.5477, loss_bbox_rf: 0.7283, loss: 2.3467, grad_norm: 3.5505\n",
      "2021-05-12 08:58:25,100 - mmdet - INFO - Epoch [2][300/655]\tlr: 1.000e-02, eta: 3:08:35, time: 0.771, data_time: 0.007, memory: 5266, loss_cls: 1.0353, loss_bbox: 0.5357, loss_bbox_rf: 0.7131, loss: 2.2842, grad_norm: 3.8014\n",
      "2021-05-12 08:59:03,603 - mmdet - INFO - Epoch [2][350/655]\tlr: 1.000e-02, eta: 3:07:59, time: 0.770, data_time: 0.007, memory: 5266, loss_cls: 1.0091, loss_bbox: 0.5417, loss_bbox_rf: 0.7211, loss: 2.2718, grad_norm: 3.3265\n",
      "2021-05-12 08:59:42,212 - mmdet - INFO - Epoch [2][400/655]\tlr: 1.000e-02, eta: 3:07:25, time: 0.772, data_time: 0.007, memory: 5266, loss_cls: 1.1305, loss_bbox: 0.5100, loss_bbox_rf: 0.6819, loss: 2.3224, grad_norm: 3.3253\n",
      "2021-05-12 09:00:20,514 - mmdet - INFO - Epoch [2][450/655]\tlr: 1.000e-02, eta: 3:06:46, time: 0.766, data_time: 0.007, memory: 5266, loss_cls: 1.0466, loss_bbox: 0.4854, loss_bbox_rf: 0.6451, loss: 2.1772, grad_norm: 3.3234\n",
      "2021-05-12 09:00:58,789 - mmdet - INFO - Epoch [2][500/655]\tlr: 1.000e-02, eta: 3:06:07, time: 0.765, data_time: 0.007, memory: 5266, loss_cls: 0.9326, loss_bbox: 0.5005, loss_bbox_rf: 0.6671, loss: 2.1003, grad_norm: 2.8975\n",
      "2021-05-12 09:01:37,095 - mmdet - INFO - Epoch [2][550/655]\tlr: 1.000e-02, eta: 3:05:28, time: 0.766, data_time: 0.007, memory: 5266, loss_cls: 0.9607, loss_bbox: 0.4804, loss_bbox_rf: 0.6411, loss: 2.0822, grad_norm: 3.1412\n",
      "2021-05-12 09:02:16,414 - mmdet - INFO - Epoch [2][600/655]\tlr: 1.000e-02, eta: 3:05:01, time: 0.786, data_time: 0.007, memory: 5266, loss_cls: 1.0103, loss_bbox: 0.4746, loss_bbox_rf: 0.6338, loss: 2.1188, grad_norm: 3.6708\n",
      "2021-05-12 09:02:55,388 - mmdet - INFO - Epoch [2][650/655]\tlr: 1.000e-02, eta: 3:04:29, time: 0.779, data_time: 0.007, memory: 5266, loss_cls: 1.0063, loss_bbox: 0.4926, loss_bbox_rf: 0.6567, loss: 2.1556, grad_norm: 3.2857\n",
      "2021-05-12 09:02:59,289 - mmdet - INFO - Saving checkpoint at 2 epochs\n"
     ]
    },
    {
     "name": "stdout",
     "output_type": "stream",
     "text": [
      "[>>>>>>>>>>>>>>>>>>>>>>>>>>>>>] 655/655, 10.1 task/s, elapsed: 65s, ETA:     0s"
     ]
    },
    {
     "name": "stderr",
     "output_type": "stream",
     "text": [
      "2021-05-12 09:04:06,784 - mmdet - INFO - Evaluating bbox...\n"
     ]
    },
    {
     "name": "stdout",
     "output_type": "stream",
     "text": [
      "Loading and preparing results...\n",
      "DONE (t=1.30s)\n",
      "creating index...\n",
      "index created!\n",
      "Running per image evaluation...\n",
      "Evaluate annotation type *bbox*\n",
      "DONE (t=7.35s).\n",
      "Accumulating evaluation results...\n"
     ]
    },
    {
     "name": "stderr",
     "output_type": "stream",
     "text": [
      "2021-05-12 09:04:17,444 - mmdet - INFO - Now best checkpoint is epoch_2.pth.Best bbox_mAP_50 is 0.0490\n",
      "2021-05-12 09:04:17,451 - mmdet - INFO - Epoch(val) [2][655]\tbbox_mAP: 0.0260, bbox_mAP_50: 0.0490, bbox_mAP_75: 0.0270, bbox_mAP_s: 0.0050, bbox_mAP_m: 0.0440, bbox_mAP_l: 0.0560, bbox_mAP_copypaste: 0.026 0.049 0.027 0.005 0.044 0.056\n"
     ]
    },
    {
     "name": "stdout",
     "output_type": "stream",
     "text": [
      "DONE (t=1.84s).\n",
      "Average Precision  (AP) @[ IoU=0.50:0.95 | area=   all | maxDets=100 ] = 0.026\n",
      "Average Precision  (AP) @[ IoU=0.50      | area=   all | maxDets=1000 ] = 0.049\n",
      "Average Precision  (AP) @[ IoU=0.75      | area=   all | maxDets=1000 ] = 0.027\n",
      "Average Precision  (AP) @[ IoU=0.50:0.95 | area= small | maxDets=1000 ] = 0.005\n",
      "Average Precision  (AP) @[ IoU=0.50:0.95 | area=medium | maxDets=1000 ] = 0.044\n",
      "Average Precision  (AP) @[ IoU=0.50:0.95 | area= large | maxDets=1000 ] = 0.056\n",
      "Average Recall     (AR) @[ IoU=0.50:0.95 | area=   all | maxDets=100 ] = 0.159\n",
      "Average Recall     (AR) @[ IoU=0.50:0.95 | area=   all | maxDets=300 ] = 0.159\n",
      "Average Recall     (AR) @[ IoU=0.50:0.95 | area=   all | maxDets=1000 ] = 0.159\n",
      "Average Recall     (AR) @[ IoU=0.50:0.95 | area= small | maxDets=1000 ] = 0.013\n",
      "Average Recall     (AR) @[ IoU=0.50:0.95 | area=medium | maxDets=1000 ] = 0.096\n",
      "Average Recall     (AR) @[ IoU=0.50:0.95 | area= large | maxDets=1000 ] = 0.383\n"
     ]
    },
    {
     "name": "stderr",
     "output_type": "stream",
     "text": [
      "2021-05-12 09:04:58,016 - mmdet - INFO - Epoch [3][50/655]\tlr: 1.000e-02, eta: 3:03:29, time: 0.811, data_time: 0.052, memory: 5266, loss_cls: 1.0020, loss_bbox: 0.4667, loss_bbox_rf: 0.6242, loss: 2.0929, grad_norm: 3.3170\n",
      "2021-05-12 09:05:36,362 - mmdet - INFO - Epoch [3][100/655]\tlr: 1.000e-02, eta: 3:02:51, time: 0.767, data_time: 0.007, memory: 5266, loss_cls: 1.0215, loss_bbox: 0.4456, loss_bbox_rf: 0.5918, loss: 2.0589, grad_norm: 3.2448\n",
      "2021-05-12 09:06:14,712 - mmdet - INFO - Epoch [3][150/655]\tlr: 1.000e-02, eta: 3:02:13, time: 0.767, data_time: 0.007, memory: 5266, loss_cls: 1.1675, loss_bbox: 0.4559, loss_bbox_rf: 0.6054, loss: 2.2288, grad_norm: 3.5705\n",
      "2021-05-12 09:06:53,023 - mmdet - INFO - Epoch [3][200/655]\tlr: 1.000e-02, eta: 3:01:34, time: 0.766, data_time: 0.007, memory: 5266, loss_cls: 1.0834, loss_bbox: 0.4509, loss_bbox_rf: 0.5975, loss: 2.1318, grad_norm: 3.3706\n",
      "2021-05-12 09:07:31,348 - mmdet - INFO - Epoch [3][250/655]\tlr: 1.000e-02, eta: 3:00:56, time: 0.766, data_time: 0.007, memory: 5266, loss_cls: 0.9872, loss_bbox: 0.4654, loss_bbox_rf: 0.6201, loss: 2.0727, grad_norm: 3.4459\n",
      "2021-05-12 09:08:09,718 - mmdet - INFO - Epoch [3][300/655]\tlr: 1.000e-02, eta: 3:00:18, time: 0.767, data_time: 0.007, memory: 5266, loss_cls: 1.0575, loss_bbox: 0.4469, loss_bbox_rf: 0.5951, loss: 2.0995, grad_norm: 3.7309\n",
      "2021-05-12 09:08:48,046 - mmdet - INFO - Epoch [3][350/655]\tlr: 1.000e-02, eta: 2:59:39, time: 0.767, data_time: 0.007, memory: 5266, loss_cls: 0.9822, loss_bbox: 0.4422, loss_bbox_rf: 0.5897, loss: 2.0141, grad_norm: 2.8861\n",
      "2021-05-12 09:09:26,460 - mmdet - INFO - Epoch [3][400/655]\tlr: 1.000e-02, eta: 2:59:02, time: 0.768, data_time: 0.007, memory: 5266, loss_cls: 1.0884, loss_bbox: 0.4348, loss_bbox_rf: 0.5743, loss: 2.0975, grad_norm: 3.3920\n",
      "2021-05-12 09:10:04,941 - mmdet - INFO - Epoch [3][450/655]\tlr: 1.000e-02, eta: 2:58:25, time: 0.770, data_time: 0.007, memory: 5266, loss_cls: 0.9678, loss_bbox: 0.4473, loss_bbox_rf: 0.5933, loss: 2.0085, grad_norm: 2.7686\n",
      "2021-05-12 09:10:43,778 - mmdet - INFO - Epoch [3][500/655]\tlr: 1.000e-02, eta: 2:57:50, time: 0.777, data_time: 0.008, memory: 5266, loss_cls: 0.9912, loss_bbox: 0.4465, loss_bbox_rf: 0.5928, loss: 2.0306, grad_norm: 2.9463\n",
      "2021-05-12 09:11:22,311 - mmdet - INFO - Epoch [3][550/655]\tlr: 1.000e-02, eta: 2:57:13, time: 0.771, data_time: 0.007, memory: 5266, loss_cls: 0.9469, loss_bbox: 0.4224, loss_bbox_rf: 0.5600, loss: 1.9293, grad_norm: 3.2081\n",
      "2021-05-12 09:12:00,766 - mmdet - INFO - Epoch [3][600/655]\tlr: 1.000e-02, eta: 2:56:35, time: 0.769, data_time: 0.007, memory: 5266, loss_cls: 1.0022, loss_bbox: 0.4327, loss_bbox_rf: 0.5711, loss: 2.0061, grad_norm: 3.5389\n",
      "2021-05-12 09:12:39,194 - mmdet - INFO - Epoch [3][650/655]\tlr: 1.000e-02, eta: 2:55:57, time: 0.769, data_time: 0.007, memory: 5266, loss_cls: 1.0048, loss_bbox: 0.4408, loss_bbox_rf: 0.5847, loss: 2.0304, grad_norm: 3.2272\n",
      "2021-05-12 09:12:43,110 - mmdet - INFO - Saving checkpoint at 3 epochs\n"
     ]
    },
    {
     "name": "stdout",
     "output_type": "stream",
     "text": [
      "[>>>>>>>>>>>>>>>>>>>>>>>>>>>>>>] 655/655, 9.8 task/s, elapsed: 67s, ETA:     0s"
     ]
    },
    {
     "name": "stderr",
     "output_type": "stream",
     "text": [
      "2021-05-12 09:13:52,357 - mmdet - INFO - Evaluating bbox...\n"
     ]
    },
    {
     "name": "stdout",
     "output_type": "stream",
     "text": [
      "Loading and preparing results...\n",
      "DONE (t=1.22s)\n",
      "creating index...\n",
      "index created!\n",
      "Running per image evaluation...\n",
      "Evaluate annotation type *bbox*\n",
      "DONE (t=6.65s).\n",
      "Accumulating evaluation results...\n"
     ]
    },
    {
     "name": "stderr",
     "output_type": "stream",
     "text": [
      "2021-05-12 09:14:02,277 - mmdet - INFO - Now best checkpoint is epoch_3.pth.Best bbox_mAP_50 is 0.0870\n",
      "2021-05-12 09:14:02,286 - mmdet - INFO - Epoch(val) [3][655]\tbbox_mAP: 0.0500, bbox_mAP_50: 0.0870, bbox_mAP_75: 0.0530, bbox_mAP_s: 0.0230, bbox_mAP_m: 0.0530, bbox_mAP_l: 0.0840, bbox_mAP_copypaste: 0.050 0.087 0.053 0.023 0.053 0.084\n"
     ]
    },
    {
     "name": "stdout",
     "output_type": "stream",
     "text": [
      "DONE (t=1.89s).\n",
      "Average Precision  (AP) @[ IoU=0.50:0.95 | area=   all | maxDets=100 ] = 0.050\n",
      "Average Precision  (AP) @[ IoU=0.50      | area=   all | maxDets=1000 ] = 0.087\n",
      "Average Precision  (AP) @[ IoU=0.75      | area=   all | maxDets=1000 ] = 0.053\n",
      "Average Precision  (AP) @[ IoU=0.50:0.95 | area= small | maxDets=1000 ] = 0.023\n",
      "Average Precision  (AP) @[ IoU=0.50:0.95 | area=medium | maxDets=1000 ] = 0.053\n",
      "Average Precision  (AP) @[ IoU=0.50:0.95 | area= large | maxDets=1000 ] = 0.084\n",
      "Average Recall     (AR) @[ IoU=0.50:0.95 | area=   all | maxDets=100 ] = 0.213\n",
      "Average Recall     (AR) @[ IoU=0.50:0.95 | area=   all | maxDets=300 ] = 0.213\n",
      "Average Recall     (AR) @[ IoU=0.50:0.95 | area=   all | maxDets=1000 ] = 0.213\n",
      "Average Recall     (AR) @[ IoU=0.50:0.95 | area= small | maxDets=1000 ] = 0.028\n",
      "Average Recall     (AR) @[ IoU=0.50:0.95 | area=medium | maxDets=1000 ] = 0.216\n",
      "Average Recall     (AR) @[ IoU=0.50:0.95 | area= large | maxDets=1000 ] = 0.433\n"
     ]
    },
    {
     "name": "stderr",
     "output_type": "stream",
     "text": [
      "2021-05-12 09:14:42,864 - mmdet - INFO - Epoch [4][50/655]\tlr: 1.000e-02, eta: 2:55:04, time: 0.811, data_time: 0.052, memory: 5266, loss_cls: 0.9496, loss_bbox: 0.4248, loss_bbox_rf: 0.5584, loss: 1.9328, grad_norm: 3.1849\n",
      "2021-05-12 09:15:21,328 - mmdet - INFO - Epoch [4][100/655]\tlr: 1.000e-02, eta: 2:54:27, time: 0.769, data_time: 0.007, memory: 5266, loss_cls: 0.9631, loss_bbox: 0.4175, loss_bbox_rf: 0.5466, loss: 1.9272, grad_norm: 3.3499\n",
      "2021-05-12 09:15:59,935 - mmdet - INFO - Epoch [4][150/655]\tlr: 1.000e-02, eta: 2:53:50, time: 0.772, data_time: 0.007, memory: 5266, loss_cls: 1.0574, loss_bbox: 0.4014, loss_bbox_rf: 0.5238, loss: 1.9826, grad_norm: 3.7608\n",
      "2021-05-12 09:16:38,445 - mmdet - INFO - Epoch [4][200/655]\tlr: 1.000e-02, eta: 2:53:13, time: 0.770, data_time: 0.007, memory: 5266, loss_cls: 0.9825, loss_bbox: 0.4118, loss_bbox_rf: 0.5371, loss: 1.9314, grad_norm: 3.5061\n",
      "2021-05-12 09:17:17,142 - mmdet - INFO - Epoch [4][250/655]\tlr: 1.000e-02, eta: 2:52:37, time: 0.774, data_time: 0.007, memory: 5266, loss_cls: 1.0011, loss_bbox: 0.4189, loss_bbox_rf: 0.5402, loss: 1.9602, grad_norm: 3.4492\n",
      "2021-05-12 09:17:55,500 - mmdet - INFO - Epoch [4][300/655]\tlr: 1.000e-02, eta: 2:51:58, time: 0.767, data_time: 0.007, memory: 5266, loss_cls: 1.0291, loss_bbox: 0.4092, loss_bbox_rf: 0.5335, loss: 1.9717, grad_norm: 3.9122\n",
      "2021-05-12 09:18:33,905 - mmdet - INFO - Epoch [4][350/655]\tlr: 1.000e-02, eta: 2:51:20, time: 0.768, data_time: 0.007, memory: 5266, loss_cls: 0.9775, loss_bbox: 0.4090, loss_bbox_rf: 0.5299, loss: 1.9165, grad_norm: 3.3593\n",
      "2021-05-12 09:19:12,659 - mmdet - INFO - Epoch [4][400/655]\tlr: 1.000e-02, eta: 2:50:44, time: 0.775, data_time: 0.007, memory: 5266, loss_cls: 1.0537, loss_bbox: 0.4147, loss_bbox_rf: 0.5429, loss: 2.0113, grad_norm: 3.9138\n",
      "2021-05-12 09:19:51,152 - mmdet - INFO - Epoch [4][450/655]\tlr: 1.000e-02, eta: 2:50:07, time: 0.770, data_time: 0.007, memory: 5266, loss_cls: 1.0127, loss_bbox: 0.4121, loss_bbox_rf: 0.5366, loss: 1.9613, grad_norm: 3.3127\n",
      "2021-05-12 09:20:29,557 - mmdet - INFO - Epoch [4][500/655]\tlr: 1.000e-02, eta: 2:49:29, time: 0.768, data_time: 0.007, memory: 5266, loss_cls: 1.0306, loss_bbox: 0.3978, loss_bbox_rf: 0.5138, loss: 1.9422, grad_norm: 3.4099\n",
      "2021-05-12 09:21:07,799 - mmdet - INFO - Epoch [4][550/655]\tlr: 1.000e-02, eta: 2:48:50, time: 0.765, data_time: 0.007, memory: 5266, loss_cls: 1.0082, loss_bbox: 0.3887, loss_bbox_rf: 0.4993, loss: 1.8962, grad_norm: 3.5781\n",
      "2021-05-12 09:21:46,034 - mmdet - INFO - Epoch [4][600/655]\tlr: 1.000e-02, eta: 2:48:11, time: 0.765, data_time: 0.007, memory: 5266, loss_cls: 1.0057, loss_bbox: 0.4039, loss_bbox_rf: 0.5147, loss: 1.9242, grad_norm: 3.6184\n",
      "2021-05-12 09:22:24,399 - mmdet - INFO - Epoch [4][650/655]\tlr: 1.000e-02, eta: 2:47:32, time: 0.767, data_time: 0.007, memory: 5266, loss_cls: 0.9427, loss_bbox: 0.3937, loss_bbox_rf: 0.5039, loss: 1.8403, grad_norm: 3.2739\n",
      "2021-05-12 09:22:28,301 - mmdet - INFO - Saving checkpoint at 4 epochs\n"
     ]
    },
    {
     "name": "stdout",
     "output_type": "stream",
     "text": [
      "[>>>>>>>>>>>>>>>>>>>>>>>>>>>>>>] 655/655, 9.9 task/s, elapsed: 66s, ETA:     0s"
     ]
    },
    {
     "name": "stderr",
     "output_type": "stream",
     "text": [
      "2021-05-12 09:23:37,705 - mmdet - INFO - Evaluating bbox...\n"
     ]
    },
    {
     "name": "stdout",
     "output_type": "stream",
     "text": [
      "Loading and preparing results...\n",
      "DONE (t=1.26s)\n",
      "creating index...\n",
      "index created!\n",
      "Running per image evaluation...\n",
      "Evaluate annotation type *bbox*\n",
      "DONE (t=7.29s).\n",
      "Accumulating evaluation results...\n"
     ]
    },
    {
     "name": "stderr",
     "output_type": "stream",
     "text": [
      "2021-05-12 09:23:48,073 - mmdet - INFO - Now best checkpoint is epoch_4.pth.Best bbox_mAP_50 is 0.1010\n",
      "2021-05-12 09:23:48,081 - mmdet - INFO - Epoch(val) [4][655]\tbbox_mAP: 0.0580, bbox_mAP_50: 0.1010, bbox_mAP_75: 0.0610, bbox_mAP_s: 0.0190, bbox_mAP_m: 0.0680, bbox_mAP_l: 0.1010, bbox_mAP_copypaste: 0.058 0.101 0.061 0.019 0.068 0.101\n"
     ]
    },
    {
     "name": "stdout",
     "output_type": "stream",
     "text": [
      "DONE (t=1.66s).\n",
      "Average Precision  (AP) @[ IoU=0.50:0.95 | area=   all | maxDets=100 ] = 0.058\n",
      "Average Precision  (AP) @[ IoU=0.50      | area=   all | maxDets=1000 ] = 0.101\n",
      "Average Precision  (AP) @[ IoU=0.75      | area=   all | maxDets=1000 ] = 0.061\n",
      "Average Precision  (AP) @[ IoU=0.50:0.95 | area= small | maxDets=1000 ] = 0.019\n",
      "Average Precision  (AP) @[ IoU=0.50:0.95 | area=medium | maxDets=1000 ] = 0.068\n",
      "Average Precision  (AP) @[ IoU=0.50:0.95 | area= large | maxDets=1000 ] = 0.101\n",
      "Average Recall     (AR) @[ IoU=0.50:0.95 | area=   all | maxDets=100 ] = 0.210\n",
      "Average Recall     (AR) @[ IoU=0.50:0.95 | area=   all | maxDets=300 ] = 0.210\n",
      "Average Recall     (AR) @[ IoU=0.50:0.95 | area=   all | maxDets=1000 ] = 0.210\n",
      "Average Recall     (AR) @[ IoU=0.50:0.95 | area= small | maxDets=1000 ] = 0.026\n",
      "Average Recall     (AR) @[ IoU=0.50:0.95 | area=medium | maxDets=1000 ] = 0.179\n",
      "Average Recall     (AR) @[ IoU=0.50:0.95 | area= large | maxDets=1000 ] = 0.428\n"
     ]
    },
    {
     "name": "stderr",
     "output_type": "stream",
     "text": [
      "2021-05-12 09:24:28,664 - mmdet - INFO - Epoch [5][50/655]\tlr: 1.000e-02, eta: 2:46:42, time: 0.811, data_time: 0.051, memory: 5266, loss_cls: 1.0361, loss_bbox: 0.3816, loss_bbox_rf: 0.4892, loss: 1.9070, grad_norm: 3.4708\n",
      "2021-05-12 09:25:07,021 - mmdet - INFO - Epoch [5][100/655]\tlr: 1.000e-02, eta: 2:46:04, time: 0.767, data_time: 0.007, memory: 5266, loss_cls: 0.9654, loss_bbox: 0.3875, loss_bbox_rf: 0.4972, loss: 1.8501, grad_norm: 3.3461\n",
      "2021-05-12 09:25:45,424 - mmdet - INFO - Epoch [5][150/655]\tlr: 1.000e-02, eta: 2:45:26, time: 0.768, data_time: 0.007, memory: 5266, loss_cls: 0.9730, loss_bbox: 0.3895, loss_bbox_rf: 0.4962, loss: 1.8587, grad_norm: 3.4361\n",
      "2021-05-12 09:26:23,754 - mmdet - INFO - Epoch [5][200/655]\tlr: 1.000e-02, eta: 2:44:48, time: 0.767, data_time: 0.007, memory: 5266, loss_cls: 0.9847, loss_bbox: 0.3734, loss_bbox_rf: 0.4732, loss: 1.8313, grad_norm: 3.6716\n",
      "2021-05-12 09:27:02,061 - mmdet - INFO - Epoch [5][250/655]\tlr: 1.000e-02, eta: 2:44:09, time: 0.766, data_time: 0.007, memory: 5266, loss_cls: 1.0222, loss_bbox: 0.3561, loss_bbox_rf: 0.4539, loss: 1.8323, grad_norm: 3.8676\n",
      "2021-05-12 09:27:40,318 - mmdet - INFO - Epoch [5][300/655]\tlr: 1.000e-02, eta: 2:43:31, time: 0.765, data_time: 0.006, memory: 5266, loss_cls: 0.9744, loss_bbox: 0.3771, loss_bbox_rf: 0.4819, loss: 1.8334, grad_norm: 3.4568\n",
      "2021-05-12 09:28:18,661 - mmdet - INFO - Epoch [5][350/655]\tlr: 1.000e-02, eta: 2:42:53, time: 0.767, data_time: 0.007, memory: 5266, loss_cls: 0.9486, loss_bbox: 0.3758, loss_bbox_rf: 0.4812, loss: 1.8055, grad_norm: 3.3671\n",
      "2021-05-12 09:28:57,199 - mmdet - INFO - Epoch [5][400/655]\tlr: 1.000e-02, eta: 2:42:15, time: 0.771, data_time: 0.007, memory: 5266, loss_cls: 0.9748, loss_bbox: 0.3655, loss_bbox_rf: 0.4670, loss: 1.8073, grad_norm: 3.3435\n",
      "2021-05-12 09:29:35,676 - mmdet - INFO - Epoch [5][450/655]\tlr: 1.000e-02, eta: 2:41:37, time: 0.770, data_time: 0.007, memory: 5266, loss_cls: 0.9702, loss_bbox: 0.3694, loss_bbox_rf: 0.4741, loss: 1.8137, grad_norm: 3.4600\n",
      "2021-05-12 09:30:14,111 - mmdet - INFO - Epoch [5][500/655]\tlr: 1.000e-02, eta: 2:41:00, time: 0.769, data_time: 0.007, memory: 5266, loss_cls: 1.0109, loss_bbox: 0.3778, loss_bbox_rf: 0.4801, loss: 1.8688, grad_norm: 3.6909\n",
      "2021-05-12 09:30:52,370 - mmdet - INFO - Epoch [5][550/655]\tlr: 1.000e-02, eta: 2:40:21, time: 0.765, data_time: 0.007, memory: 5266, loss_cls: 1.0086, loss_bbox: 0.3724, loss_bbox_rf: 0.4686, loss: 1.8495, grad_norm: 3.8908\n",
      "2021-05-12 09:31:30,536 - mmdet - INFO - Epoch [5][600/655]\tlr: 1.000e-02, eta: 2:39:42, time: 0.763, data_time: 0.007, memory: 5266, loss_cls: 0.9936, loss_bbox: 0.3661, loss_bbox_rf: 0.4664, loss: 1.8262, grad_norm: 3.4064\n",
      "2021-05-12 09:32:08,867 - mmdet - INFO - Epoch [5][650/655]\tlr: 1.000e-02, eta: 2:39:04, time: 0.767, data_time: 0.007, memory: 5266, loss_cls: 0.9737, loss_bbox: 0.3921, loss_bbox_rf: 0.4976, loss: 1.8635, grad_norm: 3.6907\n",
      "2021-05-12 09:32:12,788 - mmdet - INFO - Saving checkpoint at 5 epochs\n"
     ]
    },
    {
     "name": "stdout",
     "output_type": "stream",
     "text": [
      "[>>>>>>>>>>>>>>>>>>>>>>>>>>>>>>] 655/655, 9.9 task/s, elapsed: 66s, ETA:     0s"
     ]
    },
    {
     "name": "stderr",
     "output_type": "stream",
     "text": [
      "2021-05-12 09:33:22,154 - mmdet - INFO - Evaluating bbox...\n"
     ]
    },
    {
     "name": "stdout",
     "output_type": "stream",
     "text": [
      "Loading and preparing results...\n",
      "DONE (t=1.23s)\n",
      "creating index...\n",
      "index created!\n",
      "Running per image evaluation...\n",
      "Evaluate annotation type *bbox*\n",
      "DONE (t=6.88s).\n",
      "Accumulating evaluation results...\n"
     ]
    },
    {
     "name": "stderr",
     "output_type": "stream",
     "text": [
      "2021-05-12 09:33:32,194 - mmdet - INFO - Now best checkpoint is epoch_5.pth.Best bbox_mAP_50 is 0.1270\n",
      "2021-05-12 09:33:32,202 - mmdet - INFO - Epoch(val) [5][655]\tbbox_mAP: 0.0740, bbox_mAP_50: 0.1270, bbox_mAP_75: 0.0770, bbox_mAP_s: 0.0240, bbox_mAP_m: 0.0840, bbox_mAP_l: 0.1390, bbox_mAP_copypaste: 0.074 0.127 0.077 0.024 0.084 0.139\n"
     ]
    },
    {
     "name": "stdout",
     "output_type": "stream",
     "text": [
      "DONE (t=1.76s).\n",
      "Average Precision  (AP) @[ IoU=0.50:0.95 | area=   all | maxDets=100 ] = 0.074\n",
      "Average Precision  (AP) @[ IoU=0.50      | area=   all | maxDets=1000 ] = 0.127\n",
      "Average Precision  (AP) @[ IoU=0.75      | area=   all | maxDets=1000 ] = 0.077\n",
      "Average Precision  (AP) @[ IoU=0.50:0.95 | area= small | maxDets=1000 ] = 0.024\n",
      "Average Precision  (AP) @[ IoU=0.50:0.95 | area=medium | maxDets=1000 ] = 0.084\n",
      "Average Precision  (AP) @[ IoU=0.50:0.95 | area= large | maxDets=1000 ] = 0.139\n",
      "Average Recall     (AR) @[ IoU=0.50:0.95 | area=   all | maxDets=100 ] = 0.267\n",
      "Average Recall     (AR) @[ IoU=0.50:0.95 | area=   all | maxDets=300 ] = 0.267\n",
      "Average Recall     (AR) @[ IoU=0.50:0.95 | area=   all | maxDets=1000 ] = 0.267\n",
      "Average Recall     (AR) @[ IoU=0.50:0.95 | area= small | maxDets=1000 ] = 0.049\n",
      "Average Recall     (AR) @[ IoU=0.50:0.95 | area=medium | maxDets=1000 ] = 0.236\n",
      "Average Recall     (AR) @[ IoU=0.50:0.95 | area= large | maxDets=1000 ] = 0.501\n"
     ]
    },
    {
     "name": "stderr",
     "output_type": "stream",
     "text": [
      "2021-05-12 09:34:12,923 - mmdet - INFO - Epoch [6][50/655]\tlr: 1.000e-02, eta: 2:38:16, time: 0.814, data_time: 0.051, memory: 5266, loss_cls: 0.9024, loss_bbox: 0.3701, loss_bbox_rf: 0.4666, loss: 1.7391, grad_norm: 3.3478\n",
      "2021-05-12 09:34:51,234 - mmdet - INFO - Epoch [6][100/655]\tlr: 1.000e-02, eta: 2:37:38, time: 0.766, data_time: 0.007, memory: 5266, loss_cls: 0.9717, loss_bbox: 0.3481, loss_bbox_rf: 0.4438, loss: 1.7637, grad_norm: 3.6209\n",
      "2021-05-12 09:35:29,645 - mmdet - INFO - Epoch [6][150/655]\tlr: 1.000e-02, eta: 2:37:00, time: 0.768, data_time: 0.007, memory: 5266, loss_cls: 0.9807, loss_bbox: 0.3669, loss_bbox_rf: 0.4617, loss: 1.8092, grad_norm: 3.9438\n",
      "2021-05-12 09:36:07,976 - mmdet - INFO - Epoch [6][200/655]\tlr: 1.000e-02, eta: 2:36:22, time: 0.767, data_time: 0.007, memory: 5266, loss_cls: 1.0121, loss_bbox: 0.3628, loss_bbox_rf: 0.4560, loss: 1.8309, grad_norm: 4.0870\n",
      "2021-05-12 09:36:46,406 - mmdet - INFO - Epoch [6][250/655]\tlr: 1.000e-02, eta: 2:35:44, time: 0.769, data_time: 0.007, memory: 5266, loss_cls: 1.0198, loss_bbox: 0.3739, loss_bbox_rf: 0.4663, loss: 1.8600, grad_norm: 3.7940\n",
      "2021-05-12 09:37:24,700 - mmdet - INFO - Epoch [6][300/655]\tlr: 1.000e-02, eta: 2:35:05, time: 0.766, data_time: 0.007, memory: 5266, loss_cls: 0.9798, loss_bbox: 0.3573, loss_bbox_rf: 0.4488, loss: 1.7858, grad_norm: 3.5380\n",
      "2021-05-12 09:38:03,191 - mmdet - INFO - Epoch [6][350/655]\tlr: 1.000e-02, eta: 2:34:28, time: 0.770, data_time: 0.007, memory: 5266, loss_cls: 0.9573, loss_bbox: 0.3593, loss_bbox_rf: 0.4549, loss: 1.7716, grad_norm: 3.5574\n",
      "2021-05-12 09:38:42,258 - mmdet - INFO - Epoch [6][400/655]\tlr: 1.000e-02, eta: 2:33:52, time: 0.781, data_time: 0.008, memory: 5266, loss_cls: 0.9587, loss_bbox: 0.3524, loss_bbox_rf: 0.4471, loss: 1.7582, grad_norm: 3.3392\n",
      "2021-05-12 09:39:21,492 - mmdet - INFO - Epoch [6][450/655]\tlr: 1.000e-02, eta: 2:33:16, time: 0.785, data_time: 0.008, memory: 5266, loss_cls: 0.9240, loss_bbox: 0.3440, loss_bbox_rf: 0.4360, loss: 1.7039, grad_norm: 3.1927\n",
      "2021-05-12 09:40:00,724 - mmdet - INFO - Epoch [6][500/655]\tlr: 1.000e-02, eta: 2:32:41, time: 0.785, data_time: 0.008, memory: 5266, loss_cls: 0.9576, loss_bbox: 0.3584, loss_bbox_rf: 0.4550, loss: 1.7710, grad_norm: 3.6790\n",
      "2021-05-12 09:40:40,003 - mmdet - INFO - Epoch [6][550/655]\tlr: 1.000e-02, eta: 2:32:05, time: 0.786, data_time: 0.008, memory: 5266, loss_cls: 0.9929, loss_bbox: 0.3699, loss_bbox_rf: 0.4600, loss: 1.8229, grad_norm: 3.7163\n",
      "2021-05-12 09:41:19,257 - mmdet - INFO - Epoch [6][600/655]\tlr: 1.000e-02, eta: 2:31:30, time: 0.785, data_time: 0.008, memory: 5266, loss_cls: 0.9621, loss_bbox: 0.3613, loss_bbox_rf: 0.4567, loss: 1.7801, grad_norm: 3.5511\n",
      "2021-05-12 09:41:58,175 - mmdet - INFO - Epoch [6][650/655]\tlr: 1.000e-02, eta: 2:30:53, time: 0.778, data_time: 0.007, memory: 5266, loss_cls: 0.9594, loss_bbox: 0.3322, loss_bbox_rf: 0.4198, loss: 1.7115, grad_norm: 3.5272\n",
      "2021-05-12 09:42:02,121 - mmdet - INFO - Saving checkpoint at 6 epochs\n"
     ]
    },
    {
     "name": "stdout",
     "output_type": "stream",
     "text": [
      "[>>>>>>>>>>>>>>>>>>>>>>>>>>>>>>] 655/655, 9.2 task/s, elapsed: 71s, ETA:     0s"
     ]
    },
    {
     "name": "stderr",
     "output_type": "stream",
     "text": [
      "2021-05-12 09:43:17,016 - mmdet - INFO - Evaluating bbox...\n"
     ]
    },
    {
     "name": "stdout",
     "output_type": "stream",
     "text": [
      "Loading and preparing results...\n",
      "DONE (t=0.87s)\n",
      "creating index...\n",
      "index created!\n",
      "Running per image evaluation...\n",
      "Evaluate annotation type *bbox*\n",
      "DONE (t=8.56s).\n",
      "Accumulating evaluation results...\n"
     ]
    },
    {
     "name": "stderr",
     "output_type": "stream",
     "text": [
      "2021-05-12 09:43:28,467 - mmdet - INFO - Now best checkpoint is epoch_6.pth.Best bbox_mAP_50 is 0.1380\n",
      "2021-05-12 09:43:28,474 - mmdet - INFO - Epoch(val) [6][655]\tbbox_mAP: 0.0840, bbox_mAP_50: 0.1380, bbox_mAP_75: 0.0890, bbox_mAP_s: 0.0350, bbox_mAP_m: 0.0940, bbox_mAP_l: 0.1480, bbox_mAP_copypaste: 0.084 0.138 0.089 0.035 0.094 0.148\n"
     ]
    },
    {
     "name": "stdout",
     "output_type": "stream",
     "text": [
      "DONE (t=1.86s).\n",
      "Average Precision  (AP) @[ IoU=0.50:0.95 | area=   all | maxDets=100 ] = 0.084\n",
      "Average Precision  (AP) @[ IoU=0.50      | area=   all | maxDets=1000 ] = 0.138\n",
      "Average Precision  (AP) @[ IoU=0.75      | area=   all | maxDets=1000 ] = 0.089\n",
      "Average Precision  (AP) @[ IoU=0.50:0.95 | area= small | maxDets=1000 ] = 0.035\n",
      "Average Precision  (AP) @[ IoU=0.50:0.95 | area=medium | maxDets=1000 ] = 0.094\n",
      "Average Precision  (AP) @[ IoU=0.50:0.95 | area= large | maxDets=1000 ] = 0.148\n",
      "Average Recall     (AR) @[ IoU=0.50:0.95 | area=   all | maxDets=100 ] = 0.290\n",
      "Average Recall     (AR) @[ IoU=0.50:0.95 | area=   all | maxDets=300 ] = 0.290\n",
      "Average Recall     (AR) @[ IoU=0.50:0.95 | area=   all | maxDets=1000 ] = 0.290\n",
      "Average Recall     (AR) @[ IoU=0.50:0.95 | area= small | maxDets=1000 ] = 0.077\n",
      "Average Recall     (AR) @[ IoU=0.50:0.95 | area=medium | maxDets=1000 ] = 0.264\n",
      "Average Recall     (AR) @[ IoU=0.50:0.95 | area= large | maxDets=1000 ] = 0.600\n"
     ]
    },
    {
     "name": "stderr",
     "output_type": "stream",
     "text": [
      "2021-05-12 09:44:10,200 - mmdet - INFO - Epoch [7][50/655]\tlr: 1.000e-02, eta: 2:30:09, time: 0.834, data_time: 0.053, memory: 5266, loss_cls: 0.9663, loss_bbox: 0.3312, loss_bbox_rf: 0.4153, loss: 1.7127, grad_norm: 3.7264\n",
      "2021-05-12 09:44:49,187 - mmdet - INFO - Epoch [7][100/655]\tlr: 1.000e-02, eta: 2:29:33, time: 0.780, data_time: 0.008, memory: 5266, loss_cls: 0.9450, loss_bbox: 0.3413, loss_bbox_rf: 0.4279, loss: 1.7143, grad_norm: 3.7522\n",
      "2021-05-12 09:45:27,699 - mmdet - INFO - Epoch [7][150/655]\tlr: 1.000e-02, eta: 2:28:55, time: 0.770, data_time: 0.007, memory: 5266, loss_cls: 0.9744, loss_bbox: 0.3302, loss_bbox_rf: 0.4088, loss: 1.7134, grad_norm: 3.9597\n",
      "2021-05-12 09:46:06,150 - mmdet - INFO - Epoch [7][200/655]\tlr: 1.000e-02, eta: 2:28:17, time: 0.769, data_time: 0.007, memory: 5266, loss_cls: 0.9573, loss_bbox: 0.3405, loss_bbox_rf: 0.4251, loss: 1.7229, grad_norm: 3.8869\n",
      "2021-05-12 09:46:44,476 - mmdet - INFO - Epoch [7][250/655]\tlr: 1.000e-02, eta: 2:27:38, time: 0.767, data_time: 0.007, memory: 5266, loss_cls: 0.9611, loss_bbox: 0.3328, loss_bbox_rf: 0.4165, loss: 1.7104, grad_norm: 3.7867\n",
      "2021-05-12 09:47:22,923 - mmdet - INFO - Epoch [7][300/655]\tlr: 1.000e-02, eta: 2:27:00, time: 0.769, data_time: 0.008, memory: 5266, loss_cls: 1.0306, loss_bbox: 0.3435, loss_bbox_rf: 0.4241, loss: 1.7982, grad_norm: 3.8361\n",
      "2021-05-12 09:48:01,370 - mmdet - INFO - Epoch [7][350/655]\tlr: 1.000e-02, eta: 2:26:22, time: 0.769, data_time: 0.007, memory: 5266, loss_cls: 0.9678, loss_bbox: 0.3316, loss_bbox_rf: 0.4132, loss: 1.7126, grad_norm: 3.7129\n",
      "2021-05-12 09:48:39,888 - mmdet - INFO - Epoch [7][400/655]\tlr: 1.000e-02, eta: 2:25:44, time: 0.770, data_time: 0.007, memory: 5266, loss_cls: 0.9394, loss_bbox: 0.3478, loss_bbox_rf: 0.4390, loss: 1.7261, grad_norm: 3.6386\n",
      "2021-05-12 09:49:18,302 - mmdet - INFO - Epoch [7][450/655]\tlr: 1.000e-02, eta: 2:25:05, time: 0.768, data_time: 0.007, memory: 5266, loss_cls: 0.9723, loss_bbox: 0.3405, loss_bbox_rf: 0.4298, loss: 1.7426, grad_norm: 3.7234\n",
      "2021-05-12 09:49:56,665 - mmdet - INFO - Epoch [7][500/655]\tlr: 1.000e-02, eta: 2:24:27, time: 0.767, data_time: 0.007, memory: 5266, loss_cls: 0.9661, loss_bbox: 0.3445, loss_bbox_rf: 0.4321, loss: 1.7426, grad_norm: 3.5403\n",
      "2021-05-12 09:50:35,098 - mmdet - INFO - Epoch [7][550/655]\tlr: 1.000e-02, eta: 2:23:49, time: 0.769, data_time: 0.007, memory: 5266, loss_cls: 0.9581, loss_bbox: 0.3613, loss_bbox_rf: 0.4531, loss: 1.7725, grad_norm: 3.9818\n",
      "2021-05-12 09:51:13,534 - mmdet - INFO - Epoch [7][600/655]\tlr: 1.000e-02, eta: 2:23:10, time: 0.769, data_time: 0.007, memory: 5266, loss_cls: 0.9280, loss_bbox: 0.3347, loss_bbox_rf: 0.4184, loss: 1.6811, grad_norm: 3.4173\n",
      "2021-05-12 09:51:51,898 - mmdet - INFO - Epoch [7][650/655]\tlr: 1.000e-02, eta: 2:22:32, time: 0.767, data_time: 0.007, memory: 5266, loss_cls: 0.9763, loss_bbox: 0.3458, loss_bbox_rf: 0.4359, loss: 1.7580, grad_norm: 3.8367\n",
      "2021-05-12 09:51:55,805 - mmdet - INFO - Saving checkpoint at 7 epochs\n"
     ]
    },
    {
     "name": "stdout",
     "output_type": "stream",
     "text": [
      "[>>>>>>>>>>>>>>>>>>>>>>>>>>>>>] 655/655, 10.0 task/s, elapsed: 65s, ETA:     0s"
     ]
    },
    {
     "name": "stderr",
     "output_type": "stream",
     "text": [
      "2021-05-12 09:53:04,412 - mmdet - INFO - Evaluating bbox...\n"
     ]
    },
    {
     "name": "stdout",
     "output_type": "stream",
     "text": [
      "Loading and preparing results...\n",
      "DONE (t=0.78s)\n",
      "creating index...\n",
      "index created!\n",
      "Running per image evaluation...\n",
      "Evaluate annotation type *bbox*\n",
      "DONE (t=8.36s).\n",
      "Accumulating evaluation results...\n"
     ]
    },
    {
     "name": "stderr",
     "output_type": "stream",
     "text": [
      "2021-05-12 09:53:15,464 - mmdet - INFO - Now best checkpoint is epoch_7.pth.Best bbox_mAP_50 is 0.1490\n",
      "2021-05-12 09:53:15,471 - mmdet - INFO - Epoch(val) [7][655]\tbbox_mAP: 0.0940, bbox_mAP_50: 0.1490, bbox_mAP_75: 0.0990, bbox_mAP_s: 0.0300, bbox_mAP_m: 0.0870, bbox_mAP_l: 0.1860, bbox_mAP_copypaste: 0.094 0.149 0.099 0.030 0.087 0.186\n"
     ]
    },
    {
     "name": "stdout",
     "output_type": "stream",
     "text": [
      "DONE (t=1.75s).\n",
      "Average Precision  (AP) @[ IoU=0.50:0.95 | area=   all | maxDets=100 ] = 0.094\n",
      "Average Precision  (AP) @[ IoU=0.50      | area=   all | maxDets=1000 ] = 0.149\n",
      "Average Precision  (AP) @[ IoU=0.75      | area=   all | maxDets=1000 ] = 0.099\n",
      "Average Precision  (AP) @[ IoU=0.50:0.95 | area= small | maxDets=1000 ] = 0.030\n",
      "Average Precision  (AP) @[ IoU=0.50:0.95 | area=medium | maxDets=1000 ] = 0.087\n",
      "Average Precision  (AP) @[ IoU=0.50:0.95 | area= large | maxDets=1000 ] = 0.186\n",
      "Average Recall     (AR) @[ IoU=0.50:0.95 | area=   all | maxDets=100 ] = 0.256\n",
      "Average Recall     (AR) @[ IoU=0.50:0.95 | area=   all | maxDets=300 ] = 0.256\n",
      "Average Recall     (AR) @[ IoU=0.50:0.95 | area=   all | maxDets=1000 ] = 0.256\n",
      "Average Recall     (AR) @[ IoU=0.50:0.95 | area= small | maxDets=1000 ] = 0.071\n",
      "Average Recall     (AR) @[ IoU=0.50:0.95 | area=medium | maxDets=1000 ] = 0.221\n",
      "Average Recall     (AR) @[ IoU=0.50:0.95 | area= large | maxDets=1000 ] = 0.479\n"
     ]
    },
    {
     "name": "stderr",
     "output_type": "stream",
     "text": [
      "2021-05-12 09:53:56,180 - mmdet - INFO - Epoch [8][50/655]\tlr: 1.000e-02, eta: 2:21:46, time: 0.814, data_time: 0.053, memory: 5266, loss_cls: 0.8908, loss_bbox: 0.3095, loss_bbox_rf: 0.3807, loss: 1.5810, grad_norm: 3.5752\n",
      "2021-05-12 09:54:34,623 - mmdet - INFO - Epoch [8][100/655]\tlr: 1.000e-02, eta: 2:21:08, time: 0.769, data_time: 0.007, memory: 5266, loss_cls: 0.9219, loss_bbox: 0.3378, loss_bbox_rf: 0.4197, loss: 1.6793, grad_norm: 3.5967\n",
      "2021-05-12 09:55:13,145 - mmdet - INFO - Epoch [8][150/655]\tlr: 1.000e-02, eta: 2:20:30, time: 0.770, data_time: 0.007, memory: 5266, loss_cls: 0.9792, loss_bbox: 0.3236, loss_bbox_rf: 0.4012, loss: 1.7040, grad_norm: 3.8365\n",
      "2021-05-12 09:55:51,647 - mmdet - INFO - Epoch [8][200/655]\tlr: 1.000e-02, eta: 2:19:52, time: 0.770, data_time: 0.007, memory: 5266, loss_cls: 0.9369, loss_bbox: 0.3232, loss_bbox_rf: 0.4032, loss: 1.6634, grad_norm: 3.6109\n",
      "2021-05-12 09:56:30,034 - mmdet - INFO - Epoch [8][250/655]\tlr: 1.000e-02, eta: 2:19:13, time: 0.768, data_time: 0.007, memory: 5266, loss_cls: 1.0415, loss_bbox: 0.3225, loss_bbox_rf: 0.3940, loss: 1.7579, grad_norm: 4.3430\n",
      "2021-05-12 09:57:08,376 - mmdet - INFO - Epoch [8][300/655]\tlr: 1.000e-02, eta: 2:18:35, time: 0.767, data_time: 0.007, memory: 5266, loss_cls: 0.9651, loss_bbox: 0.3354, loss_bbox_rf: 0.4172, loss: 1.7176, grad_norm: 3.7783\n",
      "2021-05-12 09:57:46,916 - mmdet - INFO - Epoch [8][350/655]\tlr: 1.000e-02, eta: 2:17:57, time: 0.771, data_time: 0.007, memory: 5266, loss_cls: 0.9430, loss_bbox: 0.3292, loss_bbox_rf: 0.4114, loss: 1.6835, grad_norm: 3.7894\n",
      "2021-05-12 09:58:25,445 - mmdet - INFO - Epoch [8][400/655]\tlr: 1.000e-02, eta: 2:17:19, time: 0.771, data_time: 0.007, memory: 5266, loss_cls: 0.9977, loss_bbox: 0.3321, loss_bbox_rf: 0.4114, loss: 1.7412, grad_norm: 3.9156\n",
      "2021-05-12 09:59:03,967 - mmdet - INFO - Epoch [8][450/655]\tlr: 1.000e-02, eta: 2:16:41, time: 0.770, data_time: 0.007, memory: 5266, loss_cls: 0.9434, loss_bbox: 0.3524, loss_bbox_rf: 0.4439, loss: 1.7396, grad_norm: 3.6183\n",
      "2021-05-12 09:59:42,425 - mmdet - INFO - Epoch [8][500/655]\tlr: 1.000e-02, eta: 2:16:03, time: 0.769, data_time: 0.007, memory: 5266, loss_cls: 0.9258, loss_bbox: 0.3331, loss_bbox_rf: 0.4127, loss: 1.6717, grad_norm: 3.9247\n",
      "2021-05-12 10:00:20,735 - mmdet - INFO - Epoch [8][550/655]\tlr: 1.000e-02, eta: 2:15:24, time: 0.766, data_time: 0.007, memory: 5266, loss_cls: 0.8852, loss_bbox: 0.3181, loss_bbox_rf: 0.3963, loss: 1.5996, grad_norm: 3.3657\n",
      "2021-05-12 10:00:59,032 - mmdet - INFO - Epoch [8][600/655]\tlr: 1.000e-02, eta: 2:14:45, time: 0.766, data_time: 0.007, memory: 5266, loss_cls: 0.9319, loss_bbox: 0.3239, loss_bbox_rf: 0.4043, loss: 1.6601, grad_norm: 3.6976\n",
      "2021-05-12 10:01:37,617 - mmdet - INFO - Epoch [8][650/655]\tlr: 1.000e-02, eta: 2:14:08, time: 0.772, data_time: 0.007, memory: 5266, loss_cls: 0.9930, loss_bbox: 0.3318, loss_bbox_rf: 0.4128, loss: 1.7376, grad_norm: 3.8701\n",
      "2021-05-12 10:01:41,507 - mmdet - INFO - Saving checkpoint at 8 epochs\n"
     ]
    },
    {
     "name": "stdout",
     "output_type": "stream",
     "text": [
      "[>>>>>>>>>>>>>>>>>>>>>>>>>>>>>>] 655/655, 9.8 task/s, elapsed: 67s, ETA:     0s"
     ]
    },
    {
     "name": "stderr",
     "output_type": "stream",
     "text": [
      "2021-05-12 10:02:51,775 - mmdet - INFO - Evaluating bbox...\n"
     ]
    },
    {
     "name": "stdout",
     "output_type": "stream",
     "text": [
      "Loading and preparing results...\n",
      "DONE (t=0.79s)\n",
      "creating index...\n",
      "index created!\n",
      "Running per image evaluation...\n",
      "Evaluate annotation type *bbox*\n",
      "DONE (t=7.08s).\n",
      "Accumulating evaluation results...\n"
     ]
    },
    {
     "name": "stderr",
     "output_type": "stream",
     "text": [
      "2021-05-12 10:03:01,603 - mmdet - INFO - Now best checkpoint is epoch_8.pth.Best bbox_mAP_50 is 0.1500\n",
      "2021-05-12 10:03:01,611 - mmdet - INFO - Epoch(val) [8][655]\tbbox_mAP: 0.0950, bbox_mAP_50: 0.1500, bbox_mAP_75: 0.1000, bbox_mAP_s: 0.0280, bbox_mAP_m: 0.1020, bbox_mAP_l: 0.1670, bbox_mAP_copypaste: 0.095 0.150 0.100 0.028 0.102 0.167\n"
     ]
    },
    {
     "name": "stdout",
     "output_type": "stream",
     "text": [
      "DONE (t=1.79s).\n",
      "Average Precision  (AP) @[ IoU=0.50:0.95 | area=   all | maxDets=100 ] = 0.095\n",
      "Average Precision  (AP) @[ IoU=0.50      | area=   all | maxDets=1000 ] = 0.150\n",
      "Average Precision  (AP) @[ IoU=0.75      | area=   all | maxDets=1000 ] = 0.100\n",
      "Average Precision  (AP) @[ IoU=0.50:0.95 | area= small | maxDets=1000 ] = 0.028\n",
      "Average Precision  (AP) @[ IoU=0.50:0.95 | area=medium | maxDets=1000 ] = 0.102\n",
      "Average Precision  (AP) @[ IoU=0.50:0.95 | area= large | maxDets=1000 ] = 0.167\n",
      "Average Recall     (AR) @[ IoU=0.50:0.95 | area=   all | maxDets=100 ] = 0.299\n",
      "Average Recall     (AR) @[ IoU=0.50:0.95 | area=   all | maxDets=300 ] = 0.299\n",
      "Average Recall     (AR) @[ IoU=0.50:0.95 | area=   all | maxDets=1000 ] = 0.299\n",
      "Average Recall     (AR) @[ IoU=0.50:0.95 | area= small | maxDets=1000 ] = 0.066\n",
      "Average Recall     (AR) @[ IoU=0.50:0.95 | area=medium | maxDets=1000 ] = 0.287\n",
      "Average Recall     (AR) @[ IoU=0.50:0.95 | area= large | maxDets=1000 ] = 0.590\n"
     ]
    },
    {
     "name": "stderr",
     "output_type": "stream",
     "text": [
      "2021-05-12 10:03:42,200 - mmdet - INFO - Epoch [9][50/655]\tlr: 1.000e-02, eta: 2:13:22, time: 0.812, data_time: 0.052, memory: 5266, loss_cls: 0.9291, loss_bbox: 0.3005, loss_bbox_rf: 0.3745, loss: 1.6041, grad_norm: 3.6507\n",
      "2021-05-12 10:04:20,599 - mmdet - INFO - Epoch [9][100/655]\tlr: 1.000e-02, eta: 2:12:44, time: 0.768, data_time: 0.007, memory: 5266, loss_cls: 0.8980, loss_bbox: 0.3014, loss_bbox_rf: 0.3767, loss: 1.5761, grad_norm: 3.7874\n",
      "2021-05-12 10:04:58,875 - mmdet - INFO - Epoch [9][150/655]\tlr: 1.000e-02, eta: 2:12:05, time: 0.766, data_time: 0.007, memory: 5266, loss_cls: 0.9714, loss_bbox: 0.3134, loss_bbox_rf: 0.3910, loss: 1.6759, grad_norm: 3.9506\n",
      "2021-05-12 10:05:37,278 - mmdet - INFO - Epoch [9][200/655]\tlr: 1.000e-02, eta: 2:11:27, time: 0.768, data_time: 0.007, memory: 5266, loss_cls: 0.9418, loss_bbox: 0.3144, loss_bbox_rf: 0.3933, loss: 1.6495, grad_norm: 4.0656\n",
      "2021-05-12 10:06:15,733 - mmdet - INFO - Epoch [9][250/655]\tlr: 1.000e-02, eta: 2:10:49, time: 0.769, data_time: 0.007, memory: 5266, loss_cls: 0.9636, loss_bbox: 0.3355, loss_bbox_rf: 0.4152, loss: 1.7143, grad_norm: 3.6812\n",
      "2021-05-12 10:06:54,390 - mmdet - INFO - Epoch [9][300/655]\tlr: 1.000e-02, eta: 2:10:11, time: 0.773, data_time: 0.007, memory: 5266, loss_cls: 0.9269, loss_bbox: 0.3235, loss_bbox_rf: 0.4005, loss: 1.6509, grad_norm: 3.7358\n",
      "2021-05-12 10:07:33,055 - mmdet - INFO - Epoch [9][350/655]\tlr: 1.000e-02, eta: 2:09:33, time: 0.773, data_time: 0.007, memory: 5266, loss_cls: 0.9801, loss_bbox: 0.3005, loss_bbox_rf: 0.3681, loss: 1.6487, grad_norm: 4.4078\n",
      "2021-05-12 10:08:11,810 - mmdet - INFO - Epoch [9][400/655]\tlr: 1.000e-02, eta: 2:08:55, time: 0.775, data_time: 0.007, memory: 5266, loss_cls: 0.9634, loss_bbox: 0.3182, loss_bbox_rf: 0.3951, loss: 1.6766, grad_norm: 4.1061\n",
      "2021-05-12 10:08:50,811 - mmdet - INFO - Epoch [9][450/655]\tlr: 1.000e-02, eta: 2:08:18, time: 0.780, data_time: 0.007, memory: 5266, loss_cls: 0.9276, loss_bbox: 0.3017, loss_bbox_rf: 0.3741, loss: 1.6034, grad_norm: 3.7647\n",
      "2021-05-12 10:09:30,275 - mmdet - INFO - Epoch [9][500/655]\tlr: 1.000e-02, eta: 2:07:42, time: 0.789, data_time: 0.007, memory: 5266, loss_cls: 0.9556, loss_bbox: 0.3275, loss_bbox_rf: 0.4103, loss: 1.6934, grad_norm: 4.0433\n",
      "2021-05-12 10:10:08,622 - mmdet - INFO - Epoch [9][550/655]\tlr: 1.000e-02, eta: 2:07:03, time: 0.767, data_time: 0.007, memory: 5266, loss_cls: 0.9757, loss_bbox: 0.3424, loss_bbox_rf: 0.4226, loss: 1.7407, grad_norm: 4.2352\n",
      "2021-05-12 10:10:46,959 - mmdet - INFO - Epoch [9][600/655]\tlr: 1.000e-02, eta: 2:06:25, time: 0.767, data_time: 0.007, memory: 5266, loss_cls: 0.9604, loss_bbox: 0.3409, loss_bbox_rf: 0.4210, loss: 1.7223, grad_norm: 3.9324\n",
      "2021-05-12 10:11:25,210 - mmdet - INFO - Epoch [9][650/655]\tlr: 1.000e-02, eta: 2:05:46, time: 0.765, data_time: 0.007, memory: 5266, loss_cls: 0.9722, loss_bbox: 0.3139, loss_bbox_rf: 0.3896, loss: 1.6757, grad_norm: 3.9383\n",
      "2021-05-12 10:11:29,112 - mmdet - INFO - Saving checkpoint at 9 epochs\n"
     ]
    },
    {
     "name": "stdout",
     "output_type": "stream",
     "text": [
      "[>>>>>>>>>>>>>>>>>>>>>>>>>>>>>>] 655/655, 9.8 task/s, elapsed: 67s, ETA:     0s"
     ]
    },
    {
     "name": "stderr",
     "output_type": "stream",
     "text": [
      "2021-05-12 10:12:39,138 - mmdet - INFO - Evaluating bbox...\n"
     ]
    },
    {
     "name": "stdout",
     "output_type": "stream",
     "text": [
      "Loading and preparing results...\n",
      "DONE (t=0.80s)\n",
      "creating index...\n",
      "index created!\n",
      "Running per image evaluation...\n",
      "Evaluate annotation type *bbox*\n",
      "DONE (t=7.17s).\n",
      "Accumulating evaluation results...\n"
     ]
    },
    {
     "name": "stderr",
     "output_type": "stream",
     "text": [
      "2021-05-12 10:12:49,049 - mmdet - INFO - Now best checkpoint is epoch_9.pth.Best bbox_mAP_50 is 0.1640\n",
      "2021-05-12 10:12:49,057 - mmdet - INFO - Epoch(val) [9][655]\tbbox_mAP: 0.1050, bbox_mAP_50: 0.1640, bbox_mAP_75: 0.1080, bbox_mAP_s: 0.0330, bbox_mAP_m: 0.1160, bbox_mAP_l: 0.1940, bbox_mAP_copypaste: 0.105 0.164 0.108 0.033 0.116 0.194\n"
     ]
    },
    {
     "name": "stdout",
     "output_type": "stream",
     "text": [
      "DONE (t=1.78s).\n",
      "Average Precision  (AP) @[ IoU=0.50:0.95 | area=   all | maxDets=100 ] = 0.105\n",
      "Average Precision  (AP) @[ IoU=0.50      | area=   all | maxDets=1000 ] = 0.164\n",
      "Average Precision  (AP) @[ IoU=0.75      | area=   all | maxDets=1000 ] = 0.108\n",
      "Average Precision  (AP) @[ IoU=0.50:0.95 | area= small | maxDets=1000 ] = 0.033\n",
      "Average Precision  (AP) @[ IoU=0.50:0.95 | area=medium | maxDets=1000 ] = 0.116\n",
      "Average Precision  (AP) @[ IoU=0.50:0.95 | area= large | maxDets=1000 ] = 0.194\n",
      "Average Recall     (AR) @[ IoU=0.50:0.95 | area=   all | maxDets=100 ] = 0.341\n",
      "Average Recall     (AR) @[ IoU=0.50:0.95 | area=   all | maxDets=300 ] = 0.341\n",
      "Average Recall     (AR) @[ IoU=0.50:0.95 | area=   all | maxDets=1000 ] = 0.341\n",
      "Average Recall     (AR) @[ IoU=0.50:0.95 | area= small | maxDets=1000 ] = 0.076\n",
      "Average Recall     (AR) @[ IoU=0.50:0.95 | area=medium | maxDets=1000 ] = 0.317\n",
      "Average Recall     (AR) @[ IoU=0.50:0.95 | area= large | maxDets=1000 ] = 0.626\n"
     ]
    },
    {
     "name": "stderr",
     "output_type": "stream",
     "text": [
      "2021-05-12 10:13:29,820 - mmdet - INFO - Epoch [10][50/655]\tlr: 1.000e-02, eta: 2:05:01, time: 0.815, data_time: 0.052, memory: 5266, loss_cls: 0.8947, loss_bbox: 0.3113, loss_bbox_rf: 0.3867, loss: 1.5927, grad_norm: 4.0110\n",
      "2021-05-12 10:14:08,177 - mmdet - INFO - Epoch [10][100/655]\tlr: 1.000e-02, eta: 2:04:23, time: 0.767, data_time: 0.007, memory: 5266, loss_cls: 0.8682, loss_bbox: 0.3099, loss_bbox_rf: 0.3841, loss: 1.5622, grad_norm: 3.8433\n",
      "2021-05-12 10:14:46,452 - mmdet - INFO - Epoch [10][150/655]\tlr: 1.000e-02, eta: 2:03:45, time: 0.766, data_time: 0.007, memory: 5266, loss_cls: 0.9220, loss_bbox: 0.3064, loss_bbox_rf: 0.3800, loss: 1.6084, grad_norm: 3.9810\n",
      "2021-05-12 10:15:24,807 - mmdet - INFO - Epoch [10][200/655]\tlr: 1.000e-02, eta: 2:03:06, time: 0.767, data_time: 0.007, memory: 5266, loss_cls: 0.9117, loss_bbox: 0.3149, loss_bbox_rf: 0.3902, loss: 1.6168, grad_norm: 3.9353\n",
      "2021-05-12 10:16:03,360 - mmdet - INFO - Epoch [10][250/655]\tlr: 1.000e-02, eta: 2:02:28, time: 0.771, data_time: 0.007, memory: 5266, loss_cls: 0.9082, loss_bbox: 0.2909, loss_bbox_rf: 0.3576, loss: 1.5566, grad_norm: 3.9050\n",
      "2021-05-12 10:16:41,759 - mmdet - INFO - Epoch [10][300/655]\tlr: 1.000e-02, eta: 2:01:50, time: 0.768, data_time: 0.007, memory: 5266, loss_cls: 0.9791, loss_bbox: 0.3005, loss_bbox_rf: 0.3690, loss: 1.6486, grad_norm: 4.4648\n",
      "2021-05-12 10:17:20,506 - mmdet - INFO - Epoch [10][350/655]\tlr: 1.000e-02, eta: 2:01:12, time: 0.775, data_time: 0.007, memory: 5266, loss_cls: 0.9090, loss_bbox: 0.3166, loss_bbox_rf: 0.3894, loss: 1.6149, grad_norm: 3.7466\n",
      "2021-05-12 10:17:59,075 - mmdet - INFO - Epoch [10][400/655]\tlr: 1.000e-02, eta: 2:00:34, time: 0.771, data_time: 0.007, memory: 5266, loss_cls: 0.9753, loss_bbox: 0.3095, loss_bbox_rf: 0.3782, loss: 1.6630, grad_norm: 4.4572\n",
      "2021-05-12 10:18:37,415 - mmdet - INFO - Epoch [10][450/655]\tlr: 1.000e-02, eta: 1:59:55, time: 0.767, data_time: 0.007, memory: 5266, loss_cls: 0.9591, loss_bbox: 0.3163, loss_bbox_rf: 0.3931, loss: 1.6685, grad_norm: 3.8951\n",
      "2021-05-12 10:19:15,865 - mmdet - INFO - Epoch [10][500/655]\tlr: 1.000e-02, eta: 1:59:17, time: 0.769, data_time: 0.007, memory: 5266, loss_cls: 0.9407, loss_bbox: 0.3018, loss_bbox_rf: 0.3631, loss: 1.6057, grad_norm: 4.1631\n",
      "2021-05-12 10:19:54,344 - mmdet - INFO - Epoch [10][550/655]\tlr: 1.000e-02, eta: 1:58:39, time: 0.770, data_time: 0.007, memory: 5266, loss_cls: 0.9204, loss_bbox: 0.3131, loss_bbox_rf: 0.3869, loss: 1.6204, grad_norm: 4.0571\n",
      "2021-05-12 10:20:32,746 - mmdet - INFO - Epoch [10][600/655]\tlr: 1.000e-02, eta: 1:58:01, time: 0.768, data_time: 0.007, memory: 5266, loss_cls: 0.9363, loss_bbox: 0.3002, loss_bbox_rf: 0.3724, loss: 1.6089, grad_norm: 4.0996\n",
      "2021-05-12 10:21:11,287 - mmdet - INFO - Epoch [10][650/655]\tlr: 1.000e-02, eta: 1:57:22, time: 0.771, data_time: 0.007, memory: 5266, loss_cls: 0.9281, loss_bbox: 0.3242, loss_bbox_rf: 0.4073, loss: 1.6597, grad_norm: 4.0416\n",
      "2021-05-12 10:21:15,220 - mmdet - INFO - Saving checkpoint at 10 epochs\n"
     ]
    },
    {
     "name": "stdout",
     "output_type": "stream",
     "text": [
      "[>>>>>>>>>>>>>>>>>>>>>>>>>>>>>>] 655/655, 9.9 task/s, elapsed: 66s, ETA:     0s"
     ]
    },
    {
     "name": "stderr",
     "output_type": "stream",
     "text": [
      "2021-05-12 10:22:24,722 - mmdet - INFO - Evaluating bbox...\n"
     ]
    },
    {
     "name": "stdout",
     "output_type": "stream",
     "text": [
      "Loading and preparing results...\n",
      "DONE (t=1.25s)\n",
      "creating index...\n",
      "index created!\n",
      "Running per image evaluation...\n",
      "Evaluate annotation type *bbox*\n",
      "DONE (t=7.40s).\n",
      "Accumulating evaluation results...\n"
     ]
    },
    {
     "name": "stderr",
     "output_type": "stream",
     "text": [
      "2021-05-12 10:22:35,335 - mmdet - INFO - Now best checkpoint is epoch_10.pth.Best bbox_mAP_50 is 0.1760\n",
      "2021-05-12 10:22:35,343 - mmdet - INFO - Epoch(val) [10][655]\tbbox_mAP: 0.1110, bbox_mAP_50: 0.1760, bbox_mAP_75: 0.1120, bbox_mAP_s: 0.0320, bbox_mAP_m: 0.1230, bbox_mAP_l: 0.2090, bbox_mAP_copypaste: 0.111 0.176 0.112 0.032 0.123 0.209\n"
     ]
    },
    {
     "name": "stdout",
     "output_type": "stream",
     "text": [
      "DONE (t=1.81s).\n",
      "Average Precision  (AP) @[ IoU=0.50:0.95 | area=   all | maxDets=100 ] = 0.111\n",
      "Average Precision  (AP) @[ IoU=0.50      | area=   all | maxDets=1000 ] = 0.176\n",
      "Average Precision  (AP) @[ IoU=0.75      | area=   all | maxDets=1000 ] = 0.112\n",
      "Average Precision  (AP) @[ IoU=0.50:0.95 | area= small | maxDets=1000 ] = 0.032\n",
      "Average Precision  (AP) @[ IoU=0.50:0.95 | area=medium | maxDets=1000 ] = 0.123\n",
      "Average Precision  (AP) @[ IoU=0.50:0.95 | area= large | maxDets=1000 ] = 0.209\n",
      "Average Recall     (AR) @[ IoU=0.50:0.95 | area=   all | maxDets=100 ] = 0.309\n",
      "Average Recall     (AR) @[ IoU=0.50:0.95 | area=   all | maxDets=300 ] = 0.309\n",
      "Average Recall     (AR) @[ IoU=0.50:0.95 | area=   all | maxDets=1000 ] = 0.309\n",
      "Average Recall     (AR) @[ IoU=0.50:0.95 | area= small | maxDets=1000 ] = 0.079\n",
      "Average Recall     (AR) @[ IoU=0.50:0.95 | area=medium | maxDets=1000 ] = 0.269\n",
      "Average Recall     (AR) @[ IoU=0.50:0.95 | area= large | maxDets=1000 ] = 0.615\n"
     ]
    },
    {
     "name": "stderr",
     "output_type": "stream",
     "text": [
      "2021-05-12 10:23:16,233 - mmdet - INFO - Epoch [11][50/655]\tlr: 1.000e-02, eta: 1:56:38, time: 0.818, data_time: 0.051, memory: 5266, loss_cls: 0.9129, loss_bbox: 0.2904, loss_bbox_rf: 0.3592, loss: 1.5625, grad_norm: 4.0111\n",
      "2021-05-12 10:23:54,680 - mmdet - INFO - Epoch [11][100/655]\tlr: 1.000e-02, eta: 1:56:00, time: 0.769, data_time: 0.007, memory: 5266, loss_cls: 0.9696, loss_bbox: 0.3132, loss_bbox_rf: 0.3795, loss: 1.6623, grad_norm: 4.5268\n",
      "2021-05-12 10:24:33,060 - mmdet - INFO - Epoch [11][150/655]\tlr: 1.000e-02, eta: 1:55:22, time: 0.768, data_time: 0.007, memory: 5266, loss_cls: 0.9892, loss_bbox: 0.2993, loss_bbox_rf: 0.3719, loss: 1.6605, grad_norm: 4.5530\n",
      "2021-05-12 10:25:11,389 - mmdet - INFO - Epoch [11][200/655]\tlr: 1.000e-02, eta: 1:54:43, time: 0.767, data_time: 0.007, memory: 5266, loss_cls: 0.9336, loss_bbox: 0.2983, loss_bbox_rf: 0.3653, loss: 1.5972, grad_norm: 3.8030\n",
      "2021-05-12 10:25:49,597 - mmdet - INFO - Epoch [11][250/655]\tlr: 1.000e-02, eta: 1:54:05, time: 0.764, data_time: 0.007, memory: 5266, loss_cls: 0.9477, loss_bbox: 0.2993, loss_bbox_rf: 0.3703, loss: 1.6173, grad_norm: 4.2250\n",
      "2021-05-12 10:26:27,862 - mmdet - INFO - Epoch [11][300/655]\tlr: 1.000e-02, eta: 1:53:26, time: 0.765, data_time: 0.007, memory: 5266, loss_cls: 0.9196, loss_bbox: 0.2968, loss_bbox_rf: 0.3681, loss: 1.5845, grad_norm: 4.1469\n",
      "2021-05-12 10:27:06,034 - mmdet - INFO - Epoch [11][350/655]\tlr: 1.000e-02, eta: 1:52:48, time: 0.763, data_time: 0.007, memory: 5266, loss_cls: 0.9168, loss_bbox: 0.3121, loss_bbox_rf: 0.3813, loss: 1.6103, grad_norm: 4.2300\n",
      "2021-05-12 10:27:44,357 - mmdet - INFO - Epoch [11][400/655]\tlr: 1.000e-02, eta: 1:52:09, time: 0.766, data_time: 0.007, memory: 5266, loss_cls: 0.8706, loss_bbox: 0.3175, loss_bbox_rf: 0.3830, loss: 1.5710, grad_norm: 3.8240\n",
      "2021-05-12 10:28:22,703 - mmdet - INFO - Epoch [11][450/655]\tlr: 1.000e-02, eta: 1:51:31, time: 0.767, data_time: 0.007, memory: 5266, loss_cls: 0.9043, loss_bbox: 0.3041, loss_bbox_rf: 0.3719, loss: 1.5802, grad_norm: 3.9169\n",
      "2021-05-12 10:29:01,280 - mmdet - INFO - Epoch [11][500/655]\tlr: 1.000e-02, eta: 1:50:53, time: 0.772, data_time: 0.007, memory: 5266, loss_cls: 0.9358, loss_bbox: 0.2926, loss_bbox_rf: 0.3597, loss: 1.5880, grad_norm: 4.1586\n",
      "2021-05-12 10:29:39,645 - mmdet - INFO - Epoch [11][550/655]\tlr: 1.000e-02, eta: 1:50:14, time: 0.767, data_time: 0.007, memory: 5266, loss_cls: 0.8977, loss_bbox: 0.3144, loss_bbox_rf: 0.3898, loss: 1.6019, grad_norm: 3.7981\n",
      "2021-05-12 10:30:18,087 - mmdet - INFO - Epoch [11][600/655]\tlr: 1.000e-02, eta: 1:49:36, time: 0.769, data_time: 0.007, memory: 5266, loss_cls: 0.8788, loss_bbox: 0.2924, loss_bbox_rf: 0.3607, loss: 1.5319, grad_norm: 3.8680\n",
      "2021-05-12 10:30:56,496 - mmdet - INFO - Epoch [11][650/655]\tlr: 1.000e-02, eta: 1:48:58, time: 0.768, data_time: 0.007, memory: 5266, loss_cls: 0.9193, loss_bbox: 0.2832, loss_bbox_rf: 0.3475, loss: 1.5500, grad_norm: 4.3251\n",
      "2021-05-12 10:31:00,414 - mmdet - INFO - Saving checkpoint at 11 epochs\n"
     ]
    },
    {
     "name": "stdout",
     "output_type": "stream",
     "text": [
      "[>>>>>>>>>>>>>>>>>>>>>>>>>>>>>>] 655/655, 9.9 task/s, elapsed: 66s, ETA:     0s"
     ]
    },
    {
     "name": "stderr",
     "output_type": "stream",
     "text": [
      "2021-05-12 10:32:09,476 - mmdet - INFO - Evaluating bbox...\n"
     ]
    },
    {
     "name": "stdout",
     "output_type": "stream",
     "text": [
      "Loading and preparing results...\n",
      "DONE (t=1.19s)\n",
      "creating index...\n",
      "index created!\n",
      "Running per image evaluation...\n",
      "Evaluate annotation type *bbox*\n",
      "DONE (t=8.43s).\n",
      "Accumulating evaluation results...\n"
     ]
    },
    {
     "name": "stderr",
     "output_type": "stream",
     "text": [
      "2021-05-12 10:32:21,089 - mmdet - INFO - Now best checkpoint is epoch_11.pth.Best bbox_mAP_50 is 0.1800\n",
      "2021-05-12 10:32:21,097 - mmdet - INFO - Epoch(val) [11][655]\tbbox_mAP: 0.1170, bbox_mAP_50: 0.1800, bbox_mAP_75: 0.1210, bbox_mAP_s: 0.0280, bbox_mAP_m: 0.1270, bbox_mAP_l: 0.2080, bbox_mAP_copypaste: 0.117 0.180 0.121 0.028 0.127 0.208\n"
     ]
    },
    {
     "name": "stdout",
     "output_type": "stream",
     "text": [
      "DONE (t=1.84s).\n",
      "Average Precision  (AP) @[ IoU=0.50:0.95 | area=   all | maxDets=100 ] = 0.117\n",
      "Average Precision  (AP) @[ IoU=0.50      | area=   all | maxDets=1000 ] = 0.180\n",
      "Average Precision  (AP) @[ IoU=0.75      | area=   all | maxDets=1000 ] = 0.121\n",
      "Average Precision  (AP) @[ IoU=0.50:0.95 | area= small | maxDets=1000 ] = 0.028\n",
      "Average Precision  (AP) @[ IoU=0.50:0.95 | area=medium | maxDets=1000 ] = 0.127\n",
      "Average Precision  (AP) @[ IoU=0.50:0.95 | area= large | maxDets=1000 ] = 0.208\n",
      "Average Recall     (AR) @[ IoU=0.50:0.95 | area=   all | maxDets=100 ] = 0.290\n",
      "Average Recall     (AR) @[ IoU=0.50:0.95 | area=   all | maxDets=300 ] = 0.290\n",
      "Average Recall     (AR) @[ IoU=0.50:0.95 | area=   all | maxDets=1000 ] = 0.290\n",
      "Average Recall     (AR) @[ IoU=0.50:0.95 | area= small | maxDets=1000 ] = 0.079\n",
      "Average Recall     (AR) @[ IoU=0.50:0.95 | area=medium | maxDets=1000 ] = 0.273\n",
      "Average Recall     (AR) @[ IoU=0.50:0.95 | area= large | maxDets=1000 ] = 0.508\n"
     ]
    },
    {
     "name": "stderr",
     "output_type": "stream",
     "text": [
      "2021-05-12 10:33:01,783 - mmdet - INFO - Epoch [12][50/655]\tlr: 1.000e-02, eta: 1:48:14, time: 0.813, data_time: 0.052, memory: 5266, loss_cls: 0.8707, loss_bbox: 0.2812, loss_bbox_rf: 0.3474, loss: 1.4993, grad_norm: 3.6490\n",
      "2021-05-12 10:33:40,157 - mmdet - INFO - Epoch [12][100/655]\tlr: 1.000e-02, eta: 1:47:35, time: 0.767, data_time: 0.007, memory: 5266, loss_cls: 0.8796, loss_bbox: 0.2844, loss_bbox_rf: 0.3469, loss: 1.5108, grad_norm: 4.0215\n",
      "2021-05-12 10:34:18,583 - mmdet - INFO - Epoch [12][150/655]\tlr: 1.000e-02, eta: 1:46:57, time: 0.769, data_time: 0.007, memory: 5266, loss_cls: 0.8684, loss_bbox: 0.2966, loss_bbox_rf: 0.3668, loss: 1.5318, grad_norm: 3.8541\n",
      "2021-05-12 10:34:56,944 - mmdet - INFO - Epoch [12][200/655]\tlr: 1.000e-02, eta: 1:46:19, time: 0.767, data_time: 0.007, memory: 5266, loss_cls: 0.8715, loss_bbox: 0.2883, loss_bbox_rf: 0.3501, loss: 1.5100, grad_norm: 4.3394\n",
      "2021-05-12 10:35:35,497 - mmdet - INFO - Epoch [12][250/655]\tlr: 1.000e-02, eta: 1:45:41, time: 0.771, data_time: 0.007, memory: 5266, loss_cls: 0.8624, loss_bbox: 0.2991, loss_bbox_rf: 0.3663, loss: 1.5279, grad_norm: 4.1882\n",
      "2021-05-12 10:36:14,116 - mmdet - INFO - Epoch [12][300/655]\tlr: 1.000e-02, eta: 1:45:02, time: 0.772, data_time: 0.007, memory: 5266, loss_cls: 0.8883, loss_bbox: 0.2853, loss_bbox_rf: 0.3521, loss: 1.5257, grad_norm: 4.0696\n",
      "2021-05-12 10:36:52,560 - mmdet - INFO - Epoch [12][350/655]\tlr: 1.000e-02, eta: 1:44:24, time: 0.769, data_time: 0.007, memory: 5266, loss_cls: 0.8718, loss_bbox: 0.2798, loss_bbox_rf: 0.3438, loss: 1.4955, grad_norm: 4.1897\n",
      "2021-05-12 10:37:31,046 - mmdet - INFO - Epoch [12][400/655]\tlr: 1.000e-02, eta: 1:43:46, time: 0.770, data_time: 0.007, memory: 5266, loss_cls: 0.9192, loss_bbox: 0.2964, loss_bbox_rf: 0.3651, loss: 1.5807, grad_norm: 4.6506\n",
      "2021-05-12 10:38:09,429 - mmdet - INFO - Epoch [12][450/655]\tlr: 1.000e-02, eta: 1:43:08, time: 0.768, data_time: 0.007, memory: 5266, loss_cls: 0.8813, loss_bbox: 0.2950, loss_bbox_rf: 0.3675, loss: 1.5437, grad_norm: 3.6632\n",
      "2021-05-12 10:38:47,780 - mmdet - INFO - Epoch [12][500/655]\tlr: 1.000e-02, eta: 1:42:29, time: 0.767, data_time: 0.007, memory: 5266, loss_cls: 0.8773, loss_bbox: 0.2923, loss_bbox_rf: 0.3555, loss: 1.5251, grad_norm: 4.2041\n",
      "2021-05-12 10:39:26,341 - mmdet - INFO - Epoch [12][550/655]\tlr: 1.000e-02, eta: 1:41:51, time: 0.771, data_time: 0.007, memory: 5266, loss_cls: 0.8925, loss_bbox: 0.2863, loss_bbox_rf: 0.3498, loss: 1.5285, grad_norm: 4.2888\n",
      "2021-05-12 10:40:04,673 - mmdet - INFO - Epoch [12][600/655]\tlr: 1.000e-02, eta: 1:41:13, time: 0.767, data_time: 0.007, memory: 5266, loss_cls: 0.9231, loss_bbox: 0.3002, loss_bbox_rf: 0.3712, loss: 1.5944, grad_norm: 3.9573\n",
      "2021-05-12 10:40:43,033 - mmdet - INFO - Epoch [12][650/655]\tlr: 1.000e-02, eta: 1:40:34, time: 0.767, data_time: 0.007, memory: 5266, loss_cls: 0.9091, loss_bbox: 0.2883, loss_bbox_rf: 0.3569, loss: 1.5544, grad_norm: 4.0652\n",
      "2021-05-12 10:40:46,982 - mmdet - INFO - Saving checkpoint at 12 epochs\n"
     ]
    },
    {
     "name": "stdout",
     "output_type": "stream",
     "text": [
      "[>>>>>>>>>>>>>>>>>>>>>>>>>>>>>] 655/655, 10.0 task/s, elapsed: 66s, ETA:     0s"
     ]
    },
    {
     "name": "stderr",
     "output_type": "stream",
     "text": [
      "2021-05-12 10:41:55,325 - mmdet - INFO - Evaluating bbox...\n"
     ]
    },
    {
     "name": "stdout",
     "output_type": "stream",
     "text": [
      "Loading and preparing results...\n",
      "DONE (t=1.26s)\n",
      "creating index...\n",
      "index created!\n",
      "Running per image evaluation...\n",
      "Evaluate annotation type *bbox*\n",
      "DONE (t=6.52s).\n",
      "Accumulating evaluation results...\n"
     ]
    },
    {
     "name": "stderr",
     "output_type": "stream",
     "text": [
      "2021-05-12 10:42:05,047 - mmdet - INFO - Now best checkpoint is epoch_12.pth.Best bbox_mAP_50 is 0.1870\n",
      "2021-05-12 10:42:05,055 - mmdet - INFO - Epoch(val) [12][655]\tbbox_mAP: 0.1210, bbox_mAP_50: 0.1870, bbox_mAP_75: 0.1260, bbox_mAP_s: 0.0320, bbox_mAP_m: 0.1160, bbox_mAP_l: 0.2230, bbox_mAP_copypaste: 0.121 0.187 0.126 0.032 0.116 0.223\n"
     ]
    },
    {
     "name": "stdout",
     "output_type": "stream",
     "text": [
      "DONE (t=1.75s).\n",
      "Average Precision  (AP) @[ IoU=0.50:0.95 | area=   all | maxDets=100 ] = 0.121\n",
      "Average Precision  (AP) @[ IoU=0.50      | area=   all | maxDets=1000 ] = 0.187\n",
      "Average Precision  (AP) @[ IoU=0.75      | area=   all | maxDets=1000 ] = 0.126\n",
      "Average Precision  (AP) @[ IoU=0.50:0.95 | area= small | maxDets=1000 ] = 0.032\n",
      "Average Precision  (AP) @[ IoU=0.50:0.95 | area=medium | maxDets=1000 ] = 0.116\n",
      "Average Precision  (AP) @[ IoU=0.50:0.95 | area= large | maxDets=1000 ] = 0.223\n",
      "Average Recall     (AR) @[ IoU=0.50:0.95 | area=   all | maxDets=100 ] = 0.353\n",
      "Average Recall     (AR) @[ IoU=0.50:0.95 | area=   all | maxDets=300 ] = 0.353\n",
      "Average Recall     (AR) @[ IoU=0.50:0.95 | area=   all | maxDets=1000 ] = 0.353\n",
      "Average Recall     (AR) @[ IoU=0.50:0.95 | area= small | maxDets=1000 ] = 0.084\n",
      "Average Recall     (AR) @[ IoU=0.50:0.95 | area=medium | maxDets=1000 ] = 0.329\n",
      "Average Recall     (AR) @[ IoU=0.50:0.95 | area= large | maxDets=1000 ] = 0.672\n"
     ]
    },
    {
     "name": "stderr",
     "output_type": "stream",
     "text": [
      "2021-05-12 10:42:45,767 - mmdet - INFO - Epoch [13][50/655]\tlr: 1.000e-02, eta: 1:39:51, time: 0.814, data_time: 0.052, memory: 5266, loss_cls: 0.8231, loss_bbox: 0.2648, loss_bbox_rf: 0.3264, loss: 1.4142, grad_norm: 3.9450\n",
      "2021-05-12 10:43:24,450 - mmdet - INFO - Epoch [13][100/655]\tlr: 1.000e-02, eta: 1:39:13, time: 0.774, data_time: 0.007, memory: 5266, loss_cls: 0.8398, loss_bbox: 0.2897, loss_bbox_rf: 0.3556, loss: 1.4851, grad_norm: 4.0561\n",
      "2021-05-12 10:44:03,018 - mmdet - INFO - Epoch [13][150/655]\tlr: 1.000e-02, eta: 1:38:34, time: 0.771, data_time: 0.007, memory: 5266, loss_cls: 0.8770, loss_bbox: 0.2763, loss_bbox_rf: 0.3404, loss: 1.4937, grad_norm: 4.1815\n",
      "2021-05-12 10:44:41,301 - mmdet - INFO - Epoch [13][200/655]\tlr: 1.000e-02, eta: 1:37:56, time: 0.766, data_time: 0.007, memory: 5266, loss_cls: 0.8950, loss_bbox: 0.2800, loss_bbox_rf: 0.3413, loss: 1.5163, grad_norm: 4.3557\n",
      "2021-05-12 10:45:19,736 - mmdet - INFO - Epoch [13][250/655]\tlr: 1.000e-02, eta: 1:37:18, time: 0.769, data_time: 0.007, memory: 5266, loss_cls: 0.8532, loss_bbox: 0.2754, loss_bbox_rf: 0.3354, loss: 1.4641, grad_norm: 4.1736\n",
      "2021-05-12 10:45:58,208 - mmdet - INFO - Epoch [13][300/655]\tlr: 1.000e-02, eta: 1:36:39, time: 0.769, data_time: 0.007, memory: 5266, loss_cls: 0.8485, loss_bbox: 0.2772, loss_bbox_rf: 0.3414, loss: 1.4672, grad_norm: 4.0560\n",
      "2021-05-12 10:46:36,602 - mmdet - INFO - Epoch [13][350/655]\tlr: 1.000e-02, eta: 1:36:01, time: 0.768, data_time: 0.007, memory: 5266, loss_cls: 0.8872, loss_bbox: 0.2699, loss_bbox_rf: 0.3305, loss: 1.4877, grad_norm: 4.2798\n",
      "2021-05-12 10:47:14,877 - mmdet - INFO - Epoch [13][400/655]\tlr: 1.000e-02, eta: 1:35:23, time: 0.765, data_time: 0.007, memory: 5266, loss_cls: 0.8509, loss_bbox: 0.2870, loss_bbox_rf: 0.3556, loss: 1.4936, grad_norm: 4.1326\n",
      "2021-05-12 10:47:53,428 - mmdet - INFO - Epoch [13][450/655]\tlr: 1.000e-02, eta: 1:34:44, time: 0.771, data_time: 0.007, memory: 5266, loss_cls: 0.8195, loss_bbox: 0.3019, loss_bbox_rf: 0.3727, loss: 1.4941, grad_norm: 3.6313\n",
      "2021-05-12 10:48:31,856 - mmdet - INFO - Epoch [13][500/655]\tlr: 1.000e-02, eta: 1:34:06, time: 0.769, data_time: 0.007, memory: 5266, loss_cls: 0.8287, loss_bbox: 0.2741, loss_bbox_rf: 0.3388, loss: 1.4416, grad_norm: 3.9813\n",
      "2021-05-12 10:49:10,287 - mmdet - INFO - Epoch [13][550/655]\tlr: 1.000e-02, eta: 1:33:28, time: 0.769, data_time: 0.007, memory: 5266, loss_cls: 0.8966, loss_bbox: 0.2717, loss_bbox_rf: 0.3277, loss: 1.4960, grad_norm: 4.3143\n",
      "2021-05-12 10:49:48,687 - mmdet - INFO - Epoch [13][600/655]\tlr: 1.000e-02, eta: 1:32:50, time: 0.768, data_time: 0.007, memory: 5266, loss_cls: 0.9080, loss_bbox: 0.2774, loss_bbox_rf: 0.3448, loss: 1.5302, grad_norm: 4.2168\n",
      "2021-05-12 10:50:27,049 - mmdet - INFO - Epoch [13][650/655]\tlr: 1.000e-02, eta: 1:32:11, time: 0.767, data_time: 0.007, memory: 5266, loss_cls: 0.8510, loss_bbox: 0.2883, loss_bbox_rf: 0.3612, loss: 1.5004, grad_norm: 3.6853\n",
      "2021-05-12 10:50:30,977 - mmdet - INFO - Saving checkpoint at 13 epochs\n"
     ]
    },
    {
     "name": "stdout",
     "output_type": "stream",
     "text": [
      "[>>>>>>>>>>>>>>>>>>>>>>>>>>>>>] 655/655, 10.1 task/s, elapsed: 65s, ETA:     0s"
     ]
    },
    {
     "name": "stderr",
     "output_type": "stream",
     "text": [
      "2021-05-12 10:51:38,977 - mmdet - INFO - Evaluating bbox...\n"
     ]
    },
    {
     "name": "stdout",
     "output_type": "stream",
     "text": [
      "Loading and preparing results...\n",
      "DONE (t=1.21s)\n",
      "creating index...\n",
      "index created!\n",
      "Running per image evaluation...\n",
      "Evaluate annotation type *bbox*\n",
      "DONE (t=7.98s).\n",
      "Accumulating evaluation results...\n"
     ]
    },
    {
     "name": "stderr",
     "output_type": "stream",
     "text": [
      "2021-05-12 10:51:49,949 - mmdet - INFO - Now best checkpoint is epoch_13.pth.Best bbox_mAP_50 is 0.2340\n",
      "2021-05-12 10:51:49,956 - mmdet - INFO - Epoch(val) [13][655]\tbbox_mAP: 0.1510, bbox_mAP_50: 0.2340, bbox_mAP_75: 0.1590, bbox_mAP_s: 0.0380, bbox_mAP_m: 0.1490, bbox_mAP_l: 0.3270, bbox_mAP_copypaste: 0.151 0.234 0.159 0.038 0.149 0.327\n"
     ]
    },
    {
     "name": "stdout",
     "output_type": "stream",
     "text": [
      "DONE (t=1.63s).\n",
      "Average Precision  (AP) @[ IoU=0.50:0.95 | area=   all | maxDets=100 ] = 0.151\n",
      "Average Precision  (AP) @[ IoU=0.50      | area=   all | maxDets=1000 ] = 0.234\n",
      "Average Precision  (AP) @[ IoU=0.75      | area=   all | maxDets=1000 ] = 0.159\n",
      "Average Precision  (AP) @[ IoU=0.50:0.95 | area= small | maxDets=1000 ] = 0.038\n",
      "Average Precision  (AP) @[ IoU=0.50:0.95 | area=medium | maxDets=1000 ] = 0.149\n",
      "Average Precision  (AP) @[ IoU=0.50:0.95 | area= large | maxDets=1000 ] = 0.327\n",
      "Average Recall     (AR) @[ IoU=0.50:0.95 | area=   all | maxDets=100 ] = 0.343\n",
      "Average Recall     (AR) @[ IoU=0.50:0.95 | area=   all | maxDets=300 ] = 0.343\n",
      "Average Recall     (AR) @[ IoU=0.50:0.95 | area=   all | maxDets=1000 ] = 0.343\n",
      "Average Recall     (AR) @[ IoU=0.50:0.95 | area= small | maxDets=1000 ] = 0.091\n",
      "Average Recall     (AR) @[ IoU=0.50:0.95 | area=medium | maxDets=1000 ] = 0.317\n",
      "Average Recall     (AR) @[ IoU=0.50:0.95 | area= large | maxDets=1000 ] = 0.620\n"
     ]
    },
    {
     "name": "stderr",
     "output_type": "stream",
     "text": [
      "2021-05-12 10:52:30,513 - mmdet - INFO - Epoch [14][50/655]\tlr: 1.000e-02, eta: 1:31:28, time: 0.811, data_time: 0.052, memory: 5266, loss_cls: 0.8003, loss_bbox: 0.2603, loss_bbox_rf: 0.3197, loss: 1.3802, grad_norm: 3.9946\n",
      "2021-05-12 10:53:08,744 - mmdet - INFO - Epoch [14][100/655]\tlr: 1.000e-02, eta: 1:30:49, time: 0.765, data_time: 0.007, memory: 5266, loss_cls: 0.8681, loss_bbox: 0.2668, loss_bbox_rf: 0.3258, loss: 1.4607, grad_norm: 4.2989\n",
      "2021-05-12 10:53:47,072 - mmdet - INFO - Epoch [14][150/655]\tlr: 1.000e-02, eta: 1:30:11, time: 0.767, data_time: 0.007, memory: 5266, loss_cls: 0.8667, loss_bbox: 0.2622, loss_bbox_rf: 0.3186, loss: 1.4475, grad_norm: 4.5144\n",
      "2021-05-12 10:54:25,677 - mmdet - INFO - Epoch [14][200/655]\tlr: 1.000e-02, eta: 1:29:33, time: 0.772, data_time: 0.007, memory: 5266, loss_cls: 0.8422, loss_bbox: 0.2741, loss_bbox_rf: 0.3334, loss: 1.4497, grad_norm: 4.5356\n",
      "2021-05-12 10:55:04,031 - mmdet - INFO - Epoch [14][250/655]\tlr: 1.000e-02, eta: 1:28:54, time: 0.767, data_time: 0.007, memory: 5266, loss_cls: 0.8852, loss_bbox: 0.2792, loss_bbox_rf: 0.3354, loss: 1.4998, grad_norm: 4.5624\n",
      "2021-05-12 10:55:42,419 - mmdet - INFO - Epoch [14][300/655]\tlr: 1.000e-02, eta: 1:28:16, time: 0.768, data_time: 0.007, memory: 5266, loss_cls: 0.8218, loss_bbox: 0.2831, loss_bbox_rf: 0.3501, loss: 1.4550, grad_norm: 3.8404\n",
      "2021-05-12 10:56:20,800 - mmdet - INFO - Epoch [14][350/655]\tlr: 1.000e-02, eta: 1:27:38, time: 0.768, data_time: 0.007, memory: 5266, loss_cls: 0.8311, loss_bbox: 0.2813, loss_bbox_rf: 0.3491, loss: 1.4615, grad_norm: 4.1450\n",
      "2021-05-12 10:56:59,126 - mmdet - INFO - Epoch [14][400/655]\tlr: 1.000e-02, eta: 1:26:59, time: 0.767, data_time: 0.007, memory: 5266, loss_cls: 0.8387, loss_bbox: 0.2807, loss_bbox_rf: 0.3515, loss: 1.4709, grad_norm: 4.0450\n",
      "2021-05-12 10:57:37,384 - mmdet - INFO - Epoch [14][450/655]\tlr: 1.000e-02, eta: 1:26:21, time: 0.765, data_time: 0.007, memory: 5266, loss_cls: 0.8632, loss_bbox: 0.2784, loss_bbox_rf: 0.3424, loss: 1.4841, grad_norm: 4.4283\n",
      "2021-05-12 10:58:15,746 - mmdet - INFO - Epoch [14][500/655]\tlr: 1.000e-02, eta: 1:25:42, time: 0.767, data_time: 0.007, memory: 5266, loss_cls: 0.9591, loss_bbox: 0.2764, loss_bbox_rf: 0.3365, loss: 1.5720, grad_norm: 4.8238\n",
      "2021-05-12 10:58:54,145 - mmdet - INFO - Epoch [14][550/655]\tlr: 1.000e-02, eta: 1:25:04, time: 0.768, data_time: 0.007, memory: 5266, loss_cls: 0.9249, loss_bbox: 0.2776, loss_bbox_rf: 0.3430, loss: 1.5454, grad_norm: 4.8285\n",
      "2021-05-12 10:59:32,610 - mmdet - INFO - Epoch [14][600/655]\tlr: 1.000e-02, eta: 1:24:26, time: 0.769, data_time: 0.007, memory: 5266, loss_cls: 0.8925, loss_bbox: 0.3003, loss_bbox_rf: 0.3640, loss: 1.5567, grad_norm: 4.8428\n",
      "2021-05-12 11:00:11,098 - mmdet - INFO - Epoch [14][650/655]\tlr: 1.000e-02, eta: 1:23:48, time: 0.770, data_time: 0.007, memory: 5266, loss_cls: 0.8969, loss_bbox: 0.2764, loss_bbox_rf: 0.3432, loss: 1.5164, grad_norm: 4.1463\n",
      "2021-05-12 11:00:15,058 - mmdet - INFO - Saving checkpoint at 14 epochs\n"
     ]
    },
    {
     "name": "stdout",
     "output_type": "stream",
     "text": [
      "[>>>>>>>>>>>>>>>>>>>>>>>>>>>>>>] 655/655, 9.9 task/s, elapsed: 66s, ETA:     0s"
     ]
    },
    {
     "name": "stderr",
     "output_type": "stream",
     "text": [
      "2021-05-12 11:01:23,861 - mmdet - INFO - Evaluating bbox...\n"
     ]
    },
    {
     "name": "stdout",
     "output_type": "stream",
     "text": [
      "Loading and preparing results...\n",
      "DONE (t=1.26s)\n",
      "creating index...\n",
      "index created!\n",
      "Running per image evaluation...\n",
      "Evaluate annotation type *bbox*\n",
      "DONE (t=7.43s).\n",
      "Accumulating evaluation results...\n"
     ]
    },
    {
     "name": "stderr",
     "output_type": "stream",
     "text": [
      "2021-05-12 11:01:34,399 - mmdet - INFO - Epoch(val) [14][655]\tbbox_mAP: 0.1280, bbox_mAP_50: 0.1960, bbox_mAP_75: 0.1340, bbox_mAP_s: 0.0340, bbox_mAP_m: 0.1440, bbox_mAP_l: 0.2420, bbox_mAP_copypaste: 0.128 0.196 0.134 0.034 0.144 0.242\n"
     ]
    },
    {
     "name": "stdout",
     "output_type": "stream",
     "text": [
      "DONE (t=1.66s).\n",
      "Average Precision  (AP) @[ IoU=0.50:0.95 | area=   all | maxDets=100 ] = 0.128\n",
      "Average Precision  (AP) @[ IoU=0.50      | area=   all | maxDets=1000 ] = 0.196\n",
      "Average Precision  (AP) @[ IoU=0.75      | area=   all | maxDets=1000 ] = 0.134\n",
      "Average Precision  (AP) @[ IoU=0.50:0.95 | area= small | maxDets=1000 ] = 0.034\n",
      "Average Precision  (AP) @[ IoU=0.50:0.95 | area=medium | maxDets=1000 ] = 0.144\n",
      "Average Precision  (AP) @[ IoU=0.50:0.95 | area= large | maxDets=1000 ] = 0.242\n",
      "Average Recall     (AR) @[ IoU=0.50:0.95 | area=   all | maxDets=100 ] = 0.330\n",
      "Average Recall     (AR) @[ IoU=0.50:0.95 | area=   all | maxDets=300 ] = 0.330\n",
      "Average Recall     (AR) @[ IoU=0.50:0.95 | area=   all | maxDets=1000 ] = 0.330\n",
      "Average Recall     (AR) @[ IoU=0.50:0.95 | area= small | maxDets=1000 ] = 0.083\n",
      "Average Recall     (AR) @[ IoU=0.50:0.95 | area=medium | maxDets=1000 ] = 0.296\n",
      "Average Recall     (AR) @[ IoU=0.50:0.95 | area= large | maxDets=1000 ] = 0.652\n"
     ]
    },
    {
     "name": "stderr",
     "output_type": "stream",
     "text": [
      "2021-05-12 11:02:15,013 - mmdet - INFO - Epoch [15][50/655]\tlr: 1.000e-02, eta: 1:23:04, time: 0.812, data_time: 0.052, memory: 5266, loss_cls: 0.8415, loss_bbox: 0.2574, loss_bbox_rf: 0.3156, loss: 1.4145, grad_norm: 4.2022\n",
      "2021-05-12 11:02:53,410 - mmdet - INFO - Epoch [15][100/655]\tlr: 1.000e-02, eta: 1:22:26, time: 0.768, data_time: 0.007, memory: 5266, loss_cls: 0.8179, loss_bbox: 0.2718, loss_bbox_rf: 0.3349, loss: 1.4246, grad_norm: 4.4889\n",
      "2021-05-12 11:03:31,797 - mmdet - INFO - Epoch [15][150/655]\tlr: 1.000e-02, eta: 1:21:48, time: 0.768, data_time: 0.007, memory: 5266, loss_cls: 0.8665, loss_bbox: 0.2679, loss_bbox_rf: 0.3249, loss: 1.4593, grad_norm: 4.7081\n",
      "2021-05-12 11:04:10,331 - mmdet - INFO - Epoch [15][200/655]\tlr: 1.000e-02, eta: 1:21:10, time: 0.771, data_time: 0.008, memory: 5266, loss_cls: 0.8340, loss_bbox: 0.2742, loss_bbox_rf: 0.3348, loss: 1.4430, grad_norm: 3.9747\n",
      "2021-05-12 11:04:48,749 - mmdet - INFO - Epoch [15][250/655]\tlr: 1.000e-02, eta: 1:20:31, time: 0.768, data_time: 0.007, memory: 5266, loss_cls: 0.8546, loss_bbox: 0.2718, loss_bbox_rf: 0.3320, loss: 1.4585, grad_norm: 4.5036\n",
      "2021-05-12 11:05:27,114 - mmdet - INFO - Epoch [15][300/655]\tlr: 1.000e-02, eta: 1:19:53, time: 0.767, data_time: 0.007, memory: 5266, loss_cls: 0.8557, loss_bbox: 0.2732, loss_bbox_rf: 0.3343, loss: 1.4631, grad_norm: 4.6551\n",
      "2021-05-12 11:06:05,428 - mmdet - INFO - Epoch [15][350/655]\tlr: 1.000e-02, eta: 1:19:14, time: 0.766, data_time: 0.007, memory: 5266, loss_cls: 0.8615, loss_bbox: 0.2655, loss_bbox_rf: 0.3253, loss: 1.4523, grad_norm: 4.9561\n",
      "2021-05-12 11:06:43,870 - mmdet - INFO - Epoch [15][400/655]\tlr: 1.000e-02, eta: 1:18:36, time: 0.769, data_time: 0.007, memory: 5266, loss_cls: 0.8373, loss_bbox: 0.2718, loss_bbox_rf: 0.3352, loss: 1.4443, grad_norm: 4.1761\n",
      "2021-05-12 11:07:22,196 - mmdet - INFO - Epoch [15][450/655]\tlr: 1.000e-02, eta: 1:17:58, time: 0.767, data_time: 0.007, memory: 5266, loss_cls: 0.8160, loss_bbox: 0.2808, loss_bbox_rf: 0.3433, loss: 1.4401, grad_norm: 4.0791\n",
      "2021-05-12 11:08:01,199 - mmdet - INFO - Epoch [15][500/655]\tlr: 1.000e-02, eta: 1:17:20, time: 0.780, data_time: 0.007, memory: 5266, loss_cls: 0.8713, loss_bbox: 0.2587, loss_bbox_rf: 0.3139, loss: 1.4439, grad_norm: 4.6760\n",
      "2021-05-12 11:08:39,407 - mmdet - INFO - Epoch [15][550/655]\tlr: 1.000e-02, eta: 1:16:41, time: 0.764, data_time: 0.007, memory: 5266, loss_cls: 0.8144, loss_bbox: 0.2786, loss_bbox_rf: 0.3442, loss: 1.4372, grad_norm: 4.2138\n",
      "2021-05-12 11:09:17,740 - mmdet - INFO - Epoch [15][600/655]\tlr: 1.000e-02, eta: 1:16:03, time: 0.767, data_time: 0.007, memory: 5266, loss_cls: 0.8383, loss_bbox: 0.2688, loss_bbox_rf: 0.3287, loss: 1.4359, grad_norm: 4.6000\n",
      "2021-05-12 11:09:56,113 - mmdet - INFO - Epoch [15][650/655]\tlr: 1.000e-02, eta: 1:15:25, time: 0.767, data_time: 0.007, memory: 5266, loss_cls: 0.8463, loss_bbox: 0.2764, loss_bbox_rf: 0.3411, loss: 1.4638, grad_norm: 4.1682\n",
      "2021-05-12 11:10:00,039 - mmdet - INFO - Saving checkpoint at 15 epochs\n"
     ]
    },
    {
     "name": "stdout",
     "output_type": "stream",
     "text": [
      "[>>>>>>>>>>>>>>>>>>>>>>>>>>>>>] 655/655, 10.0 task/s, elapsed: 66s, ETA:     0s"
     ]
    },
    {
     "name": "stderr",
     "output_type": "stream",
     "text": [
      "2021-05-12 11:11:08,237 - mmdet - INFO - Evaluating bbox...\n"
     ]
    },
    {
     "name": "stdout",
     "output_type": "stream",
     "text": [
      "Loading and preparing results...\n",
      "DONE (t=1.23s)\n",
      "creating index...\n",
      "index created!\n",
      "Running per image evaluation...\n",
      "Evaluate annotation type *bbox*\n",
      "DONE (t=6.99s).\n",
      "Accumulating evaluation results...\n"
     ]
    },
    {
     "name": "stderr",
     "output_type": "stream",
     "text": [
      "2021-05-12 11:11:18,272 - mmdet - INFO - Epoch(val) [15][655]\tbbox_mAP: 0.1430, bbox_mAP_50: 0.2180, bbox_mAP_75: 0.1500, bbox_mAP_s: 0.0400, bbox_mAP_m: 0.1410, bbox_mAP_l: 0.2670, bbox_mAP_copypaste: 0.143 0.218 0.150 0.040 0.141 0.267\n"
     ]
    },
    {
     "name": "stdout",
     "output_type": "stream",
     "text": [
      "DONE (t=1.64s).\n",
      "Average Precision  (AP) @[ IoU=0.50:0.95 | area=   all | maxDets=100 ] = 0.143\n",
      "Average Precision  (AP) @[ IoU=0.50      | area=   all | maxDets=1000 ] = 0.218\n",
      "Average Precision  (AP) @[ IoU=0.75      | area=   all | maxDets=1000 ] = 0.150\n",
      "Average Precision  (AP) @[ IoU=0.50:0.95 | area= small | maxDets=1000 ] = 0.040\n",
      "Average Precision  (AP) @[ IoU=0.50:0.95 | area=medium | maxDets=1000 ] = 0.141\n",
      "Average Precision  (AP) @[ IoU=0.50:0.95 | area= large | maxDets=1000 ] = 0.267\n",
      "Average Recall     (AR) @[ IoU=0.50:0.95 | area=   all | maxDets=100 ] = 0.351\n",
      "Average Recall     (AR) @[ IoU=0.50:0.95 | area=   all | maxDets=300 ] = 0.351\n",
      "Average Recall     (AR) @[ IoU=0.50:0.95 | area=   all | maxDets=1000 ] = 0.351\n",
      "Average Recall     (AR) @[ IoU=0.50:0.95 | area= small | maxDets=1000 ] = 0.100\n",
      "Average Recall     (AR) @[ IoU=0.50:0.95 | area=medium | maxDets=1000 ] = 0.321\n",
      "Average Recall     (AR) @[ IoU=0.50:0.95 | area= large | maxDets=1000 ] = 0.620\n"
     ]
    },
    {
     "name": "stderr",
     "output_type": "stream",
     "text": [
      "2021-05-12 11:11:58,989 - mmdet - INFO - Epoch [16][50/655]\tlr: 1.000e-02, eta: 1:14:42, time: 0.814, data_time: 0.052, memory: 5266, loss_cls: 0.8288, loss_bbox: 0.2584, loss_bbox_rf: 0.3157, loss: 1.4029, grad_norm: 4.6232\n",
      "2021-05-12 11:12:37,235 - mmdet - INFO - Epoch [16][100/655]\tlr: 1.000e-02, eta: 1:14:03, time: 0.765, data_time: 0.007, memory: 5266, loss_cls: 0.8011, loss_bbox: 0.2448, loss_bbox_rf: 0.2950, loss: 1.3409, grad_norm: 4.6027\n",
      "2021-05-12 11:13:15,698 - mmdet - INFO - Epoch [16][150/655]\tlr: 1.000e-02, eta: 1:13:25, time: 0.769, data_time: 0.007, memory: 5266, loss_cls: 0.8767, loss_bbox: 0.2669, loss_bbox_rf: 0.3268, loss: 1.4704, grad_norm: 4.8780\n",
      "2021-05-12 11:13:54,128 - mmdet - INFO - Epoch [16][200/655]\tlr: 1.000e-02, eta: 1:12:47, time: 0.769, data_time: 0.007, memory: 5266, loss_cls: 0.8254, loss_bbox: 0.2757, loss_bbox_rf: 0.3398, loss: 1.4409, grad_norm: 4.1817\n",
      "2021-05-12 11:14:32,516 - mmdet - INFO - Epoch [16][250/655]\tlr: 1.000e-02, eta: 1:12:08, time: 0.768, data_time: 0.007, memory: 5266, loss_cls: 0.7781, loss_bbox: 0.2622, loss_bbox_rf: 0.3230, loss: 1.3633, grad_norm: 3.9571\n",
      "2021-05-12 11:15:10,880 - mmdet - INFO - Epoch [16][300/655]\tlr: 1.000e-02, eta: 1:11:30, time: 0.767, data_time: 0.007, memory: 5266, loss_cls: 0.8130, loss_bbox: 0.2603, loss_bbox_rf: 0.3187, loss: 1.3921, grad_norm: 4.6022\n",
      "2021-05-12 11:15:49,295 - mmdet - INFO - Epoch [16][350/655]\tlr: 1.000e-02, eta: 1:10:52, time: 0.768, data_time: 0.007, memory: 5266, loss_cls: 0.8074, loss_bbox: 0.2665, loss_bbox_rf: 0.3261, loss: 1.4000, grad_norm: 4.7247\n",
      "2021-05-12 11:16:27,736 - mmdet - INFO - Epoch [16][400/655]\tlr: 1.000e-02, eta: 1:10:14, time: 0.769, data_time: 0.007, memory: 5266, loss_cls: 0.8381, loss_bbox: 0.2738, loss_bbox_rf: 0.3361, loss: 1.4480, grad_norm: 4.3115\n",
      "2021-05-12 11:17:06,185 - mmdet - INFO - Epoch [16][450/655]\tlr: 1.000e-02, eta: 1:09:35, time: 0.769, data_time: 0.007, memory: 5266, loss_cls: 0.8068, loss_bbox: 0.2626, loss_bbox_rf: 0.3275, loss: 1.3969, grad_norm: 4.1549\n",
      "2021-05-12 11:17:44,809 - mmdet - INFO - Epoch [16][500/655]\tlr: 1.000e-02, eta: 1:08:57, time: 0.772, data_time: 0.007, memory: 5266, loss_cls: 0.7920, loss_bbox: 0.2593, loss_bbox_rf: 0.3179, loss: 1.3693, grad_norm: 4.2443\n",
      "2021-05-12 11:18:23,740 - mmdet - INFO - Epoch [16][550/655]\tlr: 1.000e-02, eta: 1:08:19, time: 0.779, data_time: 0.007, memory: 5266, loss_cls: 0.8058, loss_bbox: 0.2589, loss_bbox_rf: 0.3193, loss: 1.3840, grad_norm: 4.4209\n",
      "2021-05-12 11:19:02,247 - mmdet - INFO - Epoch [16][600/655]\tlr: 1.000e-02, eta: 1:07:41, time: 0.770, data_time: 0.007, memory: 5266, loss_cls: 0.9131, loss_bbox: 0.2741, loss_bbox_rf: 0.3361, loss: 1.5233, grad_norm: 5.1220\n",
      "2021-05-12 11:19:40,746 - mmdet - INFO - Epoch [16][650/655]\tlr: 1.000e-02, eta: 1:07:02, time: 0.770, data_time: 0.007, memory: 5266, loss_cls: 0.9043, loss_bbox: 0.2745, loss_bbox_rf: 0.3354, loss: 1.5142, grad_norm: 5.0784\n",
      "2021-05-12 11:19:44,655 - mmdet - INFO - Saving checkpoint at 16 epochs\n"
     ]
    },
    {
     "name": "stdout",
     "output_type": "stream",
     "text": [
      "[>>>>>>>>>>>>>>>>>>>>>>>>>>>>>] 655/655, 10.0 task/s, elapsed: 66s, ETA:     0s"
     ]
    },
    {
     "name": "stderr",
     "output_type": "stream",
     "text": [
      "2021-05-12 11:20:53,224 - mmdet - INFO - Evaluating bbox...\n"
     ]
    },
    {
     "name": "stdout",
     "output_type": "stream",
     "text": [
      "Loading and preparing results...\n",
      "DONE (t=1.23s)\n",
      "creating index...\n",
      "index created!\n",
      "Running per image evaluation...\n",
      "Evaluate annotation type *bbox*\n",
      "DONE (t=7.06s).\n",
      "Accumulating evaluation results...\n"
     ]
    },
    {
     "name": "stderr",
     "output_type": "stream",
     "text": [
      "2021-05-12 11:21:03,490 - mmdet - INFO - Epoch(val) [16][655]\tbbox_mAP: 0.1240, bbox_mAP_50: 0.1890, bbox_mAP_75: 0.1290, bbox_mAP_s: 0.0280, bbox_mAP_m: 0.1240, bbox_mAP_l: 0.2370, bbox_mAP_copypaste: 0.124 0.189 0.129 0.028 0.124 0.237\n"
     ]
    },
    {
     "name": "stdout",
     "output_type": "stream",
     "text": [
      "DONE (t=1.81s).\n",
      "Average Precision  (AP) @[ IoU=0.50:0.95 | area=   all | maxDets=100 ] = 0.124\n",
      "Average Precision  (AP) @[ IoU=0.50      | area=   all | maxDets=1000 ] = 0.189\n",
      "Average Precision  (AP) @[ IoU=0.75      | area=   all | maxDets=1000 ] = 0.129\n",
      "Average Precision  (AP) @[ IoU=0.50:0.95 | area= small | maxDets=1000 ] = 0.028\n",
      "Average Precision  (AP) @[ IoU=0.50:0.95 | area=medium | maxDets=1000 ] = 0.124\n",
      "Average Precision  (AP) @[ IoU=0.50:0.95 | area= large | maxDets=1000 ] = 0.237\n",
      "Average Recall     (AR) @[ IoU=0.50:0.95 | area=   all | maxDets=100 ] = 0.345\n",
      "Average Recall     (AR) @[ IoU=0.50:0.95 | area=   all | maxDets=300 ] = 0.345\n",
      "Average Recall     (AR) @[ IoU=0.50:0.95 | area=   all | maxDets=1000 ] = 0.345\n",
      "Average Recall     (AR) @[ IoU=0.50:0.95 | area= small | maxDets=1000 ] = 0.098\n",
      "Average Recall     (AR) @[ IoU=0.50:0.95 | area=medium | maxDets=1000 ] = 0.321\n",
      "Average Recall     (AR) @[ IoU=0.50:0.95 | area= large | maxDets=1000 ] = 0.635\n"
     ]
    },
    {
     "name": "stderr",
     "output_type": "stream",
     "text": [
      "2021-05-12 11:21:44,515 - mmdet - INFO - Epoch [17][50/655]\tlr: 1.000e-03, eta: 1:06:20, time: 0.820, data_time: 0.051, memory: 5266, loss_cls: 0.8217, loss_bbox: 0.2384, loss_bbox_rf: 0.2982, loss: 1.3583, grad_norm: 4.0998\n",
      "2021-05-12 11:22:23,346 - mmdet - INFO - Epoch [17][100/655]\tlr: 1.000e-03, eta: 1:05:42, time: 0.777, data_time: 0.007, memory: 5266, loss_cls: 0.7670, loss_bbox: 0.2272, loss_bbox_rf: 0.2856, loss: 1.2797, grad_norm: 3.7167\n",
      "2021-05-12 11:23:01,873 - mmdet - INFO - Epoch [17][150/655]\tlr: 1.000e-03, eta: 1:05:03, time: 0.771, data_time: 0.007, memory: 5266, loss_cls: 0.7442, loss_bbox: 0.2276, loss_bbox_rf: 0.2887, loss: 1.2605, grad_norm: 3.5710\n",
      "2021-05-12 11:23:40,402 - mmdet - INFO - Epoch [17][200/655]\tlr: 1.000e-03, eta: 1:04:25, time: 0.771, data_time: 0.007, memory: 5266, loss_cls: 0.7260, loss_bbox: 0.2390, loss_bbox_rf: 0.3025, loss: 1.2675, grad_norm: 3.4489\n",
      "2021-05-12 11:24:18,890 - mmdet - INFO - Epoch [17][250/655]\tlr: 1.000e-03, eta: 1:03:47, time: 0.770, data_time: 0.007, memory: 5266, loss_cls: 0.7177, loss_bbox: 0.2138, loss_bbox_rf: 0.2680, loss: 1.1995, grad_norm: 3.8804\n",
      "2021-05-12 11:24:57,418 - mmdet - INFO - Epoch [17][300/655]\tlr: 1.000e-03, eta: 1:03:08, time: 0.771, data_time: 0.007, memory: 5266, loss_cls: 0.6960, loss_bbox: 0.2305, loss_bbox_rf: 0.2938, loss: 1.2202, grad_norm: 3.5353\n",
      "2021-05-12 11:25:35,767 - mmdet - INFO - Epoch [17][350/655]\tlr: 1.000e-03, eta: 1:02:30, time: 0.767, data_time: 0.007, memory: 5266, loss_cls: 0.7045, loss_bbox: 0.2141, loss_bbox_rf: 0.2707, loss: 1.1893, grad_norm: 3.5446\n",
      "2021-05-12 11:26:13,992 - mmdet - INFO - Epoch [17][400/655]\tlr: 1.000e-03, eta: 1:01:52, time: 0.764, data_time: 0.007, memory: 5266, loss_cls: 0.7358, loss_bbox: 0.2169, loss_bbox_rf: 0.2737, loss: 1.2263, grad_norm: 3.7137\n",
      "2021-05-12 11:26:52,358 - mmdet - INFO - Epoch [17][450/655]\tlr: 1.000e-03, eta: 1:01:13, time: 0.767, data_time: 0.007, memory: 5266, loss_cls: 0.6735, loss_bbox: 0.2155, loss_bbox_rf: 0.2737, loss: 1.1628, grad_norm: 3.8059\n",
      "2021-05-12 11:27:30,682 - mmdet - INFO - Epoch [17][500/655]\tlr: 1.000e-03, eta: 1:00:35, time: 0.766, data_time: 0.007, memory: 5266, loss_cls: 0.6846, loss_bbox: 0.2094, loss_bbox_rf: 0.2633, loss: 1.1573, grad_norm: 3.8455\n",
      "2021-05-12 11:28:09,161 - mmdet - INFO - Epoch [17][550/655]\tlr: 1.000e-03, eta: 0:59:57, time: 0.770, data_time: 0.007, memory: 5266, loss_cls: 0.6658, loss_bbox: 0.2157, loss_bbox_rf: 0.2737, loss: 1.1552, grad_norm: 3.6797\n",
      "2021-05-12 11:28:47,578 - mmdet - INFO - Epoch [17][600/655]\tlr: 1.000e-03, eta: 0:59:18, time: 0.768, data_time: 0.007, memory: 5266, loss_cls: 0.7047, loss_bbox: 0.2122, loss_bbox_rf: 0.2683, loss: 1.1852, grad_norm: 3.8966\n",
      "2021-05-12 11:29:26,245 - mmdet - INFO - Epoch [17][650/655]\tlr: 1.000e-03, eta: 0:58:40, time: 0.773, data_time: 0.007, memory: 5266, loss_cls: 0.7050, loss_bbox: 0.2098, loss_bbox_rf: 0.2652, loss: 1.1799, grad_norm: 3.8976\n",
      "2021-05-12 11:29:30,156 - mmdet - INFO - Saving checkpoint at 17 epochs\n"
     ]
    },
    {
     "name": "stdout",
     "output_type": "stream",
     "text": [
      "[>>>>>>>>>>>>>>>>>>>>>>>>>>>>>>] 655/655, 9.7 task/s, elapsed: 68s, ETA:     0s"
     ]
    },
    {
     "name": "stderr",
     "output_type": "stream",
     "text": [
      "2021-05-12 11:30:40,469 - mmdet - INFO - Evaluating bbox...\n"
     ]
    },
    {
     "name": "stdout",
     "output_type": "stream",
     "text": [
      "Loading and preparing results...\n",
      "DONE (t=1.21s)\n",
      "creating index...\n",
      "index created!\n",
      "Running per image evaluation...\n",
      "Evaluate annotation type *bbox*\n",
      "DONE (t=6.66s).\n",
      "Accumulating evaluation results...\n"
     ]
    },
    {
     "name": "stderr",
     "output_type": "stream",
     "text": [
      "2021-05-12 11:30:50,026 - mmdet - INFO - Now best checkpoint is epoch_17.pth.Best bbox_mAP_50 is 0.2370\n",
      "2021-05-12 11:30:50,034 - mmdet - INFO - Epoch(val) [17][655]\tbbox_mAP: 0.1620, bbox_mAP_50: 0.2370, bbox_mAP_75: 0.1680, bbox_mAP_s: 0.0340, bbox_mAP_m: 0.1560, bbox_mAP_l: 0.3150, bbox_mAP_copypaste: 0.162 0.237 0.168 0.034 0.156 0.315\n"
     ]
    },
    {
     "name": "stdout",
     "output_type": "stream",
     "text": [
      "DONE (t=1.53s).\n",
      "Average Precision  (AP) @[ IoU=0.50:0.95 | area=   all | maxDets=100 ] = 0.162\n",
      "Average Precision  (AP) @[ IoU=0.50      | area=   all | maxDets=1000 ] = 0.237\n",
      "Average Precision  (AP) @[ IoU=0.75      | area=   all | maxDets=1000 ] = 0.168\n",
      "Average Precision  (AP) @[ IoU=0.50:0.95 | area= small | maxDets=1000 ] = 0.034\n",
      "Average Precision  (AP) @[ IoU=0.50:0.95 | area=medium | maxDets=1000 ] = 0.156\n",
      "Average Precision  (AP) @[ IoU=0.50:0.95 | area= large | maxDets=1000 ] = 0.315\n",
      "Average Recall     (AR) @[ IoU=0.50:0.95 | area=   all | maxDets=100 ] = 0.398\n",
      "Average Recall     (AR) @[ IoU=0.50:0.95 | area=   all | maxDets=300 ] = 0.398\n",
      "Average Recall     (AR) @[ IoU=0.50:0.95 | area=   all | maxDets=1000 ] = 0.398\n",
      "Average Recall     (AR) @[ IoU=0.50:0.95 | area= small | maxDets=1000 ] = 0.106\n",
      "Average Recall     (AR) @[ IoU=0.50:0.95 | area=medium | maxDets=1000 ] = 0.376\n",
      "Average Recall     (AR) @[ IoU=0.50:0.95 | area= large | maxDets=1000 ] = 0.687\n"
     ]
    },
    {
     "name": "stderr",
     "output_type": "stream",
     "text": [
      "2021-05-12 11:31:30,703 - mmdet - INFO - Epoch [18][50/655]\tlr: 1.000e-03, eta: 0:57:57, time: 0.813, data_time: 0.051, memory: 5266, loss_cls: 0.6723, loss_bbox: 0.2051, loss_bbox_rf: 0.2592, loss: 1.1366, grad_norm: 3.7930\n",
      "2021-05-12 11:32:09,226 - mmdet - INFO - Epoch [18][100/655]\tlr: 1.000e-03, eta: 0:57:19, time: 0.770, data_time: 0.007, memory: 5266, loss_cls: 0.6536, loss_bbox: 0.1913, loss_bbox_rf: 0.2409, loss: 1.0859, grad_norm: 3.5985\n",
      "2021-05-12 11:32:48,500 - mmdet - INFO - Epoch [18][150/655]\tlr: 1.000e-03, eta: 0:56:41, time: 0.785, data_time: 0.007, memory: 5266, loss_cls: 0.6853, loss_bbox: 0.2088, loss_bbox_rf: 0.2642, loss: 1.1584, grad_norm: 3.6488\n",
      "2021-05-12 11:33:27,592 - mmdet - INFO - Epoch [18][200/655]\tlr: 1.000e-03, eta: 0:56:03, time: 0.782, data_time: 0.007, memory: 5266, loss_cls: 0.6707, loss_bbox: 0.2017, loss_bbox_rf: 0.2539, loss: 1.1263, grad_norm: 3.4163\n",
      "2021-05-12 11:34:06,109 - mmdet - INFO - Epoch [18][250/655]\tlr: 1.000e-03, eta: 0:55:25, time: 0.770, data_time: 0.007, memory: 5266, loss_cls: 0.6462, loss_bbox: 0.2094, loss_bbox_rf: 0.2657, loss: 1.1213, grad_norm: 3.6154\n",
      "2021-05-12 11:34:44,739 - mmdet - INFO - Epoch [18][300/655]\tlr: 1.000e-03, eta: 0:54:47, time: 0.773, data_time: 0.007, memory: 5266, loss_cls: 0.6349, loss_bbox: 0.2080, loss_bbox_rf: 0.2639, loss: 1.1068, grad_norm: 3.5752\n",
      "2021-05-12 11:35:23,719 - mmdet - INFO - Epoch [18][350/655]\tlr: 1.000e-03, eta: 0:54:08, time: 0.780, data_time: 0.007, memory: 5266, loss_cls: 0.7032, loss_bbox: 0.2184, loss_bbox_rf: 0.2770, loss: 1.1986, grad_norm: 3.7271\n",
      "2021-05-12 11:36:02,225 - mmdet - INFO - Epoch [18][400/655]\tlr: 1.000e-03, eta: 0:53:30, time: 0.770, data_time: 0.007, memory: 5266, loss_cls: 0.6435, loss_bbox: 0.1908, loss_bbox_rf: 0.2403, loss: 1.0746, grad_norm: 3.7463\n",
      "2021-05-12 11:36:40,579 - mmdet - INFO - Epoch [18][450/655]\tlr: 1.000e-03, eta: 0:52:52, time: 0.767, data_time: 0.007, memory: 5266, loss_cls: 0.6586, loss_bbox: 0.2087, loss_bbox_rf: 0.2641, loss: 1.1314, grad_norm: 3.7214\n",
      "2021-05-12 11:37:19,021 - mmdet - INFO - Epoch [18][500/655]\tlr: 1.000e-03, eta: 0:52:13, time: 0.769, data_time: 0.007, memory: 5266, loss_cls: 0.6508, loss_bbox: 0.1943, loss_bbox_rf: 0.2445, loss: 1.0896, grad_norm: 3.7688\n",
      "2021-05-12 11:37:57,408 - mmdet - INFO - Epoch [18][550/655]\tlr: 1.000e-03, eta: 0:51:35, time: 0.768, data_time: 0.007, memory: 5266, loss_cls: 0.6564, loss_bbox: 0.2145, loss_bbox_rf: 0.2730, loss: 1.1440, grad_norm: 3.4684\n",
      "2021-05-12 11:38:35,806 - mmdet - INFO - Epoch [18][600/655]\tlr: 1.000e-03, eta: 0:50:57, time: 0.768, data_time: 0.007, memory: 5266, loss_cls: 0.6387, loss_bbox: 0.1953, loss_bbox_rf: 0.2462, loss: 1.0802, grad_norm: 3.5605\n",
      "2021-05-12 11:39:14,294 - mmdet - INFO - Epoch [18][650/655]\tlr: 1.000e-03, eta: 0:50:18, time: 0.770, data_time: 0.007, memory: 5266, loss_cls: 0.6441, loss_bbox: 0.2062, loss_bbox_rf: 0.2613, loss: 1.1116, grad_norm: 3.6432\n",
      "2021-05-12 11:39:18,221 - mmdet - INFO - Saving checkpoint at 18 epochs\n"
     ]
    },
    {
     "name": "stdout",
     "output_type": "stream",
     "text": [
      "[>>>>>>>>>>>>>>>>>>>>>>>>>>>>>>] 655/655, 9.9 task/s, elapsed: 66s, ETA:     0s"
     ]
    },
    {
     "name": "stderr",
     "output_type": "stream",
     "text": [
      "2021-05-12 11:40:26,982 - mmdet - INFO - Evaluating bbox...\n"
     ]
    },
    {
     "name": "stdout",
     "output_type": "stream",
     "text": [
      "Loading and preparing results...\n",
      "DONE (t=1.19s)\n",
      "creating index...\n",
      "index created!\n",
      "Running per image evaluation...\n",
      "Evaluate annotation type *bbox*\n",
      "DONE (t=6.92s).\n",
      "Accumulating evaluation results...\n"
     ]
    },
    {
     "name": "stderr",
     "output_type": "stream",
     "text": [
      "2021-05-12 11:40:36,716 - mmdet - INFO - Now best checkpoint is epoch_18.pth.Best bbox_mAP_50 is 0.2520\n",
      "2021-05-12 11:40:36,723 - mmdet - INFO - Epoch(val) [18][655]\tbbox_mAP: 0.1730, bbox_mAP_50: 0.2520, bbox_mAP_75: 0.1800, bbox_mAP_s: 0.0360, bbox_mAP_m: 0.1710, bbox_mAP_l: 0.3410, bbox_mAP_copypaste: 0.173 0.252 0.180 0.036 0.171 0.341\n"
     ]
    },
    {
     "name": "stdout",
     "output_type": "stream",
     "text": [
      "DONE (t=1.48s).\n",
      "Average Precision  (AP) @[ IoU=0.50:0.95 | area=   all | maxDets=100 ] = 0.173\n",
      "Average Precision  (AP) @[ IoU=0.50      | area=   all | maxDets=1000 ] = 0.252\n",
      "Average Precision  (AP) @[ IoU=0.75      | area=   all | maxDets=1000 ] = 0.180\n",
      "Average Precision  (AP) @[ IoU=0.50:0.95 | area= small | maxDets=1000 ] = 0.036\n",
      "Average Precision  (AP) @[ IoU=0.50:0.95 | area=medium | maxDets=1000 ] = 0.171\n",
      "Average Precision  (AP) @[ IoU=0.50:0.95 | area= large | maxDets=1000 ] = 0.341\n",
      "Average Recall     (AR) @[ IoU=0.50:0.95 | area=   all | maxDets=100 ] = 0.395\n",
      "Average Recall     (AR) @[ IoU=0.50:0.95 | area=   all | maxDets=300 ] = 0.395\n",
      "Average Recall     (AR) @[ IoU=0.50:0.95 | area=   all | maxDets=1000 ] = 0.395\n",
      "Average Recall     (AR) @[ IoU=0.50:0.95 | area= small | maxDets=1000 ] = 0.105\n",
      "Average Recall     (AR) @[ IoU=0.50:0.95 | area=medium | maxDets=1000 ] = 0.374\n",
      "Average Recall     (AR) @[ IoU=0.50:0.95 | area= large | maxDets=1000 ] = 0.684\n"
     ]
    },
    {
     "name": "stderr",
     "output_type": "stream",
     "text": [
      "2021-05-12 11:41:17,526 - mmdet - INFO - Epoch [19][50/655]\tlr: 1.000e-03, eta: 0:49:36, time: 0.816, data_time: 0.053, memory: 5266, loss_cls: 0.6350, loss_bbox: 0.2110, loss_bbox_rf: 0.2696, loss: 1.1155, grad_norm: 3.2801\n",
      "2021-05-12 11:41:56,164 - mmdet - INFO - Epoch [19][100/655]\tlr: 1.000e-03, eta: 0:48:57, time: 0.773, data_time: 0.008, memory: 5266, loss_cls: 0.6361, loss_bbox: 0.1971, loss_bbox_rf: 0.2503, loss: 1.0836, grad_norm: 3.7215\n",
      "2021-05-12 11:42:34,699 - mmdet - INFO - Epoch [19][150/655]\tlr: 1.000e-03, eta: 0:48:19, time: 0.771, data_time: 0.007, memory: 5266, loss_cls: 0.6495, loss_bbox: 0.2045, loss_bbox_rf: 0.2597, loss: 1.1137, grad_norm: 3.6640\n",
      "2021-05-12 11:43:13,106 - mmdet - INFO - Epoch [19][200/655]\tlr: 1.000e-03, eta: 0:47:41, time: 0.768, data_time: 0.007, memory: 5266, loss_cls: 0.6297, loss_bbox: 0.1921, loss_bbox_rf: 0.2423, loss: 1.0641, grad_norm: 3.7233\n",
      "2021-05-12 11:43:51,606 - mmdet - INFO - Epoch [19][250/655]\tlr: 1.000e-03, eta: 0:47:03, time: 0.770, data_time: 0.007, memory: 5266, loss_cls: 0.6267, loss_bbox: 0.1991, loss_bbox_rf: 0.2519, loss: 1.0777, grad_norm: 3.6588\n",
      "2021-05-12 11:44:30,050 - mmdet - INFO - Epoch [19][300/655]\tlr: 1.000e-03, eta: 0:46:24, time: 0.769, data_time: 0.007, memory: 5266, loss_cls: 0.6526, loss_bbox: 0.1918, loss_bbox_rf: 0.2434, loss: 1.0879, grad_norm: 4.1492\n",
      "2021-05-12 11:45:08,508 - mmdet - INFO - Epoch [19][350/655]\tlr: 1.000e-03, eta: 0:45:46, time: 0.769, data_time: 0.007, memory: 5266, loss_cls: 0.6329, loss_bbox: 0.2040, loss_bbox_rf: 0.2593, loss: 1.0962, grad_norm: 3.6867\n",
      "2021-05-12 11:45:46,960 - mmdet - INFO - Epoch [19][400/655]\tlr: 1.000e-03, eta: 0:45:08, time: 0.769, data_time: 0.007, memory: 5266, loss_cls: 0.6306, loss_bbox: 0.2018, loss_bbox_rf: 0.2565, loss: 1.0889, grad_norm: 3.9493\n",
      "2021-05-12 11:46:25,419 - mmdet - INFO - Epoch [19][450/655]\tlr: 1.000e-03, eta: 0:44:29, time: 0.769, data_time: 0.007, memory: 5266, loss_cls: 0.6164, loss_bbox: 0.1860, loss_bbox_rf: 0.2351, loss: 1.0374, grad_norm: 3.9490\n",
      "2021-05-12 11:47:04,008 - mmdet - INFO - Epoch [19][500/655]\tlr: 1.000e-03, eta: 0:43:51, time: 0.772, data_time: 0.007, memory: 5266, loss_cls: 0.6262, loss_bbox: 0.1916, loss_bbox_rf: 0.2418, loss: 1.0597, grad_norm: 3.7665\n",
      "2021-05-12 11:47:42,470 - mmdet - INFO - Epoch [19][550/655]\tlr: 1.000e-03, eta: 0:43:13, time: 0.769, data_time: 0.007, memory: 5266, loss_cls: 0.6313, loss_bbox: 0.1998, loss_bbox_rf: 0.2528, loss: 1.0839, grad_norm: 3.9138\n",
      "2021-05-12 11:48:20,936 - mmdet - INFO - Epoch [19][600/655]\tlr: 1.000e-03, eta: 0:42:34, time: 0.769, data_time: 0.007, memory: 5266, loss_cls: 0.6086, loss_bbox: 0.1937, loss_bbox_rf: 0.2452, loss: 1.0476, grad_norm: 3.6523\n",
      "2021-05-12 11:48:59,343 - mmdet - INFO - Epoch [19][650/655]\tlr: 1.000e-03, eta: 0:41:56, time: 0.768, data_time: 0.007, memory: 5266, loss_cls: 0.6180, loss_bbox: 0.1925, loss_bbox_rf: 0.2427, loss: 1.0532, grad_norm: 3.7812\n",
      "2021-05-12 11:49:03,284 - mmdet - INFO - Saving checkpoint at 19 epochs\n"
     ]
    },
    {
     "name": "stdout",
     "output_type": "stream",
     "text": [
      "[>>>>>>>>>>>>>>>>>>>>>>>>>>>>>>] 655/655, 9.9 task/s, elapsed: 66s, ETA:     0s"
     ]
    },
    {
     "name": "stderr",
     "output_type": "stream",
     "text": [
      "2021-05-12 11:50:12,579 - mmdet - INFO - Evaluating bbox...\n"
     ]
    },
    {
     "name": "stdout",
     "output_type": "stream",
     "text": [
      "Loading and preparing results...\n",
      "DONE (t=0.76s)\n",
      "creating index...\n",
      "index created!\n",
      "Running per image evaluation...\n",
      "Evaluate annotation type *bbox*\n",
      "DONE (t=7.52s).\n",
      "Accumulating evaluation results...\n"
     ]
    },
    {
     "name": "stderr",
     "output_type": "stream",
     "text": [
      "2021-05-12 11:50:22,496 - mmdet - INFO - Now best checkpoint is epoch_19.pth.Best bbox_mAP_50 is 0.2570\n",
      "2021-05-12 11:50:22,503 - mmdet - INFO - Epoch(val) [19][655]\tbbox_mAP: 0.1780, bbox_mAP_50: 0.2570, bbox_mAP_75: 0.1830, bbox_mAP_s: 0.0360, bbox_mAP_m: 0.1740, bbox_mAP_l: 0.3490, bbox_mAP_copypaste: 0.178 0.257 0.183 0.036 0.174 0.349\n"
     ]
    },
    {
     "name": "stdout",
     "output_type": "stream",
     "text": [
      "DONE (t=1.50s).\n",
      "Average Precision  (AP) @[ IoU=0.50:0.95 | area=   all | maxDets=100 ] = 0.178\n",
      "Average Precision  (AP) @[ IoU=0.50      | area=   all | maxDets=1000 ] = 0.257\n",
      "Average Precision  (AP) @[ IoU=0.75      | area=   all | maxDets=1000 ] = 0.183\n",
      "Average Precision  (AP) @[ IoU=0.50:0.95 | area= small | maxDets=1000 ] = 0.036\n",
      "Average Precision  (AP) @[ IoU=0.50:0.95 | area=medium | maxDets=1000 ] = 0.174\n",
      "Average Precision  (AP) @[ IoU=0.50:0.95 | area= large | maxDets=1000 ] = 0.349\n",
      "Average Recall     (AR) @[ IoU=0.50:0.95 | area=   all | maxDets=100 ] = 0.392\n",
      "Average Recall     (AR) @[ IoU=0.50:0.95 | area=   all | maxDets=300 ] = 0.392\n",
      "Average Recall     (AR) @[ IoU=0.50:0.95 | area=   all | maxDets=1000 ] = 0.392\n",
      "Average Recall     (AR) @[ IoU=0.50:0.95 | area= small | maxDets=1000 ] = 0.106\n",
      "Average Recall     (AR) @[ IoU=0.50:0.95 | area=medium | maxDets=1000 ] = 0.369\n",
      "Average Recall     (AR) @[ IoU=0.50:0.95 | area= large | maxDets=1000 ] = 0.676\n"
     ]
    },
    {
     "name": "stderr",
     "output_type": "stream",
     "text": [
      "2021-05-12 11:51:03,212 - mmdet - INFO - Epoch [20][50/655]\tlr: 1.000e-03, eta: 0:41:13, time: 0.814, data_time: 0.052, memory: 5266, loss_cls: 0.6064, loss_bbox: 0.1842, loss_bbox_rf: 0.2321, loss: 1.0227, grad_norm: 3.7144\n",
      "2021-05-12 11:51:41,700 - mmdet - INFO - Epoch [20][100/655]\tlr: 1.000e-03, eta: 0:40:35, time: 0.770, data_time: 0.008, memory: 5266, loss_cls: 0.5919, loss_bbox: 0.1920, loss_bbox_rf: 0.2438, loss: 1.0277, grad_norm: 3.7518\n",
      "2021-05-12 11:52:20,256 - mmdet - INFO - Epoch [20][150/655]\tlr: 1.000e-03, eta: 0:39:57, time: 0.771, data_time: 0.007, memory: 5266, loss_cls: 0.6006, loss_bbox: 0.1937, loss_bbox_rf: 0.2455, loss: 1.0398, grad_norm: 3.7503\n",
      "2021-05-12 11:52:58,670 - mmdet - INFO - Epoch [20][200/655]\tlr: 1.000e-03, eta: 0:39:18, time: 0.768, data_time: 0.007, memory: 5266, loss_cls: 0.5924, loss_bbox: 0.1943, loss_bbox_rf: 0.2472, loss: 1.0339, grad_norm: 3.4863\n",
      "2021-05-12 11:53:37,449 - mmdet - INFO - Epoch [20][250/655]\tlr: 1.000e-03, eta: 0:38:40, time: 0.776, data_time: 0.008, memory: 5266, loss_cls: 0.5837, loss_bbox: 0.1924, loss_bbox_rf: 0.2446, loss: 1.0207, grad_norm: 3.3432\n",
      "2021-05-12 11:54:16,247 - mmdet - INFO - Epoch [20][300/655]\tlr: 1.000e-03, eta: 0:38:02, time: 0.776, data_time: 0.007, memory: 5266, loss_cls: 0.5947, loss_bbox: 0.1962, loss_bbox_rf: 0.2487, loss: 1.0396, grad_norm: 3.5393\n",
      "2021-05-12 11:54:54,709 - mmdet - INFO - Epoch [20][350/655]\tlr: 1.000e-03, eta: 0:37:24, time: 0.769, data_time: 0.007, memory: 5266, loss_cls: 0.5952, loss_bbox: 0.1839, loss_bbox_rf: 0.2321, loss: 1.0111, grad_norm: 3.8266\n",
      "2021-05-12 11:55:33,066 - mmdet - INFO - Epoch [20][400/655]\tlr: 1.000e-03, eta: 0:36:45, time: 0.767, data_time: 0.007, memory: 5266, loss_cls: 0.6114, loss_bbox: 0.1962, loss_bbox_rf: 0.2499, loss: 1.0574, grad_norm: 4.0230\n",
      "2021-05-12 11:56:11,566 - mmdet - INFO - Epoch [20][450/655]\tlr: 1.000e-03, eta: 0:36:07, time: 0.770, data_time: 0.007, memory: 5266, loss_cls: 0.5993, loss_bbox: 0.1830, loss_bbox_rf: 0.2302, loss: 1.0124, grad_norm: 3.8811\n",
      "2021-05-12 11:56:49,996 - mmdet - INFO - Epoch [20][500/655]\tlr: 1.000e-03, eta: 0:35:28, time: 0.769, data_time: 0.007, memory: 5266, loss_cls: 0.5668, loss_bbox: 0.1863, loss_bbox_rf: 0.2358, loss: 0.9890, grad_norm: 3.7323\n",
      "2021-05-12 11:57:28,605 - mmdet - INFO - Epoch [20][550/655]\tlr: 1.000e-03, eta: 0:34:50, time: 0.772, data_time: 0.007, memory: 5266, loss_cls: 0.5710, loss_bbox: 0.1765, loss_bbox_rf: 0.2228, loss: 0.9703, grad_norm: 4.0284\n",
      "2021-05-12 11:58:07,061 - mmdet - INFO - Epoch [20][600/655]\tlr: 1.000e-03, eta: 0:34:12, time: 0.769, data_time: 0.007, memory: 5266, loss_cls: 0.5921, loss_bbox: 0.1884, loss_bbox_rf: 0.2381, loss: 1.0186, grad_norm: 4.0105\n",
      "2021-05-12 11:58:45,468 - mmdet - INFO - Epoch [20][650/655]\tlr: 1.000e-03, eta: 0:33:33, time: 0.768, data_time: 0.007, memory: 5266, loss_cls: 0.5709, loss_bbox: 0.1860, loss_bbox_rf: 0.2363, loss: 0.9932, grad_norm: 3.7212\n",
      "2021-05-12 11:58:49,376 - mmdet - INFO - Saving checkpoint at 20 epochs\n"
     ]
    },
    {
     "name": "stdout",
     "output_type": "stream",
     "text": [
      "[>>>>>>>>>>>>>>>>>>>>>>>>>>>>>] 655/655, 10.1 task/s, elapsed: 65s, ETA:     0s"
     ]
    },
    {
     "name": "stderr",
     "output_type": "stream",
     "text": [
      "2021-05-12 11:59:56,937 - mmdet - INFO - Evaluating bbox...\n"
     ]
    },
    {
     "name": "stdout",
     "output_type": "stream",
     "text": [
      "Loading and preparing results...\n",
      "DONE (t=1.17s)\n",
      "creating index...\n",
      "index created!\n",
      "Running per image evaluation...\n",
      "Evaluate annotation type *bbox*\n",
      "DONE (t=6.84s).\n",
      "Accumulating evaluation results...\n"
     ]
    },
    {
     "name": "stderr",
     "output_type": "stream",
     "text": [
      "2021-05-12 12:00:06,549 - mmdet - INFO - Now best checkpoint is epoch_20.pth.Best bbox_mAP_50 is 0.2640\n",
      "2021-05-12 12:00:06,558 - mmdet - INFO - Epoch(val) [20][655]\tbbox_mAP: 0.1820, bbox_mAP_50: 0.2640, bbox_mAP_75: 0.1910, bbox_mAP_s: 0.0350, bbox_mAP_m: 0.1790, bbox_mAP_l: 0.3620, bbox_mAP_copypaste: 0.182 0.264 0.191 0.035 0.179 0.362\n"
     ]
    },
    {
     "name": "stdout",
     "output_type": "stream",
     "text": [
      "DONE (t=1.46s).\n",
      "Average Precision  (AP) @[ IoU=0.50:0.95 | area=   all | maxDets=100 ] = 0.182\n",
      "Average Precision  (AP) @[ IoU=0.50      | area=   all | maxDets=1000 ] = 0.264\n",
      "Average Precision  (AP) @[ IoU=0.75      | area=   all | maxDets=1000 ] = 0.191\n",
      "Average Precision  (AP) @[ IoU=0.50:0.95 | area= small | maxDets=1000 ] = 0.035\n",
      "Average Precision  (AP) @[ IoU=0.50:0.95 | area=medium | maxDets=1000 ] = 0.179\n",
      "Average Precision  (AP) @[ IoU=0.50:0.95 | area= large | maxDets=1000 ] = 0.362\n",
      "Average Recall     (AR) @[ IoU=0.50:0.95 | area=   all | maxDets=100 ] = 0.397\n",
      "Average Recall     (AR) @[ IoU=0.50:0.95 | area=   all | maxDets=300 ] = 0.397\n",
      "Average Recall     (AR) @[ IoU=0.50:0.95 | area=   all | maxDets=1000 ] = 0.397\n",
      "Average Recall     (AR) @[ IoU=0.50:0.95 | area= small | maxDets=1000 ] = 0.106\n",
      "Average Recall     (AR) @[ IoU=0.50:0.95 | area=medium | maxDets=1000 ] = 0.381\n",
      "Average Recall     (AR) @[ IoU=0.50:0.95 | area= large | maxDets=1000 ] = 0.675\n"
     ]
    },
    {
     "name": "stderr",
     "output_type": "stream",
     "text": [
      "2021-05-12 12:00:47,423 - mmdet - INFO - Epoch [21][50/655]\tlr: 1.000e-03, eta: 0:32:51, time: 0.817, data_time: 0.053, memory: 5266, loss_cls: 0.5551, loss_bbox: 0.1775, loss_bbox_rf: 0.2245, loss: 0.9571, grad_norm: 3.4050\n",
      "2021-05-12 12:01:26,195 - mmdet - INFO - Epoch [21][100/655]\tlr: 1.000e-03, eta: 0:32:13, time: 0.775, data_time: 0.008, memory: 5266, loss_cls: 0.5634, loss_bbox: 0.1953, loss_bbox_rf: 0.2469, loss: 1.0056, grad_norm: 3.5146\n",
      "2021-05-12 12:02:04,699 - mmdet - INFO - Epoch [21][150/655]\tlr: 1.000e-03, eta: 0:31:34, time: 0.770, data_time: 0.007, memory: 5266, loss_cls: 0.5877, loss_bbox: 0.1882, loss_bbox_rf: 0.2385, loss: 1.0144, grad_norm: 3.7542\n",
      "2021-05-12 12:02:43,284 - mmdet - INFO - Epoch [21][200/655]\tlr: 1.000e-03, eta: 0:30:56, time: 0.772, data_time: 0.008, memory: 5266, loss_cls: 0.6144, loss_bbox: 0.1857, loss_bbox_rf: 0.2352, loss: 1.0353, grad_norm: 4.4170\n",
      "2021-05-12 12:03:21,971 - mmdet - INFO - Epoch [21][250/655]\tlr: 1.000e-03, eta: 0:30:18, time: 0.774, data_time: 0.007, memory: 5266, loss_cls: 0.5767, loss_bbox: 0.1980, loss_bbox_rf: 0.2518, loss: 1.0265, grad_norm: 3.8849\n",
      "2021-05-12 12:04:00,347 - mmdet - INFO - Epoch [21][300/655]\tlr: 1.000e-03, eta: 0:29:39, time: 0.768, data_time: 0.007, memory: 5266, loss_cls: 0.5605, loss_bbox: 0.1813, loss_bbox_rf: 0.2299, loss: 0.9716, grad_norm: 3.7812\n",
      "2021-05-12 12:04:38,867 - mmdet - INFO - Epoch [21][350/655]\tlr: 1.000e-03, eta: 0:29:01, time: 0.770, data_time: 0.007, memory: 5266, loss_cls: 0.5475, loss_bbox: 0.1814, loss_bbox_rf: 0.2296, loss: 0.9585, grad_norm: 3.9919\n",
      "2021-05-12 12:05:17,360 - mmdet - INFO - Epoch [21][400/655]\tlr: 1.000e-03, eta: 0:28:23, time: 0.770, data_time: 0.007, memory: 5266, loss_cls: 0.5510, loss_bbox: 0.1840, loss_bbox_rf: 0.2340, loss: 0.9690, grad_norm: 3.7737\n",
      "2021-05-12 12:05:56,592 - mmdet - INFO - Epoch [21][450/655]\tlr: 1.000e-03, eta: 0:27:45, time: 0.785, data_time: 0.008, memory: 5266, loss_cls: 0.5826, loss_bbox: 0.1833, loss_bbox_rf: 0.2317, loss: 0.9975, grad_norm: 4.0905\n",
      "2021-05-12 12:06:34,920 - mmdet - INFO - Epoch [21][500/655]\tlr: 1.000e-03, eta: 0:27:06, time: 0.767, data_time: 0.007, memory: 5266, loss_cls: 0.5446, loss_bbox: 0.1844, loss_bbox_rf: 0.2341, loss: 0.9631, grad_norm: 3.8550\n",
      "2021-05-12 12:07:13,273 - mmdet - INFO - Epoch [21][550/655]\tlr: 1.000e-03, eta: 0:26:28, time: 0.767, data_time: 0.007, memory: 5266, loss_cls: 0.5766, loss_bbox: 0.1865, loss_bbox_rf: 0.2370, loss: 1.0001, grad_norm: 3.7316\n",
      "2021-05-12 12:07:51,780 - mmdet - INFO - Epoch [21][600/655]\tlr: 1.000e-03, eta: 0:25:49, time: 0.770, data_time: 0.007, memory: 5266, loss_cls: 0.5371, loss_bbox: 0.1773, loss_bbox_rf: 0.2239, loss: 0.9383, grad_norm: 4.3440\n",
      "2021-05-12 12:08:30,148 - mmdet - INFO - Epoch [21][650/655]\tlr: 1.000e-03, eta: 0:25:11, time: 0.767, data_time: 0.007, memory: 5266, loss_cls: 0.5682, loss_bbox: 0.1791, loss_bbox_rf: 0.2252, loss: 0.9725, grad_norm: 4.0449\n",
      "2021-05-12 12:08:34,123 - mmdet - INFO - Saving checkpoint at 21 epochs\n"
     ]
    },
    {
     "name": "stdout",
     "output_type": "stream",
     "text": [
      "[>>>>>>>>>>>>>>>>>>>>>>>>>>>>>] 655/655, 10.0 task/s, elapsed: 66s, ETA:     0s"
     ]
    },
    {
     "name": "stderr",
     "output_type": "stream",
     "text": [
      "2021-05-12 12:09:42,833 - mmdet - INFO - Evaluating bbox...\n"
     ]
    },
    {
     "name": "stdout",
     "output_type": "stream",
     "text": [
      "Loading and preparing results...\n",
      "DONE (t=0.69s)\n",
      "creating index...\n",
      "index created!\n",
      "Running per image evaluation...\n",
      "Evaluate annotation type *bbox*\n",
      "DONE (t=7.07s).\n",
      "Accumulating evaluation results...\n"
     ]
    },
    {
     "name": "stderr",
     "output_type": "stream",
     "text": [
      "2021-05-12 12:09:52,024 - mmdet - INFO - Now best checkpoint is epoch_21.pth.Best bbox_mAP_50 is 0.2760\n",
      "2021-05-12 12:09:52,033 - mmdet - INFO - Epoch(val) [21][655]\tbbox_mAP: 0.1900, bbox_mAP_50: 0.2760, bbox_mAP_75: 0.1960, bbox_mAP_s: 0.0340, bbox_mAP_m: 0.1840, bbox_mAP_l: 0.4100, bbox_mAP_copypaste: 0.190 0.276 0.196 0.034 0.184 0.410\n"
     ]
    },
    {
     "name": "stdout",
     "output_type": "stream",
     "text": [
      "DONE (t=1.31s).\n",
      "Average Precision  (AP) @[ IoU=0.50:0.95 | area=   all | maxDets=100 ] = 0.190\n",
      "Average Precision  (AP) @[ IoU=0.50      | area=   all | maxDets=1000 ] = 0.276\n",
      "Average Precision  (AP) @[ IoU=0.75      | area=   all | maxDets=1000 ] = 0.196\n",
      "Average Precision  (AP) @[ IoU=0.50:0.95 | area= small | maxDets=1000 ] = 0.034\n",
      "Average Precision  (AP) @[ IoU=0.50:0.95 | area=medium | maxDets=1000 ] = 0.184\n",
      "Average Precision  (AP) @[ IoU=0.50:0.95 | area= large | maxDets=1000 ] = 0.410\n",
      "Average Recall     (AR) @[ IoU=0.50:0.95 | area=   all | maxDets=100 ] = 0.392\n",
      "Average Recall     (AR) @[ IoU=0.50:0.95 | area=   all | maxDets=300 ] = 0.392\n",
      "Average Recall     (AR) @[ IoU=0.50:0.95 | area=   all | maxDets=1000 ] = 0.392\n",
      "Average Recall     (AR) @[ IoU=0.50:0.95 | area= small | maxDets=1000 ] = 0.105\n",
      "Average Recall     (AR) @[ IoU=0.50:0.95 | area=medium | maxDets=1000 ] = 0.375\n",
      "Average Recall     (AR) @[ IoU=0.50:0.95 | area= large | maxDets=1000 ] = 0.674\n"
     ]
    },
    {
     "name": "stderr",
     "output_type": "stream",
     "text": [
      "2021-05-12 12:10:32,974 - mmdet - INFO - Epoch [22][50/655]\tlr: 1.000e-03, eta: 0:24:29, time: 0.819, data_time: 0.052, memory: 5266, loss_cls: 0.5390, loss_bbox: 0.1762, loss_bbox_rf: 0.2226, loss: 0.9377, grad_norm: 3.8243\n",
      "2021-05-12 12:11:11,525 - mmdet - INFO - Epoch [22][100/655]\tlr: 1.000e-03, eta: 0:23:50, time: 0.771, data_time: 0.007, memory: 5266, loss_cls: 0.5336, loss_bbox: 0.1841, loss_bbox_rf: 0.2341, loss: 0.9517, grad_norm: 3.5616\n",
      "2021-05-12 12:11:50,028 - mmdet - INFO - Epoch [22][150/655]\tlr: 1.000e-03, eta: 0:23:12, time: 0.770, data_time: 0.008, memory: 5266, loss_cls: 0.5547, loss_bbox: 0.1800, loss_bbox_rf: 0.2278, loss: 0.9626, grad_norm: 3.9016\n",
      "2021-05-12 12:12:28,954 - mmdet - INFO - Epoch [22][200/655]\tlr: 1.000e-03, eta: 0:22:34, time: 0.779, data_time: 0.008, memory: 5266, loss_cls: 0.5527, loss_bbox: 0.1778, loss_bbox_rf: 0.2250, loss: 0.9554, grad_norm: 3.9272\n",
      "2021-05-12 12:13:07,653 - mmdet - INFO - Epoch [22][250/655]\tlr: 1.000e-03, eta: 0:21:55, time: 0.774, data_time: 0.007, memory: 5266, loss_cls: 0.5716, loss_bbox: 0.1768, loss_bbox_rf: 0.2223, loss: 0.9707, grad_norm: 4.1464\n",
      "2021-05-12 12:13:46,099 - mmdet - INFO - Epoch [22][300/655]\tlr: 1.000e-03, eta: 0:21:17, time: 0.769, data_time: 0.007, memory: 5266, loss_cls: 0.5166, loss_bbox: 0.1681, loss_bbox_rf: 0.2111, loss: 0.8959, grad_norm: 3.9744\n",
      "2021-05-12 12:14:24,539 - mmdet - INFO - Epoch [22][350/655]\tlr: 1.000e-03, eta: 0:20:39, time: 0.769, data_time: 0.007, memory: 5266, loss_cls: 0.5494, loss_bbox: 0.1866, loss_bbox_rf: 0.2357, loss: 0.9717, grad_norm: 4.1048\n",
      "2021-05-12 12:15:03,292 - mmdet - INFO - Epoch [22][400/655]\tlr: 1.000e-03, eta: 0:20:00, time: 0.775, data_time: 0.007, memory: 5266, loss_cls: 0.5269, loss_bbox: 0.1860, loss_bbox_rf: 0.2369, loss: 0.9497, grad_norm: 3.7462\n",
      "2021-05-12 12:15:41,991 - mmdet - INFO - Epoch [22][450/655]\tlr: 1.000e-03, eta: 0:19:22, time: 0.774, data_time: 0.007, memory: 5266, loss_cls: 0.5452, loss_bbox: 0.1856, loss_bbox_rf: 0.2359, loss: 0.9667, grad_norm: 3.8263\n",
      "2021-05-12 12:16:20,567 - mmdet - INFO - Epoch [22][500/655]\tlr: 1.000e-03, eta: 0:18:44, time: 0.772, data_time: 0.007, memory: 5266, loss_cls: 0.5531, loss_bbox: 0.1803, loss_bbox_rf: 0.2274, loss: 0.9608, grad_norm: 4.0343\n",
      "2021-05-12 12:16:59,524 - mmdet - INFO - Epoch [22][550/655]\tlr: 1.000e-03, eta: 0:18:05, time: 0.779, data_time: 0.007, memory: 5266, loss_cls: 0.5277, loss_bbox: 0.1753, loss_bbox_rf: 0.2211, loss: 0.9242, grad_norm: 3.8976\n",
      "2021-05-12 12:17:38,132 - mmdet - INFO - Epoch [22][600/655]\tlr: 1.000e-03, eta: 0:17:27, time: 0.772, data_time: 0.007, memory: 5266, loss_cls: 0.5427, loss_bbox: 0.1727, loss_bbox_rf: 0.2191, loss: 0.9346, grad_norm: 4.2690\n",
      "2021-05-12 12:18:16,931 - mmdet - INFO - Epoch [22][650/655]\tlr: 1.000e-03, eta: 0:16:49, time: 0.776, data_time: 0.008, memory: 5266, loss_cls: 0.5295, loss_bbox: 0.1702, loss_bbox_rf: 0.2142, loss: 0.9139, grad_norm: 4.0829\n",
      "2021-05-12 12:18:20,904 - mmdet - INFO - Saving checkpoint at 22 epochs\n"
     ]
    },
    {
     "name": "stdout",
     "output_type": "stream",
     "text": [
      "[>>>>>>>>>>>>>>>>>>>>>>>>>>>>>>] 655/655, 9.9 task/s, elapsed: 66s, ETA:     0s"
     ]
    },
    {
     "name": "stderr",
     "output_type": "stream",
     "text": [
      "2021-05-12 12:19:29,520 - mmdet - INFO - Evaluating bbox...\n"
     ]
    },
    {
     "name": "stdout",
     "output_type": "stream",
     "text": [
      "Loading and preparing results...\n",
      "DONE (t=0.65s)\n",
      "creating index...\n",
      "index created!\n",
      "Running per image evaluation...\n",
      "Evaluate annotation type *bbox*\n",
      "DONE (t=7.02s).\n",
      "Accumulating evaluation results...\n"
     ]
    },
    {
     "name": "stderr",
     "output_type": "stream",
     "text": [
      "2021-05-12 12:19:38,662 - mmdet - INFO - Now best checkpoint is epoch_22.pth.Best bbox_mAP_50 is 0.2770\n",
      "2021-05-12 12:19:38,669 - mmdet - INFO - Epoch(val) [22][655]\tbbox_mAP: 0.1900, bbox_mAP_50: 0.2770, bbox_mAP_75: 0.1950, bbox_mAP_s: 0.0340, bbox_mAP_m: 0.1870, bbox_mAP_l: 0.3730, bbox_mAP_copypaste: 0.190 0.277 0.195 0.034 0.187 0.373\n"
     ]
    },
    {
     "name": "stdout",
     "output_type": "stream",
     "text": [
      "DONE (t=1.34s).\n",
      "Average Precision  (AP) @[ IoU=0.50:0.95 | area=   all | maxDets=100 ] = 0.190\n",
      "Average Precision  (AP) @[ IoU=0.50      | area=   all | maxDets=1000 ] = 0.277\n",
      "Average Precision  (AP) @[ IoU=0.75      | area=   all | maxDets=1000 ] = 0.195\n",
      "Average Precision  (AP) @[ IoU=0.50:0.95 | area= small | maxDets=1000 ] = 0.034\n",
      "Average Precision  (AP) @[ IoU=0.50:0.95 | area=medium | maxDets=1000 ] = 0.187\n",
      "Average Precision  (AP) @[ IoU=0.50:0.95 | area= large | maxDets=1000 ] = 0.373\n",
      "Average Recall     (AR) @[ IoU=0.50:0.95 | area=   all | maxDets=100 ] = 0.398\n",
      "Average Recall     (AR) @[ IoU=0.50:0.95 | area=   all | maxDets=300 ] = 0.398\n",
      "Average Recall     (AR) @[ IoU=0.50:0.95 | area=   all | maxDets=1000 ] = 0.398\n",
      "Average Recall     (AR) @[ IoU=0.50:0.95 | area= small | maxDets=1000 ] = 0.102\n",
      "Average Recall     (AR) @[ IoU=0.50:0.95 | area=medium | maxDets=1000 ] = 0.397\n",
      "Average Recall     (AR) @[ IoU=0.50:0.95 | area= large | maxDets=1000 ] = 0.662\n"
     ]
    },
    {
     "name": "stderr",
     "output_type": "stream",
     "text": [
      "2021-05-12 12:20:19,573 - mmdet - INFO - Epoch [23][50/655]\tlr: 1.000e-04, eta: 0:16:06, time: 0.818, data_time: 0.053, memory: 5266, loss_cls: 0.5044, loss_bbox: 0.1731, loss_bbox_rf: 0.2198, loss: 0.8973, grad_norm: 3.4974\n",
      "2021-05-12 12:20:58,026 - mmdet - INFO - Epoch [23][100/655]\tlr: 1.000e-04, eta: 0:15:28, time: 0.769, data_time: 0.007, memory: 5266, loss_cls: 0.5400, loss_bbox: 0.1723, loss_bbox_rf: 0.2196, loss: 0.9319, grad_norm: 3.6319\n",
      "2021-05-12 12:21:36,647 - mmdet - INFO - Epoch [23][150/655]\tlr: 1.000e-04, eta: 0:14:50, time: 0.772, data_time: 0.007, memory: 5266, loss_cls: 0.4974, loss_bbox: 0.1694, loss_bbox_rf: 0.2157, loss: 0.8825, grad_norm: 3.5252\n",
      "2021-05-12 12:22:15,095 - mmdet - INFO - Epoch [23][200/655]\tlr: 1.000e-04, eta: 0:14:11, time: 0.769, data_time: 0.007, memory: 5266, loss_cls: 0.5282, loss_bbox: 0.1818, loss_bbox_rf: 0.2306, loss: 0.9406, grad_norm: 3.7136\n",
      "2021-05-12 12:22:53,651 - mmdet - INFO - Epoch [23][250/655]\tlr: 1.000e-04, eta: 0:13:33, time: 0.771, data_time: 0.007, memory: 5266, loss_cls: 0.4982, loss_bbox: 0.1661, loss_bbox_rf: 0.2121, loss: 0.8764, grad_norm: 3.7806\n",
      "2021-05-12 12:23:32,009 - mmdet - INFO - Epoch [23][300/655]\tlr: 1.000e-04, eta: 0:12:55, time: 0.767, data_time: 0.007, memory: 5266, loss_cls: 0.5067, loss_bbox: 0.1697, loss_bbox_rf: 0.2155, loss: 0.8919, grad_norm: 3.5347\n",
      "2021-05-12 12:24:10,387 - mmdet - INFO - Epoch [23][350/655]\tlr: 1.000e-04, eta: 0:12:16, time: 0.768, data_time: 0.007, memory: 5266, loss_cls: 0.5113, loss_bbox: 0.1656, loss_bbox_rf: 0.2092, loss: 0.8861, grad_norm: 3.7369\n",
      "2021-05-12 12:24:48,837 - mmdet - INFO - Epoch [23][400/655]\tlr: 1.000e-04, eta: 0:11:38, time: 0.769, data_time: 0.007, memory: 5266, loss_cls: 0.5121, loss_bbox: 0.1759, loss_bbox_rf: 0.2230, loss: 0.9110, grad_norm: 3.4986\n",
      "2021-05-12 12:25:27,254 - mmdet - INFO - Epoch [23][450/655]\tlr: 1.000e-04, eta: 0:10:59, time: 0.768, data_time: 0.007, memory: 5266, loss_cls: 0.4921, loss_bbox: 0.1631, loss_bbox_rf: 0.2069, loss: 0.8620, grad_norm: 3.6131\n",
      "2021-05-12 12:26:05,721 - mmdet - INFO - Epoch [23][500/655]\tlr: 1.000e-04, eta: 0:10:21, time: 0.769, data_time: 0.007, memory: 5266, loss_cls: 0.5245, loss_bbox: 0.1756, loss_bbox_rf: 0.2238, loss: 0.9239, grad_norm: 3.6648\n",
      "2021-05-12 12:26:44,223 - mmdet - INFO - Epoch [23][550/655]\tlr: 1.000e-04, eta: 0:09:43, time: 0.770, data_time: 0.007, memory: 5266, loss_cls: 0.5192, loss_bbox: 0.1817, loss_bbox_rf: 0.2313, loss: 0.9322, grad_norm: 3.5027\n",
      "2021-05-12 12:27:22,730 - mmdet - INFO - Epoch [23][600/655]\tlr: 1.000e-04, eta: 0:09:04, time: 0.770, data_time: 0.007, memory: 5266, loss_cls: 0.5046, loss_bbox: 0.1702, loss_bbox_rf: 0.2163, loss: 0.8911, grad_norm: 3.8822\n",
      "2021-05-12 12:28:01,252 - mmdet - INFO - Epoch [23][650/655]\tlr: 1.000e-04, eta: 0:08:26, time: 0.770, data_time: 0.007, memory: 5266, loss_cls: 0.4841, loss_bbox: 0.1581, loss_bbox_rf: 0.2003, loss: 0.8425, grad_norm: 3.4940\n",
      "2021-05-12 12:28:05,184 - mmdet - INFO - Saving checkpoint at 23 epochs\n"
     ]
    },
    {
     "name": "stdout",
     "output_type": "stream",
     "text": [
      "[>>>>>>>>>>>>>>>>>>>>>>>>>>>>>>] 655/655, 9.7 task/s, elapsed: 68s, ETA:     0s"
     ]
    },
    {
     "name": "stderr",
     "output_type": "stream",
     "text": [
      "2021-05-12 12:29:15,852 - mmdet - INFO - Evaluating bbox...\n"
     ]
    },
    {
     "name": "stdout",
     "output_type": "stream",
     "text": [
      "Loading and preparing results...\n",
      "DONE (t=0.69s)\n",
      "creating index...\n",
      "index created!\n",
      "Running per image evaluation...\n",
      "Evaluate annotation type *bbox*\n",
      "DONE (t=6.80s).\n",
      "Accumulating evaluation results...\n"
     ]
    },
    {
     "name": "stderr",
     "output_type": "stream",
     "text": [
      "2021-05-12 12:29:24,835 - mmdet - INFO - Epoch(val) [23][655]\tbbox_mAP: 0.1910, bbox_mAP_50: 0.2770, bbox_mAP_75: 0.1970, bbox_mAP_s: 0.0340, bbox_mAP_m: 0.1850, bbox_mAP_l: 0.3790, bbox_mAP_copypaste: 0.191 0.277 0.197 0.034 0.185 0.379\n"
     ]
    },
    {
     "name": "stdout",
     "output_type": "stream",
     "text": [
      "DONE (t=1.36s).\n",
      "Average Precision  (AP) @[ IoU=0.50:0.95 | area=   all | maxDets=100 ] = 0.191\n",
      "Average Precision  (AP) @[ IoU=0.50      | area=   all | maxDets=1000 ] = 0.277\n",
      "Average Precision  (AP) @[ IoU=0.75      | area=   all | maxDets=1000 ] = 0.197\n",
      "Average Precision  (AP) @[ IoU=0.50:0.95 | area= small | maxDets=1000 ] = 0.034\n",
      "Average Precision  (AP) @[ IoU=0.50:0.95 | area=medium | maxDets=1000 ] = 0.185\n",
      "Average Precision  (AP) @[ IoU=0.50:0.95 | area= large | maxDets=1000 ] = 0.379\n",
      "Average Recall     (AR) @[ IoU=0.50:0.95 | area=   all | maxDets=100 ] = 0.398\n",
      "Average Recall     (AR) @[ IoU=0.50:0.95 | area=   all | maxDets=300 ] = 0.398\n",
      "Average Recall     (AR) @[ IoU=0.50:0.95 | area=   all | maxDets=1000 ] = 0.398\n",
      "Average Recall     (AR) @[ IoU=0.50:0.95 | area= small | maxDets=1000 ] = 0.105\n",
      "Average Recall     (AR) @[ IoU=0.50:0.95 | area=medium | maxDets=1000 ] = 0.389\n",
      "Average Recall     (AR) @[ IoU=0.50:0.95 | area= large | maxDets=1000 ] = 0.669\n"
     ]
    },
    {
     "name": "stderr",
     "output_type": "stream",
     "text": [
      "2021-05-12 12:30:06,001 - mmdet - INFO - Epoch [24][50/655]\tlr: 1.000e-04, eta: 0:07:44, time: 0.823, data_time: 0.053, memory: 5266, loss_cls: 0.5114, loss_bbox: 0.1742, loss_bbox_rf: 0.2226, loss: 0.9082, grad_norm: 3.9044\n",
      "2021-05-12 12:30:44,291 - mmdet - INFO - Epoch [24][100/655]\tlr: 1.000e-04, eta: 0:07:05, time: 0.766, data_time: 0.007, memory: 5266, loss_cls: 0.5291, loss_bbox: 0.1862, loss_bbox_rf: 0.2367, loss: 0.9520, grad_norm: 3.6681\n",
      "2021-05-12 12:31:22,662 - mmdet - INFO - Epoch [24][150/655]\tlr: 1.000e-04, eta: 0:06:27, time: 0.767, data_time: 0.007, memory: 5266, loss_cls: 0.5114, loss_bbox: 0.1701, loss_bbox_rf: 0.2162, loss: 0.8977, grad_norm: 3.7375\n",
      "2021-05-12 12:32:01,210 - mmdet - INFO - Epoch [24][200/655]\tlr: 1.000e-04, eta: 0:05:49, time: 0.771, data_time: 0.007, memory: 5266, loss_cls: 0.5086, loss_bbox: 0.1804, loss_bbox_rf: 0.2309, loss: 0.9200, grad_norm: 3.3941\n",
      "2021-05-12 12:32:39,660 - mmdet - INFO - Epoch [24][250/655]\tlr: 1.000e-04, eta: 0:05:10, time: 0.769, data_time: 0.007, memory: 5266, loss_cls: 0.4966, loss_bbox: 0.1639, loss_bbox_rf: 0.2068, loss: 0.8673, grad_norm: 3.9092\n",
      "2021-05-12 12:33:18,250 - mmdet - INFO - Epoch [24][300/655]\tlr: 1.000e-04, eta: 0:04:32, time: 0.772, data_time: 0.007, memory: 5266, loss_cls: 0.5094, loss_bbox: 0.1708, loss_bbox_rf: 0.2187, loss: 0.8989, grad_norm: 3.7181\n",
      "2021-05-12 12:33:56,851 - mmdet - INFO - Epoch [24][350/655]\tlr: 1.000e-04, eta: 0:03:54, time: 0.772, data_time: 0.007, memory: 5266, loss_cls: 0.4973, loss_bbox: 0.1637, loss_bbox_rf: 0.2069, loss: 0.8679, grad_norm: 3.5941\n",
      "2021-05-12 12:34:35,385 - mmdet - INFO - Epoch [24][400/655]\tlr: 1.000e-04, eta: 0:03:15, time: 0.771, data_time: 0.007, memory: 5266, loss_cls: 0.5128, loss_bbox: 0.1732, loss_bbox_rf: 0.2207, loss: 0.9067, grad_norm: 3.6354\n",
      "2021-05-12 12:35:13,890 - mmdet - INFO - Epoch [24][450/655]\tlr: 1.000e-04, eta: 0:02:37, time: 0.770, data_time: 0.007, memory: 5266, loss_cls: 0.5041, loss_bbox: 0.1634, loss_bbox_rf: 0.2073, loss: 0.8748, grad_norm: 3.5243\n",
      "2021-05-12 12:35:52,537 - mmdet - INFO - Epoch [24][500/655]\tlr: 1.000e-04, eta: 0:01:58, time: 0.773, data_time: 0.007, memory: 5266, loss_cls: 0.4993, loss_bbox: 0.1644, loss_bbox_rf: 0.2091, loss: 0.8728, grad_norm: 3.3849\n",
      "2021-05-12 12:36:31,078 - mmdet - INFO - Epoch [24][550/655]\tlr: 1.000e-04, eta: 0:01:20, time: 0.771, data_time: 0.007, memory: 5266, loss_cls: 0.5094, loss_bbox: 0.1776, loss_bbox_rf: 0.2259, loss: 0.9130, grad_norm: 3.5147\n",
      "2021-05-12 12:37:09,665 - mmdet - INFO - Epoch [24][600/655]\tlr: 1.000e-04, eta: 0:00:42, time: 0.772, data_time: 0.007, memory: 5266, loss_cls: 0.4871, loss_bbox: 0.1623, loss_bbox_rf: 0.2058, loss: 0.8552, grad_norm: 3.3797\n",
      "2021-05-12 12:37:48,219 - mmdet - INFO - Epoch [24][650/655]\tlr: 1.000e-04, eta: 0:00:03, time: 0.771, data_time: 0.007, memory: 5266, loss_cls: 0.5135, loss_bbox: 0.1732, loss_bbox_rf: 0.2199, loss: 0.9066, grad_norm: 3.7759\n",
      "2021-05-12 12:37:52,183 - mmdet - INFO - Saving checkpoint at 24 epochs\n"
     ]
    },
    {
     "name": "stdout",
     "output_type": "stream",
     "text": [
      "[>>>>>>>>>>>>>>>>>>>>>>>>>>>>>>] 655/655, 9.9 task/s, elapsed: 66s, ETA:     0s"
     ]
    },
    {
     "name": "stderr",
     "output_type": "stream",
     "text": [
      "2021-05-12 12:39:01,177 - mmdet - INFO - Evaluating bbox...\n"
     ]
    },
    {
     "name": "stdout",
     "output_type": "stream",
     "text": [
      "Loading and preparing results...\n",
      "DONE (t=0.70s)\n",
      "creating index...\n",
      "index created!\n",
      "Running per image evaluation...\n",
      "Evaluate annotation type *bbox*\n",
      "DONE (t=7.05s).\n",
      "Accumulating evaluation results...\n"
     ]
    },
    {
     "name": "stderr",
     "output_type": "stream",
     "text": [
      "2021-05-12 12:39:10,371 - mmdet - INFO - Epoch(val) [24][655]\tbbox_mAP: 0.1900, bbox_mAP_50: 0.2770, bbox_mAP_75: 0.1960, bbox_mAP_s: 0.0330, bbox_mAP_m: 0.1830, bbox_mAP_l: 0.3800, bbox_mAP_copypaste: 0.190 0.277 0.196 0.033 0.183 0.380\n"
     ]
    },
    {
     "name": "stdout",
     "output_type": "stream",
     "text": [
      "DONE (t=1.32s).\n",
      "Average Precision  (AP) @[ IoU=0.50:0.95 | area=   all | maxDets=100 ] = 0.190\n",
      "Average Precision  (AP) @[ IoU=0.50      | area=   all | maxDets=1000 ] = 0.277\n",
      "Average Precision  (AP) @[ IoU=0.75      | area=   all | maxDets=1000 ] = 0.196\n",
      "Average Precision  (AP) @[ IoU=0.50:0.95 | area= small | maxDets=1000 ] = 0.033\n",
      "Average Precision  (AP) @[ IoU=0.50:0.95 | area=medium | maxDets=1000 ] = 0.183\n",
      "Average Precision  (AP) @[ IoU=0.50:0.95 | area= large | maxDets=1000 ] = 0.380\n",
      "Average Recall     (AR) @[ IoU=0.50:0.95 | area=   all | maxDets=100 ] = 0.394\n",
      "Average Recall     (AR) @[ IoU=0.50:0.95 | area=   all | maxDets=300 ] = 0.394\n",
      "Average Recall     (AR) @[ IoU=0.50:0.95 | area=   all | maxDets=1000 ] = 0.394\n",
      "Average Recall     (AR) @[ IoU=0.50:0.95 | area= small | maxDets=1000 ] = 0.104\n",
      "Average Recall     (AR) @[ IoU=0.50:0.95 | area=medium | maxDets=1000 ] = 0.382\n",
      "Average Recall     (AR) @[ IoU=0.50:0.95 | area= large | maxDets=1000 ] = 0.669\n"
     ]
    },
    {
     "data": {
      "text/html": [
       "<br/>Waiting for W&B process to finish, PID 2155<br/>Program ended successfully."
      ],
      "text/plain": [
       "<IPython.core.display.HTML object>"
      ]
     },
     "metadata": {},
     "output_type": "display_data"
    },
    {
     "data": {
      "application/vnd.jupyter.widget-view+json": {
       "model_id": "0d831a618f7340469ecb4f981b8c5826",
       "version_major": 2,
       "version_minor": 0
      },
      "text/plain": [
       "VBox(children=(Label(value=' 0.00MB of 0.00MB uploaded (0.00MB deduped)\\r'), FloatProgress(value=1.0, max=1.0)…"
      ]
     },
     "metadata": {},
     "output_type": "display_data"
    },
    {
     "data": {
      "text/html": [
       "Find user logs for this run at: <code>/opt/ml/code/mmdetection_trash/wandb/run-20210512_084445-3hwwk6a0/logs/debug.log</code>"
      ],
      "text/plain": [
       "<IPython.core.display.HTML object>"
      ]
     },
     "metadata": {},
     "output_type": "display_data"
    },
    {
     "data": {
      "text/html": [
       "Find internal logs for this run at: <code>/opt/ml/code/mmdetection_trash/wandb/run-20210512_084445-3hwwk6a0/logs/debug-internal.log</code>"
      ],
      "text/plain": [
       "<IPython.core.display.HTML object>"
      ]
     },
     "metadata": {},
     "output_type": "display_data"
    },
    {
     "data": {
      "text/html": [
       "<h3>Run summary:</h3><br/><style>\n",
       "    table.wandb td:nth-child(1) { padding: 0 10px; text-align: right }\n",
       "    </style><table class=\"wandb\">\n",
       "<tr><td>train/loss_cls</td><td>0.51348</td></tr><tr><td>train/loss_bbox</td><td>0.17319</td></tr><tr><td>train/loss_bbox_rf</td><td>0.21989</td></tr><tr><td>train/loss</td><td>0.90656</td></tr><tr><td>train/grad_norm</td><td>3.77588</td></tr><tr><td>learning_rate</td><td>0.0001</td></tr><tr><td>momentum</td><td>0.9</td></tr><tr><td>_runtime</td><td>14065</td></tr><tr><td>_timestamp</td><td>1620823150</td></tr><tr><td>_step</td><td>15721</td></tr><tr><td>val/bbox_mAP</td><td>0.19</td></tr><tr><td>val/bbox_mAP_50</td><td>0.277</td></tr><tr><td>val/bbox_mAP_75</td><td>0.196</td></tr><tr><td>val/bbox_mAP_s</td><td>0.033</td></tr><tr><td>val/bbox_mAP_m</td><td>0.183</td></tr><tr><td>val/bbox_mAP_l</td><td>0.38</td></tr></table>"
      ],
      "text/plain": [
       "<IPython.core.display.HTML object>"
      ]
     },
     "metadata": {},
     "output_type": "display_data"
    },
    {
     "data": {
      "text/html": [
       "<h3>Run history:</h3><br/><style>\n",
       "    table.wandb td:nth-child(1) { padding: 0 10px; text-align: right }\n",
       "    </style><table class=\"wandb\">\n",
       "<tr><td>train/loss_cls</td><td>▄▇▇▇█▇▇▇▇▇▇▇█▇▇▆▆▆▆▆▆▆▅▅▆▅▆▄▃▃▃▂▂▂▂▂▂▁▁▁</td></tr><tr><td>train/loss_bbox</td><td>██▆▅▄▄▄▄▃▃▃▃▃▃▃▃▃▃▂▃▂▂▂▂▂▂▂▂▂▂▁▁▁▁▁▁▁▁▁▁</td></tr><tr><td>train/loss_bbox_rf</td><td>██▆▅▄▄▄▃▃▃▃▃▃▃▃▃▃▂▂▂▂▂▂▂▂▂▂▂▂▂▁▁▁▁▁▁▁▁▁▁</td></tr><tr><td>train/loss</td><td>██▇▆▆▅▅▅▅▅▄▅▅▄▄▄▄▄▄▄▄▄▃▃▃▃▄▂▂▂▂▂▂▂▁▁▁▁▁▁</td></tr><tr><td>train/grad_norm</td><td>▆█▄▁▃▁▂▃▂▂▃▂▅▄▄▄▄▄▃▃▅▅▄▆▆▄█▃▃▂▄▃▄▅▅▄▃▃▄▃</td></tr><tr><td>learning_rate</td><td>▄██████████████████████████▂▂▂▂▂▂▂▂▂▂▁▁▁</td></tr><tr><td>momentum</td><td>▁▁▁▁▁▁▁▁▁▁▁▁▁▁▁▁▁▁▁▁▁▁▁▁▁▁▁▁▁▁▁▁▁▁▁▁▁▁▁▁</td></tr><tr><td>_runtime</td><td>▁▁▁▂▂▂▂▂▂▃▃▃▃▃▃▄▄▄▄▄▅▅▅▅▅▅▆▆▆▆▆▆▇▇▇▇▇███</td></tr><tr><td>_timestamp</td><td>▁▁▁▂▂▂▂▂▂▃▃▃▃▃▃▄▄▄▄▄▅▅▅▅▅▅▆▆▆▆▆▆▇▇▇▇▇███</td></tr><tr><td>_step</td><td>▁▁▁▂▂▂▂▂▂▃▃▃▃▃▃▄▄▄▄▄▅▅▅▅▅▅▆▆▆▆▆▆▇▇▇▇▇███</td></tr><tr><td>val/bbox_mAP</td><td>▁▂▃▃▃▄▄▄▅▅▅▅▆▆▆▅▇▇▇█████</td></tr><tr><td>val/bbox_mAP_50</td><td>▁▂▃▃▄▄▄▅▅▅▅▆▇▆▆▆▇▇▇█████</td></tr><tr><td>val/bbox_mAP_75</td><td>▁▂▃▃▄▄▄▄▅▅▅▅▇▆▆▅▇▇▇█████</td></tr><tr><td>val/bbox_mAP_s</td><td>▁▂▅▄▅▇▆▆▇▇▆▇█▇█▆▇▇▇▇▇▇▇▇</td></tr><tr><td>val/bbox_mAP_m</td><td>▁▂▂▃▄▄▄▄▅▅▅▅▆▆▆▅▇▇▇█████</td></tr><tr><td>val/bbox_mAP_l</td><td>▁▂▂▂▃▃▄▄▄▄▄▅▆▅▅▅▆▇▇▇█▇▇▇</td></tr></table><br/>"
      ],
      "text/plain": [
       "<IPython.core.display.HTML object>"
      ]
     },
     "metadata": {},
     "output_type": "display_data"
    },
    {
     "data": {
      "text/html": [
       "Synced 5 W&B file(s), 0 media file(s), 0 artifact file(s) and 0 other file(s)"
      ],
      "text/plain": [
       "<IPython.core.display.HTML object>"
      ]
     },
     "metadata": {},
     "output_type": "display_data"
    },
    {
     "data": {
      "text/html": [
       "\n",
       "                    <br/>Synced <strong style=\"color:#cdcd00\">youthful-donkey-1</strong>: <a href=\"https://wandb.ai/k1smet14/mmdetection_trash/runs/3hwwk6a0\" target=\"_blank\">https://wandb.ai/k1smet14/mmdetection_trash/runs/3hwwk6a0</a><br/>\n",
       "                "
      ],
      "text/plain": [
       "<IPython.core.display.HTML object>"
      ]
     },
     "metadata": {},
     "output_type": "display_data"
    }
   ],
   "source": [
    "train_detector(model, datasets[0], cfg, distributed=False, validate=True)"
   ]
  },
  {
   "cell_type": "code",
   "execution_count": 2,
   "metadata": {},
   "outputs": [],
   "source": [
    "import mmcv\n",
    "from mmcv import Config\n",
    "from mmdet.datasets import (build_dataloader, build_dataset,\n",
    "                            replace_ImageToTensor)\n",
    "from mmdet.models import build_detector\n",
    "from mmdet.apis import single_gpu_test\n",
    "from mmcv.runner import load_checkpoint\n",
    "import os\n",
    "from mmcv.parallel import MMDataParallel\n",
    "import pandas as pd\n",
    "from pandas import DataFrame\n",
    "from pycocotools.coco import COCO\n",
    "import numpy as np"
   ]
  },
  {
   "cell_type": "code",
   "execution_count": 6,
   "metadata": {},
   "outputs": [],
   "source": [
    "classes = (\"UNKNOWN\", \"General trash\", \"Paper\", \"Paper pack\", \"Metal\", \"Glass\", \n",
    "           \"Plastic\", \"Styrofoam\", \"Plastic bag\", \"Battery\", \"Clothing\")\n",
    "# config file 들고오기\n",
    "cfg = Config.fromfile('./configs/vfnet/vfnet_x101_64x4d_fpn_mstrain_2x_coco.py')\n",
    "\n",
    "PREFIX = '../../input/data/'\n",
    "\n",
    "epoch = 24\n",
    "\n",
    "# dataset 바꾸기\n",
    "cfg.data.train.classes = classes\n",
    "cfg.data.train.img_prefix = PREFIX\n",
    "cfg.data.train.ann_file = PREFIX + 'train.json'\n",
    "cfg.data.train.pipeline[2]['img_scale'] = (512, 512)\n",
    "\n",
    "cfg.data.val.classes = classes\n",
    "cfg.data.val.img_prefix = PREFIX\n",
    "cfg.data.val.ann_file = PREFIX + 'val.json'\n",
    "cfg.data.val.pipeline[1]['img_scale'] = (512, 512)\n",
    "\n",
    "cfg.data.test.classes = classes\n",
    "cfg.data.test.img_prefix = PREFIX\n",
    "cfg.data.test.ann_file = PREFIX + 'test.json'\n",
    "cfg.data.test.pipeline[1]['img_scale'] = (512, 512)\n",
    "\n",
    "cfg.data.samples_per_gpu = 4\n",
    "\n",
    "cfg.seed=90\n",
    "cfg.gpu_ids = [0]\n",
    "cfg.work_dir = './work_dirs/vfnet_x101_64x4d_fpn_mstrain_2x_coco'\n",
    "\n",
    "cfg.model.bbox_head.num_classes = 11\n",
    "\n",
    "cfg.optimizer_config.grad_clip = dict(max_norm=35, norm_type=2)\n",
    "cfg.model.train_cfg = None\n",
    "\n",
    "# checkpoint path\n",
    "checkpoint_path = os.path.join(cfg.work_dir, f'best_bbox_mAP_50.pth')"
   ]
  },
  {
   "cell_type": "code",
   "execution_count": 7,
   "metadata": {},
   "outputs": [
    {
     "name": "stdout",
     "output_type": "stream",
     "text": [
      "loading annotations into memory...\n",
      "Done (t=0.01s)\n",
      "creating index...\n",
      "index created!\n"
     ]
    }
   ],
   "source": [
    "dataset = build_dataset(cfg.data.test)\n",
    "data_loader = build_dataloader(\n",
    "        dataset,\n",
    "        samples_per_gpu=1,\n",
    "        workers_per_gpu=cfg.data.workers_per_gpu,\n",
    "        dist=False,\n",
    "        shuffle=False)"
   ]
  },
  {
   "cell_type": "code",
   "execution_count": 8,
   "metadata": {},
   "outputs": [
    {
     "name": "stderr",
     "output_type": "stream",
     "text": [
      "2021-05-13 06:13:54,379 - mmdet - INFO - load model from: open-mmlab://resnext101_64x4d\n",
      "2021-05-13 06:13:54,381 - mmdet - INFO - Use load_from_openmmlab loader\n"
     ]
    },
    {
     "name": "stdout",
     "output_type": "stream",
     "text": [
      "Use load_from_local loader\n"
     ]
    },
    {
     "ename": "OSError",
     "evalue": "./work_dirs/vfnet_x101_64x4d_fpn_mstrain_2x_coco/best_bbox_mAP_50.pth is not a checkpoint file",
     "output_type": "error",
     "traceback": [
      "\u001b[0;31m---------------------------------------------------------------------------\u001b[0m",
      "\u001b[0;31mOSError\u001b[0m                                   Traceback (most recent call last)",
      "\u001b[0;32m<ipython-input-8-4c366b0b63bd>\u001b[0m in \u001b[0;36m<module>\u001b[0;34m\u001b[0m\n\u001b[1;32m      1\u001b[0m \u001b[0mmodel\u001b[0m \u001b[0;34m=\u001b[0m \u001b[0mbuild_detector\u001b[0m\u001b[0;34m(\u001b[0m\u001b[0mcfg\u001b[0m\u001b[0;34m.\u001b[0m\u001b[0mmodel\u001b[0m\u001b[0;34m,\u001b[0m \u001b[0mtest_cfg\u001b[0m\u001b[0;34m=\u001b[0m\u001b[0mcfg\u001b[0m\u001b[0;34m.\u001b[0m\u001b[0mget\u001b[0m\u001b[0;34m(\u001b[0m\u001b[0;34m'test_cfg'\u001b[0m\u001b[0;34m)\u001b[0m\u001b[0;34m)\u001b[0m\u001b[0;34m\u001b[0m\u001b[0;34m\u001b[0m\u001b[0m\n\u001b[0;32m----> 2\u001b[0;31m \u001b[0mcheckpoint\u001b[0m \u001b[0;34m=\u001b[0m \u001b[0mload_checkpoint\u001b[0m\u001b[0;34m(\u001b[0m\u001b[0mmodel\u001b[0m\u001b[0;34m,\u001b[0m \u001b[0mcheckpoint_path\u001b[0m\u001b[0;34m,\u001b[0m \u001b[0mmap_location\u001b[0m\u001b[0;34m=\u001b[0m\u001b[0;34m'cpu'\u001b[0m\u001b[0;34m)\u001b[0m\u001b[0;34m\u001b[0m\u001b[0;34m\u001b[0m\u001b[0m\n\u001b[0m\u001b[1;32m      3\u001b[0m \u001b[0;34m\u001b[0m\u001b[0m\n\u001b[1;32m      4\u001b[0m \u001b[0mmodel\u001b[0m\u001b[0;34m.\u001b[0m\u001b[0mCLASSES\u001b[0m \u001b[0;34m=\u001b[0m \u001b[0mdataset\u001b[0m\u001b[0;34m.\u001b[0m\u001b[0mCLASSES\u001b[0m\u001b[0;34m\u001b[0m\u001b[0;34m\u001b[0m\u001b[0m\n\u001b[1;32m      5\u001b[0m \u001b[0mmodel\u001b[0m \u001b[0;34m=\u001b[0m \u001b[0mMMDataParallel\u001b[0m\u001b[0;34m(\u001b[0m\u001b[0mmodel\u001b[0m\u001b[0;34m.\u001b[0m\u001b[0mcuda\u001b[0m\u001b[0;34m(\u001b[0m\u001b[0;34m)\u001b[0m\u001b[0;34m,\u001b[0m \u001b[0mdevice_ids\u001b[0m\u001b[0;34m=\u001b[0m\u001b[0;34m[\u001b[0m\u001b[0;36m0\u001b[0m\u001b[0;34m]\u001b[0m\u001b[0;34m)\u001b[0m\u001b[0;34m\u001b[0m\u001b[0;34m\u001b[0m\u001b[0m\n",
      "\u001b[0;32m/opt/conda/lib/python3.7/site-packages/mmcv/runner/checkpoint.py\u001b[0m in \u001b[0;36mload_checkpoint\u001b[0;34m(model, filename, map_location, strict, logger, revise_keys)\u001b[0m\n\u001b[1;32m    527\u001b[0m         \u001b[0mdict\u001b[0m \u001b[0;32mor\u001b[0m \u001b[0mOrderedDict\u001b[0m\u001b[0;34m:\u001b[0m \u001b[0mThe\u001b[0m \u001b[0mloaded\u001b[0m \u001b[0mcheckpoint\u001b[0m\u001b[0;34m.\u001b[0m\u001b[0;34m\u001b[0m\u001b[0;34m\u001b[0m\u001b[0m\n\u001b[1;32m    528\u001b[0m     \"\"\"\n\u001b[0;32m--> 529\u001b[0;31m     \u001b[0mcheckpoint\u001b[0m \u001b[0;34m=\u001b[0m \u001b[0m_load_checkpoint\u001b[0m\u001b[0;34m(\u001b[0m\u001b[0mfilename\u001b[0m\u001b[0;34m,\u001b[0m \u001b[0mmap_location\u001b[0m\u001b[0;34m,\u001b[0m \u001b[0mlogger\u001b[0m\u001b[0;34m)\u001b[0m\u001b[0;34m\u001b[0m\u001b[0;34m\u001b[0m\u001b[0m\n\u001b[0m\u001b[1;32m    530\u001b[0m     \u001b[0;31m# OrderedDict is a subclass of dict\u001b[0m\u001b[0;34m\u001b[0m\u001b[0;34m\u001b[0m\u001b[0;34m\u001b[0m\u001b[0m\n\u001b[1;32m    531\u001b[0m     \u001b[0;32mif\u001b[0m \u001b[0;32mnot\u001b[0m \u001b[0misinstance\u001b[0m\u001b[0;34m(\u001b[0m\u001b[0mcheckpoint\u001b[0m\u001b[0;34m,\u001b[0m \u001b[0mdict\u001b[0m\u001b[0;34m)\u001b[0m\u001b[0;34m:\u001b[0m\u001b[0;34m\u001b[0m\u001b[0;34m\u001b[0m\u001b[0m\n",
      "\u001b[0;32m/opt/conda/lib/python3.7/site-packages/mmcv/runner/checkpoint.py\u001b[0m in \u001b[0;36m_load_checkpoint\u001b[0;34m(filename, map_location, logger)\u001b[0m\n\u001b[1;32m    465\u001b[0m            \u001b[0minformation\u001b[0m\u001b[0;34m,\u001b[0m \u001b[0mwhich\u001b[0m \u001b[0mdepends\u001b[0m \u001b[0mon\u001b[0m \u001b[0mthe\u001b[0m \u001b[0mcheckpoint\u001b[0m\u001b[0;34m.\u001b[0m\u001b[0;34m\u001b[0m\u001b[0;34m\u001b[0m\u001b[0m\n\u001b[1;32m    466\u001b[0m     \"\"\"\n\u001b[0;32m--> 467\u001b[0;31m     \u001b[0;32mreturn\u001b[0m \u001b[0mCheckpointLoader\u001b[0m\u001b[0;34m.\u001b[0m\u001b[0mload_checkpoint\u001b[0m\u001b[0;34m(\u001b[0m\u001b[0mfilename\u001b[0m\u001b[0;34m,\u001b[0m \u001b[0mmap_location\u001b[0m\u001b[0;34m,\u001b[0m \u001b[0mlogger\u001b[0m\u001b[0;34m)\u001b[0m\u001b[0;34m\u001b[0m\u001b[0;34m\u001b[0m\u001b[0m\n\u001b[0m\u001b[1;32m    468\u001b[0m \u001b[0;34m\u001b[0m\u001b[0m\n\u001b[1;32m    469\u001b[0m \u001b[0;34m\u001b[0m\u001b[0m\n",
      "\u001b[0;32m/opt/conda/lib/python3.7/site-packages/mmcv/runner/checkpoint.py\u001b[0m in \u001b[0;36mload_checkpoint\u001b[0;34m(cls, filename, map_location, logger)\u001b[0m\n\u001b[1;32m    242\u001b[0m         \u001b[0mclass_name\u001b[0m \u001b[0;34m=\u001b[0m \u001b[0mcheckpoint_loader\u001b[0m\u001b[0;34m.\u001b[0m\u001b[0m__name__\u001b[0m\u001b[0;34m\u001b[0m\u001b[0;34m\u001b[0m\u001b[0m\n\u001b[1;32m    243\u001b[0m         \u001b[0mmmcv\u001b[0m\u001b[0;34m.\u001b[0m\u001b[0mprint_log\u001b[0m\u001b[0;34m(\u001b[0m\u001b[0;34mf'Use {class_name} loader'\u001b[0m\u001b[0;34m,\u001b[0m \u001b[0mlogger\u001b[0m\u001b[0;34m)\u001b[0m\u001b[0;34m\u001b[0m\u001b[0;34m\u001b[0m\u001b[0m\n\u001b[0;32m--> 244\u001b[0;31m         \u001b[0;32mreturn\u001b[0m \u001b[0mcheckpoint_loader\u001b[0m\u001b[0;34m(\u001b[0m\u001b[0mfilename\u001b[0m\u001b[0;34m,\u001b[0m \u001b[0mmap_location\u001b[0m\u001b[0;34m)\u001b[0m\u001b[0;34m\u001b[0m\u001b[0;34m\u001b[0m\u001b[0m\n\u001b[0m\u001b[1;32m    245\u001b[0m \u001b[0;34m\u001b[0m\u001b[0m\n\u001b[1;32m    246\u001b[0m \u001b[0;34m\u001b[0m\u001b[0m\n",
      "\u001b[0;32m/opt/conda/lib/python3.7/site-packages/mmcv/runner/checkpoint.py\u001b[0m in \u001b[0;36mload_from_local\u001b[0;34m(filename, map_location)\u001b[0m\n\u001b[1;32m    258\u001b[0m \u001b[0;34m\u001b[0m\u001b[0m\n\u001b[1;32m    259\u001b[0m     \u001b[0;32mif\u001b[0m \u001b[0;32mnot\u001b[0m \u001b[0mosp\u001b[0m\u001b[0;34m.\u001b[0m\u001b[0misfile\u001b[0m\u001b[0;34m(\u001b[0m\u001b[0mfilename\u001b[0m\u001b[0;34m)\u001b[0m\u001b[0;34m:\u001b[0m\u001b[0;34m\u001b[0m\u001b[0;34m\u001b[0m\u001b[0m\n\u001b[0;32m--> 260\u001b[0;31m         \u001b[0;32mraise\u001b[0m \u001b[0mIOError\u001b[0m\u001b[0;34m(\u001b[0m\u001b[0;34mf'{filename} is not a checkpoint file'\u001b[0m\u001b[0;34m)\u001b[0m\u001b[0;34m\u001b[0m\u001b[0;34m\u001b[0m\u001b[0m\n\u001b[0m\u001b[1;32m    261\u001b[0m     \u001b[0mcheckpoint\u001b[0m \u001b[0;34m=\u001b[0m \u001b[0mtorch\u001b[0m\u001b[0;34m.\u001b[0m\u001b[0mload\u001b[0m\u001b[0;34m(\u001b[0m\u001b[0mfilename\u001b[0m\u001b[0;34m,\u001b[0m \u001b[0mmap_location\u001b[0m\u001b[0;34m=\u001b[0m\u001b[0mmap_location\u001b[0m\u001b[0;34m)\u001b[0m\u001b[0;34m\u001b[0m\u001b[0;34m\u001b[0m\u001b[0m\n\u001b[1;32m    262\u001b[0m     \u001b[0;32mreturn\u001b[0m \u001b[0mcheckpoint\u001b[0m\u001b[0;34m\u001b[0m\u001b[0;34m\u001b[0m\u001b[0m\n",
      "\u001b[0;31mOSError\u001b[0m: ./work_dirs/vfnet_x101_64x4d_fpn_mstrain_2x_coco/best_bbox_mAP_50.pth is not a checkpoint file"
     ]
    }
   ],
   "source": [
    "model = build_detector(cfg.model, test_cfg=cfg.get('test_cfg'))\n",
    "checkpoint = load_checkpoint(model, checkpoint_path, map_location='cpu')\n",
    "\n",
    "model.CLASSES = dataset.CLASSES\n",
    "model = MMDataParallel(model.cuda(), device_ids=[0])"
   ]
  },
  {
   "cell_type": "code",
   "execution_count": 16,
   "metadata": {},
   "outputs": [
    {
     "name": "stdout",
     "output_type": "stream",
     "text": [
      "[>>>>>>>>>>>>>>>>>>>>>>>>>>>>>>] 837/837, 8.5 task/s, elapsed: 98s, ETA:     0s"
     ]
    }
   ],
   "source": [
    "output = single_gpu_test(model, data_loader, show_score_thr=0.05)"
   ]
  },
  {
   "cell_type": "code",
   "execution_count": 17,
   "metadata": {},
   "outputs": [
    {
     "name": "stdout",
     "output_type": "stream",
     "text": [
      "loading annotations into memory...\n",
      "Done (t=0.01s)\n",
      "creating index...\n",
      "index created!\n"
     ]
    },
    {
     "data": {
      "text/html": [
       "<div>\n",
       "<style scoped>\n",
       "    .dataframe tbody tr th:only-of-type {\n",
       "        vertical-align: middle;\n",
       "    }\n",
       "\n",
       "    .dataframe tbody tr th {\n",
       "        vertical-align: top;\n",
       "    }\n",
       "\n",
       "    .dataframe thead th {\n",
       "        text-align: right;\n",
       "    }\n",
       "</style>\n",
       "<table border=\"1\" class=\"dataframe\">\n",
       "  <thead>\n",
       "    <tr style=\"text-align: right;\">\n",
       "      <th></th>\n",
       "      <th>PredictionString</th>\n",
       "      <th>image_id</th>\n",
       "    </tr>\n",
       "  </thead>\n",
       "  <tbody>\n",
       "    <tr>\n",
       "      <th>0</th>\n",
       "      <td>0 0.06772634 228.28596 149.0423 249.09592 236....</td>\n",
       "      <td>batch_01_vt/0021.jpg</td>\n",
       "    </tr>\n",
       "    <tr>\n",
       "      <th>1</th>\n",
       "      <td>0 0.1134868 284.8081 151.96843 486.8694 434.62...</td>\n",
       "      <td>batch_01_vt/0028.jpg</td>\n",
       "    </tr>\n",
       "    <tr>\n",
       "      <th>2</th>\n",
       "      <td>0 0.11189955 68.59096 171.01566 372.83655 379....</td>\n",
       "      <td>batch_01_vt/0031.jpg</td>\n",
       "    </tr>\n",
       "    <tr>\n",
       "      <th>3</th>\n",
       "      <td>0 0.057285193 29.397675 124.40297 385.30334 37...</td>\n",
       "      <td>batch_01_vt/0032.jpg</td>\n",
       "    </tr>\n",
       "    <tr>\n",
       "      <th>4</th>\n",
       "      <td>0 0.17107947 237.8103 266.21378 383.67017 377....</td>\n",
       "      <td>batch_01_vt/0070.jpg</td>\n",
       "    </tr>\n",
       "  </tbody>\n",
       "</table>\n",
       "</div>"
      ],
      "text/plain": [
       "                                    PredictionString              image_id\n",
       "0  0 0.06772634 228.28596 149.0423 249.09592 236....  batch_01_vt/0021.jpg\n",
       "1  0 0.1134868 284.8081 151.96843 486.8694 434.62...  batch_01_vt/0028.jpg\n",
       "2  0 0.11189955 68.59096 171.01566 372.83655 379....  batch_01_vt/0031.jpg\n",
       "3  0 0.057285193 29.397675 124.40297 385.30334 37...  batch_01_vt/0032.jpg\n",
       "4  0 0.17107947 237.8103 266.21378 383.67017 377....  batch_01_vt/0070.jpg"
      ]
     },
     "execution_count": 17,
     "metadata": {},
     "output_type": "execute_result"
    }
   ],
   "source": [
    "prediction_strings = []\n",
    "file_names = []\n",
    "coco = COCO(cfg.data.test.ann_file)\n",
    "imag_ids = coco.getImgIds()\n",
    "\n",
    "class_num = 11\n",
    "for i, out in enumerate(output):\n",
    "    prediction_string = ''\n",
    "    image_info = coco.loadImgs(coco.getImgIds(imgIds=i))[0]\n",
    "    for j in range(class_num):\n",
    "        for o in out[j]:\n",
    "            prediction_string += str(j) + ' ' + str(o[4]) + ' ' + str(o[0]) + ' ' + str(o[1]) + ' ' + str(\n",
    "                o[2]) + ' ' + str(o[3]) + ' '\n",
    "        \n",
    "    prediction_strings.append(prediction_string)\n",
    "    file_names.append(image_info['file_name'])\n",
    "\n",
    "\n",
    "submission = pd.DataFrame()\n",
    "submission['PredictionString'] = prediction_strings\n",
    "submission['image_id'] = file_names\n",
    "submission.to_csv(os.path.join(cfg.work_dir, f'submission_{epoch}.csv'), index=None)\n",
    "submission.head()"
   ]
  },
  {
   "cell_type": "code",
   "execution_count": null,
   "metadata": {},
   "outputs": [],
   "source": []
  }
 ],
 "metadata": {
  "kernelspec": {
   "display_name": "Python 3",
   "language": "python",
   "name": "python3"
  },
  "language_info": {
   "codemirror_mode": {
    "name": "ipython",
    "version": 3
   },
   "file_extension": ".py",
   "mimetype": "text/x-python",
   "name": "python",
   "nbconvert_exporter": "python",
   "pygments_lexer": "ipython3",
   "version": "3.7.7"
  },
  "pycharm": {
   "stem_cell": {
    "cell_type": "raw",
    "metadata": {
     "collapsed": false
    },
    "source": []
   }
  }
 },
 "nbformat": 4,
 "nbformat_minor": 4
}
