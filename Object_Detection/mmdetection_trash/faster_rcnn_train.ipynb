{
 "cells": [
  {
   "cell_type": "code",
   "execution_count": 1,
   "metadata": {},
   "outputs": [],
   "source": [
    "import numpy\n",
    "print(numpy.__version__)"
   ]
  },
  {
   "cell_type": "code",
   "execution_count": 2,
   "metadata": {
    "pycharm": {
     "name": "#%%\n"
    }
   },
   "outputs": [],
   "source": [
    "import wandb\n",
    "from mmcv import Config\n",
    "from mmdet.datasets import build_dataset\n",
    "from mmdet.models import build_detector\n",
    "from mmdet.apis import train_detector\n",
    "from mmdet.datasets import (build_dataloader, build_dataset,\n",
    "                            replace_ImageToTensor)"
   ]
  },
  {
   "cell_type": "code",
   "execution_count": 3,
   "metadata": {},
   "outputs": [],
   "source": [
    "import os\n",
    "import torch.distributed as dist\n",
    "os.environ['MASTER_ADDR'] = 'localhost'\n",
    "os.environ['MASTER_PORT'] = '7030'\n",
    "dist.init_process_group('gloo', rank=0, world_size=1)\n"
   ]
  },
  {
   "cell_type": "code",
   "execution_count": 4,
   "metadata": {
    "pycharm": {
     "name": "#%%\n"
    },
    "tags": []
   },
   "outputs": [],
   "source": [
    "classes = (\"UNKNOWN\", \"General trash\", \"Paper\", \"Paper pack\", \"Metal\", \"Glass\", \n",
    "           \"Plastic\", \"Styrofoam\", \"Plastic bag\", \"Battery\", \"Clothing\")\n",
    "# config file 들고오기\n",
    "cfg = Config.fromfile('./configs/faster_rcnn/sabl_faster_resnest50_pafpn.py')\n",
    "\n",
    "PREFIX = '../../input/data/'\n",
    "\n",
    "\n",
    "# dataset 바꾸기\n",
    "cfg.data.train.classes = classes\n",
    "cfg.data.train.img_prefix = PREFIX\n",
    "cfg.data.train.ann_file = PREFIX + 'train.json'\n",
    "cfg.data.train.pipeline[2]['img_scale'] = (512, 512)\n",
    "\n",
    "cfg.data.val.classes = classes\n",
    "cfg.data.val.img_prefix = PREFIX\n",
    "cfg.data.val.ann_file = PREFIX + 'val.json'\n",
    "cfg.data.val.pipeline[1]['img_scale'] = (512, 512)\n",
    "\n",
    "cfg.data.test.classes = classes\n",
    "cfg.data.test.img_prefix = PREFIX\n",
    "cfg.data.test.ann_file = PREFIX + 'test.json'\n",
    "cfg.data.test.pipeline[1]['img_scale'] = (512, 512)\n",
    "\n",
    "cfg.data.samples_per_gpu = 4\n",
    "\n",
    "cfg.seed=2020\n",
    "cfg.gpu_ids = [0]\n",
    "cfg.work_dir = './work_dirs/sabl_faster_resnest50_pafpn'\n",
    "\n",
    "cfg.model.roi_head.bbox_head.num_classes = 11\n",
    "\n",
    "cfg.optimizer = {'type': 'AdamW', 'lr': 2e-4, 'weight_decay': 0.001}\n",
    "cfg.lr_config.step = [8,10,12]\n",
    "cfg.lr_config.gamma = 0.4\n",
    "\n",
    "cfg.optimizer_config.grad_clip = dict(max_norm=35, norm_type=2)\n",
    "\n",
    "cfg.log_config.hooks = [dict(type='TextLoggerHook'), dict(type='WandbLoggerHook')]\n",
    "cfg.checkpoint_config['max_keep_ckpts']=3\n",
    "cfg.evaluation.save_best = 'bbox_mAP_50'"
   ]
  },
  {
   "cell_type": "code",
   "execution_count": 5,
   "metadata": {},
   "outputs": [
    {
     "name": "stdout",
     "output_type": "stream",
     "text": [
      "{'type': 'EpochBasedRunner', 'max_epochs': 12}\n"
     ]
    }
   ],
   "source": [
    "print(cfg.runner)"
   ]
  },
  {
   "cell_type": "code",
   "execution_count": 6,
   "metadata": {
    "pycharm": {
     "name": "#%%\n"
    }
   },
   "outputs": [
    {
     "name": "stderr",
     "output_type": "stream",
     "text": [
      "2021-05-17 09:22:12,381 - mmdet - INFO - load model from: open-mmlab://resnest50\n",
      "2021-05-17 09:22:12,383 - mmdet - INFO - Use load_from_openmmlab loader\n"
     ]
    }
   ],
   "source": [
    "model = build_detector(cfg.model)"
   ]
  },
  {
   "cell_type": "code",
   "execution_count": 7,
   "metadata": {
    "pycharm": {
     "name": "#%%\n"
    }
   },
   "outputs": [
    {
     "name": "stdout",
     "output_type": "stream",
     "text": [
      "loading annotations into memory...\n",
      "Done (t=3.80s)\n",
      "creating index...\n",
      "index created!\n"
     ]
    }
   ],
   "source": [
    "datasets = [build_dataset(cfg.data.train)]"
   ]
  },
  {
   "cell_type": "code",
   "execution_count": 8,
   "metadata": {
    "pycharm": {
     "name": "#%%\n"
    }
   },
   "outputs": [
    {
     "name": "stdout",
     "output_type": "stream",
     "text": [
      "loading annotations into memory...\n"
     ]
    },
    {
     "name": "stderr",
     "output_type": "stream",
     "text": [
      "2021-05-17 09:22:20,530 - mmdet - INFO - Start running, host: root@bc720df3e041, work_dir: /opt/ml/code/mmdetection_trash/work_dirs/sabl_faster_resnest50_pafpn\n",
      "2021-05-17 09:22:20,531 - mmdet - INFO - workflow: [('train', 1)], max: 12 epochs\n"
     ]
    },
    {
     "name": "stdout",
     "output_type": "stream",
     "text": [
      "Done (t=0.89s)\n",
      "creating index...\n",
      "index created!\n"
     ]
    },
    {
     "name": "stderr",
     "output_type": "stream",
     "text": [
      "/opt/ml/code/mmdetection_trash/mmdet/core/evaluation/eval_hooks.py:113: UserWarning: runner.meta is None. Creating a empty one.\n",
      "  warnings.warn('runner.meta is None. Creating a empty one.')\n",
      "\u001b[34m\u001b[1mwandb\u001b[0m: Currently logged in as: \u001b[33mk1smet14\u001b[0m (use `wandb login --relogin` to force relogin)\n"
     ]
    },
    {
     "data": {
      "text/html": [
       "\n",
       "                Tracking run with wandb version 0.10.30<br/>\n",
       "                Syncing run <strong style=\"color:#cdcd00\">fine-spaceship-5</strong> to <a href=\"https://wandb.ai\" target=\"_blank\">Weights & Biases</a> <a href=\"https://docs.wandb.com/integrations/jupyter.html\" target=\"_blank\">(Documentation)</a>.<br/>\n",
       "                Project page: <a href=\"https://wandb.ai/k1smet14/mmdetection_trash\" target=\"_blank\">https://wandb.ai/k1smet14/mmdetection_trash</a><br/>\n",
       "                Run page: <a href=\"https://wandb.ai/k1smet14/mmdetection_trash/runs/18bucg62\" target=\"_blank\">https://wandb.ai/k1smet14/mmdetection_trash/runs/18bucg62</a><br/>\n",
       "                Run data is saved locally in <code>/opt/ml/code/mmdetection_trash/wandb/run-20210517_092221-18bucg62</code><br/><br/>\n",
       "            "
      ],
      "text/plain": [
       "<IPython.core.display.HTML object>"
      ]
     },
     "metadata": {},
     "output_type": "display_data"
    },
    {
     "name": "stderr",
     "output_type": "stream",
     "text": [
      "2021-05-17 09:22:54,178 - mmdet - INFO - Epoch [1][50/655]\tlr: 1.978e-05, eta: 1:15:06, time: 0.577, data_time: 0.050, memory: 3494, loss_rpn_cls: 0.6132, loss_rpn_bbox: 0.1455, loss_cls: 1.5768, acc: 63.6055, loss_bbox_cls: 0.1458, loss_bbox_reg: 0.1598, loss: 2.6411, grad_norm: 31.1111\n",
      "2021-05-17 09:23:21,351 - mmdet - INFO - Epoch [1][100/655]\tlr: 3.976e-05, eta: 1:12:27, time: 0.543, data_time: 0.007, memory: 3494, loss_rpn_cls: 0.3160, loss_rpn_bbox: 0.1017, loss_cls: 0.4251, acc: 90.7803, loss_bbox_cls: 0.2286, loss_bbox_reg: 0.2892, loss: 1.3605, grad_norm: 7.2897\n",
      "2021-05-17 09:23:48,289 - mmdet - INFO - Epoch [1][150/655]\tlr: 5.974e-05, eta: 1:11:04, time: 0.539, data_time: 0.007, memory: 3494, loss_rpn_cls: 0.2210, loss_rpn_bbox: 0.1079, loss_cls: 0.4646, acc: 88.7578, loss_bbox_cls: 0.2567, loss_bbox_reg: 0.3521, loss: 1.4023, grad_norm: 6.8284\n",
      "2021-05-17 09:24:14,711 - mmdet - INFO - Epoch [1][200/655]\tlr: 7.972e-05, eta: 1:09:49, time: 0.528, data_time: 0.007, memory: 3494, loss_rpn_cls: 0.1635, loss_rpn_bbox: 0.0951, loss_cls: 0.4376, acc: 88.4951, loss_bbox_cls: 0.2521, loss_bbox_reg: 0.3610, loss: 1.3094, grad_norm: 6.8313\n",
      "2021-05-17 09:24:41,118 - mmdet - INFO - Epoch [1][250/655]\tlr: 9.970e-05, eta: 1:08:53, time: 0.528, data_time: 0.007, memory: 3494, loss_rpn_cls: 0.1303, loss_rpn_bbox: 0.0879, loss_cls: 0.4305, acc: 88.8467, loss_bbox_cls: 0.2326, loss_bbox_reg: 0.3440, loss: 1.2252, grad_norm: 6.9009\n",
      "2021-05-17 09:25:07,152 - mmdet - INFO - Epoch [1][300/655]\tlr: 1.197e-04, eta: 1:07:57, time: 0.521, data_time: 0.007, memory: 3494, loss_rpn_cls: 0.1345, loss_rpn_bbox: 0.0838, loss_cls: 0.4240, acc: 88.4766, loss_bbox_cls: 0.2248, loss_bbox_reg: 0.3507, loss: 1.2179, grad_norm: 6.8444\n",
      "2021-05-17 09:25:33,648 - mmdet - INFO - Epoch [1][350/655]\tlr: 1.397e-04, eta: 1:07:20, time: 0.530, data_time: 0.007, memory: 3494, loss_rpn_cls: 0.1160, loss_rpn_bbox: 0.0756, loss_cls: 0.4165, acc: 88.2109, loss_bbox_cls: 0.2222, loss_bbox_reg: 0.3604, loss: 1.1908, grad_norm: 7.2885\n",
      "2021-05-17 09:25:59,764 - mmdet - INFO - Epoch [1][400/655]\tlr: 1.596e-04, eta: 1:06:39, time: 0.522, data_time: 0.007, memory: 3494, loss_rpn_cls: 0.1193, loss_rpn_bbox: 0.0759, loss_cls: 0.4518, acc: 87.9014, loss_bbox_cls: 0.2198, loss_bbox_reg: 0.3580, loss: 1.2248, grad_norm: 7.3560\n",
      "2021-05-17 09:26:26,288 - mmdet - INFO - Epoch [1][450/655]\tlr: 1.796e-04, eta: 1:06:07, time: 0.530, data_time: 0.007, memory: 3494, loss_rpn_cls: 0.1179, loss_rpn_bbox: 0.0862, loss_cls: 0.4280, acc: 88.6748, loss_bbox_cls: 0.1968, loss_bbox_reg: 0.3273, loss: 1.1561, grad_norm: 7.5588\n",
      "2021-05-17 09:26:52,365 - mmdet - INFO - Epoch [1][500/655]\tlr: 1.996e-04, eta: 1:05:30, time: 0.522, data_time: 0.007, memory: 3494, loss_rpn_cls: 0.1048, loss_rpn_bbox: 0.0706, loss_cls: 0.3948, acc: 89.1689, loss_bbox_cls: 0.1895, loss_bbox_reg: 0.3116, loss: 1.0713, grad_norm: 6.3994\n",
      "2021-05-17 09:27:18,431 - mmdet - INFO - Epoch [1][550/655]\tlr: 2.000e-04, eta: 1:04:55, time: 0.521, data_time: 0.007, memory: 3494, loss_rpn_cls: 0.1116, loss_rpn_bbox: 0.0776, loss_cls: 0.4230, acc: 88.5908, loss_bbox_cls: 0.1893, loss_bbox_reg: 0.3144, loss: 1.1158, grad_norm: 6.3572\n",
      "2021-05-17 09:27:44,312 - mmdet - INFO - Epoch [1][600/655]\tlr: 2.000e-04, eta: 1:04:19, time: 0.518, data_time: 0.007, memory: 3494, loss_rpn_cls: 0.1240, loss_rpn_bbox: 0.0768, loss_cls: 0.4000, acc: 88.7070, loss_bbox_cls: 0.1902, loss_bbox_reg: 0.3133, loss: 1.1044, grad_norm: 5.8855\n",
      "2021-05-17 09:28:10,172 - mmdet - INFO - Epoch [1][650/655]\tlr: 2.000e-04, eta: 1:03:45, time: 0.517, data_time: 0.007, memory: 3494, loss_rpn_cls: 0.1020, loss_rpn_bbox: 0.0662, loss_cls: 0.3926, acc: 88.8779, loss_bbox_cls: 0.1755, loss_bbox_reg: 0.3010, loss: 1.0373, grad_norm: 5.7604\n",
      "2021-05-17 09:28:12,800 - mmdet - INFO - Saving checkpoint at 1 epochs\n"
     ]
    },
    {
     "name": "stdout",
     "output_type": "stream",
     "text": [
      "[>>>>>>>>>>>>>>>>>>>>>>>>>>>>>] 655/655, 13.5 task/s, elapsed: 49s, ETA:     0s"
     ]
    },
    {
     "name": "stderr",
     "output_type": "stream",
     "text": [
      "2021-05-17 09:29:06,937 - mmdet - INFO - Evaluating bbox...\n"
     ]
    },
    {
     "name": "stdout",
     "output_type": "stream",
     "text": [
      "Loading and preparing results...\n",
      "DONE (t=0.72s)\n",
      "creating index...\n",
      "index created!\n",
      "Running per image evaluation...\n",
      "Evaluate annotation type *bbox*\n",
      "DONE (t=8.49s).\n",
      "Accumulating evaluation results...\n",
      "DONE (t=1.68s).\n",
      "Average Precision  (AP) @[ IoU=0.50:0.95 | area=   all | maxDets=100 ] = 0.070\n",
      "Average Precision  (AP) @[ IoU=0.50      | area=   all | maxDets=1000 ] = 0.141\n",
      "Average Precision  (AP) @[ IoU=0.75      | area=   all | maxDets=1000 ] = 0.063\n",
      "Average Precision  (AP) @[ IoU=0.50:0.95 | area= small | maxDets=1000 ] = 0.013\n",
      "Average Precision  (AP) @[ IoU=0.50:0.95 | area=medium | maxDets=1000 ] = 0.075\n",
      "Average Precision  (AP) @[ IoU=0.50:0.95 | area= large | maxDets=1000 ] = 0.129\n",
      "Average Recall     (AR) @[ IoU=0.50:0.95 | area=   all | maxDets=100 ] = 0.227\n",
      "Average Recall     (AR) @[ IoU=0.50:0.95 | area=   all | maxDets=300 ] = 0.227\n",
      "Average Recall     (AR) @[ IoU=0.50:0.95 | area=   all | maxDets=1000 ] = 0.227\n",
      "Average Recall     (AR) @[ IoU=0.50:0.95 | area= small | maxDets=1000 ] = 0.073\n",
      "Average Recall     (AR) @[ IoU=0.50:0.95 | area=medium | maxDets=1000 ] = 0.207\n",
      "Average Recall     (AR) @[ IoU=0.50:0.95 | area= large | maxDets=1000 ] = 0.398\n"
     ]
    },
    {
     "name": "stderr",
     "output_type": "stream",
     "text": [
      "2021-05-17 09:29:18,671 - mmdet - INFO - Now best checkpoint is epoch_1.pth.Best bbox_mAP_50 is 0.1410\n",
      "2021-05-17 09:29:18,679 - mmdet - INFO - Epoch(val) [1][655]\tbbox_mAP: 0.0700, bbox_mAP_50: 0.1410, bbox_mAP_75: 0.0630, bbox_mAP_s: 0.0130, bbox_mAP_m: 0.0750, bbox_mAP_l: 0.1290, bbox_mAP_copypaste: 0.070 0.141 0.063 0.013 0.075 0.129\n",
      "2021-05-17 09:29:46,860 - mmdet - INFO - Epoch [2][50/655]\tlr: 2.000e-04, eta: 1:03:05, time: 0.563, data_time: 0.050, memory: 3494, loss_rpn_cls: 0.0943, loss_rpn_bbox: 0.0829, loss_cls: 0.3848, acc: 88.9512, loss_bbox_cls: 0.1817, loss_bbox_reg: 0.3081, loss: 1.0518, grad_norm: 6.3193\n",
      "2021-05-17 09:30:12,829 - mmdet - INFO - Epoch [2][100/655]\tlr: 2.000e-04, eta: 1:02:34, time: 0.519, data_time: 0.007, memory: 3494, loss_rpn_cls: 0.0860, loss_rpn_bbox: 0.0671, loss_cls: 0.3797, acc: 89.2090, loss_bbox_cls: 0.1716, loss_bbox_reg: 0.2996, loss: 1.0041, grad_norm: 5.7403\n",
      "2021-05-17 09:30:38,828 - mmdet - INFO - Epoch [2][150/655]\tlr: 2.000e-04, eta: 1:02:04, time: 0.520, data_time: 0.007, memory: 3494, loss_rpn_cls: 0.0839, loss_rpn_bbox: 0.0614, loss_cls: 0.3826, acc: 89.0693, loss_bbox_cls: 0.1661, loss_bbox_reg: 0.2895, loss: 0.9834, grad_norm: 5.5694\n",
      "2021-05-17 09:31:04,758 - mmdet - INFO - Epoch [2][200/655]\tlr: 2.000e-04, eta: 1:01:34, time: 0.519, data_time: 0.007, memory: 3494, loss_rpn_cls: 0.0969, loss_rpn_bbox: 0.0730, loss_cls: 0.4175, acc: 88.1152, loss_bbox_cls: 0.1852, loss_bbox_reg: 0.3152, loss: 1.0878, grad_norm: 5.8661\n",
      "2021-05-17 09:31:31,569 - mmdet - INFO - Epoch [2][250/655]\tlr: 2.000e-04, eta: 1:01:11, time: 0.536, data_time: 0.007, memory: 3494, loss_rpn_cls: 0.0866, loss_rpn_bbox: 0.0671, loss_cls: 0.3904, acc: 88.9814, loss_bbox_cls: 0.1711, loss_bbox_reg: 0.2941, loss: 1.0092, grad_norm: 5.6470\n",
      "2021-05-17 09:31:57,582 - mmdet - INFO - Epoch [2][300/655]\tlr: 2.000e-04, eta: 1:00:42, time: 0.520, data_time: 0.007, memory: 3494, loss_rpn_cls: 0.0709, loss_rpn_bbox: 0.0524, loss_cls: 0.3792, acc: 89.3174, loss_bbox_cls: 0.1658, loss_bbox_reg: 0.2918, loss: 0.9602, grad_norm: 6.3092\n",
      "2021-05-17 09:32:23,497 - mmdet - INFO - Epoch [2][350/655]\tlr: 2.000e-04, eta: 1:00:12, time: 0.518, data_time: 0.007, memory: 3494, loss_rpn_cls: 0.0789, loss_rpn_bbox: 0.0612, loss_cls: 0.3583, acc: 89.4121, loss_bbox_cls: 0.1610, loss_bbox_reg: 0.2879, loss: 0.9473, grad_norm: 5.7920\n",
      "2021-05-17 09:32:49,541 - mmdet - INFO - Epoch [2][400/655]\tlr: 2.000e-04, eta: 0:59:44, time: 0.521, data_time: 0.007, memory: 3494, loss_rpn_cls: 0.0922, loss_rpn_bbox: 0.0711, loss_cls: 0.3878, acc: 88.6582, loss_bbox_cls: 0.1696, loss_bbox_reg: 0.2882, loss: 1.0089, grad_norm: 5.7445\n",
      "2021-05-17 09:33:15,708 - mmdet - INFO - Epoch [2][450/655]\tlr: 2.000e-04, eta: 0:59:16, time: 0.523, data_time: 0.007, memory: 3494, loss_rpn_cls: 0.1074, loss_rpn_bbox: 0.0697, loss_cls: 0.3596, acc: 89.6572, loss_bbox_cls: 0.1559, loss_bbox_reg: 0.2714, loss: 0.9640, grad_norm: 5.4962\n",
      "2021-05-17 09:33:41,523 - mmdet - INFO - Epoch [2][500/655]\tlr: 2.000e-04, eta: 0:58:47, time: 0.516, data_time: 0.007, memory: 3494, loss_rpn_cls: 0.0795, loss_rpn_bbox: 0.0555, loss_cls: 0.3447, acc: 90.0859, loss_bbox_cls: 0.1460, loss_bbox_reg: 0.2580, loss: 0.8837, grad_norm: 5.6747\n",
      "2021-05-17 09:34:07,648 - mmdet - INFO - Epoch [2][550/655]\tlr: 2.000e-04, eta: 0:58:20, time: 0.522, data_time: 0.007, memory: 3494, loss_rpn_cls: 0.0937, loss_rpn_bbox: 0.0711, loss_cls: 0.3886, acc: 88.5859, loss_bbox_cls: 0.1787, loss_bbox_reg: 0.3080, loss: 1.0401, grad_norm: 5.7732\n",
      "2021-05-17 09:34:33,612 - mmdet - INFO - Epoch [2][600/655]\tlr: 2.000e-04, eta: 0:57:52, time: 0.519, data_time: 0.007, memory: 3494, loss_rpn_cls: 0.0759, loss_rpn_bbox: 0.0573, loss_cls: 0.3816, acc: 88.8467, loss_bbox_cls: 0.1647, loss_bbox_reg: 0.2922, loss: 0.9717, grad_norm: 5.4627\n",
      "2021-05-17 09:34:59,465 - mmdet - INFO - Epoch [2][650/655]\tlr: 2.000e-04, eta: 0:57:23, time: 0.517, data_time: 0.007, memory: 3494, loss_rpn_cls: 0.0884, loss_rpn_bbox: 0.0662, loss_cls: 0.3936, acc: 88.7490, loss_bbox_cls: 0.1678, loss_bbox_reg: 0.2906, loss: 1.0065, grad_norm: 5.9225\n",
      "2021-05-17 09:35:02,214 - mmdet - INFO - Saving checkpoint at 2 epochs\n"
     ]
    },
    {
     "name": "stdout",
     "output_type": "stream",
     "text": [
      "[>>>>>>>>>>>>>>>>>>>>>>>>>>>>>] 655/655, 13.2 task/s, elapsed: 50s, ETA:     0s"
     ]
    },
    {
     "name": "stderr",
     "output_type": "stream",
     "text": [
      "2021-05-17 09:35:53,994 - mmdet - INFO - Evaluating bbox...\n"
     ]
    },
    {
     "name": "stdout",
     "output_type": "stream",
     "text": [
      "Loading and preparing results...\n",
      "DONE (t=1.12s)\n",
      "creating index...\n",
      "index created!\n",
      "Running per image evaluation...\n",
      "Evaluate annotation type *bbox*\n",
      "DONE (t=7.11s).\n",
      "Accumulating evaluation results...\n",
      "DONE (t=1.25s).\n",
      "Average Precision  (AP) @[ IoU=0.50:0.95 | area=   all | maxDets=100 ] = 0.120\n",
      "Average Precision  (AP) @[ IoU=0.50      | area=   all | maxDets=1000 ] = 0.208\n",
      "Average Precision  (AP) @[ IoU=0.75      | area=   all | maxDets=1000 ] = 0.118\n",
      "Average Precision  (AP) @[ IoU=0.50:0.95 | area= small | maxDets=1000 ] = 0.038\n",
      "Average Precision  (AP) @[ IoU=0.50:0.95 | area=medium | maxDets=1000 ] = 0.126\n",
      "Average Precision  (AP) @[ IoU=0.50:0.95 | area= large | maxDets=1000 ] = 0.209\n",
      "Average Recall     (AR) @[ IoU=0.50:0.95 | area=   all | maxDets=100 ] = 0.289\n",
      "Average Recall     (AR) @[ IoU=0.50:0.95 | area=   all | maxDets=300 ] = 0.289\n",
      "Average Recall     (AR) @[ IoU=0.50:0.95 | area=   all | maxDets=1000 ] = 0.289\n",
      "Average Recall     (AR) @[ IoU=0.50:0.95 | area= small | maxDets=1000 ] = 0.103\n",
      "Average Recall     (AR) @[ IoU=0.50:0.95 | area=medium | maxDets=1000 ] = 0.285\n",
      "Average Recall     (AR) @[ IoU=0.50:0.95 | area= large | maxDets=1000 ] = 0.449\n"
     ]
    },
    {
     "name": "stderr",
     "output_type": "stream",
     "text": [
      "2021-05-17 09:36:06,948 - mmdet - INFO - Now best checkpoint is epoch_2.pth.Best bbox_mAP_50 is 0.2080\n",
      "2021-05-17 09:36:06,954 - mmdet - INFO - Epoch(val) [2][655]\tbbox_mAP: 0.1200, bbox_mAP_50: 0.2080, bbox_mAP_75: 0.1180, bbox_mAP_s: 0.0380, bbox_mAP_m: 0.1260, bbox_mAP_l: 0.2090, bbox_mAP_copypaste: 0.120 0.208 0.118 0.038 0.126 0.209\n",
      "2021-05-17 09:36:34,902 - mmdet - INFO - Epoch [3][50/655]\tlr: 2.000e-04, eta: 0:56:50, time: 0.559, data_time: 0.050, memory: 3494, loss_rpn_cls: 0.0647, loss_rpn_bbox: 0.0582, loss_cls: 0.3506, acc: 89.3047, loss_bbox_cls: 0.1635, loss_bbox_reg: 0.2870, loss: 0.9240, grad_norm: 6.1490\n",
      "2021-05-17 09:37:00,871 - mmdet - INFO - Epoch [3][100/655]\tlr: 2.000e-04, eta: 0:56:22, time: 0.519, data_time: 0.007, memory: 3494, loss_rpn_cls: 0.0736, loss_rpn_bbox: 0.0697, loss_cls: 0.3551, acc: 89.2266, loss_bbox_cls: 0.1600, loss_bbox_reg: 0.2820, loss: 0.9404, grad_norm: 5.9361\n",
      "2021-05-17 09:37:26,752 - mmdet - INFO - Epoch [3][150/655]\tlr: 2.000e-04, eta: 0:55:55, time: 0.518, data_time: 0.007, memory: 3494, loss_rpn_cls: 0.0689, loss_rpn_bbox: 0.0670, loss_cls: 0.3769, acc: 88.8096, loss_bbox_cls: 0.1647, loss_bbox_reg: 0.2872, loss: 0.9647, grad_norm: 5.8543\n",
      "2021-05-17 09:37:52,691 - mmdet - INFO - Epoch [3][200/655]\tlr: 2.000e-04, eta: 0:55:27, time: 0.519, data_time: 0.007, memory: 3494, loss_rpn_cls: 0.0659, loss_rpn_bbox: 0.0616, loss_cls: 0.3833, acc: 88.6348, loss_bbox_cls: 0.1637, loss_bbox_reg: 0.2904, loss: 0.9648, grad_norm: 5.2325\n",
      "2021-05-17 09:38:18,629 - mmdet - INFO - Epoch [3][250/655]\tlr: 2.000e-04, eta: 0:55:00, time: 0.519, data_time: 0.007, memory: 3494, loss_rpn_cls: 0.0673, loss_rpn_bbox: 0.0524, loss_cls: 0.3187, acc: 90.2734, loss_bbox_cls: 0.1346, loss_bbox_reg: 0.2463, loss: 0.8193, grad_norm: 5.6496\n",
      "2021-05-17 09:38:44,368 - mmdet - INFO - Epoch [3][300/655]\tlr: 2.000e-04, eta: 0:54:32, time: 0.515, data_time: 0.007, memory: 3494, loss_rpn_cls: 0.0783, loss_rpn_bbox: 0.0563, loss_cls: 0.3660, acc: 89.3105, loss_bbox_cls: 0.1562, loss_bbox_reg: 0.2778, loss: 0.9346, grad_norm: 5.7420\n",
      "2021-05-17 09:39:10,434 - mmdet - INFO - Epoch [3][350/655]\tlr: 2.000e-04, eta: 0:54:05, time: 0.521, data_time: 0.007, memory: 3494, loss_rpn_cls: 0.0663, loss_rpn_bbox: 0.0558, loss_cls: 0.3653, acc: 89.1738, loss_bbox_cls: 0.1561, loss_bbox_reg: 0.2724, loss: 0.9159, grad_norm: 5.8602\n",
      "2021-05-17 09:39:36,328 - mmdet - INFO - Epoch [3][400/655]\tlr: 2.000e-04, eta: 0:53:38, time: 0.518, data_time: 0.007, memory: 3494, loss_rpn_cls: 0.0709, loss_rpn_bbox: 0.0583, loss_cls: 0.3590, acc: 89.1699, loss_bbox_cls: 0.1587, loss_bbox_reg: 0.2780, loss: 0.9248, grad_norm: 5.6533\n",
      "2021-05-17 09:40:02,436 - mmdet - INFO - Epoch [3][450/655]\tlr: 2.000e-04, eta: 0:53:12, time: 0.522, data_time: 0.007, memory: 3494, loss_rpn_cls: 0.0820, loss_rpn_bbox: 0.0655, loss_cls: 0.3740, acc: 89.2363, loss_bbox_cls: 0.1583, loss_bbox_reg: 0.2805, loss: 0.9603, grad_norm: 5.7530\n",
      "2021-05-17 09:40:28,627 - mmdet - INFO - Epoch [3][500/655]\tlr: 2.000e-04, eta: 0:52:46, time: 0.524, data_time: 0.007, memory: 3494, loss_rpn_cls: 0.0701, loss_rpn_bbox: 0.0596, loss_cls: 0.3355, acc: 89.8711, loss_bbox_cls: 0.1509, loss_bbox_reg: 0.2670, loss: 0.8830, grad_norm: 5.4988\n",
      "2021-05-17 09:40:54,294 - mmdet - INFO - Epoch [3][550/655]\tlr: 2.000e-04, eta: 0:52:18, time: 0.513, data_time: 0.007, memory: 3494, loss_rpn_cls: 0.0628, loss_rpn_bbox: 0.0582, loss_cls: 0.3580, acc: 89.4014, loss_bbox_cls: 0.1497, loss_bbox_reg: 0.2670, loss: 0.8956, grad_norm: 5.6493\n",
      "2021-05-17 09:41:19,965 - mmdet - INFO - Epoch [3][600/655]\tlr: 2.000e-04, eta: 0:51:50, time: 0.513, data_time: 0.007, memory: 3494, loss_rpn_cls: 0.0682, loss_rpn_bbox: 0.0586, loss_cls: 0.3393, acc: 90.0938, loss_bbox_cls: 0.1390, loss_bbox_reg: 0.2445, loss: 0.8497, grad_norm: 5.7223\n",
      "2021-05-17 09:41:45,977 - mmdet - INFO - Epoch [3][650/655]\tlr: 2.000e-04, eta: 0:51:24, time: 0.520, data_time: 0.007, memory: 3494, loss_rpn_cls: 0.0726, loss_rpn_bbox: 0.0591, loss_cls: 0.3431, acc: 89.9756, loss_bbox_cls: 0.1454, loss_bbox_reg: 0.2585, loss: 0.8787, grad_norm: 5.3273\n",
      "2021-05-17 09:41:48,610 - mmdet - INFO - Saving checkpoint at 3 epochs\n"
     ]
    },
    {
     "name": "stdout",
     "output_type": "stream",
     "text": [
      "[>>>>>>>>>>>>>>>>>>>>>>>>>>>>>] 655/655, 13.3 task/s, elapsed: 49s, ETA:     0s"
     ]
    },
    {
     "name": "stderr",
     "output_type": "stream",
     "text": [
      "2021-05-17 09:42:40,124 - mmdet - INFO - Evaluating bbox...\n"
     ]
    },
    {
     "name": "stdout",
     "output_type": "stream",
     "text": [
      "Loading and preparing results...\n",
      "DONE (t=0.59s)\n",
      "creating index...\n",
      "index created!\n",
      "Running per image evaluation...\n",
      "Evaluate annotation type *bbox*\n",
      "DONE (t=6.97s).\n",
      "Accumulating evaluation results...\n",
      "DONE (t=1.04s).\n",
      "Average Precision  (AP) @[ IoU=0.50:0.95 | area=   all | maxDets=100 ] = 0.145\n",
      "Average Precision  (AP) @[ IoU=0.50      | area=   all | maxDets=1000 ] = 0.251\n",
      "Average Precision  (AP) @[ IoU=0.75      | area=   all | maxDets=1000 ] = 0.145\n",
      "Average Precision  (AP) @[ IoU=0.50:0.95 | area= small | maxDets=1000 ] = 0.037\n",
      "Average Precision  (AP) @[ IoU=0.50:0.95 | area=medium | maxDets=1000 ] = 0.143\n",
      "Average Precision  (AP) @[ IoU=0.50:0.95 | area= large | maxDets=1000 ] = 0.276\n",
      "Average Recall     (AR) @[ IoU=0.50:0.95 | area=   all | maxDets=100 ] = 0.301\n",
      "Average Recall     (AR) @[ IoU=0.50:0.95 | area=   all | maxDets=300 ] = 0.301\n",
      "Average Recall     (AR) @[ IoU=0.50:0.95 | area=   all | maxDets=1000 ] = 0.301\n",
      "Average Recall     (AR) @[ IoU=0.50:0.95 | area= small | maxDets=1000 ] = 0.098\n",
      "Average Recall     (AR) @[ IoU=0.50:0.95 | area=medium | maxDets=1000 ] = 0.274\n",
      "Average Recall     (AR) @[ IoU=0.50:0.95 | area= large | maxDets=1000 ] = 0.562\n"
     ]
    },
    {
     "name": "stderr",
     "output_type": "stream",
     "text": [
      "2021-05-17 09:42:52,211 - mmdet - INFO - Now best checkpoint is epoch_3.pth.Best bbox_mAP_50 is 0.2510\n",
      "2021-05-17 09:42:52,217 - mmdet - INFO - Epoch(val) [3][655]\tbbox_mAP: 0.1450, bbox_mAP_50: 0.2510, bbox_mAP_75: 0.1450, bbox_mAP_s: 0.0370, bbox_mAP_m: 0.1430, bbox_mAP_l: 0.2760, bbox_mAP_copypaste: 0.145 0.251 0.145 0.037 0.143 0.276\n",
      "2021-05-17 09:43:20,603 - mmdet - INFO - Epoch [4][50/655]\tlr: 2.000e-04, eta: 0:50:54, time: 0.568, data_time: 0.050, memory: 3494, loss_rpn_cls: 0.0547, loss_rpn_bbox: 0.0526, loss_cls: 0.3215, acc: 90.2480, loss_bbox_cls: 0.1360, loss_bbox_reg: 0.2509, loss: 0.8158, grad_norm: 5.7264\n",
      "2021-05-17 09:43:47,257 - mmdet - INFO - Epoch [4][100/655]\tlr: 2.000e-04, eta: 0:50:29, time: 0.533, data_time: 0.007, memory: 3494, loss_rpn_cls: 0.0565, loss_rpn_bbox: 0.0686, loss_cls: 0.3530, acc: 88.9053, loss_bbox_cls: 0.1608, loss_bbox_reg: 0.2852, loss: 0.9240, grad_norm: 5.6894\n",
      "2021-05-17 09:44:13,039 - mmdet - INFO - Epoch [4][150/655]\tlr: 2.000e-04, eta: 0:50:02, time: 0.516, data_time: 0.007, memory: 3494, loss_rpn_cls: 0.0665, loss_rpn_bbox: 0.0684, loss_cls: 0.3506, acc: 89.1201, loss_bbox_cls: 0.1605, loss_bbox_reg: 0.2849, loss: 0.9309, grad_norm: 6.2029\n",
      "2021-05-17 09:44:38,944 - mmdet - INFO - Epoch [4][200/655]\tlr: 2.000e-04, eta: 0:49:35, time: 0.518, data_time: 0.007, memory: 3494, loss_rpn_cls: 0.0524, loss_rpn_bbox: 0.0520, loss_cls: 0.3354, acc: 89.7002, loss_bbox_cls: 0.1456, loss_bbox_reg: 0.2637, loss: 0.8492, grad_norm: 6.1015\n",
      "2021-05-17 09:45:04,960 - mmdet - INFO - Epoch [4][250/655]\tlr: 2.000e-04, eta: 0:49:09, time: 0.520, data_time: 0.007, memory: 3494, loss_rpn_cls: 0.0565, loss_rpn_bbox: 0.0530, loss_cls: 0.3503, acc: 89.3604, loss_bbox_cls: 0.1410, loss_bbox_reg: 0.2608, loss: 0.8615, grad_norm: 6.0217\n",
      "2021-05-17 09:45:31,292 - mmdet - INFO - Epoch [4][300/655]\tlr: 2.000e-04, eta: 0:48:43, time: 0.527, data_time: 0.007, memory: 3494, loss_rpn_cls: 0.0601, loss_rpn_bbox: 0.0530, loss_cls: 0.3233, acc: 90.1523, loss_bbox_cls: 0.1361, loss_bbox_reg: 0.2442, loss: 0.8167, grad_norm: 5.5331\n",
      "2021-05-17 09:45:57,090 - mmdet - INFO - Epoch [4][350/655]\tlr: 2.000e-04, eta: 0:48:16, time: 0.516, data_time: 0.007, memory: 3494, loss_rpn_cls: 0.0641, loss_rpn_bbox: 0.0581, loss_cls: 0.3563, acc: 89.2842, loss_bbox_cls: 0.1456, loss_bbox_reg: 0.2587, loss: 0.8828, grad_norm: 5.5721\n",
      "2021-05-17 09:46:23,318 - mmdet - INFO - Epoch [4][400/655]\tlr: 2.000e-04, eta: 0:47:51, time: 0.525, data_time: 0.008, memory: 3494, loss_rpn_cls: 0.0567, loss_rpn_bbox: 0.0510, loss_cls: 0.3419, acc: 89.7148, loss_bbox_cls: 0.1388, loss_bbox_reg: 0.2554, loss: 0.8438, grad_norm: 5.8404\n",
      "2021-05-17 09:46:49,056 - mmdet - INFO - Epoch [4][450/655]\tlr: 2.000e-04, eta: 0:47:24, time: 0.515, data_time: 0.007, memory: 3494, loss_rpn_cls: 0.0641, loss_rpn_bbox: 0.0553, loss_cls: 0.3216, acc: 90.4131, loss_bbox_cls: 0.1374, loss_bbox_reg: 0.2460, loss: 0.8245, grad_norm: 5.7534\n",
      "2021-05-17 09:47:14,856 - mmdet - INFO - Epoch [4][500/655]\tlr: 2.000e-04, eta: 0:46:57, time: 0.516, data_time: 0.007, memory: 3494, loss_rpn_cls: 0.0631, loss_rpn_bbox: 0.0541, loss_cls: 0.3274, acc: 89.9463, loss_bbox_cls: 0.1433, loss_bbox_reg: 0.2584, loss: 0.8463, grad_norm: 5.7745\n",
      "2021-05-17 09:47:40,601 - mmdet - INFO - Epoch [4][550/655]\tlr: 2.000e-04, eta: 0:46:30, time: 0.515, data_time: 0.008, memory: 3494, loss_rpn_cls: 0.0632, loss_rpn_bbox: 0.0586, loss_cls: 0.3372, acc: 89.9395, loss_bbox_cls: 0.1395, loss_bbox_reg: 0.2508, loss: 0.8493, grad_norm: 6.1256\n",
      "2021-05-17 09:48:06,404 - mmdet - INFO - Epoch [4][600/655]\tlr: 2.000e-04, eta: 0:46:03, time: 0.516, data_time: 0.007, memory: 3494, loss_rpn_cls: 0.0598, loss_rpn_bbox: 0.0617, loss_cls: 0.3426, acc: 89.4990, loss_bbox_cls: 0.1471, loss_bbox_reg: 0.2661, loss: 0.8772, grad_norm: 5.9097\n",
      "2021-05-17 09:48:32,193 - mmdet - INFO - Epoch [4][650/655]\tlr: 2.000e-04, eta: 0:45:36, time: 0.516, data_time: 0.008, memory: 3494, loss_rpn_cls: 0.0623, loss_rpn_bbox: 0.0587, loss_cls: 0.3547, acc: 89.4150, loss_bbox_cls: 0.1488, loss_bbox_reg: 0.2654, loss: 0.8900, grad_norm: 5.9745\n",
      "2021-05-17 09:48:34,856 - mmdet - INFO - Saving checkpoint at 4 epochs\n"
     ]
    },
    {
     "name": "stdout",
     "output_type": "stream",
     "text": [
      "[>>>>>>>>>>>>>>>>>>>>>>>>>>>>>] 655/655, 13.3 task/s, elapsed: 49s, ETA:     0s"
     ]
    },
    {
     "name": "stderr",
     "output_type": "stream",
     "text": [
      "2021-05-17 09:49:26,343 - mmdet - INFO - Evaluating bbox...\n"
     ]
    },
    {
     "name": "stdout",
     "output_type": "stream",
     "text": [
      "Loading and preparing results...\n",
      "DONE (t=0.66s)\n",
      "creating index...\n",
      "index created!\n",
      "Running per image evaluation...\n",
      "Evaluate annotation type *bbox*\n",
      "DONE (t=7.43s).\n",
      "Accumulating evaluation results...\n",
      "DONE (t=1.20s).\n",
      "Average Precision  (AP) @[ IoU=0.50:0.95 | area=   all | maxDets=100 ] = 0.151\n",
      "Average Precision  (AP) @[ IoU=0.50      | area=   all | maxDets=1000 ] = 0.259\n",
      "Average Precision  (AP) @[ IoU=0.75      | area=   all | maxDets=1000 ] = 0.147\n",
      "Average Precision  (AP) @[ IoU=0.50:0.95 | area= small | maxDets=1000 ] = 0.041\n",
      "Average Precision  (AP) @[ IoU=0.50:0.95 | area=medium | maxDets=1000 ] = 0.158\n",
      "Average Precision  (AP) @[ IoU=0.50:0.95 | area= large | maxDets=1000 ] = 0.253\n",
      "Average Recall     (AR) @[ IoU=0.50:0.95 | area=   all | maxDets=100 ] = 0.344\n",
      "Average Recall     (AR) @[ IoU=0.50:0.95 | area=   all | maxDets=300 ] = 0.344\n",
      "Average Recall     (AR) @[ IoU=0.50:0.95 | area=   all | maxDets=1000 ] = 0.344\n",
      "Average Recall     (AR) @[ IoU=0.50:0.95 | area= small | maxDets=1000 ] = 0.121\n",
      "Average Recall     (AR) @[ IoU=0.50:0.95 | area=medium | maxDets=1000 ] = 0.338\n",
      "Average Recall     (AR) @[ IoU=0.50:0.95 | area= large | maxDets=1000 ] = 0.499\n"
     ]
    },
    {
     "name": "stderr",
     "output_type": "stream",
     "text": [
      "2021-05-17 09:49:38,992 - mmdet - INFO - Now best checkpoint is epoch_4.pth.Best bbox_mAP_50 is 0.2590\n",
      "2021-05-17 09:49:39,001 - mmdet - INFO - Epoch(val) [4][655]\tbbox_mAP: 0.1510, bbox_mAP_50: 0.2590, bbox_mAP_75: 0.1470, bbox_mAP_s: 0.0410, bbox_mAP_m: 0.1580, bbox_mAP_l: 0.2530, bbox_mAP_copypaste: 0.151 0.259 0.147 0.041 0.158 0.253\n",
      "2021-05-17 09:50:07,013 - mmdet - INFO - Epoch [5][50/655]\tlr: 2.000e-04, eta: 0:45:06, time: 0.560, data_time: 0.050, memory: 3494, loss_rpn_cls: 0.0472, loss_rpn_bbox: 0.0546, loss_cls: 0.3138, acc: 90.1465, loss_bbox_cls: 0.1337, loss_bbox_reg: 0.2478, loss: 0.7971, grad_norm: 5.6585\n",
      "2021-05-17 09:50:32,798 - mmdet - INFO - Epoch [5][100/655]\tlr: 2.000e-04, eta: 0:44:40, time: 0.516, data_time: 0.007, memory: 3494, loss_rpn_cls: 0.0420, loss_rpn_bbox: 0.0564, loss_cls: 0.3018, acc: 90.4854, loss_bbox_cls: 0.1362, loss_bbox_reg: 0.2455, loss: 0.7819, grad_norm: 5.3071\n",
      "2021-05-17 09:50:58,376 - mmdet - INFO - Epoch [5][150/655]\tlr: 2.000e-04, eta: 0:44:13, time: 0.512, data_time: 0.007, memory: 3494, loss_rpn_cls: 0.0477, loss_rpn_bbox: 0.0593, loss_cls: 0.2912, acc: 90.9727, loss_bbox_cls: 0.1229, loss_bbox_reg: 0.2340, loss: 0.7550, grad_norm: 6.2677\n",
      "2021-05-17 09:51:24,133 - mmdet - INFO - Epoch [5][200/655]\tlr: 2.000e-04, eta: 0:43:46, time: 0.515, data_time: 0.007, memory: 3494, loss_rpn_cls: 0.0507, loss_rpn_bbox: 0.0517, loss_cls: 0.3150, acc: 90.1123, loss_bbox_cls: 0.1345, loss_bbox_reg: 0.2501, loss: 0.8019, grad_norm: 5.6237\n",
      "2021-05-17 09:51:49,741 - mmdet - INFO - Epoch [5][250/655]\tlr: 2.000e-04, eta: 0:43:19, time: 0.512, data_time: 0.007, memory: 3494, loss_rpn_cls: 0.0520, loss_rpn_bbox: 0.0560, loss_cls: 0.3316, acc: 89.8057, loss_bbox_cls: 0.1331, loss_bbox_reg: 0.2491, loss: 0.8218, grad_norm: 6.2416\n",
      "2021-05-17 09:52:15,089 - mmdet - INFO - Epoch [5][300/655]\tlr: 2.000e-04, eta: 0:42:52, time: 0.507, data_time: 0.007, memory: 3494, loss_rpn_cls: 0.0499, loss_rpn_bbox: 0.0546, loss_cls: 0.3279, acc: 89.9248, loss_bbox_cls: 0.1374, loss_bbox_reg: 0.2538, loss: 0.8238, grad_norm: 5.9371\n",
      "2021-05-17 09:52:40,552 - mmdet - INFO - Epoch [5][350/655]\tlr: 2.000e-04, eta: 0:42:25, time: 0.509, data_time: 0.007, memory: 3494, loss_rpn_cls: 0.0504, loss_rpn_bbox: 0.0512, loss_cls: 0.3171, acc: 90.0312, loss_bbox_cls: 0.1360, loss_bbox_reg: 0.2479, loss: 0.8024, grad_norm: 6.0580\n",
      "2021-05-17 09:53:06,158 - mmdet - INFO - Epoch [5][400/655]\tlr: 2.000e-04, eta: 0:41:58, time: 0.512, data_time: 0.007, memory: 3494, loss_rpn_cls: 0.0527, loss_rpn_bbox: 0.0579, loss_cls: 0.3419, acc: 89.5859, loss_bbox_cls: 0.1472, loss_bbox_reg: 0.2699, loss: 0.8696, grad_norm: 6.1816\n",
      "2021-05-17 09:53:31,728 - mmdet - INFO - Epoch [5][450/655]\tlr: 2.000e-04, eta: 0:41:32, time: 0.511, data_time: 0.007, memory: 3494, loss_rpn_cls: 0.0557, loss_rpn_bbox: 0.0558, loss_cls: 0.3345, acc: 89.5752, loss_bbox_cls: 0.1431, loss_bbox_reg: 0.2593, loss: 0.8483, grad_norm: 6.0589\n",
      "2021-05-17 09:53:57,468 - mmdet - INFO - Epoch [5][500/655]\tlr: 2.000e-04, eta: 0:41:05, time: 0.515, data_time: 0.007, memory: 3494, loss_rpn_cls: 0.0546, loss_rpn_bbox: 0.0575, loss_cls: 0.3197, acc: 90.0410, loss_bbox_cls: 0.1353, loss_bbox_reg: 0.2551, loss: 0.8222, grad_norm: 5.7413\n",
      "2021-05-17 09:54:23,314 - mmdet - INFO - Epoch [5][550/655]\tlr: 2.000e-04, eta: 0:40:39, time: 0.517, data_time: 0.007, memory: 3494, loss_rpn_cls: 0.0538, loss_rpn_bbox: 0.0511, loss_cls: 0.3135, acc: 90.3721, loss_bbox_cls: 0.1293, loss_bbox_reg: 0.2404, loss: 0.7881, grad_norm: 6.2265\n",
      "2021-05-17 09:54:49,038 - mmdet - INFO - Epoch [5][600/655]\tlr: 2.000e-04, eta: 0:40:13, time: 0.514, data_time: 0.007, memory: 3494, loss_rpn_cls: 0.0603, loss_rpn_bbox: 0.0632, loss_cls: 0.3588, acc: 88.9316, loss_bbox_cls: 0.1583, loss_bbox_reg: 0.2784, loss: 0.9190, grad_norm: 5.8412\n",
      "2021-05-17 09:55:14,647 - mmdet - INFO - Epoch [5][650/655]\tlr: 2.000e-04, eta: 0:39:46, time: 0.512, data_time: 0.007, memory: 3494, loss_rpn_cls: 0.0486, loss_rpn_bbox: 0.0521, loss_cls: 0.3091, acc: 90.5488, loss_bbox_cls: 0.1266, loss_bbox_reg: 0.2326, loss: 0.7690, grad_norm: 5.3828\n",
      "2021-05-17 09:55:17,297 - mmdet - INFO - Saving checkpoint at 5 epochs\n"
     ]
    },
    {
     "name": "stdout",
     "output_type": "stream",
     "text": [
      "[>>>>>>>>>>>>>>>>>>>>>>>>>>>>>] 655/655, 13.4 task/s, elapsed: 49s, ETA:     0s"
     ]
    },
    {
     "name": "stderr",
     "output_type": "stream",
     "text": [
      "2021-05-17 09:56:08,222 - mmdet - INFO - Evaluating bbox...\n"
     ]
    },
    {
     "name": "stdout",
     "output_type": "stream",
     "text": [
      "Loading and preparing results...\n",
      "DONE (t=0.59s)\n",
      "creating index...\n",
      "index created!\n",
      "Running per image evaluation...\n",
      "Evaluate annotation type *bbox*\n",
      "DONE (t=6.45s).\n",
      "Accumulating evaluation results...\n",
      "DONE (t=0.95s).\n",
      "Average Precision  (AP) @[ IoU=0.50:0.95 | area=   all | maxDets=100 ] = 0.186\n",
      "Average Precision  (AP) @[ IoU=0.50      | area=   all | maxDets=1000 ] = 0.303\n",
      "Average Precision  (AP) @[ IoU=0.75      | area=   all | maxDets=1000 ] = 0.185\n",
      "Average Precision  (AP) @[ IoU=0.50:0.95 | area= small | maxDets=1000 ] = 0.041\n",
      "Average Precision  (AP) @[ IoU=0.50:0.95 | area=medium | maxDets=1000 ] = 0.183\n",
      "Average Precision  (AP) @[ IoU=0.50:0.95 | area= large | maxDets=1000 ] = 0.315\n",
      "Average Recall     (AR) @[ IoU=0.50:0.95 | area=   all | maxDets=100 ] = 0.358\n",
      "Average Recall     (AR) @[ IoU=0.50:0.95 | area=   all | maxDets=300 ] = 0.358\n",
      "Average Recall     (AR) @[ IoU=0.50:0.95 | area=   all | maxDets=1000 ] = 0.358\n",
      "Average Recall     (AR) @[ IoU=0.50:0.95 | area= small | maxDets=1000 ] = 0.122\n",
      "Average Recall     (AR) @[ IoU=0.50:0.95 | area=medium | maxDets=1000 ] = 0.328\n",
      "Average Recall     (AR) @[ IoU=0.50:0.95 | area= large | maxDets=1000 ] = 0.610\n"
     ]
    },
    {
     "name": "stderr",
     "output_type": "stream",
     "text": [
      "2021-05-17 09:56:19,938 - mmdet - INFO - Now best checkpoint is epoch_5.pth.Best bbox_mAP_50 is 0.3030\n",
      "2021-05-17 09:56:19,944 - mmdet - INFO - Epoch(val) [5][655]\tbbox_mAP: 0.1860, bbox_mAP_50: 0.3030, bbox_mAP_75: 0.1850, bbox_mAP_s: 0.0410, bbox_mAP_m: 0.1830, bbox_mAP_l: 0.3150, bbox_mAP_copypaste: 0.186 0.303 0.185 0.041 0.183 0.315\n",
      "2021-05-17 09:56:47,798 - mmdet - INFO - Epoch [6][50/655]\tlr: 2.000e-04, eta: 0:39:16, time: 0.557, data_time: 0.050, memory: 3494, loss_rpn_cls: 0.0401, loss_rpn_bbox: 0.0474, loss_cls: 0.2698, acc: 91.2275, loss_bbox_cls: 0.1251, loss_bbox_reg: 0.2351, loss: 0.7175, grad_norm: 5.6582\n",
      "2021-05-17 09:57:13,516 - mmdet - INFO - Epoch [6][100/655]\tlr: 2.000e-04, eta: 0:38:50, time: 0.514, data_time: 0.007, memory: 3494, loss_rpn_cls: 0.0442, loss_rpn_bbox: 0.0569, loss_cls: 0.3023, acc: 90.2051, loss_bbox_cls: 0.1319, loss_bbox_reg: 0.2541, loss: 0.7894, grad_norm: 5.9316\n",
      "2021-05-17 09:57:39,122 - mmdet - INFO - Epoch [6][150/655]\tlr: 2.000e-04, eta: 0:38:24, time: 0.512, data_time: 0.007, memory: 3494, loss_rpn_cls: 0.0406, loss_rpn_bbox: 0.0557, loss_cls: 0.3121, acc: 89.9160, loss_bbox_cls: 0.1331, loss_bbox_reg: 0.2497, loss: 0.7913, grad_norm: 6.3765\n",
      "2021-05-17 09:58:04,620 - mmdet - INFO - Epoch [6][200/655]\tlr: 2.000e-04, eta: 0:37:57, time: 0.510, data_time: 0.007, memory: 3494, loss_rpn_cls: 0.0440, loss_rpn_bbox: 0.0559, loss_cls: 0.3233, acc: 89.7334, loss_bbox_cls: 0.1426, loss_bbox_reg: 0.2589, loss: 0.8247, grad_norm: 5.7280\n",
      "2021-05-17 09:58:30,205 - mmdet - INFO - Epoch [6][250/655]\tlr: 2.000e-04, eta: 0:37:31, time: 0.512, data_time: 0.007, memory: 3494, loss_rpn_cls: 0.0488, loss_rpn_bbox: 0.0626, loss_cls: 0.3345, acc: 89.2412, loss_bbox_cls: 0.1448, loss_bbox_reg: 0.2672, loss: 0.8578, grad_norm: 6.0253\n",
      "2021-05-17 09:58:56,142 - mmdet - INFO - Epoch [6][300/655]\tlr: 2.000e-04, eta: 0:37:05, time: 0.519, data_time: 0.007, memory: 3494, loss_rpn_cls: 0.0411, loss_rpn_bbox: 0.0502, loss_cls: 0.2873, acc: 90.9658, loss_bbox_cls: 0.1212, loss_bbox_reg: 0.2280, loss: 0.7278, grad_norm: 5.6078\n",
      "2021-05-17 09:59:21,780 - mmdet - INFO - Epoch [6][350/655]\tlr: 2.000e-04, eta: 0:36:38, time: 0.513, data_time: 0.007, memory: 3494, loss_rpn_cls: 0.0464, loss_rpn_bbox: 0.0543, loss_cls: 0.3059, acc: 90.2451, loss_bbox_cls: 0.1321, loss_bbox_reg: 0.2456, loss: 0.7843, grad_norm: 5.8451\n",
      "2021-05-17 09:59:47,150 - mmdet - INFO - Epoch [6][400/655]\tlr: 2.000e-04, eta: 0:36:12, time: 0.507, data_time: 0.007, memory: 3494, loss_rpn_cls: 0.0449, loss_rpn_bbox: 0.0531, loss_cls: 0.2989, acc: 90.2939, loss_bbox_cls: 0.1293, loss_bbox_reg: 0.2446, loss: 0.7708, grad_norm: 6.4500\n",
      "2021-05-17 10:00:12,551 - mmdet - INFO - Epoch [6][450/655]\tlr: 2.000e-04, eta: 0:35:45, time: 0.508, data_time: 0.007, memory: 3494, loss_rpn_cls: 0.0457, loss_rpn_bbox: 0.0476, loss_cls: 0.2875, acc: 90.8027, loss_bbox_cls: 0.1228, loss_bbox_reg: 0.2322, loss: 0.7358, grad_norm: 5.7016\n",
      "2021-05-17 10:00:37,951 - mmdet - INFO - Epoch [6][500/655]\tlr: 2.000e-04, eta: 0:35:19, time: 0.508, data_time: 0.007, memory: 3494, loss_rpn_cls: 0.0432, loss_rpn_bbox: 0.0502, loss_cls: 0.3055, acc: 90.3203, loss_bbox_cls: 0.1281, loss_bbox_reg: 0.2411, loss: 0.7680, grad_norm: 5.7477\n",
      "2021-05-17 10:01:03,587 - mmdet - INFO - Epoch [6][550/655]\tlr: 2.000e-04, eta: 0:34:52, time: 0.513, data_time: 0.007, memory: 3494, loss_rpn_cls: 0.0450, loss_rpn_bbox: 0.0517, loss_cls: 0.2869, acc: 90.9668, loss_bbox_cls: 0.1206, loss_bbox_reg: 0.2223, loss: 0.7265, grad_norm: 5.6968\n",
      "2021-05-17 10:01:30,255 - mmdet - INFO - Epoch [6][600/655]\tlr: 2.000e-04, eta: 0:34:27, time: 0.533, data_time: 0.007, memory: 3494, loss_rpn_cls: 0.0487, loss_rpn_bbox: 0.0516, loss_cls: 0.3246, acc: 89.8926, loss_bbox_cls: 0.1371, loss_bbox_reg: 0.2533, loss: 0.8153, grad_norm: 6.1231\n",
      "2021-05-17 10:01:56,161 - mmdet - INFO - Epoch [6][650/655]\tlr: 2.000e-04, eta: 0:34:01, time: 0.518, data_time: 0.007, memory: 3494, loss_rpn_cls: 0.0526, loss_rpn_bbox: 0.0603, loss_cls: 0.3154, acc: 89.8838, loss_bbox_cls: 0.1384, loss_bbox_reg: 0.2498, loss: 0.8166, grad_norm: 6.0866\n",
      "2021-05-17 10:01:58,735 - mmdet - INFO - Saving checkpoint at 6 epochs\n"
     ]
    },
    {
     "name": "stdout",
     "output_type": "stream",
     "text": [
      "[>>>>>>>>>>>>>>>>>>>>>>>>>>>>>] 655/655, 13.8 task/s, elapsed: 48s, ETA:     0s"
     ]
    },
    {
     "name": "stderr",
     "output_type": "stream",
     "text": [
      "2021-05-17 10:02:48,341 - mmdet - INFO - Evaluating bbox...\n"
     ]
    },
    {
     "name": "stdout",
     "output_type": "stream",
     "text": [
      "Loading and preparing results...\n",
      "DONE (t=0.64s)\n",
      "creating index...\n",
      "index created!\n",
      "Running per image evaluation...\n",
      "Evaluate annotation type *bbox*\n",
      "DONE (t=6.16s).\n",
      "Accumulating evaluation results...\n"
     ]
    },
    {
     "name": "stderr",
     "output_type": "stream",
     "text": [
      "2021-05-17 10:02:56,281 - mmdet - INFO - Epoch(val) [6][655]\tbbox_mAP: 0.1690, bbox_mAP_50: 0.2780, bbox_mAP_75: 0.1660, bbox_mAP_s: 0.0350, bbox_mAP_m: 0.1750, bbox_mAP_l: 0.2970, bbox_mAP_copypaste: 0.169 0.278 0.166 0.035 0.175 0.297\n"
     ]
    },
    {
     "name": "stdout",
     "output_type": "stream",
     "text": [
      "DONE (t=1.03s).\n",
      "Average Precision  (AP) @[ IoU=0.50:0.95 | area=   all | maxDets=100 ] = 0.169\n",
      "Average Precision  (AP) @[ IoU=0.50      | area=   all | maxDets=1000 ] = 0.278\n",
      "Average Precision  (AP) @[ IoU=0.75      | area=   all | maxDets=1000 ] = 0.166\n",
      "Average Precision  (AP) @[ IoU=0.50:0.95 | area= small | maxDets=1000 ] = 0.035\n",
      "Average Precision  (AP) @[ IoU=0.50:0.95 | area=medium | maxDets=1000 ] = 0.175\n",
      "Average Precision  (AP) @[ IoU=0.50:0.95 | area= large | maxDets=1000 ] = 0.297\n",
      "Average Recall     (AR) @[ IoU=0.50:0.95 | area=   all | maxDets=100 ] = 0.346\n",
      "Average Recall     (AR) @[ IoU=0.50:0.95 | area=   all | maxDets=300 ] = 0.346\n",
      "Average Recall     (AR) @[ IoU=0.50:0.95 | area=   all | maxDets=1000 ] = 0.346\n",
      "Average Recall     (AR) @[ IoU=0.50:0.95 | area= small | maxDets=1000 ] = 0.111\n",
      "Average Recall     (AR) @[ IoU=0.50:0.95 | area=medium | maxDets=1000 ] = 0.322\n",
      "Average Recall     (AR) @[ IoU=0.50:0.95 | area= large | maxDets=1000 ] = 0.592\n"
     ]
    },
    {
     "name": "stderr",
     "output_type": "stream",
     "text": [
      "2021-05-17 10:03:24,102 - mmdet - INFO - Epoch [7][50/655]\tlr: 2.000e-04, eta: 0:33:32, time: 0.556, data_time: 0.050, memory: 3494, loss_rpn_cls: 0.0276, loss_rpn_bbox: 0.0466, loss_cls: 0.2796, acc: 90.8574, loss_bbox_cls: 0.1196, loss_bbox_reg: 0.2319, loss: 0.7054, grad_norm: 5.8706\n",
      "2021-05-17 10:03:49,581 - mmdet - INFO - Epoch [7][100/655]\tlr: 2.000e-04, eta: 0:33:05, time: 0.510, data_time: 0.007, memory: 3494, loss_rpn_cls: 0.0349, loss_rpn_bbox: 0.0552, loss_cls: 0.2567, acc: 91.3281, loss_bbox_cls: 0.1228, loss_bbox_reg: 0.2352, loss: 0.7049, grad_norm: 5.4034\n",
      "2021-05-17 10:04:15,103 - mmdet - INFO - Epoch [7][150/655]\tlr: 2.000e-04, eta: 0:32:39, time: 0.510, data_time: 0.007, memory: 3494, loss_rpn_cls: 0.0352, loss_rpn_bbox: 0.0545, loss_cls: 0.2852, acc: 90.6299, loss_bbox_cls: 0.1329, loss_bbox_reg: 0.2519, loss: 0.7597, grad_norm: 5.9480\n",
      "2021-05-17 10:04:40,420 - mmdet - INFO - Epoch [7][200/655]\tlr: 2.000e-04, eta: 0:32:13, time: 0.506, data_time: 0.007, memory: 3494, loss_rpn_cls: 0.0308, loss_rpn_bbox: 0.0465, loss_cls: 0.2519, acc: 91.5068, loss_bbox_cls: 0.1130, loss_bbox_reg: 0.2218, loss: 0.6641, grad_norm: 6.0045\n",
      "2021-05-17 10:05:06,040 - mmdet - INFO - Epoch [7][250/655]\tlr: 2.000e-04, eta: 0:31:47, time: 0.512, data_time: 0.007, memory: 3494, loss_rpn_cls: 0.0379, loss_rpn_bbox: 0.0513, loss_cls: 0.2775, acc: 90.9727, loss_bbox_cls: 0.1201, loss_bbox_reg: 0.2292, loss: 0.7159, grad_norm: 6.0052\n",
      "2021-05-17 10:05:31,499 - mmdet - INFO - Epoch [7][300/655]\tlr: 2.000e-04, eta: 0:31:20, time: 0.509, data_time: 0.007, memory: 3494, loss_rpn_cls: 0.0408, loss_rpn_bbox: 0.0525, loss_cls: 0.2701, acc: 91.1475, loss_bbox_cls: 0.1292, loss_bbox_reg: 0.2413, loss: 0.7340, grad_norm: 5.7158\n",
      "2021-05-17 10:05:57,105 - mmdet - INFO - Epoch [7][350/655]\tlr: 2.000e-04, eta: 0:30:54, time: 0.512, data_time: 0.007, memory: 3494, loss_rpn_cls: 0.0362, loss_rpn_bbox: 0.0507, loss_cls: 0.2706, acc: 91.0898, loss_bbox_cls: 0.1263, loss_bbox_reg: 0.2372, loss: 0.7211, grad_norm: 6.0681\n",
      "2021-05-17 10:06:22,802 - mmdet - INFO - Epoch [7][400/655]\tlr: 2.000e-04, eta: 0:30:28, time: 0.514, data_time: 0.007, memory: 3494, loss_rpn_cls: 0.0381, loss_rpn_bbox: 0.0516, loss_cls: 0.2606, acc: 91.5625, loss_bbox_cls: 0.1149, loss_bbox_reg: 0.2178, loss: 0.6830, grad_norm: 5.8213\n",
      "2021-05-17 10:06:48,513 - mmdet - INFO - Epoch [7][450/655]\tlr: 2.000e-04, eta: 0:30:02, time: 0.514, data_time: 0.007, memory: 3494, loss_rpn_cls: 0.0359, loss_rpn_bbox: 0.0498, loss_cls: 0.2820, acc: 90.9375, loss_bbox_cls: 0.1159, loss_bbox_reg: 0.2246, loss: 0.7083, grad_norm: 6.3988\n",
      "2021-05-17 10:07:14,783 - mmdet - INFO - Epoch [7][500/655]\tlr: 2.000e-04, eta: 0:29:36, time: 0.525, data_time: 0.017, memory: 3494, loss_rpn_cls: 0.0424, loss_rpn_bbox: 0.0555, loss_cls: 0.3076, acc: 90.2500, loss_bbox_cls: 0.1271, loss_bbox_reg: 0.2458, loss: 0.7783, grad_norm: 6.2524\n",
      "2021-05-17 10:07:40,556 - mmdet - INFO - Epoch [7][550/655]\tlr: 2.000e-04, eta: 0:29:10, time: 0.515, data_time: 0.007, memory: 3494, loss_rpn_cls: 0.0377, loss_rpn_bbox: 0.0524, loss_cls: 0.2865, acc: 90.7803, loss_bbox_cls: 0.1242, loss_bbox_reg: 0.2364, loss: 0.7371, grad_norm: 5.7832\n",
      "2021-05-17 10:08:06,153 - mmdet - INFO - Epoch [7][600/655]\tlr: 2.000e-04, eta: 0:28:44, time: 0.512, data_time: 0.007, memory: 3494, loss_rpn_cls: 0.0345, loss_rpn_bbox: 0.0502, loss_cls: 0.2830, acc: 90.8574, loss_bbox_cls: 0.1203, loss_bbox_reg: 0.2293, loss: 0.7174, grad_norm: 5.9290\n",
      "2021-05-17 10:08:33,184 - mmdet - INFO - Epoch [7][650/655]\tlr: 2.000e-04, eta: 0:28:19, time: 0.541, data_time: 0.007, memory: 3494, loss_rpn_cls: 0.0419, loss_rpn_bbox: 0.0527, loss_cls: 0.3152, acc: 89.9551, loss_bbox_cls: 0.1362, loss_bbox_reg: 0.2512, loss: 0.7972, grad_norm: 6.2096\n",
      "2021-05-17 10:08:35,928 - mmdet - INFO - Saving checkpoint at 7 epochs\n"
     ]
    },
    {
     "name": "stdout",
     "output_type": "stream",
     "text": [
      "[>>>>>>>>>>>>>>>>>>>>>>>>>>>>>] 655/655, 13.6 task/s, elapsed: 48s, ETA:     0s"
     ]
    },
    {
     "name": "stderr",
     "output_type": "stream",
     "text": [
      "2021-05-17 10:09:26,099 - mmdet - INFO - Evaluating bbox...\n"
     ]
    },
    {
     "name": "stdout",
     "output_type": "stream",
     "text": [
      "Loading and preparing results...\n",
      "DONE (t=0.62s)\n",
      "creating index...\n",
      "index created!\n",
      "Running per image evaluation...\n",
      "Evaluate annotation type *bbox*\n",
      "DONE (t=6.74s).\n",
      "Accumulating evaluation results...\n"
     ]
    },
    {
     "name": "stderr",
     "output_type": "stream",
     "text": [
      "2021-05-17 10:09:34,592 - mmdet - INFO - Epoch(val) [7][655]\tbbox_mAP: 0.1800, bbox_mAP_50: 0.2980, bbox_mAP_75: 0.1820, bbox_mAP_s: 0.0350, bbox_mAP_m: 0.1710, bbox_mAP_l: 0.3240, bbox_mAP_copypaste: 0.180 0.298 0.182 0.035 0.171 0.324\n"
     ]
    },
    {
     "name": "stdout",
     "output_type": "stream",
     "text": [
      "DONE (t=1.03s).\n",
      "Average Precision  (AP) @[ IoU=0.50:0.95 | area=   all | maxDets=100 ] = 0.180\n",
      "Average Precision  (AP) @[ IoU=0.50      | area=   all | maxDets=1000 ] = 0.298\n",
      "Average Precision  (AP) @[ IoU=0.75      | area=   all | maxDets=1000 ] = 0.182\n",
      "Average Precision  (AP) @[ IoU=0.50:0.95 | area= small | maxDets=1000 ] = 0.035\n",
      "Average Precision  (AP) @[ IoU=0.50:0.95 | area=medium | maxDets=1000 ] = 0.171\n",
      "Average Precision  (AP) @[ IoU=0.50:0.95 | area= large | maxDets=1000 ] = 0.324\n",
      "Average Recall     (AR) @[ IoU=0.50:0.95 | area=   all | maxDets=100 ] = 0.347\n",
      "Average Recall     (AR) @[ IoU=0.50:0.95 | area=   all | maxDets=300 ] = 0.347\n",
      "Average Recall     (AR) @[ IoU=0.50:0.95 | area=   all | maxDets=1000 ] = 0.347\n",
      "Average Recall     (AR) @[ IoU=0.50:0.95 | area= small | maxDets=1000 ] = 0.124\n",
      "Average Recall     (AR) @[ IoU=0.50:0.95 | area=medium | maxDets=1000 ] = 0.313\n",
      "Average Recall     (AR) @[ IoU=0.50:0.95 | area= large | maxDets=1000 ] = 0.599\n"
     ]
    },
    {
     "name": "stderr",
     "output_type": "stream",
     "text": [
      "2021-05-17 10:10:02,523 - mmdet - INFO - Epoch [8][50/655]\tlr: 2.000e-04, eta: 0:27:50, time: 0.558, data_time: 0.050, memory: 3494, loss_rpn_cls: 0.0288, loss_rpn_bbox: 0.0471, loss_cls: 0.2460, acc: 91.8516, loss_bbox_cls: 0.1091, loss_bbox_reg: 0.2182, loss: 0.6493, grad_norm: 5.8661\n",
      "2021-05-17 10:10:28,017 - mmdet - INFO - Epoch [8][100/655]\tlr: 2.000e-04, eta: 0:27:24, time: 0.510, data_time: 0.007, memory: 3494, loss_rpn_cls: 0.0332, loss_rpn_bbox: 0.0586, loss_cls: 0.2694, acc: 91.0107, loss_bbox_cls: 0.1331, loss_bbox_reg: 0.2527, loss: 0.7469, grad_norm: 6.7078\n",
      "2021-05-17 10:10:53,669 - mmdet - INFO - Epoch [8][150/655]\tlr: 2.000e-04, eta: 0:26:58, time: 0.513, data_time: 0.007, memory: 3494, loss_rpn_cls: 0.0242, loss_rpn_bbox: 0.0442, loss_cls: 0.2473, acc: 91.8711, loss_bbox_cls: 0.1031, loss_bbox_reg: 0.2099, loss: 0.6288, grad_norm: 6.1017\n",
      "2021-05-17 10:11:19,268 - mmdet - INFO - Epoch [8][200/655]\tlr: 2.000e-04, eta: 0:26:32, time: 0.512, data_time: 0.007, memory: 3494, loss_rpn_cls: 0.0353, loss_rpn_bbox: 0.0490, loss_cls: 0.2677, acc: 90.9854, loss_bbox_cls: 0.1232, loss_bbox_reg: 0.2447, loss: 0.7199, grad_norm: 6.4384\n",
      "2021-05-17 10:11:44,671 - mmdet - INFO - Epoch [8][250/655]\tlr: 2.000e-04, eta: 0:26:06, time: 0.508, data_time: 0.007, memory: 3494, loss_rpn_cls: 0.0315, loss_rpn_bbox: 0.0477, loss_cls: 0.2514, acc: 91.8418, loss_bbox_cls: 0.1091, loss_bbox_reg: 0.2140, loss: 0.6537, grad_norm: 5.6427\n",
      "2021-05-17 10:12:09,987 - mmdet - INFO - Epoch [8][300/655]\tlr: 2.000e-04, eta: 0:25:39, time: 0.506, data_time: 0.007, memory: 3494, loss_rpn_cls: 0.0347, loss_rpn_bbox: 0.0493, loss_cls: 0.2654, acc: 91.2754, loss_bbox_cls: 0.1156, loss_bbox_reg: 0.2283, loss: 0.6933, grad_norm: 6.4293\n",
      "2021-05-17 10:12:35,374 - mmdet - INFO - Epoch [8][350/655]\tlr: 2.000e-04, eta: 0:25:13, time: 0.508, data_time: 0.007, memory: 3494, loss_rpn_cls: 0.0301, loss_rpn_bbox: 0.0487, loss_cls: 0.2564, acc: 91.2617, loss_bbox_cls: 0.1134, loss_bbox_reg: 0.2296, loss: 0.6781, grad_norm: 6.3205\n",
      "2021-05-17 10:13:00,845 - mmdet - INFO - Epoch [8][400/655]\tlr: 2.000e-04, eta: 0:24:47, time: 0.509, data_time: 0.007, memory: 3494, loss_rpn_cls: 0.0372, loss_rpn_bbox: 0.0544, loss_cls: 0.2863, acc: 90.6367, loss_bbox_cls: 0.1250, loss_bbox_reg: 0.2399, loss: 0.7429, grad_norm: 6.2253\n",
      "2021-05-17 10:13:26,390 - mmdet - INFO - Epoch [8][450/655]\tlr: 2.000e-04, eta: 0:24:21, time: 0.511, data_time: 0.007, memory: 3494, loss_rpn_cls: 0.0338, loss_rpn_bbox: 0.0459, loss_cls: 0.2485, acc: 91.7227, loss_bbox_cls: 0.1112, loss_bbox_reg: 0.2197, loss: 0.6591, grad_norm: 5.7935\n",
      "2021-05-17 10:13:52,115 - mmdet - INFO - Epoch [8][500/655]\tlr: 2.000e-04, eta: 0:23:55, time: 0.514, data_time: 0.007, memory: 3494, loss_rpn_cls: 0.0387, loss_rpn_bbox: 0.0497, loss_cls: 0.2693, acc: 90.9990, loss_bbox_cls: 0.1190, loss_bbox_reg: 0.2315, loss: 0.7083, grad_norm: 5.9214\n",
      "2021-05-17 10:14:18,116 - mmdet - INFO - Epoch [8][550/655]\tlr: 2.000e-04, eta: 0:23:29, time: 0.520, data_time: 0.008, memory: 3494, loss_rpn_cls: 0.0454, loss_rpn_bbox: 0.0612, loss_cls: 0.2798, acc: 90.9102, loss_bbox_cls: 0.1213, loss_bbox_reg: 0.2279, loss: 0.7356, grad_norm: 6.3293\n",
      "2021-05-17 10:14:43,939 - mmdet - INFO - Epoch [8][600/655]\tlr: 2.000e-04, eta: 0:23:03, time: 0.516, data_time: 0.007, memory: 3494, loss_rpn_cls: 0.0369, loss_rpn_bbox: 0.0532, loss_cls: 0.3074, acc: 89.9971, loss_bbox_cls: 0.1274, loss_bbox_reg: 0.2444, loss: 0.7693, grad_norm: 6.4432\n",
      "2021-05-17 10:15:09,723 - mmdet - INFO - Epoch [8][650/655]\tlr: 2.000e-04, eta: 0:22:38, time: 0.516, data_time: 0.008, memory: 3494, loss_rpn_cls: 0.0408, loss_rpn_bbox: 0.0577, loss_cls: 0.2888, acc: 90.5537, loss_bbox_cls: 0.1254, loss_bbox_reg: 0.2418, loss: 0.7545, grad_norm: 6.3679\n",
      "2021-05-17 10:15:12,388 - mmdet - INFO - Saving checkpoint at 8 epochs\n"
     ]
    },
    {
     "name": "stdout",
     "output_type": "stream",
     "text": [
      "[>>>>>>>>>>>>>>>>>>>>>>>>>>>>>] 655/655, 13.1 task/s, elapsed: 50s, ETA:     0s"
     ]
    },
    {
     "name": "stderr",
     "output_type": "stream",
     "text": [
      "2021-05-17 10:16:04,513 - mmdet - INFO - Evaluating bbox...\n"
     ]
    },
    {
     "name": "stdout",
     "output_type": "stream",
     "text": [
      "Loading and preparing results...\n",
      "DONE (t=0.60s)\n",
      "creating index...\n",
      "index created!\n",
      "Running per image evaluation...\n",
      "Evaluate annotation type *bbox*\n",
      "DONE (t=6.19s).\n",
      "Accumulating evaluation results...\n"
     ]
    },
    {
     "name": "stderr",
     "output_type": "stream",
     "text": [
      "2021-05-17 10:16:12,345 - mmdet - INFO - Epoch(val) [8][655]\tbbox_mAP: 0.1610, bbox_mAP_50: 0.2620, bbox_mAP_75: 0.1580, bbox_mAP_s: 0.0370, bbox_mAP_m: 0.1800, bbox_mAP_l: 0.3000, bbox_mAP_copypaste: 0.161 0.262 0.158 0.037 0.180 0.300\n"
     ]
    },
    {
     "name": "stdout",
     "output_type": "stream",
     "text": [
      "DONE (t=0.94s).\n",
      "Average Precision  (AP) @[ IoU=0.50:0.95 | area=   all | maxDets=100 ] = 0.161\n",
      "Average Precision  (AP) @[ IoU=0.50      | area=   all | maxDets=1000 ] = 0.262\n",
      "Average Precision  (AP) @[ IoU=0.75      | area=   all | maxDets=1000 ] = 0.158\n",
      "Average Precision  (AP) @[ IoU=0.50:0.95 | area= small | maxDets=1000 ] = 0.037\n",
      "Average Precision  (AP) @[ IoU=0.50:0.95 | area=medium | maxDets=1000 ] = 0.180\n",
      "Average Precision  (AP) @[ IoU=0.50:0.95 | area= large | maxDets=1000 ] = 0.300\n",
      "Average Recall     (AR) @[ IoU=0.50:0.95 | area=   all | maxDets=100 ] = 0.353\n",
      "Average Recall     (AR) @[ IoU=0.50:0.95 | area=   all | maxDets=300 ] = 0.353\n",
      "Average Recall     (AR) @[ IoU=0.50:0.95 | area=   all | maxDets=1000 ] = 0.353\n",
      "Average Recall     (AR) @[ IoU=0.50:0.95 | area= small | maxDets=1000 ] = 0.110\n",
      "Average Recall     (AR) @[ IoU=0.50:0.95 | area=medium | maxDets=1000 ] = 0.323\n",
      "Average Recall     (AR) @[ IoU=0.50:0.95 | area= large | maxDets=1000 ] = 0.607\n"
     ]
    },
    {
     "name": "stderr",
     "output_type": "stream",
     "text": [
      "2021-05-17 10:16:40,494 - mmdet - INFO - Epoch [9][50/655]\tlr: 8.000e-05, eta: 0:22:09, time: 0.563, data_time: 0.050, memory: 3494, loss_rpn_cls: 0.0248, loss_rpn_bbox: 0.0499, loss_cls: 0.2362, acc: 91.7070, loss_bbox_cls: 0.1107, loss_bbox_reg: 0.2230, loss: 0.6446, grad_norm: 5.4604\n",
      "2021-05-17 10:17:06,556 - mmdet - INFO - Epoch [9][100/655]\tlr: 8.000e-05, eta: 0:21:43, time: 0.521, data_time: 0.007, memory: 3494, loss_rpn_cls: 0.0237, loss_rpn_bbox: 0.0452, loss_cls: 0.2168, acc: 92.4629, loss_bbox_cls: 0.0980, loss_bbox_reg: 0.1993, loss: 0.5830, grad_norm: 5.4676\n",
      "2021-05-17 10:17:32,727 - mmdet - INFO - Epoch [9][150/655]\tlr: 8.000e-05, eta: 0:21:17, time: 0.523, data_time: 0.007, memory: 3494, loss_rpn_cls: 0.0206, loss_rpn_bbox: 0.0489, loss_cls: 0.2144, acc: 92.5088, loss_bbox_cls: 0.1064, loss_bbox_reg: 0.2148, loss: 0.6051, grad_norm: 5.3195\n",
      "2021-05-17 10:17:58,426 - mmdet - INFO - Epoch [9][200/655]\tlr: 8.000e-05, eta: 0:20:52, time: 0.514, data_time: 0.007, memory: 3494, loss_rpn_cls: 0.0242, loss_rpn_bbox: 0.0471, loss_cls: 0.2116, acc: 92.5146, loss_bbox_cls: 0.1121, loss_bbox_reg: 0.2234, loss: 0.6184, grad_norm: 5.4416\n",
      "2021-05-17 10:18:24,287 - mmdet - INFO - Epoch [9][250/655]\tlr: 8.000e-05, eta: 0:20:26, time: 0.517, data_time: 0.007, memory: 3494, loss_rpn_cls: 0.0220, loss_rpn_bbox: 0.0472, loss_cls: 0.2020, acc: 92.9395, loss_bbox_cls: 0.1046, loss_bbox_reg: 0.2071, loss: 0.5829, grad_norm: 5.3956\n",
      "2021-05-17 10:18:50,231 - mmdet - INFO - Epoch [9][300/655]\tlr: 8.000e-05, eta: 0:20:00, time: 0.519, data_time: 0.007, memory: 3494, loss_rpn_cls: 0.0197, loss_rpn_bbox: 0.0465, loss_cls: 0.2096, acc: 92.7041, loss_bbox_cls: 0.1031, loss_bbox_reg: 0.2119, loss: 0.5907, grad_norm: 5.2061\n",
      "2021-05-17 10:19:15,884 - mmdet - INFO - Epoch [9][350/655]\tlr: 8.000e-05, eta: 0:19:34, time: 0.513, data_time: 0.007, memory: 3494, loss_rpn_cls: 0.0186, loss_rpn_bbox: 0.0411, loss_cls: 0.2096, acc: 92.5605, loss_bbox_cls: 0.1061, loss_bbox_reg: 0.2142, loss: 0.5896, grad_norm: 5.4029\n",
      "2021-05-17 10:19:41,367 - mmdet - INFO - Epoch [9][400/655]\tlr: 8.000e-05, eta: 0:19:08, time: 0.510, data_time: 0.007, memory: 3494, loss_rpn_cls: 0.0194, loss_rpn_bbox: 0.0477, loss_cls: 0.2086, acc: 92.6299, loss_bbox_cls: 0.1118, loss_bbox_reg: 0.2231, loss: 0.6105, grad_norm: 5.2750\n",
      "2021-05-17 10:20:06,782 - mmdet - INFO - Epoch [9][450/655]\tlr: 8.000e-05, eta: 0:18:42, time: 0.508, data_time: 0.007, memory: 3494, loss_rpn_cls: 0.0213, loss_rpn_bbox: 0.0443, loss_cls: 0.2059, acc: 92.7236, loss_bbox_cls: 0.1034, loss_bbox_reg: 0.2073, loss: 0.5822, grad_norm: 5.1555\n",
      "2021-05-17 10:20:32,120 - mmdet - INFO - Epoch [9][500/655]\tlr: 8.000e-05, eta: 0:18:16, time: 0.507, data_time: 0.007, memory: 3494, loss_rpn_cls: 0.0177, loss_rpn_bbox: 0.0413, loss_cls: 0.1869, acc: 93.4824, loss_bbox_cls: 0.0962, loss_bbox_reg: 0.1959, loss: 0.5380, grad_norm: 4.8240\n",
      "2021-05-17 10:20:57,553 - mmdet - INFO - Epoch [9][550/655]\tlr: 8.000e-05, eta: 0:17:50, time: 0.509, data_time: 0.007, memory: 3494, loss_rpn_cls: 0.0160, loss_rpn_bbox: 0.0413, loss_cls: 0.1870, acc: 93.4131, loss_bbox_cls: 0.0972, loss_bbox_reg: 0.2028, loss: 0.5443, grad_norm: 5.3737\n",
      "2021-05-17 10:21:22,974 - mmdet - INFO - Epoch [9][600/655]\tlr: 8.000e-05, eta: 0:17:24, time: 0.508, data_time: 0.007, memory: 3494, loss_rpn_cls: 0.0146, loss_rpn_bbox: 0.0351, loss_cls: 0.1793, acc: 93.6465, loss_bbox_cls: 0.0887, loss_bbox_reg: 0.1805, loss: 0.4983, grad_norm: 5.1375\n",
      "2021-05-17 10:21:48,391 - mmdet - INFO - Epoch [9][650/655]\tlr: 8.000e-05, eta: 0:16:58, time: 0.508, data_time: 0.007, memory: 3494, loss_rpn_cls: 0.0192, loss_rpn_bbox: 0.0433, loss_cls: 0.1895, acc: 93.4941, loss_bbox_cls: 0.0980, loss_bbox_reg: 0.1931, loss: 0.5431, grad_norm: 5.0936\n",
      "2021-05-17 10:21:51,014 - mmdet - INFO - Saving checkpoint at 9 epochs\n"
     ]
    },
    {
     "name": "stdout",
     "output_type": "stream",
     "text": [
      "[>>>>>>>>>>>>>>>>>>>>>>>>>>>>>] 655/655, 13.5 task/s, elapsed: 49s, ETA:     0s"
     ]
    },
    {
     "name": "stderr",
     "output_type": "stream",
     "text": [
      "2021-05-17 10:22:41,464 - mmdet - INFO - Evaluating bbox...\n"
     ]
    },
    {
     "name": "stdout",
     "output_type": "stream",
     "text": [
      "Loading and preparing results...\n",
      "DONE (t=0.12s)\n",
      "creating index...\n",
      "index created!\n",
      "Running per image evaluation...\n",
      "Evaluate annotation type *bbox*\n",
      "DONE (t=5.84s).\n",
      "Accumulating evaluation results...\n",
      "DONE (t=0.82s).\n",
      "Average Precision  (AP) @[ IoU=0.50:0.95 | area=   all | maxDets=100 ] = 0.220\n",
      "Average Precision  (AP) @[ IoU=0.50      | area=   all | maxDets=1000 ] = 0.343\n",
      "Average Precision  (AP) @[ IoU=0.75      | area=   all | maxDets=1000 ] = 0.222\n",
      "Average Precision  (AP) @[ IoU=0.50:0.95 | area= small | maxDets=1000 ] = 0.044\n",
      "Average Precision  (AP) @[ IoU=0.50:0.95 | area=medium | maxDets=1000 ] = 0.200\n",
      "Average Precision  (AP) @[ IoU=0.50:0.95 | area= large | maxDets=1000 ] = 0.436\n",
      "Average Recall     (AR) @[ IoU=0.50:0.95 | area=   all | maxDets=100 ] = 0.371\n",
      "Average Recall     (AR) @[ IoU=0.50:0.95 | area=   all | maxDets=300 ] = 0.371\n",
      "Average Recall     (AR) @[ IoU=0.50:0.95 | area=   all | maxDets=1000 ] = 0.371\n",
      "Average Recall     (AR) @[ IoU=0.50:0.95 | area= small | maxDets=1000 ] = 0.109\n",
      "Average Recall     (AR) @[ IoU=0.50:0.95 | area=medium | maxDets=1000 ] = 0.345\n",
      "Average Recall     (AR) @[ IoU=0.50:0.95 | area= large | maxDets=1000 ] = 0.632\n"
     ]
    },
    {
     "name": "stderr",
     "output_type": "stream",
     "text": [
      "2021-05-17 10:22:51,575 - mmdet - INFO - Now best checkpoint is epoch_9.pth.Best bbox_mAP_50 is 0.3430\n",
      "2021-05-17 10:22:51,583 - mmdet - INFO - Epoch(val) [9][655]\tbbox_mAP: 0.2200, bbox_mAP_50: 0.3430, bbox_mAP_75: 0.2220, bbox_mAP_s: 0.0440, bbox_mAP_m: 0.2000, bbox_mAP_l: 0.4360, bbox_mAP_copypaste: 0.220 0.343 0.222 0.044 0.200 0.436\n",
      "2021-05-17 10:23:19,240 - mmdet - INFO - Epoch [10][50/655]\tlr: 8.000e-05, eta: 0:16:29, time: 0.553, data_time: 0.050, memory: 3494, loss_rpn_cls: 0.0131, loss_rpn_bbox: 0.0393, loss_cls: 0.1624, acc: 94.1162, loss_bbox_cls: 0.0866, loss_bbox_reg: 0.1842, loss: 0.4855, grad_norm: 4.9154\n",
      "2021-05-17 10:23:44,634 - mmdet - INFO - Epoch [10][100/655]\tlr: 8.000e-05, eta: 0:16:03, time: 0.508, data_time: 0.007, memory: 3494, loss_rpn_cls: 0.0159, loss_rpn_bbox: 0.0436, loss_cls: 0.1729, acc: 93.7529, loss_bbox_cls: 0.0964, loss_bbox_reg: 0.1993, loss: 0.5281, grad_norm: 4.9267\n",
      "2021-05-17 10:24:10,143 - mmdet - INFO - Epoch [10][150/655]\tlr: 8.000e-05, eta: 0:15:37, time: 0.510, data_time: 0.007, memory: 3494, loss_rpn_cls: 0.0151, loss_rpn_bbox: 0.0421, loss_cls: 0.1697, acc: 93.7461, loss_bbox_cls: 0.0946, loss_bbox_reg: 0.2008, loss: 0.5224, grad_norm: 5.0800\n",
      "2021-05-17 10:24:35,791 - mmdet - INFO - Epoch [10][200/655]\tlr: 8.000e-05, eta: 0:15:11, time: 0.513, data_time: 0.007, memory: 3494, loss_rpn_cls: 0.0135, loss_rpn_bbox: 0.0461, loss_cls: 0.1860, acc: 93.4346, loss_bbox_cls: 0.0986, loss_bbox_reg: 0.2025, loss: 0.5468, grad_norm: 5.1251\n",
      "2021-05-17 10:25:01,478 - mmdet - INFO - Epoch [10][250/655]\tlr: 8.000e-05, eta: 0:14:45, time: 0.514, data_time: 0.007, memory: 3494, loss_rpn_cls: 0.0138, loss_rpn_bbox: 0.0448, loss_cls: 0.1746, acc: 93.5537, loss_bbox_cls: 0.0959, loss_bbox_reg: 0.2035, loss: 0.5326, grad_norm: 5.5059\n",
      "2021-05-17 10:25:27,023 - mmdet - INFO - Epoch [10][300/655]\tlr: 8.000e-05, eta: 0:14:20, time: 0.511, data_time: 0.007, memory: 3494, loss_rpn_cls: 0.0147, loss_rpn_bbox: 0.0431, loss_cls: 0.1733, acc: 93.7334, loss_bbox_cls: 0.0889, loss_bbox_reg: 0.1863, loss: 0.5064, grad_norm: 5.5071\n",
      "2021-05-17 10:25:52,608 - mmdet - INFO - Epoch [10][350/655]\tlr: 8.000e-05, eta: 0:13:54, time: 0.512, data_time: 0.007, memory: 3494, loss_rpn_cls: 0.0145, loss_rpn_bbox: 0.0431, loss_cls: 0.1702, acc: 93.8682, loss_bbox_cls: 0.0943, loss_bbox_reg: 0.1993, loss: 0.5215, grad_norm: 5.6631\n",
      "2021-05-17 10:26:18,141 - mmdet - INFO - Epoch [10][400/655]\tlr: 8.000e-05, eta: 0:13:28, time: 0.511, data_time: 0.007, memory: 3494, loss_rpn_cls: 0.0142, loss_rpn_bbox: 0.0415, loss_cls: 0.1701, acc: 93.7842, loss_bbox_cls: 0.0924, loss_bbox_reg: 0.1948, loss: 0.5129, grad_norm: 5.0162\n",
      "2021-05-17 10:26:43,640 - mmdet - INFO - Epoch [10][450/655]\tlr: 8.000e-05, eta: 0:13:02, time: 0.510, data_time: 0.007, memory: 3494, loss_rpn_cls: 0.0144, loss_rpn_bbox: 0.0373, loss_cls: 0.1670, acc: 93.9121, loss_bbox_cls: 0.0919, loss_bbox_reg: 0.1903, loss: 0.5009, grad_norm: 5.2521\n",
      "2021-05-17 10:27:09,131 - mmdet - INFO - Epoch [10][500/655]\tlr: 8.000e-05, eta: 0:12:36, time: 0.510, data_time: 0.007, memory: 3494, loss_rpn_cls: 0.0127, loss_rpn_bbox: 0.0380, loss_cls: 0.1561, acc: 94.2314, loss_bbox_cls: 0.0873, loss_bbox_reg: 0.1843, loss: 0.4783, grad_norm: 4.6670\n",
      "2021-05-17 10:27:34,620 - mmdet - INFO - Epoch [10][550/655]\tlr: 8.000e-05, eta: 0:12:10, time: 0.510, data_time: 0.007, memory: 3494, loss_rpn_cls: 0.0120, loss_rpn_bbox: 0.0373, loss_cls: 0.1607, acc: 94.0781, loss_bbox_cls: 0.0899, loss_bbox_reg: 0.1884, loss: 0.4882, grad_norm: 5.0673\n",
      "2021-05-17 10:27:59,986 - mmdet - INFO - Epoch [10][600/655]\tlr: 8.000e-05, eta: 0:11:44, time: 0.507, data_time: 0.007, memory: 3494, loss_rpn_cls: 0.0152, loss_rpn_bbox: 0.0387, loss_cls: 0.1812, acc: 93.5420, loss_bbox_cls: 0.0991, loss_bbox_reg: 0.2078, loss: 0.5419, grad_norm: 5.2223\n",
      "2021-05-17 10:28:25,482 - mmdet - INFO - Epoch [10][650/655]\tlr: 8.000e-05, eta: 0:11:18, time: 0.510, data_time: 0.007, memory: 3494, loss_rpn_cls: 0.0140, loss_rpn_bbox: 0.0386, loss_cls: 0.1758, acc: 93.7529, loss_bbox_cls: 0.0956, loss_bbox_reg: 0.1987, loss: 0.5227, grad_norm: 5.0275\n",
      "2021-05-17 10:28:28,112 - mmdet - INFO - Saving checkpoint at 10 epochs\n"
     ]
    },
    {
     "name": "stdout",
     "output_type": "stream",
     "text": [
      "[>>>>>>>>>>>>>>>>>>>>>>>>>>>>>] 655/655, 13.6 task/s, elapsed: 48s, ETA:     0s"
     ]
    },
    {
     "name": "stderr",
     "output_type": "stream",
     "text": [
      "2021-05-17 10:29:18,143 - mmdet - INFO - Evaluating bbox...\n"
     ]
    },
    {
     "name": "stdout",
     "output_type": "stream",
     "text": [
      "Loading and preparing results...\n",
      "DONE (t=0.55s)\n",
      "creating index...\n",
      "index created!\n",
      "Running per image evaluation...\n",
      "Evaluate annotation type *bbox*\n",
      "DONE (t=4.94s).\n",
      "Accumulating evaluation results...\n"
     ]
    },
    {
     "name": "stderr",
     "output_type": "stream",
     "text": [
      "2021-05-17 10:29:24,461 - mmdet - INFO - Epoch(val) [10][655]\tbbox_mAP: 0.2210, bbox_mAP_50: 0.3380, bbox_mAP_75: 0.2200, bbox_mAP_s: 0.0420, bbox_mAP_m: 0.1900, bbox_mAP_l: 0.4550, bbox_mAP_copypaste: 0.221 0.338 0.220 0.042 0.190 0.455\n"
     ]
    },
    {
     "name": "stdout",
     "output_type": "stream",
     "text": [
      "DONE (t=0.75s).\n",
      "Average Precision  (AP) @[ IoU=0.50:0.95 | area=   all | maxDets=100 ] = 0.221\n",
      "Average Precision  (AP) @[ IoU=0.50      | area=   all | maxDets=1000 ] = 0.338\n",
      "Average Precision  (AP) @[ IoU=0.75      | area=   all | maxDets=1000 ] = 0.220\n",
      "Average Precision  (AP) @[ IoU=0.50:0.95 | area= small | maxDets=1000 ] = 0.042\n",
      "Average Precision  (AP) @[ IoU=0.50:0.95 | area=medium | maxDets=1000 ] = 0.190\n",
      "Average Precision  (AP) @[ IoU=0.50:0.95 | area= large | maxDets=1000 ] = 0.455\n",
      "Average Recall     (AR) @[ IoU=0.50:0.95 | area=   all | maxDets=100 ] = 0.351\n",
      "Average Recall     (AR) @[ IoU=0.50:0.95 | area=   all | maxDets=300 ] = 0.351\n",
      "Average Recall     (AR) @[ IoU=0.50:0.95 | area=   all | maxDets=1000 ] = 0.351\n",
      "Average Recall     (AR) @[ IoU=0.50:0.95 | area= small | maxDets=1000 ] = 0.099\n",
      "Average Recall     (AR) @[ IoU=0.50:0.95 | area=medium | maxDets=1000 ] = 0.316\n",
      "Average Recall     (AR) @[ IoU=0.50:0.95 | area= large | maxDets=1000 ] = 0.635\n"
     ]
    },
    {
     "name": "stderr",
     "output_type": "stream",
     "text": [
      "2021-05-17 10:29:52,517 - mmdet - INFO - Epoch [11][50/655]\tlr: 3.200e-05, eta: 0:10:50, time: 0.561, data_time: 0.051, memory: 3494, loss_rpn_cls: 0.0071, loss_rpn_bbox: 0.0294, loss_cls: 0.1193, acc: 95.6768, loss_bbox_cls: 0.0711, loss_bbox_reg: 0.1569, loss: 0.3838, grad_norm: 3.9241\n",
      "2021-05-17 10:30:18,242 - mmdet - INFO - Epoch [11][100/655]\tlr: 3.200e-05, eta: 0:10:24, time: 0.515, data_time: 0.008, memory: 3494, loss_rpn_cls: 0.0129, loss_rpn_bbox: 0.0474, loss_cls: 0.1667, acc: 93.8613, loss_bbox_cls: 0.1012, loss_bbox_reg: 0.2126, loss: 0.5408, grad_norm: 5.3437\n",
      "2021-05-17 10:30:43,511 - mmdet - INFO - Epoch [11][150/655]\tlr: 3.200e-05, eta: 0:09:58, time: 0.505, data_time: 0.007, memory: 3494, loss_rpn_cls: 0.0104, loss_rpn_bbox: 0.0402, loss_cls: 0.1355, acc: 94.9365, loss_bbox_cls: 0.0788, loss_bbox_reg: 0.1709, loss: 0.4359, grad_norm: 4.4947\n",
      "2021-05-17 10:31:08,874 - mmdet - INFO - Epoch [11][200/655]\tlr: 3.200e-05, eta: 0:09:32, time: 0.507, data_time: 0.007, memory: 3494, loss_rpn_cls: 0.0110, loss_rpn_bbox: 0.0388, loss_cls: 0.1460, acc: 94.7393, loss_bbox_cls: 0.0837, loss_bbox_reg: 0.1767, loss: 0.4563, grad_norm: 4.5414\n",
      "2021-05-17 10:31:34,096 - mmdet - INFO - Epoch [11][250/655]\tlr: 3.200e-05, eta: 0:09:06, time: 0.504, data_time: 0.007, memory: 3494, loss_rpn_cls: 0.0104, loss_rpn_bbox: 0.0380, loss_cls: 0.1456, acc: 94.5811, loss_bbox_cls: 0.0875, loss_bbox_reg: 0.1827, loss: 0.4642, grad_norm: 4.3844\n",
      "2021-05-17 10:31:59,366 - mmdet - INFO - Epoch [11][300/655]\tlr: 3.200e-05, eta: 0:08:40, time: 0.505, data_time: 0.007, memory: 3494, loss_rpn_cls: 0.0089, loss_rpn_bbox: 0.0350, loss_cls: 0.1361, acc: 94.9111, loss_bbox_cls: 0.0783, loss_bbox_reg: 0.1740, loss: 0.4323, grad_norm: 4.2996\n",
      "2021-05-17 10:32:24,709 - mmdet - INFO - Epoch [11][350/655]\tlr: 3.200e-05, eta: 0:08:15, time: 0.507, data_time: 0.007, memory: 3494, loss_rpn_cls: 0.0087, loss_rpn_bbox: 0.0368, loss_cls: 0.1392, acc: 94.8076, loss_bbox_cls: 0.0883, loss_bbox_reg: 0.1892, loss: 0.4622, grad_norm: 4.7514\n",
      "2021-05-17 10:32:49,884 - mmdet - INFO - Epoch [11][400/655]\tlr: 3.200e-05, eta: 0:07:49, time: 0.503, data_time: 0.007, memory: 3494, loss_rpn_cls: 0.0087, loss_rpn_bbox: 0.0348, loss_cls: 0.1363, acc: 94.8789, loss_bbox_cls: 0.0812, loss_bbox_reg: 0.1771, loss: 0.4382, grad_norm: 4.6928\n",
      "2021-05-17 10:33:15,316 - mmdet - INFO - Epoch [11][450/655]\tlr: 3.200e-05, eta: 0:07:23, time: 0.509, data_time: 0.007, memory: 3494, loss_rpn_cls: 0.0093, loss_rpn_bbox: 0.0354, loss_cls: 0.1408, acc: 94.7959, loss_bbox_cls: 0.0796, loss_bbox_reg: 0.1772, loss: 0.4423, grad_norm: 4.5424\n",
      "2021-05-17 10:33:40,839 - mmdet - INFO - Epoch [11][500/655]\tlr: 3.200e-05, eta: 0:06:57, time: 0.510, data_time: 0.007, memory: 3494, loss_rpn_cls: 0.0111, loss_rpn_bbox: 0.0408, loss_cls: 0.1521, acc: 94.3057, loss_bbox_cls: 0.0883, loss_bbox_reg: 0.1908, loss: 0.4832, grad_norm: 4.7855\n",
      "2021-05-17 10:34:06,326 - mmdet - INFO - Epoch [11][550/655]\tlr: 3.200e-05, eta: 0:06:31, time: 0.510, data_time: 0.007, memory: 3494, loss_rpn_cls: 0.0101, loss_rpn_bbox: 0.0407, loss_cls: 0.1507, acc: 94.4268, loss_bbox_cls: 0.0928, loss_bbox_reg: 0.1977, loss: 0.4920, grad_norm: 4.7184\n",
      "2021-05-17 10:34:31,813 - mmdet - INFO - Epoch [11][600/655]\tlr: 3.200e-05, eta: 0:06:05, time: 0.510, data_time: 0.007, memory: 3494, loss_rpn_cls: 0.0091, loss_rpn_bbox: 0.0356, loss_cls: 0.1439, acc: 94.7500, loss_bbox_cls: 0.0798, loss_bbox_reg: 0.1795, loss: 0.4480, grad_norm: 4.5720\n",
      "2021-05-17 10:34:57,152 - mmdet - INFO - Epoch [11][650/655]\tlr: 3.200e-05, eta: 0:05:40, time: 0.507, data_time: 0.007, memory: 3494, loss_rpn_cls: 0.0108, loss_rpn_bbox: 0.0296, loss_cls: 0.1207, acc: 95.5986, loss_bbox_cls: 0.0619, loss_bbox_reg: 0.1471, loss: 0.3701, grad_norm: 4.4773\n",
      "2021-05-17 10:34:59,730 - mmdet - INFO - Saving checkpoint at 11 epochs\n"
     ]
    },
    {
     "name": "stdout",
     "output_type": "stream",
     "text": [
      "[>>>>>>>>>>>>>>>>>>>>>>>>>>>>>] 655/655, 13.6 task/s, elapsed: 48s, ETA:     0s"
     ]
    },
    {
     "name": "stderr",
     "output_type": "stream",
     "text": [
      "2021-05-17 10:35:50,036 - mmdet - INFO - Evaluating bbox...\n"
     ]
    },
    {
     "name": "stdout",
     "output_type": "stream",
     "text": [
      "Loading and preparing results...\n",
      "DONE (t=0.09s)\n",
      "creating index...\n",
      "index created!\n",
      "Running per image evaluation...\n",
      "Evaluate annotation type *bbox*\n",
      "DONE (t=5.14s).\n",
      "Accumulating evaluation results...\n",
      "DONE (t=0.72s).\n",
      "Average Precision  (AP) @[ IoU=0.50:0.95 | area=   all | maxDets=100 ] = 0.227\n",
      "Average Precision  (AP) @[ IoU=0.50      | area=   all | maxDets=1000 ] = 0.352\n",
      "Average Precision  (AP) @[ IoU=0.75      | area=   all | maxDets=1000 ] = 0.217\n",
      "Average Precision  (AP) @[ IoU=0.50:0.95 | area= small | maxDets=1000 ] = 0.044\n",
      "Average Precision  (AP) @[ IoU=0.50:0.95 | area=medium | maxDets=1000 ] = 0.187\n",
      "Average Precision  (AP) @[ IoU=0.50:0.95 | area= large | maxDets=1000 ] = 0.471\n",
      "Average Recall     (AR) @[ IoU=0.50:0.95 | area=   all | maxDets=100 ] = 0.353\n",
      "Average Recall     (AR) @[ IoU=0.50:0.95 | area=   all | maxDets=300 ] = 0.353\n",
      "Average Recall     (AR) @[ IoU=0.50:0.95 | area=   all | maxDets=1000 ] = 0.353\n",
      "Average Recall     (AR) @[ IoU=0.50:0.95 | area= small | maxDets=1000 ] = 0.103\n",
      "Average Recall     (AR) @[ IoU=0.50:0.95 | area=medium | maxDets=1000 ] = 0.321\n",
      "Average Recall     (AR) @[ IoU=0.50:0.95 | area= large | maxDets=1000 ] = 0.626\n"
     ]
    },
    {
     "name": "stderr",
     "output_type": "stream",
     "text": [
      "2021-05-17 10:35:59,614 - mmdet - INFO - Now best checkpoint is epoch_11.pth.Best bbox_mAP_50 is 0.3520\n",
      "2021-05-17 10:35:59,621 - mmdet - INFO - Epoch(val) [11][655]\tbbox_mAP: 0.2270, bbox_mAP_50: 0.3520, bbox_mAP_75: 0.2170, bbox_mAP_s: 0.0440, bbox_mAP_m: 0.1870, bbox_mAP_l: 0.4710, bbox_mAP_copypaste: 0.227 0.352 0.217 0.044 0.187 0.471\n",
      "2021-05-17 10:36:27,215 - mmdet - INFO - Epoch [12][50/655]\tlr: 3.200e-05, eta: 0:05:11, time: 0.552, data_time: 0.050, memory: 3494, loss_rpn_cls: 0.0084, loss_rpn_bbox: 0.0385, loss_cls: 0.1297, acc: 95.0352, loss_bbox_cls: 0.0808, loss_bbox_reg: 0.1768, loss: 0.4343, grad_norm: 4.5640\n",
      "2021-05-17 10:36:52,893 - mmdet - INFO - Epoch [12][100/655]\tlr: 3.200e-05, eta: 0:04:45, time: 0.514, data_time: 0.007, memory: 3494, loss_rpn_cls: 0.0078, loss_rpn_bbox: 0.0318, loss_cls: 0.1168, acc: 95.6719, loss_bbox_cls: 0.0651, loss_bbox_reg: 0.1538, loss: 0.3753, grad_norm: 4.4288\n",
      "2021-05-17 10:37:18,275 - mmdet - INFO - Epoch [12][150/655]\tlr: 3.200e-05, eta: 0:04:20, time: 0.508, data_time: 0.007, memory: 3494, loss_rpn_cls: 0.0079, loss_rpn_bbox: 0.0331, loss_cls: 0.1239, acc: 95.3682, loss_bbox_cls: 0.0730, loss_bbox_reg: 0.1627, loss: 0.4007, grad_norm: 4.3038\n",
      "2021-05-17 10:37:44,017 - mmdet - INFO - Epoch [12][200/655]\tlr: 3.200e-05, eta: 0:03:54, time: 0.515, data_time: 0.007, memory: 3494, loss_rpn_cls: 0.0083, loss_rpn_bbox: 0.0346, loss_cls: 0.1231, acc: 95.3154, loss_bbox_cls: 0.0729, loss_bbox_reg: 0.1632, loss: 0.4022, grad_norm: 4.6444\n",
      "2021-05-17 10:38:09,486 - mmdet - INFO - Epoch [12][250/655]\tlr: 3.200e-05, eta: 0:03:28, time: 0.509, data_time: 0.007, memory: 3494, loss_rpn_cls: 0.0084, loss_rpn_bbox: 0.0359, loss_cls: 0.1300, acc: 95.1543, loss_bbox_cls: 0.0775, loss_bbox_reg: 0.1733, loss: 0.4251, grad_norm: 4.8110\n",
      "2021-05-17 10:38:34,693 - mmdet - INFO - Epoch [12][300/655]\tlr: 3.200e-05, eta: 0:03:02, time: 0.504, data_time: 0.007, memory: 3494, loss_rpn_cls: 0.0094, loss_rpn_bbox: 0.0336, loss_cls: 0.1299, acc: 95.2080, loss_bbox_cls: 0.0768, loss_bbox_reg: 0.1740, loss: 0.4238, grad_norm: 4.2952\n",
      "2021-05-17 10:38:59,920 - mmdet - INFO - Epoch [12][350/655]\tlr: 3.200e-05, eta: 0:02:37, time: 0.505, data_time: 0.007, memory: 3494, loss_rpn_cls: 0.0073, loss_rpn_bbox: 0.0322, loss_cls: 0.1236, acc: 95.3799, loss_bbox_cls: 0.0716, loss_bbox_reg: 0.1614, loss: 0.3961, grad_norm: 4.3435\n",
      "2021-05-17 10:39:25,218 - mmdet - INFO - Epoch [12][400/655]\tlr: 3.200e-05, eta: 0:02:11, time: 0.506, data_time: 0.007, memory: 3494, loss_rpn_cls: 0.0102, loss_rpn_bbox: 0.0382, loss_cls: 0.1493, acc: 94.4834, loss_bbox_cls: 0.0889, loss_bbox_reg: 0.1912, loss: 0.4778, grad_norm: 4.6734\n",
      "2021-05-17 10:39:50,772 - mmdet - INFO - Epoch [12][450/655]\tlr: 3.200e-05, eta: 0:01:45, time: 0.511, data_time: 0.007, memory: 3494, loss_rpn_cls: 0.0077, loss_rpn_bbox: 0.0347, loss_cls: 0.1344, acc: 95.0723, loss_bbox_cls: 0.0787, loss_bbox_reg: 0.1768, loss: 0.4323, grad_norm: 4.4366\n",
      "2021-05-17 10:40:16,244 - mmdet - INFO - Epoch [12][500/655]\tlr: 3.200e-05, eta: 0:01:19, time: 0.509, data_time: 0.007, memory: 3494, loss_rpn_cls: 0.0086, loss_rpn_bbox: 0.0370, loss_cls: 0.1334, acc: 94.9570, loss_bbox_cls: 0.0806, loss_bbox_reg: 0.1756, loss: 0.4353, grad_norm: 4.4390\n",
      "2021-05-17 10:40:41,706 - mmdet - INFO - Epoch [12][550/655]\tlr: 3.200e-05, eta: 0:00:54, time: 0.509, data_time: 0.007, memory: 3494, loss_rpn_cls: 0.0082, loss_rpn_bbox: 0.0373, loss_cls: 0.1272, acc: 95.1934, loss_bbox_cls: 0.0802, loss_bbox_reg: 0.1775, loss: 0.4303, grad_norm: 4.6087\n",
      "2021-05-17 10:41:06,990 - mmdet - INFO - Epoch [12][600/655]\tlr: 3.200e-05, eta: 0:00:28, time: 0.506, data_time: 0.007, memory: 3494, loss_rpn_cls: 0.0078, loss_rpn_bbox: 0.0358, loss_cls: 0.1260, acc: 95.2363, loss_bbox_cls: 0.0755, loss_bbox_reg: 0.1703, loss: 0.4154, grad_norm: 4.4691\n",
      "2021-05-17 10:41:32,627 - mmdet - INFO - Epoch [12][650/655]\tlr: 3.200e-05, eta: 0:00:02, time: 0.513, data_time: 0.007, memory: 3494, loss_rpn_cls: 0.0088, loss_rpn_bbox: 0.0349, loss_cls: 0.1330, acc: 95.0088, loss_bbox_cls: 0.0782, loss_bbox_reg: 0.1758, loss: 0.4307, grad_norm: 4.7224\n",
      "2021-05-17 10:41:35,226 - mmdet - INFO - Saving checkpoint at 12 epochs\n"
     ]
    },
    {
     "name": "stdout",
     "output_type": "stream",
     "text": [
      "[>>>>>>>>>>>>>>>>>>>>>>>>>>>>>] 655/655, 13.7 task/s, elapsed: 48s, ETA:     0s"
     ]
    },
    {
     "name": "stderr",
     "output_type": "stream",
     "text": [
      "2021-05-17 10:42:24,798 - mmdet - INFO - Evaluating bbox...\n"
     ]
    },
    {
     "name": "stdout",
     "output_type": "stream",
     "text": [
      "Loading and preparing results...\n",
      "DONE (t=0.57s)\n",
      "creating index...\n",
      "index created!\n",
      "Running per image evaluation...\n",
      "Evaluate annotation type *bbox*\n",
      "DONE (t=5.33s).\n",
      "Accumulating evaluation results...\n",
      "DONE (t=0.79s).\n",
      "Average Precision  (AP) @[ IoU=0.50:0.95 | area=   all | maxDets=100 ] = 0.245\n",
      "Average Precision  (AP) @[ IoU=0.50      | area=   all | maxDets=1000 ] = 0.362\n",
      "Average Precision  (AP) @[ IoU=0.75      | area=   all | maxDets=1000 ] = 0.245\n",
      "Average Precision  (AP) @[ IoU=0.50:0.95 | area= small | maxDets=1000 ] = 0.043\n",
      "Average Precision  (AP) @[ IoU=0.50:0.95 | area=medium | maxDets=1000 ] = 0.212\n",
      "Average Precision  (AP) @[ IoU=0.50:0.95 | area= large | maxDets=1000 ] = 0.482\n",
      "Average Recall     (AR) @[ IoU=0.50:0.95 | area=   all | maxDets=100 ] = 0.378\n",
      "Average Recall     (AR) @[ IoU=0.50:0.95 | area=   all | maxDets=300 ] = 0.378\n",
      "Average Recall     (AR) @[ IoU=0.50:0.95 | area=   all | maxDets=1000 ] = 0.378\n",
      "Average Recall     (AR) @[ IoU=0.50:0.95 | area= small | maxDets=1000 ] = 0.102\n",
      "Average Recall     (AR) @[ IoU=0.50:0.95 | area=medium | maxDets=1000 ] = 0.341\n",
      "Average Recall     (AR) @[ IoU=0.50:0.95 | area= large | maxDets=1000 ] = 0.650\n"
     ]
    },
    {
     "name": "stderr",
     "output_type": "stream",
     "text": [
      "2021-05-17 10:42:34,959 - mmdet - INFO - Now best checkpoint is epoch_12.pth.Best bbox_mAP_50 is 0.3620\n",
      "2021-05-17 10:42:34,968 - mmdet - INFO - Epoch(val) [12][655]\tbbox_mAP: 0.2450, bbox_mAP_50: 0.3620, bbox_mAP_75: 0.2450, bbox_mAP_s: 0.0430, bbox_mAP_m: 0.2120, bbox_mAP_l: 0.4820, bbox_mAP_copypaste: 0.245 0.362 0.245 0.043 0.212 0.482\n"
     ]
    },
    {
     "data": {
      "text/html": [
       "<br/>Waiting for W&B process to finish, PID 8036<br/>Program ended successfully."
      ],
      "text/plain": [
       "<IPython.core.display.HTML object>"
      ]
     },
     "metadata": {},
     "output_type": "display_data"
    },
    {
     "data": {
      "application/vnd.jupyter.widget-view+json": {
       "model_id": "",
       "version_major": 2,
       "version_minor": 0
      },
      "text/plain": [
       "VBox(children=(Label(value=' 0.00MB of 0.00MB uploaded (0.00MB deduped)\\r'), FloatProgress(value=1.0, max=1.0)…"
      ]
     },
     "metadata": {},
     "output_type": "display_data"
    },
    {
     "data": {
      "text/html": [
       "Find user logs for this run at: <code>/opt/ml/code/mmdetection_trash/wandb/run-20210517_092221-18bucg62/logs/debug.log</code>"
      ],
      "text/plain": [
       "<IPython.core.display.HTML object>"
      ]
     },
     "metadata": {},
     "output_type": "display_data"
    },
    {
     "data": {
      "text/html": [
       "Find internal logs for this run at: <code>/opt/ml/code/mmdetection_trash/wandb/run-20210517_092221-18bucg62/logs/debug-internal.log</code>"
      ],
      "text/plain": [
       "<IPython.core.display.HTML object>"
      ]
     },
     "metadata": {},
     "output_type": "display_data"
    },
    {
     "data": {
      "text/html": [
       "<h3>Run summary:</h3><br/><style>\n",
       "    table.wandb td:nth-child(1) { padding: 0 10px; text-align: right }\n",
       "    </style><table class=\"wandb\">\n",
       "<tr><td>train/loss_rpn_cls</td><td>0.00882</td></tr><tr><td>train/loss_rpn_bbox</td><td>0.03488</td></tr><tr><td>train/loss_cls</td><td>0.13301</td></tr><tr><td>train/acc</td><td>95.00879</td></tr><tr><td>train/loss_bbox_cls</td><td>0.07822</td></tr><tr><td>train/loss_bbox_reg</td><td>0.17576</td></tr><tr><td>train/loss</td><td>0.4307</td></tr><tr><td>train/grad_norm</td><td>4.72237</td></tr><tr><td>learning_rate</td><td>3e-05</td></tr><tr><td>momentum</td><td>0.9</td></tr><tr><td>_runtime</td><td>4813</td></tr><tr><td>_timestamp</td><td>1621248154</td></tr><tr><td>_step</td><td>7861</td></tr><tr><td>val/bbox_mAP</td><td>0.245</td></tr><tr><td>val/bbox_mAP_50</td><td>0.362</td></tr><tr><td>val/bbox_mAP_75</td><td>0.245</td></tr><tr><td>val/bbox_mAP_s</td><td>0.043</td></tr><tr><td>val/bbox_mAP_m</td><td>0.212</td></tr><tr><td>val/bbox_mAP_l</td><td>0.482</td></tr></table>"
      ],
      "text/plain": [
       "<IPython.core.display.HTML object>"
      ]
     },
     "metadata": {},
     "output_type": "display_data"
    },
    {
     "data": {
      "text/html": [
       "<h3>Run history:</h3><br/><style>\n",
       "    table.wandb td:nth-child(1) { padding: 0 10px; text-align: right }\n",
       "    </style><table class=\"wandb\">\n",
       "<tr><td>train/loss_rpn_cls</td><td>█▅▄▄▃▃▃▂▃▂▂▂▂▂▂▂▂▂▂▂▂▂▂▁▂▂▂▁▁▁▁▁▁▁▁▁▁▁▁▁</td></tr><tr><td>train/loss_rpn_bbox</td><td>█▇▅▅▄▄▅▅▃▄▃▃▃▄▃▃▄▃▃▃▃▃▃▂▂▂▃▂▂▁▂▂▁▂▁▂▁▁▁▁</td></tr><tr><td>train/loss_cls</td><td>▇██▇▆▆▇▆▆▅▅▆▅▆▅▆▆▅▅▄▄▄▅▄▄▄▄▃▃▂▂▂▂▂▁▁▁▁▁▁</td></tr><tr><td>train/acc</td><td>▄▂▁▂▂▂▂▂▂▃▃▂▃▂▃▃▂▃▃▄▄▄▃▅▅▅▄▅▆▇▇▇▇▇█▇████</td></tr><tr><td>train/loss_bbox_cls</td><td>▇█▇▆▅▄▅▄▄▄▃▄▃▄▃▄▄▃▃▃▃▃▃▂▂▂▃▂▂▁▂▂▁▂▁▁▁▁▁▁</td></tr><tr><td>train/loss_bbox_reg</td><td>▅██▆▅▅▆▅▅▄▄▄▄▄▄▅▅▄▄▃▃▄▄▃▃▃▄▃▃▁▂▂▂▂▁▂▁▁▁▁</td></tr><tr><td>train/loss</td><td>██▇▆▅▅▆▅▅▄▄▄▄▄▄▄▅▄▄▃▃▃▄▃▃▃▃▂▂▂▂▂▁▂▁▁▁▁▁▁</td></tr><tr><td>train/grad_norm</td><td>█▇█▅▄▄▄▅▄▄▄▅▄▅▄▅▅▆▅▄▄▄▅▅▄▄▆▄▃▃▃▄▃▃▁▂▂▂▁▂</td></tr><tr><td>learning_rate</td><td>▁▅█████████████████████████▃▃▃▃▃▃▁▁▁▁▁▁▁</td></tr><tr><td>momentum</td><td>▁▁▁▁▁▁▁▁▁▁▁▁▁▁▁▁▁▁▁▁▁▁▁▁▁▁▁▁▁▁▁▁▁▁▁▁▁▁▁▁</td></tr><tr><td>_runtime</td><td>▁▁▁▂▂▂▂▂▂▃▃▃▃▃▃▄▄▄▄▄▅▅▅▅▅▅▆▆▆▆▆▆▇▇▇▇▇███</td></tr><tr><td>_timestamp</td><td>▁▁▁▂▂▂▂▂▂▃▃▃▃▃▃▄▄▄▄▄▅▅▅▅▅▅▆▆▆▆▆▆▇▇▇▇▇███</td></tr><tr><td>_step</td><td>▁▁▁▂▂▂▂▂▂▃▃▃▃▃▃▄▄▄▄▄▅▅▅▅▅▅▆▆▆▆▆▆▇▇▇▇▇███</td></tr><tr><td>val/bbox_mAP</td><td>▁▃▄▄▆▅▅▅▇▇▇█</td></tr><tr><td>val/bbox_mAP_50</td><td>▁▃▄▅▆▅▆▅▇▇██</td></tr><tr><td>val/bbox_mAP_75</td><td>▁▃▄▄▆▅▆▅▇▇▇█</td></tr><tr><td>val/bbox_mAP_s</td><td>▁▇▆▇▇▆▆▆████</td></tr><tr><td>val/bbox_mAP_m</td><td>▁▄▄▅▇▆▆▆▇▇▇█</td></tr><tr><td>val/bbox_mAP_l</td><td>▁▃▄▃▅▄▅▄▇▇██</td></tr></table><br/>"
      ],
      "text/plain": [
       "<IPython.core.display.HTML object>"
      ]
     },
     "metadata": {},
     "output_type": "display_data"
    },
    {
     "data": {
      "text/html": [
       "Synced 5 W&B file(s), 0 media file(s), 0 artifact file(s) and 0 other file(s)"
      ],
      "text/plain": [
       "<IPython.core.display.HTML object>"
      ]
     },
     "metadata": {},
     "output_type": "display_data"
    },
    {
     "data": {
      "text/html": [
       "\n",
       "                    <br/>Synced <strong style=\"color:#cdcd00\">fine-spaceship-5</strong>: <a href=\"https://wandb.ai/k1smet14/mmdetection_trash/runs/18bucg62\" target=\"_blank\">https://wandb.ai/k1smet14/mmdetection_trash/runs/18bucg62</a><br/>\n",
       "                "
      ],
      "text/plain": [
       "<IPython.core.display.HTML object>"
      ]
     },
     "metadata": {},
     "output_type": "display_data"
    }
   ],
   "source": [
    "train_detector(model, datasets[0], cfg, distributed=False, validate=True)"
   ]
  },
  {
   "cell_type": "code",
   "execution_count": null,
   "metadata": {},
   "outputs": [],
   "source": []
  }
 ],
 "metadata": {
  "kernelspec": {
   "display_name": "Python 3",
   "language": "python",
   "name": "python3"
  },
  "language_info": {
   "codemirror_mode": {
    "name": "ipython",
    "version": 3
   },
   "file_extension": ".py",
   "mimetype": "text/x-python",
   "name": "python",
   "nbconvert_exporter": "python",
   "pygments_lexer": "ipython3",
   "version": "3.7.7"
  },
  "pycharm": {
   "stem_cell": {
    "cell_type": "raw",
    "metadata": {
     "collapsed": false
    },
    "source": []
   }
  }
 },
 "nbformat": 4,
 "nbformat_minor": 4
}
