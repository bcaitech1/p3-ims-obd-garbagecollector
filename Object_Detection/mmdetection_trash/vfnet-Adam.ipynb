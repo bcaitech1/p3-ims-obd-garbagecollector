{
 "cells": [
  {
   "cell_type": "code",
   "execution_count": 3,
   "metadata": {
    "pycharm": {
     "name": "#%%\n"
    }
   },
   "outputs": [],
   "source": [
    "from mmcv import Config\n",
    "from mmdet.datasets import build_dataset\n",
    "from mmdet.models import build_detector\n",
    "from mmdet.apis import train_detector\n",
    "from mmdet.datasets import (build_dataloader, build_dataset,\n",
    "                            replace_ImageToTensor)"
   ]
  },
  {
   "cell_type": "code",
   "execution_count": 4,
   "metadata": {
    "pycharm": {
     "name": "#%%\n"
    }
   },
   "outputs": [],
   "source": [
    "classes = (\"UNKNOWN\", \"General trash\", \"Paper\", \"Paper pack\", \"Metal\", \"Glass\", \n",
    "           \"Plastic\", \"Styrofoam\", \"Plastic bag\", \"Battery\", \"Clothing\")\n",
    "# config file 들고오기\n",
    "cfg = Config.fromfile('./configs/vfnet/vfnet_x101_64x4d_fpn_mdconv_c3-c5_mstrain_2x_coco.py')\n",
    "\n",
    "PREFIX = '../../input/data/'\n",
    "\n",
    "\n",
    "# dataset 바꾸기\n",
    "cfg.data.train.classes = classes\n",
    "cfg.data.train.img_prefix = PREFIX\n",
    "cfg.data.train.ann_file = PREFIX + 'train.json'\n",
    "cfg.data.train.pipeline[2]['img_scale'] = (512, 512)\n",
    "\n",
    "cfg.data.val.classes = classes\n",
    "cfg.data.val.img_prefix = PREFIX\n",
    "cfg.data.val.ann_file = PREFIX + 'val.json'\n",
    "cfg.data.val.pipeline[1]['img_scale'] = (512, 512)\n",
    "\n",
    "cfg.data.test.classes = classes\n",
    "cfg.data.test.img_prefix = PREFIX\n",
    "cfg.data.test.ann_file = PREFIX + 'test.json'\n",
    "cfg.data.test.pipeline[1]['img_scale'] = (512, 512)\n",
    "\n",
    "cfg.data.samples_per_gpu = 4\n",
    "\n",
    "cfg.seed=90\n",
    "cfg.gpu_ids = [0]\n",
    "cfg.work_dir = './work_dirs/vfnet_x101_64x4d_fpn_mdconv_c3-c5_mstrain_2x_coco'\n",
    "\n",
    "cfg.model.bbox_head.num_classes = 11\n",
    "cfg.optimizer = dict(type='Adam', lr=1e-4, weight_decay=0.0001)\n",
    "cfg.optimizer_config.grad_clip = dict(max_norm=35, norm_type=2)"
   ]
  },
  {
   "cell_type": "code",
   "execution_count": 7,
   "metadata": {},
   "outputs": [
    {
     "name": "stdout",
     "output_type": "stream",
     "text": [
      "[{'type': 'LoadImageFromFile'}, {'type': 'LoadAnnotations', 'with_bbox': True}, {'type': 'Resize', 'img_scale': (512, 512), 'multiscale_mode': 'range', 'keep_ratio': True}, {'type': 'RandomFlip', 'flip_ratio': 0.5}, {'type': 'Normalize', 'mean': [123.675, 116.28, 103.53], 'std': [58.395, 57.12, 57.375], 'to_rgb': True}, {'type': 'Pad', 'size_divisor': 32}, {'type': 'DefaultFormatBundle'}, {'type': 'Collect', 'keys': ['img', 'gt_bboxes', 'gt_labels']}]\n"
     ]
    }
   ],
   "source": [
    "print(cfg.data.train.pipeline)"
   ]
  },
  {
   "cell_type": "code",
   "execution_count": 1,
   "metadata": {},
   "outputs": [
    {
     "ename": "NameError",
     "evalue": "name 'cfg' is not defined",
     "output_type": "error",
     "traceback": [
      "\u001b[0;31m---------------------------------------------------------------------------\u001b[0m",
      "\u001b[0;31mNameError\u001b[0m                                 Traceback (most recent call last)",
      "\u001b[0;32m<ipython-input-1-2f8d2e847143>\u001b[0m in \u001b[0;36m<module>\u001b[0;34m\u001b[0m\n\u001b[0;32m----> 1\u001b[0;31m \u001b[0mprint\u001b[0m\u001b[0;34m(\u001b[0m\u001b[0mcfg\u001b[0m\u001b[0;34m.\u001b[0m\u001b[0mlr_config\u001b[0m\u001b[0;34m)\u001b[0m\u001b[0;34m\u001b[0m\u001b[0;34m\u001b[0m\u001b[0m\n\u001b[0m",
      "\u001b[0;31mNameError\u001b[0m: name 'cfg' is not defined"
     ]
    }
   ],
   "source": [
    "print(cfg.lr_config)"
   ]
  },
  {
   "cell_type": "code",
   "execution_count": 7,
   "metadata": {
    "pycharm": {
     "name": "#%%\n"
    }
   },
   "outputs": [
    {
     "name": "stderr",
     "output_type": "stream",
     "text": [
      "2021-05-11 05:12:13,648 - mmdet - INFO - load model from: open-mmlab://resnext101_64x4d\n",
      "2021-05-11 05:12:13,649 - mmdet - INFO - Use load_from_openmmlab loader\n",
      "2021-05-11 05:12:14,161 - mmdet - WARNING - The model and loaded state dict do not match exactly\n",
      "\n",
      "missing keys in source state_dict: layer2.0.conv2.conv_offset.weight, layer2.0.conv2.conv_offset.bias, layer2.1.conv2.conv_offset.weight, layer2.1.conv2.conv_offset.bias, layer2.2.conv2.conv_offset.weight, layer2.2.conv2.conv_offset.bias, layer2.3.conv2.conv_offset.weight, layer2.3.conv2.conv_offset.bias, layer3.0.conv2.conv_offset.weight, layer3.0.conv2.conv_offset.bias, layer3.1.conv2.conv_offset.weight, layer3.1.conv2.conv_offset.bias, layer3.2.conv2.conv_offset.weight, layer3.2.conv2.conv_offset.bias, layer3.3.conv2.conv_offset.weight, layer3.3.conv2.conv_offset.bias, layer3.4.conv2.conv_offset.weight, layer3.4.conv2.conv_offset.bias, layer3.5.conv2.conv_offset.weight, layer3.5.conv2.conv_offset.bias, layer3.6.conv2.conv_offset.weight, layer3.6.conv2.conv_offset.bias, layer3.7.conv2.conv_offset.weight, layer3.7.conv2.conv_offset.bias, layer3.8.conv2.conv_offset.weight, layer3.8.conv2.conv_offset.bias, layer3.9.conv2.conv_offset.weight, layer3.9.conv2.conv_offset.bias, layer3.10.conv2.conv_offset.weight, layer3.10.conv2.conv_offset.bias, layer3.11.conv2.conv_offset.weight, layer3.11.conv2.conv_offset.bias, layer3.12.conv2.conv_offset.weight, layer3.12.conv2.conv_offset.bias, layer3.13.conv2.conv_offset.weight, layer3.13.conv2.conv_offset.bias, layer3.14.conv2.conv_offset.weight, layer3.14.conv2.conv_offset.bias, layer3.15.conv2.conv_offset.weight, layer3.15.conv2.conv_offset.bias, layer3.16.conv2.conv_offset.weight, layer3.16.conv2.conv_offset.bias, layer3.17.conv2.conv_offset.weight, layer3.17.conv2.conv_offset.bias, layer3.18.conv2.conv_offset.weight, layer3.18.conv2.conv_offset.bias, layer3.19.conv2.conv_offset.weight, layer3.19.conv2.conv_offset.bias, layer3.20.conv2.conv_offset.weight, layer3.20.conv2.conv_offset.bias, layer3.21.conv2.conv_offset.weight, layer3.21.conv2.conv_offset.bias, layer3.22.conv2.conv_offset.weight, layer3.22.conv2.conv_offset.bias, layer4.0.conv2.conv_offset.weight, layer4.0.conv2.conv_offset.bias, layer4.1.conv2.conv_offset.weight, layer4.1.conv2.conv_offset.bias, layer4.2.conv2.conv_offset.weight, layer4.2.conv2.conv_offset.bias\n",
      "\n"
     ]
    }
   ],
   "source": [
    "model = build_detector(cfg.model)"
   ]
  },
  {
   "cell_type": "code",
   "execution_count": 8,
   "metadata": {
    "pycharm": {
     "name": "#%%\n"
    }
   },
   "outputs": [
    {
     "name": "stdout",
     "output_type": "stream",
     "text": [
      "loading annotations into memory...\n",
      "Done (t=5.16s)\n",
      "creating index...\n",
      "index created!\n"
     ]
    }
   ],
   "source": [
    "datasets = [build_dataset(cfg.data.train)]"
   ]
  },
  {
   "cell_type": "code",
   "execution_count": 17,
   "metadata": {},
   "outputs": [
    {
     "data": {
      "text/plain": [
       "[<mmdet.datasets.coco.CocoDataset at 0x7f59743c2ad0>]"
      ]
     },
     "execution_count": 17,
     "metadata": {},
     "output_type": "execute_result"
    }
   ],
   "source": [
    "datasets"
   ]
  },
  {
   "cell_type": "code",
   "execution_count": 9,
   "metadata": {
    "pycharm": {
     "name": "#%%\n"
    }
   },
   "outputs": [
    {
     "name": "stdout",
     "output_type": "stream",
     "text": [
      "loading annotations into memory...\n"
     ]
    },
    {
     "name": "stderr",
     "output_type": "stream",
     "text": [
      "2021-05-11 05:12:28,009 - mmdet - INFO - Start running, host: root@bc720df3e041, work_dir: /opt/ml/code/mmdetection_trash/work_dirs/vfnet_x101_64x4d_fpn_mdconv_c3-c5_mstrain_2x_coco\n",
      "2021-05-11 05:12:28,010 - mmdet - INFO - workflow: [('train', 1)], max: 24 epochs\n"
     ]
    },
    {
     "name": "stdout",
     "output_type": "stream",
     "text": [
      "Done (t=0.95s)\n",
      "creating index...\n",
      "index created!\n"
     ]
    },
    {
     "name": "stderr",
     "output_type": "stream",
     "text": [
      "2021-05-11 05:14:09,151 - mmdet - INFO - Epoch [1][50/655]\tlr: 1.882e-05, eta: 8:48:15, time: 2.023, data_time: 0.050, memory: 5644, loss_cls: 0.9522, loss_bbox: 0.7453, loss_bbox_rf: 1.0050, loss: 2.7025, grad_norm: 14.8900\n",
      "2021-05-11 05:15:48,037 - mmdet - INFO - Epoch [1][100/655]\tlr: 2.782e-05, eta: 8:40:43, time: 1.978, data_time: 0.007, memory: 5644, loss_cls: 0.8386, loss_bbox: 0.6872, loss_bbox_rf: 0.9199, loss: 2.4457, grad_norm: 12.4349\n",
      "2021-05-11 05:17:27,912 - mmdet - INFO - Epoch [1][150/655]\tlr: 3.682e-05, eta: 8:38:49, time: 1.998, data_time: 0.007, memory: 5644, loss_cls: 0.9072, loss_bbox: 0.6557, loss_bbox_rf: 0.8751, loss: 2.4380, grad_norm: 13.6231\n",
      "2021-05-11 05:19:06,164 - mmdet - INFO - Epoch [1][200/655]\tlr: 4.582e-05, eta: 8:34:56, time: 1.965, data_time: 0.006, memory: 5644, loss_cls: 0.8867, loss_bbox: 0.6201, loss_bbox_rf: 0.8251, loss: 2.3319, grad_norm: 12.6583\n",
      "2021-05-11 05:20:45,022 - mmdet - INFO - Epoch [1][250/655]\tlr: 5.482e-05, eta: 8:32:34, time: 1.977, data_time: 0.007, memory: 5644, loss_cls: 0.9391, loss_bbox: 0.5902, loss_bbox_rf: 0.7846, loss: 2.3139, grad_norm: 11.7736\n",
      "2021-05-11 05:22:23,495 - mmdet - INFO - Epoch [1][300/655]\tlr: 6.382e-05, eta: 8:30:07, time: 1.969, data_time: 0.006, memory: 5644, loss_cls: 0.9607, loss_bbox: 0.5569, loss_bbox_rf: 0.7339, loss: 2.2516, grad_norm: 13.0272\n",
      "2021-05-11 05:24:03,190 - mmdet - INFO - Epoch [1][350/655]\tlr: 7.282e-05, eta: 8:28:47, time: 1.994, data_time: 0.006, memory: 5644, loss_cls: 0.9513, loss_bbox: 0.5500, loss_bbox_rf: 0.7164, loss: 2.2177, grad_norm: 12.8103\n",
      "2021-05-11 05:25:44,153 - mmdet - INFO - Epoch [1][400/655]\tlr: 8.182e-05, eta: 8:28:11, time: 2.019, data_time: 0.007, memory: 5644, loss_cls: 0.9846, loss_bbox: 0.5395, loss_bbox_rf: 0.7016, loss: 2.2257, grad_norm: 14.5184\n",
      "2021-05-11 05:27:22,490 - mmdet - INFO - Epoch [1][450/655]\tlr: 9.082e-05, eta: 8:25:52, time: 1.967, data_time: 0.006, memory: 5644, loss_cls: 0.9451, loss_bbox: 0.5403, loss_bbox_rf: 0.6959, loss: 2.1813, grad_norm: 13.7487\n",
      "2021-05-11 05:29:00,797 - mmdet - INFO - Epoch [1][500/655]\tlr: 9.982e-05, eta: 8:23:40, time: 1.966, data_time: 0.006, memory: 5644, loss_cls: 0.9235, loss_bbox: 0.5150, loss_bbox_rf: 0.6611, loss: 2.0997, grad_norm: 10.8433\n",
      "2021-05-11 05:30:39,123 - mmdet - INFO - Epoch [1][550/655]\tlr: 1.000e-04, eta: 8:21:34, time: 1.967, data_time: 0.006, memory: 5644, loss_cls: 0.9168, loss_bbox: 0.5215, loss_bbox_rf: 0.6663, loss: 2.1046, grad_norm: 11.9053\n",
      "2021-05-11 05:32:18,627 - mmdet - INFO - Epoch [1][600/655]\tlr: 1.000e-04, eta: 8:20:03, time: 1.990, data_time: 0.007, memory: 5644, loss_cls: 0.9340, loss_bbox: 0.4895, loss_bbox_rf: 0.6265, loss: 2.0500, grad_norm: 10.7068\n",
      "2021-05-11 05:33:57,168 - mmdet - INFO - Epoch [1][650/655]\tlr: 1.000e-04, eta: 8:18:08, time: 1.971, data_time: 0.007, memory: 5644, loss_cls: 0.9764, loss_bbox: 0.4935, loss_bbox_rf: 0.6276, loss: 2.0975, grad_norm: 11.4400\n",
      "2021-05-11 05:34:07,088 - mmdet - INFO - Saving checkpoint at 1 epochs\n"
     ]
    },
    {
     "name": "stdout",
     "output_type": "stream",
     "text": [
      "[>>>>>>>>>>>>>>>>>>>>>>>>>>>>>>] 655/655, 8.4 task/s, elapsed: 78s, ETA:     0s"
     ]
    },
    {
     "name": "stderr",
     "output_type": "stream",
     "text": [
      "2021-05-11 05:35:35,883 - mmdet - INFO - Evaluating bbox...\n"
     ]
    },
    {
     "name": "stdout",
     "output_type": "stream",
     "text": [
      "Loading and preparing results...\n",
      "DONE (t=1.15s)\n",
      "creating index...\n",
      "index created!\n",
      "Running per image evaluation...\n",
      "Evaluate annotation type *bbox*\n",
      "DONE (t=7.54s).\n",
      "Accumulating evaluation results...\n"
     ]
    },
    {
     "name": "stderr",
     "output_type": "stream",
     "text": [
      "2021-05-11 05:35:46,415 - mmdet - INFO - Epoch(val) [1][655]\tbbox_mAP: 0.0450, bbox_mAP_50: 0.0820, bbox_mAP_75: 0.0440, bbox_mAP_s: 0.0130, bbox_mAP_m: 0.0550, bbox_mAP_l: 0.0860, bbox_mAP_copypaste: 0.045 0.082 0.044 0.013 0.055 0.086\n"
     ]
    },
    {
     "name": "stdout",
     "output_type": "stream",
     "text": [
      "DONE (t=1.71s).\n",
      "Average Precision  (AP) @[ IoU=0.50:0.95 | area=   all | maxDets=100 ] = 0.045\n",
      "Average Precision  (AP) @[ IoU=0.50      | area=   all | maxDets=1000 ] = 0.082\n",
      "Average Precision  (AP) @[ IoU=0.75      | area=   all | maxDets=1000 ] = 0.044\n",
      "Average Precision  (AP) @[ IoU=0.50:0.95 | area= small | maxDets=1000 ] = 0.013\n",
      "Average Precision  (AP) @[ IoU=0.50:0.95 | area=medium | maxDets=1000 ] = 0.055\n",
      "Average Precision  (AP) @[ IoU=0.50:0.95 | area= large | maxDets=1000 ] = 0.086\n",
      "Average Recall     (AR) @[ IoU=0.50:0.95 | area=   all | maxDets=100 ] = 0.159\n",
      "Average Recall     (AR) @[ IoU=0.50:0.95 | area=   all | maxDets=300 ] = 0.159\n",
      "Average Recall     (AR) @[ IoU=0.50:0.95 | area=   all | maxDets=1000 ] = 0.159\n",
      "Average Recall     (AR) @[ IoU=0.50:0.95 | area= small | maxDets=1000 ] = 0.013\n",
      "Average Recall     (AR) @[ IoU=0.50:0.95 | area=medium | maxDets=1000 ] = 0.131\n",
      "Average Recall     (AR) @[ IoU=0.50:0.95 | area= large | maxDets=1000 ] = 0.391\n"
     ]
    },
    {
     "name": "stderr",
     "output_type": "stream",
     "text": [
      "2021-05-11 05:37:27,953 - mmdet - INFO - Epoch [2][50/655]\tlr: 1.000e-04, eta: 8:13:38, time: 2.031, data_time: 0.051, memory: 5644, loss_cls: 0.9868, loss_bbox: 0.4583, loss_bbox_rf: 0.5753, loss: 2.0205, grad_norm: 12.0481\n",
      "2021-05-11 05:39:06,570 - mmdet - INFO - Epoch [2][100/655]\tlr: 1.000e-04, eta: 8:11:59, time: 1.972, data_time: 0.007, memory: 5644, loss_cls: 0.9397, loss_bbox: 0.4739, loss_bbox_rf: 0.5996, loss: 2.0133, grad_norm: 11.0356\n",
      "2021-05-11 05:40:45,234 - mmdet - INFO - Epoch [2][150/655]\tlr: 1.000e-04, eta: 8:10:21, time: 1.973, data_time: 0.006, memory: 5644, loss_cls: 0.9393, loss_bbox: 0.4324, loss_bbox_rf: 0.5527, loss: 1.9244, grad_norm: 9.9604\n",
      "2021-05-11 05:42:23,943 - mmdet - INFO - Epoch [2][200/655]\tlr: 1.000e-04, eta: 8:08:44, time: 1.974, data_time: 0.007, memory: 5644, loss_cls: 1.0246, loss_bbox: 0.4443, loss_bbox_rf: 0.5589, loss: 2.0278, grad_norm: 11.7221\n",
      "2021-05-11 05:44:02,508 - mmdet - INFO - Epoch [2][250/655]\tlr: 1.000e-04, eta: 8:07:04, time: 1.971, data_time: 0.006, memory: 5644, loss_cls: 0.9497, loss_bbox: 0.4441, loss_bbox_rf: 0.5608, loss: 1.9546, grad_norm: 11.2941\n",
      "2021-05-11 05:45:41,089 - mmdet - INFO - Epoch [2][300/655]\tlr: 1.000e-04, eta: 8:05:25, time: 1.972, data_time: 0.006, memory: 5644, loss_cls: 0.9714, loss_bbox: 0.4451, loss_bbox_rf: 0.5641, loss: 1.9806, grad_norm: 10.2362\n",
      "2021-05-11 05:47:19,618 - mmdet - INFO - Epoch [2][350/655]\tlr: 1.000e-04, eta: 8:03:44, time: 1.971, data_time: 0.006, memory: 5644, loss_cls: 1.0159, loss_bbox: 0.4199, loss_bbox_rf: 0.5311, loss: 1.9670, grad_norm: 10.7133\n",
      "2021-05-11 05:48:58,951 - mmdet - INFO - Epoch [2][400/655]\tlr: 1.000e-04, eta: 8:02:16, time: 1.987, data_time: 0.006, memory: 5644, loss_cls: 1.0203, loss_bbox: 0.4256, loss_bbox_rf: 0.5325, loss: 1.9784, grad_norm: 10.4054\n",
      "2021-05-11 05:50:38,039 - mmdet - INFO - Epoch [2][450/655]\tlr: 1.000e-04, eta: 8:00:43, time: 1.982, data_time: 0.007, memory: 5644, loss_cls: 1.0090, loss_bbox: 0.4223, loss_bbox_rf: 0.5286, loss: 1.9598, grad_norm: 11.9909\n",
      "2021-05-11 05:52:16,755 - mmdet - INFO - Epoch [2][500/655]\tlr: 1.000e-04, eta: 7:59:05, time: 1.974, data_time: 0.007, memory: 5644, loss_cls: 1.0044, loss_bbox: 0.4002, loss_bbox_rf: 0.5105, loss: 1.9151, grad_norm: 10.5218\n",
      "2021-05-11 05:53:56,031 - mmdet - INFO - Epoch [2][550/655]\tlr: 1.000e-04, eta: 7:57:33, time: 1.985, data_time: 0.007, memory: 5644, loss_cls: 0.9721, loss_bbox: 0.4021, loss_bbox_rf: 0.5090, loss: 1.8832, grad_norm: 10.5628\n",
      "2021-05-11 05:55:35,030 - mmdet - INFO - Epoch [2][600/655]\tlr: 1.000e-04, eta: 7:55:58, time: 1.980, data_time: 0.007, memory: 5644, loss_cls: 0.9516, loss_bbox: 0.3948, loss_bbox_rf: 0.4994, loss: 1.8458, grad_norm: 10.4643\n",
      "2021-05-11 05:57:13,813 - mmdet - INFO - Epoch [2][650/655]\tlr: 1.000e-04, eta: 7:54:20, time: 1.976, data_time: 0.006, memory: 5644, loss_cls: 1.0270, loss_bbox: 0.3720, loss_bbox_rf: 0.4707, loss: 1.8698, grad_norm: 11.5551\n",
      "2021-05-11 05:57:23,695 - mmdet - INFO - Saving checkpoint at 2 epochs\n"
     ]
    },
    {
     "name": "stdout",
     "output_type": "stream",
     "text": [
      "[>>>>>>>>>>>>>>>>>>>>>>>>>>>>>>] 655/655, 8.5 task/s, elapsed: 77s, ETA:     0s"
     ]
    },
    {
     "name": "stderr",
     "output_type": "stream",
     "text": [
      "2021-05-11 05:58:52,000 - mmdet - INFO - Evaluating bbox...\n"
     ]
    },
    {
     "name": "stdout",
     "output_type": "stream",
     "text": [
      "Loading and preparing results...\n",
      "DONE (t=1.18s)\n",
      "creating index...\n",
      "index created!\n",
      "Running per image evaluation...\n",
      "Evaluate annotation type *bbox*\n",
      "DONE (t=7.64s).\n",
      "Accumulating evaluation results...\n"
     ]
    },
    {
     "name": "stderr",
     "output_type": "stream",
     "text": [
      "2021-05-11 05:59:02,830 - mmdet - INFO - Epoch(val) [2][655]\tbbox_mAP: 0.0630, bbox_mAP_50: 0.1040, bbox_mAP_75: 0.0670, bbox_mAP_s: 0.0230, bbox_mAP_m: 0.0750, bbox_mAP_l: 0.1230, bbox_mAP_copypaste: 0.063 0.104 0.067 0.023 0.075 0.123\n"
     ]
    },
    {
     "name": "stdout",
     "output_type": "stream",
     "text": [
      "DONE (t=1.86s).\n",
      "Average Precision  (AP) @[ IoU=0.50:0.95 | area=   all | maxDets=100 ] = 0.063\n",
      "Average Precision  (AP) @[ IoU=0.50      | area=   all | maxDets=1000 ] = 0.104\n",
      "Average Precision  (AP) @[ IoU=0.75      | area=   all | maxDets=1000 ] = 0.067\n",
      "Average Precision  (AP) @[ IoU=0.50:0.95 | area= small | maxDets=1000 ] = 0.023\n",
      "Average Precision  (AP) @[ IoU=0.50:0.95 | area=medium | maxDets=1000 ] = 0.075\n",
      "Average Precision  (AP) @[ IoU=0.50:0.95 | area= large | maxDets=1000 ] = 0.123\n",
      "Average Recall     (AR) @[ IoU=0.50:0.95 | area=   all | maxDets=100 ] = 0.216\n",
      "Average Recall     (AR) @[ IoU=0.50:0.95 | area=   all | maxDets=300 ] = 0.216\n",
      "Average Recall     (AR) @[ IoU=0.50:0.95 | area=   all | maxDets=1000 ] = 0.216\n",
      "Average Recall     (AR) @[ IoU=0.50:0.95 | area= small | maxDets=1000 ] = 0.029\n",
      "Average Recall     (AR) @[ IoU=0.50:0.95 | area=medium | maxDets=1000 ] = 0.167\n",
      "Average Recall     (AR) @[ IoU=0.50:0.95 | area= large | maxDets=1000 ] = 0.455\n"
     ]
    },
    {
     "name": "stderr",
     "output_type": "stream",
     "text": [
      "2021-05-11 06:00:43,816 - mmdet - INFO - Epoch [3][50/655]\tlr: 1.000e-04, eta: 7:51:11, time: 2.020, data_time: 0.050, memory: 5644, loss_cls: 1.0277, loss_bbox: 0.3944, loss_bbox_rf: 0.4925, loss: 1.9145, grad_norm: 12.3740\n",
      "2021-05-11 06:02:22,437 - mmdet - INFO - Epoch [3][100/655]\tlr: 1.000e-04, eta: 7:49:34, time: 1.972, data_time: 0.007, memory: 5644, loss_cls: 0.9632, loss_bbox: 0.3889, loss_bbox_rf: 0.4874, loss: 1.8395, grad_norm: 11.2217\n",
      "2021-05-11 06:04:01,113 - mmdet - INFO - Epoch [3][150/655]\tlr: 1.000e-04, eta: 7:47:58, time: 1.974, data_time: 0.006, memory: 5644, loss_cls: 0.9658, loss_bbox: 0.3918, loss_bbox_rf: 0.4957, loss: 1.8533, grad_norm: 9.9442\n",
      "2021-05-11 06:05:39,816 - mmdet - INFO - Epoch [3][200/655]\tlr: 1.000e-04, eta: 7:46:22, time: 1.974, data_time: 0.006, memory: 5644, loss_cls: 0.9852, loss_bbox: 0.3780, loss_bbox_rf: 0.4786, loss: 1.8418, grad_norm: 10.5353\n",
      "2021-05-11 06:07:18,756 - mmdet - INFO - Epoch [3][250/655]\tlr: 1.000e-04, eta: 7:44:48, time: 1.979, data_time: 0.007, memory: 5644, loss_cls: 0.9627, loss_bbox: 0.3724, loss_bbox_rf: 0.4701, loss: 1.8052, grad_norm: 10.1021\n",
      "2021-05-11 06:08:57,602 - mmdet - INFO - Epoch [3][300/655]\tlr: 1.000e-04, eta: 7:43:13, time: 1.977, data_time: 0.007, memory: 5644, loss_cls: 1.0258, loss_bbox: 0.3711, loss_bbox_rf: 0.4687, loss: 1.8655, grad_norm: 9.9667\n",
      "2021-05-11 06:10:36,513 - mmdet - INFO - Epoch [3][350/655]\tlr: 1.000e-04, eta: 7:41:38, time: 1.978, data_time: 0.007, memory: 5644, loss_cls: 0.9933, loss_bbox: 0.3810, loss_bbox_rf: 0.4791, loss: 1.8534, grad_norm: 10.5955\n",
      "2021-05-11 06:12:15,374 - mmdet - INFO - Epoch [3][400/655]\tlr: 1.000e-04, eta: 7:40:02, time: 1.977, data_time: 0.007, memory: 5644, loss_cls: 0.9417, loss_bbox: 0.3846, loss_bbox_rf: 0.4853, loss: 1.8117, grad_norm: 9.7720\n",
      "2021-05-11 06:13:54,572 - mmdet - INFO - Epoch [3][450/655]\tlr: 1.000e-04, eta: 7:38:29, time: 1.984, data_time: 0.007, memory: 5644, loss_cls: 0.9648, loss_bbox: 0.3829, loss_bbox_rf: 0.4833, loss: 1.8310, grad_norm: 10.4546\n",
      "2021-05-11 06:15:33,552 - mmdet - INFO - Epoch [3][500/655]\tlr: 1.000e-04, eta: 7:36:54, time: 1.980, data_time: 0.007, memory: 5644, loss_cls: 0.9458, loss_bbox: 0.3741, loss_bbox_rf: 0.4764, loss: 1.7963, grad_norm: 9.1493\n",
      "2021-05-11 06:17:12,569 - mmdet - INFO - Epoch [3][550/655]\tlr: 1.000e-04, eta: 7:35:19, time: 1.980, data_time: 0.007, memory: 5644, loss_cls: 1.0306, loss_bbox: 0.3632, loss_bbox_rf: 0.4496, loss: 1.8434, grad_norm: 11.3716\n",
      "2021-05-11 06:18:53,831 - mmdet - INFO - Epoch [3][600/655]\tlr: 1.000e-04, eta: 7:34:00, time: 2.025, data_time: 0.007, memory: 5644, loss_cls: 0.9990, loss_bbox: 0.3502, loss_bbox_rf: 0.4392, loss: 1.7885, grad_norm: 10.8679\n",
      "2021-05-11 06:20:32,787 - mmdet - INFO - Epoch [3][650/655]\tlr: 1.000e-04, eta: 7:32:24, time: 1.979, data_time: 0.007, memory: 5644, loss_cls: 1.0245, loss_bbox: 0.3669, loss_bbox_rf: 0.4619, loss: 1.8533, grad_norm: 10.8615\n",
      "2021-05-11 06:20:42,732 - mmdet - INFO - Saving checkpoint at 3 epochs\n"
     ]
    },
    {
     "name": "stdout",
     "output_type": "stream",
     "text": [
      "[>>>>>>>>>>>>>>>>>>>>>>>>>>>>>>] 655/655, 8.2 task/s, elapsed: 80s, ETA:     0s"
     ]
    },
    {
     "name": "stderr",
     "output_type": "stream",
     "text": [
      "2021-05-11 06:22:14,194 - mmdet - INFO - Evaluating bbox...\n"
     ]
    },
    {
     "name": "stdout",
     "output_type": "stream",
     "text": [
      "Loading and preparing results...\n",
      "DONE (t=1.16s)\n",
      "creating index...\n",
      "index created!\n",
      "Running per image evaluation...\n",
      "Evaluate annotation type *bbox*\n",
      "DONE (t=7.86s).\n",
      "Accumulating evaluation results...\n"
     ]
    },
    {
     "name": "stderr",
     "output_type": "stream",
     "text": [
      "2021-05-11 06:22:25,136 - mmdet - INFO - Epoch(val) [3][655]\tbbox_mAP: 0.0820, bbox_mAP_50: 0.1230, bbox_mAP_75: 0.0870, bbox_mAP_s: 0.0290, bbox_mAP_m: 0.0830, bbox_mAP_l: 0.1470, bbox_mAP_copypaste: 0.082 0.123 0.087 0.029 0.083 0.147\n"
     ]
    },
    {
     "name": "stdout",
     "output_type": "stream",
     "text": [
      "DONE (t=1.78s).\n",
      "Average Precision  (AP) @[ IoU=0.50:0.95 | area=   all | maxDets=100 ] = 0.082\n",
      "Average Precision  (AP) @[ IoU=0.50      | area=   all | maxDets=1000 ] = 0.123\n",
      "Average Precision  (AP) @[ IoU=0.75      | area=   all | maxDets=1000 ] = 0.087\n",
      "Average Precision  (AP) @[ IoU=0.50:0.95 | area= small | maxDets=1000 ] = 0.029\n",
      "Average Precision  (AP) @[ IoU=0.50:0.95 | area=medium | maxDets=1000 ] = 0.083\n",
      "Average Precision  (AP) @[ IoU=0.50:0.95 | area= large | maxDets=1000 ] = 0.147\n",
      "Average Recall     (AR) @[ IoU=0.50:0.95 | area=   all | maxDets=100 ] = 0.253\n",
      "Average Recall     (AR) @[ IoU=0.50:0.95 | area=   all | maxDets=300 ] = 0.253\n",
      "Average Recall     (AR) @[ IoU=0.50:0.95 | area=   all | maxDets=1000 ] = 0.253\n",
      "Average Recall     (AR) @[ IoU=0.50:0.95 | area= small | maxDets=1000 ] = 0.067\n",
      "Average Recall     (AR) @[ IoU=0.50:0.95 | area=medium | maxDets=1000 ] = 0.221\n",
      "Average Recall     (AR) @[ IoU=0.50:0.95 | area= large | maxDets=1000 ] = 0.540\n"
     ]
    },
    {
     "name": "stderr",
     "output_type": "stream",
     "text": [
      "2021-05-11 06:24:06,684 - mmdet - INFO - Epoch [4][50/655]\tlr: 1.000e-04, eta: 7:29:48, time: 2.031, data_time: 0.051, memory: 5644, loss_cls: 0.9631, loss_bbox: 0.3396, loss_bbox_rf: 0.4253, loss: 1.7280, grad_norm: 9.4929\n",
      "2021-05-11 06:25:45,618 - mmdet - INFO - Epoch [4][100/655]\tlr: 1.000e-04, eta: 7:28:13, time: 1.979, data_time: 0.007, memory: 5644, loss_cls: 0.9593, loss_bbox: 0.3571, loss_bbox_rf: 0.4560, loss: 1.7724, grad_norm: 8.8090\n",
      "2021-05-11 06:27:24,639 - mmdet - INFO - Epoch [4][150/655]\tlr: 1.000e-04, eta: 7:26:38, time: 1.980, data_time: 0.007, memory: 5644, loss_cls: 0.9506, loss_bbox: 0.3345, loss_bbox_rf: 0.4221, loss: 1.7072, grad_norm: 9.7159\n",
      "2021-05-11 06:29:03,370 - mmdet - INFO - Epoch [4][200/655]\tlr: 1.000e-04, eta: 7:25:01, time: 1.975, data_time: 0.007, memory: 5644, loss_cls: 0.9516, loss_bbox: 0.3484, loss_bbox_rf: 0.4414, loss: 1.7413, grad_norm: 10.4232\n",
      "2021-05-11 06:30:42,720 - mmdet - INFO - Epoch [4][250/655]\tlr: 1.000e-04, eta: 7:23:27, time: 1.987, data_time: 0.007, memory: 5644, loss_cls: 0.9716, loss_bbox: 0.3410, loss_bbox_rf: 0.4320, loss: 1.7446, grad_norm: 9.2294\n",
      "2021-05-11 06:32:21,900 - mmdet - INFO - Epoch [4][300/655]\tlr: 1.000e-04, eta: 7:21:53, time: 1.984, data_time: 0.007, memory: 5644, loss_cls: 0.9434, loss_bbox: 0.3541, loss_bbox_rf: 0.4443, loss: 1.7418, grad_norm: 10.5669\n",
      "2021-05-11 06:34:01,117 - mmdet - INFO - Epoch [4][350/655]\tlr: 1.000e-04, eta: 7:20:18, time: 1.984, data_time: 0.007, memory: 5644, loss_cls: 1.0132, loss_bbox: 0.3337, loss_bbox_rf: 0.4131, loss: 1.7600, grad_norm: 10.8361\n",
      "2021-05-11 06:35:40,360 - mmdet - INFO - Epoch [4][400/655]\tlr: 1.000e-04, eta: 7:18:44, time: 1.985, data_time: 0.007, memory: 5644, loss_cls: 0.9406, loss_bbox: 0.3575, loss_bbox_rf: 0.4573, loss: 1.7554, grad_norm: 8.6426\n",
      "2021-05-11 06:37:19,726 - mmdet - INFO - Epoch [4][450/655]\tlr: 1.000e-04, eta: 7:17:10, time: 1.987, data_time: 0.007, memory: 5644, loss_cls: 0.9388, loss_bbox: 0.3466, loss_bbox_rf: 0.4362, loss: 1.7215, grad_norm: 9.9400\n",
      "2021-05-11 06:38:58,696 - mmdet - INFO - Epoch [4][500/655]\tlr: 1.000e-04, eta: 7:15:33, time: 1.979, data_time: 0.007, memory: 5644, loss_cls: 1.0054, loss_bbox: 0.3419, loss_bbox_rf: 0.4340, loss: 1.7813, grad_norm: 9.3836\n",
      "2021-05-11 06:40:37,788 - mmdet - INFO - Epoch [4][550/655]\tlr: 1.000e-04, eta: 7:13:57, time: 1.982, data_time: 0.007, memory: 5644, loss_cls: 0.9380, loss_bbox: 0.3370, loss_bbox_rf: 0.4271, loss: 1.7021, grad_norm: 9.1787\n",
      "2021-05-11 06:42:17,879 - mmdet - INFO - Epoch [4][600/655]\tlr: 1.000e-04, eta: 7:12:26, time: 2.002, data_time: 0.007, memory: 5644, loss_cls: 0.9788, loss_bbox: 0.3441, loss_bbox_rf: 0.4363, loss: 1.7591, grad_norm: 9.9720\n",
      "2021-05-11 06:43:56,878 - mmdet - INFO - Epoch [4][650/655]\tlr: 1.000e-04, eta: 7:10:50, time: 1.980, data_time: 0.007, memory: 5644, loss_cls: 0.9571, loss_bbox: 0.3388, loss_bbox_rf: 0.4308, loss: 1.7267, grad_norm: 8.9885\n",
      "2021-05-11 06:44:06,883 - mmdet - INFO - Saving checkpoint at 4 epochs\n"
     ]
    },
    {
     "name": "stdout",
     "output_type": "stream",
     "text": [
      "[>>>>>>>>>>>>>>>>>>>>>>>>>>>>>>] 655/655, 8.3 task/s, elapsed: 79s, ETA:     0s"
     ]
    },
    {
     "name": "stderr",
     "output_type": "stream",
     "text": [
      "2021-05-11 06:45:37,249 - mmdet - INFO - Evaluating bbox...\n"
     ]
    },
    {
     "name": "stdout",
     "output_type": "stream",
     "text": [
      "Loading and preparing results...\n",
      "DONE (t=1.24s)\n",
      "creating index...\n",
      "index created!\n",
      "Running per image evaluation...\n",
      "Evaluate annotation type *bbox*\n",
      "DONE (t=7.55s).\n",
      "Accumulating evaluation results...\n"
     ]
    },
    {
     "name": "stderr",
     "output_type": "stream",
     "text": [
      "2021-05-11 06:45:48,004 - mmdet - INFO - Epoch(val) [4][655]\tbbox_mAP: 0.1000, bbox_mAP_50: 0.1500, bbox_mAP_75: 0.1050, bbox_mAP_s: 0.0290, bbox_mAP_m: 0.1010, bbox_mAP_l: 0.1950, bbox_mAP_copypaste: 0.100 0.150 0.105 0.029 0.101 0.195\n"
     ]
    },
    {
     "name": "stdout",
     "output_type": "stream",
     "text": [
      "DONE (t=1.81s).\n",
      "Average Precision  (AP) @[ IoU=0.50:0.95 | area=   all | maxDets=100 ] = 0.100\n",
      "Average Precision  (AP) @[ IoU=0.50      | area=   all | maxDets=1000 ] = 0.150\n",
      "Average Precision  (AP) @[ IoU=0.75      | area=   all | maxDets=1000 ] = 0.105\n",
      "Average Precision  (AP) @[ IoU=0.50:0.95 | area= small | maxDets=1000 ] = 0.029\n",
      "Average Precision  (AP) @[ IoU=0.50:0.95 | area=medium | maxDets=1000 ] = 0.101\n",
      "Average Precision  (AP) @[ IoU=0.50:0.95 | area= large | maxDets=1000 ] = 0.195\n",
      "Average Recall     (AR) @[ IoU=0.50:0.95 | area=   all | maxDets=100 ] = 0.288\n",
      "Average Recall     (AR) @[ IoU=0.50:0.95 | area=   all | maxDets=300 ] = 0.288\n",
      "Average Recall     (AR) @[ IoU=0.50:0.95 | area=   all | maxDets=1000 ] = 0.288\n",
      "Average Recall     (AR) @[ IoU=0.50:0.95 | area= small | maxDets=1000 ] = 0.067\n",
      "Average Recall     (AR) @[ IoU=0.50:0.95 | area=medium | maxDets=1000 ] = 0.252\n",
      "Average Recall     (AR) @[ IoU=0.50:0.95 | area= large | maxDets=1000 ] = 0.546\n"
     ]
    },
    {
     "name": "stderr",
     "output_type": "stream",
     "text": [
      "2021-05-11 06:47:29,218 - mmdet - INFO - Epoch [5][50/655]\tlr: 1.000e-04, eta: 7:08:26, time: 2.024, data_time: 0.050, memory: 5644, loss_cls: 0.9559, loss_bbox: 0.3170, loss_bbox_rf: 0.3975, loss: 1.6703, grad_norm: 10.3193\n",
      "2021-05-11 06:49:08,430 - mmdet - INFO - Epoch [5][100/655]\tlr: 1.000e-04, eta: 7:06:51, time: 1.984, data_time: 0.007, memory: 5644, loss_cls: 0.9675, loss_bbox: 0.3286, loss_bbox_rf: 0.4136, loss: 1.7097, grad_norm: 9.5210\n",
      "2021-05-11 06:50:47,489 - mmdet - INFO - Epoch [5][150/655]\tlr: 1.000e-04, eta: 7:05:15, time: 1.981, data_time: 0.007, memory: 5644, loss_cls: 0.9285, loss_bbox: 0.3175, loss_bbox_rf: 0.4024, loss: 1.6485, grad_norm: 9.2439\n",
      "2021-05-11 06:52:26,711 - mmdet - INFO - Epoch [5][200/655]\tlr: 1.000e-04, eta: 7:03:39, time: 1.984, data_time: 0.007, memory: 5644, loss_cls: 0.9188, loss_bbox: 0.3227, loss_bbox_rf: 0.4071, loss: 1.6485, grad_norm: 9.4788\n",
      "2021-05-11 06:54:06,047 - mmdet - INFO - Epoch [5][250/655]\tlr: 1.000e-04, eta: 7:02:04, time: 1.987, data_time: 0.007, memory: 5644, loss_cls: 0.9805, loss_bbox: 0.3292, loss_bbox_rf: 0.4083, loss: 1.7180, grad_norm: 10.1964\n",
      "2021-05-11 06:55:45,155 - mmdet - INFO - Epoch [5][300/655]\tlr: 1.000e-04, eta: 7:00:28, time: 1.982, data_time: 0.007, memory: 5644, loss_cls: 0.9849, loss_bbox: 0.3224, loss_bbox_rf: 0.4065, loss: 1.7138, grad_norm: 9.9820\n",
      "2021-05-11 06:57:24,133 - mmdet - INFO - Epoch [5][350/655]\tlr: 1.000e-04, eta: 6:58:52, time: 1.980, data_time: 0.007, memory: 5644, loss_cls: 0.9854, loss_bbox: 0.3229, loss_bbox_rf: 0.4032, loss: 1.7115, grad_norm: 10.5112\n",
      "2021-05-11 06:59:03,585 - mmdet - INFO - Epoch [5][400/655]\tlr: 1.000e-04, eta: 6:57:17, time: 1.989, data_time: 0.007, memory: 5644, loss_cls: 1.0443, loss_bbox: 0.3311, loss_bbox_rf: 0.4137, loss: 1.7891, grad_norm: 11.1899\n",
      "2021-05-11 07:00:42,271 - mmdet - INFO - Epoch [5][450/655]\tlr: 1.000e-04, eta: 6:55:39, time: 1.974, data_time: 0.007, memory: 5644, loss_cls: 0.9843, loss_bbox: 0.3295, loss_bbox_rf: 0.4151, loss: 1.7288, grad_norm: 9.2869\n",
      "2021-05-11 07:02:21,315 - mmdet - INFO - Epoch [5][500/655]\tlr: 1.000e-04, eta: 6:54:02, time: 1.981, data_time: 0.007, memory: 5644, loss_cls: 0.9133, loss_bbox: 0.3262, loss_bbox_rf: 0.4129, loss: 1.6524, grad_norm: 8.3614\n",
      "2021-05-11 07:04:01,389 - mmdet - INFO - Epoch [5][550/655]\tlr: 1.000e-04, eta: 6:52:29, time: 2.001, data_time: 0.007, memory: 5644, loss_cls: 0.9158, loss_bbox: 0.3343, loss_bbox_rf: 0.4222, loss: 1.6723, grad_norm: 9.4282\n",
      "2021-05-11 07:05:40,203 - mmdet - INFO - Epoch [5][600/655]\tlr: 1.000e-04, eta: 6:50:52, time: 1.976, data_time: 0.007, memory: 5644, loss_cls: 0.9387, loss_bbox: 0.3165, loss_bbox_rf: 0.3981, loss: 1.6533, grad_norm: 10.0257\n",
      "2021-05-11 07:07:19,273 - mmdet - INFO - Epoch [5][650/655]\tlr: 1.000e-04, eta: 6:49:15, time: 1.981, data_time: 0.007, memory: 5644, loss_cls: 0.9057, loss_bbox: 0.3263, loss_bbox_rf: 0.4085, loss: 1.6406, grad_norm: 9.3634\n",
      "2021-05-11 07:07:29,222 - mmdet - INFO - Saving checkpoint at 5 epochs\n"
     ]
    },
    {
     "name": "stdout",
     "output_type": "stream",
     "text": [
      "[>>>>>>>>>>>>>>>>>>>>>>>>>>>>>>] 655/655, 8.2 task/s, elapsed: 80s, ETA:     0s"
     ]
    },
    {
     "name": "stderr",
     "output_type": "stream",
     "text": [
      "2021-05-11 07:09:00,031 - mmdet - INFO - Evaluating bbox...\n"
     ]
    },
    {
     "name": "stdout",
     "output_type": "stream",
     "text": [
      "Loading and preparing results...\n",
      "DONE (t=1.11s)\n",
      "creating index...\n",
      "index created!\n",
      "Running per image evaluation...\n",
      "Evaluate annotation type *bbox*\n",
      "DONE (t=8.20s).\n",
      "Accumulating evaluation results...\n"
     ]
    },
    {
     "name": "stderr",
     "output_type": "stream",
     "text": [
      "2021-05-11 07:09:11,225 - mmdet - INFO - Epoch(val) [5][655]\tbbox_mAP: 0.1100, bbox_mAP_50: 0.1650, bbox_mAP_75: 0.1150, bbox_mAP_s: 0.0340, bbox_mAP_m: 0.1220, bbox_mAP_l: 0.2060, bbox_mAP_copypaste: 0.110 0.165 0.115 0.034 0.122 0.206\n"
     ]
    },
    {
     "name": "stdout",
     "output_type": "stream",
     "text": [
      "DONE (t=1.73s).\n",
      "Average Precision  (AP) @[ IoU=0.50:0.95 | area=   all | maxDets=100 ] = 0.110\n",
      "Average Precision  (AP) @[ IoU=0.50      | area=   all | maxDets=1000 ] = 0.165\n",
      "Average Precision  (AP) @[ IoU=0.75      | area=   all | maxDets=1000 ] = 0.115\n",
      "Average Precision  (AP) @[ IoU=0.50:0.95 | area= small | maxDets=1000 ] = 0.034\n",
      "Average Precision  (AP) @[ IoU=0.50:0.95 | area=medium | maxDets=1000 ] = 0.122\n",
      "Average Precision  (AP) @[ IoU=0.50:0.95 | area= large | maxDets=1000 ] = 0.206\n",
      "Average Recall     (AR) @[ IoU=0.50:0.95 | area=   all | maxDets=100 ] = 0.306\n",
      "Average Recall     (AR) @[ IoU=0.50:0.95 | area=   all | maxDets=300 ] = 0.306\n",
      "Average Recall     (AR) @[ IoU=0.50:0.95 | area=   all | maxDets=1000 ] = 0.306\n",
      "Average Recall     (AR) @[ IoU=0.50:0.95 | area= small | maxDets=1000 ] = 0.064\n",
      "Average Recall     (AR) @[ IoU=0.50:0.95 | area=medium | maxDets=1000 ] = 0.265\n",
      "Average Recall     (AR) @[ IoU=0.50:0.95 | area= large | maxDets=1000 ] = 0.633\n"
     ]
    },
    {
     "name": "stderr",
     "output_type": "stream",
     "text": [
      "2021-05-11 07:10:53,167 - mmdet - INFO - Epoch [6][50/655]\tlr: 1.000e-04, eta: 6:47:02, time: 2.039, data_time: 0.051, memory: 5644, loss_cls: 0.9193, loss_bbox: 0.3095, loss_bbox_rf: 0.3913, loss: 1.6201, grad_norm: 8.6398\n",
      "2021-05-11 07:12:32,098 - mmdet - INFO - Epoch [6][100/655]\tlr: 1.000e-04, eta: 6:45:25, time: 1.979, data_time: 0.007, memory: 5644, loss_cls: 0.9990, loss_bbox: 0.2865, loss_bbox_rf: 0.3560, loss: 1.6415, grad_norm: 11.0308\n",
      "2021-05-11 07:14:10,904 - mmdet - INFO - Epoch [6][150/655]\tlr: 1.000e-04, eta: 6:43:47, time: 1.976, data_time: 0.007, memory: 5644, loss_cls: 0.9265, loss_bbox: 0.3124, loss_bbox_rf: 0.3927, loss: 1.6315, grad_norm: 9.3107\n",
      "2021-05-11 07:15:49,851 - mmdet - INFO - Epoch [6][200/655]\tlr: 1.000e-04, eta: 6:42:10, time: 1.979, data_time: 0.007, memory: 5644, loss_cls: 0.9155, loss_bbox: 0.3146, loss_bbox_rf: 0.4012, loss: 1.6313, grad_norm: 8.2381\n",
      "2021-05-11 07:17:28,805 - mmdet - INFO - Epoch [6][250/655]\tlr: 1.000e-04, eta: 6:40:33, time: 1.979, data_time: 0.007, memory: 5644, loss_cls: 0.8667, loss_bbox: 0.3132, loss_bbox_rf: 0.3970, loss: 1.5769, grad_norm: 8.6595\n",
      "2021-05-11 07:19:07,685 - mmdet - INFO - Epoch [6][300/655]\tlr: 1.000e-04, eta: 6:38:56, time: 1.978, data_time: 0.007, memory: 5644, loss_cls: 0.8909, loss_bbox: 0.2856, loss_bbox_rf: 0.3571, loss: 1.5337, grad_norm: 10.0705\n",
      "2021-05-11 07:20:46,350 - mmdet - INFO - Epoch [6][350/655]\tlr: 1.000e-04, eta: 6:37:18, time: 1.973, data_time: 0.007, memory: 5644, loss_cls: 0.9421, loss_bbox: 0.3116, loss_bbox_rf: 0.3943, loss: 1.6479, grad_norm: 8.8880\n",
      "2021-05-11 07:22:25,298 - mmdet - INFO - Epoch [6][400/655]\tlr: 1.000e-04, eta: 6:35:40, time: 1.979, data_time: 0.006, memory: 5644, loss_cls: 0.9380, loss_bbox: 0.3099, loss_bbox_rf: 0.3888, loss: 1.6367, grad_norm: 9.7201\n",
      "2021-05-11 07:24:04,939 - mmdet - INFO - Epoch [6][450/655]\tlr: 1.000e-04, eta: 6:34:05, time: 1.993, data_time: 0.006, memory: 5644, loss_cls: 0.9522, loss_bbox: 0.3042, loss_bbox_rf: 0.3837, loss: 1.6400, grad_norm: 9.0886\n",
      "2021-05-11 07:25:43,954 - mmdet - INFO - Epoch [6][500/655]\tlr: 1.000e-04, eta: 6:32:28, time: 1.980, data_time: 0.007, memory: 5644, loss_cls: 0.9148, loss_bbox: 0.2967, loss_bbox_rf: 0.3725, loss: 1.5840, grad_norm: 9.4242\n",
      "2021-05-11 07:27:22,604 - mmdet - INFO - Epoch [6][550/655]\tlr: 1.000e-04, eta: 6:30:50, time: 1.973, data_time: 0.007, memory: 5644, loss_cls: 0.9254, loss_bbox: 0.3145, loss_bbox_rf: 0.3995, loss: 1.6393, grad_norm: 8.7634\n",
      "2021-05-11 07:29:01,353 - mmdet - INFO - Epoch [6][600/655]\tlr: 1.000e-04, eta: 6:29:12, time: 1.975, data_time: 0.007, memory: 5644, loss_cls: 0.9081, loss_bbox: 0.3031, loss_bbox_rf: 0.3870, loss: 1.5982, grad_norm: 7.9529\n",
      "2021-05-11 07:30:40,097 - mmdet - INFO - Epoch [6][650/655]\tlr: 1.000e-04, eta: 6:27:34, time: 1.975, data_time: 0.006, memory: 5644, loss_cls: 0.9434, loss_bbox: 0.3031, loss_bbox_rf: 0.3745, loss: 1.6210, grad_norm: 9.4976\n",
      "2021-05-11 07:30:50,043 - mmdet - INFO - Saving checkpoint at 6 epochs\n"
     ]
    },
    {
     "name": "stdout",
     "output_type": "stream",
     "text": [
      "[>>>>>>>>>>>>>>>>>>>>>>>>>>>>>>] 655/655, 8.4 task/s, elapsed: 78s, ETA:     0s"
     ]
    },
    {
     "name": "stderr",
     "output_type": "stream",
     "text": [
      "2021-05-11 07:32:19,004 - mmdet - INFO - Evaluating bbox...\n"
     ]
    },
    {
     "name": "stdout",
     "output_type": "stream",
     "text": [
      "Loading and preparing results...\n",
      "DONE (t=1.21s)\n",
      "creating index...\n",
      "index created!\n",
      "Running per image evaluation...\n",
      "Evaluate annotation type *bbox*\n",
      "DONE (t=7.34s).\n",
      "Accumulating evaluation results...\n"
     ]
    },
    {
     "name": "stderr",
     "output_type": "stream",
     "text": [
      "2021-05-11 07:32:29,388 - mmdet - INFO - Epoch(val) [6][655]\tbbox_mAP: 0.1180, bbox_mAP_50: 0.1790, bbox_mAP_75: 0.1260, bbox_mAP_s: 0.0410, bbox_mAP_m: 0.1360, bbox_mAP_l: 0.2000, bbox_mAP_copypaste: 0.118 0.179 0.126 0.041 0.136 0.200\n"
     ]
    },
    {
     "name": "stdout",
     "output_type": "stream",
     "text": [
      "DONE (t=1.68s).\n",
      "Average Precision  (AP) @[ IoU=0.50:0.95 | area=   all | maxDets=100 ] = 0.118\n",
      "Average Precision  (AP) @[ IoU=0.50      | area=   all | maxDets=1000 ] = 0.179\n",
      "Average Precision  (AP) @[ IoU=0.75      | area=   all | maxDets=1000 ] = 0.126\n",
      "Average Precision  (AP) @[ IoU=0.50:0.95 | area= small | maxDets=1000 ] = 0.041\n",
      "Average Precision  (AP) @[ IoU=0.50:0.95 | area=medium | maxDets=1000 ] = 0.136\n",
      "Average Precision  (AP) @[ IoU=0.50:0.95 | area= large | maxDets=1000 ] = 0.200\n",
      "Average Recall     (AR) @[ IoU=0.50:0.95 | area=   all | maxDets=100 ] = 0.331\n",
      "Average Recall     (AR) @[ IoU=0.50:0.95 | area=   all | maxDets=300 ] = 0.331\n",
      "Average Recall     (AR) @[ IoU=0.50:0.95 | area=   all | maxDets=1000 ] = 0.331\n",
      "Average Recall     (AR) @[ IoU=0.50:0.95 | area= small | maxDets=1000 ] = 0.074\n",
      "Average Recall     (AR) @[ IoU=0.50:0.95 | area=medium | maxDets=1000 ] = 0.320\n",
      "Average Recall     (AR) @[ IoU=0.50:0.95 | area= large | maxDets=1000 ] = 0.631\n"
     ]
    },
    {
     "name": "stderr",
     "output_type": "stream",
     "text": [
      "2021-05-11 07:34:10,780 - mmdet - INFO - Epoch [7][50/655]\tlr: 1.000e-04, eta: 6:25:25, time: 2.028, data_time: 0.051, memory: 5644, loss_cls: 0.9049, loss_bbox: 0.3004, loss_bbox_rf: 0.3797, loss: 1.5850, grad_norm: 8.3306\n",
      "2021-05-11 07:35:49,777 - mmdet - INFO - Epoch [7][100/655]\tlr: 1.000e-04, eta: 6:23:48, time: 1.980, data_time: 0.006, memory: 5644, loss_cls: 0.8843, loss_bbox: 0.2706, loss_bbox_rf: 0.3425, loss: 1.4974, grad_norm: 8.8743\n",
      "2021-05-11 07:37:28,539 - mmdet - INFO - Epoch [7][150/655]\tlr: 1.000e-04, eta: 6:22:10, time: 1.975, data_time: 0.007, memory: 5644, loss_cls: 0.9050, loss_bbox: 0.2829, loss_bbox_rf: 0.3599, loss: 1.5477, grad_norm: 8.3139\n",
      "2021-05-11 07:39:07,372 - mmdet - INFO - Epoch [7][200/655]\tlr: 1.000e-04, eta: 6:20:32, time: 1.977, data_time: 0.007, memory: 5644, loss_cls: 0.9397, loss_bbox: 0.2852, loss_bbox_rf: 0.3569, loss: 1.5817, grad_norm: 9.4367\n",
      "2021-05-11 07:40:46,257 - mmdet - INFO - Epoch [7][250/655]\tlr: 1.000e-04, eta: 6:18:55, time: 1.978, data_time: 0.006, memory: 5644, loss_cls: 0.8886, loss_bbox: 0.3049, loss_bbox_rf: 0.3855, loss: 1.5790, grad_norm: 8.7771\n",
      "2021-05-11 07:42:25,084 - mmdet - INFO - Epoch [7][300/655]\tlr: 1.000e-04, eta: 6:17:17, time: 1.977, data_time: 0.006, memory: 5644, loss_cls: 0.9030, loss_bbox: 0.2907, loss_bbox_rf: 0.3662, loss: 1.5599, grad_norm: 9.1065\n",
      "2021-05-11 07:44:03,869 - mmdet - INFO - Epoch [7][350/655]\tlr: 1.000e-04, eta: 6:15:39, time: 1.976, data_time: 0.007, memory: 5644, loss_cls: 0.8654, loss_bbox: 0.2956, loss_bbox_rf: 0.3693, loss: 1.5303, grad_norm: 9.4797\n",
      "2021-05-11 07:45:42,732 - mmdet - INFO - Epoch [7][400/655]\tlr: 1.000e-04, eta: 6:14:02, time: 1.977, data_time: 0.007, memory: 5644, loss_cls: 0.9229, loss_bbox: 0.2876, loss_bbox_rf: 0.3580, loss: 1.5685, grad_norm: 9.3776\n",
      "2021-05-11 07:47:21,534 - mmdet - INFO - Epoch [7][450/655]\tlr: 1.000e-04, eta: 6:12:24, time: 1.976, data_time: 0.007, memory: 5644, loss_cls: 0.9009, loss_bbox: 0.2805, loss_bbox_rf: 0.3549, loss: 1.5363, grad_norm: 8.1278\n",
      "2021-05-11 07:49:00,357 - mmdet - INFO - Epoch [7][500/655]\tlr: 1.000e-04, eta: 6:10:46, time: 1.976, data_time: 0.007, memory: 5644, loss_cls: 0.9068, loss_bbox: 0.2893, loss_bbox_rf: 0.3633, loss: 1.5595, grad_norm: 9.1965\n",
      "2021-05-11 07:50:39,161 - mmdet - INFO - Epoch [7][550/655]\tlr: 1.000e-04, eta: 6:09:08, time: 1.976, data_time: 0.007, memory: 5644, loss_cls: 0.9198, loss_bbox: 0.2940, loss_bbox_rf: 0.3715, loss: 1.5852, grad_norm: 7.8011\n",
      "2021-05-11 07:52:18,471 - mmdet - INFO - Epoch [7][600/655]\tlr: 1.000e-04, eta: 6:07:32, time: 1.986, data_time: 0.007, memory: 5644, loss_cls: 0.9051, loss_bbox: 0.2850, loss_bbox_rf: 0.3559, loss: 1.5461, grad_norm: 9.9072\n",
      "2021-05-11 07:53:57,257 - mmdet - INFO - Epoch [7][650/655]\tlr: 1.000e-04, eta: 6:05:54, time: 1.976, data_time: 0.007, memory: 5644, loss_cls: 0.8852, loss_bbox: 0.3046, loss_bbox_rf: 0.3807, loss: 1.5705, grad_norm: 9.6935\n",
      "2021-05-11 07:54:07,181 - mmdet - INFO - Saving checkpoint at 7 epochs\n"
     ]
    },
    {
     "name": "stdout",
     "output_type": "stream",
     "text": [
      "[>>>>>>>>>>>>>>>>>>>>>>>>>>>>>>] 655/655, 8.4 task/s, elapsed: 78s, ETA:     0s"
     ]
    },
    {
     "name": "stderr",
     "output_type": "stream",
     "text": [
      "2021-05-11 07:55:35,982 - mmdet - INFO - Evaluating bbox...\n"
     ]
    },
    {
     "name": "stdout",
     "output_type": "stream",
     "text": [
      "Loading and preparing results...\n",
      "DONE (t=1.65s)\n",
      "creating index...\n",
      "index created!\n",
      "Running per image evaluation...\n",
      "Evaluate annotation type *bbox*\n",
      "DONE (t=7.25s).\n",
      "Accumulating evaluation results...\n"
     ]
    },
    {
     "name": "stderr",
     "output_type": "stream",
     "text": [
      "2021-05-11 07:55:46,763 - mmdet - INFO - Epoch(val) [7][655]\tbbox_mAP: 0.1390, bbox_mAP_50: 0.2050, bbox_mAP_75: 0.1500, bbox_mAP_s: 0.0360, bbox_mAP_m: 0.1460, bbox_mAP_l: 0.2560, bbox_mAP_copypaste: 0.139 0.205 0.150 0.036 0.146 0.256\n"
     ]
    },
    {
     "name": "stdout",
     "output_type": "stream",
     "text": [
      "DONE (t=1.74s).\n",
      "Average Precision  (AP) @[ IoU=0.50:0.95 | area=   all | maxDets=100 ] = 0.139\n",
      "Average Precision  (AP) @[ IoU=0.50      | area=   all | maxDets=1000 ] = 0.205\n",
      "Average Precision  (AP) @[ IoU=0.75      | area=   all | maxDets=1000 ] = 0.150\n",
      "Average Precision  (AP) @[ IoU=0.50:0.95 | area= small | maxDets=1000 ] = 0.036\n",
      "Average Precision  (AP) @[ IoU=0.50:0.95 | area=medium | maxDets=1000 ] = 0.146\n",
      "Average Precision  (AP) @[ IoU=0.50:0.95 | area= large | maxDets=1000 ] = 0.256\n",
      "Average Recall     (AR) @[ IoU=0.50:0.95 | area=   all | maxDets=100 ] = 0.324\n",
      "Average Recall     (AR) @[ IoU=0.50:0.95 | area=   all | maxDets=300 ] = 0.324\n",
      "Average Recall     (AR) @[ IoU=0.50:0.95 | area=   all | maxDets=1000 ] = 0.324\n",
      "Average Recall     (AR) @[ IoU=0.50:0.95 | area= small | maxDets=1000 ] = 0.083\n",
      "Average Recall     (AR) @[ IoU=0.50:0.95 | area=medium | maxDets=1000 ] = 0.300\n",
      "Average Recall     (AR) @[ IoU=0.50:0.95 | area= large | maxDets=1000 ] = 0.637\n"
     ]
    },
    {
     "name": "stderr",
     "output_type": "stream",
     "text": [
      "2021-05-11 07:57:27,984 - mmdet - INFO - Epoch [8][50/655]\tlr: 1.000e-04, eta: 6:03:48, time: 2.024, data_time: 0.051, memory: 5644, loss_cls: 0.8474, loss_bbox: 0.2695, loss_bbox_rf: 0.3398, loss: 1.4567, grad_norm: 8.2223\n",
      "2021-05-11 07:59:07,081 - mmdet - INFO - Epoch [8][100/655]\tlr: 1.000e-04, eta: 6:02:11, time: 1.982, data_time: 0.007, memory: 5644, loss_cls: 0.8609, loss_bbox: 0.2748, loss_bbox_rf: 0.3453, loss: 1.4810, grad_norm: 8.2259\n",
      "2021-05-11 08:00:46,239 - mmdet - INFO - Epoch [8][150/655]\tlr: 1.000e-04, eta: 6:00:35, time: 1.983, data_time: 0.007, memory: 5644, loss_cls: 0.8963, loss_bbox: 0.2625, loss_bbox_rf: 0.3259, loss: 1.4847, grad_norm: 10.0821\n",
      "2021-05-11 08:02:25,576 - mmdet - INFO - Epoch [8][200/655]\tlr: 1.000e-04, eta: 5:58:58, time: 1.987, data_time: 0.007, memory: 5644, loss_cls: 0.9150, loss_bbox: 0.2877, loss_bbox_rf: 0.3593, loss: 1.5620, grad_norm: 9.4384\n",
      "2021-05-11 08:04:06,590 - mmdet - INFO - Epoch [8][250/655]\tlr: 1.000e-04, eta: 5:57:25, time: 2.020, data_time: 0.007, memory: 5644, loss_cls: 0.9060, loss_bbox: 0.2915, loss_bbox_rf: 0.3678, loss: 1.5654, grad_norm: 8.6909\n",
      "2021-05-11 08:05:47,525 - mmdet - INFO - Epoch [8][300/655]\tlr: 1.000e-04, eta: 5:55:52, time: 2.019, data_time: 0.007, memory: 5644, loss_cls: 0.8932, loss_bbox: 0.2801, loss_bbox_rf: 0.3492, loss: 1.5225, grad_norm: 9.6558\n",
      "2021-05-11 08:07:26,666 - mmdet - INFO - Epoch [8][350/655]\tlr: 1.000e-04, eta: 5:54:15, time: 1.983, data_time: 0.007, memory: 5644, loss_cls: 0.8931, loss_bbox: 0.2830, loss_bbox_rf: 0.3554, loss: 1.5315, grad_norm: 8.7936\n",
      "2021-05-11 08:09:06,543 - mmdet - INFO - Epoch [8][400/655]\tlr: 1.000e-04, eta: 5:52:39, time: 1.998, data_time: 0.007, memory: 5644, loss_cls: 0.9032, loss_bbox: 0.2610, loss_bbox_rf: 0.3297, loss: 1.4940, grad_norm: 8.5250\n",
      "2021-05-11 08:10:45,780 - mmdet - INFO - Epoch [8][450/655]\tlr: 1.000e-04, eta: 5:51:02, time: 1.985, data_time: 0.007, memory: 5644, loss_cls: 0.8889, loss_bbox: 0.2976, loss_bbox_rf: 0.3763, loss: 1.5628, grad_norm: 8.6959\n",
      "2021-05-11 08:12:25,171 - mmdet - INFO - Epoch [8][500/655]\tlr: 1.000e-04, eta: 5:49:25, time: 1.988, data_time: 0.007, memory: 5644, loss_cls: 0.8915, loss_bbox: 0.2770, loss_bbox_rf: 0.3478, loss: 1.5164, grad_norm: 9.0768\n",
      "2021-05-11 08:14:04,381 - mmdet - INFO - Epoch [8][550/655]\tlr: 1.000e-04, eta: 5:47:48, time: 1.984, data_time: 0.007, memory: 5644, loss_cls: 0.8702, loss_bbox: 0.2812, loss_bbox_rf: 0.3539, loss: 1.5053, grad_norm: 8.3342\n",
      "2021-05-11 08:15:43,559 - mmdet - INFO - Epoch [8][600/655]\tlr: 1.000e-04, eta: 5:46:11, time: 1.984, data_time: 0.007, memory: 5644, loss_cls: 0.8768, loss_bbox: 0.2870, loss_bbox_rf: 0.3616, loss: 1.5254, grad_norm: 8.5228\n",
      "2021-05-11 08:17:22,812 - mmdet - INFO - Epoch [8][650/655]\tlr: 1.000e-04, eta: 5:44:33, time: 1.985, data_time: 0.007, memory: 5644, loss_cls: 0.9007, loss_bbox: 0.2662, loss_bbox_rf: 0.3371, loss: 1.5040, grad_norm: 8.0990\n",
      "2021-05-11 08:17:32,795 - mmdet - INFO - Saving checkpoint at 8 epochs\n"
     ]
    },
    {
     "name": "stdout",
     "output_type": "stream",
     "text": [
      "[>>>>>>>>>>>>>>>>>>>>>>>>>>>>>>] 655/655, 8.1 task/s, elapsed: 81s, ETA:     0s"
     ]
    },
    {
     "name": "stderr",
     "output_type": "stream",
     "text": [
      "2021-05-11 08:19:05,267 - mmdet - INFO - Evaluating bbox...\n"
     ]
    },
    {
     "name": "stdout",
     "output_type": "stream",
     "text": [
      "Loading and preparing results...\n",
      "DONE (t=1.56s)\n",
      "creating index...\n",
      "index created!\n",
      "Running per image evaluation...\n",
      "Evaluate annotation type *bbox*\n",
      "DONE (t=7.67s).\n",
      "Accumulating evaluation results...\n"
     ]
    },
    {
     "name": "stderr",
     "output_type": "stream",
     "text": [
      "2021-05-11 08:19:16,376 - mmdet - INFO - Epoch(val) [8][655]\tbbox_mAP: 0.1420, bbox_mAP_50: 0.2110, bbox_mAP_75: 0.1470, bbox_mAP_s: 0.0430, bbox_mAP_m: 0.1480, bbox_mAP_l: 0.2580, bbox_mAP_copypaste: 0.142 0.211 0.147 0.043 0.148 0.258\n"
     ]
    },
    {
     "name": "stdout",
     "output_type": "stream",
     "text": [
      "DONE (t=1.73s).\n",
      "Average Precision  (AP) @[ IoU=0.50:0.95 | area=   all | maxDets=100 ] = 0.142\n",
      "Average Precision  (AP) @[ IoU=0.50      | area=   all | maxDets=1000 ] = 0.211\n",
      "Average Precision  (AP) @[ IoU=0.75      | area=   all | maxDets=1000 ] = 0.147\n",
      "Average Precision  (AP) @[ IoU=0.50:0.95 | area= small | maxDets=1000 ] = 0.043\n",
      "Average Precision  (AP) @[ IoU=0.50:0.95 | area=medium | maxDets=1000 ] = 0.148\n",
      "Average Precision  (AP) @[ IoU=0.50:0.95 | area= large | maxDets=1000 ] = 0.258\n",
      "Average Recall     (AR) @[ IoU=0.50:0.95 | area=   all | maxDets=100 ] = 0.375\n",
      "Average Recall     (AR) @[ IoU=0.50:0.95 | area=   all | maxDets=300 ] = 0.375\n",
      "Average Recall     (AR) @[ IoU=0.50:0.95 | area=   all | maxDets=1000 ] = 0.375\n",
      "Average Recall     (AR) @[ IoU=0.50:0.95 | area= small | maxDets=1000 ] = 0.085\n",
      "Average Recall     (AR) @[ IoU=0.50:0.95 | area=medium | maxDets=1000 ] = 0.341\n",
      "Average Recall     (AR) @[ IoU=0.50:0.95 | area= large | maxDets=1000 ] = 0.667\n"
     ]
    },
    {
     "name": "stderr",
     "output_type": "stream",
     "text": [
      "2021-05-11 08:20:58,541 - mmdet - INFO - Epoch [9][50/655]\tlr: 1.000e-04, eta: 5:42:33, time: 2.043, data_time: 0.051, memory: 5644, loss_cls: 0.8411, loss_bbox: 0.2814, loss_bbox_rf: 0.3574, loss: 1.4799, grad_norm: 8.8533\n",
      "2021-05-11 08:22:38,048 - mmdet - INFO - Epoch [9][100/655]\tlr: 1.000e-04, eta: 5:40:56, time: 1.990, data_time: 0.007, memory: 5644, loss_cls: 0.8251, loss_bbox: 0.2631, loss_bbox_rf: 0.3287, loss: 1.4170, grad_norm: 9.1123\n",
      "2021-05-11 08:24:17,229 - mmdet - INFO - Epoch [9][150/655]\tlr: 1.000e-04, eta: 5:39:19, time: 1.984, data_time: 0.007, memory: 5644, loss_cls: 0.8449, loss_bbox: 0.2822, loss_bbox_rf: 0.3557, loss: 1.4828, grad_norm: 8.6816\n",
      "2021-05-11 08:25:56,300 - mmdet - INFO - Epoch [9][200/655]\tlr: 1.000e-04, eta: 5:37:41, time: 1.981, data_time: 0.007, memory: 5644, loss_cls: 0.8781, loss_bbox: 0.2741, loss_bbox_rf: 0.3423, loss: 1.4945, grad_norm: 8.9077\n",
      "2021-05-11 08:27:36,409 - mmdet - INFO - Epoch [9][250/655]\tlr: 1.000e-04, eta: 5:36:05, time: 2.002, data_time: 0.007, memory: 5644, loss_cls: 0.8812, loss_bbox: 0.2478, loss_bbox_rf: 0.3147, loss: 1.4437, grad_norm: 8.2375\n",
      "2021-05-11 08:29:17,613 - mmdet - INFO - Epoch [9][300/655]\tlr: 1.000e-04, eta: 5:34:32, time: 2.024, data_time: 0.007, memory: 5644, loss_cls: 0.8684, loss_bbox: 0.2597, loss_bbox_rf: 0.3243, loss: 1.4524, grad_norm: 8.4369\n",
      "2021-05-11 08:30:57,075 - mmdet - INFO - Epoch [9][350/655]\tlr: 1.000e-04, eta: 5:32:55, time: 1.989, data_time: 0.007, memory: 5644, loss_cls: 0.9261, loss_bbox: 0.2608, loss_bbox_rf: 0.3219, loss: 1.5087, grad_norm: 9.3385\n",
      "2021-05-11 08:32:37,003 - mmdet - INFO - Epoch [9][400/655]\tlr: 1.000e-04, eta: 5:31:19, time: 1.999, data_time: 0.007, memory: 5644, loss_cls: 0.8510, loss_bbox: 0.2682, loss_bbox_rf: 0.3379, loss: 1.4572, grad_norm: 8.2333\n",
      "2021-05-11 08:34:16,057 - mmdet - INFO - Epoch [9][450/655]\tlr: 1.000e-04, eta: 5:29:41, time: 1.981, data_time: 0.007, memory: 5644, loss_cls: 0.8516, loss_bbox: 0.2506, loss_bbox_rf: 0.3161, loss: 1.4182, grad_norm: 8.3561\n",
      "2021-05-11 08:35:55,170 - mmdet - INFO - Epoch [9][500/655]\tlr: 1.000e-04, eta: 5:28:03, time: 1.982, data_time: 0.007, memory: 5644, loss_cls: 0.7893, loss_bbox: 0.2633, loss_bbox_rf: 0.3324, loss: 1.3849, grad_norm: 8.0830\n",
      "2021-05-11 08:37:34,285 - mmdet - INFO - Epoch [9][550/655]\tlr: 1.000e-04, eta: 5:26:25, time: 1.982, data_time: 0.007, memory: 5644, loss_cls: 0.8856, loss_bbox: 0.2762, loss_bbox_rf: 0.3505, loss: 1.5123, grad_norm: 8.8669\n",
      "2021-05-11 08:39:13,377 - mmdet - INFO - Epoch [9][600/655]\tlr: 1.000e-04, eta: 5:24:47, time: 1.982, data_time: 0.007, memory: 5644, loss_cls: 0.8517, loss_bbox: 0.2656, loss_bbox_rf: 0.3350, loss: 1.4523, grad_norm: 8.1540\n",
      "2021-05-11 08:40:52,637 - mmdet - INFO - Epoch [9][650/655]\tlr: 1.000e-04, eta: 5:23:10, time: 1.985, data_time: 0.007, memory: 5644, loss_cls: 0.8933, loss_bbox: 0.2645, loss_bbox_rf: 0.3293, loss: 1.4870, grad_norm: 9.2577\n",
      "2021-05-11 08:41:02,647 - mmdet - INFO - Saving checkpoint at 9 epochs\n"
     ]
    },
    {
     "name": "stdout",
     "output_type": "stream",
     "text": [
      "[>>>>>>>>>>>>>>>>>>>>>>>>>>>>>>] 655/655, 8.0 task/s, elapsed: 81s, ETA:     0s"
     ]
    },
    {
     "name": "stderr",
     "output_type": "stream",
     "text": [
      "2021-05-11 08:42:35,741 - mmdet - INFO - Evaluating bbox...\n"
     ]
    },
    {
     "name": "stdout",
     "output_type": "stream",
     "text": [
      "Loading and preparing results...\n",
      "DONE (t=1.20s)\n",
      "creating index...\n",
      "index created!\n",
      "Running per image evaluation...\n",
      "Evaluate annotation type *bbox*\n",
      "DONE (t=7.49s).\n",
      "Accumulating evaluation results...\n"
     ]
    },
    {
     "name": "stderr",
     "output_type": "stream",
     "text": [
      "2021-05-11 08:42:46,432 - mmdet - INFO - Epoch(val) [9][655]\tbbox_mAP: 0.1470, bbox_mAP_50: 0.2170, bbox_mAP_75: 0.1550, bbox_mAP_s: 0.0350, bbox_mAP_m: 0.1410, bbox_mAP_l: 0.3080, bbox_mAP_copypaste: 0.147 0.217 0.155 0.035 0.141 0.308\n"
     ]
    },
    {
     "name": "stdout",
     "output_type": "stream",
     "text": [
      "DONE (t=1.84s).\n",
      "Average Precision  (AP) @[ IoU=0.50:0.95 | area=   all | maxDets=100 ] = 0.147\n",
      "Average Precision  (AP) @[ IoU=0.50      | area=   all | maxDets=1000 ] = 0.217\n",
      "Average Precision  (AP) @[ IoU=0.75      | area=   all | maxDets=1000 ] = 0.155\n",
      "Average Precision  (AP) @[ IoU=0.50:0.95 | area= small | maxDets=1000 ] = 0.035\n",
      "Average Precision  (AP) @[ IoU=0.50:0.95 | area=medium | maxDets=1000 ] = 0.141\n",
      "Average Precision  (AP) @[ IoU=0.50:0.95 | area= large | maxDets=1000 ] = 0.308\n",
      "Average Recall     (AR) @[ IoU=0.50:0.95 | area=   all | maxDets=100 ] = 0.365\n",
      "Average Recall     (AR) @[ IoU=0.50:0.95 | area=   all | maxDets=300 ] = 0.365\n",
      "Average Recall     (AR) @[ IoU=0.50:0.95 | area=   all | maxDets=1000 ] = 0.365\n",
      "Average Recall     (AR) @[ IoU=0.50:0.95 | area= small | maxDets=1000 ] = 0.117\n",
      "Average Recall     (AR) @[ IoU=0.50:0.95 | area=medium | maxDets=1000 ] = 0.339\n",
      "Average Recall     (AR) @[ IoU=0.50:0.95 | area= large | maxDets=1000 ] = 0.644\n"
     ]
    },
    {
     "name": "stderr",
     "output_type": "stream",
     "text": [
      "2021-05-11 08:44:28,737 - mmdet - INFO - Epoch [10][50/655]\tlr: 1.000e-04, eta: 5:21:11, time: 2.046, data_time: 0.051, memory: 5644, loss_cls: 0.8134, loss_bbox: 0.2608, loss_bbox_rf: 0.3230, loss: 1.3972, grad_norm: 9.6952\n",
      "2021-05-11 08:46:08,185 - mmdet - INFO - Epoch [10][100/655]\tlr: 1.000e-04, eta: 5:19:34, time: 1.989, data_time: 0.007, memory: 5644, loss_cls: 0.8377, loss_bbox: 0.2465, loss_bbox_rf: 0.3068, loss: 1.3910, grad_norm: 9.6324\n",
      "2021-05-11 08:47:47,646 - mmdet - INFO - Epoch [10][150/655]\tlr: 1.000e-04, eta: 5:17:57, time: 1.989, data_time: 0.007, memory: 5644, loss_cls: 0.8431, loss_bbox: 0.2541, loss_bbox_rf: 0.3190, loss: 1.4162, grad_norm: 9.0248\n",
      "2021-05-11 08:49:27,193 - mmdet - INFO - Epoch [10][200/655]\tlr: 1.000e-04, eta: 5:16:20, time: 1.991, data_time: 0.007, memory: 5644, loss_cls: 0.8539, loss_bbox: 0.2544, loss_bbox_rf: 0.3158, loss: 1.4242, grad_norm: 9.3980\n",
      "2021-05-11 08:51:06,774 - mmdet - INFO - Epoch [10][250/655]\tlr: 1.000e-04, eta: 5:14:43, time: 1.992, data_time: 0.007, memory: 5644, loss_cls: 0.8001, loss_bbox: 0.2541, loss_bbox_rf: 0.3194, loss: 1.3736, grad_norm: 8.0486\n",
      "2021-05-11 08:52:45,993 - mmdet - INFO - Epoch [10][300/655]\tlr: 1.000e-04, eta: 5:13:05, time: 1.984, data_time: 0.007, memory: 5644, loss_cls: 0.9191, loss_bbox: 0.2462, loss_bbox_rf: 0.3073, loss: 1.4726, grad_norm: 9.5755\n",
      "2021-05-11 08:54:25,873 - mmdet - INFO - Epoch [10][350/655]\tlr: 1.000e-04, eta: 5:11:28, time: 1.998, data_time: 0.007, memory: 5644, loss_cls: 0.8465, loss_bbox: 0.2622, loss_bbox_rf: 0.3347, loss: 1.4434, grad_norm: 8.1467\n",
      "2021-05-11 08:56:05,292 - mmdet - INFO - Epoch [10][400/655]\tlr: 1.000e-04, eta: 5:09:51, time: 1.988, data_time: 0.007, memory: 5644, loss_cls: 0.8229, loss_bbox: 0.2489, loss_bbox_rf: 0.3109, loss: 1.3828, grad_norm: 8.9808\n",
      "2021-05-11 08:57:44,596 - mmdet - INFO - Epoch [10][450/655]\tlr: 1.000e-04, eta: 5:08:13, time: 1.986, data_time: 0.007, memory: 5644, loss_cls: 0.8492, loss_bbox: 0.2543, loss_bbox_rf: 0.3188, loss: 1.4223, grad_norm: 9.0220\n",
      "2021-05-11 08:59:23,909 - mmdet - INFO - Epoch [10][500/655]\tlr: 1.000e-04, eta: 5:06:36, time: 1.986, data_time: 0.007, memory: 5644, loss_cls: 0.8210, loss_bbox: 0.2695, loss_bbox_rf: 0.3401, loss: 1.4306, grad_norm: 8.2259\n",
      "2021-05-11 09:01:03,448 - mmdet - INFO - Epoch [10][550/655]\tlr: 1.000e-04, eta: 5:04:58, time: 1.991, data_time: 0.007, memory: 5644, loss_cls: 0.8277, loss_bbox: 0.2557, loss_bbox_rf: 0.3237, loss: 1.4072, grad_norm: 7.9730\n",
      "2021-05-11 09:02:42,737 - mmdet - INFO - Epoch [10][600/655]\tlr: 1.000e-04, eta: 5:03:21, time: 1.986, data_time: 0.007, memory: 5644, loss_cls: 0.8234, loss_bbox: 0.2606, loss_bbox_rf: 0.3303, loss: 1.4143, grad_norm: 8.2579\n",
      "2021-05-11 09:04:22,090 - mmdet - INFO - Epoch [10][650/655]\tlr: 1.000e-04, eta: 5:01:43, time: 1.987, data_time: 0.007, memory: 5644, loss_cls: 0.8602, loss_bbox: 0.2656, loss_bbox_rf: 0.3332, loss: 1.4590, grad_norm: 8.6946\n",
      "2021-05-11 09:04:32,045 - mmdet - INFO - Saving checkpoint at 10 epochs\n"
     ]
    },
    {
     "name": "stdout",
     "output_type": "stream",
     "text": [
      "[>>>>>>>>>>>>>>>>>>>>>>>>>>>>>>] 655/655, 8.3 task/s, elapsed: 79s, ETA:     0s"
     ]
    },
    {
     "name": "stderr",
     "output_type": "stream",
     "text": [
      "2021-05-11 09:06:03,036 - mmdet - INFO - Evaluating bbox...\n"
     ]
    },
    {
     "name": "stdout",
     "output_type": "stream",
     "text": [
      "Loading and preparing results...\n",
      "DONE (t=1.22s)\n",
      "creating index...\n",
      "index created!\n",
      "Running per image evaluation...\n",
      "Evaluate annotation type *bbox*\n",
      "DONE (t=7.35s).\n",
      "Accumulating evaluation results...\n"
     ]
    },
    {
     "name": "stderr",
     "output_type": "stream",
     "text": [
      "2021-05-11 09:06:13,528 - mmdet - INFO - Epoch(val) [10][655]\tbbox_mAP: 0.1660, bbox_mAP_50: 0.2460, bbox_mAP_75: 0.1750, bbox_mAP_s: 0.0400, bbox_mAP_m: 0.1650, bbox_mAP_l: 0.3780, bbox_mAP_copypaste: 0.166 0.246 0.175 0.040 0.165 0.378\n"
     ]
    },
    {
     "name": "stdout",
     "output_type": "stream",
     "text": [
      "DONE (t=1.76s).\n",
      "Average Precision  (AP) @[ IoU=0.50:0.95 | area=   all | maxDets=100 ] = 0.166\n",
      "Average Precision  (AP) @[ IoU=0.50      | area=   all | maxDets=1000 ] = 0.246\n",
      "Average Precision  (AP) @[ IoU=0.75      | area=   all | maxDets=1000 ] = 0.175\n",
      "Average Precision  (AP) @[ IoU=0.50:0.95 | area= small | maxDets=1000 ] = 0.040\n",
      "Average Precision  (AP) @[ IoU=0.50:0.95 | area=medium | maxDets=1000 ] = 0.165\n",
      "Average Precision  (AP) @[ IoU=0.50:0.95 | area= large | maxDets=1000 ] = 0.378\n",
      "Average Recall     (AR) @[ IoU=0.50:0.95 | area=   all | maxDets=100 ] = 0.384\n",
      "Average Recall     (AR) @[ IoU=0.50:0.95 | area=   all | maxDets=300 ] = 0.384\n",
      "Average Recall     (AR) @[ IoU=0.50:0.95 | area=   all | maxDets=1000 ] = 0.384\n",
      "Average Recall     (AR) @[ IoU=0.50:0.95 | area= small | maxDets=1000 ] = 0.110\n",
      "Average Recall     (AR) @[ IoU=0.50:0.95 | area=medium | maxDets=1000 ] = 0.371\n",
      "Average Recall     (AR) @[ IoU=0.50:0.95 | area= large | maxDets=1000 ] = 0.670\n"
     ]
    },
    {
     "name": "stderr",
     "output_type": "stream",
     "text": [
      "2021-05-11 09:07:56,222 - mmdet - INFO - Epoch [11][50/655]\tlr: 1.000e-04, eta: 4:59:46, time: 2.054, data_time: 0.052, memory: 5644, loss_cls: 0.8000, loss_bbox: 0.2451, loss_bbox_rf: 0.3078, loss: 1.3528, grad_norm: 8.2334\n",
      "2021-05-11 09:09:35,461 - mmdet - INFO - Epoch [11][100/655]\tlr: 1.000e-04, eta: 4:58:09, time: 1.985, data_time: 0.007, memory: 5644, loss_cls: 0.8350, loss_bbox: 0.2184, loss_bbox_rf: 0.2730, loss: 1.3264, grad_norm: 9.0988\n",
      "2021-05-11 09:11:14,953 - mmdet - INFO - Epoch [11][150/655]\tlr: 1.000e-04, eta: 4:56:31, time: 1.990, data_time: 0.007, memory: 5644, loss_cls: 0.7898, loss_bbox: 0.2469, loss_bbox_rf: 0.3111, loss: 1.3478, grad_norm: 7.8036\n",
      "2021-05-11 09:12:54,793 - mmdet - INFO - Epoch [11][200/655]\tlr: 1.000e-04, eta: 4:54:54, time: 1.997, data_time: 0.007, memory: 5644, loss_cls: 0.8026, loss_bbox: 0.2537, loss_bbox_rf: 0.3195, loss: 1.3758, grad_norm: 8.1170\n",
      "2021-05-11 09:14:34,273 - mmdet - INFO - Epoch [11][250/655]\tlr: 1.000e-04, eta: 4:53:17, time: 1.990, data_time: 0.007, memory: 5644, loss_cls: 0.8413, loss_bbox: 0.2523, loss_bbox_rf: 0.3165, loss: 1.4101, grad_norm: 9.0769\n",
      "2021-05-11 09:16:13,359 - mmdet - INFO - Epoch [11][300/655]\tlr: 1.000e-04, eta: 4:51:39, time: 1.982, data_time: 0.007, memory: 5644, loss_cls: 0.8015, loss_bbox: 0.2521, loss_bbox_rf: 0.3183, loss: 1.3719, grad_norm: 8.1553\n",
      "2021-05-11 09:17:52,548 - mmdet - INFO - Epoch [11][350/655]\tlr: 1.000e-04, eta: 4:50:01, time: 1.984, data_time: 0.007, memory: 5644, loss_cls: 0.7622, loss_bbox: 0.2426, loss_bbox_rf: 0.3064, loss: 1.3112, grad_norm: 8.1005\n",
      "2021-05-11 09:19:31,864 - mmdet - INFO - Epoch [11][400/655]\tlr: 1.000e-04, eta: 4:48:23, time: 1.986, data_time: 0.007, memory: 5644, loss_cls: 0.8004, loss_bbox: 0.2586, loss_bbox_rf: 0.3227, loss: 1.3816, grad_norm: 8.5351\n",
      "2021-05-11 09:21:12,178 - mmdet - INFO - Epoch [11][450/655]\tlr: 1.000e-04, eta: 4:46:46, time: 2.006, data_time: 0.007, memory: 5644, loss_cls: 0.8442, loss_bbox: 0.2569, loss_bbox_rf: 0.3221, loss: 1.4232, grad_norm: 8.8234\n",
      "2021-05-11 09:22:51,609 - mmdet - INFO - Epoch [11][500/655]\tlr: 1.000e-04, eta: 4:45:08, time: 1.989, data_time: 0.007, memory: 5644, loss_cls: 0.8062, loss_bbox: 0.2481, loss_bbox_rf: 0.3104, loss: 1.3647, grad_norm: 8.4821\n",
      "2021-05-11 09:24:31,646 - mmdet - INFO - Epoch [11][550/655]\tlr: 1.000e-04, eta: 4:43:31, time: 2.001, data_time: 0.007, memory: 5644, loss_cls: 0.8101, loss_bbox: 0.2531, loss_bbox_rf: 0.3140, loss: 1.3772, grad_norm: 8.4327\n",
      "2021-05-11 09:26:11,011 - mmdet - INFO - Epoch [11][600/655]\tlr: 1.000e-04, eta: 4:41:54, time: 1.987, data_time: 0.007, memory: 5644, loss_cls: 0.8452, loss_bbox: 0.2650, loss_bbox_rf: 0.3310, loss: 1.4412, grad_norm: 9.1617\n",
      "2021-05-11 09:27:50,899 - mmdet - INFO - Epoch [11][650/655]\tlr: 1.000e-04, eta: 4:40:16, time: 1.998, data_time: 0.007, memory: 5644, loss_cls: 0.8524, loss_bbox: 0.2590, loss_bbox_rf: 0.3264, loss: 1.4377, grad_norm: 8.1212\n",
      "2021-05-11 09:28:01,058 - mmdet - INFO - Saving checkpoint at 11 epochs\n"
     ]
    },
    {
     "name": "stdout",
     "output_type": "stream",
     "text": [
      "[>>>>>>>>>>>>>>>>>>>>>>>>>>>>>>] 655/655, 8.2 task/s, elapsed: 79s, ETA:     0s"
     ]
    },
    {
     "name": "stderr",
     "output_type": "stream",
     "text": [
      "2021-05-11 09:29:32,020 - mmdet - INFO - Evaluating bbox...\n"
     ]
    },
    {
     "name": "stdout",
     "output_type": "stream",
     "text": [
      "Loading and preparing results...\n",
      "DONE (t=0.70s)\n",
      "creating index...\n",
      "index created!\n",
      "Running per image evaluation...\n",
      "Evaluate annotation type *bbox*\n",
      "DONE (t=7.82s).\n",
      "Accumulating evaluation results...\n"
     ]
    },
    {
     "name": "stderr",
     "output_type": "stream",
     "text": [
      "2021-05-11 09:29:42,343 - mmdet - INFO - Epoch(val) [11][655]\tbbox_mAP: 0.1670, bbox_mAP_50: 0.2480, bbox_mAP_75: 0.1760, bbox_mAP_s: 0.0440, bbox_mAP_m: 0.1740, bbox_mAP_l: 0.3210, bbox_mAP_copypaste: 0.167 0.248 0.176 0.044 0.174 0.321\n"
     ]
    },
    {
     "name": "stdout",
     "output_type": "stream",
     "text": [
      "DONE (t=1.65s).\n",
      "Average Precision  (AP) @[ IoU=0.50:0.95 | area=   all | maxDets=100 ] = 0.167\n",
      "Average Precision  (AP) @[ IoU=0.50      | area=   all | maxDets=1000 ] = 0.248\n",
      "Average Precision  (AP) @[ IoU=0.75      | area=   all | maxDets=1000 ] = 0.176\n",
      "Average Precision  (AP) @[ IoU=0.50:0.95 | area= small | maxDets=1000 ] = 0.044\n",
      "Average Precision  (AP) @[ IoU=0.50:0.95 | area=medium | maxDets=1000 ] = 0.174\n",
      "Average Precision  (AP) @[ IoU=0.50:0.95 | area= large | maxDets=1000 ] = 0.321\n",
      "Average Recall     (AR) @[ IoU=0.50:0.95 | area=   all | maxDets=100 ] = 0.384\n",
      "Average Recall     (AR) @[ IoU=0.50:0.95 | area=   all | maxDets=300 ] = 0.384\n",
      "Average Recall     (AR) @[ IoU=0.50:0.95 | area=   all | maxDets=1000 ] = 0.384\n",
      "Average Recall     (AR) @[ IoU=0.50:0.95 | area= small | maxDets=1000 ] = 0.105\n",
      "Average Recall     (AR) @[ IoU=0.50:0.95 | area=medium | maxDets=1000 ] = 0.357\n",
      "Average Recall     (AR) @[ IoU=0.50:0.95 | area= large | maxDets=1000 ] = 0.685\n"
     ]
    },
    {
     "name": "stderr",
     "output_type": "stream",
     "text": [
      "2021-05-11 09:31:23,895 - mmdet - INFO - Epoch [12][50/655]\tlr: 1.000e-04, eta: 4:38:20, time: 2.031, data_time: 0.052, memory: 5644, loss_cls: 0.7898, loss_bbox: 0.2520, loss_bbox_rf: 0.3172, loss: 1.3590, grad_norm: 8.4265\n",
      "2021-05-11 09:33:03,270 - mmdet - INFO - Epoch [12][100/655]\tlr: 1.000e-04, eta: 4:36:42, time: 1.988, data_time: 0.008, memory: 5644, loss_cls: 0.7838, loss_bbox: 0.2271, loss_bbox_rf: 0.2767, loss: 1.2876, grad_norm: 9.8541\n",
      "2021-05-11 09:34:42,609 - mmdet - INFO - Epoch [12][150/655]\tlr: 1.000e-04, eta: 4:35:04, time: 1.987, data_time: 0.007, memory: 5644, loss_cls: 0.8058, loss_bbox: 0.2434, loss_bbox_rf: 0.3072, loss: 1.3564, grad_norm: 8.1210\n",
      "2021-05-11 09:36:22,192 - mmdet - INFO - Epoch [12][200/655]\tlr: 1.000e-04, eta: 4:33:26, time: 1.992, data_time: 0.007, memory: 5644, loss_cls: 0.7958, loss_bbox: 0.2478, loss_bbox_rf: 0.3079, loss: 1.3515, grad_norm: 8.1721\n",
      "2021-05-11 09:38:01,483 - mmdet - INFO - Epoch [12][250/655]\tlr: 1.000e-04, eta: 4:31:48, time: 1.986, data_time: 0.007, memory: 5644, loss_cls: 0.7936, loss_bbox: 0.2409, loss_bbox_rf: 0.3041, loss: 1.3386, grad_norm: 8.3728\n",
      "2021-05-11 09:39:40,972 - mmdet - INFO - Epoch [12][300/655]\tlr: 1.000e-04, eta: 4:30:11, time: 1.990, data_time: 0.007, memory: 5644, loss_cls: 0.7699, loss_bbox: 0.2408, loss_bbox_rf: 0.3035, loss: 1.3143, grad_norm: 7.6810\n",
      "2021-05-11 09:41:20,252 - mmdet - INFO - Epoch [12][350/655]\tlr: 1.000e-04, eta: 4:28:33, time: 1.986, data_time: 0.007, memory: 5644, loss_cls: 0.7983, loss_bbox: 0.2444, loss_bbox_rf: 0.3077, loss: 1.3503, grad_norm: 8.5195\n",
      "2021-05-11 09:43:00,404 - mmdet - INFO - Epoch [12][400/655]\tlr: 1.000e-04, eta: 4:26:56, time: 2.003, data_time: 0.007, memory: 5644, loss_cls: 0.8217, loss_bbox: 0.2271, loss_bbox_rf: 0.2822, loss: 1.3310, grad_norm: 9.3843\n",
      "2021-05-11 09:44:39,696 - mmdet - INFO - Epoch [12][450/655]\tlr: 1.000e-04, eta: 4:25:17, time: 1.986, data_time: 0.007, memory: 5644, loss_cls: 0.7721, loss_bbox: 0.2584, loss_bbox_rf: 0.3211, loss: 1.3516, grad_norm: 8.7896\n",
      "2021-05-11 09:46:19,347 - mmdet - INFO - Epoch [12][500/655]\tlr: 1.000e-04, eta: 4:23:40, time: 1.993, data_time: 0.007, memory: 5644, loss_cls: 0.7758, loss_bbox: 0.2515, loss_bbox_rf: 0.3162, loss: 1.3434, grad_norm: 8.5728\n",
      "2021-05-11 09:47:58,945 - mmdet - INFO - Epoch [12][550/655]\tlr: 1.000e-04, eta: 4:22:02, time: 1.992, data_time: 0.007, memory: 5644, loss_cls: 0.7518, loss_bbox: 0.2380, loss_bbox_rf: 0.2991, loss: 1.2889, grad_norm: 7.7136\n",
      "2021-05-11 09:49:38,505 - mmdet - INFO - Epoch [12][600/655]\tlr: 1.000e-04, eta: 4:20:24, time: 1.991, data_time: 0.007, memory: 5644, loss_cls: 0.8281, loss_bbox: 0.2425, loss_bbox_rf: 0.3032, loss: 1.3739, grad_norm: 8.9027\n",
      "2021-05-11 09:51:18,091 - mmdet - INFO - Epoch [12][650/655]\tlr: 1.000e-04, eta: 4:18:46, time: 1.992, data_time: 0.007, memory: 5644, loss_cls: 0.7783, loss_bbox: 0.2334, loss_bbox_rf: 0.2976, loss: 1.3094, grad_norm: 7.5270\n",
      "2021-05-11 09:51:28,062 - mmdet - INFO - Saving checkpoint at 12 epochs\n"
     ]
    },
    {
     "name": "stdout",
     "output_type": "stream",
     "text": [
      "[>>>>>>>>>>>>>>>>>>>>>>>>>>>>>>] 655/655, 8.3 task/s, elapsed: 79s, ETA:     0s"
     ]
    },
    {
     "name": "stderr",
     "output_type": "stream",
     "text": [
      "2021-05-11 09:52:58,799 - mmdet - INFO - Evaluating bbox...\n"
     ]
    },
    {
     "name": "stdout",
     "output_type": "stream",
     "text": [
      "Loading and preparing results...\n",
      "DONE (t=1.16s)\n",
      "creating index...\n",
      "index created!\n",
      "Running per image evaluation...\n",
      "Evaluate annotation type *bbox*\n",
      "DONE (t=8.00s).\n",
      "Accumulating evaluation results...\n"
     ]
    },
    {
     "name": "stderr",
     "output_type": "stream",
     "text": [
      "2021-05-11 09:53:09,837 - mmdet - INFO - Epoch(val) [12][655]\tbbox_mAP: 0.1650, bbox_mAP_50: 0.2520, bbox_mAP_75: 0.1740, bbox_mAP_s: 0.0340, bbox_mAP_m: 0.1550, bbox_mAP_l: 0.3090, bbox_mAP_copypaste: 0.165 0.252 0.174 0.034 0.155 0.309\n"
     ]
    },
    {
     "name": "stdout",
     "output_type": "stream",
     "text": [
      "DONE (t=1.72s).\n",
      "Average Precision  (AP) @[ IoU=0.50:0.95 | area=   all | maxDets=100 ] = 0.165\n",
      "Average Precision  (AP) @[ IoU=0.50      | area=   all | maxDets=1000 ] = 0.252\n",
      "Average Precision  (AP) @[ IoU=0.75      | area=   all | maxDets=1000 ] = 0.174\n",
      "Average Precision  (AP) @[ IoU=0.50:0.95 | area= small | maxDets=1000 ] = 0.034\n",
      "Average Precision  (AP) @[ IoU=0.50:0.95 | area=medium | maxDets=1000 ] = 0.155\n",
      "Average Precision  (AP) @[ IoU=0.50:0.95 | area= large | maxDets=1000 ] = 0.309\n",
      "Average Recall     (AR) @[ IoU=0.50:0.95 | area=   all | maxDets=100 ] = 0.390\n",
      "Average Recall     (AR) @[ IoU=0.50:0.95 | area=   all | maxDets=300 ] = 0.390\n",
      "Average Recall     (AR) @[ IoU=0.50:0.95 | area=   all | maxDets=1000 ] = 0.390\n",
      "Average Recall     (AR) @[ IoU=0.50:0.95 | area= small | maxDets=1000 ] = 0.109\n",
      "Average Recall     (AR) @[ IoU=0.50:0.95 | area=medium | maxDets=1000 ] = 0.367\n",
      "Average Recall     (AR) @[ IoU=0.50:0.95 | area= large | maxDets=1000 ] = 0.663\n"
     ]
    },
    {
     "name": "stderr",
     "output_type": "stream",
     "text": [
      "2021-05-11 09:54:51,807 - mmdet - INFO - Epoch [13][50/655]\tlr: 1.000e-04, eta: 4:16:51, time: 2.039, data_time: 0.051, memory: 5644, loss_cls: 0.7410, loss_bbox: 0.2315, loss_bbox_rf: 0.2874, loss: 1.2599, grad_norm: 8.0137\n",
      "2021-05-11 09:56:31,154 - mmdet - INFO - Epoch [13][100/655]\tlr: 1.000e-04, eta: 4:15:13, time: 1.987, data_time: 0.007, memory: 5644, loss_cls: 0.7785, loss_bbox: 0.2302, loss_bbox_rf: 0.2901, loss: 1.2988, grad_norm: 8.0818\n",
      "2021-05-11 09:58:10,320 - mmdet - INFO - Epoch [13][150/655]\tlr: 1.000e-04, eta: 4:13:35, time: 1.983, data_time: 0.007, memory: 5644, loss_cls: 0.7379, loss_bbox: 0.2222, loss_bbox_rf: 0.2779, loss: 1.2380, grad_norm: 8.7633\n",
      "2021-05-11 09:59:49,353 - mmdet - INFO - Epoch [13][200/655]\tlr: 1.000e-04, eta: 4:11:57, time: 1.981, data_time: 0.007, memory: 5644, loss_cls: 0.7422, loss_bbox: 0.2355, loss_bbox_rf: 0.2981, loss: 1.2758, grad_norm: 8.1109\n",
      "2021-05-11 10:01:28,381 - mmdet - INFO - Epoch [13][250/655]\tlr: 1.000e-04, eta: 4:10:18, time: 1.981, data_time: 0.007, memory: 5644, loss_cls: 0.7665, loss_bbox: 0.2236, loss_bbox_rf: 0.2818, loss: 1.2719, grad_norm: 8.5707\n",
      "2021-05-11 10:03:07,506 - mmdet - INFO - Epoch [13][300/655]\tlr: 1.000e-04, eta: 4:08:40, time: 1.982, data_time: 0.007, memory: 5644, loss_cls: 0.7484, loss_bbox: 0.2224, loss_bbox_rf: 0.2772, loss: 1.2480, grad_norm: 8.5538\n",
      "2021-05-11 10:04:46,714 - mmdet - INFO - Epoch [13][350/655]\tlr: 1.000e-04, eta: 4:07:02, time: 1.984, data_time: 0.007, memory: 5644, loss_cls: 0.7679, loss_bbox: 0.2445, loss_bbox_rf: 0.3055, loss: 1.3178, grad_norm: 8.9052\n",
      "2021-05-11 10:06:26,047 - mmdet - INFO - Epoch [13][400/655]\tlr: 1.000e-04, eta: 4:05:24, time: 1.987, data_time: 0.007, memory: 5644, loss_cls: 0.7789, loss_bbox: 0.2478, loss_bbox_rf: 0.3094, loss: 1.3362, grad_norm: 8.1924\n",
      "2021-05-11 10:08:05,133 - mmdet - INFO - Epoch [13][450/655]\tlr: 1.000e-04, eta: 4:03:46, time: 1.982, data_time: 0.007, memory: 5644, loss_cls: 0.7763, loss_bbox: 0.2269, loss_bbox_rf: 0.2846, loss: 1.2878, grad_norm: 8.6271\n",
      "2021-05-11 10:09:44,505 - mmdet - INFO - Epoch [13][500/655]\tlr: 1.000e-04, eta: 4:02:07, time: 1.987, data_time: 0.007, memory: 5644, loss_cls: 0.7736, loss_bbox: 0.2399, loss_bbox_rf: 0.2974, loss: 1.3109, grad_norm: 8.7662\n",
      "2021-05-11 10:11:23,552 - mmdet - INFO - Epoch [13][550/655]\tlr: 1.000e-04, eta: 4:00:29, time: 1.981, data_time: 0.007, memory: 5644, loss_cls: 0.7809, loss_bbox: 0.2460, loss_bbox_rf: 0.3120, loss: 1.3390, grad_norm: 8.0648\n",
      "2021-05-11 10:13:02,751 - mmdet - INFO - Epoch [13][600/655]\tlr: 1.000e-04, eta: 3:58:51, time: 1.984, data_time: 0.007, memory: 5644, loss_cls: 0.7438, loss_bbox: 0.2339, loss_bbox_rf: 0.2956, loss: 1.2734, grad_norm: 7.5336\n",
      "2021-05-11 10:14:41,835 - mmdet - INFO - Epoch [13][650/655]\tlr: 1.000e-04, eta: 3:57:12, time: 1.982, data_time: 0.007, memory: 5644, loss_cls: 0.8274, loss_bbox: 0.2361, loss_bbox_rf: 0.2934, loss: 1.3569, grad_norm: 9.3010\n",
      "2021-05-11 10:14:51,766 - mmdet - INFO - Saving checkpoint at 13 epochs\n"
     ]
    },
    {
     "name": "stdout",
     "output_type": "stream",
     "text": [
      "[>>>>>>>>>>>>>>>>>>>>>>>>>>>>>>] 655/655, 8.5 task/s, elapsed: 77s, ETA:     0s"
     ]
    },
    {
     "name": "stderr",
     "output_type": "stream",
     "text": [
      "2021-05-11 10:16:19,848 - mmdet - INFO - Evaluating bbox...\n"
     ]
    },
    {
     "name": "stdout",
     "output_type": "stream",
     "text": [
      "Loading and preparing results...\n",
      "DONE (t=1.20s)\n",
      "creating index...\n",
      "index created!\n",
      "Running per image evaluation...\n",
      "Evaluate annotation type *bbox*\n",
      "DONE (t=7.89s).\n",
      "Accumulating evaluation results...\n"
     ]
    },
    {
     "name": "stderr",
     "output_type": "stream",
     "text": [
      "2021-05-11 10:16:30,828 - mmdet - INFO - Epoch(val) [13][655]\tbbox_mAP: 0.1700, bbox_mAP_50: 0.2530, bbox_mAP_75: 0.1750, bbox_mAP_s: 0.0360, bbox_mAP_m: 0.1780, bbox_mAP_l: 0.3150, bbox_mAP_copypaste: 0.170 0.253 0.175 0.036 0.178 0.315\n"
     ]
    },
    {
     "name": "stdout",
     "output_type": "stream",
     "text": [
      "DONE (t=1.73s).\n",
      "Average Precision  (AP) @[ IoU=0.50:0.95 | area=   all | maxDets=100 ] = 0.170\n",
      "Average Precision  (AP) @[ IoU=0.50      | area=   all | maxDets=1000 ] = 0.253\n",
      "Average Precision  (AP) @[ IoU=0.75      | area=   all | maxDets=1000 ] = 0.175\n",
      "Average Precision  (AP) @[ IoU=0.50:0.95 | area= small | maxDets=1000 ] = 0.036\n",
      "Average Precision  (AP) @[ IoU=0.50:0.95 | area=medium | maxDets=1000 ] = 0.178\n",
      "Average Precision  (AP) @[ IoU=0.50:0.95 | area= large | maxDets=1000 ] = 0.315\n",
      "Average Recall     (AR) @[ IoU=0.50:0.95 | area=   all | maxDets=100 ] = 0.383\n",
      "Average Recall     (AR) @[ IoU=0.50:0.95 | area=   all | maxDets=300 ] = 0.383\n",
      "Average Recall     (AR) @[ IoU=0.50:0.95 | area=   all | maxDets=1000 ] = 0.383\n",
      "Average Recall     (AR) @[ IoU=0.50:0.95 | area= small | maxDets=1000 ] = 0.119\n",
      "Average Recall     (AR) @[ IoU=0.50:0.95 | area=medium | maxDets=1000 ] = 0.364\n",
      "Average Recall     (AR) @[ IoU=0.50:0.95 | area= large | maxDets=1000 ] = 0.645\n"
     ]
    },
    {
     "name": "stderr",
     "output_type": "stream",
     "text": [
      "2021-05-11 10:18:12,623 - mmdet - INFO - Epoch [14][50/655]\tlr: 1.000e-04, eta: 3:55:18, time: 2.036, data_time: 0.051, memory: 5644, loss_cls: 0.7319, loss_bbox: 0.2158, loss_bbox_rf: 0.2681, loss: 1.2158, grad_norm: 9.0009\n",
      "2021-05-11 10:19:51,882 - mmdet - INFO - Epoch [14][100/655]\tlr: 1.000e-04, eta: 3:53:40, time: 1.985, data_time: 0.007, memory: 5644, loss_cls: 0.7286, loss_bbox: 0.2241, loss_bbox_rf: 0.2784, loss: 1.2311, grad_norm: 7.7483\n",
      "2021-05-11 10:21:30,983 - mmdet - INFO - Epoch [14][150/655]\tlr: 1.000e-04, eta: 3:52:02, time: 1.982, data_time: 0.007, memory: 5644, loss_cls: 0.6961, loss_bbox: 0.2193, loss_bbox_rf: 0.2727, loss: 1.1881, grad_norm: 8.5967\n",
      "2021-05-11 10:23:10,120 - mmdet - INFO - Epoch [14][200/655]\tlr: 1.000e-04, eta: 3:50:23, time: 1.983, data_time: 0.007, memory: 5644, loss_cls: 0.7741, loss_bbox: 0.2437, loss_bbox_rf: 0.3055, loss: 1.3233, grad_norm: 8.7169\n",
      "2021-05-11 10:24:49,130 - mmdet - INFO - Epoch [14][250/655]\tlr: 1.000e-04, eta: 3:48:45, time: 1.980, data_time: 0.007, memory: 5644, loss_cls: 0.7601, loss_bbox: 0.2225, loss_bbox_rf: 0.2766, loss: 1.2592, grad_norm: 8.7937\n",
      "2021-05-11 10:26:28,183 - mmdet - INFO - Epoch [14][300/655]\tlr: 1.000e-04, eta: 3:47:07, time: 1.981, data_time: 0.007, memory: 5644, loss_cls: 0.7419, loss_bbox: 0.2266, loss_bbox_rf: 0.2842, loss: 1.2528, grad_norm: 8.0614\n",
      "2021-05-11 10:28:07,186 - mmdet - INFO - Epoch [14][350/655]\tlr: 1.000e-04, eta: 3:45:28, time: 1.980, data_time: 0.007, memory: 5644, loss_cls: 0.7251, loss_bbox: 0.2314, loss_bbox_rf: 0.2892, loss: 1.2458, grad_norm: 8.1494\n",
      "2021-05-11 10:29:46,337 - mmdet - INFO - Epoch [14][400/655]\tlr: 1.000e-04, eta: 3:43:50, time: 1.983, data_time: 0.007, memory: 5644, loss_cls: 0.7573, loss_bbox: 0.2138, loss_bbox_rf: 0.2665, loss: 1.2376, grad_norm: 9.0951\n",
      "2021-05-11 10:31:25,543 - mmdet - INFO - Epoch [14][450/655]\tlr: 1.000e-04, eta: 3:42:12, time: 1.984, data_time: 0.007, memory: 5644, loss_cls: 0.7631, loss_bbox: 0.2367, loss_bbox_rf: 0.2973, loss: 1.2971, grad_norm: 8.7118\n",
      "2021-05-11 10:33:04,522 - mmdet - INFO - Epoch [14][500/655]\tlr: 1.000e-04, eta: 3:40:33, time: 1.980, data_time: 0.007, memory: 5644, loss_cls: 0.7639, loss_bbox: 0.2480, loss_bbox_rf: 0.3078, loss: 1.3197, grad_norm: 8.6814\n",
      "2021-05-11 10:34:44,094 - mmdet - INFO - Epoch [14][550/655]\tlr: 1.000e-04, eta: 3:38:55, time: 1.991, data_time: 0.007, memory: 5644, loss_cls: 0.7668, loss_bbox: 0.2485, loss_bbox_rf: 0.3158, loss: 1.3312, grad_norm: 8.4948\n",
      "2021-05-11 10:36:23,121 - mmdet - INFO - Epoch [14][600/655]\tlr: 1.000e-04, eta: 3:37:17, time: 1.981, data_time: 0.007, memory: 5644, loss_cls: 0.7281, loss_bbox: 0.2226, loss_bbox_rf: 0.2760, loss: 1.2267, grad_norm: 9.2181\n",
      "2021-05-11 10:38:02,247 - mmdet - INFO - Epoch [14][650/655]\tlr: 1.000e-04, eta: 3:35:38, time: 1.982, data_time: 0.007, memory: 5644, loss_cls: 0.7625, loss_bbox: 0.2315, loss_bbox_rf: 0.2851, loss: 1.2791, grad_norm: 9.8434\n",
      "2021-05-11 10:38:12,217 - mmdet - INFO - Saving checkpoint at 14 epochs\n"
     ]
    },
    {
     "name": "stdout",
     "output_type": "stream",
     "text": [
      "[>>>>>>>>>>>>>>>>>>>>>>>>>>>>>>] 655/655, 8.3 task/s, elapsed: 79s, ETA:     0s"
     ]
    },
    {
     "name": "stderr",
     "output_type": "stream",
     "text": [
      "2021-05-11 10:39:42,747 - mmdet - INFO - Evaluating bbox...\n"
     ]
    },
    {
     "name": "stdout",
     "output_type": "stream",
     "text": [
      "Loading and preparing results...\n",
      "DONE (t=1.06s)\n",
      "creating index...\n",
      "index created!\n",
      "Running per image evaluation...\n",
      "Evaluate annotation type *bbox*\n",
      "DONE (t=7.87s).\n",
      "Accumulating evaluation results...\n"
     ]
    },
    {
     "name": "stderr",
     "output_type": "stream",
     "text": [
      "2021-05-11 10:39:53,373 - mmdet - INFO - Epoch(val) [14][655]\tbbox_mAP: 0.1600, bbox_mAP_50: 0.2320, bbox_mAP_75: 0.1700, bbox_mAP_s: 0.0350, bbox_mAP_m: 0.1520, bbox_mAP_l: 0.3090, bbox_mAP_copypaste: 0.160 0.232 0.170 0.035 0.152 0.309\n"
     ]
    },
    {
     "name": "stdout",
     "output_type": "stream",
     "text": [
      "DONE (t=1.57s).\n",
      "Average Precision  (AP) @[ IoU=0.50:0.95 | area=   all | maxDets=100 ] = 0.160\n",
      "Average Precision  (AP) @[ IoU=0.50      | area=   all | maxDets=1000 ] = 0.232\n",
      "Average Precision  (AP) @[ IoU=0.75      | area=   all | maxDets=1000 ] = 0.170\n",
      "Average Precision  (AP) @[ IoU=0.50:0.95 | area= small | maxDets=1000 ] = 0.035\n",
      "Average Precision  (AP) @[ IoU=0.50:0.95 | area=medium | maxDets=1000 ] = 0.152\n",
      "Average Precision  (AP) @[ IoU=0.50:0.95 | area= large | maxDets=1000 ] = 0.309\n",
      "Average Recall     (AR) @[ IoU=0.50:0.95 | area=   all | maxDets=100 ] = 0.332\n",
      "Average Recall     (AR) @[ IoU=0.50:0.95 | area=   all | maxDets=300 ] = 0.332\n",
      "Average Recall     (AR) @[ IoU=0.50:0.95 | area=   all | maxDets=1000 ] = 0.332\n",
      "Average Recall     (AR) @[ IoU=0.50:0.95 | area= small | maxDets=1000 ] = 0.097\n",
      "Average Recall     (AR) @[ IoU=0.50:0.95 | area=medium | maxDets=1000 ] = 0.300\n",
      "Average Recall     (AR) @[ IoU=0.50:0.95 | area= large | maxDets=1000 ] = 0.626\n"
     ]
    },
    {
     "name": "stderr",
     "output_type": "stream",
     "text": [
      "2021-05-11 10:41:35,172 - mmdet - INFO - Epoch [15][50/655]\tlr: 1.000e-04, eta: 3:33:45, time: 2.036, data_time: 0.051, memory: 5644, loss_cls: 0.7004, loss_bbox: 0.2116, loss_bbox_rf: 0.2603, loss: 1.1723, grad_norm: 8.6460\n",
      "2021-05-11 10:43:14,720 - mmdet - INFO - Epoch [15][100/655]\tlr: 1.000e-04, eta: 3:32:07, time: 1.991, data_time: 0.007, memory: 5644, loss_cls: 0.7094, loss_bbox: 0.2210, loss_bbox_rf: 0.2757, loss: 1.2060, grad_norm: 8.4545\n",
      "2021-05-11 10:44:53,904 - mmdet - INFO - Epoch [15][150/655]\tlr: 1.000e-04, eta: 3:30:29, time: 1.984, data_time: 0.007, memory: 5644, loss_cls: 0.7291, loss_bbox: 0.2305, loss_bbox_rf: 0.2913, loss: 1.2509, grad_norm: 8.3252\n",
      "2021-05-11 10:46:33,087 - mmdet - INFO - Epoch [15][200/655]\tlr: 1.000e-04, eta: 3:28:50, time: 1.984, data_time: 0.007, memory: 5644, loss_cls: 0.7073, loss_bbox: 0.2180, loss_bbox_rf: 0.2753, loss: 1.2006, grad_norm: 8.2437\n",
      "2021-05-11 10:48:12,719 - mmdet - INFO - Epoch [15][250/655]\tlr: 1.000e-04, eta: 3:27:12, time: 1.993, data_time: 0.007, memory: 5644, loss_cls: 0.7143, loss_bbox: 0.2331, loss_bbox_rf: 0.2942, loss: 1.2416, grad_norm: 8.3337\n",
      "2021-05-11 10:49:52,921 - mmdet - INFO - Epoch [15][300/655]\tlr: 1.000e-04, eta: 3:25:35, time: 2.004, data_time: 0.007, memory: 5644, loss_cls: 0.7044, loss_bbox: 0.2312, loss_bbox_rf: 0.2912, loss: 1.2268, grad_norm: 7.6555\n",
      "2021-05-11 10:51:31,898 - mmdet - INFO - Epoch [15][350/655]\tlr: 1.000e-04, eta: 3:23:56, time: 1.980, data_time: 0.007, memory: 5644, loss_cls: 0.6889, loss_bbox: 0.2278, loss_bbox_rf: 0.2840, loss: 1.2008, grad_norm: 8.4104\n",
      "2021-05-11 10:53:10,888 - mmdet - INFO - Epoch [15][400/655]\tlr: 1.000e-04, eta: 3:22:18, time: 1.980, data_time: 0.007, memory: 5644, loss_cls: 0.7170, loss_bbox: 0.2237, loss_bbox_rf: 0.2818, loss: 1.2225, grad_norm: 7.9011\n",
      "2021-05-11 10:54:49,950 - mmdet - INFO - Epoch [15][450/655]\tlr: 1.000e-04, eta: 3:20:39, time: 1.981, data_time: 0.007, memory: 5644, loss_cls: 0.6800, loss_bbox: 0.2301, loss_bbox_rf: 0.2864, loss: 1.1965, grad_norm: 8.0254\n",
      "2021-05-11 10:56:29,395 - mmdet - INFO - Epoch [15][500/655]\tlr: 1.000e-04, eta: 3:19:01, time: 1.989, data_time: 0.007, memory: 5644, loss_cls: 0.6813, loss_bbox: 0.2181, loss_bbox_rf: 0.2728, loss: 1.1722, grad_norm: 8.4579\n",
      "2021-05-11 10:58:08,575 - mmdet - INFO - Epoch [15][550/655]\tlr: 1.000e-04, eta: 3:17:23, time: 1.984, data_time: 0.007, memory: 5644, loss_cls: 0.6964, loss_bbox: 0.2313, loss_bbox_rf: 0.2894, loss: 1.2171, grad_norm: 7.8508\n",
      "2021-05-11 10:59:47,889 - mmdet - INFO - Epoch [15][600/655]\tlr: 1.000e-04, eta: 3:15:44, time: 1.986, data_time: 0.007, memory: 5644, loss_cls: 0.7344, loss_bbox: 0.2206, loss_bbox_rf: 0.2765, loss: 1.2316, grad_norm: 8.3985\n",
      "2021-05-11 11:01:27,127 - mmdet - INFO - Epoch [15][650/655]\tlr: 1.000e-04, eta: 3:14:06, time: 1.985, data_time: 0.007, memory: 5644, loss_cls: 0.7308, loss_bbox: 0.2243, loss_bbox_rf: 0.2820, loss: 1.2371, grad_norm: 8.3479\n",
      "2021-05-11 11:01:37,111 - mmdet - INFO - Saving checkpoint at 15 epochs\n"
     ]
    },
    {
     "name": "stdout",
     "output_type": "stream",
     "text": [
      "[>>>>>>>>>>>>>>>>>>>>>>>>>>>>>>] 655/655, 8.4 task/s, elapsed: 78s, ETA:     0s"
     ]
    },
    {
     "name": "stderr",
     "output_type": "stream",
     "text": [
      "2021-05-11 11:03:06,816 - mmdet - INFO - Evaluating bbox...\n"
     ]
    },
    {
     "name": "stdout",
     "output_type": "stream",
     "text": [
      "Loading and preparing results...\n",
      "DONE (t=1.22s)\n",
      "creating index...\n",
      "index created!\n",
      "Running per image evaluation...\n",
      "Evaluate annotation type *bbox*\n",
      "DONE (t=7.13s).\n",
      "Accumulating evaluation results...\n"
     ]
    },
    {
     "name": "stderr",
     "output_type": "stream",
     "text": [
      "2021-05-11 11:03:16,885 - mmdet - INFO - Epoch(val) [15][655]\tbbox_mAP: 0.1720, bbox_mAP_50: 0.2570, bbox_mAP_75: 0.1770, bbox_mAP_s: 0.0390, bbox_mAP_m: 0.1780, bbox_mAP_l: 0.3070, bbox_mAP_copypaste: 0.172 0.257 0.177 0.039 0.178 0.307\n"
     ]
    },
    {
     "name": "stdout",
     "output_type": "stream",
     "text": [
      "DONE (t=1.58s).\n",
      "Average Precision  (AP) @[ IoU=0.50:0.95 | area=   all | maxDets=100 ] = 0.172\n",
      "Average Precision  (AP) @[ IoU=0.50      | area=   all | maxDets=1000 ] = 0.257\n",
      "Average Precision  (AP) @[ IoU=0.75      | area=   all | maxDets=1000 ] = 0.177\n",
      "Average Precision  (AP) @[ IoU=0.50:0.95 | area= small | maxDets=1000 ] = 0.039\n",
      "Average Precision  (AP) @[ IoU=0.50:0.95 | area=medium | maxDets=1000 ] = 0.178\n",
      "Average Precision  (AP) @[ IoU=0.50:0.95 | area= large | maxDets=1000 ] = 0.307\n",
      "Average Recall     (AR) @[ IoU=0.50:0.95 | area=   all | maxDets=100 ] = 0.399\n",
      "Average Recall     (AR) @[ IoU=0.50:0.95 | area=   all | maxDets=300 ] = 0.399\n",
      "Average Recall     (AR) @[ IoU=0.50:0.95 | area=   all | maxDets=1000 ] = 0.399\n",
      "Average Recall     (AR) @[ IoU=0.50:0.95 | area= small | maxDets=1000 ] = 0.111\n",
      "Average Recall     (AR) @[ IoU=0.50:0.95 | area=medium | maxDets=1000 ] = 0.377\n",
      "Average Recall     (AR) @[ IoU=0.50:0.95 | area= large | maxDets=1000 ] = 0.678\n"
     ]
    },
    {
     "name": "stderr",
     "output_type": "stream",
     "text": [
      "2021-05-11 11:04:58,366 - mmdet - INFO - Epoch [16][50/655]\tlr: 1.000e-04, eta: 3:12:13, time: 2.029, data_time: 0.051, memory: 5644, loss_cls: 0.7764, loss_bbox: 0.2239, loss_bbox_rf: 0.2772, loss: 1.2776, grad_norm: 9.5733\n",
      "2021-05-11 11:06:37,544 - mmdet - INFO - Epoch [16][100/655]\tlr: 1.000e-04, eta: 3:10:35, time: 1.984, data_time: 0.007, memory: 5644, loss_cls: 0.6926, loss_bbox: 0.2261, loss_bbox_rf: 0.2843, loss: 1.2030, grad_norm: 7.8469\n",
      "2021-05-11 11:08:17,080 - mmdet - INFO - Epoch [16][150/655]\tlr: 1.000e-04, eta: 3:08:57, time: 1.991, data_time: 0.007, memory: 5644, loss_cls: 0.6897, loss_bbox: 0.2179, loss_bbox_rf: 0.2770, loss: 1.1846, grad_norm: 7.0410\n",
      "2021-05-11 11:09:56,406 - mmdet - INFO - Epoch [16][200/655]\tlr: 1.000e-04, eta: 3:07:18, time: 1.987, data_time: 0.007, memory: 5644, loss_cls: 0.6871, loss_bbox: 0.2135, loss_bbox_rf: 0.2660, loss: 1.1666, grad_norm: 8.7053\n",
      "2021-05-11 11:11:35,452 - mmdet - INFO - Epoch [16][250/655]\tlr: 1.000e-04, eta: 3:05:40, time: 1.981, data_time: 0.007, memory: 5644, loss_cls: 0.6921, loss_bbox: 0.2065, loss_bbox_rf: 0.2580, loss: 1.1567, grad_norm: 8.4258\n",
      "2021-05-11 11:13:14,919 - mmdet - INFO - Epoch [16][300/655]\tlr: 1.000e-04, eta: 3:04:02, time: 1.989, data_time: 0.007, memory: 5644, loss_cls: 0.6957, loss_bbox: 0.2100, loss_bbox_rf: 0.2628, loss: 1.1684, grad_norm: 8.9336\n",
      "2021-05-11 11:14:53,976 - mmdet - INFO - Epoch [16][350/655]\tlr: 1.000e-04, eta: 3:02:23, time: 1.981, data_time: 0.007, memory: 5644, loss_cls: 0.6857, loss_bbox: 0.2257, loss_bbox_rf: 0.2800, loss: 1.1914, grad_norm: 9.2508\n",
      "2021-05-11 11:16:33,461 - mmdet - INFO - Epoch [16][400/655]\tlr: 1.000e-04, eta: 3:00:45, time: 1.990, data_time: 0.007, memory: 5644, loss_cls: 0.6836, loss_bbox: 0.2166, loss_bbox_rf: 0.2730, loss: 1.1732, grad_norm: 7.6683\n",
      "2021-05-11 11:18:12,597 - mmdet - INFO - Epoch [16][450/655]\tlr: 1.000e-04, eta: 2:59:06, time: 1.983, data_time: 0.007, memory: 5644, loss_cls: 0.6668, loss_bbox: 0.2111, loss_bbox_rf: 0.2619, loss: 1.1397, grad_norm: 8.3777\n",
      "2021-05-11 11:19:51,624 - mmdet - INFO - Epoch [16][500/655]\tlr: 1.000e-04, eta: 2:57:28, time: 1.981, data_time: 0.007, memory: 5644, loss_cls: 0.6991, loss_bbox: 0.2194, loss_bbox_rf: 0.2748, loss: 1.1933, grad_norm: 7.9918\n",
      "2021-05-11 11:21:30,742 - mmdet - INFO - Epoch [16][550/655]\tlr: 1.000e-04, eta: 2:55:49, time: 1.982, data_time: 0.007, memory: 5644, loss_cls: 0.6640, loss_bbox: 0.2203, loss_bbox_rf: 0.2785, loss: 1.1628, grad_norm: 6.9408\n",
      "2021-05-11 11:23:09,703 - mmdet - INFO - Epoch [16][600/655]\tlr: 1.000e-04, eta: 2:54:11, time: 1.979, data_time: 0.007, memory: 5644, loss_cls: 0.6784, loss_bbox: 0.2191, loss_bbox_rf: 0.2723, loss: 1.1697, grad_norm: 8.5778\n",
      "2021-05-11 11:24:49,034 - mmdet - INFO - Epoch [16][650/655]\tlr: 1.000e-04, eta: 2:52:33, time: 1.987, data_time: 0.007, memory: 5644, loss_cls: 0.6826, loss_bbox: 0.2140, loss_bbox_rf: 0.2697, loss: 1.1663, grad_norm: 8.0224\n",
      "2021-05-11 11:24:59,049 - mmdet - INFO - Saving checkpoint at 16 epochs\n"
     ]
    },
    {
     "name": "stdout",
     "output_type": "stream",
     "text": [
      "[>>>>>>>>>>>>>>>>>>>>>>>>>>>>>>] 655/655, 8.5 task/s, elapsed: 77s, ETA:     0s"
     ]
    },
    {
     "name": "stderr",
     "output_type": "stream",
     "text": [
      "2021-05-11 11:26:27,134 - mmdet - INFO - Evaluating bbox...\n"
     ]
    },
    {
     "name": "stdout",
     "output_type": "stream",
     "text": [
      "Loading and preparing results...\n",
      "DONE (t=1.11s)\n",
      "creating index...\n",
      "index created!\n",
      "Running per image evaluation...\n",
      "Evaluate annotation type *bbox*\n",
      "DONE (t=6.65s).\n",
      "Accumulating evaluation results...\n"
     ]
    },
    {
     "name": "stderr",
     "output_type": "stream",
     "text": [
      "2021-05-11 11:26:36,574 - mmdet - INFO - Epoch(val) [16][655]\tbbox_mAP: 0.1670, bbox_mAP_50: 0.2520, bbox_mAP_75: 0.1730, bbox_mAP_s: 0.0340, bbox_mAP_m: 0.1450, bbox_mAP_l: 0.3240, bbox_mAP_copypaste: 0.167 0.252 0.173 0.034 0.145 0.324\n"
     ]
    },
    {
     "name": "stdout",
     "output_type": "stream",
     "text": [
      "DONE (t=1.54s).\n",
      "Average Precision  (AP) @[ IoU=0.50:0.95 | area=   all | maxDets=100 ] = 0.167\n",
      "Average Precision  (AP) @[ IoU=0.50      | area=   all | maxDets=1000 ] = 0.252\n",
      "Average Precision  (AP) @[ IoU=0.75      | area=   all | maxDets=1000 ] = 0.173\n",
      "Average Precision  (AP) @[ IoU=0.50:0.95 | area= small | maxDets=1000 ] = 0.034\n",
      "Average Precision  (AP) @[ IoU=0.50:0.95 | area=medium | maxDets=1000 ] = 0.145\n",
      "Average Precision  (AP) @[ IoU=0.50:0.95 | area= large | maxDets=1000 ] = 0.324\n",
      "Average Recall     (AR) @[ IoU=0.50:0.95 | area=   all | maxDets=100 ] = 0.391\n",
      "Average Recall     (AR) @[ IoU=0.50:0.95 | area=   all | maxDets=300 ] = 0.391\n",
      "Average Recall     (AR) @[ IoU=0.50:0.95 | area=   all | maxDets=1000 ] = 0.391\n",
      "Average Recall     (AR) @[ IoU=0.50:0.95 | area= small | maxDets=1000 ] = 0.126\n",
      "Average Recall     (AR) @[ IoU=0.50:0.95 | area=medium | maxDets=1000 ] = 0.375\n",
      "Average Recall     (AR) @[ IoU=0.50:0.95 | area= large | maxDets=1000 ] = 0.660\n"
     ]
    },
    {
     "name": "stderr",
     "output_type": "stream",
     "text": [
      "2021-05-11 11:28:18,203 - mmdet - INFO - Epoch [17][50/655]\tlr: 1.000e-05, eta: 2:50:41, time: 2.032, data_time: 0.051, memory: 5644, loss_cls: 0.5939, loss_bbox: 0.1905, loss_bbox_rf: 0.2401, loss: 1.0245, grad_norm: 6.5376\n",
      "2021-05-11 11:29:57,390 - mmdet - INFO - Epoch [17][100/655]\tlr: 1.000e-05, eta: 2:49:02, time: 1.984, data_time: 0.007, memory: 5644, loss_cls: 0.5823, loss_bbox: 0.1843, loss_bbox_rf: 0.2359, loss: 1.0025, grad_norm: 6.1938\n",
      "2021-05-11 11:31:36,685 - mmdet - INFO - Epoch [17][150/655]\tlr: 1.000e-05, eta: 2:47:24, time: 1.986, data_time: 0.008, memory: 5644, loss_cls: 0.5892, loss_bbox: 0.1908, loss_bbox_rf: 0.2444, loss: 1.0244, grad_norm: 5.8542\n",
      "2021-05-11 11:33:15,900 - mmdet - INFO - Epoch [17][200/655]\tlr: 1.000e-05, eta: 2:45:45, time: 1.984, data_time: 0.007, memory: 5644, loss_cls: 0.5858, loss_bbox: 0.1856, loss_bbox_rf: 0.2377, loss: 1.0091, grad_norm: 5.7843\n",
      "2021-05-11 11:34:56,049 - mmdet - INFO - Epoch [17][250/655]\tlr: 1.000e-05, eta: 2:44:07, time: 2.003, data_time: 0.007, memory: 5644, loss_cls: 0.5640, loss_bbox: 0.1935, loss_bbox_rf: 0.2481, loss: 1.0057, grad_norm: 5.1544\n",
      "2021-05-11 11:36:35,258 - mmdet - INFO - Epoch [17][300/655]\tlr: 1.000e-05, eta: 2:42:29, time: 1.984, data_time: 0.007, memory: 5644, loss_cls: 0.5397, loss_bbox: 0.1792, loss_bbox_rf: 0.2299, loss: 0.9487, grad_norm: 6.0995\n",
      "2021-05-11 11:38:14,444 - mmdet - INFO - Epoch [17][350/655]\tlr: 1.000e-05, eta: 2:40:50, time: 1.984, data_time: 0.007, memory: 5644, loss_cls: 0.5622, loss_bbox: 0.1759, loss_bbox_rf: 0.2261, loss: 0.9642, grad_norm: 5.8568\n",
      "2021-05-11 11:39:54,636 - mmdet - INFO - Epoch [17][400/655]\tlr: 1.000e-05, eta: 2:39:12, time: 2.004, data_time: 0.007, memory: 5644, loss_cls: 0.5464, loss_bbox: 0.1743, loss_bbox_rf: 0.2239, loss: 0.9446, grad_norm: 5.6449\n",
      "2021-05-11 11:41:34,005 - mmdet - INFO - Epoch [17][450/655]\tlr: 1.000e-05, eta: 2:37:34, time: 1.987, data_time: 0.007, memory: 5644, loss_cls: 0.5708, loss_bbox: 0.1871, loss_bbox_rf: 0.2413, loss: 0.9992, grad_norm: 6.5409\n",
      "2021-05-11 11:43:13,224 - mmdet - INFO - Epoch [17][500/655]\tlr: 1.000e-05, eta: 2:35:56, time: 1.984, data_time: 0.007, memory: 5644, loss_cls: 0.5498, loss_bbox: 0.1814, loss_bbox_rf: 0.2335, loss: 0.9647, grad_norm: 5.9033\n",
      "2021-05-11 11:44:52,426 - mmdet - INFO - Epoch [17][550/655]\tlr: 1.000e-05, eta: 2:34:17, time: 1.984, data_time: 0.007, memory: 5644, loss_cls: 0.5582, loss_bbox: 0.1950, loss_bbox_rf: 0.2514, loss: 1.0046, grad_norm: 4.9362\n",
      "2021-05-11 11:46:33,486 - mmdet - INFO - Epoch [17][600/655]\tlr: 1.000e-05, eta: 2:32:39, time: 2.021, data_time: 0.007, memory: 5644, loss_cls: 0.5607, loss_bbox: 0.1873, loss_bbox_rf: 0.2413, loss: 0.9893, grad_norm: 5.6029\n",
      "2021-05-11 11:48:12,565 - mmdet - INFO - Epoch [17][650/655]\tlr: 1.000e-05, eta: 2:31:01, time: 1.982, data_time: 0.007, memory: 5644, loss_cls: 0.5161, loss_bbox: 0.1557, loss_bbox_rf: 0.1989, loss: 0.8706, grad_norm: 5.9906\n",
      "2021-05-11 11:48:22,507 - mmdet - INFO - Saving checkpoint at 17 epochs\n"
     ]
    },
    {
     "name": "stdout",
     "output_type": "stream",
     "text": [
      "[>>>>>>>>>>>>>>>>>>>>>>>>>>>>>>] 655/655, 8.4 task/s, elapsed: 78s, ETA:     0s"
     ]
    },
    {
     "name": "stderr",
     "output_type": "stream",
     "text": [
      "2021-05-11 11:49:51,972 - mmdet - INFO - Evaluating bbox...\n"
     ]
    },
    {
     "name": "stdout",
     "output_type": "stream",
     "text": [
      "Loading and preparing results...\n",
      "DONE (t=0.68s)\n",
      "creating index...\n",
      "index created!\n",
      "Running per image evaluation...\n",
      "Evaluate annotation type *bbox*\n",
      "DONE (t=7.00s).\n",
      "Accumulating evaluation results...\n"
     ]
    },
    {
     "name": "stderr",
     "output_type": "stream",
     "text": [
      "2021-05-11 11:50:01,123 - mmdet - INFO - Epoch(val) [17][655]\tbbox_mAP: 0.1990, bbox_mAP_50: 0.2860, bbox_mAP_75: 0.2040, bbox_mAP_s: 0.0400, bbox_mAP_m: 0.1720, bbox_mAP_l: 0.3830, bbox_mAP_copypaste: 0.199 0.286 0.204 0.040 0.172 0.383\n"
     ]
    },
    {
     "name": "stdout",
     "output_type": "stream",
     "text": [
      "DONE (t=1.35s).\n",
      "Average Precision  (AP) @[ IoU=0.50:0.95 | area=   all | maxDets=100 ] = 0.199\n",
      "Average Precision  (AP) @[ IoU=0.50      | area=   all | maxDets=1000 ] = 0.286\n",
      "Average Precision  (AP) @[ IoU=0.75      | area=   all | maxDets=1000 ] = 0.204\n",
      "Average Precision  (AP) @[ IoU=0.50:0.95 | area= small | maxDets=1000 ] = 0.040\n",
      "Average Precision  (AP) @[ IoU=0.50:0.95 | area=medium | maxDets=1000 ] = 0.172\n",
      "Average Precision  (AP) @[ IoU=0.50:0.95 | area= large | maxDets=1000 ] = 0.383\n",
      "Average Recall     (AR) @[ IoU=0.50:0.95 | area=   all | maxDets=100 ] = 0.408\n",
      "Average Recall     (AR) @[ IoU=0.50:0.95 | area=   all | maxDets=300 ] = 0.408\n",
      "Average Recall     (AR) @[ IoU=0.50:0.95 | area=   all | maxDets=1000 ] = 0.408\n",
      "Average Recall     (AR) @[ IoU=0.50:0.95 | area= small | maxDets=1000 ] = 0.127\n",
      "Average Recall     (AR) @[ IoU=0.50:0.95 | area=medium | maxDets=1000 ] = 0.394\n",
      "Average Recall     (AR) @[ IoU=0.50:0.95 | area= large | maxDets=1000 ] = 0.648\n"
     ]
    },
    {
     "name": "stderr",
     "output_type": "stream",
     "text": [
      "2021-05-11 11:51:42,598 - mmdet - INFO - Epoch [18][50/655]\tlr: 1.000e-05, eta: 2:29:09, time: 2.029, data_time: 0.052, memory: 5644, loss_cls: 0.5317, loss_bbox: 0.1540, loss_bbox_rf: 0.1963, loss: 0.8820, grad_norm: 6.0909\n",
      "2021-05-11 11:53:21,978 - mmdet - INFO - Epoch [18][100/655]\tlr: 1.000e-05, eta: 2:27:31, time: 1.988, data_time: 0.007, memory: 5644, loss_cls: 0.5185, loss_bbox: 0.1644, loss_bbox_rf: 0.2106, loss: 0.8935, grad_norm: 5.4990\n",
      "2021-05-11 11:55:01,286 - mmdet - INFO - Epoch [18][150/655]\tlr: 1.000e-05, eta: 2:25:53, time: 1.986, data_time: 0.007, memory: 5644, loss_cls: 0.5243, loss_bbox: 0.1739, loss_bbox_rf: 0.2228, loss: 0.9211, grad_norm: 5.4983\n",
      "2021-05-11 11:56:41,230 - mmdet - INFO - Epoch [18][200/655]\tlr: 1.000e-05, eta: 2:24:14, time: 1.999, data_time: 0.007, memory: 5644, loss_cls: 0.5288, loss_bbox: 0.1772, loss_bbox_rf: 0.2275, loss: 0.9335, grad_norm: 5.7725\n",
      "2021-05-11 11:58:20,456 - mmdet - INFO - Epoch [18][250/655]\tlr: 1.000e-05, eta: 2:22:36, time: 1.984, data_time: 0.007, memory: 5644, loss_cls: 0.5343, loss_bbox: 0.1786, loss_bbox_rf: 0.2293, loss: 0.9421, grad_norm: 5.7187\n",
      "2021-05-11 11:59:59,495 - mmdet - INFO - Epoch [18][300/655]\tlr: 1.000e-05, eta: 2:20:57, time: 1.981, data_time: 0.007, memory: 5644, loss_cls: 0.5264, loss_bbox: 0.1825, loss_bbox_rf: 0.2346, loss: 0.9435, grad_norm: 5.3891\n",
      "2021-05-11 12:01:40,416 - mmdet - INFO - Epoch [18][350/655]\tlr: 1.000e-05, eta: 2:19:19, time: 2.018, data_time: 0.007, memory: 5644, loss_cls: 0.5136, loss_bbox: 0.1700, loss_bbox_rf: 0.2174, loss: 0.9010, grad_norm: 5.7146\n",
      "2021-05-11 12:03:19,906 - mmdet - INFO - Epoch [18][400/655]\tlr: 1.000e-05, eta: 2:17:41, time: 1.990, data_time: 0.007, memory: 5644, loss_cls: 0.5270, loss_bbox: 0.1687, loss_bbox_rf: 0.2162, loss: 0.9119, grad_norm: 5.8549\n",
      "2021-05-11 12:04:59,639 - mmdet - INFO - Epoch [18][450/655]\tlr: 1.000e-05, eta: 2:16:03, time: 1.995, data_time: 0.007, memory: 5644, loss_cls: 0.5250, loss_bbox: 0.1614, loss_bbox_rf: 0.2072, loss: 0.8936, grad_norm: 5.5357\n",
      "2021-05-11 12:06:38,643 - mmdet - INFO - Epoch [18][500/655]\tlr: 1.000e-05, eta: 2:14:24, time: 1.980, data_time: 0.007, memory: 5644, loss_cls: 0.5451, loss_bbox: 0.1892, loss_bbox_rf: 0.2447, loss: 0.9790, grad_norm: 5.5106\n",
      "2021-05-11 12:08:17,713 - mmdet - INFO - Epoch [18][550/655]\tlr: 1.000e-05, eta: 2:12:46, time: 1.981, data_time: 0.007, memory: 5644, loss_cls: 0.5096, loss_bbox: 0.1709, loss_bbox_rf: 0.2203, loss: 0.9008, grad_norm: 5.7523\n",
      "2021-05-11 12:09:56,700 - mmdet - INFO - Epoch [18][600/655]\tlr: 1.000e-05, eta: 2:11:07, time: 1.980, data_time: 0.007, memory: 5644, loss_cls: 0.5164, loss_bbox: 0.1802, loss_bbox_rf: 0.2326, loss: 0.9293, grad_norm: 5.4995\n",
      "2021-05-11 12:11:35,630 - mmdet - INFO - Epoch [18][650/655]\tlr: 1.000e-05, eta: 2:09:28, time: 1.979, data_time: 0.007, memory: 5644, loss_cls: 0.5297, loss_bbox: 0.1748, loss_bbox_rf: 0.2239, loss: 0.9285, grad_norm: 5.8214\n",
      "2021-05-11 12:11:45,586 - mmdet - INFO - Saving checkpoint at 18 epochs\n"
     ]
    },
    {
     "name": "stdout",
     "output_type": "stream",
     "text": [
      "[>>>>>>>>>>>>>>>>>>>>>>>>>>>>>>] 655/655, 8.4 task/s, elapsed: 78s, ETA:     0s"
     ]
    },
    {
     "name": "stderr",
     "output_type": "stream",
     "text": [
      "2021-05-11 12:13:14,230 - mmdet - INFO - Evaluating bbox...\n"
     ]
    },
    {
     "name": "stdout",
     "output_type": "stream",
     "text": [
      "Loading and preparing results...\n",
      "DONE (t=1.04s)\n",
      "creating index...\n",
      "index created!\n",
      "Running per image evaluation...\n",
      "Evaluate annotation type *bbox*\n",
      "DONE (t=6.90s).\n",
      "Accumulating evaluation results...\n"
     ]
    },
    {
     "name": "stderr",
     "output_type": "stream",
     "text": [
      "2021-05-11 12:13:23,616 - mmdet - INFO - Epoch(val) [18][655]\tbbox_mAP: 0.2080, bbox_mAP_50: 0.3000, bbox_mAP_75: 0.2140, bbox_mAP_s: 0.0390, bbox_mAP_m: 0.1820, bbox_mAP_l: 0.4080, bbox_mAP_copypaste: 0.208 0.300 0.214 0.039 0.182 0.408\n"
     ]
    },
    {
     "name": "stdout",
     "output_type": "stream",
     "text": [
      "DONE (t=1.33s).\n",
      "Average Precision  (AP) @[ IoU=0.50:0.95 | area=   all | maxDets=100 ] = 0.208\n",
      "Average Precision  (AP) @[ IoU=0.50      | area=   all | maxDets=1000 ] = 0.300\n",
      "Average Precision  (AP) @[ IoU=0.75      | area=   all | maxDets=1000 ] = 0.214\n",
      "Average Precision  (AP) @[ IoU=0.50:0.95 | area= small | maxDets=1000 ] = 0.039\n",
      "Average Precision  (AP) @[ IoU=0.50:0.95 | area=medium | maxDets=1000 ] = 0.182\n",
      "Average Precision  (AP) @[ IoU=0.50:0.95 | area= large | maxDets=1000 ] = 0.408\n",
      "Average Recall     (AR) @[ IoU=0.50:0.95 | area=   all | maxDets=100 ] = 0.420\n",
      "Average Recall     (AR) @[ IoU=0.50:0.95 | area=   all | maxDets=300 ] = 0.420\n",
      "Average Recall     (AR) @[ IoU=0.50:0.95 | area=   all | maxDets=1000 ] = 0.420\n",
      "Average Recall     (AR) @[ IoU=0.50:0.95 | area= small | maxDets=1000 ] = 0.124\n",
      "Average Recall     (AR) @[ IoU=0.50:0.95 | area=medium | maxDets=1000 ] = 0.401\n",
      "Average Recall     (AR) @[ IoU=0.50:0.95 | area= large | maxDets=1000 ] = 0.711\n"
     ]
    },
    {
     "name": "stderr",
     "output_type": "stream",
     "text": [
      "2021-05-11 12:15:05,009 - mmdet - INFO - Epoch [19][50/655]\tlr: 1.000e-05, eta: 2:07:37, time: 2.028, data_time: 0.051, memory: 5644, loss_cls: 0.4913, loss_bbox: 0.1607, loss_bbox_rf: 0.2060, loss: 0.8579, grad_norm: 6.5187\n",
      "2021-05-11 12:16:44,177 - mmdet - INFO - Epoch [19][100/655]\tlr: 1.000e-05, eta: 2:05:59, time: 1.983, data_time: 0.007, memory: 5644, loss_cls: 0.5143, loss_bbox: 0.1585, loss_bbox_rf: 0.2033, loss: 0.8761, grad_norm: 6.2442\n",
      "2021-05-11 12:18:23,739 - mmdet - INFO - Epoch [19][150/655]\tlr: 1.000e-05, eta: 2:04:20, time: 1.991, data_time: 0.007, memory: 5644, loss_cls: 0.4994, loss_bbox: 0.1699, loss_bbox_rf: 0.2183, loss: 0.8875, grad_norm: 5.5637\n",
      "2021-05-11 12:20:03,026 - mmdet - INFO - Epoch [19][200/655]\tlr: 1.000e-05, eta: 2:02:42, time: 1.986, data_time: 0.007, memory: 5644, loss_cls: 0.5275, loss_bbox: 0.1777, loss_bbox_rf: 0.2287, loss: 0.9338, grad_norm: 5.2870\n",
      "2021-05-11 12:21:42,256 - mmdet - INFO - Epoch [19][250/655]\tlr: 1.000e-05, eta: 2:01:03, time: 1.985, data_time: 0.007, memory: 5644, loss_cls: 0.5099, loss_bbox: 0.1630, loss_bbox_rf: 0.2086, loss: 0.8815, grad_norm: 5.5248\n",
      "2021-05-11 12:23:21,914 - mmdet - INFO - Epoch [19][300/655]\tlr: 1.000e-05, eta: 1:59:25, time: 1.993, data_time: 0.007, memory: 5644, loss_cls: 0.5009, loss_bbox: 0.1626, loss_bbox_rf: 0.2089, loss: 0.8724, grad_norm: 5.4164\n",
      "2021-05-11 12:25:01,159 - mmdet - INFO - Epoch [19][350/655]\tlr: 1.000e-05, eta: 1:57:46, time: 1.985, data_time: 0.007, memory: 5644, loss_cls: 0.4881, loss_bbox: 0.1599, loss_bbox_rf: 0.2055, loss: 0.8535, grad_norm: 5.4813\n",
      "2021-05-11 12:26:40,639 - mmdet - INFO - Epoch [19][400/655]\tlr: 1.000e-05, eta: 1:56:08, time: 1.990, data_time: 0.007, memory: 5644, loss_cls: 0.4965, loss_bbox: 0.1675, loss_bbox_rf: 0.2155, loss: 0.8795, grad_norm: 5.2719\n",
      "2021-05-11 12:28:20,008 - mmdet - INFO - Epoch [19][450/655]\tlr: 1.000e-05, eta: 1:54:29, time: 1.987, data_time: 0.007, memory: 5644, loss_cls: 0.5104, loss_bbox: 0.1730, loss_bbox_rf: 0.2237, loss: 0.9072, grad_norm: 5.6377\n",
      "2021-05-11 12:29:59,244 - mmdet - INFO - Epoch [19][500/655]\tlr: 1.000e-05, eta: 1:52:51, time: 1.985, data_time: 0.007, memory: 5644, loss_cls: 0.5068, loss_bbox: 0.1796, loss_bbox_rf: 0.2316, loss: 0.9180, grad_norm: 5.1690\n",
      "2021-05-11 12:31:38,386 - mmdet - INFO - Epoch [19][550/655]\tlr: 1.000e-05, eta: 1:51:12, time: 1.983, data_time: 0.007, memory: 5644, loss_cls: 0.4895, loss_bbox: 0.1663, loss_bbox_rf: 0.2118, loss: 0.8676, grad_norm: 5.4534\n",
      "2021-05-11 12:33:17,594 - mmdet - INFO - Epoch [19][600/655]\tlr: 1.000e-05, eta: 1:49:34, time: 1.984, data_time: 0.007, memory: 5644, loss_cls: 0.5094, loss_bbox: 0.1715, loss_bbox_rf: 0.2201, loss: 0.9010, grad_norm: 5.8262\n",
      "2021-05-11 12:34:57,392 - mmdet - INFO - Epoch [19][650/655]\tlr: 1.000e-05, eta: 1:47:55, time: 1.996, data_time: 0.007, memory: 5644, loss_cls: 0.5187, loss_bbox: 0.1701, loss_bbox_rf: 0.2186, loss: 0.9074, grad_norm: 5.9680\n",
      "2021-05-11 12:35:07,365 - mmdet - INFO - Saving checkpoint at 19 epochs\n"
     ]
    },
    {
     "name": "stdout",
     "output_type": "stream",
     "text": [
      "[>>>>>>>>>>>>>>>>>>>>>>>>>>>>>>] 655/655, 8.4 task/s, elapsed: 78s, ETA:     0s"
     ]
    },
    {
     "name": "stderr",
     "output_type": "stream",
     "text": [
      "2021-05-11 12:36:36,200 - mmdet - INFO - Evaluating bbox...\n"
     ]
    },
    {
     "name": "stdout",
     "output_type": "stream",
     "text": [
      "Loading and preparing results...\n",
      "DONE (t=1.08s)\n",
      "creating index...\n",
      "index created!\n",
      "Running per image evaluation...\n",
      "Evaluate annotation type *bbox*\n",
      "DONE (t=7.01s).\n",
      "Accumulating evaluation results...\n"
     ]
    },
    {
     "name": "stderr",
     "output_type": "stream",
     "text": [
      "2021-05-11 12:36:45,723 - mmdet - INFO - Epoch(val) [19][655]\tbbox_mAP: 0.2060, bbox_mAP_50: 0.2950, bbox_mAP_75: 0.2110, bbox_mAP_s: 0.0350, bbox_mAP_m: 0.1830, bbox_mAP_l: 0.3910, bbox_mAP_copypaste: 0.206 0.295 0.211 0.035 0.183 0.391\n"
     ]
    },
    {
     "name": "stdout",
     "output_type": "stream",
     "text": [
      "DONE (t=1.31s).\n",
      "Average Precision  (AP) @[ IoU=0.50:0.95 | area=   all | maxDets=100 ] = 0.206\n",
      "Average Precision  (AP) @[ IoU=0.50      | area=   all | maxDets=1000 ] = 0.295\n",
      "Average Precision  (AP) @[ IoU=0.75      | area=   all | maxDets=1000 ] = 0.211\n",
      "Average Precision  (AP) @[ IoU=0.50:0.95 | area= small | maxDets=1000 ] = 0.035\n",
      "Average Precision  (AP) @[ IoU=0.50:0.95 | area=medium | maxDets=1000 ] = 0.183\n",
      "Average Precision  (AP) @[ IoU=0.50:0.95 | area= large | maxDets=1000 ] = 0.391\n",
      "Average Recall     (AR) @[ IoU=0.50:0.95 | area=   all | maxDets=100 ] = 0.410\n",
      "Average Recall     (AR) @[ IoU=0.50:0.95 | area=   all | maxDets=300 ] = 0.410\n",
      "Average Recall     (AR) @[ IoU=0.50:0.95 | area=   all | maxDets=1000 ] = 0.410\n",
      "Average Recall     (AR) @[ IoU=0.50:0.95 | area= small | maxDets=1000 ] = 0.111\n",
      "Average Recall     (AR) @[ IoU=0.50:0.95 | area=medium | maxDets=1000 ] = 0.390\n",
      "Average Recall     (AR) @[ IoU=0.50:0.95 | area= large | maxDets=1000 ] = 0.695\n"
     ]
    },
    {
     "name": "stderr",
     "output_type": "stream",
     "text": [
      "2021-05-11 12:38:27,543 - mmdet - INFO - Epoch [20][50/655]\tlr: 1.000e-05, eta: 1:46:05, time: 2.036, data_time: 0.051, memory: 5644, loss_cls: 0.4531, loss_bbox: 0.1512, loss_bbox_rf: 0.1939, loss: 0.7983, grad_norm: 5.7147\n",
      "2021-05-11 12:40:07,127 - mmdet - INFO - Epoch [20][100/655]\tlr: 1.000e-05, eta: 1:44:27, time: 1.992, data_time: 0.007, memory: 5644, loss_cls: 0.4865, loss_bbox: 0.1523, loss_bbox_rf: 0.1956, loss: 0.8344, grad_norm: 6.2731\n",
      "2021-05-11 12:41:47,991 - mmdet - INFO - Epoch [20][150/655]\tlr: 1.000e-05, eta: 1:42:48, time: 2.017, data_time: 0.007, memory: 5644, loss_cls: 0.4599, loss_bbox: 0.1622, loss_bbox_rf: 0.2092, loss: 0.8313, grad_norm: 5.3302\n",
      "2021-05-11 12:43:28,191 - mmdet - INFO - Epoch [20][200/655]\tlr: 1.000e-05, eta: 1:41:10, time: 2.004, data_time: 0.007, memory: 5644, loss_cls: 0.4768, loss_bbox: 0.1517, loss_bbox_rf: 0.1946, loss: 0.8231, grad_norm: 5.5013\n",
      "2021-05-11 12:45:09,146 - mmdet - INFO - Epoch [20][250/655]\tlr: 1.000e-05, eta: 1:39:32, time: 2.019, data_time: 0.007, memory: 5644, loss_cls: 0.4837, loss_bbox: 0.1754, loss_bbox_rf: 0.2265, loss: 0.8856, grad_norm: 5.0482\n",
      "2021-05-11 12:46:48,223 - mmdet - INFO - Epoch [20][300/655]\tlr: 1.000e-05, eta: 1:37:53, time: 1.982, data_time: 0.007, memory: 5644, loss_cls: 0.4731, loss_bbox: 0.1550, loss_bbox_rf: 0.1980, loss: 0.8260, grad_norm: 5.6645\n",
      "2021-05-11 12:48:27,421 - mmdet - INFO - Epoch [20][350/655]\tlr: 1.000e-05, eta: 1:36:15, time: 1.984, data_time: 0.007, memory: 5644, loss_cls: 0.4784, loss_bbox: 0.1640, loss_bbox_rf: 0.2098, loss: 0.8522, grad_norm: 5.6313\n",
      "2021-05-11 12:50:06,548 - mmdet - INFO - Epoch [20][400/655]\tlr: 1.000e-05, eta: 1:34:36, time: 1.983, data_time: 0.007, memory: 5644, loss_cls: 0.4811, loss_bbox: 0.1654, loss_bbox_rf: 0.2116, loss: 0.8581, grad_norm: 5.5097\n",
      "2021-05-11 12:51:46,005 - mmdet - INFO - Epoch [20][450/655]\tlr: 1.000e-05, eta: 1:32:57, time: 1.989, data_time: 0.007, memory: 5644, loss_cls: 0.5015, loss_bbox: 0.1737, loss_bbox_rf: 0.2238, loss: 0.8990, grad_norm: 5.3622\n",
      "2021-05-11 12:53:25,697 - mmdet - INFO - Epoch [20][500/655]\tlr: 1.000e-05, eta: 1:31:19, time: 1.994, data_time: 0.007, memory: 5644, loss_cls: 0.4900, loss_bbox: 0.1621, loss_bbox_rf: 0.2093, loss: 0.8614, grad_norm: 5.9676\n",
      "2021-05-11 12:55:06,192 - mmdet - INFO - Epoch [20][550/655]\tlr: 1.000e-05, eta: 1:29:41, time: 2.010, data_time: 0.007, memory: 5644, loss_cls: 0.4770, loss_bbox: 0.1563, loss_bbox_rf: 0.2002, loss: 0.8335, grad_norm: 5.8689\n",
      "2021-05-11 12:56:46,256 - mmdet - INFO - Epoch [20][600/655]\tlr: 1.000e-05, eta: 1:28:02, time: 2.001, data_time: 0.007, memory: 5644, loss_cls: 0.5111, loss_bbox: 0.1725, loss_bbox_rf: 0.2224, loss: 0.9060, grad_norm: 5.3569\n",
      "2021-05-11 12:58:25,920 - mmdet - INFO - Epoch [20][650/655]\tlr: 1.000e-05, eta: 1:26:24, time: 1.993, data_time: 0.007, memory: 5644, loss_cls: 0.4776, loss_bbox: 0.1545, loss_bbox_rf: 0.1979, loss: 0.8300, grad_norm: 5.5332\n",
      "2021-05-11 12:58:35,913 - mmdet - INFO - Saving checkpoint at 20 epochs\n"
     ]
    },
    {
     "name": "stdout",
     "output_type": "stream",
     "text": [
      "[>>>>>>>>>>>>>>>>>>>>>>>>>>>>>>] 655/655, 8.2 task/s, elapsed: 80s, ETA:     0s"
     ]
    },
    {
     "name": "stderr",
     "output_type": "stream",
     "text": [
      "2021-05-11 13:00:06,672 - mmdet - INFO - Evaluating bbox...\n"
     ]
    },
    {
     "name": "stdout",
     "output_type": "stream",
     "text": [
      "Loading and preparing results...\n",
      "DONE (t=0.59s)\n",
      "creating index...\n",
      "index created!\n",
      "Running per image evaluation...\n",
      "Evaluate annotation type *bbox*\n",
      "DONE (t=6.58s).\n",
      "Accumulating evaluation results...\n"
     ]
    },
    {
     "name": "stderr",
     "output_type": "stream",
     "text": [
      "2021-05-11 13:00:15,237 - mmdet - INFO - Epoch(val) [20][655]\tbbox_mAP: 0.2090, bbox_mAP_50: 0.2990, bbox_mAP_75: 0.2130, bbox_mAP_s: 0.0360, bbox_mAP_m: 0.1840, bbox_mAP_l: 0.3990, bbox_mAP_copypaste: 0.209 0.299 0.213 0.036 0.184 0.399\n"
     ]
    },
    {
     "name": "stdout",
     "output_type": "stream",
     "text": [
      "DONE (t=1.27s).\n",
      "Average Precision  (AP) @[ IoU=0.50:0.95 | area=   all | maxDets=100 ] = 0.209\n",
      "Average Precision  (AP) @[ IoU=0.50      | area=   all | maxDets=1000 ] = 0.299\n",
      "Average Precision  (AP) @[ IoU=0.75      | area=   all | maxDets=1000 ] = 0.213\n",
      "Average Precision  (AP) @[ IoU=0.50:0.95 | area= small | maxDets=1000 ] = 0.036\n",
      "Average Precision  (AP) @[ IoU=0.50:0.95 | area=medium | maxDets=1000 ] = 0.184\n",
      "Average Precision  (AP) @[ IoU=0.50:0.95 | area= large | maxDets=1000 ] = 0.399\n",
      "Average Recall     (AR) @[ IoU=0.50:0.95 | area=   all | maxDets=100 ] = 0.405\n",
      "Average Recall     (AR) @[ IoU=0.50:0.95 | area=   all | maxDets=300 ] = 0.405\n",
      "Average Recall     (AR) @[ IoU=0.50:0.95 | area=   all | maxDets=1000 ] = 0.405\n",
      "Average Recall     (AR) @[ IoU=0.50:0.95 | area= small | maxDets=1000 ] = 0.117\n",
      "Average Recall     (AR) @[ IoU=0.50:0.95 | area=medium | maxDets=1000 ] = 0.384\n",
      "Average Recall     (AR) @[ IoU=0.50:0.95 | area= large | maxDets=1000 ] = 0.686\n"
     ]
    },
    {
     "name": "stderr",
     "output_type": "stream",
     "text": [
      "2021-05-11 13:01:57,733 - mmdet - INFO - Epoch [21][50/655]\tlr: 1.000e-05, eta: 1:24:34, time: 2.050, data_time: 0.051, memory: 5644, loss_cls: 0.4711, loss_bbox: 0.1636, loss_bbox_rf: 0.2103, loss: 0.8450, grad_norm: 5.0436\n",
      "2021-05-11 13:03:37,635 - mmdet - INFO - Epoch [21][100/655]\tlr: 1.000e-05, eta: 1:22:55, time: 1.998, data_time: 0.007, memory: 5644, loss_cls: 0.4703, loss_bbox: 0.1601, loss_bbox_rf: 0.2053, loss: 0.8357, grad_norm: 5.3746\n",
      "2021-05-11 13:05:16,743 - mmdet - INFO - Epoch [21][150/655]\tlr: 1.000e-05, eta: 1:21:17, time: 1.982, data_time: 0.007, memory: 5644, loss_cls: 0.4806, loss_bbox: 0.1618, loss_bbox_rf: 0.2079, loss: 0.8503, grad_norm: 5.8179\n",
      "2021-05-11 13:06:55,805 - mmdet - INFO - Epoch [21][200/655]\tlr: 1.000e-05, eta: 1:19:38, time: 1.981, data_time: 0.007, memory: 5644, loss_cls: 0.4648, loss_bbox: 0.1597, loss_bbox_rf: 0.2056, loss: 0.8301, grad_norm: 5.7966\n",
      "2021-05-11 13:08:34,976 - mmdet - INFO - Epoch [21][250/655]\tlr: 1.000e-05, eta: 1:17:59, time: 1.983, data_time: 0.007, memory: 5644, loss_cls: 0.4707, loss_bbox: 0.1551, loss_bbox_rf: 0.1995, loss: 0.8253, grad_norm: 5.4496\n",
      "2021-05-11 13:10:14,768 - mmdet - INFO - Epoch [21][300/655]\tlr: 1.000e-05, eta: 1:16:21, time: 1.996, data_time: 0.007, memory: 5644, loss_cls: 0.4573, loss_bbox: 0.1483, loss_bbox_rf: 0.1904, loss: 0.7960, grad_norm: 5.1963\n",
      "2021-05-11 13:11:54,038 - mmdet - INFO - Epoch [21][350/655]\tlr: 1.000e-05, eta: 1:14:42, time: 1.985, data_time: 0.007, memory: 5644, loss_cls: 0.4602, loss_bbox: 0.1576, loss_bbox_rf: 0.2019, loss: 0.8197, grad_norm: 5.4724\n",
      "2021-05-11 13:13:33,311 - mmdet - INFO - Epoch [21][400/655]\tlr: 1.000e-05, eta: 1:13:03, time: 1.985, data_time: 0.007, memory: 5644, loss_cls: 0.4857, loss_bbox: 0.1617, loss_bbox_rf: 0.2074, loss: 0.8548, grad_norm: 5.5464\n",
      "2021-05-11 13:15:12,609 - mmdet - INFO - Epoch [21][450/655]\tlr: 1.000e-05, eta: 1:11:25, time: 1.986, data_time: 0.007, memory: 5644, loss_cls: 0.4681, loss_bbox: 0.1663, loss_bbox_rf: 0.2147, loss: 0.8491, grad_norm: 5.3890\n",
      "2021-05-11 13:16:51,985 - mmdet - INFO - Epoch [21][500/655]\tlr: 1.000e-05, eta: 1:09:46, time: 1.988, data_time: 0.007, memory: 5644, loss_cls: 0.4403, loss_bbox: 0.1516, loss_bbox_rf: 0.1947, loss: 0.7866, grad_norm: 5.3164\n",
      "2021-05-11 13:18:31,354 - mmdet - INFO - Epoch [21][550/655]\tlr: 1.000e-05, eta: 1:08:07, time: 1.987, data_time: 0.007, memory: 5644, loss_cls: 0.4432, loss_bbox: 0.1541, loss_bbox_rf: 0.1985, loss: 0.7958, grad_norm: 5.5762\n",
      "2021-05-11 13:20:12,849 - mmdet - INFO - Epoch [21][600/655]\tlr: 1.000e-05, eta: 1:06:29, time: 2.030, data_time: 0.007, memory: 5644, loss_cls: 0.4627, loss_bbox: 0.1569, loss_bbox_rf: 0.2011, loss: 0.8206, grad_norm: 5.6321\n",
      "2021-05-11 13:21:52,947 - mmdet - INFO - Epoch [21][650/655]\tlr: 1.000e-05, eta: 1:04:51, time: 2.002, data_time: 0.007, memory: 5644, loss_cls: 0.4390, loss_bbox: 0.1465, loss_bbox_rf: 0.1870, loss: 0.7724, grad_norm: 5.5929\n",
      "2021-05-11 13:22:02,934 - mmdet - INFO - Saving checkpoint at 21 epochs\n"
     ]
    },
    {
     "name": "stdout",
     "output_type": "stream",
     "text": [
      "[>>>>>>>>>>>>>>>>>>>>>>>>>>>>>>] 655/655, 8.4 task/s, elapsed: 78s, ETA:     0s"
     ]
    },
    {
     "name": "stderr",
     "output_type": "stream",
     "text": [
      "2021-05-11 13:23:32,361 - mmdet - INFO - Evaluating bbox...\n"
     ]
    },
    {
     "name": "stdout",
     "output_type": "stream",
     "text": [
      "Loading and preparing results...\n",
      "DONE (t=0.64s)\n",
      "creating index...\n",
      "index created!\n",
      "Running per image evaluation...\n",
      "Evaluate annotation type *bbox*\n",
      "DONE (t=6.68s).\n",
      "Accumulating evaluation results...\n"
     ]
    },
    {
     "name": "stderr",
     "output_type": "stream",
     "text": [
      "2021-05-11 13:23:41,043 - mmdet - INFO - Epoch(val) [21][655]\tbbox_mAP: 0.2120, bbox_mAP_50: 0.3010, bbox_mAP_75: 0.2180, bbox_mAP_s: 0.0350, bbox_mAP_m: 0.1840, bbox_mAP_l: 0.4060, bbox_mAP_copypaste: 0.212 0.301 0.218 0.035 0.184 0.406\n"
     ]
    },
    {
     "name": "stdout",
     "output_type": "stream",
     "text": [
      "DONE (t=1.24s).\n",
      "Average Precision  (AP) @[ IoU=0.50:0.95 | area=   all | maxDets=100 ] = 0.212\n",
      "Average Precision  (AP) @[ IoU=0.50      | area=   all | maxDets=1000 ] = 0.301\n",
      "Average Precision  (AP) @[ IoU=0.75      | area=   all | maxDets=1000 ] = 0.218\n",
      "Average Precision  (AP) @[ IoU=0.50:0.95 | area= small | maxDets=1000 ] = 0.035\n",
      "Average Precision  (AP) @[ IoU=0.50:0.95 | area=medium | maxDets=1000 ] = 0.184\n",
      "Average Precision  (AP) @[ IoU=0.50:0.95 | area= large | maxDets=1000 ] = 0.406\n",
      "Average Recall     (AR) @[ IoU=0.50:0.95 | area=   all | maxDets=100 ] = 0.405\n",
      "Average Recall     (AR) @[ IoU=0.50:0.95 | area=   all | maxDets=300 ] = 0.405\n",
      "Average Recall     (AR) @[ IoU=0.50:0.95 | area=   all | maxDets=1000 ] = 0.405\n",
      "Average Recall     (AR) @[ IoU=0.50:0.95 | area= small | maxDets=1000 ] = 0.113\n",
      "Average Recall     (AR) @[ IoU=0.50:0.95 | area=medium | maxDets=1000 ] = 0.386\n",
      "Average Recall     (AR) @[ IoU=0.50:0.95 | area= large | maxDets=1000 ] = 0.677\n"
     ]
    },
    {
     "name": "stderr",
     "output_type": "stream",
     "text": [
      "2021-05-11 13:25:22,635 - mmdet - INFO - Epoch [22][50/655]\tlr: 1.000e-05, eta: 1:03:01, time: 2.032, data_time: 0.051, memory: 5644, loss_cls: 0.4521, loss_bbox: 0.1544, loss_bbox_rf: 0.1979, loss: 0.8044, grad_norm: 5.2581\n",
      "2021-05-11 13:27:03,284 - mmdet - INFO - Epoch [22][100/655]\tlr: 1.000e-05, eta: 1:01:22, time: 2.013, data_time: 0.007, memory: 5644, loss_cls: 0.4353, loss_bbox: 0.1483, loss_bbox_rf: 0.1904, loss: 0.7740, grad_norm: 5.7389\n",
      "2021-05-11 13:28:42,545 - mmdet - INFO - Epoch [22][150/655]\tlr: 1.000e-05, eta: 0:59:44, time: 1.985, data_time: 0.007, memory: 5644, loss_cls: 0.4332, loss_bbox: 0.1486, loss_bbox_rf: 0.1901, loss: 0.7719, grad_norm: 5.7712\n",
      "2021-05-11 13:30:21,972 - mmdet - INFO - Epoch [22][200/655]\tlr: 1.000e-05, eta: 0:58:05, time: 1.989, data_time: 0.007, memory: 5644, loss_cls: 0.4520, loss_bbox: 0.1416, loss_bbox_rf: 0.1811, loss: 0.7747, grad_norm: 5.2280\n",
      "2021-05-11 13:32:01,555 - mmdet - INFO - Epoch [22][250/655]\tlr: 1.000e-05, eta: 0:56:27, time: 1.992, data_time: 0.007, memory: 5644, loss_cls: 0.4446, loss_bbox: 0.1405, loss_bbox_rf: 0.1800, loss: 0.7651, grad_norm: 5.5314\n",
      "2021-05-11 13:33:41,022 - mmdet - INFO - Epoch [22][300/655]\tlr: 1.000e-05, eta: 0:54:48, time: 1.989, data_time: 0.007, memory: 5644, loss_cls: 0.4464, loss_bbox: 0.1584, loss_bbox_rf: 0.2034, loss: 0.8082, grad_norm: 5.3788\n",
      "2021-05-11 13:35:20,862 - mmdet - INFO - Epoch [22][350/655]\tlr: 1.000e-05, eta: 0:53:09, time: 1.997, data_time: 0.007, memory: 5644, loss_cls: 0.4528, loss_bbox: 0.1539, loss_bbox_rf: 0.1974, loss: 0.8041, grad_norm: 5.2960\n",
      "2021-05-11 13:37:00,128 - mmdet - INFO - Epoch [22][400/655]\tlr: 1.000e-05, eta: 0:51:31, time: 1.985, data_time: 0.007, memory: 5644, loss_cls: 0.4321, loss_bbox: 0.1572, loss_bbox_rf: 0.2033, loss: 0.7925, grad_norm: 5.0873\n",
      "2021-05-11 13:38:39,320 - mmdet - INFO - Epoch [22][450/655]\tlr: 1.000e-05, eta: 0:49:52, time: 1.984, data_time: 0.007, memory: 5644, loss_cls: 0.4390, loss_bbox: 0.1508, loss_bbox_rf: 0.1928, loss: 0.7826, grad_norm: 5.7278\n",
      "2021-05-11 13:40:18,518 - mmdet - INFO - Epoch [22][500/655]\tlr: 1.000e-05, eta: 0:48:13, time: 1.984, data_time: 0.007, memory: 5644, loss_cls: 0.4528, loss_bbox: 0.1624, loss_bbox_rf: 0.2092, loss: 0.8243, grad_norm: 5.4324\n",
      "2021-05-11 13:41:58,194 - mmdet - INFO - Epoch [22][550/655]\tlr: 1.000e-05, eta: 0:46:34, time: 1.994, data_time: 0.007, memory: 5644, loss_cls: 0.4558, loss_bbox: 0.1575, loss_bbox_rf: 0.2027, loss: 0.8160, grad_norm: 5.2347\n",
      "2021-05-11 13:43:38,050 - mmdet - INFO - Epoch [22][600/655]\tlr: 1.000e-05, eta: 0:44:56, time: 1.997, data_time: 0.007, memory: 5644, loss_cls: 0.4542, loss_bbox: 0.1461, loss_bbox_rf: 0.1859, loss: 0.7861, grad_norm: 6.0719\n",
      "2021-05-11 13:45:17,437 - mmdet - INFO - Epoch [22][650/655]\tlr: 1.000e-05, eta: 0:43:17, time: 1.988, data_time: 0.007, memory: 5644, loss_cls: 0.4464, loss_bbox: 0.1601, loss_bbox_rf: 0.2064, loss: 0.8129, grad_norm: 5.4498\n",
      "2021-05-11 13:45:27,411 - mmdet - INFO - Saving checkpoint at 22 epochs\n"
     ]
    },
    {
     "name": "stdout",
     "output_type": "stream",
     "text": [
      "[>>>>>>>>>>>>>>>>>>>>>>>>>>>>>>] 655/655, 8.2 task/s, elapsed: 80s, ETA:     0s"
     ]
    },
    {
     "name": "stderr",
     "output_type": "stream",
     "text": [
      "2021-05-11 13:46:58,451 - mmdet - INFO - Evaluating bbox...\n"
     ]
    },
    {
     "name": "stdout",
     "output_type": "stream",
     "text": [
      "Loading and preparing results...\n",
      "DONE (t=0.61s)\n",
      "creating index...\n",
      "index created!\n",
      "Running per image evaluation...\n",
      "Evaluate annotation type *bbox*\n",
      "DONE (t=6.97s).\n",
      "Accumulating evaluation results...\n"
     ]
    },
    {
     "name": "stderr",
     "output_type": "stream",
     "text": [
      "2021-05-11 13:47:07,525 - mmdet - INFO - Epoch(val) [22][655]\tbbox_mAP: 0.2120, bbox_mAP_50: 0.3040, bbox_mAP_75: 0.2180, bbox_mAP_s: 0.0340, bbox_mAP_m: 0.1790, bbox_mAP_l: 0.4120, bbox_mAP_copypaste: 0.212 0.304 0.218 0.034 0.179 0.412\n"
     ]
    },
    {
     "name": "stdout",
     "output_type": "stream",
     "text": [
      "DONE (t=1.37s).\n",
      "Average Precision  (AP) @[ IoU=0.50:0.95 | area=   all | maxDets=100 ] = 0.212\n",
      "Average Precision  (AP) @[ IoU=0.50      | area=   all | maxDets=1000 ] = 0.304\n",
      "Average Precision  (AP) @[ IoU=0.75      | area=   all | maxDets=1000 ] = 0.218\n",
      "Average Precision  (AP) @[ IoU=0.50:0.95 | area= small | maxDets=1000 ] = 0.034\n",
      "Average Precision  (AP) @[ IoU=0.50:0.95 | area=medium | maxDets=1000 ] = 0.179\n",
      "Average Precision  (AP) @[ IoU=0.50:0.95 | area= large | maxDets=1000 ] = 0.412\n",
      "Average Recall     (AR) @[ IoU=0.50:0.95 | area=   all | maxDets=100 ] = 0.403\n",
      "Average Recall     (AR) @[ IoU=0.50:0.95 | area=   all | maxDets=300 ] = 0.403\n",
      "Average Recall     (AR) @[ IoU=0.50:0.95 | area=   all | maxDets=1000 ] = 0.403\n",
      "Average Recall     (AR) @[ IoU=0.50:0.95 | area= small | maxDets=1000 ] = 0.136\n",
      "Average Recall     (AR) @[ IoU=0.50:0.95 | area=medium | maxDets=1000 ] = 0.380\n",
      "Average Recall     (AR) @[ IoU=0.50:0.95 | area= large | maxDets=1000 ] = 0.669\n"
     ]
    },
    {
     "name": "stderr",
     "output_type": "stream",
     "text": [
      "2021-05-11 13:48:49,140 - mmdet - INFO - Epoch [23][50/655]\tlr: 1.000e-06, eta: 0:41:28, time: 2.032, data_time: 0.051, memory: 5644, loss_cls: 0.4279, loss_bbox: 0.1403, loss_bbox_rf: 0.1796, loss: 0.7478, grad_norm: 5.3616\n",
      "2021-05-11 13:50:28,344 - mmdet - INFO - Epoch [23][100/655]\tlr: 1.000e-06, eta: 0:39:49, time: 1.984, data_time: 0.008, memory: 5644, loss_cls: 0.4340, loss_bbox: 0.1455, loss_bbox_rf: 0.1873, loss: 0.7667, grad_norm: 4.8338\n",
      "2021-05-11 13:52:07,660 - mmdet - INFO - Epoch [23][150/655]\tlr: 1.000e-06, eta: 0:38:10, time: 1.986, data_time: 0.008, memory: 5644, loss_cls: 0.4258, loss_bbox: 0.1381, loss_bbox_rf: 0.1784, loss: 0.7423, grad_norm: 4.7671\n",
      "2021-05-11 13:53:47,404 - mmdet - INFO - Epoch [23][200/655]\tlr: 1.000e-06, eta: 0:36:32, time: 1.995, data_time: 0.007, memory: 5644, loss_cls: 0.4196, loss_bbox: 0.1458, loss_bbox_rf: 0.1883, loss: 0.7537, grad_norm: 4.4993\n",
      "2021-05-11 13:55:26,990 - mmdet - INFO - Epoch [23][250/655]\tlr: 1.000e-06, eta: 0:34:53, time: 1.992, data_time: 0.007, memory: 5644, loss_cls: 0.4300, loss_bbox: 0.1556, loss_bbox_rf: 0.2011, loss: 0.7866, grad_norm: 4.5894\n",
      "2021-05-11 13:57:08,357 - mmdet - INFO - Epoch [23][300/655]\tlr: 1.000e-06, eta: 0:33:14, time: 2.027, data_time: 0.008, memory: 5644, loss_cls: 0.4224, loss_bbox: 0.1454, loss_bbox_rf: 0.1862, loss: 0.7540, grad_norm: 4.7754\n",
      "2021-05-11 13:58:47,725 - mmdet - INFO - Epoch [23][350/655]\tlr: 1.000e-06, eta: 0:31:36, time: 1.987, data_time: 0.007, memory: 5644, loss_cls: 0.4303, loss_bbox: 0.1560, loss_bbox_rf: 0.2012, loss: 0.7874, grad_norm: 4.9372\n",
      "2021-05-11 14:00:26,936 - mmdet - INFO - Epoch [23][400/655]\tlr: 1.000e-06, eta: 0:29:57, time: 1.984, data_time: 0.007, memory: 5644, loss_cls: 0.4256, loss_bbox: 0.1525, loss_bbox_rf: 0.1966, loss: 0.7746, grad_norm: 4.6364\n",
      "2021-05-11 14:02:06,970 - mmdet - INFO - Epoch [23][450/655]\tlr: 1.000e-06, eta: 0:28:18, time: 2.001, data_time: 0.007, memory: 5644, loss_cls: 0.4384, loss_bbox: 0.1502, loss_bbox_rf: 0.1945, loss: 0.7832, grad_norm: 4.8881\n",
      "2021-05-11 14:03:46,485 - mmdet - INFO - Epoch [23][500/655]\tlr: 1.000e-06, eta: 0:26:40, time: 1.990, data_time: 0.007, memory: 5644, loss_cls: 0.4437, loss_bbox: 0.1580, loss_bbox_rf: 0.2043, loss: 0.8060, grad_norm: 4.4356\n",
      "2021-05-11 14:05:25,677 - mmdet - INFO - Epoch [23][550/655]\tlr: 1.000e-06, eta: 0:25:01, time: 1.984, data_time: 0.007, memory: 5644, loss_cls: 0.4385, loss_bbox: 0.1456, loss_bbox_rf: 0.1879, loss: 0.7720, grad_norm: 5.0465\n",
      "2021-05-11 14:07:04,952 - mmdet - INFO - Epoch [23][600/655]\tlr: 1.000e-06, eta: 0:23:22, time: 1.985, data_time: 0.007, memory: 5644, loss_cls: 0.4108, loss_bbox: 0.1396, loss_bbox_rf: 0.1796, loss: 0.7301, grad_norm: 4.9638\n",
      "2021-05-11 14:08:44,505 - mmdet - INFO - Epoch [23][650/655]\tlr: 1.000e-06, eta: 0:21:43, time: 1.991, data_time: 0.007, memory: 5644, loss_cls: 0.4294, loss_bbox: 0.1549, loss_bbox_rf: 0.2000, loss: 0.7843, grad_norm: 4.4640\n",
      "2021-05-11 14:08:54,505 - mmdet - INFO - Saving checkpoint at 23 epochs\n"
     ]
    },
    {
     "name": "stdout",
     "output_type": "stream",
     "text": [
      "[>>>>>>>>>>>>>>>>>>>>>>>>>>>>>>] 655/655, 8.3 task/s, elapsed: 79s, ETA:     0s"
     ]
    },
    {
     "name": "stderr",
     "output_type": "stream",
     "text": [
      "2021-05-11 14:10:24,207 - mmdet - INFO - Evaluating bbox...\n"
     ]
    },
    {
     "name": "stdout",
     "output_type": "stream",
     "text": [
      "Loading and preparing results...\n",
      "DONE (t=1.04s)\n",
      "creating index...\n",
      "index created!\n",
      "Running per image evaluation...\n",
      "Evaluate annotation type *bbox*\n",
      "DONE (t=6.67s).\n",
      "Accumulating evaluation results...\n"
     ]
    },
    {
     "name": "stderr",
     "output_type": "stream",
     "text": [
      "2021-05-11 14:10:33,293 - mmdet - INFO - Epoch(val) [23][655]\tbbox_mAP: 0.2140, bbox_mAP_50: 0.3050, bbox_mAP_75: 0.2210, bbox_mAP_s: 0.0340, bbox_mAP_m: 0.1850, bbox_mAP_l: 0.4180, bbox_mAP_copypaste: 0.214 0.305 0.221 0.034 0.185 0.418\n"
     ]
    },
    {
     "name": "stdout",
     "output_type": "stream",
     "text": [
      "DONE (t=1.26s).\n",
      "Average Precision  (AP) @[ IoU=0.50:0.95 | area=   all | maxDets=100 ] = 0.214\n",
      "Average Precision  (AP) @[ IoU=0.50      | area=   all | maxDets=1000 ] = 0.305\n",
      "Average Precision  (AP) @[ IoU=0.75      | area=   all | maxDets=1000 ] = 0.221\n",
      "Average Precision  (AP) @[ IoU=0.50:0.95 | area= small | maxDets=1000 ] = 0.034\n",
      "Average Precision  (AP) @[ IoU=0.50:0.95 | area=medium | maxDets=1000 ] = 0.185\n",
      "Average Precision  (AP) @[ IoU=0.50:0.95 | area= large | maxDets=1000 ] = 0.418\n",
      "Average Recall     (AR) @[ IoU=0.50:0.95 | area=   all | maxDets=100 ] = 0.401\n",
      "Average Recall     (AR) @[ IoU=0.50:0.95 | area=   all | maxDets=300 ] = 0.401\n",
      "Average Recall     (AR) @[ IoU=0.50:0.95 | area=   all | maxDets=1000 ] = 0.401\n",
      "Average Recall     (AR) @[ IoU=0.50:0.95 | area= small | maxDets=1000 ] = 0.129\n",
      "Average Recall     (AR) @[ IoU=0.50:0.95 | area=medium | maxDets=1000 ] = 0.378\n",
      "Average Recall     (AR) @[ IoU=0.50:0.95 | area= large | maxDets=1000 ] = 0.669\n"
     ]
    },
    {
     "name": "stderr",
     "output_type": "stream",
     "text": [
      "2021-05-11 14:12:15,961 - mmdet - INFO - Epoch [24][50/655]\tlr: 1.000e-06, eta: 0:19:54, time: 2.053, data_time: 0.051, memory: 5644, loss_cls: 0.4316, loss_bbox: 0.1366, loss_bbox_rf: 0.1747, loss: 0.7429, grad_norm: 5.1821\n",
      "2021-05-11 14:13:55,319 - mmdet - INFO - Epoch [24][100/655]\tlr: 1.000e-06, eta: 0:18:16, time: 1.987, data_time: 0.008, memory: 5644, loss_cls: 0.4336, loss_bbox: 0.1604, loss_bbox_rf: 0.2077, loss: 0.8017, grad_norm: 4.3449\n",
      "2021-05-11 14:15:35,392 - mmdet - INFO - Epoch [24][150/655]\tlr: 1.000e-06, eta: 0:16:37, time: 2.001, data_time: 0.008, memory: 5644, loss_cls: 0.4426, loss_bbox: 0.1573, loss_bbox_rf: 0.2029, loss: 0.8027, grad_norm: 4.6585\n",
      "2021-05-11 14:17:15,094 - mmdet - INFO - Epoch [24][200/655]\tlr: 1.000e-06, eta: 0:14:58, time: 1.994, data_time: 0.007, memory: 5644, loss_cls: 0.4154, loss_bbox: 0.1418, loss_bbox_rf: 0.1831, loss: 0.7402, grad_norm: 4.7001\n",
      "2021-05-11 14:18:54,791 - mmdet - INFO - Epoch [24][250/655]\tlr: 1.000e-06, eta: 0:13:20, time: 1.994, data_time: 0.007, memory: 5644, loss_cls: 0.4237, loss_bbox: 0.1529, loss_bbox_rf: 0.1973, loss: 0.7739, grad_norm: 4.5136\n",
      "2021-05-11 14:20:34,220 - mmdet - INFO - Epoch [24][300/655]\tlr: 1.000e-06, eta: 0:11:41, time: 1.989, data_time: 0.008, memory: 5644, loss_cls: 0.4425, loss_bbox: 0.1595, loss_bbox_rf: 0.2057, loss: 0.8077, grad_norm: 4.5242\n",
      "2021-05-11 14:22:13,389 - mmdet - INFO - Epoch [24][350/655]\tlr: 1.000e-06, eta: 0:10:02, time: 1.983, data_time: 0.007, memory: 5644, loss_cls: 0.4072, loss_bbox: 0.1386, loss_bbox_rf: 0.1789, loss: 0.7248, grad_norm: 4.7701\n",
      "2021-05-11 14:23:53,063 - mmdet - INFO - Epoch [24][400/655]\tlr: 1.000e-06, eta: 0:08:23, time: 1.993, data_time: 0.007, memory: 5644, loss_cls: 0.4295, loss_bbox: 0.1453, loss_bbox_rf: 0.1875, loss: 0.7623, grad_norm: 4.6129\n",
      "2021-05-11 14:25:32,729 - mmdet - INFO - Epoch [24][450/655]\tlr: 1.000e-06, eta: 0:06:44, time: 1.993, data_time: 0.008, memory: 5644, loss_cls: 0.4169, loss_bbox: 0.1468, loss_bbox_rf: 0.1887, loss: 0.7524, grad_norm: 4.9275\n",
      "2021-05-11 14:27:12,665 - mmdet - INFO - Epoch [24][500/655]\tlr: 1.000e-06, eta: 0:05:06, time: 1.999, data_time: 0.008, memory: 5644, loss_cls: 0.4127, loss_bbox: 0.1230, loss_bbox_rf: 0.1578, loss: 0.6935, grad_norm: 5.1817\n",
      "2021-05-11 14:28:52,171 - mmdet - INFO - Epoch [24][550/655]\tlr: 1.000e-06, eta: 0:03:27, time: 1.990, data_time: 0.007, memory: 5644, loss_cls: 0.4003, loss_bbox: 0.1422, loss_bbox_rf: 0.1838, loss: 0.7263, grad_norm: 4.3924\n",
      "2021-05-11 14:30:32,098 - mmdet - INFO - Epoch [24][600/655]\tlr: 1.000e-06, eta: 0:01:48, time: 1.999, data_time: 0.007, memory: 5644, loss_cls: 0.4134, loss_bbox: 0.1477, loss_bbox_rf: 0.1896, loss: 0.7507, grad_norm: 4.7649\n",
      "2021-05-11 14:32:11,762 - mmdet - INFO - Epoch [24][650/655]\tlr: 1.000e-06, eta: 0:00:09, time: 1.993, data_time: 0.007, memory: 5644, loss_cls: 0.4407, loss_bbox: 0.1570, loss_bbox_rf: 0.2026, loss: 0.8002, grad_norm: 4.7371\n",
      "2021-05-11 14:32:21,729 - mmdet - INFO - Saving checkpoint at 24 epochs\n"
     ]
    },
    {
     "name": "stdout",
     "output_type": "stream",
     "text": [
      "[>>>>>>>>>>>>>>>>>>>>>>>>>>>>>>] 655/655, 8.2 task/s, elapsed: 80s, ETA:     0s"
     ]
    },
    {
     "name": "stderr",
     "output_type": "stream",
     "text": [
      "2021-05-11 14:33:51,711 - mmdet - INFO - Evaluating bbox...\n"
     ]
    },
    {
     "name": "stdout",
     "output_type": "stream",
     "text": [
      "Loading and preparing results...\n",
      "DONE (t=0.66s)\n",
      "creating index...\n",
      "index created!\n",
      "Running per image evaluation...\n",
      "Evaluate annotation type *bbox*\n",
      "DONE (t=6.86s).\n",
      "Accumulating evaluation results...\n"
     ]
    },
    {
     "name": "stderr",
     "output_type": "stream",
     "text": [
      "2021-05-11 14:34:00,672 - mmdet - INFO - Epoch(val) [24][655]\tbbox_mAP: 0.2130, bbox_mAP_50: 0.3040, bbox_mAP_75: 0.2190, bbox_mAP_s: 0.0330, bbox_mAP_m: 0.1840, bbox_mAP_l: 0.4150, bbox_mAP_copypaste: 0.213 0.304 0.219 0.033 0.184 0.415\n"
     ]
    },
    {
     "name": "stdout",
     "output_type": "stream",
     "text": [
      "DONE (t=1.33s).\n",
      "Average Precision  (AP) @[ IoU=0.50:0.95 | area=   all | maxDets=100 ] = 0.213\n",
      "Average Precision  (AP) @[ IoU=0.50      | area=   all | maxDets=1000 ] = 0.304\n",
      "Average Precision  (AP) @[ IoU=0.75      | area=   all | maxDets=1000 ] = 0.219\n",
      "Average Precision  (AP) @[ IoU=0.50:0.95 | area= small | maxDets=1000 ] = 0.033\n",
      "Average Precision  (AP) @[ IoU=0.50:0.95 | area=medium | maxDets=1000 ] = 0.184\n",
      "Average Precision  (AP) @[ IoU=0.50:0.95 | area= large | maxDets=1000 ] = 0.415\n",
      "Average Recall     (AR) @[ IoU=0.50:0.95 | area=   all | maxDets=100 ] = 0.396\n",
      "Average Recall     (AR) @[ IoU=0.50:0.95 | area=   all | maxDets=300 ] = 0.396\n",
      "Average Recall     (AR) @[ IoU=0.50:0.95 | area=   all | maxDets=1000 ] = 0.396\n",
      "Average Recall     (AR) @[ IoU=0.50:0.95 | area= small | maxDets=1000 ] = 0.123\n",
      "Average Recall     (AR) @[ IoU=0.50:0.95 | area=medium | maxDets=1000 ] = 0.377\n",
      "Average Recall     (AR) @[ IoU=0.50:0.95 | area= large | maxDets=1000 ] = 0.666\n"
     ]
    }
   ],
   "source": [
    "train_detector(model, datasets[0], cfg, distributed=False, validate=True)"
   ]
  },
  {
   "cell_type": "code",
   "execution_count": 1,
   "metadata": {},
   "outputs": [],
   "source": [
    "import mmcv\n",
    "from mmcv import Config\n",
    "from mmdet.datasets import (build_dataloader, build_dataset,\n",
    "                            replace_ImageToTensor)\n",
    "from mmdet.models import build_detector\n",
    "from mmdet.apis import single_gpu_test\n",
    "from mmcv.runner import load_checkpoint\n",
    "import os\n",
    "from mmcv.parallel import MMDataParallel\n",
    "import pandas as pd\n",
    "from pandas import DataFrame\n",
    "from pycocotools.coco import COCO\n",
    "import numpy as np"
   ]
  },
  {
   "cell_type": "code",
   "execution_count": 5,
   "metadata": {},
   "outputs": [],
   "source": [
    "classes = (\"UNKNOWN\", \"General trash\", \"Paper\", \"Paper pack\", \"Metal\", \"Glass\", \n",
    "           \"Plastic\", \"Styrofoam\", \"Plastic bag\", \"Battery\", \"Clothing\")\n",
    "# config file 들고오기\n",
    "cfg = Config.fromfile('./configs/vfnet/vfnet_x101_64x4d_fpn_mdconv_c3-c5_mstrain_2x_coco.py')\n",
    "\n",
    "PREFIX = '../../input/data/'\n",
    "\n",
    "epoch = 24\n",
    "\n",
    "# dataset 바꾸기\n",
    "cfg.data.train.classes = classes\n",
    "cfg.data.train.img_prefix = PREFIX\n",
    "cfg.data.train.ann_file = PREFIX + 'train.json'\n",
    "cfg.data.train.pipeline[2]['img_scale'] = (512, 512)\n",
    "\n",
    "cfg.data.val.classes = classes\n",
    "cfg.data.val.img_prefix = PREFIX\n",
    "cfg.data.val.ann_file = PREFIX + 'val.json'\n",
    "cfg.data.val.pipeline[1]['img_scale'] = (512, 512)\n",
    "\n",
    "cfg.data.test.classes = classes\n",
    "cfg.data.test.img_prefix = PREFIX\n",
    "cfg.data.test.ann_file = PREFIX + 'test.json'\n",
    "cfg.data.test.pipeline[1]['img_scale'] = (512, 512)\n",
    "\n",
    "cfg.data.samples_per_gpu = 4\n",
    "\n",
    "cfg.seed=90\n",
    "cfg.gpu_ids = [0]\n",
    "cfg.work_dir = './work_dirs/vfnet_x101_64x4d_fpn_mdconv_c3-c5_mstrain_2x_coco'\n",
    "\n",
    "cfg.model.bbox_head.num_classes = 11\n",
    "\n",
    "cfg.optimizer_config.grad_clip = dict(max_norm=35, norm_type=2)\n",
    "cfg.model.train_cfg = None\n",
    "\n",
    "# checkpoint path\n",
    "checkpoint_path = os.path.join(cfg.work_dir, f'lastest.pth')"
   ]
  },
  {
   "cell_type": "code",
   "execution_count": 6,
   "metadata": {},
   "outputs": [
    {
     "name": "stdout",
     "output_type": "stream",
     "text": [
      "loading annotations into memory...\n",
      "Done (t=0.01s)\n",
      "creating index...\n",
      "index created!\n"
     ]
    }
   ],
   "source": [
    "dataset = build_dataset(cfg.data.test)\n",
    "data_loader = build_dataloader(\n",
    "        dataset,\n",
    "        samples_per_gpu=1,\n",
    "        workers_per_gpu=cfg.data.workers_per_gpu,\n",
    "        dist=False,\n",
    "        shuffle=False)"
   ]
  },
  {
   "cell_type": "code",
   "execution_count": 7,
   "metadata": {},
   "outputs": [
    {
     "name": "stderr",
     "output_type": "stream",
     "text": [
      "2021-05-13 06:12:40,036 - mmdet - INFO - load model from: open-mmlab://resnext101_64x4d\n",
      "2021-05-13 06:12:40,037 - mmdet - INFO - Use load_from_openmmlab loader\n",
      "2021-05-13 06:12:40,289 - mmdet - WARNING - The model and loaded state dict do not match exactly\n",
      "\n",
      "missing keys in source state_dict: layer2.0.conv2.conv_offset.weight, layer2.0.conv2.conv_offset.bias, layer2.1.conv2.conv_offset.weight, layer2.1.conv2.conv_offset.bias, layer2.2.conv2.conv_offset.weight, layer2.2.conv2.conv_offset.bias, layer2.3.conv2.conv_offset.weight, layer2.3.conv2.conv_offset.bias, layer3.0.conv2.conv_offset.weight, layer3.0.conv2.conv_offset.bias, layer3.1.conv2.conv_offset.weight, layer3.1.conv2.conv_offset.bias, layer3.2.conv2.conv_offset.weight, layer3.2.conv2.conv_offset.bias, layer3.3.conv2.conv_offset.weight, layer3.3.conv2.conv_offset.bias, layer3.4.conv2.conv_offset.weight, layer3.4.conv2.conv_offset.bias, layer3.5.conv2.conv_offset.weight, layer3.5.conv2.conv_offset.bias, layer3.6.conv2.conv_offset.weight, layer3.6.conv2.conv_offset.bias, layer3.7.conv2.conv_offset.weight, layer3.7.conv2.conv_offset.bias, layer3.8.conv2.conv_offset.weight, layer3.8.conv2.conv_offset.bias, layer3.9.conv2.conv_offset.weight, layer3.9.conv2.conv_offset.bias, layer3.10.conv2.conv_offset.weight, layer3.10.conv2.conv_offset.bias, layer3.11.conv2.conv_offset.weight, layer3.11.conv2.conv_offset.bias, layer3.12.conv2.conv_offset.weight, layer3.12.conv2.conv_offset.bias, layer3.13.conv2.conv_offset.weight, layer3.13.conv2.conv_offset.bias, layer3.14.conv2.conv_offset.weight, layer3.14.conv2.conv_offset.bias, layer3.15.conv2.conv_offset.weight, layer3.15.conv2.conv_offset.bias, layer3.16.conv2.conv_offset.weight, layer3.16.conv2.conv_offset.bias, layer3.17.conv2.conv_offset.weight, layer3.17.conv2.conv_offset.bias, layer3.18.conv2.conv_offset.weight, layer3.18.conv2.conv_offset.bias, layer3.19.conv2.conv_offset.weight, layer3.19.conv2.conv_offset.bias, layer3.20.conv2.conv_offset.weight, layer3.20.conv2.conv_offset.bias, layer3.21.conv2.conv_offset.weight, layer3.21.conv2.conv_offset.bias, layer3.22.conv2.conv_offset.weight, layer3.22.conv2.conv_offset.bias, layer4.0.conv2.conv_offset.weight, layer4.0.conv2.conv_offset.bias, layer4.1.conv2.conv_offset.weight, layer4.1.conv2.conv_offset.bias, layer4.2.conv2.conv_offset.weight, layer4.2.conv2.conv_offset.bias\n",
      "\n"
     ]
    },
    {
     "name": "stdout",
     "output_type": "stream",
     "text": [
      "Use load_from_local loader\n"
     ]
    },
    {
     "ename": "OSError",
     "evalue": "./work_dirs/vfnet_x101_64x4d_fpn_mdconv_c3-c5_mstrain_2x_coco/lastest.pth is not a checkpoint file",
     "output_type": "error",
     "traceback": [
      "\u001b[0;31m---------------------------------------------------------------------------\u001b[0m",
      "\u001b[0;31mOSError\u001b[0m                                   Traceback (most recent call last)",
      "\u001b[0;32m<ipython-input-7-4c366b0b63bd>\u001b[0m in \u001b[0;36m<module>\u001b[0;34m\u001b[0m\n\u001b[1;32m      1\u001b[0m \u001b[0mmodel\u001b[0m \u001b[0;34m=\u001b[0m \u001b[0mbuild_detector\u001b[0m\u001b[0;34m(\u001b[0m\u001b[0mcfg\u001b[0m\u001b[0;34m.\u001b[0m\u001b[0mmodel\u001b[0m\u001b[0;34m,\u001b[0m \u001b[0mtest_cfg\u001b[0m\u001b[0;34m=\u001b[0m\u001b[0mcfg\u001b[0m\u001b[0;34m.\u001b[0m\u001b[0mget\u001b[0m\u001b[0;34m(\u001b[0m\u001b[0;34m'test_cfg'\u001b[0m\u001b[0;34m)\u001b[0m\u001b[0;34m)\u001b[0m\u001b[0;34m\u001b[0m\u001b[0;34m\u001b[0m\u001b[0m\n\u001b[0;32m----> 2\u001b[0;31m \u001b[0mcheckpoint\u001b[0m \u001b[0;34m=\u001b[0m \u001b[0mload_checkpoint\u001b[0m\u001b[0;34m(\u001b[0m\u001b[0mmodel\u001b[0m\u001b[0;34m,\u001b[0m \u001b[0mcheckpoint_path\u001b[0m\u001b[0;34m,\u001b[0m \u001b[0mmap_location\u001b[0m\u001b[0;34m=\u001b[0m\u001b[0;34m'cpu'\u001b[0m\u001b[0;34m)\u001b[0m\u001b[0;34m\u001b[0m\u001b[0;34m\u001b[0m\u001b[0m\n\u001b[0m\u001b[1;32m      3\u001b[0m \u001b[0;34m\u001b[0m\u001b[0m\n\u001b[1;32m      4\u001b[0m \u001b[0mmodel\u001b[0m\u001b[0;34m.\u001b[0m\u001b[0mCLASSES\u001b[0m \u001b[0;34m=\u001b[0m \u001b[0mdataset\u001b[0m\u001b[0;34m.\u001b[0m\u001b[0mCLASSES\u001b[0m\u001b[0;34m\u001b[0m\u001b[0;34m\u001b[0m\u001b[0m\n\u001b[1;32m      5\u001b[0m \u001b[0mmodel\u001b[0m \u001b[0;34m=\u001b[0m \u001b[0mMMDataParallel\u001b[0m\u001b[0;34m(\u001b[0m\u001b[0mmodel\u001b[0m\u001b[0;34m.\u001b[0m\u001b[0mcuda\u001b[0m\u001b[0;34m(\u001b[0m\u001b[0;34m)\u001b[0m\u001b[0;34m,\u001b[0m \u001b[0mdevice_ids\u001b[0m\u001b[0;34m=\u001b[0m\u001b[0;34m[\u001b[0m\u001b[0;36m0\u001b[0m\u001b[0;34m]\u001b[0m\u001b[0;34m)\u001b[0m\u001b[0;34m\u001b[0m\u001b[0;34m\u001b[0m\u001b[0m\n",
      "\u001b[0;32m/opt/conda/lib/python3.7/site-packages/mmcv/runner/checkpoint.py\u001b[0m in \u001b[0;36mload_checkpoint\u001b[0;34m(model, filename, map_location, strict, logger, revise_keys)\u001b[0m\n\u001b[1;32m    527\u001b[0m         \u001b[0mdict\u001b[0m \u001b[0;32mor\u001b[0m \u001b[0mOrderedDict\u001b[0m\u001b[0;34m:\u001b[0m \u001b[0mThe\u001b[0m \u001b[0mloaded\u001b[0m \u001b[0mcheckpoint\u001b[0m\u001b[0;34m.\u001b[0m\u001b[0;34m\u001b[0m\u001b[0;34m\u001b[0m\u001b[0m\n\u001b[1;32m    528\u001b[0m     \"\"\"\n\u001b[0;32m--> 529\u001b[0;31m     \u001b[0mcheckpoint\u001b[0m \u001b[0;34m=\u001b[0m \u001b[0m_load_checkpoint\u001b[0m\u001b[0;34m(\u001b[0m\u001b[0mfilename\u001b[0m\u001b[0;34m,\u001b[0m \u001b[0mmap_location\u001b[0m\u001b[0;34m,\u001b[0m \u001b[0mlogger\u001b[0m\u001b[0;34m)\u001b[0m\u001b[0;34m\u001b[0m\u001b[0;34m\u001b[0m\u001b[0m\n\u001b[0m\u001b[1;32m    530\u001b[0m     \u001b[0;31m# OrderedDict is a subclass of dict\u001b[0m\u001b[0;34m\u001b[0m\u001b[0;34m\u001b[0m\u001b[0;34m\u001b[0m\u001b[0m\n\u001b[1;32m    531\u001b[0m     \u001b[0;32mif\u001b[0m \u001b[0;32mnot\u001b[0m \u001b[0misinstance\u001b[0m\u001b[0;34m(\u001b[0m\u001b[0mcheckpoint\u001b[0m\u001b[0;34m,\u001b[0m \u001b[0mdict\u001b[0m\u001b[0;34m)\u001b[0m\u001b[0;34m:\u001b[0m\u001b[0;34m\u001b[0m\u001b[0;34m\u001b[0m\u001b[0m\n",
      "\u001b[0;32m/opt/conda/lib/python3.7/site-packages/mmcv/runner/checkpoint.py\u001b[0m in \u001b[0;36m_load_checkpoint\u001b[0;34m(filename, map_location, logger)\u001b[0m\n\u001b[1;32m    465\u001b[0m            \u001b[0minformation\u001b[0m\u001b[0;34m,\u001b[0m \u001b[0mwhich\u001b[0m \u001b[0mdepends\u001b[0m \u001b[0mon\u001b[0m \u001b[0mthe\u001b[0m \u001b[0mcheckpoint\u001b[0m\u001b[0;34m.\u001b[0m\u001b[0;34m\u001b[0m\u001b[0;34m\u001b[0m\u001b[0m\n\u001b[1;32m    466\u001b[0m     \"\"\"\n\u001b[0;32m--> 467\u001b[0;31m     \u001b[0;32mreturn\u001b[0m \u001b[0mCheckpointLoader\u001b[0m\u001b[0;34m.\u001b[0m\u001b[0mload_checkpoint\u001b[0m\u001b[0;34m(\u001b[0m\u001b[0mfilename\u001b[0m\u001b[0;34m,\u001b[0m \u001b[0mmap_location\u001b[0m\u001b[0;34m,\u001b[0m \u001b[0mlogger\u001b[0m\u001b[0;34m)\u001b[0m\u001b[0;34m\u001b[0m\u001b[0;34m\u001b[0m\u001b[0m\n\u001b[0m\u001b[1;32m    468\u001b[0m \u001b[0;34m\u001b[0m\u001b[0m\n\u001b[1;32m    469\u001b[0m \u001b[0;34m\u001b[0m\u001b[0m\n",
      "\u001b[0;32m/opt/conda/lib/python3.7/site-packages/mmcv/runner/checkpoint.py\u001b[0m in \u001b[0;36mload_checkpoint\u001b[0;34m(cls, filename, map_location, logger)\u001b[0m\n\u001b[1;32m    242\u001b[0m         \u001b[0mclass_name\u001b[0m \u001b[0;34m=\u001b[0m \u001b[0mcheckpoint_loader\u001b[0m\u001b[0;34m.\u001b[0m\u001b[0m__name__\u001b[0m\u001b[0;34m\u001b[0m\u001b[0;34m\u001b[0m\u001b[0m\n\u001b[1;32m    243\u001b[0m         \u001b[0mmmcv\u001b[0m\u001b[0;34m.\u001b[0m\u001b[0mprint_log\u001b[0m\u001b[0;34m(\u001b[0m\u001b[0;34mf'Use {class_name} loader'\u001b[0m\u001b[0;34m,\u001b[0m \u001b[0mlogger\u001b[0m\u001b[0;34m)\u001b[0m\u001b[0;34m\u001b[0m\u001b[0;34m\u001b[0m\u001b[0m\n\u001b[0;32m--> 244\u001b[0;31m         \u001b[0;32mreturn\u001b[0m \u001b[0mcheckpoint_loader\u001b[0m\u001b[0;34m(\u001b[0m\u001b[0mfilename\u001b[0m\u001b[0;34m,\u001b[0m \u001b[0mmap_location\u001b[0m\u001b[0;34m)\u001b[0m\u001b[0;34m\u001b[0m\u001b[0;34m\u001b[0m\u001b[0m\n\u001b[0m\u001b[1;32m    245\u001b[0m \u001b[0;34m\u001b[0m\u001b[0m\n\u001b[1;32m    246\u001b[0m \u001b[0;34m\u001b[0m\u001b[0m\n",
      "\u001b[0;32m/opt/conda/lib/python3.7/site-packages/mmcv/runner/checkpoint.py\u001b[0m in \u001b[0;36mload_from_local\u001b[0;34m(filename, map_location)\u001b[0m\n\u001b[1;32m    258\u001b[0m \u001b[0;34m\u001b[0m\u001b[0m\n\u001b[1;32m    259\u001b[0m     \u001b[0;32mif\u001b[0m \u001b[0;32mnot\u001b[0m \u001b[0mosp\u001b[0m\u001b[0;34m.\u001b[0m\u001b[0misfile\u001b[0m\u001b[0;34m(\u001b[0m\u001b[0mfilename\u001b[0m\u001b[0;34m)\u001b[0m\u001b[0;34m:\u001b[0m\u001b[0;34m\u001b[0m\u001b[0;34m\u001b[0m\u001b[0m\n\u001b[0;32m--> 260\u001b[0;31m         \u001b[0;32mraise\u001b[0m \u001b[0mIOError\u001b[0m\u001b[0;34m(\u001b[0m\u001b[0;34mf'{filename} is not a checkpoint file'\u001b[0m\u001b[0;34m)\u001b[0m\u001b[0;34m\u001b[0m\u001b[0;34m\u001b[0m\u001b[0m\n\u001b[0m\u001b[1;32m    261\u001b[0m     \u001b[0mcheckpoint\u001b[0m \u001b[0;34m=\u001b[0m \u001b[0mtorch\u001b[0m\u001b[0;34m.\u001b[0m\u001b[0mload\u001b[0m\u001b[0;34m(\u001b[0m\u001b[0mfilename\u001b[0m\u001b[0;34m,\u001b[0m \u001b[0mmap_location\u001b[0m\u001b[0;34m=\u001b[0m\u001b[0mmap_location\u001b[0m\u001b[0;34m)\u001b[0m\u001b[0;34m\u001b[0m\u001b[0;34m\u001b[0m\u001b[0m\n\u001b[1;32m    262\u001b[0m     \u001b[0;32mreturn\u001b[0m \u001b[0mcheckpoint\u001b[0m\u001b[0;34m\u001b[0m\u001b[0;34m\u001b[0m\u001b[0m\n",
      "\u001b[0;31mOSError\u001b[0m: ./work_dirs/vfnet_x101_64x4d_fpn_mdconv_c3-c5_mstrain_2x_coco/lastest.pth is not a checkpoint file"
     ]
    }
   ],
   "source": [
    "model = build_detector(cfg.model, test_cfg=cfg.get('test_cfg'))\n",
    "checkpoint = load_checkpoint(model, checkpoint_path, map_location='cpu')\n",
    "\n",
    "model.CLASSES = dataset.CLASSES\n",
    "model = MMDataParallel(model.cuda(), device_ids=[0])"
   ]
  },
  {
   "cell_type": "code",
   "execution_count": 14,
   "metadata": {},
   "outputs": [
    {
     "name": "stdout",
     "output_type": "stream",
     "text": [
      "[>>>>>>>>>>>>>>>>>>>>>>>>>>>>>] 837/837, 8.0 task/s, elapsed: 105s, ETA:     0s"
     ]
    }
   ],
   "source": [
    "output = single_gpu_test(model, data_loader, show_score_thr=0.05)"
   ]
  },
  {
   "cell_type": "code",
   "execution_count": 16,
   "metadata": {},
   "outputs": [
    {
     "name": "stdout",
     "output_type": "stream",
     "text": [
      "loading annotations into memory...\n",
      "Done (t=0.01s)\n",
      "creating index...\n",
      "index created!\n"
     ]
    },
    {
     "data": {
      "text/html": [
       "<div>\n",
       "<style scoped>\n",
       "    .dataframe tbody tr th:only-of-type {\n",
       "        vertical-align: middle;\n",
       "    }\n",
       "\n",
       "    .dataframe tbody tr th {\n",
       "        vertical-align: top;\n",
       "    }\n",
       "\n",
       "    .dataframe thead th {\n",
       "        text-align: right;\n",
       "    }\n",
       "</style>\n",
       "<table border=\"1\" class=\"dataframe\">\n",
       "  <thead>\n",
       "    <tr style=\"text-align: right;\">\n",
       "      <th></th>\n",
       "      <th>PredictionString</th>\n",
       "      <th>image_id</th>\n",
       "    </tr>\n",
       "  </thead>\n",
       "  <tbody>\n",
       "    <tr>\n",
       "      <th>0</th>\n",
       "      <td>0 0.27585107 169.44269 76.139336 255.18983 167...</td>\n",
       "      <td>batch_01_vt/0021.jpg</td>\n",
       "    </tr>\n",
       "    <tr>\n",
       "      <th>1</th>\n",
       "      <td>0 0.127446 273.75284 247.20534 308.4707 265.41...</td>\n",
       "      <td>batch_01_vt/0028.jpg</td>\n",
       "    </tr>\n",
       "    <tr>\n",
       "      <th>2</th>\n",
       "      <td>0 0.091894604 70.023026 170.12476 374.02173 37...</td>\n",
       "      <td>batch_01_vt/0031.jpg</td>\n",
       "    </tr>\n",
       "    <tr>\n",
       "      <th>3</th>\n",
       "      <td>1 0.060998674 297.3724 158.02838 352.31287 222...</td>\n",
       "      <td>batch_01_vt/0032.jpg</td>\n",
       "    </tr>\n",
       "    <tr>\n",
       "      <th>4</th>\n",
       "      <td>0 0.35852015 201.36984 277.01688 260.86188 305...</td>\n",
       "      <td>batch_01_vt/0070.jpg</td>\n",
       "    </tr>\n",
       "  </tbody>\n",
       "</table>\n",
       "</div>"
      ],
      "text/plain": [
       "                                    PredictionString              image_id\n",
       "0  0 0.27585107 169.44269 76.139336 255.18983 167...  batch_01_vt/0021.jpg\n",
       "1  0 0.127446 273.75284 247.20534 308.4707 265.41...  batch_01_vt/0028.jpg\n",
       "2  0 0.091894604 70.023026 170.12476 374.02173 37...  batch_01_vt/0031.jpg\n",
       "3  1 0.060998674 297.3724 158.02838 352.31287 222...  batch_01_vt/0032.jpg\n",
       "4  0 0.35852015 201.36984 277.01688 260.86188 305...  batch_01_vt/0070.jpg"
      ]
     },
     "execution_count": 16,
     "metadata": {},
     "output_type": "execute_result"
    }
   ],
   "source": [
    "prediction_strings = []\n",
    "file_names = []\n",
    "coco = COCO(cfg.data.test.ann_file)\n",
    "imag_ids = coco.getImgIds()\n",
    "\n",
    "class_num = 11\n",
    "for i, out in enumerate(output):\n",
    "    prediction_string = ''\n",
    "    image_info = coco.loadImgs(coco.getImgIds(imgIds=i))[0]\n",
    "    for j in range(class_num):\n",
    "        for o in out[j]:\n",
    "            prediction_string += str(j) + ' ' + str(o[4]) + ' ' + str(o[0]) + ' ' + str(o[1]) + ' ' + str(\n",
    "                o[2]) + ' ' + str(o[3]) + ' '\n",
    "        \n",
    "    prediction_strings.append(prediction_string)\n",
    "    file_names.append(image_info['file_name'])\n",
    "\n",
    "\n",
    "submission = pd.DataFrame()\n",
    "submission['PredictionString'] = prediction_strings\n",
    "submission['image_id'] = file_names\n",
    "submission.to_csv(os.path.join(cfg.work_dir, f'submission_{epoch}.csv'), index=None)\n",
    "submission.head()"
   ]
  },
  {
   "cell_type": "code",
   "execution_count": null,
   "metadata": {},
   "outputs": [],
   "source": []
  }
 ],
 "metadata": {
  "kernelspec": {
   "display_name": "Python 3",
   "language": "python",
   "name": "python3"
  },
  "language_info": {
   "codemirror_mode": {
    "name": "ipython",
    "version": 3
   },
   "file_extension": ".py",
   "mimetype": "text/x-python",
   "name": "python",
   "nbconvert_exporter": "python",
   "pygments_lexer": "ipython3",
   "version": "3.7.7"
  },
  "pycharm": {
   "stem_cell": {
    "cell_type": "raw",
    "metadata": {
     "collapsed": false
    },
    "source": []
   }
  }
 },
 "nbformat": 4,
 "nbformat_minor": 4
}
