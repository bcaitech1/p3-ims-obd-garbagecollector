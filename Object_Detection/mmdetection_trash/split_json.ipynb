{
 "cells": [
  {
   "cell_type": "code",
   "execution_count": 1,
   "id": "56d32057-4e22-45a1-b850-83afb5a302c0",
   "metadata": {},
   "outputs": [],
   "source": [
    "import json\n",
    "import numpy as np"
   ]
  },
  {
   "cell_type": "markdown",
   "id": "12c35f2a-1186-4ce2-b38f-dce22396a782",
   "metadata": {},
   "source": [
    "'id': 0, 'name': 'UNKNOWN'<br>\n",
    "'id': 1, 'name': 'General trash'<br>\n",
    "'id': 2, 'name': 'Paper'<br>\n",
    "'id': 3, 'name': 'Paper pack'<br>\n",
    "'id': 4, 'name': 'Metal'<br>\n",
    "'id': 5, 'name': 'Glass'<br>\n",
    "'id': 6, 'name': 'Plastic'<br>\n",
    "'id': 7, 'name': 'Styrofoam'<br>\n",
    "'id': 8, 'name': 'Plastic bag'<br>\n",
    "'id': 9, 'name': 'Battery'<br>\n",
    "'id': 10, 'name': 'Clothing'<br>"
   ]
  },
  {
   "cell_type": "code",
   "execution_count": 2,
   "id": "08aa99c1-43ca-4668-b863-e9113057f08d",
   "metadata": {},
   "outputs": [],
   "source": [
    "selected_class = 2\n",
    "data_dir = '/opt/ml/input/data/'\n",
    "json_type = 'val'"
   ]
  },
  {
   "cell_type": "code",
   "execution_count": 9,
   "id": "8cdd0a3c-e553-4921-a1d9-ef9462ef2732",
   "metadata": {},
   "outputs": [],
   "source": [
    "with open(data_dir+json_type+\".json\", \"r\") as f:\n",
    "    train_data = json.load(f)\n",
    "    \n",
    "imgIds_in_class = []\n",
    "anns_class = []\n",
    "k=train_data['annotations'][0]['image_id']\n",
    "reset_index = 0\n",
    "for ann_info in train_data['annotations']:\n",
    "    if ann_info['category_id']==selected_class:\n",
    "        if(k!=ann_info['image_id']):\n",
    "            k=ann_info['image_id']\n",
    "            reset_index+=1\n",
    "        imgIds_in_class.append(ann_info['image_id'])\n",
    "        ann_info['image_id']=reset_index\n",
    "        anns_class.append(ann_info)\n",
    "        \n",
    "images_in_class = []\n",
    "for i,imgId in enumerate(np.unique(imgIds_in_class)):\n",
    "    img_info = train_data['images'][imgId]\n",
    "    img_info['image_id']=i\n",
    "    images_in_class.append(img_info)\n",
    "    \n",
    "train_data['images'] = images_in_class\n",
    "train_data['annotations'] = anns_class\n",
    "\n",
    "with open(data_dir+json_type+f\"_only_class{selected_class}.json\", \"w\") as f:\n",
    "    json.dump(train_data, f)"
   ]
  },
  {
   "cell_type": "code",
   "execution_count": null,
   "id": "e6419f49-f0e2-4e13-8a90-a88c250b3d53",
   "metadata": {},
   "outputs": [],
   "source": []
  }
 ],
 "metadata": {
  "kernelspec": {
   "display_name": "Python 3",
   "language": "python",
   "name": "python3"
  },
  "language_info": {
   "codemirror_mode": {
    "name": "ipython",
    "version": 3
   },
   "file_extension": ".py",
   "mimetype": "text/x-python",
   "name": "python",
   "nbconvert_exporter": "python",
   "pygments_lexer": "ipython3",
   "version": "3.7.7"
  }
 },
 "nbformat": 4,
 "nbformat_minor": 5
}
