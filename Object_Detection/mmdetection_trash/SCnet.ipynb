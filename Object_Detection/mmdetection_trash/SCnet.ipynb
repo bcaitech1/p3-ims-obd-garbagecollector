{
 "cells": [
  {
   "cell_type": "code",
   "execution_count": null,
   "metadata": {},
   "outputs": [],
   "source": []
  },
  {
   "cell_type": "code",
   "execution_count": 1,
   "metadata": {
    "pycharm": {
     "name": "#%%\n"
    }
   },
   "outputs": [
    {
     "ename": "ValueError",
     "evalue": "numpy.ufunc size changed, may indicate binary incompatibility. Expected 216 from C header, got 192 from PyObject",
     "output_type": "error",
     "traceback": [
      "\u001b[0;31m---------------------------------------------------------------------------\u001b[0m",
      "\u001b[0;31mValueError\u001b[0m                                Traceback (most recent call last)",
      "\u001b[0;32m<ipython-input-1-5dedc933d8b8>\u001b[0m in \u001b[0;36m<module>\u001b[0;34m\u001b[0m\n\u001b[1;32m      1\u001b[0m \u001b[0;32mfrom\u001b[0m \u001b[0mmmcv\u001b[0m \u001b[0;32mimport\u001b[0m \u001b[0mConfig\u001b[0m\u001b[0;34m\u001b[0m\u001b[0;34m\u001b[0m\u001b[0m\n\u001b[0;32m----> 2\u001b[0;31m \u001b[0;32mfrom\u001b[0m \u001b[0mmmdet\u001b[0m\u001b[0;34m.\u001b[0m\u001b[0mdatasets\u001b[0m \u001b[0;32mimport\u001b[0m \u001b[0mbuild_dataset\u001b[0m\u001b[0;34m\u001b[0m\u001b[0;34m\u001b[0m\u001b[0m\n\u001b[0m\u001b[1;32m      3\u001b[0m \u001b[0;32mfrom\u001b[0m \u001b[0mmmdet\u001b[0m\u001b[0;34m.\u001b[0m\u001b[0mmodels\u001b[0m \u001b[0;32mimport\u001b[0m \u001b[0mbuild_detector\u001b[0m\u001b[0;34m\u001b[0m\u001b[0;34m\u001b[0m\u001b[0m\n\u001b[1;32m      4\u001b[0m \u001b[0;32mfrom\u001b[0m \u001b[0mmmdet\u001b[0m\u001b[0;34m.\u001b[0m\u001b[0mapis\u001b[0m \u001b[0;32mimport\u001b[0m \u001b[0mtrain_detector\u001b[0m\u001b[0;34m\u001b[0m\u001b[0;34m\u001b[0m\u001b[0m\n\u001b[1;32m      5\u001b[0m from mmdet.datasets import (build_dataloader, build_dataset,\n",
      "\u001b[0;32m~/code/mmdetection_trash/mmdet/datasets/__init__.py\u001b[0m in \u001b[0;36m<module>\u001b[0;34m\u001b[0m\n\u001b[1;32m      1\u001b[0m \u001b[0;32mfrom\u001b[0m \u001b[0;34m.\u001b[0m\u001b[0mbuilder\u001b[0m \u001b[0;32mimport\u001b[0m \u001b[0mDATASETS\u001b[0m\u001b[0;34m,\u001b[0m \u001b[0mPIPELINES\u001b[0m\u001b[0;34m,\u001b[0m \u001b[0mbuild_dataloader\u001b[0m\u001b[0;34m,\u001b[0m \u001b[0mbuild_dataset\u001b[0m\u001b[0;34m\u001b[0m\u001b[0;34m\u001b[0m\u001b[0m\n\u001b[0;32m----> 2\u001b[0;31m \u001b[0;32mfrom\u001b[0m \u001b[0;34m.\u001b[0m\u001b[0mcityscapes\u001b[0m \u001b[0;32mimport\u001b[0m \u001b[0mCityscapesDataset\u001b[0m\u001b[0;34m\u001b[0m\u001b[0;34m\u001b[0m\u001b[0m\n\u001b[0m\u001b[1;32m      3\u001b[0m \u001b[0;32mfrom\u001b[0m \u001b[0;34m.\u001b[0m\u001b[0mcoco\u001b[0m \u001b[0;32mimport\u001b[0m \u001b[0mCocoDataset\u001b[0m\u001b[0;34m\u001b[0m\u001b[0;34m\u001b[0m\u001b[0m\n\u001b[1;32m      4\u001b[0m \u001b[0;32mfrom\u001b[0m \u001b[0;34m.\u001b[0m\u001b[0mcustom\u001b[0m \u001b[0;32mimport\u001b[0m \u001b[0mCustomDataset\u001b[0m\u001b[0;34m\u001b[0m\u001b[0;34m\u001b[0m\u001b[0m\n\u001b[1;32m      5\u001b[0m from .dataset_wrappers import (ClassBalancedDataset, ConcatDataset,\n",
      "\u001b[0;32m~/code/mmdetection_trash/mmdet/datasets/cityscapes.py\u001b[0m in \u001b[0;36m<module>\u001b[0;34m\u001b[0m\n\u001b[1;32m     10\u001b[0m \u001b[0;32mimport\u001b[0m \u001b[0mmmcv\u001b[0m\u001b[0;34m\u001b[0m\u001b[0;34m\u001b[0m\u001b[0m\n\u001b[1;32m     11\u001b[0m \u001b[0;32mimport\u001b[0m \u001b[0mnumpy\u001b[0m \u001b[0;32mas\u001b[0m \u001b[0mnp\u001b[0m\u001b[0;34m\u001b[0m\u001b[0;34m\u001b[0m\u001b[0m\n\u001b[0;32m---> 12\u001b[0;31m \u001b[0;32mimport\u001b[0m \u001b[0mpycocotools\u001b[0m\u001b[0;34m.\u001b[0m\u001b[0mmask\u001b[0m \u001b[0;32mas\u001b[0m \u001b[0mmaskUtils\u001b[0m\u001b[0;34m\u001b[0m\u001b[0;34m\u001b[0m\u001b[0m\n\u001b[0m\u001b[1;32m     13\u001b[0m \u001b[0;32mfrom\u001b[0m \u001b[0mmmcv\u001b[0m\u001b[0;34m.\u001b[0m\u001b[0mutils\u001b[0m \u001b[0;32mimport\u001b[0m \u001b[0mprint_log\u001b[0m\u001b[0;34m\u001b[0m\u001b[0;34m\u001b[0m\u001b[0m\n\u001b[1;32m     14\u001b[0m \u001b[0;34m\u001b[0m\u001b[0m\n",
      "\u001b[0;32m/opt/conda/lib/python3.7/site-packages/pycocotools/mask.py\u001b[0m in \u001b[0;36m<module>\u001b[0;34m\u001b[0m\n\u001b[1;32m      1\u001b[0m \u001b[0m__author__\u001b[0m \u001b[0;34m=\u001b[0m \u001b[0;34m'tsungyi'\u001b[0m\u001b[0;34m\u001b[0m\u001b[0;34m\u001b[0m\u001b[0m\n\u001b[1;32m      2\u001b[0m \u001b[0;34m\u001b[0m\u001b[0m\n\u001b[0;32m----> 3\u001b[0;31m \u001b[0;32mimport\u001b[0m \u001b[0mpycocotools\u001b[0m\u001b[0;34m.\u001b[0m\u001b[0m_mask\u001b[0m \u001b[0;32mas\u001b[0m \u001b[0m_mask\u001b[0m\u001b[0;34m\u001b[0m\u001b[0;34m\u001b[0m\u001b[0m\n\u001b[0m\u001b[1;32m      4\u001b[0m \u001b[0;34m\u001b[0m\u001b[0m\n\u001b[1;32m      5\u001b[0m \u001b[0;31m# Interface for manipulating masks stored in RLE format.\u001b[0m\u001b[0;34m\u001b[0m\u001b[0;34m\u001b[0m\u001b[0;34m\u001b[0m\u001b[0m\n",
      "\u001b[0;32mpycocotools/_mask.pyx\u001b[0m in \u001b[0;36minit pycocotools._mask\u001b[0;34m()\u001b[0m\n",
      "\u001b[0;31mValueError\u001b[0m: numpy.ufunc size changed, may indicate binary incompatibility. Expected 216 from C header, got 192 from PyObject"
     ]
    }
   ],
   "source": [
    "from mmcv import Config\n",
    "from mmdet.datasets import build_dataset\n",
    "from mmdet.models import build_detector\n",
    "from mmdet.apis import train_detector\n",
    "from mmdet.datasets import (build_dataloader, build_dataset,\n",
    "                            replace_ImageToTensor)"
   ]
  },
  {
   "cell_type": "code",
   "execution_count": 2,
   "metadata": {
    "pycharm": {
     "name": "#%%\n"
    }
   },
   "outputs": [],
   "source": [
    "classes = (\"UNKNOWN\", \"General trash\", \"Paper\", \"Paper pack\", \"Metal\", \"Glass\", \n",
    "           \"Plastic\", \"Styrofoam\", \"Plastic bag\", \"Battery\", \"Clothing\")\n",
    "# config file 들고오기\n",
    "cfg = Config.fromfile('./configs/scnet/scnet_r50_fpn_20e_coco.py')\n",
    "\n",
    "PREFIX = '../../input/data/'\n",
    "\n",
    "\n",
    "# dataset 바꾸기\n",
    "cfg.data.train.classes = classes\n",
    "cfg.data.train.img_prefix = PREFIX\n",
    "cfg.data.train.ann_file = PREFIX + 'train.json'\n",
    "cfg.data.train.pipeline[2]['img_scale'] = (512, 512)\n",
    "cfg.data.train.pipeline[1].with_seg = False\n",
    "\n",
    "cfg.data.val.classes = classes\n",
    "cfg.data.val.img_prefix = PREFIX\n",
    "cfg.data.val.ann_file = PREFIX + 'val.json'\n",
    "cfg.data.val.pipeline[1]['img_scale'] = (512, 512)\n",
    "\n",
    "cfg.data.test.classes = classes\n",
    "cfg.data.test.img_prefix = PREFIX\n",
    "cfg.data.test.ann_file = PREFIX + 'test.json'\n",
    "cfg.data.test.pipeline[1]['img_scale'] = (512, 512)\n",
    "\n",
    "cfg.data.samples_per_gpu = 4\n",
    "cfg.data.workers_per_gpu = 4\n",
    "cfg.seed=90\n",
    "cfg.gpu_ids = [0]\n",
    "cfg.work_dir = './work_dirs/scnet_r50_fpn_20e_coco'\n",
    "\n",
    "#cfg.model.roi_head.bbo.\n",
    "cfg.model.roi_head.bbox_head[0].num_classes = 11\n",
    "cfg.model.roi_head.bbox_head[1].num_classes = 11\n",
    "cfg.model.roi_head.bbox_head[2].num_classes = 11\n",
    "cfg.model.roi_head.mask_head.num_classes = 11\n",
    "cfg.model.roi_head.glbctx_head.num_classes = 11\n",
    "#cfg.model.roi_head.semantic_head.num_classes = 11\n",
    "#cfg.runner.max_epochs = 200\n",
    "#cfg.optimizer = dict(type='Adam', lr=1e-4, weight_decay=0.0001)\n",
    "cfg.optimizer_config.grad_clip = dict(max_norm=35, norm_type=2)\n",
    "cfg.evaluation.metric = ['bbox']\n",
    "cfg.checkpoint_config['max_keep_ckpts']=5\n",
    "cfg.evaluation.save_best = 'bbox_mAP_50'\n",
    "cfg.log_config.hooks = [dict(type='TextLoggerHook'), dict(type='WandbLoggerHook')]"
   ]
  },
  {
   "cell_type": "code",
   "execution_count": 3,
   "metadata": {},
   "outputs": [],
   "source": [
    "cfg.lr_config['policy'] = 'Step'"
   ]
  },
  {
   "cell_type": "code",
   "execution_count": 4,
   "metadata": {},
   "outputs": [
    {
     "name": "stdout",
     "output_type": "stream",
     "text": [
      "['bbox']\n"
     ]
    }
   ],
   "source": [
    "print(cfg.evaluation.metric)"
   ]
  },
  {
   "cell_type": "code",
   "execution_count": 5,
   "metadata": {},
   "outputs": [
    {
     "name": "stdout",
     "output_type": "stream",
     "text": [
      "type\n",
      "ann_file\n",
      "img_prefix\n",
      "pipeline\n",
      "classes\n"
     ]
    }
   ],
   "source": [
    "for key in cfg.data.val:\n",
    "    print(key)"
   ]
  },
  {
   "cell_type": "code",
   "execution_count": 6,
   "metadata": {},
   "outputs": [
    {
     "name": "stdout",
     "output_type": "stream",
     "text": [
      "{'type': 'CocoDataset', 'ann_file': '../../input/data/val.json', 'img_prefix': '../../input/data/', 'pipeline': [{'type': 'LoadImageFromFile'}, {'type': 'MultiScaleFlipAug', 'img_scale': (512, 512), 'flip': False, 'transforms': [{'type': 'Resize', 'keep_ratio': True}, {'type': 'RandomFlip', 'flip_ratio': 0.5}, {'type': 'Normalize', 'mean': [123.675, 116.28, 103.53], 'std': [58.395, 57.12, 57.375], 'to_rgb': True}, {'type': 'Pad', 'size_divisor': 32}, {'type': 'ImageToTensor', 'keys': ['img']}, {'type': 'Collect', 'keys': ['img']}]}], 'classes': ('UNKNOWN', 'General trash', 'Paper', 'Paper pack', 'Metal', 'Glass', 'Plastic', 'Styrofoam', 'Plastic bag', 'Battery', 'Clothing')}\n"
     ]
    }
   ],
   "source": [
    "print(cfg.data.val)"
   ]
  },
  {
   "cell_type": "code",
   "execution_count": 7,
   "metadata": {},
   "outputs": [
    {
     "name": "stdout",
     "output_type": "stream",
     "text": [
      "None\n"
     ]
    }
   ],
   "source": [
    "print(cfg.data.train.pipeline[8]['keys'].remove('gt_semantic_seg'))"
   ]
  },
  {
   "cell_type": "code",
   "execution_count": 8,
   "metadata": {
    "pycharm": {
     "name": "#%%\n"
    }
   },
   "outputs": [
    {
     "name": "stderr",
     "output_type": "stream",
     "text": [
      "2021-05-13 00:43:37,148 - mmdet - INFO - load model from: torchvision://resnet50\n",
      "2021-05-13 00:43:37,149 - mmdet - INFO - Use load_from_torchvision loader\n",
      "2021-05-13 00:43:37,406 - mmdet - WARNING - The model and loaded state dict do not match exactly\n",
      "\n",
      "unexpected key in source state_dict: fc.weight, fc.bias\n",
      "\n"
     ]
    }
   ],
   "source": [
    "model = build_detector(cfg.model)"
   ]
  },
  {
   "cell_type": "code",
   "execution_count": 9,
   "metadata": {
    "pycharm": {
     "name": "#%%\n"
    }
   },
   "outputs": [
    {
     "name": "stdout",
     "output_type": "stream",
     "text": [
      "loading annotations into memory...\n",
      "Done (t=3.52s)\n",
      "creating index...\n",
      "index created!\n"
     ]
    }
   ],
   "source": [
    "datasets = [build_dataset(cfg.data.train)]"
   ]
  },
  {
   "cell_type": "code",
   "execution_count": 10,
   "metadata": {
    "pycharm": {
     "name": "#%%\n"
    }
   },
   "outputs": [
    {
     "name": "stdout",
     "output_type": "stream",
     "text": [
      "loading annotations into memory...\n"
     ]
    },
    {
     "name": "stderr",
     "output_type": "stream",
     "text": [
      "2021-05-13 00:43:46,362 - mmdet - INFO - Start running, host: root@bc720df3e041, work_dir: /opt/ml/code/mmdetection_trash/work_dirs/scnet_r50_fpn_20e_coco\n",
      "2021-05-13 00:43:46,363 - mmdet - INFO - workflow: [('train', 1)], max: 20 epochs\n"
     ]
    },
    {
     "name": "stdout",
     "output_type": "stream",
     "text": [
      "Done (t=0.87s)\n",
      "creating index...\n",
      "index created!\n"
     ]
    },
    {
     "name": "stderr",
     "output_type": "stream",
     "text": [
      "/opt/ml/code/mmdetection_trash/mmdet/core/evaluation/eval_hooks.py:111: UserWarning: runner.meta is None. Creating a empty one.\n",
      "  warnings.warn('runner.meta is None. Creating a empty one.')\n",
      "\u001b[34m\u001b[1mwandb\u001b[0m: Currently logged in as: \u001b[33mk1smet14\u001b[0m (use `wandb login --relogin` to force relogin)\n"
     ]
    },
    {
     "data": {
      "text/html": [
       "\n",
       "                Tracking run with wandb version 0.10.30<br/>\n",
       "                Syncing run <strong style=\"color:#cdcd00\">wobbly-cosmos-3</strong> to <a href=\"https://wandb.ai\" target=\"_blank\">Weights & Biases</a> <a href=\"https://docs.wandb.com/integrations/jupyter.html\" target=\"_blank\">(Documentation)</a>.<br/>\n",
       "                Project page: <a href=\"https://wandb.ai/k1smet14/mmdetection_trash\" target=\"_blank\">https://wandb.ai/k1smet14/mmdetection_trash</a><br/>\n",
       "                Run page: <a href=\"https://wandb.ai/k1smet14/mmdetection_trash/runs/21gd5d2p\" target=\"_blank\">https://wandb.ai/k1smet14/mmdetection_trash/runs/21gd5d2p</a><br/>\n",
       "                Run data is saved locally in <code>/opt/ml/code/mmdetection_trash/wandb/run-20210513_004346-21gd5d2p</code><br/><br/>\n",
       "            "
      ],
      "text/plain": [
       "<IPython.core.display.HTML object>"
      ]
     },
     "metadata": {},
     "output_type": "display_data"
    },
    {
     "name": "stderr",
     "output_type": "stream",
     "text": [
      "2021-05-13 00:44:26,027 - mmdet - INFO - Epoch [1][50/655]\tlr: 1.978e-03, eta: 2:33:28, time: 0.706, data_time: 0.073, memory: 3108, loss_rpn_cls: 0.6329, loss_rpn_bbox: 0.0657, loss_glbctx: 1.7652, s0.loss_cls: 0.8259, s0.acc: 87.5693, s0.loss_bbox: 0.1441, s1.loss_cls: 0.4300, s1.acc: 81.5039, s1.loss_bbox: 0.0420, s2.loss_cls: 0.2354, s2.acc: 80.9102, s2.loss_bbox: 0.0057, loss_mask: 1.9647, loss: 6.1116, grad_norm: 27.0128\n",
      "2021-05-13 00:45:00,210 - mmdet - INFO - Epoch [1][100/655]\tlr: 3.976e-03, eta: 2:30:30, time: 0.684, data_time: 0.022, memory: 3261, loss_rpn_cls: 0.2833, loss_rpn_bbox: 0.0648, loss_glbctx: 1.2538, s0.loss_cls: 0.4601, s0.acc: 90.2764, s0.loss_bbox: 0.2266, s1.loss_cls: 0.1299, s1.acc: 95.6807, s1.loss_bbox: 0.0655, s2.loss_cls: 0.0414, s2.acc: 97.7139, s2.loss_bbox: 0.0090, loss_mask: 1.2769, loss: 3.8111, grad_norm: 11.6381\n",
      "2021-05-13 00:47:14,848 - mmdet - INFO - Epoch [1][300/655]\tlr: 1.197e-02, eta: 2:25:08, time: 0.676, data_time: 0.023, memory: 3261, loss_rpn_cls: 0.2138, loss_rpn_bbox: 0.0623, loss_glbctx: 1.1985, s0.loss_cls: 0.4977, s0.acc: 88.4082, s0.loss_bbox: 0.2660, s1.loss_cls: 0.1450, s1.acc: 94.3164, s1.loss_bbox: 0.0923, s2.loss_cls: 0.0431, s2.acc: 97.1914, s2.loss_bbox: 0.0143, loss_mask: 0.9574, loss: 3.4904, grad_norm: 4.1342\n",
      "2021-05-13 00:47:48,803 - mmdet - INFO - Epoch [1][350/655]\tlr: 1.397e-02, eta: 2:24:32, time: 0.679, data_time: 0.020, memory: 3461, loss_rpn_cls: 0.1625, loss_rpn_bbox: 0.0570, loss_glbctx: 1.1922, s0.loss_cls: 0.4655, s0.acc: 89.0146, s0.loss_bbox: 0.2322, s1.loss_cls: 0.1656, s1.acc: 92.8955, s1.loss_bbox: 0.1225, s2.loss_cls: 0.0525, s2.acc: 96.5684, s2.loss_bbox: 0.0232, loss_mask: 0.8399, loss: 3.3130, grad_norm: 4.2220\n",
      "2021-05-13 00:48:24,701 - mmdet - INFO - Epoch [1][400/655]\tlr: 1.596e-02, eta: 2:24:58, time: 0.718, data_time: 0.020, memory: 3697, loss_rpn_cls: 0.1634, loss_rpn_bbox: 0.0582, loss_glbctx: 1.2354, s0.loss_cls: 0.4848, s0.acc: 88.1436, s0.loss_bbox: 0.2423, s1.loss_cls: 0.1928, s1.acc: 90.8809, s1.loss_bbox: 0.1556, s2.loss_cls: 0.0661, s2.acc: 95.0732, s2.loss_bbox: 0.0380, loss_mask: 0.7630, loss: 3.3997, grad_norm: 4.4040\n",
      "2021-05-13 00:49:00,898 - mmdet - INFO - Epoch [1][450/655]\tlr: 1.796e-02, eta: 2:25:18, time: 0.724, data_time: 0.022, memory: 3739, loss_rpn_cls: 0.1410, loss_rpn_bbox: 0.0547, loss_glbctx: 1.1790, s0.loss_cls: 0.4447, s0.acc: 89.0586, s0.loss_bbox: 0.2156, s1.loss_cls: 0.1807, s1.acc: 91.3629, s1.loss_bbox: 0.1435, s2.loss_cls: 0.0645, s2.acc: 94.8027, s2.loss_bbox: 0.0410, loss_mask: 0.7074, loss: 3.1723, grad_norm: 3.6695\n",
      "2021-05-13 00:49:38,635 - mmdet - INFO - Epoch [1][500/655]\tlr: 1.996e-02, eta: 2:26:06, time: 0.755, data_time: 0.022, memory: 3855, loss_rpn_cls: 0.1749, loss_rpn_bbox: 0.0661, loss_glbctx: 1.1840, s0.loss_cls: 0.4586, s0.acc: 88.4014, s0.loss_bbox: 0.2205, s1.loss_cls: 0.1952, s1.acc: 90.3066, s1.loss_bbox: 0.1603, s2.loss_cls: 0.0752, s2.acc: 93.2285, s2.loss_bbox: 0.0562, loss_mask: 0.5995, loss: 3.1904, grad_norm: 3.5277\n",
      "2021-05-13 00:50:17,104 - mmdet - INFO - Epoch [1][550/655]\tlr: 2.000e-02, eta: 2:26:55, time: 0.769, data_time: 0.023, memory: 4093, loss_rpn_cls: 0.1399, loss_rpn_bbox: 0.0611, loss_glbctx: 1.2090, s0.loss_cls: 0.4614, s0.acc: 88.2783, s0.loss_bbox: 0.2283, s1.loss_cls: 0.1976, s1.acc: 90.0449, s1.loss_bbox: 0.1603, s2.loss_cls: 0.0793, s2.acc: 92.6338, s2.loss_bbox: 0.0638, loss_mask: 0.5827, loss: 3.1835, grad_norm: 3.6969\n",
      "2021-05-13 00:50:55,840 - mmdet - INFO - Epoch [1][600/655]\tlr: 2.000e-02, eta: 2:27:36, time: 0.775, data_time: 0.022, memory: 4366, loss_rpn_cls: 0.1382, loss_rpn_bbox: 0.0604, loss_glbctx: 1.2039, s0.loss_cls: 0.4512, s0.acc: 88.3076, s0.loss_bbox: 0.2199, s1.loss_cls: 0.1931, s1.acc: 90.1176, s1.loss_bbox: 0.1562, s2.loss_cls: 0.0776, s2.acc: 92.6694, s2.loss_bbox: 0.0620, loss_mask: 0.6020, loss: 3.1647, grad_norm: 3.7573\n",
      "2021-05-13 00:51:35,875 - mmdet - INFO - Epoch [1][650/655]\tlr: 2.000e-02, eta: 2:28:28, time: 0.801, data_time: 0.023, memory: 4366, loss_rpn_cls: 0.1326, loss_rpn_bbox: 0.0567, loss_glbctx: 1.1626, s0.loss_cls: 0.4392, s0.acc: 88.5586, s0.loss_bbox: 0.2093, s1.loss_cls: 0.1924, s1.acc: 89.8857, s1.loss_bbox: 0.1579, s2.loss_cls: 0.0809, s2.acc: 91.9254, s2.loss_bbox: 0.0715, loss_mask: 0.5194, loss: 3.0226, grad_norm: 3.5722\n",
      "2021-05-13 00:51:39,691 - mmdet - INFO - Saving checkpoint at 1 epochs\n"
     ]
    },
    {
     "name": "stdout",
     "output_type": "stream",
     "text": [
      "[>>>>>>>>>>>>>>>>>>>>>>>>>>>>>] 655/655, 4.4 task/s, elapsed: 149s, ETA:     0s"
     ]
    },
    {
     "name": "stderr",
     "output_type": "stream",
     "text": [
      "2021-05-13 00:54:18,980 - mmdet - INFO - Evaluating bbox...\n"
     ]
    },
    {
     "name": "stdout",
     "output_type": "stream",
     "text": [
      "Loading and preparing results...\n",
      "DONE (t=0.93s)\n",
      "creating index...\n",
      "index created!\n",
      "Running per image evaluation...\n",
      "Evaluate annotation type *bbox*\n",
      "DONE (t=6.86s).\n",
      "Accumulating evaluation results...\n"
     ]
    },
    {
     "name": "stderr",
     "output_type": "stream",
     "text": [
      "2021-05-13 00:54:29,057 - mmdet - INFO - Now best checkpoint is epoch_1.pth.Best bbox_mAP_50 is 0.0780\n",
      "2021-05-13 00:54:29,115 - mmdet - INFO - Epoch(val) [1][655]\tbbox_mAP: 0.0370, bbox_mAP_50: 0.0780, bbox_mAP_75: 0.0310, bbox_mAP_s: 0.0060, bbox_mAP_m: 0.0390, bbox_mAP_l: 0.0780, bbox_mAP_copypaste: 0.037 0.078 0.031 0.006 0.039 0.078\n"
     ]
    },
    {
     "name": "stdout",
     "output_type": "stream",
     "text": [
      "DONE (t=2.11s).\n",
      "Average Precision  (AP) @[ IoU=0.50:0.95 | area=   all | maxDets=100 ] = 0.037\n",
      "Average Precision  (AP) @[ IoU=0.50      | area=   all | maxDets=1000 ] = 0.078\n",
      "Average Precision  (AP) @[ IoU=0.75      | area=   all | maxDets=1000 ] = 0.031\n",
      "Average Precision  (AP) @[ IoU=0.50:0.95 | area= small | maxDets=1000 ] = 0.006\n",
      "Average Precision  (AP) @[ IoU=0.50:0.95 | area=medium | maxDets=1000 ] = 0.039\n",
      "Average Precision  (AP) @[ IoU=0.50:0.95 | area= large | maxDets=1000 ] = 0.078\n",
      "Average Recall     (AR) @[ IoU=0.50:0.95 | area=   all | maxDets=100 ] = 0.139\n",
      "Average Recall     (AR) @[ IoU=0.50:0.95 | area=   all | maxDets=300 ] = 0.139\n",
      "Average Recall     (AR) @[ IoU=0.50:0.95 | area=   all | maxDets=1000 ] = 0.139\n",
      "Average Recall     (AR) @[ IoU=0.50:0.95 | area= small | maxDets=1000 ] = 0.030\n",
      "Average Recall     (AR) @[ IoU=0.50:0.95 | area=medium | maxDets=1000 ] = 0.119\n",
      "Average Recall     (AR) @[ IoU=0.50:0.95 | area= large | maxDets=1000 ] = 0.293\n"
     ]
    },
    {
     "name": "stderr",
     "output_type": "stream",
     "text": [
      "2021-05-13 00:55:12,450 - mmdet - INFO - Epoch [2][50/655]\tlr: 2.000e-02, eta: 2:28:59, time: 0.866, data_time: 0.076, memory: 4577, loss_rpn_cls: 0.1413, loss_rpn_bbox: 0.0572, loss_glbctx: 1.1514, s0.loss_cls: 0.4623, s0.acc: 87.6387, s0.loss_bbox: 0.2275, s1.loss_cls: 0.2019, s1.acc: 89.1728, s1.loss_bbox: 0.1729, s2.loss_cls: 0.0828, s2.acc: 91.3780, s2.loss_bbox: 0.0782, loss_mask: 0.5433, loss: 3.1187, grad_norm: 3.6432\n",
      "2021-05-13 00:55:52,340 - mmdet - INFO - Epoch [2][100/655]\tlr: 2.000e-02, eta: 2:29:25, time: 0.798, data_time: 0.021, memory: 4577, loss_rpn_cls: 0.1326, loss_rpn_bbox: 0.0541, loss_glbctx: 1.1798, s0.loss_cls: 0.4549, s0.acc: 88.0215, s0.loss_bbox: 0.2095, s1.loss_cls: 0.2030, s1.acc: 89.2429, s1.loss_bbox: 0.1647, s2.loss_cls: 0.0843, s2.acc: 91.4261, s2.loss_bbox: 0.0727, loss_mask: 0.5617, loss: 3.1173, grad_norm: 3.2891\n",
      "2021-05-13 00:56:32,754 - mmdet - INFO - Epoch [2][150/655]\tlr: 2.000e-02, eta: 2:29:52, time: 0.808, data_time: 0.023, memory: 4577, loss_rpn_cls: 0.1151, loss_rpn_bbox: 0.0500, loss_glbctx: 1.1547, s0.loss_cls: 0.4282, s0.acc: 88.6055, s0.loss_bbox: 0.1988, s1.loss_cls: 0.1938, s1.acc: 89.5989, s1.loss_bbox: 0.1549, s2.loss_cls: 0.0832, s2.acc: 91.4494, s2.loss_bbox: 0.0725, loss_mask: 0.5058, loss: 2.9571, grad_norm: 3.3466\n",
      "2021-05-13 00:57:13,481 - mmdet - INFO - Epoch [2][200/655]\tlr: 2.000e-02, eta: 2:30:15, time: 0.815, data_time: 0.022, memory: 4577, loss_rpn_cls: 0.1138, loss_rpn_bbox: 0.0565, loss_glbctx: 1.1706, s0.loss_cls: 0.4104, s0.acc: 89.1855, s0.loss_bbox: 0.1983, s1.loss_cls: 0.1847, s1.acc: 90.1841, s1.loss_bbox: 0.1620, s2.loss_cls: 0.0793, s2.acc: 91.6571, s2.loss_bbox: 0.0762, loss_mask: 0.4866, loss: 2.9386, grad_norm: 3.1126\n",
      "2021-05-13 00:57:53,975 - mmdet - INFO - Epoch [2][250/655]\tlr: 2.000e-02, eta: 2:30:27, time: 0.810, data_time: 0.021, memory: 4577, loss_rpn_cls: 0.1124, loss_rpn_bbox: 0.0469, loss_glbctx: 1.1897, s0.loss_cls: 0.4213, s0.acc: 89.0332, s0.loss_bbox: 0.1949, s1.loss_cls: 0.1891, s1.acc: 89.8253, s1.loss_bbox: 0.1563, s2.loss_cls: 0.0793, s2.acc: 91.7687, s2.loss_bbox: 0.0731, loss_mask: 0.4915, loss: 2.9544, grad_norm: 3.2223\n",
      "2021-05-13 00:58:34,209 - mmdet - INFO - Epoch [2][300/655]\tlr: 2.000e-02, eta: 2:30:31, time: 0.805, data_time: 0.020, memory: 4577, loss_rpn_cls: 0.1034, loss_rpn_bbox: 0.0478, loss_glbctx: 1.1279, s0.loss_cls: 0.3836, s0.acc: 89.7168, s0.loss_bbox: 0.1807, s1.loss_cls: 0.1726, s1.acc: 90.5516, s1.loss_bbox: 0.1452, s2.loss_cls: 0.0757, s2.acc: 91.8239, s2.loss_bbox: 0.0700, loss_mask: 0.4705, loss: 2.7774, grad_norm: 3.3797\n",
      "2021-05-13 00:59:14,474 - mmdet - INFO - Epoch [2][350/655]\tlr: 2.000e-02, eta: 2:30:31, time: 0.805, data_time: 0.021, memory: 4577, loss_rpn_cls: 0.1174, loss_rpn_bbox: 0.0546, loss_glbctx: 1.1183, s0.loss_cls: 0.3851, s0.acc: 89.4922, s0.loss_bbox: 0.1821, s1.loss_cls: 0.1741, s1.acc: 90.3336, s1.loss_bbox: 0.1455, s2.loss_cls: 0.0771, s2.acc: 91.5244, s2.loss_bbox: 0.0684, loss_mask: 0.4887, loss: 2.8113, grad_norm: 3.4250\n",
      "2021-05-13 00:59:55,446 - mmdet - INFO - Epoch [2][400/655]\tlr: 2.000e-02, eta: 2:30:35, time: 0.819, data_time: 0.023, memory: 4577, loss_rpn_cls: 0.1253, loss_rpn_bbox: 0.0564, loss_glbctx: 1.1627, s0.loss_cls: 0.4437, s0.acc: 87.7324, s0.loss_bbox: 0.2097, s1.loss_cls: 0.2015, s1.acc: 88.7916, s1.loss_bbox: 0.1684, s2.loss_cls: 0.0846, s2.acc: 90.9688, s2.loss_bbox: 0.0757, loss_mask: 0.5000, loss: 3.0281, grad_norm: 3.1997\n",
      "2021-05-13 01:00:35,755 - mmdet - INFO - Epoch [2][450/655]\tlr: 2.000e-02, eta: 2:30:28, time: 0.806, data_time: 0.022, memory: 4577, loss_rpn_cls: 0.1138, loss_rpn_bbox: 0.0526, loss_glbctx: 1.1288, s0.loss_cls: 0.4031, s0.acc: 89.0605, s0.loss_bbox: 0.1831, s1.loss_cls: 0.1823, s1.acc: 89.9479, s1.loss_bbox: 0.1498, s2.loss_cls: 0.0791, s2.acc: 91.4278, s2.loss_bbox: 0.0739, loss_mask: 0.4750, loss: 2.8415, grad_norm: 3.1189\n",
      "2021-05-13 01:01:16,218 - mmdet - INFO - Epoch [2][500/655]\tlr: 2.000e-02, eta: 2:30:20, time: 0.809, data_time: 0.020, memory: 4577, loss_rpn_cls: 0.1218, loss_rpn_bbox: 0.0558, loss_glbctx: 1.1462, s0.loss_cls: 0.3864, s0.acc: 89.6748, s0.loss_bbox: 0.1766, s1.loss_cls: 0.1765, s1.acc: 90.5126, s1.loss_bbox: 0.1387, s2.loss_cls: 0.0770, s2.acc: 91.6411, s2.loss_bbox: 0.0676, loss_mask: 0.4783, loss: 2.8249, grad_norm: 3.3413\n",
      "2021-05-13 01:01:58,844 - mmdet - INFO - Epoch [2][550/655]\tlr: 2.000e-02, eta: 2:30:30, time: 0.853, data_time: 0.022, memory: 4577, loss_rpn_cls: 0.1304, loss_rpn_bbox: 0.0561, loss_glbctx: 1.1055, s0.loss_cls: 0.4267, s0.acc: 88.1123, s0.loss_bbox: 0.1983, s1.loss_cls: 0.1963, s1.acc: 88.9420, s1.loss_bbox: 0.1646, s2.loss_cls: 0.0870, s2.acc: 90.1894, s2.loss_bbox: 0.0809, loss_mask: 0.4891, loss: 2.9348, grad_norm: 3.4119\n",
      "2021-05-13 01:02:40,901 - mmdet - INFO - Epoch [2][600/655]\tlr: 2.000e-02, eta: 2:30:31, time: 0.841, data_time: 0.021, memory: 4577, loss_rpn_cls: 0.1108, loss_rpn_bbox: 0.0522, loss_glbctx: 1.1744, s0.loss_cls: 0.4231, s0.acc: 88.5088, s0.loss_bbox: 0.1966, s1.loss_cls: 0.1918, s1.acc: 89.5378, s1.loss_bbox: 0.1607, s2.loss_cls: 0.0828, s2.acc: 91.0656, s2.loss_bbox: 0.0774, loss_mask: 0.4975, loss: 2.9674, grad_norm: 3.0386\n",
      "2021-05-13 01:03:22,317 - mmdet - INFO - Epoch [2][650/655]\tlr: 2.000e-02, eta: 2:30:23, time: 0.828, data_time: 0.022, memory: 4577, loss_rpn_cls: 0.1261, loss_rpn_bbox: 0.0576, loss_glbctx: 1.1096, s0.loss_cls: 0.4015, s0.acc: 88.9785, s0.loss_bbox: 0.1776, s1.loss_cls: 0.1860, s1.acc: 89.6994, s1.loss_bbox: 0.1490, s2.loss_cls: 0.0826, s2.acc: 91.1130, s2.loss_bbox: 0.0722, loss_mask: 0.4821, loss: 2.8442, grad_norm: 3.4339\n",
      "2021-05-13 01:03:26,402 - mmdet - INFO - Saving checkpoint at 2 epochs\n"
     ]
    },
    {
     "name": "stdout",
     "output_type": "stream",
     "text": [
      "[>>>>>>>>>>>>>                 ] 300/655, 4.3 task/s, elapsed: 70s, ETA:    83sDONE (t=7.75s).\n",
      "Accumulating evaluation results...\n"
     ]
    },
    {
     "name": "stderr",
     "output_type": "stream",
     "text": [
      "2021-05-13 01:06:18,618 - mmdet - INFO - Now best checkpoint is epoch_2.pth.Best bbox_mAP_50 is 0.1140\n",
      "2021-05-13 01:06:18,662 - mmdet - INFO - Epoch(val) [2][655]\tbbox_mAP: 0.0620, bbox_mAP_50: 0.1140, bbox_mAP_75: 0.0610, bbox_mAP_s: 0.0140, bbox_mAP_m: 0.0630, bbox_mAP_l: 0.1210, bbox_mAP_copypaste: 0.062 0.114 0.061 0.014 0.063 0.121\n"
     ]
    },
    {
     "name": "stdout",
     "output_type": "stream",
     "text": [
      "DONE (t=1.85s).\n",
      "Average Precision  (AP) @[ IoU=0.50:0.95 | area=   all | maxDets=100 ] = 0.062\n",
      "Average Precision  (AP) @[ IoU=0.50      | area=   all | maxDets=1000 ] = 0.114\n",
      "Average Precision  (AP) @[ IoU=0.75      | area=   all | maxDets=1000 ] = 0.061\n",
      "Average Precision  (AP) @[ IoU=0.50:0.95 | area= small | maxDets=1000 ] = 0.014\n",
      "Average Precision  (AP) @[ IoU=0.50:0.95 | area=medium | maxDets=1000 ] = 0.063\n",
      "Average Precision  (AP) @[ IoU=0.50:0.95 | area= large | maxDets=1000 ] = 0.121\n",
      "Average Recall     (AR) @[ IoU=0.50:0.95 | area=   all | maxDets=100 ] = 0.187\n",
      "Average Recall     (AR) @[ IoU=0.50:0.95 | area=   all | maxDets=300 ] = 0.187\n",
      "Average Recall     (AR) @[ IoU=0.50:0.95 | area=   all | maxDets=1000 ] = 0.187\n",
      "Average Recall     (AR) @[ IoU=0.50:0.95 | area= small | maxDets=1000 ] = 0.062\n",
      "Average Recall     (AR) @[ IoU=0.50:0.95 | area=medium | maxDets=1000 ] = 0.165\n",
      "Average Recall     (AR) @[ IoU=0.50:0.95 | area= large | maxDets=1000 ] = 0.350\n"
     ]
    },
    {
     "name": "stderr",
     "output_type": "stream",
     "text": [
      "2021-05-13 01:07:02,523 - mmdet - INFO - Epoch [3][50/655]\tlr: 2.000e-02, eta: 2:29:56, time: 0.877, data_time: 0.073, memory: 4736, loss_rpn_cls: 0.1014, loss_rpn_bbox: 0.0485, loss_glbctx: 1.0655, s0.loss_cls: 0.3827, s0.acc: 89.4131, s0.loss_bbox: 0.1771, s1.loss_cls: 0.1754, s1.acc: 90.1336, s1.loss_bbox: 0.1461, s2.loss_cls: 0.0759, s2.acc: 91.6803, s2.loss_bbox: 0.0711, loss_mask: 0.4572, loss: 2.7009, grad_norm: 3.3525\n",
      "2021-05-13 01:07:44,845 - mmdet - INFO - Epoch [3][100/655]\tlr: 2.000e-02, eta: 2:29:51, time: 0.846, data_time: 0.023, memory: 4736, loss_rpn_cls: 0.1101, loss_rpn_bbox: 0.0513, loss_glbctx: 1.1056, s0.loss_cls: 0.3823, s0.acc: 89.3262, s0.loss_bbox: 0.1718, s1.loss_cls: 0.1773, s1.acc: 89.9371, s1.loss_bbox: 0.1433, s2.loss_cls: 0.0797, s2.acc: 90.9179, s2.loss_bbox: 0.0738, loss_mask: 0.4329, loss: 2.7280, grad_norm: 3.4120\n",
      "2021-05-13 01:08:27,200 - mmdet - INFO - Epoch [3][150/655]\tlr: 2.000e-02, eta: 2:29:43, time: 0.847, data_time: 0.024, memory: 4788, loss_rpn_cls: 0.0995, loss_rpn_bbox: 0.0536, loss_glbctx: 1.1810, s0.loss_cls: 0.4162, s0.acc: 88.3945, s0.loss_bbox: 0.1937, s1.loss_cls: 0.1903, s1.acc: 89.1915, s1.loss_bbox: 0.1602, s2.loss_cls: 0.0836, s2.acc: 90.5816, s2.loss_bbox: 0.0800, loss_mask: 0.4760, loss: 2.9342, grad_norm: 3.4204\n",
      "2021-05-13 01:09:09,284 - mmdet - INFO - Epoch [3][200/655]\tlr: 2.000e-02, eta: 2:29:31, time: 0.842, data_time: 0.021, memory: 4788, loss_rpn_cls: 0.0928, loss_rpn_bbox: 0.0514, loss_glbctx: 1.0934, s0.loss_cls: 0.3948, s0.acc: 89.0752, s0.loss_bbox: 0.1754, s1.loss_cls: 0.1825, s1.acc: 89.7377, s1.loss_bbox: 0.1493, s2.loss_cls: 0.0823, s2.acc: 90.7659, s2.loss_bbox: 0.0757, loss_mask: 0.4700, loss: 2.7676, grad_norm: 3.4203\n",
      "2021-05-13 01:09:52,282 - mmdet - INFO - Epoch [3][250/655]\tlr: 2.000e-02, eta: 2:29:25, time: 0.860, data_time: 0.022, memory: 4788, loss_rpn_cls: 0.1049, loss_rpn_bbox: 0.0474, loss_glbctx: 1.1271, s0.loss_cls: 0.3777, s0.acc: 89.4209, s0.loss_bbox: 0.1796, s1.loss_cls: 0.1760, s1.acc: 90.0555, s1.loss_bbox: 0.1508, s2.loss_cls: 0.0794, s2.acc: 91.0677, s2.loss_bbox: 0.0786, loss_mask: 0.4793, loss: 2.8009, grad_norm: 3.6457\n",
      "2021-05-13 01:10:35,196 - mmdet - INFO - Epoch [3][300/655]\tlr: 2.000e-02, eta: 2:29:15, time: 0.858, data_time: 0.022, memory: 4788, loss_rpn_cls: 0.1064, loss_rpn_bbox: 0.0475, loss_glbctx: 1.0794, s0.loss_cls: 0.3903, s0.acc: 89.1973, s0.loss_bbox: 0.1775, s1.loss_cls: 0.1794, s1.acc: 90.0767, s1.loss_bbox: 0.1476, s2.loss_cls: 0.0800, s2.acc: 91.1342, s2.loss_bbox: 0.0774, loss_mask: 0.4383, loss: 2.7237, grad_norm: 3.3123\n",
      "2021-05-13 01:11:18,024 - mmdet - INFO - Epoch [3][350/655]\tlr: 2.000e-02, eta: 2:29:02, time: 0.857, data_time: 0.024, memory: 4788, loss_rpn_cls: 0.0956, loss_rpn_bbox: 0.0497, loss_glbctx: 1.1595, s0.loss_cls: 0.4014, s0.acc: 88.7148, s0.loss_bbox: 0.1842, s1.loss_cls: 0.1899, s1.acc: 89.1462, s1.loss_bbox: 0.1519, s2.loss_cls: 0.0878, s2.acc: 90.0010, s2.loss_bbox: 0.0777, loss_mask: 0.4246, loss: 2.8223, grad_norm: 3.4809\n",
      "2021-05-13 01:11:59,476 - mmdet - INFO - Epoch [3][400/655]\tlr: 2.000e-02, eta: 2:28:39, time: 0.829, data_time: 0.022, memory: 4788, loss_rpn_cls: 0.1087, loss_rpn_bbox: 0.0527, loss_glbctx: 1.1009, s0.loss_cls: 0.4020, s0.acc: 88.7559, s0.loss_bbox: 0.1950, s1.loss_cls: 0.1810, s1.acc: 89.9088, s1.loss_bbox: 0.1522, s2.loss_cls: 0.0790, s2.acc: 91.2988, s2.loss_bbox: 0.0720, loss_mask: 0.4732, loss: 2.8166, grad_norm: 3.6617\n",
      "2021-05-13 01:12:42,881 - mmdet - INFO - Epoch [3][450/655]\tlr: 2.000e-02, eta: 2:28:27, time: 0.868, data_time: 0.026, memory: 4830, loss_rpn_cls: 0.1165, loss_rpn_bbox: 0.0557, loss_glbctx: 1.1513, s0.loss_cls: 0.4197, s0.acc: 88.5684, s0.loss_bbox: 0.1873, s1.loss_cls: 0.1932, s1.acc: 89.4800, s1.loss_bbox: 0.1564, s2.loss_cls: 0.0865, s2.acc: 90.7270, s2.loss_bbox: 0.0780, loss_mask: 0.4457, loss: 2.8902, grad_norm: 3.7741\n",
      "2021-05-13 01:13:24,739 - mmdet - INFO - Epoch [3][500/655]\tlr: 2.000e-02, eta: 2:28:04, time: 0.837, data_time: 0.021, memory: 4830, loss_rpn_cls: 0.1079, loss_rpn_bbox: 0.0480, loss_glbctx: 1.0531, s0.loss_cls: 0.3403, s0.acc: 90.1533, s0.loss_bbox: 0.1611, s1.loss_cls: 0.1589, s1.acc: 90.7312, s1.loss_bbox: 0.1356, s2.loss_cls: 0.0720, s2.acc: 91.5400, s2.loss_bbox: 0.0735, loss_mask: 0.4192, loss: 2.5697, grad_norm: 3.5329\n",
      "2021-05-13 01:14:08,258 - mmdet - INFO - Epoch [3][550/655]\tlr: 2.000e-02, eta: 2:27:50, time: 0.870, data_time: 0.024, memory: 4830, loss_rpn_cls: 0.1061, loss_rpn_bbox: 0.0506, loss_glbctx: 1.1287, s0.loss_cls: 0.4135, s0.acc: 88.4951, s0.loss_bbox: 0.1847, s1.loss_cls: 0.1964, s1.acc: 88.9944, s1.loss_bbox: 0.1534, s2.loss_cls: 0.0888, s2.acc: 90.1268, s2.loss_bbox: 0.0798, loss_mask: 0.4607, loss: 2.8627, grad_norm: 3.5709\n",
      "2021-05-13 01:14:50,018 - mmdet - INFO - Epoch [3][600/655]\tlr: 2.000e-02, eta: 2:27:24, time: 0.835, data_time: 0.020, memory: 4830, loss_rpn_cls: 0.0939, loss_rpn_bbox: 0.0546, loss_glbctx: 0.9975, s0.loss_cls: 0.3500, s0.acc: 90.1162, s0.loss_bbox: 0.1589, s1.loss_cls: 0.1612, s1.acc: 90.8048, s1.loss_bbox: 0.1341, s2.loss_cls: 0.0735, s2.acc: 91.5936, s2.loss_bbox: 0.0705, loss_mask: 0.4253, loss: 2.5194, grad_norm: 3.2846\n",
      "2021-05-13 01:15:31,984 - mmdet - INFO - Epoch [3][650/655]\tlr: 2.000e-02, eta: 2:26:58, time: 0.839, data_time: 0.022, memory: 4830, loss_rpn_cls: 0.1074, loss_rpn_bbox: 0.0494, loss_glbctx: 1.0943, s0.loss_cls: 0.3768, s0.acc: 89.4170, s0.loss_bbox: 0.1697, s1.loss_cls: 0.1766, s1.acc: 89.8861, s1.loss_bbox: 0.1451, s2.loss_cls: 0.0819, s2.acc: 90.7723, s2.loss_bbox: 0.0729, loss_mask: 0.4350, loss: 2.7091, grad_norm: 3.6908\n",
      "2021-05-13 01:15:36,490 - mmdet - INFO - Saving checkpoint at 3 epochs\n"
     ]
    },
    {
     "name": "stdout",
     "output_type": "stream",
     "text": [
      "[>>>>>>>>>>>>>>>>>>>>>>>>>>>>>] 655/655, 4.3 task/s, elapsed: 152s, ETA:     0s"
     ]
    },
    {
     "name": "stderr",
     "output_type": "stream",
     "text": [
      "2021-05-13 01:18:18,224 - mmdet - INFO - Evaluating bbox...\n"
     ]
    },
    {
     "name": "stdout",
     "output_type": "stream",
     "text": [
      "Loading and preparing results...\n",
      "DONE (t=0.81s)\n",
      "creating index...\n",
      "index created!\n",
      "Running per image evaluation...\n",
      "Evaluate annotation type *bbox*\n",
      "DONE (t=7.52s).\n",
      "Accumulating evaluation results...\n"
     ]
    },
    {
     "name": "stderr",
     "output_type": "stream",
     "text": [
      "2021-05-13 01:18:28,624 - mmdet - INFO - Now best checkpoint is epoch_3.pth.Best bbox_mAP_50 is 0.1250\n",
      "2021-05-13 01:18:28,670 - mmdet - INFO - Epoch(val) [3][655]\tbbox_mAP: 0.0690, bbox_mAP_50: 0.1250, bbox_mAP_75: 0.0690, bbox_mAP_s: 0.0180, bbox_mAP_m: 0.0570, bbox_mAP_l: 0.1450, bbox_mAP_copypaste: 0.069 0.125 0.069 0.018 0.057 0.145\n"
     ]
    },
    {
     "name": "stdout",
     "output_type": "stream",
     "text": [
      "DONE (t=1.90s).\n",
      "Average Precision  (AP) @[ IoU=0.50:0.95 | area=   all | maxDets=100 ] = 0.069\n",
      "Average Precision  (AP) @[ IoU=0.50      | area=   all | maxDets=1000 ] = 0.125\n",
      "Average Precision  (AP) @[ IoU=0.75      | area=   all | maxDets=1000 ] = 0.069\n",
      "Average Precision  (AP) @[ IoU=0.50:0.95 | area= small | maxDets=1000 ] = 0.018\n",
      "Average Precision  (AP) @[ IoU=0.50:0.95 | area=medium | maxDets=1000 ] = 0.057\n",
      "Average Precision  (AP) @[ IoU=0.50:0.95 | area= large | maxDets=1000 ] = 0.145\n",
      "Average Recall     (AR) @[ IoU=0.50:0.95 | area=   all | maxDets=100 ] = 0.216\n",
      "Average Recall     (AR) @[ IoU=0.50:0.95 | area=   all | maxDets=300 ] = 0.216\n",
      "Average Recall     (AR) @[ IoU=0.50:0.95 | area=   all | maxDets=1000 ] = 0.216\n",
      "Average Recall     (AR) @[ IoU=0.50:0.95 | area= small | maxDets=1000 ] = 0.081\n",
      "Average Recall     (AR) @[ IoU=0.50:0.95 | area=medium | maxDets=1000 ] = 0.188\n",
      "Average Recall     (AR) @[ IoU=0.50:0.95 | area= large | maxDets=1000 ] = 0.384\n"
     ]
    },
    {
     "name": "stderr",
     "output_type": "stream",
     "text": [
      "2021-05-13 01:19:14,853 - mmdet - INFO - Epoch [4][50/655]\tlr: 2.000e-02, eta: 2:26:29, time: 0.923, data_time: 0.071, memory: 4830, loss_rpn_cls: 0.0789, loss_rpn_bbox: 0.0430, loss_glbctx: 1.1090, s0.loss_cls: 0.3890, s0.acc: 88.6582, s0.loss_bbox: 0.1794, s1.loss_cls: 0.1828, s1.acc: 89.1737, s1.loss_bbox: 0.1499, s2.loss_cls: 0.0835, s2.acc: 90.1534, s2.loss_bbox: 0.0784, loss_mask: 0.4081, loss: 2.7019, grad_norm: 3.0988\n",
      "2021-05-13 01:19:57,907 - mmdet - INFO - Epoch [4][100/655]\tlr: 2.000e-02, eta: 2:26:08, time: 0.861, data_time: 0.025, memory: 4930, loss_rpn_cls: 0.1155, loss_rpn_bbox: 0.0583, loss_glbctx: 1.0717, s0.loss_cls: 0.3799, s0.acc: 89.2695, s0.loss_bbox: 0.1744, s1.loss_cls: 0.1760, s1.acc: 89.8974, s1.loss_bbox: 0.1431, s2.loss_cls: 0.0816, s2.acc: 90.7994, s2.loss_bbox: 0.0758, loss_mask: 0.4238, loss: 2.7000, grad_norm: 3.4350\n",
      "2021-05-13 01:20:41,136 - mmdet - INFO - Epoch [4][150/655]\tlr: 2.000e-02, eta: 2:25:46, time: 0.865, data_time: 0.022, memory: 4930, loss_rpn_cls: 0.1131, loss_rpn_bbox: 0.0530, loss_glbctx: 1.1431, s0.loss_cls: 0.4252, s0.acc: 88.0439, s0.loss_bbox: 0.1921, s1.loss_cls: 0.1975, s1.acc: 88.9405, s1.loss_bbox: 0.1608, s2.loss_cls: 0.0893, s2.acc: 90.0713, s2.loss_bbox: 0.0830, loss_mask: 0.4497, loss: 2.9069, grad_norm: 3.4623\n",
      "2021-05-13 01:21:25,847 - mmdet - INFO - Epoch [4][200/655]\tlr: 2.000e-02, eta: 2:25:31, time: 0.894, data_time: 0.024, memory: 4930, loss_rpn_cls: 0.1017, loss_rpn_bbox: 0.0461, loss_glbctx: 1.1402, s0.loss_cls: 0.4110, s0.acc: 88.4053, s0.loss_bbox: 0.1829, s1.loss_cls: 0.1924, s1.acc: 89.1089, s1.loss_bbox: 0.1533, s2.loss_cls: 0.0873, s2.acc: 90.2594, s2.loss_bbox: 0.0814, loss_mask: 0.4161, loss: 2.8125, grad_norm: 3.3804\n",
      "2021-05-13 01:22:09,108 - mmdet - INFO - Epoch [4][250/655]\tlr: 2.000e-02, eta: 2:25:08, time: 0.865, data_time: 0.022, memory: 4930, loss_rpn_cls: 0.1043, loss_rpn_bbox: 0.0557, loss_glbctx: 1.1291, s0.loss_cls: 0.3719, s0.acc: 89.3564, s0.loss_bbox: 0.1642, s1.loss_cls: 0.1771, s1.acc: 89.6196, s1.loss_bbox: 0.1416, s2.loss_cls: 0.0825, s2.acc: 90.5605, s2.loss_bbox: 0.0737, loss_mask: 0.4203, loss: 2.7204, grad_norm: 3.3999\n",
      "2021-05-13 01:22:52,408 - mmdet - INFO - Epoch [4][300/655]\tlr: 2.000e-02, eta: 2:24:43, time: 0.866, data_time: 0.024, memory: 4930, loss_rpn_cls: 0.0993, loss_rpn_bbox: 0.0487, loss_glbctx: 1.0893, s0.loss_cls: 0.3705, s0.acc: 89.5791, s0.loss_bbox: 0.1638, s1.loss_cls: 0.1742, s1.acc: 90.0589, s1.loss_bbox: 0.1380, s2.loss_cls: 0.0808, s2.acc: 90.8121, s2.loss_bbox: 0.0718, loss_mask: 0.4225, loss: 2.6588, grad_norm: 3.3575\n",
      "2021-05-13 01:23:35,241 - mmdet - INFO - Epoch [4][350/655]\tlr: 2.000e-02, eta: 2:24:16, time: 0.857, data_time: 0.021, memory: 4930, loss_rpn_cls: 0.0865, loss_rpn_bbox: 0.0406, loss_glbctx: 1.0411, s0.loss_cls: 0.3615, s0.acc: 89.8389, s0.loss_bbox: 0.1663, s1.loss_cls: 0.1695, s1.acc: 90.3128, s1.loss_bbox: 0.1382, s2.loss_cls: 0.0776, s2.acc: 91.0409, s2.loss_bbox: 0.0742, loss_mask: 0.4288, loss: 2.5842, grad_norm: 3.2960\n",
      "2021-05-13 01:24:17,241 - mmdet - INFO - Epoch [4][400/655]\tlr: 2.000e-02, eta: 2:23:45, time: 0.840, data_time: 0.021, memory: 4930, loss_rpn_cls: 0.0911, loss_rpn_bbox: 0.0495, loss_glbctx: 1.0446, s0.loss_cls: 0.3584, s0.acc: 89.7754, s0.loss_bbox: 0.1624, s1.loss_cls: 0.1691, s1.acc: 90.3182, s1.loss_bbox: 0.1390, s2.loss_cls: 0.0775, s2.acc: 91.3249, s2.loss_bbox: 0.0751, loss_mask: 0.4063, loss: 2.5730, grad_norm: 3.3001\n",
      "2021-05-13 01:24:59,794 - mmdet - INFO - Epoch [4][450/655]\tlr: 2.000e-02, eta: 2:23:15, time: 0.851, data_time: 0.020, memory: 4930, loss_rpn_cls: 0.0826, loss_rpn_bbox: 0.0497, loss_glbctx: 1.0241, s0.loss_cls: 0.3495, s0.acc: 90.0674, s0.loss_bbox: 0.1608, s1.loss_cls: 0.1650, s1.acc: 90.5574, s1.loss_bbox: 0.1385, s2.loss_cls: 0.0755, s2.acc: 91.4283, s2.loss_bbox: 0.0727, loss_mask: 0.3890, loss: 2.5074, grad_norm: 3.0927\n",
      "2021-05-13 01:25:43,151 - mmdet - INFO - Epoch [4][500/655]\tlr: 2.000e-02, eta: 2:22:48, time: 0.867, data_time: 0.022, memory: 4930, loss_rpn_cls: 0.0884, loss_rpn_bbox: 0.0461, loss_glbctx: 1.0399, s0.loss_cls: 0.3620, s0.acc: 89.5762, s0.loss_bbox: 0.1709, s1.loss_cls: 0.1718, s1.acc: 89.9868, s1.loss_bbox: 0.1447, s2.loss_cls: 0.0789, s2.acc: 90.8089, s2.loss_bbox: 0.0773, loss_mask: 0.4081, loss: 2.5882, grad_norm: 3.6714\n",
      "2021-05-13 01:26:26,239 - mmdet - INFO - Epoch [4][550/655]\tlr: 2.000e-02, eta: 2:22:20, time: 0.862, data_time: 0.020, memory: 5056, loss_rpn_cls: 0.0884, loss_rpn_bbox: 0.0519, loss_glbctx: 1.0926, s0.loss_cls: 0.3504, s0.acc: 89.9443, s0.loss_bbox: 0.1649, s1.loss_cls: 0.1659, s1.acc: 90.3870, s1.loss_bbox: 0.1366, s2.loss_cls: 0.0775, s2.acc: 91.1257, s2.loss_bbox: 0.0747, loss_mask: 0.4177, loss: 2.6206, grad_norm: 3.3808\n",
      "2021-05-13 01:27:07,879 - mmdet - INFO - Epoch [4][600/655]\tlr: 2.000e-02, eta: 2:21:45, time: 0.833, data_time: 0.021, memory: 5056, loss_rpn_cls: 0.1045, loss_rpn_bbox: 0.0467, loss_glbctx: 1.0547, s0.loss_cls: 0.3547, s0.acc: 90.1035, s0.loss_bbox: 0.1602, s1.loss_cls: 0.1660, s1.acc: 90.6597, s1.loss_bbox: 0.1367, s2.loss_cls: 0.0749, s2.acc: 91.5417, s2.loss_bbox: 0.0728, loss_mask: 0.4066, loss: 2.5779, grad_norm: 3.1859\n",
      "2021-05-13 01:27:51,249 - mmdet - INFO - Epoch [4][650/655]\tlr: 2.000e-02, eta: 2:21:16, time: 0.867, data_time: 0.023, memory: 5056, loss_rpn_cls: 0.1051, loss_rpn_bbox: 0.0533, loss_glbctx: 1.1229, s0.loss_cls: 0.4008, s0.acc: 88.6162, s0.loss_bbox: 0.1831, s1.loss_cls: 0.1879, s1.acc: 89.3580, s1.loss_bbox: 0.1479, s2.loss_cls: 0.0856, s2.acc: 90.3045, s2.loss_bbox: 0.0747, loss_mask: 0.4317, loss: 2.7929, grad_norm: 3.3488\n",
      "2021-05-13 01:27:55,564 - mmdet - INFO - Saving checkpoint at 4 epochs\n"
     ]
    },
    {
     "name": "stdout",
     "output_type": "stream",
     "text": [
      "[>>>>>>>>>>>>>>>>>>>>>>>>>>>>>] 655/655, 4.4 task/s, elapsed: 148s, ETA:     0s"
     ]
    },
    {
     "name": "stderr",
     "output_type": "stream",
     "text": [
      "2021-05-13 01:30:33,084 - mmdet - INFO - Evaluating bbox...\n"
     ]
    },
    {
     "name": "stdout",
     "output_type": "stream",
     "text": [
      "Loading and preparing results...\n",
      "DONE (t=0.78s)\n",
      "creating index...\n",
      "index created!\n",
      "Running per image evaluation...\n",
      "Evaluate annotation type *bbox*\n",
      "DONE (t=7.68s).\n",
      "Accumulating evaluation results...\n"
     ]
    },
    {
     "name": "stderr",
     "output_type": "stream",
     "text": [
      "2021-05-13 01:30:43,471 - mmdet - INFO - Now best checkpoint is epoch_4.pth.Best bbox_mAP_50 is 0.1660\n",
      "2021-05-13 01:30:43,513 - mmdet - INFO - Epoch(val) [4][655]\tbbox_mAP: 0.0980, bbox_mAP_50: 0.1660, bbox_mAP_75: 0.1010, bbox_mAP_s: 0.0240, bbox_mAP_m: 0.0970, bbox_mAP_l: 0.1800, bbox_mAP_copypaste: 0.098 0.166 0.101 0.024 0.097 0.180\n"
     ]
    },
    {
     "name": "stdout",
     "output_type": "stream",
     "text": [
      "DONE (t=1.77s).\n",
      "Average Precision  (AP) @[ IoU=0.50:0.95 | area=   all | maxDets=100 ] = 0.098\n",
      "Average Precision  (AP) @[ IoU=0.50      | area=   all | maxDets=1000 ] = 0.166\n",
      "Average Precision  (AP) @[ IoU=0.75      | area=   all | maxDets=1000 ] = 0.101\n",
      "Average Precision  (AP) @[ IoU=0.50:0.95 | area= small | maxDets=1000 ] = 0.024\n",
      "Average Precision  (AP) @[ IoU=0.50:0.95 | area=medium | maxDets=1000 ] = 0.097\n",
      "Average Precision  (AP) @[ IoU=0.50:0.95 | area= large | maxDets=1000 ] = 0.180\n",
      "Average Recall     (AR) @[ IoU=0.50:0.95 | area=   all | maxDets=100 ] = 0.270\n",
      "Average Recall     (AR) @[ IoU=0.50:0.95 | area=   all | maxDets=300 ] = 0.270\n",
      "Average Recall     (AR) @[ IoU=0.50:0.95 | area=   all | maxDets=1000 ] = 0.270\n",
      "Average Recall     (AR) @[ IoU=0.50:0.95 | area= small | maxDets=1000 ] = 0.087\n",
      "Average Recall     (AR) @[ IoU=0.50:0.95 | area=medium | maxDets=1000 ] = 0.236\n",
      "Average Recall     (AR) @[ IoU=0.50:0.95 | area= large | maxDets=1000 ] = 0.481\n"
     ]
    },
    {
     "name": "stderr",
     "output_type": "stream",
     "text": [
      "2021-05-13 01:31:30,283 - mmdet - INFO - Epoch [5][50/655]\tlr: 2.000e-02, eta: 2:20:41, time: 0.935, data_time: 0.071, memory: 5056, loss_rpn_cls: 0.0806, loss_rpn_bbox: 0.0432, loss_glbctx: 0.9993, s0.loss_cls: 0.3591, s0.acc: 89.4854, s0.loss_bbox: 0.1610, s1.loss_cls: 0.1695, s1.acc: 90.0628, s1.loss_bbox: 0.1370, s2.loss_cls: 0.0813, s2.acc: 90.6112, s2.loss_bbox: 0.0768, loss_mask: 0.3953, loss: 2.5031, grad_norm: 3.4548\n",
      "2021-05-13 01:32:12,592 - mmdet - INFO - Epoch [5][100/655]\tlr: 2.000e-02, eta: 2:20:07, time: 0.846, data_time: 0.020, memory: 5056, loss_rpn_cls: 0.0765, loss_rpn_bbox: 0.0429, loss_glbctx: 1.0016, s0.loss_cls: 0.3202, s0.acc: 90.5205, s0.loss_bbox: 0.1465, s1.loss_cls: 0.1523, s1.acc: 90.8835, s1.loss_bbox: 0.1272, s2.loss_cls: 0.0695, s2.acc: 91.7512, s2.loss_bbox: 0.0677, loss_mask: 0.3643, loss: 2.3687, grad_norm: 3.3166\n",
      "2021-05-13 01:32:55,492 - mmdet - INFO - Epoch [5][150/655]\tlr: 2.000e-02, eta: 2:19:36, time: 0.858, data_time: 0.022, memory: 5056, loss_rpn_cls: 0.0747, loss_rpn_bbox: 0.0378, loss_glbctx: 1.1017, s0.loss_cls: 0.3503, s0.acc: 90.0469, s0.loss_bbox: 0.1466, s1.loss_cls: 0.1677, s1.acc: 90.3586, s1.loss_bbox: 0.1258, s2.loss_cls: 0.0789, s2.acc: 90.8464, s2.loss_bbox: 0.0699, loss_mask: 0.3886, loss: 2.5421, grad_norm: 3.4943\n",
      "2021-05-13 01:33:38,927 - mmdet - INFO - Epoch [5][200/655]\tlr: 2.000e-02, eta: 2:19:06, time: 0.869, data_time: 0.022, memory: 5056, loss_rpn_cls: 0.0975, loss_rpn_bbox: 0.0466, loss_glbctx: 1.0648, s0.loss_cls: 0.3516, s0.acc: 89.7422, s0.loss_bbox: 0.1530, s1.loss_cls: 0.1680, s1.acc: 90.2033, s1.loss_bbox: 0.1312, s2.loss_cls: 0.0795, s2.acc: 90.8065, s2.loss_bbox: 0.0726, loss_mask: 0.4012, loss: 2.5661, grad_norm: 3.4991\n",
      "2021-05-13 01:34:23,609 - mmdet - INFO - Epoch [5][250/655]\tlr: 2.000e-02, eta: 2:18:40, time: 0.894, data_time: 0.023, memory: 5056, loss_rpn_cls: 0.0943, loss_rpn_bbox: 0.0498, loss_glbctx: 1.0620, s0.loss_cls: 0.3653, s0.acc: 89.4648, s0.loss_bbox: 0.1710, s1.loss_cls: 0.1721, s1.acc: 90.1652, s1.loss_bbox: 0.1447, s2.loss_cls: 0.0797, s2.acc: 90.9678, s2.loss_bbox: 0.0798, loss_mask: 0.4088, loss: 2.6275, grad_norm: 3.6061\n",
      "2021-05-13 01:35:07,083 - mmdet - INFO - Epoch [5][300/655]\tlr: 2.000e-02, eta: 2:18:09, time: 0.869, data_time: 0.024, memory: 5056, loss_rpn_cls: 0.1146, loss_rpn_bbox: 0.0594, loss_glbctx: 1.1180, s0.loss_cls: 0.3920, s0.acc: 88.9443, s0.loss_bbox: 0.1784, s1.loss_cls: 0.1800, s1.acc: 89.8190, s1.loss_bbox: 0.1489, s2.loss_cls: 0.0812, s2.acc: 90.7839, s2.loss_bbox: 0.0760, loss_mask: 0.4443, loss: 2.7927, grad_norm: 3.7434\n",
      "2021-05-13 01:35:50,182 - mmdet - INFO - Epoch [5][350/655]\tlr: 2.000e-02, eta: 2:17:36, time: 0.862, data_time: 0.022, memory: 5056, loss_rpn_cls: 0.0829, loss_rpn_bbox: 0.0451, loss_glbctx: 1.0678, s0.loss_cls: 0.3593, s0.acc: 89.5693, s0.loss_bbox: 0.1628, s1.loss_cls: 0.1699, s1.acc: 89.9278, s1.loss_bbox: 0.1363, s2.loss_cls: 0.0802, s2.acc: 90.7384, s2.loss_bbox: 0.0728, loss_mask: 0.3999, loss: 2.5770, grad_norm: 3.4155\n",
      "2021-05-13 01:36:33,636 - mmdet - INFO - Epoch [5][400/655]\tlr: 2.000e-02, eta: 2:17:05, time: 0.869, data_time: 0.020, memory: 5056, loss_rpn_cls: 0.0882, loss_rpn_bbox: 0.0443, loss_glbctx: 1.0480, s0.loss_cls: 0.3504, s0.acc: 89.8545, s0.loss_bbox: 0.1637, s1.loss_cls: 0.1647, s1.acc: 90.3780, s1.loss_bbox: 0.1427, s2.loss_cls: 0.0765, s2.acc: 91.0750, s2.loss_bbox: 0.0766, loss_mask: 0.3834, loss: 2.5385, grad_norm: 3.2728\n",
      "2021-05-13 01:37:16,225 - mmdet - INFO - Epoch [5][450/655]\tlr: 2.000e-02, eta: 2:16:30, time: 0.852, data_time: 0.022, memory: 5056, loss_rpn_cls: 0.0932, loss_rpn_bbox: 0.0539, loss_glbctx: 1.1255, s0.loss_cls: 0.3787, s0.acc: 88.8750, s0.loss_bbox: 0.1683, s1.loss_cls: 0.1828, s1.acc: 89.1132, s1.loss_bbox: 0.1416, s2.loss_cls: 0.0845, s2.acc: 90.0764, s2.loss_bbox: 0.0743, loss_mask: 0.4109, loss: 2.7136, grad_norm: 3.3834\n",
      "2021-05-13 01:37:59,129 - mmdet - INFO - Epoch [5][500/655]\tlr: 2.000e-02, eta: 2:15:56, time: 0.858, data_time: 0.020, memory: 5056, loss_rpn_cls: 0.0894, loss_rpn_bbox: 0.0426, loss_glbctx: 1.0544, s0.loss_cls: 0.3411, s0.acc: 90.1650, s0.loss_bbox: 0.1534, s1.loss_cls: 0.1603, s1.acc: 90.7615, s1.loss_bbox: 0.1319, s2.loss_cls: 0.0752, s2.acc: 91.4232, s2.loss_bbox: 0.0722, loss_mask: 0.3819, loss: 2.5025, grad_norm: 3.5043\n",
      "2021-05-13 01:38:42,528 - mmdet - INFO - Epoch [5][550/655]\tlr: 2.000e-02, eta: 2:15:23, time: 0.868, data_time: 0.024, memory: 5056, loss_rpn_cls: 0.1091, loss_rpn_bbox: 0.0482, loss_glbctx: 1.0411, s0.loss_cls: 0.3716, s0.acc: 89.3350, s0.loss_bbox: 0.1671, s1.loss_cls: 0.1762, s1.acc: 89.8562, s1.loss_bbox: 0.1389, s2.loss_cls: 0.0821, s2.acc: 90.6156, s2.loss_bbox: 0.0729, loss_mask: 0.4165, loss: 2.6238, grad_norm: 3.3007\n",
      "2021-05-13 01:39:26,419 - mmdet - INFO - Epoch [5][600/655]\tlr: 2.000e-02, eta: 2:14:51, time: 0.878, data_time: 0.021, memory: 5056, loss_rpn_cls: 0.0913, loss_rpn_bbox: 0.0554, loss_glbctx: 1.0698, s0.loss_cls: 0.3664, s0.acc: 89.1631, s0.loss_bbox: 0.1689, s1.loss_cls: 0.1742, s1.acc: 89.6549, s1.loss_bbox: 0.1435, s2.loss_cls: 0.0794, s2.acc: 90.6785, s2.loss_bbox: 0.0740, loss_mask: 0.3999, loss: 2.6227, grad_norm: 3.5629\n",
      "2021-05-13 01:40:10,311 - mmdet - INFO - Epoch [5][650/655]\tlr: 2.000e-02, eta: 2:14:19, time: 0.878, data_time: 0.022, memory: 5056, loss_rpn_cls: 0.0912, loss_rpn_bbox: 0.0550, loss_glbctx: 1.0759, s0.loss_cls: 0.3804, s0.acc: 88.9590, s0.loss_bbox: 0.1678, s1.loss_cls: 0.1782, s1.acc: 89.4323, s1.loss_bbox: 0.1404, s2.loss_cls: 0.0826, s2.acc: 90.3127, s2.loss_bbox: 0.0760, loss_mask: 0.4182, loss: 2.6657, grad_norm: 3.4632\n",
      "2021-05-13 01:40:14,930 - mmdet - INFO - Saving checkpoint at 5 epochs\n"
     ]
    },
    {
     "name": "stdout",
     "output_type": "stream",
     "text": [
      "[>>>>>>>>>>>>>>>>>>>>>>>>>>>>>] 655/655, 4.7 task/s, elapsed: 140s, ETA:     0s"
     ]
    },
    {
     "name": "stderr",
     "output_type": "stream",
     "text": [
      "2021-05-13 01:42:41,472 - mmdet - INFO - Evaluating bbox...\n"
     ]
    },
    {
     "name": "stdout",
     "output_type": "stream",
     "text": [
      "Loading and preparing results...\n",
      "DONE (t=0.79s)\n",
      "creating index...\n",
      "index created!\n",
      "Running per image evaluation...\n",
      "Evaluate annotation type *bbox*\n",
      "DONE (t=8.24s).\n",
      "Accumulating evaluation results...\n"
     ]
    },
    {
     "name": "stderr",
     "output_type": "stream",
     "text": [
      "2021-05-13 01:42:52,463 - mmdet - INFO - Epoch(val) [5][655]\tbbox_mAP: 0.1000, bbox_mAP_50: 0.1640, bbox_mAP_75: 0.1100, bbox_mAP_s: 0.0170, bbox_mAP_m: 0.0860, bbox_mAP_l: 0.2100, bbox_mAP_copypaste: 0.100 0.164 0.110 0.017 0.086 0.210\n"
     ]
    },
    {
     "name": "stdout",
     "output_type": "stream",
     "text": [
      "DONE (t=1.76s).\n",
      "Average Precision  (AP) @[ IoU=0.50:0.95 | area=   all | maxDets=100 ] = 0.100\n",
      "Average Precision  (AP) @[ IoU=0.50      | area=   all | maxDets=1000 ] = 0.164\n",
      "Average Precision  (AP) @[ IoU=0.75      | area=   all | maxDets=1000 ] = 0.110\n",
      "Average Precision  (AP) @[ IoU=0.50:0.95 | area= small | maxDets=1000 ] = 0.017\n",
      "Average Precision  (AP) @[ IoU=0.50:0.95 | area=medium | maxDets=1000 ] = 0.086\n",
      "Average Precision  (AP) @[ IoU=0.50:0.95 | area= large | maxDets=1000 ] = 0.210\n",
      "Average Recall     (AR) @[ IoU=0.50:0.95 | area=   all | maxDets=100 ] = 0.257\n",
      "Average Recall     (AR) @[ IoU=0.50:0.95 | area=   all | maxDets=300 ] = 0.257\n",
      "Average Recall     (AR) @[ IoU=0.50:0.95 | area=   all | maxDets=1000 ] = 0.257\n",
      "Average Recall     (AR) @[ IoU=0.50:0.95 | area= small | maxDets=1000 ] = 0.078\n",
      "Average Recall     (AR) @[ IoU=0.50:0.95 | area=medium | maxDets=1000 ] = 0.213\n",
      "Average Recall     (AR) @[ IoU=0.50:0.95 | area= large | maxDets=1000 ] = 0.520\n"
     ]
    },
    {
     "name": "stderr",
     "output_type": "stream",
     "text": [
      "2021-05-13 01:43:39,518 - mmdet - INFO - Epoch [6][50/655]\tlr: 2.000e-02, eta: 2:13:39, time: 0.941, data_time: 0.074, memory: 5056, loss_rpn_cls: 0.0899, loss_rpn_bbox: 0.0526, loss_glbctx: 0.9731, s0.loss_cls: 0.3543, s0.acc: 89.6602, s0.loss_bbox: 0.1505, s1.loss_cls: 0.1682, s1.acc: 90.1314, s1.loss_bbox: 0.1328, s2.loss_cls: 0.0806, s2.acc: 90.5131, s2.loss_bbox: 0.0756, loss_mask: 0.3914, loss: 2.4689, grad_norm: 3.5684\n",
      "2021-05-13 01:44:23,584 - mmdet - INFO - Epoch [6][100/655]\tlr: 2.000e-02, eta: 2:13:07, time: 0.881, data_time: 0.021, memory: 5056, loss_rpn_cls: 0.0789, loss_rpn_bbox: 0.0452, loss_glbctx: 1.1169, s0.loss_cls: 0.3724, s0.acc: 89.4141, s0.loss_bbox: 0.1674, s1.loss_cls: 0.1778, s1.acc: 89.8876, s1.loss_bbox: 0.1506, s2.loss_cls: 0.0822, s2.acc: 90.5930, s2.loss_bbox: 0.0810, loss_mask: 0.4278, loss: 2.7002, grad_norm: 3.6520\n",
      "2021-05-13 01:45:07,793 - mmdet - INFO - Epoch [6][150/655]\tlr: 2.000e-02, eta: 2:12:35, time: 0.884, data_time: 0.022, memory: 5056, loss_rpn_cls: 0.0817, loss_rpn_bbox: 0.0481, loss_glbctx: 1.0034, s0.loss_cls: 0.3189, s0.acc: 90.4961, s0.loss_bbox: 0.1456, s1.loss_cls: 0.1537, s1.acc: 90.7944, s1.loss_bbox: 0.1254, s2.loss_cls: 0.0752, s2.acc: 91.1594, s2.loss_bbox: 0.0700, loss_mask: 0.3574, loss: 2.3793, grad_norm: 3.4272\n",
      "2021-05-13 01:45:51,519 - mmdet - INFO - Epoch [6][200/655]\tlr: 2.000e-02, eta: 2:12:01, time: 0.875, data_time: 0.021, memory: 5056, loss_rpn_cls: 0.0690, loss_rpn_bbox: 0.0373, loss_glbctx: 1.0433, s0.loss_cls: 0.3362, s0.acc: 90.1816, s0.loss_bbox: 0.1512, s1.loss_cls: 0.1580, s1.acc: 90.7602, s1.loss_bbox: 0.1331, s2.loss_cls: 0.0752, s2.acc: 91.1309, s2.loss_bbox: 0.0742, loss_mask: 0.3697, loss: 2.4471, grad_norm: 3.3402\n",
      "2021-05-13 01:46:35,156 - mmdet - INFO - Epoch [6][250/655]\tlr: 2.000e-02, eta: 2:11:27, time: 0.873, data_time: 0.022, memory: 5056, loss_rpn_cls: 0.0884, loss_rpn_bbox: 0.0476, loss_glbctx: 0.9862, s0.loss_cls: 0.3663, s0.acc: 89.1895, s0.loss_bbox: 0.1613, s1.loss_cls: 0.1720, s1.acc: 89.8058, s1.loss_bbox: 0.1360, s2.loss_cls: 0.0803, s2.acc: 90.5216, s2.loss_bbox: 0.0744, loss_mask: 0.3934, loss: 2.5060, grad_norm: 3.7702\n",
      "2021-05-13 01:47:18,535 - mmdet - INFO - Epoch [6][300/655]\tlr: 2.000e-02, eta: 2:10:51, time: 0.868, data_time: 0.022, memory: 5056, loss_rpn_cls: 0.0782, loss_rpn_bbox: 0.0450, loss_glbctx: 1.0236, s0.loss_cls: 0.3358, s0.acc: 90.1309, s0.loss_bbox: 0.1481, s1.loss_cls: 0.1595, s1.acc: 90.5439, s1.loss_bbox: 0.1281, s2.loss_cls: 0.0760, s2.acc: 91.0430, s2.loss_bbox: 0.0697, loss_mask: 0.4004, loss: 2.4645, grad_norm: 3.6989\n",
      "2021-05-13 01:48:02,394 - mmdet - INFO - Epoch [6][350/655]\tlr: 2.000e-02, eta: 2:10:17, time: 0.877, data_time: 0.023, memory: 5056, loss_rpn_cls: 0.0838, loss_rpn_bbox: 0.0468, loss_glbctx: 1.0195, s0.loss_cls: 0.3444, s0.acc: 89.9580, s0.loss_bbox: 0.1536, s1.loss_cls: 0.1644, s1.acc: 90.4105, s1.loss_bbox: 0.1331, s2.loss_cls: 0.0774, s2.acc: 90.7966, s2.loss_bbox: 0.0737, loss_mask: 0.3932, loss: 2.4900, grad_norm: 3.4724\n",
      "2021-05-13 01:48:46,634 - mmdet - INFO - Epoch [6][400/655]\tlr: 2.000e-02, eta: 2:09:43, time: 0.885, data_time: 0.024, memory: 5056, loss_rpn_cls: 0.0931, loss_rpn_bbox: 0.0466, loss_glbctx: 1.0056, s0.loss_cls: 0.3481, s0.acc: 89.8135, s0.loss_bbox: 0.1669, s1.loss_cls: 0.1614, s1.acc: 90.5008, s1.loss_bbox: 0.1451, s2.loss_cls: 0.0755, s2.acc: 91.2762, s2.loss_bbox: 0.0776, loss_mask: 0.3776, loss: 2.4974, grad_norm: 3.4305\n",
      "2021-05-13 01:49:30,650 - mmdet - INFO - Epoch [6][450/655]\tlr: 2.000e-02, eta: 2:09:09, time: 0.880, data_time: 0.023, memory: 5056, loss_rpn_cls: 0.0852, loss_rpn_bbox: 0.0443, loss_glbctx: 0.9863, s0.loss_cls: 0.3322, s0.acc: 90.2207, s0.loss_bbox: 0.1542, s1.loss_cls: 0.1595, s1.acc: 90.5893, s1.loss_bbox: 0.1318, s2.loss_cls: 0.0756, s2.acc: 90.9791, s2.loss_bbox: 0.0708, loss_mask: 0.3809, loss: 2.4208, grad_norm: 3.5599\n",
      "2021-05-13 01:50:14,361 - mmdet - INFO - Epoch [6][500/655]\tlr: 2.000e-02, eta: 2:08:34, time: 0.874, data_time: 0.023, memory: 5056, loss_rpn_cls: 0.0859, loss_rpn_bbox: 0.0463, loss_glbctx: 1.0359, s0.loss_cls: 0.3458, s0.acc: 89.9385, s0.loss_bbox: 0.1564, s1.loss_cls: 0.1622, s1.acc: 90.5069, s1.loss_bbox: 0.1308, s2.loss_cls: 0.0759, s2.acc: 91.0642, s2.loss_bbox: 0.0696, loss_mask: 0.4007, loss: 2.5096, grad_norm: 3.4791\n",
      "2021-05-13 01:50:59,147 - mmdet - INFO - Epoch [6][550/655]\tlr: 2.000e-02, eta: 2:08:00, time: 0.896, data_time: 0.023, memory: 5056, loss_rpn_cls: 0.0948, loss_rpn_bbox: 0.0502, loss_glbctx: 1.0841, s0.loss_cls: 0.3921, s0.acc: 88.6104, s0.loss_bbox: 0.1693, s1.loss_cls: 0.1842, s1.acc: 89.1854, s1.loss_bbox: 0.1443, s2.loss_cls: 0.0851, s2.acc: 90.1861, s2.loss_bbox: 0.0779, loss_mask: 0.4299, loss: 2.7120, grad_norm: 3.5950\n",
      "2021-05-13 01:51:43,555 - mmdet - INFO - Epoch [6][600/655]\tlr: 2.000e-02, eta: 2:07:26, time: 0.888, data_time: 0.025, memory: 5056, loss_rpn_cls: 0.1011, loss_rpn_bbox: 0.0535, loss_glbctx: 1.0590, s0.loss_cls: 0.3640, s0.acc: 89.2207, s0.loss_bbox: 0.1684, s1.loss_cls: 0.1737, s1.acc: 89.7226, s1.loss_bbox: 0.1469, s2.loss_cls: 0.0821, s2.acc: 90.4075, s2.loss_bbox: 0.0770, loss_mask: 0.4075, loss: 2.6333, grad_norm: 3.6839\n",
      "2021-05-13 01:52:28,129 - mmdet - INFO - Epoch [6][650/655]\tlr: 2.000e-02, eta: 2:06:52, time: 0.891, data_time: 0.022, memory: 5056, loss_rpn_cls: 0.0970, loss_rpn_bbox: 0.0533, loss_glbctx: 1.0976, s0.loss_cls: 0.3778, s0.acc: 89.0645, s0.loss_bbox: 0.1708, s1.loss_cls: 0.1770, s1.acc: 89.7505, s1.loss_bbox: 0.1408, s2.loss_cls: 0.0830, s2.acc: 90.3290, s2.loss_bbox: 0.0756, loss_mask: 0.3912, loss: 2.6639, grad_norm: 3.5309\n",
      "2021-05-13 01:52:32,522 - mmdet - INFO - Saving checkpoint at 6 epochs\n"
     ]
    },
    {
     "name": "stdout",
     "output_type": "stream",
     "text": [
      "[>>>>>>>>>>>>>>>>>>>>>>>>>>>>>] 655/655, 4.4 task/s, elapsed: 148s, ETA:     0s"
     ]
    },
    {
     "name": "stderr",
     "output_type": "stream",
     "text": [
      "2021-05-13 01:55:06,815 - mmdet - INFO - Evaluating bbox...\n"
     ]
    },
    {
     "name": "stdout",
     "output_type": "stream",
     "text": [
      "Loading and preparing results...\n",
      "DONE (t=0.84s)\n",
      "creating index...\n",
      "index created!\n",
      "Running per image evaluation...\n",
      "Evaluate annotation type *bbox*\n",
      "DONE (t=7.65s).\n",
      "Accumulating evaluation results...\n"
     ]
    },
    {
     "name": "stderr",
     "output_type": "stream",
     "text": [
      "2021-05-13 01:55:17,333 - mmdet - INFO - Now best checkpoint is epoch_6.pth.Best bbox_mAP_50 is 0.1850\n",
      "2021-05-13 01:55:17,377 - mmdet - INFO - Epoch(val) [6][655]\tbbox_mAP: 0.1100, bbox_mAP_50: 0.1850, bbox_mAP_75: 0.1180, bbox_mAP_s: 0.0270, bbox_mAP_m: 0.1040, bbox_mAP_l: 0.2020, bbox_mAP_copypaste: 0.110 0.185 0.118 0.027 0.104 0.202\n"
     ]
    },
    {
     "name": "stdout",
     "output_type": "stream",
     "text": [
      "DONE (t=1.86s).\n",
      "Average Precision  (AP) @[ IoU=0.50:0.95 | area=   all | maxDets=100 ] = 0.110\n",
      "Average Precision  (AP) @[ IoU=0.50      | area=   all | maxDets=1000 ] = 0.185\n",
      "Average Precision  (AP) @[ IoU=0.75      | area=   all | maxDets=1000 ] = 0.118\n",
      "Average Precision  (AP) @[ IoU=0.50:0.95 | area= small | maxDets=1000 ] = 0.027\n",
      "Average Precision  (AP) @[ IoU=0.50:0.95 | area=medium | maxDets=1000 ] = 0.104\n",
      "Average Precision  (AP) @[ IoU=0.50:0.95 | area= large | maxDets=1000 ] = 0.202\n",
      "Average Recall     (AR) @[ IoU=0.50:0.95 | area=   all | maxDets=100 ] = 0.282\n",
      "Average Recall     (AR) @[ IoU=0.50:0.95 | area=   all | maxDets=300 ] = 0.282\n",
      "Average Recall     (AR) @[ IoU=0.50:0.95 | area=   all | maxDets=1000 ] = 0.282\n",
      "Average Recall     (AR) @[ IoU=0.50:0.95 | area= small | maxDets=1000 ] = 0.101\n",
      "Average Recall     (AR) @[ IoU=0.50:0.95 | area=medium | maxDets=1000 ] = 0.249\n",
      "Average Recall     (AR) @[ IoU=0.50:0.95 | area= large | maxDets=1000 ] = 0.531\n"
     ]
    },
    {
     "name": "stderr",
     "output_type": "stream",
     "text": [
      "2021-05-13 01:56:04,163 - mmdet - INFO - Epoch [7][50/655]\tlr: 2.000e-02, eta: 2:06:09, time: 0.935, data_time: 0.077, memory: 5056, loss_rpn_cls: 0.0769, loss_rpn_bbox: 0.0463, loss_glbctx: 1.0543, s0.loss_cls: 0.3616, s0.acc: 89.3828, s0.loss_bbox: 0.1563, s1.loss_cls: 0.1699, s1.acc: 89.9525, s1.loss_bbox: 0.1328, s2.loss_cls: 0.0796, s2.acc: 90.4771, s2.loss_bbox: 0.0747, loss_mask: 0.3756, loss: 2.5280, grad_norm: 3.7732\n",
      "2021-05-13 01:56:47,834 - mmdet - INFO - Epoch [7][100/655]\tlr: 2.000e-02, eta: 2:05:32, time: 0.873, data_time: 0.020, memory: 5056, loss_rpn_cls: 0.0866, loss_rpn_bbox: 0.0435, loss_glbctx: 1.0533, s0.loss_cls: 0.3400, s0.acc: 89.9326, s0.loss_bbox: 0.1519, s1.loss_cls: 0.1578, s1.acc: 90.5151, s1.loss_bbox: 0.1239, s2.loss_cls: 0.0750, s2.acc: 91.2884, s2.loss_bbox: 0.0705, loss_mask: 0.3546, loss: 2.4571, grad_norm: 3.5819\n",
      "2021-05-13 01:57:32,894 - mmdet - INFO - Epoch [7][150/655]\tlr: 2.000e-02, eta: 2:04:59, time: 0.901, data_time: 0.021, memory: 5056, loss_rpn_cls: 0.0798, loss_rpn_bbox: 0.0456, loss_glbctx: 0.9736, s0.loss_cls: 0.3442, s0.acc: 89.7383, s0.loss_bbox: 0.1604, s1.loss_cls: 0.1613, s1.acc: 90.3084, s1.loss_bbox: 0.1363, s2.loss_cls: 0.0764, s2.acc: 90.7421, s2.loss_bbox: 0.0789, loss_mask: 0.3749, loss: 2.4314, grad_norm: 3.7522\n",
      "2021-05-13 01:58:18,163 - mmdet - INFO - Epoch [7][200/655]\tlr: 2.000e-02, eta: 2:04:25, time: 0.905, data_time: 0.021, memory: 5056, loss_rpn_cls: 0.0827, loss_rpn_bbox: 0.0471, loss_glbctx: 1.0861, s0.loss_cls: 0.3770, s0.acc: 89.0654, s0.loss_bbox: 0.1652, s1.loss_cls: 0.1784, s1.acc: 89.6351, s1.loss_bbox: 0.1436, s2.loss_cls: 0.0839, s2.acc: 90.1184, s2.loss_bbox: 0.0792, loss_mask: 0.3701, loss: 2.6133, grad_norm: 3.7945\n",
      "2021-05-13 01:59:02,106 - mmdet - INFO - Epoch [7][250/655]\tlr: 2.000e-02, eta: 2:03:49, time: 0.879, data_time: 0.020, memory: 5056, loss_rpn_cls: 0.0790, loss_rpn_bbox: 0.0405, loss_glbctx: 0.9745, s0.loss_cls: 0.3209, s0.acc: 90.3623, s0.loss_bbox: 0.1498, s1.loss_cls: 0.1524, s1.acc: 90.7528, s1.loss_bbox: 0.1320, s2.loss_cls: 0.0714, s2.acc: 91.4469, s2.loss_bbox: 0.0713, loss_mask: 0.3669, loss: 2.3587, grad_norm: 3.6267\n",
      "2021-05-13 01:59:44,963 - mmdet - INFO - Epoch [7][300/655]\tlr: 2.000e-02, eta: 2:03:09, time: 0.857, data_time: 0.020, memory: 5056, loss_rpn_cls: 0.0888, loss_rpn_bbox: 0.0473, loss_glbctx: 1.1149, s0.loss_cls: 0.3419, s0.acc: 90.2578, s0.loss_bbox: 0.1491, s1.loss_cls: 0.1626, s1.acc: 90.5785, s1.loss_bbox: 0.1262, s2.loss_cls: 0.0765, s2.acc: 91.2029, s2.loss_bbox: 0.0662, loss_mask: 0.3938, loss: 2.5672, grad_norm: 5.0186\n",
      "2021-05-13 02:00:30,462 - mmdet - INFO - Epoch [7][350/655]\tlr: 2.000e-02, eta: 2:02:36, time: 0.910, data_time: 0.024, memory: 5056, loss_rpn_cls: 0.0926, loss_rpn_bbox: 0.0527, loss_glbctx: 1.1369, s0.loss_cls: 0.3556, s0.acc: 89.6455, s0.loss_bbox: 0.1583, s1.loss_cls: 0.1696, s1.acc: 90.1322, s1.loss_bbox: 0.1318, s2.loss_cls: 0.0816, s2.acc: 90.4461, s2.loss_bbox: 0.0767, loss_mask: 0.3750, loss: 2.6307, grad_norm: 3.8214\n",
      "2021-05-13 02:01:14,731 - mmdet - INFO - Epoch [7][400/655]\tlr: 2.000e-02, eta: 2:01:59, time: 0.885, data_time: 0.023, memory: 5056, loss_rpn_cls: 0.0892, loss_rpn_bbox: 0.0514, loss_glbctx: 1.0766, s0.loss_cls: 0.3684, s0.acc: 89.1416, s0.loss_bbox: 0.1689, s1.loss_cls: 0.1757, s1.acc: 89.6026, s1.loss_bbox: 0.1432, s2.loss_cls: 0.0817, s2.acc: 90.2707, s2.loss_bbox: 0.0779, loss_mask: 0.4119, loss: 2.6451, grad_norm: 3.9966\n",
      "2021-05-13 02:01:57,482 - mmdet - INFO - Epoch [7][450/655]\tlr: 2.000e-02, eta: 2:01:19, time: 0.855, data_time: 0.022, memory: 5056, loss_rpn_cls: 0.0933, loss_rpn_bbox: 0.0482, loss_glbctx: 1.0194, s0.loss_cls: 0.3278, s0.acc: 90.5879, s0.loss_bbox: 0.1470, s1.loss_cls: 0.1539, s1.acc: 90.9660, s1.loss_bbox: 0.1273, s2.loss_cls: 0.0738, s2.acc: 91.4181, s2.loss_bbox: 0.0678, loss_mask: 0.3945, loss: 2.4529, grad_norm: 3.8551\n",
      "2021-05-13 02:02:40,623 - mmdet - INFO - Epoch [7][500/655]\tlr: 2.000e-02, eta: 2:00:40, time: 0.863, data_time: 0.021, memory: 5056, loss_rpn_cls: 0.0767, loss_rpn_bbox: 0.0407, loss_glbctx: 1.0182, s0.loss_cls: 0.3384, s0.acc: 90.1641, s0.loss_bbox: 0.1521, s1.loss_cls: 0.1605, s1.acc: 90.5900, s1.loss_bbox: 0.1319, s2.loss_cls: 0.0757, s2.acc: 91.2780, s2.loss_bbox: 0.0743, loss_mask: 0.4044, loss: 2.4728, grad_norm: 3.5078\n",
      "2021-05-13 02:03:25,590 - mmdet - INFO - Epoch [7][550/655]\tlr: 2.000e-02, eta: 2:00:05, time: 0.899, data_time: 0.024, memory: 5056, loss_rpn_cls: 0.0830, loss_rpn_bbox: 0.0471, loss_glbctx: 1.0313, s0.loss_cls: 0.3620, s0.acc: 89.3486, s0.loss_bbox: 0.1590, s1.loss_cls: 0.1689, s1.acc: 90.0934, s1.loss_bbox: 0.1325, s2.loss_cls: 0.0795, s2.acc: 90.7758, s2.loss_bbox: 0.0734, loss_mask: 0.3509, loss: 2.4877, grad_norm: 3.7360\n",
      "2021-05-13 02:04:08,317 - mmdet - INFO - Epoch [7][600/655]\tlr: 2.000e-02, eta: 1:59:25, time: 0.855, data_time: 0.023, memory: 5056, loss_rpn_cls: 0.0818, loss_rpn_bbox: 0.0494, loss_glbctx: 1.0109, s0.loss_cls: 0.3292, s0.acc: 90.4512, s0.loss_bbox: 0.1475, s1.loss_cls: 0.1540, s1.acc: 90.9565, s1.loss_bbox: 0.1248, s2.loss_cls: 0.0713, s2.acc: 91.5658, s2.loss_bbox: 0.0670, loss_mask: 0.4187, loss: 2.4547, grad_norm: 3.6781\n",
      "2021-05-13 02:04:52,256 - mmdet - INFO - Epoch [7][650/655]\tlr: 2.000e-02, eta: 1:58:47, time: 0.879, data_time: 0.024, memory: 5056, loss_rpn_cls: 0.0854, loss_rpn_bbox: 0.0454, loss_glbctx: 1.0112, s0.loss_cls: 0.3395, s0.acc: 89.9531, s0.loss_bbox: 0.1558, s1.loss_cls: 0.1581, s1.acc: 90.6494, s1.loss_bbox: 0.1306, s2.loss_cls: 0.0732, s2.acc: 91.3206, s2.loss_bbox: 0.0719, loss_mask: 0.3815, loss: 2.4527, grad_norm: 3.8741\n",
      "2021-05-13 02:04:56,654 - mmdet - INFO - Saving checkpoint at 7 epochs\n"
     ]
    },
    {
     "name": "stdout",
     "output_type": "stream",
     "text": [
      "[>>>>>>>>>>>>                  ] 274/655, 4.4 task/s, elapsed: 62s, ETA:    86s"
     ]
    },
    {
     "name": "stderr",
     "output_type": "stream",
     "text": [
      "IOPub message rate exceeded.\n",
      "The Jupyter server will temporarily stop sending output\n",
      "to the client in order to avoid crashing it.\n",
      "To change this limit, set the config variable\n",
      "`--ServerApp.iopub_msg_rate_limit`.\n",
      "\n",
      "Current values:\n",
      "ServerApp.iopub_msg_rate_limit=1000.0 (msgs/sec)\n",
      "ServerApp.rate_limit_window=3.0 (secs)\n",
      "\n"
     ]
    },
    {
     "name": "stdout",
     "output_type": "stream",
     "text": [
      "[>>>>>>>>>>>>>>>>>>>>>>>>>>>>>] 655/655, 4.4 task/s, elapsed: 149s, ETA:     0s"
     ]
    },
    {
     "name": "stderr",
     "output_type": "stream",
     "text": [
      "2021-05-13 03:22:35,505 - mmdet - INFO - Evaluating bbox...\n"
     ]
    },
    {
     "name": "stdout",
     "output_type": "stream",
     "text": [
      "Loading and preparing results...\n",
      "DONE (t=0.86s)\n",
      "creating index...\n",
      "index created!\n",
      "Running per image evaluation...\n",
      "Evaluate annotation type *bbox*\n",
      "DONE (t=7.57s).\n",
      "Accumulating evaluation results...\n"
     ]
    },
    {
     "name": "stderr",
     "output_type": "stream",
     "text": [
      "2021-05-13 03:22:45,928 - mmdet - INFO - Epoch(val) [13][655]\tbbox_mAP: 0.1230, bbox_mAP_50: 0.2030, bbox_mAP_75: 0.1260, bbox_mAP_s: 0.0210, bbox_mAP_m: 0.1110, bbox_mAP_l: 0.2390, bbox_mAP_copypaste: 0.123 0.203 0.126 0.021 0.111 0.239\n"
     ]
    },
    {
     "name": "stdout",
     "output_type": "stream",
     "text": [
      "DONE (t=1.79s).\n",
      "Average Precision  (AP) @[ IoU=0.50:0.95 | area=   all | maxDets=100 ] = 0.123\n",
      "Average Precision  (AP) @[ IoU=0.50      | area=   all | maxDets=1000 ] = 0.203\n",
      "Average Precision  (AP) @[ IoU=0.75      | area=   all | maxDets=1000 ] = 0.126\n",
      "Average Precision  (AP) @[ IoU=0.50:0.95 | area= small | maxDets=1000 ] = 0.021\n",
      "Average Precision  (AP) @[ IoU=0.50:0.95 | area=medium | maxDets=1000 ] = 0.111\n",
      "Average Precision  (AP) @[ IoU=0.50:0.95 | area= large | maxDets=1000 ] = 0.239\n",
      "Average Recall     (AR) @[ IoU=0.50:0.95 | area=   all | maxDets=100 ] = 0.336\n",
      "Average Recall     (AR) @[ IoU=0.50:0.95 | area=   all | maxDets=300 ] = 0.336\n",
      "Average Recall     (AR) @[ IoU=0.50:0.95 | area=   all | maxDets=1000 ] = 0.336\n",
      "Average Recall     (AR) @[ IoU=0.50:0.95 | area= small | maxDets=1000 ] = 0.095\n",
      "Average Recall     (AR) @[ IoU=0.50:0.95 | area=medium | maxDets=1000 ] = 0.293\n",
      "Average Recall     (AR) @[ IoU=0.50:0.95 | area= large | maxDets=1000 ] = 0.588\n"
     ]
    },
    {
     "name": "stderr",
     "output_type": "stream",
     "text": [
      "2021-05-13 03:23:33,344 - mmdet - INFO - Epoch [14][50/655]\tlr: 2.000e-02, eta: 1:05:00, time: 0.948, data_time: 0.072, memory: 5056, loss_rpn_cls: 0.0807, loss_rpn_bbox: 0.0490, loss_glbctx: 0.9475, s0.loss_cls: 0.3160, s0.acc: 90.3857, s0.loss_bbox: 0.1511, s1.loss_cls: 0.1495, s1.acc: 90.7533, s1.loss_bbox: 0.1342, s2.loss_cls: 0.0715, s2.acc: 91.2308, s2.loss_bbox: 0.0746, loss_mask: 0.3559, loss: 2.3300, grad_norm: 4.4966\n",
      "2021-05-13 03:24:17,814 - mmdet - INFO - Epoch [14][100/655]\tlr: 2.000e-02, eta: 1:04:18, time: 0.889, data_time: 0.021, memory: 5056, loss_rpn_cls: 0.0692, loss_rpn_bbox: 0.0415, loss_glbctx: 0.8927, s0.loss_cls: 0.2983, s0.acc: 90.9180, s0.loss_bbox: 0.1423, s1.loss_cls: 0.1389, s1.acc: 91.5213, s1.loss_bbox: 0.1206, s2.loss_cls: 0.0687, s2.acc: 91.5425, s2.loss_bbox: 0.0702, loss_mask: 0.3230, loss: 2.1653, grad_norm: 4.1803\n",
      "2021-05-13 03:25:02,137 - mmdet - INFO - Epoch [14][150/655]\tlr: 2.000e-02, eta: 1:03:36, time: 0.886, data_time: 0.021, memory: 5056, loss_rpn_cls: 0.0855, loss_rpn_bbox: 0.0442, loss_glbctx: 0.9674, s0.loss_cls: 0.3187, s0.acc: 90.5215, s0.loss_bbox: 0.1445, s1.loss_cls: 0.1420, s1.acc: 91.5705, s1.loss_bbox: 0.1207, s2.loss_cls: 0.0670, s2.acc: 91.7545, s2.loss_bbox: 0.0687, loss_mask: 0.3374, loss: 2.2961, grad_norm: 4.2813\n",
      "2021-05-13 03:25:46,731 - mmdet - INFO - Epoch [14][200/655]\tlr: 2.000e-02, eta: 1:02:53, time: 0.892, data_time: 0.020, memory: 5056, loss_rpn_cls: 0.0944, loss_rpn_bbox: 0.0470, loss_glbctx: 1.0166, s0.loss_cls: 0.3352, s0.acc: 89.9932, s0.loss_bbox: 0.1461, s1.loss_cls: 0.1544, s1.acc: 90.7087, s1.loss_bbox: 0.1253, s2.loss_cls: 0.0740, s2.acc: 91.2166, s2.loss_bbox: 0.0705, loss_mask: 0.3458, loss: 2.4093, grad_norm: 4.7620\n",
      "2021-05-13 03:26:30,168 - mmdet - INFO - Epoch [14][250/655]\tlr: 2.000e-02, eta: 1:02:11, time: 0.869, data_time: 0.021, memory: 5056, loss_rpn_cls: 0.0723, loss_rpn_bbox: 0.0424, loss_glbctx: 0.9673, s0.loss_cls: 0.3081, s0.acc: 90.7480, s0.loss_bbox: 0.1344, s1.loss_cls: 0.1413, s1.acc: 91.5125, s1.loss_bbox: 0.1154, s2.loss_cls: 0.0696, s2.acc: 91.5228, s2.loss_bbox: 0.0645, loss_mask: 0.3526, loss: 2.2680, grad_norm: 4.2571\n",
      "2021-05-13 03:27:14,697 - mmdet - INFO - Epoch [14][300/655]\tlr: 2.000e-02, eta: 1:01:28, time: 0.891, data_time: 0.020, memory: 5056, loss_rpn_cls: 0.0763, loss_rpn_bbox: 0.0380, loss_glbctx: 0.9161, s0.loss_cls: 0.3003, s0.acc: 90.7686, s0.loss_bbox: 0.1358, s1.loss_cls: 0.1380, s1.acc: 91.3678, s1.loss_bbox: 0.1177, s2.loss_cls: 0.0675, s2.acc: 91.5309, s2.loss_bbox: 0.0674, loss_mask: 0.3324, loss: 2.1897, grad_norm: 3.9683\n",
      "2021-05-13 03:27:59,704 - mmdet - INFO - Epoch [14][350/655]\tlr: 2.000e-02, eta: 1:00:46, time: 0.900, data_time: 0.024, memory: 5056, loss_rpn_cls: 0.0947, loss_rpn_bbox: 0.0470, loss_glbctx: 1.0495, s0.loss_cls: 0.3477, s0.acc: 89.6074, s0.loss_bbox: 0.1516, s1.loss_cls: 0.1572, s1.acc: 90.5580, s1.loss_bbox: 0.1226, s2.loss_cls: 0.0753, s2.acc: 91.0735, s2.loss_bbox: 0.0683, loss_mask: 0.3483, loss: 2.4621, grad_norm: 4.5901\n",
      "2021-05-13 03:28:45,352 - mmdet - INFO - Epoch [14][400/655]\tlr: 2.000e-02, eta: 1:00:04, time: 0.913, data_time: 0.022, memory: 5056, loss_rpn_cls: 0.0813, loss_rpn_bbox: 0.0473, loss_glbctx: 0.9523, s0.loss_cls: 0.3407, s0.acc: 89.6494, s0.loss_bbox: 0.1554, s1.loss_cls: 0.1563, s1.acc: 90.4353, s1.loss_bbox: 0.1347, s2.loss_cls: 0.0749, s2.acc: 90.8251, s2.loss_bbox: 0.0797, loss_mask: 0.3622, loss: 2.3850, grad_norm: 4.2478\n",
      "2021-05-13 03:29:29,146 - mmdet - INFO - Epoch [14][450/655]\tlr: 2.000e-02, eta: 0:59:22, time: 0.876, data_time: 0.021, memory: 5056, loss_rpn_cls: 0.0732, loss_rpn_bbox: 0.0392, loss_glbctx: 0.9250, s0.loss_cls: 0.3001, s0.acc: 91.0293, s0.loss_bbox: 0.1298, s1.loss_cls: 0.1366, s1.acc: 91.7469, s1.loss_bbox: 0.1087, s2.loss_cls: 0.0663, s2.acc: 92.0513, s2.loss_bbox: 0.0615, loss_mask: 0.3182, loss: 2.1587, grad_norm: 4.0593\n",
      "2021-05-13 03:30:13,447 - mmdet - INFO - Epoch [14][500/655]\tlr: 2.000e-02, eta: 0:58:39, time: 0.886, data_time: 0.022, memory: 5056, loss_rpn_cls: 0.0803, loss_rpn_bbox: 0.0492, loss_glbctx: 0.9032, s0.loss_cls: 0.3025, s0.acc: 90.6953, s0.loss_bbox: 0.1388, s1.loss_cls: 0.1394, s1.acc: 91.5200, s1.loss_bbox: 0.1186, s2.loss_cls: 0.0664, s2.acc: 92.0386, s2.loss_bbox: 0.0670, loss_mask: 0.3374, loss: 2.2027, grad_norm: 4.1674\n",
      "2021-05-13 03:30:57,842 - mmdet - INFO - Epoch [14][550/655]\tlr: 2.000e-02, eta: 0:57:57, time: 0.888, data_time: 0.024, memory: 5056, loss_rpn_cls: 0.0831, loss_rpn_bbox: 0.0500, loss_glbctx: 0.9371, s0.loss_cls: 0.3267, s0.acc: 90.0811, s0.loss_bbox: 0.1467, s1.loss_cls: 0.1483, s1.acc: 90.9968, s1.loss_bbox: 0.1252, s2.loss_cls: 0.0702, s2.acc: 91.5648, s2.loss_bbox: 0.0698, loss_mask: 0.3385, loss: 2.2955, grad_norm: 4.3893\n",
      "2021-05-13 03:31:42,344 - mmdet - INFO - Epoch [14][600/655]\tlr: 2.000e-02, eta: 0:57:14, time: 0.890, data_time: 0.022, memory: 5056, loss_rpn_cls: 0.0886, loss_rpn_bbox: 0.0470, loss_glbctx: 1.0000, s0.loss_cls: 0.3337, s0.acc: 90.0664, s0.loss_bbox: 0.1528, s1.loss_cls: 0.1567, s1.acc: 90.5406, s1.loss_bbox: 0.1298, s2.loss_cls: 0.0757, s2.acc: 90.9507, s2.loss_bbox: 0.0729, loss_mask: 0.3664, loss: 2.4235, grad_norm: 4.5328\n",
      "2021-05-13 03:32:26,485 - mmdet - INFO - Epoch [14][650/655]\tlr: 2.000e-02, eta: 0:56:31, time: 0.883, data_time: 0.021, memory: 5056, loss_rpn_cls: 0.0706, loss_rpn_bbox: 0.0447, loss_glbctx: 0.9461, s0.loss_cls: 0.3079, s0.acc: 90.6992, s0.loss_bbox: 0.1444, s1.loss_cls: 0.1396, s1.acc: 91.3768, s1.loss_bbox: 0.1221, s2.loss_cls: 0.0677, s2.acc: 91.6070, s2.loss_bbox: 0.0709, loss_mask: 0.3612, loss: 2.2750, grad_norm: 4.2282\n",
      "2021-05-13 03:32:30,921 - mmdet - INFO - Saving checkpoint at 14 epochs\n"
     ]
    },
    {
     "name": "stdout",
     "output_type": "stream",
     "text": [
      "[>>>>>>>>>>>>>>>>>>>>>>>>>>>>>] 655/655, 4.4 task/s, elapsed: 149s, ETA:     0s"
     ]
    },
    {
     "name": "stderr",
     "output_type": "stream",
     "text": [
      "2021-05-13 03:35:05,659 - mmdet - INFO - Evaluating bbox...\n"
     ]
    },
    {
     "name": "stdout",
     "output_type": "stream",
     "text": [
      "Loading and preparing results...\n",
      "DONE (t=1.39s)\n",
      "creating index...\n",
      "index created!\n",
      "Running per image evaluation...\n",
      "Evaluate annotation type *bbox*\n",
      "DONE (t=7.81s).\n",
      "Accumulating evaluation results...\n"
     ]
    },
    {
     "name": "stderr",
     "output_type": "stream",
     "text": [
      "2021-05-13 03:35:16,929 - mmdet - INFO - Epoch(val) [14][655]\tbbox_mAP: 0.1270, bbox_mAP_50: 0.2060, bbox_mAP_75: 0.1290, bbox_mAP_s: 0.0250, bbox_mAP_m: 0.1130, bbox_mAP_l: 0.2540, bbox_mAP_copypaste: 0.127 0.206 0.129 0.025 0.113 0.254\n"
     ]
    },
    {
     "name": "stdout",
     "output_type": "stream",
     "text": [
      "DONE (t=1.87s).\n",
      "Average Precision  (AP) @[ IoU=0.50:0.95 | area=   all | maxDets=100 ] = 0.127\n",
      "Average Precision  (AP) @[ IoU=0.50      | area=   all | maxDets=1000 ] = 0.206\n",
      "Average Precision  (AP) @[ IoU=0.75      | area=   all | maxDets=1000 ] = 0.129\n",
      "Average Precision  (AP) @[ IoU=0.50:0.95 | area= small | maxDets=1000 ] = 0.025\n",
      "Average Precision  (AP) @[ IoU=0.50:0.95 | area=medium | maxDets=1000 ] = 0.113\n",
      "Average Precision  (AP) @[ IoU=0.50:0.95 | area= large | maxDets=1000 ] = 0.254\n",
      "Average Recall     (AR) @[ IoU=0.50:0.95 | area=   all | maxDets=100 ] = 0.304\n",
      "Average Recall     (AR) @[ IoU=0.50:0.95 | area=   all | maxDets=300 ] = 0.304\n",
      "Average Recall     (AR) @[ IoU=0.50:0.95 | area=   all | maxDets=1000 ] = 0.304\n",
      "Average Recall     (AR) @[ IoU=0.50:0.95 | area= small | maxDets=1000 ] = 0.101\n",
      "Average Recall     (AR) @[ IoU=0.50:0.95 | area=medium | maxDets=1000 ] = 0.246\n",
      "Average Recall     (AR) @[ IoU=0.50:0.95 | area= large | maxDets=1000 ] = 0.586\n"
     ]
    },
    {
     "name": "stderr",
     "output_type": "stream",
     "text": [
      "2021-05-13 03:36:03,891 - mmdet - INFO - Epoch [15][50/655]\tlr: 2.000e-02, eta: 0:55:44, time: 0.939, data_time: 0.073, memory: 5056, loss_rpn_cls: 0.0723, loss_rpn_bbox: 0.0450, loss_glbctx: 0.8991, s0.loss_cls: 0.2839, s0.acc: 91.1387, s0.loss_bbox: 0.1360, s1.loss_cls: 0.1310, s1.acc: 91.7514, s1.loss_bbox: 0.1146, s2.loss_cls: 0.0644, s2.acc: 91.9236, s2.loss_bbox: 0.0658, loss_mask: 0.3389, loss: 2.1509, grad_norm: 4.4314\n",
      "2021-05-13 03:36:48,224 - mmdet - INFO - Epoch [15][100/655]\tlr: 2.000e-02, eta: 0:55:01, time: 0.887, data_time: 0.021, memory: 5056, loss_rpn_cls: 0.0876, loss_rpn_bbox: 0.0411, loss_glbctx: 0.9757, s0.loss_cls: 0.3161, s0.acc: 90.4629, s0.loss_bbox: 0.1417, s1.loss_cls: 0.1415, s1.acc: 91.5437, s1.loss_bbox: 0.1165, s2.loss_cls: 0.0690, s2.acc: 91.8075, s2.loss_bbox: 0.0658, loss_mask: 0.3293, loss: 2.2843, grad_norm: 4.0300\n",
      "2021-05-13 03:37:33,101 - mmdet - INFO - Epoch [15][150/655]\tlr: 2.000e-02, eta: 0:54:19, time: 0.898, data_time: 0.023, memory: 5056, loss_rpn_cls: 0.0756, loss_rpn_bbox: 0.0433, loss_glbctx: 1.0032, s0.loss_cls: 0.3212, s0.acc: 90.5254, s0.loss_bbox: 0.1405, s1.loss_cls: 0.1476, s1.acc: 91.1830, s1.loss_bbox: 0.1189, s2.loss_cls: 0.0730, s2.acc: 91.3584, s2.loss_bbox: 0.0670, loss_mask: 0.3355, loss: 2.3259, grad_norm: 4.5117\n",
      "2021-05-13 03:38:17,626 - mmdet - INFO - Epoch [15][200/655]\tlr: 2.000e-02, eta: 0:53:36, time: 0.890, data_time: 0.022, memory: 5056, loss_rpn_cls: 0.0834, loss_rpn_bbox: 0.0525, loss_glbctx: 0.9574, s0.loss_cls: 0.3103, s0.acc: 90.7021, s0.loss_bbox: 0.1375, s1.loss_cls: 0.1425, s1.acc: 91.4294, s1.loss_bbox: 0.1165, s2.loss_cls: 0.0689, s2.acc: 91.9030, s2.loss_bbox: 0.0655, loss_mask: 0.3225, loss: 2.2568, grad_norm: 4.3451\n",
      "2021-05-13 03:39:02,949 - mmdet - INFO - Epoch [15][250/655]\tlr: 2.000e-02, eta: 0:52:54, time: 0.906, data_time: 0.022, memory: 5056, loss_rpn_cls: 0.0718, loss_rpn_bbox: 0.0426, loss_glbctx: 0.8734, s0.loss_cls: 0.3151, s0.acc: 90.2354, s0.loss_bbox: 0.1482, s1.loss_cls: 0.1455, s1.acc: 91.0385, s1.loss_bbox: 0.1252, s2.loss_cls: 0.0713, s2.acc: 91.1953, s2.loss_bbox: 0.0719, loss_mask: 0.3646, loss: 2.2297, grad_norm: 4.6480\n",
      "2021-05-13 03:39:48,706 - mmdet - INFO - Epoch [15][300/655]\tlr: 2.000e-02, eta: 0:52:12, time: 0.915, data_time: 0.025, memory: 5056, loss_rpn_cls: 0.0803, loss_rpn_bbox: 0.0475, loss_glbctx: 0.9103, s0.loss_cls: 0.3189, s0.acc: 90.1641, s0.loss_bbox: 0.1508, s1.loss_cls: 0.1459, s1.acc: 91.1374, s1.loss_bbox: 0.1238, s2.loss_cls: 0.0698, s2.acc: 91.2442, s2.loss_bbox: 0.0719, loss_mask: 0.3311, loss: 2.2503, grad_norm: 4.6013\n",
      "2021-05-13 03:40:33,118 - mmdet - INFO - Epoch [15][350/655]\tlr: 2.000e-02, eta: 0:51:29, time: 0.888, data_time: 0.022, memory: 5056, loss_rpn_cls: 0.0873, loss_rpn_bbox: 0.0458, loss_glbctx: 0.9642, s0.loss_cls: 0.3235, s0.acc: 90.3447, s0.loss_bbox: 0.1455, s1.loss_cls: 0.1469, s1.acc: 91.2913, s1.loss_bbox: 0.1215, s2.loss_cls: 0.0716, s2.acc: 91.4522, s2.loss_bbox: 0.0693, loss_mask: 0.3383, loss: 2.3139, grad_norm: 4.6283\n",
      "2021-05-13 03:41:18,477 - mmdet - INFO - Epoch [15][400/655]\tlr: 2.000e-02, eta: 0:50:47, time: 0.907, data_time: 0.024, memory: 5056, loss_rpn_cls: 0.0873, loss_rpn_bbox: 0.0526, loss_glbctx: 0.9695, s0.loss_cls: 0.3312, s0.acc: 89.9053, s0.loss_bbox: 0.1611, s1.loss_cls: 0.1522, s1.acc: 90.7598, s1.loss_bbox: 0.1374, s2.loss_cls: 0.0724, s2.acc: 91.0371, s2.loss_bbox: 0.0752, loss_mask: 0.3552, loss: 2.3941, grad_norm: 4.7219\n",
      "2021-05-13 03:42:03,858 - mmdet - INFO - Epoch [15][450/655]\tlr: 2.000e-02, eta: 0:50:05, time: 0.908, data_time: 0.022, memory: 5056, loss_rpn_cls: 0.0754, loss_rpn_bbox: 0.0410, loss_glbctx: 0.8818, s0.loss_cls: 0.3156, s0.acc: 90.5166, s0.loss_bbox: 0.1374, s1.loss_cls: 0.1452, s1.acc: 91.2509, s1.loss_bbox: 0.1188, s2.loss_cls: 0.0708, s2.acc: 91.3049, s2.loss_bbox: 0.0703, loss_mask: 0.3284, loss: 2.1847, grad_norm: 4.4475\n",
      "2021-05-13 03:42:47,970 - mmdet - INFO - Epoch [15][500/655]\tlr: 2.000e-02, eta: 0:49:22, time: 0.882, data_time: 0.022, memory: 5056, loss_rpn_cls: 0.1124, loss_rpn_bbox: 0.0524, loss_glbctx: 1.0151, s0.loss_cls: 0.3411, s0.acc: 89.7002, s0.loss_bbox: 0.1687, s1.loss_cls: 0.1563, s1.acc: 90.6439, s1.loss_bbox: 0.1379, s2.loss_cls: 0.0726, s2.acc: 91.3860, s2.loss_bbox: 0.0706, loss_mask: 0.3906, loss: 2.5175, grad_norm: 5.3861\n",
      "2021-05-13 03:43:31,860 - mmdet - INFO - Epoch [15][550/655]\tlr: 2.000e-02, eta: 0:48:39, time: 0.878, data_time: 0.022, memory: 5056, loss_rpn_cls: 0.0912, loss_rpn_bbox: 0.0474, loss_glbctx: 1.0009, s0.loss_cls: 0.3254, s0.acc: 90.3076, s0.loss_bbox: 0.1478, s1.loss_cls: 0.1482, s1.acc: 91.1400, s1.loss_bbox: 0.1214, s2.loss_cls: 0.0700, s2.acc: 91.6285, s2.loss_bbox: 0.0660, loss_mask: 0.3673, loss: 2.3856, grad_norm: 4.3408\n",
      "2021-05-13 03:44:15,722 - mmdet - INFO - Epoch [15][600/655]\tlr: 2.000e-02, eta: 0:47:56, time: 0.877, data_time: 0.021, memory: 5056, loss_rpn_cls: 0.0811, loss_rpn_bbox: 0.0471, loss_glbctx: 0.9576, s0.loss_cls: 0.3119, s0.acc: 90.6104, s0.loss_bbox: 0.1498, s1.loss_cls: 0.1416, s1.acc: 91.5640, s1.loss_bbox: 0.1257, s2.loss_cls: 0.0686, s2.acc: 91.4630, s2.loss_bbox: 0.0700, loss_mask: 0.3611, loss: 2.3146, grad_norm: 4.2248\n",
      "2021-05-13 03:44:59,699 - mmdet - INFO - Epoch [15][650/655]\tlr: 2.000e-02, eta: 0:47:13, time: 0.880, data_time: 0.020, memory: 5056, loss_rpn_cls: 0.0696, loss_rpn_bbox: 0.0396, loss_glbctx: 0.9578, s0.loss_cls: 0.3073, s0.acc: 90.5732, s0.loss_bbox: 0.1433, s1.loss_cls: 0.1446, s1.acc: 91.0326, s1.loss_bbox: 0.1192, s2.loss_cls: 0.0689, s2.acc: 91.5659, s2.loss_bbox: 0.0674, loss_mask: 0.3292, loss: 2.2467, grad_norm: 4.8220\n",
      "2021-05-13 03:45:04,100 - mmdet - INFO - Saving checkpoint at 15 epochs\n"
     ]
    },
    {
     "name": "stdout",
     "output_type": "stream",
     "text": [
      "[>>>>>>>>>>>>>>>>>>>>>>>>>>>>>] 655/655, 4.4 task/s, elapsed: 147s, ETA:     0s"
     ]
    },
    {
     "name": "stderr",
     "output_type": "stream",
     "text": [
      "2021-05-13 03:47:37,827 - mmdet - INFO - Evaluating bbox...\n"
     ]
    },
    {
     "name": "stdout",
     "output_type": "stream",
     "text": [
      "Loading and preparing results...\n",
      "DONE (t=0.86s)\n",
      "creating index...\n",
      "index created!\n",
      "Running per image evaluation...\n",
      "Evaluate annotation type *bbox*\n",
      "DONE (t=8.27s).\n",
      "Accumulating evaluation results...\n"
     ]
    },
    {
     "name": "stderr",
     "output_type": "stream",
     "text": [
      "2021-05-13 03:47:48,992 - mmdet - INFO - Now best checkpoint is epoch_15.pth.Best bbox_mAP_50 is 0.2070\n",
      "2021-05-13 03:47:49,036 - mmdet - INFO - Epoch(val) [15][655]\tbbox_mAP: 0.1250, bbox_mAP_50: 0.2070, bbox_mAP_75: 0.1340, bbox_mAP_s: 0.0240, bbox_mAP_m: 0.1060, bbox_mAP_l: 0.3010, bbox_mAP_copypaste: 0.125 0.207 0.134 0.024 0.106 0.301\n"
     ]
    },
    {
     "name": "stdout",
     "output_type": "stream",
     "text": [
      "DONE (t=1.87s).\n",
      "Average Precision  (AP) @[ IoU=0.50:0.95 | area=   all | maxDets=100 ] = 0.125\n",
      "Average Precision  (AP) @[ IoU=0.50      | area=   all | maxDets=1000 ] = 0.207\n",
      "Average Precision  (AP) @[ IoU=0.75      | area=   all | maxDets=1000 ] = 0.134\n",
      "Average Precision  (AP) @[ IoU=0.50:0.95 | area= small | maxDets=1000 ] = 0.024\n",
      "Average Precision  (AP) @[ IoU=0.50:0.95 | area=medium | maxDets=1000 ] = 0.106\n",
      "Average Precision  (AP) @[ IoU=0.50:0.95 | area= large | maxDets=1000 ] = 0.301\n",
      "Average Recall     (AR) @[ IoU=0.50:0.95 | area=   all | maxDets=100 ] = 0.287\n",
      "Average Recall     (AR) @[ IoU=0.50:0.95 | area=   all | maxDets=300 ] = 0.287\n",
      "Average Recall     (AR) @[ IoU=0.50:0.95 | area=   all | maxDets=1000 ] = 0.287\n",
      "Average Recall     (AR) @[ IoU=0.50:0.95 | area= small | maxDets=1000 ] = 0.078\n",
      "Average Recall     (AR) @[ IoU=0.50:0.95 | area=medium | maxDets=1000 ] = 0.239\n",
      "Average Recall     (AR) @[ IoU=0.50:0.95 | area= large | maxDets=1000 ] = 0.568\n"
     ]
    },
    {
     "name": "stderr",
     "output_type": "stream",
     "text": [
      "2021-05-13 03:48:35,450 - mmdet - INFO - Epoch [16][50/655]\tlr: 2.000e-02, eta: 0:46:25, time: 0.928, data_time: 0.073, memory: 5056, loss_rpn_cls: 0.0777, loss_rpn_bbox: 0.0444, loss_glbctx: 0.9329, s0.loss_cls: 0.3122, s0.acc: 90.6504, s0.loss_bbox: 0.1418, s1.loss_cls: 0.1395, s1.acc: 91.4829, s1.loss_bbox: 0.1196, s2.loss_cls: 0.0682, s2.acc: 91.7738, s2.loss_bbox: 0.0683, loss_mask: 0.3538, loss: 2.2583, grad_norm: 4.4479\n",
      "2021-05-13 03:49:20,588 - mmdet - INFO - Epoch [16][100/655]\tlr: 2.000e-02, eta: 0:45:42, time: 0.903, data_time: 0.022, memory: 5056, loss_rpn_cls: 0.0775, loss_rpn_bbox: 0.0491, loss_glbctx: 0.8898, s0.loss_cls: 0.3089, s0.acc: 90.4375, s0.loss_bbox: 0.1554, s1.loss_cls: 0.1372, s1.acc: 91.3417, s1.loss_bbox: 0.1286, s2.loss_cls: 0.0665, s2.acc: 91.6814, s2.loss_bbox: 0.0714, loss_mask: 0.3394, loss: 2.2237, grad_norm: 4.3425\n",
      "2021-05-13 03:50:05,557 - mmdet - INFO - Epoch [16][150/655]\tlr: 2.000e-02, eta: 0:45:00, time: 0.899, data_time: 0.022, memory: 5056, loss_rpn_cls: 0.0705, loss_rpn_bbox: 0.0380, loss_glbctx: 0.9473, s0.loss_cls: 0.3030, s0.acc: 90.7920, s0.loss_bbox: 0.1399, s1.loss_cls: 0.1366, s1.acc: 91.7069, s1.loss_bbox: 0.1196, s2.loss_cls: 0.0677, s2.acc: 92.0473, s2.loss_bbox: 0.0697, loss_mask: 0.3398, loss: 2.2321, grad_norm: 4.3257\n",
      "2021-05-13 03:50:50,809 - mmdet - INFO - Epoch [16][200/655]\tlr: 2.000e-02, eta: 0:44:17, time: 0.905, data_time: 0.022, memory: 5056, loss_rpn_cls: 0.0793, loss_rpn_bbox: 0.0437, loss_glbctx: 0.9077, s0.loss_cls: 0.3274, s0.acc: 89.9453, s0.loss_bbox: 0.1509, s1.loss_cls: 0.1508, s1.acc: 90.7286, s1.loss_bbox: 0.1298, s2.loss_cls: 0.0717, s2.acc: 91.4359, s2.loss_bbox: 0.0728, loss_mask: 0.3290, loss: 2.2632, grad_norm: 4.4227\n",
      "2021-05-13 03:51:35,259 - mmdet - INFO - Epoch [16][250/655]\tlr: 2.000e-02, eta: 0:43:34, time: 0.889, data_time: 0.023, memory: 5056, loss_rpn_cls: 0.0795, loss_rpn_bbox: 0.0451, loss_glbctx: 0.9405, s0.loss_cls: 0.3344, s0.acc: 89.7109, s0.loss_bbox: 0.1568, s1.loss_cls: 0.1491, s1.acc: 90.7639, s1.loss_bbox: 0.1293, s2.loss_cls: 0.0716, s2.acc: 91.2550, s2.loss_bbox: 0.0693, loss_mask: 0.3377, loss: 2.3135, grad_norm: 4.9941\n",
      "2021-05-13 03:52:19,470 - mmdet - INFO - Epoch [16][300/655]\tlr: 2.000e-02, eta: 0:42:51, time: 0.884, data_time: 0.020, memory: 5056, loss_rpn_cls: 0.0735, loss_rpn_bbox: 0.0398, loss_glbctx: 0.9667, s0.loss_cls: 0.3079, s0.acc: 90.7607, s0.loss_bbox: 0.1339, s1.loss_cls: 0.1398, s1.acc: 91.6428, s1.loss_bbox: 0.1138, s2.loss_cls: 0.0692, s2.acc: 91.6718, s2.loss_bbox: 0.0633, loss_mask: 0.3518, loss: 2.2596, grad_norm: 4.3582\n",
      "2021-05-13 03:53:05,553 - mmdet - INFO - Epoch [16][350/655]\tlr: 2.000e-02, eta: 0:42:09, time: 0.922, data_time: 0.026, memory: 5065, loss_rpn_cls: 0.0853, loss_rpn_bbox: 0.0502, loss_glbctx: 0.8729, s0.loss_cls: 0.3223, s0.acc: 89.9316, s0.loss_bbox: 0.1578, s1.loss_cls: 0.1485, s1.acc: 90.6746, s1.loss_bbox: 0.1315, s2.loss_cls: 0.0733, s2.acc: 90.9564, s2.loss_bbox: 0.0736, loss_mask: 0.3582, loss: 2.2735, grad_norm: 4.4774\n",
      "2021-05-13 03:53:49,790 - mmdet - INFO - Epoch [16][400/655]\tlr: 2.000e-02, eta: 0:41:26, time: 0.885, data_time: 0.022, memory: 5081, loss_rpn_cls: 0.0720, loss_rpn_bbox: 0.0425, loss_glbctx: 0.8726, s0.loss_cls: 0.2845, s0.acc: 91.2686, s0.loss_bbox: 0.1341, s1.loss_cls: 0.1294, s1.acc: 92.1081, s1.loss_bbox: 0.1146, s2.loss_cls: 0.0622, s2.acc: 92.3021, s2.loss_bbox: 0.0657, loss_mask: 0.3324, loss: 2.1101, grad_norm: 4.4243\n",
      "2021-05-13 03:54:33,243 - mmdet - INFO - Epoch [16][450/655]\tlr: 2.000e-02, eta: 0:40:43, time: 0.869, data_time: 0.021, memory: 5081, loss_rpn_cls: 0.0678, loss_rpn_bbox: 0.0422, loss_glbctx: 0.8279, s0.loss_cls: 0.2675, s0.acc: 91.8281, s0.loss_bbox: 0.1250, s1.loss_cls: 0.1243, s1.acc: 92.4629, s1.loss_bbox: 0.1080, s2.loss_cls: 0.0606, s2.acc: 92.6816, s2.loss_bbox: 0.0647, loss_mask: 0.3061, loss: 1.9941, grad_norm: 4.8459\n",
      "2021-05-13 03:55:19,352 - mmdet - INFO - Epoch [16][500/655]\tlr: 2.000e-02, eta: 0:40:00, time: 0.922, data_time: 0.022, memory: 5081, loss_rpn_cls: 0.0953, loss_rpn_bbox: 0.0495, loss_glbctx: 0.9929, s0.loss_cls: 0.3348, s0.acc: 89.7861, s0.loss_bbox: 0.1562, s1.loss_cls: 0.1504, s1.acc: 90.7851, s1.loss_bbox: 0.1309, s2.loss_cls: 0.0730, s2.acc: 91.1263, s2.loss_bbox: 0.0758, loss_mask: 0.3239, loss: 2.3827, grad_norm: 4.6630\n",
      "2021-05-13 03:56:03,913 - mmdet - INFO - Epoch [16][550/655]\tlr: 2.000e-02, eta: 0:39:18, time: 0.891, data_time: 0.023, memory: 5081, loss_rpn_cls: 0.0883, loss_rpn_bbox: 0.0511, loss_glbctx: 0.9486, s0.loss_cls: 0.3283, s0.acc: 90.1543, s0.loss_bbox: 0.1576, s1.loss_cls: 0.1488, s1.acc: 90.9913, s1.loss_bbox: 0.1335, s2.loss_cls: 0.0718, s2.acc: 91.2758, s2.loss_bbox: 0.0756, loss_mask: 0.3403, loss: 2.3440, grad_norm: 4.5662\n",
      "2021-05-13 03:56:48,683 - mmdet - INFO - Epoch [16][600/655]\tlr: 2.000e-02, eta: 0:38:35, time: 0.895, data_time: 0.022, memory: 5081, loss_rpn_cls: 0.0675, loss_rpn_bbox: 0.0394, loss_glbctx: 0.9496, s0.loss_cls: 0.3008, s0.acc: 90.9004, s0.loss_bbox: 0.1405, s1.loss_cls: 0.1377, s1.acc: 91.8867, s1.loss_bbox: 0.1219, s2.loss_cls: 0.0666, s2.acc: 92.0526, s2.loss_bbox: 0.0706, loss_mask: 0.3479, loss: 2.2424, grad_norm: 4.7131\n",
      "2021-05-13 03:57:33,260 - mmdet - INFO - Epoch [16][650/655]\tlr: 2.000e-02, eta: 0:37:52, time: 0.892, data_time: 0.024, memory: 5081, loss_rpn_cls: 0.0893, loss_rpn_bbox: 0.0540, loss_glbctx: 0.9682, s0.loss_cls: 0.3139, s0.acc: 90.6270, s0.loss_bbox: 0.1474, s1.loss_cls: 0.1450, s1.acc: 91.3072, s1.loss_bbox: 0.1254, s2.loss_cls: 0.0699, s2.acc: 91.5130, s2.loss_bbox: 0.0696, loss_mask: 0.3644, loss: 2.3472, grad_norm: 4.4815\n",
      "2021-05-13 03:57:37,860 - mmdet - INFO - Saving checkpoint at 16 epochs\n"
     ]
    },
    {
     "name": "stdout",
     "output_type": "stream",
     "text": [
      "[>>>>>>>>>>>>>>>>>>>>>>>>>>>>>] 655/655, 4.4 task/s, elapsed: 148s, ETA:     0s"
     ]
    },
    {
     "name": "stderr",
     "output_type": "stream",
     "text": [
      "2021-05-13 04:00:12,407 - mmdet - INFO - Evaluating bbox...\n"
     ]
    },
    {
     "name": "stdout",
     "output_type": "stream",
     "text": [
      "Loading and preparing results...\n",
      "DONE (t=0.85s)\n",
      "creating index...\n",
      "index created!\n",
      "Running per image evaluation...\n",
      "Evaluate annotation type *bbox*\n",
      "DONE (t=7.08s).\n",
      "Accumulating evaluation results...\n"
     ]
    },
    {
     "name": "stderr",
     "output_type": "stream",
     "text": [
      "2021-05-13 04:00:22,418 - mmdet - INFO - Epoch(val) [16][655]\tbbox_mAP: 0.1140, bbox_mAP_50: 0.1900, bbox_mAP_75: 0.1150, bbox_mAP_s: 0.0180, bbox_mAP_m: 0.1090, bbox_mAP_l: 0.2240, bbox_mAP_copypaste: 0.114 0.190 0.115 0.018 0.109 0.224\n"
     ]
    },
    {
     "name": "stdout",
     "output_type": "stream",
     "text": [
      "DONE (t=1.87s).\n",
      "Average Precision  (AP) @[ IoU=0.50:0.95 | area=   all | maxDets=100 ] = 0.114\n",
      "Average Precision  (AP) @[ IoU=0.50      | area=   all | maxDets=1000 ] = 0.190\n",
      "Average Precision  (AP) @[ IoU=0.75      | area=   all | maxDets=1000 ] = 0.115\n",
      "Average Precision  (AP) @[ IoU=0.50:0.95 | area= small | maxDets=1000 ] = 0.018\n",
      "Average Precision  (AP) @[ IoU=0.50:0.95 | area=medium | maxDets=1000 ] = 0.109\n",
      "Average Precision  (AP) @[ IoU=0.50:0.95 | area= large | maxDets=1000 ] = 0.224\n",
      "Average Recall     (AR) @[ IoU=0.50:0.95 | area=   all | maxDets=100 ] = 0.323\n",
      "Average Recall     (AR) @[ IoU=0.50:0.95 | area=   all | maxDets=300 ] = 0.323\n",
      "Average Recall     (AR) @[ IoU=0.50:0.95 | area=   all | maxDets=1000 ] = 0.323\n",
      "Average Recall     (AR) @[ IoU=0.50:0.95 | area= small | maxDets=1000 ] = 0.081\n",
      "Average Recall     (AR) @[ IoU=0.50:0.95 | area=medium | maxDets=1000 ] = 0.273\n",
      "Average Recall     (AR) @[ IoU=0.50:0.95 | area= large | maxDets=1000 ] = 0.622\n"
     ]
    },
    {
     "name": "stderr",
     "output_type": "stream",
     "text": [
      "2021-05-13 04:01:08,836 - mmdet - INFO - Epoch [17][50/655]\tlr: 2.000e-03, eta: 0:37:04, time: 0.928, data_time: 0.074, memory: 5081, loss_rpn_cls: 0.0666, loss_rpn_bbox: 0.0412, loss_glbctx: 0.8964, s0.loss_cls: 0.2723, s0.acc: 91.5156, s0.loss_bbox: 0.1276, s1.loss_cls: 0.1234, s1.acc: 92.4680, s1.loss_bbox: 0.1066, s2.loss_cls: 0.0597, s2.acc: 92.5053, s2.loss_bbox: 0.0584, loss_mask: 0.3269, loss: 2.0792, grad_norm: 3.6075\n",
      "2021-05-13 04:01:54,017 - mmdet - INFO - Epoch [17][100/655]\tlr: 2.000e-03, eta: 0:36:21, time: 0.904, data_time: 0.023, memory: 5081, loss_rpn_cls: 0.0685, loss_rpn_bbox: 0.0432, loss_glbctx: 0.8168, s0.loss_cls: 0.2734, s0.acc: 91.2861, s0.loss_bbox: 0.1367, s1.loss_cls: 0.1240, s1.acc: 92.1390, s1.loss_bbox: 0.1110, s2.loss_cls: 0.0597, s2.acc: 92.5513, s2.loss_bbox: 0.0613, loss_mask: 0.3149, loss: 2.0095, grad_norm: 3.5197\n",
      "2021-05-13 04:02:39,029 - mmdet - INFO - Epoch [17][150/655]\tlr: 2.000e-03, eta: 0:35:38, time: 0.900, data_time: 0.021, memory: 5081, loss_rpn_cls: 0.0575, loss_rpn_bbox: 0.0341, loss_glbctx: 0.7943, s0.loss_cls: 0.2490, s0.acc: 92.1719, s0.loss_bbox: 0.1155, s1.loss_cls: 0.1100, s1.acc: 93.1150, s1.loss_bbox: 0.0996, s2.loss_cls: 0.0557, s2.acc: 93.0580, s2.loss_bbox: 0.0596, loss_mask: 0.2910, loss: 1.8662, grad_norm: 3.6551\n",
      "2021-05-13 04:03:23,700 - mmdet - INFO - Epoch [17][200/655]\tlr: 2.000e-03, eta: 0:34:55, time: 0.893, data_time: 0.021, memory: 5081, loss_rpn_cls: 0.0571, loss_rpn_bbox: 0.0351, loss_glbctx: 0.7896, s0.loss_cls: 0.2672, s0.acc: 91.4336, s0.loss_bbox: 0.1272, s1.loss_cls: 0.1203, s1.acc: 92.2605, s1.loss_bbox: 0.1072, s2.loss_cls: 0.0610, s2.acc: 92.2650, s2.loss_bbox: 0.0603, loss_mask: 0.3082, loss: 1.9331, grad_norm: 3.7108\n",
      "2021-05-13 04:04:10,001 - mmdet - INFO - Epoch [17][250/655]\tlr: 2.000e-03, eta: 0:34:12, time: 0.926, data_time: 0.023, memory: 5081, loss_rpn_cls: 0.0564, loss_rpn_bbox: 0.0352, loss_glbctx: 0.7323, s0.loss_cls: 0.2538, s0.acc: 91.8672, s0.loss_bbox: 0.1280, s1.loss_cls: 0.1137, s1.acc: 92.9573, s1.loss_bbox: 0.1074, s2.loss_cls: 0.0575, s2.acc: 92.8677, s2.loss_bbox: 0.0640, loss_mask: 0.2854, loss: 1.8337, grad_norm: 3.6670\n",
      "2021-05-13 04:04:55,442 - mmdet - INFO - Epoch [17][300/655]\tlr: 2.000e-03, eta: 0:33:30, time: 0.909, data_time: 0.020, memory: 5081, loss_rpn_cls: 0.0504, loss_rpn_bbox: 0.0303, loss_glbctx: 0.7147, s0.loss_cls: 0.2434, s0.acc: 92.2852, s0.loss_bbox: 0.1128, s1.loss_cls: 0.1064, s1.acc: 93.2835, s1.loss_bbox: 0.0981, s2.loss_cls: 0.0539, s2.acc: 93.1419, s2.loss_bbox: 0.0576, loss_mask: 0.2701, loss: 1.7376, grad_norm: 3.9334\n",
      "2021-05-13 04:05:41,697 - mmdet - INFO - Epoch [17][350/655]\tlr: 2.000e-03, eta: 0:32:47, time: 0.925, data_time: 0.024, memory: 5081, loss_rpn_cls: 0.0615, loss_rpn_bbox: 0.0422, loss_glbctx: 0.7786, s0.loss_cls: 0.2786, s0.acc: 91.0615, s0.loss_bbox: 0.1402, s1.loss_cls: 0.1267, s1.acc: 91.8963, s1.loss_bbox: 0.1179, s2.loss_cls: 0.0628, s2.acc: 92.2354, s2.loss_bbox: 0.0650, loss_mask: 0.3061, loss: 1.9794, grad_norm: 4.0322\n",
      "2021-05-13 04:06:28,153 - mmdet - INFO - Epoch [17][400/655]\tlr: 2.000e-03, eta: 0:32:04, time: 0.929, data_time: 0.021, memory: 5081, loss_rpn_cls: 0.0594, loss_rpn_bbox: 0.0386, loss_glbctx: 0.7638, s0.loss_cls: 0.2837, s0.acc: 91.2080, s0.loss_bbox: 0.1365, s1.loss_cls: 0.1280, s1.acc: 92.1882, s1.loss_bbox: 0.1158, s2.loss_cls: 0.0638, s2.acc: 92.1964, s2.loss_bbox: 0.0669, loss_mask: 0.2998, loss: 1.9561, grad_norm: 3.8400\n",
      "2021-05-13 04:07:14,883 - mmdet - INFO - Epoch [17][450/655]\tlr: 2.000e-03, eta: 0:31:22, time: 0.935, data_time: 0.023, memory: 5081, loss_rpn_cls: 0.0525, loss_rpn_bbox: 0.0371, loss_glbctx: 0.6729, s0.loss_cls: 0.2642, s0.acc: 91.2949, s0.loss_bbox: 0.1368, s1.loss_cls: 0.1176, s1.acc: 92.3239, s1.loss_bbox: 0.1204, s2.loss_cls: 0.0592, s2.acc: 92.2833, s2.loss_bbox: 0.0694, loss_mask: 0.2909, loss: 1.8210, grad_norm: 3.7260\n",
      "2021-05-13 04:08:00,577 - mmdet - INFO - Epoch [17][500/655]\tlr: 2.000e-03, eta: 0:30:39, time: 0.914, data_time: 0.021, memory: 5081, loss_rpn_cls: 0.0575, loss_rpn_bbox: 0.0373, loss_glbctx: 0.7117, s0.loss_cls: 0.2671, s0.acc: 91.6279, s0.loss_bbox: 0.1289, s1.loss_cls: 0.1201, s1.acc: 92.6640, s1.loss_bbox: 0.1116, s2.loss_cls: 0.0592, s2.acc: 92.9099, s2.loss_bbox: 0.0619, loss_mask: 0.2912, loss: 1.8464, grad_norm: 3.8092\n",
      "2021-05-13 04:08:46,555 - mmdet - INFO - Epoch [17][550/655]\tlr: 2.000e-03, eta: 0:29:56, time: 0.920, data_time: 0.022, memory: 5081, loss_rpn_cls: 0.0531, loss_rpn_bbox: 0.0381, loss_glbctx: 0.7503, s0.loss_cls: 0.2641, s0.acc: 91.5068, s0.loss_bbox: 0.1300, s1.loss_cls: 0.1181, s1.acc: 92.4513, s1.loss_bbox: 0.1097, s2.loss_cls: 0.0589, s2.acc: 92.4670, s2.loss_bbox: 0.0620, loss_mask: 0.2836, loss: 1.8679, grad_norm: 3.9834\n",
      "2021-05-13 04:09:32,347 - mmdet - INFO - Epoch [17][600/655]\tlr: 2.000e-03, eta: 0:29:13, time: 0.916, data_time: 0.021, memory: 5081, loss_rpn_cls: 0.0546, loss_rpn_bbox: 0.0362, loss_glbctx: 0.7103, s0.loss_cls: 0.2518, s0.acc: 91.8906, s0.loss_bbox: 0.1260, s1.loss_cls: 0.1082, s1.acc: 93.2031, s1.loss_bbox: 0.1055, s2.loss_cls: 0.0549, s2.acc: 93.1441, s2.loss_bbox: 0.0618, loss_mask: 0.2970, loss: 1.8063, grad_norm: 4.0312\n",
      "2021-05-13 04:10:18,149 - mmdet - INFO - Epoch [17][650/655]\tlr: 2.000e-03, eta: 0:28:30, time: 0.916, data_time: 0.022, memory: 5081, loss_rpn_cls: 0.0579, loss_rpn_bbox: 0.0362, loss_glbctx: 0.6829, s0.loss_cls: 0.2650, s0.acc: 91.4082, s0.loss_bbox: 0.1266, s1.loss_cls: 0.1162, s1.acc: 92.6344, s1.loss_bbox: 0.1084, s2.loss_cls: 0.0582, s2.acc: 92.8396, s2.loss_bbox: 0.0611, loss_mask: 0.2927, loss: 1.8053, grad_norm: 4.0333\n",
      "2021-05-13 04:10:22,969 - mmdet - INFO - Saving checkpoint at 17 epochs\n"
     ]
    },
    {
     "name": "stdout",
     "output_type": "stream",
     "text": [
      "[>>>>>>>>>>>>>>>>>>>>>>>>>>>>>] 655/655, 4.7 task/s, elapsed: 140s, ETA:     0s"
     ]
    },
    {
     "name": "stderr",
     "output_type": "stream",
     "text": [
      "2021-05-13 04:12:49,433 - mmdet - INFO - Evaluating bbox...\n"
     ]
    },
    {
     "name": "stdout",
     "output_type": "stream",
     "text": [
      "Loading and preparing results...\n",
      "DONE (t=0.82s)\n",
      "creating index...\n",
      "index created!\n",
      "Running per image evaluation...\n",
      "Evaluate annotation type *bbox*\n",
      "DONE (t=7.52s).\n",
      "Accumulating evaluation results...\n"
     ]
    },
    {
     "name": "stderr",
     "output_type": "stream",
     "text": [
      "2021-05-13 04:12:59,624 - mmdet - INFO - Now best checkpoint is epoch_17.pth.Best bbox_mAP_50 is 0.2530\n",
      "2021-05-13 04:12:59,663 - mmdet - INFO - Epoch(val) [17][655]\tbbox_mAP: 0.1600, bbox_mAP_50: 0.2530, bbox_mAP_75: 0.1650, bbox_mAP_s: 0.0340, bbox_mAP_m: 0.1360, bbox_mAP_l: 0.3630, bbox_mAP_copypaste: 0.160 0.253 0.165 0.034 0.136 0.363\n"
     ]
    },
    {
     "name": "stdout",
     "output_type": "stream",
     "text": [
      "DONE (t=1.70s).\n",
      "Average Precision  (AP) @[ IoU=0.50:0.95 | area=   all | maxDets=100 ] = 0.160\n",
      "Average Precision  (AP) @[ IoU=0.50      | area=   all | maxDets=1000 ] = 0.253\n",
      "Average Precision  (AP) @[ IoU=0.75      | area=   all | maxDets=1000 ] = 0.165\n",
      "Average Precision  (AP) @[ IoU=0.50:0.95 | area= small | maxDets=1000 ] = 0.034\n",
      "Average Precision  (AP) @[ IoU=0.50:0.95 | area=medium | maxDets=1000 ] = 0.136\n",
      "Average Precision  (AP) @[ IoU=0.50:0.95 | area= large | maxDets=1000 ] = 0.363\n",
      "Average Recall     (AR) @[ IoU=0.50:0.95 | area=   all | maxDets=100 ] = 0.373\n",
      "Average Recall     (AR) @[ IoU=0.50:0.95 | area=   all | maxDets=300 ] = 0.373\n",
      "Average Recall     (AR) @[ IoU=0.50:0.95 | area=   all | maxDets=1000 ] = 0.373\n",
      "Average Recall     (AR) @[ IoU=0.50:0.95 | area= small | maxDets=1000 ] = 0.120\n",
      "Average Recall     (AR) @[ IoU=0.50:0.95 | area=medium | maxDets=1000 ] = 0.332\n",
      "Average Recall     (AR) @[ IoU=0.50:0.95 | area= large | maxDets=1000 ] = 0.640\n"
     ]
    },
    {
     "name": "stderr",
     "output_type": "stream",
     "text": [
      "2021-05-13 04:13:48,812 - mmdet - INFO - Epoch [18][50/655]\tlr: 2.000e-03, eta: 0:27:42, time: 0.983, data_time: 0.075, memory: 5081, loss_rpn_cls: 0.0509, loss_rpn_bbox: 0.0364, loss_glbctx: 0.5976, s0.loss_cls: 0.2523, s0.acc: 91.6025, s0.loss_bbox: 0.1283, s1.loss_cls: 0.1102, s1.acc: 92.6629, s1.loss_bbox: 0.1118, s2.loss_cls: 0.0561, s2.acc: 92.7121, s2.loss_bbox: 0.0627, loss_mask: 0.2851, loss: 1.6915, grad_norm: 3.8508\n",
      "2021-05-13 04:14:35,201 - mmdet - INFO - Epoch [18][100/655]\tlr: 2.000e-03, eta: 0:26:59, time: 0.928, data_time: 0.021, memory: 5081, loss_rpn_cls: 0.0478, loss_rpn_bbox: 0.0334, loss_glbctx: 0.6359, s0.loss_cls: 0.2378, s0.acc: 92.2002, s0.loss_bbox: 0.1170, s1.loss_cls: 0.1047, s1.acc: 93.1606, s1.loss_bbox: 0.1014, s2.loss_cls: 0.0534, s2.acc: 93.0410, s2.loss_bbox: 0.0607, loss_mask: 0.2854, loss: 1.6777, grad_norm: 3.6591\n",
      "2021-05-13 04:15:21,390 - mmdet - INFO - Epoch [18][150/655]\tlr: 2.000e-03, eta: 0:26:16, time: 0.924, data_time: 0.023, memory: 5081, loss_rpn_cls: 0.0455, loss_rpn_bbox: 0.0334, loss_glbctx: 0.6714, s0.loss_cls: 0.2486, s0.acc: 92.1416, s0.loss_bbox: 0.1196, s1.loss_cls: 0.1038, s1.acc: 93.4964, s1.loss_bbox: 0.0986, s2.loss_cls: 0.0533, s2.acc: 93.4987, s2.loss_bbox: 0.0585, loss_mask: 0.2668, loss: 1.6996, grad_norm: 3.9373\n",
      "2021-05-13 04:16:07,856 - mmdet - INFO - Epoch [18][200/655]\tlr: 2.000e-03, eta: 0:25:33, time: 0.929, data_time: 0.024, memory: 5081, loss_rpn_cls: 0.0569, loss_rpn_bbox: 0.0421, loss_glbctx: 0.6959, s0.loss_cls: 0.2682, s0.acc: 91.3555, s0.loss_bbox: 0.1323, s1.loss_cls: 0.1172, s1.acc: 92.7391, s1.loss_bbox: 0.1089, s2.loss_cls: 0.0588, s2.acc: 92.5421, s2.loss_bbox: 0.0615, loss_mask: 0.2900, loss: 1.8320, grad_norm: 3.9185\n",
      "2021-05-13 04:16:54,403 - mmdet - INFO - Epoch [18][250/655]\tlr: 2.000e-03, eta: 0:24:50, time: 0.931, data_time: 0.024, memory: 5081, loss_rpn_cls: 0.0535, loss_rpn_bbox: 0.0351, loss_glbctx: 0.6544, s0.loss_cls: 0.2524, s0.acc: 91.7295, s0.loss_bbox: 0.1293, s1.loss_cls: 0.1102, s1.acc: 92.9064, s1.loss_bbox: 0.1084, s2.loss_cls: 0.0549, s2.acc: 93.1423, s2.loss_bbox: 0.0631, loss_mask: 0.2777, loss: 1.7388, grad_norm: 3.8155\n",
      "2021-05-13 04:17:40,596 - mmdet - INFO - Epoch [18][300/655]\tlr: 2.000e-03, eta: 0:24:07, time: 0.924, data_time: 0.023, memory: 5081, loss_rpn_cls: 0.0460, loss_rpn_bbox: 0.0368, loss_glbctx: 0.6311, s0.loss_cls: 0.2436, s0.acc: 91.9951, s0.loss_bbox: 0.1173, s1.loss_cls: 0.1079, s1.acc: 93.0770, s1.loss_bbox: 0.1030, s2.loss_cls: 0.0552, s2.acc: 93.1983, s2.loss_bbox: 0.0618, loss_mask: 0.2716, loss: 1.6742, grad_norm: 4.0631\n",
      "2021-05-13 04:18:26,065 - mmdet - INFO - Epoch [18][350/655]\tlr: 2.000e-03, eta: 0:23:24, time: 0.909, data_time: 0.023, memory: 5081, loss_rpn_cls: 0.0495, loss_rpn_bbox: 0.0342, loss_glbctx: 0.6609, s0.loss_cls: 0.2396, s0.acc: 92.3311, s0.loss_bbox: 0.1148, s1.loss_cls: 0.1062, s1.acc: 93.4836, s1.loss_bbox: 0.0982, s2.loss_cls: 0.0521, s2.acc: 93.5851, s2.loss_bbox: 0.0567, loss_mask: 0.2748, loss: 1.6870, grad_norm: 3.8543\n",
      "2021-05-13 04:19:10,941 - mmdet - INFO - Epoch [18][400/655]\tlr: 2.000e-03, eta: 0:22:41, time: 0.898, data_time: 0.020, memory: 5081, loss_rpn_cls: 0.0476, loss_rpn_bbox: 0.0304, loss_glbctx: 0.6679, s0.loss_cls: 0.2296, s0.acc: 92.6143, s0.loss_bbox: 0.1108, s1.loss_cls: 0.1001, s1.acc: 93.7360, s1.loss_bbox: 0.0929, s2.loss_cls: 0.0500, s2.acc: 93.7422, s2.loss_bbox: 0.0532, loss_mask: 0.2596, loss: 1.6421, grad_norm: 3.8796\n",
      "2021-05-13 04:19:56,697 - mmdet - INFO - Epoch [18][450/655]\tlr: 2.000e-03, eta: 0:21:58, time: 0.915, data_time: 0.023, memory: 5081, loss_rpn_cls: 0.0519, loss_rpn_bbox: 0.0319, loss_glbctx: 0.6274, s0.loss_cls: 0.2356, s0.acc: 92.3008, s0.loss_bbox: 0.1232, s1.loss_cls: 0.1007, s1.acc: 93.6563, s1.loss_bbox: 0.1013, s2.loss_cls: 0.0504, s2.acc: 93.9160, s2.loss_bbox: 0.0566, loss_mask: 0.2751, loss: 1.6542, grad_norm: 4.0042\n",
      "2021-05-13 04:20:42,421 - mmdet - INFO - Epoch [18][500/655]\tlr: 2.000e-03, eta: 0:21:14, time: 0.914, data_time: 0.020, memory: 5081, loss_rpn_cls: 0.0498, loss_rpn_bbox: 0.0353, loss_glbctx: 0.6467, s0.loss_cls: 0.2485, s0.acc: 92.0371, s0.loss_bbox: 0.1251, s1.loss_cls: 0.1099, s1.acc: 93.0529, s1.loss_bbox: 0.1046, s2.loss_cls: 0.0549, s2.acc: 93.0985, s2.loss_bbox: 0.0611, loss_mask: 0.2704, loss: 1.7063, grad_norm: 4.2006\n",
      "2021-05-13 04:21:28,958 - mmdet - INFO - Epoch [18][550/655]\tlr: 2.000e-03, eta: 0:20:31, time: 0.931, data_time: 0.021, memory: 5081, loss_rpn_cls: 0.0490, loss_rpn_bbox: 0.0322, loss_glbctx: 0.6531, s0.loss_cls: 0.2439, s0.acc: 91.9795, s0.loss_bbox: 0.1290, s1.loss_cls: 0.1059, s1.acc: 93.1810, s1.loss_bbox: 0.1083, s2.loss_cls: 0.0530, s2.acc: 93.2406, s2.loss_bbox: 0.0606, loss_mask: 0.2811, loss: 1.7162, grad_norm: 4.2196\n",
      "2021-05-13 04:22:15,699 - mmdet - INFO - Epoch [18][600/655]\tlr: 2.000e-03, eta: 0:19:48, time: 0.935, data_time: 0.021, memory: 5081, loss_rpn_cls: 0.0516, loss_rpn_bbox: 0.0366, loss_glbctx: 0.6356, s0.loss_cls: 0.2400, s0.acc: 92.3496, s0.loss_bbox: 0.1191, s1.loss_cls: 0.1017, s1.acc: 93.5305, s1.loss_bbox: 0.1021, s2.loss_cls: 0.0516, s2.acc: 93.6789, s2.loss_bbox: 0.0599, loss_mask: 0.2759, loss: 1.6741, grad_norm: 4.0733\n",
      "2021-05-13 04:23:00,961 - mmdet - INFO - Epoch [18][650/655]\tlr: 2.000e-03, eta: 0:19:05, time: 0.905, data_time: 0.021, memory: 5081, loss_rpn_cls: 0.0457, loss_rpn_bbox: 0.0341, loss_glbctx: 0.6559, s0.loss_cls: 0.2273, s0.acc: 92.6689, s0.loss_bbox: 0.1168, s1.loss_cls: 0.0992, s1.acc: 93.7098, s1.loss_bbox: 0.0986, s2.loss_cls: 0.0502, s2.acc: 93.4507, s2.loss_bbox: 0.0573, loss_mask: 0.2831, loss: 1.6680, grad_norm: 4.1393\n",
      "2021-05-13 04:23:05,562 - mmdet - INFO - Saving checkpoint at 18 epochs\n"
     ]
    },
    {
     "name": "stdout",
     "output_type": "stream",
     "text": [
      "[>>>>>>>>>>>>>>>>>>>>>>>>>>>>>] 655/655, 4.7 task/s, elapsed: 139s, ETA:     0s"
     ]
    },
    {
     "name": "stderr",
     "output_type": "stream",
     "text": [
      "2021-05-13 04:25:30,579 - mmdet - INFO - Evaluating bbox...\n"
     ]
    },
    {
     "name": "stdout",
     "output_type": "stream",
     "text": [
      "Loading and preparing results...\n",
      "DONE (t=0.77s)\n",
      "creating index...\n",
      "index created!\n",
      "Running per image evaluation...\n",
      "Evaluate annotation type *bbox*\n",
      "DONE (t=8.48s).\n",
      "Accumulating evaluation results...\n"
     ]
    },
    {
     "name": "stderr",
     "output_type": "stream",
     "text": [
      "2021-05-13 04:25:41,905 - mmdet - INFO - Now best checkpoint is epoch_18.pth.Best bbox_mAP_50 is 0.2660\n",
      "2021-05-13 04:25:41,950 - mmdet - INFO - Epoch(val) [18][655]\tbbox_mAP: 0.1680, bbox_mAP_50: 0.2660, bbox_mAP_75: 0.1770, bbox_mAP_s: 0.0360, bbox_mAP_m: 0.1450, bbox_mAP_l: 0.3690, bbox_mAP_copypaste: 0.168 0.266 0.177 0.036 0.145 0.369\n"
     ]
    },
    {
     "name": "stdout",
     "output_type": "stream",
     "text": [
      "DONE (t=1.91s).\n",
      "Average Precision  (AP) @[ IoU=0.50:0.95 | area=   all | maxDets=100 ] = 0.168\n",
      "Average Precision  (AP) @[ IoU=0.50      | area=   all | maxDets=1000 ] = 0.266\n",
      "Average Precision  (AP) @[ IoU=0.75      | area=   all | maxDets=1000 ] = 0.177\n",
      "Average Precision  (AP) @[ IoU=0.50:0.95 | area= small | maxDets=1000 ] = 0.036\n",
      "Average Precision  (AP) @[ IoU=0.50:0.95 | area=medium | maxDets=1000 ] = 0.145\n",
      "Average Precision  (AP) @[ IoU=0.50:0.95 | area= large | maxDets=1000 ] = 0.369\n",
      "Average Recall     (AR) @[ IoU=0.50:0.95 | area=   all | maxDets=100 ] = 0.383\n",
      "Average Recall     (AR) @[ IoU=0.50:0.95 | area=   all | maxDets=300 ] = 0.383\n",
      "Average Recall     (AR) @[ IoU=0.50:0.95 | area=   all | maxDets=1000 ] = 0.383\n",
      "Average Recall     (AR) @[ IoU=0.50:0.95 | area= small | maxDets=1000 ] = 0.134\n",
      "Average Recall     (AR) @[ IoU=0.50:0.95 | area=medium | maxDets=1000 ] = 0.358\n",
      "Average Recall     (AR) @[ IoU=0.50:0.95 | area= large | maxDets=1000 ] = 0.635\n"
     ]
    },
    {
     "name": "stderr",
     "output_type": "stream",
     "text": [
      "2021-05-13 04:26:30,859 - mmdet - INFO - Epoch [19][50/655]\tlr: 2.000e-03, eta: 0:18:17, time: 0.978, data_time: 0.075, memory: 5081, loss_rpn_cls: 0.0477, loss_rpn_bbox: 0.0325, loss_glbctx: 0.6729, s0.loss_cls: 0.2436, s0.acc: 92.1348, s0.loss_bbox: 0.1185, s1.loss_cls: 0.1057, s1.acc: 93.4207, s1.loss_bbox: 0.0991, s2.loss_cls: 0.0532, s2.acc: 93.4788, s2.loss_bbox: 0.0558, loss_mask: 0.2722, loss: 1.7011, grad_norm: 3.9277\n",
      "2021-05-13 04:27:17,009 - mmdet - INFO - Epoch [19][100/655]\tlr: 2.000e-03, eta: 0:17:34, time: 0.923, data_time: 0.023, memory: 5081, loss_rpn_cls: 0.0483, loss_rpn_bbox: 0.0341, loss_glbctx: 0.6009, s0.loss_cls: 0.2461, s0.acc: 92.1250, s0.loss_bbox: 0.1172, s1.loss_cls: 0.1061, s1.acc: 93.3283, s1.loss_bbox: 0.0987, s2.loss_cls: 0.0545, s2.acc: 93.2605, s2.loss_bbox: 0.0584, loss_mask: 0.2768, loss: 1.6412, grad_norm: 3.9524\n",
      "2021-05-13 04:28:02,839 - mmdet - INFO - Epoch [19][150/655]\tlr: 2.000e-03, eta: 0:16:50, time: 0.917, data_time: 0.021, memory: 5081, loss_rpn_cls: 0.0392, loss_rpn_bbox: 0.0302, loss_glbctx: 0.6317, s0.loss_cls: 0.2228, s0.acc: 92.6338, s0.loss_bbox: 0.1119, s1.loss_cls: 0.0982, s1.acc: 93.6398, s1.loss_bbox: 0.0961, s2.loss_cls: 0.0505, s2.acc: 93.4866, s2.loss_bbox: 0.0552, loss_mask: 0.2579, loss: 1.5939, grad_norm: 3.9580\n",
      "2021-05-13 04:28:49,279 - mmdet - INFO - Epoch [19][200/655]\tlr: 2.000e-03, eta: 0:16:07, time: 0.929, data_time: 0.022, memory: 5081, loss_rpn_cls: 0.0471, loss_rpn_bbox: 0.0336, loss_glbctx: 0.5671, s0.loss_cls: 0.2240, s0.acc: 92.4023, s0.loss_bbox: 0.1227, s1.loss_cls: 0.0967, s1.acc: 93.6195, s1.loss_bbox: 0.1047, s2.loss_cls: 0.0499, s2.acc: 93.4987, s2.loss_bbox: 0.0608, loss_mask: 0.2695, loss: 1.5760, grad_norm: 3.8296\n",
      "2021-05-13 04:29:36,353 - mmdet - INFO - Epoch [19][250/655]\tlr: 2.000e-03, eta: 0:15:24, time: 0.941, data_time: 0.024, memory: 5081, loss_rpn_cls: 0.0440, loss_rpn_bbox: 0.0359, loss_glbctx: 0.6209, s0.loss_cls: 0.2408, s0.acc: 92.0771, s0.loss_bbox: 0.1192, s1.loss_cls: 0.1045, s1.acc: 93.2265, s1.loss_bbox: 0.1009, s2.loss_cls: 0.0534, s2.acc: 93.2939, s2.loss_bbox: 0.0601, loss_mask: 0.2574, loss: 1.6370, grad_norm: 4.1832\n",
      "2021-05-13 04:30:23,529 - mmdet - INFO - Epoch [19][300/655]\tlr: 2.000e-03, eta: 0:14:40, time: 0.944, data_time: 0.023, memory: 5082, loss_rpn_cls: 0.0453, loss_rpn_bbox: 0.0314, loss_glbctx: 0.5819, s0.loss_cls: 0.2386, s0.acc: 92.2852, s0.loss_bbox: 0.1154, s1.loss_cls: 0.1035, s1.acc: 93.4516, s1.loss_bbox: 0.0986, s2.loss_cls: 0.0537, s2.acc: 93.1947, s2.loss_bbox: 0.0602, loss_mask: 0.2612, loss: 1.5899, grad_norm: 4.2107\n",
      "2021-05-13 04:31:09,218 - mmdet - INFO - Epoch [19][350/655]\tlr: 2.000e-03, eta: 0:13:57, time: 0.914, data_time: 0.023, memory: 5082, loss_rpn_cls: 0.0420, loss_rpn_bbox: 0.0338, loss_glbctx: 0.6112, s0.loss_cls: 0.2185, s0.acc: 92.8633, s0.loss_bbox: 0.1106, s1.loss_cls: 0.0936, s1.acc: 94.1683, s1.loss_bbox: 0.0918, s2.loss_cls: 0.0467, s2.acc: 94.3130, s2.loss_bbox: 0.0529, loss_mask: 0.2503, loss: 1.5513, grad_norm: 4.1330\n",
      "2021-05-13 04:31:55,609 - mmdet - INFO - Epoch [19][400/655]\tlr: 2.000e-03, eta: 0:13:14, time: 0.928, data_time: 0.021, memory: 5082, loss_rpn_cls: 0.0409, loss_rpn_bbox: 0.0303, loss_glbctx: 0.5661, s0.loss_cls: 0.2335, s0.acc: 92.3838, s0.loss_bbox: 0.1146, s1.loss_cls: 0.0976, s1.acc: 93.7333, s1.loss_bbox: 0.0976, s2.loss_cls: 0.0495, s2.acc: 93.7462, s2.loss_bbox: 0.0567, loss_mask: 0.2533, loss: 1.5401, grad_norm: 4.2122\n",
      "2021-05-13 04:32:42,387 - mmdet - INFO - Epoch [19][450/655]\tlr: 2.000e-03, eta: 0:12:30, time: 0.936, data_time: 0.022, memory: 5082, loss_rpn_cls: 0.0457, loss_rpn_bbox: 0.0340, loss_glbctx: 0.5526, s0.loss_cls: 0.2526, s0.acc: 91.7354, s0.loss_bbox: 0.1290, s1.loss_cls: 0.1095, s1.acc: 92.9383, s1.loss_bbox: 0.1082, s2.loss_cls: 0.0542, s2.acc: 93.1191, s2.loss_bbox: 0.0632, loss_mask: 0.2764, loss: 1.6254, grad_norm: 4.1445\n",
      "2021-05-13 04:33:29,551 - mmdet - INFO - Epoch [19][500/655]\tlr: 2.000e-03, eta: 0:11:47, time: 0.943, data_time: 0.023, memory: 5082, loss_rpn_cls: 0.0554, loss_rpn_bbox: 0.0373, loss_glbctx: 0.6007, s0.loss_cls: 0.2459, s0.acc: 91.8779, s0.loss_bbox: 0.1291, s1.loss_cls: 0.1069, s1.acc: 93.1710, s1.loss_bbox: 0.1090, s2.loss_cls: 0.0538, s2.acc: 93.1019, s2.loss_bbox: 0.0622, loss_mask: 0.2812, loss: 1.6815, grad_norm: 4.3510\n",
      "2021-05-13 04:34:16,980 - mmdet - INFO - Epoch [19][550/655]\tlr: 2.000e-03, eta: 0:11:03, time: 0.949, data_time: 0.025, memory: 5082, loss_rpn_cls: 0.0474, loss_rpn_bbox: 0.0403, loss_glbctx: 0.5163, s0.loss_cls: 0.2332, s0.acc: 92.0684, s0.loss_bbox: 0.1246, s1.loss_cls: 0.1011, s1.acc: 93.3542, s1.loss_bbox: 0.1027, s2.loss_cls: 0.0515, s2.acc: 93.3612, s2.loss_bbox: 0.0589, loss_mask: 0.2860, loss: 1.5619, grad_norm: 3.9912\n",
      "2021-05-13 04:35:03,292 - mmdet - INFO - Epoch [19][600/655]\tlr: 2.000e-03, eta: 0:10:20, time: 0.926, data_time: 0.021, memory: 5082, loss_rpn_cls: 0.0403, loss_rpn_bbox: 0.0348, loss_glbctx: 0.6150, s0.loss_cls: 0.2353, s0.acc: 92.3271, s0.loss_bbox: 0.1138, s1.loss_cls: 0.1013, s1.acc: 93.5889, s1.loss_bbox: 0.0922, s2.loss_cls: 0.0506, s2.acc: 93.5982, s2.loss_bbox: 0.0552, loss_mask: 0.2666, loss: 1.6051, grad_norm: 4.5043\n",
      "2021-05-13 04:35:49,250 - mmdet - INFO - Epoch [19][650/655]\tlr: 2.000e-03, eta: 0:09:36, time: 0.919, data_time: 0.022, memory: 5082, loss_rpn_cls: 0.0484, loss_rpn_bbox: 0.0353, loss_glbctx: 0.5277, s0.loss_cls: 0.2334, s0.acc: 92.4121, s0.loss_bbox: 0.1224, s1.loss_cls: 0.1003, s1.acc: 93.5738, s1.loss_bbox: 0.1041, s2.loss_cls: 0.0510, s2.acc: 93.4930, s2.loss_bbox: 0.0603, loss_mask: 0.2727, loss: 1.5555, grad_norm: 4.4189\n",
      "2021-05-13 04:35:53,751 - mmdet - INFO - Saving checkpoint at 19 epochs\n"
     ]
    },
    {
     "name": "stdout",
     "output_type": "stream",
     "text": [
      "[>>>>>>>>>>>>>>>>>>>>>>>>>>>>>] 655/655, 4.6 task/s, elapsed: 141s, ETA:     0s"
     ]
    },
    {
     "name": "stderr",
     "output_type": "stream",
     "text": [
      "2021-05-13 04:38:20,431 - mmdet - INFO - Evaluating bbox...\n"
     ]
    },
    {
     "name": "stdout",
     "output_type": "stream",
     "text": [
      "Loading and preparing results...\n",
      "DONE (t=1.35s)\n",
      "creating index...\n",
      "index created!\n",
      "Running per image evaluation...\n",
      "Evaluate annotation type *bbox*\n",
      "DONE (t=7.70s).\n",
      "Accumulating evaluation results...\n"
     ]
    },
    {
     "name": "stderr",
     "output_type": "stream",
     "text": [
      "2021-05-13 04:38:31,387 - mmdet - INFO - Epoch(val) [19][655]\tbbox_mAP: 0.1640, bbox_mAP_50: 0.2620, bbox_mAP_75: 0.1670, bbox_mAP_s: 0.0340, bbox_mAP_m: 0.1400, bbox_mAP_l: 0.3530, bbox_mAP_copypaste: 0.164 0.262 0.167 0.034 0.140 0.353\n"
     ]
    },
    {
     "name": "stdout",
     "output_type": "stream",
     "text": [
      "DONE (t=1.72s).\n",
      "Average Precision  (AP) @[ IoU=0.50:0.95 | area=   all | maxDets=100 ] = 0.164\n",
      "Average Precision  (AP) @[ IoU=0.50      | area=   all | maxDets=1000 ] = 0.262\n",
      "Average Precision  (AP) @[ IoU=0.75      | area=   all | maxDets=1000 ] = 0.167\n",
      "Average Precision  (AP) @[ IoU=0.50:0.95 | area= small | maxDets=1000 ] = 0.034\n",
      "Average Precision  (AP) @[ IoU=0.50:0.95 | area=medium | maxDets=1000 ] = 0.140\n",
      "Average Precision  (AP) @[ IoU=0.50:0.95 | area= large | maxDets=1000 ] = 0.353\n",
      "Average Recall     (AR) @[ IoU=0.50:0.95 | area=   all | maxDets=100 ] = 0.371\n",
      "Average Recall     (AR) @[ IoU=0.50:0.95 | area=   all | maxDets=300 ] = 0.371\n",
      "Average Recall     (AR) @[ IoU=0.50:0.95 | area=   all | maxDets=1000 ] = 0.371\n",
      "Average Recall     (AR) @[ IoU=0.50:0.95 | area= small | maxDets=1000 ] = 0.127\n",
      "Average Recall     (AR) @[ IoU=0.50:0.95 | area=medium | maxDets=1000 ] = 0.334\n",
      "Average Recall     (AR) @[ IoU=0.50:0.95 | area= large | maxDets=1000 ] = 0.616\n"
     ]
    },
    {
     "name": "stderr",
     "output_type": "stream",
     "text": [
      "2021-05-13 04:39:20,286 - mmdet - INFO - Epoch [20][50/655]\tlr: 2.000e-04, eta: 0:08:48, time: 0.978, data_time: 0.073, memory: 5082, loss_rpn_cls: 0.0450, loss_rpn_bbox: 0.0318, loss_glbctx: 0.5575, s0.loss_cls: 0.2177, s0.acc: 92.8750, s0.loss_bbox: 0.1092, s1.loss_cls: 0.0917, s1.acc: 94.1456, s1.loss_bbox: 0.0910, s2.loss_cls: 0.0464, s2.acc: 94.1801, s2.loss_bbox: 0.0538, loss_mask: 0.2606, loss: 1.5046, grad_norm: 4.0949\n",
      "2021-05-13 04:40:06,595 - mmdet - INFO - Epoch [20][100/655]\tlr: 2.000e-04, eta: 0:08:05, time: 0.926, data_time: 0.024, memory: 5082, loss_rpn_cls: 0.0390, loss_rpn_bbox: 0.0351, loss_glbctx: 0.5249, s0.loss_cls: 0.2214, s0.acc: 92.5684, s0.loss_bbox: 0.1151, s1.loss_cls: 0.0939, s1.acc: 93.9140, s1.loss_bbox: 0.0973, s2.loss_cls: 0.0479, s2.acc: 93.7222, s2.loss_bbox: 0.0570, loss_mask: 0.2705, loss: 1.5021, grad_norm: 3.6964\n",
      "2021-05-13 04:40:53,531 - mmdet - INFO - Epoch [20][150/655]\tlr: 2.000e-04, eta: 0:07:21, time: 0.939, data_time: 0.023, memory: 5082, loss_rpn_cls: 0.0522, loss_rpn_bbox: 0.0313, loss_glbctx: 0.5043, s0.loss_cls: 0.2235, s0.acc: 92.6689, s0.loss_bbox: 0.1141, s1.loss_cls: 0.0944, s1.acc: 93.9175, s1.loss_bbox: 0.0946, s2.loss_cls: 0.0486, s2.acc: 93.8967, s2.loss_bbox: 0.0548, loss_mask: 0.2568, loss: 1.4745, grad_norm: 3.8679\n",
      "2021-05-13 04:41:40,678 - mmdet - INFO - Epoch [20][200/655]\tlr: 2.000e-04, eta: 0:06:37, time: 0.943, data_time: 0.025, memory: 5082, loss_rpn_cls: 0.0447, loss_rpn_bbox: 0.0341, loss_glbctx: 0.5216, s0.loss_cls: 0.2313, s0.acc: 92.4062, s0.loss_bbox: 0.1227, s1.loss_cls: 0.0986, s1.acc: 93.6554, s1.loss_bbox: 0.1044, s2.loss_cls: 0.0517, s2.acc: 93.4978, s2.loss_bbox: 0.0608, loss_mask: 0.2687, loss: 1.5386, grad_norm: 3.8574\n",
      "2021-05-13 04:42:27,717 - mmdet - INFO - Epoch [20][250/655]\tlr: 2.000e-04, eta: 0:05:54, time: 0.941, data_time: 0.023, memory: 5082, loss_rpn_cls: 0.0450, loss_rpn_bbox: 0.0367, loss_glbctx: 0.5536, s0.loss_cls: 0.2397, s0.acc: 92.2734, s0.loss_bbox: 0.1203, s1.loss_cls: 0.1034, s1.acc: 93.6076, s1.loss_bbox: 0.0999, s2.loss_cls: 0.0528, s2.acc: 93.4527, s2.loss_bbox: 0.0563, loss_mask: 0.2627, loss: 1.5704, grad_norm: 4.0785\n",
      "2021-05-13 04:43:13,849 - mmdet - INFO - Epoch [20][300/655]\tlr: 2.000e-04, eta: 0:05:10, time: 0.923, data_time: 0.022, memory: 5082, loss_rpn_cls: 0.0373, loss_rpn_bbox: 0.0288, loss_glbctx: 0.5168, s0.loss_cls: 0.2085, s0.acc: 92.9043, s0.loss_bbox: 0.1044, s1.loss_cls: 0.0884, s1.acc: 94.2411, s1.loss_bbox: 0.0891, s2.loss_cls: 0.0460, s2.acc: 94.0398, s2.loss_bbox: 0.0553, loss_mask: 0.2471, loss: 1.4217, grad_norm: 3.9649\n",
      "2021-05-13 04:43:59,402 - mmdet - INFO - Epoch [20][350/655]\tlr: 2.000e-04, eta: 0:04:26, time: 0.911, data_time: 0.020, memory: 5082, loss_rpn_cls: 0.0412, loss_rpn_bbox: 0.0277, loss_glbctx: 0.5362, s0.loss_cls: 0.2097, s0.acc: 93.0430, s0.loss_bbox: 0.1093, s1.loss_cls: 0.0899, s1.acc: 94.1343, s1.loss_bbox: 0.0926, s2.loss_cls: 0.0461, s2.acc: 94.0700, s2.loss_bbox: 0.0517, loss_mask: 0.2597, loss: 1.4641, grad_norm: 4.1404\n",
      "2021-05-13 04:44:46,321 - mmdet - INFO - Epoch [20][400/655]\tlr: 2.000e-04, eta: 0:03:43, time: 0.938, data_time: 0.023, memory: 5082, loss_rpn_cls: 0.0453, loss_rpn_bbox: 0.0312, loss_glbctx: 0.5159, s0.loss_cls: 0.2270, s0.acc: 92.4482, s0.loss_bbox: 0.1213, s1.loss_cls: 0.0973, s1.acc: 93.8516, s1.loss_bbox: 0.1002, s2.loss_cls: 0.0497, s2.acc: 93.7013, s2.loss_bbox: 0.0586, loss_mask: 0.2701, loss: 1.5168, grad_norm: 4.1022\n",
      "2021-05-13 04:45:33,562 - mmdet - INFO - Epoch [20][450/655]\tlr: 2.000e-04, eta: 0:02:59, time: 0.945, data_time: 0.021, memory: 5082, loss_rpn_cls: 0.0419, loss_rpn_bbox: 0.0344, loss_glbctx: 0.4866, s0.loss_cls: 0.2279, s0.acc: 92.2998, s0.loss_bbox: 0.1174, s1.loss_cls: 0.0942, s1.acc: 93.7052, s1.loss_bbox: 0.0958, s2.loss_cls: 0.0477, s2.acc: 93.8335, s2.loss_bbox: 0.0565, loss_mask: 0.2538, loss: 1.4562, grad_norm: 3.6998\n",
      "2021-05-13 04:46:19,681 - mmdet - INFO - Epoch [20][500/655]\tlr: 2.000e-04, eta: 0:02:15, time: 0.922, data_time: 0.020, memory: 5082, loss_rpn_cls: 0.0369, loss_rpn_bbox: 0.0303, loss_glbctx: 0.5078, s0.loss_cls: 0.2139, s0.acc: 92.9219, s0.loss_bbox: 0.1039, s1.loss_cls: 0.0890, s1.acc: 94.2794, s1.loss_bbox: 0.0864, s2.loss_cls: 0.0452, s2.acc: 94.2460, s2.loss_bbox: 0.0499, loss_mask: 0.2453, loss: 1.4086, grad_norm: 3.7300\n",
      "2021-05-13 04:47:06,116 - mmdet - INFO - Epoch [20][550/655]\tlr: 2.000e-04, eta: 0:01:32, time: 0.929, data_time: 0.022, memory: 5082, loss_rpn_cls: 0.0407, loss_rpn_bbox: 0.0324, loss_glbctx: 0.5140, s0.loss_cls: 0.2276, s0.acc: 92.6309, s0.loss_bbox: 0.1172, s1.loss_cls: 0.0995, s1.acc: 93.6706, s1.loss_bbox: 0.0989, s2.loss_cls: 0.0496, s2.acc: 93.6678, s2.loss_bbox: 0.0578, loss_mask: 0.2667, loss: 1.5043, grad_norm: 4.3094\n",
      "2021-05-13 04:47:53,241 - mmdet - INFO - Epoch [20][600/655]\tlr: 2.000e-04, eta: 0:00:48, time: 0.943, data_time: 0.024, memory: 5082, loss_rpn_cls: 0.0462, loss_rpn_bbox: 0.0311, loss_glbctx: 0.5479, s0.loss_cls: 0.2310, s0.acc: 92.4365, s0.loss_bbox: 0.1135, s1.loss_cls: 0.1006, s1.acc: 93.7233, s1.loss_bbox: 0.0952, s2.loss_cls: 0.0520, s2.acc: 93.7137, s2.loss_bbox: 0.0578, loss_mask: 0.2579, loss: 1.5331, grad_norm: 4.1863\n",
      "2021-05-13 04:48:40,632 - mmdet - INFO - Epoch [20][650/655]\tlr: 2.000e-04, eta: 0:00:04, time: 0.948, data_time: 0.025, memory: 5082, loss_rpn_cls: 0.0488, loss_rpn_bbox: 0.0397, loss_glbctx: 0.5096, s0.loss_cls: 0.2397, s0.acc: 92.1357, s0.loss_bbox: 0.1274, s1.loss_cls: 0.1027, s1.acc: 93.3521, s1.loss_bbox: 0.1039, s2.loss_cls: 0.0520, s2.acc: 93.3252, s2.loss_bbox: 0.0605, loss_mask: 0.2807, loss: 1.5650, grad_norm: 4.0889\n",
      "2021-05-13 04:48:45,471 - mmdet - INFO - Saving checkpoint at 20 epochs\n"
     ]
    },
    {
     "name": "stdout",
     "output_type": "stream",
     "text": [
      "[>>>>>>>>>>>>>>>>>>>>>>>>>>>>>] 655/655, 4.7 task/s, elapsed: 138s, ETA:     0s"
     ]
    },
    {
     "name": "stderr",
     "output_type": "stream",
     "text": [
      "2021-05-13 04:51:09,268 - mmdet - INFO - Evaluating bbox...\n"
     ]
    },
    {
     "name": "stdout",
     "output_type": "stream",
     "text": [
      "Loading and preparing results...\n",
      "DONE (t=0.80s)\n",
      "creating index...\n",
      "index created!\n",
      "Running per image evaluation...\n",
      "Evaluate annotation type *bbox*\n",
      "DONE (t=8.15s).\n",
      "Accumulating evaluation results...\n"
     ]
    },
    {
     "name": "stderr",
     "output_type": "stream",
     "text": [
      "2021-05-13 04:51:20,073 - mmdet - INFO - Now best checkpoint is epoch_20.pth.Best bbox_mAP_50 is 0.2690\n",
      "2021-05-13 04:51:20,113 - mmdet - INFO - Epoch(val) [20][655]\tbbox_mAP: 0.1670, bbox_mAP_50: 0.2690, bbox_mAP_75: 0.1660, bbox_mAP_s: 0.0330, bbox_mAP_m: 0.1450, bbox_mAP_l: 0.3550, bbox_mAP_copypaste: 0.167 0.269 0.166 0.033 0.145 0.355\n"
     ]
    },
    {
     "name": "stdout",
     "output_type": "stream",
     "text": [
      "DONE (t=1.70s).\n",
      "Average Precision  (AP) @[ IoU=0.50:0.95 | area=   all | maxDets=100 ] = 0.167\n",
      "Average Precision  (AP) @[ IoU=0.50      | area=   all | maxDets=1000 ] = 0.269\n",
      "Average Precision  (AP) @[ IoU=0.75      | area=   all | maxDets=1000 ] = 0.166\n",
      "Average Precision  (AP) @[ IoU=0.50:0.95 | area= small | maxDets=1000 ] = 0.033\n",
      "Average Precision  (AP) @[ IoU=0.50:0.95 | area=medium | maxDets=1000 ] = 0.145\n",
      "Average Precision  (AP) @[ IoU=0.50:0.95 | area= large | maxDets=1000 ] = 0.355\n",
      "Average Recall     (AR) @[ IoU=0.50:0.95 | area=   all | maxDets=100 ] = 0.381\n",
      "Average Recall     (AR) @[ IoU=0.50:0.95 | area=   all | maxDets=300 ] = 0.381\n",
      "Average Recall     (AR) @[ IoU=0.50:0.95 | area=   all | maxDets=1000 ] = 0.381\n",
      "Average Recall     (AR) @[ IoU=0.50:0.95 | area= small | maxDets=1000 ] = 0.125\n",
      "Average Recall     (AR) @[ IoU=0.50:0.95 | area=medium | maxDets=1000 ] = 0.350\n",
      "Average Recall     (AR) @[ IoU=0.50:0.95 | area= large | maxDets=1000 ] = 0.619\n"
     ]
    },
    {
     "data": {
      "text/html": [
       "<br/>Waiting for W&B process to finish, PID 3559<br/>Program ended successfully."
      ],
      "text/plain": [
       "<IPython.core.display.HTML object>"
      ]
     },
     "metadata": {},
     "output_type": "display_data"
    },
    {
     "data": {
      "application/vnd.jupyter.widget-view+json": {
       "model_id": "4bacc70e570b4d89890a6bb45d9b898e",
       "version_major": 2,
       "version_minor": 0
      },
      "text/plain": [
       "VBox(children=(Label(value=' 0.00MB of 0.00MB uploaded (0.00MB deduped)\\r'), FloatProgress(value=1.0, max=1.0)…"
      ]
     },
     "metadata": {},
     "output_type": "display_data"
    },
    {
     "data": {
      "text/html": [
       "Find user logs for this run at: <code>/opt/ml/code/mmdetection_trash/wandb/run-20210513_004346-21gd5d2p/logs/debug.log</code>"
      ],
      "text/plain": [
       "<IPython.core.display.HTML object>"
      ]
     },
     "metadata": {},
     "output_type": "display_data"
    },
    {
     "data": {
      "text/html": [
       "Find internal logs for this run at: <code>/opt/ml/code/mmdetection_trash/wandb/run-20210513_004346-21gd5d2p/logs/debug-internal.log</code>"
      ],
      "text/plain": [
       "<IPython.core.display.HTML object>"
      ]
     },
     "metadata": {},
     "output_type": "display_data"
    },
    {
     "data": {
      "text/html": [
       "<h3>Run summary:</h3><br/><style>\n",
       "    table.wandb td:nth-child(1) { padding: 0 10px; text-align: right }\n",
       "    </style><table class=\"wandb\">\n",
       "<tr><td>train/loss_rpn_cls</td><td>0.04879</td></tr><tr><td>train/loss_rpn_bbox</td><td>0.03967</td></tr><tr><td>train/loss_glbctx</td><td>0.50962</td></tr><tr><td>train/s0.loss_cls</td><td>0.2397</td></tr><tr><td>train/s0.acc</td><td>92.13574</td></tr><tr><td>train/s0.loss_bbox</td><td>0.12739</td></tr><tr><td>train/s1.loss_cls</td><td>0.10274</td></tr><tr><td>train/s1.acc</td><td>93.35214</td></tr><tr><td>train/s1.loss_bbox</td><td>0.1039</td></tr><tr><td>train/s2.loss_cls</td><td>0.05198</td></tr><tr><td>train/s2.acc</td><td>93.32516</td></tr><tr><td>train/s2.loss_bbox</td><td>0.0605</td></tr><tr><td>train/loss_mask</td><td>0.28067</td></tr><tr><td>train/loss</td><td>1.56497</td></tr><tr><td>train/grad_norm</td><td>4.08891</td></tr><tr><td>learning_rate</td><td>0.0002</td></tr><tr><td>momentum</td><td>0.9</td></tr><tr><td>_runtime</td><td>14854</td></tr><tr><td>_timestamp</td><td>1620881480</td></tr><tr><td>_step</td><td>13101</td></tr><tr><td>val/bbox_mAP</td><td>0.167</td></tr><tr><td>val/bbox_mAP_50</td><td>0.269</td></tr><tr><td>val/bbox_mAP_75</td><td>0.166</td></tr><tr><td>val/bbox_mAP_s</td><td>0.033</td></tr><tr><td>val/bbox_mAP_m</td><td>0.145</td></tr><tr><td>val/bbox_mAP_l</td><td>0.355</td></tr></table>"
      ],
      "text/plain": [
       "<IPython.core.display.HTML object>"
      ]
     },
     "metadata": {},
     "output_type": "display_data"
    },
    {
     "data": {
      "text/html": [
       "<h3>Run history:</h3><br/><style>\n",
       "    table.wandb td:nth-child(1) { padding: 0 10px; text-align: right }\n",
       "    </style><table class=\"wandb\">\n",
       "<tr><td>train/loss_rpn_cls</td><td>█▆▄▄▄▄▂▃▃▃▂▃▃▂▃▃▂▂▂▂▃▃▂▄▂▃▃▃▃▄▂▂▁▁▁▁▁▁▁▁</td></tr><tr><td>train/loss_rpn_bbox</td><td>█▇▅▆▅▄▃▅▄▄▄▅▄▃▄▃▃▃▂▃▄▄▄▅▄▅▄▅▃▅▄▃▂▂▁▁▁▂▂▃</td></tr><tr><td>train/loss_glbctx</td><td>██▇▇▇▆▇▆▆▆▆▆▆▆▆▅▅▆▅▅▆▆▅▆▅▅▅▅▅▆▅▄▄▃▂▂▂▂▁▁</td></tr><tr><td>train/s0.loss_cls</td><td>█▇▅▄▄▃▅▄▄▄▃▅▃▃▃▃▃▃▂▃▃▃▃▃▃▃▃▃▃▃▃▂▂▁▁▁▁▁▁▁</td></tr><tr><td>train/s0.acc</td><td>▃▁▂▃▃▄▂▄▄▄▅▂▄▄▅▆▄▅▅▄▄▄▅▅▄▄▅▄▅▄▄▇▇▇█▇█▇██</td></tr><tr><td>train/s0.loss_bbox</td><td>█▇▅▄▄▃▄▃▃▃▂▄▃▃▂▂▃▂▂▃▃▂▂▃▃▃▂▂▂▄▃▁▂▁▁▂▁▂▁▂</td></tr><tr><td>train/s1.loss_cls</td><td>▄██▆▇▅▇▆▆▆▅▇▅▅▅▄▅▅▄▅▅▅▄▅▅▅▄▄▄▅▅▃▂▁▁▁▁▁▁▁</td></tr><tr><td>train/s1.acc</td><td>█▃▁▂▂▃▁▃▂▂▃▁▃▃▃▄▃▃▃▂▃▃▃▃▃▃▄▃▄▃▃▅▅▆▆▆▆▆▆▆</td></tr><tr><td>train/s1.loss_bbox</td><td>▁██▇▇▆▇▆▆▇▅▇▅▆▅▄▆▅▅▆▅▅▅▅▆▅▅▅▄▆▆▄▄▃▃▄▃▄▃▃</td></tr><tr><td>train/s2.loss_cls</td><td>▁▅█▇▇▆█▆▇▇▆█▆▆▆▅▇▆▅▇▆▆▆▆▆▆▅▆▅▆▆▄▄▃▃▃▃▃▃▃</td></tr><tr><td>train/s2.acc</td><td>█▆▂▂▂▂▁▂▂▂▂▁▂▂▂▃▂▂▂▁▂▂▂▂▂▂▃▂▃▂▂▃▃▄▄▄▄▄▄▄</td></tr><tr><td>train/s2.loss_bbox</td><td>▁▄▇▇███▇▇█▇█▇██▇▇▇▇▇▇▇█▇▇▇▇▇▇▇▇▇▆▆▆▆▆▆▆▆</td></tr><tr><td>train/loss_mask</td><td>█▅▃▃▂▂▂▂▂▂▂▂▂▂▂▂▂▂▂▂▂▂▂▂▂▂▂▂▂▂▂▁▁▁▁▁▁▁▁▁</td></tr><tr><td>train/loss</td><td>█▇▅▅▅▄▅▄▄▄▄▅▄▄▄▃▄▄▃▄▄▄▃▄▃▃▃▃▃▄▃▂▂▂▁▁▁▁▁▁</td></tr><tr><td>train/grad_norm</td><td>█▄▂▂▂▂▁▁▂▁▂▂▂▂▂▂▃▃▃▃▄▃▃▅▃▅▄▄▃▆▅▅▂▃▃▃▃▄▃▃</td></tr><tr><td>learning_rate</td><td>▄▇██████████████████████████████▂▂▂▂▂▂▁▁</td></tr><tr><td>momentum</td><td>▁▁▁▁▁▁▁▁▁▁▁▁▁▁▁▁▁▁▁▁▁▁▁▁▁▁▁▁▁▁▁▁▁▁▁▁▁▁▁▁</td></tr><tr><td>_runtime</td><td>▁▁▁▁▂▂▂▂▂▂▃▃▃▃▃▄▄▄▄▄▄▅▅▅▅▅▆▆▆▆▆▆▇▇▇▇▇███</td></tr><tr><td>_timestamp</td><td>▁▁▁▁▂▂▂▂▂▂▃▃▃▃▃▄▄▄▄▄▄▅▅▅▅▅▆▆▆▆▆▆▇▇▇▇▇███</td></tr><tr><td>_step</td><td>▁▁▁▂▂▂▂▂▂▃▃▃▃▃▃▄▄▄▄▄▅▅▅▅▅▅▆▆▆▆▆▆▇▇▇▇▇███</td></tr><tr><td>val/bbox_mAP</td><td>▁▂▃▄▄▅▄▄▆▆▅▅▆▆▆▅████</td></tr><tr><td>val/bbox_mAP_50</td><td>▁▂▃▄▄▅▄▄▆▅▅▅▆▆▆▅▇███</td></tr><tr><td>val/bbox_mAP_75</td><td>▁▂▃▄▅▅▅▄▆▆▅▅▆▆▆▅▇██▇</td></tr><tr><td>val/bbox_mAP_s</td><td>▁▃▄▅▄▆▆▆▆▆▅▅▅▅▅▄███▇</td></tr><tr><td>val/bbox_mAP_m</td><td>▁▃▂▅▄▅▅▅▇▆▅▅▆▆▅▆▇███</td></tr><tr><td>val/bbox_mAP_l</td><td>▁▂▃▃▄▄▄▃▅▅▅▄▅▅▆▅████</td></tr></table><br/>"
      ],
      "text/plain": [
       "<IPython.core.display.HTML object>"
      ]
     },
     "metadata": {},
     "output_type": "display_data"
    },
    {
     "data": {
      "text/html": [
       "Synced 5 W&B file(s), 0 media file(s), 0 artifact file(s) and 0 other file(s)"
      ],
      "text/plain": [
       "<IPython.core.display.HTML object>"
      ]
     },
     "metadata": {},
     "output_type": "display_data"
    },
    {
     "data": {
      "text/html": [
       "\n",
       "                    <br/>Synced <strong style=\"color:#cdcd00\">wobbly-cosmos-3</strong>: <a href=\"https://wandb.ai/k1smet14/mmdetection_trash/runs/21gd5d2p\" target=\"_blank\">https://wandb.ai/k1smet14/mmdetection_trash/runs/21gd5d2p</a><br/>\n",
       "                "
      ],
      "text/plain": [
       "<IPython.core.display.HTML object>"
      ]
     },
     "metadata": {},
     "output_type": "display_data"
    }
   ],
   "source": [
    "train_detector(model, datasets[0], cfg, distributed=False, validate=True)"
   ]
  },
  {
   "cell_type": "code",
   "execution_count": 12,
   "metadata": {},
   "outputs": [],
   "source": [
    "import mmcv\n",
    "from mmcv import Config\n",
    "from mmdet.datasets import (build_dataloader, build_dataset,\n",
    "                            replace_ImageToTensor)\n",
    "from mmdet.models import build_detector\n",
    "from mmdet.apis import single_gpu_test\n",
    "from mmcv.runner import load_checkpoint\n",
    "import os\n",
    "from mmcv.parallel import MMDataParallel\n",
    "import pandas as pd\n",
    "from pandas import DataFrame\n",
    "from pycocotools.coco import COCO\n",
    "import numpy as np"
   ]
  },
  {
   "cell_type": "code",
   "execution_count": 20,
   "metadata": {},
   "outputs": [],
   "source": [
    "classes = (\"UNKNOWN\", \"General trash\", \"Paper\", \"Paper pack\", \"Metal\", \"Glass\", \n",
    "           \"Plastic\", \"Styrofoam\", \"Plastic bag\", \"Battery\", \"Clothing\")\n",
    "# config file 들고오기\n",
    "cfg = Config.fromfile('./configs/scnet/scnet_r50_fpn_20e_coco.py')\n",
    "\n",
    "PREFIX = '../../input/data/'\n",
    "\n",
    "epoch = 24\n",
    "\n",
    "# dataset 바꾸기\n",
    "cfg.data.train.classes = classes\n",
    "cfg.data.train.img_prefix = PREFIX\n",
    "cfg.data.train.ann_file = PREFIX + 'train.json'\n",
    "cfg.data.train.pipeline[2]['img_scale'] = (512, 512)\n",
    "\n",
    "cfg.data.val.classes = classes\n",
    "cfg.data.val.img_prefix = PREFIX\n",
    "cfg.data.val.ann_file = PREFIX + 'val.json'\n",
    "cfg.data.val.pipeline[1]['img_scale'] = (512, 512)\n",
    "\n",
    "cfg.data.test.classes = classes\n",
    "cfg.data.test.img_prefix = PREFIX\n",
    "cfg.data.test.ann_file = PREFIX + 'test.json'\n",
    "cfg.data.test.pipeline[1]['img_scale'] = (512, 512)\n",
    "\n",
    "cfg.data.samples_per_gpu = 4\n",
    "\n",
    "cfg.seed=90\n",
    "cfg.gpu_ids = [0]\n",
    "cfg.work_dir = './work_dirs/scnet_r50_fpn_20e_coco'\n",
    "\n",
    "#cfg.model.roi_head.bbo.\n",
    "cfg.model.roi_head.bbox_head[0].num_classes = 11\n",
    "cfg.model.roi_head.bbox_head[1].num_classes = 11\n",
    "cfg.model.roi_head.bbox_head[2].num_classes = 11\n",
    "cfg.model.roi_head.mask_head.num_classes = 11\n",
    "cfg.model.roi_head.glbctx_head.num_classes = 11\n",
    "\n",
    "cfg.optimizer_config.grad_clip = dict(max_norm=35, norm_type=2)\n",
    "cfg.model.train_cfg = None\n",
    "\n"
   ]
  },
  {
   "cell_type": "code",
   "execution_count": 21,
   "metadata": {},
   "outputs": [],
   "source": [
    "checkpoint_path = os.path.join(cfg.work_dir, f'best_bbox_mAP_50.pth')\n"
   ]
  },
  {
   "cell_type": "code",
   "execution_count": 22,
   "metadata": {},
   "outputs": [
    {
     "name": "stdout",
     "output_type": "stream",
     "text": [
      "loading annotations into memory...\n",
      "Done (t=0.01s)\n",
      "creating index...\n",
      "index created!\n"
     ]
    }
   ],
   "source": [
    "dataset = build_dataset(cfg.data.test)\n",
    "data_loader = build_dataloader(\n",
    "        dataset,\n",
    "        samples_per_gpu=1,\n",
    "        workers_per_gpu=cfg.data.workers_per_gpu,\n",
    "        dist=False,\n",
    "        shuffle=False)"
   ]
  },
  {
   "cell_type": "code",
   "execution_count": 23,
   "metadata": {},
   "outputs": [
    {
     "name": "stderr",
     "output_type": "stream",
     "text": [
      "2021-05-13 06:07:02,179 - mmdet - INFO - load model from: torchvision://resnet50\n",
      "2021-05-13 06:07:02,181 - mmdet - INFO - Use load_from_torchvision loader\n",
      "2021-05-13 06:07:02,446 - mmdet - WARNING - The model and loaded state dict do not match exactly\n",
      "\n",
      "unexpected key in source state_dict: fc.weight, fc.bias\n",
      "\n"
     ]
    },
    {
     "name": "stdout",
     "output_type": "stream",
     "text": [
      "Use load_from_local loader\n"
     ]
    }
   ],
   "source": [
    "model = build_detector(cfg.model, test_cfg=cfg.get('test_cfg'))\n",
    "checkpoint = load_checkpoint(model, checkpoint_path, map_location='cpu')\n",
    "\n",
    "model.CLASSES = dataset.CLASSES\n",
    "model = MMDataParallel(model.cuda(), device_ids=[0])"
   ]
  },
  {
   "cell_type": "code",
   "execution_count": 24,
   "metadata": {},
   "outputs": [
    {
     "name": "stdout",
     "output_type": "stream",
     "text": [
      "[>>>>>>>>>>>>>>>>>>>>>>>>>>>>>] 837/837, 5.0 task/s, elapsed: 167s, ETA:     0s"
     ]
    }
   ],
   "source": [
    "output = single_gpu_test(model, data_loader, show_score_thr=0.05)"
   ]
  },
  {
   "cell_type": "code",
   "execution_count": 39,
   "metadata": {},
   "outputs": [
    {
     "name": "stdout",
     "output_type": "stream",
     "text": [
      "loading annotations into memory...\n",
      "Done (t=0.01s)\n",
      "creating index...\n",
      "index created!\n",
      "([array([], shape=(0, 5), dtype=float32), array([[2.8603513e+02, 3.4073251e+02, 3.0859335e+02, 3.7662430e+02,\n",
      "        1.4311174e-01],\n",
      "       [9.8372269e+01, 0.0000000e+00, 1.9373781e+02, 2.4812791e+02,\n",
      "        8.4752008e-02],\n",
      "       [1.3168793e+00, 2.3725449e+02, 3.0260773e+02, 4.5981259e+02,\n",
      "        7.7452950e-02],\n",
      "       [2.7363364e+02, 2.4935306e+02, 3.0782980e+02, 2.6421152e+02,\n",
      "        6.6419445e-02],\n",
      "       [3.5940195e+02, 4.2472943e+02, 3.7958987e+02, 4.3504590e+02,\n",
      "        2.5201228e-02],\n",
      "       [2.7864594e+02, 2.5401796e+02, 3.0540649e+02, 2.6711816e+02,\n",
      "        1.8809114e-02],\n",
      "       [8.8981812e+01, 0.0000000e+00, 5.0184436e+02, 2.5503300e+02,\n",
      "        1.8792769e-02],\n",
      "       [1.5252972e+02, 3.5222748e+02, 3.3093323e+02, 4.7390710e+02,\n",
      "        1.8535491e-02],\n",
      "       [7.4444618e+01, 9.5509842e+01, 1.3668068e+02, 2.0230635e+02,\n",
      "        1.6469462e-02],\n",
      "       [0.0000000e+00, 7.5057983e-01, 1.8913168e+02, 2.6266486e+02,\n",
      "        1.4606831e-02],\n",
      "       [4.5280707e+02, 5.7562630e+01, 5.1200000e+02, 1.8814166e+02,\n",
      "        1.3440517e-02],\n",
      "       [2.4880589e+02, 4.7198307e+01, 3.2727490e+02, 1.1459001e+02,\n",
      "        1.1420942e-02],\n",
      "       [9.6586227e+00, 2.2326950e+02, 1.0169167e+02, 2.7831076e+02,\n",
      "        1.0379799e-02],\n",
      "       [6.4105988e+00, 4.5293999e-01, 9.8580818e+01, 6.2922821e+01,\n",
      "        1.0373680e-02],\n",
      "       [1.8365475e+02, 0.0000000e+00, 4.8954495e+02, 1.7160297e+02,\n",
      "        9.2815328e-03]], dtype=float32), array([[4.0634918e+00, 2.3739084e+02, 3.0229791e+02, 4.5960349e+02,\n",
      "        2.8300598e-02],\n",
      "       [2.7363364e+02, 2.4935306e+02, 3.0782980e+02, 2.6421152e+02,\n",
      "        1.1751056e-02]], dtype=float32), array([], shape=(0, 5), dtype=float32), array([[2.7363364e+02, 2.4935306e+02, 3.0782980e+02, 2.6421152e+02,\n",
      "        1.1583147e-02],\n",
      "       [2.2427673e+00, 2.3614682e+02, 3.0255154e+02, 4.5995523e+02,\n",
      "        9.3600452e-03]], dtype=float32), array([], shape=(0, 5), dtype=float32), array([[2.97354431e+02, 1.76853485e+02, 4.84893005e+02, 2.71402100e+02,\n",
      "        1.17847353e-01],\n",
      "       [3.19161194e+02, 2.44819061e+02, 4.34024780e+02, 2.87274261e+02,\n",
      "        1.10599965e-01],\n",
      "       [2.72821869e+02, 2.46474838e+02, 3.07873077e+02, 2.63205719e+02,\n",
      "        1.06974661e-01],\n",
      "       [2.40599060e+02, 5.21169472e+01, 3.23853882e+02, 1.17809479e+02,\n",
      "        9.83080119e-02],\n",
      "       [2.86962189e+02, 2.18017517e+02, 4.96462494e+02, 4.32628113e+02,\n",
      "        7.98812062e-02],\n",
      "       [2.48311310e+02, 9.37171707e+01, 2.84514435e+02, 1.18402779e+02,\n",
      "        7.43109062e-02],\n",
      "       [9.83722687e+01, 0.00000000e+00, 1.93737808e+02, 2.48127914e+02,\n",
      "        7.40309432e-02],\n",
      "       [3.57802582e+02, 3.53748169e+02, 4.60499969e+02, 4.04600647e+02,\n",
      "        6.19025901e-02],\n",
      "       [1.50575775e+02, 1.51556351e+02, 4.68927155e+02, 2.54839310e+02,\n",
      "        6.06494807e-02],\n",
      "       [2.15911865e-01, 2.37259064e+02, 3.02521179e+02, 4.60365753e+02,\n",
      "        4.56203073e-02],\n",
      "       [2.97054810e+02, 9.64775391e+01, 4.73556519e+02, 1.80383118e+02,\n",
      "        4.33251336e-02],\n",
      "       [1.71634109e+02, 6.11064568e+01, 4.78412537e+02, 1.87546478e+02,\n",
      "        4.09654789e-02],\n",
      "       [0.00000000e+00, 2.25598206e+02, 1.10608246e+02, 3.51469299e+02,\n",
      "        3.46637182e-02],\n",
      "       [6.52483368e+00, 2.22231247e+02, 1.02362198e+02, 2.82829498e+02,\n",
      "        3.18436585e-02],\n",
      "       [3.55097198e+02, 2.53809738e+02, 4.28577484e+02, 2.82078918e+02,\n",
      "        3.08317691e-02],\n",
      "       [4.52807068e+02, 5.75626297e+01, 5.12000000e+02, 1.88141663e+02,\n",
      "        2.83828042e-02],\n",
      "       [2.79169373e+02, 2.52098236e+02, 3.05710266e+02, 2.66117645e+02,\n",
      "        2.83716582e-02],\n",
      "       [1.95111496e+02, 2.04414719e+02, 3.23635071e+02, 2.52257584e+02,\n",
      "        2.79910509e-02],\n",
      "       [1.76745117e+02, 5.73661652e+01, 3.25178009e+02, 1.53084503e+02,\n",
      "        2.73426492e-02],\n",
      "       [2.84664886e+02, 2.41093048e+02, 3.24322845e+02, 2.60096771e+02,\n",
      "        2.59799697e-02],\n",
      "       [1.56224152e+02, 1.82023758e+02, 3.80744476e+02, 2.54069901e+02,\n",
      "        2.57356763e-02],\n",
      "       [1.91605667e+02, 6.81360703e+01, 2.28305618e+02, 8.88326950e+01,\n",
      "        2.29298286e-02],\n",
      "       [1.79804626e+02, 9.02929611e+01, 2.80048004e+02, 1.40303467e+02,\n",
      "        1.87739544e-02],\n",
      "       [2.44880280e+02, 6.45809326e+01, 2.67744293e+02, 9.98211670e+01,\n",
      "        1.84528437e-02],\n",
      "       [2.94852997e+02, 2.36900452e+02, 3.32530609e+02, 3.01308228e+02,\n",
      "        1.71735529e-02],\n",
      "       [3.72563049e+02, 3.66873718e+02, 4.72312134e+02, 4.33746094e+02,\n",
      "        1.65133774e-02],\n",
      "       [3.18375366e+02, 6.36750336e+01, 3.51065430e+02, 9.48874207e+01,\n",
      "        1.61289293e-02],\n",
      "       [0.00000000e+00, 7.50579834e-01, 1.89131683e+02, 2.62664856e+02,\n",
      "        1.58413500e-02],\n",
      "       [2.85936310e+02, 3.40138336e+02, 3.09790131e+02, 3.76871613e+02,\n",
      "        1.36276167e-02],\n",
      "       [3.18965210e+02, 2.60854980e+02, 3.51183105e+02, 2.87939941e+02,\n",
      "        1.22781387e-02],\n",
      "       [8.90641632e+01, 5.81744385e+00, 5.01589172e+02, 2.56724731e+02,\n",
      "        1.14410287e-02],\n",
      "       [1.56026077e+02, 5.20205765e+01, 3.97441406e+02, 2.54680756e+02,\n",
      "        1.09232422e-02],\n",
      "       [1.86351212e+02, 2.19655548e+02, 3.06586182e+02, 2.60871765e+02,\n",
      "        1.08184768e-02],\n",
      "       [1.52645660e+02, 3.54319275e+02, 3.26414795e+02, 4.74654358e+02,\n",
      "        1.05762500e-02],\n",
      "       [3.19456909e+02, 7.34074554e+01, 3.49382812e+02, 1.05503754e+02,\n",
      "        9.74671356e-03],\n",
      "       [3.82056183e+02, 1.11532974e+02, 4.71804718e+02, 1.82430283e+02,\n",
      "        8.89288541e-03],\n",
      "       [2.69847961e+02, 2.40188202e+02, 3.27822388e+02, 2.53169312e+02,\n",
      "        8.71148240e-03],\n",
      "       [1.83586685e+02, 8.74759903e+01, 2.65141541e+02, 1.21404823e+02,\n",
      "        8.35928973e-03]], dtype=float32), array([[4.5471619e+02, 6.1177483e+01, 5.1200000e+02, 1.8704639e+02,\n",
      "        9.7320033e-03]], dtype=float32), array([[4.55467865e+02, 3.50247437e+02, 5.11885284e+02, 4.34934875e+02,\n",
      "        9.82162893e-01],\n",
      "       [2.84898834e+02, 2.17161087e+02, 5.02641449e+02, 4.34737488e+02,\n",
      "        9.55216706e-01],\n",
      "       [2.00050354e+00, 2.36322479e+02, 3.02593140e+02, 4.60127655e+02,\n",
      "        9.45752084e-01],\n",
      "       [1.46705856e+02, 3.56658783e+01, 4.89099731e+02, 2.56406372e+02,\n",
      "        9.31798756e-01],\n",
      "       [2.97354431e+02, 1.76853485e+02, 4.84893005e+02, 2.71402100e+02,\n",
      "        4.11252737e-01],\n",
      "       [2.40768463e+02, 4.97887268e+01, 3.24422028e+02, 1.18639404e+02,\n",
      "        3.72890949e-01],\n",
      "       [2.96347778e+02, 9.19326553e+01, 4.74015381e+02, 1.79436096e+02,\n",
      "        2.65912801e-01],\n",
      "       [1.88874496e+02, 8.32064819e+01, 4.89219910e+02, 4.29521240e+02,\n",
      "        2.40350768e-01],\n",
      "       [3.87007996e+02, 3.50545715e+02, 5.12000000e+02, 4.35485901e+02,\n",
      "        1.76434577e-01],\n",
      "       [1.76745117e+02, 5.73661652e+01, 3.25178009e+02, 1.53084503e+02,\n",
      "        1.70348987e-01],\n",
      "       [2.73166321e+02, 2.50874268e+02, 3.05855286e+02, 2.65981689e+02,\n",
      "        1.27103239e-01],\n",
      "       [1.83654755e+02, 0.00000000e+00, 4.89544952e+02, 1.71602966e+02,\n",
      "        7.62215480e-02],\n",
      "       [1.80054657e+02, 1.42400024e+02, 4.63420807e+02, 2.61524231e+02,\n",
      "        4.68397923e-02],\n",
      "       [0.00000000e+00, 2.25694366e+02, 1.10323471e+02, 3.55752899e+02,\n",
      "        4.36191447e-02],\n",
      "       [1.58637268e+02, 3.30338562e+02, 3.27316772e+02, 4.77210327e+02,\n",
      "        4.10671532e-02],\n",
      "       [3.18738678e+02, 6.31603394e+01, 3.50746063e+02, 9.27332001e+01,\n",
      "        3.54340822e-02],\n",
      "       [9.54729614e+01, 2.07256729e+02, 4.31256348e+02, 4.58945374e+02,\n",
      "        3.31389941e-02],\n",
      "       [1.60087036e+02, 4.57259216e+01, 3.49787689e+02, 2.38867706e+02,\n",
      "        2.85452977e-02],\n",
      "       [2.81717072e+02, 2.45431671e+02, 3.09791412e+02, 2.64546051e+02,\n",
      "        2.34853681e-02],\n",
      "       [4.51179779e+02, 6.14113655e+01, 5.12000000e+02, 1.87293579e+02,\n",
      "        2.17807628e-02],\n",
      "       [9.83722687e+01, 0.00000000e+00, 1.93737808e+02, 2.48127914e+02,\n",
      "        2.17687003e-02],\n",
      "       [0.00000000e+00, 7.50579834e-01, 1.89131683e+02, 2.62664856e+02,\n",
      "        2.11899821e-02],\n",
      "       [2.85936310e+02, 3.40138336e+02, 3.09790131e+02, 3.76871613e+02,\n",
      "        2.07950529e-02],\n",
      "       [0.00000000e+00, 9.46809082e+01, 4.33766785e+02, 4.26953125e+02,\n",
      "        1.80776305e-02],\n",
      "       [2.49841919e+02, 9.46755753e+01, 2.83962158e+02, 1.18155128e+02,\n",
      "        1.76239274e-02],\n",
      "       [3.19161194e+02, 2.44819061e+02, 4.34024780e+02, 2.87274261e+02,\n",
      "        1.66165233e-02],\n",
      "       [9.26023941e+01, 1.79275513e+00, 3.08378174e+02, 2.51229324e+02,\n",
      "        1.62122548e-02],\n",
      "       [2.79409760e+02, 2.54725082e+02, 3.04911469e+02, 2.71261230e+02,\n",
      "        1.48305362e-02],\n",
      "       [3.19456909e+02, 7.34074554e+01, 3.49382812e+02, 1.05503754e+02,\n",
      "        1.47336256e-02],\n",
      "       [3.14499329e+02, 7.72401352e+01, 3.36270325e+02, 1.07832436e+02,\n",
      "        1.35360984e-02],\n",
      "       [2.41926117e+02, 0.00000000e+00, 3.94622406e+02, 1.11753723e+02,\n",
      "        1.34355752e-02],\n",
      "       [3.82056183e+02, 1.11532974e+02, 4.71804718e+02, 1.82430283e+02,\n",
      "        1.29140886e-02],\n",
      "       [2.71561157e+02, 2.43564987e+02, 3.15386963e+02, 2.58871185e+02,\n",
      "        1.26733528e-02],\n",
      "       [1.49834229e+02, 3.99367340e+02, 3.09382935e+02, 4.75944305e+02,\n",
      "        1.15385018e-02],\n",
      "       [2.88813507e+02, 2.51294373e+02, 3.08147736e+02, 2.68621887e+02,\n",
      "        1.14691462e-02],\n",
      "       [2.90056793e+02, 2.40293320e+02, 3.30595856e+02, 2.60635376e+02,\n",
      "        1.08974231e-02],\n",
      "       [4.56629272e+02, 3.92850525e+02, 5.08464539e+02, 4.25189453e+02,\n",
      "        9.91884898e-03],\n",
      "       [2.89354218e+02, 3.27712189e+02, 5.07374786e+02, 4.41154572e+02,\n",
      "        9.11783241e-03],\n",
      "       [2.94127533e+02, 2.37454468e+02, 3.30553619e+02, 2.97816711e+02,\n",
      "        8.45108647e-03],\n",
      "       [9.65862274e+00, 2.23269501e+02, 1.01691673e+02, 2.78310760e+02,\n",
      "        8.11411068e-03]], dtype=float32), array([], shape=(0, 5), dtype=float32), array([[9.8372269e+01, 0.0000000e+00, 1.9373781e+02, 2.4812791e+02,\n",
      "        2.0279024e-02],\n",
      "       [3.2032013e+00, 2.3894803e+02, 3.0108820e+02, 4.5932639e+02,\n",
      "        9.7565511e-03]], dtype=float32)], [[], [{'size': [512, 512], 'counts': b'Tk_4a0Y?7G8O2O0002N002N1O001O1O1O2N2M4K5K5LgdV3'}, {'size': [512, 512], 'counts': b'TPc11m?5L4M<C4M1O4L;E2N3M>B5K3M7I5K2N6J7I3M3M8H5K2N8H;E3M3M5K3M2N3M5K2N5K7I3M2N4L6J3M4L5K2N3M5K4L3M5K5K3M3M7I4L1O001OO1N2L4N2H8A?L4N2K5J6N2N3ZMjF^NX9_1QGXNS9e1QGVNR9f1VGPNR9k1VGlMP9o1WGjMo8P2ZGfMU9;fDl0T>gNUBQ1c>I6K5K5^Of^T5'}, {'size': [512, 512], 'counts': b']k19c?8I5L4M2M4L4M2N4L4L3M3N1N3M1O2N2N2N3M3M2N2N2N2O0O2O0O2N101N3M2N2N2N1O2O0O2O0O2N2M3N2N2N101N101N101N1O2N3M2N1O2O0O2O0O101N1O1N3N1O2O1N2O001N10001N100O1O2O0O1O101O0O2O1O1O1N2O001O0O2O0O100O1O1O2N1O100O101O0O1O2O0O2M2O2O0O101N10000O100O100O1O1O100O1O1O1O1O1O1N200O1O01000O01O1O0010O01O10O0001O000O2M2M4N1O2O1O001O1O1O1N1O2N2O1O00100O100O2N1O1O1O100O2O000O100O1O1O1N2N2O1O1O1O1O1O1O1O1N3L3O1N200O1O1O100N2N2L4M3M2O2O1O100O1O1O1N2O1N2O1O100O100O1O100N2L4L4O100O100O100000000000000O2O00000O100O1O1N200O1O100O10000O100O100O1O1O100O100O1000000O10001N100O100O2M2O2M2N3N2N1O2N101N1O2M2M4I7L4L4M3N2N2M4L4LbWY3'}, {'size': [512, 512], 'counts': b'kgY41o?00001O00000000000010N020N10010O010OQ`00o_O100O010O1O1O0O11N1O10oWV3'}, {'size': [512, 512], 'counts': b'\\\\]d521Oi?7M100000000000O100000000O101O0O2O1OdRR2'}, {'size': [512, 512], 'counts': b'PXc426Ob?0]@1c?6001N1O101N1O00ogW3'}, {'size': [512, 512], 'counts': b'TPc13l?5L6I7J5K5J6K4L1O2N1O2N2N2N2N4L?Ab0^O`0@2N3M1O2M200O1O1O1O2N2N2N3M5K>B6J3M2N7I3M1O1O001O001O1O1O1O1O6J4L7I6eFnI\\\\8U6^GPJ`8o5aGQJ_8o5bGPJ^8o5cGQJ]8W3TGVO`0bM\\\\8X3TGUOb0cMY8X3VGfNOVNd0NS8U3[GgNOUNg0Ln7X3]GfNOTNg0Ol7W3_GdN0UNe00l7V3`GeNOUNf00j7V3bGdNOUNe02i7T3eGdNMUNf04g7S3fGdNMUNf05f7R3hGbNNVNd08d7o2lGjLH]14bNd08d7n2YHWNA`Nd09c7o2ZHVNc0hNT7f2_G[Ml0V1b0eNV7i2dGTMf0\\\\1[9_1QGaNo8]1TGaNm8^1TGcMaNb0[:^1gEmM_10bN7MK\\\\:P2jEjM\\\\12dN7MKY:Q2mEhM[12eN8MJW:S2dGjMZN7NJT:U2eGhM[N7NJR:W2fGhM[N5^:S2gGlMZ8S2hGkMY8U2hGiMY8W2h200000001O000O1000000000WGkMg3U2R5000000001O0000000000000000001O00000000000000001O00000000000000001O00000000000000000cBiMQ=X2lBkMS=U2lBlMT=T2lBlMT=U2jBlMV=_200000O10000000000000000O1000000000000O100O100O1N2M3L4N2M3O1O10000O10001O0O1000000001O2M4M6J2N2N1O2kB`Mf<a2WCdMf<]2UCiMi<i2N1O001OO100O1N2O1O1O1O100O10000O2O00O1000O10000000000000000000000000000001O000000001O00000000001O0000001O000000001O000000000000001O00000000001O0000001O00001O00001O1O1O001O0010O01O001O00001O001O1O0010O01O0000\\\\NfCCY<9mCES<:oCEQ<;oCFP<:oCGQ<9nCHR<S20000O100000000000000O10010UE\\\\LX9d3hF\\\\LX9d3hF\\\\LX9d3hF\\\\LX9d3hF\\\\LX9d3hF\\\\LX9d3hF\\\\LX9d3gF]LY9d3fF\\\\LZ9d3fF]LY9c3gF]LZ9b3fF^LZ9c3eF]L[9c3eF]L[9c3eF\\\\L\\\\9e3dFZL\\\\9f3dFZL\\\\9g3cFYL]9g3^11O1O1O1O1O001O1N11O00000O100O100O2OYDVLX;i3hDYLW;g3hD[LW;d3iD^LV;b3jD_LU;`3lD`LNJh:[3TEeL68LIj:Z3SEgL66NHi:[3PEjL92U;`3jD_LW;b3hD^LX;b3iD\\\\LX;e3gD[LX;g3gDXLZ;h3fDXLZ;i3eDWL[;i3eDVL\\\\;j3dDVL\\\\;k3dDTL\\\\;l3dDTL[;m3fDQL[;P4:01O0O100000000O1000001N1000001WMnC\\\\OO10P1X<^OaDYO_Og0MWOZ<MjC7X1IhN9]?Jm\\\\6'}, {'size': [512, 512], 'counts': b'hm\\\\2:d?3N2M3M2M4L4N1O2N1O2N1N2O2N101N101N1O1O1O2O00000O2O001N101N1O101N1O1001O1O100OGZNYBe1f=]NYBc1g=\\\\NZBe1f=ZNZBg1e=YN[Bg1e=YN[Bh1d=XN[Bi1\\\\=WNdB00i1n=00001O0000000O2M2JTNWBn1h=5UOlMjCU2U<kMkCU2P=0000000000000O100O1O1O1O100O2O0O10000O10000O1O10000O10000O1O1001O0000001O00O0100N1M4O100O001M3K5N2O001O000O2N101OO2O00O2O00001O000010O00010OO2O1NE`NYB_1e=hNXBW1g=lNXBS1i=`02O1O1000000O100O2N2O1O1N3N1O0O2O0O1`NfAZ1a>N101N1O2N1O2O5J101N100M3N3N2N3M3I5N3NPdk2'}, {'size': [512, 512], 'counts': b'cdV19e?4K=E4K6K4K5K5M5J4L2M3N2M3N2O1O0N2O2N1O1O1O1O1O0O20N1001N11O0O11O000001OO2O000O11O01004J5L5L4L5J8H6J9G5L6I3M5K3N5J6Jjjk5'}, {'size': [512, 512], 'counts': b'5l27ZM^<o3UOc0]O:GL4J6N2AgDUL[;j3iDSLW;k3lDSLU;m3lDRLT;n3lDRLT;o3jDRLV;o3hDRLX;n3gDTLX;m3fDTLZ;Z4OO100O100DdDSL];m3fDoK[;Q4::F1O2N1O3M5K3MN2M3N2M3N2N2002N2N4M3L4REVK^:Y5M00O1AfEWK\\\\:g4hETKZ:j4`0AmDnKT;Q4oDlKR;c4M3N[NoDXM1o0a:h1`EWM0U1[:d1gEUMO[1V:_1mEUMN\\\\1T:_1oESMN_1R:^1oEVML]1U:]1nEXMK\\\\1X:Z1nEUOS:k0lEVOU:i0kEWOU:h0lEWOU:;fEfM6o1T:9oE^M1X2o97bFG_95fFJZ94iFKV94mFJT94nFKS9IfE]NY1j1P9GoEXNS18cN`1Y:MmG3S8KPH5iNXNR8a1XIWOdM6o0UOT8[1fIlN^Ma0g0ZOT8V1oIgNZMi0a0\\\\OU8S1bJ^O\\\\M\\\\OS8T1eJmNaL1P:Q1_4O1O2N1O1O10000O100CTAFl>9WAEi>:ZACg><]A@d>??O1N2N2N3M3KlQ51oo70k^COZ_O6d@5W>4eA20Bf=`0WB3LCk=;WBc0g=]OYBd0j=VOYBi0`>O2O1O]AmN\\\\>[13NbAlNl=S1QBQOl=Q1TBlNl=V1UBgNl=Z1VBcNY=1lBj0CDY=BSC5Md0JDR=KQC01b0MBS=IQC110MO33d=K^BOb02T=M\\\\BOc00T=N\\\\B0]?0lj]5'}, {'size': [512, 512], 'counts': b'aeR76h?4K5L2O1O1N2O1O1O1O1N200O1O1O100O0001OO10N20O1O0O2G9I501H8I7N3M2N2H9O0L4101bMeBU2^=iMbBW2a=20O2N01N11O2O6HM40H97IFTBbNk=d1500GUB\\\\Nm=d18IiAcNZ>Z1=WO[A@m<'}, {'size': [512, 512], 'counts': b'_bl3<c?3L3N2L3O1@ZOZA05i0a>=0000O10000001O100O001O10000O10O1000O01000O0100O100O102M3NO001O00001O1O001O001O001O0O2O0O2O0XOUA;l>CVA;k>CXA<k>_OXA?V?O0O2O1O000O2O2O0O001O0O2O1N2Og\\\\o2'}, {'size': [512, 512], 'counts': b'Yh51o?2N1N1O1O2N100O2O0O2O0N3O0O2O0O100O100O10000O100O100O100O10001N101N10O10O1O10000O1O2OO0010O10O0010O010O010O01000O1O01000O1O010O100O1000O10O1O10O1O0001000O010O1O00101O1N4M1N:EbX^6'}, {'size': [512, 512], 'counts': b'R`3b0]?1k@^Ol>a0:O1Lc@E]?<b@D^??000O1N2N2003M1`@B\\\\?a00Md@B\\\\?9d@H2NZ?:e@G_?9a@H0N[?c0O0k@]Om>c0SA]Om>:m@M6Im>:m@I0N7Ol>:m@I0N\\\\?9d@M[?<01O0000001j@[Oo>g0n@ZOR?k0O001O001OO1J6Lj@^OV?l0J5K1O3M7I7I4L1O1O1O00000000O10000O1N2O1O1O1O1O1L310O1O1N200N2M3O100N2O1O1O1O1O1O1N3N001M3O1O2N1O1O2B[`^6'}, {'size': [512, 512], 'counts': b'SPl27h?>B=D1O1N2O1O5K3M1O1O2N1O2N1O1O1O1O1O1O1O1O1O1O1O001O001O001O1O001O1O1O1O1O00001O0000001O001O001O00000000O100O10000O10000O1O1N2J6N2N2N2O1O100O100000000O1000000000000001O001O00001O001O1O0000001O00001O00001O001O1O2N1O2N1O2N2N1O1O2N1O1O1O2N2N1O1O1O00001O001O1O001O1O001O001O0000000000000000000000001O00000000000000000000000000000000000000001O000000001O00001O00001O00001O001O0000001O0000001O00001O1O001O1O00001O0000001O00010O001O000O2O00001O00001O00001O00000000001O000001OO10000000001O000000000000001O001O00001O0000001O1O001O10O01O001O00001O001O001O1O1O1O1O1O1O00000000001O001O001O00N2O100O1O100O100[OVDSMk;a2UDVM28j;`2VDVM30MLk;]1UDL3hN3MQ<]1TDBLPO^<R1[CSOi04ZOJS=MQC3M0fn;'}], [{'size': [512, 512], 'counts': b'Xk2f0V?7J5M2N1O2N2N3L4M5K4L2N2O1N2O0O2N2N2N2N3M2N2N2O1O1N2O0O2N2N2N2N2N1O2O1N2O0O2N1O2N1O2N1O2O0O2O001N2N1O2N2N1O2N101O0O101N1O2N2N2N2N2N101O0O100O2O0O100O1O1O100O2O001O1O1N2O1O001O001N100O1O1O2N1O1O101N100O2O0O2O0O2M2O2O0O101N10O01O100N2O1O100O100O100O010O1O1O1O1O1O0100O010O00010O01O000010O001O1N2M2L5K5O001O100O00100N2O0O2O1O01O0100O2O0O1O2M2O100O100O101N1O1O1O1N2N3N1N200O1O1O1O1O1N2M3N2N2O1O1O1O1O1O1N2N2M3N2N2O1O100O1O1N2O1N2N2O1O1O100O1O100N2N2N2N2O1O100O10000O10000000001N10000O100O1O1O1O1O1O10000O10000O100O1O1O1O100O10000O1000000O10001O0O100O1O2L3N2M4N1O1O2O1N1O2N2N1M4H8L4L4M3N2N2N3L5LaWY3'}, {'size': [512, 512], 'counts': b'kgY41o?001O000000001O00000000000001O0010O0100O0100O010O1O1O0O11N002OoWV3'}], [], [{'size': [512, 512], 'counts': b'jgY42n?001O00001O000001O00O11O00000001N12N011N10M32NN10101NON33MN13MQXV3'}, {'size': [512, 512], 'counts': b'^k1:a?8J6K4L3N2M4M3M3M4L3L4M3M2N101N2O1N2N2N3M2N2N1O2N2O0O2O0O2N2N3L2O2O1N100O2O0O2N2O1M3N2N2N2O0O2O0O2O0O2N2M3N2O1N101N100O2O0O2N2N1O3M101N2O0O10000O2O0O1O100O1O101N101O1N2O1O1O1N101O000O100O1O1O1O1O2N100O1000001N101O0O2O1N1O2O0O1O00100O1O1O010O1O100O1O001O100O1O1O1O1O100O01O010O010O0010O01O001O0O1O2L3M3O2O1O00100O001O1O1N101O1O00100O1O2O0O1N2O2O0O1O100O101N1O1O1O1O1O1O1O100O1O1O1N3L3M3N2O1O1O1O1O1O1O1N2N2M3O1O1O1O1O1O010N2M3M3N2O1O1O100O100O1O1O1O1O1O1O1O100O100O1O1O1O100O100O100O100O100N2O1O100O1O1000000O2O0O100O1O100O1O100O10000O100O101N100O101N2M3N1O2N2M2O1O2N101N1O2N1N3L4M3L4N2M3N2M3N2JfWY3'}], [], [{'size': [512, 512], 'counts': b'\\\\gU51n?101N10000000O10001OJO]@1c?0\\\\@0c?1]@Oc?1]@Oc?1]@Ob?2^@Nb?3\\\\@Ob?2]@Oc?8]@F]??O1O2N1000000O10Kh@BX?>h@BX?>h@BX?=j@AW??j@@V?`05O10O10000O10000O10000000000000O10O2N1O2O1N5L1O00O10O10N2N20O4L2N2N2N101N100O1O10O01O100O2N2N2N2N2N101O001O1N2O2N1M2N3O1N2N2M3IhMbBZ2]=hMcBX2\\\\=hMfBV2Z=kMfBU2Y=kMgBV2X=jMhBW2W=iMjBW2U=jMiBW2W=jMgBX2X=81O01O0001O001O0000000O10001N1O1O1N3N1O1O2K4O1O1O100M4L3M3N2O2O1N1N3K5M3N1O1O2N2N3H9I4N3N2M6Jdi='}, {'size': [512, 512], 'counts': b'ShQ52l?4Z@K]?5c@K\\\\?7c@I]?851N101O1N102N000000O11O1N2N11O01O]Oe@a0]?1O0N^Of@b0Z?4N0000ZOh@d0Z?1O00000N[Oi@e0W?[Oi@e0W?[Oi@e0W?[Oi@d0Z?00000000O100O10O1000000000001O000000O10000000000O10O011O001N10000O1O2O00001O00000O2O0001O02OO1O00000O101O2N001N101N1O2N100O2N2N101N101N1O2NjgX1'}, {'size': [512, 512], 'counts': b'igY42n?1O0O20OO1000000000001O00000000001N11OO2OJ[@2e?NZ@2e?N\\\\@3d?5O0011O2L2O2MQhV3'}, {'size': [512, 512], 'counts': b'cbh37h?2O0O2M2M3N3N2N1O1N3C[OYAi0e>:O101N1001O0O2O010O001O0010O010000O1O10O10O10O10O0100O100O3N4K10O010O00001O1O00001O000O2O1N2O0O2N2POTAj0R?UOQAc0V?O2O1O1N2O1O0O2O1O0O2O1O1O1N2O001Mi\\\\o2'}, {'size': [512, 512], 'counts': b'gi_4b0Y?8L3M2N2N3L4K6I7J4N2N2N2M3K6F:I6M3N2N1O2M4L4L4L4L3N2N2N2N2N2N2N2N2N2N2N101N2N2O1N2N2N2N1O2O0O2O0O2O1N2N2N3L201N100O2O0000000O2O001N3N1N2N1O2N11O0000010O0001O0O2N2O1O1N101O000000001O01O000001O1O1O1O1O1O001O000000010O0000001O00001O0101O2M:G0O010O1O2N1O2N1O100O1O1O1O1O1O001O001O1O101N1O100O10O1O0010O01O01O00001O1O001O1O00001O0O101O0O1O2O0O2N2N3L3mNUEmLn:P3VEkLn:R3VEiLn:U3TEiLm:W3P1M2N3L3L4L3N3M3L4L8F9K2M3N2O1N2M4L4L3L4M3N1O2M5HZV;'}, {'size': [512, 512], 'counts': b'Pcn32n?2N2M3N1O2N2N002N01O01O001O01O10O01O1O001O001O010O1O10O01O4Jdla3'}, {'size': [512, 512], 'counts': b'SPc13k?5M3L<E3M1O4L<D2N2N`0@5K3M5K8H3M4L5K3M2N9G5K3M8H9G4L3M5K3M2N4L4L2N4L8H3M2N4L6J4L5K4L2N2N6J4L3M4L5K3M3M8H3M1O001OO1O1O1M3J6\\\\Od0L4N2L4J6M4L3_MbF[Nc9a1gFWN\\\\9e1jFVNY9f1oFQNW9j1QGmMV9m1QGlMU9n1TGgMW9n1e2H;TNoAW1b>I6K6]Od0F\\\\nS5'}, {'size': [512, 512], 'counts': b'Sle51g_11[`NOg?6M4O3M0`@C\\\\??c@B\\\\?a001N1O2N2O000O2O1N100O100O100O2O0O100O1O10000O2O000000000O2O0O10001N10000O1000000O101O0O0100000000O010000000N200O10000000001O0M4O0O2O001N101M3O1N2N2O1O1N2N2N2N3M6I[dl0'}, {'size': [512, 512], 'counts': b'Ug_23g?d0_O3H9M3I7N1O2O0O1O1O1O1M3M3J6N2N3L3O1O1O1O1M3O1M3N200O1K^MlBb2T=5O1000000000000000000O1000000000000000000000000000O100000000000000O10000000000001O0000000000000000000000001O000O1000000000000000000000001O0000O10O1000000O10000O10000O10000000000000000000O10000O100O1000000O1000000O101O0O100O101O000O1000000O10000O100000000O1000000O100O100O1000O01000O10O100O1O100O10000O100O100O100O100O10O02O000O10000O100O100O1000000O1000000O101N10000O10001O000O1000001N1000000O2O000O2O000O101N100O101N100O2O0O2N2O0O2O0O2O0O2O1O001N2O001N101O0O2N101N100O2O0O1O1N2O101O001O1O1O1N2M3O\\\\@H`?8`@H`?8`@I`?6`@J`?6`@Ja?5_@Jb?6^@Jc?5]@Kc?5]@Kd?4\\\\@Ld?4\\\\@Ld?4401O000O1OWjl0'}, {'size': [512, 512], 'counts': b']k1;b?5L3N2M4L3M5K7J4L2N2N2N2O0O2N2N2N3M4K5L2N2N1O2O0O2O0O2N2O1N3M2N1O2N1O2O0O2N2N2N2M3N2O0O2O0O2O0O2N101N2M3N2O1N2O0O100O1O2N1O1O1O100O2O0O101O1N2O1O0O2O1N100O2N101N101N2O1O1O1N2O000O100O2N1O1O1O100O100O101N100O2O0O1O2N1O2O0O101N100O100O1O100O1O2N010O1O010O001O001O10O0100O010O10O0100O010O1O01O0O1N2M4L3O2N10100O001O1O001N101O0000011O0O2N1O2N1O2N1O101N100O100O1O1N2O1N2O1O100O1O2N1N2N2N2N2O2N1O100O1O100O1L4L3O2O1O1O100O1O100O1K5L4O1O1O100O100O1O1O1O1N1O2O1N2O100O10000O10001N1000000O100O100O1N2O100O1O10000O100O2O0O1O1O1O1O10000O1000000O10000O10000O2N1O1N2O2M2N2N3O0O2N101N2N1O2L4K5L4L4M2O2M4M3M3LcWY3'}, {'size': [512, 512], 'counts': b'ZSS52n?0O1N3N1O2OO010O0100O1000001d@Im>8o@LP?5n@MQ?4m@MS?3m@NR?1o@OQ?1PAMQ?2SAKm>4a0O0000i@Hf>9SAGK2R?7PA5k>LRA7m>?O100O0001O00001O01O010O0010O0000000YOSA;m>DUA;l>DTA<l>DTA=l>CRA?n>910O100O01O01O100O00000100O10O100O100O10O0000VAoNe>V11O100O0001O10O01O10O0001O001O00102M1O000O101O001O001O1O1O001O0000001O01O0000001O00001O0000001N100O100N3M3N2M3N2O0O2N2N2M3M2O2O1N2N3J7Kb[e0'}, {'size': [512, 512], 'counts': b'TRo22m?2O1O0W@Oc?1\\\\@2a?O_@3_?Ma@3_?8O0010Cb@6^?Jb@6^?Ic@7c?01O00000001O010O1O010O000010O000010OO2O1O001O1O0O2O0000[@L_?3a@M_?3a@M_?37000001O21M10OIMa@3_?Ma@3_?N`@3_?M`@4_?Ma@3_?Ma@4]?Nb@2]?Oc@2[?Oe@1Z?1e@0Y?1f@0Y?1g@OX?=01N1O100O2M200O2O0O5L001O00001O01O01O001O001\\\\AhN^>X1`AjN`>V1_AlNa>Y11O1O1O100O1O1lN[Ak0e>TO]Al0c>SO]Am0c>SO\\\\Ao0c>RO[AP1e>6O010O00001O01O001O1O010O1001N2OO01O01hN^AP1k>N010O00001O001O001O00O100000000O100000000000001O1O001O00001O0001O0000000O2O00001N100O1100O1O100O1O100O1O10O001O001O0000001O0000000010O102NO0100O010O1O0010O11N2N010O00010O000000010O01O010OXAmNc>Y10O01O0001O01O0001O01O01O01O3M1O100O1O001O1O001O000000001O0001O000000000000001O01O01O00010O00001JhAbNX>]16O2O1N2N2L3N3N100O101N1O3L5I6L4Eikd0'}, {'size': [512, 512], 'counts': b'^8V2g=9J1N10O10O01O1O001O01O1000O100O0100O001O10O010O1O10O0O1010O1O1O1O010O0O10010O10O01O1O1O100O1O0O20O001O0100O001O10O001OO110O100O10O00O11O0100000O01O00O1100O010000O000O110001N10000O10O02N3M5L1O1N3N;E3L3M6J:F4M1N5K^WZ6'}, {'size': [512, 512], 'counts': b'Zh38h?4KO2000O10O0100O1O2O1N3N0O101N1O100O1O10000O1O100O1000O02O0O100O100O1000000O10O0100O001000O01O100O01O010O10O010O01O0100O00100O100O010O10O010O1000O001000O010O010O00100O100O1O3N3M1N5KeX^6'}, {'size': [512, 512], 'counts': b'YXg5110l?0T@0oo00QPO0e?0[@022b?N\\\\@000000000d?0\\\\@000020Nd?0\\\\@007c?I]@0070Ic?:10O100O2ON2O1O11N2O1O0O10001O00001N101O000000001O001O00002N00000000000001N10000O100O2N1O2N1O2N100O2N2O1NjgY1'}, {'size': [512, 512], 'counts': b'aeR76g?4L5M2N1O1N2N200O1O1O1O100O1N2O1O1O000000N2OO2O0L5HoN_AT1]>8N2H8K4O3L3M4I6O2K410OO201O0O10001N2N10M33M2M20O1N10O101A^B[Ng=]1c0I=\\\\OZN'}, {'size': [512, 512], 'counts': b'mW]41oo00P@00000000000TP31Q`LOe?2Y@Oh?0X@Oi?3100O1O1OoWW3'}, {'size': [512, 512], 'counts': b'bfU31`00n>0m@2FO1OX?1i@0O0O60J1OR?0m@20c0S?[Om@20`00_O1Oo>0PA20`00_O1OR?e0m@\\\\O1OR?e0n@[O00R?e0n@[O00R?e0n@[O00P?g0PAYO00o>f0QAZO11n>e0QAZO12n>c0QA\\\\OO2Q?j02N000000m@VOo>k0QAUOn>l0RATOn>l0RAUOm>k0SAUOm>k0SAUOn>2RAb00[Oo>ORA1Oe0R?ZOo@010Nc0R?]Oo@10OOc0R?]Oo@1Oe0R?ZOo@1Oh0n>YORAj01TOk>0UAl00TOk>0UA1Oh0o>WORA1Oh0R?WOPA0Nf0V?ZOk@1Oa0V?^Ok@e0U?[Ok@f0T?ZOk@h0T?4N11M2O003M0001O0OYOj@f0V?ZOk@e0X?05\\\\Ob@<b?O2N1O00001O011N003L1010O1N100LK]@6f?01N10001OO100000000000O2O000O010000000000001O00OO2000000000\\\\XY3'}, {'size': [512, 512], 'counts': b'XSj24g?6N1J6JAi@a0T?7E;L4L3O200000000010O0O2N1O1O2O0O2O0O2O1N101O001MSASOl>l0SAUOn>j0RAVOo>i0RAVOo>i0QAWOo>i05O010N2O1NPA]Oe>c0[A]Of>b0ZA^Og>a0SA_OO1n>`0RAAN0Q?>QAHo>7PAJQ?6n@JS?5m@KT?4l@LT?`01\\\\Ok@;U?Dl@<T?Dm@;T?Dk@=V?Bj@>W?Ai@3O5X?Hi@3O5\\\\?Ke@4[?:O001O0J\\\\OPAd0P?]Oo@c0Q?]Oo@c0P?^OQAa0n>@RA?m>CTA<i>HVA8g>LWA5h>b000O1KkN_AU1`>mN^AT1b>5N2O1O100O1N110O0101O000OeAaNW>_1iAaNX>^1gAcNY>]1hAbNX>`14JcAhN\\\\>X1dAhN]>V1dAjN\\\\>W1bAkN^>\\\\1O100O01O00010O00001O1O1O001O00001N101O001O1N2O1O001N2O1N2N3WOn@`0S?^On@b0Y?N2O1N4M0O2O1N2O1O1N1O2Mklo2'}, {'size': [512, 512], 'counts': b'jg_42n?0O1O2O0O2O001N101O001O000O101O0O10001OO01000O10O01O1O1O1O001O1O1N2O1O1Nahm2'}, {'size': [512, 512], 'counts': b'\\\\g_22j?0W@6c?4K6K4L5KVOQAl0l>6N1N201O00000O2O001O000O10O1O1ONiN]AV1c>lN\\\\AT1d>lN\\\\AT1e>3010O0010O1O1O0O1LdNdA[1]>eNcAZ1^>fNbAZ1^>gNaAY1_>gN`AZ1_>gNaAY1_>gNaAX1`>5O000000001O000000O10000000000000LaNgA_1Y>aNfA`1Y>bNfA^1Z>bNfA^1Z>bNfA^1Z>bNfA_1Y>aNgA_1Y>aNgA_1Y>aNgA_1Y>40000000000000000000001O000000\\\\NhA`1X>`NhA`1Y>_NgAa1\\\\>01O0iNcAI0m0_>WOcAKOm0`>UObAMNo0a>RObAOMo0j>POVAP1j>POVAQ1i>oNWAQ1i>oNWAQ1i>oNWAQ1i>oNWAQ1i>oNWAQ1i>oNWAQ1i>oNWAQ1i>oNWAQ1i>POVAP1j>POVAP1j>POVAP1j>300O10000IkNcAU1]>kNbAV1Y>jNeA21T1Z>jNeA20U1[>iNeA20U1[>jNdA11U1[>jNcA23S1Z>QOeAo0[>QOeAo0\\\\>QOcAn0Z>lNfA60n0Z>lNfA7Om0[>mNeA51n0Z>VOfAj0[>TOfAl0Z>TOfAk0[>TOfAl0[>SOeAm0[>nNcA021Ml0^>SOcA030Lm0^>SOcA021Mk0_>TObA02Q1\\\\>oNbA02Q1\\\\>oNbA01Q1^>oNaA01Q1_>mNaA2OQ1a>mN`A3NP1b>mN`AX1`>hN`A3NP1b>mN`A2OQ1a>mN`A2OP1b>nN_A2OP1a>oN`A1OP1a>oN`A10o0`>PO`A10n0a>QO_A102Nf0c>WO_A102Nf0c>WO_A10m0b>RO^A1Om0e>QO\\\\A2Om0e>QO\\\\A2Ol0f>RO[AS1e>mN[AS1e>mN[AR1f>oNYAQ1f>POYAQ1g>4000OMjN]AW1c>3KfNdAZ1a>O100O100O101O000O010O1O00100nNVAm0g>QO[A2Ol0f>RO[A2Nm0k>3100O0O1010000O102L2WOm@d0T?[On@1N?T?@n@1O=T?Bn@OO2O1O0W?Nl@O01O00OX?0i@001O0\\\\?Oe@001O0\\\\?Oe@001N1b?N`@6`?J`@4c?N[@10N]?0c@2O01N]?0c@2O01N\\\\?1d@1O01N]?5c@1[?If@206Y?Ig@017X?Ig@010N2W?Mj@10010N2V?Nk@00010N20MS?1n@00010N20MS?1n@0001OO2[?Of@O0001[?Oe@050SYV2'}, {'size': [512, 512], 'counts': b'YRQ37g?3N1O002OO2O010N110O1O1O01O10O1O0010O01O001O1O0100OO2O100O010O1O[]^4'}, {'size': [512, 512], 'counts': b'cck29f?4L2O1O2M2O0O2O1N1O1N3O0O100O001O100O100N2O1N02001O000O010O01000000O10000O10000000000O1O2O000O10000O1O100O2N10000O1O1O2O000O100001M\\\\Oi@c0W?]Oi@b0[?Nd@@\\\\?`0201O0Aa@=b?O00000O10001O010O0O1O1000000IZ@4f?K[@4f?LZ@4h?100Y@Kc?4^@Lb?37Neld3'}, {'size': [512, 512], 'counts': b'ebj36h?3N2M2O2N1N3N2N1O100N11ON30O00100O2O1N3N2Ng]j3'}, {'size': [512, 512], 'counts': b'Rid44S?2^A2`>1ZA3d>2UA0j>c01O0O2O0O1O101N1O01O1OO1100OO3I6N101M4M2O1O2O1O002N0O3MbXk2'}, {'size': [512, 512], 'counts': b'^\\\\R62300Oc?0]@10Oc?0]@10Oi?210T@0b?;N3N1O01O2OO001O0001O0010O00001O00010O0001O01O01OO10001O00010O0O101N2O0O1O2O1O0O101N1O2N100N3N1O100N2O1N3OO01000000O10OOO2O1UO^A7d>GbA5d>BcA7V?H[@1obj0'}, {'size': [512, 512], 'counts': b'`RP52k?4J5N101O1O1N201N2O2N003M1O1O1O01N2O1O1M3O1N2M3O_@C`?:5O1M4Le]a2'}, {'size': [512, 512], 'counts': b'5k3S<X1iN8XEmJT:V6TFeI2d0`7e5SIXJn6[5VHVJb9g5=M3M3K5007I5K6VGUJS7T6RHgIN<l7o5RHjIN9o7o5oGlIN8R8l5oGnIN6S8l5oGeJQ8\\\\5mGeJS8d60O100^NnGVKR8\\\\60000000000000O100O1O1O1O1O2N100O1O10000O1000000F`GTI`8k6fGPIZ8P7;0001O000001O00O100O10O10O1001O001O1O1O1O00O1O1N2O1O1eMWG^Mj8o1PHiMQ8T2UHgMm7X2WH\\\\LhNh0U9j2dHlLd7S3aHdLd7[3a2O100O101O00000O1mLVDo1k;oMZDl1h;QN^Di1e;SNiD^1\\\\;`NgD7fNc0h<TOdD6iN1L1h<GdD7hN0M1i<DeD<cN2LO_>0cAa0\\\\>b0CaNYB^1g=eNWBV1m=lNRBR12jNb=1^BT1_>M2XOZA4i>JZA3h>J\\\\AOj>OXANk>0WAMl>0To41\\\\QK3N2O001N100g@Hj>9SAKj>6UALk>3UANj>2UAOk>1UA0U2JT:5fC3T2LjM3i;NWD5T2LiM8g;HZD6d1BgN9Ck0U;3TFkNRO8Dn0S;POnD71GY1LQOd1e:bNRE54ES11ROd1d:aNTE3i0EJ4Dd1d:`NVE1h0JH1Fe1b:_NYE0g0NEOIf1`:]N\\\\EOe01ENIf1`:\\\\N^EMe04CMJg1`:YN_EOd03DMJh1`:WN`EO2N065NI6ET1l:bNbE1N2O36OJ3HU1\\\\;bNmD5O124ONIU1h;jN]DO134NHT1\\\\1fNc88SFM135NJS1d0POVO0P:OVFM046MJR1c0UOTONe9DeF9OM135NKQ1d0ROUO0b9HdF70M242MMQ1e0oNXO0^9NcF32M44MNOQ1f0lN[O0Z92cF13O6OJ3Oa0NZOj0N\\\\O0h8OVG8LN423MK30?2ZOg0Ne83cF7ML55OKN30=5[O_:0_E50K93G2M21>h;ZOiE6_N10?f=@ZB01>g=BZBL1?g=EkB:P=GUC8UODW=4gBN>:DFW=OiC1ej5LncJ0boU5'}, {'size': [512, 512], 'counts': b'Sk_4b0Y?6G8O2O000002N1O1O1O1O002N3M1N5K3L3E\\\\@7h?NfTV3'}, {'size': [512, 512], 'counts': b'ZXP56i?3L5L3`@@[?c001O001OO200O0010O011ON20O01O010O00001O1O1O1N2O1N2O2M[W`2'}, {'size': [512, 512], 'counts': b'ZPd11n?5L>A2O2M2O1O1O0UAXO^>i0]A^O`>T1M3M4L7I>B`0@<D3M2N1O2N1O1O1O2N1O2N3M4L3M4L3_DiKS;c4O1O1O1O001O1O1REXKb:i4YE[Kg:P5O1O001O1O1O001O1O1O:GO00000000iF[JS8e5lG]JS8c5mG^JR8b5mG`JR8`5nGaJQ8_5oGbJP8_5oGaJQ8_5nGcJQ8]5oGdJP8\\\\5PHeJo7[5QHdJP8[5RHaJQ8m2PG[OQ1eMQ8o2oFZOS1dMP8R3nFWO[:8cElM3j1\\\\:9cEkM3j1[::dEjM3i1[:<dEiM2j1Z:=gEgM0j1Z:>hEeM0l1Y:>iEdMOl1Z:>YF@h9?YF@h9>[F_Og9`0ZF@f9`0ZFAe9>\\\\FBd9>\\\\FCc9=]FDb9;_FF`9:`FF`99aFH^98bFH^98bFI]97dFH\\\\97eFJZ96fFJZ96fFUNgN\\\\1b:>hFUNhN\\\\1`:`0gFRNlN\\\\1^:b0fFQNnNZ1^:e0dFPNPOX1^:h0bFPNPOW1_:j0aFmMROW1^:l0oFPOT9P1lFWNXN:n:`1iFSN^N7m:f1fFPNaN4m:m1aFnMeN1l:Q2`FmMeNOm:U2]FkMU:U2kEjMV:W2iEiMW:X2h1O1000000000000000000000fCkMi:U2fDjMB2g;T2fDlMA1i;S2fDlMA1i;T2fDiMD0g;W2`1001O00001O1O1O00001O0000001O00001O001O1O1O1TC]MY<d2eC^MZ<b2eC`MZ<a2eC_M[<b2cC`M\\\\<`2dC`M3Jj;f2SD`M\\\\<`2dC_M]<a2dC^M\\\\<b2dC]M]<b2eC]M[<c2a000O1O1O2N1O1@cB\\\\N9Eh<o1PCZN7Jh<k1SCZN5Kh<l1QCZN7Jh<l1PC[N9Hg<\\\\2XCcMi<]2XCbMg<`2<001O001O1O1O001O0TC\\\\M\\\\<e2cC[M]<e2dCZM\\\\<f2?00001O00000001O0001O00000000000O10000000000000000000000000000000001O0000000001O000000O100000000000001O0000000000000000001O00000000001O0000001O00001O00001O00001O000000001O00001O001O00100O1O1O1O010O00001O0000001O0000001O00001O001O001O00001O000000010O000QEbL\\\\9^3cFcL]9]3bFeL]9[3bFgL]9Y3cFgL]9Y3cFgL]9Y3dFfL\\\\9Z3dFeL\\\\9\\\\3eFcL[9]3eFcL[9]3eFbL\\\\9^3eFaL[9_3eFaL[9_3c100000O10001O01O0001O0001O01O0:F10eDiLk9W3oDlL7`0k:d2jDQM8<n:c2iDSM7;P;b2hDUM6:R;a2hDUM66V;e2dDUM63Y;h2aDUM61[;j2_DUM6N^;m2\\\\DUM6L_;^3cD`L^;`3bD_L_;a3aD_L_;`3bD_L^;a3cD_L];_3eD`L\\\\;[3jDdLU;P3\\\\DTMZ<m2hCRMY<m2gCSM[<k2dCVM\\\\<j2bCXM_<h2_CYMb<f2]C[Mc<Q31O010O1O001O001O0QMZCd2f<[M[Cd2f<[M[Ce2e<ZM]Ce2c<[M]Cd2d<[M^Cd2b<\\\\M^Cd2b<[M`Cc2a<]M_Cc2`<^MaCa2_<^McC`2[<cMfC\\\\2R<lMoCS2n;PNSDn1m;RN^Dc1d;ZNaDLVO2Mc0o>K5F:EWm6'}, {'size': [512, 512], 'counts': b'Zg_24j?3L5G8M4J5J6J6K4N3N1O1O1O1M2aM]N\\\\D65HQ1k1V:QOaD]Oo0h1^:\\\\O]Eg0a:]O\\\\Ed0c:]O\\\\Ed0b:@ZEb0c:CoDZNMU2R;_2L4I7M3G9O1O1O100O2O0O1000000001O00001O000000001O001O001O1O1N10100O1O1O1O1O1O1O001O1O1O001O1O1O001O0010O00010O010O000001O001O001O001O00010O00000010O0O1000000O10000O1001O001O1O1O1O1O0000000000O01000O10O10000O101^KiDY4W;eKlDY4U;eKmD[4S;dKnD\\\\4S;cKmD\\\\4[;1L400O010000000N101N2O0010O010O101N2O1O1N2O1O001O1N101O000O2O00000O10O01O10O010O010O10O010O100O010O100O2N1O1O1O2O0O101N101N1O2N100O2O000O101O000000001O001N102N1O1N10000O2N100O100O100000001N2O1N2N2O1kMQCV1P=\\\\NnBO8`1l<`NmBN;^1i<cNnBMb0c0ZOIY=D[DLhN8P=Ihni1'}, {'size': [512, 512], 'counts': b'YgP3120g?0Y@000g?1X@0000Oe?1[@5e?300000N[@Ie?7[@Ie?9\\\\@Ga?:^@Fa?=001O00002N1O00001O01O0O01000\\\\@G`?;03O0M3001_Ob@?_?001O001O001O03M00002N1O000000000D^@:e?O10O01O00001O00002OO01O000000010O1O001OO101O000001O000000000000002N0001O0000O10NNV@2j?NV@2m?O001O01Sh_3'}, {'size': [512, 512], 'counts': b'fm\\\\2:c?6L2N2N1N3L4M3N101N1O1O2N1O101N101M2O2O0O101O0O1O1O10001N2O0O2N1O2O0O1O1N2O1N20001O001N2K4O101N1IeMiB[2W=fMgB[2X=gMgBY2Y=70`MfB[2Y=eMhBZ2X=eMiB[2X=dMhB\\\\2X=cMiB]2W=cMiB^2V=bMjB^2U=dMjB\\\\2f<aM^C003L]2d<dM\\\\CO12N[2d<VN[Ck1d<i00010O01jL[Co2f<oL[CQ3j<01O001O2N5KUOVMaDi2_;WMnC0;h2c<1O1FYMXCj2g<8O1O12N1O7I1O000000O100ITMYCm2g<600000mLYCm2n<O1N2O0WMnBc2X=OM30N3K5M3O100O2N1M3M3O100OO10O00101O00100O1O1O1O10O000000O100010J5ISN[Bn1f=51O010O1O1O1O1O100O2O002M3WNnA`1[>M1O010O01O10O2O2N1N101N1O2O1N3M3M2O0O2N3MTTm2'}, {'size': [512, 512], 'counts': b'dRQ53m?3W@K_?>M2a@@\\\\?d0N01O1O1O1M3N3M3K5LT@0l?0T@0l?11OS@0m?0Tme2'}, {'size': [512, 512], 'counts': b'nT[61o?004JLY@4f?4O1nNGXB0UO:`?3TOESB<l=DSB>k=DTB=k=DTB=j=FSB<l=DSB=m=BRB`0n=_ORBc0m=]OoAh0o=\\\\OnAd0R>\\\\OnAd0R>\\\\OmAe0S>\\\\OgAi0Y>XOeAi0[>>00000000010O0001O2N10O01O0001O001O0O2O0O1O1O2N2N1O2N1O2N2O0O2K5N1O3K4N1O2M3M3O1L:G^kd0'}, {'size': [512, 512], 'counts': b'igX41o?1N10000O2O0000000000000O10O1001OO100000O10000000O1000O100000O02O00O1000O0100O10O10O1O1000000O1000O0100Oahl2'}, {'size': [512, 512], 'counts': b'`Sm21o?1N2N100N2BJf@0001046S?1h@I56R?4l@NT?2l@NS?5j@LV??00O1001O01OO100000001O0000000000001O00000O1000001O0000000010O00000001O00000000001O001O00N_Oe@a0[?_Oe@`0\\\\?3O01O0O10001O001N4M2N001O001O2M2O2Mcll3'}], [{'size': [512, 512], 'counts': b'`eS77f?4L5M1N1O3N1O2N002N1O100O1O1O02OO0N20O1N2ON2N3L4H8I5J7K5O2J5IoM`BR2a=5O2N102OO1O3M3NN1020N3M01O02O2NO1O2OO2O000YOXBfN46f=R1h0K=SOSAJT='}], [{'size': [512, 512], 'counts': b'[lT78e?5K3M3N3N2L4N1M4M3K4M3N3N1N2L4O2N2M3N2O1N2N2O3M2M2O1O1O100O001O010O01O01O00010O000001OO10000000001N10O2O005CQE'}, {'size': [512, 512], 'counts': b'ji_4:d?4M3L4L6F;G7K5L3M2N2N2L5H8F9L4M3M2O2M3M4L4K4N2M3N2N2N2M3N2N2N2N1O2N1O2O2M2O1N2O1N1O2N3M2N2N2N2O001N101N2N3M2N2O0O100O2O000O10001O001N2O1O2N001N10001N100O1O100O2O001O001N2O1O001O001O00001O0O110O001O1O1O1O1O0000001O00000000001O0001O0001O00001O010O1O1O0001O0WJaFR5`9fJgFY5]9_JhF`5n9N1O1O1O0010O01O1O\\\\OgJbFX5\\\\9mJdFP5]9oJeFo4]9lJfFU5S:O0010O010O0010O01O0010O0010OO2O000O2O0O1O2O001N2O1O1O1N3N0O2POjDTMW;f2oDYMS;c2PE\\\\MR;_2SE^Mo:^2UEaMl:\\\\2WEcMj:Z2ZEcMh:\\\\2YEcMh:[2ZEcMh:[2YEdMj:Y2XEeMk:Q2]EmMf:n1^EQNd:k1`ETN`:k1aETNa:j1aETNa:i1m1M6J6J4L3N101N2M4J[V<'}, {'size': [512, 512], 'counts': b'\\\\k1:b?9G6L5K3N2N2N3M3M4L5K4L2N1O2O1N1O2O1N2M4M2N2N101N101N101N2N2N2N2N2N2N101N101N1O2N3M2N1O2N2O0O101N101N2N2M3N2O1N101N100O101N1N2O1O2O0O101N101O1N2O001N100O2O0O101N1O2O1O1N2O1O1O0O2O000O100O2N1O1O1O100O101N100O2O0O2N2N1O2N100O10000O100O100O1O2O0O1O00100O1O1O1O1O1O001O10O10O01O010O1O010O0010O0000O2M2M3L5N101O00100O001O1O0O2O1OO101O02O1N2N1O2N1O1O101N100O100O1O2N1N2O1O1O1O1O1O1O2N1N2N2N2N2N2O1O100O1O1N2O1M3M3O1O1O1O100O001O1M3L4N2O1O1O100O100O1O1O1N2O1O1O1O1O1O100O1O10000O10000O101O0O100O1O1N2O100O100O1000000O10000O10000O1O100O1O100O2O000O10000O100O2N1N2N3L3N3N101N1O2O0O2M3N1J7K5N2M3N2O1N2N3K6IdgX3'}, {'size': [512, 512], 'counts': b'bf_2l0Q?6B=M3M2N101N1O1O2L3J6UN[NWEi1[:hNfDSO<Y2k:iNcDTO<X2e:]OVEf0h:^OPEh0o:U2CUKdEl4[:WKbEj4\\\\:[K`Ef4T:RKQF]5n9;O100O100O100O101O01O001O010O000010O010O0001O1O001O1O010O1O1O1O001O001N101O1O001O1O0O2O1O001O001O1O010O1O1O2N1O001O00000000000O10000000000O11O000O2O000O1CUKeEk4W:b0N1O100O1000000001N10000000000O10001O001O001O00001O001N101O001N101O0O2O00000O2O001N2O3M2M3N1O1N2O1N100O2O001N2O001N2O00000O2O00000O100O1O100O1O1O100O101O0O100O100O1O1O1O100O100O10000O1000000O2O000O100O100O2O001N101O1N2O1O0O2O0000001N10001N10001N101O0O2N101N101N1O2O0O100O2O000O101O0O101N2O0O2O1N101N100O1O1O2N1O1O100O1O100O100O100O1O1O2M2O100O1O1O100O1000000O2O000O1000001O0O101N2N1O2N2N1O1O2N100O2O0O2N101M2N4K5L4L5LoAF`<6aCL`<1`C1`<N`C3a<J`C6V>N2N2MeYb0'}, {'size': [512, 512], 'counts': b'_gR52m?2O0O10O10O100O0100000O1N2O1O1O10L\\\\@Ld?3]@Mc?3]@Mc?2^@O`?0b@0^?Od@0[?2c@O]?1b@0]?:O1O1N2000O1000O1000De@2\\\\?Nd@2\\\\?Oc@0^?90O001O1N2O1000O100`@D\\\\?<d@D\\\\?<d@D\\\\?<310001O00000O2N3M2O1O001N1l@XOP?h0PAXOP?h0PAXOo>i0QAWOo>i0QAWOo>i0QAWOn>j0RAVOn>n0O100O2O0O101N1O1O1O1O101N101N3M2N1O101N1O2N1O2N2N3N1N101O1O1N2O001O001N2FiMiBX2V=iMiBX2U=jMiBX2W=801O001O001O01O1O00001N1000000O1O2O0O1O2N1O1N3K4N2O100O1N2N2L5M2O101N2N2J6L4N1O2N1O2N3H8K4M3N1O2Ngi='}, {'size': [512, 512], 'counts': b'dbh36h?3N1O1O2K4O2M3C]OXAf0g>;K400O2L31O00010O001O0000001O100O100O100O00100O10O10O010O10O100O3N4K100O10O001O00001O001N101N101N2O0O101TOXA>j>@WA>k>@WA?l>^OUA`0V?01O1N2O1O001N101O1N2O001N2O0Oi\\\\o2'}, {'size': [512, 512], 'counts': b']So41j_51RPK3O0O10O0010L4000000000000000010O01O0001f@Hk>8TAHl>9SAGn>9QAGo>;o@ER?;910O01a@E03m>a0o@BP?h0O010O1O01O00001O000001O010O0010O00010O01O10O0100O101N001O0100O10O10O010000O100O1O100O2O0O10O0100O0001O0O101O01O2N1O001O1O001N2O0000001O1O1O1O001O1O00000001O0000001O010O00000O2O001N1O2N1O1O2M2O2M3O0O2N1O2M3N2N1O2N1O4K6Hd[e0'}, {'size': [512, 512], 'counts': b'_Uo21e0[1m;V2A>C<[Od0M2O2O000O10001N100000000001N1000001N10001N100010O000001O0000001O00000O2N100O1O101N100O110O010O00010O01O01O000000O100000O10O10000000001O00001O00000O2O01N10000O2N100O100O101N110O0001O01O01O001O10O0O10000O1O100\\\\MdDc0^1iMU8c1`Fa0R1YN[8U1fFfNK442i0:B[Oo7^1iGdNL5:K?f0\\\\OEo7R1nGeNL522h0>_OAn7U1kGhNLR1j0BB[Oo7Z1gG`0g0lNEVOo7P4ZHkLKoNm7W4VHlLf8U3WGoLg8S3UGPMj8Q3iF\\\\MV9h4O000O1000O0100000SMQGhNo8\\\\OoFD8m0i8^OSG@7P1g8_OWG\\\\O4T1e8@WG\\\\O4T1e8ATG^O5T1e8_OSG@6U1d8[OSGF3W1e8TOUGn2j8U2O1N2O001O1O00O1O100N2O1B>00O1O1\\\\MfFaN[9_1dFbN\\\\9R4O000kG^Il6c6oHbIP7a0THo46_J06e76\\\\HT5LkJHOo71_HT5H`Kh7[ObHU5DbKi7YOcHU5CdKj7VOcHV5CdKj7VOcHU5GbKf7ZOaHT5M^Kd7@\\\\HQ53\\\\Kc7EVHo4<XK^7MQHk4e0TK\\\\7e5hHWJ\\\\7f5eHYJ]7d5eHZJ^7c5dH\\\\J\\\\7d5eHZJ]7e5dHZJ]7e5cH\\\\J\\\\7d5dH\\\\J\\\\7d5dH]J\\\\7c5cH]J]7c5cH^J]7a5cH_J]7b5bH^J^7b5bH_J]7a5cH_J^7`5aHaJ_7_5cH_J]7a5eH\\\\J\\\\7d5gHXJZ7h5hHUJZ7j5^10001O1O001O2O1NQIXJh3g5WLZJi3f5UL[Jl3d5TL\\\\Jm3d5QL^Jn3c5PL^JR4`5nK`JS4`5kKaJV4_5hKcJW4j5\\\\KVJc4l5\\\\KTJc4n5\\\\KRJb4Q6]KoIc4R6]KmIc4S6]KmIb4U6]KkIc4V6\\\\KjId4V6\\\\KjIc4`2VIl0V2dLd4]2]Ik05aLZ16T5^2^Ik02cL[14V5]2]Il00fL[12X5\\\\2]Im0NgL\\\\10Y5\\\\2]Im0LjL]1NZ5[2\\\\In0KkL^1L[5[2[Io0KlL]1K]5K\\\\Io1O_1JnL]1IQ6g1hHc1InL]1IS6d1gHe1HPM<^O`0:f6b1fHf1GRM9@c06g6b1fH]2NnKc05h6`1jHZ2KPLe05e6a1PIV2GSLd06d64`Hl0i0_2@ZLd05c63fHl0o0W2VObLc08a62kHk0S1Q2oNiLc08^64oHi0U1n1NSMk59TId0W1m1LRMh5`0UIa0Y1k1V7eMcG?X1k1T7gMdG=[1j13TMm4f0fI;Z1k11WMo4b0gI;Y1l1OYMR5?gI;W1n1M[MX59fI<T1Q2cNSMe0>S6MdI=R1U2`NVM>c0^6CdI=n0Z2_NVM>b0P6WOkI9<<l0\\\\2]NXM`0`0P6XOjI8>:k0_2\\\\NYM??R6WOkI7>9j0b2\\\\NXM>a0R6VOkI6`07i0e2[NYM>?S6VOlI6>5k0i2XNYM>>U6SOmI9=5i0i2ZNXM>>f6^OiI<`0`2cNXM>>d6@jIa0;Y2hNYM>>c6BkI`0:W2jNZM=<b6FmI?7i2ZORMa6HmI>7h2ZOSMb6GlI`05i2\\\\OPMb6HmI`00m2_OlLd6HlI`0Om2@lLe6GlIa0NRO[O]34ZMg6FlIb0LQO^O^31ZMi6ElIb0MkNDb3JoLW71^Id0>Y2oNQMU72^Id0`0V2PORMR74^Ie0a0R2ROSMP75^Ie0c0n1\\\\OmLc6`0^Ie0e0h1CnL[6c0^Ih0d0d1EQMY6c0^Ih0f0a1DTMY6b0]Ii0f0`1EUMX6b0]Ii0g0^1EWMW6b0^Ii0f0]1X7fMSHm0f0[1[7cMRHQ1d0Y1a7_MnGW1c0W1h8hNZGT1i8kNYGR1i8mNYGP1i8oNXGn0j8ROWGm0j8ROWGl0j8TOVGk0l8TOUGj0m8TOUGj0m8TOVGh0n8UOUGh0n8ROZGh0R9fNYGV1k;J5L4M4M3M4K7BVf<'}, {'size': [512, 512], 'counts': b'ilV63m?00O7OK00001N3IL^@5a?L^@4b?L^@5a?J`@6d?1O10001O00000O2N100O10000010O01O0O2O0O101N101O0O2N1O100O100O101N1O1O1O2N1O1O1O010O0O2O0000O1M31O1N100N201O1N010]AhN^>Y1cAgNZ>\\\\1fAdNY>]1gAcNV>`1jA`NU>`1lA`NQ>d132N3M2O101N2O0O2O005J2O001O1O1O1O00100O010O1O0001O000000010O00O1000000000000000O7EmD'}, {'size': [512, 512], 'counts': b'TSi29e?5L1L3O2J6J6L4J6N3J5000O10000O1O101O001N10001O001O1O001O010O10O10O1O1O1O001O010O1O100O002N0O2O1O001O1O1O010O1O001N100O11O010O000001O0000C^O^A`0a>D]A;c>IXA8f>b0M3I7N2L400O1000O11O00001O0001O000O10001N2O1O1M200012M10O0101OO001O0000100O001O00001N101O1N101O1N2O0O2O0O2O003L3N1O1WOm@b0Z?O2N3L101O2M2O001N100O1O2N1Oj\\\\n2'}, {'size': [512, 512], 'counts': b'lWZ41o?001O000000000000000000001O01O1O010O10O10O01O2S@Mj?40O1O010OPXW3'}, {'size': [512, 512], 'counts': b'SPl2=b?>C5J5L3L4M2N1O1O2N1O2N2N1O1O1O1O1O1O1O1O1O1O001O1O001O001O1O1O1O1O1O1O001O001O001O001O001O1O001O00001O000000001O000000000000O100N2O1O1GbBoM_=o1eBoM[=P2gBnMZ=R2:O1O1O1M3M300O100000000001O001O1O001O1O00001O00001O001O1O001O00001O1O1O2N2N1O2N1O2N2N1O2N1O1O001O001O001O001O1O001O1O1O001O000000001O000000000000000000000000000000000000000000000000001O0000000000000000001O00000000001O00001O001O001O0000001O00001O00001O1O001O1O00001O00001O0010O01O001O001O000O2O00001O0000001O00000000000000001O00000000000000000000000000001O001O001O001O00001O001O001O001O001O01O01O001O1O1O1O1O2N001O1O00000000O10O1000000000O2O0O100O10000O10000O2\\\\OVDdLV<]1kCMj<0fC^O\\\\=VOm`;'}, {'size': [512, 512], 'counts': b'jUj22l03UO3S>IPBT2`=:FcMiB`2U=7N100O101O000O101N100O1O100O1N2N200O10000000000000000000000O10000000000O1000000000000000000000000000000000000O101O00000000000000001O0000000000000O10000000000000000O100000001O00000000000000O100000000O100000000O10000O100O2O0O1O100O1000O1000O100000000O2O000O100O100O10000O10000O010O100O10000O10000O1O2O0O1O10000O100O1O100O100O10000O100O1O100O2O000O10001N10000O1000000O101O00001O001N10001O000O100O100O101O000O10001O0O2O1O0O2O1N2O1O0O2O0O1O101N1O1O2O000O2O1N3N1N2O0O2O0O2O1N101N2O1O1N2O000O2O000N3N101N2O1O0K]@Md?2^@Lb?3601N1O[ZS1'}, {'size': [512, 512], 'counts': b']8Y2d=<G00O0O2O1O001O001O100O10O10000O1O1O01O010O10O010O0000O20O01O1O1O01O000010O1N200O1O1O0O20O000001O10O0100O1O00000010O1000O1O1O1O01O001O1O01O1O1O10O1O001O01O1O0100O10OO200O0100O1O1O10001O2M3N2N2M7I9G2N4M8H7H3N2M5I_WZ6'}, {'size': [512, 512], 'counts': b'[m_2h0W?3M3M1O1O2N1O101N1O2N2N2N1O2O0O100N3N100O101O001N2O00001O00000HZNVBg1i=ZNUBg1j=ZNVBf1i=\\\\NVBd1h=;K5O10001O1O10O2OBeMTC\\\\2k<fMSC[2l<gMPC]2m<<N2O10000O1OYMWCY2f<jMZCV2c<lM^CT2a<lM`CT2_<mMaCS2_<mMaCT2]<cMfCIMd2Z<bMRD`2i;dMWD]2h;eMUD]2k;cMRD`2m;WMkC31l2T<PMmC\\\\3Q<eLPDZ3o;gLRDX3n;hLRDX3n;hLQDZ3m;hLRDX3n;hLQD4Og2o;VMPD33f2l;fMTDZ2l;fMTDZ2m;eMRD]2m;dMQD]2P<i00000000^LSDQ3m;oLSDQ3m;nLUDQ3d;fLZD92Q3c;iLXD75P3c;iLXD75P3c;WM]Di2c;WM]Di2c;WM]Di2d;WMZDj2a;eL`D>Ol2b;gL^D=0l2d;YM^De2e;XM\\\\Df2f;QMWDK3Q3i;SMVDJ3P3i;VMUDI21Kh2o;^MTDI20Lh2o;_MSDI20Lf2Q<bMQDG9d2`;\\\\MYD9>X2[;`MWD8>V2];cMTD<;n1c;fMSD=8l1f;hMQD6IL?U2h;iMPD5KM4LOW2T<lMmC4LM3NOS2V<oMlC2MN1O0Q2W<QNjC1NN1O0P2X<TNgCO0O0N0P2Z<VNdCM2OO00m1\\\\<XNbCL3OO0Om1^<XNaCL30MU2`<oM`CL3]2^<gM_CL3\\\\2`<gM]CM3[2a<hM]CL2\\\\2a<gM_CL1[2a<iM_CJ1[2c<iM]CL1Y2c<kM\\\\CL1Y2e<iMZCOOX2i<iMUCb2l<91M2O2O1N2N3N1M3N2N2O0O2N2N2N2O1N2O2N1N2O1N2O1N3N2M3N1N2O1O1N3N1N101N2N2N3N1N3M2N2I9EWTl2'}, {'size': [512, 512], 'counts': b'`RP52k?3K6M101N2O002N2O1N3N1O2N1O0010N2O1N2N2N2O1N2O1M3O1N2N4Kd]a2'}, {'size': [512, 512], 'counts': b'S^f14g?5O1O2N1O11O1O001O2N2M3N1O1O1O00U_a00k`^O0eZ[20[edM00001OOQhP3'}, {'size': [512, 512], 'counts': b'Zga22S_20ePN:Ka0@GUA]Ok>b0:0\\\\M@cCOh1`0Y:AiC44NOO\\\\1>e:2oCBM3^16f:6nCBM5]13f:8QD_OM4Z19e:6TD\\\\ON5W1<b:7YDXON5V1?\\\\:8bDROM7<LO:AF`;o0gDmNN7OH2967DF\\\\;P1XEQO\\\\OO3584GFW;S1\\\\EoN[OO3496DFT;V1bElNH0CM0=NCS;Y1dEkNIMBQ1o:9fEjNIIDS1m:;fEiNJFEU1j:=hEhN3j0T:`0iEgN2h0V:`0jEfN2i0T:`0kEgN2g0T:`0mEeN4i0o9a0nEdN<d0f9g0PFdN<c0d9h0QFdN>a0b9j0QFdN`0`0_9m0jGoNX8P1jGlNY8S1RFeNl;[1RDgNn;Y1PDiNo;X1PDhNA4_;T1oDiN_O6a;P1QEiNE0\\\\;U1QEiNF0Y;V1REjNFOY;V1TFjNm9U1TFjNm9T1a20O010O101N2OO1O1O2N0O2O1N1O2O100O2N1O1O001O0O1O2L3M4N2O02N3M3M1O00100O0001O0000^O]OhAc0V>_OhAb0W>AgA?X>DeA=Z>FdA;Y>JcA7Z>NcA3[>j0N2O1O00100O1000O2O00000O101O010O1O100O1O001O00001O01O01O1N2O1O1N101O001O001O0O2O1O1N2O1N2O1N2N2O001O1N2O001O00001N102N1O1N2O0O2N2N1JU]m2'}, {'size': [512, 512], 'counts': b'jW]42n?000O2O00000O10001N101N101O001O1O1O001O1O00O2C^@:d?06IRhU3'}, {'size': [512, 512], 'counts': b'`UR78f?4L3N1O1N2N2O100O1N2O1O1O1O1O1O1N2000O00O02N1O01M3N1G:M2O1G9M3K5N3K4M4M111O1O02O000O2N10O0101O1ON20000001O001N2@[BaNi=]1>K7A]N'}, {'size': [512, 512], 'counts': b'TPc12k?7L4L9F4M2N3M<D2N3M?A5K3M6J8H3M3M5K3M3M7I6J4L7I:F3M3M5K3M2N3M4L3M5K7I3M2N5K6J3M4L5K2N4L4L4L3M4L5K3M5K7I3M001O0000N2L4L4C=F:M3N2K5K5M3M4[MhF\\\\N\\\\9b1lFVNV9h1nFTNU9g1RGRNS9i1WGlMo8Q2YGfMo8R2XGeMo8U2b2J?UNRBl0f>J7H6G9AcnS5'}, {'size': [512, 512], 'counts': b'4k3T<g0YOc0]O=[GaJQ6]5Z2O1N2N2J6M300;E5K7`GXJZ6m5[IZJd6k5oH^JP7h5ZHQJC;R8e5ZHhJf7W5]HfJd7Y5cHaJ]7^5eH`J\\\\7_5eHaJ[7_5eHaJ[7^5fHVJVONT8P6bHSJXONV8U6ZHZJf7h5VHZJj7m61000000O1N2N2O100O10000000001O0000000000000CbGXI^8g6dGXI\\\\8h6eGWI[8h6hGUIY8k6iGRIX8n6=000000O10000000000001O0000001O0000O1O100aJRGk3o8TLUGh3l8WLVGP1I8Q9hNVGk0b0GZ8^OTGi0g0DW8CQGi0Y1XNaN5[9k0jFg0`1RN_N4]9S1cFYOLd0W2iN^7[1]FXO0b0R<6mCXO3`0Q<S1oClNR<T1oCiNS<W1mChNT<W1mCgNU<Y1lCeNU<HlCb00DU<GPDb0NDS<JPD=3Eo;NPD95Dn;2oC76Cn;6nC46Co;7VDKMKo;8YDIJMo;7ZDJIMn;4_DNDLe=2W1MU?2i@3OLo`1OT_N2oDNQ63mI0R;NcY51]fJ01Nho10YPN0nS16hkN7e@KX>e0bAMm=6PBOl=T1O2M3N1N2O1O1000O02O2Nl0SOPM`Ch2X<YMfCi2X<=1ON3001O1N3K5M4TM[Ci13TNd<1]CX1d0aNQ<5`CT1d0dNn;4iCo0X>K`0A5K4E][[5'}, {'size': [512, 512], 'counts': b'Rk_4c0Y?5G8O2O000001O2N1O1O1O002N1O2M6J2M4M4L3MddU3'}, {'size': [512, 512], 'counts': b'X[1`0_?4K5L4L2N2N2N2N2N3M2N3M3M4L3M4L3M3M2N2N101N2N1O2N2N101N2N2N2O2M2N2O0O2N101N1O1O1O100O2N1O100O100O1O101N100O1O1O1O1N2O001O1O100O1O1O1O1O100O100O10000O10001N1000000O10000O100O1O010O1N2O1O100O1O100O10000O10000O100O1O1O100N200O2N100O100O100O100O1O010O100O1O1O1O100O100O100O100O10000O1000000O10000O10000O010O1O100O0O2M3O0O2TOPKfFR5Z9mJgFR5e9`J^F_5S:N1O1O1O1O101N1O1O100O100O2N100O2M2O1N3M2N2N3M2O1O1O2N10cNeKUGZ4l8fKTGY4Z:00O1O1O1N1N3N2M3M3O1O1O1O100O1O1O1O1O1O1N2O1N2O1O001O1O10000O1O100O1O1O1O1O1O1O100O10000O100O100O1O2N1O1O1O1O1O1O101N100O10000O10000O100O2O0O1O100O1O101N1O100O1O1O1O1O1N2O1O1O1O2N100O100O1O1O001O1N2J6K5M3M3O1N2O002N2N3J7J9Fa][10cbdN0Yji1'}, {'size': [512, 512], 'counts': b'Pcn33m?2N2N1O2N2M2O100N1010OO110O000010O1O1O1O10O01O1O001O10O02N3Kdla3'}, {'size': [512, 512], 'counts': b'SXQ52l?4M1O102M2O001O1O001O00001O00001O000O10002N001O00001O0O2O00000000000O2O00O2O000O10001N1000O100N[Oi@d0Z?10O00K\\\\On@d0R?\\\\On@d0R?\\\\On@d0R?\\\\Om@e0S?[Om@f0R?ZOm@g0S?YOm@f0T?ZOl@f0T?ZOl@f0W?0001N100000O2O00000O101O0000001O0O2O0000001O00100OO101O1O001N101O002M2N1O2O0O2N1N3O0O2O1N101N4LgWX1'}, {'size': [512, 512], 'counts': b'V`b15i?8I4M2N2N3L3N=C7I4L2N3M2N4L6J>B5K3M2N2N3M3M5K7I3M3M2N2N4L>C6I5K3M6J4L2N3M2M7J9G5K3M3M3M3M3M3M4L4L2NO100N2N2M3M3O1O1N2M3N2N2N3N1O1O1O1K5J7hMXFSNk9h1cFlM`9Q2hFdM_9X2lFTM`9i2m1M4L3\\\\NiB=[=nNmBD1Y1W=nN[Cf0Q=UOSCd0g>]OUPa0Mmo^O5M2O2O10O0100O1O1O2N001O000O2N1N2O2O0O2O00001N10001O0O2O1O1N1O2M2O2O000000001O001O000O100000O01000000000O1J5BWAD8LT>`0iA^O34S>=lA]O27R>;YBEg=<XBCj=`0RB@n=b0PB]OR>c0gA^O_>a0_AAa>?^ABb>>^AAb>`0_A_O`>a0cA[O^>f0<101N1010040O7m@[OY>V11O0O010O00000O10000O2EbARO_>l0eAQOa>6dAFo\\\\W3'}, {'size': [512, 512], 'counts': b'TX`43m?1N2LK[@6d?4O0001N101N1O2O0O1O1O00ogW3'}, {'size': [512, 512], 'counts': b'dRQ562LOOb??K203M1O01O1N2O0O4L2N3K4M3O001O00Sme2'}, {'size': [512, 512], 'counts': b'dbm421O13c?:M3M2N1O2N1N100000O011N1O2N4MO03M3MXmh2'}, {'size': [512, 512], 'counts': b'RPi3k0T?6J3N2N1O1O1O1O1O001O001O1O1O001O1O001O001O001O1O002N1O3M1O002N1O001O001O1O1O001O001O001O1O001O00001O00001O1O1O00001O3M3M2N5K1O2N1O1O1O001O001O1O1O00001O1O1O000000000000O1N2N2N2N200001O00000000001O0000000000001O000000001O000000001O001O2NGYCYMg<g2YCYMg<g2YCYMg<f2ZC[Me<e2[C[Me<e2[C[Me<d2[C]Me<b2\\\\C_Mc<`2^C`Mb<`2]CaMc<_2]CaMc<`2\\\\CaMc<o2O001O01O00001O001N2^OYCeMl<U2c0L4K4N4Hm_m1'}, {'size': [512, 512], 'counts': b'cSS61o?0000000VQ40inK101S@2f?6JFb@;]?Ec@<\\\\?Eb@=]?Cc@=_?2UOFnA;Q>FmA;S>FkA<T>NbA_OLa0a>0cA4\\\\>KeA5[>KfA5Y>LdA6[>MbA5\\\\>LdA4\\\\>h000O2O0000000010O000000000011N100O001O00010O01N101N1O1O1O2N2N1O2O0O2M3N101K4O2N3L3N1O2L4M3O1M6Jakd0'}, {'size': [512, 512], 'counts': b'jWY41n?2O00001N10000O100000001O00000O1000001O001O00001N1000000000000O1000O1O1N2N200N2L`XR3'}, {'size': [512, 512], 'counts': b'j][26h?4M2M2N3I7L3O2O0O2N1O2N100O2O0O1N3N101O0O1O2O0O2O001N1O101N101O000100O001O00010O010O000010O0001O0010O1O01O01O0001O10O000100O001O0000001O00001O0000001O000000001O0010O00000010O0000001O01O01O00000000000O2O000O1O2O0N3L3M3M3O2N1O1O2J5O1O1O1O1M3N2O100O001O01O0002N2O]Rc3'}, {'size': [512, 512], 'counts': b'lga42n?0010O1000X@0_?0_@1b?O\\\\@1e?0Y@0h?40O0000010O2N3MPhU3'}, {'size': [512, 512], 'counts': b'jWb43k?3O0O2O1O001O0O1O10001N2O0000000O1000O10O01O1O001O1O1N200O1O001O1O1O1Mchk2'}, {'size': [512, 512], 'counts': b']lT741Mh?7N2N2O04M0O10O10O01N1100ON201O001O001N1O2O3M1O1N2N20O0001N20O000000010O0000001O0WOk@g0W?0NYOk@g0T?3000000001O00ac1'}, {'size': [512, 512], 'counts': b'jZg41n?1O100N2O100001O2McP2O_oM00000O1O1N2O1O1^@JZ?6f@JZ?6f@JZ?771O3M1O0001O1O_@F`?6`@K`?4_@Mb?1_@Ob?0^@1a?O_@19Nj>On@38NP?2QAMo>3QAMo>4>0000001W@Md?1_@Mb?0Pa10W_N2O0000000001O01O001O04MO0000004L001O0000001O00010O001O001O010O001O001N1O101O000O2O01O01O1O001O001O00001O001O001O000001O000001O01O000001O001O001O0O1O2O0O1IVOWAk0h>XOUAj0j>600O101O001O000O2O0O1O100O1O1O1O001O1O1O1O001O1O001M3N2O1O1O1N2O1O001N2N2O1O1O1O1O1O1O1O1O1O100001O00001O0000001O0001O000000cNaB:_=EaB;_=S1000_N_BYO1R1`=E`BXO11Nj0b=L_BYO100j0`=L`BZO000j0`=L`BZO1O0k0_=JcBXO`02^O<b=0hCL_>FhR2'}, {'size': [512, 512], 'counts': b'Zhd42d04^>2\\\\A0d>3WA0g>e00M200000001N10L3101NO110O01M3N2M3N2N3N1M4O1N2O001O1NcXl2'}, {'size': [512, 512], 'counts': b'YX53l?3M101O1N1O100O1O3N001N1O2O0O1O2O0O100O01001N100O100O100O10000O100O1000O10O1O100O100O100O001000O001O010O0100O01000O0010000O0010O0100O1000000O001000O001O01000O0010O01O2O2N3L2O7H<BYh]6'}], [], [{'size': [512, 512], 'counts': b'TPc12k?5N3M;D5L2N6J9G2N2N>B4L3M8H6J2N6J9G4L3M6J3M2N9G9G3M4L5K3M2N4L4L3M5K6J3M2N4L6J4L6J3M2N2N4L4L2N8H5K2N5K7I3M001O0000O100DkGkHW8P7?A?M3M3L4L4M3M4[MiF[N[9b1nFUNU9j1nFRNU9j1QGoMT9k1VGkMX9j1PGnMT9m1VGcMT9Y2\\\\2M4QNeBS1_=hNhBn0^>C9C=K[nS5'}, {'size': [512, 512], 'counts': b'`[29`?9F:M3M2N2N3N3L4L4K4M4L2N2O0O2O0O2N2M4M2N2O1N2O0O2O0O2O0O2N2N3L3O2M1O2O1N2O0O2N2N1O2N1O2O000O101N2N1O2N3M2N1O2O0O2O0O2N101M3N2O1N2N101O0O101N1O1O1O1O100O2O0O101O001O1O1O1O001O001N100O1O1O1O1O1O101N10000O2O0O2N1O2N101N1O2O0O10O01O1O1N2O10O0100O10000O100O1O1O1O010O100O01O01O01O01O001O01O10OO2N2N1N3M3N2N10100O1O1O0O2N2O001O1O010O100O2O0O1N2O2O0O1O100O100O1O001N2O1O1O1O1O1O1O2N1N2M4M2N2O1O1O1O1O1O1N1O2M3N1O2O1O00101N1N2O2M2M3O1N2O2N100O001O1O100O00100O100O100O2N1O1O100O2O0O100O100O001O1O1O100O10O02O000O1O2N1O1O1O101N10000000O0100000000O10001N1O1O1N2N2N2N2O2O0O1O2O0O2M3M3L4M3M3M3N1O2N2N6I=^O]WY3'}]])\n"
     ]
    },
    {
     "ename": "IndexError",
     "evalue": "index 4 is out of bounds for axis 0 with size 0",
     "output_type": "error",
     "traceback": [
      "\u001b[0;31m---------------------------------------------------------------------------\u001b[0m",
      "\u001b[0;31mIndexError\u001b[0m                                Traceback (most recent call last)",
      "\u001b[0;32m<ipython-input-39-166a5465346f>\u001b[0m in \u001b[0;36m<module>\u001b[0;34m\u001b[0m\n\u001b[1;32m     13\u001b[0m     \u001b[0;32mfor\u001b[0m \u001b[0mj\u001b[0m \u001b[0;32min\u001b[0m \u001b[0mrange\u001b[0m\u001b[0;34m(\u001b[0m\u001b[0mclass_num\u001b[0m\u001b[0;34m)\u001b[0m\u001b[0;34m:\u001b[0m\u001b[0;34m\u001b[0m\u001b[0;34m\u001b[0m\u001b[0m\n\u001b[1;32m     14\u001b[0m         \u001b[0;32mfor\u001b[0m \u001b[0mo\u001b[0m \u001b[0;32min\u001b[0m \u001b[0mout\u001b[0m\u001b[0;34m[\u001b[0m\u001b[0mj\u001b[0m\u001b[0;34m]\u001b[0m\u001b[0;34m:\u001b[0m\u001b[0;34m\u001b[0m\u001b[0;34m\u001b[0m\u001b[0m\n\u001b[0;32m---> 15\u001b[0;31m             \u001b[0mprediction_string\u001b[0m \u001b[0;34m+=\u001b[0m \u001b[0mstr\u001b[0m\u001b[0;34m(\u001b[0m\u001b[0mj\u001b[0m\u001b[0;34m)\u001b[0m \u001b[0;34m+\u001b[0m \u001b[0;34m' '\u001b[0m \u001b[0;34m+\u001b[0m \u001b[0mstr\u001b[0m\u001b[0;34m(\u001b[0m\u001b[0mo\u001b[0m\u001b[0;34m[\u001b[0m\u001b[0;36m4\u001b[0m\u001b[0;34m]\u001b[0m\u001b[0;34m)\u001b[0m \u001b[0;34m+\u001b[0m \u001b[0;34m' '\u001b[0m \u001b[0;34m+\u001b[0m \u001b[0mstr\u001b[0m\u001b[0;34m(\u001b[0m\u001b[0mo\u001b[0m\u001b[0;34m[\u001b[0m\u001b[0;36m0\u001b[0m\u001b[0;34m]\u001b[0m\u001b[0;34m)\u001b[0m \u001b[0;34m+\u001b[0m \u001b[0;34m' '\u001b[0m \u001b[0;34m+\u001b[0m \u001b[0mstr\u001b[0m\u001b[0;34m(\u001b[0m\u001b[0mo\u001b[0m\u001b[0;34m[\u001b[0m\u001b[0;36m1\u001b[0m\u001b[0;34m]\u001b[0m\u001b[0;34m)\u001b[0m \u001b[0;34m+\u001b[0m \u001b[0;34m' '\u001b[0m \u001b[0;34m+\u001b[0m \u001b[0mstr\u001b[0m\u001b[0;34m(\u001b[0m\u001b[0mo\u001b[0m\u001b[0;34m[\u001b[0m\u001b[0;36m2\u001b[0m\u001b[0;34m]\u001b[0m\u001b[0;34m)\u001b[0m \u001b[0;34m+\u001b[0m \u001b[0;34m' '\u001b[0m \u001b[0;34m+\u001b[0m \u001b[0mstr\u001b[0m\u001b[0;34m(\u001b[0m\u001b[0mo\u001b[0m\u001b[0;34m[\u001b[0m\u001b[0;36m3\u001b[0m\u001b[0;34m]\u001b[0m\u001b[0;34m)\u001b[0m \u001b[0;34m+\u001b[0m \u001b[0;34m' '\u001b[0m\u001b[0;34m\u001b[0m\u001b[0;34m\u001b[0m\u001b[0m\n\u001b[0m\u001b[1;32m     16\u001b[0m \u001b[0;34m\u001b[0m\u001b[0m\n\u001b[1;32m     17\u001b[0m     \u001b[0mprediction_strings\u001b[0m\u001b[0;34m.\u001b[0m\u001b[0mappend\u001b[0m\u001b[0;34m(\u001b[0m\u001b[0mprediction_string\u001b[0m\u001b[0;34m)\u001b[0m\u001b[0;34m\u001b[0m\u001b[0;34m\u001b[0m\u001b[0m\n",
      "\u001b[0;31mIndexError\u001b[0m: index 4 is out of bounds for axis 0 with size 0"
     ]
    }
   ],
   "source": [
    "prediction_strings = []\n",
    "file_names = []\n",
    "coco = COCO(cfg.data.test.ann_file)\n",
    "imag_ids = coco.getImgIds()\n",
    "\n",
    "class_num = 11\n",
    "for i, out in enumerate(output):\n",
    "    if i == 0:\n",
    "        continue\n",
    "    prediction_string = ''\n",
    "    image_info = coco.loadImgs(coco.getImgIds(imgIds=i))[0]\n",
    "    for j in range(class_num):\n",
    "        for o in out[j]:\n",
    "            prediction_string += str(j) + ' ' + str(o[4]) + ' ' + str(o[0]) + ' ' + str(o[1]) + ' ' + str(o[2]) + ' ' + str(o[3]) + ' '\n",
    "        \n",
    "    prediction_strings.append(prediction_string)\n",
    "    file_names.append(image_info['file_name'])\n",
    "\n",
    "\n",
    "submission = pd.DataFrame()\n",
    "submission['PredictionString'] = prediction_strings\n",
    "submission['image_id'] = file_names\n",
    "submission.to_csv(os.path.join(cfg.work_dir, f'submission_best.csv'), index=None)\n",
    "submission.head()"
   ]
  },
  {
   "cell_type": "code",
   "execution_count": null,
   "metadata": {},
   "outputs": [],
   "source": []
  }
 ],
 "metadata": {
  "kernelspec": {
   "display_name": "Python 3",
   "language": "python",
   "name": "python3"
  },
  "language_info": {
   "codemirror_mode": {
    "name": "ipython",
    "version": 3
   },
   "file_extension": ".py",
   "mimetype": "text/x-python",
   "name": "python",
   "nbconvert_exporter": "python",
   "pygments_lexer": "ipython3",
   "version": "3.7.7"
  },
  "pycharm": {
   "stem_cell": {
    "cell_type": "raw",
    "metadata": {
     "collapsed": false
    },
    "source": []
   }
  }
 },
 "nbformat": 4,
 "nbformat_minor": 4
}
