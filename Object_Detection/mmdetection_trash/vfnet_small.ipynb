{
 "cells": [
  {
   "cell_type": "code",
   "execution_count": 26,
   "metadata": {},
   "outputs": [],
   "source": [
    "import wandb"
   ]
  },
  {
   "cell_type": "code",
   "execution_count": 27,
   "metadata": {},
   "outputs": [
    {
     "name": "stderr",
     "output_type": "stream",
     "text": [
      "\u001b[34m\u001b[1mwandb\u001b[0m: You can find your API key in your browser here: https://wandb.ai/authorize\n"
     ]
    },
    {
     "name": "stdin",
     "output_type": "stream",
     "text": [
      "\u001b[34m\u001b[1mwandb\u001b[0m: Paste an API key from your profile and hit enter:  ········································\n"
     ]
    },
    {
     "name": "stderr",
     "output_type": "stream",
     "text": [
      "\u001b[34m\u001b[1mwandb\u001b[0m: Appending key for api.wandb.ai to your netrc file: /opt/ml/.netrc\n"
     ]
    },
    {
     "data": {
      "text/plain": [
       "True"
      ]
     },
     "execution_count": 27,
     "metadata": {},
     "output_type": "execute_result"
    }
   ],
   "source": [
    "wandb.login()"
   ]
  },
  {
   "cell_type": "code",
   "execution_count": 2,
   "metadata": {},
   "outputs": [
    {
     "data": {
      "text/plain": [
       "'1.7.1+cu101'"
      ]
     },
     "execution_count": 2,
     "metadata": {},
     "output_type": "execute_result"
    }
   ],
   "source": [
    "import torch\n",
    "torch.__version__"
   ]
  },
  {
   "cell_type": "code",
   "execution_count": 1,
   "metadata": {
    "pycharm": {
     "name": "#%%\n"
    }
   },
   "outputs": [
    {
     "ename": "ImportError",
     "evalue": "/opt/conda/lib/python3.7/site-packages/mmcv/_ext.cpython-37m-x86_64-linux-gnu.so: undefined symbol: _ZN3c104impl23ExcludeDispatchKeyGuardC1ENS_11DispatchKeyE",
     "output_type": "error",
     "traceback": [
      "\u001b[0;31m---------------------------------------------------------------------------\u001b[0m",
      "\u001b[0;31mImportError\u001b[0m                               Traceback (most recent call last)",
      "\u001b[0;32m<ipython-input-1-5dedc933d8b8>\u001b[0m in \u001b[0;36m<module>\u001b[0;34m\u001b[0m\n\u001b[1;32m      1\u001b[0m \u001b[0;32mfrom\u001b[0m \u001b[0mmmcv\u001b[0m \u001b[0;32mimport\u001b[0m \u001b[0mConfig\u001b[0m\u001b[0;34m\u001b[0m\u001b[0;34m\u001b[0m\u001b[0m\n\u001b[0;32m----> 2\u001b[0;31m \u001b[0;32mfrom\u001b[0m \u001b[0mmmdet\u001b[0m\u001b[0;34m.\u001b[0m\u001b[0mdatasets\u001b[0m \u001b[0;32mimport\u001b[0m \u001b[0mbuild_dataset\u001b[0m\u001b[0;34m\u001b[0m\u001b[0;34m\u001b[0m\u001b[0m\n\u001b[0m\u001b[1;32m      3\u001b[0m \u001b[0;32mfrom\u001b[0m \u001b[0mmmdet\u001b[0m\u001b[0;34m.\u001b[0m\u001b[0mmodels\u001b[0m \u001b[0;32mimport\u001b[0m \u001b[0mbuild_detector\u001b[0m\u001b[0;34m\u001b[0m\u001b[0;34m\u001b[0m\u001b[0m\n\u001b[1;32m      4\u001b[0m \u001b[0;32mfrom\u001b[0m \u001b[0mmmdet\u001b[0m\u001b[0;34m.\u001b[0m\u001b[0mapis\u001b[0m \u001b[0;32mimport\u001b[0m \u001b[0mtrain_detector\u001b[0m\u001b[0;34m\u001b[0m\u001b[0;34m\u001b[0m\u001b[0m\n\u001b[1;32m      5\u001b[0m from mmdet.datasets import (build_dataloader, build_dataset,\n",
      "\u001b[0;32m~/code/mmdetection_trash/mmdet/datasets/__init__.py\u001b[0m in \u001b[0;36m<module>\u001b[0;34m\u001b[0m\n\u001b[1;32m      1\u001b[0m \u001b[0;32mfrom\u001b[0m \u001b[0;34m.\u001b[0m\u001b[0mbuilder\u001b[0m \u001b[0;32mimport\u001b[0m \u001b[0mDATASETS\u001b[0m\u001b[0;34m,\u001b[0m \u001b[0mPIPELINES\u001b[0m\u001b[0;34m,\u001b[0m \u001b[0mbuild_dataloader\u001b[0m\u001b[0;34m,\u001b[0m \u001b[0mbuild_dataset\u001b[0m\u001b[0;34m\u001b[0m\u001b[0;34m\u001b[0m\u001b[0m\n\u001b[0;32m----> 2\u001b[0;31m \u001b[0;32mfrom\u001b[0m \u001b[0;34m.\u001b[0m\u001b[0mcityscapes\u001b[0m \u001b[0;32mimport\u001b[0m \u001b[0mCityscapesDataset\u001b[0m\u001b[0;34m\u001b[0m\u001b[0;34m\u001b[0m\u001b[0m\n\u001b[0m\u001b[1;32m      3\u001b[0m \u001b[0;32mfrom\u001b[0m \u001b[0;34m.\u001b[0m\u001b[0mcoco\u001b[0m \u001b[0;32mimport\u001b[0m \u001b[0mCocoDataset\u001b[0m\u001b[0;34m\u001b[0m\u001b[0;34m\u001b[0m\u001b[0m\n\u001b[1;32m      4\u001b[0m \u001b[0;32mfrom\u001b[0m \u001b[0;34m.\u001b[0m\u001b[0mcustom\u001b[0m \u001b[0;32mimport\u001b[0m \u001b[0mCustomDataset\u001b[0m\u001b[0;34m\u001b[0m\u001b[0;34m\u001b[0m\u001b[0m\n\u001b[1;32m      5\u001b[0m from .dataset_wrappers import (ClassBalancedDataset, ConcatDataset,\n",
      "\u001b[0;32m~/code/mmdetection_trash/mmdet/datasets/cityscapes.py\u001b[0m in \u001b[0;36m<module>\u001b[0;34m\u001b[0m\n\u001b[1;32m     14\u001b[0m \u001b[0;34m\u001b[0m\u001b[0m\n\u001b[1;32m     15\u001b[0m \u001b[0;32mfrom\u001b[0m \u001b[0;34m.\u001b[0m\u001b[0mbuilder\u001b[0m \u001b[0;32mimport\u001b[0m \u001b[0mDATASETS\u001b[0m\u001b[0;34m\u001b[0m\u001b[0;34m\u001b[0m\u001b[0m\n\u001b[0;32m---> 16\u001b[0;31m \u001b[0;32mfrom\u001b[0m \u001b[0;34m.\u001b[0m\u001b[0mcoco\u001b[0m \u001b[0;32mimport\u001b[0m \u001b[0mCocoDataset\u001b[0m\u001b[0;34m\u001b[0m\u001b[0;34m\u001b[0m\u001b[0m\n\u001b[0m\u001b[1;32m     17\u001b[0m \u001b[0;34m\u001b[0m\u001b[0m\n\u001b[1;32m     18\u001b[0m \u001b[0;34m\u001b[0m\u001b[0m\n",
      "\u001b[0;32m~/code/mmdetection_trash/mmdet/datasets/coco.py\u001b[0m in \u001b[0;36m<module>\u001b[0;34m\u001b[0m\n\u001b[1;32m     13\u001b[0m \u001b[0;32mfrom\u001b[0m \u001b[0mterminaltables\u001b[0m \u001b[0;32mimport\u001b[0m \u001b[0mAsciiTable\u001b[0m\u001b[0;34m\u001b[0m\u001b[0;34m\u001b[0m\u001b[0m\n\u001b[1;32m     14\u001b[0m \u001b[0;34m\u001b[0m\u001b[0m\n\u001b[0;32m---> 15\u001b[0;31m \u001b[0;32mfrom\u001b[0m \u001b[0mmmdet\u001b[0m\u001b[0;34m.\u001b[0m\u001b[0mcore\u001b[0m \u001b[0;32mimport\u001b[0m \u001b[0meval_recalls\u001b[0m\u001b[0;34m\u001b[0m\u001b[0;34m\u001b[0m\u001b[0m\n\u001b[0m\u001b[1;32m     16\u001b[0m \u001b[0;32mfrom\u001b[0m \u001b[0;34m.\u001b[0m\u001b[0mbuilder\u001b[0m \u001b[0;32mimport\u001b[0m \u001b[0mDATASETS\u001b[0m\u001b[0;34m\u001b[0m\u001b[0;34m\u001b[0m\u001b[0m\n\u001b[1;32m     17\u001b[0m \u001b[0;32mfrom\u001b[0m \u001b[0;34m.\u001b[0m\u001b[0mcustom\u001b[0m \u001b[0;32mimport\u001b[0m \u001b[0mCustomDataset\u001b[0m\u001b[0;34m\u001b[0m\u001b[0;34m\u001b[0m\u001b[0m\n",
      "\u001b[0;32m~/code/mmdetection_trash/mmdet/core/__init__.py\u001b[0m in \u001b[0;36m<module>\u001b[0;34m\u001b[0m\n\u001b[1;32m      1\u001b[0m \u001b[0;32mfrom\u001b[0m \u001b[0;34m.\u001b[0m\u001b[0manchor\u001b[0m \u001b[0;32mimport\u001b[0m \u001b[0;34m*\u001b[0m  \u001b[0;31m# noqa: F401, F403\u001b[0m\u001b[0;34m\u001b[0m\u001b[0;34m\u001b[0m\u001b[0m\n\u001b[0;32m----> 2\u001b[0;31m \u001b[0;32mfrom\u001b[0m \u001b[0;34m.\u001b[0m\u001b[0mbbox\u001b[0m \u001b[0;32mimport\u001b[0m \u001b[0;34m*\u001b[0m  \u001b[0;31m# noqa: F401, F403\u001b[0m\u001b[0;34m\u001b[0m\u001b[0;34m\u001b[0m\u001b[0m\n\u001b[0m\u001b[1;32m      3\u001b[0m \u001b[0;32mfrom\u001b[0m \u001b[0;34m.\u001b[0m\u001b[0mevaluation\u001b[0m \u001b[0;32mimport\u001b[0m \u001b[0;34m*\u001b[0m  \u001b[0;31m# noqa: F401, F403\u001b[0m\u001b[0;34m\u001b[0m\u001b[0;34m\u001b[0m\u001b[0m\n\u001b[1;32m      4\u001b[0m \u001b[0;32mfrom\u001b[0m \u001b[0;34m.\u001b[0m\u001b[0mexport\u001b[0m \u001b[0;32mimport\u001b[0m \u001b[0;34m*\u001b[0m  \u001b[0;31m# noqa: F401, F403\u001b[0m\u001b[0;34m\u001b[0m\u001b[0;34m\u001b[0m\u001b[0m\n\u001b[1;32m      5\u001b[0m \u001b[0;32mfrom\u001b[0m \u001b[0;34m.\u001b[0m\u001b[0mmask\u001b[0m \u001b[0;32mimport\u001b[0m \u001b[0;34m*\u001b[0m  \u001b[0;31m# noqa: F401, F403\u001b[0m\u001b[0;34m\u001b[0m\u001b[0;34m\u001b[0m\u001b[0m\n",
      "\u001b[0;32m~/code/mmdetection_trash/mmdet/core/bbox/__init__.py\u001b[0m in \u001b[0;36m<module>\u001b[0;34m\u001b[0m\n\u001b[1;32m      5\u001b[0m                     TBLRBBoxCoder)\n\u001b[1;32m      6\u001b[0m \u001b[0;32mfrom\u001b[0m \u001b[0;34m.\u001b[0m\u001b[0miou_calculators\u001b[0m \u001b[0;32mimport\u001b[0m \u001b[0mBboxOverlaps2D\u001b[0m\u001b[0;34m,\u001b[0m \u001b[0mbbox_overlaps\u001b[0m\u001b[0;34m\u001b[0m\u001b[0;34m\u001b[0m\u001b[0m\n\u001b[0;32m----> 7\u001b[0;31m from .samplers import (BaseSampler, CombinedSampler,\n\u001b[0m\u001b[1;32m      8\u001b[0m                        \u001b[0mInstanceBalancedPosSampler\u001b[0m\u001b[0;34m,\u001b[0m \u001b[0mIoUBalancedNegSampler\u001b[0m\u001b[0;34m,\u001b[0m\u001b[0;34m\u001b[0m\u001b[0;34m\u001b[0m\u001b[0m\n\u001b[1;32m      9\u001b[0m                        \u001b[0mOHEMSampler\u001b[0m\u001b[0;34m,\u001b[0m \u001b[0mPseudoSampler\u001b[0m\u001b[0;34m,\u001b[0m \u001b[0mRandomSampler\u001b[0m\u001b[0;34m,\u001b[0m\u001b[0;34m\u001b[0m\u001b[0;34m\u001b[0m\u001b[0m\n",
      "\u001b[0;32m~/code/mmdetection_trash/mmdet/core/bbox/samplers/__init__.py\u001b[0m in \u001b[0;36m<module>\u001b[0;34m\u001b[0m\n\u001b[1;32m      7\u001b[0m \u001b[0;32mfrom\u001b[0m \u001b[0;34m.\u001b[0m\u001b[0mrandom_sampler\u001b[0m \u001b[0;32mimport\u001b[0m \u001b[0mRandomSampler\u001b[0m\u001b[0;34m\u001b[0m\u001b[0;34m\u001b[0m\u001b[0m\n\u001b[1;32m      8\u001b[0m \u001b[0;32mfrom\u001b[0m \u001b[0;34m.\u001b[0m\u001b[0msampling_result\u001b[0m \u001b[0;32mimport\u001b[0m \u001b[0mSamplingResult\u001b[0m\u001b[0;34m\u001b[0m\u001b[0;34m\u001b[0m\u001b[0m\n\u001b[0;32m----> 9\u001b[0;31m \u001b[0;32mfrom\u001b[0m \u001b[0;34m.\u001b[0m\u001b[0mscore_hlr_sampler\u001b[0m \u001b[0;32mimport\u001b[0m \u001b[0mScoreHLRSampler\u001b[0m\u001b[0;34m\u001b[0m\u001b[0;34m\u001b[0m\u001b[0m\n\u001b[0m\u001b[1;32m     10\u001b[0m \u001b[0;34m\u001b[0m\u001b[0m\n\u001b[1;32m     11\u001b[0m __all__ = [\n",
      "\u001b[0;32m~/code/mmdetection_trash/mmdet/core/bbox/samplers/score_hlr_sampler.py\u001b[0m in \u001b[0;36m<module>\u001b[0;34m\u001b[0m\n\u001b[1;32m      1\u001b[0m \u001b[0;32mimport\u001b[0m \u001b[0mtorch\u001b[0m\u001b[0;34m\u001b[0m\u001b[0;34m\u001b[0m\u001b[0m\n\u001b[0;32m----> 2\u001b[0;31m \u001b[0;32mfrom\u001b[0m \u001b[0mmmcv\u001b[0m\u001b[0;34m.\u001b[0m\u001b[0mops\u001b[0m \u001b[0;32mimport\u001b[0m \u001b[0mnms_match\u001b[0m\u001b[0;34m\u001b[0m\u001b[0;34m\u001b[0m\u001b[0m\n\u001b[0m\u001b[1;32m      3\u001b[0m \u001b[0;34m\u001b[0m\u001b[0m\n\u001b[1;32m      4\u001b[0m \u001b[0;32mfrom\u001b[0m \u001b[0;34m.\u001b[0m\u001b[0;34m.\u001b[0m\u001b[0mbuilder\u001b[0m \u001b[0;32mimport\u001b[0m \u001b[0mBBOX_SAMPLERS\u001b[0m\u001b[0;34m\u001b[0m\u001b[0;34m\u001b[0m\u001b[0m\n\u001b[1;32m      5\u001b[0m \u001b[0;32mfrom\u001b[0m \u001b[0;34m.\u001b[0m\u001b[0;34m.\u001b[0m\u001b[0mtransforms\u001b[0m \u001b[0;32mimport\u001b[0m \u001b[0mbbox2roi\u001b[0m\u001b[0;34m\u001b[0m\u001b[0;34m\u001b[0m\u001b[0m\n",
      "\u001b[0;32m/opt/conda/lib/python3.7/site-packages/mmcv/ops/__init__.py\u001b[0m in \u001b[0;36m<module>\u001b[0;34m\u001b[0m\n\u001b[0;32m----> 1\u001b[0;31m \u001b[0;32mfrom\u001b[0m \u001b[0;34m.\u001b[0m\u001b[0mbbox\u001b[0m \u001b[0;32mimport\u001b[0m \u001b[0mbbox_overlaps\u001b[0m\u001b[0;34m\u001b[0m\u001b[0;34m\u001b[0m\u001b[0m\n\u001b[0m\u001b[1;32m      2\u001b[0m \u001b[0;32mfrom\u001b[0m \u001b[0;34m.\u001b[0m\u001b[0mbox_iou_rotated\u001b[0m \u001b[0;32mimport\u001b[0m \u001b[0mbox_iou_rotated\u001b[0m\u001b[0;34m\u001b[0m\u001b[0;34m\u001b[0m\u001b[0m\n\u001b[1;32m      3\u001b[0m \u001b[0;32mfrom\u001b[0m \u001b[0;34m.\u001b[0m\u001b[0mcarafe\u001b[0m \u001b[0;32mimport\u001b[0m \u001b[0mCARAFE\u001b[0m\u001b[0;34m,\u001b[0m \u001b[0mCARAFENaive\u001b[0m\u001b[0;34m,\u001b[0m \u001b[0mCARAFEPack\u001b[0m\u001b[0;34m,\u001b[0m \u001b[0mcarafe\u001b[0m\u001b[0;34m,\u001b[0m \u001b[0mcarafe_naive\u001b[0m\u001b[0;34m\u001b[0m\u001b[0;34m\u001b[0m\u001b[0m\n\u001b[1;32m      4\u001b[0m \u001b[0;32mfrom\u001b[0m \u001b[0;34m.\u001b[0m\u001b[0mcc_attention\u001b[0m \u001b[0;32mimport\u001b[0m \u001b[0mCrissCrossAttention\u001b[0m\u001b[0;34m\u001b[0m\u001b[0;34m\u001b[0m\u001b[0m\n\u001b[1;32m      5\u001b[0m \u001b[0;32mfrom\u001b[0m \u001b[0;34m.\u001b[0m\u001b[0mcorner_pool\u001b[0m \u001b[0;32mimport\u001b[0m \u001b[0mCornerPool\u001b[0m\u001b[0;34m\u001b[0m\u001b[0;34m\u001b[0m\u001b[0m\n",
      "\u001b[0;32m/opt/conda/lib/python3.7/site-packages/mmcv/ops/bbox.py\u001b[0m in \u001b[0;36m<module>\u001b[0;34m\u001b[0m\n\u001b[1;32m      1\u001b[0m \u001b[0;32mfrom\u001b[0m \u001b[0;34m.\u001b[0m\u001b[0;34m.\u001b[0m\u001b[0mutils\u001b[0m \u001b[0;32mimport\u001b[0m \u001b[0mext_loader\u001b[0m\u001b[0;34m\u001b[0m\u001b[0;34m\u001b[0m\u001b[0m\n\u001b[1;32m      2\u001b[0m \u001b[0;34m\u001b[0m\u001b[0m\n\u001b[0;32m----> 3\u001b[0;31m \u001b[0mext_module\u001b[0m \u001b[0;34m=\u001b[0m \u001b[0mext_loader\u001b[0m\u001b[0;34m.\u001b[0m\u001b[0mload_ext\u001b[0m\u001b[0;34m(\u001b[0m\u001b[0;34m'_ext'\u001b[0m\u001b[0;34m,\u001b[0m \u001b[0;34m[\u001b[0m\u001b[0;34m'bbox_overlaps'\u001b[0m\u001b[0;34m]\u001b[0m\u001b[0;34m)\u001b[0m\u001b[0;34m\u001b[0m\u001b[0;34m\u001b[0m\u001b[0m\n\u001b[0m\u001b[1;32m      4\u001b[0m \u001b[0;34m\u001b[0m\u001b[0m\n\u001b[1;32m      5\u001b[0m \u001b[0;34m\u001b[0m\u001b[0m\n",
      "\u001b[0;32m/opt/conda/lib/python3.7/site-packages/mmcv/utils/ext_loader.py\u001b[0m in \u001b[0;36mload_ext\u001b[0;34m(name, funcs)\u001b[0m\n\u001b[1;32m      9\u001b[0m \u001b[0;34m\u001b[0m\u001b[0m\n\u001b[1;32m     10\u001b[0m     \u001b[0;32mdef\u001b[0m \u001b[0mload_ext\u001b[0m\u001b[0;34m(\u001b[0m\u001b[0mname\u001b[0m\u001b[0;34m,\u001b[0m \u001b[0mfuncs\u001b[0m\u001b[0;34m)\u001b[0m\u001b[0;34m:\u001b[0m\u001b[0;34m\u001b[0m\u001b[0;34m\u001b[0m\u001b[0m\n\u001b[0;32m---> 11\u001b[0;31m         \u001b[0mext\u001b[0m \u001b[0;34m=\u001b[0m \u001b[0mimportlib\u001b[0m\u001b[0;34m.\u001b[0m\u001b[0mimport_module\u001b[0m\u001b[0;34m(\u001b[0m\u001b[0;34m'mmcv.'\u001b[0m \u001b[0;34m+\u001b[0m \u001b[0mname\u001b[0m\u001b[0;34m)\u001b[0m\u001b[0;34m\u001b[0m\u001b[0;34m\u001b[0m\u001b[0m\n\u001b[0m\u001b[1;32m     12\u001b[0m         \u001b[0;32mfor\u001b[0m \u001b[0mfun\u001b[0m \u001b[0;32min\u001b[0m \u001b[0mfuncs\u001b[0m\u001b[0;34m:\u001b[0m\u001b[0;34m\u001b[0m\u001b[0;34m\u001b[0m\u001b[0m\n\u001b[1;32m     13\u001b[0m             \u001b[0;32massert\u001b[0m \u001b[0mhasattr\u001b[0m\u001b[0;34m(\u001b[0m\u001b[0mext\u001b[0m\u001b[0;34m,\u001b[0m \u001b[0mfun\u001b[0m\u001b[0;34m)\u001b[0m\u001b[0;34m,\u001b[0m \u001b[0;34mf'{fun} miss in module {name}'\u001b[0m\u001b[0;34m\u001b[0m\u001b[0;34m\u001b[0m\u001b[0m\n",
      "\u001b[0;32m/opt/conda/lib/python3.7/importlib/__init__.py\u001b[0m in \u001b[0;36mimport_module\u001b[0;34m(name, package)\u001b[0m\n\u001b[1;32m    125\u001b[0m                 \u001b[0;32mbreak\u001b[0m\u001b[0;34m\u001b[0m\u001b[0;34m\u001b[0m\u001b[0m\n\u001b[1;32m    126\u001b[0m             \u001b[0mlevel\u001b[0m \u001b[0;34m+=\u001b[0m \u001b[0;36m1\u001b[0m\u001b[0;34m\u001b[0m\u001b[0;34m\u001b[0m\u001b[0m\n\u001b[0;32m--> 127\u001b[0;31m     \u001b[0;32mreturn\u001b[0m \u001b[0m_bootstrap\u001b[0m\u001b[0;34m.\u001b[0m\u001b[0m_gcd_import\u001b[0m\u001b[0;34m(\u001b[0m\u001b[0mname\u001b[0m\u001b[0;34m[\u001b[0m\u001b[0mlevel\u001b[0m\u001b[0;34m:\u001b[0m\u001b[0;34m]\u001b[0m\u001b[0;34m,\u001b[0m \u001b[0mpackage\u001b[0m\u001b[0;34m,\u001b[0m \u001b[0mlevel\u001b[0m\u001b[0;34m)\u001b[0m\u001b[0;34m\u001b[0m\u001b[0;34m\u001b[0m\u001b[0m\n\u001b[0m\u001b[1;32m    128\u001b[0m \u001b[0;34m\u001b[0m\u001b[0m\n\u001b[1;32m    129\u001b[0m \u001b[0;34m\u001b[0m\u001b[0m\n",
      "\u001b[0;31mImportError\u001b[0m: /opt/conda/lib/python3.7/site-packages/mmcv/_ext.cpython-37m-x86_64-linux-gnu.so: undefined symbol: _ZN3c104impl23ExcludeDispatchKeyGuardC1ENS_11DispatchKeyE"
     ]
    }
   ],
   "source": [
    "from mmcv import Config\n",
    "from mmdet.datasets import build_dataset\n",
    "from mmdet.models import build_detector\n",
    "from mmdet.apis import train_detector\n",
    "from mmdet.datasets import (build_dataloader, build_dataset,\n",
    "                            replace_ImageToTensor)"
   ]
  },
  {
   "cell_type": "code",
   "execution_count": 7,
   "metadata": {
    "pycharm": {
     "name": "#%%\n"
    }
   },
   "outputs": [],
   "source": [
    "classes = (\"UNKNOWN\", \"General trash\", \"Paper\", \"Paper pack\", \"Metal\", \"Glass\", \n",
    "           \"Plastic\", \"Styrofoam\", \"Plastic bag\", \"Battery\", \"Clothing\")\n",
    "# config file 들고오기\n",
    "cfg = Config.fromfile('./configs/vfnet/vfnet_r50_fpn_mdconv_c3-c5_mstrain_2x_coco.py')\n",
    "\n",
    "PREFIX = '../../input/data/'\n",
    "\n",
    "\n",
    "# dataset 바꾸기\n",
    "cfg.data.train.classes = classes\n",
    "cfg.data.train.img_prefix = PREFIX\n",
    "cfg.data.train.ann_file = PREFIX + 'train.json'\n",
    "cfg.data.train.pipeline[2]['img_scale'] = (512, 512)\n",
    "\n",
    "cfg.data.val.classes = classes\n",
    "cfg.data.val.img_prefix = PREFIX\n",
    "cfg.data.val.ann_file = PREFIX + 'val.json'\n",
    "cfg.data.val.pipeline[1]['img_scale'] = (512, 512)\n",
    "\n",
    "cfg.data.test.classes = classes\n",
    "cfg.data.test.img_prefix = PREFIX\n",
    "cfg.data.test.ann_file = PREFIX + 'test.json'\n",
    "cfg.data.test.pipeline[1]['img_scale'] = (512, 512)\n",
    "\n",
    "cfg.data.samples_per_gpu = 4\n",
    "\n",
    "cfg.seed=90\n",
    "cfg.gpu_ids = [0]\n",
    "cfg.work_dir = './work_dirs/vfnet_r50_fpn_mdconv_c3-c5_mstrain_2x_coco'\n",
    "\n",
    "cfg.model.bbox_head.num_classes = 11\n",
    "cfg.optimizer_config.grad_clip = dict(max_norm=35, norm_type=2)\n",
    "\n",
    "cfg.log_config.hooks = [dict(type='TextLoggerHook'), dict(type='WandbLoggerHook')]\n",
    "cfg.checkpoint_config['max_keep_ckpts']=5\n",
    "cfg.evaluation.save_best = 'bbox_mAP_50'\n",
    "\n",
    "cfg.lr_config.step = [60, 90]\n",
    "cfg.runner.max_epochs = 100"
   ]
  },
  {
   "cell_type": "code",
   "execution_count": null,
   "metadata": {},
   "outputs": [],
   "source": []
  },
  {
   "cell_type": "code",
   "execution_count": 8,
   "metadata": {},
   "outputs": [
    {
     "name": "stdout",
     "output_type": "stream",
     "text": [
      "{'policy': 'step', 'warmup': 'linear', 'warmup_iters': 500, 'warmup_ratio': 0.1, 'step': [60, 90]}\n"
     ]
    }
   ],
   "source": [
    "print(cfg.lr_config)"
   ]
  },
  {
   "cell_type": "code",
   "execution_count": 9,
   "metadata": {},
   "outputs": [
    {
     "name": "stdout",
     "output_type": "stream",
     "text": [
      "{'type': 'EpochBasedRunner', 'max_epochs': 100}\n"
     ]
    }
   ],
   "source": [
    "print(cfg.runner)"
   ]
  },
  {
   "cell_type": "code",
   "execution_count": 10,
   "metadata": {
    "pycharm": {
     "name": "#%%\n"
    }
   },
   "outputs": [
    {
     "name": "stderr",
     "output_type": "stream",
     "text": [
      "2021-05-14 09:19:56,944 - mmdet - INFO - load model from: torchvision://resnet50\n",
      "2021-05-14 09:19:56,945 - mmdet - INFO - Use load_from_torchvision loader\n",
      "2021-05-14 09:19:57,191 - mmdet - WARNING - The model and loaded state dict do not match exactly\n",
      "\n",
      "unexpected key in source state_dict: fc.weight, fc.bias\n",
      "\n",
      "missing keys in source state_dict: layer2.0.conv2.conv_offset.weight, layer2.0.conv2.conv_offset.bias, layer2.1.conv2.conv_offset.weight, layer2.1.conv2.conv_offset.bias, layer2.2.conv2.conv_offset.weight, layer2.2.conv2.conv_offset.bias, layer2.3.conv2.conv_offset.weight, layer2.3.conv2.conv_offset.bias, layer3.0.conv2.conv_offset.weight, layer3.0.conv2.conv_offset.bias, layer3.1.conv2.conv_offset.weight, layer3.1.conv2.conv_offset.bias, layer3.2.conv2.conv_offset.weight, layer3.2.conv2.conv_offset.bias, layer3.3.conv2.conv_offset.weight, layer3.3.conv2.conv_offset.bias, layer3.4.conv2.conv_offset.weight, layer3.4.conv2.conv_offset.bias, layer3.5.conv2.conv_offset.weight, layer3.5.conv2.conv_offset.bias, layer4.0.conv2.conv_offset.weight, layer4.0.conv2.conv_offset.bias, layer4.1.conv2.conv_offset.weight, layer4.1.conv2.conv_offset.bias, layer4.2.conv2.conv_offset.weight, layer4.2.conv2.conv_offset.bias\n",
      "\n"
     ]
    }
   ],
   "source": [
    "model = build_detector(cfg.model)"
   ]
  },
  {
   "cell_type": "code",
   "execution_count": 11,
   "metadata": {
    "pycharm": {
     "name": "#%%\n"
    }
   },
   "outputs": [
    {
     "name": "stdout",
     "output_type": "stream",
     "text": [
      "loading annotations into memory...\n",
      "Done (t=3.66s)\n",
      "creating index...\n",
      "index created!\n"
     ]
    }
   ],
   "source": [
    "datasets = [build_dataset(cfg.data.train)]"
   ]
  },
  {
   "cell_type": "code",
   "execution_count": 12,
   "metadata": {
    "pycharm": {
     "name": "#%%\n"
    }
   },
   "outputs": [
    {
     "name": "stdout",
     "output_type": "stream",
     "text": [
      "loading annotations into memory...\n"
     ]
    },
    {
     "name": "stderr",
     "output_type": "stream",
     "text": [
      "2021-05-14 09:20:16,386 - mmdet - INFO - Start running, host: root@bc720df3e041, work_dir: /opt/ml/code/mmdetection_trash/work_dirs/vfnet_r50_fpn_mdconv_c3-c5_mstrain_2x_coco\n",
      "2021-05-14 09:20:16,389 - mmdet - INFO - workflow: [('train', 1)], max: 100 epochs\n"
     ]
    },
    {
     "name": "stdout",
     "output_type": "stream",
     "text": [
      "Done (t=0.87s)\n",
      "creating index...\n",
      "index created!\n"
     ]
    },
    {
     "name": "stderr",
     "output_type": "stream",
     "text": [
      "/opt/ml/code/mmdetection_trash/mmdet/core/evaluation/eval_hooks.py:111: UserWarning: runner.meta is None. Creating a empty one.\n",
      "  warnings.warn('runner.meta is None. Creating a empty one.')\n",
      "\u001b[34m\u001b[1mwandb\u001b[0m: Currently logged in as: \u001b[33mk1smet14\u001b[0m (use `wandb login --relogin` to force relogin)\n"
     ]
    },
    {
     "data": {
      "text/html": [
       "\n",
       "                Tracking run with wandb version 0.10.30<br/>\n",
       "                Syncing run <strong style=\"color:#cdcd00\">iconic-sunset-4</strong> to <a href=\"https://wandb.ai\" target=\"_blank\">Weights & Biases</a> <a href=\"https://docs.wandb.com/integrations/jupyter.html\" target=\"_blank\">(Documentation)</a>.<br/>\n",
       "                Project page: <a href=\"https://wandb.ai/k1smet14/mmdetection_trash\" target=\"_blank\">https://wandb.ai/k1smet14/mmdetection_trash</a><br/>\n",
       "                Run page: <a href=\"https://wandb.ai/k1smet14/mmdetection_trash/runs/23q1eam7\" target=\"_blank\">https://wandb.ai/k1smet14/mmdetection_trash/runs/23q1eam7</a><br/>\n",
       "                Run data is saved locally in <code>/opt/ml/code/mmdetection_trash/wandb/run-20210514_092016-23q1eam7</code><br/><br/>\n",
       "            "
      ],
      "text/plain": [
       "<IPython.core.display.HTML object>"
      ]
     },
     "metadata": {},
     "output_type": "display_data"
    },
    {
     "name": "stderr",
     "output_type": "stream",
     "text": [
      "2021-05-14 09:20:49,774 - mmdet - INFO - Epoch [1][50/655]\tlr: 1.882e-03, eta: 10:31:38, time: 0.579, data_time: 0.050, memory: 1887, loss_cls: 0.7547, loss_bbox: 0.8351, loss_bbox_rf: 1.1405, loss: 2.7302, grad_norm: 12.0811\n",
      "2021-05-14 09:21:16,136 - mmdet - INFO - Epoch [1][100/655]\tlr: 2.782e-03, eta: 10:02:55, time: 0.527, data_time: 0.007, memory: 1887, loss_cls: 0.7641, loss_bbox: 0.7650, loss_bbox_rf: 1.0197, loss: 2.5487, grad_norm: 7.5138\n",
      "2021-05-14 09:21:42,538 - mmdet - INFO - Epoch [1][150/655]\tlr: 3.682e-03, eta: 9:53:20, time: 0.528, data_time: 0.007, memory: 1887, loss_cls: 0.8474, loss_bbox: 0.7158, loss_bbox_rf: 0.9570, loss: 2.5203, grad_norm: 6.9503\n",
      "2021-05-14 09:22:09,566 - mmdet - INFO - Epoch [1][200/655]\tlr: 4.582e-03, eta: 9:51:44, time: 0.541, data_time: 0.006, memory: 1887, loss_cls: 0.9136, loss_bbox: 0.6838, loss_bbox_rf: 0.9095, loss: 2.5069, grad_norm: 5.7465\n",
      "2021-05-14 09:22:35,970 - mmdet - INFO - Epoch [1][250/655]\tlr: 5.482e-03, eta: 9:47:53, time: 0.528, data_time: 0.007, memory: 1887, loss_cls: 1.0166, loss_bbox: 0.6787, loss_bbox_rf: 0.9064, loss: 2.6017, grad_norm: 6.6860\n",
      "2021-05-14 09:23:02,491 - mmdet - INFO - Epoch [1][300/655]\tlr: 6.382e-03, eta: 9:45:35, time: 0.530, data_time: 0.007, memory: 1887, loss_cls: 1.1661, loss_bbox: 0.6400, loss_bbox_rf: 0.8508, loss: 2.6569, grad_norm: 5.3885\n",
      "2021-05-14 09:23:29,075 - mmdet - INFO - Epoch [1][350/655]\tlr: 7.282e-03, eta: 9:44:01, time: 0.532, data_time: 0.007, memory: 1887, loss_cls: 1.1668, loss_bbox: 0.6567, loss_bbox_rf: 0.8693, loss: 2.6928, grad_norm: 5.0753\n",
      "2021-05-14 09:23:55,833 - mmdet - INFO - Epoch [1][400/655]\tlr: 8.182e-03, eta: 9:43:12, time: 0.535, data_time: 0.007, memory: 1887, loss_cls: 1.1804, loss_bbox: 0.6151, loss_bbox_rf: 0.8204, loss: 2.6158, grad_norm: 3.7793\n",
      "2021-05-14 09:24:22,608 - mmdet - INFO - Epoch [1][450/655]\tlr: 9.082e-03, eta: 9:42:31, time: 0.535, data_time: 0.007, memory: 1887, loss_cls: 1.1444, loss_bbox: 0.6097, loss_bbox_rf: 0.8154, loss: 2.5695, grad_norm: 3.9807\n",
      "2021-05-14 09:24:49,672 - mmdet - INFO - Epoch [1][500/655]\tlr: 9.982e-03, eta: 9:42:30, time: 0.541, data_time: 0.007, memory: 1887, loss_cls: 1.0716, loss_bbox: 0.6167, loss_bbox_rf: 0.8255, loss: 2.5139, grad_norm: 3.5684\n",
      "2021-05-14 09:25:16,594 - mmdet - INFO - Epoch [1][550/655]\tlr: 1.000e-02, eta: 9:42:07, time: 0.538, data_time: 0.007, memory: 1887, loss_cls: 1.1330, loss_bbox: 0.5653, loss_bbox_rf: 0.7563, loss: 2.4546, grad_norm: 4.1122\n",
      "2021-05-14 09:25:44,023 - mmdet - INFO - Epoch [1][600/655]\tlr: 1.000e-02, eta: 9:42:39, time: 0.549, data_time: 0.007, memory: 1887, loss_cls: 1.0494, loss_bbox: 0.6188, loss_bbox_rf: 0.8287, loss: 2.4969, grad_norm: 2.6718\n",
      "2021-05-14 09:26:10,632 - mmdet - INFO - Epoch [1][650/655]\tlr: 1.000e-02, eta: 9:41:39, time: 0.532, data_time: 0.007, memory: 1887, loss_cls: 1.1551, loss_bbox: 0.5541, loss_bbox_rf: 0.7375, loss: 2.4468, grad_norm: 3.1958\n",
      "2021-05-14 09:26:13,358 - mmdet - INFO - Saving checkpoint at 1 epochs\n"
     ]
    },
    {
     "name": "stdout",
     "output_type": "stream",
     "text": [
      "[>>>>>>>>>>>>>>>>>>>>>>>>>>>>>] 655/655, 18.7 task/s, elapsed: 35s, ETA:     0s"
     ]
    },
    {
     "name": "stderr",
     "output_type": "stream",
     "text": [
      "2021-05-14 09:26:50,752 - mmdet - INFO - Evaluating bbox...\n"
     ]
    },
    {
     "name": "stdout",
     "output_type": "stream",
     "text": [
      "Loading and preparing results...\n",
      "DONE (t=1.24s)\n",
      "creating index...\n",
      "index created!\n",
      "Running per image evaluation...\n",
      "Evaluate annotation type *bbox*\n",
      "DONE (t=6.43s).\n",
      "Accumulating evaluation results...\n"
     ]
    },
    {
     "name": "stderr",
     "output_type": "stream",
     "text": [
      "2021-05-14 09:27:00,362 - mmdet - INFO - Now best checkpoint is epoch_1.pth.Best bbox_mAP_50 is 0.0110\n",
      "2021-05-14 09:27:00,369 - mmdet - INFO - Epoch(val) [1][655]\tbbox_mAP: 0.0040, bbox_mAP_50: 0.0110, bbox_mAP_75: 0.0030, bbox_mAP_s: 0.0000, bbox_mAP_m: 0.0070, bbox_mAP_l: 0.0110, bbox_mAP_copypaste: 0.004 0.011 0.003 0.000 0.007 0.011\n"
     ]
    },
    {
     "name": "stdout",
     "output_type": "stream",
     "text": [
      "DONE (t=1.81s).\n",
      "Average Precision  (AP) @[ IoU=0.50:0.95 | area=   all | maxDets=100 ] = 0.004\n",
      "Average Precision  (AP) @[ IoU=0.50      | area=   all | maxDets=1000 ] = 0.011\n",
      "Average Precision  (AP) @[ IoU=0.75      | area=   all | maxDets=1000 ] = 0.003\n",
      "Average Precision  (AP) @[ IoU=0.50:0.95 | area= small | maxDets=1000 ] = 0.000\n",
      "Average Precision  (AP) @[ IoU=0.50:0.95 | area=medium | maxDets=1000 ] = 0.007\n",
      "Average Precision  (AP) @[ IoU=0.50:0.95 | area= large | maxDets=1000 ] = 0.011\n",
      "Average Recall     (AR) @[ IoU=0.50:0.95 | area=   all | maxDets=100 ] = 0.043\n",
      "Average Recall     (AR) @[ IoU=0.50:0.95 | area=   all | maxDets=300 ] = 0.043\n",
      "Average Recall     (AR) @[ IoU=0.50:0.95 | area=   all | maxDets=1000 ] = 0.043\n",
      "Average Recall     (AR) @[ IoU=0.50:0.95 | area= small | maxDets=1000 ] = 0.000\n",
      "Average Recall     (AR) @[ IoU=0.50:0.95 | area=medium | maxDets=1000 ] = 0.017\n",
      "Average Recall     (AR) @[ IoU=0.50:0.95 | area= large | maxDets=1000 ] = 0.121\n"
     ]
    },
    {
     "name": "stderr",
     "output_type": "stream",
     "text": [
      "2021-05-14 09:27:29,392 - mmdet - INFO - Epoch [2][50/655]\tlr: 1.000e-02, eta: 9:40:16, time: 0.580, data_time: 0.052, memory: 1887, loss_cls: 1.1066, loss_bbox: 0.5558, loss_bbox_rf: 0.7473, loss: 2.4096, grad_norm: 2.8108\n",
      "2021-05-14 09:27:56,276 - mmdet - INFO - Epoch [2][100/655]\tlr: 1.000e-02, eta: 9:39:51, time: 0.538, data_time: 0.007, memory: 1887, loss_cls: 1.0616, loss_bbox: 0.5422, loss_bbox_rf: 0.7282, loss: 2.3320, grad_norm: 2.9082\n",
      "2021-05-14 09:28:23,067 - mmdet - INFO - Epoch [2][150/655]\tlr: 1.000e-02, eta: 9:39:18, time: 0.536, data_time: 0.007, memory: 1887, loss_cls: 1.0378, loss_bbox: 0.5346, loss_bbox_rf: 0.7158, loss: 2.2882, grad_norm: 2.7817\n",
      "2021-05-14 09:28:49,678 - mmdet - INFO - Epoch [2][200/655]\tlr: 1.000e-02, eta: 9:38:32, time: 0.532, data_time: 0.007, memory: 1887, loss_cls: 1.0332, loss_bbox: 0.5183, loss_bbox_rf: 0.6941, loss: 2.2456, grad_norm: 2.7707\n",
      "2021-05-14 09:29:16,325 - mmdet - INFO - Epoch [2][250/655]\tlr: 1.000e-02, eta: 9:37:50, time: 0.533, data_time: 0.007, memory: 1887, loss_cls: 1.1074, loss_bbox: 0.5184, loss_bbox_rf: 0.6941, loss: 2.3199, grad_norm: 2.5075\n",
      "2021-05-14 09:29:42,921 - mmdet - INFO - Epoch [2][300/655]\tlr: 1.000e-02, eta: 9:37:07, time: 0.532, data_time: 0.007, memory: 1887, loss_cls: 1.1699, loss_bbox: 0.4931, loss_bbox_rf: 0.6573, loss: 2.3203, grad_norm: 2.2085\n",
      "2021-05-14 09:30:09,535 - mmdet - INFO - Epoch [2][350/655]\tlr: 1.000e-02, eta: 9:36:27, time: 0.532, data_time: 0.007, memory: 1887, loss_cls: 1.0658, loss_bbox: 0.4902, loss_bbox_rf: 0.6541, loss: 2.2101, grad_norm: 2.7887\n",
      "2021-05-14 09:30:36,141 - mmdet - INFO - Epoch [2][400/655]\tlr: 1.000e-02, eta: 9:35:47, time: 0.532, data_time: 0.007, memory: 1887, loss_cls: 1.2085, loss_bbox: 0.4721, loss_bbox_rf: 0.6320, loss: 2.3126, grad_norm: 3.3557\n",
      "2021-05-14 09:31:02,582 - mmdet - INFO - Epoch [2][450/655]\tlr: 1.000e-02, eta: 9:34:59, time: 0.529, data_time: 0.006, memory: 1887, loss_cls: 1.1139, loss_bbox: 0.5010, loss_bbox_rf: 0.6727, loss: 2.2877, grad_norm: 2.9321\n",
      "2021-05-14 09:31:29,274 - mmdet - INFO - Epoch [2][500/655]\tlr: 1.000e-02, eta: 9:34:27, time: 0.534, data_time: 0.007, memory: 1887, loss_cls: 1.0989, loss_bbox: 0.4709, loss_bbox_rf: 0.6334, loss: 2.2032, grad_norm: 3.1198\n",
      "2021-05-14 09:31:56,014 - mmdet - INFO - Epoch [2][550/655]\tlr: 1.000e-02, eta: 9:33:58, time: 0.535, data_time: 0.007, memory: 1887, loss_cls: 1.1455, loss_bbox: 0.4695, loss_bbox_rf: 0.6255, loss: 2.2405, grad_norm: 3.0443\n",
      "2021-05-14 09:32:22,879 - mmdet - INFO - Epoch [2][600/655]\tlr: 1.000e-02, eta: 9:33:36, time: 0.537, data_time: 0.007, memory: 1887, loss_cls: 1.0760, loss_bbox: 0.4675, loss_bbox_rf: 0.6226, loss: 2.1660, grad_norm: 2.8885\n",
      "2021-05-14 09:32:49,509 - mmdet - INFO - Epoch [2][650/655]\tlr: 1.000e-02, eta: 9:33:01, time: 0.533, data_time: 0.007, memory: 1887, loss_cls: 1.0811, loss_bbox: 0.4439, loss_bbox_rf: 0.5952, loss: 2.1201, grad_norm: 2.9199\n",
      "2021-05-14 09:32:52,264 - mmdet - INFO - Saving checkpoint at 2 epochs\n"
     ]
    },
    {
     "name": "stdout",
     "output_type": "stream",
     "text": [
      "[>>>>>>>>>>>>>>>>>>>>>>>>>>>>>] 655/655, 17.9 task/s, elapsed: 37s, ETA:     0s"
     ]
    },
    {
     "name": "stderr",
     "output_type": "stream",
     "text": [
      "2021-05-14 09:33:31,294 - mmdet - INFO - Evaluating bbox...\n"
     ]
    },
    {
     "name": "stdout",
     "output_type": "stream",
     "text": [
      "Loading and preparing results...\n",
      "DONE (t=1.23s)\n",
      "creating index...\n",
      "index created!\n",
      "Running per image evaluation...\n",
      "Evaluate annotation type *bbox*\n",
      "DONE (t=6.45s).\n",
      "Accumulating evaluation results...\n"
     ]
    },
    {
     "name": "stderr",
     "output_type": "stream",
     "text": [
      "2021-05-14 09:33:41,064 - mmdet - INFO - Now best checkpoint is epoch_2.pth.Best bbox_mAP_50 is 0.0400\n",
      "2021-05-14 09:33:41,070 - mmdet - INFO - Epoch(val) [2][655]\tbbox_mAP: 0.0210, bbox_mAP_50: 0.0400, bbox_mAP_75: 0.0210, bbox_mAP_s: 0.0080, bbox_mAP_m: 0.0280, bbox_mAP_l: 0.0410, bbox_mAP_copypaste: 0.021 0.040 0.021 0.008 0.028 0.041\n"
     ]
    },
    {
     "name": "stdout",
     "output_type": "stream",
     "text": [
      "DONE (t=1.94s).\n",
      "Average Precision  (AP) @[ IoU=0.50:0.95 | area=   all | maxDets=100 ] = 0.021\n",
      "Average Precision  (AP) @[ IoU=0.50      | area=   all | maxDets=1000 ] = 0.040\n",
      "Average Precision  (AP) @[ IoU=0.75      | area=   all | maxDets=1000 ] = 0.021\n",
      "Average Precision  (AP) @[ IoU=0.50:0.95 | area= small | maxDets=1000 ] = 0.008\n",
      "Average Precision  (AP) @[ IoU=0.50:0.95 | area=medium | maxDets=1000 ] = 0.028\n",
      "Average Precision  (AP) @[ IoU=0.50:0.95 | area= large | maxDets=1000 ] = 0.041\n",
      "Average Recall     (AR) @[ IoU=0.50:0.95 | area=   all | maxDets=100 ] = 0.156\n",
      "Average Recall     (AR) @[ IoU=0.50:0.95 | area=   all | maxDets=300 ] = 0.156\n",
      "Average Recall     (AR) @[ IoU=0.50:0.95 | area=   all | maxDets=1000 ] = 0.156\n",
      "Average Recall     (AR) @[ IoU=0.50:0.95 | area= small | maxDets=1000 ] = 0.010\n",
      "Average Recall     (AR) @[ IoU=0.50:0.95 | area=medium | maxDets=1000 ] = 0.115\n",
      "Average Recall     (AR) @[ IoU=0.50:0.95 | area= large | maxDets=1000 ] = 0.349\n"
     ]
    },
    {
     "name": "stderr",
     "output_type": "stream",
     "text": [
      "2021-05-14 09:34:09,892 - mmdet - INFO - Epoch [3][50/655]\tlr: 1.000e-02, eta: 9:32:01, time: 0.576, data_time: 0.051, memory: 1887, loss_cls: 1.1162, loss_bbox: 0.4383, loss_bbox_rf: 0.5864, loss: 2.1409, grad_norm: 3.1778\n",
      "2021-05-14 09:34:36,615 - mmdet - INFO - Epoch [3][100/655]\tlr: 1.000e-02, eta: 9:31:33, time: 0.534, data_time: 0.007, memory: 1887, loss_cls: 1.1270, loss_bbox: 0.4412, loss_bbox_rf: 0.5893, loss: 2.1576, grad_norm: 3.2983\n",
      "2021-05-14 09:35:03,326 - mmdet - INFO - Epoch [3][150/655]\tlr: 1.000e-02, eta: 9:31:05, time: 0.534, data_time: 0.007, memory: 1887, loss_cls: 1.1535, loss_bbox: 0.4773, loss_bbox_rf: 0.6374, loss: 2.2682, grad_norm: 2.8787\n",
      "2021-05-14 09:35:30,026 - mmdet - INFO - Epoch [3][200/655]\tlr: 1.000e-02, eta: 9:30:36, time: 0.534, data_time: 0.007, memory: 1887, loss_cls: 1.0740, loss_bbox: 0.4444, loss_bbox_rf: 0.5924, loss: 2.1109, grad_norm: 2.8579\n",
      "2021-05-14 09:35:56,690 - mmdet - INFO - Epoch [3][250/655]\tlr: 1.000e-02, eta: 9:30:05, time: 0.533, data_time: 0.006, memory: 1887, loss_cls: 1.1183, loss_bbox: 0.4333, loss_bbox_rf: 0.5788, loss: 2.1303, grad_norm: 3.1330\n",
      "2021-05-14 09:36:23,377 - mmdet - INFO - Epoch [3][300/655]\tlr: 1.000e-02, eta: 9:29:36, time: 0.534, data_time: 0.007, memory: 1887, loss_cls: 1.0618, loss_bbox: 0.4283, loss_bbox_rf: 0.5725, loss: 2.0627, grad_norm: 2.8786\n",
      "2021-05-14 09:36:49,902 - mmdet - INFO - Epoch [3][350/655]\tlr: 1.000e-02, eta: 9:29:01, time: 0.530, data_time: 0.006, memory: 1887, loss_cls: 1.0340, loss_bbox: 0.4343, loss_bbox_rf: 0.5786, loss: 2.0469, grad_norm: 2.5548\n",
      "2021-05-14 09:37:16,531 - mmdet - INFO - Epoch [3][400/655]\tlr: 1.000e-02, eta: 9:28:30, time: 0.533, data_time: 0.007, memory: 1887, loss_cls: 1.0514, loss_bbox: 0.4306, loss_bbox_rf: 0.5755, loss: 2.0575, grad_norm: 2.9187\n",
      "2021-05-14 09:37:43,212 - mmdet - INFO - Epoch [3][450/655]\tlr: 1.000e-02, eta: 9:28:01, time: 0.534, data_time: 0.007, memory: 1887, loss_cls: 1.0463, loss_bbox: 0.4146, loss_bbox_rf: 0.5532, loss: 2.0141, grad_norm: 3.1257\n",
      "2021-05-14 09:38:09,950 - mmdet - INFO - Epoch [3][500/655]\tlr: 1.000e-02, eta: 9:27:34, time: 0.535, data_time: 0.007, memory: 1887, loss_cls: 1.0629, loss_bbox: 0.4338, loss_bbox_rf: 0.5771, loss: 2.0738, grad_norm: 3.0443\n",
      "2021-05-14 09:38:36,982 - mmdet - INFO - Epoch [3][550/655]\tlr: 1.000e-02, eta: 9:27:18, time: 0.541, data_time: 0.007, memory: 1887, loss_cls: 1.0321, loss_bbox: 0.4130, loss_bbox_rf: 0.5523, loss: 1.9974, grad_norm: 2.8403\n",
      "2021-05-14 09:39:04,499 - mmdet - INFO - Epoch [3][600/655]\tlr: 1.000e-02, eta: 9:27:17, time: 0.550, data_time: 0.007, memory: 1887, loss_cls: 1.0131, loss_bbox: 0.4280, loss_bbox_rf: 0.5718, loss: 2.0130, grad_norm: 2.7190\n",
      "2021-05-14 09:39:31,192 - mmdet - INFO - Epoch [3][650/655]\tlr: 1.000e-02, eta: 9:26:48, time: 0.534, data_time: 0.007, memory: 1887, loss_cls: 0.9937, loss_bbox: 0.4315, loss_bbox_rf: 0.5764, loss: 2.0016, grad_norm: 2.7385\n",
      "2021-05-14 09:39:33,942 - mmdet - INFO - Saving checkpoint at 3 epochs\n"
     ]
    },
    {
     "name": "stdout",
     "output_type": "stream",
     "text": [
      "[>>>>>>>>>>>>>>>>>>>>>>>>>>>>>] 655/655, 18.3 task/s, elapsed: 36s, ETA:     0s"
     ]
    },
    {
     "name": "stderr",
     "output_type": "stream",
     "text": [
      "2021-05-14 09:40:12,222 - mmdet - INFO - Evaluating bbox...\n"
     ]
    },
    {
     "name": "stdout",
     "output_type": "stream",
     "text": [
      "Loading and preparing results...\n",
      "DONE (t=1.17s)\n",
      "creating index...\n",
      "index created!\n",
      "Running per image evaluation...\n",
      "Evaluate annotation type *bbox*\n",
      "DONE (t=7.33s).\n",
      "Accumulating evaluation results...\n"
     ]
    },
    {
     "name": "stderr",
     "output_type": "stream",
     "text": [
      "2021-05-14 09:40:22,713 - mmdet - INFO - Now best checkpoint is epoch_3.pth.Best bbox_mAP_50 is 0.0820\n",
      "2021-05-14 09:40:22,720 - mmdet - INFO - Epoch(val) [3][655]\tbbox_mAP: 0.0460, bbox_mAP_50: 0.0820, bbox_mAP_75: 0.0480, bbox_mAP_s: 0.0160, bbox_mAP_m: 0.0400, bbox_mAP_l: 0.0890, bbox_mAP_copypaste: 0.046 0.082 0.048 0.016 0.040 0.089\n"
     ]
    },
    {
     "name": "stdout",
     "output_type": "stream",
     "text": [
      "DONE (t=1.83s).\n",
      "Average Precision  (AP) @[ IoU=0.50:0.95 | area=   all | maxDets=100 ] = 0.046\n",
      "Average Precision  (AP) @[ IoU=0.50      | area=   all | maxDets=1000 ] = 0.082\n",
      "Average Precision  (AP) @[ IoU=0.75      | area=   all | maxDets=1000 ] = 0.048\n",
      "Average Precision  (AP) @[ IoU=0.50:0.95 | area= small | maxDets=1000 ] = 0.016\n",
      "Average Precision  (AP) @[ IoU=0.50:0.95 | area=medium | maxDets=1000 ] = 0.040\n",
      "Average Precision  (AP) @[ IoU=0.50:0.95 | area= large | maxDets=1000 ] = 0.089\n",
      "Average Recall     (AR) @[ IoU=0.50:0.95 | area=   all | maxDets=100 ] = 0.196\n",
      "Average Recall     (AR) @[ IoU=0.50:0.95 | area=   all | maxDets=300 ] = 0.196\n",
      "Average Recall     (AR) @[ IoU=0.50:0.95 | area=   all | maxDets=1000 ] = 0.196\n",
      "Average Recall     (AR) @[ IoU=0.50:0.95 | area= small | maxDets=1000 ] = 0.026\n",
      "Average Recall     (AR) @[ IoU=0.50:0.95 | area=medium | maxDets=1000 ] = 0.156\n",
      "Average Recall     (AR) @[ IoU=0.50:0.95 | area= large | maxDets=1000 ] = 0.420\n"
     ]
    },
    {
     "name": "stderr",
     "output_type": "stream",
     "text": [
      "2021-05-14 09:40:51,899 - mmdet - INFO - Epoch [4][50/655]\tlr: 1.000e-02, eta: 9:26:10, time: 0.583, data_time: 0.052, memory: 1887, loss_cls: 1.0321, loss_bbox: 0.4108, loss_bbox_rf: 0.5482, loss: 1.9910, grad_norm: 2.9567\n",
      "2021-05-14 09:41:18,592 - mmdet - INFO - Epoch [4][100/655]\tlr: 1.000e-02, eta: 9:25:41, time: 0.534, data_time: 0.007, memory: 1887, loss_cls: 1.0337, loss_bbox: 0.3952, loss_bbox_rf: 0.5267, loss: 1.9556, grad_norm: 3.3212\n",
      "2021-05-14 09:41:45,187 - mmdet - INFO - Epoch [4][150/655]\tlr: 1.000e-02, eta: 9:25:10, time: 0.532, data_time: 0.007, memory: 1887, loss_cls: 0.9833, loss_bbox: 0.4293, loss_bbox_rf: 0.5732, loss: 1.9858, grad_norm: 2.9334\n",
      "2021-05-14 09:42:12,234 - mmdet - INFO - Epoch [4][200/655]\tlr: 1.000e-02, eta: 9:24:52, time: 0.541, data_time: 0.007, memory: 1887, loss_cls: 1.0664, loss_bbox: 0.3903, loss_bbox_rf: 0.5206, loss: 1.9773, grad_norm: 3.5102\n",
      "2021-05-14 09:42:39,074 - mmdet - INFO - Epoch [4][250/655]\tlr: 1.000e-02, eta: 9:24:27, time: 0.537, data_time: 0.007, memory: 1887, loss_cls: 0.9963, loss_bbox: 0.4226, loss_bbox_rf: 0.5628, loss: 1.9818, grad_norm: 2.6030\n",
      "2021-05-14 09:43:05,886 - mmdet - INFO - Epoch [4][300/655]\tlr: 1.000e-02, eta: 9:24:02, time: 0.536, data_time: 0.007, memory: 1887, loss_cls: 1.0299, loss_bbox: 0.4001, loss_bbox_rf: 0.5326, loss: 1.9626, grad_norm: 2.8147\n",
      "2021-05-14 09:43:32,555 - mmdet - INFO - Epoch [4][350/655]\tlr: 1.000e-02, eta: 9:23:33, time: 0.533, data_time: 0.007, memory: 1887, loss_cls: 1.0034, loss_bbox: 0.3923, loss_bbox_rf: 0.5221, loss: 1.9178, grad_norm: 2.9985\n",
      "2021-05-14 09:44:00,046 - mmdet - INFO - Epoch [4][400/655]\tlr: 1.000e-02, eta: 9:23:26, time: 0.550, data_time: 0.007, memory: 1887, loss_cls: 1.0643, loss_bbox: 0.3832, loss_bbox_rf: 0.5105, loss: 1.9580, grad_norm: 3.2243\n",
      "2021-05-14 09:44:26,784 - mmdet - INFO - Epoch [4][450/655]\tlr: 1.000e-02, eta: 9:22:58, time: 0.535, data_time: 0.007, memory: 1887, loss_cls: 0.9481, loss_bbox: 0.4131, loss_bbox_rf: 0.5511, loss: 1.9122, grad_norm: 2.6208\n",
      "2021-05-14 09:44:53,855 - mmdet - INFO - Epoch [4][500/655]\tlr: 1.000e-02, eta: 9:22:39, time: 0.541, data_time: 0.007, memory: 1887, loss_cls: 1.0257, loss_bbox: 0.3922, loss_bbox_rf: 0.5220, loss: 1.9399, grad_norm: 3.1222\n",
      "2021-05-14 09:45:20,428 - mmdet - INFO - Epoch [4][550/655]\tlr: 1.000e-02, eta: 9:22:07, time: 0.531, data_time: 0.007, memory: 1887, loss_cls: 1.0351, loss_bbox: 0.3962, loss_bbox_rf: 0.5276, loss: 1.9589, grad_norm: 2.6099\n",
      "2021-05-14 09:45:47,064 - mmdet - INFO - Epoch [4][600/655]\tlr: 1.000e-02, eta: 9:21:37, time: 0.533, data_time: 0.007, memory: 1887, loss_cls: 1.0192, loss_bbox: 0.3936, loss_bbox_rf: 0.5238, loss: 1.9365, grad_norm: 2.8162\n",
      "2021-05-14 09:46:13,732 - mmdet - INFO - Epoch [4][650/655]\tlr: 1.000e-02, eta: 9:21:08, time: 0.533, data_time: 0.007, memory: 1887, loss_cls: 1.0523, loss_bbox: 0.3928, loss_bbox_rf: 0.5228, loss: 1.9679, grad_norm: 3.1460\n",
      "2021-05-14 09:46:16,495 - mmdet - INFO - Saving checkpoint at 4 epochs\n"
     ]
    },
    {
     "name": "stdout",
     "output_type": "stream",
     "text": [
      "[>>>>>>>>>>>>>>>>>>>>>>>>>>>>>] 655/655, 17.9 task/s, elapsed: 37s, ETA:     0s"
     ]
    },
    {
     "name": "stderr",
     "output_type": "stream",
     "text": [
      "2021-05-14 09:46:55,680 - mmdet - INFO - Evaluating bbox...\n"
     ]
    },
    {
     "name": "stdout",
     "output_type": "stream",
     "text": [
      "Loading and preparing results...\n",
      "DONE (t=1.22s)\n",
      "creating index...\n",
      "index created!\n",
      "Running per image evaluation...\n",
      "Evaluate annotation type *bbox*\n",
      "DONE (t=8.69s).\n",
      "Accumulating evaluation results...\n"
     ]
    },
    {
     "name": "stderr",
     "output_type": "stream",
     "text": [
      "2021-05-14 09:47:07,548 - mmdet - INFO - Now best checkpoint is epoch_4.pth.Best bbox_mAP_50 is 0.0840\n",
      "2021-05-14 09:47:07,556 - mmdet - INFO - Epoch(val) [4][655]\tbbox_mAP: 0.0460, bbox_mAP_50: 0.0840, bbox_mAP_75: 0.0470, bbox_mAP_s: 0.0190, bbox_mAP_m: 0.0470, bbox_mAP_l: 0.0800, bbox_mAP_copypaste: 0.046 0.084 0.047 0.019 0.047 0.080\n"
     ]
    },
    {
     "name": "stdout",
     "output_type": "stream",
     "text": [
      "DONE (t=1.82s).\n",
      "Average Precision  (AP) @[ IoU=0.50:0.95 | area=   all | maxDets=100 ] = 0.046\n",
      "Average Precision  (AP) @[ IoU=0.50      | area=   all | maxDets=1000 ] = 0.084\n",
      "Average Precision  (AP) @[ IoU=0.75      | area=   all | maxDets=1000 ] = 0.047\n",
      "Average Precision  (AP) @[ IoU=0.50:0.95 | area= small | maxDets=1000 ] = 0.019\n",
      "Average Precision  (AP) @[ IoU=0.50:0.95 | area=medium | maxDets=1000 ] = 0.047\n",
      "Average Precision  (AP) @[ IoU=0.50:0.95 | area= large | maxDets=1000 ] = 0.080\n",
      "Average Recall     (AR) @[ IoU=0.50:0.95 | area=   all | maxDets=100 ] = 0.169\n",
      "Average Recall     (AR) @[ IoU=0.50:0.95 | area=   all | maxDets=300 ] = 0.169\n",
      "Average Recall     (AR) @[ IoU=0.50:0.95 | area=   all | maxDets=1000 ] = 0.169\n",
      "Average Recall     (AR) @[ IoU=0.50:0.95 | area= small | maxDets=1000 ] = 0.038\n",
      "Average Recall     (AR) @[ IoU=0.50:0.95 | area=medium | maxDets=1000 ] = 0.158\n",
      "Average Recall     (AR) @[ IoU=0.50:0.95 | area= large | maxDets=1000 ] = 0.340\n"
     ]
    },
    {
     "name": "stderr",
     "output_type": "stream",
     "text": [
      "2021-05-14 09:47:36,426 - mmdet - INFO - Epoch [5][50/655]\tlr: 1.000e-02, eta: 9:20:24, time: 0.577, data_time: 0.051, memory: 1887, loss_cls: 1.0598, loss_bbox: 0.3763, loss_bbox_rf: 0.5013, loss: 1.9374, grad_norm: 2.9113\n",
      "2021-05-14 09:48:03,069 - mmdet - INFO - Epoch [5][100/655]\tlr: 1.000e-02, eta: 9:19:55, time: 0.533, data_time: 0.007, memory: 1887, loss_cls: 1.0447, loss_bbox: 0.3800, loss_bbox_rf: 0.5034, loss: 1.9281, grad_norm: 2.9322\n",
      "2021-05-14 09:48:29,739 - mmdet - INFO - Epoch [5][150/655]\tlr: 1.000e-02, eta: 9:19:26, time: 0.533, data_time: 0.007, memory: 1887, loss_cls: 0.9943, loss_bbox: 0.3678, loss_bbox_rf: 0.4886, loss: 1.8507, grad_norm: 3.0952\n",
      "2021-05-14 09:48:56,349 - mmdet - INFO - Epoch [5][200/655]\tlr: 1.000e-02, eta: 9:18:56, time: 0.532, data_time: 0.007, memory: 1887, loss_cls: 0.9900, loss_bbox: 0.3966, loss_bbox_rf: 0.5269, loss: 1.9136, grad_norm: 3.1684\n",
      "2021-05-14 09:49:23,005 - mmdet - INFO - Epoch [5][250/655]\tlr: 1.000e-02, eta: 9:18:27, time: 0.533, data_time: 0.007, memory: 1887, loss_cls: 1.0277, loss_bbox: 0.3847, loss_bbox_rf: 0.5115, loss: 1.9239, grad_norm: 2.9291\n",
      "2021-05-14 09:49:49,436 - mmdet - INFO - Epoch [5][300/655]\tlr: 1.000e-02, eta: 9:17:54, time: 0.529, data_time: 0.006, memory: 1887, loss_cls: 0.9620, loss_bbox: 0.3848, loss_bbox_rf: 0.5102, loss: 1.8569, grad_norm: 3.0005\n",
      "2021-05-14 09:50:16,016 - mmdet - INFO - Epoch [5][350/655]\tlr: 1.000e-02, eta: 9:17:23, time: 0.532, data_time: 0.007, memory: 1887, loss_cls: 1.0651, loss_bbox: 0.3856, loss_bbox_rf: 0.5123, loss: 1.9631, grad_norm: 3.5185\n",
      "2021-05-14 09:50:42,680 - mmdet - INFO - Epoch [5][400/655]\tlr: 1.000e-02, eta: 9:16:55, time: 0.533, data_time: 0.007, memory: 1887, loss_cls: 1.0412, loss_bbox: 0.3947, loss_bbox_rf: 0.5232, loss: 1.9591, grad_norm: 3.0818\n",
      "2021-05-14 09:51:09,259 - mmdet - INFO - Epoch [5][450/655]\tlr: 1.000e-02, eta: 9:16:25, time: 0.532, data_time: 0.006, memory: 1887, loss_cls: 0.9583, loss_bbox: 0.3695, loss_bbox_rf: 0.4910, loss: 1.8188, grad_norm: 2.8684\n",
      "2021-05-14 09:51:35,905 - mmdet - INFO - Epoch [5][500/655]\tlr: 1.000e-02, eta: 9:15:56, time: 0.533, data_time: 0.007, memory: 1887, loss_cls: 0.9724, loss_bbox: 0.3779, loss_bbox_rf: 0.5010, loss: 1.8513, grad_norm: 2.8519\n",
      "2021-05-14 09:52:02,598 - mmdet - INFO - Epoch [5][550/655]\tlr: 1.000e-02, eta: 9:15:29, time: 0.534, data_time: 0.007, memory: 1887, loss_cls: 0.9811, loss_bbox: 0.3689, loss_bbox_rf: 0.4890, loss: 1.8390, grad_norm: 2.8595\n",
      "2021-05-14 09:52:29,158 - mmdet - INFO - Epoch [5][600/655]\tlr: 1.000e-02, eta: 9:14:59, time: 0.531, data_time: 0.007, memory: 1887, loss_cls: 0.9908, loss_bbox: 0.3595, loss_bbox_rf: 0.4766, loss: 1.8269, grad_norm: 2.9476\n",
      "2021-05-14 09:52:55,808 - mmdet - INFO - Epoch [5][650/655]\tlr: 1.000e-02, eta: 9:14:30, time: 0.533, data_time: 0.007, memory: 1887, loss_cls: 0.9845, loss_bbox: 0.3694, loss_bbox_rf: 0.4892, loss: 1.8430, grad_norm: 3.0130\n",
      "2021-05-14 09:52:58,582 - mmdet - INFO - Saving checkpoint at 5 epochs\n"
     ]
    },
    {
     "name": "stdout",
     "output_type": "stream",
     "text": [
      "[>>>>>>>>>>>>>>>>>>>>>>>>>>>>>] 655/655, 18.3 task/s, elapsed: 36s, ETA:     0s"
     ]
    },
    {
     "name": "stderr",
     "output_type": "stream",
     "text": [
      "2021-05-14 09:53:36,149 - mmdet - INFO - Evaluating bbox...\n"
     ]
    },
    {
     "name": "stdout",
     "output_type": "stream",
     "text": [
      "Loading and preparing results...\n",
      "DONE (t=1.26s)\n",
      "creating index...\n",
      "index created!\n",
      "Running per image evaluation...\n",
      "Evaluate annotation type *bbox*\n",
      "DONE (t=7.41s).\n",
      "Accumulating evaluation results...\n"
     ]
    },
    {
     "name": "stderr",
     "output_type": "stream",
     "text": [
      "2021-05-14 09:53:46,750 - mmdet - INFO - Now best checkpoint is epoch_5.pth.Best bbox_mAP_50 is 0.1330\n",
      "2021-05-14 09:53:46,757 - mmdet - INFO - Epoch(val) [5][655]\tbbox_mAP: 0.0760, bbox_mAP_50: 0.1330, bbox_mAP_75: 0.0780, bbox_mAP_s: 0.0240, bbox_mAP_m: 0.0830, bbox_mAP_l: 0.1440, bbox_mAP_copypaste: 0.076 0.133 0.078 0.024 0.083 0.144\n"
     ]
    },
    {
     "name": "stdout",
     "output_type": "stream",
     "text": [
      "DONE (t=1.77s).\n",
      "Average Precision  (AP) @[ IoU=0.50:0.95 | area=   all | maxDets=100 ] = 0.076\n",
      "Average Precision  (AP) @[ IoU=0.50      | area=   all | maxDets=1000 ] = 0.133\n",
      "Average Precision  (AP) @[ IoU=0.75      | area=   all | maxDets=1000 ] = 0.078\n",
      "Average Precision  (AP) @[ IoU=0.50:0.95 | area= small | maxDets=1000 ] = 0.024\n",
      "Average Precision  (AP) @[ IoU=0.50:0.95 | area=medium | maxDets=1000 ] = 0.083\n",
      "Average Precision  (AP) @[ IoU=0.50:0.95 | area= large | maxDets=1000 ] = 0.144\n",
      "Average Recall     (AR) @[ IoU=0.50:0.95 | area=   all | maxDets=100 ] = 0.262\n",
      "Average Recall     (AR) @[ IoU=0.50:0.95 | area=   all | maxDets=300 ] = 0.262\n",
      "Average Recall     (AR) @[ IoU=0.50:0.95 | area=   all | maxDets=1000 ] = 0.262\n",
      "Average Recall     (AR) @[ IoU=0.50:0.95 | area= small | maxDets=1000 ] = 0.053\n",
      "Average Recall     (AR) @[ IoU=0.50:0.95 | area=medium | maxDets=1000 ] = 0.243\n",
      "Average Recall     (AR) @[ IoU=0.50:0.95 | area= large | maxDets=1000 ] = 0.535\n"
     ]
    },
    {
     "name": "stderr",
     "output_type": "stream",
     "text": [
      "2021-05-14 09:54:15,780 - mmdet - INFO - Epoch [6][50/655]\tlr: 1.000e-02, eta: 9:13:54, time: 0.580, data_time: 0.051, memory: 1887, loss_cls: 1.0040, loss_bbox: 0.3594, loss_bbox_rf: 0.4737, loss: 1.8370, grad_norm: 3.1340\n",
      "2021-05-14 09:54:42,420 - mmdet - INFO - Epoch [6][100/655]\tlr: 1.000e-02, eta: 9:13:25, time: 0.533, data_time: 0.007, memory: 1887, loss_cls: 1.0179, loss_bbox: 0.3661, loss_bbox_rf: 0.4845, loss: 1.8685, grad_norm: 3.2119\n",
      "2021-05-14 09:55:09,367 - mmdet - INFO - Epoch [6][150/655]\tlr: 1.000e-02, eta: 9:13:03, time: 0.539, data_time: 0.007, memory: 1887, loss_cls: 1.0252, loss_bbox: 0.3489, loss_bbox_rf: 0.4592, loss: 1.8333, grad_norm: 3.3294\n",
      "2021-05-14 09:55:35,864 - mmdet - INFO - Epoch [6][200/655]\tlr: 1.000e-02, eta: 9:12:32, time: 0.530, data_time: 0.006, memory: 1887, loss_cls: 0.9541, loss_bbox: 0.3632, loss_bbox_rf: 0.4792, loss: 1.7965, grad_norm: 2.7852\n",
      "2021-05-14 09:56:02,355 - mmdet - INFO - Epoch [6][250/655]\tlr: 1.000e-02, eta: 9:12:01, time: 0.530, data_time: 0.006, memory: 1887, loss_cls: 1.0005, loss_bbox: 0.3715, loss_bbox_rf: 0.4916, loss: 1.8636, grad_norm: 3.1333\n",
      "2021-05-14 09:56:29,081 - mmdet - INFO - Epoch [6][300/655]\tlr: 1.000e-02, eta: 9:11:34, time: 0.535, data_time: 0.007, memory: 1887, loss_cls: 1.0138, loss_bbox: 0.3599, loss_bbox_rf: 0.4744, loss: 1.8481, grad_norm: 3.2563\n",
      "2021-05-14 09:56:55,692 - mmdet - INFO - Epoch [6][350/655]\tlr: 1.000e-02, eta: 9:11:06, time: 0.532, data_time: 0.007, memory: 1887, loss_cls: 0.9334, loss_bbox: 0.3845, loss_bbox_rf: 0.5055, loss: 1.8234, grad_norm: 3.1761\n",
      "2021-05-14 09:57:22,431 - mmdet - INFO - Epoch [6][400/655]\tlr: 1.000e-02, eta: 9:10:39, time: 0.535, data_time: 0.007, memory: 1887, loss_cls: 0.9528, loss_bbox: 0.3630, loss_bbox_rf: 0.4785, loss: 1.7944, grad_norm: 2.8468\n",
      "2021-05-14 09:57:48,972 - mmdet - INFO - Epoch [6][450/655]\tlr: 1.000e-02, eta: 9:10:10, time: 0.531, data_time: 0.006, memory: 1887, loss_cls: 0.9956, loss_bbox: 0.3564, loss_bbox_rf: 0.4678, loss: 1.8198, grad_norm: 3.2140\n",
      "2021-05-14 09:58:16,190 - mmdet - INFO - Epoch [6][500/655]\tlr: 1.000e-02, eta: 9:09:51, time: 0.544, data_time: 0.007, memory: 1887, loss_cls: 0.9647, loss_bbox: 0.3761, loss_bbox_rf: 0.4962, loss: 1.8370, grad_norm: 3.0507\n",
      "2021-05-14 09:58:43,088 - mmdet - INFO - Epoch [6][550/655]\tlr: 1.000e-02, eta: 9:09:27, time: 0.538, data_time: 0.007, memory: 1887, loss_cls: 0.9944, loss_bbox: 0.3476, loss_bbox_rf: 0.4523, loss: 1.7943, grad_norm: 3.2288\n",
      "2021-05-14 09:59:09,648 - mmdet - INFO - Epoch [6][600/655]\tlr: 1.000e-02, eta: 9:08:58, time: 0.531, data_time: 0.006, memory: 1887, loss_cls: 0.9660, loss_bbox: 0.3718, loss_bbox_rf: 0.4856, loss: 1.8234, grad_norm: 3.0776\n",
      "2021-05-14 09:59:36,231 - mmdet - INFO - Epoch [6][650/655]\tlr: 1.000e-02, eta: 9:08:29, time: 0.532, data_time: 0.007, memory: 1887, loss_cls: 0.9506, loss_bbox: 0.3575, loss_bbox_rf: 0.4684, loss: 1.7765, grad_norm: 3.0651\n",
      "2021-05-14 09:59:38,971 - mmdet - INFO - Saving checkpoint at 6 epochs\n"
     ]
    },
    {
     "name": "stdout",
     "output_type": "stream",
     "text": [
      "[>>>>>>>>>>>>>>>>>>>>>>>>>>>>>] 655/655, 18.5 task/s, elapsed: 35s, ETA:     0s"
     ]
    },
    {
     "name": "stderr",
     "output_type": "stream",
     "text": [
      "2021-05-14 10:00:16,854 - mmdet - INFO - Evaluating bbox...\n"
     ]
    },
    {
     "name": "stdout",
     "output_type": "stream",
     "text": [
      "Loading and preparing results...\n",
      "DONE (t=0.80s)\n",
      "creating index...\n",
      "index created!\n",
      "Running per image evaluation...\n",
      "Evaluate annotation type *bbox*\n",
      "DONE (t=7.85s).\n",
      "Accumulating evaluation results...\n"
     ]
    },
    {
     "name": "stderr",
     "output_type": "stream",
     "text": [
      "2021-05-14 10:00:27,429 - mmdet - INFO - Now best checkpoint is epoch_6.pth.Best bbox_mAP_50 is 0.1400\n",
      "2021-05-14 10:00:27,439 - mmdet - INFO - Epoch(val) [6][655]\tbbox_mAP: 0.0830, bbox_mAP_50: 0.1400, bbox_mAP_75: 0.0850, bbox_mAP_s: 0.0230, bbox_mAP_m: 0.0980, bbox_mAP_l: 0.1520, bbox_mAP_copypaste: 0.083 0.140 0.085 0.023 0.098 0.152\n"
     ]
    },
    {
     "name": "stdout",
     "output_type": "stream",
     "text": [
      "DONE (t=1.77s).\n",
      "Average Precision  (AP) @[ IoU=0.50:0.95 | area=   all | maxDets=100 ] = 0.083\n",
      "Average Precision  (AP) @[ IoU=0.50      | area=   all | maxDets=1000 ] = 0.140\n",
      "Average Precision  (AP) @[ IoU=0.75      | area=   all | maxDets=1000 ] = 0.085\n",
      "Average Precision  (AP) @[ IoU=0.50:0.95 | area= small | maxDets=1000 ] = 0.023\n",
      "Average Precision  (AP) @[ IoU=0.50:0.95 | area=medium | maxDets=1000 ] = 0.098\n",
      "Average Precision  (AP) @[ IoU=0.50:0.95 | area= large | maxDets=1000 ] = 0.152\n",
      "Average Recall     (AR) @[ IoU=0.50:0.95 | area=   all | maxDets=100 ] = 0.265\n",
      "Average Recall     (AR) @[ IoU=0.50:0.95 | area=   all | maxDets=300 ] = 0.265\n",
      "Average Recall     (AR) @[ IoU=0.50:0.95 | area=   all | maxDets=1000 ] = 0.265\n",
      "Average Recall     (AR) @[ IoU=0.50:0.95 | area= small | maxDets=1000 ] = 0.062\n",
      "Average Recall     (AR) @[ IoU=0.50:0.95 | area=medium | maxDets=1000 ] = 0.235\n",
      "Average Recall     (AR) @[ IoU=0.50:0.95 | area= large | maxDets=1000 ] = 0.518\n"
     ]
    },
    {
     "name": "stderr",
     "output_type": "stream",
     "text": [
      "2021-05-14 10:00:56,668 - mmdet - INFO - Epoch [7][50/655]\tlr: 1.000e-02, eta: 9:07:57, time: 0.584, data_time: 0.051, memory: 1887, loss_cls: 0.9188, loss_bbox: 0.3568, loss_bbox_rf: 0.4679, loss: 1.7435, grad_norm: 2.7655\n",
      "2021-05-14 10:01:23,475 - mmdet - INFO - Epoch [7][100/655]\tlr: 1.000e-02, eta: 9:07:31, time: 0.536, data_time: 0.007, memory: 1887, loss_cls: 0.9933, loss_bbox: 0.3577, loss_bbox_rf: 0.4656, loss: 1.8166, grad_norm: 3.3367\n",
      "2021-05-14 10:01:50,100 - mmdet - INFO - Epoch [7][150/655]\tlr: 1.000e-02, eta: 9:07:03, time: 0.532, data_time: 0.006, memory: 1887, loss_cls: 0.9788, loss_bbox: 0.3527, loss_bbox_rf: 0.4605, loss: 1.7920, grad_norm: 3.1468\n",
      "2021-05-14 10:02:16,817 - mmdet - INFO - Epoch [7][200/655]\tlr: 1.000e-02, eta: 9:06:36, time: 0.534, data_time: 0.007, memory: 1887, loss_cls: 0.9417, loss_bbox: 0.3548, loss_bbox_rf: 0.4644, loss: 1.7609, grad_norm: 2.9686\n",
      "2021-05-14 10:02:43,413 - mmdet - INFO - Epoch [7][250/655]\tlr: 1.000e-02, eta: 9:06:08, time: 0.532, data_time: 0.007, memory: 1887, loss_cls: 0.9617, loss_bbox: 0.3467, loss_bbox_rf: 0.4502, loss: 1.7586, grad_norm: 3.2167\n",
      "2021-05-14 10:03:10,048 - mmdet - INFO - Epoch [7][300/655]\tlr: 1.000e-02, eta: 9:05:40, time: 0.533, data_time: 0.007, memory: 1887, loss_cls: 0.9347, loss_bbox: 0.3411, loss_bbox_rf: 0.4453, loss: 1.7211, grad_norm: 3.1143\n",
      "2021-05-14 10:03:36,683 - mmdet - INFO - Epoch [7][350/655]\tlr: 1.000e-02, eta: 9:05:12, time: 0.533, data_time: 0.007, memory: 1887, loss_cls: 1.0475, loss_bbox: 0.3140, loss_bbox_rf: 0.4091, loss: 1.7706, grad_norm: 3.5794\n",
      "2021-05-14 10:04:03,375 - mmdet - INFO - Epoch [7][400/655]\tlr: 1.000e-02, eta: 9:04:45, time: 0.534, data_time: 0.007, memory: 1887, loss_cls: 0.9687, loss_bbox: 0.3640, loss_bbox_rf: 0.4720, loss: 1.8046, grad_norm: 3.3445\n",
      "2021-05-14 10:04:30,117 - mmdet - INFO - Epoch [7][450/655]\tlr: 1.000e-02, eta: 9:04:18, time: 0.535, data_time: 0.007, memory: 1887, loss_cls: 0.9779, loss_bbox: 0.3449, loss_bbox_rf: 0.4506, loss: 1.7734, grad_norm: 3.1198\n",
      "2021-05-14 10:04:56,717 - mmdet - INFO - Epoch [7][500/655]\tlr: 1.000e-02, eta: 9:03:50, time: 0.532, data_time: 0.007, memory: 1887, loss_cls: 0.9750, loss_bbox: 0.3408, loss_bbox_rf: 0.4414, loss: 1.7573, grad_norm: 3.1483\n",
      "2021-05-14 10:05:23,328 - mmdet - INFO - Epoch [7][550/655]\tlr: 1.000e-02, eta: 9:03:22, time: 0.532, data_time: 0.007, memory: 1887, loss_cls: 0.9782, loss_bbox: 0.3382, loss_bbox_rf: 0.4373, loss: 1.7537, grad_norm: 3.3035\n",
      "2021-05-14 10:05:50,013 - mmdet - INFO - Epoch [7][600/655]\tlr: 1.000e-02, eta: 9:02:55, time: 0.534, data_time: 0.007, memory: 1887, loss_cls: 1.0072, loss_bbox: 0.3313, loss_bbox_rf: 0.4316, loss: 1.7701, grad_norm: 3.4610\n",
      "2021-05-14 10:06:16,561 - mmdet - INFO - Epoch [7][650/655]\tlr: 1.000e-02, eta: 9:02:26, time: 0.531, data_time: 0.007, memory: 1887, loss_cls: 1.0450, loss_bbox: 0.3392, loss_bbox_rf: 0.4405, loss: 1.8247, grad_norm: 3.2443\n",
      "2021-05-14 10:06:19,295 - mmdet - INFO - Saving checkpoint at 7 epochs\n"
     ]
    },
    {
     "name": "stdout",
     "output_type": "stream",
     "text": [
      "[>>>>>>>>>>>>>>>>>>>>>>>>>>>>>] 655/655, 18.2 task/s, elapsed: 36s, ETA:     0s"
     ]
    },
    {
     "name": "stderr",
     "output_type": "stream",
     "text": [
      "2021-05-14 10:06:57,888 - mmdet - INFO - Evaluating bbox...\n"
     ]
    },
    {
     "name": "stdout",
     "output_type": "stream",
     "text": [
      "Loading and preparing results...\n",
      "DONE (t=1.36s)\n",
      "creating index...\n",
      "index created!\n",
      "Running per image evaluation...\n",
      "Evaluate annotation type *bbox*\n",
      "DONE (t=7.71s).\n",
      "Accumulating evaluation results...\n"
     ]
    },
    {
     "name": "stderr",
     "output_type": "stream",
     "text": [
      "2021-05-14 10:07:08,995 - mmdet - INFO - Now best checkpoint is epoch_7.pth.Best bbox_mAP_50 is 0.1600\n",
      "2021-05-14 10:07:09,003 - mmdet - INFO - Epoch(val) [7][655]\tbbox_mAP: 0.0980, bbox_mAP_50: 0.1600, bbox_mAP_75: 0.1010, bbox_mAP_s: 0.0280, bbox_mAP_m: 0.0990, bbox_mAP_l: 0.1810, bbox_mAP_copypaste: 0.098 0.160 0.101 0.028 0.099 0.181\n"
     ]
    },
    {
     "name": "stdout",
     "output_type": "stream",
     "text": [
      "DONE (t=1.86s).\n",
      "Average Precision  (AP) @[ IoU=0.50:0.95 | area=   all | maxDets=100 ] = 0.098\n",
      "Average Precision  (AP) @[ IoU=0.50      | area=   all | maxDets=1000 ] = 0.160\n",
      "Average Precision  (AP) @[ IoU=0.75      | area=   all | maxDets=1000 ] = 0.101\n",
      "Average Precision  (AP) @[ IoU=0.50:0.95 | area= small | maxDets=1000 ] = 0.028\n",
      "Average Precision  (AP) @[ IoU=0.50:0.95 | area=medium | maxDets=1000 ] = 0.099\n",
      "Average Precision  (AP) @[ IoU=0.50:0.95 | area= large | maxDets=1000 ] = 0.181\n",
      "Average Recall     (AR) @[ IoU=0.50:0.95 | area=   all | maxDets=100 ] = 0.277\n",
      "Average Recall     (AR) @[ IoU=0.50:0.95 | area=   all | maxDets=300 ] = 0.277\n",
      "Average Recall     (AR) @[ IoU=0.50:0.95 | area=   all | maxDets=1000 ] = 0.277\n",
      "Average Recall     (AR) @[ IoU=0.50:0.95 | area= small | maxDets=1000 ] = 0.062\n",
      "Average Recall     (AR) @[ IoU=0.50:0.95 | area=medium | maxDets=1000 ] = 0.257\n",
      "Average Recall     (AR) @[ IoU=0.50:0.95 | area= large | maxDets=1000 ] = 0.512\n"
     ]
    },
    {
     "name": "stderr",
     "output_type": "stream",
     "text": [
      "2021-05-14 10:07:38,041 - mmdet - INFO - Epoch [8][50/655]\tlr: 1.000e-02, eta: 9:01:52, time: 0.581, data_time: 0.052, memory: 1887, loss_cls: 0.9501, loss_bbox: 0.3369, loss_bbox_rf: 0.4366, loss: 1.7235, grad_norm: 3.0481\n",
      "2021-05-14 10:08:04,714 - mmdet - INFO - Epoch [8][100/655]\tlr: 1.000e-02, eta: 9:01:25, time: 0.533, data_time: 0.007, memory: 1887, loss_cls: 0.9719, loss_bbox: 0.3284, loss_bbox_rf: 0.4249, loss: 1.7252, grad_norm: 3.3651\n",
      "2021-05-14 10:08:31,325 - mmdet - INFO - Epoch [8][150/655]\tlr: 1.000e-02, eta: 9:00:57, time: 0.532, data_time: 0.007, memory: 1887, loss_cls: 0.9755, loss_bbox: 0.3397, loss_bbox_rf: 0.4332, loss: 1.7484, grad_norm: 3.4654\n",
      "2021-05-14 10:08:57,979 - mmdet - INFO - Epoch [8][200/655]\tlr: 1.000e-02, eta: 9:00:29, time: 0.533, data_time: 0.007, memory: 1887, loss_cls: 0.9101, loss_bbox: 0.3264, loss_bbox_rf: 0.4216, loss: 1.6581, grad_norm: 3.0074\n",
      "2021-05-14 10:09:24,733 - mmdet - INFO - Epoch [8][250/655]\tlr: 1.000e-02, eta: 9:00:03, time: 0.535, data_time: 0.007, memory: 1887, loss_cls: 0.9493, loss_bbox: 0.3417, loss_bbox_rf: 0.4441, loss: 1.7352, grad_norm: 3.3276\n",
      "2021-05-14 10:09:51,364 - mmdet - INFO - Epoch [8][300/655]\tlr: 1.000e-02, eta: 8:59:36, time: 0.533, data_time: 0.007, memory: 1887, loss_cls: 0.9794, loss_bbox: 0.3394, loss_bbox_rf: 0.4357, loss: 1.7545, grad_norm: 3.6537\n",
      "2021-05-14 10:10:18,027 - mmdet - INFO - Epoch [8][350/655]\tlr: 1.000e-02, eta: 8:59:08, time: 0.533, data_time: 0.007, memory: 1887, loss_cls: 0.9825, loss_bbox: 0.3304, loss_bbox_rf: 0.4266, loss: 1.7396, grad_norm: 3.3598\n",
      "2021-05-14 10:10:44,642 - mmdet - INFO - Epoch [8][400/655]\tlr: 1.000e-02, eta: 8:58:40, time: 0.532, data_time: 0.007, memory: 1887, loss_cls: 1.0236, loss_bbox: 0.3256, loss_bbox_rf: 0.4242, loss: 1.7734, grad_norm: 3.2413\n",
      "2021-05-14 10:11:11,362 - mmdet - INFO - Epoch [8][450/655]\tlr: 1.000e-02, eta: 8:58:14, time: 0.534, data_time: 0.007, memory: 1887, loss_cls: 0.9412, loss_bbox: 0.3408, loss_bbox_rf: 0.4436, loss: 1.7257, grad_norm: 2.9371\n",
      "2021-05-14 10:11:38,233 - mmdet - INFO - Epoch [8][500/655]\tlr: 1.000e-02, eta: 8:57:49, time: 0.537, data_time: 0.007, memory: 1887, loss_cls: 0.9458, loss_bbox: 0.3395, loss_bbox_rf: 0.4416, loss: 1.7268, grad_norm: 3.1434\n",
      "2021-05-14 10:12:04,936 - mmdet - INFO - Epoch [8][550/655]\tlr: 1.000e-02, eta: 8:57:22, time: 0.534, data_time: 0.007, memory: 1887, loss_cls: 0.9552, loss_bbox: 0.3325, loss_bbox_rf: 0.4320, loss: 1.7197, grad_norm: 3.1108\n",
      "2021-05-14 10:12:31,958 - mmdet - INFO - Epoch [8][600/655]\tlr: 1.000e-02, eta: 8:56:59, time: 0.540, data_time: 0.007, memory: 1887, loss_cls: 0.9857, loss_bbox: 0.3216, loss_bbox_rf: 0.4143, loss: 1.7216, grad_norm: 3.5558\n",
      "2021-05-14 10:12:58,534 - mmdet - INFO - Epoch [8][650/655]\tlr: 1.000e-02, eta: 8:56:31, time: 0.532, data_time: 0.007, memory: 1887, loss_cls: 1.0302, loss_bbox: 0.3520, loss_bbox_rf: 0.4548, loss: 1.8370, grad_norm: 3.3190\n",
      "2021-05-14 10:13:01,266 - mmdet - INFO - Saving checkpoint at 8 epochs\n"
     ]
    },
    {
     "name": "stdout",
     "output_type": "stream",
     "text": [
      "[>>>>>>>>>>>>>>>>>>>>>>>>>>>>>] 655/655, 17.8 task/s, elapsed: 37s, ETA:     0s"
     ]
    },
    {
     "name": "stderr",
     "output_type": "stream",
     "text": [
      "2021-05-14 10:13:40,419 - mmdet - INFO - Evaluating bbox...\n"
     ]
    },
    {
     "name": "stdout",
     "output_type": "stream",
     "text": [
      "Loading and preparing results...\n",
      "DONE (t=1.20s)\n",
      "creating index...\n",
      "index created!\n",
      "Running per image evaluation...\n",
      "Evaluate annotation type *bbox*\n",
      "DONE (t=6.73s).\n",
      "Accumulating evaluation results...\n"
     ]
    },
    {
     "name": "stderr",
     "output_type": "stream",
     "text": [
      "2021-05-14 10:13:50,202 - mmdet - INFO - Epoch(val) [8][655]\tbbox_mAP: 0.0860, bbox_mAP_50: 0.1380, bbox_mAP_75: 0.0890, bbox_mAP_s: 0.0250, bbox_mAP_m: 0.0820, bbox_mAP_l: 0.1620, bbox_mAP_copypaste: 0.086 0.138 0.089 0.025 0.082 0.162\n"
     ]
    },
    {
     "name": "stdout",
     "output_type": "stream",
     "text": [
      "DONE (t=1.70s).\n",
      "Average Precision  (AP) @[ IoU=0.50:0.95 | area=   all | maxDets=100 ] = 0.086\n",
      "Average Precision  (AP) @[ IoU=0.50      | area=   all | maxDets=1000 ] = 0.138\n",
      "Average Precision  (AP) @[ IoU=0.75      | area=   all | maxDets=1000 ] = 0.089\n",
      "Average Precision  (AP) @[ IoU=0.50:0.95 | area= small | maxDets=1000 ] = 0.025\n",
      "Average Precision  (AP) @[ IoU=0.50:0.95 | area=medium | maxDets=1000 ] = 0.082\n",
      "Average Precision  (AP) @[ IoU=0.50:0.95 | area= large | maxDets=1000 ] = 0.162\n",
      "Average Recall     (AR) @[ IoU=0.50:0.95 | area=   all | maxDets=100 ] = 0.287\n",
      "Average Recall     (AR) @[ IoU=0.50:0.95 | area=   all | maxDets=300 ] = 0.287\n",
      "Average Recall     (AR) @[ IoU=0.50:0.95 | area=   all | maxDets=1000 ] = 0.287\n",
      "Average Recall     (AR) @[ IoU=0.50:0.95 | area= small | maxDets=1000 ] = 0.061\n",
      "Average Recall     (AR) @[ IoU=0.50:0.95 | area=medium | maxDets=1000 ] = 0.242\n",
      "Average Recall     (AR) @[ IoU=0.50:0.95 | area= large | maxDets=1000 ] = 0.601\n"
     ]
    },
    {
     "name": "stderr",
     "output_type": "stream",
     "text": [
      "2021-05-14 10:14:19,267 - mmdet - INFO - Epoch [9][50/655]\tlr: 1.000e-02, eta: 8:55:58, time: 0.581, data_time: 0.051, memory: 1887, loss_cls: 0.9852, loss_bbox: 0.3204, loss_bbox_rf: 0.4128, loss: 1.7184, grad_norm: 3.6657\n",
      "2021-05-14 10:14:46,027 - mmdet - INFO - Epoch [9][100/655]\tlr: 1.000e-02, eta: 8:55:32, time: 0.535, data_time: 0.007, memory: 1887, loss_cls: 0.9969, loss_bbox: 0.3284, loss_bbox_rf: 0.4186, loss: 1.7439, grad_norm: 3.3273\n",
      "2021-05-14 10:15:12,781 - mmdet - INFO - Epoch [9][150/655]\tlr: 1.000e-02, eta: 8:55:06, time: 0.535, data_time: 0.007, memory: 1887, loss_cls: 0.9261, loss_bbox: 0.3390, loss_bbox_rf: 0.4369, loss: 1.7020, grad_norm: 2.9874\n",
      "2021-05-14 10:15:39,422 - mmdet - INFO - Epoch [9][200/655]\tlr: 1.000e-02, eta: 8:54:38, time: 0.533, data_time: 0.007, memory: 1887, loss_cls: 0.9130, loss_bbox: 0.3319, loss_bbox_rf: 0.4316, loss: 1.6765, grad_norm: 3.1396\n",
      "2021-05-14 10:16:06,039 - mmdet - INFO - Epoch [9][250/655]\tlr: 1.000e-02, eta: 8:54:11, time: 0.532, data_time: 0.007, memory: 1887, loss_cls: 0.9439, loss_bbox: 0.3185, loss_bbox_rf: 0.4059, loss: 1.6684, grad_norm: 3.4760\n",
      "2021-05-14 10:16:32,653 - mmdet - INFO - Epoch [9][300/655]\tlr: 1.000e-02, eta: 8:53:43, time: 0.532, data_time: 0.007, memory: 1887, loss_cls: 0.9273, loss_bbox: 0.3495, loss_bbox_rf: 0.4479, loss: 1.7247, grad_norm: 3.2256\n",
      "2021-05-14 10:16:59,265 - mmdet - INFO - Epoch [9][350/655]\tlr: 1.000e-02, eta: 8:53:15, time: 0.532, data_time: 0.007, memory: 1887, loss_cls: 0.9946, loss_bbox: 0.3190, loss_bbox_rf: 0.4086, loss: 1.7222, grad_norm: 3.7227\n",
      "2021-05-14 10:17:25,871 - mmdet - INFO - Epoch [9][400/655]\tlr: 1.000e-02, eta: 8:52:48, time: 0.532, data_time: 0.007, memory: 1887, loss_cls: 0.9539, loss_bbox: 0.3149, loss_bbox_rf: 0.4077, loss: 1.6765, grad_norm: 2.9988\n",
      "2021-05-14 10:17:52,455 - mmdet - INFO - Epoch [9][450/655]\tlr: 1.000e-02, eta: 8:52:20, time: 0.532, data_time: 0.006, memory: 1887, loss_cls: 0.9319, loss_bbox: 0.3252, loss_bbox_rf: 0.4125, loss: 1.6696, grad_norm: 3.4465\n",
      "2021-05-14 10:18:19,135 - mmdet - INFO - Epoch [9][500/655]\tlr: 1.000e-02, eta: 8:51:53, time: 0.534, data_time: 0.007, memory: 1887, loss_cls: 1.0133, loss_bbox: 0.3264, loss_bbox_rf: 0.4175, loss: 1.7571, grad_norm: 3.6632\n",
      "2021-05-14 10:18:45,985 - mmdet - INFO - Epoch [9][550/655]\tlr: 1.000e-02, eta: 8:51:28, time: 0.537, data_time: 0.007, memory: 1887, loss_cls: 1.0629, loss_bbox: 0.3128, loss_bbox_rf: 0.4004, loss: 1.7761, grad_norm: 3.4749\n",
      "2021-05-14 10:19:12,789 - mmdet - INFO - Epoch [9][600/655]\tlr: 1.000e-02, eta: 8:51:02, time: 0.536, data_time: 0.007, memory: 1887, loss_cls: 0.9286, loss_bbox: 0.3193, loss_bbox_rf: 0.4091, loss: 1.6570, grad_norm: 3.2343\n",
      "2021-05-14 10:19:39,606 - mmdet - INFO - Epoch [9][650/655]\tlr: 1.000e-02, eta: 8:50:36, time: 0.536, data_time: 0.007, memory: 1887, loss_cls: 0.9492, loss_bbox: 0.3129, loss_bbox_rf: 0.4020, loss: 1.6641, grad_norm: 3.2922\n",
      "2021-05-14 10:19:42,400 - mmdet - INFO - Saving checkpoint at 9 epochs\n"
     ]
    },
    {
     "name": "stdout",
     "output_type": "stream",
     "text": [
      "[>>>>>>>>>>>>>>>>>>>>>>>>>>>>>] 655/655, 18.3 task/s, elapsed: 36s, ETA:     0s"
     ]
    },
    {
     "name": "stderr",
     "output_type": "stream",
     "text": [
      "2021-05-14 10:20:20,576 - mmdet - INFO - Evaluating bbox...\n"
     ]
    },
    {
     "name": "stdout",
     "output_type": "stream",
     "text": [
      "Loading and preparing results...\n",
      "DONE (t=1.25s)\n",
      "creating index...\n",
      "index created!\n",
      "Running per image evaluation...\n",
      "Evaluate annotation type *bbox*\n",
      "DONE (t=8.41s).\n",
      "Accumulating evaluation results...\n"
     ]
    },
    {
     "name": "stderr",
     "output_type": "stream",
     "text": [
      "2021-05-14 10:20:32,133 - mmdet - INFO - Now best checkpoint is epoch_9.pth.Best bbox_mAP_50 is 0.1690\n",
      "2021-05-14 10:20:32,142 - mmdet - INFO - Epoch(val) [9][655]\tbbox_mAP: 0.1040, bbox_mAP_50: 0.1690, bbox_mAP_75: 0.1060, bbox_mAP_s: 0.0280, bbox_mAP_m: 0.1080, bbox_mAP_l: 0.1920, bbox_mAP_copypaste: 0.104 0.169 0.106 0.028 0.108 0.192\n"
     ]
    },
    {
     "name": "stdout",
     "output_type": "stream",
     "text": [
      "DONE (t=1.74s).\n",
      "Average Precision  (AP) @[ IoU=0.50:0.95 | area=   all | maxDets=100 ] = 0.104\n",
      "Average Precision  (AP) @[ IoU=0.50      | area=   all | maxDets=1000 ] = 0.169\n",
      "Average Precision  (AP) @[ IoU=0.75      | area=   all | maxDets=1000 ] = 0.106\n",
      "Average Precision  (AP) @[ IoU=0.50:0.95 | area= small | maxDets=1000 ] = 0.028\n",
      "Average Precision  (AP) @[ IoU=0.50:0.95 | area=medium | maxDets=1000 ] = 0.108\n",
      "Average Precision  (AP) @[ IoU=0.50:0.95 | area= large | maxDets=1000 ] = 0.192\n",
      "Average Recall     (AR) @[ IoU=0.50:0.95 | area=   all | maxDets=100 ] = 0.300\n",
      "Average Recall     (AR) @[ IoU=0.50:0.95 | area=   all | maxDets=300 ] = 0.300\n",
      "Average Recall     (AR) @[ IoU=0.50:0.95 | area=   all | maxDets=1000 ] = 0.300\n",
      "Average Recall     (AR) @[ IoU=0.50:0.95 | area= small | maxDets=1000 ] = 0.062\n",
      "Average Recall     (AR) @[ IoU=0.50:0.95 | area=medium | maxDets=1000 ] = 0.282\n",
      "Average Recall     (AR) @[ IoU=0.50:0.95 | area= large | maxDets=1000 ] = 0.595\n"
     ]
    },
    {
     "name": "stderr",
     "output_type": "stream",
     "text": [
      "2021-05-14 10:21:01,089 - mmdet - INFO - Epoch [10][50/655]\tlr: 1.000e-02, eta: 8:50:03, time: 0.579, data_time: 0.051, memory: 1887, loss_cls: 0.9707, loss_bbox: 0.2956, loss_bbox_rf: 0.3774, loss: 1.6437, grad_norm: 3.6410\n",
      "2021-05-14 10:21:27,822 - mmdet - INFO - Epoch [10][100/655]\tlr: 1.000e-02, eta: 8:49:36, time: 0.535, data_time: 0.007, memory: 1887, loss_cls: 0.9473, loss_bbox: 0.3214, loss_bbox_rf: 0.4137, loss: 1.6824, grad_norm: 3.3465\n",
      "2021-05-14 10:21:54,588 - mmdet - INFO - Epoch [10][150/655]\tlr: 1.000e-02, eta: 8:49:10, time: 0.535, data_time: 0.007, memory: 1887, loss_cls: 0.9318, loss_bbox: 0.3182, loss_bbox_rf: 0.4098, loss: 1.6598, grad_norm: 3.1661\n",
      "2021-05-14 10:22:21,381 - mmdet - INFO - Epoch [10][200/655]\tlr: 1.000e-02, eta: 8:48:44, time: 0.536, data_time: 0.007, memory: 1887, loss_cls: 0.9233, loss_bbox: 0.3153, loss_bbox_rf: 0.4049, loss: 1.6435, grad_norm: 3.3665\n",
      "2021-05-14 10:22:47,941 - mmdet - INFO - Epoch [10][250/655]\tlr: 1.000e-02, eta: 8:48:16, time: 0.531, data_time: 0.007, memory: 1887, loss_cls: 0.9322, loss_bbox: 0.3276, loss_bbox_rf: 0.4218, loss: 1.6817, grad_norm: 3.4983\n",
      "2021-05-14 10:23:14,608 - mmdet - INFO - Epoch [10][300/655]\tlr: 1.000e-02, eta: 8:47:49, time: 0.533, data_time: 0.007, memory: 1887, loss_cls: 0.9474, loss_bbox: 0.3202, loss_bbox_rf: 0.4137, loss: 1.6813, grad_norm: 3.1649\n",
      "2021-05-14 10:23:41,311 - mmdet - INFO - Epoch [10][350/655]\tlr: 1.000e-02, eta: 8:47:23, time: 0.534, data_time: 0.007, memory: 1887, loss_cls: 0.9077, loss_bbox: 0.3237, loss_bbox_rf: 0.4155, loss: 1.6469, grad_norm: 3.0957\n",
      "2021-05-14 10:24:08,101 - mmdet - INFO - Epoch [10][400/655]\tlr: 1.000e-02, eta: 8:46:57, time: 0.536, data_time: 0.007, memory: 1887, loss_cls: 0.9143, loss_bbox: 0.2972, loss_bbox_rf: 0.3821, loss: 1.5936, grad_norm: 3.2013\n",
      "2021-05-14 10:24:34,804 - mmdet - INFO - Epoch [10][450/655]\tlr: 1.000e-02, eta: 8:46:30, time: 0.534, data_time: 0.007, memory: 1887, loss_cls: 0.8953, loss_bbox: 0.3186, loss_bbox_rf: 0.4092, loss: 1.6231, grad_norm: 3.3305\n",
      "2021-05-14 10:25:01,541 - mmdet - INFO - Epoch [10][500/655]\tlr: 1.000e-02, eta: 8:46:04, time: 0.535, data_time: 0.007, memory: 1887, loss_cls: 0.9580, loss_bbox: 0.3037, loss_bbox_rf: 0.3882, loss: 1.6499, grad_norm: 3.5436\n",
      "2021-05-14 10:25:28,386 - mmdet - INFO - Epoch [10][550/655]\tlr: 1.000e-02, eta: 8:45:38, time: 0.537, data_time: 0.007, memory: 1887, loss_cls: 0.9315, loss_bbox: 0.3201, loss_bbox_rf: 0.4138, loss: 1.6655, grad_norm: 3.1672\n",
      "2021-05-14 10:25:55,075 - mmdet - INFO - Epoch [10][600/655]\tlr: 1.000e-02, eta: 8:45:11, time: 0.534, data_time: 0.007, memory: 1887, loss_cls: 0.9595, loss_bbox: 0.3122, loss_bbox_rf: 0.3952, loss: 1.6669, grad_norm: 3.5476\n",
      "2021-05-14 10:26:21,900 - mmdet - INFO - Epoch [10][650/655]\tlr: 1.000e-02, eta: 8:44:46, time: 0.536, data_time: 0.007, memory: 1887, loss_cls: 0.9499, loss_bbox: 0.3149, loss_bbox_rf: 0.3937, loss: 1.6585, grad_norm: 3.5538\n",
      "2021-05-14 10:26:24,660 - mmdet - INFO - Saving checkpoint at 10 epochs\n"
     ]
    },
    {
     "name": "stdout",
     "output_type": "stream",
     "text": [
      "[>>>>>>>>>>>>>>>>>>>>>>>>>>>>>] 655/655, 18.6 task/s, elapsed: 35s, ETA:     0s"
     ]
    },
    {
     "name": "stderr",
     "output_type": "stream",
     "text": [
      "2021-05-14 10:27:01,885 - mmdet - INFO - Evaluating bbox...\n"
     ]
    },
    {
     "name": "stdout",
     "output_type": "stream",
     "text": [
      "Loading and preparing results...\n",
      "DONE (t=1.28s)\n",
      "creating index...\n",
      "index created!\n",
      "Running per image evaluation...\n",
      "Evaluate annotation type *bbox*\n",
      "DONE (t=8.19s).\n",
      "Accumulating evaluation results...\n"
     ]
    },
    {
     "name": "stderr",
     "output_type": "stream",
     "text": [
      "2021-05-14 10:27:13,252 - mmdet - INFO - Now best checkpoint is epoch_10.pth.Best bbox_mAP_50 is 0.1810\n",
      "2021-05-14 10:27:13,260 - mmdet - INFO - Epoch(val) [10][655]\tbbox_mAP: 0.1140, bbox_mAP_50: 0.1810, bbox_mAP_75: 0.1180, bbox_mAP_s: 0.0340, bbox_mAP_m: 0.1290, bbox_mAP_l: 0.2070, bbox_mAP_copypaste: 0.114 0.181 0.118 0.034 0.129 0.207\n"
     ]
    },
    {
     "name": "stdout",
     "output_type": "stream",
     "text": [
      "DONE (t=1.75s).\n",
      "Average Precision  (AP) @[ IoU=0.50:0.95 | area=   all | maxDets=100 ] = 0.114\n",
      "Average Precision  (AP) @[ IoU=0.50      | area=   all | maxDets=1000 ] = 0.181\n",
      "Average Precision  (AP) @[ IoU=0.75      | area=   all | maxDets=1000 ] = 0.118\n",
      "Average Precision  (AP) @[ IoU=0.50:0.95 | area= small | maxDets=1000 ] = 0.034\n",
      "Average Precision  (AP) @[ IoU=0.50:0.95 | area=medium | maxDets=1000 ] = 0.129\n",
      "Average Precision  (AP) @[ IoU=0.50:0.95 | area= large | maxDets=1000 ] = 0.207\n",
      "Average Recall     (AR) @[ IoU=0.50:0.95 | area=   all | maxDets=100 ] = 0.341\n",
      "Average Recall     (AR) @[ IoU=0.50:0.95 | area=   all | maxDets=300 ] = 0.341\n",
      "Average Recall     (AR) @[ IoU=0.50:0.95 | area=   all | maxDets=1000 ] = 0.341\n",
      "Average Recall     (AR) @[ IoU=0.50:0.95 | area= small | maxDets=1000 ] = 0.082\n",
      "Average Recall     (AR) @[ IoU=0.50:0.95 | area=medium | maxDets=1000 ] = 0.314\n",
      "Average Recall     (AR) @[ IoU=0.50:0.95 | area= large | maxDets=1000 ] = 0.641\n"
     ]
    },
    {
     "name": "stderr",
     "output_type": "stream",
     "text": [
      "2021-05-14 10:27:42,158 - mmdet - INFO - Epoch [11][50/655]\tlr: 1.000e-02, eta: 8:44:12, time: 0.578, data_time: 0.052, memory: 1887, loss_cls: 0.9441, loss_bbox: 0.2915, loss_bbox_rf: 0.3739, loss: 1.6096, grad_norm: 3.3588\n",
      "2021-05-14 10:28:08,762 - mmdet - INFO - Epoch [11][100/655]\tlr: 1.000e-02, eta: 8:43:45, time: 0.532, data_time: 0.007, memory: 1887, loss_cls: 0.9511, loss_bbox: 0.3146, loss_bbox_rf: 0.4022, loss: 1.6679, grad_norm: 3.6373\n",
      "2021-05-14 10:28:35,470 - mmdet - INFO - Epoch [11][150/655]\tlr: 1.000e-02, eta: 8:43:18, time: 0.534, data_time: 0.007, memory: 1887, loss_cls: 0.9688, loss_bbox: 0.2996, loss_bbox_rf: 0.3836, loss: 1.6520, grad_norm: 3.5313\n",
      "2021-05-14 10:29:02,192 - mmdet - INFO - Epoch [11][200/655]\tlr: 1.000e-02, eta: 8:42:51, time: 0.534, data_time: 0.007, memory: 1887, loss_cls: 0.9803, loss_bbox: 0.2969, loss_bbox_rf: 0.3744, loss: 1.6516, grad_norm: 4.0813\n",
      "2021-05-14 10:29:28,918 - mmdet - INFO - Epoch [11][250/655]\tlr: 1.000e-02, eta: 8:42:25, time: 0.535, data_time: 0.007, memory: 1887, loss_cls: 0.9660, loss_bbox: 0.3202, loss_bbox_rf: 0.4042, loss: 1.6903, grad_norm: 3.6970\n",
      "2021-05-14 10:29:55,586 - mmdet - INFO - Epoch [11][300/655]\tlr: 1.000e-02, eta: 8:41:58, time: 0.533, data_time: 0.007, memory: 1887, loss_cls: 0.9635, loss_bbox: 0.3076, loss_bbox_rf: 0.3949, loss: 1.6660, grad_norm: 3.3613\n",
      "2021-05-14 10:30:22,298 - mmdet - INFO - Epoch [11][350/655]\tlr: 1.000e-02, eta: 8:41:31, time: 0.534, data_time: 0.007, memory: 1887, loss_cls: 0.9967, loss_bbox: 0.3043, loss_bbox_rf: 0.3841, loss: 1.6851, grad_norm: 3.7568\n",
      "2021-05-14 10:30:49,018 - mmdet - INFO - Epoch [11][400/655]\tlr: 1.000e-02, eta: 8:41:05, time: 0.534, data_time: 0.007, memory: 1887, loss_cls: 0.8897, loss_bbox: 0.3224, loss_bbox_rf: 0.4105, loss: 1.6226, grad_norm: 3.1336\n",
      "2021-05-14 10:31:15,651 - mmdet - INFO - Epoch [11][450/655]\tlr: 1.000e-02, eta: 8:40:38, time: 0.533, data_time: 0.007, memory: 1887, loss_cls: 0.8927, loss_bbox: 0.3017, loss_bbox_rf: 0.3854, loss: 1.5799, grad_norm: 3.2277\n",
      "2021-05-14 10:31:42,356 - mmdet - INFO - Epoch [11][500/655]\tlr: 1.000e-02, eta: 8:40:11, time: 0.534, data_time: 0.007, memory: 1887, loss_cls: 0.9457, loss_bbox: 0.2956, loss_bbox_rf: 0.3793, loss: 1.6206, grad_norm: 3.4514\n",
      "2021-05-14 10:32:09,045 - mmdet - INFO - Epoch [11][550/655]\tlr: 1.000e-02, eta: 8:39:44, time: 0.534, data_time: 0.007, memory: 1887, loss_cls: 0.9478, loss_bbox: 0.3052, loss_bbox_rf: 0.3891, loss: 1.6421, grad_norm: 3.3735\n",
      "2021-05-14 10:32:35,625 - mmdet - INFO - Epoch [11][600/655]\tlr: 1.000e-02, eta: 8:39:16, time: 0.532, data_time: 0.006, memory: 1887, loss_cls: 0.9708, loss_bbox: 0.3050, loss_bbox_rf: 0.3905, loss: 1.6663, grad_norm: 3.6267\n",
      "2021-05-14 10:33:02,254 - mmdet - INFO - Epoch [11][650/655]\tlr: 1.000e-02, eta: 8:38:49, time: 0.533, data_time: 0.007, memory: 1887, loss_cls: 0.8996, loss_bbox: 0.3068, loss_bbox_rf: 0.3954, loss: 1.6017, grad_norm: 3.3559\n",
      "2021-05-14 10:33:05,023 - mmdet - INFO - Saving checkpoint at 11 epochs\n"
     ]
    },
    {
     "name": "stdout",
     "output_type": "stream",
     "text": [
      "[>>>>>>>>>>>>>>>>>>>>>>>>>>>>>] 655/655, 18.4 task/s, elapsed: 36s, ETA:     0s"
     ]
    },
    {
     "name": "stderr",
     "output_type": "stream",
     "text": [
      "2021-05-14 10:33:42,697 - mmdet - INFO - Evaluating bbox...\n"
     ]
    },
    {
     "name": "stdout",
     "output_type": "stream",
     "text": [
      "Loading and preparing results...\n",
      "DONE (t=1.23s)\n",
      "creating index...\n",
      "index created!\n",
      "Running per image evaluation...\n",
      "Evaluate annotation type *bbox*\n",
      "DONE (t=8.43s).\n",
      "Accumulating evaluation results...\n"
     ]
    },
    {
     "name": "stderr",
     "output_type": "stream",
     "text": [
      "2021-05-14 10:33:54,345 - mmdet - INFO - Now best checkpoint is epoch_11.pth.Best bbox_mAP_50 is 0.1940\n",
      "2021-05-14 10:33:54,353 - mmdet - INFO - Epoch(val) [11][655]\tbbox_mAP: 0.1220, bbox_mAP_50: 0.1940, bbox_mAP_75: 0.1280, bbox_mAP_s: 0.0370, bbox_mAP_m: 0.1140, bbox_mAP_l: 0.2730, bbox_mAP_copypaste: 0.122 0.194 0.128 0.037 0.114 0.273\n"
     ]
    },
    {
     "name": "stdout",
     "output_type": "stream",
     "text": [
      "DONE (t=1.82s).\n",
      "Average Precision  (AP) @[ IoU=0.50:0.95 | area=   all | maxDets=100 ] = 0.122\n",
      "Average Precision  (AP) @[ IoU=0.50      | area=   all | maxDets=1000 ] = 0.194\n",
      "Average Precision  (AP) @[ IoU=0.75      | area=   all | maxDets=1000 ] = 0.128\n",
      "Average Precision  (AP) @[ IoU=0.50:0.95 | area= small | maxDets=1000 ] = 0.037\n",
      "Average Precision  (AP) @[ IoU=0.50:0.95 | area=medium | maxDets=1000 ] = 0.114\n",
      "Average Precision  (AP) @[ IoU=0.50:0.95 | area= large | maxDets=1000 ] = 0.273\n",
      "Average Recall     (AR) @[ IoU=0.50:0.95 | area=   all | maxDets=100 ] = 0.294\n",
      "Average Recall     (AR) @[ IoU=0.50:0.95 | area=   all | maxDets=300 ] = 0.294\n",
      "Average Recall     (AR) @[ IoU=0.50:0.95 | area=   all | maxDets=1000 ] = 0.294\n",
      "Average Recall     (AR) @[ IoU=0.50:0.95 | area= small | maxDets=1000 ] = 0.071\n",
      "Average Recall     (AR) @[ IoU=0.50:0.95 | area=medium | maxDets=1000 ] = 0.266\n",
      "Average Recall     (AR) @[ IoU=0.50:0.95 | area= large | maxDets=1000 ] = 0.582\n"
     ]
    },
    {
     "name": "stderr",
     "output_type": "stream",
     "text": [
      "2021-05-14 10:34:23,208 - mmdet - INFO - Epoch [12][50/655]\tlr: 1.000e-02, eta: 8:38:16, time: 0.577, data_time: 0.051, memory: 1887, loss_cls: 0.9308, loss_bbox: 0.2912, loss_bbox_rf: 0.3711, loss: 1.5931, grad_norm: 3.6573\n",
      "2021-05-14 10:34:49,969 - mmdet - INFO - Epoch [12][100/655]\tlr: 1.000e-02, eta: 8:37:49, time: 0.535, data_time: 0.007, memory: 1887, loss_cls: 0.8974, loss_bbox: 0.3016, loss_bbox_rf: 0.3864, loss: 1.5855, grad_norm: 3.3964\n",
      "2021-05-14 10:35:16,646 - mmdet - INFO - Epoch [12][150/655]\tlr: 1.000e-02, eta: 8:37:23, time: 0.534, data_time: 0.007, memory: 1887, loss_cls: 0.8956, loss_bbox: 0.2868, loss_bbox_rf: 0.3620, loss: 1.5444, grad_norm: 3.5311\n",
      "2021-05-14 10:35:43,208 - mmdet - INFO - Epoch [12][200/655]\tlr: 1.000e-02, eta: 8:36:55, time: 0.531, data_time: 0.007, memory: 1887, loss_cls: 0.9186, loss_bbox: 0.2933, loss_bbox_rf: 0.3625, loss: 1.5744, grad_norm: 3.7731\n",
      "2021-05-14 10:36:09,961 - mmdet - INFO - Epoch [12][250/655]\tlr: 1.000e-02, eta: 8:36:29, time: 0.535, data_time: 0.007, memory: 1887, loss_cls: 0.9258, loss_bbox: 0.3197, loss_bbox_rf: 0.4056, loss: 1.6511, grad_norm: 3.5882\n",
      "2021-05-14 10:36:36,484 - mmdet - INFO - Epoch [12][300/655]\tlr: 1.000e-02, eta: 8:36:01, time: 0.530, data_time: 0.007, memory: 1887, loss_cls: 0.9291, loss_bbox: 0.3141, loss_bbox_rf: 0.4011, loss: 1.6443, grad_norm: 3.5801\n",
      "2021-05-14 10:37:03,244 - mmdet - INFO - Epoch [12][350/655]\tlr: 1.000e-02, eta: 8:35:34, time: 0.535, data_time: 0.007, memory: 1887, loss_cls: 0.9179, loss_bbox: 0.3153, loss_bbox_rf: 0.4014, loss: 1.6347, grad_norm: 3.3564\n",
      "2021-05-14 10:37:29,977 - mmdet - INFO - Epoch [12][400/655]\tlr: 1.000e-02, eta: 8:35:08, time: 0.535, data_time: 0.007, memory: 1887, loss_cls: 0.9344, loss_bbox: 0.2969, loss_bbox_rf: 0.3797, loss: 1.6110, grad_norm: 3.5199\n",
      "2021-05-14 10:37:56,772 - mmdet - INFO - Epoch [12][450/655]\tlr: 1.000e-02, eta: 8:34:42, time: 0.536, data_time: 0.007, memory: 1887, loss_cls: 0.9249, loss_bbox: 0.2872, loss_bbox_rf: 0.3674, loss: 1.5795, grad_norm: 3.1650\n",
      "2021-05-14 10:38:23,437 - mmdet - INFO - Epoch [12][500/655]\tlr: 1.000e-02, eta: 8:34:15, time: 0.533, data_time: 0.007, memory: 1887, loss_cls: 0.8775, loss_bbox: 0.2935, loss_bbox_rf: 0.3761, loss: 1.5471, grad_norm: 3.3561\n",
      "2021-05-14 10:38:50,120 - mmdet - INFO - Epoch [12][550/655]\tlr: 1.000e-02, eta: 8:33:48, time: 0.534, data_time: 0.007, memory: 1887, loss_cls: 0.8974, loss_bbox: 0.3024, loss_bbox_rf: 0.3824, loss: 1.5823, grad_norm: 3.2997\n",
      "2021-05-14 10:39:16,964 - mmdet - INFO - Epoch [12][600/655]\tlr: 1.000e-02, eta: 8:33:23, time: 0.537, data_time: 0.007, memory: 1887, loss_cls: 0.9139, loss_bbox: 0.2850, loss_bbox_rf: 0.3656, loss: 1.5645, grad_norm: 4.0263\n",
      "2021-05-14 10:39:44,480 - mmdet - INFO - Epoch [12][650/655]\tlr: 1.000e-02, eta: 8:33:02, time: 0.550, data_time: 0.007, memory: 1887, loss_cls: 0.9250, loss_bbox: 0.2943, loss_bbox_rf: 0.3786, loss: 1.5979, grad_norm: 3.4652\n",
      "2021-05-14 10:39:47,232 - mmdet - INFO - Saving checkpoint at 12 epochs\n"
     ]
    },
    {
     "name": "stdout",
     "output_type": "stream",
     "text": [
      "[>>>>>>>>>>>>>>>>>>>>>>>>>>>>>] 655/655, 18.5 task/s, elapsed: 35s, ETA:     0s"
     ]
    },
    {
     "name": "stderr",
     "output_type": "stream",
     "text": [
      "2021-05-14 10:40:25,101 - mmdet - INFO - Evaluating bbox...\n"
     ]
    },
    {
     "name": "stdout",
     "output_type": "stream",
     "text": [
      "Loading and preparing results...\n",
      "DONE (t=0.77s)\n",
      "creating index...\n",
      "index created!\n",
      "Running per image evaluation...\n",
      "Evaluate annotation type *bbox*\n",
      "DONE (t=7.77s).\n",
      "Accumulating evaluation results...\n"
     ]
    },
    {
     "name": "stderr",
     "output_type": "stream",
     "text": [
      "2021-05-14 10:40:35,520 - mmdet - INFO - Epoch(val) [12][655]\tbbox_mAP: 0.1150, bbox_mAP_50: 0.1850, bbox_mAP_75: 0.1190, bbox_mAP_s: 0.0320, bbox_mAP_m: 0.1350, bbox_mAP_l: 0.2140, bbox_mAP_copypaste: 0.115 0.185 0.119 0.032 0.135 0.214\n"
     ]
    },
    {
     "name": "stdout",
     "output_type": "stream",
     "text": [
      "DONE (t=1.70s).\n",
      "Average Precision  (AP) @[ IoU=0.50:0.95 | area=   all | maxDets=100 ] = 0.115\n",
      "Average Precision  (AP) @[ IoU=0.50      | area=   all | maxDets=1000 ] = 0.185\n",
      "Average Precision  (AP) @[ IoU=0.75      | area=   all | maxDets=1000 ] = 0.119\n",
      "Average Precision  (AP) @[ IoU=0.50:0.95 | area= small | maxDets=1000 ] = 0.032\n",
      "Average Precision  (AP) @[ IoU=0.50:0.95 | area=medium | maxDets=1000 ] = 0.135\n",
      "Average Precision  (AP) @[ IoU=0.50:0.95 | area= large | maxDets=1000 ] = 0.214\n",
      "Average Recall     (AR) @[ IoU=0.50:0.95 | area=   all | maxDets=100 ] = 0.341\n",
      "Average Recall     (AR) @[ IoU=0.50:0.95 | area=   all | maxDets=300 ] = 0.341\n",
      "Average Recall     (AR) @[ IoU=0.50:0.95 | area=   all | maxDets=1000 ] = 0.341\n",
      "Average Recall     (AR) @[ IoU=0.50:0.95 | area= small | maxDets=1000 ] = 0.084\n",
      "Average Recall     (AR) @[ IoU=0.50:0.95 | area=medium | maxDets=1000 ] = 0.309\n",
      "Average Recall     (AR) @[ IoU=0.50:0.95 | area= large | maxDets=1000 ] = 0.663\n"
     ]
    },
    {
     "name": "stderr",
     "output_type": "stream",
     "text": [
      "2021-05-14 10:41:04,583 - mmdet - INFO - Epoch [13][50/655]\tlr: 1.000e-02, eta: 8:32:30, time: 0.581, data_time: 0.052, memory: 1887, loss_cls: 0.8962, loss_bbox: 0.2986, loss_bbox_rf: 0.3757, loss: 1.5705, grad_norm: 3.6368\n",
      "2021-05-14 10:41:31,294 - mmdet - INFO - Epoch [13][100/655]\tlr: 1.000e-02, eta: 8:32:04, time: 0.534, data_time: 0.007, memory: 1887, loss_cls: 0.8937, loss_bbox: 0.3094, loss_bbox_rf: 0.3934, loss: 1.5965, grad_norm: 3.4179\n",
      "2021-05-14 10:41:58,037 - mmdet - INFO - Epoch [13][150/655]\tlr: 1.000e-02, eta: 8:31:38, time: 0.535, data_time: 0.007, memory: 1887, loss_cls: 0.8659, loss_bbox: 0.2865, loss_bbox_rf: 0.3667, loss: 1.5190, grad_norm: 3.2267\n",
      "2021-05-14 10:42:24,742 - mmdet - INFO - Epoch [13][200/655]\tlr: 1.000e-02, eta: 8:31:11, time: 0.534, data_time: 0.007, memory: 1887, loss_cls: 0.9373, loss_bbox: 0.2827, loss_bbox_rf: 0.3602, loss: 1.5802, grad_norm: 3.8751\n",
      "2021-05-14 10:42:51,367 - mmdet - INFO - Epoch [13][250/655]\tlr: 1.000e-02, eta: 8:30:44, time: 0.533, data_time: 0.007, memory: 1887, loss_cls: 0.9051, loss_bbox: 0.2810, loss_bbox_rf: 0.3541, loss: 1.5402, grad_norm: 3.7051\n",
      "2021-05-14 10:43:18,091 - mmdet - INFO - Epoch [13][300/655]\tlr: 1.000e-02, eta: 8:30:17, time: 0.534, data_time: 0.007, memory: 1887, loss_cls: 0.8961, loss_bbox: 0.2832, loss_bbox_rf: 0.3599, loss: 1.5392, grad_norm: 3.3539\n",
      "2021-05-14 10:43:44,861 - mmdet - INFO - Epoch [13][350/655]\tlr: 1.000e-02, eta: 8:29:51, time: 0.535, data_time: 0.007, memory: 1887, loss_cls: 0.8723, loss_bbox: 0.3036, loss_bbox_rf: 0.3838, loss: 1.5597, grad_norm: 3.4168\n",
      "2021-05-14 10:44:12,702 - mmdet - INFO - Epoch [13][400/655]\tlr: 1.000e-02, eta: 8:29:32, time: 0.557, data_time: 0.008, memory: 1887, loss_cls: 0.9725, loss_bbox: 0.2917, loss_bbox_rf: 0.3671, loss: 1.6313, grad_norm: 3.9219\n",
      "2021-05-14 10:44:39,573 - mmdet - INFO - Epoch [13][450/655]\tlr: 1.000e-02, eta: 8:29:07, time: 0.537, data_time: 0.007, memory: 1887, loss_cls: 0.9688, loss_bbox: 0.3025, loss_bbox_rf: 0.3855, loss: 1.6568, grad_norm: 3.6526\n",
      "2021-05-14 10:45:06,361 - mmdet - INFO - Epoch [13][500/655]\tlr: 1.000e-02, eta: 8:28:40, time: 0.536, data_time: 0.007, memory: 1887, loss_cls: 0.9340, loss_bbox: 0.2943, loss_bbox_rf: 0.3713, loss: 1.5996, grad_norm: 3.5495\n",
      "2021-05-14 10:45:33,117 - mmdet - INFO - Epoch [13][550/655]\tlr: 1.000e-02, eta: 8:28:14, time: 0.535, data_time: 0.007, memory: 1887, loss_cls: 0.9275, loss_bbox: 0.2843, loss_bbox_rf: 0.3600, loss: 1.5718, grad_norm: 3.6444\n",
      "2021-05-14 10:45:59,654 - mmdet - INFO - Epoch [13][600/655]\tlr: 1.000e-02, eta: 8:27:46, time: 0.531, data_time: 0.006, memory: 1887, loss_cls: 0.8826, loss_bbox: 0.2912, loss_bbox_rf: 0.3651, loss: 1.5389, grad_norm: 3.7060\n",
      "2021-05-14 10:46:26,426 - mmdet - INFO - Epoch [13][650/655]\tlr: 1.000e-02, eta: 8:27:20, time: 0.535, data_time: 0.007, memory: 1887, loss_cls: 0.8995, loss_bbox: 0.2975, loss_bbox_rf: 0.3720, loss: 1.5690, grad_norm: 3.6415\n",
      "2021-05-14 10:46:29,202 - mmdet - INFO - Saving checkpoint at 13 epochs\n"
     ]
    },
    {
     "name": "stdout",
     "output_type": "stream",
     "text": [
      "[>>>>>>>>>>>>>>>>>>>>>>>>>>>>>] 655/655, 18.8 task/s, elapsed: 35s, ETA:     0s"
     ]
    },
    {
     "name": "stderr",
     "output_type": "stream",
     "text": [
      "2021-05-14 10:47:06,502 - mmdet - INFO - Evaluating bbox...\n"
     ]
    },
    {
     "name": "stdout",
     "output_type": "stream",
     "text": [
      "Loading and preparing results...\n",
      "DONE (t=1.28s)\n",
      "creating index...\n",
      "index created!\n",
      "Running per image evaluation...\n",
      "Evaluate annotation type *bbox*\n",
      "DONE (t=7.06s).\n",
      "Accumulating evaluation results...\n"
     ]
    },
    {
     "name": "stderr",
     "output_type": "stream",
     "text": [
      "2021-05-14 10:47:16,710 - mmdet - INFO - Now best checkpoint is epoch_13.pth.Best bbox_mAP_50 is 0.2120\n",
      "2021-05-14 10:47:16,717 - mmdet - INFO - Epoch(val) [13][655]\tbbox_mAP: 0.1350, bbox_mAP_50: 0.2120, bbox_mAP_75: 0.1400, bbox_mAP_s: 0.0360, bbox_mAP_m: 0.1380, bbox_mAP_l: 0.2650, bbox_mAP_copypaste: 0.135 0.212 0.140 0.036 0.138 0.265\n"
     ]
    },
    {
     "name": "stdout",
     "output_type": "stream",
     "text": [
      "DONE (t=1.72s).\n",
      "Average Precision  (AP) @[ IoU=0.50:0.95 | area=   all | maxDets=100 ] = 0.135\n",
      "Average Precision  (AP) @[ IoU=0.50      | area=   all | maxDets=1000 ] = 0.212\n",
      "Average Precision  (AP) @[ IoU=0.75      | area=   all | maxDets=1000 ] = 0.140\n",
      "Average Precision  (AP) @[ IoU=0.50:0.95 | area= small | maxDets=1000 ] = 0.036\n",
      "Average Precision  (AP) @[ IoU=0.50:0.95 | area=medium | maxDets=1000 ] = 0.138\n",
      "Average Precision  (AP) @[ IoU=0.50:0.95 | area= large | maxDets=1000 ] = 0.265\n",
      "Average Recall     (AR) @[ IoU=0.50:0.95 | area=   all | maxDets=100 ] = 0.350\n",
      "Average Recall     (AR) @[ IoU=0.50:0.95 | area=   all | maxDets=300 ] = 0.350\n",
      "Average Recall     (AR) @[ IoU=0.50:0.95 | area=   all | maxDets=1000 ] = 0.350\n",
      "Average Recall     (AR) @[ IoU=0.50:0.95 | area= small | maxDets=1000 ] = 0.081\n",
      "Average Recall     (AR) @[ IoU=0.50:0.95 | area=medium | maxDets=1000 ] = 0.322\n",
      "Average Recall     (AR) @[ IoU=0.50:0.95 | area= large | maxDets=1000 ] = 0.675\n"
     ]
    },
    {
     "name": "stderr",
     "output_type": "stream",
     "text": [
      "2021-05-14 10:47:45,634 - mmdet - INFO - Epoch [14][50/655]\tlr: 1.000e-02, eta: 8:26:47, time: 0.578, data_time: 0.051, memory: 1887, loss_cls: 0.8621, loss_bbox: 0.2751, loss_bbox_rf: 0.3452, loss: 1.4824, grad_norm: 3.4786\n",
      "2021-05-14 10:48:12,434 - mmdet - INFO - Epoch [14][100/655]\tlr: 1.000e-02, eta: 8:26:21, time: 0.536, data_time: 0.007, memory: 1887, loss_cls: 0.8841, loss_bbox: 0.2933, loss_bbox_rf: 0.3698, loss: 1.5471, grad_norm: 3.5664\n",
      "2021-05-14 10:48:39,142 - mmdet - INFO - Epoch [14][150/655]\tlr: 1.000e-02, eta: 8:25:55, time: 0.534, data_time: 0.007, memory: 1887, loss_cls: 0.8739, loss_bbox: 0.2986, loss_bbox_rf: 0.3741, loss: 1.5466, grad_norm: 3.5079\n",
      "2021-05-14 10:49:05,829 - mmdet - INFO - Epoch [14][200/655]\tlr: 1.000e-02, eta: 8:25:28, time: 0.534, data_time: 0.007, memory: 1887, loss_cls: 0.8438, loss_bbox: 0.2846, loss_bbox_rf: 0.3629, loss: 1.4913, grad_norm: 3.3430\n",
      "2021-05-14 10:49:32,511 - mmdet - INFO - Epoch [14][250/655]\tlr: 1.000e-02, eta: 8:25:01, time: 0.534, data_time: 0.007, memory: 1887, loss_cls: 0.8375, loss_bbox: 0.2926, loss_bbox_rf: 0.3695, loss: 1.4997, grad_norm: 3.4628\n",
      "2021-05-14 10:49:59,241 - mmdet - INFO - Epoch [14][300/655]\tlr: 1.000e-02, eta: 8:24:34, time: 0.535, data_time: 0.007, memory: 1887, loss_cls: 0.9217, loss_bbox: 0.2856, loss_bbox_rf: 0.3608, loss: 1.5682, grad_norm: 3.9492\n",
      "2021-05-14 10:50:26,450 - mmdet - INFO - Epoch [14][350/655]\tlr: 1.000e-02, eta: 8:24:11, time: 0.544, data_time: 0.007, memory: 1887, loss_cls: 0.8623, loss_bbox: 0.2907, loss_bbox_rf: 0.3689, loss: 1.5218, grad_norm: 3.4485\n",
      "2021-05-14 10:50:53,964 - mmdet - INFO - Epoch [14][400/655]\tlr: 1.000e-02, eta: 8:23:49, time: 0.550, data_time: 0.007, memory: 1887, loss_cls: 0.8959, loss_bbox: 0.2718, loss_bbox_rf: 0.3477, loss: 1.5154, grad_norm: 3.8182\n",
      "2021-05-14 10:51:20,658 - mmdet - INFO - Epoch [14][450/655]\tlr: 1.000e-02, eta: 8:23:23, time: 0.534, data_time: 0.007, memory: 1887, loss_cls: 0.8639, loss_bbox: 0.2889, loss_bbox_rf: 0.3680, loss: 1.5207, grad_norm: 3.3559\n",
      "2021-05-14 10:51:47,393 - mmdet - INFO - Epoch [14][500/655]\tlr: 1.000e-02, eta: 8:22:56, time: 0.535, data_time: 0.007, memory: 1887, loss_cls: 0.9340, loss_bbox: 0.2885, loss_bbox_rf: 0.3662, loss: 1.5887, grad_norm: 4.2126\n",
      "2021-05-14 10:52:14,035 - mmdet - INFO - Epoch [14][550/655]\tlr: 1.000e-02, eta: 8:22:29, time: 0.533, data_time: 0.007, memory: 1887, loss_cls: 0.9455, loss_bbox: 0.2801, loss_bbox_rf: 0.3551, loss: 1.5807, grad_norm: 3.5178\n",
      "2021-05-14 10:52:40,667 - mmdet - INFO - Epoch [14][600/655]\tlr: 1.000e-02, eta: 8:22:02, time: 0.533, data_time: 0.007, memory: 1887, loss_cls: 0.8823, loss_bbox: 0.2923, loss_bbox_rf: 0.3707, loss: 1.5453, grad_norm: 3.4823\n",
      "2021-05-14 10:53:07,332 - mmdet - INFO - Epoch [14][650/655]\tlr: 1.000e-02, eta: 8:21:35, time: 0.533, data_time: 0.007, memory: 1887, loss_cls: 0.9174, loss_bbox: 0.2938, loss_bbox_rf: 0.3706, loss: 1.5819, grad_norm: 3.7843\n",
      "2021-05-14 10:53:10,118 - mmdet - INFO - Saving checkpoint at 14 epochs\n"
     ]
    },
    {
     "name": "stdout",
     "output_type": "stream",
     "text": [
      "[>>>>>>>>>>>>>>>>>>>>>>>>>>>>>] 655/655, 18.1 task/s, elapsed: 36s, ETA:     0s"
     ]
    },
    {
     "name": "stderr",
     "output_type": "stream",
     "text": [
      "2021-05-14 10:53:48,771 - mmdet - INFO - Evaluating bbox...\n"
     ]
    },
    {
     "name": "stdout",
     "output_type": "stream",
     "text": [
      "Loading and preparing results...\n",
      "DONE (t=1.23s)\n",
      "creating index...\n",
      "index created!\n",
      "Running per image evaluation...\n",
      "Evaluate annotation type *bbox*\n",
      "DONE (t=7.81s).\n",
      "Accumulating evaluation results...\n"
     ]
    },
    {
     "name": "stderr",
     "output_type": "stream",
     "text": [
      "2021-05-14 10:53:59,795 - mmdet - INFO - Epoch(val) [14][655]\tbbox_mAP: 0.1280, bbox_mAP_50: 0.2020, bbox_mAP_75: 0.1320, bbox_mAP_s: 0.0290, bbox_mAP_m: 0.1340, bbox_mAP_l: 0.2290, bbox_mAP_copypaste: 0.128 0.202 0.132 0.029 0.134 0.229\n"
     ]
    },
    {
     "name": "stdout",
     "output_type": "stream",
     "text": [
      "DONE (t=1.81s).\n",
      "Average Precision  (AP) @[ IoU=0.50:0.95 | area=   all | maxDets=100 ] = 0.128\n",
      "Average Precision  (AP) @[ IoU=0.50      | area=   all | maxDets=1000 ] = 0.202\n",
      "Average Precision  (AP) @[ IoU=0.75      | area=   all | maxDets=1000 ] = 0.132\n",
      "Average Precision  (AP) @[ IoU=0.50:0.95 | area= small | maxDets=1000 ] = 0.029\n",
      "Average Precision  (AP) @[ IoU=0.50:0.95 | area=medium | maxDets=1000 ] = 0.134\n",
      "Average Precision  (AP) @[ IoU=0.50:0.95 | area= large | maxDets=1000 ] = 0.229\n",
      "Average Recall     (AR) @[ IoU=0.50:0.95 | area=   all | maxDets=100 ] = 0.342\n",
      "Average Recall     (AR) @[ IoU=0.50:0.95 | area=   all | maxDets=300 ] = 0.342\n",
      "Average Recall     (AR) @[ IoU=0.50:0.95 | area=   all | maxDets=1000 ] = 0.342\n",
      "Average Recall     (AR) @[ IoU=0.50:0.95 | area= small | maxDets=1000 ] = 0.081\n",
      "Average Recall     (AR) @[ IoU=0.50:0.95 | area=medium | maxDets=1000 ] = 0.317\n",
      "Average Recall     (AR) @[ IoU=0.50:0.95 | area= large | maxDets=1000 ] = 0.597\n"
     ]
    },
    {
     "name": "stderr",
     "output_type": "stream",
     "text": [
      "2021-05-14 10:54:29,072 - mmdet - INFO - Epoch [15][50/655]\tlr: 1.000e-02, eta: 8:21:05, time: 0.585, data_time: 0.052, memory: 1887, loss_cls: 0.8790, loss_bbox: 0.2868, loss_bbox_rf: 0.3572, loss: 1.5230, grad_norm: 3.7359\n",
      "2021-05-14 10:54:55,716 - mmdet - INFO - Epoch [15][100/655]\tlr: 1.000e-02, eta: 8:20:37, time: 0.533, data_time: 0.007, memory: 1887, loss_cls: 0.8310, loss_bbox: 0.2676, loss_bbox_rf: 0.3400, loss: 1.4387, grad_norm: 3.4540\n",
      "2021-05-14 10:55:22,430 - mmdet - INFO - Epoch [15][150/655]\tlr: 1.000e-02, eta: 8:20:11, time: 0.534, data_time: 0.007, memory: 1887, loss_cls: 0.9234, loss_bbox: 0.2724, loss_bbox_rf: 0.3372, loss: 1.5330, grad_norm: 4.3059\n",
      "2021-05-14 10:55:49,088 - mmdet - INFO - Epoch [15][200/655]\tlr: 1.000e-02, eta: 8:19:44, time: 0.533, data_time: 0.007, memory: 1887, loss_cls: 0.8506, loss_bbox: 0.2832, loss_bbox_rf: 0.3611, loss: 1.4948, grad_norm: 3.4338\n",
      "2021-05-14 10:56:15,750 - mmdet - INFO - Epoch [15][250/655]\tlr: 1.000e-02, eta: 8:19:17, time: 0.533, data_time: 0.007, memory: 1887, loss_cls: 0.8721, loss_bbox: 0.2879, loss_bbox_rf: 0.3626, loss: 1.5226, grad_norm: 3.6888\n",
      "2021-05-14 10:56:42,470 - mmdet - INFO - Epoch [15][300/655]\tlr: 1.000e-02, eta: 8:18:50, time: 0.534, data_time: 0.007, memory: 1887, loss_cls: 0.8790, loss_bbox: 0.2778, loss_bbox_rf: 0.3532, loss: 1.5100, grad_norm: 3.5260\n",
      "2021-05-14 10:57:09,161 - mmdet - INFO - Epoch [15][350/655]\tlr: 1.000e-02, eta: 8:18:23, time: 0.534, data_time: 0.007, memory: 1887, loss_cls: 0.8672, loss_bbox: 0.2715, loss_bbox_rf: 0.3440, loss: 1.4828, grad_norm: 3.9606\n",
      "2021-05-14 10:57:35,933 - mmdet - INFO - Epoch [15][400/655]\tlr: 1.000e-02, eta: 8:17:57, time: 0.535, data_time: 0.007, memory: 1887, loss_cls: 0.8713, loss_bbox: 0.2873, loss_bbox_rf: 0.3642, loss: 1.5228, grad_norm: 3.5532\n",
      "2021-05-14 10:58:02,746 - mmdet - INFO - Epoch [15][450/655]\tlr: 1.000e-02, eta: 8:17:31, time: 0.536, data_time: 0.007, memory: 1887, loss_cls: 0.8545, loss_bbox: 0.2579, loss_bbox_rf: 0.3260, loss: 1.4384, grad_norm: 3.8430\n",
      "2021-05-14 10:58:29,613 - mmdet - INFO - Epoch [15][500/655]\tlr: 1.000e-02, eta: 8:17:05, time: 0.537, data_time: 0.007, memory: 1887, loss_cls: 0.9149, loss_bbox: 0.2723, loss_bbox_rf: 0.3457, loss: 1.5328, grad_norm: 4.0274\n",
      "2021-05-14 10:58:56,359 - mmdet - INFO - Epoch [15][550/655]\tlr: 1.000e-02, eta: 8:16:38, time: 0.535, data_time: 0.007, memory: 1887, loss_cls: 0.8991, loss_bbox: 0.2832, loss_bbox_rf: 0.3621, loss: 1.5444, grad_norm: 3.8290\n",
      "2021-05-14 10:59:23,076 - mmdet - INFO - Epoch [15][600/655]\tlr: 1.000e-02, eta: 8:16:12, time: 0.534, data_time: 0.007, memory: 1887, loss_cls: 0.9301, loss_bbox: 0.2775, loss_bbox_rf: 0.3532, loss: 1.5608, grad_norm: 3.6969\n",
      "2021-05-14 10:59:49,857 - mmdet - INFO - Epoch [15][650/655]\tlr: 1.000e-02, eta: 8:15:45, time: 0.536, data_time: 0.007, memory: 1887, loss_cls: 0.8493, loss_bbox: 0.2959, loss_bbox_rf: 0.3795, loss: 1.5247, grad_norm: 3.3479\n",
      "2021-05-14 10:59:52,621 - mmdet - INFO - Saving checkpoint at 15 epochs\n"
     ]
    },
    {
     "name": "stdout",
     "output_type": "stream",
     "text": [
      "[>>>>>>>>>>>>>>>>>>>>>>>>>>>>>] 655/655, 18.6 task/s, elapsed: 35s, ETA:     0s"
     ]
    },
    {
     "name": "stderr",
     "output_type": "stream",
     "text": [
      "2021-05-14 11:00:30,154 - mmdet - INFO - Evaluating bbox...\n"
     ]
    },
    {
     "name": "stdout",
     "output_type": "stream",
     "text": [
      "Loading and preparing results...\n",
      "DONE (t=1.19s)\n",
      "creating index...\n",
      "index created!\n",
      "Running per image evaluation...\n",
      "Evaluate annotation type *bbox*\n",
      "DONE (t=7.31s).\n",
      "Accumulating evaluation results...\n"
     ]
    },
    {
     "name": "stderr",
     "output_type": "stream",
     "text": [
      "2021-05-14 11:00:40,429 - mmdet - INFO - Now best checkpoint is epoch_15.pth.Best bbox_mAP_50 is 0.2200\n",
      "2021-05-14 11:00:40,436 - mmdet - INFO - Epoch(val) [15][655]\tbbox_mAP: 0.1420, bbox_mAP_50: 0.2200, bbox_mAP_75: 0.1480, bbox_mAP_s: 0.0330, bbox_mAP_m: 0.1300, bbox_mAP_l: 0.2850, bbox_mAP_copypaste: 0.142 0.220 0.148 0.033 0.130 0.285\n"
     ]
    },
    {
     "name": "stdout",
     "output_type": "stream",
     "text": [
      "DONE (t=1.63s).\n",
      "Average Precision  (AP) @[ IoU=0.50:0.95 | area=   all | maxDets=100 ] = 0.142\n",
      "Average Precision  (AP) @[ IoU=0.50      | area=   all | maxDets=1000 ] = 0.220\n",
      "Average Precision  (AP) @[ IoU=0.75      | area=   all | maxDets=1000 ] = 0.148\n",
      "Average Precision  (AP) @[ IoU=0.50:0.95 | area= small | maxDets=1000 ] = 0.033\n",
      "Average Precision  (AP) @[ IoU=0.50:0.95 | area=medium | maxDets=1000 ] = 0.130\n",
      "Average Precision  (AP) @[ IoU=0.50:0.95 | area= large | maxDets=1000 ] = 0.285\n",
      "Average Recall     (AR) @[ IoU=0.50:0.95 | area=   all | maxDets=100 ] = 0.353\n",
      "Average Recall     (AR) @[ IoU=0.50:0.95 | area=   all | maxDets=300 ] = 0.353\n",
      "Average Recall     (AR) @[ IoU=0.50:0.95 | area=   all | maxDets=1000 ] = 0.353\n",
      "Average Recall     (AR) @[ IoU=0.50:0.95 | area= small | maxDets=1000 ] = 0.079\n",
      "Average Recall     (AR) @[ IoU=0.50:0.95 | area=medium | maxDets=1000 ] = 0.330\n",
      "Average Recall     (AR) @[ IoU=0.50:0.95 | area= large | maxDets=1000 ] = 0.687\n"
     ]
    },
    {
     "name": "stderr",
     "output_type": "stream",
     "text": [
      "2021-05-14 11:01:09,362 - mmdet - INFO - Epoch [16][50/655]\tlr: 1.000e-02, eta: 8:15:13, time: 0.578, data_time: 0.051, memory: 1887, loss_cls: 0.8381, loss_bbox: 0.2832, loss_bbox_rf: 0.3538, loss: 1.4751, grad_norm: 4.0472\n",
      "2021-05-14 11:01:36,052 - mmdet - INFO - Epoch [16][100/655]\tlr: 1.000e-02, eta: 8:14:47, time: 0.534, data_time: 0.007, memory: 1887, loss_cls: 0.8338, loss_bbox: 0.2790, loss_bbox_rf: 0.3528, loss: 1.4655, grad_norm: 3.6181\n",
      "2021-05-14 11:02:03,014 - mmdet - INFO - Epoch [16][150/655]\tlr: 1.000e-02, eta: 8:14:21, time: 0.539, data_time: 0.007, memory: 1887, loss_cls: 0.8626, loss_bbox: 0.2683, loss_bbox_rf: 0.3381, loss: 1.4690, grad_norm: 3.7535\n",
      "2021-05-14 11:02:29,687 - mmdet - INFO - Epoch [16][200/655]\tlr: 1.000e-02, eta: 8:13:54, time: 0.533, data_time: 0.007, memory: 1887, loss_cls: 0.8716, loss_bbox: 0.2770, loss_bbox_rf: 0.3458, loss: 1.4944, grad_norm: 3.7939\n",
      "2021-05-14 11:02:56,304 - mmdet - INFO - Epoch [16][250/655]\tlr: 1.000e-02, eta: 8:13:27, time: 0.532, data_time: 0.007, memory: 1887, loss_cls: 0.8483, loss_bbox: 0.2704, loss_bbox_rf: 0.3428, loss: 1.4615, grad_norm: 3.4045\n",
      "2021-05-14 11:03:23,015 - mmdet - INFO - Epoch [16][300/655]\tlr: 1.000e-02, eta: 8:13:00, time: 0.534, data_time: 0.007, memory: 1887, loss_cls: 0.8261, loss_bbox: 0.2735, loss_bbox_rf: 0.3482, loss: 1.4477, grad_norm: 3.6167\n",
      "2021-05-14 11:03:49,759 - mmdet - INFO - Epoch [16][350/655]\tlr: 1.000e-02, eta: 8:12:34, time: 0.535, data_time: 0.007, memory: 1887, loss_cls: 0.8561, loss_bbox: 0.2773, loss_bbox_rf: 0.3537, loss: 1.4871, grad_norm: 3.7020\n",
      "2021-05-14 11:04:16,516 - mmdet - INFO - Epoch [16][400/655]\tlr: 1.000e-02, eta: 8:12:08, time: 0.535, data_time: 0.007, memory: 1887, loss_cls: 0.9043, loss_bbox: 0.2655, loss_bbox_rf: 0.3348, loss: 1.5047, grad_norm: 4.3397\n",
      "2021-05-14 11:04:43,231 - mmdet - INFO - Epoch [16][450/655]\tlr: 1.000e-02, eta: 8:11:41, time: 0.534, data_time: 0.007, memory: 1887, loss_cls: 0.8527, loss_bbox: 0.2842, loss_bbox_rf: 0.3560, loss: 1.4929, grad_norm: 3.6056\n",
      "2021-05-14 11:05:09,882 - mmdet - INFO - Epoch [16][500/655]\tlr: 1.000e-02, eta: 8:11:14, time: 0.533, data_time: 0.007, memory: 1887, loss_cls: 0.8559, loss_bbox: 0.2697, loss_bbox_rf: 0.3377, loss: 1.4633, grad_norm: 3.8336\n",
      "2021-05-14 11:05:37,103 - mmdet - INFO - Epoch [16][550/655]\tlr: 1.000e-02, eta: 8:10:50, time: 0.544, data_time: 0.007, memory: 1887, loss_cls: 0.8851, loss_bbox: 0.2727, loss_bbox_rf: 0.3451, loss: 1.5030, grad_norm: 4.0832\n",
      "2021-05-14 11:06:03,851 - mmdet - INFO - Epoch [16][600/655]\tlr: 1.000e-02, eta: 8:10:23, time: 0.535, data_time: 0.007, memory: 1887, loss_cls: 0.8667, loss_bbox: 0.2780, loss_bbox_rf: 0.3489, loss: 1.4936, grad_norm: 3.8132\n",
      "2021-05-14 11:06:30,660 - mmdet - INFO - Epoch [16][650/655]\tlr: 1.000e-02, eta: 8:09:57, time: 0.536, data_time: 0.007, memory: 1887, loss_cls: 0.8928, loss_bbox: 0.2718, loss_bbox_rf: 0.3426, loss: 1.5073, grad_norm: 3.9869\n",
      "2021-05-14 11:06:33,413 - mmdet - INFO - Saving checkpoint at 16 epochs\n"
     ]
    },
    {
     "name": "stdout",
     "output_type": "stream",
     "text": [
      "[>>>>>>>>>>>>>>>>>>>>>>>>>>>>>] 655/655, 18.3 task/s, elapsed: 36s, ETA:     0s"
     ]
    },
    {
     "name": "stderr",
     "output_type": "stream",
     "text": [
      "2021-05-14 11:07:11,743 - mmdet - INFO - Evaluating bbox...\n"
     ]
    },
    {
     "name": "stdout",
     "output_type": "stream",
     "text": [
      "Loading and preparing results...\n",
      "DONE (t=0.85s)\n",
      "creating index...\n",
      "index created!\n",
      "Running per image evaluation...\n",
      "Evaluate annotation type *bbox*\n",
      "DONE (t=8.48s).\n",
      "Accumulating evaluation results...\n"
     ]
    },
    {
     "name": "stderr",
     "output_type": "stream",
     "text": [
      "2021-05-14 11:07:23,007 - mmdet - INFO - Epoch(val) [16][655]\tbbox_mAP: 0.1390, bbox_mAP_50: 0.2180, bbox_mAP_75: 0.1420, bbox_mAP_s: 0.0410, bbox_mAP_m: 0.1420, bbox_mAP_l: 0.2580, bbox_mAP_copypaste: 0.139 0.218 0.142 0.041 0.142 0.258\n"
     ]
    },
    {
     "name": "stdout",
     "output_type": "stream",
     "text": [
      "DONE (t=1.78s).\n",
      "Average Precision  (AP) @[ IoU=0.50:0.95 | area=   all | maxDets=100 ] = 0.139\n",
      "Average Precision  (AP) @[ IoU=0.50      | area=   all | maxDets=1000 ] = 0.218\n",
      "Average Precision  (AP) @[ IoU=0.75      | area=   all | maxDets=1000 ] = 0.142\n",
      "Average Precision  (AP) @[ IoU=0.50:0.95 | area= small | maxDets=1000 ] = 0.041\n",
      "Average Precision  (AP) @[ IoU=0.50:0.95 | area=medium | maxDets=1000 ] = 0.142\n",
      "Average Precision  (AP) @[ IoU=0.50:0.95 | area= large | maxDets=1000 ] = 0.258\n",
      "Average Recall     (AR) @[ IoU=0.50:0.95 | area=   all | maxDets=100 ] = 0.334\n",
      "Average Recall     (AR) @[ IoU=0.50:0.95 | area=   all | maxDets=300 ] = 0.334\n",
      "Average Recall     (AR) @[ IoU=0.50:0.95 | area=   all | maxDets=1000 ] = 0.334\n",
      "Average Recall     (AR) @[ IoU=0.50:0.95 | area= small | maxDets=1000 ] = 0.086\n",
      "Average Recall     (AR) @[ IoU=0.50:0.95 | area=medium | maxDets=1000 ] = 0.317\n",
      "Average Recall     (AR) @[ IoU=0.50:0.95 | area= large | maxDets=1000 ] = 0.600\n"
     ]
    },
    {
     "name": "stderr",
     "output_type": "stream",
     "text": [
      "2021-05-14 11:07:52,045 - mmdet - INFO - Epoch [17][50/655]\tlr: 1.000e-02, eta: 8:09:26, time: 0.581, data_time: 0.051, memory: 1887, loss_cls: 0.8174, loss_bbox: 0.2735, loss_bbox_rf: 0.3407, loss: 1.4316, grad_norm: 3.7245\n",
      "2021-05-14 11:08:18,797 - mmdet - INFO - Epoch [17][100/655]\tlr: 1.000e-02, eta: 8:08:59, time: 0.535, data_time: 0.007, memory: 1887, loss_cls: 0.8390, loss_bbox: 0.2556, loss_bbox_rf: 0.3206, loss: 1.4152, grad_norm: 4.1434\n",
      "2021-05-14 11:08:45,534 - mmdet - INFO - Epoch [17][150/655]\tlr: 1.000e-02, eta: 8:08:33, time: 0.535, data_time: 0.007, memory: 1887, loss_cls: 0.8430, loss_bbox: 0.2766, loss_bbox_rf: 0.3492, loss: 1.4688, grad_norm: 3.8722\n",
      "2021-05-14 11:09:12,629 - mmdet - INFO - Epoch [17][200/655]\tlr: 1.000e-02, eta: 8:08:08, time: 0.542, data_time: 0.007, memory: 1887, loss_cls: 0.8347, loss_bbox: 0.2692, loss_bbox_rf: 0.3448, loss: 1.4487, grad_norm: 3.6230\n",
      "2021-05-14 11:09:39,893 - mmdet - INFO - Epoch [17][250/655]\tlr: 1.000e-02, eta: 8:07:44, time: 0.545, data_time: 0.007, memory: 1887, loss_cls: 0.8301, loss_bbox: 0.2567, loss_bbox_rf: 0.3249, loss: 1.4117, grad_norm: 3.8645\n",
      "2021-05-14 11:10:06,582 - mmdet - INFO - Epoch [17][300/655]\tlr: 1.000e-02, eta: 8:07:17, time: 0.534, data_time: 0.007, memory: 1887, loss_cls: 0.8242, loss_bbox: 0.2687, loss_bbox_rf: 0.3325, loss: 1.4254, grad_norm: 4.1075\n",
      "2021-05-14 11:10:33,275 - mmdet - INFO - Epoch [17][350/655]\tlr: 1.000e-02, eta: 8:06:50, time: 0.534, data_time: 0.007, memory: 1887, loss_cls: 0.8817, loss_bbox: 0.2688, loss_bbox_rf: 0.3396, loss: 1.4901, grad_norm: 4.1705\n",
      "2021-05-14 11:11:00,045 - mmdet - INFO - Epoch [17][400/655]\tlr: 1.000e-02, eta: 8:06:24, time: 0.535, data_time: 0.007, memory: 1887, loss_cls: 0.8381, loss_bbox: 0.2662, loss_bbox_rf: 0.3364, loss: 1.4407, grad_norm: 3.7425\n",
      "2021-05-14 11:11:26,752 - mmdet - INFO - Epoch [17][450/655]\tlr: 1.000e-02, eta: 8:05:57, time: 0.534, data_time: 0.007, memory: 1887, loss_cls: 0.8590, loss_bbox: 0.2760, loss_bbox_rf: 0.3484, loss: 1.4835, grad_norm: 3.6826\n",
      "2021-05-14 11:11:53,441 - mmdet - INFO - Epoch [17][500/655]\tlr: 1.000e-02, eta: 8:05:30, time: 0.534, data_time: 0.007, memory: 1887, loss_cls: 0.8464, loss_bbox: 0.2762, loss_bbox_rf: 0.3499, loss: 1.4725, grad_norm: 3.8666\n",
      "2021-05-14 11:12:20,676 - mmdet - INFO - Epoch [17][550/655]\tlr: 1.000e-02, eta: 8:05:06, time: 0.545, data_time: 0.007, memory: 1887, loss_cls: 0.8023, loss_bbox: 0.2791, loss_bbox_rf: 0.3538, loss: 1.4352, grad_norm: 3.6241\n",
      "2021-05-14 11:12:47,470 - mmdet - INFO - Epoch [17][600/655]\tlr: 1.000e-02, eta: 8:04:40, time: 0.536, data_time: 0.007, memory: 1887, loss_cls: 0.8630, loss_bbox: 0.2719, loss_bbox_rf: 0.3409, loss: 1.4758, grad_norm: 4.0041\n",
      "2021-05-14 11:13:14,107 - mmdet - INFO - Epoch [17][650/655]\tlr: 1.000e-02, eta: 8:04:13, time: 0.533, data_time: 0.007, memory: 1887, loss_cls: 0.8661, loss_bbox: 0.2770, loss_bbox_rf: 0.3472, loss: 1.4903, grad_norm: 3.7539\n",
      "2021-05-14 11:13:16,844 - mmdet - INFO - Saving checkpoint at 17 epochs\n"
     ]
    },
    {
     "name": "stdout",
     "output_type": "stream",
     "text": [
      "[>>>>>>>>>>>>>>>>>>>>>>>>>>>>>] 655/655, 18.6 task/s, elapsed: 35s, ETA:     0s"
     ]
    },
    {
     "name": "stderr",
     "output_type": "stream",
     "text": [
      "2021-05-14 11:13:54,009 - mmdet - INFO - Evaluating bbox...\n"
     ]
    },
    {
     "name": "stdout",
     "output_type": "stream",
     "text": [
      "Loading and preparing results...\n",
      "DONE (t=1.30s)\n",
      "creating index...\n",
      "index created!\n",
      "Running per image evaluation...\n",
      "Evaluate annotation type *bbox*\n",
      "DONE (t=6.59s).\n",
      "Accumulating evaluation results...\n"
     ]
    },
    {
     "name": "stderr",
     "output_type": "stream",
     "text": [
      "2021-05-14 11:14:03,728 - mmdet - INFO - Now best checkpoint is epoch_17.pth.Best bbox_mAP_50 is 0.2310\n",
      "2021-05-14 11:14:03,739 - mmdet - INFO - Epoch(val) [17][655]\tbbox_mAP: 0.1510, bbox_mAP_50: 0.2310, bbox_mAP_75: 0.1530, bbox_mAP_s: 0.0360, bbox_mAP_m: 0.1320, bbox_mAP_l: 0.2900, bbox_mAP_copypaste: 0.151 0.231 0.153 0.036 0.132 0.290\n"
     ]
    },
    {
     "name": "stdout",
     "output_type": "stream",
     "text": [
      "DONE (t=1.69s).\n",
      "Average Precision  (AP) @[ IoU=0.50:0.95 | area=   all | maxDets=100 ] = 0.151\n",
      "Average Precision  (AP) @[ IoU=0.50      | area=   all | maxDets=1000 ] = 0.231\n",
      "Average Precision  (AP) @[ IoU=0.75      | area=   all | maxDets=1000 ] = 0.153\n",
      "Average Precision  (AP) @[ IoU=0.50:0.95 | area= small | maxDets=1000 ] = 0.036\n",
      "Average Precision  (AP) @[ IoU=0.50:0.95 | area=medium | maxDets=1000 ] = 0.132\n",
      "Average Precision  (AP) @[ IoU=0.50:0.95 | area= large | maxDets=1000 ] = 0.290\n",
      "Average Recall     (AR) @[ IoU=0.50:0.95 | area=   all | maxDets=100 ] = 0.374\n",
      "Average Recall     (AR) @[ IoU=0.50:0.95 | area=   all | maxDets=300 ] = 0.374\n",
      "Average Recall     (AR) @[ IoU=0.50:0.95 | area=   all | maxDets=1000 ] = 0.374\n",
      "Average Recall     (AR) @[ IoU=0.50:0.95 | area= small | maxDets=1000 ] = 0.100\n",
      "Average Recall     (AR) @[ IoU=0.50:0.95 | area=medium | maxDets=1000 ] = 0.343\n",
      "Average Recall     (AR) @[ IoU=0.50:0.95 | area= large | maxDets=1000 ] = 0.677\n"
     ]
    },
    {
     "name": "stderr",
     "output_type": "stream",
     "text": [
      "2021-05-14 11:14:32,774 - mmdet - INFO - Epoch [18][50/655]\tlr: 1.000e-02, eta: 8:03:42, time: 0.580, data_time: 0.051, memory: 1887, loss_cls: 0.8393, loss_bbox: 0.2602, loss_bbox_rf: 0.3303, loss: 1.4298, grad_norm: 3.8297\n",
      "2021-05-14 11:14:59,527 - mmdet - INFO - Epoch [18][100/655]\tlr: 1.000e-02, eta: 8:03:15, time: 0.535, data_time: 0.007, memory: 1887, loss_cls: 0.8317, loss_bbox: 0.2643, loss_bbox_rf: 0.3347, loss: 1.4307, grad_norm: 3.6459\n",
      "2021-05-14 11:15:26,255 - mmdet - INFO - Epoch [18][150/655]\tlr: 1.000e-02, eta: 8:02:48, time: 0.535, data_time: 0.007, memory: 1887, loss_cls: 0.7931, loss_bbox: 0.2523, loss_bbox_rf: 0.3195, loss: 1.3648, grad_norm: 3.5235\n",
      "2021-05-14 11:15:53,168 - mmdet - INFO - Epoch [18][200/655]\tlr: 1.000e-02, eta: 8:02:23, time: 0.538, data_time: 0.007, memory: 1887, loss_cls: 0.8531, loss_bbox: 0.2607, loss_bbox_rf: 0.3328, loss: 1.4466, grad_norm: 3.8678\n",
      "2021-05-14 11:16:20,500 - mmdet - INFO - Epoch [18][250/655]\tlr: 1.000e-02, eta: 8:01:59, time: 0.547, data_time: 0.008, memory: 1887, loss_cls: 0.9073, loss_bbox: 0.2496, loss_bbox_rf: 0.3125, loss: 1.4694, grad_norm: 4.5419\n",
      "2021-05-14 11:16:47,378 - mmdet - INFO - Epoch [18][300/655]\tlr: 1.000e-02, eta: 8:01:33, time: 0.538, data_time: 0.007, memory: 1887, loss_cls: 0.8679, loss_bbox: 0.2710, loss_bbox_rf: 0.3409, loss: 1.4798, grad_norm: 4.2824\n",
      "2021-05-14 11:17:14,179 - mmdet - INFO - Epoch [18][350/655]\tlr: 1.000e-02, eta: 8:01:06, time: 0.536, data_time: 0.007, memory: 1887, loss_cls: 0.8189, loss_bbox: 0.2783, loss_bbox_rf: 0.3505, loss: 1.4478, grad_norm: 4.0097\n",
      "2021-05-14 11:17:40,779 - mmdet - INFO - Epoch [18][400/655]\tlr: 1.000e-02, eta: 8:00:39, time: 0.532, data_time: 0.007, memory: 1887, loss_cls: 0.8085, loss_bbox: 0.2704, loss_bbox_rf: 0.3418, loss: 1.4207, grad_norm: 3.7264\n",
      "2021-05-14 11:18:07,593 - mmdet - INFO - Epoch [18][450/655]\tlr: 1.000e-02, eta: 8:00:13, time: 0.536, data_time: 0.007, memory: 1887, loss_cls: 0.8134, loss_bbox: 0.2770, loss_bbox_rf: 0.3467, loss: 1.4371, grad_norm: 3.7837\n",
      "2021-05-14 11:18:34,355 - mmdet - INFO - Epoch [18][500/655]\tlr: 1.000e-02, eta: 7:59:46, time: 0.535, data_time: 0.007, memory: 1887, loss_cls: 0.8521, loss_bbox: 0.2616, loss_bbox_rf: 0.3241, loss: 1.4378, grad_norm: 4.4945\n",
      "2021-05-14 11:19:00,823 - mmdet - INFO - Epoch [18][550/655]\tlr: 1.000e-02, eta: 7:59:18, time: 0.529, data_time: 0.006, memory: 1887, loss_cls: 0.8661, loss_bbox: 0.2573, loss_bbox_rf: 0.3222, loss: 1.4457, grad_norm: 4.0083\n",
      "2021-05-14 11:19:27,506 - mmdet - INFO - Epoch [18][600/655]\tlr: 1.000e-02, eta: 7:58:52, time: 0.534, data_time: 0.007, memory: 1887, loss_cls: 0.8434, loss_bbox: 0.2577, loss_bbox_rf: 0.3216, loss: 1.4227, grad_norm: 4.2412\n",
      "2021-05-14 11:19:54,341 - mmdet - INFO - Epoch [18][650/655]\tlr: 1.000e-02, eta: 7:58:25, time: 0.537, data_time: 0.007, memory: 1887, loss_cls: 0.8419, loss_bbox: 0.2707, loss_bbox_rf: 0.3458, loss: 1.4584, grad_norm: 3.7951\n",
      "2021-05-14 11:19:57,125 - mmdet - INFO - Saving checkpoint at 18 epochs\n"
     ]
    },
    {
     "name": "stdout",
     "output_type": "stream",
     "text": [
      "[>>>>>>>>>>>>>>>>>>>>>>>>>>>>>] 655/655, 18.6 task/s, elapsed: 35s, ETA:     0s"
     ]
    },
    {
     "name": "stderr",
     "output_type": "stream",
     "text": [
      "2021-05-14 11:20:34,623 - mmdet - INFO - Evaluating bbox...\n"
     ]
    },
    {
     "name": "stdout",
     "output_type": "stream",
     "text": [
      "Loading and preparing results...\n",
      "DONE (t=1.24s)\n",
      "creating index...\n",
      "index created!\n",
      "Running per image evaluation...\n",
      "Evaluate annotation type *bbox*\n",
      "DONE (t=6.65s).\n",
      "Accumulating evaluation results...\n"
     ]
    },
    {
     "name": "stderr",
     "output_type": "stream",
     "text": [
      "2021-05-14 11:20:44,256 - mmdet - INFO - Epoch(val) [18][655]\tbbox_mAP: 0.1410, bbox_mAP_50: 0.2220, bbox_mAP_75: 0.1420, bbox_mAP_s: 0.0370, bbox_mAP_m: 0.1280, bbox_mAP_l: 0.2720, bbox_mAP_copypaste: 0.141 0.222 0.142 0.037 0.128 0.272\n"
     ]
    },
    {
     "name": "stdout",
     "output_type": "stream",
     "text": [
      "DONE (t=1.58s).\n",
      "Average Precision  (AP) @[ IoU=0.50:0.95 | area=   all | maxDets=100 ] = 0.141\n",
      "Average Precision  (AP) @[ IoU=0.50      | area=   all | maxDets=1000 ] = 0.222\n",
      "Average Precision  (AP) @[ IoU=0.75      | area=   all | maxDets=1000 ] = 0.142\n",
      "Average Precision  (AP) @[ IoU=0.50:0.95 | area= small | maxDets=1000 ] = 0.037\n",
      "Average Precision  (AP) @[ IoU=0.50:0.95 | area=medium | maxDets=1000 ] = 0.128\n",
      "Average Precision  (AP) @[ IoU=0.50:0.95 | area= large | maxDets=1000 ] = 0.272\n",
      "Average Recall     (AR) @[ IoU=0.50:0.95 | area=   all | maxDets=100 ] = 0.325\n",
      "Average Recall     (AR) @[ IoU=0.50:0.95 | area=   all | maxDets=300 ] = 0.325\n",
      "Average Recall     (AR) @[ IoU=0.50:0.95 | area=   all | maxDets=1000 ] = 0.325\n",
      "Average Recall     (AR) @[ IoU=0.50:0.95 | area= small | maxDets=1000 ] = 0.099\n",
      "Average Recall     (AR) @[ IoU=0.50:0.95 | area=medium | maxDets=1000 ] = 0.294\n",
      "Average Recall     (AR) @[ IoU=0.50:0.95 | area= large | maxDets=1000 ] = 0.648\n"
     ]
    },
    {
     "name": "stderr",
     "output_type": "stream",
     "text": [
      "2021-05-14 11:21:13,318 - mmdet - INFO - Epoch [19][50/655]\tlr: 1.000e-02, eta: 7:57:54, time: 0.581, data_time: 0.052, memory: 1887, loss_cls: 0.7826, loss_bbox: 0.2583, loss_bbox_rf: 0.3271, loss: 1.3680, grad_norm: 3.5680\n",
      "2021-05-14 11:21:40,377 - mmdet - INFO - Epoch [19][100/655]\tlr: 1.000e-02, eta: 7:57:29, time: 0.541, data_time: 0.007, memory: 1887, loss_cls: 0.8461, loss_bbox: 0.2587, loss_bbox_rf: 0.3250, loss: 1.4298, grad_norm: 4.1086\n",
      "2021-05-14 11:22:07,600 - mmdet - INFO - Epoch [19][150/655]\tlr: 1.000e-02, eta: 7:57:05, time: 0.544, data_time: 0.007, memory: 1887, loss_cls: 0.8503, loss_bbox: 0.2458, loss_bbox_rf: 0.3095, loss: 1.4056, grad_norm: 4.2540\n",
      "2021-05-14 11:22:34,467 - mmdet - INFO - Epoch [19][200/655]\tlr: 1.000e-02, eta: 7:56:39, time: 0.537, data_time: 0.007, memory: 1887, loss_cls: 0.7975, loss_bbox: 0.2532, loss_bbox_rf: 0.3216, loss: 1.3723, grad_norm: 3.7643\n",
      "2021-05-14 11:23:01,290 - mmdet - INFO - Epoch [19][250/655]\tlr: 1.000e-02, eta: 7:56:12, time: 0.536, data_time: 0.007, memory: 1887, loss_cls: 0.7966, loss_bbox: 0.2690, loss_bbox_rf: 0.3410, loss: 1.4066, grad_norm: 3.8358\n",
      "2021-05-14 11:23:28,124 - mmdet - INFO - Epoch [19][300/655]\tlr: 1.000e-02, eta: 7:55:46, time: 0.537, data_time: 0.007, memory: 1887, loss_cls: 0.8535, loss_bbox: 0.2596, loss_bbox_rf: 0.3245, loss: 1.4376, grad_norm: 4.2638\n",
      "2021-05-14 11:23:54,778 - mmdet - INFO - Epoch [19][350/655]\tlr: 1.000e-02, eta: 7:55:19, time: 0.533, data_time: 0.007, memory: 1887, loss_cls: 0.8447, loss_bbox: 0.2539, loss_bbox_rf: 0.3186, loss: 1.4172, grad_norm: 4.0973\n",
      "2021-05-14 11:24:21,533 - mmdet - INFO - Epoch [19][400/655]\tlr: 1.000e-02, eta: 7:54:53, time: 0.535, data_time: 0.007, memory: 1887, loss_cls: 0.8313, loss_bbox: 0.2692, loss_bbox_rf: 0.3389, loss: 1.4395, grad_norm: 4.0763\n",
      "2021-05-14 11:24:48,258 - mmdet - INFO - Epoch [19][450/655]\tlr: 1.000e-02, eta: 7:54:26, time: 0.534, data_time: 0.007, memory: 1887, loss_cls: 0.8709, loss_bbox: 0.2558, loss_bbox_rf: 0.3231, loss: 1.4499, grad_norm: 4.1699\n",
      "2021-05-14 11:25:14,948 - mmdet - INFO - Epoch [19][500/655]\tlr: 1.000e-02, eta: 7:53:59, time: 0.534, data_time: 0.007, memory: 1887, loss_cls: 0.8398, loss_bbox: 0.2636, loss_bbox_rf: 0.3312, loss: 1.4346, grad_norm: 4.1276\n",
      "2021-05-14 11:25:41,716 - mmdet - INFO - Epoch [19][550/655]\tlr: 1.000e-02, eta: 7:53:32, time: 0.535, data_time: 0.007, memory: 1887, loss_cls: 0.8227, loss_bbox: 0.2664, loss_bbox_rf: 0.3360, loss: 1.4252, grad_norm: 3.7646\n",
      "2021-05-14 11:26:08,517 - mmdet - INFO - Epoch [19][600/655]\tlr: 1.000e-02, eta: 7:53:06, time: 0.536, data_time: 0.007, memory: 1887, loss_cls: 0.8271, loss_bbox: 0.2598, loss_bbox_rf: 0.3270, loss: 1.4139, grad_norm: 3.9469\n",
      "2021-05-14 11:26:35,221 - mmdet - INFO - Epoch [19][650/655]\tlr: 1.000e-02, eta: 7:52:39, time: 0.534, data_time: 0.007, memory: 1887, loss_cls: 0.8203, loss_bbox: 0.2665, loss_bbox_rf: 0.3326, loss: 1.4194, grad_norm: 3.9752\n",
      "2021-05-14 11:26:37,961 - mmdet - INFO - Saving checkpoint at 19 epochs\n"
     ]
    },
    {
     "name": "stdout",
     "output_type": "stream",
     "text": [
      "[>>>>>>>>>>>>>>>>>>>>>>>>>>>>>] 655/655, 18.4 task/s, elapsed: 36s, ETA:     0s"
     ]
    },
    {
     "name": "stderr",
     "output_type": "stream",
     "text": [
      "2021-05-14 11:27:16,064 - mmdet - INFO - Evaluating bbox...\n"
     ]
    },
    {
     "name": "stdout",
     "output_type": "stream",
     "text": [
      "Loading and preparing results...\n",
      "DONE (t=1.31s)\n",
      "creating index...\n",
      "index created!\n",
      "Running per image evaluation...\n",
      "Evaluate annotation type *bbox*\n",
      "DONE (t=7.03s).\n",
      "Accumulating evaluation results...\n"
     ]
    },
    {
     "name": "stderr",
     "output_type": "stream",
     "text": [
      "2021-05-14 11:27:26,306 - mmdet - INFO - Now best checkpoint is epoch_19.pth.Best bbox_mAP_50 is 0.2330\n",
      "2021-05-14 11:27:26,317 - mmdet - INFO - Epoch(val) [19][655]\tbbox_mAP: 0.1490, bbox_mAP_50: 0.2330, bbox_mAP_75: 0.1480, bbox_mAP_s: 0.0430, bbox_mAP_m: 0.1450, bbox_mAP_l: 0.2790, bbox_mAP_copypaste: 0.149 0.233 0.148 0.043 0.145 0.279\n"
     ]
    },
    {
     "name": "stdout",
     "output_type": "stream",
     "text": [
      "DONE (t=1.74s).\n",
      "Average Precision  (AP) @[ IoU=0.50:0.95 | area=   all | maxDets=100 ] = 0.149\n",
      "Average Precision  (AP) @[ IoU=0.50      | area=   all | maxDets=1000 ] = 0.233\n",
      "Average Precision  (AP) @[ IoU=0.75      | area=   all | maxDets=1000 ] = 0.148\n",
      "Average Precision  (AP) @[ IoU=0.50:0.95 | area= small | maxDets=1000 ] = 0.043\n",
      "Average Precision  (AP) @[ IoU=0.50:0.95 | area=medium | maxDets=1000 ] = 0.145\n",
      "Average Precision  (AP) @[ IoU=0.50:0.95 | area= large | maxDets=1000 ] = 0.279\n",
      "Average Recall     (AR) @[ IoU=0.50:0.95 | area=   all | maxDets=100 ] = 0.324\n",
      "Average Recall     (AR) @[ IoU=0.50:0.95 | area=   all | maxDets=300 ] = 0.324\n",
      "Average Recall     (AR) @[ IoU=0.50:0.95 | area=   all | maxDets=1000 ] = 0.324\n",
      "Average Recall     (AR) @[ IoU=0.50:0.95 | area= small | maxDets=1000 ] = 0.096\n",
      "Average Recall     (AR) @[ IoU=0.50:0.95 | area=medium | maxDets=1000 ] = 0.300\n",
      "Average Recall     (AR) @[ IoU=0.50:0.95 | area= large | maxDets=1000 ] = 0.548\n"
     ]
    },
    {
     "name": "stderr",
     "output_type": "stream",
     "text": [
      "2021-05-14 11:27:55,378 - mmdet - INFO - Epoch [20][50/655]\tlr: 1.000e-02, eta: 7:52:08, time: 0.581, data_time: 0.052, memory: 1887, loss_cls: 0.7957, loss_bbox: 0.2577, loss_bbox_rf: 0.3259, loss: 1.3793, grad_norm: 3.6826\n",
      "2021-05-14 11:28:22,146 - mmdet - INFO - Epoch [20][100/655]\tlr: 1.000e-02, eta: 7:51:42, time: 0.535, data_time: 0.007, memory: 1887, loss_cls: 0.7908, loss_bbox: 0.2444, loss_bbox_rf: 0.3091, loss: 1.3443, grad_norm: 4.1531\n",
      "2021-05-14 11:28:48,779 - mmdet - INFO - Epoch [20][150/655]\tlr: 1.000e-02, eta: 7:51:15, time: 0.533, data_time: 0.007, memory: 1887, loss_cls: 0.8148, loss_bbox: 0.2554, loss_bbox_rf: 0.3254, loss: 1.3956, grad_norm: 4.0192\n",
      "2021-05-14 11:29:15,617 - mmdet - INFO - Epoch [20][200/655]\tlr: 1.000e-02, eta: 7:50:48, time: 0.537, data_time: 0.007, memory: 1887, loss_cls: 0.8245, loss_bbox: 0.2549, loss_bbox_rf: 0.3229, loss: 1.4023, grad_norm: 4.2443\n",
      "2021-05-14 11:29:42,254 - mmdet - INFO - Epoch [20][250/655]\tlr: 1.000e-02, eta: 7:50:21, time: 0.533, data_time: 0.007, memory: 1887, loss_cls: 0.8447, loss_bbox: 0.2554, loss_bbox_rf: 0.3238, loss: 1.4240, grad_norm: 3.9441\n",
      "2021-05-14 11:30:09,011 - mmdet - INFO - Epoch [20][300/655]\tlr: 1.000e-02, eta: 7:49:55, time: 0.535, data_time: 0.007, memory: 1887, loss_cls: 0.8124, loss_bbox: 0.2573, loss_bbox_rf: 0.3202, loss: 1.3900, grad_norm: 4.2395\n",
      "2021-05-14 11:30:35,613 - mmdet - INFO - Epoch [20][350/655]\tlr: 1.000e-02, eta: 7:49:28, time: 0.532, data_time: 0.007, memory: 1887, loss_cls: 0.8070, loss_bbox: 0.2616, loss_bbox_rf: 0.3263, loss: 1.3949, grad_norm: 4.1056\n",
      "2021-05-14 11:31:02,531 - mmdet - INFO - Epoch [20][400/655]\tlr: 1.000e-02, eta: 7:49:02, time: 0.538, data_time: 0.007, memory: 1887, loss_cls: 0.7978, loss_bbox: 0.2509, loss_bbox_rf: 0.3135, loss: 1.3622, grad_norm: 4.0662\n",
      "2021-05-14 11:31:29,501 - mmdet - INFO - Epoch [20][450/655]\tlr: 1.000e-02, eta: 7:48:36, time: 0.539, data_time: 0.007, memory: 1887, loss_cls: 0.8180, loss_bbox: 0.2763, loss_bbox_rf: 0.3468, loss: 1.4412, grad_norm: 3.8822\n",
      "2021-05-14 11:31:56,256 - mmdet - INFO - Epoch [20][500/655]\tlr: 1.000e-02, eta: 7:48:09, time: 0.535, data_time: 0.007, memory: 1887, loss_cls: 0.7948, loss_bbox: 0.2515, loss_bbox_rf: 0.3108, loss: 1.3572, grad_norm: 4.1955\n",
      "2021-05-14 11:32:22,996 - mmdet - INFO - Epoch [20][550/655]\tlr: 1.000e-02, eta: 7:47:43, time: 0.535, data_time: 0.007, memory: 1887, loss_cls: 0.7730, loss_bbox: 0.2530, loss_bbox_rf: 0.3156, loss: 1.3417, grad_norm: 4.1301\n",
      "2021-05-14 11:32:50,354 - mmdet - INFO - Epoch [20][600/655]\tlr: 1.000e-02, eta: 7:47:18, time: 0.547, data_time: 0.007, memory: 1887, loss_cls: 0.8538, loss_bbox: 0.2813, loss_bbox_rf: 0.3541, loss: 1.4893, grad_norm: 4.3651\n",
      "2021-05-14 11:33:17,071 - mmdet - INFO - Epoch [20][650/655]\tlr: 1.000e-02, eta: 7:46:52, time: 0.534, data_time: 0.007, memory: 1887, loss_cls: 0.8067, loss_bbox: 0.2617, loss_bbox_rf: 0.3312, loss: 1.3997, grad_norm: 3.6923\n",
      "2021-05-14 11:33:19,827 - mmdet - INFO - Saving checkpoint at 20 epochs\n"
     ]
    },
    {
     "name": "stdout",
     "output_type": "stream",
     "text": [
      "[>>>>>>>>>>>>>>>>>>>>>>>>>>>>>] 655/655, 18.7 task/s, elapsed: 35s, ETA:     0s"
     ]
    },
    {
     "name": "stderr",
     "output_type": "stream",
     "text": [
      "2021-05-14 11:33:56,750 - mmdet - INFO - Evaluating bbox...\n"
     ]
    },
    {
     "name": "stdout",
     "output_type": "stream",
     "text": [
      "Loading and preparing results...\n",
      "DONE (t=1.29s)\n",
      "creating index...\n",
      "index created!\n",
      "Running per image evaluation...\n",
      "Evaluate annotation type *bbox*\n",
      "DONE (t=7.80s).\n",
      "Accumulating evaluation results...\n"
     ]
    },
    {
     "name": "stderr",
     "output_type": "stream",
     "text": [
      "2021-05-14 11:34:07,694 - mmdet - INFO - Epoch(val) [20][655]\tbbox_mAP: 0.1490, bbox_mAP_50: 0.2280, bbox_mAP_75: 0.1540, bbox_mAP_s: 0.0330, bbox_mAP_m: 0.1310, bbox_mAP_l: 0.3110, bbox_mAP_copypaste: 0.149 0.228 0.154 0.033 0.131 0.311\n"
     ]
    },
    {
     "name": "stdout",
     "output_type": "stream",
     "text": [
      "DONE (t=1.70s).\n",
      "Average Precision  (AP) @[ IoU=0.50:0.95 | area=   all | maxDets=100 ] = 0.149\n",
      "Average Precision  (AP) @[ IoU=0.50      | area=   all | maxDets=1000 ] = 0.228\n",
      "Average Precision  (AP) @[ IoU=0.75      | area=   all | maxDets=1000 ] = 0.154\n",
      "Average Precision  (AP) @[ IoU=0.50:0.95 | area= small | maxDets=1000 ] = 0.033\n",
      "Average Precision  (AP) @[ IoU=0.50:0.95 | area=medium | maxDets=1000 ] = 0.131\n",
      "Average Precision  (AP) @[ IoU=0.50:0.95 | area= large | maxDets=1000 ] = 0.311\n",
      "Average Recall     (AR) @[ IoU=0.50:0.95 | area=   all | maxDets=100 ] = 0.334\n",
      "Average Recall     (AR) @[ IoU=0.50:0.95 | area=   all | maxDets=300 ] = 0.334\n",
      "Average Recall     (AR) @[ IoU=0.50:0.95 | area=   all | maxDets=1000 ] = 0.334\n",
      "Average Recall     (AR) @[ IoU=0.50:0.95 | area= small | maxDets=1000 ] = 0.092\n",
      "Average Recall     (AR) @[ IoU=0.50:0.95 | area=medium | maxDets=1000 ] = 0.302\n",
      "Average Recall     (AR) @[ IoU=0.50:0.95 | area= large | maxDets=1000 ] = 0.643\n"
     ]
    },
    {
     "name": "stderr",
     "output_type": "stream",
     "text": [
      "2021-05-14 11:34:36,678 - mmdet - INFO - Epoch [21][50/655]\tlr: 1.000e-02, eta: 7:46:21, time: 0.579, data_time: 0.052, memory: 1887, loss_cls: 0.8358, loss_bbox: 0.2583, loss_bbox_rf: 0.3225, loss: 1.4165, grad_norm: 4.5094\n",
      "2021-05-14 11:35:03,367 - mmdet - INFO - Epoch [21][100/655]\tlr: 1.000e-02, eta: 7:45:54, time: 0.534, data_time: 0.007, memory: 1887, loss_cls: 0.8483, loss_bbox: 0.2626, loss_bbox_rf: 0.3341, loss: 1.4450, grad_norm: 4.0129\n",
      "2021-05-14 11:35:30,202 - mmdet - INFO - Epoch [21][150/655]\tlr: 1.000e-02, eta: 7:45:27, time: 0.537, data_time: 0.007, memory: 1887, loss_cls: 0.8521, loss_bbox: 0.2563, loss_bbox_rf: 0.3220, loss: 1.4303, grad_norm: 4.5233\n",
      "2021-05-14 11:35:56,887 - mmdet - INFO - Epoch [21][200/655]\tlr: 1.000e-02, eta: 7:45:01, time: 0.534, data_time: 0.007, memory: 1887, loss_cls: 0.8159, loss_bbox: 0.2658, loss_bbox_rf: 0.3358, loss: 1.4175, grad_norm: 3.8486\n",
      "2021-05-14 11:36:23,665 - mmdet - INFO - Epoch [21][250/655]\tlr: 1.000e-02, eta: 7:44:34, time: 0.536, data_time: 0.007, memory: 1887, loss_cls: 0.7556, loss_bbox: 0.2421, loss_bbox_rf: 0.3057, loss: 1.3034, grad_norm: 3.8466\n",
      "2021-05-14 11:36:50,383 - mmdet - INFO - Epoch [21][300/655]\tlr: 1.000e-02, eta: 7:44:07, time: 0.534, data_time: 0.007, memory: 1887, loss_cls: 0.7694, loss_bbox: 0.2595, loss_bbox_rf: 0.3246, loss: 1.3535, grad_norm: 3.5998\n",
      "2021-05-14 11:37:17,129 - mmdet - INFO - Epoch [21][350/655]\tlr: 1.000e-02, eta: 7:43:41, time: 0.535, data_time: 0.007, memory: 1887, loss_cls: 0.7847, loss_bbox: 0.2497, loss_bbox_rf: 0.3146, loss: 1.3490, grad_norm: 3.9361\n",
      "2021-05-14 11:37:43,874 - mmdet - INFO - Epoch [21][400/655]\tlr: 1.000e-02, eta: 7:43:14, time: 0.535, data_time: 0.007, memory: 1887, loss_cls: 0.9472, loss_bbox: 0.2749, loss_bbox_rf: 0.3460, loss: 1.5682, grad_norm: 4.9933\n",
      "2021-05-14 11:38:10,533 - mmdet - INFO - Epoch [21][450/655]\tlr: 1.000e-02, eta: 7:42:47, time: 0.533, data_time: 0.007, memory: 1887, loss_cls: 0.8953, loss_bbox: 0.2630, loss_bbox_rf: 0.3294, loss: 1.4877, grad_norm: 4.1116\n",
      "2021-05-14 11:38:37,179 - mmdet - INFO - Epoch [21][500/655]\tlr: 1.000e-02, eta: 7:42:20, time: 0.533, data_time: 0.007, memory: 1887, loss_cls: 0.8336, loss_bbox: 0.2735, loss_bbox_rf: 0.3366, loss: 1.4436, grad_norm: 4.2073\n",
      "2021-05-14 11:39:03,735 - mmdet - INFO - Epoch [21][550/655]\tlr: 1.000e-02, eta: 7:41:53, time: 0.531, data_time: 0.007, memory: 1887, loss_cls: 0.8043, loss_bbox: 0.2642, loss_bbox_rf: 0.3355, loss: 1.4039, grad_norm: 3.7752\n",
      "2021-05-14 11:39:30,450 - mmdet - INFO - Epoch [21][600/655]\tlr: 1.000e-02, eta: 7:41:26, time: 0.534, data_time: 0.007, memory: 1887, loss_cls: 0.8384, loss_bbox: 0.2581, loss_bbox_rf: 0.3227, loss: 1.4191, grad_norm: 4.2631\n",
      "2021-05-14 11:39:57,170 - mmdet - INFO - Epoch [21][650/655]\tlr: 1.000e-02, eta: 7:40:59, time: 0.534, data_time: 0.007, memory: 1887, loss_cls: 0.8237, loss_bbox: 0.2553, loss_bbox_rf: 0.3191, loss: 1.3982, grad_norm: 4.2389\n",
      "2021-05-14 11:39:59,936 - mmdet - INFO - Saving checkpoint at 21 epochs\n"
     ]
    },
    {
     "name": "stdout",
     "output_type": "stream",
     "text": [
      "[>>>>>>>>>>>>>>>>>>>>>>>>>>>>>] 655/655, 17.7 task/s, elapsed: 37s, ETA:     0s"
     ]
    },
    {
     "name": "stderr",
     "output_type": "stream",
     "text": [
      "2021-05-14 11:40:38,839 - mmdet - INFO - Evaluating bbox...\n"
     ]
    },
    {
     "name": "stdout",
     "output_type": "stream",
     "text": [
      "Loading and preparing results...\n",
      "DONE (t=1.27s)\n",
      "creating index...\n",
      "index created!\n",
      "Running per image evaluation...\n",
      "Evaluate annotation type *bbox*\n",
      "DONE (t=6.93s).\n",
      "Accumulating evaluation results...\n"
     ]
    },
    {
     "name": "stderr",
     "output_type": "stream",
     "text": [
      "2021-05-14 11:40:48,910 - mmdet - INFO - Now best checkpoint is epoch_21.pth.Best bbox_mAP_50 is 0.2360\n",
      "2021-05-14 11:40:48,922 - mmdet - INFO - Epoch(val) [21][655]\tbbox_mAP: 0.1550, bbox_mAP_50: 0.2360, bbox_mAP_75: 0.1590, bbox_mAP_s: 0.0340, bbox_mAP_m: 0.1420, bbox_mAP_l: 0.3610, bbox_mAP_copypaste: 0.155 0.236 0.159 0.034 0.142 0.361\n"
     ]
    },
    {
     "name": "stdout",
     "output_type": "stream",
     "text": [
      "DONE (t=1.71s).\n",
      "Average Precision  (AP) @[ IoU=0.50:0.95 | area=   all | maxDets=100 ] = 0.155\n",
      "Average Precision  (AP) @[ IoU=0.50      | area=   all | maxDets=1000 ] = 0.236\n",
      "Average Precision  (AP) @[ IoU=0.75      | area=   all | maxDets=1000 ] = 0.159\n",
      "Average Precision  (AP) @[ IoU=0.50:0.95 | area= small | maxDets=1000 ] = 0.034\n",
      "Average Precision  (AP) @[ IoU=0.50:0.95 | area=medium | maxDets=1000 ] = 0.142\n",
      "Average Precision  (AP) @[ IoU=0.50:0.95 | area= large | maxDets=1000 ] = 0.361\n",
      "Average Recall     (AR) @[ IoU=0.50:0.95 | area=   all | maxDets=100 ] = 0.354\n",
      "Average Recall     (AR) @[ IoU=0.50:0.95 | area=   all | maxDets=300 ] = 0.354\n",
      "Average Recall     (AR) @[ IoU=0.50:0.95 | area=   all | maxDets=1000 ] = 0.354\n",
      "Average Recall     (AR) @[ IoU=0.50:0.95 | area= small | maxDets=1000 ] = 0.090\n",
      "Average Recall     (AR) @[ IoU=0.50:0.95 | area=medium | maxDets=1000 ] = 0.325\n",
      "Average Recall     (AR) @[ IoU=0.50:0.95 | area= large | maxDets=1000 ] = 0.704\n"
     ]
    },
    {
     "name": "stderr",
     "output_type": "stream",
     "text": [
      "2021-05-14 11:41:17,865 - mmdet - INFO - Epoch [22][50/655]\tlr: 1.000e-02, eta: 7:40:28, time: 0.579, data_time: 0.051, memory: 1887, loss_cls: 0.7250, loss_bbox: 0.2529, loss_bbox_rf: 0.3223, loss: 1.3001, grad_norm: 3.5048\n",
      "2021-05-14 11:41:44,662 - mmdet - INFO - Epoch [22][100/655]\tlr: 1.000e-02, eta: 7:40:02, time: 0.536, data_time: 0.007, memory: 1887, loss_cls: 0.8123, loss_bbox: 0.2297, loss_bbox_rf: 0.2916, loss: 1.3336, grad_norm: 4.3308\n",
      "2021-05-14 11:42:11,412 - mmdet - INFO - Epoch [22][150/655]\tlr: 1.000e-02, eta: 7:39:35, time: 0.535, data_time: 0.007, memory: 1887, loss_cls: 0.7876, loss_bbox: 0.2499, loss_bbox_rf: 0.3172, loss: 1.3546, grad_norm: 3.5897\n",
      "2021-05-14 11:42:38,295 - mmdet - INFO - Epoch [22][200/655]\tlr: 1.000e-02, eta: 7:39:09, time: 0.538, data_time: 0.007, memory: 1887, loss_cls: 0.7979, loss_bbox: 0.2520, loss_bbox_rf: 0.3170, loss: 1.3669, grad_norm: 3.8399\n",
      "2021-05-14 11:43:05,097 - mmdet - INFO - Epoch [22][250/655]\tlr: 1.000e-02, eta: 7:38:42, time: 0.536, data_time: 0.007, memory: 1887, loss_cls: 0.7965, loss_bbox: 0.2641, loss_bbox_rf: 0.3338, loss: 1.3945, grad_norm: 3.9815\n",
      "2021-05-14 11:43:31,770 - mmdet - INFO - Epoch [22][300/655]\tlr: 1.000e-02, eta: 7:38:15, time: 0.533, data_time: 0.007, memory: 1887, loss_cls: 0.8381, loss_bbox: 0.2512, loss_bbox_rf: 0.3137, loss: 1.4029, grad_norm: 4.7139\n",
      "2021-05-14 11:43:58,427 - mmdet - INFO - Epoch [22][350/655]\tlr: 1.000e-02, eta: 7:37:48, time: 0.533, data_time: 0.007, memory: 1887, loss_cls: 0.7954, loss_bbox: 0.2592, loss_bbox_rf: 0.3316, loss: 1.3863, grad_norm: 3.8886\n",
      "2021-05-14 11:44:25,597 - mmdet - INFO - Epoch [22][400/655]\tlr: 1.000e-02, eta: 7:37:23, time: 0.543, data_time: 0.008, memory: 1887, loss_cls: 0.8041, loss_bbox: 0.2443, loss_bbox_rf: 0.3032, loss: 1.3516, grad_norm: 4.5542\n",
      "2021-05-14 11:44:52,855 - mmdet - INFO - Epoch [22][450/655]\tlr: 1.000e-02, eta: 7:36:59, time: 0.545, data_time: 0.008, memory: 1887, loss_cls: 0.7820, loss_bbox: 0.2623, loss_bbox_rf: 0.3312, loss: 1.3756, grad_norm: 3.7385\n",
      "2021-05-14 11:45:19,976 - mmdet - INFO - Epoch [22][500/655]\tlr: 1.000e-02, eta: 7:36:33, time: 0.542, data_time: 0.007, memory: 1887, loss_cls: 0.8066, loss_bbox: 0.2507, loss_bbox_rf: 0.3100, loss: 1.3674, grad_norm: 4.2115\n",
      "2021-05-14 11:45:46,689 - mmdet - INFO - Epoch [22][550/655]\tlr: 1.000e-02, eta: 7:36:06, time: 0.534, data_time: 0.007, memory: 1887, loss_cls: 0.7676, loss_bbox: 0.2497, loss_bbox_rf: 0.3141, loss: 1.3314, grad_norm: 3.8820\n",
      "2021-05-14 11:46:13,390 - mmdet - INFO - Epoch [22][600/655]\tlr: 1.000e-02, eta: 7:35:40, time: 0.534, data_time: 0.007, memory: 1887, loss_cls: 0.8035, loss_bbox: 0.2387, loss_bbox_rf: 0.2993, loss: 1.3415, grad_norm: 4.0768\n",
      "2021-05-14 11:46:40,270 - mmdet - INFO - Epoch [22][650/655]\tlr: 1.000e-02, eta: 7:35:13, time: 0.538, data_time: 0.007, memory: 1887, loss_cls: 0.8118, loss_bbox: 0.2409, loss_bbox_rf: 0.3015, loss: 1.3542, grad_norm: 4.4865\n",
      "2021-05-14 11:46:43,036 - mmdet - INFO - Saving checkpoint at 22 epochs\n"
     ]
    },
    {
     "name": "stdout",
     "output_type": "stream",
     "text": [
      "[>>>>>>>>>>>>>>>>>>>>>>>>>>>>>] 655/655, 18.4 task/s, elapsed: 36s, ETA:     0s"
     ]
    },
    {
     "name": "stderr",
     "output_type": "stream",
     "text": [
      "2021-05-14 11:47:21,210 - mmdet - INFO - Evaluating bbox...\n"
     ]
    },
    {
     "name": "stdout",
     "output_type": "stream",
     "text": [
      "Loading and preparing results...\n",
      "DONE (t=0.75s)\n",
      "creating index...\n",
      "index created!\n",
      "Running per image evaluation...\n",
      "Evaluate annotation type *bbox*\n",
      "DONE (t=7.89s).\n",
      "Accumulating evaluation results...\n"
     ]
    },
    {
     "name": "stderr",
     "output_type": "stream",
     "text": [
      "2021-05-14 11:47:31,718 - mmdet - INFO - Epoch(val) [22][655]\tbbox_mAP: 0.1470, bbox_mAP_50: 0.2240, bbox_mAP_75: 0.1520, bbox_mAP_s: 0.0270, bbox_mAP_m: 0.1250, bbox_mAP_l: 0.3570, bbox_mAP_copypaste: 0.147 0.224 0.152 0.027 0.125 0.357\n"
     ]
    },
    {
     "name": "stdout",
     "output_type": "stream",
     "text": [
      "DONE (t=1.70s).\n",
      "Average Precision  (AP) @[ IoU=0.50:0.95 | area=   all | maxDets=100 ] = 0.147\n",
      "Average Precision  (AP) @[ IoU=0.50      | area=   all | maxDets=1000 ] = 0.224\n",
      "Average Precision  (AP) @[ IoU=0.75      | area=   all | maxDets=1000 ] = 0.152\n",
      "Average Precision  (AP) @[ IoU=0.50:0.95 | area= small | maxDets=1000 ] = 0.027\n",
      "Average Precision  (AP) @[ IoU=0.50:0.95 | area=medium | maxDets=1000 ] = 0.125\n",
      "Average Precision  (AP) @[ IoU=0.50:0.95 | area= large | maxDets=1000 ] = 0.357\n",
      "Average Recall     (AR) @[ IoU=0.50:0.95 | area=   all | maxDets=100 ] = 0.336\n",
      "Average Recall     (AR) @[ IoU=0.50:0.95 | area=   all | maxDets=300 ] = 0.336\n",
      "Average Recall     (AR) @[ IoU=0.50:0.95 | area=   all | maxDets=1000 ] = 0.336\n",
      "Average Recall     (AR) @[ IoU=0.50:0.95 | area= small | maxDets=1000 ] = 0.081\n",
      "Average Recall     (AR) @[ IoU=0.50:0.95 | area=medium | maxDets=1000 ] = 0.301\n",
      "Average Recall     (AR) @[ IoU=0.50:0.95 | area= large | maxDets=1000 ] = 0.641\n"
     ]
    },
    {
     "name": "stderr",
     "output_type": "stream",
     "text": [
      "2021-05-14 11:48:00,871 - mmdet - INFO - Epoch [23][50/655]\tlr: 1.000e-02, eta: 7:34:43, time: 0.583, data_time: 0.051, memory: 1887, loss_cls: 0.7602, loss_bbox: 0.2483, loss_bbox_rf: 0.3096, loss: 1.3181, grad_norm: 4.2486\n",
      "2021-05-14 11:48:27,829 - mmdet - INFO - Epoch [23][100/655]\tlr: 1.000e-02, eta: 7:34:17, time: 0.539, data_time: 0.007, memory: 1887, loss_cls: 0.7991, loss_bbox: 0.2424, loss_bbox_rf: 0.3020, loss: 1.3435, grad_norm: 4.4836\n",
      "2021-05-14 11:48:54,915 - mmdet - INFO - Epoch [23][150/655]\tlr: 1.000e-02, eta: 7:33:52, time: 0.542, data_time: 0.008, memory: 1887, loss_cls: 0.7795, loss_bbox: 0.2329, loss_bbox_rf: 0.2878, loss: 1.3002, grad_norm: 4.0552\n",
      "2021-05-14 11:49:21,635 - mmdet - INFO - Epoch [23][200/655]\tlr: 1.000e-02, eta: 7:33:25, time: 0.534, data_time: 0.007, memory: 1887, loss_cls: 0.7871, loss_bbox: 0.2341, loss_bbox_rf: 0.2889, loss: 1.3101, grad_norm: 4.3182\n",
      "2021-05-14 11:49:48,421 - mmdet - INFO - Epoch [23][250/655]\tlr: 1.000e-02, eta: 7:32:58, time: 0.536, data_time: 0.007, memory: 1887, loss_cls: 0.7709, loss_bbox: 0.2524, loss_bbox_rf: 0.3151, loss: 1.3384, grad_norm: 4.3638\n",
      "2021-05-14 11:50:15,323 - mmdet - INFO - Epoch [23][300/655]\tlr: 1.000e-02, eta: 7:32:32, time: 0.538, data_time: 0.007, memory: 1887, loss_cls: 0.7847, loss_bbox: 0.2468, loss_bbox_rf: 0.3081, loss: 1.3396, grad_norm: 4.2943\n",
      "2021-05-14 11:50:42,198 - mmdet - INFO - Epoch [23][350/655]\tlr: 1.000e-02, eta: 7:32:06, time: 0.537, data_time: 0.007, memory: 1887, loss_cls: 0.7624, loss_bbox: 0.2548, loss_bbox_rf: 0.3205, loss: 1.3377, grad_norm: 3.8036\n",
      "2021-05-14 11:51:08,954 - mmdet - INFO - Epoch [23][400/655]\tlr: 1.000e-02, eta: 7:31:39, time: 0.535, data_time: 0.007, memory: 1887, loss_cls: 0.7278, loss_bbox: 0.2399, loss_bbox_rf: 0.3006, loss: 1.2682, grad_norm: 4.2233\n",
      "2021-05-14 11:51:35,623 - mmdet - INFO - Epoch [23][450/655]\tlr: 1.000e-02, eta: 7:31:12, time: 0.533, data_time: 0.007, memory: 1887, loss_cls: 0.7473, loss_bbox: 0.2586, loss_bbox_rf: 0.3267, loss: 1.3326, grad_norm: 3.6571\n",
      "2021-05-14 11:52:02,310 - mmdet - INFO - Epoch [23][500/655]\tlr: 1.000e-02, eta: 7:30:46, time: 0.534, data_time: 0.007, memory: 1887, loss_cls: 0.7759, loss_bbox: 0.2401, loss_bbox_rf: 0.3045, loss: 1.3205, grad_norm: 4.2896\n",
      "2021-05-14 11:52:29,138 - mmdet - INFO - Epoch [23][550/655]\tlr: 1.000e-02, eta: 7:30:19, time: 0.537, data_time: 0.007, memory: 1887, loss_cls: 0.8533, loss_bbox: 0.2699, loss_bbox_rf: 0.3372, loss: 1.4604, grad_norm: 4.5665\n",
      "2021-05-14 11:52:56,031 - mmdet - INFO - Epoch [23][600/655]\tlr: 1.000e-02, eta: 7:29:53, time: 0.538, data_time: 0.007, memory: 1887, loss_cls: 0.7839, loss_bbox: 0.2498, loss_bbox_rf: 0.3144, loss: 1.3481, grad_norm: 4.0722\n",
      "2021-05-14 11:53:22,814 - mmdet - INFO - Epoch [23][650/655]\tlr: 1.000e-02, eta: 7:29:26, time: 0.536, data_time: 0.007, memory: 1887, loss_cls: 0.7693, loss_bbox: 0.2566, loss_bbox_rf: 0.3248, loss: 1.3507, grad_norm: 3.9711\n",
      "2021-05-14 11:53:25,581 - mmdet - INFO - Saving checkpoint at 23 epochs\n"
     ]
    },
    {
     "name": "stdout",
     "output_type": "stream",
     "text": [
      "[>>>>>>>>>>>>>>>>>>>>>>>>>>>>>] 655/655, 18.2 task/s, elapsed: 36s, ETA:     0s"
     ]
    },
    {
     "name": "stderr",
     "output_type": "stream",
     "text": [
      "2021-05-14 11:54:03,981 - mmdet - INFO - Evaluating bbox...\n"
     ]
    },
    {
     "name": "stdout",
     "output_type": "stream",
     "text": [
      "Loading and preparing results...\n",
      "DONE (t=0.73s)\n",
      "creating index...\n",
      "index created!\n",
      "Running per image evaluation...\n",
      "Evaluate annotation type *bbox*\n",
      "DONE (t=7.54s).\n",
      "Accumulating evaluation results...\n"
     ]
    },
    {
     "name": "stderr",
     "output_type": "stream",
     "text": [
      "2021-05-14 11:54:13,986 - mmdet - INFO - Now best checkpoint is epoch_23.pth.Best bbox_mAP_50 is 0.2400\n",
      "2021-05-14 11:54:13,994 - mmdet - INFO - Epoch(val) [23][655]\tbbox_mAP: 0.1570, bbox_mAP_50: 0.2400, bbox_mAP_75: 0.1620, bbox_mAP_s: 0.0350, bbox_mAP_m: 0.1290, bbox_mAP_l: 0.3180, bbox_mAP_copypaste: 0.157 0.240 0.162 0.035 0.129 0.318\n"
     ]
    },
    {
     "name": "stdout",
     "output_type": "stream",
     "text": [
      "DONE (t=1.58s).\n",
      "Average Precision  (AP) @[ IoU=0.50:0.95 | area=   all | maxDets=100 ] = 0.157\n",
      "Average Precision  (AP) @[ IoU=0.50      | area=   all | maxDets=1000 ] = 0.240\n",
      "Average Precision  (AP) @[ IoU=0.75      | area=   all | maxDets=1000 ] = 0.162\n",
      "Average Precision  (AP) @[ IoU=0.50:0.95 | area= small | maxDets=1000 ] = 0.035\n",
      "Average Precision  (AP) @[ IoU=0.50:0.95 | area=medium | maxDets=1000 ] = 0.129\n",
      "Average Precision  (AP) @[ IoU=0.50:0.95 | area= large | maxDets=1000 ] = 0.318\n",
      "Average Recall     (AR) @[ IoU=0.50:0.95 | area=   all | maxDets=100 ] = 0.356\n",
      "Average Recall     (AR) @[ IoU=0.50:0.95 | area=   all | maxDets=300 ] = 0.356\n",
      "Average Recall     (AR) @[ IoU=0.50:0.95 | area=   all | maxDets=1000 ] = 0.356\n",
      "Average Recall     (AR) @[ IoU=0.50:0.95 | area= small | maxDets=1000 ] = 0.100\n",
      "Average Recall     (AR) @[ IoU=0.50:0.95 | area=medium | maxDets=1000 ] = 0.319\n",
      "Average Recall     (AR) @[ IoU=0.50:0.95 | area= large | maxDets=1000 ] = 0.668\n"
     ]
    },
    {
     "name": "stderr",
     "output_type": "stream",
     "text": [
      "2021-05-14 11:54:43,042 - mmdet - INFO - Epoch [24][50/655]\tlr: 1.000e-02, eta: 7:28:56, time: 0.581, data_time: 0.051, memory: 1887, loss_cls: 0.7101, loss_bbox: 0.2280, loss_bbox_rf: 0.2871, loss: 1.2252, grad_norm: 3.8248\n",
      "2021-05-14 11:55:10,060 - mmdet - INFO - Epoch [24][100/655]\tlr: 1.000e-02, eta: 7:28:30, time: 0.540, data_time: 0.007, memory: 1887, loss_cls: 0.7644, loss_bbox: 0.2356, loss_bbox_rf: 0.2945, loss: 1.2946, grad_norm: 4.2224\n",
      "2021-05-14 11:55:37,075 - mmdet - INFO - Epoch [24][150/655]\tlr: 1.000e-02, eta: 7:28:04, time: 0.540, data_time: 0.007, memory: 1887, loss_cls: 0.6969, loss_bbox: 0.2432, loss_bbox_rf: 0.3087, loss: 1.2488, grad_norm: 3.6206\n",
      "2021-05-14 11:56:03,934 - mmdet - INFO - Epoch [24][200/655]\tlr: 1.000e-02, eta: 7:27:38, time: 0.537, data_time: 0.007, memory: 1887, loss_cls: 0.7550, loss_bbox: 0.2374, loss_bbox_rf: 0.2981, loss: 1.2905, grad_norm: 4.0897\n",
      "2021-05-14 11:56:30,942 - mmdet - INFO - Epoch [24][250/655]\tlr: 1.000e-02, eta: 7:27:12, time: 0.540, data_time: 0.007, memory: 1887, loss_cls: 0.7395, loss_bbox: 0.2371, loss_bbox_rf: 0.2927, loss: 1.2693, grad_norm: 4.2016\n",
      "2021-05-14 11:56:57,813 - mmdet - INFO - Epoch [24][300/655]\tlr: 1.000e-02, eta: 7:26:46, time: 0.537, data_time: 0.007, memory: 1887, loss_cls: 0.7668, loss_bbox: 0.2334, loss_bbox_rf: 0.2923, loss: 1.2925, grad_norm: 4.4158\n",
      "2021-05-14 11:57:24,773 - mmdet - INFO - Epoch [24][350/655]\tlr: 1.000e-02, eta: 7:26:20, time: 0.539, data_time: 0.007, memory: 1887, loss_cls: 0.7674, loss_bbox: 0.2444, loss_bbox_rf: 0.3067, loss: 1.3185, grad_norm: 4.0855\n",
      "2021-05-14 11:57:51,623 - mmdet - INFO - Epoch [24][400/655]\tlr: 1.000e-02, eta: 7:25:53, time: 0.537, data_time: 0.007, memory: 1887, loss_cls: 0.7059, loss_bbox: 0.2250, loss_bbox_rf: 0.2811, loss: 1.2119, grad_norm: 4.0543\n",
      "2021-05-14 11:58:18,829 - mmdet - INFO - Epoch [24][450/655]\tlr: 1.000e-02, eta: 7:25:28, time: 0.544, data_time: 0.008, memory: 1887, loss_cls: 0.7808, loss_bbox: 0.2417, loss_bbox_rf: 0.3020, loss: 1.3245, grad_norm: 4.6055\n",
      "2021-05-14 11:58:45,674 - mmdet - INFO - Epoch [24][500/655]\tlr: 1.000e-02, eta: 7:25:02, time: 0.537, data_time: 0.007, memory: 1887, loss_cls: 0.8138, loss_bbox: 0.2531, loss_bbox_rf: 0.3149, loss: 1.3818, grad_norm: 5.0856\n",
      "2021-05-14 11:59:12,516 - mmdet - INFO - Epoch [24][550/655]\tlr: 1.000e-02, eta: 7:24:35, time: 0.537, data_time: 0.007, memory: 1887, loss_cls: 0.8093, loss_bbox: 0.2691, loss_bbox_rf: 0.3411, loss: 1.4195, grad_norm: 4.0285\n",
      "2021-05-14 11:59:39,317 - mmdet - INFO - Epoch [24][600/655]\tlr: 1.000e-02, eta: 7:24:09, time: 0.536, data_time: 0.007, memory: 1887, loss_cls: 0.7936, loss_bbox: 0.2578, loss_bbox_rf: 0.3237, loss: 1.3750, grad_norm: 4.3517\n",
      "2021-05-14 12:00:06,146 - mmdet - INFO - Epoch [24][650/655]\tlr: 1.000e-02, eta: 7:23:42, time: 0.537, data_time: 0.007, memory: 1887, loss_cls: 0.7945, loss_bbox: 0.2497, loss_bbox_rf: 0.3115, loss: 1.3557, grad_norm: 4.2946\n",
      "2021-05-14 12:00:08,915 - mmdet - INFO - Saving checkpoint at 24 epochs\n"
     ]
    },
    {
     "name": "stdout",
     "output_type": "stream",
     "text": [
      "[>>>>>>>>>>>>>>>>>>>>>>>>>>>>>] 655/655, 18.3 task/s, elapsed: 36s, ETA:     0s"
     ]
    },
    {
     "name": "stderr",
     "output_type": "stream",
     "text": [
      "2021-05-14 12:00:46,455 - mmdet - INFO - Evaluating bbox...\n"
     ]
    },
    {
     "name": "stdout",
     "output_type": "stream",
     "text": [
      "Loading and preparing results...\n",
      "DONE (t=0.73s)\n",
      "creating index...\n",
      "index created!\n",
      "Running per image evaluation...\n",
      "Evaluate annotation type *bbox*\n",
      "DONE (t=7.84s).\n",
      "Accumulating evaluation results...\n"
     ]
    },
    {
     "name": "stderr",
     "output_type": "stream",
     "text": [
      "2021-05-14 12:00:56,864 - mmdet - INFO - Now best checkpoint is epoch_24.pth.Best bbox_mAP_50 is 0.2430\n",
      "2021-05-14 12:00:56,873 - mmdet - INFO - Epoch(val) [24][655]\tbbox_mAP: 0.1600, bbox_mAP_50: 0.2430, bbox_mAP_75: 0.1630, bbox_mAP_s: 0.0340, bbox_mAP_m: 0.1270, bbox_mAP_l: 0.3870, bbox_mAP_copypaste: 0.160 0.243 0.163 0.034 0.127 0.387\n"
     ]
    },
    {
     "name": "stdout",
     "output_type": "stream",
     "text": [
      "DONE (t=1.70s).\n",
      "Average Precision  (AP) @[ IoU=0.50:0.95 | area=   all | maxDets=100 ] = 0.160\n",
      "Average Precision  (AP) @[ IoU=0.50      | area=   all | maxDets=1000 ] = 0.243\n",
      "Average Precision  (AP) @[ IoU=0.75      | area=   all | maxDets=1000 ] = 0.163\n",
      "Average Precision  (AP) @[ IoU=0.50:0.95 | area= small | maxDets=1000 ] = 0.034\n",
      "Average Precision  (AP) @[ IoU=0.50:0.95 | area=medium | maxDets=1000 ] = 0.127\n",
      "Average Precision  (AP) @[ IoU=0.50:0.95 | area= large | maxDets=1000 ] = 0.387\n",
      "Average Recall     (AR) @[ IoU=0.50:0.95 | area=   all | maxDets=100 ] = 0.343\n",
      "Average Recall     (AR) @[ IoU=0.50:0.95 | area=   all | maxDets=300 ] = 0.343\n",
      "Average Recall     (AR) @[ IoU=0.50:0.95 | area=   all | maxDets=1000 ] = 0.343\n",
      "Average Recall     (AR) @[ IoU=0.50:0.95 | area= small | maxDets=1000 ] = 0.099\n",
      "Average Recall     (AR) @[ IoU=0.50:0.95 | area=medium | maxDets=1000 ] = 0.313\n",
      "Average Recall     (AR) @[ IoU=0.50:0.95 | area= large | maxDets=1000 ] = 0.658\n"
     ]
    },
    {
     "name": "stderr",
     "output_type": "stream",
     "text": [
      "2021-05-14 12:01:26,116 - mmdet - INFO - Epoch [25][50/655]\tlr: 1.000e-02, eta: 7:23:12, time: 0.585, data_time: 0.052, memory: 1887, loss_cls: 0.7021, loss_bbox: 0.2364, loss_bbox_rf: 0.2990, loss: 1.2375, grad_norm: 3.5600\n",
      "2021-05-14 12:01:53,008 - mmdet - INFO - Epoch [25][100/655]\tlr: 1.000e-02, eta: 7:22:46, time: 0.538, data_time: 0.007, memory: 1887, loss_cls: 0.7072, loss_bbox: 0.2330, loss_bbox_rf: 0.2928, loss: 1.2330, grad_norm: 3.9761\n",
      "2021-05-14 12:02:19,844 - mmdet - INFO - Epoch [25][150/655]\tlr: 1.000e-02, eta: 7:22:20, time: 0.537, data_time: 0.007, memory: 1887, loss_cls: 0.7426, loss_bbox: 0.2388, loss_bbox_rf: 0.2936, loss: 1.2750, grad_norm: 4.5968\n",
      "2021-05-14 12:02:46,702 - mmdet - INFO - Epoch [25][200/655]\tlr: 1.000e-02, eta: 7:21:53, time: 0.537, data_time: 0.007, memory: 1887, loss_cls: 0.7596, loss_bbox: 0.2455, loss_bbox_rf: 0.3069, loss: 1.3120, grad_norm: 4.3898\n",
      "2021-05-14 12:03:13,582 - mmdet - INFO - Epoch [25][250/655]\tlr: 1.000e-02, eta: 7:21:27, time: 0.538, data_time: 0.007, memory: 1887, loss_cls: 0.8444, loss_bbox: 0.2351, loss_bbox_rf: 0.2937, loss: 1.3732, grad_norm: 4.7875\n",
      "2021-05-14 12:03:40,610 - mmdet - INFO - Epoch [25][300/655]\tlr: 1.000e-02, eta: 7:21:01, time: 0.541, data_time: 0.007, memory: 1887, loss_cls: 0.8165, loss_bbox: 0.2514, loss_bbox_rf: 0.3147, loss: 1.3825, grad_norm: 4.6245\n",
      "2021-05-14 12:04:07,881 - mmdet - INFO - Epoch [25][350/655]\tlr: 1.000e-02, eta: 7:20:36, time: 0.545, data_time: 0.007, memory: 1887, loss_cls: 0.7571, loss_bbox: 0.2527, loss_bbox_rf: 0.3152, loss: 1.3250, grad_norm: 4.2653\n",
      "2021-05-14 12:04:35,397 - mmdet - INFO - Epoch [25][400/655]\tlr: 1.000e-02, eta: 7:20:12, time: 0.550, data_time: 0.007, memory: 1887, loss_cls: 0.7485, loss_bbox: 0.2510, loss_bbox_rf: 0.3123, loss: 1.3118, grad_norm: 4.3388\n",
      "2021-05-14 12:05:02,197 - mmdet - INFO - Epoch [25][450/655]\tlr: 1.000e-02, eta: 7:19:45, time: 0.536, data_time: 0.007, memory: 1887, loss_cls: 0.7288, loss_bbox: 0.2398, loss_bbox_rf: 0.3027, loss: 1.2713, grad_norm: 3.8697\n",
      "2021-05-14 12:05:28,872 - mmdet - INFO - Epoch [25][500/655]\tlr: 1.000e-02, eta: 7:19:18, time: 0.533, data_time: 0.007, memory: 1887, loss_cls: 0.7872, loss_bbox: 0.2571, loss_bbox_rf: 0.3213, loss: 1.3656, grad_norm: 4.7346\n",
      "2021-05-14 12:05:55,703 - mmdet - INFO - Epoch [25][550/655]\tlr: 1.000e-02, eta: 7:18:52, time: 0.537, data_time: 0.007, memory: 1887, loss_cls: 0.7444, loss_bbox: 0.2408, loss_bbox_rf: 0.3027, loss: 1.2879, grad_norm: 4.0657\n",
      "2021-05-14 12:06:22,892 - mmdet - INFO - Epoch [25][600/655]\tlr: 1.000e-02, eta: 7:18:26, time: 0.544, data_time: 0.007, memory: 1887, loss_cls: 0.7057, loss_bbox: 0.2357, loss_bbox_rf: 0.2929, loss: 1.2343, grad_norm: 4.1334\n",
      "2021-05-14 12:06:49,759 - mmdet - INFO - Epoch [25][650/655]\tlr: 1.000e-02, eta: 7:18:00, time: 0.537, data_time: 0.007, memory: 1887, loss_cls: 0.7622, loss_bbox: 0.2433, loss_bbox_rf: 0.3065, loss: 1.3119, grad_norm: 4.2707\n",
      "2021-05-14 12:06:52,542 - mmdet - INFO - Saving checkpoint at 25 epochs\n"
     ]
    },
    {
     "name": "stdout",
     "output_type": "stream",
     "text": [
      "[>>>>>>>>>>>>>>>>>>>>>>>>>>>>>] 655/655, 18.4 task/s, elapsed: 36s, ETA:     0s"
     ]
    },
    {
     "name": "stderr",
     "output_type": "stream",
     "text": [
      "2021-05-14 12:07:30,494 - mmdet - INFO - Evaluating bbox...\n"
     ]
    },
    {
     "name": "stdout",
     "output_type": "stream",
     "text": [
      "Loading and preparing results...\n",
      "DONE (t=0.76s)\n",
      "creating index...\n",
      "index created!\n",
      "Running per image evaluation...\n",
      "Evaluate annotation type *bbox*\n",
      "DONE (t=8.35s).\n",
      "Accumulating evaluation results...\n"
     ]
    },
    {
     "name": "stderr",
     "output_type": "stream",
     "text": [
      "2021-05-14 12:07:41,393 - mmdet - INFO - Epoch(val) [25][655]\tbbox_mAP: 0.1490, bbox_mAP_50: 0.2260, bbox_mAP_75: 0.1540, bbox_mAP_s: 0.0330, bbox_mAP_m: 0.1120, bbox_mAP_l: 0.3800, bbox_mAP_copypaste: 0.149 0.226 0.154 0.033 0.112 0.380\n"
     ]
    },
    {
     "name": "stdout",
     "output_type": "stream",
     "text": [
      "DONE (t=1.64s).\n",
      "Average Precision  (AP) @[ IoU=0.50:0.95 | area=   all | maxDets=100 ] = 0.149\n",
      "Average Precision  (AP) @[ IoU=0.50      | area=   all | maxDets=1000 ] = 0.226\n",
      "Average Precision  (AP) @[ IoU=0.75      | area=   all | maxDets=1000 ] = 0.154\n",
      "Average Precision  (AP) @[ IoU=0.50:0.95 | area= small | maxDets=1000 ] = 0.033\n",
      "Average Precision  (AP) @[ IoU=0.50:0.95 | area=medium | maxDets=1000 ] = 0.112\n",
      "Average Precision  (AP) @[ IoU=0.50:0.95 | area= large | maxDets=1000 ] = 0.380\n",
      "Average Recall     (AR) @[ IoU=0.50:0.95 | area=   all | maxDets=100 ] = 0.327\n",
      "Average Recall     (AR) @[ IoU=0.50:0.95 | area=   all | maxDets=300 ] = 0.327\n",
      "Average Recall     (AR) @[ IoU=0.50:0.95 | area=   all | maxDets=1000 ] = 0.327\n",
      "Average Recall     (AR) @[ IoU=0.50:0.95 | area= small | maxDets=1000 ] = 0.093\n",
      "Average Recall     (AR) @[ IoU=0.50:0.95 | area=medium | maxDets=1000 ] = 0.303\n",
      "Average Recall     (AR) @[ IoU=0.50:0.95 | area= large | maxDets=1000 ] = 0.616\n"
     ]
    },
    {
     "name": "stderr",
     "output_type": "stream",
     "text": [
      "2021-05-14 12:08:10,573 - mmdet - INFO - Epoch [26][50/655]\tlr: 1.000e-02, eta: 7:17:30, time: 0.583, data_time: 0.052, memory: 1887, loss_cls: 0.7411, loss_bbox: 0.2376, loss_bbox_rf: 0.2967, loss: 1.2754, grad_norm: 4.7199\n",
      "2021-05-14 12:08:37,553 - mmdet - INFO - Epoch [26][100/655]\tlr: 1.000e-02, eta: 7:17:04, time: 0.540, data_time: 0.007, memory: 1887, loss_cls: 0.7351, loss_bbox: 0.2482, loss_bbox_rf: 0.3116, loss: 1.2949, grad_norm: 3.9024\n",
      "2021-05-14 12:09:04,806 - mmdet - INFO - Epoch [26][150/655]\tlr: 1.000e-02, eta: 7:16:39, time: 0.545, data_time: 0.008, memory: 1887, loss_cls: 0.6905, loss_bbox: 0.2201, loss_bbox_rf: 0.2757, loss: 1.1863, grad_norm: 4.2389\n",
      "2021-05-14 12:09:31,758 - mmdet - INFO - Epoch [26][200/655]\tlr: 1.000e-02, eta: 7:16:12, time: 0.539, data_time: 0.007, memory: 1887, loss_cls: 0.7411, loss_bbox: 0.2278, loss_bbox_rf: 0.2821, loss: 1.2510, grad_norm: 4.8914\n",
      "2021-05-14 12:09:58,609 - mmdet - INFO - Epoch [26][250/655]\tlr: 1.000e-02, eta: 7:15:46, time: 0.537, data_time: 0.007, memory: 1887, loss_cls: 0.7722, loss_bbox: 0.2458, loss_bbox_rf: 0.3091, loss: 1.3271, grad_norm: 4.9030\n",
      "2021-05-14 12:10:25,463 - mmdet - INFO - Epoch [26][300/655]\tlr: 1.000e-02, eta: 7:15:19, time: 0.537, data_time: 0.007, memory: 1887, loss_cls: 0.7496, loss_bbox: 0.2307, loss_bbox_rf: 0.2905, loss: 1.2709, grad_norm: 4.4194\n",
      "2021-05-14 12:10:52,320 - mmdet - INFO - Epoch [26][350/655]\tlr: 1.000e-02, eta: 7:14:53, time: 0.537, data_time: 0.007, memory: 1887, loss_cls: 0.7546, loss_bbox: 0.2532, loss_bbox_rf: 0.3158, loss: 1.3236, grad_norm: 4.0634\n",
      "2021-05-14 12:11:19,185 - mmdet - INFO - Epoch [26][400/655]\tlr: 1.000e-02, eta: 7:14:27, time: 0.537, data_time: 0.007, memory: 1887, loss_cls: 0.7801, loss_bbox: 0.2526, loss_bbox_rf: 0.3181, loss: 1.3508, grad_norm: 4.6401\n",
      "2021-05-14 12:11:46,205 - mmdet - INFO - Epoch [26][450/655]\tlr: 1.000e-02, eta: 7:14:01, time: 0.540, data_time: 0.008, memory: 1887, loss_cls: 0.7599, loss_bbox: 0.2339, loss_bbox_rf: 0.2916, loss: 1.2854, grad_norm: 4.2458\n",
      "2021-05-14 12:12:13,135 - mmdet - INFO - Epoch [26][500/655]\tlr: 1.000e-02, eta: 7:13:34, time: 0.539, data_time: 0.007, memory: 1887, loss_cls: 0.8149, loss_bbox: 0.2390, loss_bbox_rf: 0.2982, loss: 1.3522, grad_norm: 5.0092\n",
      "2021-05-14 12:12:40,028 - mmdet - INFO - Epoch [26][550/655]\tlr: 1.000e-02, eta: 7:13:08, time: 0.538, data_time: 0.007, memory: 1887, loss_cls: 0.8490, loss_bbox: 0.2525, loss_bbox_rf: 0.3177, loss: 1.4193, grad_norm: 4.2674\n",
      "2021-05-14 12:13:06,945 - mmdet - INFO - Epoch [26][600/655]\tlr: 1.000e-02, eta: 7:12:42, time: 0.538, data_time: 0.007, memory: 1887, loss_cls: 0.7718, loss_bbox: 0.2435, loss_bbox_rf: 0.3042, loss: 1.3195, grad_norm: 4.2484\n",
      "2021-05-14 12:13:33,791 - mmdet - INFO - Epoch [26][650/655]\tlr: 1.000e-02, eta: 7:12:15, time: 0.537, data_time: 0.007, memory: 1887, loss_cls: 0.8010, loss_bbox: 0.2478, loss_bbox_rf: 0.3117, loss: 1.3605, grad_norm: 4.7328\n",
      "2021-05-14 12:13:36,577 - mmdet - INFO - Saving checkpoint at 26 epochs\n"
     ]
    },
    {
     "name": "stdout",
     "output_type": "stream",
     "text": [
      "[>>>>>>>>>>>>>>>>>>>>>>>>>>>>>] 655/655, 18.1 task/s, elapsed: 36s, ETA:     0s"
     ]
    },
    {
     "name": "stderr",
     "output_type": "stream",
     "text": [
      "2021-05-14 12:14:14,787 - mmdet - INFO - Evaluating bbox...\n"
     ]
    },
    {
     "name": "stdout",
     "output_type": "stream",
     "text": [
      "Loading and preparing results...\n",
      "DONE (t=1.31s)\n",
      "creating index...\n",
      "index created!\n",
      "Running per image evaluation...\n",
      "Evaluate annotation type *bbox*\n",
      "DONE (t=7.14s).\n",
      "Accumulating evaluation results...\n"
     ]
    },
    {
     "name": "stderr",
     "output_type": "stream",
     "text": [
      "2021-05-14 12:14:25,146 - mmdet - INFO - Epoch(val) [26][655]\tbbox_mAP: 0.1540, bbox_mAP_50: 0.2350, bbox_mAP_75: 0.1540, bbox_mAP_s: 0.0380, bbox_mAP_m: 0.1340, bbox_mAP_l: 0.3250, bbox_mAP_copypaste: 0.154 0.235 0.154 0.038 0.134 0.325\n"
     ]
    },
    {
     "name": "stdout",
     "output_type": "stream",
     "text": [
      "DONE (t=1.74s).\n",
      "Average Precision  (AP) @[ IoU=0.50:0.95 | area=   all | maxDets=100 ] = 0.154\n",
      "Average Precision  (AP) @[ IoU=0.50      | area=   all | maxDets=1000 ] = 0.235\n",
      "Average Precision  (AP) @[ IoU=0.75      | area=   all | maxDets=1000 ] = 0.154\n",
      "Average Precision  (AP) @[ IoU=0.50:0.95 | area= small | maxDets=1000 ] = 0.038\n",
      "Average Precision  (AP) @[ IoU=0.50:0.95 | area=medium | maxDets=1000 ] = 0.134\n",
      "Average Precision  (AP) @[ IoU=0.50:0.95 | area= large | maxDets=1000 ] = 0.325\n",
      "Average Recall     (AR) @[ IoU=0.50:0.95 | area=   all | maxDets=100 ] = 0.367\n",
      "Average Recall     (AR) @[ IoU=0.50:0.95 | area=   all | maxDets=300 ] = 0.367\n",
      "Average Recall     (AR) @[ IoU=0.50:0.95 | area=   all | maxDets=1000 ] = 0.367\n",
      "Average Recall     (AR) @[ IoU=0.50:0.95 | area= small | maxDets=1000 ] = 0.108\n",
      "Average Recall     (AR) @[ IoU=0.50:0.95 | area=medium | maxDets=1000 ] = 0.332\n",
      "Average Recall     (AR) @[ IoU=0.50:0.95 | area= large | maxDets=1000 ] = 0.650\n"
     ]
    },
    {
     "name": "stderr",
     "output_type": "stream",
     "text": [
      "2021-05-14 12:14:54,502 - mmdet - INFO - Epoch [27][50/655]\tlr: 1.000e-02, eta: 7:11:46, time: 0.587, data_time: 0.052, memory: 1887, loss_cls: 0.6738, loss_bbox: 0.2240, loss_bbox_rf: 0.2810, loss: 1.1788, grad_norm: 3.5032\n",
      "2021-05-14 12:15:21,367 - mmdet - INFO - Epoch [27][100/655]\tlr: 1.000e-02, eta: 7:11:19, time: 0.537, data_time: 0.007, memory: 1887, loss_cls: 0.7161, loss_bbox: 0.2329, loss_bbox_rf: 0.2918, loss: 1.2408, grad_norm: 3.9883\n",
      "2021-05-14 12:15:48,113 - mmdet - INFO - Epoch [27][150/655]\tlr: 1.000e-02, eta: 7:10:52, time: 0.535, data_time: 0.007, memory: 1887, loss_cls: 0.7037, loss_bbox: 0.2242, loss_bbox_rf: 0.2789, loss: 1.2068, grad_norm: 4.3899\n",
      "2021-05-14 12:16:14,791 - mmdet - INFO - Epoch [27][200/655]\tlr: 1.000e-02, eta: 7:10:26, time: 0.534, data_time: 0.007, memory: 1887, loss_cls: 0.7490, loss_bbox: 0.2357, loss_bbox_rf: 0.2964, loss: 1.2811, grad_norm: 4.5612\n",
      "2021-05-14 12:16:41,374 - mmdet - INFO - Epoch [27][250/655]\tlr: 1.000e-02, eta: 7:09:58, time: 0.532, data_time: 0.007, memory: 1887, loss_cls: 0.7522, loss_bbox: 0.2410, loss_bbox_rf: 0.2986, loss: 1.2919, grad_norm: 4.7203\n",
      "2021-05-14 12:17:08,049 - mmdet - INFO - Epoch [27][300/655]\tlr: 1.000e-02, eta: 7:09:31, time: 0.533, data_time: 0.007, memory: 1887, loss_cls: 0.7472, loss_bbox: 0.2361, loss_bbox_rf: 0.2926, loss: 1.2759, grad_norm: 4.6963\n",
      "2021-05-14 12:17:34,766 - mmdet - INFO - Epoch [27][350/655]\tlr: 1.000e-02, eta: 7:09:04, time: 0.534, data_time: 0.007, memory: 1887, loss_cls: 0.7498, loss_bbox: 0.2393, loss_bbox_rf: 0.2985, loss: 1.2877, grad_norm: 4.4862\n",
      "2021-05-14 12:18:01,537 - mmdet - INFO - Epoch [27][400/655]\tlr: 1.000e-02, eta: 7:08:38, time: 0.535, data_time: 0.007, memory: 1887, loss_cls: 0.7005, loss_bbox: 0.2406, loss_bbox_rf: 0.3029, loss: 1.2441, grad_norm: 3.9446\n",
      "2021-05-14 12:18:28,263 - mmdet - INFO - Epoch [27][450/655]\tlr: 1.000e-02, eta: 7:08:11, time: 0.535, data_time: 0.007, memory: 1887, loss_cls: 0.7245, loss_bbox: 0.2403, loss_bbox_rf: 0.3018, loss: 1.2666, grad_norm: 4.3961\n",
      "2021-05-14 12:18:54,898 - mmdet - INFO - Epoch [27][500/655]\tlr: 1.000e-02, eta: 7:07:44, time: 0.533, data_time: 0.007, memory: 1887, loss_cls: 0.7029, loss_bbox: 0.2278, loss_bbox_rf: 0.2817, loss: 1.2124, grad_norm: 4.3914\n",
      "2021-05-14 12:19:21,776 - mmdet - INFO - Epoch [27][550/655]\tlr: 1.000e-02, eta: 7:07:17, time: 0.538, data_time: 0.007, memory: 1887, loss_cls: 0.7386, loss_bbox: 0.2337, loss_bbox_rf: 0.2956, loss: 1.2679, grad_norm: 4.0882\n",
      "2021-05-14 12:19:48,613 - mmdet - INFO - Epoch [27][600/655]\tlr: 1.000e-02, eta: 7:06:51, time: 0.537, data_time: 0.007, memory: 1887, loss_cls: 0.7496, loss_bbox: 0.2461, loss_bbox_rf: 0.3069, loss: 1.3025, grad_norm: 4.2410\n",
      "2021-05-14 12:20:15,572 - mmdet - INFO - Epoch [27][650/655]\tlr: 1.000e-02, eta: 7:06:25, time: 0.539, data_time: 0.007, memory: 1887, loss_cls: 0.6865, loss_bbox: 0.2369, loss_bbox_rf: 0.2982, loss: 1.2216, grad_norm: 3.9085\n",
      "2021-05-14 12:20:18,337 - mmdet - INFO - Saving checkpoint at 27 epochs\n"
     ]
    },
    {
     "name": "stdout",
     "output_type": "stream",
     "text": [
      "[>>>>>>>>>>>>>>>>>>>>>>>>>>>>>] 655/655, 17.3 task/s, elapsed: 38s, ETA:     0s"
     ]
    },
    {
     "name": "stderr",
     "output_type": "stream",
     "text": [
      "2021-05-14 12:20:58,739 - mmdet - INFO - Evaluating bbox...\n"
     ]
    },
    {
     "name": "stdout",
     "output_type": "stream",
     "text": [
      "Loading and preparing results...\n",
      "DONE (t=0.79s)\n",
      "creating index...\n",
      "index created!\n",
      "Running per image evaluation...\n",
      "Evaluate annotation type *bbox*\n",
      "DONE (t=8.41s).\n",
      "Accumulating evaluation results...\n"
     ]
    },
    {
     "name": "stderr",
     "output_type": "stream",
     "text": [
      "2021-05-14 12:21:09,839 - mmdet - INFO - Now best checkpoint is epoch_27.pth.Best bbox_mAP_50 is 0.2440\n",
      "2021-05-14 12:21:09,848 - mmdet - INFO - Epoch(val) [27][655]\tbbox_mAP: 0.1650, bbox_mAP_50: 0.2440, bbox_mAP_75: 0.1680, bbox_mAP_s: 0.0310, bbox_mAP_m: 0.1270, bbox_mAP_l: 0.3980, bbox_mAP_copypaste: 0.165 0.244 0.168 0.031 0.127 0.398\n"
     ]
    },
    {
     "name": "stdout",
     "output_type": "stream",
     "text": [
      "DONE (t=1.75s).\n",
      "Average Precision  (AP) @[ IoU=0.50:0.95 | area=   all | maxDets=100 ] = 0.165\n",
      "Average Precision  (AP) @[ IoU=0.50      | area=   all | maxDets=1000 ] = 0.244\n",
      "Average Precision  (AP) @[ IoU=0.75      | area=   all | maxDets=1000 ] = 0.168\n",
      "Average Precision  (AP) @[ IoU=0.50:0.95 | area= small | maxDets=1000 ] = 0.031\n",
      "Average Precision  (AP) @[ IoU=0.50:0.95 | area=medium | maxDets=1000 ] = 0.127\n",
      "Average Precision  (AP) @[ IoU=0.50:0.95 | area= large | maxDets=1000 ] = 0.398\n",
      "Average Recall     (AR) @[ IoU=0.50:0.95 | area=   all | maxDets=100 ] = 0.317\n",
      "Average Recall     (AR) @[ IoU=0.50:0.95 | area=   all | maxDets=300 ] = 0.317\n",
      "Average Recall     (AR) @[ IoU=0.50:0.95 | area=   all | maxDets=1000 ] = 0.317\n",
      "Average Recall     (AR) @[ IoU=0.50:0.95 | area= small | maxDets=1000 ] = 0.092\n",
      "Average Recall     (AR) @[ IoU=0.50:0.95 | area=medium | maxDets=1000 ] = 0.271\n",
      "Average Recall     (AR) @[ IoU=0.50:0.95 | area= large | maxDets=1000 ] = 0.635\n"
     ]
    },
    {
     "name": "stderr",
     "output_type": "stream",
     "text": [
      "2021-05-14 12:21:39,180 - mmdet - INFO - Epoch [28][50/655]\tlr: 1.000e-02, eta: 7:05:55, time: 0.586, data_time: 0.052, memory: 1887, loss_cls: 0.6408, loss_bbox: 0.2283, loss_bbox_rf: 0.2762, loss: 1.1453, grad_norm: 3.8892\n",
      "2021-05-14 12:22:06,124 - mmdet - INFO - Epoch [28][100/655]\tlr: 1.000e-02, eta: 7:05:29, time: 0.539, data_time: 0.007, memory: 1887, loss_cls: 0.6474, loss_bbox: 0.2202, loss_bbox_rf: 0.2720, loss: 1.1396, grad_norm: 3.7833\n",
      "2021-05-14 12:22:33,404 - mmdet - INFO - Epoch [28][150/655]\tlr: 1.000e-02, eta: 7:05:03, time: 0.546, data_time: 0.008, memory: 1887, loss_cls: 0.6633, loss_bbox: 0.2245, loss_bbox_rf: 0.2775, loss: 1.1653, grad_norm: 4.2112\n",
      "2021-05-14 12:23:00,705 - mmdet - INFO - Epoch [28][200/655]\tlr: 1.000e-02, eta: 7:04:38, time: 0.546, data_time: 0.008, memory: 1887, loss_cls: 0.6860, loss_bbox: 0.2208, loss_bbox_rf: 0.2727, loss: 1.1795, grad_norm: 4.1579\n",
      "2021-05-14 12:23:27,732 - mmdet - INFO - Epoch [28][250/655]\tlr: 1.000e-02, eta: 7:04:12, time: 0.541, data_time: 0.007, memory: 1887, loss_cls: 0.6962, loss_bbox: 0.2441, loss_bbox_rf: 0.3078, loss: 1.2481, grad_norm: 3.8807\n",
      "2021-05-14 12:23:54,857 - mmdet - INFO - Epoch [28][300/655]\tlr: 1.000e-02, eta: 7:03:46, time: 0.542, data_time: 0.008, memory: 1887, loss_cls: 0.6501, loss_bbox: 0.2243, loss_bbox_rf: 0.2805, loss: 1.1549, grad_norm: 3.8601\n",
      "2021-05-14 12:24:22,089 - mmdet - INFO - Epoch [28][350/655]\tlr: 1.000e-02, eta: 7:03:21, time: 0.545, data_time: 0.008, memory: 1887, loss_cls: 0.6769, loss_bbox: 0.2333, loss_bbox_rf: 0.2831, loss: 1.1933, grad_norm: 4.3059\n",
      "2021-05-14 12:24:48,947 - mmdet - INFO - Epoch [28][400/655]\tlr: 1.000e-02, eta: 7:02:54, time: 0.537, data_time: 0.007, memory: 1887, loss_cls: 0.7144, loss_bbox: 0.2326, loss_bbox_rf: 0.2896, loss: 1.2366, grad_norm: 4.5477\n",
      "2021-05-14 12:25:16,046 - mmdet - INFO - Epoch [28][450/655]\tlr: 1.000e-02, eta: 7:02:29, time: 0.542, data_time: 0.008, memory: 1887, loss_cls: 0.6665, loss_bbox: 0.2476, loss_bbox_rf: 0.3108, loss: 1.2250, grad_norm: 3.6554\n",
      "2021-05-14 12:25:43,001 - mmdet - INFO - Epoch [28][500/655]\tlr: 1.000e-02, eta: 7:02:02, time: 0.539, data_time: 0.007, memory: 1887, loss_cls: 0.6541, loss_bbox: 0.2211, loss_bbox_rf: 0.2763, loss: 1.1515, grad_norm: 3.9153\n",
      "2021-05-14 12:26:09,936 - mmdet - INFO - Epoch [28][550/655]\tlr: 1.000e-02, eta: 7:01:36, time: 0.539, data_time: 0.007, memory: 1887, loss_cls: 0.7061, loss_bbox: 0.2207, loss_bbox_rf: 0.2769, loss: 1.2037, grad_norm: 4.4341\n",
      "2021-05-14 12:26:36,854 - mmdet - INFO - Epoch [28][600/655]\tlr: 1.000e-02, eta: 7:01:10, time: 0.538, data_time: 0.007, memory: 1887, loss_cls: 0.6977, loss_bbox: 0.2392, loss_bbox_rf: 0.2941, loss: 1.2309, grad_norm: 4.7357\n",
      "2021-05-14 12:27:03,765 - mmdet - INFO - Epoch [28][650/655]\tlr: 1.000e-02, eta: 7:00:43, time: 0.538, data_time: 0.007, memory: 1887, loss_cls: 0.7687, loss_bbox: 0.2476, loss_bbox_rf: 0.3080, loss: 1.3243, grad_norm: 4.7741\n",
      "2021-05-14 12:27:06,551 - mmdet - INFO - Saving checkpoint at 28 epochs\n"
     ]
    },
    {
     "name": "stdout",
     "output_type": "stream",
     "text": [
      "[>>>>>>>>>>>>>>>>>>>>>>>>>>>>>] 655/655, 18.1 task/s, elapsed: 36s, ETA:     0s"
     ]
    },
    {
     "name": "stderr",
     "output_type": "stream",
     "text": [
      "2021-05-14 12:27:45,408 - mmdet - INFO - Evaluating bbox...\n"
     ]
    },
    {
     "name": "stdout",
     "output_type": "stream",
     "text": [
      "Loading and preparing results...\n",
      "DONE (t=0.85s)\n",
      "creating index...\n",
      "index created!\n",
      "Running per image evaluation...\n",
      "Evaluate annotation type *bbox*\n",
      "DONE (t=8.70s).\n",
      "Accumulating evaluation results...\n"
     ]
    },
    {
     "name": "stderr",
     "output_type": "stream",
     "text": [
      "2021-05-14 12:27:56,821 - mmdet - INFO - Now best checkpoint is epoch_28.pth.Best bbox_mAP_50 is 0.2690\n",
      "2021-05-14 12:27:56,828 - mmdet - INFO - Epoch(val) [28][655]\tbbox_mAP: 0.1760, bbox_mAP_50: 0.2690, bbox_mAP_75: 0.1800, bbox_mAP_s: 0.0300, bbox_mAP_m: 0.1460, bbox_mAP_l: 0.3540, bbox_mAP_copypaste: 0.176 0.269 0.180 0.030 0.146 0.354\n"
     ]
    },
    {
     "name": "stdout",
     "output_type": "stream",
     "text": [
      "DONE (t=1.72s).\n",
      "Average Precision  (AP) @[ IoU=0.50:0.95 | area=   all | maxDets=100 ] = 0.176\n",
      "Average Precision  (AP) @[ IoU=0.50      | area=   all | maxDets=1000 ] = 0.269\n",
      "Average Precision  (AP) @[ IoU=0.75      | area=   all | maxDets=1000 ] = 0.180\n",
      "Average Precision  (AP) @[ IoU=0.50:0.95 | area= small | maxDets=1000 ] = 0.030\n",
      "Average Precision  (AP) @[ IoU=0.50:0.95 | area=medium | maxDets=1000 ] = 0.146\n",
      "Average Precision  (AP) @[ IoU=0.50:0.95 | area= large | maxDets=1000 ] = 0.354\n",
      "Average Recall     (AR) @[ IoU=0.50:0.95 | area=   all | maxDets=100 ] = 0.360\n",
      "Average Recall     (AR) @[ IoU=0.50:0.95 | area=   all | maxDets=300 ] = 0.360\n",
      "Average Recall     (AR) @[ IoU=0.50:0.95 | area=   all | maxDets=1000 ] = 0.360\n",
      "Average Recall     (AR) @[ IoU=0.50:0.95 | area= small | maxDets=1000 ] = 0.097\n",
      "Average Recall     (AR) @[ IoU=0.50:0.95 | area=medium | maxDets=1000 ] = 0.317\n",
      "Average Recall     (AR) @[ IoU=0.50:0.95 | area= large | maxDets=1000 ] = 0.646\n"
     ]
    },
    {
     "name": "stderr",
     "output_type": "stream",
     "text": [
      "2021-05-14 12:28:26,297 - mmdet - INFO - Epoch [29][50/655]\tlr: 1.000e-02, eta: 7:00:14, time: 0.589, data_time: 0.052, memory: 1887, loss_cls: 0.6700, loss_bbox: 0.2206, loss_bbox_rf: 0.2717, loss: 1.1623, grad_norm: 4.4571\n",
      "2021-05-14 12:28:53,190 - mmdet - INFO - Epoch [29][100/655]\tlr: 1.000e-02, eta: 6:59:47, time: 0.538, data_time: 0.007, memory: 1887, loss_cls: 0.6587, loss_bbox: 0.2235, loss_bbox_rf: 0.2815, loss: 1.1638, grad_norm: 4.1078\n",
      "2021-05-14 12:29:19,961 - mmdet - INFO - Epoch [29][150/655]\tlr: 1.000e-02, eta: 6:59:21, time: 0.535, data_time: 0.007, memory: 1887, loss_cls: 0.7326, loss_bbox: 0.2391, loss_bbox_rf: 0.2936, loss: 1.2653, grad_norm: 4.7003\n",
      "2021-05-14 12:29:46,943 - mmdet - INFO - Epoch [29][200/655]\tlr: 1.000e-02, eta: 6:58:54, time: 0.540, data_time: 0.007, memory: 1887, loss_cls: 0.6643, loss_bbox: 0.2324, loss_bbox_rf: 0.2849, loss: 1.1817, grad_norm: 4.2186\n",
      "2021-05-14 12:30:14,224 - mmdet - INFO - Epoch [29][250/655]\tlr: 1.000e-02, eta: 6:58:29, time: 0.546, data_time: 0.007, memory: 1887, loss_cls: 0.6662, loss_bbox: 0.2372, loss_bbox_rf: 0.2916, loss: 1.1951, grad_norm: 4.1828\n",
      "2021-05-14 12:30:41,412 - mmdet - INFO - Epoch [29][300/655]\tlr: 1.000e-02, eta: 6:58:03, time: 0.544, data_time: 0.008, memory: 1887, loss_cls: 0.6767, loss_bbox: 0.2385, loss_bbox_rf: 0.3004, loss: 1.2156, grad_norm: 4.3515\n",
      "2021-05-14 12:31:08,391 - mmdet - INFO - Epoch [29][350/655]\tlr: 1.000e-02, eta: 6:57:37, time: 0.540, data_time: 0.007, memory: 1887, loss_cls: 0.7126, loss_bbox: 0.2329, loss_bbox_rf: 0.2907, loss: 1.2363, grad_norm: 4.8524\n",
      "2021-05-14 12:31:36,115 - mmdet - INFO - Epoch [29][400/655]\tlr: 1.000e-02, eta: 6:57:13, time: 0.554, data_time: 0.008, memory: 1887, loss_cls: 0.7328, loss_bbox: 0.2358, loss_bbox_rf: 0.2928, loss: 1.2614, grad_norm: 4.5656\n",
      "2021-05-14 12:32:03,501 - mmdet - INFO - Epoch [29][450/655]\tlr: 1.000e-02, eta: 6:56:47, time: 0.548, data_time: 0.008, memory: 1887, loss_cls: 0.6997, loss_bbox: 0.2307, loss_bbox_rf: 0.2910, loss: 1.2215, grad_norm: 4.0709\n",
      "2021-05-14 12:32:30,469 - mmdet - INFO - Epoch [29][500/655]\tlr: 1.000e-02, eta: 6:56:21, time: 0.539, data_time: 0.007, memory: 1887, loss_cls: 0.6875, loss_bbox: 0.2211, loss_bbox_rf: 0.2742, loss: 1.1829, grad_norm: 4.3763\n",
      "2021-05-14 12:32:57,395 - mmdet - INFO - Epoch [29][550/655]\tlr: 1.000e-02, eta: 6:55:55, time: 0.539, data_time: 0.007, memory: 1887, loss_cls: 0.6635, loss_bbox: 0.2310, loss_bbox_rf: 0.2881, loss: 1.1827, grad_norm: 4.2711\n",
      "2021-05-14 12:33:24,340 - mmdet - INFO - Epoch [29][600/655]\tlr: 1.000e-02, eta: 6:55:28, time: 0.539, data_time: 0.007, memory: 1887, loss_cls: 0.7731, loss_bbox: 0.2453, loss_bbox_rf: 0.3054, loss: 1.3237, grad_norm: 4.7908\n",
      "2021-05-14 12:33:51,259 - mmdet - INFO - Epoch [29][650/655]\tlr: 1.000e-02, eta: 6:55:02, time: 0.538, data_time: 0.007, memory: 1887, loss_cls: 0.6922, loss_bbox: 0.2293, loss_bbox_rf: 0.2892, loss: 1.2107, grad_norm: 4.0184\n",
      "2021-05-14 12:33:54,047 - mmdet - INFO - Saving checkpoint at 29 epochs\n"
     ]
    },
    {
     "name": "stdout",
     "output_type": "stream",
     "text": [
      "[>>>>>>>>>>>>>>>>>>>>>>>>>>>>>] 655/655, 18.6 task/s, elapsed: 35s, ETA:     0s"
     ]
    },
    {
     "name": "stderr",
     "output_type": "stream",
     "text": [
      "2021-05-14 12:34:31,010 - mmdet - INFO - Evaluating bbox...\n"
     ]
    },
    {
     "name": "stdout",
     "output_type": "stream",
     "text": [
      "Loading and preparing results...\n",
      "DONE (t=0.75s)\n",
      "creating index...\n",
      "index created!\n",
      "Running per image evaluation...\n",
      "Evaluate annotation type *bbox*\n",
      "DONE (t=7.91s).\n",
      "Accumulating evaluation results...\n"
     ]
    },
    {
     "name": "stderr",
     "output_type": "stream",
     "text": [
      "2021-05-14 12:34:41,414 - mmdet - INFO - Epoch(val) [29][655]\tbbox_mAP: 0.1650, bbox_mAP_50: 0.2580, bbox_mAP_75: 0.1660, bbox_mAP_s: 0.0290, bbox_mAP_m: 0.1280, bbox_mAP_l: 0.3660, bbox_mAP_copypaste: 0.165 0.258 0.166 0.029 0.128 0.366\n"
     ]
    },
    {
     "name": "stdout",
     "output_type": "stream",
     "text": [
      "DONE (t=1.59s).\n",
      "Average Precision  (AP) @[ IoU=0.50:0.95 | area=   all | maxDets=100 ] = 0.165\n",
      "Average Precision  (AP) @[ IoU=0.50      | area=   all | maxDets=1000 ] = 0.258\n",
      "Average Precision  (AP) @[ IoU=0.75      | area=   all | maxDets=1000 ] = 0.166\n",
      "Average Precision  (AP) @[ IoU=0.50:0.95 | area= small | maxDets=1000 ] = 0.029\n",
      "Average Precision  (AP) @[ IoU=0.50:0.95 | area=medium | maxDets=1000 ] = 0.128\n",
      "Average Precision  (AP) @[ IoU=0.50:0.95 | area= large | maxDets=1000 ] = 0.366\n",
      "Average Recall     (AR) @[ IoU=0.50:0.95 | area=   all | maxDets=100 ] = 0.357\n",
      "Average Recall     (AR) @[ IoU=0.50:0.95 | area=   all | maxDets=300 ] = 0.357\n",
      "Average Recall     (AR) @[ IoU=0.50:0.95 | area=   all | maxDets=1000 ] = 0.357\n",
      "Average Recall     (AR) @[ IoU=0.50:0.95 | area= small | maxDets=1000 ] = 0.094\n",
      "Average Recall     (AR) @[ IoU=0.50:0.95 | area=medium | maxDets=1000 ] = 0.322\n",
      "Average Recall     (AR) @[ IoU=0.50:0.95 | area= large | maxDets=1000 ] = 0.652\n"
     ]
    },
    {
     "name": "stderr",
     "output_type": "stream",
     "text": [
      "2021-05-14 12:35:10,574 - mmdet - INFO - Epoch [30][50/655]\tlr: 1.000e-02, eta: 6:54:32, time: 0.583, data_time: 0.052, memory: 1887, loss_cls: 0.6724, loss_bbox: 0.2112, loss_bbox_rf: 0.2642, loss: 1.1478, grad_norm: 4.6604\n",
      "2021-05-14 12:35:37,778 - mmdet - INFO - Epoch [30][100/655]\tlr: 1.000e-02, eta: 6:54:06, time: 0.544, data_time: 0.007, memory: 1887, loss_cls: 0.7718, loss_bbox: 0.2434, loss_bbox_rf: 0.3018, loss: 1.3170, grad_norm: 4.7608\n",
      "2021-05-14 12:36:04,733 - mmdet - INFO - Epoch [30][150/655]\tlr: 1.000e-02, eta: 6:53:40, time: 0.539, data_time: 0.007, memory: 1887, loss_cls: 0.7056, loss_bbox: 0.2245, loss_bbox_rf: 0.2823, loss: 1.2125, grad_norm: 4.5996\n",
      "2021-05-14 12:36:31,965 - mmdet - INFO - Epoch [30][200/655]\tlr: 1.000e-02, eta: 6:53:14, time: 0.545, data_time: 0.007, memory: 1887, loss_cls: 0.7286, loss_bbox: 0.2339, loss_bbox_rf: 0.2942, loss: 1.2566, grad_norm: 4.4126\n",
      "2021-05-14 12:36:58,851 - mmdet - INFO - Epoch [30][250/655]\tlr: 1.000e-02, eta: 6:52:48, time: 0.538, data_time: 0.007, memory: 1887, loss_cls: 0.7098, loss_bbox: 0.2205, loss_bbox_rf: 0.2776, loss: 1.2079, grad_norm: 4.4270\n",
      "2021-05-14 12:37:25,798 - mmdet - INFO - Epoch [30][300/655]\tlr: 1.000e-02, eta: 6:52:21, time: 0.539, data_time: 0.007, memory: 1887, loss_cls: 0.7025, loss_bbox: 0.2284, loss_bbox_rf: 0.2841, loss: 1.2150, grad_norm: 4.9059\n",
      "2021-05-14 12:37:52,784 - mmdet - INFO - Epoch [30][350/655]\tlr: 1.000e-02, eta: 6:51:55, time: 0.540, data_time: 0.007, memory: 1887, loss_cls: 0.7984, loss_bbox: 0.2353, loss_bbox_rf: 0.2879, loss: 1.3216, grad_norm: 5.2035\n",
      "2021-05-14 12:38:19,753 - mmdet - INFO - Epoch [30][400/655]\tlr: 1.000e-02, eta: 6:51:29, time: 0.539, data_time: 0.007, memory: 1887, loss_cls: 0.7357, loss_bbox: 0.2385, loss_bbox_rf: 0.2976, loss: 1.2718, grad_norm: 5.0434\n",
      "2021-05-14 12:38:46,638 - mmdet - INFO - Epoch [30][450/655]\tlr: 1.000e-02, eta: 6:51:02, time: 0.538, data_time: 0.007, memory: 1887, loss_cls: 0.7110, loss_bbox: 0.2367, loss_bbox_rf: 0.2946, loss: 1.2423, grad_norm: 4.3251\n",
      "2021-05-14 12:39:13,498 - mmdet - INFO - Epoch [30][500/655]\tlr: 1.000e-02, eta: 6:50:36, time: 0.537, data_time: 0.007, memory: 1887, loss_cls: 0.7406, loss_bbox: 0.2397, loss_bbox_rf: 0.3001, loss: 1.2805, grad_norm: 4.9157\n",
      "2021-05-14 12:39:40,451 - mmdet - INFO - Epoch [30][550/655]\tlr: 1.000e-02, eta: 6:50:09, time: 0.539, data_time: 0.007, memory: 1887, loss_cls: 0.7215, loss_bbox: 0.2312, loss_bbox_rf: 0.2902, loss: 1.2429, grad_norm: 4.4418\n",
      "2021-05-14 12:40:07,716 - mmdet - INFO - Epoch [30][600/655]\tlr: 1.000e-02, eta: 6:49:44, time: 0.545, data_time: 0.007, memory: 1887, loss_cls: 0.7082, loss_bbox: 0.2306, loss_bbox_rf: 0.2930, loss: 1.2318, grad_norm: 4.0735\n",
      "2021-05-14 12:40:34,647 - mmdet - INFO - Epoch [30][650/655]\tlr: 1.000e-02, eta: 6:49:17, time: 0.539, data_time: 0.007, memory: 1887, loss_cls: 0.6741, loss_bbox: 0.2329, loss_bbox_rf: 0.2926, loss: 1.1996, grad_norm: 4.1282\n",
      "2021-05-14 12:40:37,427 - mmdet - INFO - Saving checkpoint at 30 epochs\n"
     ]
    },
    {
     "name": "stdout",
     "output_type": "stream",
     "text": [
      "[>>>>>>>>>>>>>>>>>>>>>>>>>>>>>] 655/655, 18.1 task/s, elapsed: 36s, ETA:     0s"
     ]
    },
    {
     "name": "stderr",
     "output_type": "stream",
     "text": [
      "2021-05-14 12:41:15,547 - mmdet - INFO - Evaluating bbox...\n"
     ]
    },
    {
     "name": "stdout",
     "output_type": "stream",
     "text": [
      "Loading and preparing results...\n",
      "DONE (t=0.82s)\n",
      "creating index...\n",
      "index created!\n",
      "Running per image evaluation...\n",
      "Evaluate annotation type *bbox*\n",
      "DONE (t=7.88s).\n",
      "Accumulating evaluation results...\n"
     ]
    },
    {
     "name": "stderr",
     "output_type": "stream",
     "text": [
      "2021-05-14 12:41:25,970 - mmdet - INFO - Epoch(val) [30][655]\tbbox_mAP: 0.1750, bbox_mAP_50: 0.2630, bbox_mAP_75: 0.1810, bbox_mAP_s: 0.0280, bbox_mAP_m: 0.1400, bbox_mAP_l: 0.3860, bbox_mAP_copypaste: 0.175 0.263 0.181 0.028 0.140 0.386\n"
     ]
    },
    {
     "name": "stdout",
     "output_type": "stream",
     "text": [
      "DONE (t=1.58s).\n",
      "Average Precision  (AP) @[ IoU=0.50:0.95 | area=   all | maxDets=100 ] = 0.175\n",
      "Average Precision  (AP) @[ IoU=0.50      | area=   all | maxDets=1000 ] = 0.263\n",
      "Average Precision  (AP) @[ IoU=0.75      | area=   all | maxDets=1000 ] = 0.181\n",
      "Average Precision  (AP) @[ IoU=0.50:0.95 | area= small | maxDets=1000 ] = 0.028\n",
      "Average Precision  (AP) @[ IoU=0.50:0.95 | area=medium | maxDets=1000 ] = 0.140\n",
      "Average Precision  (AP) @[ IoU=0.50:0.95 | area= large | maxDets=1000 ] = 0.386\n",
      "Average Recall     (AR) @[ IoU=0.50:0.95 | area=   all | maxDets=100 ] = 0.344\n",
      "Average Recall     (AR) @[ IoU=0.50:0.95 | area=   all | maxDets=300 ] = 0.344\n",
      "Average Recall     (AR) @[ IoU=0.50:0.95 | area=   all | maxDets=1000 ] = 0.344\n",
      "Average Recall     (AR) @[ IoU=0.50:0.95 | area= small | maxDets=1000 ] = 0.093\n",
      "Average Recall     (AR) @[ IoU=0.50:0.95 | area=medium | maxDets=1000 ] = 0.279\n",
      "Average Recall     (AR) @[ IoU=0.50:0.95 | area= large | maxDets=1000 ] = 0.657\n"
     ]
    },
    {
     "name": "stderr",
     "output_type": "stream",
     "text": [
      "2021-05-14 12:41:55,138 - mmdet - INFO - Epoch [31][50/655]\tlr: 1.000e-02, eta: 6:48:47, time: 0.583, data_time: 0.052, memory: 1887, loss_cls: 0.6365, loss_bbox: 0.2231, loss_bbox_rf: 0.2819, loss: 1.1414, grad_norm: 3.8489\n",
      "2021-05-14 12:42:22,029 - mmdet - INFO - Epoch [31][100/655]\tlr: 1.000e-02, eta: 6:48:21, time: 0.538, data_time: 0.008, memory: 1887, loss_cls: 0.6306, loss_bbox: 0.2078, loss_bbox_rf: 0.2557, loss: 1.0941, grad_norm: 4.3264\n",
      "2021-05-14 12:42:48,898 - mmdet - INFO - Epoch [31][150/655]\tlr: 1.000e-02, eta: 6:47:54, time: 0.537, data_time: 0.007, memory: 1887, loss_cls: 0.7123, loss_bbox: 0.2361, loss_bbox_rf: 0.2943, loss: 1.2427, grad_norm: 5.0053\n",
      "2021-05-14 12:43:16,179 - mmdet - INFO - Epoch [31][200/655]\tlr: 1.000e-02, eta: 6:47:28, time: 0.546, data_time: 0.007, memory: 1887, loss_cls: 0.6932, loss_bbox: 0.2318, loss_bbox_rf: 0.2854, loss: 1.2104, grad_norm: 4.5611\n",
      "2021-05-14 12:43:42,975 - mmdet - INFO - Epoch [31][250/655]\tlr: 1.000e-02, eta: 6:47:02, time: 0.536, data_time: 0.007, memory: 1887, loss_cls: 0.7046, loss_bbox: 0.2067, loss_bbox_rf: 0.2566, loss: 1.1679, grad_norm: 5.0629\n",
      "2021-05-14 12:44:09,926 - mmdet - INFO - Epoch [31][300/655]\tlr: 1.000e-02, eta: 6:46:35, time: 0.539, data_time: 0.007, memory: 1887, loss_cls: 0.7547, loss_bbox: 0.2272, loss_bbox_rf: 0.2829, loss: 1.2648, grad_norm: 5.2467\n",
      "2021-05-14 12:44:36,694 - mmdet - INFO - Epoch [31][350/655]\tlr: 1.000e-02, eta: 6:46:08, time: 0.535, data_time: 0.007, memory: 1887, loss_cls: 0.7789, loss_bbox: 0.2351, loss_bbox_rf: 0.2922, loss: 1.3062, grad_norm: 4.6285\n",
      "2021-05-14 12:45:03,396 - mmdet - INFO - Epoch [31][400/655]\tlr: 1.000e-02, eta: 6:45:41, time: 0.534, data_time: 0.007, memory: 1887, loss_cls: 0.6915, loss_bbox: 0.2277, loss_bbox_rf: 0.2878, loss: 1.2071, grad_norm: 4.2931\n",
      "2021-05-14 12:45:30,398 - mmdet - INFO - Epoch [31][450/655]\tlr: 1.000e-02, eta: 6:45:15, time: 0.540, data_time: 0.007, memory: 1887, loss_cls: 0.7422, loss_bbox: 0.2274, loss_bbox_rf: 0.2844, loss: 1.2540, grad_norm: 4.4989\n",
      "2021-05-14 12:45:57,246 - mmdet - INFO - Epoch [31][500/655]\tlr: 1.000e-02, eta: 6:44:49, time: 0.537, data_time: 0.007, memory: 1887, loss_cls: 0.6454, loss_bbox: 0.2211, loss_bbox_rf: 0.2762, loss: 1.1427, grad_norm: 4.1271\n",
      "2021-05-14 12:46:24,248 - mmdet - INFO - Epoch [31][550/655]\tlr: 1.000e-02, eta: 6:44:22, time: 0.540, data_time: 0.007, memory: 1887, loss_cls: 0.6925, loss_bbox: 0.2483, loss_bbox_rf: 0.3060, loss: 1.2467, grad_norm: 3.9534\n",
      "2021-05-14 12:46:51,090 - mmdet - INFO - Epoch [31][600/655]\tlr: 1.000e-02, eta: 6:43:56, time: 0.537, data_time: 0.007, memory: 1887, loss_cls: 0.6566, loss_bbox: 0.2246, loss_bbox_rf: 0.2808, loss: 1.1621, grad_norm: 4.1363\n",
      "2021-05-14 12:47:17,991 - mmdet - INFO - Epoch [31][650/655]\tlr: 1.000e-02, eta: 6:43:29, time: 0.538, data_time: 0.007, memory: 1887, loss_cls: 0.6666, loss_bbox: 0.2319, loss_bbox_rf: 0.2845, loss: 1.1829, grad_norm: 4.4975\n",
      "2021-05-14 12:47:20,764 - mmdet - INFO - Saving checkpoint at 31 epochs\n"
     ]
    },
    {
     "name": "stdout",
     "output_type": "stream",
     "text": [
      "[>>>>>>>>>>>>>>>>>>>>>>>>>>>>>] 655/655, 18.2 task/s, elapsed: 36s, ETA:     0s"
     ]
    },
    {
     "name": "stderr",
     "output_type": "stream",
     "text": [
      "2021-05-14 12:47:58,723 - mmdet - INFO - Evaluating bbox...\n"
     ]
    },
    {
     "name": "stdout",
     "output_type": "stream",
     "text": [
      "Loading and preparing results...\n",
      "DONE (t=1.27s)\n",
      "creating index...\n",
      "index created!\n",
      "Running per image evaluation...\n",
      "Evaluate annotation type *bbox*\n",
      "DONE (t=7.56s).\n",
      "Accumulating evaluation results...\n"
     ]
    },
    {
     "name": "stderr",
     "output_type": "stream",
     "text": [
      "2021-05-14 12:48:09,399 - mmdet - INFO - Epoch(val) [31][655]\tbbox_mAP: 0.1740, bbox_mAP_50: 0.2680, bbox_mAP_75: 0.1750, bbox_mAP_s: 0.0300, bbox_mAP_m: 0.1520, bbox_mAP_l: 0.3640, bbox_mAP_copypaste: 0.174 0.268 0.175 0.030 0.152 0.364\n"
     ]
    },
    {
     "name": "stdout",
     "output_type": "stream",
     "text": [
      "DONE (t=1.68s).\n",
      "Average Precision  (AP) @[ IoU=0.50:0.95 | area=   all | maxDets=100 ] = 0.174\n",
      "Average Precision  (AP) @[ IoU=0.50      | area=   all | maxDets=1000 ] = 0.268\n",
      "Average Precision  (AP) @[ IoU=0.75      | area=   all | maxDets=1000 ] = 0.175\n",
      "Average Precision  (AP) @[ IoU=0.50:0.95 | area= small | maxDets=1000 ] = 0.030\n",
      "Average Precision  (AP) @[ IoU=0.50:0.95 | area=medium | maxDets=1000 ] = 0.152\n",
      "Average Precision  (AP) @[ IoU=0.50:0.95 | area= large | maxDets=1000 ] = 0.364\n",
      "Average Recall     (AR) @[ IoU=0.50:0.95 | area=   all | maxDets=100 ] = 0.357\n",
      "Average Recall     (AR) @[ IoU=0.50:0.95 | area=   all | maxDets=300 ] = 0.357\n",
      "Average Recall     (AR) @[ IoU=0.50:0.95 | area=   all | maxDets=1000 ] = 0.357\n",
      "Average Recall     (AR) @[ IoU=0.50:0.95 | area= small | maxDets=1000 ] = 0.094\n",
      "Average Recall     (AR) @[ IoU=0.50:0.95 | area=medium | maxDets=1000 ] = 0.328\n",
      "Average Recall     (AR) @[ IoU=0.50:0.95 | area= large | maxDets=1000 ] = 0.640\n"
     ]
    },
    {
     "name": "stderr",
     "output_type": "stream",
     "text": [
      "2021-05-14 12:48:38,629 - mmdet - INFO - Epoch [32][50/655]\tlr: 1.000e-02, eta: 6:42:59, time: 0.584, data_time: 0.052, memory: 1887, loss_cls: 0.6266, loss_bbox: 0.2146, loss_bbox_rf: 0.2648, loss: 1.1059, grad_norm: 3.9072\n",
      "2021-05-14 12:49:05,624 - mmdet - INFO - Epoch [32][100/655]\tlr: 1.000e-02, eta: 6:42:33, time: 0.540, data_time: 0.008, memory: 1887, loss_cls: 0.6543, loss_bbox: 0.2278, loss_bbox_rf: 0.2879, loss: 1.1700, grad_norm: 4.1669\n",
      "2021-05-14 12:49:32,747 - mmdet - INFO - Epoch [32][150/655]\tlr: 1.000e-02, eta: 6:42:07, time: 0.542, data_time: 0.007, memory: 1887, loss_cls: 0.6131, loss_bbox: 0.2264, loss_bbox_rf: 0.2807, loss: 1.1202, grad_norm: 3.9528\n",
      "2021-05-14 12:49:59,742 - mmdet - INFO - Epoch [32][200/655]\tlr: 1.000e-02, eta: 6:41:41, time: 0.540, data_time: 0.008, memory: 1887, loss_cls: 0.7054, loss_bbox: 0.2230, loss_bbox_rf: 0.2750, loss: 1.2035, grad_norm: 5.0440\n",
      "2021-05-14 12:50:26,727 - mmdet - INFO - Epoch [32][250/655]\tlr: 1.000e-02, eta: 6:41:14, time: 0.540, data_time: 0.007, memory: 1887, loss_cls: 0.6542, loss_bbox: 0.2217, loss_bbox_rf: 0.2767, loss: 1.1526, grad_norm: 4.2499\n",
      "2021-05-14 12:50:53,566 - mmdet - INFO - Epoch [32][300/655]\tlr: 1.000e-02, eta: 6:40:48, time: 0.537, data_time: 0.007, memory: 1887, loss_cls: 0.7186, loss_bbox: 0.2214, loss_bbox_rf: 0.2767, loss: 1.2167, grad_norm: 4.8189\n",
      "2021-05-14 12:51:20,455 - mmdet - INFO - Epoch [32][350/655]\tlr: 1.000e-02, eta: 6:40:21, time: 0.538, data_time: 0.007, memory: 1887, loss_cls: 0.6423, loss_bbox: 0.2198, loss_bbox_rf: 0.2751, loss: 1.1372, grad_norm: 4.1479\n",
      "2021-05-14 12:51:47,534 - mmdet - INFO - Epoch [32][400/655]\tlr: 1.000e-02, eta: 6:39:55, time: 0.542, data_time: 0.008, memory: 1887, loss_cls: 0.6722, loss_bbox: 0.2315, loss_bbox_rf: 0.2883, loss: 1.1921, grad_norm: 4.2922\n",
      "2021-05-14 12:52:14,432 - mmdet - INFO - Epoch [32][450/655]\tlr: 1.000e-02, eta: 6:39:28, time: 0.538, data_time: 0.007, memory: 1887, loss_cls: 0.7063, loss_bbox: 0.2251, loss_bbox_rf: 0.2842, loss: 1.2156, grad_norm: 4.8315\n",
      "2021-05-14 12:52:41,503 - mmdet - INFO - Epoch [32][500/655]\tlr: 1.000e-02, eta: 6:39:02, time: 0.541, data_time: 0.008, memory: 1887, loss_cls: 0.8080, loss_bbox: 0.2459, loss_bbox_rf: 0.3042, loss: 1.3581, grad_norm: 5.1807\n",
      "2021-05-14 12:53:09,029 - mmdet - INFO - Epoch [32][550/655]\tlr: 1.000e-02, eta: 6:38:37, time: 0.551, data_time: 0.008, memory: 1887, loss_cls: 0.6827, loss_bbox: 0.2291, loss_bbox_rf: 0.2829, loss: 1.1947, grad_norm: 4.3598\n",
      "2021-05-14 12:53:36,005 - mmdet - INFO - Epoch [32][600/655]\tlr: 1.000e-02, eta: 6:38:11, time: 0.540, data_time: 0.007, memory: 1887, loss_cls: 0.6563, loss_bbox: 0.2329, loss_bbox_rf: 0.2845, loss: 1.1737, grad_norm: 4.1601\n",
      "2021-05-14 12:54:02,730 - mmdet - INFO - Epoch [32][650/655]\tlr: 1.000e-02, eta: 6:37:44, time: 0.534, data_time: 0.007, memory: 1887, loss_cls: 0.6563, loss_bbox: 0.2230, loss_bbox_rf: 0.2695, loss: 1.1488, grad_norm: 4.5925\n",
      "2021-05-14 12:54:05,514 - mmdet - INFO - Saving checkpoint at 32 epochs\n"
     ]
    },
    {
     "name": "stdout",
     "output_type": "stream",
     "text": [
      "[>>>>>>>>>>>>>>>>>>>>>>>>>>>>>] 655/655, 18.3 task/s, elapsed: 36s, ETA:     0s"
     ]
    },
    {
     "name": "stderr",
     "output_type": "stream",
     "text": [
      "2021-05-14 12:54:43,444 - mmdet - INFO - Evaluating bbox...\n"
     ]
    },
    {
     "name": "stdout",
     "output_type": "stream",
     "text": [
      "Loading and preparing results...\n",
      "DONE (t=0.73s)\n",
      "creating index...\n",
      "index created!\n",
      "Running per image evaluation...\n",
      "Evaluate annotation type *bbox*\n",
      "DONE (t=7.64s).\n",
      "Accumulating evaluation results...\n"
     ]
    },
    {
     "name": "stderr",
     "output_type": "stream",
     "text": [
      "2021-05-14 12:54:53,431 - mmdet - INFO - Epoch(val) [32][655]\tbbox_mAP: 0.1650, bbox_mAP_50: 0.2630, bbox_mAP_75: 0.1610, bbox_mAP_s: 0.0260, bbox_mAP_m: 0.1370, bbox_mAP_l: 0.3530, bbox_mAP_copypaste: 0.165 0.263 0.161 0.026 0.137 0.353\n"
     ]
    },
    {
     "name": "stdout",
     "output_type": "stream",
     "text": [
      "DONE (t=1.47s).\n",
      "Average Precision  (AP) @[ IoU=0.50:0.95 | area=   all | maxDets=100 ] = 0.165\n",
      "Average Precision  (AP) @[ IoU=0.50      | area=   all | maxDets=1000 ] = 0.263\n",
      "Average Precision  (AP) @[ IoU=0.75      | area=   all | maxDets=1000 ] = 0.161\n",
      "Average Precision  (AP) @[ IoU=0.50:0.95 | area= small | maxDets=1000 ] = 0.026\n",
      "Average Precision  (AP) @[ IoU=0.50:0.95 | area=medium | maxDets=1000 ] = 0.137\n",
      "Average Precision  (AP) @[ IoU=0.50:0.95 | area= large | maxDets=1000 ] = 0.353\n",
      "Average Recall     (AR) @[ IoU=0.50:0.95 | area=   all | maxDets=100 ] = 0.351\n",
      "Average Recall     (AR) @[ IoU=0.50:0.95 | area=   all | maxDets=300 ] = 0.351\n",
      "Average Recall     (AR) @[ IoU=0.50:0.95 | area=   all | maxDets=1000 ] = 0.351\n",
      "Average Recall     (AR) @[ IoU=0.50:0.95 | area= small | maxDets=1000 ] = 0.095\n",
      "Average Recall     (AR) @[ IoU=0.50:0.95 | area=medium | maxDets=1000 ] = 0.315\n",
      "Average Recall     (AR) @[ IoU=0.50:0.95 | area= large | maxDets=1000 ] = 0.639\n"
     ]
    },
    {
     "name": "stderr",
     "output_type": "stream",
     "text": [
      "2021-05-14 12:55:22,622 - mmdet - INFO - Epoch [33][50/655]\tlr: 1.000e-02, eta: 6:37:14, time: 0.584, data_time: 0.052, memory: 1887, loss_cls: 0.6749, loss_bbox: 0.2190, loss_bbox_rf: 0.2721, loss: 1.1660, grad_norm: 4.5984\n",
      "2021-05-14 12:55:49,421 - mmdet - INFO - Epoch [33][100/655]\tlr: 1.000e-02, eta: 6:36:47, time: 0.536, data_time: 0.007, memory: 1887, loss_cls: 0.6446, loss_bbox: 0.2261, loss_bbox_rf: 0.2798, loss: 1.1506, grad_norm: 4.2424\n",
      "2021-05-14 12:56:16,252 - mmdet - INFO - Epoch [33][150/655]\tlr: 1.000e-02, eta: 6:36:20, time: 0.537, data_time: 0.007, memory: 1887, loss_cls: 0.6642, loss_bbox: 0.2187, loss_bbox_rf: 0.2694, loss: 1.1523, grad_norm: 4.5613\n",
      "2021-05-14 12:56:43,292 - mmdet - INFO - Epoch [33][200/655]\tlr: 1.000e-02, eta: 6:35:54, time: 0.541, data_time: 0.007, memory: 1887, loss_cls: 0.7172, loss_bbox: 0.2322, loss_bbox_rf: 0.2865, loss: 1.2359, grad_norm: 5.0455\n",
      "2021-05-14 12:57:10,130 - mmdet - INFO - Epoch [33][250/655]\tlr: 1.000e-02, eta: 6:35:27, time: 0.537, data_time: 0.007, memory: 1887, loss_cls: 0.6557, loss_bbox: 0.2312, loss_bbox_rf: 0.2921, loss: 1.1789, grad_norm: 4.1129\n",
      "2021-05-14 12:57:37,083 - mmdet - INFO - Epoch [33][300/655]\tlr: 1.000e-02, eta: 6:35:01, time: 0.539, data_time: 0.007, memory: 1887, loss_cls: 0.6582, loss_bbox: 0.2219, loss_bbox_rf: 0.2740, loss: 1.1542, grad_norm: 4.5077\n",
      "2021-05-14 12:58:04,772 - mmdet - INFO - Epoch [33][350/655]\tlr: 1.000e-02, eta: 6:34:36, time: 0.554, data_time: 0.007, memory: 1887, loss_cls: 0.6346, loss_bbox: 0.2117, loss_bbox_rf: 0.2618, loss: 1.1080, grad_norm: 4.0079\n",
      "2021-05-14 12:58:31,757 - mmdet - INFO - Epoch [33][400/655]\tlr: 1.000e-02, eta: 6:34:09, time: 0.540, data_time: 0.007, memory: 1887, loss_cls: 0.6862, loss_bbox: 0.2144, loss_bbox_rf: 0.2653, loss: 1.1658, grad_norm: 4.8046\n",
      "2021-05-14 12:58:59,207 - mmdet - INFO - Epoch [33][450/655]\tlr: 1.000e-02, eta: 6:33:44, time: 0.549, data_time: 0.007, memory: 1887, loss_cls: 0.7019, loss_bbox: 0.2265, loss_bbox_rf: 0.2796, loss: 1.2079, grad_norm: 5.0692\n",
      "2021-05-14 12:59:26,191 - mmdet - INFO - Epoch [33][500/655]\tlr: 1.000e-02, eta: 6:33:18, time: 0.540, data_time: 0.007, memory: 1887, loss_cls: 0.6505, loss_bbox: 0.2308, loss_bbox_rf: 0.2897, loss: 1.1710, grad_norm: 3.8835\n",
      "2021-05-14 12:59:53,065 - mmdet - INFO - Epoch [33][550/655]\tlr: 1.000e-02, eta: 6:32:51, time: 0.537, data_time: 0.007, memory: 1887, loss_cls: 0.6174, loss_bbox: 0.2289, loss_bbox_rf: 0.2855, loss: 1.1318, grad_norm: 3.9422\n",
      "2021-05-14 13:00:19,895 - mmdet - INFO - Epoch [33][600/655]\tlr: 1.000e-02, eta: 6:32:24, time: 0.537, data_time: 0.007, memory: 1887, loss_cls: 0.5967, loss_bbox: 0.2119, loss_bbox_rf: 0.2622, loss: 1.0708, grad_norm: 4.0170\n",
      "2021-05-14 13:00:46,732 - mmdet - INFO - Epoch [33][650/655]\tlr: 1.000e-02, eta: 6:31:58, time: 0.537, data_time: 0.007, memory: 1887, loss_cls: 0.6440, loss_bbox: 0.2218, loss_bbox_rf: 0.2738, loss: 1.1396, grad_norm: 4.2874\n",
      "2021-05-14 13:00:49,516 - mmdet - INFO - Saving checkpoint at 33 epochs\n"
     ]
    },
    {
     "name": "stdout",
     "output_type": "stream",
     "text": [
      "[>>>>>>>>>>>>>>>>>>>>>>>>>>>>>] 655/655, 17.6 task/s, elapsed: 37s, ETA:     0s"
     ]
    },
    {
     "name": "stderr",
     "output_type": "stream",
     "text": [
      "2021-05-14 13:01:28,479 - mmdet - INFO - Evaluating bbox...\n"
     ]
    },
    {
     "name": "stdout",
     "output_type": "stream",
     "text": [
      "Loading and preparing results...\n",
      "DONE (t=1.27s)\n",
      "creating index...\n",
      "index created!\n",
      "Running per image evaluation...\n",
      "Evaluate annotation type *bbox*\n",
      "DONE (t=7.18s).\n",
      "Accumulating evaluation results...\n"
     ]
    },
    {
     "name": "stderr",
     "output_type": "stream",
     "text": [
      "2021-05-14 13:01:38,567 - mmdet - INFO - Epoch(val) [33][655]\tbbox_mAP: 0.1550, bbox_mAP_50: 0.2420, bbox_mAP_75: 0.1580, bbox_mAP_s: 0.0300, bbox_mAP_m: 0.1200, bbox_mAP_l: 0.3600, bbox_mAP_copypaste: 0.155 0.242 0.158 0.030 0.120 0.360\n"
     ]
    },
    {
     "name": "stdout",
     "output_type": "stream",
     "text": [
      "DONE (t=1.49s).\n",
      "Average Precision  (AP) @[ IoU=0.50:0.95 | area=   all | maxDets=100 ] = 0.155\n",
      "Average Precision  (AP) @[ IoU=0.50      | area=   all | maxDets=1000 ] = 0.242\n",
      "Average Precision  (AP) @[ IoU=0.75      | area=   all | maxDets=1000 ] = 0.158\n",
      "Average Precision  (AP) @[ IoU=0.50:0.95 | area= small | maxDets=1000 ] = 0.030\n",
      "Average Precision  (AP) @[ IoU=0.50:0.95 | area=medium | maxDets=1000 ] = 0.120\n",
      "Average Precision  (AP) @[ IoU=0.50:0.95 | area= large | maxDets=1000 ] = 0.360\n",
      "Average Recall     (AR) @[ IoU=0.50:0.95 | area=   all | maxDets=100 ] = 0.314\n",
      "Average Recall     (AR) @[ IoU=0.50:0.95 | area=   all | maxDets=300 ] = 0.314\n",
      "Average Recall     (AR) @[ IoU=0.50:0.95 | area=   all | maxDets=1000 ] = 0.314\n",
      "Average Recall     (AR) @[ IoU=0.50:0.95 | area= small | maxDets=1000 ] = 0.096\n",
      "Average Recall     (AR) @[ IoU=0.50:0.95 | area=medium | maxDets=1000 ] = 0.260\n",
      "Average Recall     (AR) @[ IoU=0.50:0.95 | area= large | maxDets=1000 ] = 0.628\n"
     ]
    },
    {
     "name": "stderr",
     "output_type": "stream",
     "text": [
      "2021-05-14 13:02:07,785 - mmdet - INFO - Epoch [34][50/655]\tlr: 1.000e-02, eta: 6:31:28, time: 0.584, data_time: 0.053, memory: 1887, loss_cls: 0.6281, loss_bbox: 0.2013, loss_bbox_rf: 0.2490, loss: 1.0784, grad_norm: 4.2774\n",
      "2021-05-14 13:02:34,767 - mmdet - INFO - Epoch [34][100/655]\tlr: 1.000e-02, eta: 6:31:01, time: 0.540, data_time: 0.008, memory: 1887, loss_cls: 0.6131, loss_bbox: 0.2089, loss_bbox_rf: 0.2604, loss: 1.0824, grad_norm: 4.0930\n",
      "2021-05-14 13:03:01,663 - mmdet - INFO - Epoch [34][150/655]\tlr: 1.000e-02, eta: 6:30:35, time: 0.538, data_time: 0.007, memory: 1887, loss_cls: 0.6047, loss_bbox: 0.2078, loss_bbox_rf: 0.2605, loss: 1.0730, grad_norm: 3.8778\n",
      "2021-05-14 13:03:28,546 - mmdet - INFO - Epoch [34][200/655]\tlr: 1.000e-02, eta: 6:30:08, time: 0.538, data_time: 0.007, memory: 1887, loss_cls: 0.6087, loss_bbox: 0.2186, loss_bbox_rf: 0.2703, loss: 1.0976, grad_norm: 4.1818\n",
      "2021-05-14 13:03:55,491 - mmdet - INFO - Epoch [34][250/655]\tlr: 1.000e-02, eta: 6:29:41, time: 0.539, data_time: 0.008, memory: 1887, loss_cls: 0.5905, loss_bbox: 0.2130, loss_bbox_rf: 0.2658, loss: 1.0693, grad_norm: 3.7488\n",
      "2021-05-14 13:04:22,382 - mmdet - INFO - Epoch [34][300/655]\tlr: 1.000e-02, eta: 6:29:15, time: 0.538, data_time: 0.008, memory: 1887, loss_cls: 0.5808, loss_bbox: 0.2088, loss_bbox_rf: 0.2621, loss: 1.0517, grad_norm: 3.7935\n",
      "2021-05-14 13:04:49,379 - mmdet - INFO - Epoch [34][350/655]\tlr: 1.000e-02, eta: 6:28:48, time: 0.540, data_time: 0.008, memory: 1887, loss_cls: 0.5960, loss_bbox: 0.2123, loss_bbox_rf: 0.2624, loss: 1.0708, grad_norm: 4.2637\n",
      "2021-05-14 13:05:16,245 - mmdet - INFO - Epoch [34][400/655]\tlr: 1.000e-02, eta: 6:28:22, time: 0.537, data_time: 0.007, memory: 1887, loss_cls: 0.6207, loss_bbox: 0.2135, loss_bbox_rf: 0.2644, loss: 1.0986, grad_norm: 4.2346\n",
      "2021-05-14 13:05:43,087 - mmdet - INFO - Epoch [34][450/655]\tlr: 1.000e-02, eta: 6:27:55, time: 0.537, data_time: 0.007, memory: 1887, loss_cls: 0.5861, loss_bbox: 0.2104, loss_bbox_rf: 0.2612, loss: 1.0577, grad_norm: 3.8568\n",
      "2021-05-14 13:06:09,964 - mmdet - INFO - Epoch [34][500/655]\tlr: 1.000e-02, eta: 6:27:28, time: 0.538, data_time: 0.008, memory: 1887, loss_cls: 0.6281, loss_bbox: 0.2110, loss_bbox_rf: 0.2636, loss: 1.1027, grad_norm: 4.5390\n",
      "2021-05-14 13:06:36,698 - mmdet - INFO - Epoch [34][550/655]\tlr: 1.000e-02, eta: 6:27:02, time: 0.535, data_time: 0.007, memory: 1887, loss_cls: 0.6644, loss_bbox: 0.2318, loss_bbox_rf: 0.2913, loss: 1.1875, grad_norm: 4.2732\n",
      "2021-05-14 13:07:03,626 - mmdet - INFO - Epoch [34][600/655]\tlr: 1.000e-02, eta: 6:26:35, time: 0.539, data_time: 0.007, memory: 1887, loss_cls: 0.6547, loss_bbox: 0.2191, loss_bbox_rf: 0.2753, loss: 1.1491, grad_norm: 4.1561\n",
      "2021-05-14 13:07:30,618 - mmdet - INFO - Epoch [34][650/655]\tlr: 1.000e-02, eta: 6:26:09, time: 0.540, data_time: 0.008, memory: 1887, loss_cls: 0.6162, loss_bbox: 0.2119, loss_bbox_rf: 0.2641, loss: 1.0922, grad_norm: 4.0453\n",
      "2021-05-14 13:07:33,401 - mmdet - INFO - Saving checkpoint at 34 epochs\n"
     ]
    },
    {
     "name": "stdout",
     "output_type": "stream",
     "text": [
      "[>>>>>>>>>>>>>>>>>>>>>>>>>>>>>] 655/655, 18.3 task/s, elapsed: 36s, ETA:     0s"
     ]
    },
    {
     "name": "stderr",
     "output_type": "stream",
     "text": [
      "2021-05-14 13:08:11,373 - mmdet - INFO - Evaluating bbox...\n"
     ]
    },
    {
     "name": "stdout",
     "output_type": "stream",
     "text": [
      "Loading and preparing results...\n",
      "DONE (t=0.71s)\n",
      "creating index...\n",
      "index created!\n",
      "Running per image evaluation...\n",
      "Evaluate annotation type *bbox*\n",
      "DONE (t=7.46s).\n",
      "Accumulating evaluation results...\n"
     ]
    },
    {
     "name": "stderr",
     "output_type": "stream",
     "text": [
      "2021-05-14 13:08:21,055 - mmdet - INFO - Epoch(val) [34][655]\tbbox_mAP: 0.1610, bbox_mAP_50: 0.2460, bbox_mAP_75: 0.1680, bbox_mAP_s: 0.0250, bbox_mAP_m: 0.1280, bbox_mAP_l: 0.3850, bbox_mAP_copypaste: 0.161 0.246 0.168 0.025 0.128 0.385\n"
     ]
    },
    {
     "name": "stdout",
     "output_type": "stream",
     "text": [
      "DONE (t=1.38s).\n",
      "Average Precision  (AP) @[ IoU=0.50:0.95 | area=   all | maxDets=100 ] = 0.161\n",
      "Average Precision  (AP) @[ IoU=0.50      | area=   all | maxDets=1000 ] = 0.246\n",
      "Average Precision  (AP) @[ IoU=0.75      | area=   all | maxDets=1000 ] = 0.168\n",
      "Average Precision  (AP) @[ IoU=0.50:0.95 | area= small | maxDets=1000 ] = 0.025\n",
      "Average Precision  (AP) @[ IoU=0.50:0.95 | area=medium | maxDets=1000 ] = 0.128\n",
      "Average Precision  (AP) @[ IoU=0.50:0.95 | area= large | maxDets=1000 ] = 0.385\n",
      "Average Recall     (AR) @[ IoU=0.50:0.95 | area=   all | maxDets=100 ] = 0.327\n",
      "Average Recall     (AR) @[ IoU=0.50:0.95 | area=   all | maxDets=300 ] = 0.327\n",
      "Average Recall     (AR) @[ IoU=0.50:0.95 | area=   all | maxDets=1000 ] = 0.327\n",
      "Average Recall     (AR) @[ IoU=0.50:0.95 | area= small | maxDets=1000 ] = 0.086\n",
      "Average Recall     (AR) @[ IoU=0.50:0.95 | area=medium | maxDets=1000 ] = 0.280\n",
      "Average Recall     (AR) @[ IoU=0.50:0.95 | area= large | maxDets=1000 ] = 0.633\n"
     ]
    },
    {
     "name": "stderr",
     "output_type": "stream",
     "text": [
      "2021-05-14 13:08:50,223 - mmdet - INFO - Epoch [35][50/655]\tlr: 1.000e-02, eta: 6:25:39, time: 0.583, data_time: 0.052, memory: 1887, loss_cls: 0.6417, loss_bbox: 0.2065, loss_bbox_rf: 0.2531, loss: 1.1013, grad_norm: 4.7397\n",
      "2021-05-14 13:09:17,195 - mmdet - INFO - Epoch [35][100/655]\tlr: 1.000e-02, eta: 6:25:12, time: 0.539, data_time: 0.008, memory: 1887, loss_cls: 0.6425, loss_bbox: 0.2212, loss_bbox_rf: 0.2703, loss: 1.1340, grad_norm: 4.5104\n",
      "2021-05-14 13:09:45,029 - mmdet - INFO - Epoch [35][150/655]\tlr: 1.000e-02, eta: 6:24:47, time: 0.557, data_time: 0.008, memory: 1887, loss_cls: 0.5823, loss_bbox: 0.2086, loss_bbox_rf: 0.2615, loss: 1.0524, grad_norm: 3.7482\n",
      "2021-05-14 13:10:11,983 - mmdet - INFO - Epoch [35][200/655]\tlr: 1.000e-02, eta: 6:24:21, time: 0.539, data_time: 0.008, memory: 1887, loss_cls: 0.5713, loss_bbox: 0.2183, loss_bbox_rf: 0.2681, loss: 1.0577, grad_norm: 3.4720\n",
      "2021-05-14 13:10:38,878 - mmdet - INFO - Epoch [35][250/655]\tlr: 1.000e-02, eta: 6:23:54, time: 0.538, data_time: 0.007, memory: 1887, loss_cls: 0.5849, loss_bbox: 0.2096, loss_bbox_rf: 0.2626, loss: 1.0571, grad_norm: 3.7419\n",
      "2021-05-14 13:11:05,874 - mmdet - INFO - Epoch [35][300/655]\tlr: 1.000e-02, eta: 6:23:28, time: 0.540, data_time: 0.008, memory: 1887, loss_cls: 0.5871, loss_bbox: 0.2162, loss_bbox_rf: 0.2708, loss: 1.0741, grad_norm: 4.0184\n",
      "2021-05-14 13:11:32,880 - mmdet - INFO - Epoch [35][350/655]\tlr: 1.000e-02, eta: 6:23:01, time: 0.540, data_time: 0.007, memory: 1887, loss_cls: 0.6300, loss_bbox: 0.2018, loss_bbox_rf: 0.2555, loss: 1.0873, grad_norm: 4.8497\n",
      "2021-05-14 13:11:59,889 - mmdet - INFO - Epoch [35][400/655]\tlr: 1.000e-02, eta: 6:22:35, time: 0.540, data_time: 0.008, memory: 1887, loss_cls: 0.6242, loss_bbox: 0.2123, loss_bbox_rf: 0.2635, loss: 1.1001, grad_norm: 4.1937\n",
      "2021-05-14 13:12:26,981 - mmdet - INFO - Epoch [35][450/655]\tlr: 1.000e-02, eta: 6:22:09, time: 0.542, data_time: 0.007, memory: 1887, loss_cls: 0.5912, loss_bbox: 0.2058, loss_bbox_rf: 0.2558, loss: 1.0528, grad_norm: 3.8192\n",
      "2021-05-14 13:12:53,854 - mmdet - INFO - Epoch [35][500/655]\tlr: 1.000e-02, eta: 6:21:42, time: 0.537, data_time: 0.007, memory: 1887, loss_cls: 0.5751, loss_bbox: 0.2208, loss_bbox_rf: 0.2640, loss: 1.0599, grad_norm: 4.0889\n",
      "2021-05-14 13:13:20,731 - mmdet - INFO - Epoch [35][550/655]\tlr: 1.000e-02, eta: 6:21:15, time: 0.538, data_time: 0.007, memory: 1887, loss_cls: 0.7379, loss_bbox: 0.2233, loss_bbox_rf: 0.2767, loss: 1.2379, grad_norm: 5.5202\n",
      "2021-05-14 13:13:47,655 - mmdet - INFO - Epoch [35][600/655]\tlr: 1.000e-02, eta: 6:20:49, time: 0.538, data_time: 0.008, memory: 1887, loss_cls: 0.6828, loss_bbox: 0.2181, loss_bbox_rf: 0.2628, loss: 1.1637, grad_norm: 5.1150\n",
      "2021-05-14 13:14:14,383 - mmdet - INFO - Epoch [35][650/655]\tlr: 1.000e-02, eta: 6:20:22, time: 0.535, data_time: 0.007, memory: 1887, loss_cls: 0.7063, loss_bbox: 0.2239, loss_bbox_rf: 0.2791, loss: 1.2093, grad_norm: 5.0183\n",
      "2021-05-14 13:14:17,148 - mmdet - INFO - Saving checkpoint at 35 epochs\n"
     ]
    },
    {
     "name": "stdout",
     "output_type": "stream",
     "text": [
      "[>>>>>>>>>>>>>>>>>>>>>>>>>>>>>] 655/655, 17.4 task/s, elapsed: 38s, ETA:     0s"
     ]
    },
    {
     "name": "stderr",
     "output_type": "stream",
     "text": [
      "2021-05-14 13:14:57,060 - mmdet - INFO - Evaluating bbox...\n"
     ]
    },
    {
     "name": "stdout",
     "output_type": "stream",
     "text": [
      "Loading and preparing results...\n",
      "DONE (t=0.71s)\n",
      "creating index...\n",
      "index created!\n",
      "Running per image evaluation...\n",
      "Evaluate annotation type *bbox*\n",
      "DONE (t=6.14s).\n",
      "Accumulating evaluation results...\n"
     ]
    },
    {
     "name": "stderr",
     "output_type": "stream",
     "text": [
      "2021-05-14 13:15:05,530 - mmdet - INFO - Epoch(val) [35][655]\tbbox_mAP: 0.1500, bbox_mAP_50: 0.2330, bbox_mAP_75: 0.1520, bbox_mAP_s: 0.0320, bbox_mAP_m: 0.1250, bbox_mAP_l: 0.3030, bbox_mAP_copypaste: 0.150 0.233 0.152 0.032 0.125 0.303\n"
     ]
    },
    {
     "name": "stdout",
     "output_type": "stream",
     "text": [
      "DONE (t=1.49s).\n",
      "Average Precision  (AP) @[ IoU=0.50:0.95 | area=   all | maxDets=100 ] = 0.150\n",
      "Average Precision  (AP) @[ IoU=0.50      | area=   all | maxDets=1000 ] = 0.233\n",
      "Average Precision  (AP) @[ IoU=0.75      | area=   all | maxDets=1000 ] = 0.152\n",
      "Average Precision  (AP) @[ IoU=0.50:0.95 | area= small | maxDets=1000 ] = 0.032\n",
      "Average Precision  (AP) @[ IoU=0.50:0.95 | area=medium | maxDets=1000 ] = 0.125\n",
      "Average Precision  (AP) @[ IoU=0.50:0.95 | area= large | maxDets=1000 ] = 0.303\n",
      "Average Recall     (AR) @[ IoU=0.50:0.95 | area=   all | maxDets=100 ] = 0.329\n",
      "Average Recall     (AR) @[ IoU=0.50:0.95 | area=   all | maxDets=300 ] = 0.329\n",
      "Average Recall     (AR) @[ IoU=0.50:0.95 | area=   all | maxDets=1000 ] = 0.329\n",
      "Average Recall     (AR) @[ IoU=0.50:0.95 | area= small | maxDets=1000 ] = 0.102\n",
      "Average Recall     (AR) @[ IoU=0.50:0.95 | area=medium | maxDets=1000 ] = 0.285\n",
      "Average Recall     (AR) @[ IoU=0.50:0.95 | area= large | maxDets=1000 ] = 0.642\n"
     ]
    },
    {
     "name": "stderr",
     "output_type": "stream",
     "text": [
      "2021-05-14 13:15:34,727 - mmdet - INFO - Epoch [36][50/655]\tlr: 1.000e-02, eta: 6:19:52, time: 0.584, data_time: 0.052, memory: 1887, loss_cls: 0.6035, loss_bbox: 0.2040, loss_bbox_rf: 0.2541, loss: 1.0617, grad_norm: 4.2537\n",
      "2021-05-14 13:16:01,735 - mmdet - INFO - Epoch [36][100/655]\tlr: 1.000e-02, eta: 6:19:25, time: 0.540, data_time: 0.007, memory: 1887, loss_cls: 0.6754, loss_bbox: 0.2050, loss_bbox_rf: 0.2488, loss: 1.1292, grad_norm: 5.3814\n",
      "2021-05-14 13:16:28,617 - mmdet - INFO - Epoch [36][150/655]\tlr: 1.000e-02, eta: 6:18:59, time: 0.538, data_time: 0.007, memory: 1887, loss_cls: 0.7146, loss_bbox: 0.2200, loss_bbox_rf: 0.2731, loss: 1.2077, grad_norm: 5.1523\n",
      "2021-05-14 13:16:55,556 - mmdet - INFO - Epoch [36][200/655]\tlr: 1.000e-02, eta: 6:18:32, time: 0.539, data_time: 0.007, memory: 1887, loss_cls: 0.6986, loss_bbox: 0.2210, loss_bbox_rf: 0.2732, loss: 1.1929, grad_norm: 4.5532\n",
      "2021-05-14 13:17:22,511 - mmdet - INFO - Epoch [36][250/655]\tlr: 1.000e-02, eta: 6:18:06, time: 0.539, data_time: 0.007, memory: 1887, loss_cls: 0.6266, loss_bbox: 0.2289, loss_bbox_rf: 0.2827, loss: 1.1383, grad_norm: 4.0298\n",
      "2021-05-14 13:17:49,392 - mmdet - INFO - Epoch [36][300/655]\tlr: 1.000e-02, eta: 6:17:39, time: 0.538, data_time: 0.007, memory: 1887, loss_cls: 0.6108, loss_bbox: 0.2034, loss_bbox_rf: 0.2526, loss: 1.0668, grad_norm: 4.2115\n",
      "2021-05-14 13:18:16,286 - mmdet - INFO - Epoch [36][350/655]\tlr: 1.000e-02, eta: 6:17:12, time: 0.538, data_time: 0.007, memory: 1887, loss_cls: 0.6051, loss_bbox: 0.2063, loss_bbox_rf: 0.2552, loss: 1.0666, grad_norm: 4.0807\n",
      "2021-05-14 13:18:43,129 - mmdet - INFO - Epoch [36][400/655]\tlr: 1.000e-02, eta: 6:16:46, time: 0.537, data_time: 0.007, memory: 1887, loss_cls: 0.6547, loss_bbox: 0.2247, loss_bbox_rf: 0.2811, loss: 1.1606, grad_norm: 4.5047\n",
      "2021-05-14 13:19:10,096 - mmdet - INFO - Epoch [36][450/655]\tlr: 1.000e-02, eta: 6:16:19, time: 0.539, data_time: 0.007, memory: 1887, loss_cls: 0.6394, loss_bbox: 0.2135, loss_bbox_rf: 0.2652, loss: 1.1181, grad_norm: 4.3059\n",
      "2021-05-14 13:19:37,014 - mmdet - INFO - Epoch [36][500/655]\tlr: 1.000e-02, eta: 6:15:53, time: 0.538, data_time: 0.007, memory: 1887, loss_cls: 0.5922, loss_bbox: 0.2226, loss_bbox_rf: 0.2794, loss: 1.0943, grad_norm: 3.5756\n",
      "2021-05-14 13:20:04,509 - mmdet - INFO - Epoch [36][550/655]\tlr: 1.000e-02, eta: 6:15:27, time: 0.550, data_time: 0.008, memory: 1887, loss_cls: 0.6215, loss_bbox: 0.2054, loss_bbox_rf: 0.2515, loss: 1.0784, grad_norm: 4.7983\n",
      "2021-05-14 13:20:31,432 - mmdet - INFO - Epoch [36][600/655]\tlr: 1.000e-02, eta: 6:15:01, time: 0.538, data_time: 0.007, memory: 1887, loss_cls: 0.5889, loss_bbox: 0.2032, loss_bbox_rf: 0.2462, loss: 1.0383, grad_norm: 4.4103\n",
      "2021-05-14 13:20:58,377 - mmdet - INFO - Epoch [36][650/655]\tlr: 1.000e-02, eta: 6:14:34, time: 0.539, data_time: 0.008, memory: 1887, loss_cls: 0.6233, loss_bbox: 0.2236, loss_bbox_rf: 0.2721, loss: 1.1191, grad_norm: 4.4130\n",
      "2021-05-14 13:21:01,158 - mmdet - INFO - Saving checkpoint at 36 epochs\n"
     ]
    },
    {
     "name": "stdout",
     "output_type": "stream",
     "text": [
      "[>>>>>>>>>>>>>>>>>>>>>>>>>>>>>] 655/655, 18.5 task/s, elapsed: 35s, ETA:     0s"
     ]
    },
    {
     "name": "stderr",
     "output_type": "stream",
     "text": [
      "2021-05-14 13:21:38,819 - mmdet - INFO - Evaluating bbox...\n"
     ]
    },
    {
     "name": "stdout",
     "output_type": "stream",
     "text": [
      "Loading and preparing results...\n",
      "DONE (t=0.72s)\n",
      "creating index...\n",
      "index created!\n",
      "Running per image evaluation...\n",
      "Evaluate annotation type *bbox*\n",
      "DONE (t=7.58s).\n",
      "Accumulating evaluation results...\n"
     ]
    },
    {
     "name": "stderr",
     "output_type": "stream",
     "text": [
      "2021-05-14 13:21:48,790 - mmdet - INFO - Epoch(val) [36][655]\tbbox_mAP: 0.1630, bbox_mAP_50: 0.2550, bbox_mAP_75: 0.1620, bbox_mAP_s: 0.0310, bbox_mAP_m: 0.1230, bbox_mAP_l: 0.3460, bbox_mAP_copypaste: 0.163 0.255 0.162 0.031 0.123 0.346\n"
     ]
    },
    {
     "name": "stdout",
     "output_type": "stream",
     "text": [
      "DONE (t=1.51s).\n",
      "Average Precision  (AP) @[ IoU=0.50:0.95 | area=   all | maxDets=100 ] = 0.163\n",
      "Average Precision  (AP) @[ IoU=0.50      | area=   all | maxDets=1000 ] = 0.255\n",
      "Average Precision  (AP) @[ IoU=0.75      | area=   all | maxDets=1000 ] = 0.162\n",
      "Average Precision  (AP) @[ IoU=0.50:0.95 | area= small | maxDets=1000 ] = 0.031\n",
      "Average Precision  (AP) @[ IoU=0.50:0.95 | area=medium | maxDets=1000 ] = 0.123\n",
      "Average Precision  (AP) @[ IoU=0.50:0.95 | area= large | maxDets=1000 ] = 0.346\n",
      "Average Recall     (AR) @[ IoU=0.50:0.95 | area=   all | maxDets=100 ] = 0.357\n",
      "Average Recall     (AR) @[ IoU=0.50:0.95 | area=   all | maxDets=300 ] = 0.357\n",
      "Average Recall     (AR) @[ IoU=0.50:0.95 | area=   all | maxDets=1000 ] = 0.357\n",
      "Average Recall     (AR) @[ IoU=0.50:0.95 | area= small | maxDets=1000 ] = 0.118\n",
      "Average Recall     (AR) @[ IoU=0.50:0.95 | area=medium | maxDets=1000 ] = 0.317\n",
      "Average Recall     (AR) @[ IoU=0.50:0.95 | area= large | maxDets=1000 ] = 0.651\n"
     ]
    },
    {
     "name": "stderr",
     "output_type": "stream",
     "text": [
      "2021-05-14 13:22:17,987 - mmdet - INFO - Epoch [37][50/655]\tlr: 1.000e-02, eta: 6:14:04, time: 0.584, data_time: 0.052, memory: 1887, loss_cls: 0.5871, loss_bbox: 0.2087, loss_bbox_rf: 0.2615, loss: 1.0573, grad_norm: 3.8446\n",
      "2021-05-14 13:22:44,978 - mmdet - INFO - Epoch [37][100/655]\tlr: 1.000e-02, eta: 6:13:37, time: 0.540, data_time: 0.007, memory: 1887, loss_cls: 0.5628, loss_bbox: 0.2117, loss_bbox_rf: 0.2665, loss: 1.0410, grad_norm: 3.6740\n",
      "2021-05-14 13:23:11,779 - mmdet - INFO - Epoch [37][150/655]\tlr: 1.000e-02, eta: 6:13:11, time: 0.536, data_time: 0.007, memory: 1887, loss_cls: 0.5906, loss_bbox: 0.2259, loss_bbox_rf: 0.2756, loss: 1.0920, grad_norm: 3.7581\n",
      "2021-05-14 13:23:38,588 - mmdet - INFO - Epoch [37][200/655]\tlr: 1.000e-02, eta: 6:12:44, time: 0.536, data_time: 0.007, memory: 1887, loss_cls: 0.5677, loss_bbox: 0.2119, loss_bbox_rf: 0.2592, loss: 1.0388, grad_norm: 4.0094\n",
      "2021-05-14 13:24:05,755 - mmdet - INFO - Epoch [37][250/655]\tlr: 1.000e-02, eta: 6:12:18, time: 0.543, data_time: 0.007, memory: 1887, loss_cls: 0.6135, loss_bbox: 0.2119, loss_bbox_rf: 0.2656, loss: 1.0910, grad_norm: 4.4306\n",
      "2021-05-14 13:24:32,762 - mmdet - INFO - Epoch [37][300/655]\tlr: 1.000e-02, eta: 6:11:51, time: 0.540, data_time: 0.007, memory: 1887, loss_cls: 0.5884, loss_bbox: 0.2200, loss_bbox_rf: 0.2738, loss: 1.0822, grad_norm: 3.7623\n",
      "2021-05-14 13:24:59,763 - mmdet - INFO - Epoch [37][350/655]\tlr: 1.000e-02, eta: 6:11:25, time: 0.540, data_time: 0.008, memory: 1887, loss_cls: 0.6395, loss_bbox: 0.1961, loss_bbox_rf: 0.2463, loss: 1.0819, grad_norm: 4.8664\n",
      "2021-05-14 13:25:27,027 - mmdet - INFO - Epoch [37][400/655]\tlr: 1.000e-02, eta: 6:10:59, time: 0.545, data_time: 0.008, memory: 1887, loss_cls: 0.5780, loss_bbox: 0.2041, loss_bbox_rf: 0.2549, loss: 1.0370, grad_norm: 3.7836\n",
      "2021-05-14 13:25:53,746 - mmdet - INFO - Epoch [37][450/655]\tlr: 1.000e-02, eta: 6:10:32, time: 0.534, data_time: 0.007, memory: 1887, loss_cls: 0.5771, loss_bbox: 0.1852, loss_bbox_rf: 0.2244, loss: 0.9866, grad_norm: 4.4226\n",
      "2021-05-14 13:26:20,514 - mmdet - INFO - Epoch [37][500/655]\tlr: 1.000e-02, eta: 6:10:05, time: 0.535, data_time: 0.007, memory: 1887, loss_cls: 0.5739, loss_bbox: 0.2052, loss_bbox_rf: 0.2490, loss: 1.0281, grad_norm: 4.4680\n",
      "2021-05-14 13:26:47,471 - mmdet - INFO - Epoch [37][550/655]\tlr: 1.000e-02, eta: 6:09:38, time: 0.539, data_time: 0.007, memory: 1887, loss_cls: 0.5768, loss_bbox: 0.2059, loss_bbox_rf: 0.2546, loss: 1.0373, grad_norm: 3.9177\n",
      "2021-05-14 13:27:14,355 - mmdet - INFO - Epoch [37][600/655]\tlr: 1.000e-02, eta: 6:09:12, time: 0.538, data_time: 0.007, memory: 1887, loss_cls: 0.6673, loss_bbox: 0.2227, loss_bbox_rf: 0.2720, loss: 1.1621, grad_norm: 5.2582\n",
      "2021-05-14 13:27:41,236 - mmdet - INFO - Epoch [37][650/655]\tlr: 1.000e-02, eta: 6:08:45, time: 0.538, data_time: 0.007, memory: 1887, loss_cls: 0.7951, loss_bbox: 0.2450, loss_bbox_rf: 0.2987, loss: 1.3388, grad_norm: 5.8205\n",
      "2021-05-14 13:27:44,046 - mmdet - INFO - Saving checkpoint at 37 epochs\n"
     ]
    },
    {
     "name": "stdout",
     "output_type": "stream",
     "text": [
      "[>>>>>>>>>>>>>>>>>>>>>>>>>>>>>] 655/655, 17.6 task/s, elapsed: 37s, ETA:     0s"
     ]
    },
    {
     "name": "stderr",
     "output_type": "stream",
     "text": [
      "2021-05-14 13:28:22,884 - mmdet - INFO - Evaluating bbox...\n"
     ]
    },
    {
     "name": "stdout",
     "output_type": "stream",
     "text": [
      "Loading and preparing results...\n",
      "DONE (t=0.75s)\n",
      "creating index...\n",
      "index created!\n",
      "Running per image evaluation...\n",
      "Evaluate annotation type *bbox*\n",
      "DONE (t=7.55s).\n",
      "Accumulating evaluation results...\n"
     ]
    },
    {
     "name": "stderr",
     "output_type": "stream",
     "text": [
      "2021-05-14 13:28:32,809 - mmdet - INFO - Epoch(val) [37][655]\tbbox_mAP: 0.1600, bbox_mAP_50: 0.2510, bbox_mAP_75: 0.1630, bbox_mAP_s: 0.0300, bbox_mAP_m: 0.1240, bbox_mAP_l: 0.3690, bbox_mAP_copypaste: 0.160 0.251 0.163 0.030 0.124 0.369\n"
     ]
    },
    {
     "name": "stdout",
     "output_type": "stream",
     "text": [
      "DONE (t=1.49s).\n",
      "Average Precision  (AP) @[ IoU=0.50:0.95 | area=   all | maxDets=100 ] = 0.160\n",
      "Average Precision  (AP) @[ IoU=0.50      | area=   all | maxDets=1000 ] = 0.251\n",
      "Average Precision  (AP) @[ IoU=0.75      | area=   all | maxDets=1000 ] = 0.163\n",
      "Average Precision  (AP) @[ IoU=0.50:0.95 | area= small | maxDets=1000 ] = 0.030\n",
      "Average Precision  (AP) @[ IoU=0.50:0.95 | area=medium | maxDets=1000 ] = 0.124\n",
      "Average Precision  (AP) @[ IoU=0.50:0.95 | area= large | maxDets=1000 ] = 0.369\n",
      "Average Recall     (AR) @[ IoU=0.50:0.95 | area=   all | maxDets=100 ] = 0.347\n",
      "Average Recall     (AR) @[ IoU=0.50:0.95 | area=   all | maxDets=300 ] = 0.347\n",
      "Average Recall     (AR) @[ IoU=0.50:0.95 | area=   all | maxDets=1000 ] = 0.347\n",
      "Average Recall     (AR) @[ IoU=0.50:0.95 | area= small | maxDets=1000 ] = 0.100\n",
      "Average Recall     (AR) @[ IoU=0.50:0.95 | area=medium | maxDets=1000 ] = 0.310\n",
      "Average Recall     (AR) @[ IoU=0.50:0.95 | area= large | maxDets=1000 ] = 0.631\n"
     ]
    },
    {
     "name": "stderr",
     "output_type": "stream",
     "text": [
      "2021-05-14 13:29:02,015 - mmdet - INFO - Epoch [38][50/655]\tlr: 1.000e-02, eta: 6:08:15, time: 0.584, data_time: 0.052, memory: 1887, loss_cls: 0.5976, loss_bbox: 0.2093, loss_bbox_rf: 0.2559, loss: 1.0628, grad_norm: 4.2640\n",
      "2021-05-14 13:29:28,871 - mmdet - INFO - Epoch [38][100/655]\tlr: 1.000e-02, eta: 6:07:48, time: 0.537, data_time: 0.007, memory: 1887, loss_cls: 0.6351, loss_bbox: 0.2137, loss_bbox_rf: 0.2601, loss: 1.1090, grad_norm: 4.7511\n",
      "2021-05-14 13:29:55,737 - mmdet - INFO - Epoch [38][150/655]\tlr: 1.000e-02, eta: 6:07:22, time: 0.537, data_time: 0.007, memory: 1887, loss_cls: 0.6351, loss_bbox: 0.2152, loss_bbox_rf: 0.2667, loss: 1.1170, grad_norm: 4.5232\n",
      "2021-05-14 13:30:22,638 - mmdet - INFO - Epoch [38][200/655]\tlr: 1.000e-02, eta: 6:06:55, time: 0.538, data_time: 0.007, memory: 1887, loss_cls: 0.6366, loss_bbox: 0.2124, loss_bbox_rf: 0.2668, loss: 1.1158, grad_norm: 4.4671\n",
      "2021-05-14 13:30:49,514 - mmdet - INFO - Epoch [38][250/655]\tlr: 1.000e-02, eta: 6:06:28, time: 0.538, data_time: 0.007, memory: 1887, loss_cls: 0.5764, loss_bbox: 0.2166, loss_bbox_rf: 0.2670, loss: 1.0600, grad_norm: 3.7333\n",
      "2021-05-14 13:31:16,397 - mmdet - INFO - Epoch [38][300/655]\tlr: 1.000e-02, eta: 6:06:02, time: 0.538, data_time: 0.007, memory: 1887, loss_cls: 0.5807, loss_bbox: 0.2103, loss_bbox_rf: 0.2609, loss: 1.0519, grad_norm: 4.2392\n",
      "2021-05-14 13:31:43,268 - mmdet - INFO - Epoch [38][350/655]\tlr: 1.000e-02, eta: 6:05:35, time: 0.537, data_time: 0.007, memory: 1887, loss_cls: 0.5809, loss_bbox: 0.2009, loss_bbox_rf: 0.2525, loss: 1.0343, grad_norm: 4.1013\n",
      "2021-05-14 13:32:10,173 - mmdet - INFO - Epoch [38][400/655]\tlr: 1.000e-02, eta: 6:05:08, time: 0.538, data_time: 0.007, memory: 1887, loss_cls: 0.5565, loss_bbox: 0.2087, loss_bbox_rf: 0.2566, loss: 1.0218, grad_norm: 3.9598\n",
      "2021-05-14 13:32:37,177 - mmdet - INFO - Epoch [38][450/655]\tlr: 1.000e-02, eta: 6:04:42, time: 0.540, data_time: 0.007, memory: 1887, loss_cls: 0.5877, loss_bbox: 0.1974, loss_bbox_rf: 0.2395, loss: 1.0247, grad_norm: 4.5417\n",
      "2021-05-14 13:33:04,267 - mmdet - INFO - Epoch [38][500/655]\tlr: 1.000e-02, eta: 6:04:15, time: 0.542, data_time: 0.008, memory: 1887, loss_cls: 0.5728, loss_bbox: 0.2031, loss_bbox_rf: 0.2497, loss: 1.0256, grad_norm: 4.1795\n",
      "2021-05-14 13:33:31,157 - mmdet - INFO - Epoch [38][550/655]\tlr: 1.000e-02, eta: 6:03:49, time: 0.538, data_time: 0.007, memory: 1887, loss_cls: 0.5888, loss_bbox: 0.2109, loss_bbox_rf: 0.2617, loss: 1.0615, grad_norm: 3.8891\n",
      "2021-05-14 13:33:58,255 - mmdet - INFO - Epoch [38][600/655]\tlr: 1.000e-02, eta: 6:03:22, time: 0.542, data_time: 0.007, memory: 1887, loss_cls: 0.6082, loss_bbox: 0.2114, loss_bbox_rf: 0.2618, loss: 1.0814, grad_norm: 4.6229\n",
      "2021-05-14 13:34:25,138 - mmdet - INFO - Epoch [38][650/655]\tlr: 1.000e-02, eta: 6:02:56, time: 0.538, data_time: 0.007, memory: 1887, loss_cls: 0.5709, loss_bbox: 0.2031, loss_bbox_rf: 0.2531, loss: 1.0270, grad_norm: 3.8699\n",
      "2021-05-14 13:34:27,918 - mmdet - INFO - Saving checkpoint at 38 epochs\n"
     ]
    },
    {
     "name": "stdout",
     "output_type": "stream",
     "text": [
      "[>>>>>>>>>>>>>>>>>>>>>>>>>>>>>] 655/655, 18.3 task/s, elapsed: 36s, ETA:     0s"
     ]
    },
    {
     "name": "stderr",
     "output_type": "stream",
     "text": [
      "2021-05-14 13:35:05,295 - mmdet - INFO - Evaluating bbox...\n"
     ]
    },
    {
     "name": "stdout",
     "output_type": "stream",
     "text": [
      "Loading and preparing results...\n",
      "DONE (t=0.72s)\n",
      "creating index...\n",
      "index created!\n",
      "Running per image evaluation...\n",
      "Evaluate annotation type *bbox*\n",
      "DONE (t=7.16s).\n",
      "Accumulating evaluation results...\n"
     ]
    },
    {
     "name": "stderr",
     "output_type": "stream",
     "text": [
      "2021-05-14 13:35:14,543 - mmdet - INFO - Epoch(val) [38][655]\tbbox_mAP: 0.1650, bbox_mAP_50: 0.2530, bbox_mAP_75: 0.1640, bbox_mAP_s: 0.0280, bbox_mAP_m: 0.1260, bbox_mAP_l: 0.3480, bbox_mAP_copypaste: 0.165 0.253 0.164 0.028 0.126 0.348\n"
     ]
    },
    {
     "name": "stdout",
     "output_type": "stream",
     "text": [
      "DONE (t=1.25s).\n",
      "Average Precision  (AP) @[ IoU=0.50:0.95 | area=   all | maxDets=100 ] = 0.165\n",
      "Average Precision  (AP) @[ IoU=0.50      | area=   all | maxDets=1000 ] = 0.253\n",
      "Average Precision  (AP) @[ IoU=0.75      | area=   all | maxDets=1000 ] = 0.164\n",
      "Average Precision  (AP) @[ IoU=0.50:0.95 | area= small | maxDets=1000 ] = 0.028\n",
      "Average Precision  (AP) @[ IoU=0.50:0.95 | area=medium | maxDets=1000 ] = 0.126\n",
      "Average Precision  (AP) @[ IoU=0.50:0.95 | area= large | maxDets=1000 ] = 0.348\n",
      "Average Recall     (AR) @[ IoU=0.50:0.95 | area=   all | maxDets=100 ] = 0.331\n",
      "Average Recall     (AR) @[ IoU=0.50:0.95 | area=   all | maxDets=300 ] = 0.331\n",
      "Average Recall     (AR) @[ IoU=0.50:0.95 | area=   all | maxDets=1000 ] = 0.331\n",
      "Average Recall     (AR) @[ IoU=0.50:0.95 | area= small | maxDets=1000 ] = 0.087\n",
      "Average Recall     (AR) @[ IoU=0.50:0.95 | area=medium | maxDets=1000 ] = 0.288\n",
      "Average Recall     (AR) @[ IoU=0.50:0.95 | area= large | maxDets=1000 ] = 0.625\n"
     ]
    },
    {
     "name": "stderr",
     "output_type": "stream",
     "text": [
      "2021-05-14 13:35:44,405 - mmdet - INFO - Epoch [39][50/655]\tlr: 1.000e-02, eta: 6:02:27, time: 0.597, data_time: 0.053, memory: 1887, loss_cls: 0.6234, loss_bbox: 0.2073, loss_bbox_rf: 0.2552, loss: 1.0859, grad_norm: 4.8087\n",
      "2021-05-14 13:36:11,209 - mmdet - INFO - Epoch [39][100/655]\tlr: 1.000e-02, eta: 6:02:00, time: 0.536, data_time: 0.007, memory: 1887, loss_cls: 0.5788, loss_bbox: 0.2193, loss_bbox_rf: 0.2731, loss: 1.0712, grad_norm: 3.8624\n",
      "2021-05-14 13:36:38,216 - mmdet - INFO - Epoch [39][150/655]\tlr: 1.000e-02, eta: 6:01:34, time: 0.540, data_time: 0.007, memory: 1887, loss_cls: 0.5992, loss_bbox: 0.1995, loss_bbox_rf: 0.2471, loss: 1.0459, grad_norm: 5.1733\n",
      "2021-05-14 13:37:05,440 - mmdet - INFO - Epoch [39][200/655]\tlr: 1.000e-02, eta: 6:01:07, time: 0.544, data_time: 0.007, memory: 1887, loss_cls: 0.6264, loss_bbox: 0.2225, loss_bbox_rf: 0.2808, loss: 1.1297, grad_norm: 4.2355\n",
      "2021-05-14 13:37:32,458 - mmdet - INFO - Epoch [39][250/655]\tlr: 1.000e-02, eta: 6:00:41, time: 0.540, data_time: 0.007, memory: 1887, loss_cls: 0.5661, loss_bbox: 0.2302, loss_bbox_rf: 0.2852, loss: 1.0815, grad_norm: 3.7551\n",
      "2021-05-14 13:37:59,587 - mmdet - INFO - Epoch [39][300/655]\tlr: 1.000e-02, eta: 6:00:15, time: 0.543, data_time: 0.008, memory: 1887, loss_cls: 0.6328, loss_bbox: 0.2076, loss_bbox_rf: 0.2532, loss: 1.0936, grad_norm: 5.0179\n",
      "2021-05-14 13:38:26,532 - mmdet - INFO - Epoch [39][350/655]\tlr: 1.000e-02, eta: 5:59:48, time: 0.539, data_time: 0.008, memory: 1887, loss_cls: 0.5919, loss_bbox: 0.2040, loss_bbox_rf: 0.2567, loss: 1.0525, grad_norm: 4.1195\n",
      "2021-05-14 13:38:53,370 - mmdet - INFO - Epoch [39][400/655]\tlr: 1.000e-02, eta: 5:59:21, time: 0.537, data_time: 0.007, memory: 1887, loss_cls: 0.5670, loss_bbox: 0.2094, loss_bbox_rf: 0.2462, loss: 1.0226, grad_norm: 4.4827\n",
      "2021-05-14 13:39:20,532 - mmdet - INFO - Epoch [39][450/655]\tlr: 1.000e-02, eta: 5:58:55, time: 0.543, data_time: 0.007, memory: 1887, loss_cls: 0.6101, loss_bbox: 0.2016, loss_bbox_rf: 0.2473, loss: 1.0590, grad_norm: 4.8934\n",
      "2021-05-14 13:39:47,604 - mmdet - INFO - Epoch [39][500/655]\tlr: 1.000e-02, eta: 5:58:29, time: 0.541, data_time: 0.007, memory: 1887, loss_cls: 0.5872, loss_bbox: 0.2156, loss_bbox_rf: 0.2675, loss: 1.0703, grad_norm: 3.8150\n",
      "2021-05-14 13:40:14,671 - mmdet - INFO - Epoch [39][550/655]\tlr: 1.000e-02, eta: 5:58:02, time: 0.541, data_time: 0.007, memory: 1887, loss_cls: 0.5709, loss_bbox: 0.2065, loss_bbox_rf: 0.2573, loss: 1.0348, grad_norm: 3.7438\n",
      "2021-05-14 13:40:41,659 - mmdet - INFO - Epoch [39][600/655]\tlr: 1.000e-02, eta: 5:57:36, time: 0.540, data_time: 0.008, memory: 1887, loss_cls: 0.5655, loss_bbox: 0.1848, loss_bbox_rf: 0.2280, loss: 0.9782, grad_norm: 4.1405\n",
      "2021-05-14 13:41:08,554 - mmdet - INFO - Epoch [39][650/655]\tlr: 1.000e-02, eta: 5:57:09, time: 0.538, data_time: 0.007, memory: 1887, loss_cls: 0.6179, loss_bbox: 0.1897, loss_bbox_rf: 0.2358, loss: 1.0434, grad_norm: 5.1961\n",
      "2021-05-14 13:41:11,319 - mmdet - INFO - Saving checkpoint at 39 epochs\n"
     ]
    },
    {
     "name": "stdout",
     "output_type": "stream",
     "text": [
      "[>>>>>>>>>>>>>>>>>>>>>>>>>>>>>] 655/655, 18.4 task/s, elapsed: 36s, ETA:     0s"
     ]
    },
    {
     "name": "stderr",
     "output_type": "stream",
     "text": [
      "2021-05-14 13:41:48,575 - mmdet - INFO - Evaluating bbox...\n"
     ]
    },
    {
     "name": "stdout",
     "output_type": "stream",
     "text": [
      "Loading and preparing results...\n",
      "DONE (t=0.73s)\n",
      "creating index...\n",
      "index created!\n",
      "Running per image evaluation...\n",
      "Evaluate annotation type *bbox*\n",
      "DONE (t=6.87s).\n",
      "Accumulating evaluation results...\n"
     ]
    },
    {
     "name": "stderr",
     "output_type": "stream",
     "text": [
      "2021-05-14 13:41:57,820 - mmdet - INFO - Epoch(val) [39][655]\tbbox_mAP: 0.1390, bbox_mAP_50: 0.2180, bbox_mAP_75: 0.1400, bbox_mAP_s: 0.0300, bbox_mAP_m: 0.1220, bbox_mAP_l: 0.2710, bbox_mAP_copypaste: 0.139 0.218 0.140 0.030 0.122 0.271\n"
     ]
    },
    {
     "name": "stdout",
     "output_type": "stream",
     "text": [
      "DONE (t=1.50s).\n",
      "Average Precision  (AP) @[ IoU=0.50:0.95 | area=   all | maxDets=100 ] = 0.139\n",
      "Average Precision  (AP) @[ IoU=0.50      | area=   all | maxDets=1000 ] = 0.218\n",
      "Average Precision  (AP) @[ IoU=0.75      | area=   all | maxDets=1000 ] = 0.140\n",
      "Average Precision  (AP) @[ IoU=0.50:0.95 | area= small | maxDets=1000 ] = 0.030\n",
      "Average Precision  (AP) @[ IoU=0.50:0.95 | area=medium | maxDets=1000 ] = 0.122\n",
      "Average Precision  (AP) @[ IoU=0.50:0.95 | area= large | maxDets=1000 ] = 0.271\n",
      "Average Recall     (AR) @[ IoU=0.50:0.95 | area=   all | maxDets=100 ] = 0.335\n",
      "Average Recall     (AR) @[ IoU=0.50:0.95 | area=   all | maxDets=300 ] = 0.335\n",
      "Average Recall     (AR) @[ IoU=0.50:0.95 | area=   all | maxDets=1000 ] = 0.335\n",
      "Average Recall     (AR) @[ IoU=0.50:0.95 | area= small | maxDets=1000 ] = 0.095\n",
      "Average Recall     (AR) @[ IoU=0.50:0.95 | area=medium | maxDets=1000 ] = 0.322\n",
      "Average Recall     (AR) @[ IoU=0.50:0.95 | area= large | maxDets=1000 ] = 0.575\n"
     ]
    },
    {
     "name": "stderr",
     "output_type": "stream",
     "text": [
      "2021-05-14 13:42:26,962 - mmdet - INFO - Epoch [40][50/655]\tlr: 1.000e-02, eta: 5:56:39, time: 0.583, data_time: 0.052, memory: 1887, loss_cls: 0.6356, loss_bbox: 0.2137, loss_bbox_rf: 0.2631, loss: 1.1123, grad_norm: 4.3479\n",
      "2021-05-14 13:42:53,822 - mmdet - INFO - Epoch [40][100/655]\tlr: 1.000e-02, eta: 5:56:12, time: 0.537, data_time: 0.007, memory: 1887, loss_cls: 0.5625, loss_bbox: 0.2046, loss_bbox_rf: 0.2504, loss: 1.0175, grad_norm: 4.3890\n",
      "2021-05-14 13:43:20,835 - mmdet - INFO - Epoch [40][150/655]\tlr: 1.000e-02, eta: 5:55:46, time: 0.540, data_time: 0.007, memory: 1887, loss_cls: 0.6141, loss_bbox: 0.2061, loss_bbox_rf: 0.2541, loss: 1.0743, grad_norm: 5.2801\n",
      "2021-05-14 13:43:47,669 - mmdet - INFO - Epoch [40][200/655]\tlr: 1.000e-02, eta: 5:55:19, time: 0.537, data_time: 0.007, memory: 1887, loss_cls: 0.6086, loss_bbox: 0.2119, loss_bbox_rf: 0.2653, loss: 1.0858, grad_norm: 4.2127\n",
      "2021-05-14 13:44:14,585 - mmdet - INFO - Epoch [40][250/655]\tlr: 1.000e-02, eta: 5:54:52, time: 0.538, data_time: 0.007, memory: 1887, loss_cls: 0.5898, loss_bbox: 0.2073, loss_bbox_rf: 0.2573, loss: 1.0544, grad_norm: 4.2118\n",
      "2021-05-14 13:44:41,463 - mmdet - INFO - Epoch [40][300/655]\tlr: 1.000e-02, eta: 5:54:26, time: 0.538, data_time: 0.007, memory: 1887, loss_cls: 0.5642, loss_bbox: 0.2168, loss_bbox_rf: 0.2683, loss: 1.0493, grad_norm: 4.1390\n",
      "2021-05-14 13:45:08,330 - mmdet - INFO - Epoch [40][350/655]\tlr: 1.000e-02, eta: 5:53:59, time: 0.537, data_time: 0.007, memory: 1887, loss_cls: 0.5774, loss_bbox: 0.2072, loss_bbox_rf: 0.2583, loss: 1.0429, grad_norm: 3.8700\n",
      "2021-05-14 13:45:35,137 - mmdet - INFO - Epoch [40][400/655]\tlr: 1.000e-02, eta: 5:53:32, time: 0.536, data_time: 0.007, memory: 1887, loss_cls: 0.5447, loss_bbox: 0.1917, loss_bbox_rf: 0.2380, loss: 0.9743, grad_norm: 4.0516\n",
      "2021-05-14 13:46:02,375 - mmdet - INFO - Epoch [40][450/655]\tlr: 1.000e-02, eta: 5:53:06, time: 0.545, data_time: 0.008, memory: 1887, loss_cls: 0.5750, loss_bbox: 0.1939, loss_bbox_rf: 0.2423, loss: 1.0112, grad_norm: 4.6953\n",
      "2021-05-14 13:46:29,369 - mmdet - INFO - Epoch [40][500/655]\tlr: 1.000e-02, eta: 5:52:39, time: 0.540, data_time: 0.007, memory: 1887, loss_cls: 0.5895, loss_bbox: 0.2034, loss_bbox_rf: 0.2532, loss: 1.0461, grad_norm: 4.6205\n",
      "2021-05-14 13:46:56,322 - mmdet - INFO - Epoch [40][550/655]\tlr: 1.000e-02, eta: 5:52:13, time: 0.539, data_time: 0.007, memory: 1887, loss_cls: 0.5800, loss_bbox: 0.2057, loss_bbox_rf: 0.2579, loss: 1.0436, grad_norm: 4.2516\n",
      "2021-05-14 13:47:23,244 - mmdet - INFO - Epoch [40][600/655]\tlr: 1.000e-02, eta: 5:51:46, time: 0.538, data_time: 0.007, memory: 1887, loss_cls: 0.5878, loss_bbox: 0.2021, loss_bbox_rf: 0.2499, loss: 1.0398, grad_norm: 4.5559\n",
      "2021-05-14 13:47:50,090 - mmdet - INFO - Epoch [40][650/655]\tlr: 1.000e-02, eta: 5:51:19, time: 0.537, data_time: 0.007, memory: 1887, loss_cls: 0.5984, loss_bbox: 0.2040, loss_bbox_rf: 0.2526, loss: 1.0550, grad_norm: 4.4657\n",
      "2021-05-14 13:47:52,839 - mmdet - INFO - Saving checkpoint at 40 epochs\n"
     ]
    },
    {
     "name": "stdout",
     "output_type": "stream",
     "text": [
      "[>>>>>>>>>>>>>>>>>>>>>>>>>>>>>] 655/655, 18.1 task/s, elapsed: 36s, ETA:     0s"
     ]
    },
    {
     "name": "stderr",
     "output_type": "stream",
     "text": [
      "2021-05-14 13:48:31,031 - mmdet - INFO - Evaluating bbox...\n"
     ]
    },
    {
     "name": "stdout",
     "output_type": "stream",
     "text": [
      "Loading and preparing results...\n",
      "DONE (t=0.78s)\n",
      "creating index...\n",
      "index created!\n",
      "Running per image evaluation...\n",
      "Evaluate annotation type *bbox*\n",
      "DONE (t=7.77s).\n",
      "Accumulating evaluation results...\n"
     ]
    },
    {
     "name": "stderr",
     "output_type": "stream",
     "text": [
      "2021-05-14 13:48:41,309 - mmdet - INFO - Epoch(val) [40][655]\tbbox_mAP: 0.1690, bbox_mAP_50: 0.2600, bbox_mAP_75: 0.1730, bbox_mAP_s: 0.0300, bbox_mAP_m: 0.1420, bbox_mAP_l: 0.3280, bbox_mAP_copypaste: 0.169 0.260 0.173 0.030 0.142 0.328\n"
     ]
    },
    {
     "name": "stdout",
     "output_type": "stream",
     "text": [
      "DONE (t=1.58s).\n",
      "Average Precision  (AP) @[ IoU=0.50:0.95 | area=   all | maxDets=100 ] = 0.169\n",
      "Average Precision  (AP) @[ IoU=0.50      | area=   all | maxDets=1000 ] = 0.260\n",
      "Average Precision  (AP) @[ IoU=0.75      | area=   all | maxDets=1000 ] = 0.173\n",
      "Average Precision  (AP) @[ IoU=0.50:0.95 | area= small | maxDets=1000 ] = 0.030\n",
      "Average Precision  (AP) @[ IoU=0.50:0.95 | area=medium | maxDets=1000 ] = 0.142\n",
      "Average Precision  (AP) @[ IoU=0.50:0.95 | area= large | maxDets=1000 ] = 0.328\n",
      "Average Recall     (AR) @[ IoU=0.50:0.95 | area=   all | maxDets=100 ] = 0.359\n",
      "Average Recall     (AR) @[ IoU=0.50:0.95 | area=   all | maxDets=300 ] = 0.359\n",
      "Average Recall     (AR) @[ IoU=0.50:0.95 | area=   all | maxDets=1000 ] = 0.359\n",
      "Average Recall     (AR) @[ IoU=0.50:0.95 | area= small | maxDets=1000 ] = 0.105\n",
      "Average Recall     (AR) @[ IoU=0.50:0.95 | area=medium | maxDets=1000 ] = 0.325\n",
      "Average Recall     (AR) @[ IoU=0.50:0.95 | area= large | maxDets=1000 ] = 0.585\n"
     ]
    },
    {
     "name": "stderr",
     "output_type": "stream",
     "text": [
      "2021-05-14 13:49:10,744 - mmdet - INFO - Epoch [41][50/655]\tlr: 1.000e-02, eta: 5:50:50, time: 0.588, data_time: 0.052, memory: 1887, loss_cls: 0.5262, loss_bbox: 0.1953, loss_bbox_rf: 0.2363, loss: 0.9578, grad_norm: 3.6227\n",
      "2021-05-14 13:49:37,597 - mmdet - INFO - Epoch [41][100/655]\tlr: 1.000e-02, eta: 5:50:23, time: 0.537, data_time: 0.008, memory: 1887, loss_cls: 0.5452, loss_bbox: 0.1934, loss_bbox_rf: 0.2365, loss: 0.9751, grad_norm: 4.3072\n",
      "2021-05-14 13:50:04,618 - mmdet - INFO - Epoch [41][150/655]\tlr: 1.000e-02, eta: 5:49:56, time: 0.540, data_time: 0.007, memory: 1887, loss_cls: 0.5417, loss_bbox: 0.2001, loss_bbox_rf: 0.2421, loss: 0.9839, grad_norm: 3.9290\n",
      "2021-05-14 13:50:31,448 - mmdet - INFO - Epoch [41][200/655]\tlr: 1.000e-02, eta: 5:49:30, time: 0.537, data_time: 0.007, memory: 1887, loss_cls: 0.5521, loss_bbox: 0.1935, loss_bbox_rf: 0.2402, loss: 0.9859, grad_norm: 4.3515\n",
      "2021-05-14 13:50:59,200 - mmdet - INFO - Epoch [41][250/655]\tlr: 1.000e-02, eta: 5:49:04, time: 0.555, data_time: 0.008, memory: 1887, loss_cls: 0.5642, loss_bbox: 0.2160, loss_bbox_rf: 0.2648, loss: 1.0450, grad_norm: 4.2494\n",
      "2021-05-14 13:51:26,171 - mmdet - INFO - Epoch [41][300/655]\tlr: 1.000e-02, eta: 5:48:38, time: 0.539, data_time: 0.007, memory: 1887, loss_cls: 0.5727, loss_bbox: 0.1912, loss_bbox_rf: 0.2354, loss: 0.9994, grad_norm: 4.6662\n",
      "2021-05-14 13:51:52,981 - mmdet - INFO - Epoch [41][350/655]\tlr: 1.000e-02, eta: 5:48:11, time: 0.536, data_time: 0.007, memory: 1887, loss_cls: 0.5513, loss_bbox: 0.1973, loss_bbox_rf: 0.2429, loss: 0.9914, grad_norm: 3.8280\n",
      "2021-05-14 13:52:19,981 - mmdet - INFO - Epoch [41][400/655]\tlr: 1.000e-02, eta: 5:47:44, time: 0.540, data_time: 0.007, memory: 1887, loss_cls: 0.5352, loss_bbox: 0.1948, loss_bbox_rf: 0.2423, loss: 0.9724, grad_norm: 3.9560\n",
      "2021-05-14 13:52:46,920 - mmdet - INFO - Epoch [41][450/655]\tlr: 1.000e-02, eta: 5:47:18, time: 0.539, data_time: 0.008, memory: 1887, loss_cls: 0.5690, loss_bbox: 0.2009, loss_bbox_rf: 0.2502, loss: 1.0201, grad_norm: 4.2016\n",
      "2021-05-14 13:53:13,790 - mmdet - INFO - Epoch [41][500/655]\tlr: 1.000e-02, eta: 5:46:51, time: 0.537, data_time: 0.007, memory: 1887, loss_cls: 0.5658, loss_bbox: 0.2035, loss_bbox_rf: 0.2560, loss: 1.0254, grad_norm: 3.7185\n",
      "2021-05-14 13:53:40,879 - mmdet - INFO - Epoch [41][550/655]\tlr: 1.000e-02, eta: 5:46:24, time: 0.542, data_time: 0.008, memory: 1887, loss_cls: 0.5777, loss_bbox: 0.2056, loss_bbox_rf: 0.2554, loss: 1.0386, grad_norm: 4.2369\n",
      "2021-05-14 13:54:07,750 - mmdet - INFO - Epoch [41][600/655]\tlr: 1.000e-02, eta: 5:45:58, time: 0.537, data_time: 0.007, memory: 1887, loss_cls: 0.5300, loss_bbox: 0.2032, loss_bbox_rf: 0.2491, loss: 0.9823, grad_norm: 3.6555\n",
      "2021-05-14 13:54:34,609 - mmdet - INFO - Epoch [41][650/655]\tlr: 1.000e-02, eta: 5:45:31, time: 0.537, data_time: 0.007, memory: 1887, loss_cls: 0.5591, loss_bbox: 0.2048, loss_bbox_rf: 0.2561, loss: 1.0201, grad_norm: 3.9758\n",
      "2021-05-14 13:54:37,378 - mmdet - INFO - Saving checkpoint at 41 epochs\n"
     ]
    },
    {
     "name": "stdout",
     "output_type": "stream",
     "text": [
      "[>>>>>>>>>>>>>>>>>>>>>>>>>>>>>] 655/655, 18.4 task/s, elapsed: 36s, ETA:     0s"
     ]
    },
    {
     "name": "stderr",
     "output_type": "stream",
     "text": [
      "2021-05-14 13:55:14,733 - mmdet - INFO - Evaluating bbox...\n"
     ]
    },
    {
     "name": "stdout",
     "output_type": "stream",
     "text": [
      "Loading and preparing results...\n",
      "DONE (t=1.25s)\n",
      "creating index...\n",
      "index created!\n",
      "Running per image evaluation...\n",
      "Evaluate annotation type *bbox*\n",
      "DONE (t=6.63s).\n",
      "Accumulating evaluation results...\n"
     ]
    },
    {
     "name": "stderr",
     "output_type": "stream",
     "text": [
      "2021-05-14 13:55:24,305 - mmdet - INFO - Epoch(val) [41][655]\tbbox_mAP: 0.1710, bbox_mAP_50: 0.2540, bbox_mAP_75: 0.1790, bbox_mAP_s: 0.0300, bbox_mAP_m: 0.1430, bbox_mAP_l: 0.3280, bbox_mAP_copypaste: 0.171 0.254 0.179 0.030 0.143 0.328\n"
     ]
    },
    {
     "name": "stdout",
     "output_type": "stream",
     "text": [
      "DONE (t=1.54s).\n",
      "Average Precision  (AP) @[ IoU=0.50:0.95 | area=   all | maxDets=100 ] = 0.171\n",
      "Average Precision  (AP) @[ IoU=0.50      | area=   all | maxDets=1000 ] = 0.254\n",
      "Average Precision  (AP) @[ IoU=0.75      | area=   all | maxDets=1000 ] = 0.179\n",
      "Average Precision  (AP) @[ IoU=0.50:0.95 | area= small | maxDets=1000 ] = 0.030\n",
      "Average Precision  (AP) @[ IoU=0.50:0.95 | area=medium | maxDets=1000 ] = 0.143\n",
      "Average Precision  (AP) @[ IoU=0.50:0.95 | area= large | maxDets=1000 ] = 0.328\n",
      "Average Recall     (AR) @[ IoU=0.50:0.95 | area=   all | maxDets=100 ] = 0.356\n",
      "Average Recall     (AR) @[ IoU=0.50:0.95 | area=   all | maxDets=300 ] = 0.356\n",
      "Average Recall     (AR) @[ IoU=0.50:0.95 | area=   all | maxDets=1000 ] = 0.356\n",
      "Average Recall     (AR) @[ IoU=0.50:0.95 | area= small | maxDets=1000 ] = 0.103\n",
      "Average Recall     (AR) @[ IoU=0.50:0.95 | area=medium | maxDets=1000 ] = 0.308\n",
      "Average Recall     (AR) @[ IoU=0.50:0.95 | area= large | maxDets=1000 ] = 0.651\n"
     ]
    },
    {
     "name": "stderr",
     "output_type": "stream",
     "text": [
      "2021-05-14 13:55:53,675 - mmdet - INFO - Epoch [42][50/655]\tlr: 1.000e-02, eta: 5:45:01, time: 0.587, data_time: 0.052, memory: 1887, loss_cls: 0.4804, loss_bbox: 0.1739, loss_bbox_rf: 0.2109, loss: 0.8652, grad_norm: 3.7309\n",
      "2021-05-14 13:56:20,623 - mmdet - INFO - Epoch [42][100/655]\tlr: 1.000e-02, eta: 5:44:34, time: 0.539, data_time: 0.007, memory: 1887, loss_cls: 0.5987, loss_bbox: 0.1994, loss_bbox_rf: 0.2479, loss: 1.0460, grad_norm: 4.5167\n",
      "2021-05-14 13:56:47,456 - mmdet - INFO - Epoch [42][150/655]\tlr: 1.000e-02, eta: 5:44:08, time: 0.537, data_time: 0.007, memory: 1887, loss_cls: 0.5220, loss_bbox: 0.1795, loss_bbox_rf: 0.2204, loss: 0.9220, grad_norm: 3.6908\n",
      "2021-05-14 13:57:14,437 - mmdet - INFO - Epoch [42][200/655]\tlr: 1.000e-02, eta: 5:43:41, time: 0.540, data_time: 0.007, memory: 1887, loss_cls: 0.5723, loss_bbox: 0.1927, loss_bbox_rf: 0.2354, loss: 1.0003, grad_norm: 4.7406\n",
      "2021-05-14 13:57:41,517 - mmdet - INFO - Epoch [42][250/655]\tlr: 1.000e-02, eta: 5:43:15, time: 0.542, data_time: 0.008, memory: 1887, loss_cls: 0.6001, loss_bbox: 0.2048, loss_bbox_rf: 0.2544, loss: 1.0593, grad_norm: 4.9576\n",
      "2021-05-14 13:58:08,754 - mmdet - INFO - Epoch [42][300/655]\tlr: 1.000e-02, eta: 5:42:48, time: 0.545, data_time: 0.007, memory: 1887, loss_cls: 0.5735, loss_bbox: 0.2110, loss_bbox_rf: 0.2638, loss: 1.0483, grad_norm: 3.9279\n",
      "2021-05-14 13:58:35,675 - mmdet - INFO - Epoch [42][350/655]\tlr: 1.000e-02, eta: 5:42:22, time: 0.538, data_time: 0.007, memory: 1887, loss_cls: 0.6028, loss_bbox: 0.2075, loss_bbox_rf: 0.2596, loss: 1.0698, grad_norm: 4.4769\n",
      "2021-05-14 13:59:02,481 - mmdet - INFO - Epoch [42][400/655]\tlr: 1.000e-02, eta: 5:41:55, time: 0.536, data_time: 0.007, memory: 1887, loss_cls: 0.5525, loss_bbox: 0.2060, loss_bbox_rf: 0.2505, loss: 1.0089, grad_norm: 4.1756\n",
      "2021-05-14 13:59:29,361 - mmdet - INFO - Epoch [42][450/655]\tlr: 1.000e-02, eta: 5:41:28, time: 0.538, data_time: 0.007, memory: 1887, loss_cls: 0.6055, loss_bbox: 0.2084, loss_bbox_rf: 0.2565, loss: 1.0704, grad_norm: 4.8778\n",
      "2021-05-14 13:59:56,409 - mmdet - INFO - Epoch [42][500/655]\tlr: 1.000e-02, eta: 5:41:02, time: 0.541, data_time: 0.007, memory: 1887, loss_cls: 0.5502, loss_bbox: 0.1955, loss_bbox_rf: 0.2381, loss: 0.9838, grad_norm: 4.0844\n",
      "2021-05-14 14:00:23,291 - mmdet - INFO - Epoch [42][550/655]\tlr: 1.000e-02, eta: 5:40:35, time: 0.538, data_time: 0.007, memory: 1887, loss_cls: 0.5390, loss_bbox: 0.1939, loss_bbox_rf: 0.2370, loss: 0.9699, grad_norm: 4.0876\n",
      "2021-05-14 14:00:50,210 - mmdet - INFO - Epoch [42][600/655]\tlr: 1.000e-02, eta: 5:40:08, time: 0.538, data_time: 0.007, memory: 1887, loss_cls: 0.5758, loss_bbox: 0.2027, loss_bbox_rf: 0.2525, loss: 1.0310, grad_norm: 4.3264\n",
      "2021-05-14 14:01:17,268 - mmdet - INFO - Epoch [42][650/655]\tlr: 1.000e-02, eta: 5:39:42, time: 0.541, data_time: 0.008, memory: 1887, loss_cls: 0.5205, loss_bbox: 0.1967, loss_bbox_rf: 0.2444, loss: 0.9615, grad_norm: 3.5783\n",
      "2021-05-14 14:01:20,056 - mmdet - INFO - Saving checkpoint at 42 epochs\n"
     ]
    },
    {
     "name": "stdout",
     "output_type": "stream",
     "text": [
      "[>>>>>>>>>>>>>>>>>>>>>>>>>>>>>] 655/655, 18.3 task/s, elapsed: 36s, ETA:     0s"
     ]
    },
    {
     "name": "stderr",
     "output_type": "stream",
     "text": [
      "2021-05-14 14:01:58,135 - mmdet - INFO - Evaluating bbox...\n"
     ]
    },
    {
     "name": "stdout",
     "output_type": "stream",
     "text": [
      "Loading and preparing results...\n",
      "DONE (t=0.73s)\n",
      "creating index...\n",
      "index created!\n",
      "Running per image evaluation...\n",
      "Evaluate annotation type *bbox*\n",
      "DONE (t=7.41s).\n",
      "Accumulating evaluation results...\n"
     ]
    },
    {
     "name": "stderr",
     "output_type": "stream",
     "text": [
      "2021-05-14 14:02:08,023 - mmdet - INFO - Now best checkpoint is epoch_42.pth.Best bbox_mAP_50 is 0.2820\n",
      "2021-05-14 14:02:08,031 - mmdet - INFO - Epoch(val) [42][655]\tbbox_mAP: 0.1850, bbox_mAP_50: 0.2820, bbox_mAP_75: 0.1860, bbox_mAP_s: 0.0340, bbox_mAP_m: 0.1390, bbox_mAP_l: 0.3890, bbox_mAP_copypaste: 0.185 0.282 0.186 0.034 0.139 0.389\n"
     ]
    },
    {
     "name": "stdout",
     "output_type": "stream",
     "text": [
      "DONE (t=1.61s).\n",
      "Average Precision  (AP) @[ IoU=0.50:0.95 | area=   all | maxDets=100 ] = 0.185\n",
      "Average Precision  (AP) @[ IoU=0.50      | area=   all | maxDets=1000 ] = 0.282\n",
      "Average Precision  (AP) @[ IoU=0.75      | area=   all | maxDets=1000 ] = 0.186\n",
      "Average Precision  (AP) @[ IoU=0.50:0.95 | area= small | maxDets=1000 ] = 0.034\n",
      "Average Precision  (AP) @[ IoU=0.50:0.95 | area=medium | maxDets=1000 ] = 0.139\n",
      "Average Precision  (AP) @[ IoU=0.50:0.95 | area= large | maxDets=1000 ] = 0.389\n",
      "Average Recall     (AR) @[ IoU=0.50:0.95 | area=   all | maxDets=100 ] = 0.350\n",
      "Average Recall     (AR) @[ IoU=0.50:0.95 | area=   all | maxDets=300 ] = 0.350\n",
      "Average Recall     (AR) @[ IoU=0.50:0.95 | area=   all | maxDets=1000 ] = 0.350\n",
      "Average Recall     (AR) @[ IoU=0.50:0.95 | area= small | maxDets=1000 ] = 0.111\n",
      "Average Recall     (AR) @[ IoU=0.50:0.95 | area=medium | maxDets=1000 ] = 0.321\n",
      "Average Recall     (AR) @[ IoU=0.50:0.95 | area= large | maxDets=1000 ] = 0.626\n"
     ]
    },
    {
     "name": "stderr",
     "output_type": "stream",
     "text": [
      "2021-05-14 14:02:37,248 - mmdet - INFO - Epoch [43][50/655]\tlr: 1.000e-02, eta: 5:39:12, time: 0.584, data_time: 0.052, memory: 1887, loss_cls: 0.5173, loss_bbox: 0.1941, loss_bbox_rf: 0.2385, loss: 0.9499, grad_norm: 3.7865\n",
      "2021-05-14 14:03:04,103 - mmdet - INFO - Epoch [43][100/655]\tlr: 1.000e-02, eta: 5:38:45, time: 0.537, data_time: 0.007, memory: 1887, loss_cls: 0.5181, loss_bbox: 0.1749, loss_bbox_rf: 0.2154, loss: 0.9085, grad_norm: 4.4359\n",
      "2021-05-14 14:03:31,099 - mmdet - INFO - Epoch [43][150/655]\tlr: 1.000e-02, eta: 5:38:18, time: 0.540, data_time: 0.007, memory: 1887, loss_cls: 0.5884, loss_bbox: 0.2136, loss_bbox_rf: 0.2634, loss: 1.0655, grad_norm: 4.4019\n",
      "2021-05-14 14:03:58,106 - mmdet - INFO - Epoch [43][200/655]\tlr: 1.000e-02, eta: 5:37:52, time: 0.540, data_time: 0.008, memory: 1887, loss_cls: 0.5679, loss_bbox: 0.1964, loss_bbox_rf: 0.2426, loss: 1.0070, grad_norm: 4.5556\n",
      "2021-05-14 14:04:24,903 - mmdet - INFO - Epoch [43][250/655]\tlr: 1.000e-02, eta: 5:37:25, time: 0.536, data_time: 0.007, memory: 1887, loss_cls: 0.5218, loss_bbox: 0.1992, loss_bbox_rf: 0.2456, loss: 0.9666, grad_norm: 3.6147\n",
      "2021-05-14 14:04:51,854 - mmdet - INFO - Epoch [43][300/655]\tlr: 1.000e-02, eta: 5:36:58, time: 0.539, data_time: 0.007, memory: 1887, loss_cls: 0.5628, loss_bbox: 0.1974, loss_bbox_rf: 0.2343, loss: 0.9945, grad_norm: 4.5266\n",
      "2021-05-14 14:05:18,836 - mmdet - INFO - Epoch [43][350/655]\tlr: 1.000e-02, eta: 5:36:32, time: 0.540, data_time: 0.007, memory: 1887, loss_cls: 0.5411, loss_bbox: 0.1999, loss_bbox_rf: 0.2513, loss: 0.9923, grad_norm: 3.8453\n",
      "2021-05-14 14:05:45,630 - mmdet - INFO - Epoch [43][400/655]\tlr: 1.000e-02, eta: 5:36:05, time: 0.536, data_time: 0.007, memory: 1887, loss_cls: 0.5225, loss_bbox: 0.1884, loss_bbox_rf: 0.2368, loss: 0.9477, grad_norm: 4.0640\n",
      "2021-05-14 14:06:12,346 - mmdet - INFO - Epoch [43][450/655]\tlr: 1.000e-02, eta: 5:35:38, time: 0.534, data_time: 0.007, memory: 1887, loss_cls: 0.6900, loss_bbox: 0.2036, loss_bbox_rf: 0.2545, loss: 1.1481, grad_norm: 5.8054\n",
      "2021-05-14 14:06:39,215 - mmdet - INFO - Epoch [43][500/655]\tlr: 1.000e-02, eta: 5:35:11, time: 0.537, data_time: 0.007, memory: 1887, loss_cls: 0.7177, loss_bbox: 0.2235, loss_bbox_rf: 0.2817, loss: 1.2229, grad_norm: 4.7591\n",
      "2021-05-14 14:07:05,861 - mmdet - INFO - Epoch [43][550/655]\tlr: 1.000e-02, eta: 5:34:44, time: 0.533, data_time: 0.007, memory: 1887, loss_cls: 0.6669, loss_bbox: 0.2071, loss_bbox_rf: 0.2572, loss: 1.1313, grad_norm: 5.3350\n",
      "2021-05-14 14:07:32,528 - mmdet - INFO - Epoch [43][600/655]\tlr: 1.000e-02, eta: 5:34:17, time: 0.533, data_time: 0.007, memory: 1887, loss_cls: 0.6377, loss_bbox: 0.2156, loss_bbox_rf: 0.2656, loss: 1.1188, grad_norm: 4.0080\n",
      "2021-05-14 14:07:59,306 - mmdet - INFO - Epoch [43][650/655]\tlr: 1.000e-02, eta: 5:33:50, time: 0.536, data_time: 0.007, memory: 1887, loss_cls: 0.5820, loss_bbox: 0.1949, loss_bbox_rf: 0.2407, loss: 1.0176, grad_norm: 4.6347\n",
      "2021-05-14 14:08:02,072 - mmdet - INFO - Saving checkpoint at 43 epochs\n"
     ]
    },
    {
     "name": "stdout",
     "output_type": "stream",
     "text": [
      "[>>>>>>>>>>>>>>>>>>>>>>>>>>>>>] 655/655, 18.2 task/s, elapsed: 36s, ETA:     0s"
     ]
    },
    {
     "name": "stderr",
     "output_type": "stream",
     "text": [
      "2021-05-14 14:08:40,391 - mmdet - INFO - Evaluating bbox...\n"
     ]
    },
    {
     "name": "stdout",
     "output_type": "stream",
     "text": [
      "Loading and preparing results...\n",
      "DONE (t=0.76s)\n",
      "creating index...\n",
      "index created!\n",
      "Running per image evaluation...\n",
      "Evaluate annotation type *bbox*\n",
      "DONE (t=7.80s).\n",
      "Accumulating evaluation results...\n"
     ]
    },
    {
     "name": "stderr",
     "output_type": "stream",
     "text": [
      "2021-05-14 14:08:50,691 - mmdet - INFO - Epoch(val) [43][655]\tbbox_mAP: 0.1650, bbox_mAP_50: 0.2500, bbox_mAP_75: 0.1670, bbox_mAP_s: 0.0230, bbox_mAP_m: 0.1330, bbox_mAP_l: 0.3410, bbox_mAP_copypaste: 0.165 0.250 0.167 0.023 0.133 0.341\n"
     ]
    },
    {
     "name": "stdout",
     "output_type": "stream",
     "text": [
      "DONE (t=1.58s).\n",
      "Average Precision  (AP) @[ IoU=0.50:0.95 | area=   all | maxDets=100 ] = 0.165\n",
      "Average Precision  (AP) @[ IoU=0.50      | area=   all | maxDets=1000 ] = 0.250\n",
      "Average Precision  (AP) @[ IoU=0.75      | area=   all | maxDets=1000 ] = 0.167\n",
      "Average Precision  (AP) @[ IoU=0.50:0.95 | area= small | maxDets=1000 ] = 0.023\n",
      "Average Precision  (AP) @[ IoU=0.50:0.95 | area=medium | maxDets=1000 ] = 0.133\n",
      "Average Precision  (AP) @[ IoU=0.50:0.95 | area= large | maxDets=1000 ] = 0.341\n",
      "Average Recall     (AR) @[ IoU=0.50:0.95 | area=   all | maxDets=100 ] = 0.331\n",
      "Average Recall     (AR) @[ IoU=0.50:0.95 | area=   all | maxDets=300 ] = 0.331\n",
      "Average Recall     (AR) @[ IoU=0.50:0.95 | area=   all | maxDets=1000 ] = 0.331\n",
      "Average Recall     (AR) @[ IoU=0.50:0.95 | area= small | maxDets=1000 ] = 0.091\n",
      "Average Recall     (AR) @[ IoU=0.50:0.95 | area=medium | maxDets=1000 ] = 0.292\n",
      "Average Recall     (AR) @[ IoU=0.50:0.95 | area= large | maxDets=1000 ] = 0.642\n"
     ]
    },
    {
     "name": "stderr",
     "output_type": "stream",
     "text": [
      "2021-05-14 14:09:19,859 - mmdet - INFO - Epoch [44][50/655]\tlr: 1.000e-02, eta: 5:33:20, time: 0.583, data_time: 0.053, memory: 1887, loss_cls: 0.6070, loss_bbox: 0.2081, loss_bbox_rf: 0.2554, loss: 1.0705, grad_norm: 4.9560\n",
      "2021-05-14 14:09:46,870 - mmdet - INFO - Epoch [44][100/655]\tlr: 1.000e-02, eta: 5:32:54, time: 0.540, data_time: 0.007, memory: 1887, loss_cls: 0.5338, loss_bbox: 0.1862, loss_bbox_rf: 0.2300, loss: 0.9500, grad_norm: 3.9142\n",
      "2021-05-14 14:10:13,770 - mmdet - INFO - Epoch [44][150/655]\tlr: 1.000e-02, eta: 5:32:27, time: 0.538, data_time: 0.007, memory: 1887, loss_cls: 0.5876, loss_bbox: 0.2005, loss_bbox_rf: 0.2481, loss: 1.0362, grad_norm: 5.0000\n",
      "2021-05-14 14:10:40,743 - mmdet - INFO - Epoch [44][200/655]\tlr: 1.000e-02, eta: 5:32:00, time: 0.539, data_time: 0.008, memory: 1887, loss_cls: 0.5569, loss_bbox: 0.2095, loss_bbox_rf: 0.2543, loss: 1.0206, grad_norm: 4.4923\n",
      "2021-05-14 14:11:07,852 - mmdet - INFO - Epoch [44][250/655]\tlr: 1.000e-02, eta: 5:31:34, time: 0.542, data_time: 0.007, memory: 1887, loss_cls: 0.5328, loss_bbox: 0.1931, loss_bbox_rf: 0.2396, loss: 0.9655, grad_norm: 3.6970\n",
      "2021-05-14 14:11:34,751 - mmdet - INFO - Epoch [44][300/655]\tlr: 1.000e-02, eta: 5:31:07, time: 0.538, data_time: 0.007, memory: 1887, loss_cls: 0.5480, loss_bbox: 0.1897, loss_bbox_rf: 0.2325, loss: 0.9702, grad_norm: 4.5714\n",
      "2021-05-14 14:12:01,555 - mmdet - INFO - Epoch [44][350/655]\tlr: 1.000e-02, eta: 5:30:40, time: 0.536, data_time: 0.007, memory: 1887, loss_cls: 0.6190, loss_bbox: 0.2085, loss_bbox_rf: 0.2571, loss: 1.0846, grad_norm: 4.4911\n",
      "2021-05-14 14:12:28,307 - mmdet - INFO - Epoch [44][400/655]\tlr: 1.000e-02, eta: 5:30:13, time: 0.535, data_time: 0.007, memory: 1887, loss_cls: 0.5521, loss_bbox: 0.1867, loss_bbox_rf: 0.2277, loss: 0.9665, grad_norm: 4.2638\n",
      "2021-05-14 14:12:55,091 - mmdet - INFO - Epoch [44][450/655]\tlr: 1.000e-02, eta: 5:29:47, time: 0.536, data_time: 0.007, memory: 1887, loss_cls: 0.5943, loss_bbox: 0.1979, loss_bbox_rf: 0.2457, loss: 1.0378, grad_norm: 4.9265\n",
      "2021-05-14 14:13:21,868 - mmdet - INFO - Epoch [44][500/655]\tlr: 1.000e-02, eta: 5:29:20, time: 0.536, data_time: 0.007, memory: 1887, loss_cls: 0.5514, loss_bbox: 0.2051, loss_bbox_rf: 0.2495, loss: 1.0060, grad_norm: 4.0498\n",
      "2021-05-14 14:13:48,913 - mmdet - INFO - Epoch [44][550/655]\tlr: 1.000e-02, eta: 5:28:53, time: 0.541, data_time: 0.007, memory: 1887, loss_cls: 0.5537, loss_bbox: 0.1983, loss_bbox_rf: 0.2476, loss: 0.9996, grad_norm: 3.9143\n",
      "2021-05-14 14:14:15,732 - mmdet - INFO - Epoch [44][600/655]\tlr: 1.000e-02, eta: 5:28:26, time: 0.536, data_time: 0.007, memory: 1887, loss_cls: 0.5288, loss_bbox: 0.1996, loss_bbox_rf: 0.2464, loss: 0.9748, grad_norm: 3.7936\n",
      "2021-05-14 14:14:42,499 - mmdet - INFO - Epoch [44][650/655]\tlr: 1.000e-02, eta: 5:27:59, time: 0.535, data_time: 0.007, memory: 1887, loss_cls: 0.5377, loss_bbox: 0.2030, loss_bbox_rf: 0.2460, loss: 0.9867, grad_norm: 4.1449\n",
      "2021-05-14 14:14:45,284 - mmdet - INFO - Saving checkpoint at 44 epochs\n"
     ]
    },
    {
     "name": "stdout",
     "output_type": "stream",
     "text": [
      "[>>>>>>>>>>>>>>>>>>>>>>>>>>>>>] 655/655, 18.2 task/s, elapsed: 36s, ETA:     0s"
     ]
    },
    {
     "name": "stderr",
     "output_type": "stream",
     "text": [
      "2021-05-14 14:15:22,885 - mmdet - INFO - Evaluating bbox...\n"
     ]
    },
    {
     "name": "stdout",
     "output_type": "stream",
     "text": [
      "Loading and preparing results...\n",
      "DONE (t=0.75s)\n",
      "creating index...\n",
      "index created!\n",
      "Running per image evaluation...\n",
      "Evaluate annotation type *bbox*\n",
      "DONE (t=7.61s).\n",
      "Accumulating evaluation results...\n"
     ]
    },
    {
     "name": "stderr",
     "output_type": "stream",
     "text": [
      "2021-05-14 14:15:32,857 - mmdet - INFO - Epoch(val) [44][655]\tbbox_mAP: 0.1800, bbox_mAP_50: 0.2770, bbox_mAP_75: 0.1820, bbox_mAP_s: 0.0250, bbox_mAP_m: 0.1470, bbox_mAP_l: 0.3900, bbox_mAP_copypaste: 0.180 0.277 0.182 0.025 0.147 0.390\n"
     ]
    },
    {
     "name": "stdout",
     "output_type": "stream",
     "text": [
      "DONE (t=1.48s).\n",
      "Average Precision  (AP) @[ IoU=0.50:0.95 | area=   all | maxDets=100 ] = 0.180\n",
      "Average Precision  (AP) @[ IoU=0.50      | area=   all | maxDets=1000 ] = 0.277\n",
      "Average Precision  (AP) @[ IoU=0.75      | area=   all | maxDets=1000 ] = 0.182\n",
      "Average Precision  (AP) @[ IoU=0.50:0.95 | area= small | maxDets=1000 ] = 0.025\n",
      "Average Precision  (AP) @[ IoU=0.50:0.95 | area=medium | maxDets=1000 ] = 0.147\n",
      "Average Precision  (AP) @[ IoU=0.50:0.95 | area= large | maxDets=1000 ] = 0.390\n",
      "Average Recall     (AR) @[ IoU=0.50:0.95 | area=   all | maxDets=100 ] = 0.344\n",
      "Average Recall     (AR) @[ IoU=0.50:0.95 | area=   all | maxDets=300 ] = 0.344\n",
      "Average Recall     (AR) @[ IoU=0.50:0.95 | area=   all | maxDets=1000 ] = 0.344\n",
      "Average Recall     (AR) @[ IoU=0.50:0.95 | area= small | maxDets=1000 ] = 0.097\n",
      "Average Recall     (AR) @[ IoU=0.50:0.95 | area=medium | maxDets=1000 ] = 0.307\n",
      "Average Recall     (AR) @[ IoU=0.50:0.95 | area= large | maxDets=1000 ] = 0.637\n"
     ]
    },
    {
     "name": "stderr",
     "output_type": "stream",
     "text": [
      "2021-05-14 14:16:02,092 - mmdet - INFO - Epoch [45][50/655]\tlr: 1.000e-02, eta: 5:27:29, time: 0.584, data_time: 0.052, memory: 1887, loss_cls: 0.4915, loss_bbox: 0.1901, loss_bbox_rf: 0.2349, loss: 0.9166, grad_norm: 3.1212\n",
      "2021-05-14 14:16:29,008 - mmdet - INFO - Epoch [45][100/655]\tlr: 1.000e-02, eta: 5:27:03, time: 0.538, data_time: 0.007, memory: 1887, loss_cls: 0.4874, loss_bbox: 0.1765, loss_bbox_rf: 0.2157, loss: 0.8797, grad_norm: 3.6754\n",
      "2021-05-14 14:16:55,938 - mmdet - INFO - Epoch [45][150/655]\tlr: 1.000e-02, eta: 5:26:36, time: 0.539, data_time: 0.007, memory: 1887, loss_cls: 0.5219, loss_bbox: 0.1965, loss_bbox_rf: 0.2381, loss: 0.9564, grad_norm: 4.0848\n",
      "2021-05-14 14:17:22,877 - mmdet - INFO - Epoch [45][200/655]\tlr: 1.000e-02, eta: 5:26:09, time: 0.539, data_time: 0.007, memory: 1887, loss_cls: 0.5271, loss_bbox: 0.2058, loss_bbox_rf: 0.2466, loss: 0.9795, grad_norm: 4.1185\n",
      "2021-05-14 14:17:49,731 - mmdet - INFO - Epoch [45][250/655]\tlr: 1.000e-02, eta: 5:25:43, time: 0.537, data_time: 0.007, memory: 1887, loss_cls: 0.5261, loss_bbox: 0.1976, loss_bbox_rf: 0.2398, loss: 0.9634, grad_norm: 3.6226\n",
      "2021-05-14 14:18:16,550 - mmdet - INFO - Epoch [45][300/655]\tlr: 1.000e-02, eta: 5:25:16, time: 0.536, data_time: 0.007, memory: 1887, loss_cls: 0.5166, loss_bbox: 0.1963, loss_bbox_rf: 0.2399, loss: 0.9528, grad_norm: 4.2843\n",
      "2021-05-14 14:18:43,311 - mmdet - INFO - Epoch [45][350/655]\tlr: 1.000e-02, eta: 5:24:49, time: 0.535, data_time: 0.007, memory: 1887, loss_cls: 0.5389, loss_bbox: 0.1977, loss_bbox_rf: 0.2436, loss: 0.9801, grad_norm: 4.4023\n",
      "2021-05-14 14:19:10,222 - mmdet - INFO - Epoch [45][400/655]\tlr: 1.000e-02, eta: 5:24:22, time: 0.538, data_time: 0.007, memory: 1887, loss_cls: 0.5181, loss_bbox: 0.1860, loss_bbox_rf: 0.2251, loss: 0.9291, grad_norm: 3.9738\n",
      "2021-05-14 14:19:37,143 - mmdet - INFO - Epoch [45][450/655]\tlr: 1.000e-02, eta: 5:23:56, time: 0.538, data_time: 0.007, memory: 1887, loss_cls: 0.5239, loss_bbox: 0.2022, loss_bbox_rf: 0.2503, loss: 0.9763, grad_norm: 3.6312\n",
      "2021-05-14 14:20:04,017 - mmdet - INFO - Epoch [45][500/655]\tlr: 1.000e-02, eta: 5:23:29, time: 0.537, data_time: 0.007, memory: 1887, loss_cls: 0.5046, loss_bbox: 0.1888, loss_bbox_rf: 0.2320, loss: 0.9255, grad_norm: 3.8202\n",
      "2021-05-14 14:20:30,851 - mmdet - INFO - Epoch [45][550/655]\tlr: 1.000e-02, eta: 5:23:02, time: 0.537, data_time: 0.007, memory: 1887, loss_cls: 0.5146, loss_bbox: 0.1896, loss_bbox_rf: 0.2322, loss: 0.9364, grad_norm: 4.3041\n",
      "2021-05-14 14:20:57,698 - mmdet - INFO - Epoch [45][600/655]\tlr: 1.000e-02, eta: 5:22:35, time: 0.537, data_time: 0.007, memory: 1887, loss_cls: 0.5399, loss_bbox: 0.2078, loss_bbox_rf: 0.2549, loss: 1.0026, grad_norm: 4.1986\n",
      "2021-05-14 14:21:24,723 - mmdet - INFO - Epoch [45][650/655]\tlr: 1.000e-02, eta: 5:22:09, time: 0.540, data_time: 0.007, memory: 1887, loss_cls: 0.5576, loss_bbox: 0.1929, loss_bbox_rf: 0.2391, loss: 0.9896, grad_norm: 4.4196\n",
      "2021-05-14 14:21:27,503 - mmdet - INFO - Saving checkpoint at 45 epochs\n"
     ]
    },
    {
     "name": "stdout",
     "output_type": "stream",
     "text": [
      "[>>>>>>>>>>>>>>>>>>>>>>>>>>>>>] 655/655, 18.6 task/s, elapsed: 35s, ETA:     0s"
     ]
    },
    {
     "name": "stderr",
     "output_type": "stream",
     "text": [
      "2021-05-14 14:22:04,421 - mmdet - INFO - Evaluating bbox...\n"
     ]
    },
    {
     "name": "stdout",
     "output_type": "stream",
     "text": [
      "Loading and preparing results...\n",
      "DONE (t=0.72s)\n",
      "creating index...\n",
      "index created!\n",
      "Running per image evaluation...\n",
      "Evaluate annotation type *bbox*\n",
      "DONE (t=7.01s).\n",
      "Accumulating evaluation results...\n"
     ]
    },
    {
     "name": "stderr",
     "output_type": "stream",
     "text": [
      "2021-05-14 14:22:13,610 - mmdet - INFO - Epoch(val) [45][655]\tbbox_mAP: 0.1600, bbox_mAP_50: 0.2400, bbox_mAP_75: 0.1640, bbox_mAP_s: 0.0250, bbox_mAP_m: 0.1200, bbox_mAP_l: 0.3750, bbox_mAP_copypaste: 0.160 0.240 0.164 0.025 0.120 0.375\n"
     ]
    },
    {
     "name": "stdout",
     "output_type": "stream",
     "text": [
      "DONE (t=1.33s).\n",
      "Average Precision  (AP) @[ IoU=0.50:0.95 | area=   all | maxDets=100 ] = 0.160\n",
      "Average Precision  (AP) @[ IoU=0.50      | area=   all | maxDets=1000 ] = 0.240\n",
      "Average Precision  (AP) @[ IoU=0.75      | area=   all | maxDets=1000 ] = 0.164\n",
      "Average Precision  (AP) @[ IoU=0.50:0.95 | area= small | maxDets=1000 ] = 0.025\n",
      "Average Precision  (AP) @[ IoU=0.50:0.95 | area=medium | maxDets=1000 ] = 0.120\n",
      "Average Precision  (AP) @[ IoU=0.50:0.95 | area= large | maxDets=1000 ] = 0.375\n",
      "Average Recall     (AR) @[ IoU=0.50:0.95 | area=   all | maxDets=100 ] = 0.312\n",
      "Average Recall     (AR) @[ IoU=0.50:0.95 | area=   all | maxDets=300 ] = 0.312\n",
      "Average Recall     (AR) @[ IoU=0.50:0.95 | area=   all | maxDets=1000 ] = 0.312\n",
      "Average Recall     (AR) @[ IoU=0.50:0.95 | area= small | maxDets=1000 ] = 0.085\n",
      "Average Recall     (AR) @[ IoU=0.50:0.95 | area=medium | maxDets=1000 ] = 0.278\n",
      "Average Recall     (AR) @[ IoU=0.50:0.95 | area= large | maxDets=1000 ] = 0.607\n"
     ]
    },
    {
     "name": "stderr",
     "output_type": "stream",
     "text": [
      "2021-05-14 14:22:42,935 - mmdet - INFO - Epoch [46][50/655]\tlr: 1.000e-02, eta: 5:21:39, time: 0.586, data_time: 0.052, memory: 1887, loss_cls: 0.5149, loss_bbox: 0.1855, loss_bbox_rf: 0.2304, loss: 0.9308, grad_norm: 3.9139\n",
      "2021-05-14 14:23:09,829 - mmdet - INFO - Epoch [46][100/655]\tlr: 1.000e-02, eta: 5:21:12, time: 0.538, data_time: 0.008, memory: 1887, loss_cls: 0.5201, loss_bbox: 0.1927, loss_bbox_rf: 0.2380, loss: 0.9507, grad_norm: 4.0737\n",
      "2021-05-14 14:23:36,645 - mmdet - INFO - Epoch [46][150/655]\tlr: 1.000e-02, eta: 5:20:45, time: 0.536, data_time: 0.008, memory: 1887, loss_cls: 0.5052, loss_bbox: 0.1881, loss_bbox_rf: 0.2313, loss: 0.9247, grad_norm: 3.6766\n",
      "2021-05-14 14:24:03,519 - mmdet - INFO - Epoch [46][200/655]\tlr: 1.000e-02, eta: 5:20:18, time: 0.537, data_time: 0.007, memory: 1887, loss_cls: 0.4942, loss_bbox: 0.1825, loss_bbox_rf: 0.2269, loss: 0.9036, grad_norm: 3.6612\n",
      "2021-05-14 14:24:30,211 - mmdet - INFO - Epoch [46][250/655]\tlr: 1.000e-02, eta: 5:19:52, time: 0.534, data_time: 0.007, memory: 1887, loss_cls: 0.5156, loss_bbox: 0.2030, loss_bbox_rf: 0.2444, loss: 0.9630, grad_norm: 3.6697\n",
      "2021-05-14 14:24:57,113 - mmdet - INFO - Epoch [46][300/655]\tlr: 1.000e-02, eta: 5:19:25, time: 0.538, data_time: 0.007, memory: 1887, loss_cls: 0.4973, loss_bbox: 0.1863, loss_bbox_rf: 0.2254, loss: 0.9090, grad_norm: 3.8275\n",
      "2021-05-14 14:25:24,263 - mmdet - INFO - Epoch [46][350/655]\tlr: 1.000e-02, eta: 5:18:58, time: 0.543, data_time: 0.007, memory: 1887, loss_cls: 0.4705, loss_bbox: 0.1745, loss_bbox_rf: 0.2147, loss: 0.8596, grad_norm: 3.3903\n",
      "2021-05-14 14:25:50,997 - mmdet - INFO - Epoch [46][400/655]\tlr: 1.000e-02, eta: 5:18:31, time: 0.535, data_time: 0.007, memory: 1887, loss_cls: 0.4957, loss_bbox: 0.1808, loss_bbox_rf: 0.2207, loss: 0.8972, grad_norm: 3.8876\n",
      "2021-05-14 14:26:17,629 - mmdet - INFO - Epoch [46][450/655]\tlr: 1.000e-02, eta: 5:18:04, time: 0.533, data_time: 0.007, memory: 1887, loss_cls: 0.5304, loss_bbox: 0.1991, loss_bbox_rf: 0.2475, loss: 0.9769, grad_norm: 4.1508\n",
      "2021-05-14 14:26:44,444 - mmdet - INFO - Epoch [46][500/655]\tlr: 1.000e-02, eta: 5:17:38, time: 0.536, data_time: 0.007, memory: 1887, loss_cls: 0.5238, loss_bbox: 0.1913, loss_bbox_rf: 0.2371, loss: 0.9521, grad_norm: 4.0648\n",
      "2021-05-14 14:27:11,231 - mmdet - INFO - Epoch [46][550/655]\tlr: 1.000e-02, eta: 5:17:11, time: 0.536, data_time: 0.007, memory: 1887, loss_cls: 0.4939, loss_bbox: 0.1871, loss_bbox_rf: 0.2304, loss: 0.9114, grad_norm: 4.1949\n",
      "2021-05-14 14:27:38,372 - mmdet - INFO - Epoch [46][600/655]\tlr: 1.000e-02, eta: 5:16:44, time: 0.543, data_time: 0.007, memory: 1887, loss_cls: 0.4986, loss_bbox: 0.1806, loss_bbox_rf: 0.2237, loss: 0.9029, grad_norm: 3.8368\n",
      "2021-05-14 14:28:05,287 - mmdet - INFO - Epoch [46][650/655]\tlr: 1.000e-02, eta: 5:16:17, time: 0.538, data_time: 0.007, memory: 1887, loss_cls: 0.4977, loss_bbox: 0.1799, loss_bbox_rf: 0.2241, loss: 0.9017, grad_norm: 4.1763\n",
      "2021-05-14 14:28:08,068 - mmdet - INFO - Saving checkpoint at 46 epochs\n"
     ]
    },
    {
     "name": "stdout",
     "output_type": "stream",
     "text": [
      "[>>>>>>>>>>>>>>>>>>>>>>>>>>>>>] 655/655, 18.2 task/s, elapsed: 36s, ETA:     0s"
     ]
    },
    {
     "name": "stderr",
     "output_type": "stream",
     "text": [
      "2021-05-14 14:28:45,760 - mmdet - INFO - Evaluating bbox...\n"
     ]
    },
    {
     "name": "stdout",
     "output_type": "stream",
     "text": [
      "Loading and preparing results...\n",
      "DONE (t=0.78s)\n",
      "creating index...\n",
      "index created!\n",
      "Running per image evaluation...\n",
      "Evaluate annotation type *bbox*\n",
      "DONE (t=7.46s).\n",
      "Accumulating evaluation results...\n"
     ]
    },
    {
     "name": "stderr",
     "output_type": "stream",
     "text": [
      "2021-05-14 14:28:55,475 - mmdet - INFO - Epoch(val) [46][655]\tbbox_mAP: 0.1730, bbox_mAP_50: 0.2640, bbox_mAP_75: 0.1720, bbox_mAP_s: 0.0240, bbox_mAP_m: 0.1360, bbox_mAP_l: 0.4020, bbox_mAP_copypaste: 0.173 0.264 0.172 0.024 0.136 0.402\n"
     ]
    },
    {
     "name": "stdout",
     "output_type": "stream",
     "text": [
      "DONE (t=1.35s).\n",
      "Average Precision  (AP) @[ IoU=0.50:0.95 | area=   all | maxDets=100 ] = 0.173\n",
      "Average Precision  (AP) @[ IoU=0.50      | area=   all | maxDets=1000 ] = 0.264\n",
      "Average Precision  (AP) @[ IoU=0.75      | area=   all | maxDets=1000 ] = 0.172\n",
      "Average Precision  (AP) @[ IoU=0.50:0.95 | area= small | maxDets=1000 ] = 0.024\n",
      "Average Precision  (AP) @[ IoU=0.50:0.95 | area=medium | maxDets=1000 ] = 0.136\n",
      "Average Precision  (AP) @[ IoU=0.50:0.95 | area= large | maxDets=1000 ] = 0.402\n",
      "Average Recall     (AR) @[ IoU=0.50:0.95 | area=   all | maxDets=100 ] = 0.345\n",
      "Average Recall     (AR) @[ IoU=0.50:0.95 | area=   all | maxDets=300 ] = 0.345\n",
      "Average Recall     (AR) @[ IoU=0.50:0.95 | area=   all | maxDets=1000 ] = 0.345\n",
      "Average Recall     (AR) @[ IoU=0.50:0.95 | area= small | maxDets=1000 ] = 0.087\n",
      "Average Recall     (AR) @[ IoU=0.50:0.95 | area=medium | maxDets=1000 ] = 0.310\n",
      "Average Recall     (AR) @[ IoU=0.50:0.95 | area= large | maxDets=1000 ] = 0.644\n"
     ]
    },
    {
     "name": "stderr",
     "output_type": "stream",
     "text": [
      "2021-05-14 14:29:24,797 - mmdet - INFO - Epoch [47][50/655]\tlr: 1.000e-02, eta: 5:15:48, time: 0.586, data_time: 0.052, memory: 1887, loss_cls: 0.4919, loss_bbox: 0.1804, loss_bbox_rf: 0.2147, loss: 0.8870, grad_norm: 3.7741\n",
      "2021-05-14 14:29:52,012 - mmdet - INFO - Epoch [47][100/655]\tlr: 1.000e-02, eta: 5:15:21, time: 0.544, data_time: 0.008, memory: 1887, loss_cls: 0.5187, loss_bbox: 0.1858, loss_bbox_rf: 0.2296, loss: 0.9342, grad_norm: 4.0155\n",
      "2021-05-14 14:30:18,860 - mmdet - INFO - Epoch [47][150/655]\tlr: 1.000e-02, eta: 5:14:55, time: 0.537, data_time: 0.007, memory: 1887, loss_cls: 0.5047, loss_bbox: 0.1801, loss_bbox_rf: 0.2202, loss: 0.9049, grad_norm: 3.6125\n",
      "2021-05-14 14:30:45,868 - mmdet - INFO - Epoch [47][200/655]\tlr: 1.000e-02, eta: 5:14:28, time: 0.540, data_time: 0.007, memory: 1887, loss_cls: 0.5132, loss_bbox: 0.1941, loss_bbox_rf: 0.2394, loss: 0.9467, grad_norm: 3.6623\n",
      "2021-05-14 14:31:12,797 - mmdet - INFO - Epoch [47][250/655]\tlr: 1.000e-02, eta: 5:14:01, time: 0.539, data_time: 0.007, memory: 1887, loss_cls: 0.5049, loss_bbox: 0.2043, loss_bbox_rf: 0.2514, loss: 0.9607, grad_norm: 3.5237\n",
      "2021-05-14 14:31:39,895 - mmdet - INFO - Epoch [47][300/655]\tlr: 1.000e-02, eta: 5:13:35, time: 0.542, data_time: 0.007, memory: 1887, loss_cls: 0.4907, loss_bbox: 0.1945, loss_bbox_rf: 0.2389, loss: 0.9241, grad_norm: 3.4632\n",
      "2021-05-14 14:32:06,687 - mmdet - INFO - Epoch [47][350/655]\tlr: 1.000e-02, eta: 5:13:08, time: 0.536, data_time: 0.007, memory: 1887, loss_cls: 0.4800, loss_bbox: 0.1813, loss_bbox_rf: 0.2187, loss: 0.8800, grad_norm: 3.9142\n",
      "2021-05-14 14:32:33,539 - mmdet - INFO - Epoch [47][400/655]\tlr: 1.000e-02, eta: 5:12:41, time: 0.537, data_time: 0.007, memory: 1887, loss_cls: 0.4854, loss_bbox: 0.1774, loss_bbox_rf: 0.2177, loss: 0.8805, grad_norm: 3.9174\n",
      "2021-05-14 14:33:00,461 - mmdet - INFO - Epoch [47][450/655]\tlr: 1.000e-02, eta: 5:12:14, time: 0.538, data_time: 0.007, memory: 1887, loss_cls: 0.5170, loss_bbox: 0.1915, loss_bbox_rf: 0.2358, loss: 0.9444, grad_norm: 4.1791\n",
      "2021-05-14 14:33:27,439 - mmdet - INFO - Epoch [47][500/655]\tlr: 1.000e-02, eta: 5:11:48, time: 0.540, data_time: 0.007, memory: 1887, loss_cls: 0.5141, loss_bbox: 0.1833, loss_bbox_rf: 0.2287, loss: 0.9261, grad_norm: 3.8853\n",
      "2021-05-14 14:33:54,311 - mmdet - INFO - Epoch [47][550/655]\tlr: 1.000e-02, eta: 5:11:21, time: 0.537, data_time: 0.007, memory: 1887, loss_cls: 0.5325, loss_bbox: 0.1844, loss_bbox_rf: 0.2287, loss: 0.9456, grad_norm: 4.8064\n",
      "2021-05-14 14:34:21,172 - mmdet - INFO - Epoch [47][600/655]\tlr: 1.000e-02, eta: 5:10:54, time: 0.537, data_time: 0.007, memory: 1887, loss_cls: 0.5488, loss_bbox: 0.1983, loss_bbox_rf: 0.2415, loss: 0.9886, grad_norm: 4.4697\n",
      "2021-05-14 14:34:47,894 - mmdet - INFO - Epoch [47][650/655]\tlr: 1.000e-02, eta: 5:10:27, time: 0.534, data_time: 0.007, memory: 1887, loss_cls: 0.5541, loss_bbox: 0.1901, loss_bbox_rf: 0.2292, loss: 0.9734, grad_norm: 4.8380\n",
      "2021-05-14 14:34:50,669 - mmdet - INFO - Saving checkpoint at 47 epochs\n"
     ]
    },
    {
     "name": "stdout",
     "output_type": "stream",
     "text": [
      "[>>>>>>>>>>>>>>>>>>>>>>>>>>>>>] 655/655, 18.3 task/s, elapsed: 36s, ETA:     0s"
     ]
    },
    {
     "name": "stderr",
     "output_type": "stream",
     "text": [
      "2021-05-14 14:35:28,127 - mmdet - INFO - Evaluating bbox...\n"
     ]
    },
    {
     "name": "stdout",
     "output_type": "stream",
     "text": [
      "Loading and preparing results...\n",
      "DONE (t=0.74s)\n",
      "creating index...\n",
      "index created!\n",
      "Running per image evaluation...\n",
      "Evaluate annotation type *bbox*\n",
      "DONE (t=7.37s).\n",
      "Accumulating evaluation results...\n"
     ]
    },
    {
     "name": "stderr",
     "output_type": "stream",
     "text": [
      "2021-05-14 14:35:37,848 - mmdet - INFO - Epoch(val) [47][655]\tbbox_mAP: 0.1510, bbox_mAP_50: 0.2300, bbox_mAP_75: 0.1540, bbox_mAP_s: 0.0220, bbox_mAP_m: 0.1180, bbox_mAP_l: 0.3350, bbox_mAP_copypaste: 0.151 0.230 0.154 0.022 0.118 0.335\n"
     ]
    },
    {
     "name": "stdout",
     "output_type": "stream",
     "text": [
      "DONE (t=1.48s).\n",
      "Average Precision  (AP) @[ IoU=0.50:0.95 | area=   all | maxDets=100 ] = 0.151\n",
      "Average Precision  (AP) @[ IoU=0.50      | area=   all | maxDets=1000 ] = 0.230\n",
      "Average Precision  (AP) @[ IoU=0.75      | area=   all | maxDets=1000 ] = 0.154\n",
      "Average Precision  (AP) @[ IoU=0.50:0.95 | area= small | maxDets=1000 ] = 0.022\n",
      "Average Precision  (AP) @[ IoU=0.50:0.95 | area=medium | maxDets=1000 ] = 0.118\n",
      "Average Precision  (AP) @[ IoU=0.50:0.95 | area= large | maxDets=1000 ] = 0.335\n",
      "Average Recall     (AR) @[ IoU=0.50:0.95 | area=   all | maxDets=100 ] = 0.301\n",
      "Average Recall     (AR) @[ IoU=0.50:0.95 | area=   all | maxDets=300 ] = 0.301\n",
      "Average Recall     (AR) @[ IoU=0.50:0.95 | area=   all | maxDets=1000 ] = 0.301\n",
      "Average Recall     (AR) @[ IoU=0.50:0.95 | area= small | maxDets=1000 ] = 0.079\n",
      "Average Recall     (AR) @[ IoU=0.50:0.95 | area=medium | maxDets=1000 ] = 0.252\n",
      "Average Recall     (AR) @[ IoU=0.50:0.95 | area= large | maxDets=1000 ] = 0.613\n"
     ]
    },
    {
     "name": "stderr",
     "output_type": "stream",
     "text": [
      "2021-05-14 14:36:07,021 - mmdet - INFO - Epoch [48][50/655]\tlr: 1.000e-02, eta: 5:09:57, time: 0.583, data_time: 0.052, memory: 1887, loss_cls: 0.5328, loss_bbox: 0.2000, loss_bbox_rf: 0.2412, loss: 0.9739, grad_norm: 4.1440\n",
      "2021-05-14 14:36:33,859 - mmdet - INFO - Epoch [48][100/655]\tlr: 1.000e-02, eta: 5:09:31, time: 0.537, data_time: 0.007, memory: 1887, loss_cls: 0.5042, loss_bbox: 0.1896, loss_bbox_rf: 0.2334, loss: 0.9272, grad_norm: 3.7697\n",
      "2021-05-14 14:37:00,881 - mmdet - INFO - Epoch [48][150/655]\tlr: 1.000e-02, eta: 5:09:04, time: 0.540, data_time: 0.007, memory: 1887, loss_cls: 0.4687, loss_bbox: 0.1780, loss_bbox_rf: 0.2212, loss: 0.8679, grad_norm: 3.2348\n",
      "2021-05-14 14:37:27,761 - mmdet - INFO - Epoch [48][200/655]\tlr: 1.000e-02, eta: 5:08:37, time: 0.538, data_time: 0.007, memory: 1887, loss_cls: 0.5499, loss_bbox: 0.1938, loss_bbox_rf: 0.2382, loss: 0.9819, grad_norm: 4.5518\n",
      "2021-05-14 14:37:54,709 - mmdet - INFO - Epoch [48][250/655]\tlr: 1.000e-02, eta: 5:08:10, time: 0.539, data_time: 0.007, memory: 1887, loss_cls: 0.5465, loss_bbox: 0.1916, loss_bbox_rf: 0.2337, loss: 0.9718, grad_norm: 4.1737\n",
      "2021-05-14 14:38:21,715 - mmdet - INFO - Epoch [48][300/655]\tlr: 1.000e-02, eta: 5:07:44, time: 0.540, data_time: 0.007, memory: 1887, loss_cls: 0.5019, loss_bbox: 0.1980, loss_bbox_rf: 0.2436, loss: 0.9434, grad_norm: 3.6274\n",
      "2021-05-14 14:38:48,581 - mmdet - INFO - Epoch [48][350/655]\tlr: 1.000e-02, eta: 5:07:17, time: 0.537, data_time: 0.007, memory: 1887, loss_cls: 0.5293, loss_bbox: 0.1921, loss_bbox_rf: 0.2294, loss: 0.9508, grad_norm: 4.2913\n",
      "2021-05-14 14:39:15,629 - mmdet - INFO - Epoch [48][400/655]\tlr: 1.000e-02, eta: 5:06:50, time: 0.541, data_time: 0.007, memory: 1887, loss_cls: 0.5009, loss_bbox: 0.1707, loss_bbox_rf: 0.2037, loss: 0.8753, grad_norm: 4.3861\n",
      "2021-05-14 14:39:42,466 - mmdet - INFO - Epoch [48][450/655]\tlr: 1.000e-02, eta: 5:06:24, time: 0.537, data_time: 0.008, memory: 1887, loss_cls: 0.5028, loss_bbox: 0.1944, loss_bbox_rf: 0.2365, loss: 0.9338, grad_norm: 3.6244\n",
      "2021-05-14 14:40:09,437 - mmdet - INFO - Epoch [48][500/655]\tlr: 1.000e-02, eta: 5:05:57, time: 0.539, data_time: 0.008, memory: 1887, loss_cls: 0.5151, loss_bbox: 0.1968, loss_bbox_rf: 0.2402, loss: 0.9521, grad_norm: 3.4091\n",
      "2021-05-14 14:40:36,385 - mmdet - INFO - Epoch [48][550/655]\tlr: 1.000e-02, eta: 5:05:30, time: 0.539, data_time: 0.007, memory: 1887, loss_cls: 0.4733, loss_bbox: 0.1849, loss_bbox_rf: 0.2274, loss: 0.8856, grad_norm: 2.9858\n",
      "2021-05-14 14:41:03,305 - mmdet - INFO - Epoch [48][600/655]\tlr: 1.000e-02, eta: 5:05:04, time: 0.538, data_time: 0.007, memory: 1887, loss_cls: 0.4787, loss_bbox: 0.1748, loss_bbox_rf: 0.2136, loss: 0.8671, grad_norm: 3.5120\n",
      "2021-05-14 14:41:30,135 - mmdet - INFO - Epoch [48][650/655]\tlr: 1.000e-02, eta: 5:04:37, time: 0.537, data_time: 0.007, memory: 1887, loss_cls: 0.4764, loss_bbox: 0.1849, loss_bbox_rf: 0.2286, loss: 0.8899, grad_norm: 3.2296\n",
      "2021-05-14 14:41:32,904 - mmdet - INFO - Saving checkpoint at 48 epochs\n"
     ]
    },
    {
     "name": "stdout",
     "output_type": "stream",
     "text": [
      "[>>>>>>>>>>>>>>>>>>>>>>>>>>>>>] 655/655, 18.1 task/s, elapsed: 36s, ETA:     0s"
     ]
    },
    {
     "name": "stderr",
     "output_type": "stream",
     "text": [
      "2021-05-14 14:42:11,313 - mmdet - INFO - Evaluating bbox...\n"
     ]
    },
    {
     "name": "stdout",
     "output_type": "stream",
     "text": [
      "Loading and preparing results...\n",
      "DONE (t=0.72s)\n",
      "creating index...\n",
      "index created!\n",
      "Running per image evaluation...\n",
      "Evaluate annotation type *bbox*\n",
      "DONE (t=6.65s).\n",
      "Accumulating evaluation results...\n"
     ]
    },
    {
     "name": "stderr",
     "output_type": "stream",
     "text": [
      "2021-05-14 14:42:20,244 - mmdet - INFO - Now best checkpoint is epoch_48.pth.Best bbox_mAP_50 is 0.2870\n",
      "2021-05-14 14:42:20,253 - mmdet - INFO - Epoch(val) [48][655]\tbbox_mAP: 0.1910, bbox_mAP_50: 0.2870, bbox_mAP_75: 0.1960, bbox_mAP_s: 0.0290, bbox_mAP_m: 0.1590, bbox_mAP_l: 0.4030, bbox_mAP_copypaste: 0.191 0.287 0.196 0.029 0.159 0.403\n"
     ]
    },
    {
     "name": "stdout",
     "output_type": "stream",
     "text": [
      "DONE (t=1.42s).\n",
      "Average Precision  (AP) @[ IoU=0.50:0.95 | area=   all | maxDets=100 ] = 0.191\n",
      "Average Precision  (AP) @[ IoU=0.50      | area=   all | maxDets=1000 ] = 0.287\n",
      "Average Precision  (AP) @[ IoU=0.75      | area=   all | maxDets=1000 ] = 0.196\n",
      "Average Precision  (AP) @[ IoU=0.50:0.95 | area= small | maxDets=1000 ] = 0.029\n",
      "Average Precision  (AP) @[ IoU=0.50:0.95 | area=medium | maxDets=1000 ] = 0.159\n",
      "Average Precision  (AP) @[ IoU=0.50:0.95 | area= large | maxDets=1000 ] = 0.403\n",
      "Average Recall     (AR) @[ IoU=0.50:0.95 | area=   all | maxDets=100 ] = 0.360\n",
      "Average Recall     (AR) @[ IoU=0.50:0.95 | area=   all | maxDets=300 ] = 0.360\n",
      "Average Recall     (AR) @[ IoU=0.50:0.95 | area=   all | maxDets=1000 ] = 0.360\n",
      "Average Recall     (AR) @[ IoU=0.50:0.95 | area= small | maxDets=1000 ] = 0.125\n",
      "Average Recall     (AR) @[ IoU=0.50:0.95 | area=medium | maxDets=1000 ] = 0.313\n",
      "Average Recall     (AR) @[ IoU=0.50:0.95 | area= large | maxDets=1000 ] = 0.642\n"
     ]
    },
    {
     "name": "stderr",
     "output_type": "stream",
     "text": [
      "2021-05-14 14:42:49,934 - mmdet - INFO - Epoch [49][50/655]\tlr: 1.000e-02, eta: 5:04:07, time: 0.593, data_time: 0.052, memory: 1887, loss_cls: 0.4627, loss_bbox: 0.1817, loss_bbox_rf: 0.2218, loss: 0.8662, grad_norm: 3.1942\n",
      "2021-05-14 14:43:16,846 - mmdet - INFO - Epoch [49][100/655]\tlr: 1.000e-02, eta: 5:03:41, time: 0.538, data_time: 0.007, memory: 1887, loss_cls: 0.5452, loss_bbox: 0.1806, loss_bbox_rf: 0.2209, loss: 0.9467, grad_norm: 5.0584\n",
      "2021-05-14 14:43:43,533 - mmdet - INFO - Epoch [49][150/655]\tlr: 1.000e-02, eta: 5:03:14, time: 0.534, data_time: 0.007, memory: 1887, loss_cls: 0.5594, loss_bbox: 0.1833, loss_bbox_rf: 0.2243, loss: 0.9670, grad_norm: 4.7749\n",
      "2021-05-14 14:44:10,441 - mmdet - INFO - Epoch [49][200/655]\tlr: 1.000e-02, eta: 5:02:47, time: 0.538, data_time: 0.007, memory: 1887, loss_cls: 0.5569, loss_bbox: 0.1931, loss_bbox_rf: 0.2438, loss: 0.9937, grad_norm: 4.8247\n",
      "2021-05-14 14:44:37,415 - mmdet - INFO - Epoch [49][250/655]\tlr: 1.000e-02, eta: 5:02:20, time: 0.539, data_time: 0.007, memory: 1887, loss_cls: 0.5010, loss_bbox: 0.1872, loss_bbox_rf: 0.2292, loss: 0.9175, grad_norm: 3.8463\n",
      "2021-05-14 14:45:04,365 - mmdet - INFO - Epoch [49][300/655]\tlr: 1.000e-02, eta: 5:01:54, time: 0.539, data_time: 0.007, memory: 1887, loss_cls: 0.5134, loss_bbox: 0.1881, loss_bbox_rf: 0.2329, loss: 0.9343, grad_norm: 3.8280\n",
      "2021-05-14 14:45:31,317 - mmdet - INFO - Epoch [49][350/655]\tlr: 1.000e-02, eta: 5:01:27, time: 0.539, data_time: 0.007, memory: 1887, loss_cls: 0.5132, loss_bbox: 0.1791, loss_bbox_rf: 0.2219, loss: 0.9142, grad_norm: 4.5842\n",
      "2021-05-14 14:45:58,185 - mmdet - INFO - Epoch [49][400/655]\tlr: 1.000e-02, eta: 5:01:00, time: 0.537, data_time: 0.007, memory: 1887, loss_cls: 0.5334, loss_bbox: 0.1999, loss_bbox_rf: 0.2370, loss: 0.9703, grad_norm: 4.5010\n",
      "2021-05-14 14:46:24,973 - mmdet - INFO - Epoch [49][450/655]\tlr: 1.000e-02, eta: 5:00:33, time: 0.536, data_time: 0.007, memory: 1887, loss_cls: 0.5199, loss_bbox: 0.1989, loss_bbox_rf: 0.2397, loss: 0.9585, grad_norm: 3.9708\n",
      "2021-05-14 14:46:51,958 - mmdet - INFO - Epoch [49][500/655]\tlr: 1.000e-02, eta: 5:00:07, time: 0.540, data_time: 0.008, memory: 1887, loss_cls: 0.4756, loss_bbox: 0.1802, loss_bbox_rf: 0.2254, loss: 0.8812, grad_norm: 3.4104\n",
      "2021-05-14 14:47:18,806 - mmdet - INFO - Epoch [49][550/655]\tlr: 1.000e-02, eta: 4:59:40, time: 0.537, data_time: 0.007, memory: 1887, loss_cls: 0.4726, loss_bbox: 0.1779, loss_bbox_rf: 0.2101, loss: 0.8605, grad_norm: 3.8826\n",
      "2021-05-14 14:47:45,740 - mmdet - INFO - Epoch [49][600/655]\tlr: 1.000e-02, eta: 4:59:13, time: 0.539, data_time: 0.007, memory: 1887, loss_cls: 0.5268, loss_bbox: 0.1990, loss_bbox_rf: 0.2331, loss: 0.9588, grad_norm: 4.3343\n",
      "2021-05-14 14:48:12,626 - mmdet - INFO - Epoch [49][650/655]\tlr: 1.000e-02, eta: 4:58:46, time: 0.538, data_time: 0.007, memory: 1887, loss_cls: 0.5466, loss_bbox: 0.1829, loss_bbox_rf: 0.2237, loss: 0.9532, grad_norm: 4.8007\n",
      "2021-05-14 14:48:15,508 - mmdet - INFO - Saving checkpoint at 49 epochs\n"
     ]
    },
    {
     "name": "stdout",
     "output_type": "stream",
     "text": [
      "[>>>>>>>>>>>>>>>>>>>>>>>>>>>>>] 655/655, 18.2 task/s, elapsed: 36s, ETA:     0s"
     ]
    },
    {
     "name": "stderr",
     "output_type": "stream",
     "text": [
      "2021-05-14 14:48:53,399 - mmdet - INFO - Evaluating bbox...\n"
     ]
    },
    {
     "name": "stdout",
     "output_type": "stream",
     "text": [
      "Loading and preparing results...\n",
      "DONE (t=0.81s)\n",
      "creating index...\n",
      "index created!\n",
      "Running per image evaluation...\n",
      "Evaluate annotation type *bbox*\n",
      "DONE (t=7.44s).\n",
      "Accumulating evaluation results...\n"
     ]
    },
    {
     "name": "stderr",
     "output_type": "stream",
     "text": [
      "2021-05-14 14:49:03,430 - mmdet - INFO - Epoch(val) [49][655]\tbbox_mAP: 0.1620, bbox_mAP_50: 0.2460, bbox_mAP_75: 0.1640, bbox_mAP_s: 0.0220, bbox_mAP_m: 0.1340, bbox_mAP_l: 0.3600, bbox_mAP_copypaste: 0.162 0.246 0.164 0.022 0.134 0.360\n"
     ]
    },
    {
     "name": "stdout",
     "output_type": "stream",
     "text": [
      "DONE (t=1.64s).\n",
      "Average Precision  (AP) @[ IoU=0.50:0.95 | area=   all | maxDets=100 ] = 0.162\n",
      "Average Precision  (AP) @[ IoU=0.50      | area=   all | maxDets=1000 ] = 0.246\n",
      "Average Precision  (AP) @[ IoU=0.75      | area=   all | maxDets=1000 ] = 0.164\n",
      "Average Precision  (AP) @[ IoU=0.50:0.95 | area= small | maxDets=1000 ] = 0.022\n",
      "Average Precision  (AP) @[ IoU=0.50:0.95 | area=medium | maxDets=1000 ] = 0.134\n",
      "Average Precision  (AP) @[ IoU=0.50:0.95 | area= large | maxDets=1000 ] = 0.360\n",
      "Average Recall     (AR) @[ IoU=0.50:0.95 | area=   all | maxDets=100 ] = 0.312\n",
      "Average Recall     (AR) @[ IoU=0.50:0.95 | area=   all | maxDets=300 ] = 0.312\n",
      "Average Recall     (AR) @[ IoU=0.50:0.95 | area=   all | maxDets=1000 ] = 0.312\n",
      "Average Recall     (AR) @[ IoU=0.50:0.95 | area= small | maxDets=1000 ] = 0.084\n",
      "Average Recall     (AR) @[ IoU=0.50:0.95 | area=medium | maxDets=1000 ] = 0.268\n",
      "Average Recall     (AR) @[ IoU=0.50:0.95 | area= large | maxDets=1000 ] = 0.617\n"
     ]
    },
    {
     "name": "stderr",
     "output_type": "stream",
     "text": [
      "2021-05-14 14:49:32,598 - mmdet - INFO - Epoch [50][50/655]\tlr: 1.000e-02, eta: 4:58:16, time: 0.583, data_time: 0.052, memory: 1887, loss_cls: 0.5055, loss_bbox: 0.1867, loss_bbox_rf: 0.2216, loss: 0.9138, grad_norm: 4.0135\n",
      "2021-05-14 14:49:59,356 - mmdet - INFO - Epoch [50][100/655]\tlr: 1.000e-02, eta: 4:57:49, time: 0.535, data_time: 0.007, memory: 1887, loss_cls: 0.4843, loss_bbox: 0.1818, loss_bbox_rf: 0.2236, loss: 0.8897, grad_norm: 3.5610\n",
      "2021-05-14 14:50:26,227 - mmdet - INFO - Epoch [50][150/655]\tlr: 1.000e-02, eta: 4:57:23, time: 0.537, data_time: 0.007, memory: 1887, loss_cls: 0.5130, loss_bbox: 0.1911, loss_bbox_rf: 0.2355, loss: 0.9397, grad_norm: 4.2397\n",
      "2021-05-14 14:50:53,017 - mmdet - INFO - Epoch [50][200/655]\tlr: 1.000e-02, eta: 4:56:56, time: 0.536, data_time: 0.007, memory: 1887, loss_cls: 0.4626, loss_bbox: 0.1676, loss_bbox_rf: 0.2067, loss: 0.8368, grad_norm: 3.7003\n",
      "2021-05-14 14:51:20,007 - mmdet - INFO - Epoch [50][250/655]\tlr: 1.000e-02, eta: 4:56:29, time: 0.540, data_time: 0.007, memory: 1887, loss_cls: 0.4841, loss_bbox: 0.1872, loss_bbox_rf: 0.2205, loss: 0.8918, grad_norm: 3.9644\n",
      "2021-05-14 14:51:46,899 - mmdet - INFO - Epoch [50][300/655]\tlr: 1.000e-02, eta: 4:56:02, time: 0.538, data_time: 0.007, memory: 1887, loss_cls: 0.4908, loss_bbox: 0.1917, loss_bbox_rf: 0.2290, loss: 0.9115, grad_norm: 3.5840\n",
      "2021-05-14 14:52:13,806 - mmdet - INFO - Epoch [50][350/655]\tlr: 1.000e-02, eta: 4:55:36, time: 0.538, data_time: 0.007, memory: 1887, loss_cls: 0.4675, loss_bbox: 0.1756, loss_bbox_rf: 0.2108, loss: 0.8540, grad_norm: 3.6571\n",
      "2021-05-14 14:52:40,650 - mmdet - INFO - Epoch [50][400/655]\tlr: 1.000e-02, eta: 4:55:09, time: 0.537, data_time: 0.007, memory: 1887, loss_cls: 0.4758, loss_bbox: 0.1896, loss_bbox_rf: 0.2323, loss: 0.8977, grad_norm: 3.5539\n",
      "2021-05-14 14:53:07,435 - mmdet - INFO - Epoch [50][450/655]\tlr: 1.000e-02, eta: 4:54:42, time: 0.536, data_time: 0.007, memory: 1887, loss_cls: 0.4590, loss_bbox: 0.1821, loss_bbox_rf: 0.2169, loss: 0.8580, grad_norm: 3.5151\n",
      "2021-05-14 14:53:34,313 - mmdet - INFO - Epoch [50][500/655]\tlr: 1.000e-02, eta: 4:54:15, time: 0.538, data_time: 0.007, memory: 1887, loss_cls: 0.4810, loss_bbox: 0.1835, loss_bbox_rf: 0.2223, loss: 0.8868, grad_norm: 3.7253\n",
      "2021-05-14 14:54:01,253 - mmdet - INFO - Epoch [50][550/655]\tlr: 1.000e-02, eta: 4:53:48, time: 0.539, data_time: 0.007, memory: 1887, loss_cls: 0.4647, loss_bbox: 0.1781, loss_bbox_rf: 0.2195, loss: 0.8622, grad_norm: 3.3508\n",
      "2021-05-14 14:54:28,187 - mmdet - INFO - Epoch [50][600/655]\tlr: 1.000e-02, eta: 4:53:22, time: 0.539, data_time: 0.007, memory: 1887, loss_cls: 0.4671, loss_bbox: 0.1895, loss_bbox_rf: 0.2257, loss: 0.8824, grad_norm: 3.5601\n",
      "2021-05-14 14:54:55,006 - mmdet - INFO - Epoch [50][650/655]\tlr: 1.000e-02, eta: 4:52:55, time: 0.536, data_time: 0.007, memory: 1887, loss_cls: 0.4507, loss_bbox: 0.1840, loss_bbox_rf: 0.2243, loss: 0.8590, grad_norm: 3.1904\n",
      "2021-05-14 14:54:57,773 - mmdet - INFO - Saving checkpoint at 50 epochs\n"
     ]
    },
    {
     "name": "stdout",
     "output_type": "stream",
     "text": [
      "[>>>>>>>>>>>>>>>>>>>>>>>>>>>>>] 655/655, 18.1 task/s, elapsed: 36s, ETA:     0s"
     ]
    },
    {
     "name": "stderr",
     "output_type": "stream",
     "text": [
      "2021-05-14 14:55:35,444 - mmdet - INFO - Evaluating bbox...\n"
     ]
    },
    {
     "name": "stdout",
     "output_type": "stream",
     "text": [
      "Loading and preparing results...\n",
      "DONE (t=0.72s)\n",
      "creating index...\n",
      "index created!\n",
      "Running per image evaluation...\n",
      "Evaluate annotation type *bbox*\n",
      "DONE (t=7.46s).\n",
      "Accumulating evaluation results...\n"
     ]
    },
    {
     "name": "stderr",
     "output_type": "stream",
     "text": [
      "2021-05-14 14:55:45,057 - mmdet - INFO - Epoch(val) [50][655]\tbbox_mAP: 0.1840, bbox_mAP_50: 0.2800, bbox_mAP_75: 0.1810, bbox_mAP_s: 0.0280, bbox_mAP_m: 0.1540, bbox_mAP_l: 0.3510, bbox_mAP_copypaste: 0.184 0.280 0.181 0.028 0.154 0.351\n"
     ]
    },
    {
     "name": "stdout",
     "output_type": "stream",
     "text": [
      "DONE (t=1.31s).\n",
      "Average Precision  (AP) @[ IoU=0.50:0.95 | area=   all | maxDets=100 ] = 0.184\n",
      "Average Precision  (AP) @[ IoU=0.50      | area=   all | maxDets=1000 ] = 0.280\n",
      "Average Precision  (AP) @[ IoU=0.75      | area=   all | maxDets=1000 ] = 0.181\n",
      "Average Precision  (AP) @[ IoU=0.50:0.95 | area= small | maxDets=1000 ] = 0.028\n",
      "Average Precision  (AP) @[ IoU=0.50:0.95 | area=medium | maxDets=1000 ] = 0.154\n",
      "Average Precision  (AP) @[ IoU=0.50:0.95 | area= large | maxDets=1000 ] = 0.351\n",
      "Average Recall     (AR) @[ IoU=0.50:0.95 | area=   all | maxDets=100 ] = 0.348\n",
      "Average Recall     (AR) @[ IoU=0.50:0.95 | area=   all | maxDets=300 ] = 0.348\n",
      "Average Recall     (AR) @[ IoU=0.50:0.95 | area=   all | maxDets=1000 ] = 0.348\n",
      "Average Recall     (AR) @[ IoU=0.50:0.95 | area= small | maxDets=1000 ] = 0.095\n",
      "Average Recall     (AR) @[ IoU=0.50:0.95 | area=medium | maxDets=1000 ] = 0.301\n",
      "Average Recall     (AR) @[ IoU=0.50:0.95 | area= large | maxDets=1000 ] = 0.658\n"
     ]
    },
    {
     "name": "stderr",
     "output_type": "stream",
     "text": [
      "2021-05-14 14:56:14,178 - mmdet - INFO - Epoch [51][50/655]\tlr: 1.000e-02, eta: 4:52:25, time: 0.582, data_time: 0.052, memory: 1887, loss_cls: 0.4285, loss_bbox: 0.1740, loss_bbox_rf: 0.2078, loss: 0.8102, grad_norm: 2.9848\n",
      "2021-05-14 14:56:41,123 - mmdet - INFO - Epoch [51][100/655]\tlr: 1.000e-02, eta: 4:51:58, time: 0.539, data_time: 0.008, memory: 1887, loss_cls: 0.4876, loss_bbox: 0.1759, loss_bbox_rf: 0.2135, loss: 0.8770, grad_norm: 4.0444\n",
      "2021-05-14 14:57:08,119 - mmdet - INFO - Epoch [51][150/655]\tlr: 1.000e-02, eta: 4:51:32, time: 0.540, data_time: 0.007, memory: 1887, loss_cls: 0.5619, loss_bbox: 0.1864, loss_bbox_rf: 0.2269, loss: 0.9751, grad_norm: 5.5570\n",
      "2021-05-14 14:57:34,972 - mmdet - INFO - Epoch [51][200/655]\tlr: 1.000e-02, eta: 4:51:05, time: 0.537, data_time: 0.007, memory: 1887, loss_cls: 0.5202, loss_bbox: 0.1933, loss_bbox_rf: 0.2390, loss: 0.9526, grad_norm: 4.2334\n",
      "2021-05-14 14:58:01,823 - mmdet - INFO - Epoch [51][250/655]\tlr: 1.000e-02, eta: 4:50:38, time: 0.537, data_time: 0.007, memory: 1887, loss_cls: 0.4655, loss_bbox: 0.1818, loss_bbox_rf: 0.2179, loss: 0.8652, grad_norm: 3.5782\n",
      "2021-05-14 14:58:28,577 - mmdet - INFO - Epoch [51][300/655]\tlr: 1.000e-02, eta: 4:50:11, time: 0.535, data_time: 0.007, memory: 1887, loss_cls: 0.4902, loss_bbox: 0.1777, loss_bbox_rf: 0.2165, loss: 0.8844, grad_norm: 3.8407\n",
      "2021-05-14 14:58:55,350 - mmdet - INFO - Epoch [51][350/655]\tlr: 1.000e-02, eta: 4:49:44, time: 0.535, data_time: 0.007, memory: 1887, loss_cls: 0.4923, loss_bbox: 0.1847, loss_bbox_rf: 0.2233, loss: 0.9004, grad_norm: 3.9198\n",
      "2021-05-14 14:59:22,010 - mmdet - INFO - Epoch [51][400/655]\tlr: 1.000e-02, eta: 4:49:17, time: 0.533, data_time: 0.007, memory: 1887, loss_cls: 0.4860, loss_bbox: 0.1837, loss_bbox_rf: 0.2217, loss: 0.8914, grad_norm: 3.9137\n",
      "2021-05-14 14:59:48,949 - mmdet - INFO - Epoch [51][450/655]\tlr: 1.000e-02, eta: 4:48:51, time: 0.539, data_time: 0.007, memory: 1887, loss_cls: 0.4925, loss_bbox: 0.1828, loss_bbox_rf: 0.2255, loss: 0.9008, grad_norm: 4.2624\n",
      "2021-05-14 15:00:15,959 - mmdet - INFO - Epoch [51][500/655]\tlr: 1.000e-02, eta: 4:48:24, time: 0.540, data_time: 0.008, memory: 1887, loss_cls: 0.4868, loss_bbox: 0.1689, loss_bbox_rf: 0.2071, loss: 0.8628, grad_norm: 4.3093\n",
      "2021-05-14 15:00:42,817 - mmdet - INFO - Epoch [51][550/655]\tlr: 1.000e-02, eta: 4:47:57, time: 0.537, data_time: 0.007, memory: 1887, loss_cls: 0.4966, loss_bbox: 0.1859, loss_bbox_rf: 0.2198, loss: 0.9023, grad_norm: 3.8004\n",
      "2021-05-14 15:01:09,655 - mmdet - INFO - Epoch [51][600/655]\tlr: 1.000e-02, eta: 4:47:30, time: 0.537, data_time: 0.008, memory: 1887, loss_cls: 0.5064, loss_bbox: 0.1913, loss_bbox_rf: 0.2340, loss: 0.9317, grad_norm: 3.9858\n",
      "2021-05-14 15:01:36,530 - mmdet - INFO - Epoch [51][650/655]\tlr: 1.000e-02, eta: 4:47:03, time: 0.537, data_time: 0.007, memory: 1887, loss_cls: 0.5013, loss_bbox: 0.1812, loss_bbox_rf: 0.2194, loss: 0.9019, grad_norm: 4.0745\n",
      "2021-05-14 15:01:39,355 - mmdet - INFO - Saving checkpoint at 51 epochs\n"
     ]
    },
    {
     "name": "stdout",
     "output_type": "stream",
     "text": [
      "[>>>>>>>>>>>>>>>>>>>>>>>>>>>>>] 655/655, 17.9 task/s, elapsed: 37s, ETA:     0s"
     ]
    },
    {
     "name": "stderr",
     "output_type": "stream",
     "text": [
      "2021-05-14 15:02:17,654 - mmdet - INFO - Evaluating bbox...\n"
     ]
    },
    {
     "name": "stdout",
     "output_type": "stream",
     "text": [
      "Loading and preparing results...\n",
      "DONE (t=0.74s)\n",
      "creating index...\n",
      "index created!\n",
      "Running per image evaluation...\n",
      "Evaluate annotation type *bbox*\n",
      "DONE (t=6.55s).\n",
      "Accumulating evaluation results...\n"
     ]
    },
    {
     "name": "stderr",
     "output_type": "stream",
     "text": [
      "2021-05-14 15:02:26,422 - mmdet - INFO - Epoch(val) [51][655]\tbbox_mAP: 0.1540, bbox_mAP_50: 0.2330, bbox_mAP_75: 0.1560, bbox_mAP_s: 0.0290, bbox_mAP_m: 0.1210, bbox_mAP_l: 0.3130, bbox_mAP_copypaste: 0.154 0.233 0.156 0.029 0.121 0.313\n"
     ]
    },
    {
     "name": "stdout",
     "output_type": "stream",
     "text": [
      "DONE (t=1.35s).\n",
      "Average Precision  (AP) @[ IoU=0.50:0.95 | area=   all | maxDets=100 ] = 0.154\n",
      "Average Precision  (AP) @[ IoU=0.50      | area=   all | maxDets=1000 ] = 0.233\n",
      "Average Precision  (AP) @[ IoU=0.75      | area=   all | maxDets=1000 ] = 0.156\n",
      "Average Precision  (AP) @[ IoU=0.50:0.95 | area= small | maxDets=1000 ] = 0.029\n",
      "Average Precision  (AP) @[ IoU=0.50:0.95 | area=medium | maxDets=1000 ] = 0.121\n",
      "Average Precision  (AP) @[ IoU=0.50:0.95 | area= large | maxDets=1000 ] = 0.313\n",
      "Average Recall     (AR) @[ IoU=0.50:0.95 | area=   all | maxDets=100 ] = 0.309\n",
      "Average Recall     (AR) @[ IoU=0.50:0.95 | area=   all | maxDets=300 ] = 0.309\n",
      "Average Recall     (AR) @[ IoU=0.50:0.95 | area=   all | maxDets=1000 ] = 0.309\n",
      "Average Recall     (AR) @[ IoU=0.50:0.95 | area= small | maxDets=1000 ] = 0.094\n",
      "Average Recall     (AR) @[ IoU=0.50:0.95 | area=medium | maxDets=1000 ] = 0.274\n",
      "Average Recall     (AR) @[ IoU=0.50:0.95 | area= large | maxDets=1000 ] = 0.544\n"
     ]
    },
    {
     "name": "stderr",
     "output_type": "stream",
     "text": [
      "2021-05-14 15:02:55,481 - mmdet - INFO - Epoch [52][50/655]\tlr: 1.000e-02, eta: 4:46:34, time: 0.581, data_time: 0.052, memory: 1887, loss_cls: 0.4900, loss_bbox: 0.1873, loss_bbox_rf: 0.2302, loss: 0.9076, grad_norm: 3.4801\n",
      "2021-05-14 15:03:22,186 - mmdet - INFO - Epoch [52][100/655]\tlr: 1.000e-02, eta: 4:46:07, time: 0.534, data_time: 0.007, memory: 1887, loss_cls: 0.4773, loss_bbox: 0.1790, loss_bbox_rf: 0.2189, loss: 0.8752, grad_norm: 3.5321\n",
      "2021-05-14 15:03:49,042 - mmdet - INFO - Epoch [52][150/655]\tlr: 1.000e-02, eta: 4:45:40, time: 0.537, data_time: 0.007, memory: 1887, loss_cls: 0.4451, loss_bbox: 0.1732, loss_bbox_rf: 0.2098, loss: 0.8281, grad_norm: 3.5302\n",
      "2021-05-14 15:04:15,879 - mmdet - INFO - Epoch [52][200/655]\tlr: 1.000e-02, eta: 4:45:13, time: 0.537, data_time: 0.007, memory: 1887, loss_cls: 0.4597, loss_bbox: 0.1752, loss_bbox_rf: 0.2113, loss: 0.8462, grad_norm: 3.7462\n",
      "2021-05-14 15:04:43,262 - mmdet - INFO - Epoch [52][250/655]\tlr: 1.000e-02, eta: 4:44:47, time: 0.548, data_time: 0.008, memory: 1887, loss_cls: 0.4709, loss_bbox: 0.1930, loss_bbox_rf: 0.2359, loss: 0.8998, grad_norm: 3.3682\n",
      "2021-05-14 15:05:10,006 - mmdet - INFO - Epoch [52][300/655]\tlr: 1.000e-02, eta: 4:44:20, time: 0.535, data_time: 0.007, memory: 1887, loss_cls: 0.4283, loss_bbox: 0.1692, loss_bbox_rf: 0.2045, loss: 0.8020, grad_norm: 3.0641\n",
      "2021-05-14 15:05:36,792 - mmdet - INFO - Epoch [52][350/655]\tlr: 1.000e-02, eta: 4:43:53, time: 0.536, data_time: 0.007, memory: 1887, loss_cls: 0.4657, loss_bbox: 0.1710, loss_bbox_rf: 0.2085, loss: 0.8452, grad_norm: 3.7018\n",
      "2021-05-14 15:06:03,641 - mmdet - INFO - Epoch [52][400/655]\tlr: 1.000e-02, eta: 4:43:26, time: 0.537, data_time: 0.007, memory: 1887, loss_cls: 0.4518, loss_bbox: 0.1794, loss_bbox_rf: 0.2117, loss: 0.8429, grad_norm: 3.6480\n",
      "2021-05-14 15:06:30,469 - mmdet - INFO - Epoch [52][450/655]\tlr: 1.000e-02, eta: 4:42:59, time: 0.537, data_time: 0.007, memory: 1887, loss_cls: 0.4531, loss_bbox: 0.1714, loss_bbox_rf: 0.2114, loss: 0.8359, grad_norm: 3.4636\n",
      "2021-05-14 15:06:57,339 - mmdet - INFO - Epoch [52][500/655]\tlr: 1.000e-02, eta: 4:42:32, time: 0.537, data_time: 0.007, memory: 1887, loss_cls: 0.4500, loss_bbox: 0.1758, loss_bbox_rf: 0.2070, loss: 0.8328, grad_norm: 3.7229\n",
      "2021-05-14 15:07:24,237 - mmdet - INFO - Epoch [52][550/655]\tlr: 1.000e-02, eta: 4:42:06, time: 0.538, data_time: 0.007, memory: 1887, loss_cls: 0.4433, loss_bbox: 0.1730, loss_bbox_rf: 0.2159, loss: 0.8323, grad_norm: 3.4028\n",
      "2021-05-14 15:07:51,142 - mmdet - INFO - Epoch [52][600/655]\tlr: 1.000e-02, eta: 4:41:39, time: 0.538, data_time: 0.007, memory: 1887, loss_cls: 0.4673, loss_bbox: 0.1868, loss_bbox_rf: 0.2234, loss: 0.8775, grad_norm: 3.6153\n",
      "2021-05-14 15:08:18,332 - mmdet - INFO - Epoch [52][650/655]\tlr: 1.000e-02, eta: 4:41:12, time: 0.544, data_time: 0.007, memory: 1887, loss_cls: 0.4499, loss_bbox: 0.1711, loss_bbox_rf: 0.2106, loss: 0.8316, grad_norm: 3.3640\n",
      "2021-05-14 15:08:21,112 - mmdet - INFO - Saving checkpoint at 52 epochs\n"
     ]
    },
    {
     "name": "stdout",
     "output_type": "stream",
     "text": [
      "[>>>>>>>>>>>>>>>>>>>>>>>>>>>>>] 655/655, 18.2 task/s, elapsed: 36s, ETA:     0s"
     ]
    },
    {
     "name": "stderr",
     "output_type": "stream",
     "text": [
      "2021-05-14 15:08:59,200 - mmdet - INFO - Evaluating bbox...\n"
     ]
    },
    {
     "name": "stdout",
     "output_type": "stream",
     "text": [
      "Loading and preparing results...\n",
      "DONE (t=0.69s)\n",
      "creating index...\n",
      "index created!\n",
      "Running per image evaluation...\n",
      "Evaluate annotation type *bbox*\n",
      "DONE (t=6.28s).\n",
      "Accumulating evaluation results...\n"
     ]
    },
    {
     "name": "stderr",
     "output_type": "stream",
     "text": [
      "2021-05-14 15:09:07,539 - mmdet - INFO - Epoch(val) [52][655]\tbbox_mAP: 0.1830, bbox_mAP_50: 0.2710, bbox_mAP_75: 0.1850, bbox_mAP_s: 0.0240, bbox_mAP_m: 0.1560, bbox_mAP_l: 0.3870, bbox_mAP_copypaste: 0.183 0.271 0.185 0.024 0.156 0.387\n"
     ]
    },
    {
     "name": "stdout",
     "output_type": "stream",
     "text": [
      "DONE (t=1.24s).\n",
      "Average Precision  (AP) @[ IoU=0.50:0.95 | area=   all | maxDets=100 ] = 0.183\n",
      "Average Precision  (AP) @[ IoU=0.50      | area=   all | maxDets=1000 ] = 0.271\n",
      "Average Precision  (AP) @[ IoU=0.75      | area=   all | maxDets=1000 ] = 0.185\n",
      "Average Precision  (AP) @[ IoU=0.50:0.95 | area= small | maxDets=1000 ] = 0.024\n",
      "Average Precision  (AP) @[ IoU=0.50:0.95 | area=medium | maxDets=1000 ] = 0.156\n",
      "Average Precision  (AP) @[ IoU=0.50:0.95 | area= large | maxDets=1000 ] = 0.387\n",
      "Average Recall     (AR) @[ IoU=0.50:0.95 | area=   all | maxDets=100 ] = 0.352\n",
      "Average Recall     (AR) @[ IoU=0.50:0.95 | area=   all | maxDets=300 ] = 0.352\n",
      "Average Recall     (AR) @[ IoU=0.50:0.95 | area=   all | maxDets=1000 ] = 0.352\n",
      "Average Recall     (AR) @[ IoU=0.50:0.95 | area= small | maxDets=1000 ] = 0.082\n",
      "Average Recall     (AR) @[ IoU=0.50:0.95 | area=medium | maxDets=1000 ] = 0.312\n",
      "Average Recall     (AR) @[ IoU=0.50:0.95 | area= large | maxDets=1000 ] = 0.635\n"
     ]
    },
    {
     "name": "stderr",
     "output_type": "stream",
     "text": [
      "2021-05-14 15:09:36,631 - mmdet - INFO - Epoch [53][50/655]\tlr: 1.000e-02, eta: 4:40:43, time: 0.582, data_time: 0.051, memory: 1887, loss_cls: 0.4232, loss_bbox: 0.1693, loss_bbox_rf: 0.2100, loss: 0.8025, grad_norm: 2.7876\n",
      "2021-05-14 15:10:03,444 - mmdet - INFO - Epoch [53][100/655]\tlr: 1.000e-02, eta: 4:40:16, time: 0.536, data_time: 0.007, memory: 1887, loss_cls: 0.4305, loss_bbox: 0.1718, loss_bbox_rf: 0.2088, loss: 0.8112, grad_norm: 2.9639\n",
      "2021-05-14 15:10:30,277 - mmdet - INFO - Epoch [53][150/655]\tlr: 1.000e-02, eta: 4:39:49, time: 0.537, data_time: 0.007, memory: 1887, loss_cls: 0.4156, loss_bbox: 0.1654, loss_bbox_rf: 0.1999, loss: 0.7810, grad_norm: 3.0633\n",
      "2021-05-14 15:10:57,147 - mmdet - INFO - Epoch [53][200/655]\tlr: 1.000e-02, eta: 4:39:22, time: 0.537, data_time: 0.007, memory: 1887, loss_cls: 0.4211, loss_bbox: 0.1688, loss_bbox_rf: 0.2035, loss: 0.7934, grad_norm: 3.0968\n",
      "2021-05-14 15:11:24,116 - mmdet - INFO - Epoch [53][250/655]\tlr: 1.000e-02, eta: 4:38:55, time: 0.539, data_time: 0.007, memory: 1887, loss_cls: 0.4288, loss_bbox: 0.1701, loss_bbox_rf: 0.2040, loss: 0.8030, grad_norm: 3.1328\n",
      "2021-05-14 15:11:51,037 - mmdet - INFO - Epoch [53][300/655]\tlr: 1.000e-02, eta: 4:38:29, time: 0.538, data_time: 0.007, memory: 1887, loss_cls: 0.4123, loss_bbox: 0.1803, loss_bbox_rf: 0.2140, loss: 0.8066, grad_norm: 2.6183\n",
      "2021-05-14 15:12:17,884 - mmdet - INFO - Epoch [53][350/655]\tlr: 1.000e-02, eta: 4:38:02, time: 0.537, data_time: 0.007, memory: 1887, loss_cls: 0.3974, loss_bbox: 0.1543, loss_bbox_rf: 0.1870, loss: 0.7387, grad_norm: 2.7886\n",
      "2021-05-14 15:12:44,819 - mmdet - INFO - Epoch [53][400/655]\tlr: 1.000e-02, eta: 4:37:35, time: 0.539, data_time: 0.007, memory: 1887, loss_cls: 0.4259, loss_bbox: 0.1699, loss_bbox_rf: 0.2090, loss: 0.8048, grad_norm: 2.7551\n",
      "2021-05-14 15:13:11,498 - mmdet - INFO - Epoch [53][450/655]\tlr: 1.000e-02, eta: 4:37:08, time: 0.534, data_time: 0.007, memory: 1887, loss_cls: 0.4221, loss_bbox: 0.1613, loss_bbox_rf: 0.1969, loss: 0.7803, grad_norm: 2.9698\n",
      "2021-05-14 15:13:38,257 - mmdet - INFO - Epoch [53][500/655]\tlr: 1.000e-02, eta: 4:36:41, time: 0.535, data_time: 0.007, memory: 1887, loss_cls: 0.4085, loss_bbox: 0.1644, loss_bbox_rf: 0.1955, loss: 0.7683, grad_norm: 3.0079\n",
      "2021-05-14 15:14:05,082 - mmdet - INFO - Epoch [53][550/655]\tlr: 1.000e-02, eta: 4:36:14, time: 0.536, data_time: 0.007, memory: 1887, loss_cls: 0.4030, loss_bbox: 0.1580, loss_bbox_rf: 0.1926, loss: 0.7536, grad_norm: 3.0347\n",
      "2021-05-14 15:14:31,811 - mmdet - INFO - Epoch [53][600/655]\tlr: 1.000e-02, eta: 4:35:47, time: 0.535, data_time: 0.007, memory: 1887, loss_cls: 0.4179, loss_bbox: 0.1717, loss_bbox_rf: 0.2075, loss: 0.7972, grad_norm: 2.8079\n",
      "2021-05-14 15:14:58,748 - mmdet - INFO - Epoch [53][650/655]\tlr: 1.000e-02, eta: 4:35:21, time: 0.539, data_time: 0.007, memory: 1887, loss_cls: 0.4154, loss_bbox: 0.1582, loss_bbox_rf: 0.1893, loss: 0.7630, grad_norm: 3.8258\n",
      "2021-05-14 15:15:01,537 - mmdet - INFO - Saving checkpoint at 53 epochs\n"
     ]
    },
    {
     "name": "stdout",
     "output_type": "stream",
     "text": [
      "[>>>>>>>>>>>>>>>>>>>>>>>>>>>>>] 655/655, 18.7 task/s, elapsed: 35s, ETA:     0s"
     ]
    },
    {
     "name": "stderr",
     "output_type": "stream",
     "text": [
      "2021-05-14 15:15:38,627 - mmdet - INFO - Evaluating bbox...\n"
     ]
    },
    {
     "name": "stdout",
     "output_type": "stream",
     "text": [
      "Loading and preparing results...\n",
      "DONE (t=0.71s)\n",
      "creating index...\n",
      "index created!\n",
      "Running per image evaluation...\n",
      "Evaluate annotation type *bbox*\n",
      "DONE (t=6.64s).\n",
      "Accumulating evaluation results...\n"
     ]
    },
    {
     "name": "stderr",
     "output_type": "stream",
     "text": [
      "2021-05-14 15:15:47,421 - mmdet - INFO - Epoch(val) [53][655]\tbbox_mAP: 0.1750, bbox_mAP_50: 0.2600, bbox_mAP_75: 0.1760, bbox_mAP_s: 0.0240, bbox_mAP_m: 0.1460, bbox_mAP_l: 0.3790, bbox_mAP_copypaste: 0.175 0.260 0.176 0.024 0.146 0.379\n"
     ]
    },
    {
     "name": "stdout",
     "output_type": "stream",
     "text": [
      "DONE (t=1.31s).\n",
      "Average Precision  (AP) @[ IoU=0.50:0.95 | area=   all | maxDets=100 ] = 0.175\n",
      "Average Precision  (AP) @[ IoU=0.50      | area=   all | maxDets=1000 ] = 0.260\n",
      "Average Precision  (AP) @[ IoU=0.75      | area=   all | maxDets=1000 ] = 0.176\n",
      "Average Precision  (AP) @[ IoU=0.50:0.95 | area= small | maxDets=1000 ] = 0.024\n",
      "Average Precision  (AP) @[ IoU=0.50:0.95 | area=medium | maxDets=1000 ] = 0.146\n",
      "Average Precision  (AP) @[ IoU=0.50:0.95 | area= large | maxDets=1000 ] = 0.379\n",
      "Average Recall     (AR) @[ IoU=0.50:0.95 | area=   all | maxDets=100 ] = 0.349\n",
      "Average Recall     (AR) @[ IoU=0.50:0.95 | area=   all | maxDets=300 ] = 0.349\n",
      "Average Recall     (AR) @[ IoU=0.50:0.95 | area=   all | maxDets=1000 ] = 0.349\n",
      "Average Recall     (AR) @[ IoU=0.50:0.95 | area= small | maxDets=1000 ] = 0.076\n",
      "Average Recall     (AR) @[ IoU=0.50:0.95 | area=medium | maxDets=1000 ] = 0.321\n",
      "Average Recall     (AR) @[ IoU=0.50:0.95 | area= large | maxDets=1000 ] = 0.628\n"
     ]
    },
    {
     "name": "stderr",
     "output_type": "stream",
     "text": [
      "2021-05-14 15:16:16,550 - mmdet - INFO - Epoch [54][50/655]\tlr: 1.000e-02, eta: 4:34:51, time: 0.582, data_time: 0.052, memory: 1887, loss_cls: 0.4172, loss_bbox: 0.1639, loss_bbox_rf: 0.1982, loss: 0.7793, grad_norm: 3.2076\n",
      "2021-05-14 15:16:43,580 - mmdet - INFO - Epoch [54][100/655]\tlr: 1.000e-02, eta: 4:34:24, time: 0.541, data_time: 0.007, memory: 1887, loss_cls: 0.4226, loss_bbox: 0.1773, loss_bbox_rf: 0.2092, loss: 0.8091, grad_norm: 3.2204\n",
      "2021-05-14 15:17:10,682 - mmdet - INFO - Epoch [54][150/655]\tlr: 1.000e-02, eta: 4:33:58, time: 0.542, data_time: 0.007, memory: 1887, loss_cls: 0.4313, loss_bbox: 0.1827, loss_bbox_rf: 0.2203, loss: 0.8343, grad_norm: 3.1368\n",
      "2021-05-14 15:17:37,577 - mmdet - INFO - Epoch [54][200/655]\tlr: 1.000e-02, eta: 4:33:31, time: 0.538, data_time: 0.007, memory: 1887, loss_cls: 0.4043, loss_bbox: 0.1567, loss_bbox_rf: 0.1921, loss: 0.7531, grad_norm: 3.0944\n",
      "2021-05-14 15:18:04,429 - mmdet - INFO - Epoch [54][250/655]\tlr: 1.000e-02, eta: 4:33:04, time: 0.537, data_time: 0.007, memory: 1887, loss_cls: 0.4079, loss_bbox: 0.1619, loss_bbox_rf: 0.1975, loss: 0.7673, grad_norm: 3.0399\n",
      "2021-05-14 15:18:31,257 - mmdet - INFO - Epoch [54][300/655]\tlr: 1.000e-02, eta: 4:32:37, time: 0.537, data_time: 0.007, memory: 1887, loss_cls: 0.4103, loss_bbox: 0.1645, loss_bbox_rf: 0.1992, loss: 0.7740, grad_norm: 3.0897\n",
      "2021-05-14 15:18:58,044 - mmdet - INFO - Epoch [54][350/655]\tlr: 1.000e-02, eta: 4:32:10, time: 0.536, data_time: 0.007, memory: 1887, loss_cls: 0.4239, loss_bbox: 0.1641, loss_bbox_rf: 0.1989, loss: 0.7869, grad_norm: 3.0349\n",
      "2021-05-14 15:19:25,121 - mmdet - INFO - Epoch [54][400/655]\tlr: 1.000e-02, eta: 4:31:44, time: 0.542, data_time: 0.007, memory: 1887, loss_cls: 0.4127, loss_bbox: 0.1565, loss_bbox_rf: 0.1879, loss: 0.7572, grad_norm: 3.0544\n",
      "2021-05-14 15:19:51,992 - mmdet - INFO - Epoch [54][450/655]\tlr: 1.000e-02, eta: 4:31:17, time: 0.537, data_time: 0.007, memory: 1887, loss_cls: 0.4269, loss_bbox: 0.1643, loss_bbox_rf: 0.2012, loss: 0.7924, grad_norm: 2.9494\n",
      "2021-05-14 15:20:18,771 - mmdet - INFO - Epoch [54][500/655]\tlr: 1.000e-02, eta: 4:30:50, time: 0.536, data_time: 0.007, memory: 1887, loss_cls: 0.3991, loss_bbox: 0.1595, loss_bbox_rf: 0.1908, loss: 0.7494, grad_norm: 2.9877\n",
      "2021-05-14 15:20:45,623 - mmdet - INFO - Epoch [54][550/655]\tlr: 1.000e-02, eta: 4:30:23, time: 0.537, data_time: 0.007, memory: 1887, loss_cls: 0.4034, loss_bbox: 0.1616, loss_bbox_rf: 0.1971, loss: 0.7621, grad_norm: 2.8507\n",
      "2021-05-14 15:21:12,503 - mmdet - INFO - Epoch [54][600/655]\tlr: 1.000e-02, eta: 4:29:56, time: 0.538, data_time: 0.007, memory: 1887, loss_cls: 0.4000, loss_bbox: 0.1597, loss_bbox_rf: 0.1941, loss: 0.7538, grad_norm: 2.8194\n",
      "2021-05-14 15:21:39,422 - mmdet - INFO - Epoch [54][650/655]\tlr: 1.000e-02, eta: 4:29:30, time: 0.538, data_time: 0.007, memory: 1887, loss_cls: 0.4068, loss_bbox: 0.1604, loss_bbox_rf: 0.1969, loss: 0.7641, grad_norm: 2.7796\n",
      "2021-05-14 15:21:42,180 - mmdet - INFO - Saving checkpoint at 54 epochs\n"
     ]
    },
    {
     "name": "stdout",
     "output_type": "stream",
     "text": [
      "[>>>>>>>>>>>>>>>>>>>>>>>>>>>>>] 655/655, 18.2 task/s, elapsed: 36s, ETA:     0s"
     ]
    },
    {
     "name": "stderr",
     "output_type": "stream",
     "text": [
      "2021-05-14 15:22:19,531 - mmdet - INFO - Evaluating bbox...\n"
     ]
    },
    {
     "name": "stdout",
     "output_type": "stream",
     "text": [
      "Loading and preparing results...\n",
      "DONE (t=0.68s)\n",
      "creating index...\n",
      "index created!\n",
      "Running per image evaluation...\n",
      "Evaluate annotation type *bbox*\n",
      "DONE (t=6.47s).\n",
      "Accumulating evaluation results...\n"
     ]
    },
    {
     "name": "stderr",
     "output_type": "stream",
     "text": [
      "2021-05-14 15:22:27,971 - mmdet - INFO - Epoch(val) [54][655]\tbbox_mAP: 0.1910, bbox_mAP_50: 0.2860, bbox_mAP_75: 0.1960, bbox_mAP_s: 0.0300, bbox_mAP_m: 0.1700, bbox_mAP_l: 0.4010, bbox_mAP_copypaste: 0.191 0.286 0.196 0.030 0.170 0.401\n"
     ]
    },
    {
     "name": "stdout",
     "output_type": "stream",
     "text": [
      "DONE (t=1.18s).\n",
      "Average Precision  (AP) @[ IoU=0.50:0.95 | area=   all | maxDets=100 ] = 0.191\n",
      "Average Precision  (AP) @[ IoU=0.50      | area=   all | maxDets=1000 ] = 0.286\n",
      "Average Precision  (AP) @[ IoU=0.75      | area=   all | maxDets=1000 ] = 0.196\n",
      "Average Precision  (AP) @[ IoU=0.50:0.95 | area= small | maxDets=1000 ] = 0.030\n",
      "Average Precision  (AP) @[ IoU=0.50:0.95 | area=medium | maxDets=1000 ] = 0.170\n",
      "Average Precision  (AP) @[ IoU=0.50:0.95 | area= large | maxDets=1000 ] = 0.401\n",
      "Average Recall     (AR) @[ IoU=0.50:0.95 | area=   all | maxDets=100 ] = 0.362\n",
      "Average Recall     (AR) @[ IoU=0.50:0.95 | area=   all | maxDets=300 ] = 0.362\n",
      "Average Recall     (AR) @[ IoU=0.50:0.95 | area=   all | maxDets=1000 ] = 0.362\n",
      "Average Recall     (AR) @[ IoU=0.50:0.95 | area= small | maxDets=1000 ] = 0.095\n",
      "Average Recall     (AR) @[ IoU=0.50:0.95 | area=medium | maxDets=1000 ] = 0.337\n",
      "Average Recall     (AR) @[ IoU=0.50:0.95 | area= large | maxDets=1000 ] = 0.615\n"
     ]
    },
    {
     "name": "stderr",
     "output_type": "stream",
     "text": [
      "2021-05-14 15:22:57,074 - mmdet - INFO - Epoch [55][50/655]\tlr: 1.000e-02, eta: 4:29:00, time: 0.582, data_time: 0.053, memory: 1887, loss_cls: 0.3880, loss_bbox: 0.1488, loss_bbox_rf: 0.1827, loss: 0.7195, grad_norm: 2.8000\n",
      "2021-05-14 15:23:23,916 - mmdet - INFO - Epoch [55][100/655]\tlr: 1.000e-02, eta: 4:28:33, time: 0.537, data_time: 0.008, memory: 1887, loss_cls: 0.3981, loss_bbox: 0.1705, loss_bbox_rf: 0.1992, loss: 0.7678, grad_norm: 2.8509\n",
      "2021-05-14 15:23:50,728 - mmdet - INFO - Epoch [55][150/655]\tlr: 1.000e-02, eta: 4:28:06, time: 0.536, data_time: 0.007, memory: 1887, loss_cls: 0.4019, loss_bbox: 0.1677, loss_bbox_rf: 0.2001, loss: 0.7697, grad_norm: 2.8238\n",
      "2021-05-14 15:24:17,742 - mmdet - INFO - Epoch [55][200/655]\tlr: 1.000e-02, eta: 4:27:39, time: 0.540, data_time: 0.008, memory: 1887, loss_cls: 0.3714, loss_bbox: 0.1468, loss_bbox_rf: 0.1770, loss: 0.6952, grad_norm: 2.7441\n",
      "2021-05-14 15:24:44,665 - mmdet - INFO - Epoch [55][250/655]\tlr: 1.000e-02, eta: 4:27:13, time: 0.538, data_time: 0.007, memory: 1887, loss_cls: 0.4092, loss_bbox: 0.1744, loss_bbox_rf: 0.2049, loss: 0.7885, grad_norm: 2.8146\n",
      "2021-05-14 15:25:11,453 - mmdet - INFO - Epoch [55][300/655]\tlr: 1.000e-02, eta: 4:26:46, time: 0.536, data_time: 0.007, memory: 1887, loss_cls: 0.3886, loss_bbox: 0.1593, loss_bbox_rf: 0.1941, loss: 0.7420, grad_norm: 2.7077\n",
      "2021-05-14 15:25:38,267 - mmdet - INFO - Epoch [55][350/655]\tlr: 1.000e-02, eta: 4:26:19, time: 0.536, data_time: 0.007, memory: 1887, loss_cls: 0.3951, loss_bbox: 0.1507, loss_bbox_rf: 0.1854, loss: 0.7312, grad_norm: 3.1658\n",
      "2021-05-14 15:26:05,047 - mmdet - INFO - Epoch [55][400/655]\tlr: 1.000e-02, eta: 4:25:52, time: 0.536, data_time: 0.007, memory: 1887, loss_cls: 0.3888, loss_bbox: 0.1597, loss_bbox_rf: 0.1868, loss: 0.7352, grad_norm: 2.8465\n",
      "2021-05-14 15:26:31,823 - mmdet - INFO - Epoch [55][450/655]\tlr: 1.000e-02, eta: 4:25:25, time: 0.536, data_time: 0.007, memory: 1887, loss_cls: 0.3896, loss_bbox: 0.1538, loss_bbox_rf: 0.1815, loss: 0.7250, grad_norm: 2.9594\n",
      "2021-05-14 15:26:58,526 - mmdet - INFO - Epoch [55][500/655]\tlr: 1.000e-02, eta: 4:24:58, time: 0.534, data_time: 0.007, memory: 1887, loss_cls: 0.3890, loss_bbox: 0.1598, loss_bbox_rf: 0.1906, loss: 0.7394, grad_norm: 2.7739\n",
      "2021-05-14 15:27:25,515 - mmdet - INFO - Epoch [55][550/655]\tlr: 1.000e-02, eta: 4:24:32, time: 0.540, data_time: 0.007, memory: 1887, loss_cls: 0.4184, loss_bbox: 0.1665, loss_bbox_rf: 0.2073, loss: 0.7922, grad_norm: 2.9390\n",
      "2021-05-14 15:27:52,906 - mmdet - INFO - Epoch [55][600/655]\tlr: 1.000e-02, eta: 4:24:05, time: 0.548, data_time: 0.008, memory: 1887, loss_cls: 0.3785, loss_bbox: 0.1510, loss_bbox_rf: 0.1814, loss: 0.7109, grad_norm: 2.7149\n",
      "2021-05-14 15:28:19,689 - mmdet - INFO - Epoch [55][650/655]\tlr: 1.000e-02, eta: 4:23:38, time: 0.536, data_time: 0.007, memory: 1887, loss_cls: 0.3817, loss_bbox: 0.1517, loss_bbox_rf: 0.1866, loss: 0.7201, grad_norm: 2.6424\n",
      "2021-05-14 15:28:22,459 - mmdet - INFO - Saving checkpoint at 55 epochs\n"
     ]
    },
    {
     "name": "stdout",
     "output_type": "stream",
     "text": [
      "[>>>>>>>>>>>>>>>>>>>>>>>>>>>>>] 655/655, 18.6 task/s, elapsed: 35s, ETA:     0s"
     ]
    },
    {
     "name": "stderr",
     "output_type": "stream",
     "text": [
      "2021-05-14 15:28:59,106 - mmdet - INFO - Evaluating bbox...\n"
     ]
    },
    {
     "name": "stdout",
     "output_type": "stream",
     "text": [
      "Loading and preparing results...\n",
      "DONE (t=0.72s)\n",
      "creating index...\n",
      "index created!\n",
      "Running per image evaluation...\n",
      "Evaluate annotation type *bbox*\n",
      "DONE (t=6.12s).\n",
      "Accumulating evaluation results...\n"
     ]
    },
    {
     "name": "stderr",
     "output_type": "stream",
     "text": [
      "2021-05-14 15:29:07,173 - mmdet - INFO - Epoch(val) [55][655]\tbbox_mAP: 0.1850, bbox_mAP_50: 0.2760, bbox_mAP_75: 0.1870, bbox_mAP_s: 0.0290, bbox_mAP_m: 0.1490, bbox_mAP_l: 0.3910, bbox_mAP_copypaste: 0.185 0.276 0.187 0.029 0.149 0.391\n"
     ]
    },
    {
     "name": "stdout",
     "output_type": "stream",
     "text": [
      "DONE (t=1.13s).\n",
      "Average Precision  (AP) @[ IoU=0.50:0.95 | area=   all | maxDets=100 ] = 0.185\n",
      "Average Precision  (AP) @[ IoU=0.50      | area=   all | maxDets=1000 ] = 0.276\n",
      "Average Precision  (AP) @[ IoU=0.75      | area=   all | maxDets=1000 ] = 0.187\n",
      "Average Precision  (AP) @[ IoU=0.50:0.95 | area= small | maxDets=1000 ] = 0.029\n",
      "Average Precision  (AP) @[ IoU=0.50:0.95 | area=medium | maxDets=1000 ] = 0.149\n",
      "Average Precision  (AP) @[ IoU=0.50:0.95 | area= large | maxDets=1000 ] = 0.391\n",
      "Average Recall     (AR) @[ IoU=0.50:0.95 | area=   all | maxDets=100 ] = 0.348\n",
      "Average Recall     (AR) @[ IoU=0.50:0.95 | area=   all | maxDets=300 ] = 0.348\n",
      "Average Recall     (AR) @[ IoU=0.50:0.95 | area=   all | maxDets=1000 ] = 0.348\n",
      "Average Recall     (AR) @[ IoU=0.50:0.95 | area= small | maxDets=1000 ] = 0.096\n",
      "Average Recall     (AR) @[ IoU=0.50:0.95 | area=medium | maxDets=1000 ] = 0.311\n",
      "Average Recall     (AR) @[ IoU=0.50:0.95 | area= large | maxDets=1000 ] = 0.619\n"
     ]
    },
    {
     "name": "stderr",
     "output_type": "stream",
     "text": [
      "2021-05-14 15:29:36,271 - mmdet - INFO - Epoch [56][50/655]\tlr: 1.000e-02, eta: 4:23:09, time: 0.582, data_time: 0.052, memory: 1887, loss_cls: 0.3848, loss_bbox: 0.1574, loss_bbox_rf: 0.1900, loss: 0.7321, grad_norm: 2.8171\n",
      "2021-05-14 15:30:03,170 - mmdet - INFO - Epoch [56][100/655]\tlr: 1.000e-02, eta: 4:22:42, time: 0.538, data_time: 0.007, memory: 1887, loss_cls: 0.3818, loss_bbox: 0.1541, loss_bbox_rf: 0.1843, loss: 0.7202, grad_norm: 2.8086\n",
      "2021-05-14 15:30:29,978 - mmdet - INFO - Epoch [56][150/655]\tlr: 1.000e-02, eta: 4:22:15, time: 0.536, data_time: 0.007, memory: 1887, loss_cls: 0.4277, loss_bbox: 0.1560, loss_bbox_rf: 0.1875, loss: 0.7712, grad_norm: 3.8731\n",
      "2021-05-14 15:30:56,933 - mmdet - INFO - Epoch [56][200/655]\tlr: 1.000e-02, eta: 4:21:48, time: 0.539, data_time: 0.008, memory: 1887, loss_cls: 0.4366, loss_bbox: 0.1678, loss_bbox_rf: 0.2065, loss: 0.8109, grad_norm: 3.0384\n",
      "2021-05-14 15:31:23,801 - mmdet - INFO - Epoch [56][250/655]\tlr: 1.000e-02, eta: 4:21:21, time: 0.537, data_time: 0.007, memory: 1887, loss_cls: 0.3920, loss_bbox: 0.1572, loss_bbox_rf: 0.1838, loss: 0.7330, grad_norm: 3.1958\n",
      "2021-05-14 15:31:50,620 - mmdet - INFO - Epoch [56][300/655]\tlr: 1.000e-02, eta: 4:20:55, time: 0.536, data_time: 0.007, memory: 1887, loss_cls: 0.4019, loss_bbox: 0.1668, loss_bbox_rf: 0.2043, loss: 0.7731, grad_norm: 2.7243\n",
      "2021-05-14 15:32:17,462 - mmdet - INFO - Epoch [56][350/655]\tlr: 1.000e-02, eta: 4:20:28, time: 0.537, data_time: 0.007, memory: 1887, loss_cls: 0.3849, loss_bbox: 0.1527, loss_bbox_rf: 0.1878, loss: 0.7254, grad_norm: 2.8415\n",
      "2021-05-14 15:32:44,373 - mmdet - INFO - Epoch [56][400/655]\tlr: 1.000e-02, eta: 4:20:01, time: 0.538, data_time: 0.007, memory: 1887, loss_cls: 0.3876, loss_bbox: 0.1548, loss_bbox_rf: 0.1881, loss: 0.7305, grad_norm: 2.6816\n",
      "2021-05-14 15:33:11,216 - mmdet - INFO - Epoch [56][450/655]\tlr: 1.000e-02, eta: 4:19:34, time: 0.537, data_time: 0.007, memory: 1887, loss_cls: 0.3974, loss_bbox: 0.1549, loss_bbox_rf: 0.1864, loss: 0.7387, grad_norm: 2.9839\n",
      "2021-05-14 15:33:38,030 - mmdet - INFO - Epoch [56][500/655]\tlr: 1.000e-02, eta: 4:19:07, time: 0.536, data_time: 0.007, memory: 1887, loss_cls: 0.3918, loss_bbox: 0.1548, loss_bbox_rf: 0.1883, loss: 0.7348, grad_norm: 2.8742\n",
      "2021-05-14 15:34:04,958 - mmdet - INFO - Epoch [56][550/655]\tlr: 1.000e-02, eta: 4:18:41, time: 0.539, data_time: 0.007, memory: 1887, loss_cls: 0.3901, loss_bbox: 0.1544, loss_bbox_rf: 0.1900, loss: 0.7345, grad_norm: 2.8468\n",
      "2021-05-14 15:34:32,027 - mmdet - INFO - Epoch [56][600/655]\tlr: 1.000e-02, eta: 4:18:14, time: 0.541, data_time: 0.007, memory: 1887, loss_cls: 0.3966, loss_bbox: 0.1628, loss_bbox_rf: 0.1979, loss: 0.7573, grad_norm: 2.8248\n",
      "2021-05-14 15:34:58,897 - mmdet - INFO - Epoch [56][650/655]\tlr: 1.000e-02, eta: 4:17:47, time: 0.537, data_time: 0.007, memory: 1887, loss_cls: 0.3773, loss_bbox: 0.1480, loss_bbox_rf: 0.1760, loss: 0.7013, grad_norm: 2.7343\n",
      "2021-05-14 15:35:01,665 - mmdet - INFO - Saving checkpoint at 56 epochs\n"
     ]
    },
    {
     "name": "stdout",
     "output_type": "stream",
     "text": [
      "[>>>>>>>>>>>>>>>>>>>>>>>>>>>>>] 655/655, 18.5 task/s, elapsed: 35s, ETA:     0s"
     ]
    },
    {
     "name": "stderr",
     "output_type": "stream",
     "text": [
      "2021-05-14 15:35:38,572 - mmdet - INFO - Evaluating bbox...\n"
     ]
    },
    {
     "name": "stdout",
     "output_type": "stream",
     "text": [
      "Loading and preparing results...\n",
      "DONE (t=0.70s)\n",
      "creating index...\n",
      "index created!\n",
      "Running per image evaluation...\n",
      "Evaluate annotation type *bbox*\n",
      "DONE (t=6.28s).\n",
      "Accumulating evaluation results...\n"
     ]
    },
    {
     "name": "stderr",
     "output_type": "stream",
     "text": [
      "2021-05-14 15:35:46,833 - mmdet - INFO - Epoch(val) [56][655]\tbbox_mAP: 0.1900, bbox_mAP_50: 0.2810, bbox_mAP_75: 0.1950, bbox_mAP_s: 0.0290, bbox_mAP_m: 0.1590, bbox_mAP_l: 0.4120, bbox_mAP_copypaste: 0.190 0.281 0.195 0.029 0.159 0.412\n"
     ]
    },
    {
     "name": "stdout",
     "output_type": "stream",
     "text": [
      "DONE (t=1.18s).\n",
      "Average Precision  (AP) @[ IoU=0.50:0.95 | area=   all | maxDets=100 ] = 0.190\n",
      "Average Precision  (AP) @[ IoU=0.50      | area=   all | maxDets=1000 ] = 0.281\n",
      "Average Precision  (AP) @[ IoU=0.75      | area=   all | maxDets=1000 ] = 0.195\n",
      "Average Precision  (AP) @[ IoU=0.50:0.95 | area= small | maxDets=1000 ] = 0.029\n",
      "Average Precision  (AP) @[ IoU=0.50:0.95 | area=medium | maxDets=1000 ] = 0.159\n",
      "Average Precision  (AP) @[ IoU=0.50:0.95 | area= large | maxDets=1000 ] = 0.412\n",
      "Average Recall     (AR) @[ IoU=0.50:0.95 | area=   all | maxDets=100 ] = 0.361\n",
      "Average Recall     (AR) @[ IoU=0.50:0.95 | area=   all | maxDets=300 ] = 0.361\n",
      "Average Recall     (AR) @[ IoU=0.50:0.95 | area=   all | maxDets=1000 ] = 0.361\n",
      "Average Recall     (AR) @[ IoU=0.50:0.95 | area= small | maxDets=1000 ] = 0.093\n",
      "Average Recall     (AR) @[ IoU=0.50:0.95 | area=medium | maxDets=1000 ] = 0.340\n",
      "Average Recall     (AR) @[ IoU=0.50:0.95 | area= large | maxDets=1000 ] = 0.632\n"
     ]
    },
    {
     "name": "stderr",
     "output_type": "stream",
     "text": [
      "2021-05-14 15:36:15,832 - mmdet - INFO - Epoch [57][50/655]\tlr: 1.000e-02, eta: 4:17:17, time: 0.580, data_time: 0.052, memory: 1887, loss_cls: 0.3732, loss_bbox: 0.1465, loss_bbox_rf: 0.1779, loss: 0.6977, grad_norm: 2.8388\n",
      "2021-05-14 15:36:42,627 - mmdet - INFO - Epoch [57][100/655]\tlr: 1.000e-02, eta: 4:16:50, time: 0.536, data_time: 0.007, memory: 1887, loss_cls: 0.3771, loss_bbox: 0.1413, loss_bbox_rf: 0.1693, loss: 0.6878, grad_norm: 2.9878\n",
      "2021-05-14 15:37:09,569 - mmdet - INFO - Epoch [57][150/655]\tlr: 1.000e-02, eta: 4:16:24, time: 0.539, data_time: 0.007, memory: 1887, loss_cls: 0.3782, loss_bbox: 0.1524, loss_bbox_rf: 0.1824, loss: 0.7129, grad_norm: 2.8709\n",
      "2021-05-14 15:37:36,568 - mmdet - INFO - Epoch [57][200/655]\tlr: 1.000e-02, eta: 4:15:57, time: 0.540, data_time: 0.007, memory: 1887, loss_cls: 0.3812, loss_bbox: 0.1543, loss_bbox_rf: 0.1907, loss: 0.7262, grad_norm: 2.6425\n",
      "2021-05-14 15:38:03,430 - mmdet - INFO - Epoch [57][250/655]\tlr: 1.000e-02, eta: 4:15:30, time: 0.537, data_time: 0.007, memory: 1887, loss_cls: 0.3823, loss_bbox: 0.1597, loss_bbox_rf: 0.1954, loss: 0.7374, grad_norm: 2.6189\n",
      "2021-05-14 15:38:30,322 - mmdet - INFO - Epoch [57][300/655]\tlr: 1.000e-02, eta: 4:15:03, time: 0.538, data_time: 0.007, memory: 1887, loss_cls: 0.3634, loss_bbox: 0.1481, loss_bbox_rf: 0.1808, loss: 0.6923, grad_norm: 2.5810\n",
      "2021-05-14 15:38:57,179 - mmdet - INFO - Epoch [57][350/655]\tlr: 1.000e-02, eta: 4:14:37, time: 0.537, data_time: 0.007, memory: 1887, loss_cls: 0.3751, loss_bbox: 0.1502, loss_bbox_rf: 0.1762, loss: 0.7014, grad_norm: 3.1096\n",
      "2021-05-14 15:39:24,132 - mmdet - INFO - Epoch [57][400/655]\tlr: 1.000e-02, eta: 4:14:10, time: 0.539, data_time: 0.007, memory: 1887, loss_cls: 0.3920, loss_bbox: 0.1497, loss_bbox_rf: 0.1838, loss: 0.7255, grad_norm: 2.7868\n",
      "2021-05-14 15:39:50,941 - mmdet - INFO - Epoch [57][450/655]\tlr: 1.000e-02, eta: 4:13:43, time: 0.536, data_time: 0.007, memory: 1887, loss_cls: 0.3844, loss_bbox: 0.1569, loss_bbox_rf: 0.1895, loss: 0.7308, grad_norm: 3.1607\n",
      "2021-05-14 15:40:17,823 - mmdet - INFO - Epoch [57][500/655]\tlr: 1.000e-02, eta: 4:13:16, time: 0.538, data_time: 0.007, memory: 1887, loss_cls: 0.3756, loss_bbox: 0.1480, loss_bbox_rf: 0.1793, loss: 0.7029, grad_norm: 3.1381\n",
      "2021-05-14 15:40:44,589 - mmdet - INFO - Epoch [57][550/655]\tlr: 1.000e-02, eta: 4:12:49, time: 0.535, data_time: 0.007, memory: 1887, loss_cls: 0.4954, loss_bbox: 0.1629, loss_bbox_rf: 0.1933, loss: 0.8516, grad_norm: 5.5774\n",
      "2021-05-14 15:41:11,310 - mmdet - INFO - Epoch [57][600/655]\tlr: 1.000e-02, eta: 4:12:22, time: 0.534, data_time: 0.007, memory: 1887, loss_cls: 0.5095, loss_bbox: 0.1789, loss_bbox_rf: 0.2184, loss: 0.9068, grad_norm: 4.7470\n",
      "2021-05-14 15:41:38,237 - mmdet - INFO - Epoch [57][650/655]\tlr: 1.000e-02, eta: 4:11:56, time: 0.539, data_time: 0.007, memory: 1887, loss_cls: 0.4578, loss_bbox: 0.1851, loss_bbox_rf: 0.2227, loss: 0.8656, grad_norm: 3.7019\n",
      "2021-05-14 15:41:41,012 - mmdet - INFO - Saving checkpoint at 57 epochs\n"
     ]
    },
    {
     "name": "stdout",
     "output_type": "stream",
     "text": [
      "[>>>>>>>>>>>>>>>>>>>>>>>>>>>>>] 655/655, 18.5 task/s, elapsed: 35s, ETA:     0s"
     ]
    },
    {
     "name": "stderr",
     "output_type": "stream",
     "text": [
      "2021-05-14 15:42:18,008 - mmdet - INFO - Evaluating bbox...\n"
     ]
    },
    {
     "name": "stdout",
     "output_type": "stream",
     "text": [
      "Loading and preparing results...\n",
      "DONE (t=0.75s)\n",
      "creating index...\n",
      "index created!\n",
      "Running per image evaluation...\n",
      "Evaluate annotation type *bbox*\n",
      "DONE (t=6.62s).\n",
      "Accumulating evaluation results...\n"
     ]
    },
    {
     "name": "stderr",
     "output_type": "stream",
     "text": [
      "2021-05-14 15:42:26,835 - mmdet - INFO - Epoch(val) [57][655]\tbbox_mAP: 0.1820, bbox_mAP_50: 0.2700, bbox_mAP_75: 0.1870, bbox_mAP_s: 0.0240, bbox_mAP_m: 0.1440, bbox_mAP_l: 0.3990, bbox_mAP_copypaste: 0.182 0.270 0.187 0.024 0.144 0.399\n"
     ]
    },
    {
     "name": "stdout",
     "output_type": "stream",
     "text": [
      "DONE (t=1.34s).\n",
      "Average Precision  (AP) @[ IoU=0.50:0.95 | area=   all | maxDets=100 ] = 0.182\n",
      "Average Precision  (AP) @[ IoU=0.50      | area=   all | maxDets=1000 ] = 0.270\n",
      "Average Precision  (AP) @[ IoU=0.75      | area=   all | maxDets=1000 ] = 0.187\n",
      "Average Precision  (AP) @[ IoU=0.50:0.95 | area= small | maxDets=1000 ] = 0.024\n",
      "Average Precision  (AP) @[ IoU=0.50:0.95 | area=medium | maxDets=1000 ] = 0.144\n",
      "Average Precision  (AP) @[ IoU=0.50:0.95 | area= large | maxDets=1000 ] = 0.399\n",
      "Average Recall     (AR) @[ IoU=0.50:0.95 | area=   all | maxDets=100 ] = 0.355\n",
      "Average Recall     (AR) @[ IoU=0.50:0.95 | area=   all | maxDets=300 ] = 0.355\n",
      "Average Recall     (AR) @[ IoU=0.50:0.95 | area=   all | maxDets=1000 ] = 0.355\n",
      "Average Recall     (AR) @[ IoU=0.50:0.95 | area= small | maxDets=1000 ] = 0.090\n",
      "Average Recall     (AR) @[ IoU=0.50:0.95 | area=medium | maxDets=1000 ] = 0.305\n",
      "Average Recall     (AR) @[ IoU=0.50:0.95 | area= large | maxDets=1000 ] = 0.624\n"
     ]
    },
    {
     "name": "stderr",
     "output_type": "stream",
     "text": [
      "2021-05-14 15:42:56,118 - mmdet - INFO - Epoch [58][50/655]\tlr: 1.000e-02, eta: 4:11:26, time: 0.585, data_time: 0.053, memory: 1887, loss_cls: 0.4241, loss_bbox: 0.1637, loss_bbox_rf: 0.2004, loss: 0.7882, grad_norm: 3.5219\n",
      "2021-05-14 15:43:22,935 - mmdet - INFO - Epoch [58][100/655]\tlr: 1.000e-02, eta: 4:10:59, time: 0.536, data_time: 0.007, memory: 1887, loss_cls: 0.4036, loss_bbox: 0.1572, loss_bbox_rf: 0.1903, loss: 0.7511, grad_norm: 3.3737\n",
      "2021-05-14 15:43:49,789 - mmdet - INFO - Epoch [58][150/655]\tlr: 1.000e-02, eta: 4:10:32, time: 0.537, data_time: 0.007, memory: 1887, loss_cls: 0.4299, loss_bbox: 0.1578, loss_bbox_rf: 0.1863, loss: 0.7740, grad_norm: 4.3980\n",
      "2021-05-14 15:44:16,675 - mmdet - INFO - Epoch [58][200/655]\tlr: 1.000e-02, eta: 4:10:05, time: 0.538, data_time: 0.007, memory: 1887, loss_cls: 0.4422, loss_bbox: 0.1632, loss_bbox_rf: 0.1928, loss: 0.7982, grad_norm: 4.0681\n",
      "2021-05-14 15:44:43,409 - mmdet - INFO - Epoch [58][250/655]\tlr: 1.000e-02, eta: 4:09:39, time: 0.535, data_time: 0.007, memory: 1887, loss_cls: 0.4761, loss_bbox: 0.1674, loss_bbox_rf: 0.2055, loss: 0.8489, grad_norm: 4.4397\n",
      "2021-05-14 15:45:10,170 - mmdet - INFO - Epoch [58][300/655]\tlr: 1.000e-02, eta: 4:09:12, time: 0.535, data_time: 0.007, memory: 1887, loss_cls: 0.4357, loss_bbox: 0.1621, loss_bbox_rf: 0.1990, loss: 0.7968, grad_norm: 3.9768\n",
      "2021-05-14 15:45:36,856 - mmdet - INFO - Epoch [58][350/655]\tlr: 1.000e-02, eta: 4:08:45, time: 0.534, data_time: 0.007, memory: 1887, loss_cls: 0.3963, loss_bbox: 0.1532, loss_bbox_rf: 0.1837, loss: 0.7333, grad_norm: 3.5346\n",
      "2021-05-14 15:46:03,743 - mmdet - INFO - Epoch [58][400/655]\tlr: 1.000e-02, eta: 4:08:18, time: 0.538, data_time: 0.007, memory: 1887, loss_cls: 0.4414, loss_bbox: 0.1626, loss_bbox_rf: 0.1966, loss: 0.8006, grad_norm: 4.2570\n",
      "2021-05-14 15:46:30,365 - mmdet - INFO - Epoch [58][450/655]\tlr: 1.000e-02, eta: 4:07:51, time: 0.532, data_time: 0.007, memory: 1887, loss_cls: 0.4604, loss_bbox: 0.1689, loss_bbox_rf: 0.2059, loss: 0.8352, grad_norm: 4.3095\n",
      "2021-05-14 15:46:56,946 - mmdet - INFO - Epoch [58][500/655]\tlr: 1.000e-02, eta: 4:07:24, time: 0.532, data_time: 0.007, memory: 1887, loss_cls: 0.4323, loss_bbox: 0.1708, loss_bbox_rf: 0.2093, loss: 0.8124, grad_norm: 3.6016\n",
      "2021-05-14 15:47:23,868 - mmdet - INFO - Epoch [58][550/655]\tlr: 1.000e-02, eta: 4:06:57, time: 0.538, data_time: 0.007, memory: 1887, loss_cls: 0.4253, loss_bbox: 0.1598, loss_bbox_rf: 0.1964, loss: 0.7816, grad_norm: 3.3930\n",
      "2021-05-14 15:47:50,830 - mmdet - INFO - Epoch [58][600/655]\tlr: 1.000e-02, eta: 4:06:30, time: 0.539, data_time: 0.007, memory: 1887, loss_cls: 0.4307, loss_bbox: 0.1732, loss_bbox_rf: 0.2131, loss: 0.8170, grad_norm: 3.5462\n",
      "2021-05-14 15:48:17,685 - mmdet - INFO - Epoch [58][650/655]\tlr: 1.000e-02, eta: 4:06:04, time: 0.537, data_time: 0.007, memory: 1887, loss_cls: 0.4724, loss_bbox: 0.1765, loss_bbox_rf: 0.2069, loss: 0.8558, grad_norm: 4.6029\n",
      "2021-05-14 15:48:20,514 - mmdet - INFO - Saving checkpoint at 58 epochs\n"
     ]
    },
    {
     "name": "stdout",
     "output_type": "stream",
     "text": [
      "[>>>>>>>>>>>>>>>>>>>>>>>>>>>>>] 655/655, 18.6 task/s, elapsed: 35s, ETA:     0s"
     ]
    },
    {
     "name": "stderr",
     "output_type": "stream",
     "text": [
      "2021-05-14 15:48:57,842 - mmdet - INFO - Evaluating bbox...\n"
     ]
    },
    {
     "name": "stdout",
     "output_type": "stream",
     "text": [
      "Loading and preparing results...\n",
      "DONE (t=0.72s)\n",
      "creating index...\n",
      "index created!\n",
      "Running per image evaluation...\n",
      "Evaluate annotation type *bbox*\n",
      "DONE (t=6.35s).\n",
      "Accumulating evaluation results...\n"
     ]
    },
    {
     "name": "stderr",
     "output_type": "stream",
     "text": [
      "2021-05-14 15:49:06,296 - mmdet - INFO - Epoch(val) [58][655]\tbbox_mAP: 0.1630, bbox_mAP_50: 0.2390, bbox_mAP_75: 0.1670, bbox_mAP_s: 0.0260, bbox_mAP_m: 0.1260, bbox_mAP_l: 0.3770, bbox_mAP_copypaste: 0.163 0.239 0.167 0.026 0.126 0.377\n"
     ]
    },
    {
     "name": "stdout",
     "output_type": "stream",
     "text": [
      "DONE (t=1.27s).\n",
      "Average Precision  (AP) @[ IoU=0.50:0.95 | area=   all | maxDets=100 ] = 0.163\n",
      "Average Precision  (AP) @[ IoU=0.50      | area=   all | maxDets=1000 ] = 0.239\n",
      "Average Precision  (AP) @[ IoU=0.75      | area=   all | maxDets=1000 ] = 0.167\n",
      "Average Precision  (AP) @[ IoU=0.50:0.95 | area= small | maxDets=1000 ] = 0.026\n",
      "Average Precision  (AP) @[ IoU=0.50:0.95 | area=medium | maxDets=1000 ] = 0.126\n",
      "Average Precision  (AP) @[ IoU=0.50:0.95 | area= large | maxDets=1000 ] = 0.377\n",
      "Average Recall     (AR) @[ IoU=0.50:0.95 | area=   all | maxDets=100 ] = 0.329\n",
      "Average Recall     (AR) @[ IoU=0.50:0.95 | area=   all | maxDets=300 ] = 0.329\n",
      "Average Recall     (AR) @[ IoU=0.50:0.95 | area=   all | maxDets=1000 ] = 0.329\n",
      "Average Recall     (AR) @[ IoU=0.50:0.95 | area= small | maxDets=1000 ] = 0.088\n",
      "Average Recall     (AR) @[ IoU=0.50:0.95 | area=medium | maxDets=1000 ] = 0.285\n",
      "Average Recall     (AR) @[ IoU=0.50:0.95 | area= large | maxDets=1000 ] = 0.647\n"
     ]
    },
    {
     "name": "stderr",
     "output_type": "stream",
     "text": [
      "2021-05-14 15:49:35,539 - mmdet - INFO - Epoch [59][50/655]\tlr: 1.000e-02, eta: 4:05:34, time: 0.585, data_time: 0.052, memory: 1887, loss_cls: 0.4744, loss_bbox: 0.1654, loss_bbox_rf: 0.2020, loss: 0.8417, grad_norm: 4.8357\n",
      "2021-05-14 15:50:02,437 - mmdet - INFO - Epoch [59][100/655]\tlr: 1.000e-02, eta: 4:05:07, time: 0.538, data_time: 0.007, memory: 1887, loss_cls: 0.5241, loss_bbox: 0.1817, loss_bbox_rf: 0.2166, loss: 0.9225, grad_norm: 5.8492\n",
      "2021-05-14 15:50:29,400 - mmdet - INFO - Epoch [59][150/655]\tlr: 1.000e-02, eta: 4:04:40, time: 0.539, data_time: 0.007, memory: 1887, loss_cls: 0.5238, loss_bbox: 0.1792, loss_bbox_rf: 0.2181, loss: 0.9212, grad_norm: 4.8300\n",
      "2021-05-14 15:50:56,399 - mmdet - INFO - Epoch [59][200/655]\tlr: 1.000e-02, eta: 4:04:14, time: 0.540, data_time: 0.007, memory: 1887, loss_cls: 0.4468, loss_bbox: 0.1645, loss_bbox_rf: 0.2011, loss: 0.8124, grad_norm: 3.8463\n",
      "2021-05-14 15:51:23,353 - mmdet - INFO - Epoch [59][250/655]\tlr: 1.000e-02, eta: 4:03:47, time: 0.539, data_time: 0.007, memory: 1887, loss_cls: 0.4507, loss_bbox: 0.1694, loss_bbox_rf: 0.2068, loss: 0.8268, grad_norm: 3.8663\n",
      "2021-05-14 15:51:50,133 - mmdet - INFO - Epoch [59][300/655]\tlr: 1.000e-02, eta: 4:03:20, time: 0.536, data_time: 0.007, memory: 1887, loss_cls: 0.4439, loss_bbox: 0.1637, loss_bbox_rf: 0.1981, loss: 0.8058, grad_norm: 3.8687\n",
      "2021-05-14 15:52:16,849 - mmdet - INFO - Epoch [59][350/655]\tlr: 1.000e-02, eta: 4:02:53, time: 0.534, data_time: 0.007, memory: 1887, loss_cls: 0.4301, loss_bbox: 0.1639, loss_bbox_rf: 0.1957, loss: 0.7896, grad_norm: 4.0813\n",
      "2021-05-14 15:52:43,752 - mmdet - INFO - Epoch [59][400/655]\tlr: 1.000e-02, eta: 4:02:26, time: 0.538, data_time: 0.007, memory: 1887, loss_cls: 0.4753, loss_bbox: 0.1754, loss_bbox_rf: 0.2101, loss: 0.8609, grad_norm: 4.7341\n",
      "2021-05-14 15:53:10,641 - mmdet - INFO - Epoch [59][450/655]\tlr: 1.000e-02, eta: 4:02:00, time: 0.538, data_time: 0.007, memory: 1887, loss_cls: 0.6335, loss_bbox: 0.1974, loss_bbox_rf: 0.2440, loss: 1.0748, grad_norm: 6.3893\n",
      "2021-05-14 15:53:37,466 - mmdet - INFO - Epoch [59][500/655]\tlr: 1.000e-02, eta: 4:01:33, time: 0.536, data_time: 0.007, memory: 1887, loss_cls: 0.5301, loss_bbox: 0.1769, loss_bbox_rf: 0.2125, loss: 0.9195, grad_norm: 5.5503\n",
      "2021-05-14 15:54:04,740 - mmdet - INFO - Epoch [59][550/655]\tlr: 1.000e-02, eta: 4:01:06, time: 0.545, data_time: 0.007, memory: 1887, loss_cls: 0.5812, loss_bbox: 0.1902, loss_bbox_rf: 0.2361, loss: 1.0075, grad_norm: 5.7838\n",
      "2021-05-14 15:54:31,645 - mmdet - INFO - Epoch [59][600/655]\tlr: 1.000e-02, eta: 4:00:40, time: 0.538, data_time: 0.007, memory: 1887, loss_cls: 0.5306, loss_bbox: 0.1778, loss_bbox_rf: 0.2146, loss: 0.9229, grad_norm: 5.0912\n",
      "2021-05-14 15:54:58,368 - mmdet - INFO - Epoch [59][650/655]\tlr: 1.000e-02, eta: 4:00:13, time: 0.534, data_time: 0.007, memory: 1887, loss_cls: 0.5740, loss_bbox: 0.1808, loss_bbox_rf: 0.2229, loss: 0.9778, grad_norm: 5.6651\n",
      "2021-05-14 15:55:01,119 - mmdet - INFO - Saving checkpoint at 59 epochs\n"
     ]
    },
    {
     "name": "stdout",
     "output_type": "stream",
     "text": [
      "[>>>>>>>>>>>>>>>>>>>>>>>>>>>>>] 655/655, 17.6 task/s, elapsed: 37s, ETA:     0s"
     ]
    },
    {
     "name": "stderr",
     "output_type": "stream",
     "text": [
      "2021-05-14 15:55:40,572 - mmdet - INFO - Evaluating bbox...\n"
     ]
    },
    {
     "name": "stdout",
     "output_type": "stream",
     "text": [
      "Loading and preparing results...\n",
      "DONE (t=0.80s)\n",
      "creating index...\n",
      "index created!\n",
      "Running per image evaluation...\n",
      "Evaluate annotation type *bbox*\n",
      "DONE (t=6.88s).\n",
      "Accumulating evaluation results...\n"
     ]
    },
    {
     "name": "stderr",
     "output_type": "stream",
     "text": [
      "2021-05-14 15:55:49,935 - mmdet - INFO - Epoch(val) [59][655]\tbbox_mAP: 0.1560, bbox_mAP_50: 0.2300, bbox_mAP_75: 0.1610, bbox_mAP_s: 0.0210, bbox_mAP_m: 0.1230, bbox_mAP_l: 0.3720, bbox_mAP_copypaste: 0.156 0.230 0.161 0.021 0.123 0.372\n"
     ]
    },
    {
     "name": "stdout",
     "output_type": "stream",
     "text": [
      "DONE (t=1.54s).\n",
      "Average Precision  (AP) @[ IoU=0.50:0.95 | area=   all | maxDets=100 ] = 0.156\n",
      "Average Precision  (AP) @[ IoU=0.50      | area=   all | maxDets=1000 ] = 0.230\n",
      "Average Precision  (AP) @[ IoU=0.75      | area=   all | maxDets=1000 ] = 0.161\n",
      "Average Precision  (AP) @[ IoU=0.50:0.95 | area= small | maxDets=1000 ] = 0.021\n",
      "Average Precision  (AP) @[ IoU=0.50:0.95 | area=medium | maxDets=1000 ] = 0.123\n",
      "Average Precision  (AP) @[ IoU=0.50:0.95 | area= large | maxDets=1000 ] = 0.372\n",
      "Average Recall     (AR) @[ IoU=0.50:0.95 | area=   all | maxDets=100 ] = 0.334\n",
      "Average Recall     (AR) @[ IoU=0.50:0.95 | area=   all | maxDets=300 ] = 0.334\n",
      "Average Recall     (AR) @[ IoU=0.50:0.95 | area=   all | maxDets=1000 ] = 0.334\n",
      "Average Recall     (AR) @[ IoU=0.50:0.95 | area= small | maxDets=1000 ] = 0.084\n",
      "Average Recall     (AR) @[ IoU=0.50:0.95 | area=medium | maxDets=1000 ] = 0.308\n",
      "Average Recall     (AR) @[ IoU=0.50:0.95 | area= large | maxDets=1000 ] = 0.623\n"
     ]
    },
    {
     "name": "stderr",
     "output_type": "stream",
     "text": [
      "2021-05-14 15:56:19,211 - mmdet - INFO - Epoch [60][50/655]\tlr: 1.000e-02, eta: 3:59:43, time: 0.585, data_time: 0.053, memory: 1887, loss_cls: 0.6207, loss_bbox: 0.1897, loss_bbox_rf: 0.2331, loss: 1.0435, grad_norm: 6.2213\n",
      "2021-05-14 15:56:46,115 - mmdet - INFO - Epoch [60][100/655]\tlr: 1.000e-02, eta: 3:59:16, time: 0.538, data_time: 0.008, memory: 1887, loss_cls: 0.5592, loss_bbox: 0.1760, loss_bbox_rf: 0.2165, loss: 0.9517, grad_norm: 5.0638\n",
      "2021-05-14 15:57:13,319 - mmdet - INFO - Epoch [60][150/655]\tlr: 1.000e-02, eta: 3:58:50, time: 0.544, data_time: 0.007, memory: 1887, loss_cls: 0.4928, loss_bbox: 0.1723, loss_bbox_rf: 0.2086, loss: 0.8737, grad_norm: 4.1987\n",
      "2021-05-14 15:57:40,105 - mmdet - INFO - Epoch [60][200/655]\tlr: 1.000e-02, eta: 3:58:23, time: 0.536, data_time: 0.007, memory: 1887, loss_cls: 0.4990, loss_bbox: 0.1784, loss_bbox_rf: 0.2156, loss: 0.8930, grad_norm: 5.0560\n",
      "2021-05-14 15:58:06,972 - mmdet - INFO - Epoch [60][250/655]\tlr: 1.000e-02, eta: 3:57:56, time: 0.537, data_time: 0.007, memory: 1887, loss_cls: 0.5736, loss_bbox: 0.1870, loss_bbox_rf: 0.2283, loss: 0.9888, grad_norm: 5.5989\n",
      "2021-05-14 15:58:33,823 - mmdet - INFO - Epoch [60][300/655]\tlr: 1.000e-02, eta: 3:57:29, time: 0.537, data_time: 0.007, memory: 1887, loss_cls: 0.5004, loss_bbox: 0.1760, loss_bbox_rf: 0.2123, loss: 0.8888, grad_norm: 4.6361\n",
      "2021-05-14 15:59:00,688 - mmdet - INFO - Epoch [60][350/655]\tlr: 1.000e-02, eta: 3:57:02, time: 0.537, data_time: 0.007, memory: 1887, loss_cls: 0.5072, loss_bbox: 0.1829, loss_bbox_rf: 0.2224, loss: 0.9125, grad_norm: 4.3125\n",
      "2021-05-14 15:59:27,611 - mmdet - INFO - Epoch [60][400/655]\tlr: 1.000e-02, eta: 3:56:36, time: 0.538, data_time: 0.007, memory: 1887, loss_cls: 0.4996, loss_bbox: 0.1763, loss_bbox_rf: 0.2177, loss: 0.8936, grad_norm: 4.6662\n",
      "2021-05-14 15:59:54,868 - mmdet - INFO - Epoch [60][450/655]\tlr: 1.000e-02, eta: 3:56:09, time: 0.545, data_time: 0.008, memory: 1887, loss_cls: 0.5689, loss_bbox: 0.1912, loss_bbox_rf: 0.2327, loss: 0.9929, grad_norm: 5.3375\n",
      "2021-05-14 16:00:22,476 - mmdet - INFO - Epoch [60][500/655]\tlr: 1.000e-02, eta: 3:55:43, time: 0.552, data_time: 0.007, memory: 1887, loss_cls: 0.5110, loss_bbox: 0.1754, loss_bbox_rf: 0.2130, loss: 0.8994, grad_norm: 5.1606\n",
      "2021-05-14 16:00:49,676 - mmdet - INFO - Epoch [60][550/655]\tlr: 1.000e-02, eta: 3:55:16, time: 0.544, data_time: 0.008, memory: 1887, loss_cls: 0.5192, loss_bbox: 0.1942, loss_bbox_rf: 0.2379, loss: 0.9512, grad_norm: 4.7518\n",
      "2021-05-14 16:01:16,524 - mmdet - INFO - Epoch [60][600/655]\tlr: 1.000e-02, eta: 3:54:49, time: 0.537, data_time: 0.007, memory: 1887, loss_cls: 0.5128, loss_bbox: 0.1816, loss_bbox_rf: 0.2241, loss: 0.9185, grad_norm: 4.9853\n",
      "2021-05-14 16:01:43,475 - mmdet - INFO - Epoch [60][650/655]\tlr: 1.000e-02, eta: 3:54:23, time: 0.539, data_time: 0.008, memory: 1887, loss_cls: 0.4802, loss_bbox: 0.1665, loss_bbox_rf: 0.2015, loss: 0.8482, grad_norm: 4.5764\n",
      "2021-05-14 16:01:46,246 - mmdet - INFO - Saving checkpoint at 60 epochs\n"
     ]
    },
    {
     "name": "stdout",
     "output_type": "stream",
     "text": [
      "[>>>>>>>>>>>>>>>>>>>>>>>>>>>>>] 655/655, 18.3 task/s, elapsed: 36s, ETA:     0s"
     ]
    },
    {
     "name": "stderr",
     "output_type": "stream",
     "text": [
      "2021-05-14 16:02:24,364 - mmdet - INFO - Evaluating bbox...\n"
     ]
    },
    {
     "name": "stdout",
     "output_type": "stream",
     "text": [
      "Loading and preparing results...\n",
      "DONE (t=0.77s)\n",
      "creating index...\n",
      "index created!\n",
      "Running per image evaluation...\n",
      "Evaluate annotation type *bbox*\n",
      "DONE (t=6.31s).\n",
      "Accumulating evaluation results...\n"
     ]
    },
    {
     "name": "stderr",
     "output_type": "stream",
     "text": [
      "2021-05-14 16:02:33,032 - mmdet - INFO - Epoch(val) [60][655]\tbbox_mAP: 0.1660, bbox_mAP_50: 0.2510, bbox_mAP_75: 0.1720, bbox_mAP_s: 0.0190, bbox_mAP_m: 0.1350, bbox_mAP_l: 0.3780, bbox_mAP_copypaste: 0.166 0.251 0.172 0.019 0.135 0.378\n"
     ]
    },
    {
     "name": "stdout",
     "output_type": "stream",
     "text": [
      "DONE (t=1.46s).\n",
      "Average Precision  (AP) @[ IoU=0.50:0.95 | area=   all | maxDets=100 ] = 0.166\n",
      "Average Precision  (AP) @[ IoU=0.50      | area=   all | maxDets=1000 ] = 0.251\n",
      "Average Precision  (AP) @[ IoU=0.75      | area=   all | maxDets=1000 ] = 0.172\n",
      "Average Precision  (AP) @[ IoU=0.50:0.95 | area= small | maxDets=1000 ] = 0.019\n",
      "Average Precision  (AP) @[ IoU=0.50:0.95 | area=medium | maxDets=1000 ] = 0.135\n",
      "Average Precision  (AP) @[ IoU=0.50:0.95 | area= large | maxDets=1000 ] = 0.378\n",
      "Average Recall     (AR) @[ IoU=0.50:0.95 | area=   all | maxDets=100 ] = 0.332\n",
      "Average Recall     (AR) @[ IoU=0.50:0.95 | area=   all | maxDets=300 ] = 0.332\n",
      "Average Recall     (AR) @[ IoU=0.50:0.95 | area=   all | maxDets=1000 ] = 0.332\n",
      "Average Recall     (AR) @[ IoU=0.50:0.95 | area= small | maxDets=1000 ] = 0.078\n",
      "Average Recall     (AR) @[ IoU=0.50:0.95 | area=medium | maxDets=1000 ] = 0.287\n",
      "Average Recall     (AR) @[ IoU=0.50:0.95 | area= large | maxDets=1000 ] = 0.647\n"
     ]
    },
    {
     "name": "stderr",
     "output_type": "stream",
     "text": [
      "2021-05-14 16:03:02,270 - mmdet - INFO - Epoch [61][50/655]\tlr: 1.000e-03, eta: 3:53:53, time: 0.584, data_time: 0.053, memory: 1887, loss_cls: 0.4828, loss_bbox: 0.1858, loss_bbox_rf: 0.2365, loss: 0.9052, grad_norm: 4.0943\n",
      "2021-05-14 16:03:29,112 - mmdet - INFO - Epoch [61][100/655]\tlr: 1.000e-03, eta: 3:53:26, time: 0.537, data_time: 0.008, memory: 1887, loss_cls: 0.4133, loss_bbox: 0.1411, loss_bbox_rf: 0.1781, loss: 0.7325, grad_norm: 3.5366\n",
      "2021-05-14 16:03:55,954 - mmdet - INFO - Epoch [61][150/655]\tlr: 1.000e-03, eta: 3:52:59, time: 0.537, data_time: 0.007, memory: 1887, loss_cls: 0.4039, loss_bbox: 0.1472, loss_bbox_rf: 0.1876, loss: 0.7387, grad_norm: 3.1008\n",
      "2021-05-14 16:04:22,753 - mmdet - INFO - Epoch [61][200/655]\tlr: 1.000e-03, eta: 3:52:32, time: 0.536, data_time: 0.007, memory: 1887, loss_cls: 0.3820, loss_bbox: 0.1389, loss_bbox_rf: 0.1761, loss: 0.6970, grad_norm: 2.9488\n",
      "2021-05-14 16:04:49,593 - mmdet - INFO - Epoch [61][250/655]\tlr: 1.000e-03, eta: 3:52:05, time: 0.537, data_time: 0.007, memory: 1887, loss_cls: 0.4092, loss_bbox: 0.1545, loss_bbox_rf: 0.1975, loss: 0.7612, grad_norm: 3.1192\n",
      "2021-05-14 16:05:16,511 - mmdet - INFO - Epoch [61][300/655]\tlr: 1.000e-03, eta: 3:51:39, time: 0.538, data_time: 0.008, memory: 1887, loss_cls: 0.3844, loss_bbox: 0.1379, loss_bbox_rf: 0.1750, loss: 0.6972, grad_norm: 2.7259\n",
      "2021-05-14 16:05:43,442 - mmdet - INFO - Epoch [61][350/655]\tlr: 1.000e-03, eta: 3:51:12, time: 0.539, data_time: 0.007, memory: 1887, loss_cls: 0.3958, loss_bbox: 0.1486, loss_bbox_rf: 0.1888, loss: 0.7332, grad_norm: 2.7480\n",
      "2021-05-14 16:06:10,350 - mmdet - INFO - Epoch [61][400/655]\tlr: 1.000e-03, eta: 3:50:45, time: 0.538, data_time: 0.007, memory: 1887, loss_cls: 0.3725, loss_bbox: 0.1351, loss_bbox_rf: 0.1717, loss: 0.6793, grad_norm: 2.8901\n",
      "2021-05-14 16:06:37,564 - mmdet - INFO - Epoch [61][450/655]\tlr: 1.000e-03, eta: 3:50:19, time: 0.544, data_time: 0.008, memory: 1887, loss_cls: 0.3777, loss_bbox: 0.1371, loss_bbox_rf: 0.1736, loss: 0.6884, grad_norm: 3.0743\n",
      "2021-05-14 16:07:04,446 - mmdet - INFO - Epoch [61][500/655]\tlr: 1.000e-03, eta: 3:49:52, time: 0.538, data_time: 0.008, memory: 1887, loss_cls: 0.3706, loss_bbox: 0.1380, loss_bbox_rf: 0.1754, loss: 0.6840, grad_norm: 2.6812\n",
      "2021-05-14 16:07:31,417 - mmdet - INFO - Epoch [61][550/655]\tlr: 1.000e-03, eta: 3:49:25, time: 0.539, data_time: 0.007, memory: 1887, loss_cls: 0.3740, loss_bbox: 0.1343, loss_bbox_rf: 0.1702, loss: 0.6784, grad_norm: 2.6333\n",
      "2021-05-14 16:07:58,397 - mmdet - INFO - Epoch [61][600/655]\tlr: 1.000e-03, eta: 3:48:58, time: 0.540, data_time: 0.008, memory: 1887, loss_cls: 0.3784, loss_bbox: 0.1361, loss_bbox_rf: 0.1729, loss: 0.6875, grad_norm: 2.4912\n",
      "2021-05-14 16:08:25,263 - mmdet - INFO - Epoch [61][650/655]\tlr: 1.000e-03, eta: 3:48:31, time: 0.537, data_time: 0.008, memory: 1887, loss_cls: 0.3795, loss_bbox: 0.1453, loss_bbox_rf: 0.1852, loss: 0.7100, grad_norm: 2.5127\n",
      "2021-05-14 16:08:28,031 - mmdet - INFO - Saving checkpoint at 61 epochs\n"
     ]
    },
    {
     "name": "stdout",
     "output_type": "stream",
     "text": [
      "[>>>>>>>>>>>>>>>>>>>>>>>>>>>>>] 655/655, 18.4 task/s, elapsed: 36s, ETA:     0s"
     ]
    },
    {
     "name": "stderr",
     "output_type": "stream",
     "text": [
      "2021-05-14 16:09:05,689 - mmdet - INFO - Evaluating bbox...\n"
     ]
    },
    {
     "name": "stdout",
     "output_type": "stream",
     "text": [
      "Loading and preparing results...\n",
      "DONE (t=0.17s)\n",
      "creating index...\n",
      "index created!\n",
      "Running per image evaluation...\n",
      "Evaluate annotation type *bbox*\n",
      "DONE (t=6.70s).\n",
      "Accumulating evaluation results...\n"
     ]
    },
    {
     "name": "stderr",
     "output_type": "stream",
     "text": [
      "2021-05-14 16:09:13,854 - mmdet - INFO - Now best checkpoint is epoch_61.pth.Best bbox_mAP_50 is 0.2900\n",
      "2021-05-14 16:09:13,861 - mmdet - INFO - Epoch(val) [61][655]\tbbox_mAP: 0.2020, bbox_mAP_50: 0.2900, bbox_mAP_75: 0.2060, bbox_mAP_s: 0.0260, bbox_mAP_m: 0.1610, bbox_mAP_l: 0.4390, bbox_mAP_copypaste: 0.202 0.290 0.206 0.026 0.161 0.439\n"
     ]
    },
    {
     "name": "stdout",
     "output_type": "stream",
     "text": [
      "DONE (t=1.19s).\n",
      "Average Precision  (AP) @[ IoU=0.50:0.95 | area=   all | maxDets=100 ] = 0.202\n",
      "Average Precision  (AP) @[ IoU=0.50      | area=   all | maxDets=1000 ] = 0.290\n",
      "Average Precision  (AP) @[ IoU=0.75      | area=   all | maxDets=1000 ] = 0.206\n",
      "Average Precision  (AP) @[ IoU=0.50:0.95 | area= small | maxDets=1000 ] = 0.026\n",
      "Average Precision  (AP) @[ IoU=0.50:0.95 | area=medium | maxDets=1000 ] = 0.161\n",
      "Average Precision  (AP) @[ IoU=0.50:0.95 | area= large | maxDets=1000 ] = 0.439\n",
      "Average Recall     (AR) @[ IoU=0.50:0.95 | area=   all | maxDets=100 ] = 0.358\n",
      "Average Recall     (AR) @[ IoU=0.50:0.95 | area=   all | maxDets=300 ] = 0.358\n",
      "Average Recall     (AR) @[ IoU=0.50:0.95 | area=   all | maxDets=1000 ] = 0.358\n",
      "Average Recall     (AR) @[ IoU=0.50:0.95 | area= small | maxDets=1000 ] = 0.117\n",
      "Average Recall     (AR) @[ IoU=0.50:0.95 | area=medium | maxDets=1000 ] = 0.317\n",
      "Average Recall     (AR) @[ IoU=0.50:0.95 | area= large | maxDets=1000 ] = 0.638\n"
     ]
    },
    {
     "name": "stderr",
     "output_type": "stream",
     "text": [
      "2021-05-14 16:09:42,931 - mmdet - INFO - Epoch [62][50/655]\tlr: 1.000e-03, eta: 3:48:02, time: 0.581, data_time: 0.051, memory: 1887, loss_cls: 0.3464, loss_bbox: 0.1310, loss_bbox_rf: 0.1664, loss: 0.6438, grad_norm: 2.1686\n",
      "2021-05-14 16:10:10,009 - mmdet - INFO - Epoch [62][100/655]\tlr: 1.000e-03, eta: 3:47:35, time: 0.542, data_time: 0.007, memory: 1887, loss_cls: 0.3467, loss_bbox: 0.1271, loss_bbox_rf: 0.1615, loss: 0.6353, grad_norm: 2.3965\n",
      "2021-05-14 16:10:37,035 - mmdet - INFO - Epoch [62][150/655]\tlr: 1.000e-03, eta: 3:47:08, time: 0.541, data_time: 0.007, memory: 1887, loss_cls: 0.3729, loss_bbox: 0.1392, loss_bbox_rf: 0.1781, loss: 0.6902, grad_norm: 2.3547\n",
      "2021-05-14 16:11:03,860 - mmdet - INFO - Epoch [62][200/655]\tlr: 1.000e-03, eta: 3:46:41, time: 0.536, data_time: 0.007, memory: 1887, loss_cls: 0.3412, loss_bbox: 0.1244, loss_bbox_rf: 0.1571, loss: 0.6226, grad_norm: 2.4242\n",
      "2021-05-14 16:11:30,739 - mmdet - INFO - Epoch [62][250/655]\tlr: 1.000e-03, eta: 3:46:15, time: 0.538, data_time: 0.007, memory: 1887, loss_cls: 0.3517, loss_bbox: 0.1325, loss_bbox_rf: 0.1691, loss: 0.6532, grad_norm: 2.3037\n",
      "2021-05-14 16:11:57,565 - mmdet - INFO - Epoch [62][300/655]\tlr: 1.000e-03, eta: 3:45:48, time: 0.537, data_time: 0.007, memory: 1887, loss_cls: 0.3683, loss_bbox: 0.1409, loss_bbox_rf: 0.1800, loss: 0.6893, grad_norm: 2.4150\n",
      "2021-05-14 16:12:24,427 - mmdet - INFO - Epoch [62][350/655]\tlr: 1.000e-03, eta: 3:45:21, time: 0.537, data_time: 0.008, memory: 1887, loss_cls: 0.3568, loss_bbox: 0.1369, loss_bbox_rf: 0.1751, loss: 0.6688, grad_norm: 2.1585\n",
      "2021-05-14 16:12:51,357 - mmdet - INFO - Epoch [62][400/655]\tlr: 1.000e-03, eta: 3:44:54, time: 0.539, data_time: 0.008, memory: 1887, loss_cls: 0.3448, loss_bbox: 0.1275, loss_bbox_rf: 0.1616, loss: 0.6339, grad_norm: 2.2766\n",
      "2021-05-14 16:13:18,189 - mmdet - INFO - Epoch [62][450/655]\tlr: 1.000e-03, eta: 3:44:27, time: 0.537, data_time: 0.007, memory: 1887, loss_cls: 0.3555, loss_bbox: 0.1339, loss_bbox_rf: 0.1705, loss: 0.6599, grad_norm: 2.2527\n",
      "2021-05-14 16:13:44,864 - mmdet - INFO - Epoch [62][500/655]\tlr: 1.000e-03, eta: 3:44:00, time: 0.533, data_time: 0.007, memory: 1887, loss_cls: 0.3432, loss_bbox: 0.1254, loss_bbox_rf: 0.1587, loss: 0.6273, grad_norm: 2.2917\n",
      "2021-05-14 16:14:11,628 - mmdet - INFO - Epoch [62][550/655]\tlr: 1.000e-03, eta: 3:43:34, time: 0.535, data_time: 0.007, memory: 1887, loss_cls: 0.3453, loss_bbox: 0.1263, loss_bbox_rf: 0.1598, loss: 0.6315, grad_norm: 2.3550\n",
      "2021-05-14 16:14:38,481 - mmdet - INFO - Epoch [62][600/655]\tlr: 1.000e-03, eta: 3:43:07, time: 0.537, data_time: 0.007, memory: 1887, loss_cls: 0.3610, loss_bbox: 0.1323, loss_bbox_rf: 0.1691, loss: 0.6624, grad_norm: 2.3745\n",
      "2021-05-14 16:15:05,376 - mmdet - INFO - Epoch [62][650/655]\tlr: 1.000e-03, eta: 3:42:40, time: 0.538, data_time: 0.007, memory: 1887, loss_cls: 0.3578, loss_bbox: 0.1320, loss_bbox_rf: 0.1685, loss: 0.6583, grad_norm: 2.3148\n",
      "2021-05-14 16:15:08,160 - mmdet - INFO - Saving checkpoint at 62 epochs\n"
     ]
    },
    {
     "name": "stdout",
     "output_type": "stream",
     "text": [
      "[>>>>>>>>>>>>>>>>>>>>>>>>>>>>>] 655/655, 18.1 task/s, elapsed: 36s, ETA:     0s"
     ]
    },
    {
     "name": "stderr",
     "output_type": "stream",
     "text": [
      "2021-05-14 16:15:45,948 - mmdet - INFO - Evaluating bbox...\n"
     ]
    },
    {
     "name": "stdout",
     "output_type": "stream",
     "text": [
      "Loading and preparing results...\n",
      "DONE (t=0.75s)\n",
      "creating index...\n",
      "index created!\n",
      "Running per image evaluation...\n",
      "Evaluate annotation type *bbox*\n",
      "DONE (t=6.01s).\n",
      "Accumulating evaluation results...\n"
     ]
    },
    {
     "name": "stderr",
     "output_type": "stream",
     "text": [
      "2021-05-14 16:15:53,983 - mmdet - INFO - Epoch(val) [62][655]\tbbox_mAP: 0.1990, bbox_mAP_50: 0.2890, bbox_mAP_75: 0.2060, bbox_mAP_s: 0.0270, bbox_mAP_m: 0.1590, bbox_mAP_l: 0.4360, bbox_mAP_copypaste: 0.199 0.289 0.206 0.027 0.159 0.436\n"
     ]
    },
    {
     "name": "stdout",
     "output_type": "stream",
     "text": [
      "DONE (t=1.16s).\n",
      "Average Precision  (AP) @[ IoU=0.50:0.95 | area=   all | maxDets=100 ] = 0.199\n",
      "Average Precision  (AP) @[ IoU=0.50      | area=   all | maxDets=1000 ] = 0.289\n",
      "Average Precision  (AP) @[ IoU=0.75      | area=   all | maxDets=1000 ] = 0.206\n",
      "Average Precision  (AP) @[ IoU=0.50:0.95 | area= small | maxDets=1000 ] = 0.027\n",
      "Average Precision  (AP) @[ IoU=0.50:0.95 | area=medium | maxDets=1000 ] = 0.159\n",
      "Average Precision  (AP) @[ IoU=0.50:0.95 | area= large | maxDets=1000 ] = 0.436\n",
      "Average Recall     (AR) @[ IoU=0.50:0.95 | area=   all | maxDets=100 ] = 0.350\n",
      "Average Recall     (AR) @[ IoU=0.50:0.95 | area=   all | maxDets=300 ] = 0.350\n",
      "Average Recall     (AR) @[ IoU=0.50:0.95 | area=   all | maxDets=1000 ] = 0.350\n",
      "Average Recall     (AR) @[ IoU=0.50:0.95 | area= small | maxDets=1000 ] = 0.114\n",
      "Average Recall     (AR) @[ IoU=0.50:0.95 | area=medium | maxDets=1000 ] = 0.307\n",
      "Average Recall     (AR) @[ IoU=0.50:0.95 | area= large | maxDets=1000 ] = 0.630\n"
     ]
    },
    {
     "name": "stderr",
     "output_type": "stream",
     "text": [
      "2021-05-14 16:16:23,152 - mmdet - INFO - Epoch [63][50/655]\tlr: 1.000e-03, eta: 3:42:10, time: 0.583, data_time: 0.052, memory: 1887, loss_cls: 0.3265, loss_bbox: 0.1176, loss_bbox_rf: 0.1497, loss: 0.5938, grad_norm: 2.0227\n",
      "2021-05-14 16:16:50,034 - mmdet - INFO - Epoch [63][100/655]\tlr: 1.000e-03, eta: 3:41:43, time: 0.538, data_time: 0.007, memory: 1887, loss_cls: 0.3337, loss_bbox: 0.1226, loss_bbox_rf: 0.1560, loss: 0.6124, grad_norm: 2.0993\n",
      "2021-05-14 16:17:16,930 - mmdet - INFO - Epoch [63][150/655]\tlr: 1.000e-03, eta: 3:41:17, time: 0.538, data_time: 0.007, memory: 1887, loss_cls: 0.3428, loss_bbox: 0.1268, loss_bbox_rf: 0.1611, loss: 0.6307, grad_norm: 2.2600\n",
      "2021-05-14 16:17:43,683 - mmdet - INFO - Epoch [63][200/655]\tlr: 1.000e-03, eta: 3:40:50, time: 0.535, data_time: 0.007, memory: 1887, loss_cls: 0.3392, loss_bbox: 0.1290, loss_bbox_rf: 0.1645, loss: 0.6328, grad_norm: 2.0675\n",
      "2021-05-14 16:18:10,571 - mmdet - INFO - Epoch [63][250/655]\tlr: 1.000e-03, eta: 3:40:23, time: 0.538, data_time: 0.007, memory: 1887, loss_cls: 0.3328, loss_bbox: 0.1268, loss_bbox_rf: 0.1613, loss: 0.6210, grad_norm: 2.0884\n",
      "2021-05-14 16:18:37,434 - mmdet - INFO - Epoch [63][300/655]\tlr: 1.000e-03, eta: 3:39:56, time: 0.537, data_time: 0.007, memory: 1887, loss_cls: 0.3419, loss_bbox: 0.1283, loss_bbox_rf: 0.1627, loss: 0.6329, grad_norm: 2.2814\n",
      "2021-05-14 16:19:04,362 - mmdet - INFO - Epoch [63][350/655]\tlr: 1.000e-03, eta: 3:39:29, time: 0.539, data_time: 0.007, memory: 1887, loss_cls: 0.3419, loss_bbox: 0.1261, loss_bbox_rf: 0.1612, loss: 0.6292, grad_norm: 2.1685\n",
      "2021-05-14 16:19:31,289 - mmdet - INFO - Epoch [63][400/655]\tlr: 1.000e-03, eta: 3:39:03, time: 0.539, data_time: 0.007, memory: 1887, loss_cls: 0.3274, loss_bbox: 0.1264, loss_bbox_rf: 0.1621, loss: 0.6159, grad_norm: 2.0846\n",
      "2021-05-14 16:19:58,075 - mmdet - INFO - Epoch [63][450/655]\tlr: 1.000e-03, eta: 3:38:36, time: 0.536, data_time: 0.007, memory: 1887, loss_cls: 0.3269, loss_bbox: 0.1224, loss_bbox_rf: 0.1554, loss: 0.6048, grad_norm: 2.1971\n",
      "2021-05-14 16:20:24,941 - mmdet - INFO - Epoch [63][500/655]\tlr: 1.000e-03, eta: 3:38:09, time: 0.537, data_time: 0.007, memory: 1887, loss_cls: 0.3431, loss_bbox: 0.1320, loss_bbox_rf: 0.1684, loss: 0.6435, grad_norm: 2.1925\n",
      "2021-05-14 16:20:51,831 - mmdet - INFO - Epoch [63][550/655]\tlr: 1.000e-03, eta: 3:37:42, time: 0.538, data_time: 0.007, memory: 1887, loss_cls: 0.3310, loss_bbox: 0.1213, loss_bbox_rf: 0.1538, loss: 0.6061, grad_norm: 2.1837\n",
      "2021-05-14 16:21:18,608 - mmdet - INFO - Epoch [63][600/655]\tlr: 1.000e-03, eta: 3:37:15, time: 0.536, data_time: 0.007, memory: 1887, loss_cls: 0.3339, loss_bbox: 0.1254, loss_bbox_rf: 0.1591, loss: 0.6183, grad_norm: 2.0119\n",
      "2021-05-14 16:21:45,440 - mmdet - INFO - Epoch [63][650/655]\tlr: 1.000e-03, eta: 3:36:48, time: 0.537, data_time: 0.007, memory: 1887, loss_cls: 0.3372, loss_bbox: 0.1251, loss_bbox_rf: 0.1599, loss: 0.6222, grad_norm: 2.1108\n",
      "2021-05-14 16:21:48,194 - mmdet - INFO - Saving checkpoint at 63 epochs\n"
     ]
    },
    {
     "name": "stdout",
     "output_type": "stream",
     "text": [
      "[>>>>>>>>>>>>>>>>>>>>>>>>>>>>>] 655/655, 18.5 task/s, elapsed: 35s, ETA:     0s"
     ]
    },
    {
     "name": "stderr",
     "output_type": "stream",
     "text": [
      "2021-05-14 16:22:25,544 - mmdet - INFO - Evaluating bbox...\n"
     ]
    },
    {
     "name": "stdout",
     "output_type": "stream",
     "text": [
      "Loading and preparing results...\n",
      "DONE (t=0.15s)\n",
      "creating index...\n",
      "index created!\n",
      "Running per image evaluation...\n",
      "Evaluate annotation type *bbox*\n",
      "DONE (t=6.55s).\n",
      "Accumulating evaluation results...\n"
     ]
    },
    {
     "name": "stderr",
     "output_type": "stream",
     "text": [
      "2021-05-14 16:22:33,468 - mmdet - INFO - Now best checkpoint is epoch_63.pth.Best bbox_mAP_50 is 0.2910\n",
      "2021-05-14 16:22:33,478 - mmdet - INFO - Epoch(val) [63][655]\tbbox_mAP: 0.2000, bbox_mAP_50: 0.2910, bbox_mAP_75: 0.2050, bbox_mAP_s: 0.0260, bbox_mAP_m: 0.1610, bbox_mAP_l: 0.4360, bbox_mAP_copypaste: 0.200 0.291 0.205 0.026 0.161 0.436\n"
     ]
    },
    {
     "name": "stdout",
     "output_type": "stream",
     "text": [
      "DONE (t=1.11s).\n",
      "Average Precision  (AP) @[ IoU=0.50:0.95 | area=   all | maxDets=100 ] = 0.200\n",
      "Average Precision  (AP) @[ IoU=0.50      | area=   all | maxDets=1000 ] = 0.291\n",
      "Average Precision  (AP) @[ IoU=0.75      | area=   all | maxDets=1000 ] = 0.205\n",
      "Average Precision  (AP) @[ IoU=0.50:0.95 | area= small | maxDets=1000 ] = 0.026\n",
      "Average Precision  (AP) @[ IoU=0.50:0.95 | area=medium | maxDets=1000 ] = 0.161\n",
      "Average Precision  (AP) @[ IoU=0.50:0.95 | area= large | maxDets=1000 ] = 0.436\n",
      "Average Recall     (AR) @[ IoU=0.50:0.95 | area=   all | maxDets=100 ] = 0.354\n",
      "Average Recall     (AR) @[ IoU=0.50:0.95 | area=   all | maxDets=300 ] = 0.354\n",
      "Average Recall     (AR) @[ IoU=0.50:0.95 | area=   all | maxDets=1000 ] = 0.354\n",
      "Average Recall     (AR) @[ IoU=0.50:0.95 | area= small | maxDets=1000 ] = 0.118\n",
      "Average Recall     (AR) @[ IoU=0.50:0.95 | area=medium | maxDets=1000 ] = 0.312\n",
      "Average Recall     (AR) @[ IoU=0.50:0.95 | area= large | maxDets=1000 ] = 0.625\n"
     ]
    },
    {
     "name": "stderr",
     "output_type": "stream",
     "text": [
      "2021-05-14 16:23:02,642 - mmdet - INFO - Epoch [64][50/655]\tlr: 1.000e-03, eta: 3:36:19, time: 0.583, data_time: 0.052, memory: 1887, loss_cls: 0.3155, loss_bbox: 0.1177, loss_bbox_rf: 0.1499, loss: 0.5831, grad_norm: 1.8731\n",
      "2021-05-14 16:23:29,552 - mmdet - INFO - Epoch [64][100/655]\tlr: 1.000e-03, eta: 3:35:52, time: 0.538, data_time: 0.008, memory: 1887, loss_cls: 0.3152, loss_bbox: 0.1175, loss_bbox_rf: 0.1497, loss: 0.5824, grad_norm: 1.9615\n",
      "2021-05-14 16:23:56,477 - mmdet - INFO - Epoch [64][150/655]\tlr: 1.000e-03, eta: 3:35:25, time: 0.538, data_time: 0.007, memory: 1887, loss_cls: 0.3163, loss_bbox: 0.1174, loss_bbox_rf: 0.1490, loss: 0.5827, grad_norm: 1.9709\n",
      "2021-05-14 16:24:23,384 - mmdet - INFO - Epoch [64][200/655]\tlr: 1.000e-03, eta: 3:34:58, time: 0.538, data_time: 0.007, memory: 1887, loss_cls: 0.3215, loss_bbox: 0.1185, loss_bbox_rf: 0.1507, loss: 0.5908, grad_norm: 2.0398\n",
      "2021-05-14 16:24:50,236 - mmdet - INFO - Epoch [64][250/655]\tlr: 1.000e-03, eta: 3:34:31, time: 0.537, data_time: 0.007, memory: 1887, loss_cls: 0.3343, loss_bbox: 0.1321, loss_bbox_rf: 0.1692, loss: 0.6355, grad_norm: 1.9156\n",
      "2021-05-14 16:25:17,087 - mmdet - INFO - Epoch [64][300/655]\tlr: 1.000e-03, eta: 3:34:05, time: 0.537, data_time: 0.007, memory: 1887, loss_cls: 0.3174, loss_bbox: 0.1175, loss_bbox_rf: 0.1491, loss: 0.5840, grad_norm: 2.0301\n",
      "2021-05-14 16:25:44,335 - mmdet - INFO - Epoch [64][350/655]\tlr: 1.000e-03, eta: 3:33:38, time: 0.545, data_time: 0.008, memory: 1887, loss_cls: 0.3152, loss_bbox: 0.1165, loss_bbox_rf: 0.1482, loss: 0.5800, grad_norm: 2.0067\n",
      "2021-05-14 16:26:11,167 - mmdet - INFO - Epoch [64][400/655]\tlr: 1.000e-03, eta: 3:33:11, time: 0.537, data_time: 0.007, memory: 1887, loss_cls: 0.3367, loss_bbox: 0.1304, loss_bbox_rf: 0.1675, loss: 0.6346, grad_norm: 2.0745\n",
      "2021-05-14 16:26:37,979 - mmdet - INFO - Epoch [64][450/655]\tlr: 1.000e-03, eta: 3:32:44, time: 0.536, data_time: 0.007, memory: 1887, loss_cls: 0.3171, loss_bbox: 0.1200, loss_bbox_rf: 0.1540, loss: 0.5911, grad_norm: 1.9693\n",
      "2021-05-14 16:27:04,808 - mmdet - INFO - Epoch [64][500/655]\tlr: 1.000e-03, eta: 3:32:17, time: 0.537, data_time: 0.007, memory: 1887, loss_cls: 0.3179, loss_bbox: 0.1149, loss_bbox_rf: 0.1460, loss: 0.5788, grad_norm: 2.0122\n",
      "2021-05-14 16:27:31,614 - mmdet - INFO - Epoch [64][550/655]\tlr: 1.000e-03, eta: 3:31:51, time: 0.536, data_time: 0.007, memory: 1887, loss_cls: 0.3160, loss_bbox: 0.1156, loss_bbox_rf: 0.1463, loss: 0.5780, grad_norm: 1.9252\n",
      "2021-05-14 16:27:58,480 - mmdet - INFO - Epoch [64][600/655]\tlr: 1.000e-03, eta: 3:31:24, time: 0.537, data_time: 0.007, memory: 1887, loss_cls: 0.3245, loss_bbox: 0.1199, loss_bbox_rf: 0.1526, loss: 0.5969, grad_norm: 1.9653\n",
      "2021-05-14 16:28:25,232 - mmdet - INFO - Epoch [64][650/655]\tlr: 1.000e-03, eta: 3:30:57, time: 0.535, data_time: 0.007, memory: 1887, loss_cls: 0.3208, loss_bbox: 0.1193, loss_bbox_rf: 0.1510, loss: 0.5910, grad_norm: 2.1443\n",
      "2021-05-14 16:28:27,980 - mmdet - INFO - Saving checkpoint at 64 epochs\n"
     ]
    },
    {
     "name": "stdout",
     "output_type": "stream",
     "text": [
      "[>>>>>>>>>>>>>>>>>>>>>>>>>>>>>] 655/655, 18.4 task/s, elapsed: 36s, ETA:     0s"
     ]
    },
    {
     "name": "stderr",
     "output_type": "stream",
     "text": [
      "2021-05-14 16:29:04,965 - mmdet - INFO - Evaluating bbox...\n"
     ]
    },
    {
     "name": "stdout",
     "output_type": "stream",
     "text": [
      "Loading and preparing results...\n",
      "DONE (t=0.70s)\n",
      "creating index...\n",
      "index created!\n",
      "Running per image evaluation...\n",
      "Evaluate annotation type *bbox*\n",
      "DONE (t=5.77s).\n",
      "Accumulating evaluation results...\n"
     ]
    },
    {
     "name": "stderr",
     "output_type": "stream",
     "text": [
      "2021-05-14 16:29:12,684 - mmdet - INFO - Epoch(val) [64][655]\tbbox_mAP: 0.2000, bbox_mAP_50: 0.2880, bbox_mAP_75: 0.2050, bbox_mAP_s: 0.0280, bbox_mAP_m: 0.1600, bbox_mAP_l: 0.4380, bbox_mAP_copypaste: 0.200 0.288 0.205 0.028 0.160 0.438\n"
     ]
    },
    {
     "name": "stdout",
     "output_type": "stream",
     "text": [
      "DONE (t=1.14s).\n",
      "Average Precision  (AP) @[ IoU=0.50:0.95 | area=   all | maxDets=100 ] = 0.200\n",
      "Average Precision  (AP) @[ IoU=0.50      | area=   all | maxDets=1000 ] = 0.288\n",
      "Average Precision  (AP) @[ IoU=0.75      | area=   all | maxDets=1000 ] = 0.205\n",
      "Average Precision  (AP) @[ IoU=0.50:0.95 | area= small | maxDets=1000 ] = 0.028\n",
      "Average Precision  (AP) @[ IoU=0.50:0.95 | area=medium | maxDets=1000 ] = 0.160\n",
      "Average Precision  (AP) @[ IoU=0.50:0.95 | area= large | maxDets=1000 ] = 0.438\n",
      "Average Recall     (AR) @[ IoU=0.50:0.95 | area=   all | maxDets=100 ] = 0.344\n",
      "Average Recall     (AR) @[ IoU=0.50:0.95 | area=   all | maxDets=300 ] = 0.344\n",
      "Average Recall     (AR) @[ IoU=0.50:0.95 | area=   all | maxDets=1000 ] = 0.344\n",
      "Average Recall     (AR) @[ IoU=0.50:0.95 | area= small | maxDets=1000 ] = 0.114\n",
      "Average Recall     (AR) @[ IoU=0.50:0.95 | area=medium | maxDets=1000 ] = 0.294\n",
      "Average Recall     (AR) @[ IoU=0.50:0.95 | area= large | maxDets=1000 ] = 0.624\n"
     ]
    },
    {
     "name": "stderr",
     "output_type": "stream",
     "text": [
      "2021-05-14 16:29:41,787 - mmdet - INFO - Epoch [65][50/655]\tlr: 1.000e-03, eta: 3:30:27, time: 0.582, data_time: 0.051, memory: 1887, loss_cls: 0.3029, loss_bbox: 0.1152, loss_bbox_rf: 0.1463, loss: 0.5644, grad_norm: 1.8294\n",
      "2021-05-14 16:30:08,722 - mmdet - INFO - Epoch [65][100/655]\tlr: 1.000e-03, eta: 3:30:00, time: 0.539, data_time: 0.007, memory: 1887, loss_cls: 0.2971, loss_bbox: 0.1131, loss_bbox_rf: 0.1437, loss: 0.5539, grad_norm: 1.8532\n",
      "2021-05-14 16:30:35,612 - mmdet - INFO - Epoch [65][150/655]\tlr: 1.000e-03, eta: 3:29:34, time: 0.538, data_time: 0.008, memory: 1887, loss_cls: 0.3141, loss_bbox: 0.1142, loss_bbox_rf: 0.1458, loss: 0.5740, grad_norm: 1.8843\n",
      "2021-05-14 16:31:02,559 - mmdet - INFO - Epoch [65][200/655]\tlr: 1.000e-03, eta: 3:29:07, time: 0.539, data_time: 0.007, memory: 1887, loss_cls: 0.3141, loss_bbox: 0.1201, loss_bbox_rf: 0.1526, loss: 0.5868, grad_norm: 1.9088\n",
      "2021-05-14 16:31:29,583 - mmdet - INFO - Epoch [65][250/655]\tlr: 1.000e-03, eta: 3:28:40, time: 0.540, data_time: 0.008, memory: 1887, loss_cls: 0.3182, loss_bbox: 0.1260, loss_bbox_rf: 0.1616, loss: 0.6058, grad_norm: 1.9356\n",
      "2021-05-14 16:31:56,551 - mmdet - INFO - Epoch [65][300/655]\tlr: 1.000e-03, eta: 3:28:13, time: 0.539, data_time: 0.007, memory: 1887, loss_cls: 0.3126, loss_bbox: 0.1209, loss_bbox_rf: 0.1548, loss: 0.5883, grad_norm: 1.8257\n",
      "2021-05-14 16:32:23,413 - mmdet - INFO - Epoch [65][350/655]\tlr: 1.000e-03, eta: 3:27:47, time: 0.537, data_time: 0.007, memory: 1887, loss_cls: 0.3155, loss_bbox: 0.1155, loss_bbox_rf: 0.1468, loss: 0.5778, grad_norm: 2.1226\n",
      "2021-05-14 16:32:50,227 - mmdet - INFO - Epoch [65][400/655]\tlr: 1.000e-03, eta: 3:27:20, time: 0.536, data_time: 0.007, memory: 1887, loss_cls: 0.3067, loss_bbox: 0.1127, loss_bbox_rf: 0.1435, loss: 0.5628, grad_norm: 1.8661\n",
      "2021-05-14 16:33:17,272 - mmdet - INFO - Epoch [65][450/655]\tlr: 1.000e-03, eta: 3:26:53, time: 0.541, data_time: 0.007, memory: 1887, loss_cls: 0.2945, loss_bbox: 0.1009, loss_bbox_rf: 0.1275, loss: 0.5229, grad_norm: 1.9445\n",
      "2021-05-14 16:33:44,132 - mmdet - INFO - Epoch [65][500/655]\tlr: 1.000e-03, eta: 3:26:26, time: 0.537, data_time: 0.007, memory: 1887, loss_cls: 0.3141, loss_bbox: 0.1165, loss_bbox_rf: 0.1483, loss: 0.5788, grad_norm: 1.9942\n",
      "2021-05-14 16:34:11,028 - mmdet - INFO - Epoch [65][550/655]\tlr: 1.000e-03, eta: 3:25:59, time: 0.538, data_time: 0.007, memory: 1887, loss_cls: 0.3150, loss_bbox: 0.1190, loss_bbox_rf: 0.1513, loss: 0.5853, grad_norm: 1.9086\n",
      "2021-05-14 16:34:37,872 - mmdet - INFO - Epoch [65][600/655]\tlr: 1.000e-03, eta: 3:25:33, time: 0.537, data_time: 0.007, memory: 1887, loss_cls: 0.3172, loss_bbox: 0.1230, loss_bbox_rf: 0.1570, loss: 0.5972, grad_norm: 1.9077\n",
      "2021-05-14 16:35:04,719 - mmdet - INFO - Epoch [65][650/655]\tlr: 1.000e-03, eta: 3:25:06, time: 0.537, data_time: 0.007, memory: 1887, loss_cls: 0.3062, loss_bbox: 0.1150, loss_bbox_rf: 0.1466, loss: 0.5678, grad_norm: 1.8718\n",
      "2021-05-14 16:35:07,473 - mmdet - INFO - Saving checkpoint at 65 epochs\n"
     ]
    },
    {
     "name": "stdout",
     "output_type": "stream",
     "text": [
      "[>>>>>>>>>>>>>>>>>>>>>>>>>>>>>] 655/655, 18.3 task/s, elapsed: 36s, ETA:     0s"
     ]
    },
    {
     "name": "stderr",
     "output_type": "stream",
     "text": [
      "2021-05-14 16:35:44,598 - mmdet - INFO - Evaluating bbox...\n"
     ]
    },
    {
     "name": "stdout",
     "output_type": "stream",
     "text": [
      "Loading and preparing results...\n",
      "DONE (t=0.68s)\n",
      "creating index...\n",
      "index created!\n",
      "Running per image evaluation...\n",
      "Evaluate annotation type *bbox*\n",
      "DONE (t=6.41s).\n",
      "Accumulating evaluation results...\n"
     ]
    },
    {
     "name": "stderr",
     "output_type": "stream",
     "text": [
      "2021-05-14 16:35:52,860 - mmdet - INFO - Epoch(val) [65][655]\tbbox_mAP: 0.2000, bbox_mAP_50: 0.2880, bbox_mAP_75: 0.2060, bbox_mAP_s: 0.0290, bbox_mAP_m: 0.1600, bbox_mAP_l: 0.4390, bbox_mAP_copypaste: 0.200 0.288 0.206 0.029 0.160 0.439\n"
     ]
    },
    {
     "name": "stdout",
     "output_type": "stream",
     "text": [
      "DONE (t=1.07s).\n",
      "Average Precision  (AP) @[ IoU=0.50:0.95 | area=   all | maxDets=100 ] = 0.200\n",
      "Average Precision  (AP) @[ IoU=0.50      | area=   all | maxDets=1000 ] = 0.288\n",
      "Average Precision  (AP) @[ IoU=0.75      | area=   all | maxDets=1000 ] = 0.206\n",
      "Average Precision  (AP) @[ IoU=0.50:0.95 | area= small | maxDets=1000 ] = 0.029\n",
      "Average Precision  (AP) @[ IoU=0.50:0.95 | area=medium | maxDets=1000 ] = 0.160\n",
      "Average Precision  (AP) @[ IoU=0.50:0.95 | area= large | maxDets=1000 ] = 0.439\n",
      "Average Recall     (AR) @[ IoU=0.50:0.95 | area=   all | maxDets=100 ] = 0.342\n",
      "Average Recall     (AR) @[ IoU=0.50:0.95 | area=   all | maxDets=300 ] = 0.342\n",
      "Average Recall     (AR) @[ IoU=0.50:0.95 | area=   all | maxDets=1000 ] = 0.342\n",
      "Average Recall     (AR) @[ IoU=0.50:0.95 | area= small | maxDets=1000 ] = 0.096\n",
      "Average Recall     (AR) @[ IoU=0.50:0.95 | area=medium | maxDets=1000 ] = 0.296\n",
      "Average Recall     (AR) @[ IoU=0.50:0.95 | area= large | maxDets=1000 ] = 0.623\n"
     ]
    },
    {
     "name": "stderr",
     "output_type": "stream",
     "text": [
      "2021-05-14 16:36:21,964 - mmdet - INFO - Epoch [66][50/655]\tlr: 1.000e-03, eta: 3:24:36, time: 0.582, data_time: 0.052, memory: 1887, loss_cls: 0.2913, loss_bbox: 0.1059, loss_bbox_rf: 0.1339, loss: 0.5311, grad_norm: 1.9234\n",
      "2021-05-14 16:36:48,874 - mmdet - INFO - Epoch [66][100/655]\tlr: 1.000e-03, eta: 3:24:09, time: 0.538, data_time: 0.007, memory: 1887, loss_cls: 0.3043, loss_bbox: 0.1166, loss_bbox_rf: 0.1480, loss: 0.5689, grad_norm: 1.9000\n",
      "2021-05-14 16:37:16,036 - mmdet - INFO - Epoch [66][150/655]\tlr: 1.000e-03, eta: 3:23:43, time: 0.543, data_time: 0.007, memory: 1887, loss_cls: 0.2919, loss_bbox: 0.1108, loss_bbox_rf: 0.1404, loss: 0.5431, grad_norm: 1.7877\n",
      "2021-05-14 16:37:42,970 - mmdet - INFO - Epoch [66][200/655]\tlr: 1.000e-03, eta: 3:23:16, time: 0.539, data_time: 0.007, memory: 1887, loss_cls: 0.2884, loss_bbox: 0.1075, loss_bbox_rf: 0.1361, loss: 0.5320, grad_norm: 1.8490\n",
      "2021-05-14 16:38:09,935 - mmdet - INFO - Epoch [66][250/655]\tlr: 1.000e-03, eta: 3:22:49, time: 0.539, data_time: 0.007, memory: 1887, loss_cls: 0.3128, loss_bbox: 0.1204, loss_bbox_rf: 0.1539, loss: 0.5871, grad_norm: 1.8418\n",
      "2021-05-14 16:38:36,944 - mmdet - INFO - Epoch [66][300/655]\tlr: 1.000e-03, eta: 3:22:22, time: 0.540, data_time: 0.008, memory: 1887, loss_cls: 0.3152, loss_bbox: 0.1181, loss_bbox_rf: 0.1508, loss: 0.5841, grad_norm: 1.8407\n",
      "2021-05-14 16:39:03,864 - mmdet - INFO - Epoch [66][350/655]\tlr: 1.000e-03, eta: 3:21:55, time: 0.538, data_time: 0.008, memory: 1887, loss_cls: 0.2874, loss_bbox: 0.1073, loss_bbox_rf: 0.1365, loss: 0.5311, grad_norm: 1.8842\n",
      "2021-05-14 16:39:30,674 - mmdet - INFO - Epoch [66][400/655]\tlr: 1.000e-03, eta: 3:21:29, time: 0.536, data_time: 0.007, memory: 1887, loss_cls: 0.3027, loss_bbox: 0.1144, loss_bbox_rf: 0.1454, loss: 0.5625, grad_norm: 1.7121\n",
      "2021-05-14 16:39:57,536 - mmdet - INFO - Epoch [66][450/655]\tlr: 1.000e-03, eta: 3:21:02, time: 0.537, data_time: 0.007, memory: 1887, loss_cls: 0.2900, loss_bbox: 0.1025, loss_bbox_rf: 0.1300, loss: 0.5225, grad_norm: 1.8811\n",
      "2021-05-14 16:40:24,398 - mmdet - INFO - Epoch [66][500/655]\tlr: 1.000e-03, eta: 3:20:35, time: 0.537, data_time: 0.007, memory: 1887, loss_cls: 0.3132, loss_bbox: 0.1208, loss_bbox_rf: 0.1538, loss: 0.5879, grad_norm: 1.9266\n",
      "2021-05-14 16:40:51,255 - mmdet - INFO - Epoch [66][550/655]\tlr: 1.000e-03, eta: 3:20:08, time: 0.537, data_time: 0.007, memory: 1887, loss_cls: 0.2994, loss_bbox: 0.1136, loss_bbox_rf: 0.1458, loss: 0.5588, grad_norm: 1.8433\n",
      "2021-05-14 16:41:18,076 - mmdet - INFO - Epoch [66][600/655]\tlr: 1.000e-03, eta: 3:19:41, time: 0.536, data_time: 0.007, memory: 1887, loss_cls: 0.2927, loss_bbox: 0.1052, loss_bbox_rf: 0.1342, loss: 0.5321, grad_norm: 1.8564\n",
      "2021-05-14 16:41:44,910 - mmdet - INFO - Epoch [66][650/655]\tlr: 1.000e-03, eta: 3:19:14, time: 0.537, data_time: 0.007, memory: 1887, loss_cls: 0.3109, loss_bbox: 0.1192, loss_bbox_rf: 0.1525, loss: 0.5825, grad_norm: 1.9201\n",
      "2021-05-14 16:41:47,676 - mmdet - INFO - Saving checkpoint at 66 epochs\n"
     ]
    },
    {
     "name": "stdout",
     "output_type": "stream",
     "text": [
      "[>>>>>>>>>>>>>>>>>>>>>>>>>>>>>] 655/655, 18.6 task/s, elapsed: 35s, ETA:     0s"
     ]
    },
    {
     "name": "stderr",
     "output_type": "stream",
     "text": [
      "2021-05-14 16:42:24,266 - mmdet - INFO - Evaluating bbox...\n"
     ]
    },
    {
     "name": "stdout",
     "output_type": "stream",
     "text": [
      "Loading and preparing results...\n",
      "DONE (t=0.14s)\n",
      "creating index...\n",
      "index created!\n",
      "Running per image evaluation...\n",
      "Evaluate annotation type *bbox*\n",
      "DONE (t=6.29s).\n",
      "Accumulating evaluation results...\n"
     ]
    },
    {
     "name": "stderr",
     "output_type": "stream",
     "text": [
      "2021-05-14 16:42:31,920 - mmdet - INFO - Epoch(val) [66][655]\tbbox_mAP: 0.2000, bbox_mAP_50: 0.2870, bbox_mAP_75: 0.2070, bbox_mAP_s: 0.0280, bbox_mAP_m: 0.1580, bbox_mAP_l: 0.4400, bbox_mAP_copypaste: 0.200 0.287 0.207 0.028 0.158 0.440\n"
     ]
    },
    {
     "name": "stdout",
     "output_type": "stream",
     "text": [
      "DONE (t=1.11s).\n",
      "Average Precision  (AP) @[ IoU=0.50:0.95 | area=   all | maxDets=100 ] = 0.200\n",
      "Average Precision  (AP) @[ IoU=0.50      | area=   all | maxDets=1000 ] = 0.287\n",
      "Average Precision  (AP) @[ IoU=0.75      | area=   all | maxDets=1000 ] = 0.207\n",
      "Average Precision  (AP) @[ IoU=0.50:0.95 | area= small | maxDets=1000 ] = 0.028\n",
      "Average Precision  (AP) @[ IoU=0.50:0.95 | area=medium | maxDets=1000 ] = 0.158\n",
      "Average Precision  (AP) @[ IoU=0.50:0.95 | area= large | maxDets=1000 ] = 0.440\n",
      "Average Recall     (AR) @[ IoU=0.50:0.95 | area=   all | maxDets=100 ] = 0.344\n",
      "Average Recall     (AR) @[ IoU=0.50:0.95 | area=   all | maxDets=300 ] = 0.344\n",
      "Average Recall     (AR) @[ IoU=0.50:0.95 | area=   all | maxDets=1000 ] = 0.344\n",
      "Average Recall     (AR) @[ IoU=0.50:0.95 | area= small | maxDets=1000 ] = 0.114\n",
      "Average Recall     (AR) @[ IoU=0.50:0.95 | area=medium | maxDets=1000 ] = 0.294\n",
      "Average Recall     (AR) @[ IoU=0.50:0.95 | area= large | maxDets=1000 ] = 0.626\n"
     ]
    },
    {
     "name": "stderr",
     "output_type": "stream",
     "text": [
      "2021-05-14 16:43:01,411 - mmdet - INFO - Epoch [67][50/655]\tlr: 1.000e-03, eta: 3:18:45, time: 0.590, data_time: 0.053, memory: 1887, loss_cls: 0.2993, loss_bbox: 0.1192, loss_bbox_rf: 0.1527, loss: 0.5712, grad_norm: 1.6785\n",
      "2021-05-14 16:43:28,544 - mmdet - INFO - Epoch [67][100/655]\tlr: 1.000e-03, eta: 3:18:18, time: 0.543, data_time: 0.008, memory: 1887, loss_cls: 0.2847, loss_bbox: 0.1073, loss_bbox_rf: 0.1367, loss: 0.5287, grad_norm: 1.8162\n",
      "2021-05-14 16:43:55,467 - mmdet - INFO - Epoch [67][150/655]\tlr: 1.000e-03, eta: 3:17:51, time: 0.538, data_time: 0.007, memory: 1887, loss_cls: 0.2933, loss_bbox: 0.1087, loss_bbox_rf: 0.1383, loss: 0.5402, grad_norm: 1.8640\n",
      "2021-05-14 16:44:22,345 - mmdet - INFO - Epoch [67][200/655]\tlr: 1.000e-03, eta: 3:17:25, time: 0.538, data_time: 0.007, memory: 1887, loss_cls: 0.2876, loss_bbox: 0.1065, loss_bbox_rf: 0.1350, loss: 0.5291, grad_norm: 1.7320\n",
      "2021-05-14 16:44:49,350 - mmdet - INFO - Epoch [67][250/655]\tlr: 1.000e-03, eta: 3:16:58, time: 0.540, data_time: 0.007, memory: 1887, loss_cls: 0.2909, loss_bbox: 0.1102, loss_bbox_rf: 0.1404, loss: 0.5415, grad_norm: 1.7384\n",
      "2021-05-14 16:45:16,196 - mmdet - INFO - Epoch [67][300/655]\tlr: 1.000e-03, eta: 3:16:31, time: 0.537, data_time: 0.007, memory: 1887, loss_cls: 0.2867, loss_bbox: 0.1056, loss_bbox_rf: 0.1339, loss: 0.5262, grad_norm: 1.9193\n",
      "2021-05-14 16:45:43,153 - mmdet - INFO - Epoch [67][350/655]\tlr: 1.000e-03, eta: 3:16:04, time: 0.539, data_time: 0.008, memory: 1887, loss_cls: 0.2881, loss_bbox: 0.1073, loss_bbox_rf: 0.1368, loss: 0.5322, grad_norm: 1.8694\n",
      "2021-05-14 16:46:10,071 - mmdet - INFO - Epoch [67][400/655]\tlr: 1.000e-03, eta: 3:15:37, time: 0.538, data_time: 0.007, memory: 1887, loss_cls: 0.2858, loss_bbox: 0.1065, loss_bbox_rf: 0.1350, loss: 0.5274, grad_norm: 1.8801\n",
      "2021-05-14 16:46:36,913 - mmdet - INFO - Epoch [67][450/655]\tlr: 1.000e-03, eta: 3:15:11, time: 0.537, data_time: 0.007, memory: 1887, loss_cls: 0.3088, loss_bbox: 0.1172, loss_bbox_rf: 0.1495, loss: 0.5755, grad_norm: 1.8383\n",
      "2021-05-14 16:47:03,823 - mmdet - INFO - Epoch [67][500/655]\tlr: 1.000e-03, eta: 3:14:44, time: 0.538, data_time: 0.007, memory: 1887, loss_cls: 0.2866, loss_bbox: 0.1065, loss_bbox_rf: 0.1349, loss: 0.5280, grad_norm: 1.8292\n",
      "2021-05-14 16:47:30,691 - mmdet - INFO - Epoch [67][550/655]\tlr: 1.000e-03, eta: 3:14:17, time: 0.537, data_time: 0.007, memory: 1887, loss_cls: 0.2876, loss_bbox: 0.1055, loss_bbox_rf: 0.1341, loss: 0.5272, grad_norm: 1.7896\n",
      "2021-05-14 16:47:57,545 - mmdet - INFO - Epoch [67][600/655]\tlr: 1.000e-03, eta: 3:13:50, time: 0.537, data_time: 0.007, memory: 1887, loss_cls: 0.2867, loss_bbox: 0.1078, loss_bbox_rf: 0.1374, loss: 0.5319, grad_norm: 1.7626\n",
      "2021-05-14 16:48:24,504 - mmdet - INFO - Epoch [67][650/655]\tlr: 1.000e-03, eta: 3:13:23, time: 0.539, data_time: 0.008, memory: 1887, loss_cls: 0.2915, loss_bbox: 0.1110, loss_bbox_rf: 0.1418, loss: 0.5443, grad_norm: 1.7841\n",
      "2021-05-14 16:48:27,266 - mmdet - INFO - Saving checkpoint at 67 epochs\n"
     ]
    },
    {
     "name": "stdout",
     "output_type": "stream",
     "text": [
      "[>>>>>>>>>>>>>>>>>>>>>>>>>>>>>] 655/655, 18.3 task/s, elapsed: 36s, ETA:     0s"
     ]
    },
    {
     "name": "stderr",
     "output_type": "stream",
     "text": [
      "2021-05-14 16:49:04,330 - mmdet - INFO - Evaluating bbox...\n"
     ]
    },
    {
     "name": "stdout",
     "output_type": "stream",
     "text": [
      "Loading and preparing results...\n",
      "DONE (t=0.68s)\n",
      "creating index...\n",
      "index created!\n",
      "Running per image evaluation...\n",
      "Evaluate annotation type *bbox*\n",
      "DONE (t=5.68s).\n",
      "Accumulating evaluation results...\n"
     ]
    },
    {
     "name": "stderr",
     "output_type": "stream",
     "text": [
      "2021-05-14 16:49:11,812 - mmdet - INFO - Epoch(val) [67][655]\tbbox_mAP: 0.2000, bbox_mAP_50: 0.2880, bbox_mAP_75: 0.2060, bbox_mAP_s: 0.0280, bbox_mAP_m: 0.1570, bbox_mAP_l: 0.4390, bbox_mAP_copypaste: 0.200 0.288 0.206 0.028 0.157 0.439\n"
     ]
    },
    {
     "name": "stdout",
     "output_type": "stream",
     "text": [
      "DONE (t=1.02s).\n",
      "Average Precision  (AP) @[ IoU=0.50:0.95 | area=   all | maxDets=100 ] = 0.200\n",
      "Average Precision  (AP) @[ IoU=0.50      | area=   all | maxDets=1000 ] = 0.288\n",
      "Average Precision  (AP) @[ IoU=0.75      | area=   all | maxDets=1000 ] = 0.206\n",
      "Average Precision  (AP) @[ IoU=0.50:0.95 | area= small | maxDets=1000 ] = 0.028\n",
      "Average Precision  (AP) @[ IoU=0.50:0.95 | area=medium | maxDets=1000 ] = 0.157\n",
      "Average Precision  (AP) @[ IoU=0.50:0.95 | area= large | maxDets=1000 ] = 0.439\n",
      "Average Recall     (AR) @[ IoU=0.50:0.95 | area=   all | maxDets=100 ] = 0.339\n",
      "Average Recall     (AR) @[ IoU=0.50:0.95 | area=   all | maxDets=300 ] = 0.339\n",
      "Average Recall     (AR) @[ IoU=0.50:0.95 | area=   all | maxDets=1000 ] = 0.339\n",
      "Average Recall     (AR) @[ IoU=0.50:0.95 | area= small | maxDets=1000 ] = 0.094\n",
      "Average Recall     (AR) @[ IoU=0.50:0.95 | area=medium | maxDets=1000 ] = 0.292\n",
      "Average Recall     (AR) @[ IoU=0.50:0.95 | area= large | maxDets=1000 ] = 0.620\n"
     ]
    },
    {
     "name": "stderr",
     "output_type": "stream",
     "text": [
      "2021-05-14 16:49:40,961 - mmdet - INFO - Epoch [68][50/655]\tlr: 1.000e-03, eta: 3:12:54, time: 0.583, data_time: 0.052, memory: 1887, loss_cls: 0.2846, loss_bbox: 0.1042, loss_bbox_rf: 0.1327, loss: 0.5215, grad_norm: 1.7888\n",
      "2021-05-14 16:50:07,874 - mmdet - INFO - Epoch [68][100/655]\tlr: 1.000e-03, eta: 3:12:27, time: 0.538, data_time: 0.007, memory: 1887, loss_cls: 0.2838, loss_bbox: 0.1054, loss_bbox_rf: 0.1341, loss: 0.5233, grad_norm: 1.7699\n",
      "2021-05-14 16:50:34,726 - mmdet - INFO - Epoch [68][150/655]\tlr: 1.000e-03, eta: 3:12:00, time: 0.537, data_time: 0.007, memory: 1887, loss_cls: 0.2900, loss_bbox: 0.1102, loss_bbox_rf: 0.1403, loss: 0.5405, grad_norm: 1.8574\n",
      "2021-05-14 16:51:01,516 - mmdet - INFO - Epoch [68][200/655]\tlr: 1.000e-03, eta: 3:11:33, time: 0.536, data_time: 0.007, memory: 1887, loss_cls: 0.2710, loss_bbox: 0.1006, loss_bbox_rf: 0.1273, loss: 0.4990, grad_norm: 1.6889\n",
      "2021-05-14 16:51:28,450 - mmdet - INFO - Epoch [68][250/655]\tlr: 1.000e-03, eta: 3:11:06, time: 0.539, data_time: 0.007, memory: 1887, loss_cls: 0.2846, loss_bbox: 0.1057, loss_bbox_rf: 0.1349, loss: 0.5252, grad_norm: 1.8188\n",
      "2021-05-14 16:51:55,347 - mmdet - INFO - Epoch [68][300/655]\tlr: 1.000e-03, eta: 3:10:40, time: 0.538, data_time: 0.007, memory: 1887, loss_cls: 0.2753, loss_bbox: 0.1023, loss_bbox_rf: 0.1297, loss: 0.5073, grad_norm: 1.7534\n",
      "2021-05-14 16:52:22,752 - mmdet - INFO - Epoch [68][350/655]\tlr: 1.000e-03, eta: 3:10:13, time: 0.548, data_time: 0.007, memory: 1887, loss_cls: 0.2889, loss_bbox: 0.1112, loss_bbox_rf: 0.1417, loss: 0.5418, grad_norm: 1.6627\n",
      "2021-05-14 16:52:49,636 - mmdet - INFO - Epoch [68][400/655]\tlr: 1.000e-03, eta: 3:09:46, time: 0.538, data_time: 0.007, memory: 1887, loss_cls: 0.2804, loss_bbox: 0.1049, loss_bbox_rf: 0.1340, loss: 0.5193, grad_norm: 1.6965\n",
      "2021-05-14 16:53:16,584 - mmdet - INFO - Epoch [68][450/655]\tlr: 1.000e-03, eta: 3:09:19, time: 0.539, data_time: 0.007, memory: 1887, loss_cls: 0.2895, loss_bbox: 0.1091, loss_bbox_rf: 0.1394, loss: 0.5380, grad_norm: 1.8767\n",
      "2021-05-14 16:53:43,517 - mmdet - INFO - Epoch [68][500/655]\tlr: 1.000e-03, eta: 3:08:53, time: 0.539, data_time: 0.007, memory: 1887, loss_cls: 0.3008, loss_bbox: 0.1143, loss_bbox_rf: 0.1457, loss: 0.5608, grad_norm: 1.7394\n",
      "2021-05-14 16:54:10,221 - mmdet - INFO - Epoch [68][550/655]\tlr: 1.000e-03, eta: 3:08:26, time: 0.534, data_time: 0.007, memory: 1887, loss_cls: 0.2716, loss_bbox: 0.0994, loss_bbox_rf: 0.1265, loss: 0.4974, grad_norm: 1.7866\n",
      "2021-05-14 16:54:37,038 - mmdet - INFO - Epoch [68][600/655]\tlr: 1.000e-03, eta: 3:07:59, time: 0.536, data_time: 0.007, memory: 1887, loss_cls: 0.2974, loss_bbox: 0.1130, loss_bbox_rf: 0.1443, loss: 0.5547, grad_norm: 1.7388\n",
      "2021-05-14 16:55:03,842 - mmdet - INFO - Epoch [68][650/655]\tlr: 1.000e-03, eta: 3:07:32, time: 0.536, data_time: 0.007, memory: 1887, loss_cls: 0.2765, loss_bbox: 0.1020, loss_bbox_rf: 0.1291, loss: 0.5076, grad_norm: 1.7730\n",
      "2021-05-14 16:55:06,635 - mmdet - INFO - Saving checkpoint at 68 epochs\n"
     ]
    },
    {
     "name": "stdout",
     "output_type": "stream",
     "text": [
      "[>>>>>>>>>>>>>>>>>>>>>>>>>>>>>] 655/655, 18.2 task/s, elapsed: 36s, ETA:     0s"
     ]
    },
    {
     "name": "stderr",
     "output_type": "stream",
     "text": [
      "2021-05-14 16:55:44,453 - mmdet - INFO - Evaluating bbox...\n"
     ]
    },
    {
     "name": "stdout",
     "output_type": "stream",
     "text": [
      "Loading and preparing results...\n",
      "DONE (t=0.14s)\n",
      "creating index...\n",
      "index created!\n",
      "Running per image evaluation...\n",
      "Evaluate annotation type *bbox*\n",
      "DONE (t=6.05s).\n",
      "Accumulating evaluation results...\n"
     ]
    },
    {
     "name": "stderr",
     "output_type": "stream",
     "text": [
      "2021-05-14 16:55:51,771 - mmdet - INFO - Epoch(val) [68][655]\tbbox_mAP: 0.1990, bbox_mAP_50: 0.2860, bbox_mAP_75: 0.2060, bbox_mAP_s: 0.0280, bbox_mAP_m: 0.1570, bbox_mAP_l: 0.4380, bbox_mAP_copypaste: 0.199 0.286 0.206 0.028 0.157 0.438\n"
     ]
    },
    {
     "name": "stdout",
     "output_type": "stream",
     "text": [
      "DONE (t=1.04s).\n",
      "Average Precision  (AP) @[ IoU=0.50:0.95 | area=   all | maxDets=100 ] = 0.199\n",
      "Average Precision  (AP) @[ IoU=0.50      | area=   all | maxDets=1000 ] = 0.286\n",
      "Average Precision  (AP) @[ IoU=0.75      | area=   all | maxDets=1000 ] = 0.206\n",
      "Average Precision  (AP) @[ IoU=0.50:0.95 | area= small | maxDets=1000 ] = 0.028\n",
      "Average Precision  (AP) @[ IoU=0.50:0.95 | area=medium | maxDets=1000 ] = 0.157\n",
      "Average Precision  (AP) @[ IoU=0.50:0.95 | area= large | maxDets=1000 ] = 0.438\n",
      "Average Recall     (AR) @[ IoU=0.50:0.95 | area=   all | maxDets=100 ] = 0.339\n",
      "Average Recall     (AR) @[ IoU=0.50:0.95 | area=   all | maxDets=300 ] = 0.339\n",
      "Average Recall     (AR) @[ IoU=0.50:0.95 | area=   all | maxDets=1000 ] = 0.339\n",
      "Average Recall     (AR) @[ IoU=0.50:0.95 | area= small | maxDets=1000 ] = 0.096\n",
      "Average Recall     (AR) @[ IoU=0.50:0.95 | area=medium | maxDets=1000 ] = 0.291\n",
      "Average Recall     (AR) @[ IoU=0.50:0.95 | area= large | maxDets=1000 ] = 0.622\n"
     ]
    },
    {
     "name": "stderr",
     "output_type": "stream",
     "text": [
      "2021-05-14 16:56:20,944 - mmdet - INFO - Epoch [69][50/655]\tlr: 1.000e-03, eta: 3:07:02, time: 0.583, data_time: 0.052, memory: 1887, loss_cls: 0.2835, loss_bbox: 0.1074, loss_bbox_rf: 0.1368, loss: 0.5277, grad_norm: 1.6614\n",
      "2021-05-14 16:56:47,828 - mmdet - INFO - Epoch [69][100/655]\tlr: 1.000e-03, eta: 3:06:36, time: 0.538, data_time: 0.008, memory: 1887, loss_cls: 0.2897, loss_bbox: 0.1114, loss_bbox_rf: 0.1424, loss: 0.5435, grad_norm: 1.6937\n",
      "2021-05-14 16:57:14,641 - mmdet - INFO - Epoch [69][150/655]\tlr: 1.000e-03, eta: 3:06:09, time: 0.536, data_time: 0.007, memory: 1887, loss_cls: 0.2888, loss_bbox: 0.1109, loss_bbox_rf: 0.1417, loss: 0.5414, grad_norm: 1.6893\n",
      "2021-05-14 16:57:41,478 - mmdet - INFO - Epoch [69][200/655]\tlr: 1.000e-03, eta: 3:05:42, time: 0.537, data_time: 0.007, memory: 1887, loss_cls: 0.2799, loss_bbox: 0.1059, loss_bbox_rf: 0.1349, loss: 0.5208, grad_norm: 1.6200\n",
      "2021-05-14 16:58:08,188 - mmdet - INFO - Epoch [69][250/655]\tlr: 1.000e-03, eta: 3:05:15, time: 0.534, data_time: 0.007, memory: 1887, loss_cls: 0.2652, loss_bbox: 0.0984, loss_bbox_rf: 0.1248, loss: 0.4883, grad_norm: 1.6846\n",
      "2021-05-14 16:58:35,167 - mmdet - INFO - Epoch [69][300/655]\tlr: 1.000e-03, eta: 3:04:48, time: 0.540, data_time: 0.008, memory: 1887, loss_cls: 0.2807, loss_bbox: 0.1086, loss_bbox_rf: 0.1382, loss: 0.5275, grad_norm: 1.7131\n",
      "2021-05-14 16:59:01,873 - mmdet - INFO - Epoch [69][350/655]\tlr: 1.000e-03, eta: 3:04:21, time: 0.534, data_time: 0.007, memory: 1887, loss_cls: 0.2542, loss_bbox: 0.0939, loss_bbox_rf: 0.1182, loss: 0.4663, grad_norm: 1.7823\n",
      "2021-05-14 16:59:28,693 - mmdet - INFO - Epoch [69][400/655]\tlr: 1.000e-03, eta: 3:03:54, time: 0.536, data_time: 0.007, memory: 1887, loss_cls: 0.2823, loss_bbox: 0.1069, loss_bbox_rf: 0.1360, loss: 0.5253, grad_norm: 1.7140\n",
      "2021-05-14 16:59:55,498 - mmdet - INFO - Epoch [69][450/655]\tlr: 1.000e-03, eta: 3:03:28, time: 0.536, data_time: 0.007, memory: 1887, loss_cls: 0.2598, loss_bbox: 0.0922, loss_bbox_rf: 0.1166, loss: 0.4687, grad_norm: 1.8775\n",
      "2021-05-14 17:00:22,292 - mmdet - INFO - Epoch [69][500/655]\tlr: 1.000e-03, eta: 3:03:01, time: 0.536, data_time: 0.007, memory: 1887, loss_cls: 0.2766, loss_bbox: 0.1074, loss_bbox_rf: 0.1365, loss: 0.5204, grad_norm: 1.7579\n",
      "2021-05-14 17:00:49,054 - mmdet - INFO - Epoch [69][550/655]\tlr: 1.000e-03, eta: 3:02:34, time: 0.535, data_time: 0.007, memory: 1887, loss_cls: 0.2771, loss_bbox: 0.1023, loss_bbox_rf: 0.1304, loss: 0.5098, grad_norm: 1.6825\n",
      "2021-05-14 17:01:15,782 - mmdet - INFO - Epoch [69][600/655]\tlr: 1.000e-03, eta: 3:02:07, time: 0.535, data_time: 0.007, memory: 1887, loss_cls: 0.2746, loss_bbox: 0.1008, loss_bbox_rf: 0.1279, loss: 0.5032, grad_norm: 1.8420\n",
      "2021-05-14 17:01:42,682 - mmdet - INFO - Epoch [69][650/655]\tlr: 1.000e-03, eta: 3:01:40, time: 0.538, data_time: 0.007, memory: 1887, loss_cls: 0.2947, loss_bbox: 0.1118, loss_bbox_rf: 0.1434, loss: 0.5498, grad_norm: 1.7853\n",
      "2021-05-14 17:01:45,464 - mmdet - INFO - Saving checkpoint at 69 epochs\n"
     ]
    },
    {
     "name": "stdout",
     "output_type": "stream",
     "text": [
      "[>>>>>>>>>>>>>>>>>>>>>>>>>>>>>] 655/655, 18.6 task/s, elapsed: 35s, ETA:     0s"
     ]
    },
    {
     "name": "stderr",
     "output_type": "stream",
     "text": [
      "2021-05-14 17:02:21,992 - mmdet - INFO - Evaluating bbox...\n"
     ]
    },
    {
     "name": "stdout",
     "output_type": "stream",
     "text": [
      "Loading and preparing results...\n",
      "DONE (t=0.13s)\n",
      "creating index...\n",
      "index created!\n",
      "Running per image evaluation...\n",
      "Evaluate annotation type *bbox*\n",
      "DONE (t=6.17s).\n",
      "Accumulating evaluation results...\n"
     ]
    },
    {
     "name": "stderr",
     "output_type": "stream",
     "text": [
      "2021-05-14 17:02:29,437 - mmdet - INFO - Epoch(val) [69][655]\tbbox_mAP: 0.2000, bbox_mAP_50: 0.2880, bbox_mAP_75: 0.2070, bbox_mAP_s: 0.0280, bbox_mAP_m: 0.1590, bbox_mAP_l: 0.4390, bbox_mAP_copypaste: 0.200 0.288 0.207 0.028 0.159 0.439\n"
     ]
    },
    {
     "name": "stdout",
     "output_type": "stream",
     "text": [
      "DONE (t=1.05s).\n",
      "Average Precision  (AP) @[ IoU=0.50:0.95 | area=   all | maxDets=100 ] = 0.200\n",
      "Average Precision  (AP) @[ IoU=0.50      | area=   all | maxDets=1000 ] = 0.288\n",
      "Average Precision  (AP) @[ IoU=0.75      | area=   all | maxDets=1000 ] = 0.207\n",
      "Average Precision  (AP) @[ IoU=0.50:0.95 | area= small | maxDets=1000 ] = 0.028\n",
      "Average Precision  (AP) @[ IoU=0.50:0.95 | area=medium | maxDets=1000 ] = 0.159\n",
      "Average Precision  (AP) @[ IoU=0.50:0.95 | area= large | maxDets=1000 ] = 0.439\n",
      "Average Recall     (AR) @[ IoU=0.50:0.95 | area=   all | maxDets=100 ] = 0.335\n",
      "Average Recall     (AR) @[ IoU=0.50:0.95 | area=   all | maxDets=300 ] = 0.335\n",
      "Average Recall     (AR) @[ IoU=0.50:0.95 | area=   all | maxDets=1000 ] = 0.335\n",
      "Average Recall     (AR) @[ IoU=0.50:0.95 | area= small | maxDets=1000 ] = 0.092\n",
      "Average Recall     (AR) @[ IoU=0.50:0.95 | area=medium | maxDets=1000 ] = 0.286\n",
      "Average Recall     (AR) @[ IoU=0.50:0.95 | area= large | maxDets=1000 ] = 0.621\n"
     ]
    },
    {
     "name": "stderr",
     "output_type": "stream",
     "text": [
      "2021-05-14 17:02:58,568 - mmdet - INFO - Epoch [70][50/655]\tlr: 1.000e-03, eta: 3:01:11, time: 0.582, data_time: 0.052, memory: 1887, loss_cls: 0.2808, loss_bbox: 0.1067, loss_bbox_rf: 0.1360, loss: 0.5234, grad_norm: 1.6517\n",
      "2021-05-14 17:03:25,451 - mmdet - INFO - Epoch [70][100/655]\tlr: 1.000e-03, eta: 3:00:44, time: 0.538, data_time: 0.008, memory: 1887, loss_cls: 0.2633, loss_bbox: 0.0978, loss_bbox_rf: 0.1241, loss: 0.4852, grad_norm: 1.7504\n",
      "2021-05-14 17:03:52,515 - mmdet - INFO - Epoch [70][150/655]\tlr: 1.000e-03, eta: 3:00:17, time: 0.541, data_time: 0.007, memory: 1887, loss_cls: 0.2595, loss_bbox: 0.0926, loss_bbox_rf: 0.1171, loss: 0.4693, grad_norm: 1.7083\n",
      "2021-05-14 17:04:19,441 - mmdet - INFO - Epoch [70][200/655]\tlr: 1.000e-03, eta: 2:59:50, time: 0.539, data_time: 0.007, memory: 1887, loss_cls: 0.2765, loss_bbox: 0.1094, loss_bbox_rf: 0.1390, loss: 0.5250, grad_norm: 1.6814\n",
      "2021-05-14 17:04:46,277 - mmdet - INFO - Epoch [70][250/655]\tlr: 1.000e-03, eta: 2:59:23, time: 0.537, data_time: 0.007, memory: 1887, loss_cls: 0.2603, loss_bbox: 0.0951, loss_bbox_rf: 0.1204, loss: 0.4758, grad_norm: 1.7620\n",
      "2021-05-14 17:05:13,164 - mmdet - INFO - Epoch [70][300/655]\tlr: 1.000e-03, eta: 2:58:57, time: 0.538, data_time: 0.007, memory: 1887, loss_cls: 0.2799, loss_bbox: 0.1076, loss_bbox_rf: 0.1375, loss: 0.5249, grad_norm: 1.6916\n",
      "2021-05-14 17:05:40,074 - mmdet - INFO - Epoch [70][350/655]\tlr: 1.000e-03, eta: 2:58:30, time: 0.538, data_time: 0.007, memory: 1887, loss_cls: 0.2600, loss_bbox: 0.0947, loss_bbox_rf: 0.1198, loss: 0.4745, grad_norm: 1.6933\n",
      "2021-05-14 17:06:07,005 - mmdet - INFO - Epoch [70][400/655]\tlr: 1.000e-03, eta: 2:58:03, time: 0.539, data_time: 0.007, memory: 1887, loss_cls: 0.2737, loss_bbox: 0.1027, loss_bbox_rf: 0.1304, loss: 0.5067, grad_norm: 1.6831\n",
      "2021-05-14 17:06:33,832 - mmdet - INFO - Epoch [70][450/655]\tlr: 1.000e-03, eta: 2:57:36, time: 0.537, data_time: 0.007, memory: 1887, loss_cls: 0.2809, loss_bbox: 0.1095, loss_bbox_rf: 0.1396, loss: 0.5301, grad_norm: 1.5704\n",
      "2021-05-14 17:07:00,703 - mmdet - INFO - Epoch [70][500/655]\tlr: 1.000e-03, eta: 2:57:09, time: 0.537, data_time: 0.007, memory: 1887, loss_cls: 0.2628, loss_bbox: 0.0974, loss_bbox_rf: 0.1236, loss: 0.4837, grad_norm: 1.6486\n",
      "2021-05-14 17:07:27,451 - mmdet - INFO - Epoch [70][550/655]\tlr: 1.000e-03, eta: 2:56:42, time: 0.535, data_time: 0.007, memory: 1887, loss_cls: 0.2798, loss_bbox: 0.1092, loss_bbox_rf: 0.1398, loss: 0.5289, grad_norm: 1.6320\n",
      "2021-05-14 17:07:54,203 - mmdet - INFO - Epoch [70][600/655]\tlr: 1.000e-03, eta: 2:56:16, time: 0.535, data_time: 0.007, memory: 1887, loss_cls: 0.2769, loss_bbox: 0.1024, loss_bbox_rf: 0.1302, loss: 0.5096, grad_norm: 1.7877\n",
      "2021-05-14 17:08:20,959 - mmdet - INFO - Epoch [70][650/655]\tlr: 1.000e-03, eta: 2:55:49, time: 0.535, data_time: 0.007, memory: 1887, loss_cls: 0.2710, loss_bbox: 0.1013, loss_bbox_rf: 0.1289, loss: 0.5012, grad_norm: 1.7473\n",
      "2021-05-14 17:08:23,709 - mmdet - INFO - Saving checkpoint at 70 epochs\n"
     ]
    },
    {
     "name": "stdout",
     "output_type": "stream",
     "text": [
      "[>>>>>>>>>>>>>>>>>>>>>>>>>>>>>] 655/655, 18.4 task/s, elapsed: 36s, ETA:     0s"
     ]
    },
    {
     "name": "stderr",
     "output_type": "stream",
     "text": [
      "2021-05-14 17:09:00,712 - mmdet - INFO - Evaluating bbox...\n"
     ]
    },
    {
     "name": "stdout",
     "output_type": "stream",
     "text": [
      "Loading and preparing results...\n",
      "DONE (t=0.70s)\n",
      "creating index...\n",
      "index created!\n",
      "Running per image evaluation...\n",
      "Evaluate annotation type *bbox*\n",
      "DONE (t=5.40s).\n",
      "Accumulating evaluation results...\n"
     ]
    },
    {
     "name": "stderr",
     "output_type": "stream",
     "text": [
      "2021-05-14 17:09:07,844 - mmdet - INFO - Epoch(val) [70][655]\tbbox_mAP: 0.1980, bbox_mAP_50: 0.2860, bbox_mAP_75: 0.2030, bbox_mAP_s: 0.0280, bbox_mAP_m: 0.1580, bbox_mAP_l: 0.4350, bbox_mAP_copypaste: 0.198 0.286 0.203 0.028 0.158 0.435\n"
     ]
    },
    {
     "name": "stdout",
     "output_type": "stream",
     "text": [
      "DONE (t=0.95s).\n",
      "Average Precision  (AP) @[ IoU=0.50:0.95 | area=   all | maxDets=100 ] = 0.198\n",
      "Average Precision  (AP) @[ IoU=0.50      | area=   all | maxDets=1000 ] = 0.286\n",
      "Average Precision  (AP) @[ IoU=0.75      | area=   all | maxDets=1000 ] = 0.203\n",
      "Average Precision  (AP) @[ IoU=0.50:0.95 | area= small | maxDets=1000 ] = 0.028\n",
      "Average Precision  (AP) @[ IoU=0.50:0.95 | area=medium | maxDets=1000 ] = 0.158\n",
      "Average Precision  (AP) @[ IoU=0.50:0.95 | area= large | maxDets=1000 ] = 0.435\n",
      "Average Recall     (AR) @[ IoU=0.50:0.95 | area=   all | maxDets=100 ] = 0.334\n",
      "Average Recall     (AR) @[ IoU=0.50:0.95 | area=   all | maxDets=300 ] = 0.334\n",
      "Average Recall     (AR) @[ IoU=0.50:0.95 | area=   all | maxDets=1000 ] = 0.334\n",
      "Average Recall     (AR) @[ IoU=0.50:0.95 | area= small | maxDets=1000 ] = 0.091\n",
      "Average Recall     (AR) @[ IoU=0.50:0.95 | area=medium | maxDets=1000 ] = 0.287\n",
      "Average Recall     (AR) @[ IoU=0.50:0.95 | area= large | maxDets=1000 ] = 0.617\n"
     ]
    },
    {
     "name": "stderr",
     "output_type": "stream",
     "text": [
      "2021-05-14 17:09:37,028 - mmdet - INFO - Epoch [71][50/655]\tlr: 1.000e-03, eta: 2:55:19, time: 0.583, data_time: 0.052, memory: 1887, loss_cls: 0.2724, loss_bbox: 0.1025, loss_bbox_rf: 0.1307, loss: 0.5056, grad_norm: 1.7209\n",
      "2021-05-14 17:10:04,012 - mmdet - INFO - Epoch [71][100/655]\tlr: 1.000e-03, eta: 2:54:52, time: 0.540, data_time: 0.007, memory: 1887, loss_cls: 0.2612, loss_bbox: 0.1001, loss_bbox_rf: 0.1270, loss: 0.4883, grad_norm: 1.5453\n",
      "2021-05-14 17:10:30,743 - mmdet - INFO - Epoch [71][150/655]\tlr: 1.000e-03, eta: 2:54:25, time: 0.535, data_time: 0.007, memory: 1887, loss_cls: 0.2679, loss_bbox: 0.0990, loss_bbox_rf: 0.1257, loss: 0.4926, grad_norm: 1.6211\n",
      "2021-05-14 17:10:57,938 - mmdet - INFO - Epoch [71][200/655]\tlr: 1.000e-03, eta: 2:53:59, time: 0.544, data_time: 0.008, memory: 1887, loss_cls: 0.2718, loss_bbox: 0.1003, loss_bbox_rf: 0.1271, loss: 0.4992, grad_norm: 1.7088\n",
      "2021-05-14 17:11:24,836 - mmdet - INFO - Epoch [71][250/655]\tlr: 1.000e-03, eta: 2:53:32, time: 0.538, data_time: 0.008, memory: 1887, loss_cls: 0.2681, loss_bbox: 0.1057, loss_bbox_rf: 0.1346, loss: 0.5085, grad_norm: 1.7197\n",
      "2021-05-14 17:11:51,680 - mmdet - INFO - Epoch [71][300/655]\tlr: 1.000e-03, eta: 2:53:05, time: 0.537, data_time: 0.007, memory: 1887, loss_cls: 0.2564, loss_bbox: 0.0978, loss_bbox_rf: 0.1245, loss: 0.4787, grad_norm: 1.6382\n",
      "2021-05-14 17:12:18,671 - mmdet - INFO - Epoch [71][350/655]\tlr: 1.000e-03, eta: 2:52:38, time: 0.540, data_time: 0.008, memory: 1887, loss_cls: 0.2841, loss_bbox: 0.1121, loss_bbox_rf: 0.1433, loss: 0.5395, grad_norm: 1.6037\n",
      "2021-05-14 17:12:45,650 - mmdet - INFO - Epoch [71][400/655]\tlr: 1.000e-03, eta: 2:52:11, time: 0.540, data_time: 0.007, memory: 1887, loss_cls: 0.2608, loss_bbox: 0.0992, loss_bbox_rf: 0.1260, loss: 0.4860, grad_norm: 1.6953\n",
      "2021-05-14 17:13:12,477 - mmdet - INFO - Epoch [71][450/655]\tlr: 1.000e-03, eta: 2:51:45, time: 0.537, data_time: 0.007, memory: 1887, loss_cls: 0.2640, loss_bbox: 0.0952, loss_bbox_rf: 0.1212, loss: 0.4803, grad_norm: 1.7120\n",
      "2021-05-14 17:13:39,800 - mmdet - INFO - Epoch [71][500/655]\tlr: 1.000e-03, eta: 2:51:18, time: 0.546, data_time: 0.008, memory: 1887, loss_cls: 0.2714, loss_bbox: 0.1035, loss_bbox_rf: 0.1310, loss: 0.5060, grad_norm: 1.7291\n",
      "2021-05-14 17:14:06,673 - mmdet - INFO - Epoch [71][550/655]\tlr: 1.000e-03, eta: 2:50:51, time: 0.537, data_time: 0.007, memory: 1887, loss_cls: 0.2707, loss_bbox: 0.1022, loss_bbox_rf: 0.1307, loss: 0.5036, grad_norm: 1.6460\n",
      "2021-05-14 17:14:33,572 - mmdet - INFO - Epoch [71][600/655]\tlr: 1.000e-03, eta: 2:50:24, time: 0.538, data_time: 0.007, memory: 1887, loss_cls: 0.2681, loss_bbox: 0.0997, loss_bbox_rf: 0.1266, loss: 0.4944, grad_norm: 1.7217\n",
      "2021-05-14 17:15:00,490 - mmdet - INFO - Epoch [71][650/655]\tlr: 1.000e-03, eta: 2:49:58, time: 0.538, data_time: 0.007, memory: 1887, loss_cls: 0.2643, loss_bbox: 0.0974, loss_bbox_rf: 0.1239, loss: 0.4856, grad_norm: 1.6030\n",
      "2021-05-14 17:15:03,269 - mmdet - INFO - Saving checkpoint at 71 epochs\n"
     ]
    },
    {
     "name": "stdout",
     "output_type": "stream",
     "text": [
      "[>>>>>>>>>>>>>>>>>>>>>>>>>>>>>] 655/655, 18.7 task/s, elapsed: 35s, ETA:     0s"
     ]
    },
    {
     "name": "stderr",
     "output_type": "stream",
     "text": [
      "2021-05-14 17:15:39,691 - mmdet - INFO - Evaluating bbox...\n"
     ]
    },
    {
     "name": "stdout",
     "output_type": "stream",
     "text": [
      "Loading and preparing results...\n",
      "DONE (t=0.67s)\n",
      "creating index...\n",
      "index created!\n",
      "Running per image evaluation...\n",
      "Evaluate annotation type *bbox*\n",
      "DONE (t=5.52s).\n",
      "Accumulating evaluation results...\n"
     ]
    },
    {
     "name": "stderr",
     "output_type": "stream",
     "text": [
      "2021-05-14 17:15:46,971 - mmdet - INFO - Epoch(val) [71][655]\tbbox_mAP: 0.1980, bbox_mAP_50: 0.2850, bbox_mAP_75: 0.2050, bbox_mAP_s: 0.0280, bbox_mAP_m: 0.1580, bbox_mAP_l: 0.4370, bbox_mAP_copypaste: 0.198 0.285 0.205 0.028 0.158 0.437\n"
     ]
    },
    {
     "name": "stdout",
     "output_type": "stream",
     "text": [
      "DONE (t=1.00s).\n",
      "Average Precision  (AP) @[ IoU=0.50:0.95 | area=   all | maxDets=100 ] = 0.198\n",
      "Average Precision  (AP) @[ IoU=0.50      | area=   all | maxDets=1000 ] = 0.285\n",
      "Average Precision  (AP) @[ IoU=0.75      | area=   all | maxDets=1000 ] = 0.205\n",
      "Average Precision  (AP) @[ IoU=0.50:0.95 | area= small | maxDets=1000 ] = 0.028\n",
      "Average Precision  (AP) @[ IoU=0.50:0.95 | area=medium | maxDets=1000 ] = 0.158\n",
      "Average Precision  (AP) @[ IoU=0.50:0.95 | area= large | maxDets=1000 ] = 0.437\n",
      "Average Recall     (AR) @[ IoU=0.50:0.95 | area=   all | maxDets=100 ] = 0.333\n",
      "Average Recall     (AR) @[ IoU=0.50:0.95 | area=   all | maxDets=300 ] = 0.333\n",
      "Average Recall     (AR) @[ IoU=0.50:0.95 | area=   all | maxDets=1000 ] = 0.333\n",
      "Average Recall     (AR) @[ IoU=0.50:0.95 | area= small | maxDets=1000 ] = 0.089\n",
      "Average Recall     (AR) @[ IoU=0.50:0.95 | area=medium | maxDets=1000 ] = 0.285\n",
      "Average Recall     (AR) @[ IoU=0.50:0.95 | area= large | maxDets=1000 ] = 0.618\n"
     ]
    },
    {
     "name": "stderr",
     "output_type": "stream",
     "text": [
      "2021-05-14 17:16:16,224 - mmdet - INFO - Epoch [72][50/655]\tlr: 1.000e-03, eta: 2:49:28, time: 0.585, data_time: 0.052, memory: 1887, loss_cls: 0.2609, loss_bbox: 0.0967, loss_bbox_rf: 0.1228, loss: 0.4803, grad_norm: 1.6634\n",
      "2021-05-14 17:16:43,141 - mmdet - INFO - Epoch [72][100/655]\tlr: 1.000e-03, eta: 2:49:01, time: 0.538, data_time: 0.007, memory: 1887, loss_cls: 0.2540, loss_bbox: 0.0935, loss_bbox_rf: 0.1180, loss: 0.4656, grad_norm: 1.5441\n",
      "2021-05-14 17:17:09,978 - mmdet - INFO - Epoch [72][150/655]\tlr: 1.000e-03, eta: 2:48:34, time: 0.537, data_time: 0.007, memory: 1887, loss_cls: 0.2523, loss_bbox: 0.0942, loss_bbox_rf: 0.1192, loss: 0.4657, grad_norm: 1.6097\n",
      "2021-05-14 17:17:36,903 - mmdet - INFO - Epoch [72][200/655]\tlr: 1.000e-03, eta: 2:48:07, time: 0.538, data_time: 0.007, memory: 1887, loss_cls: 0.2660, loss_bbox: 0.1049, loss_bbox_rf: 0.1342, loss: 0.5051, grad_norm: 1.6307\n",
      "2021-05-14 17:18:03,946 - mmdet - INFO - Epoch [72][250/655]\tlr: 1.000e-03, eta: 2:47:41, time: 0.541, data_time: 0.007, memory: 1887, loss_cls: 0.2507, loss_bbox: 0.0920, loss_bbox_rf: 0.1165, loss: 0.4593, grad_norm: 1.6241\n",
      "2021-05-14 17:18:30,837 - mmdet - INFO - Epoch [72][300/655]\tlr: 1.000e-03, eta: 2:47:14, time: 0.538, data_time: 0.007, memory: 1887, loss_cls: 0.2609, loss_bbox: 0.0974, loss_bbox_rf: 0.1237, loss: 0.4820, grad_norm: 1.6757\n",
      "2021-05-14 17:18:57,675 - mmdet - INFO - Epoch [72][350/655]\tlr: 1.000e-03, eta: 2:46:47, time: 0.537, data_time: 0.007, memory: 1887, loss_cls: 0.2481, loss_bbox: 0.0930, loss_bbox_rf: 0.1178, loss: 0.4589, grad_norm: 1.6436\n",
      "2021-05-14 17:19:24,714 - mmdet - INFO - Epoch [72][400/655]\tlr: 1.000e-03, eta: 2:46:20, time: 0.541, data_time: 0.007, memory: 1887, loss_cls: 0.2621, loss_bbox: 0.0989, loss_bbox_rf: 0.1258, loss: 0.4867, grad_norm: 1.6119\n",
      "2021-05-14 17:19:51,423 - mmdet - INFO - Epoch [72][450/655]\tlr: 1.000e-03, eta: 2:45:53, time: 0.534, data_time: 0.007, memory: 1887, loss_cls: 0.2505, loss_bbox: 0.0935, loss_bbox_rf: 0.1178, loss: 0.4618, grad_norm: 1.7610\n",
      "2021-05-14 17:20:18,164 - mmdet - INFO - Epoch [72][500/655]\tlr: 1.000e-03, eta: 2:45:27, time: 0.535, data_time: 0.007, memory: 1887, loss_cls: 0.2617, loss_bbox: 0.0955, loss_bbox_rf: 0.1210, loss: 0.4781, grad_norm: 1.6541\n",
      "2021-05-14 17:20:45,160 - mmdet - INFO - Epoch [72][550/655]\tlr: 1.000e-03, eta: 2:45:00, time: 0.540, data_time: 0.007, memory: 1887, loss_cls: 0.2691, loss_bbox: 0.1029, loss_bbox_rf: 0.1313, loss: 0.5033, grad_norm: 1.6251\n",
      "2021-05-14 17:21:13,124 - mmdet - INFO - Epoch [72][600/655]\tlr: 1.000e-03, eta: 2:44:33, time: 0.559, data_time: 0.008, memory: 1887, loss_cls: 0.2714, loss_bbox: 0.1032, loss_bbox_rf: 0.1317, loss: 0.5063, grad_norm: 1.6290\n",
      "2021-05-14 17:21:40,083 - mmdet - INFO - Epoch [72][650/655]\tlr: 1.000e-03, eta: 2:44:07, time: 0.539, data_time: 0.007, memory: 1887, loss_cls: 0.2726, loss_bbox: 0.1059, loss_bbox_rf: 0.1353, loss: 0.5137, grad_norm: 1.6693\n",
      "2021-05-14 17:21:42,886 - mmdet - INFO - Saving checkpoint at 72 epochs\n"
     ]
    },
    {
     "name": "stdout",
     "output_type": "stream",
     "text": [
      "[>>>>>>>>>>>>>>>>>>>>>>>>>>>>>] 655/655, 18.5 task/s, elapsed: 35s, ETA:     0s"
     ]
    },
    {
     "name": "stderr",
     "output_type": "stream",
     "text": [
      "2021-05-14 17:22:20,080 - mmdet - INFO - Evaluating bbox...\n"
     ]
    },
    {
     "name": "stdout",
     "output_type": "stream",
     "text": [
      "Loading and preparing results...\n",
      "DONE (t=0.12s)\n",
      "creating index...\n",
      "index created!\n",
      "Running per image evaluation...\n",
      "Evaluate annotation type *bbox*\n",
      "DONE (t=5.89s).\n",
      "Accumulating evaluation results...\n"
     ]
    },
    {
     "name": "stderr",
     "output_type": "stream",
     "text": [
      "2021-05-14 17:22:27,186 - mmdet - INFO - Epoch(val) [72][655]\tbbox_mAP: 0.1970, bbox_mAP_50: 0.2840, bbox_mAP_75: 0.2040, bbox_mAP_s: 0.0270, bbox_mAP_m: 0.1590, bbox_mAP_l: 0.4370, bbox_mAP_copypaste: 0.197 0.284 0.204 0.027 0.159 0.437\n"
     ]
    },
    {
     "name": "stdout",
     "output_type": "stream",
     "text": [
      "DONE (t=1.00s).\n",
      "Average Precision  (AP) @[ IoU=0.50:0.95 | area=   all | maxDets=100 ] = 0.197\n",
      "Average Precision  (AP) @[ IoU=0.50      | area=   all | maxDets=1000 ] = 0.284\n",
      "Average Precision  (AP) @[ IoU=0.75      | area=   all | maxDets=1000 ] = 0.204\n",
      "Average Precision  (AP) @[ IoU=0.50:0.95 | area= small | maxDets=1000 ] = 0.027\n",
      "Average Precision  (AP) @[ IoU=0.50:0.95 | area=medium | maxDets=1000 ] = 0.159\n",
      "Average Precision  (AP) @[ IoU=0.50:0.95 | area= large | maxDets=1000 ] = 0.437\n",
      "Average Recall     (AR) @[ IoU=0.50:0.95 | area=   all | maxDets=100 ] = 0.329\n",
      "Average Recall     (AR) @[ IoU=0.50:0.95 | area=   all | maxDets=300 ] = 0.329\n",
      "Average Recall     (AR) @[ IoU=0.50:0.95 | area=   all | maxDets=1000 ] = 0.329\n",
      "Average Recall     (AR) @[ IoU=0.50:0.95 | area= small | maxDets=1000 ] = 0.088\n",
      "Average Recall     (AR) @[ IoU=0.50:0.95 | area=medium | maxDets=1000 ] = 0.279\n",
      "Average Recall     (AR) @[ IoU=0.50:0.95 | area= large | maxDets=1000 ] = 0.615\n"
     ]
    },
    {
     "name": "stderr",
     "output_type": "stream",
     "text": [
      "2021-05-14 17:22:56,391 - mmdet - INFO - Epoch [73][50/655]\tlr: 1.000e-03, eta: 2:43:37, time: 0.584, data_time: 0.052, memory: 1887, loss_cls: 0.2591, loss_bbox: 0.0988, loss_bbox_rf: 0.1258, loss: 0.4837, grad_norm: 1.5636\n",
      "2021-05-14 17:23:23,074 - mmdet - INFO - Epoch [73][100/655]\tlr: 1.000e-03, eta: 2:43:10, time: 0.534, data_time: 0.007, memory: 1887, loss_cls: 0.2503, loss_bbox: 0.0948, loss_bbox_rf: 0.1201, loss: 0.4651, grad_norm: 1.6244\n",
      "2021-05-14 17:23:49,997 - mmdet - INFO - Epoch [73][150/655]\tlr: 1.000e-03, eta: 2:42:43, time: 0.538, data_time: 0.008, memory: 1887, loss_cls: 0.2532, loss_bbox: 0.0948, loss_bbox_rf: 0.1207, loss: 0.4686, grad_norm: 1.4748\n",
      "2021-05-14 17:24:16,736 - mmdet - INFO - Epoch [73][200/655]\tlr: 1.000e-03, eta: 2:42:16, time: 0.535, data_time: 0.007, memory: 1887, loss_cls: 0.2514, loss_bbox: 0.0950, loss_bbox_rf: 0.1206, loss: 0.4670, grad_norm: 1.5865\n",
      "2021-05-14 17:24:43,406 - mmdet - INFO - Epoch [73][250/655]\tlr: 1.000e-03, eta: 2:41:49, time: 0.533, data_time: 0.007, memory: 1887, loss_cls: 0.2629, loss_bbox: 0.1019, loss_bbox_rf: 0.1298, loss: 0.4945, grad_norm: 1.7042\n",
      "2021-05-14 17:25:10,350 - mmdet - INFO - Epoch [73][300/655]\tlr: 1.000e-03, eta: 2:41:23, time: 0.539, data_time: 0.007, memory: 1887, loss_cls: 0.2633, loss_bbox: 0.1010, loss_bbox_rf: 0.1282, loss: 0.4924, grad_norm: 1.7088\n",
      "2021-05-14 17:25:36,983 - mmdet - INFO - Epoch [73][350/655]\tlr: 1.000e-03, eta: 2:40:56, time: 0.533, data_time: 0.007, memory: 1887, loss_cls: 0.2574, loss_bbox: 0.0979, loss_bbox_rf: 0.1250, loss: 0.4802, grad_norm: 1.6297\n",
      "2021-05-14 17:26:03,748 - mmdet - INFO - Epoch [73][400/655]\tlr: 1.000e-03, eta: 2:40:29, time: 0.535, data_time: 0.007, memory: 1887, loss_cls: 0.2631, loss_bbox: 0.1004, loss_bbox_rf: 0.1275, loss: 0.4910, grad_norm: 1.5822\n",
      "2021-05-14 17:26:30,488 - mmdet - INFO - Epoch [73][450/655]\tlr: 1.000e-03, eta: 2:40:02, time: 0.535, data_time: 0.007, memory: 1887, loss_cls: 0.2539, loss_bbox: 0.0958, loss_bbox_rf: 0.1214, loss: 0.4711, grad_norm: 1.6414\n",
      "2021-05-14 17:26:57,256 - mmdet - INFO - Epoch [73][500/655]\tlr: 1.000e-03, eta: 2:39:35, time: 0.535, data_time: 0.007, memory: 1887, loss_cls: 0.2489, loss_bbox: 0.0938, loss_bbox_rf: 0.1189, loss: 0.4616, grad_norm: 1.6275\n",
      "2021-05-14 17:27:24,097 - mmdet - INFO - Epoch [73][550/655]\tlr: 1.000e-03, eta: 2:39:08, time: 0.537, data_time: 0.007, memory: 1887, loss_cls: 0.2518, loss_bbox: 0.0940, loss_bbox_rf: 0.1187, loss: 0.4645, grad_norm: 1.6546\n",
      "2021-05-14 17:27:50,914 - mmdet - INFO - Epoch [73][600/655]\tlr: 1.000e-03, eta: 2:38:41, time: 0.536, data_time: 0.007, memory: 1887, loss_cls: 0.2554, loss_bbox: 0.0939, loss_bbox_rf: 0.1188, loss: 0.4681, grad_norm: 1.7347\n",
      "2021-05-14 17:28:17,698 - mmdet - INFO - Epoch [73][650/655]\tlr: 1.000e-03, eta: 2:38:15, time: 0.536, data_time: 0.007, memory: 1887, loss_cls: 0.2532, loss_bbox: 0.0926, loss_bbox_rf: 0.1173, loss: 0.4631, grad_norm: 1.6879\n",
      "2021-05-14 17:28:20,460 - mmdet - INFO - Saving checkpoint at 73 epochs\n"
     ]
    },
    {
     "name": "stdout",
     "output_type": "stream",
     "text": [
      "[>>>>>>>>>>>>>>>>>>>>>>>>>>>>>] 655/655, 18.6 task/s, elapsed: 35s, ETA:     0s"
     ]
    },
    {
     "name": "stderr",
     "output_type": "stream",
     "text": [
      "2021-05-14 17:28:56,934 - mmdet - INFO - Evaluating bbox...\n"
     ]
    },
    {
     "name": "stdout",
     "output_type": "stream",
     "text": [
      "Loading and preparing results...\n",
      "DONE (t=0.13s)\n",
      "creating index...\n",
      "index created!\n",
      "Running per image evaluation...\n",
      "Evaluate annotation type *bbox*\n",
      "DONE (t=5.94s).\n",
      "Accumulating evaluation results...\n"
     ]
    },
    {
     "name": "stderr",
     "output_type": "stream",
     "text": [
      "2021-05-14 17:29:04,062 - mmdet - INFO - Epoch(val) [73][655]\tbbox_mAP: 0.1970, bbox_mAP_50: 0.2840, bbox_mAP_75: 0.2040, bbox_mAP_s: 0.0260, bbox_mAP_m: 0.1590, bbox_mAP_l: 0.4350, bbox_mAP_copypaste: 0.197 0.284 0.204 0.026 0.159 0.435\n"
     ]
    },
    {
     "name": "stdout",
     "output_type": "stream",
     "text": [
      "DONE (t=0.96s).\n",
      "Average Precision  (AP) @[ IoU=0.50:0.95 | area=   all | maxDets=100 ] = 0.197\n",
      "Average Precision  (AP) @[ IoU=0.50      | area=   all | maxDets=1000 ] = 0.284\n",
      "Average Precision  (AP) @[ IoU=0.75      | area=   all | maxDets=1000 ] = 0.204\n",
      "Average Precision  (AP) @[ IoU=0.50:0.95 | area= small | maxDets=1000 ] = 0.026\n",
      "Average Precision  (AP) @[ IoU=0.50:0.95 | area=medium | maxDets=1000 ] = 0.159\n",
      "Average Precision  (AP) @[ IoU=0.50:0.95 | area= large | maxDets=1000 ] = 0.435\n",
      "Average Recall     (AR) @[ IoU=0.50:0.95 | area=   all | maxDets=100 ] = 0.327\n",
      "Average Recall     (AR) @[ IoU=0.50:0.95 | area=   all | maxDets=300 ] = 0.327\n",
      "Average Recall     (AR) @[ IoU=0.50:0.95 | area=   all | maxDets=1000 ] = 0.327\n",
      "Average Recall     (AR) @[ IoU=0.50:0.95 | area= small | maxDets=1000 ] = 0.088\n",
      "Average Recall     (AR) @[ IoU=0.50:0.95 | area=medium | maxDets=1000 ] = 0.278\n",
      "Average Recall     (AR) @[ IoU=0.50:0.95 | area= large | maxDets=1000 ] = 0.609\n"
     ]
    },
    {
     "name": "stderr",
     "output_type": "stream",
     "text": [
      "2021-05-14 17:29:33,524 - mmdet - INFO - Epoch [74][50/655]\tlr: 1.000e-03, eta: 2:37:45, time: 0.589, data_time: 0.052, memory: 1887, loss_cls: 0.2504, loss_bbox: 0.0934, loss_bbox_rf: 0.1185, loss: 0.4623, grad_norm: 1.5881\n",
      "2021-05-14 17:30:00,220 - mmdet - INFO - Epoch [74][100/655]\tlr: 1.000e-03, eta: 2:37:18, time: 0.534, data_time: 0.007, memory: 1887, loss_cls: 0.2461, loss_bbox: 0.0930, loss_bbox_rf: 0.1174, loss: 0.4565, grad_norm: 1.6516\n",
      "2021-05-14 17:30:27,114 - mmdet - INFO - Epoch [74][150/655]\tlr: 1.000e-03, eta: 2:36:51, time: 0.538, data_time: 0.007, memory: 1887, loss_cls: 0.2534, loss_bbox: 0.0963, loss_bbox_rf: 0.1225, loss: 0.4721, grad_norm: 1.6983\n",
      "2021-05-14 17:30:53,980 - mmdet - INFO - Epoch [74][200/655]\tlr: 1.000e-03, eta: 2:36:24, time: 0.537, data_time: 0.007, memory: 1887, loss_cls: 0.2562, loss_bbox: 0.0962, loss_bbox_rf: 0.1221, loss: 0.4745, grad_norm: 1.5680\n",
      "2021-05-14 17:31:20,865 - mmdet - INFO - Epoch [74][250/655]\tlr: 1.000e-03, eta: 2:35:58, time: 0.538, data_time: 0.007, memory: 1887, loss_cls: 0.2540, loss_bbox: 0.0958, loss_bbox_rf: 0.1221, loss: 0.4719, grad_norm: 1.5284\n",
      "2021-05-14 17:31:47,853 - mmdet - INFO - Epoch [74][300/655]\tlr: 1.000e-03, eta: 2:35:31, time: 0.540, data_time: 0.007, memory: 1887, loss_cls: 0.2461, loss_bbox: 0.0906, loss_bbox_rf: 0.1156, loss: 0.4522, grad_norm: 1.5089\n",
      "2021-05-14 17:32:14,808 - mmdet - INFO - Epoch [74][350/655]\tlr: 1.000e-03, eta: 2:35:04, time: 0.539, data_time: 0.007, memory: 1887, loss_cls: 0.2558, loss_bbox: 0.0980, loss_bbox_rf: 0.1248, loss: 0.4786, grad_norm: 1.6158\n",
      "2021-05-14 17:32:41,621 - mmdet - INFO - Epoch [74][400/655]\tlr: 1.000e-03, eta: 2:34:37, time: 0.536, data_time: 0.007, memory: 1887, loss_cls: 0.2541, loss_bbox: 0.0963, loss_bbox_rf: 0.1228, loss: 0.4732, grad_norm: 1.5618\n",
      "2021-05-14 17:33:08,479 - mmdet - INFO - Epoch [74][450/655]\tlr: 1.000e-03, eta: 2:34:10, time: 0.537, data_time: 0.007, memory: 1887, loss_cls: 0.2515, loss_bbox: 0.0952, loss_bbox_rf: 0.1204, loss: 0.4671, grad_norm: 1.7179\n",
      "2021-05-14 17:33:35,613 - mmdet - INFO - Epoch [74][500/655]\tlr: 1.000e-03, eta: 2:33:44, time: 0.543, data_time: 0.007, memory: 1887, loss_cls: 0.2473, loss_bbox: 0.0892, loss_bbox_rf: 0.1131, loss: 0.4495, grad_norm: 1.6360\n",
      "2021-05-14 17:34:02,342 - mmdet - INFO - Epoch [74][550/655]\tlr: 1.000e-03, eta: 2:33:17, time: 0.535, data_time: 0.007, memory: 1887, loss_cls: 0.2534, loss_bbox: 0.0942, loss_bbox_rf: 0.1199, loss: 0.4676, grad_norm: 1.6415\n",
      "2021-05-14 17:34:29,185 - mmdet - INFO - Epoch [74][600/655]\tlr: 1.000e-03, eta: 2:32:50, time: 0.537, data_time: 0.007, memory: 1887, loss_cls: 0.2702, loss_bbox: 0.1091, loss_bbox_rf: 0.1402, loss: 0.5196, grad_norm: 1.6552\n",
      "2021-05-14 17:34:56,182 - mmdet - INFO - Epoch [74][650/655]\tlr: 1.000e-03, eta: 2:32:23, time: 0.540, data_time: 0.007, memory: 1887, loss_cls: 0.2428, loss_bbox: 0.0918, loss_bbox_rf: 0.1161, loss: 0.4507, grad_norm: 1.6616\n",
      "2021-05-14 17:34:58,954 - mmdet - INFO - Saving checkpoint at 74 epochs\n"
     ]
    },
    {
     "name": "stdout",
     "output_type": "stream",
     "text": [
      "[>>>>>>>>>>>>>>>>>>>>>>>>>>>>>] 655/655, 18.4 task/s, elapsed: 36s, ETA:     0s"
     ]
    },
    {
     "name": "stderr",
     "output_type": "stream",
     "text": [
      "2021-05-14 17:35:35,836 - mmdet - INFO - Evaluating bbox...\n"
     ]
    },
    {
     "name": "stdout",
     "output_type": "stream",
     "text": [
      "Loading and preparing results...\n",
      "DONE (t=0.67s)\n",
      "creating index...\n",
      "index created!\n",
      "Running per image evaluation...\n",
      "Evaluate annotation type *bbox*\n",
      "DONE (t=5.16s).\n",
      "Accumulating evaluation results...\n"
     ]
    },
    {
     "name": "stderr",
     "output_type": "stream",
     "text": [
      "2021-05-14 17:35:42,647 - mmdet - INFO - Epoch(val) [74][655]\tbbox_mAP: 0.1960, bbox_mAP_50: 0.2830, bbox_mAP_75: 0.2010, bbox_mAP_s: 0.0260, bbox_mAP_m: 0.1550, bbox_mAP_l: 0.4350, bbox_mAP_copypaste: 0.196 0.283 0.201 0.026 0.155 0.435\n"
     ]
    },
    {
     "name": "stdout",
     "output_type": "stream",
     "text": [
      "DONE (t=0.89s).\n",
      "Average Precision  (AP) @[ IoU=0.50:0.95 | area=   all | maxDets=100 ] = 0.196\n",
      "Average Precision  (AP) @[ IoU=0.50      | area=   all | maxDets=1000 ] = 0.283\n",
      "Average Precision  (AP) @[ IoU=0.75      | area=   all | maxDets=1000 ] = 0.201\n",
      "Average Precision  (AP) @[ IoU=0.50:0.95 | area= small | maxDets=1000 ] = 0.026\n",
      "Average Precision  (AP) @[ IoU=0.50:0.95 | area=medium | maxDets=1000 ] = 0.155\n",
      "Average Precision  (AP) @[ IoU=0.50:0.95 | area= large | maxDets=1000 ] = 0.435\n",
      "Average Recall     (AR) @[ IoU=0.50:0.95 | area=   all | maxDets=100 ] = 0.326\n",
      "Average Recall     (AR) @[ IoU=0.50:0.95 | area=   all | maxDets=300 ] = 0.326\n",
      "Average Recall     (AR) @[ IoU=0.50:0.95 | area=   all | maxDets=1000 ] = 0.326\n",
      "Average Recall     (AR) @[ IoU=0.50:0.95 | area= small | maxDets=1000 ] = 0.087\n",
      "Average Recall     (AR) @[ IoU=0.50:0.95 | area=medium | maxDets=1000 ] = 0.276\n",
      "Average Recall     (AR) @[ IoU=0.50:0.95 | area= large | maxDets=1000 ] = 0.609\n"
     ]
    },
    {
     "name": "stderr",
     "output_type": "stream",
     "text": [
      "2021-05-14 17:36:11,959 - mmdet - INFO - Epoch [75][50/655]\tlr: 1.000e-03, eta: 2:31:54, time: 0.586, data_time: 0.053, memory: 1887, loss_cls: 0.2530, loss_bbox: 0.0980, loss_bbox_rf: 0.1246, loss: 0.4755, grad_norm: 1.5034\n",
      "2021-05-14 17:36:38,834 - mmdet - INFO - Epoch [75][100/655]\tlr: 1.000e-03, eta: 2:31:27, time: 0.537, data_time: 0.007, memory: 1887, loss_cls: 0.2405, loss_bbox: 0.0882, loss_bbox_rf: 0.1116, loss: 0.4404, grad_norm: 1.5912\n",
      "2021-05-14 17:37:05,595 - mmdet - INFO - Epoch [75][150/655]\tlr: 1.000e-03, eta: 2:31:00, time: 0.535, data_time: 0.007, memory: 1887, loss_cls: 0.2496, loss_bbox: 0.0967, loss_bbox_rf: 0.1229, loss: 0.4692, grad_norm: 1.5966\n",
      "2021-05-14 17:37:32,396 - mmdet - INFO - Epoch [75][200/655]\tlr: 1.000e-03, eta: 2:30:33, time: 0.536, data_time: 0.007, memory: 1887, loss_cls: 0.2577, loss_bbox: 0.0989, loss_bbox_rf: 0.1266, loss: 0.4832, grad_norm: 1.5764\n",
      "2021-05-14 17:37:59,198 - mmdet - INFO - Epoch [75][250/655]\tlr: 1.000e-03, eta: 2:30:06, time: 0.536, data_time: 0.007, memory: 1887, loss_cls: 0.2404, loss_bbox: 0.0845, loss_bbox_rf: 0.1071, loss: 0.4320, grad_norm: 1.7344\n",
      "2021-05-14 17:38:26,060 - mmdet - INFO - Epoch [75][300/655]\tlr: 1.000e-03, eta: 2:29:39, time: 0.537, data_time: 0.007, memory: 1887, loss_cls: 0.2360, loss_bbox: 0.0907, loss_bbox_rf: 0.1146, loss: 0.4413, grad_norm: 1.6602\n",
      "2021-05-14 17:38:52,900 - mmdet - INFO - Epoch [75][350/655]\tlr: 1.000e-03, eta: 2:29:13, time: 0.537, data_time: 0.007, memory: 1887, loss_cls: 0.2483, loss_bbox: 0.0940, loss_bbox_rf: 0.1200, loss: 0.4623, grad_norm: 1.5701\n",
      "2021-05-14 17:39:19,699 - mmdet - INFO - Epoch [75][400/655]\tlr: 1.000e-03, eta: 2:28:46, time: 0.536, data_time: 0.007, memory: 1887, loss_cls: 0.2343, loss_bbox: 0.0872, loss_bbox_rf: 0.1105, loss: 0.4320, grad_norm: 1.5542\n",
      "2021-05-14 17:39:46,499 - mmdet - INFO - Epoch [75][450/655]\tlr: 1.000e-03, eta: 2:28:19, time: 0.536, data_time: 0.007, memory: 1887, loss_cls: 0.2586, loss_bbox: 0.0993, loss_bbox_rf: 0.1262, loss: 0.4841, grad_norm: 1.5424\n",
      "2021-05-14 17:40:13,312 - mmdet - INFO - Epoch [75][500/655]\tlr: 1.000e-03, eta: 2:27:52, time: 0.536, data_time: 0.007, memory: 1887, loss_cls: 0.2536, loss_bbox: 0.0965, loss_bbox_rf: 0.1229, loss: 0.4730, grad_norm: 1.6121\n",
      "2021-05-14 17:40:40,128 - mmdet - INFO - Epoch [75][550/655]\tlr: 1.000e-03, eta: 2:27:25, time: 0.536, data_time: 0.007, memory: 1887, loss_cls: 0.2530, loss_bbox: 0.0927, loss_bbox_rf: 0.1177, loss: 0.4634, grad_norm: 1.6142\n",
      "2021-05-14 17:41:06,882 - mmdet - INFO - Epoch [75][600/655]\tlr: 1.000e-03, eta: 2:26:58, time: 0.535, data_time: 0.007, memory: 1887, loss_cls: 0.2341, loss_bbox: 0.0850, loss_bbox_rf: 0.1067, loss: 0.4258, grad_norm: 1.6256\n",
      "2021-05-14 17:41:33,646 - mmdet - INFO - Epoch [75][650/655]\tlr: 1.000e-03, eta: 2:26:31, time: 0.535, data_time: 0.007, memory: 1887, loss_cls: 0.2561, loss_bbox: 0.0980, loss_bbox_rf: 0.1237, loss: 0.4778, grad_norm: 1.7053\n",
      "2021-05-14 17:41:36,388 - mmdet - INFO - Saving checkpoint at 75 epochs\n"
     ]
    },
    {
     "name": "stdout",
     "output_type": "stream",
     "text": [
      "[>>>>>>>>>>>>>>>>>>>>>>>>>>>>>] 655/655, 18.6 task/s, elapsed: 35s, ETA:     0s"
     ]
    },
    {
     "name": "stderr",
     "output_type": "stream",
     "text": [
      "2021-05-14 17:42:12,882 - mmdet - INFO - Evaluating bbox...\n"
     ]
    },
    {
     "name": "stdout",
     "output_type": "stream",
     "text": [
      "Loading and preparing results...\n",
      "DONE (t=0.67s)\n",
      "creating index...\n",
      "index created!\n",
      "Running per image evaluation...\n",
      "Evaluate annotation type *bbox*\n",
      "DONE (t=4.98s).\n",
      "Accumulating evaluation results...\n"
     ]
    },
    {
     "name": "stderr",
     "output_type": "stream",
     "text": [
      "2021-05-14 17:42:19,622 - mmdet - INFO - Epoch(val) [75][655]\tbbox_mAP: 0.1960, bbox_mAP_50: 0.2830, bbox_mAP_75: 0.2020, bbox_mAP_s: 0.0270, bbox_mAP_m: 0.1560, bbox_mAP_l: 0.4340, bbox_mAP_copypaste: 0.196 0.283 0.202 0.027 0.156 0.434\n"
     ]
    },
    {
     "name": "stdout",
     "output_type": "stream",
     "text": [
      "DONE (t=1.00s).\n",
      "Average Precision  (AP) @[ IoU=0.50:0.95 | area=   all | maxDets=100 ] = 0.196\n",
      "Average Precision  (AP) @[ IoU=0.50      | area=   all | maxDets=1000 ] = 0.283\n",
      "Average Precision  (AP) @[ IoU=0.75      | area=   all | maxDets=1000 ] = 0.202\n",
      "Average Precision  (AP) @[ IoU=0.50:0.95 | area= small | maxDets=1000 ] = 0.027\n",
      "Average Precision  (AP) @[ IoU=0.50:0.95 | area=medium | maxDets=1000 ] = 0.156\n",
      "Average Precision  (AP) @[ IoU=0.50:0.95 | area= large | maxDets=1000 ] = 0.434\n",
      "Average Recall     (AR) @[ IoU=0.50:0.95 | area=   all | maxDets=100 ] = 0.325\n",
      "Average Recall     (AR) @[ IoU=0.50:0.95 | area=   all | maxDets=300 ] = 0.325\n",
      "Average Recall     (AR) @[ IoU=0.50:0.95 | area=   all | maxDets=1000 ] = 0.325\n",
      "Average Recall     (AR) @[ IoU=0.50:0.95 | area= small | maxDets=1000 ] = 0.086\n",
      "Average Recall     (AR) @[ IoU=0.50:0.95 | area=medium | maxDets=1000 ] = 0.276\n",
      "Average Recall     (AR) @[ IoU=0.50:0.95 | area= large | maxDets=1000 ] = 0.612\n"
     ]
    },
    {
     "name": "stderr",
     "output_type": "stream",
     "text": [
      "2021-05-14 17:42:48,926 - mmdet - INFO - Epoch [76][50/655]\tlr: 1.000e-03, eta: 2:26:02, time: 0.586, data_time: 0.052, memory: 1887, loss_cls: 0.2598, loss_bbox: 0.1041, loss_bbox_rf: 0.1334, loss: 0.4973, grad_norm: 1.5013\n",
      "2021-05-14 17:43:16,116 - mmdet - INFO - Epoch [76][100/655]\tlr: 1.000e-03, eta: 2:25:35, time: 0.544, data_time: 0.008, memory: 1887, loss_cls: 0.2420, loss_bbox: 0.0902, loss_bbox_rf: 0.1148, loss: 0.4471, grad_norm: 1.5864\n",
      "2021-05-14 17:43:43,096 - mmdet - INFO - Epoch [76][150/655]\tlr: 1.000e-03, eta: 2:25:08, time: 0.540, data_time: 0.008, memory: 1887, loss_cls: 0.2446, loss_bbox: 0.0892, loss_bbox_rf: 0.1132, loss: 0.4470, grad_norm: 1.5992\n",
      "2021-05-14 17:44:09,928 - mmdet - INFO - Epoch [76][200/655]\tlr: 1.000e-03, eta: 2:24:41, time: 0.537, data_time: 0.007, memory: 1887, loss_cls: 0.2403, loss_bbox: 0.0874, loss_bbox_rf: 0.1104, loss: 0.4381, grad_norm: 1.5904\n",
      "2021-05-14 17:44:36,819 - mmdet - INFO - Epoch [76][250/655]\tlr: 1.000e-03, eta: 2:24:15, time: 0.538, data_time: 0.007, memory: 1887, loss_cls: 0.2416, loss_bbox: 0.0896, loss_bbox_rf: 0.1137, loss: 0.4448, grad_norm: 1.5708\n",
      "2021-05-14 17:45:03,596 - mmdet - INFO - Epoch [76][300/655]\tlr: 1.000e-03, eta: 2:23:48, time: 0.536, data_time: 0.007, memory: 1887, loss_cls: 0.2286, loss_bbox: 0.0829, loss_bbox_rf: 0.1058, loss: 0.4174, grad_norm: 1.5257\n",
      "2021-05-14 17:45:30,409 - mmdet - INFO - Epoch [76][350/655]\tlr: 1.000e-03, eta: 2:23:21, time: 0.536, data_time: 0.007, memory: 1887, loss_cls: 0.2438, loss_bbox: 0.0944, loss_bbox_rf: 0.1201, loss: 0.4583, grad_norm: 1.6110\n",
      "2021-05-14 17:45:57,165 - mmdet - INFO - Epoch [76][400/655]\tlr: 1.000e-03, eta: 2:22:54, time: 0.535, data_time: 0.007, memory: 1887, loss_cls: 0.2366, loss_bbox: 0.0885, loss_bbox_rf: 0.1123, loss: 0.4373, grad_norm: 1.6136\n",
      "2021-05-14 17:46:24,034 - mmdet - INFO - Epoch [76][450/655]\tlr: 1.000e-03, eta: 2:22:27, time: 0.537, data_time: 0.007, memory: 1887, loss_cls: 0.2477, loss_bbox: 0.0959, loss_bbox_rf: 0.1218, loss: 0.4654, grad_norm: 1.5474\n",
      "2021-05-14 17:46:50,972 - mmdet - INFO - Epoch [76][500/655]\tlr: 1.000e-03, eta: 2:22:00, time: 0.539, data_time: 0.007, memory: 1887, loss_cls: 0.2385, loss_bbox: 0.0881, loss_bbox_rf: 0.1121, loss: 0.4387, grad_norm: 1.5688\n",
      "2021-05-14 17:47:17,735 - mmdet - INFO - Epoch [76][550/655]\tlr: 1.000e-03, eta: 2:21:34, time: 0.535, data_time: 0.007, memory: 1887, loss_cls: 0.2482, loss_bbox: 0.0940, loss_bbox_rf: 0.1191, loss: 0.4612, grad_norm: 1.6047\n",
      "2021-05-14 17:47:44,455 - mmdet - INFO - Epoch [76][600/655]\tlr: 1.000e-03, eta: 2:21:07, time: 0.534, data_time: 0.007, memory: 1887, loss_cls: 0.2472, loss_bbox: 0.0929, loss_bbox_rf: 0.1181, loss: 0.4581, grad_norm: 1.5179\n",
      "2021-05-14 17:48:11,235 - mmdet - INFO - Epoch [76][650/655]\tlr: 1.000e-03, eta: 2:20:40, time: 0.536, data_time: 0.007, memory: 1887, loss_cls: 0.2411, loss_bbox: 0.0942, loss_bbox_rf: 0.1200, loss: 0.4553, grad_norm: 1.5249\n",
      "2021-05-14 17:48:13,990 - mmdet - INFO - Saving checkpoint at 76 epochs\n"
     ]
    },
    {
     "name": "stdout",
     "output_type": "stream",
     "text": [
      "[>>>>>>>>>>>>>>>>>>>>>>>>>>>>>] 655/655, 17.9 task/s, elapsed: 37s, ETA:     0s"
     ]
    },
    {
     "name": "stderr",
     "output_type": "stream",
     "text": [
      "2021-05-14 17:48:51,999 - mmdet - INFO - Evaluating bbox...\n"
     ]
    },
    {
     "name": "stdout",
     "output_type": "stream",
     "text": [
      "Loading and preparing results...\n",
      "DONE (t=0.68s)\n",
      "creating index...\n",
      "index created!\n",
      "Running per image evaluation...\n",
      "Evaluate annotation type *bbox*\n",
      "DONE (t=5.05s).\n",
      "Accumulating evaluation results...\n"
     ]
    },
    {
     "name": "stderr",
     "output_type": "stream",
     "text": [
      "2021-05-14 17:48:58,700 - mmdet - INFO - Epoch(val) [76][655]\tbbox_mAP: 0.1960, bbox_mAP_50: 0.2840, bbox_mAP_75: 0.2030, bbox_mAP_s: 0.0250, bbox_mAP_m: 0.1580, bbox_mAP_l: 0.4340, bbox_mAP_copypaste: 0.196 0.284 0.203 0.025 0.158 0.434\n"
     ]
    },
    {
     "name": "stdout",
     "output_type": "stream",
     "text": [
      "DONE (t=0.88s).\n",
      "Average Precision  (AP) @[ IoU=0.50:0.95 | area=   all | maxDets=100 ] = 0.196\n",
      "Average Precision  (AP) @[ IoU=0.50      | area=   all | maxDets=1000 ] = 0.284\n",
      "Average Precision  (AP) @[ IoU=0.75      | area=   all | maxDets=1000 ] = 0.203\n",
      "Average Precision  (AP) @[ IoU=0.50:0.95 | area= small | maxDets=1000 ] = 0.025\n",
      "Average Precision  (AP) @[ IoU=0.50:0.95 | area=medium | maxDets=1000 ] = 0.158\n",
      "Average Precision  (AP) @[ IoU=0.50:0.95 | area= large | maxDets=1000 ] = 0.434\n",
      "Average Recall     (AR) @[ IoU=0.50:0.95 | area=   all | maxDets=100 ] = 0.325\n",
      "Average Recall     (AR) @[ IoU=0.50:0.95 | area=   all | maxDets=300 ] = 0.325\n",
      "Average Recall     (AR) @[ IoU=0.50:0.95 | area=   all | maxDets=1000 ] = 0.325\n",
      "Average Recall     (AR) @[ IoU=0.50:0.95 | area= small | maxDets=1000 ] = 0.082\n",
      "Average Recall     (AR) @[ IoU=0.50:0.95 | area=medium | maxDets=1000 ] = 0.278\n",
      "Average Recall     (AR) @[ IoU=0.50:0.95 | area= large | maxDets=1000 ] = 0.607\n"
     ]
    },
    {
     "name": "stderr",
     "output_type": "stream",
     "text": [
      "2021-05-14 17:49:27,779 - mmdet - INFO - Epoch [77][50/655]\tlr: 1.000e-03, eta: 2:20:10, time: 0.581, data_time: 0.052, memory: 1887, loss_cls: 0.2203, loss_bbox: 0.0797, loss_bbox_rf: 0.1004, loss: 0.4003, grad_norm: 1.5393\n",
      "2021-05-14 17:49:54,674 - mmdet - INFO - Epoch [77][100/655]\tlr: 1.000e-03, eta: 2:19:43, time: 0.538, data_time: 0.008, memory: 1887, loss_cls: 0.2355, loss_bbox: 0.0901, loss_bbox_rf: 0.1145, loss: 0.4401, grad_norm: 1.5275\n",
      "2021-05-14 17:50:21,561 - mmdet - INFO - Epoch [77][150/655]\tlr: 1.000e-03, eta: 2:19:17, time: 0.538, data_time: 0.007, memory: 1887, loss_cls: 0.2411, loss_bbox: 0.0909, loss_bbox_rf: 0.1155, loss: 0.4476, grad_norm: 1.5391\n",
      "2021-05-14 17:50:48,334 - mmdet - INFO - Epoch [77][200/655]\tlr: 1.000e-03, eta: 2:18:50, time: 0.535, data_time: 0.007, memory: 1887, loss_cls: 0.2325, loss_bbox: 0.0838, loss_bbox_rf: 0.1059, loss: 0.4222, grad_norm: 1.5078\n",
      "2021-05-14 17:51:15,201 - mmdet - INFO - Epoch [77][250/655]\tlr: 1.000e-03, eta: 2:18:23, time: 0.537, data_time: 0.007, memory: 1887, loss_cls: 0.2293, loss_bbox: 0.0837, loss_bbox_rf: 0.1058, loss: 0.4187, grad_norm: 1.5463\n",
      "2021-05-14 17:51:42,176 - mmdet - INFO - Epoch [77][300/655]\tlr: 1.000e-03, eta: 2:17:56, time: 0.539, data_time: 0.007, memory: 1887, loss_cls: 0.2508, loss_bbox: 0.0962, loss_bbox_rf: 0.1231, loss: 0.4700, grad_norm: 1.5348\n",
      "2021-05-14 17:52:09,013 - mmdet - INFO - Epoch [77][350/655]\tlr: 1.000e-03, eta: 2:17:29, time: 0.537, data_time: 0.007, memory: 1887, loss_cls: 0.2501, loss_bbox: 0.0968, loss_bbox_rf: 0.1232, loss: 0.4701, grad_norm: 1.5003\n",
      "2021-05-14 17:52:36,001 - mmdet - INFO - Epoch [77][400/655]\tlr: 1.000e-03, eta: 2:17:02, time: 0.540, data_time: 0.008, memory: 1887, loss_cls: 0.2333, loss_bbox: 0.0864, loss_bbox_rf: 0.1101, loss: 0.4298, grad_norm: 1.5447\n",
      "2021-05-14 17:53:02,812 - mmdet - INFO - Epoch [77][450/655]\tlr: 1.000e-03, eta: 2:16:36, time: 0.536, data_time: 0.007, memory: 1887, loss_cls: 0.2393, loss_bbox: 0.0913, loss_bbox_rf: 0.1165, loss: 0.4471, grad_norm: 1.5041\n",
      "2021-05-14 17:53:29,609 - mmdet - INFO - Epoch [77][500/655]\tlr: 1.000e-03, eta: 2:16:09, time: 0.536, data_time: 0.007, memory: 1887, loss_cls: 0.2414, loss_bbox: 0.0937, loss_bbox_rf: 0.1192, loss: 0.4543, grad_norm: 1.6035\n",
      "2021-05-14 17:53:56,911 - mmdet - INFO - Epoch [77][550/655]\tlr: 1.000e-03, eta: 2:15:42, time: 0.546, data_time: 0.007, memory: 1887, loss_cls: 0.2643, loss_bbox: 0.1033, loss_bbox_rf: 0.1319, loss: 0.4995, grad_norm: 1.5800\n",
      "2021-05-14 17:54:23,775 - mmdet - INFO - Epoch [77][600/655]\tlr: 1.000e-03, eta: 2:15:15, time: 0.537, data_time: 0.007, memory: 1887, loss_cls: 0.2422, loss_bbox: 0.0919, loss_bbox_rf: 0.1169, loss: 0.4510, grad_norm: 1.5420\n",
      "2021-05-14 17:54:50,608 - mmdet - INFO - Epoch [77][650/655]\tlr: 1.000e-03, eta: 2:14:48, time: 0.537, data_time: 0.007, memory: 1887, loss_cls: 0.2372, loss_bbox: 0.0904, loss_bbox_rf: 0.1148, loss: 0.4424, grad_norm: 1.6248\n",
      "2021-05-14 17:54:53,371 - mmdet - INFO - Saving checkpoint at 77 epochs\n"
     ]
    },
    {
     "name": "stdout",
     "output_type": "stream",
     "text": [
      "[>>>>>>>>>>>>>>>>>>>>>>>>>>>>>] 655/655, 18.9 task/s, elapsed: 35s, ETA:     0s"
     ]
    },
    {
     "name": "stderr",
     "output_type": "stream",
     "text": [
      "2021-05-14 17:55:29,888 - mmdet - INFO - Evaluating bbox...\n"
     ]
    },
    {
     "name": "stdout",
     "output_type": "stream",
     "text": [
      "Loading and preparing results...\n",
      "DONE (t=0.13s)\n",
      "creating index...\n",
      "index created!\n",
      "Running per image evaluation...\n",
      "Evaluate annotation type *bbox*\n",
      "DONE (t=5.62s).\n",
      "Accumulating evaluation results...\n"
     ]
    },
    {
     "name": "stderr",
     "output_type": "stream",
     "text": [
      "2021-05-14 17:55:36,636 - mmdet - INFO - Epoch(val) [77][655]\tbbox_mAP: 0.1960, bbox_mAP_50: 0.2830, bbox_mAP_75: 0.2020, bbox_mAP_s: 0.0260, bbox_mAP_m: 0.1570, bbox_mAP_l: 0.4320, bbox_mAP_copypaste: 0.196 0.283 0.202 0.026 0.157 0.432\n"
     ]
    },
    {
     "name": "stdout",
     "output_type": "stream",
     "text": [
      "DONE (t=0.91s).\n",
      "Average Precision  (AP) @[ IoU=0.50:0.95 | area=   all | maxDets=100 ] = 0.196\n",
      "Average Precision  (AP) @[ IoU=0.50      | area=   all | maxDets=1000 ] = 0.283\n",
      "Average Precision  (AP) @[ IoU=0.75      | area=   all | maxDets=1000 ] = 0.202\n",
      "Average Precision  (AP) @[ IoU=0.50:0.95 | area= small | maxDets=1000 ] = 0.026\n",
      "Average Precision  (AP) @[ IoU=0.50:0.95 | area=medium | maxDets=1000 ] = 0.157\n",
      "Average Precision  (AP) @[ IoU=0.50:0.95 | area= large | maxDets=1000 ] = 0.432\n",
      "Average Recall     (AR) @[ IoU=0.50:0.95 | area=   all | maxDets=100 ] = 0.324\n",
      "Average Recall     (AR) @[ IoU=0.50:0.95 | area=   all | maxDets=300 ] = 0.324\n",
      "Average Recall     (AR) @[ IoU=0.50:0.95 | area=   all | maxDets=1000 ] = 0.324\n",
      "Average Recall     (AR) @[ IoU=0.50:0.95 | area= small | maxDets=1000 ] = 0.086\n",
      "Average Recall     (AR) @[ IoU=0.50:0.95 | area=medium | maxDets=1000 ] = 0.277\n",
      "Average Recall     (AR) @[ IoU=0.50:0.95 | area= large | maxDets=1000 ] = 0.603\n"
     ]
    },
    {
     "name": "stderr",
     "output_type": "stream",
     "text": [
      "2021-05-14 17:56:05,678 - mmdet - INFO - Epoch [78][50/655]\tlr: 1.000e-03, eta: 2:14:19, time: 0.581, data_time: 0.051, memory: 1887, loss_cls: 0.2439, loss_bbox: 0.0946, loss_bbox_rf: 0.1204, loss: 0.4589, grad_norm: 1.4750\n",
      "2021-05-14 17:56:32,624 - mmdet - INFO - Epoch [78][100/655]\tlr: 1.000e-03, eta: 2:13:52, time: 0.539, data_time: 0.007, memory: 1887, loss_cls: 0.2244, loss_bbox: 0.0826, loss_bbox_rf: 0.1040, loss: 0.4111, grad_norm: 1.5483\n",
      "2021-05-14 17:56:59,489 - mmdet - INFO - Epoch [78][150/655]\tlr: 1.000e-03, eta: 2:13:25, time: 0.537, data_time: 0.007, memory: 1887, loss_cls: 0.2395, loss_bbox: 0.0889, loss_bbox_rf: 0.1129, loss: 0.4413, grad_norm: 1.5498\n",
      "2021-05-14 17:57:26,440 - mmdet - INFO - Epoch [78][200/655]\tlr: 1.000e-03, eta: 2:12:58, time: 0.539, data_time: 0.008, memory: 1887, loss_cls: 0.2472, loss_bbox: 0.0945, loss_bbox_rf: 0.1211, loss: 0.4628, grad_norm: 1.5294\n",
      "2021-05-14 17:57:53,316 - mmdet - INFO - Epoch [78][250/655]\tlr: 1.000e-03, eta: 2:12:31, time: 0.538, data_time: 0.007, memory: 1887, loss_cls: 0.2495, loss_bbox: 0.0971, loss_bbox_rf: 0.1241, loss: 0.4707, grad_norm: 1.4665\n",
      "2021-05-14 17:58:20,231 - mmdet - INFO - Epoch [78][300/655]\tlr: 1.000e-03, eta: 2:12:05, time: 0.538, data_time: 0.007, memory: 1887, loss_cls: 0.2325, loss_bbox: 0.0887, loss_bbox_rf: 0.1131, loss: 0.4343, grad_norm: 1.4641\n",
      "2021-05-14 17:58:46,960 - mmdet - INFO - Epoch [78][350/655]\tlr: 1.000e-03, eta: 2:11:38, time: 0.535, data_time: 0.007, memory: 1887, loss_cls: 0.2245, loss_bbox: 0.0832, loss_bbox_rf: 0.1056, loss: 0.4133, grad_norm: 1.5404\n",
      "2021-05-14 17:59:13,773 - mmdet - INFO - Epoch [78][400/655]\tlr: 1.000e-03, eta: 2:11:11, time: 0.536, data_time: 0.007, memory: 1887, loss_cls: 0.2363, loss_bbox: 0.0883, loss_bbox_rf: 0.1125, loss: 0.4371, grad_norm: 1.5529\n",
      "2021-05-14 17:59:40,640 - mmdet - INFO - Epoch [78][450/655]\tlr: 1.000e-03, eta: 2:10:44, time: 0.537, data_time: 0.007, memory: 1887, loss_cls: 0.2211, loss_bbox: 0.0824, loss_bbox_rf: 0.1035, loss: 0.4069, grad_norm: 1.5696\n",
      "2021-05-14 18:00:07,613 - mmdet - INFO - Epoch [78][500/655]\tlr: 1.000e-03, eta: 2:10:17, time: 0.539, data_time: 0.007, memory: 1887, loss_cls: 0.2285, loss_bbox: 0.0845, loss_bbox_rf: 0.1067, loss: 0.4197, grad_norm: 1.5854\n",
      "2021-05-14 18:00:34,457 - mmdet - INFO - Epoch [78][550/655]\tlr: 1.000e-03, eta: 2:09:50, time: 0.537, data_time: 0.007, memory: 1887, loss_cls: 0.2343, loss_bbox: 0.0933, loss_bbox_rf: 0.1188, loss: 0.4465, grad_norm: 1.5481\n",
      "2021-05-14 18:01:01,358 - mmdet - INFO - Epoch [78][600/655]\tlr: 1.000e-03, eta: 2:09:24, time: 0.538, data_time: 0.008, memory: 1887, loss_cls: 0.2447, loss_bbox: 0.0935, loss_bbox_rf: 0.1192, loss: 0.4574, grad_norm: 1.5710\n",
      "2021-05-14 18:01:28,256 - mmdet - INFO - Epoch [78][650/655]\tlr: 1.000e-03, eta: 2:08:57, time: 0.538, data_time: 0.007, memory: 1887, loss_cls: 0.2373, loss_bbox: 0.0918, loss_bbox_rf: 0.1168, loss: 0.4459, grad_norm: 1.4776\n",
      "2021-05-14 18:01:31,017 - mmdet - INFO - Saving checkpoint at 78 epochs\n"
     ]
    },
    {
     "name": "stdout",
     "output_type": "stream",
     "text": [
      "[>>>>>>>>>>>>>>>>>>>>>>>>>>>>>] 655/655, 18.4 task/s, elapsed: 36s, ETA:     0s"
     ]
    },
    {
     "name": "stderr",
     "output_type": "stream",
     "text": [
      "2021-05-14 18:02:07,884 - mmdet - INFO - Evaluating bbox...\n"
     ]
    },
    {
     "name": "stdout",
     "output_type": "stream",
     "text": [
      "Loading and preparing results...\n",
      "DONE (t=0.12s)\n",
      "creating index...\n",
      "index created!\n",
      "Running per image evaluation...\n",
      "Evaluate annotation type *bbox*\n",
      "DONE (t=5.67s).\n",
      "Accumulating evaluation results...\n"
     ]
    },
    {
     "name": "stderr",
     "output_type": "stream",
     "text": [
      "2021-05-14 18:02:14,696 - mmdet - INFO - Epoch(val) [78][655]\tbbox_mAP: 0.1950, bbox_mAP_50: 0.2820, bbox_mAP_75: 0.2000, bbox_mAP_s: 0.0260, bbox_mAP_m: 0.1560, bbox_mAP_l: 0.4310, bbox_mAP_copypaste: 0.195 0.282 0.200 0.026 0.156 0.431\n"
     ]
    },
    {
     "name": "stdout",
     "output_type": "stream",
     "text": [
      "DONE (t=0.93s).\n",
      "Average Precision  (AP) @[ IoU=0.50:0.95 | area=   all | maxDets=100 ] = 0.195\n",
      "Average Precision  (AP) @[ IoU=0.50      | area=   all | maxDets=1000 ] = 0.282\n",
      "Average Precision  (AP) @[ IoU=0.75      | area=   all | maxDets=1000 ] = 0.200\n",
      "Average Precision  (AP) @[ IoU=0.50:0.95 | area= small | maxDets=1000 ] = 0.026\n",
      "Average Precision  (AP) @[ IoU=0.50:0.95 | area=medium | maxDets=1000 ] = 0.156\n",
      "Average Precision  (AP) @[ IoU=0.50:0.95 | area= large | maxDets=1000 ] = 0.431\n",
      "Average Recall     (AR) @[ IoU=0.50:0.95 | area=   all | maxDets=100 ] = 0.322\n",
      "Average Recall     (AR) @[ IoU=0.50:0.95 | area=   all | maxDets=300 ] = 0.322\n",
      "Average Recall     (AR) @[ IoU=0.50:0.95 | area=   all | maxDets=1000 ] = 0.322\n",
      "Average Recall     (AR) @[ IoU=0.50:0.95 | area= small | maxDets=1000 ] = 0.084\n",
      "Average Recall     (AR) @[ IoU=0.50:0.95 | area=medium | maxDets=1000 ] = 0.274\n",
      "Average Recall     (AR) @[ IoU=0.50:0.95 | area= large | maxDets=1000 ] = 0.600\n"
     ]
    },
    {
     "name": "stderr",
     "output_type": "stream",
     "text": [
      "2021-05-14 18:02:43,899 - mmdet - INFO - Epoch [79][50/655]\tlr: 1.000e-03, eta: 2:08:27, time: 0.584, data_time: 0.052, memory: 1887, loss_cls: 0.2362, loss_bbox: 0.0912, loss_bbox_rf: 0.1163, loss: 0.4437, grad_norm: 1.5086\n",
      "2021-05-14 18:03:11,048 - mmdet - INFO - Epoch [79][100/655]\tlr: 1.000e-03, eta: 2:08:00, time: 0.543, data_time: 0.008, memory: 1887, loss_cls: 0.2290, loss_bbox: 0.0887, loss_bbox_rf: 0.1129, loss: 0.4307, grad_norm: 1.5124\n",
      "2021-05-14 18:03:38,350 - mmdet - INFO - Epoch [79][150/655]\tlr: 1.000e-03, eta: 2:07:34, time: 0.546, data_time: 0.007, memory: 1887, loss_cls: 0.2277, loss_bbox: 0.0853, loss_bbox_rf: 0.1079, loss: 0.4209, grad_norm: 1.5746\n",
      "2021-05-14 18:04:05,345 - mmdet - INFO - Epoch [79][200/655]\tlr: 1.000e-03, eta: 2:07:07, time: 0.540, data_time: 0.008, memory: 1887, loss_cls: 0.2387, loss_bbox: 0.0913, loss_bbox_rf: 0.1161, loss: 0.4461, grad_norm: 1.5616\n",
      "2021-05-14 18:04:32,102 - mmdet - INFO - Epoch [79][250/655]\tlr: 1.000e-03, eta: 2:06:40, time: 0.535, data_time: 0.007, memory: 1887, loss_cls: 0.2383, loss_bbox: 0.0933, loss_bbox_rf: 0.1189, loss: 0.4506, grad_norm: 1.4962\n",
      "2021-05-14 18:04:58,959 - mmdet - INFO - Epoch [79][300/655]\tlr: 1.000e-03, eta: 2:06:13, time: 0.537, data_time: 0.008, memory: 1887, loss_cls: 0.2212, loss_bbox: 0.0818, loss_bbox_rf: 0.1027, loss: 0.4057, grad_norm: 1.5965\n",
      "2021-05-14 18:05:26,082 - mmdet - INFO - Epoch [79][350/655]\tlr: 1.000e-03, eta: 2:05:46, time: 0.542, data_time: 0.008, memory: 1887, loss_cls: 0.2254, loss_bbox: 0.0846, loss_bbox_rf: 0.1079, loss: 0.4178, grad_norm: 1.5228\n",
      "2021-05-14 18:05:53,024 - mmdet - INFO - Epoch [79][400/655]\tlr: 1.000e-03, eta: 2:05:20, time: 0.539, data_time: 0.007, memory: 1887, loss_cls: 0.2281, loss_bbox: 0.0846, loss_bbox_rf: 0.1071, loss: 0.4198, grad_norm: 1.5153\n",
      "2021-05-14 18:06:19,965 - mmdet - INFO - Epoch [79][450/655]\tlr: 1.000e-03, eta: 2:04:53, time: 0.539, data_time: 0.007, memory: 1887, loss_cls: 0.2323, loss_bbox: 0.0871, loss_bbox_rf: 0.1101, loss: 0.4295, grad_norm: 1.4783\n",
      "2021-05-14 18:06:46,871 - mmdet - INFO - Epoch [79][500/655]\tlr: 1.000e-03, eta: 2:04:26, time: 0.538, data_time: 0.007, memory: 1887, loss_cls: 0.2382, loss_bbox: 0.0940, loss_bbox_rf: 0.1199, loss: 0.4521, grad_norm: 1.4924\n",
      "2021-05-14 18:07:13,737 - mmdet - INFO - Epoch [79][550/655]\tlr: 1.000e-03, eta: 2:03:59, time: 0.537, data_time: 0.007, memory: 1887, loss_cls: 0.2269, loss_bbox: 0.0829, loss_bbox_rf: 0.1046, loss: 0.4144, grad_norm: 1.5570\n",
      "2021-05-14 18:07:40,540 - mmdet - INFO - Epoch [79][600/655]\tlr: 1.000e-03, eta: 2:03:32, time: 0.536, data_time: 0.007, memory: 1887, loss_cls: 0.2284, loss_bbox: 0.0886, loss_bbox_rf: 0.1127, loss: 0.4298, grad_norm: 1.5319\n",
      "2021-05-14 18:08:07,402 - mmdet - INFO - Epoch [79][650/655]\tlr: 1.000e-03, eta: 2:03:06, time: 0.537, data_time: 0.007, memory: 1887, loss_cls: 0.2334, loss_bbox: 0.0873, loss_bbox_rf: 0.1101, loss: 0.4308, grad_norm: 1.5848\n",
      "2021-05-14 18:08:10,165 - mmdet - INFO - Saving checkpoint at 79 epochs\n"
     ]
    },
    {
     "name": "stdout",
     "output_type": "stream",
     "text": [
      "[>>>>>>>>>>>>>>>>>>>>>>>>>>>>>] 655/655, 18.7 task/s, elapsed: 35s, ETA:     0s"
     ]
    },
    {
     "name": "stderr",
     "output_type": "stream",
     "text": [
      "2021-05-14 18:08:46,520 - mmdet - INFO - Evaluating bbox...\n"
     ]
    },
    {
     "name": "stdout",
     "output_type": "stream",
     "text": [
      "Loading and preparing results...\n",
      "DONE (t=0.12s)\n",
      "creating index...\n",
      "index created!\n",
      "Running per image evaluation...\n",
      "Evaluate annotation type *bbox*\n",
      "DONE (t=5.65s).\n",
      "Accumulating evaluation results...\n"
     ]
    },
    {
     "name": "stderr",
     "output_type": "stream",
     "text": [
      "2021-05-14 18:08:53,292 - mmdet - INFO - Epoch(val) [79][655]\tbbox_mAP: 0.1940, bbox_mAP_50: 0.2810, bbox_mAP_75: 0.1990, bbox_mAP_s: 0.0240, bbox_mAP_m: 0.1540, bbox_mAP_l: 0.4310, bbox_mAP_copypaste: 0.194 0.281 0.199 0.024 0.154 0.431\n"
     ]
    },
    {
     "name": "stdout",
     "output_type": "stream",
     "text": [
      "DONE (t=0.91s).\n",
      "Average Precision  (AP) @[ IoU=0.50:0.95 | area=   all | maxDets=100 ] = 0.194\n",
      "Average Precision  (AP) @[ IoU=0.50      | area=   all | maxDets=1000 ] = 0.281\n",
      "Average Precision  (AP) @[ IoU=0.75      | area=   all | maxDets=1000 ] = 0.199\n",
      "Average Precision  (AP) @[ IoU=0.50:0.95 | area= small | maxDets=1000 ] = 0.024\n",
      "Average Precision  (AP) @[ IoU=0.50:0.95 | area=medium | maxDets=1000 ] = 0.154\n",
      "Average Precision  (AP) @[ IoU=0.50:0.95 | area= large | maxDets=1000 ] = 0.431\n",
      "Average Recall     (AR) @[ IoU=0.50:0.95 | area=   all | maxDets=100 ] = 0.323\n",
      "Average Recall     (AR) @[ IoU=0.50:0.95 | area=   all | maxDets=300 ] = 0.323\n",
      "Average Recall     (AR) @[ IoU=0.50:0.95 | area=   all | maxDets=1000 ] = 0.323\n",
      "Average Recall     (AR) @[ IoU=0.50:0.95 | area= small | maxDets=1000 ] = 0.084\n",
      "Average Recall     (AR) @[ IoU=0.50:0.95 | area=medium | maxDets=1000 ] = 0.275\n",
      "Average Recall     (AR) @[ IoU=0.50:0.95 | area= large | maxDets=1000 ] = 0.605\n"
     ]
    },
    {
     "name": "stderr",
     "output_type": "stream",
     "text": [
      "2021-05-14 18:09:22,643 - mmdet - INFO - Epoch [80][50/655]\tlr: 1.000e-03, eta: 2:02:36, time: 0.587, data_time: 0.053, memory: 1887, loss_cls: 0.2356, loss_bbox: 0.0939, loss_bbox_rf: 0.1199, loss: 0.4494, grad_norm: 1.4779\n",
      "2021-05-14 18:09:49,594 - mmdet - INFO - Epoch [80][100/655]\tlr: 1.000e-03, eta: 2:02:09, time: 0.539, data_time: 0.007, memory: 1887, loss_cls: 0.2305, loss_bbox: 0.0879, loss_bbox_rf: 0.1111, loss: 0.4296, grad_norm: 1.4991\n",
      "2021-05-14 18:10:16,470 - mmdet - INFO - Epoch [80][150/655]\tlr: 1.000e-03, eta: 2:01:42, time: 0.538, data_time: 0.008, memory: 1887, loss_cls: 0.2328, loss_bbox: 0.0897, loss_bbox_rf: 0.1137, loss: 0.4362, grad_norm: 1.6250\n",
      "2021-05-14 18:10:43,402 - mmdet - INFO - Epoch [80][200/655]\tlr: 1.000e-03, eta: 2:01:16, time: 0.539, data_time: 0.008, memory: 1887, loss_cls: 0.2135, loss_bbox: 0.0793, loss_bbox_rf: 0.1005, loss: 0.3933, grad_norm: 1.5805\n",
      "2021-05-14 18:11:10,220 - mmdet - INFO - Epoch [80][250/655]\tlr: 1.000e-03, eta: 2:00:49, time: 0.536, data_time: 0.007, memory: 1887, loss_cls: 0.2431, loss_bbox: 0.0968, loss_bbox_rf: 0.1237, loss: 0.4636, grad_norm: 1.5072\n",
      "2021-05-14 18:11:37,213 - mmdet - INFO - Epoch [80][300/655]\tlr: 1.000e-03, eta: 2:00:22, time: 0.540, data_time: 0.008, memory: 1887, loss_cls: 0.2218, loss_bbox: 0.0843, loss_bbox_rf: 0.1065, loss: 0.4127, grad_norm: 1.5131\n",
      "2021-05-14 18:12:04,152 - mmdet - INFO - Epoch [80][350/655]\tlr: 1.000e-03, eta: 1:59:55, time: 0.539, data_time: 0.007, memory: 1887, loss_cls: 0.2238, loss_bbox: 0.0842, loss_bbox_rf: 0.1072, loss: 0.4152, grad_norm: 1.4544\n",
      "2021-05-14 18:12:31,078 - mmdet - INFO - Epoch [80][400/655]\tlr: 1.000e-03, eta: 1:59:28, time: 0.539, data_time: 0.008, memory: 1887, loss_cls: 0.2324, loss_bbox: 0.0911, loss_bbox_rf: 0.1159, loss: 0.4394, grad_norm: 1.5688\n",
      "2021-05-14 18:12:58,673 - mmdet - INFO - Epoch [80][450/655]\tlr: 1.000e-03, eta: 1:59:02, time: 0.552, data_time: 0.008, memory: 1887, loss_cls: 0.2261, loss_bbox: 0.0902, loss_bbox_rf: 0.1145, loss: 0.4308, grad_norm: 1.5350\n",
      "2021-05-14 18:13:25,867 - mmdet - INFO - Epoch [80][500/655]\tlr: 1.000e-03, eta: 1:58:35, time: 0.544, data_time: 0.007, memory: 1887, loss_cls: 0.2375, loss_bbox: 0.0891, loss_bbox_rf: 0.1136, loss: 0.4401, grad_norm: 1.5168\n",
      "2021-05-14 18:13:52,797 - mmdet - INFO - Epoch [80][550/655]\tlr: 1.000e-03, eta: 1:58:08, time: 0.539, data_time: 0.007, memory: 1887, loss_cls: 0.2225, loss_bbox: 0.0817, loss_bbox_rf: 0.1028, loss: 0.4070, grad_norm: 1.5928\n",
      "2021-05-14 18:14:19,649 - mmdet - INFO - Epoch [80][600/655]\tlr: 1.000e-03, eta: 1:57:41, time: 0.537, data_time: 0.007, memory: 1887, loss_cls: 0.2349, loss_bbox: 0.0877, loss_bbox_rf: 0.1112, loss: 0.4338, grad_norm: 1.5313\n",
      "2021-05-14 18:14:46,449 - mmdet - INFO - Epoch [80][650/655]\tlr: 1.000e-03, eta: 1:57:14, time: 0.536, data_time: 0.007, memory: 1887, loss_cls: 0.2333, loss_bbox: 0.0871, loss_bbox_rf: 0.1108, loss: 0.4312, grad_norm: 1.5600\n",
      "2021-05-14 18:14:49,224 - mmdet - INFO - Saving checkpoint at 80 epochs\n"
     ]
    },
    {
     "name": "stdout",
     "output_type": "stream",
     "text": [
      "[>>>>>>>>>>>>>>>>>>>>>>>>>>>>>] 655/655, 18.2 task/s, elapsed: 36s, ETA:     0s"
     ]
    },
    {
     "name": "stderr",
     "output_type": "stream",
     "text": [
      "2021-05-14 18:15:26,653 - mmdet - INFO - Evaluating bbox...\n"
     ]
    },
    {
     "name": "stdout",
     "output_type": "stream",
     "text": [
      "Loading and preparing results...\n",
      "DONE (t=0.76s)\n",
      "creating index...\n",
      "index created!\n",
      "Running per image evaluation...\n",
      "Evaluate annotation type *bbox*\n",
      "DONE (t=5.51s).\n",
      "Accumulating evaluation results...\n"
     ]
    },
    {
     "name": "stderr",
     "output_type": "stream",
     "text": [
      "2021-05-14 18:15:34,025 - mmdet - INFO - Epoch(val) [80][655]\tbbox_mAP: 0.1950, bbox_mAP_50: 0.2820, bbox_mAP_75: 0.2000, bbox_mAP_s: 0.0260, bbox_mAP_m: 0.1570, bbox_mAP_l: 0.4310, bbox_mAP_copypaste: 0.195 0.282 0.200 0.026 0.157 0.431\n"
     ]
    },
    {
     "name": "stdout",
     "output_type": "stream",
     "text": [
      "DONE (t=1.00s).\n",
      "Average Precision  (AP) @[ IoU=0.50:0.95 | area=   all | maxDets=100 ] = 0.195\n",
      "Average Precision  (AP) @[ IoU=0.50      | area=   all | maxDets=1000 ] = 0.282\n",
      "Average Precision  (AP) @[ IoU=0.75      | area=   all | maxDets=1000 ] = 0.200\n",
      "Average Precision  (AP) @[ IoU=0.50:0.95 | area= small | maxDets=1000 ] = 0.026\n",
      "Average Precision  (AP) @[ IoU=0.50:0.95 | area=medium | maxDets=1000 ] = 0.157\n",
      "Average Precision  (AP) @[ IoU=0.50:0.95 | area= large | maxDets=1000 ] = 0.431\n",
      "Average Recall     (AR) @[ IoU=0.50:0.95 | area=   all | maxDets=100 ] = 0.322\n",
      "Average Recall     (AR) @[ IoU=0.50:0.95 | area=   all | maxDets=300 ] = 0.322\n",
      "Average Recall     (AR) @[ IoU=0.50:0.95 | area=   all | maxDets=1000 ] = 0.322\n",
      "Average Recall     (AR) @[ IoU=0.50:0.95 | area= small | maxDets=1000 ] = 0.085\n",
      "Average Recall     (AR) @[ IoU=0.50:0.95 | area=medium | maxDets=1000 ] = 0.277\n",
      "Average Recall     (AR) @[ IoU=0.50:0.95 | area= large | maxDets=1000 ] = 0.597\n"
     ]
    },
    {
     "name": "stderr",
     "output_type": "stream",
     "text": [
      "2021-05-14 18:16:03,161 - mmdet - INFO - Epoch [81][50/655]\tlr: 1.000e-03, eta: 1:56:45, time: 0.582, data_time: 0.052, memory: 1887, loss_cls: 0.2341, loss_bbox: 0.0905, loss_bbox_rf: 0.1150, loss: 0.4396, grad_norm: 1.5517\n",
      "2021-05-14 18:16:30,003 - mmdet - INFO - Epoch [81][100/655]\tlr: 1.000e-03, eta: 1:56:18, time: 0.537, data_time: 0.007, memory: 1887, loss_cls: 0.2322, loss_bbox: 0.0904, loss_bbox_rf: 0.1149, loss: 0.4375, grad_norm: 1.5243\n",
      "2021-05-14 18:16:57,026 - mmdet - INFO - Epoch [81][150/655]\tlr: 1.000e-03, eta: 1:55:51, time: 0.540, data_time: 0.008, memory: 1887, loss_cls: 0.2355, loss_bbox: 0.0910, loss_bbox_rf: 0.1158, loss: 0.4423, grad_norm: 1.4802\n",
      "2021-05-14 18:17:23,911 - mmdet - INFO - Epoch [81][200/655]\tlr: 1.000e-03, eta: 1:55:24, time: 0.538, data_time: 0.007, memory: 1887, loss_cls: 0.2224, loss_bbox: 0.0829, loss_bbox_rf: 0.1052, loss: 0.4106, grad_norm: 1.5194\n",
      "2021-05-14 18:17:50,788 - mmdet - INFO - Epoch [81][250/655]\tlr: 1.000e-03, eta: 1:54:57, time: 0.538, data_time: 0.008, memory: 1887, loss_cls: 0.2326, loss_bbox: 0.0902, loss_bbox_rf: 0.1150, loss: 0.4378, grad_norm: 1.4884\n",
      "2021-05-14 18:18:17,733 - mmdet - INFO - Epoch [81][300/655]\tlr: 1.000e-03, eta: 1:54:31, time: 0.539, data_time: 0.008, memory: 1887, loss_cls: 0.2122, loss_bbox: 0.0800, loss_bbox_rf: 0.1011, loss: 0.3933, grad_norm: 1.4736\n",
      "2021-05-14 18:18:44,683 - mmdet - INFO - Epoch [81][350/655]\tlr: 1.000e-03, eta: 1:54:04, time: 0.539, data_time: 0.008, memory: 1887, loss_cls: 0.2184, loss_bbox: 0.0808, loss_bbox_rf: 0.1025, loss: 0.4017, grad_norm: 1.4524\n",
      "2021-05-14 18:19:11,674 - mmdet - INFO - Epoch [81][400/655]\tlr: 1.000e-03, eta: 1:53:37, time: 0.540, data_time: 0.008, memory: 1887, loss_cls: 0.2334, loss_bbox: 0.0899, loss_bbox_rf: 0.1145, loss: 0.4378, grad_norm: 1.4338\n",
      "2021-05-14 18:19:38,469 - mmdet - INFO - Epoch [81][450/655]\tlr: 1.000e-03, eta: 1:53:10, time: 0.536, data_time: 0.007, memory: 1887, loss_cls: 0.2164, loss_bbox: 0.0794, loss_bbox_rf: 0.1004, loss: 0.3962, grad_norm: 1.5595\n",
      "2021-05-14 18:20:05,304 - mmdet - INFO - Epoch [81][500/655]\tlr: 1.000e-03, eta: 1:52:43, time: 0.537, data_time: 0.007, memory: 1887, loss_cls: 0.2284, loss_bbox: 0.0887, loss_bbox_rf: 0.1131, loss: 0.4302, grad_norm: 1.4999\n",
      "2021-05-14 18:20:32,220 - mmdet - INFO - Epoch [81][550/655]\tlr: 1.000e-03, eta: 1:52:16, time: 0.538, data_time: 0.007, memory: 1887, loss_cls: 0.2294, loss_bbox: 0.0885, loss_bbox_rf: 0.1126, loss: 0.4305, grad_norm: 1.4735\n",
      "2021-05-14 18:20:59,025 - mmdet - INFO - Epoch [81][600/655]\tlr: 1.000e-03, eta: 1:51:50, time: 0.536, data_time: 0.007, memory: 1887, loss_cls: 0.2122, loss_bbox: 0.0788, loss_bbox_rf: 0.0990, loss: 0.3899, grad_norm: 1.6350\n",
      "2021-05-14 18:21:25,843 - mmdet - INFO - Epoch [81][650/655]\tlr: 1.000e-03, eta: 1:51:23, time: 0.536, data_time: 0.007, memory: 1887, loss_cls: 0.2144, loss_bbox: 0.0797, loss_bbox_rf: 0.1006, loss: 0.3946, grad_norm: 1.5355\n",
      "2021-05-14 18:21:28,599 - mmdet - INFO - Saving checkpoint at 81 epochs\n"
     ]
    },
    {
     "name": "stdout",
     "output_type": "stream",
     "text": [
      "[>>>>>>>>>>>>>>>>>>>>>>>>>>>>>] 655/655, 18.5 task/s, elapsed: 35s, ETA:     0s"
     ]
    },
    {
     "name": "stderr",
     "output_type": "stream",
     "text": [
      "2021-05-14 18:22:05,315 - mmdet - INFO - Evaluating bbox...\n"
     ]
    },
    {
     "name": "stdout",
     "output_type": "stream",
     "text": [
      "Loading and preparing results...\n",
      "DONE (t=0.66s)\n",
      "creating index...\n",
      "index created!\n",
      "Running per image evaluation...\n",
      "Evaluate annotation type *bbox*\n",
      "DONE (t=5.03s).\n",
      "Accumulating evaluation results...\n"
     ]
    },
    {
     "name": "stderr",
     "output_type": "stream",
     "text": [
      "2021-05-14 18:22:11,998 - mmdet - INFO - Epoch(val) [81][655]\tbbox_mAP: 0.1930, bbox_mAP_50: 0.2810, bbox_mAP_75: 0.1990, bbox_mAP_s: 0.0270, bbox_mAP_m: 0.1550, bbox_mAP_l: 0.4300, bbox_mAP_copypaste: 0.193 0.281 0.199 0.027 0.155 0.430\n"
     ]
    },
    {
     "name": "stdout",
     "output_type": "stream",
     "text": [
      "DONE (t=0.90s).\n",
      "Average Precision  (AP) @[ IoU=0.50:0.95 | area=   all | maxDets=100 ] = 0.193\n",
      "Average Precision  (AP) @[ IoU=0.50      | area=   all | maxDets=1000 ] = 0.281\n",
      "Average Precision  (AP) @[ IoU=0.75      | area=   all | maxDets=1000 ] = 0.199\n",
      "Average Precision  (AP) @[ IoU=0.50:0.95 | area= small | maxDets=1000 ] = 0.027\n",
      "Average Precision  (AP) @[ IoU=0.50:0.95 | area=medium | maxDets=1000 ] = 0.155\n",
      "Average Precision  (AP) @[ IoU=0.50:0.95 | area= large | maxDets=1000 ] = 0.430\n",
      "Average Recall     (AR) @[ IoU=0.50:0.95 | area=   all | maxDets=100 ] = 0.322\n",
      "Average Recall     (AR) @[ IoU=0.50:0.95 | area=   all | maxDets=300 ] = 0.322\n",
      "Average Recall     (AR) @[ IoU=0.50:0.95 | area=   all | maxDets=1000 ] = 0.322\n",
      "Average Recall     (AR) @[ IoU=0.50:0.95 | area= small | maxDets=1000 ] = 0.083\n",
      "Average Recall     (AR) @[ IoU=0.50:0.95 | area=medium | maxDets=1000 ] = 0.276\n",
      "Average Recall     (AR) @[ IoU=0.50:0.95 | area= large | maxDets=1000 ] = 0.600\n"
     ]
    },
    {
     "name": "stderr",
     "output_type": "stream",
     "text": [
      "2021-05-14 18:22:41,126 - mmdet - INFO - Epoch [82][50/655]\tlr: 1.000e-03, eta: 1:50:53, time: 0.582, data_time: 0.052, memory: 1887, loss_cls: 0.2175, loss_bbox: 0.0810, loss_bbox_rf: 0.1029, loss: 0.4013, grad_norm: 1.4917\n",
      "2021-05-14 18:23:07,872 - mmdet - INFO - Epoch [82][100/655]\tlr: 1.000e-03, eta: 1:50:26, time: 0.535, data_time: 0.007, memory: 1887, loss_cls: 0.2334, loss_bbox: 0.0884, loss_bbox_rf: 0.1126, loss: 0.4343, grad_norm: 1.5724\n",
      "2021-05-14 18:23:34,936 - mmdet - INFO - Epoch [82][150/655]\tlr: 1.000e-03, eta: 1:50:00, time: 0.541, data_time: 0.007, memory: 1887, loss_cls: 0.2319, loss_bbox: 0.0894, loss_bbox_rf: 0.1138, loss: 0.4351, grad_norm: 1.4963\n",
      "2021-05-14 18:24:01,714 - mmdet - INFO - Epoch [82][200/655]\tlr: 1.000e-03, eta: 1:49:33, time: 0.536, data_time: 0.007, memory: 1887, loss_cls: 0.2085, loss_bbox: 0.0756, loss_bbox_rf: 0.0951, loss: 0.3793, grad_norm: 1.5105\n",
      "2021-05-14 18:24:28,637 - mmdet - INFO - Epoch [82][250/655]\tlr: 1.000e-03, eta: 1:49:06, time: 0.538, data_time: 0.007, memory: 1887, loss_cls: 0.2336, loss_bbox: 0.0929, loss_bbox_rf: 0.1190, loss: 0.4454, grad_norm: 1.4731\n",
      "2021-05-14 18:24:55,476 - mmdet - INFO - Epoch [82][300/655]\tlr: 1.000e-03, eta: 1:48:39, time: 0.537, data_time: 0.007, memory: 1887, loss_cls: 0.2151, loss_bbox: 0.0798, loss_bbox_rf: 0.1010, loss: 0.3960, grad_norm: 1.4088\n",
      "2021-05-14 18:25:22,441 - mmdet - INFO - Epoch [82][350/655]\tlr: 1.000e-03, eta: 1:48:12, time: 0.539, data_time: 0.007, memory: 1887, loss_cls: 0.2266, loss_bbox: 0.0880, loss_bbox_rf: 0.1116, loss: 0.4263, grad_norm: 1.4794\n",
      "2021-05-14 18:25:49,545 - mmdet - INFO - Epoch [82][400/655]\tlr: 1.000e-03, eta: 1:47:45, time: 0.542, data_time: 0.007, memory: 1887, loss_cls: 0.2176, loss_bbox: 0.0839, loss_bbox_rf: 0.1064, loss: 0.4079, grad_norm: 1.4224\n",
      "2021-05-14 18:26:16,339 - mmdet - INFO - Epoch [82][450/655]\tlr: 1.000e-03, eta: 1:47:19, time: 0.536, data_time: 0.007, memory: 1887, loss_cls: 0.2198, loss_bbox: 0.0834, loss_bbox_rf: 0.1056, loss: 0.4087, grad_norm: 1.4423\n",
      "2021-05-14 18:26:43,195 - mmdet - INFO - Epoch [82][500/655]\tlr: 1.000e-03, eta: 1:46:52, time: 0.537, data_time: 0.007, memory: 1887, loss_cls: 0.2249, loss_bbox: 0.0852, loss_bbox_rf: 0.1084, loss: 0.4185, grad_norm: 1.5297\n",
      "2021-05-14 18:27:09,924 - mmdet - INFO - Epoch [82][550/655]\tlr: 1.000e-03, eta: 1:46:25, time: 0.535, data_time: 0.007, memory: 1887, loss_cls: 0.2211, loss_bbox: 0.0848, loss_bbox_rf: 0.1080, loss: 0.4139, grad_norm: 1.4756\n",
      "2021-05-14 18:27:36,812 - mmdet - INFO - Epoch [82][600/655]\tlr: 1.000e-03, eta: 1:45:58, time: 0.538, data_time: 0.007, memory: 1887, loss_cls: 0.2225, loss_bbox: 0.0844, loss_bbox_rf: 0.1073, loss: 0.4142, grad_norm: 1.5084\n",
      "2021-05-14 18:28:03,636 - mmdet - INFO - Epoch [82][650/655]\tlr: 1.000e-03, eta: 1:45:31, time: 0.536, data_time: 0.007, memory: 1887, loss_cls: 0.2206, loss_bbox: 0.0817, loss_bbox_rf: 0.1030, loss: 0.4053, grad_norm: 1.6465\n",
      "2021-05-14 18:28:06,418 - mmdet - INFO - Saving checkpoint at 82 epochs\n"
     ]
    },
    {
     "name": "stdout",
     "output_type": "stream",
     "text": [
      "[>>>>>>>>>>>>>>>>>>>>>>>>>>>>>] 655/655, 18.2 task/s, elapsed: 36s, ETA:     0s"
     ]
    },
    {
     "name": "stderr",
     "output_type": "stream",
     "text": [
      "2021-05-14 18:28:43,766 - mmdet - INFO - Evaluating bbox...\n"
     ]
    },
    {
     "name": "stdout",
     "output_type": "stream",
     "text": [
      "Loading and preparing results...\n",
      "DONE (t=0.69s)\n",
      "creating index...\n",
      "index created!\n",
      "Running per image evaluation...\n",
      "Evaluate annotation type *bbox*\n",
      "DONE (t=4.88s).\n",
      "Accumulating evaluation results...\n"
     ]
    },
    {
     "name": "stderr",
     "output_type": "stream",
     "text": [
      "2021-05-14 18:28:50,273 - mmdet - INFO - Epoch(val) [82][655]\tbbox_mAP: 0.1920, bbox_mAP_50: 0.2800, bbox_mAP_75: 0.1970, bbox_mAP_s: 0.0260, bbox_mAP_m: 0.1520, bbox_mAP_l: 0.4290, bbox_mAP_copypaste: 0.192 0.280 0.197 0.026 0.152 0.429\n"
     ]
    },
    {
     "name": "stdout",
     "output_type": "stream",
     "text": [
      "DONE (t=0.85s).\n",
      "Average Precision  (AP) @[ IoU=0.50:0.95 | area=   all | maxDets=100 ] = 0.192\n",
      "Average Precision  (AP) @[ IoU=0.50      | area=   all | maxDets=1000 ] = 0.280\n",
      "Average Precision  (AP) @[ IoU=0.75      | area=   all | maxDets=1000 ] = 0.197\n",
      "Average Precision  (AP) @[ IoU=0.50:0.95 | area= small | maxDets=1000 ] = 0.026\n",
      "Average Precision  (AP) @[ IoU=0.50:0.95 | area=medium | maxDets=1000 ] = 0.152\n",
      "Average Precision  (AP) @[ IoU=0.50:0.95 | area= large | maxDets=1000 ] = 0.429\n",
      "Average Recall     (AR) @[ IoU=0.50:0.95 | area=   all | maxDets=100 ] = 0.319\n",
      "Average Recall     (AR) @[ IoU=0.50:0.95 | area=   all | maxDets=300 ] = 0.319\n",
      "Average Recall     (AR) @[ IoU=0.50:0.95 | area=   all | maxDets=1000 ] = 0.319\n",
      "Average Recall     (AR) @[ IoU=0.50:0.95 | area= small | maxDets=1000 ] = 0.083\n",
      "Average Recall     (AR) @[ IoU=0.50:0.95 | area=medium | maxDets=1000 ] = 0.273\n",
      "Average Recall     (AR) @[ IoU=0.50:0.95 | area= large | maxDets=1000 ] = 0.595\n"
     ]
    },
    {
     "name": "stderr",
     "output_type": "stream",
     "text": [
      "2021-05-14 18:29:19,526 - mmdet - INFO - Epoch [83][50/655]\tlr: 1.000e-03, eta: 1:45:02, time: 0.585, data_time: 0.053, memory: 1887, loss_cls: 0.2137, loss_bbox: 0.0815, loss_bbox_rf: 0.1036, loss: 0.3988, grad_norm: 1.4616\n",
      "2021-05-14 18:29:46,531 - mmdet - INFO - Epoch [83][100/655]\tlr: 1.000e-03, eta: 1:44:35, time: 0.540, data_time: 0.008, memory: 1887, loss_cls: 0.2250, loss_bbox: 0.0870, loss_bbox_rf: 0.1109, loss: 0.4229, grad_norm: 1.4877\n",
      "2021-05-14 18:30:13,447 - mmdet - INFO - Epoch [83][150/655]\tlr: 1.000e-03, eta: 1:44:08, time: 0.538, data_time: 0.008, memory: 1887, loss_cls: 0.2206, loss_bbox: 0.0837, loss_bbox_rf: 0.1060, loss: 0.4103, grad_norm: 1.4722\n",
      "2021-05-14 18:30:40,377 - mmdet - INFO - Epoch [83][200/655]\tlr: 1.000e-03, eta: 1:43:41, time: 0.539, data_time: 0.007, memory: 1887, loss_cls: 0.2197, loss_bbox: 0.0838, loss_bbox_rf: 0.1065, loss: 0.4100, grad_norm: 1.4566\n",
      "2021-05-14 18:31:07,151 - mmdet - INFO - Epoch [83][250/655]\tlr: 1.000e-03, eta: 1:43:14, time: 0.535, data_time: 0.007, memory: 1887, loss_cls: 0.2194, loss_bbox: 0.0847, loss_bbox_rf: 0.1074, loss: 0.4115, grad_norm: 1.5119\n",
      "2021-05-14 18:31:33,924 - mmdet - INFO - Epoch [83][300/655]\tlr: 1.000e-03, eta: 1:42:47, time: 0.535, data_time: 0.007, memory: 1887, loss_cls: 0.2260, loss_bbox: 0.0873, loss_bbox_rf: 0.1110, loss: 0.4243, grad_norm: 1.4865\n",
      "2021-05-14 18:32:00,857 - mmdet - INFO - Epoch [83][350/655]\tlr: 1.000e-03, eta: 1:42:21, time: 0.539, data_time: 0.007, memory: 1887, loss_cls: 0.2307, loss_bbox: 0.0890, loss_bbox_rf: 0.1132, loss: 0.4328, grad_norm: 1.5408\n",
      "2021-05-14 18:32:27,662 - mmdet - INFO - Epoch [83][400/655]\tlr: 1.000e-03, eta: 1:41:54, time: 0.536, data_time: 0.007, memory: 1887, loss_cls: 0.2042, loss_bbox: 0.0765, loss_bbox_rf: 0.0968, loss: 0.3775, grad_norm: 1.4790\n",
      "2021-05-14 18:32:54,535 - mmdet - INFO - Epoch [83][450/655]\tlr: 1.000e-03, eta: 1:41:27, time: 0.537, data_time: 0.007, memory: 1887, loss_cls: 0.2126, loss_bbox: 0.0783, loss_bbox_rf: 0.0990, loss: 0.3899, grad_norm: 1.5427\n",
      "2021-05-14 18:33:21,258 - mmdet - INFO - Epoch [83][500/655]\tlr: 1.000e-03, eta: 1:41:00, time: 0.534, data_time: 0.007, memory: 1887, loss_cls: 0.2191, loss_bbox: 0.0826, loss_bbox_rf: 0.1046, loss: 0.4063, grad_norm: 1.5721\n",
      "2021-05-14 18:33:48,062 - mmdet - INFO - Epoch [83][550/655]\tlr: 1.000e-03, eta: 1:40:33, time: 0.536, data_time: 0.007, memory: 1887, loss_cls: 0.2260, loss_bbox: 0.0879, loss_bbox_rf: 0.1114, loss: 0.4252, grad_norm: 1.4955\n",
      "2021-05-14 18:34:14,890 - mmdet - INFO - Epoch [83][600/655]\tlr: 1.000e-03, eta: 1:40:06, time: 0.537, data_time: 0.007, memory: 1887, loss_cls: 0.2176, loss_bbox: 0.0833, loss_bbox_rf: 0.1056, loss: 0.4065, grad_norm: 1.4576\n",
      "2021-05-14 18:34:41,824 - mmdet - INFO - Epoch [83][650/655]\tlr: 1.000e-03, eta: 1:39:40, time: 0.539, data_time: 0.007, memory: 1887, loss_cls: 0.2204, loss_bbox: 0.0853, loss_bbox_rf: 0.1081, loss: 0.4138, grad_norm: 1.4935\n",
      "2021-05-14 18:34:44,595 - mmdet - INFO - Saving checkpoint at 83 epochs\n"
     ]
    },
    {
     "name": "stdout",
     "output_type": "stream",
     "text": [
      "[>>>>>>>>>>>>>>>>>>>>>>>>>>>>>] 655/655, 18.6 task/s, elapsed: 35s, ETA:     0s"
     ]
    },
    {
     "name": "stderr",
     "output_type": "stream",
     "text": [
      "2021-05-14 18:35:21,183 - mmdet - INFO - Evaluating bbox...\n"
     ]
    },
    {
     "name": "stdout",
     "output_type": "stream",
     "text": [
      "Loading and preparing results...\n",
      "DONE (t=0.68s)\n",
      "creating index...\n",
      "index created!\n",
      "Running per image evaluation...\n",
      "Evaluate annotation type *bbox*\n",
      "DONE (t=4.96s).\n",
      "Accumulating evaluation results...\n"
     ]
    },
    {
     "name": "stderr",
     "output_type": "stream",
     "text": [
      "2021-05-14 18:35:27,776 - mmdet - INFO - Epoch(val) [83][655]\tbbox_mAP: 0.1930, bbox_mAP_50: 0.2800, bbox_mAP_75: 0.1970, bbox_mAP_s: 0.0260, bbox_mAP_m: 0.1540, bbox_mAP_l: 0.4280, bbox_mAP_copypaste: 0.193 0.280 0.197 0.026 0.154 0.428\n"
     ]
    },
    {
     "name": "stdout",
     "output_type": "stream",
     "text": [
      "DONE (t=0.86s).\n",
      "Average Precision  (AP) @[ IoU=0.50:0.95 | area=   all | maxDets=100 ] = 0.193\n",
      "Average Precision  (AP) @[ IoU=0.50      | area=   all | maxDets=1000 ] = 0.280\n",
      "Average Precision  (AP) @[ IoU=0.75      | area=   all | maxDets=1000 ] = 0.197\n",
      "Average Precision  (AP) @[ IoU=0.50:0.95 | area= small | maxDets=1000 ] = 0.026\n",
      "Average Precision  (AP) @[ IoU=0.50:0.95 | area=medium | maxDets=1000 ] = 0.154\n",
      "Average Precision  (AP) @[ IoU=0.50:0.95 | area= large | maxDets=1000 ] = 0.428\n",
      "Average Recall     (AR) @[ IoU=0.50:0.95 | area=   all | maxDets=100 ] = 0.318\n",
      "Average Recall     (AR) @[ IoU=0.50:0.95 | area=   all | maxDets=300 ] = 0.318\n",
      "Average Recall     (AR) @[ IoU=0.50:0.95 | area=   all | maxDets=1000 ] = 0.318\n",
      "Average Recall     (AR) @[ IoU=0.50:0.95 | area= small | maxDets=1000 ] = 0.082\n",
      "Average Recall     (AR) @[ IoU=0.50:0.95 | area=medium | maxDets=1000 ] = 0.268\n",
      "Average Recall     (AR) @[ IoU=0.50:0.95 | area= large | maxDets=1000 ] = 0.594\n"
     ]
    },
    {
     "name": "stderr",
     "output_type": "stream",
     "text": [
      "2021-05-14 18:35:56,992 - mmdet - INFO - Epoch [84][50/655]\tlr: 1.000e-03, eta: 1:39:10, time: 0.584, data_time: 0.052, memory: 1887, loss_cls: 0.2254, loss_bbox: 0.0851, loss_bbox_rf: 0.1087, loss: 0.4192, grad_norm: 1.4697\n",
      "2021-05-14 18:36:23,993 - mmdet - INFO - Epoch [84][100/655]\tlr: 1.000e-03, eta: 1:38:43, time: 0.540, data_time: 0.007, memory: 1887, loss_cls: 0.2011, loss_bbox: 0.0766, loss_bbox_rf: 0.0965, loss: 0.3742, grad_norm: 1.4101\n",
      "2021-05-14 18:36:50,927 - mmdet - INFO - Epoch [84][150/655]\tlr: 1.000e-03, eta: 1:38:16, time: 0.539, data_time: 0.007, memory: 1887, loss_cls: 0.2186, loss_bbox: 0.0831, loss_bbox_rf: 0.1053, loss: 0.4070, grad_norm: 1.4719\n",
      "2021-05-14 18:37:17,914 - mmdet - INFO - Epoch [84][200/655]\tlr: 1.000e-03, eta: 1:37:50, time: 0.540, data_time: 0.008, memory: 1887, loss_cls: 0.2107, loss_bbox: 0.0790, loss_bbox_rf: 0.0997, loss: 0.3894, grad_norm: 1.5095\n",
      "2021-05-14 18:37:44,784 - mmdet - INFO - Epoch [84][250/655]\tlr: 1.000e-03, eta: 1:37:23, time: 0.537, data_time: 0.008, memory: 1887, loss_cls: 0.2213, loss_bbox: 0.0837, loss_bbox_rf: 0.1066, loss: 0.4116, grad_norm: 1.5233\n",
      "2021-05-14 18:38:11,671 - mmdet - INFO - Epoch [84][300/655]\tlr: 1.000e-03, eta: 1:36:56, time: 0.538, data_time: 0.008, memory: 1887, loss_cls: 0.2000, loss_bbox: 0.0722, loss_bbox_rf: 0.0909, loss: 0.3632, grad_norm: 1.4892\n",
      "2021-05-14 18:38:38,518 - mmdet - INFO - Epoch [84][350/655]\tlr: 1.000e-03, eta: 1:36:29, time: 0.537, data_time: 0.008, memory: 1887, loss_cls: 0.2217, loss_bbox: 0.0853, loss_bbox_rf: 0.1082, loss: 0.4152, grad_norm: 1.5083\n",
      "2021-05-14 18:39:05,396 - mmdet - INFO - Epoch [84][400/655]\tlr: 1.000e-03, eta: 1:36:02, time: 0.538, data_time: 0.008, memory: 1887, loss_cls: 0.2300, loss_bbox: 0.0918, loss_bbox_rf: 0.1170, loss: 0.4387, grad_norm: 1.5052\n",
      "2021-05-14 18:39:32,252 - mmdet - INFO - Epoch [84][450/655]\tlr: 1.000e-03, eta: 1:35:35, time: 0.537, data_time: 0.007, memory: 1887, loss_cls: 0.2180, loss_bbox: 0.0839, loss_bbox_rf: 0.1064, loss: 0.4084, grad_norm: 1.4189\n",
      "2021-05-14 18:39:59,112 - mmdet - INFO - Epoch [84][500/655]\tlr: 1.000e-03, eta: 1:35:09, time: 0.537, data_time: 0.007, memory: 1887, loss_cls: 0.2213, loss_bbox: 0.0877, loss_bbox_rf: 0.1115, loss: 0.4205, grad_norm: 1.4725\n",
      "2021-05-14 18:40:25,864 - mmdet - INFO - Epoch [84][550/655]\tlr: 1.000e-03, eta: 1:34:42, time: 0.535, data_time: 0.007, memory: 1887, loss_cls: 0.2190, loss_bbox: 0.0822, loss_bbox_rf: 0.1044, loss: 0.4055, grad_norm: 1.4355\n",
      "2021-05-14 18:40:52,665 - mmdet - INFO - Epoch [84][600/655]\tlr: 1.000e-03, eta: 1:34:15, time: 0.536, data_time: 0.007, memory: 1887, loss_cls: 0.2042, loss_bbox: 0.0769, loss_bbox_rf: 0.0976, loss: 0.3787, grad_norm: 1.5342\n",
      "2021-05-14 18:41:19,488 - mmdet - INFO - Epoch [84][650/655]\tlr: 1.000e-03, eta: 1:33:48, time: 0.536, data_time: 0.007, memory: 1887, loss_cls: 0.2143, loss_bbox: 0.0817, loss_bbox_rf: 0.1041, loss: 0.4001, grad_norm: 1.4444\n",
      "2021-05-14 18:41:22,247 - mmdet - INFO - Saving checkpoint at 84 epochs\n"
     ]
    },
    {
     "name": "stdout",
     "output_type": "stream",
     "text": [
      "[>>>>>>>>>>>>>>>>>>>>>>>>>>>>>] 655/655, 18.1 task/s, elapsed: 36s, ETA:     0s"
     ]
    },
    {
     "name": "stderr",
     "output_type": "stream",
     "text": [
      "2021-05-14 18:41:59,628 - mmdet - INFO - Evaluating bbox...\n"
     ]
    },
    {
     "name": "stdout",
     "output_type": "stream",
     "text": [
      "Loading and preparing results...\n",
      "DONE (t=0.70s)\n",
      "creating index...\n",
      "index created!\n",
      "Running per image evaluation...\n",
      "Evaluate annotation type *bbox*\n",
      "DONE (t=5.03s).\n",
      "Accumulating evaluation results...\n"
     ]
    },
    {
     "name": "stderr",
     "output_type": "stream",
     "text": [
      "2021-05-14 18:42:06,306 - mmdet - INFO - Epoch(val) [84][655]\tbbox_mAP: 0.1910, bbox_mAP_50: 0.2790, bbox_mAP_75: 0.1960, bbox_mAP_s: 0.0250, bbox_mAP_m: 0.1520, bbox_mAP_l: 0.4260, bbox_mAP_copypaste: 0.191 0.279 0.196 0.025 0.152 0.426\n"
     ]
    },
    {
     "name": "stdout",
     "output_type": "stream",
     "text": [
      "DONE (t=0.86s).\n",
      "Average Precision  (AP) @[ IoU=0.50:0.95 | area=   all | maxDets=100 ] = 0.191\n",
      "Average Precision  (AP) @[ IoU=0.50      | area=   all | maxDets=1000 ] = 0.279\n",
      "Average Precision  (AP) @[ IoU=0.75      | area=   all | maxDets=1000 ] = 0.196\n",
      "Average Precision  (AP) @[ IoU=0.50:0.95 | area= small | maxDets=1000 ] = 0.025\n",
      "Average Precision  (AP) @[ IoU=0.50:0.95 | area=medium | maxDets=1000 ] = 0.152\n",
      "Average Precision  (AP) @[ IoU=0.50:0.95 | area= large | maxDets=1000 ] = 0.426\n",
      "Average Recall     (AR) @[ IoU=0.50:0.95 | area=   all | maxDets=100 ] = 0.315\n",
      "Average Recall     (AR) @[ IoU=0.50:0.95 | area=   all | maxDets=300 ] = 0.315\n",
      "Average Recall     (AR) @[ IoU=0.50:0.95 | area=   all | maxDets=1000 ] = 0.315\n",
      "Average Recall     (AR) @[ IoU=0.50:0.95 | area= small | maxDets=1000 ] = 0.084\n",
      "Average Recall     (AR) @[ IoU=0.50:0.95 | area=medium | maxDets=1000 ] = 0.268\n",
      "Average Recall     (AR) @[ IoU=0.50:0.95 | area= large | maxDets=1000 ] = 0.587\n"
     ]
    },
    {
     "name": "stderr",
     "output_type": "stream",
     "text": [
      "2021-05-14 18:42:35,424 - mmdet - INFO - Epoch [85][50/655]\tlr: 1.000e-03, eta: 1:33:18, time: 0.582, data_time: 0.053, memory: 1887, loss_cls: 0.2167, loss_bbox: 0.0837, loss_bbox_rf: 0.1066, loss: 0.4070, grad_norm: 1.4217\n",
      "2021-05-14 18:43:02,075 - mmdet - INFO - Epoch [85][100/655]\tlr: 1.000e-03, eta: 1:32:51, time: 0.533, data_time: 0.007, memory: 1887, loss_cls: 0.2206, loss_bbox: 0.0858, loss_bbox_rf: 0.1090, loss: 0.4154, grad_norm: 1.4472\n",
      "2021-05-14 18:43:28,713 - mmdet - INFO - Epoch [85][150/655]\tlr: 1.000e-03, eta: 1:32:25, time: 0.533, data_time: 0.007, memory: 1887, loss_cls: 0.2099, loss_bbox: 0.0812, loss_bbox_rf: 0.1030, loss: 0.3942, grad_norm: 1.4650\n",
      "2021-05-14 18:43:55,270 - mmdet - INFO - Epoch [85][200/655]\tlr: 1.000e-03, eta: 1:31:58, time: 0.531, data_time: 0.007, memory: 1887, loss_cls: 0.2036, loss_bbox: 0.0744, loss_bbox_rf: 0.0942, loss: 0.3722, grad_norm: 1.4863\n",
      "2021-05-14 18:44:22,024 - mmdet - INFO - Epoch [85][250/655]\tlr: 1.000e-03, eta: 1:31:31, time: 0.535, data_time: 0.007, memory: 1887, loss_cls: 0.1966, loss_bbox: 0.0724, loss_bbox_rf: 0.0913, loss: 0.3603, grad_norm: 1.5197\n",
      "2021-05-14 18:44:48,803 - mmdet - INFO - Epoch [85][300/655]\tlr: 1.000e-03, eta: 1:31:04, time: 0.536, data_time: 0.007, memory: 1887, loss_cls: 0.2069, loss_bbox: 0.0784, loss_bbox_rf: 0.0987, loss: 0.3840, grad_norm: 1.5097\n",
      "2021-05-14 18:45:15,524 - mmdet - INFO - Epoch [85][350/655]\tlr: 1.000e-03, eta: 1:30:37, time: 0.534, data_time: 0.007, memory: 1887, loss_cls: 0.2144, loss_bbox: 0.0831, loss_bbox_rf: 0.1055, loss: 0.4031, grad_norm: 1.4645\n",
      "2021-05-14 18:45:42,049 - mmdet - INFO - Epoch [85][400/655]\tlr: 1.000e-03, eta: 1:30:10, time: 0.530, data_time: 0.007, memory: 1887, loss_cls: 0.2229, loss_bbox: 0.0842, loss_bbox_rf: 0.1073, loss: 0.4145, grad_norm: 1.4576\n",
      "2021-05-14 18:46:08,687 - mmdet - INFO - Epoch [85][450/655]\tlr: 1.000e-03, eta: 1:29:43, time: 0.533, data_time: 0.007, memory: 1887, loss_cls: 0.2026, loss_bbox: 0.0755, loss_bbox_rf: 0.0954, loss: 0.3735, grad_norm: 1.4045\n",
      "2021-05-14 18:46:35,387 - mmdet - INFO - Epoch [85][500/655]\tlr: 1.000e-03, eta: 1:29:16, time: 0.534, data_time: 0.007, memory: 1887, loss_cls: 0.2217, loss_bbox: 0.0835, loss_bbox_rf: 0.1059, loss: 0.4111, grad_norm: 1.4898\n",
      "2021-05-14 18:47:02,131 - mmdet - INFO - Epoch [85][550/655]\tlr: 1.000e-03, eta: 1:28:50, time: 0.535, data_time: 0.007, memory: 1887, loss_cls: 0.2118, loss_bbox: 0.0801, loss_bbox_rf: 0.1019, loss: 0.3939, grad_norm: 1.4395\n",
      "2021-05-14 18:47:28,787 - mmdet - INFO - Epoch [85][600/655]\tlr: 1.000e-03, eta: 1:28:23, time: 0.533, data_time: 0.007, memory: 1887, loss_cls: 0.2037, loss_bbox: 0.0763, loss_bbox_rf: 0.0967, loss: 0.3768, grad_norm: 1.4463\n",
      "2021-05-14 18:47:55,806 - mmdet - INFO - Epoch [85][650/655]\tlr: 1.000e-03, eta: 1:27:56, time: 0.540, data_time: 0.008, memory: 1887, loss_cls: 0.2106, loss_bbox: 0.0816, loss_bbox_rf: 0.1036, loss: 0.3957, grad_norm: 1.3907\n",
      "2021-05-14 18:47:58,565 - mmdet - INFO - Saving checkpoint at 85 epochs\n"
     ]
    },
    {
     "name": "stdout",
     "output_type": "stream",
     "text": [
      "[>>>>>>>>>>>>>>>>>>>>>>>>>>>>>] 655/655, 18.8 task/s, elapsed: 35s, ETA:     0s"
     ]
    },
    {
     "name": "stderr",
     "output_type": "stream",
     "text": [
      "2021-05-14 18:48:35,292 - mmdet - INFO - Evaluating bbox...\n"
     ]
    },
    {
     "name": "stdout",
     "output_type": "stream",
     "text": [
      "Loading and preparing results...\n",
      "DONE (t=0.11s)\n",
      "creating index...\n",
      "index created!\n",
      "Running per image evaluation...\n",
      "Evaluate annotation type *bbox*\n",
      "DONE (t=4.65s).\n",
      "Accumulating evaluation results...\n"
     ]
    },
    {
     "name": "stderr",
     "output_type": "stream",
     "text": [
      "2021-05-14 18:48:41,536 - mmdet - INFO - Epoch(val) [85][655]\tbbox_mAP: 0.1930, bbox_mAP_50: 0.2790, bbox_mAP_75: 0.1970, bbox_mAP_s: 0.0250, bbox_mAP_m: 0.1550, bbox_mAP_l: 0.4270, bbox_mAP_copypaste: 0.193 0.279 0.197 0.025 0.155 0.427\n"
     ]
    },
    {
     "name": "stdout",
     "output_type": "stream",
     "text": [
      "DONE (t=1.39s).\n",
      "Average Precision  (AP) @[ IoU=0.50:0.95 | area=   all | maxDets=100 ] = 0.193\n",
      "Average Precision  (AP) @[ IoU=0.50      | area=   all | maxDets=1000 ] = 0.279\n",
      "Average Precision  (AP) @[ IoU=0.75      | area=   all | maxDets=1000 ] = 0.197\n",
      "Average Precision  (AP) @[ IoU=0.50:0.95 | area= small | maxDets=1000 ] = 0.025\n",
      "Average Precision  (AP) @[ IoU=0.50:0.95 | area=medium | maxDets=1000 ] = 0.155\n",
      "Average Precision  (AP) @[ IoU=0.50:0.95 | area= large | maxDets=1000 ] = 0.427\n",
      "Average Recall     (AR) @[ IoU=0.50:0.95 | area=   all | maxDets=100 ] = 0.316\n",
      "Average Recall     (AR) @[ IoU=0.50:0.95 | area=   all | maxDets=300 ] = 0.316\n",
      "Average Recall     (AR) @[ IoU=0.50:0.95 | area=   all | maxDets=1000 ] = 0.316\n",
      "Average Recall     (AR) @[ IoU=0.50:0.95 | area= small | maxDets=1000 ] = 0.083\n",
      "Average Recall     (AR) @[ IoU=0.50:0.95 | area=medium | maxDets=1000 ] = 0.270\n",
      "Average Recall     (AR) @[ IoU=0.50:0.95 | area= large | maxDets=1000 ] = 0.588\n"
     ]
    },
    {
     "name": "stderr",
     "output_type": "stream",
     "text": [
      "2021-05-14 18:49:10,514 - mmdet - INFO - Epoch [86][50/655]\tlr: 1.000e-03, eta: 1:27:26, time: 0.579, data_time: 0.052, memory: 1887, loss_cls: 0.2043, loss_bbox: 0.0802, loss_bbox_rf: 0.1015, loss: 0.3859, grad_norm: 1.4561\n",
      "2021-05-14 18:49:37,126 - mmdet - INFO - Epoch [86][100/655]\tlr: 1.000e-03, eta: 1:26:59, time: 0.532, data_time: 0.007, memory: 1887, loss_cls: 0.2071, loss_bbox: 0.0840, loss_bbox_rf: 0.1070, loss: 0.3981, grad_norm: 1.4350\n",
      "2021-05-14 18:50:03,790 - mmdet - INFO - Epoch [86][150/655]\tlr: 1.000e-03, eta: 1:26:33, time: 0.533, data_time: 0.007, memory: 1887, loss_cls: 0.2060, loss_bbox: 0.0761, loss_bbox_rf: 0.0963, loss: 0.3783, grad_norm: 1.4339\n",
      "2021-05-14 18:50:30,525 - mmdet - INFO - Epoch [86][200/655]\tlr: 1.000e-03, eta: 1:26:06, time: 0.535, data_time: 0.007, memory: 1887, loss_cls: 0.2051, loss_bbox: 0.0779, loss_bbox_rf: 0.0985, loss: 0.3815, grad_norm: 1.5594\n",
      "2021-05-14 18:50:57,177 - mmdet - INFO - Epoch [86][250/655]\tlr: 1.000e-03, eta: 1:25:39, time: 0.533, data_time: 0.007, memory: 1887, loss_cls: 0.2072, loss_bbox: 0.0774, loss_bbox_rf: 0.0982, loss: 0.3828, grad_norm: 1.4392\n",
      "2021-05-14 18:51:23,736 - mmdet - INFO - Epoch [86][300/655]\tlr: 1.000e-03, eta: 1:25:12, time: 0.531, data_time: 0.007, memory: 1887, loss_cls: 0.2111, loss_bbox: 0.0808, loss_bbox_rf: 0.1024, loss: 0.3943, grad_norm: 1.5638\n",
      "2021-05-14 18:51:50,328 - mmdet - INFO - Epoch [86][350/655]\tlr: 1.000e-03, eta: 1:24:45, time: 0.532, data_time: 0.007, memory: 1887, loss_cls: 0.2146, loss_bbox: 0.0817, loss_bbox_rf: 0.1039, loss: 0.4003, grad_norm: 1.4315\n",
      "2021-05-14 18:52:16,966 - mmdet - INFO - Epoch [86][400/655]\tlr: 1.000e-03, eta: 1:24:18, time: 0.533, data_time: 0.007, memory: 1887, loss_cls: 0.2017, loss_bbox: 0.0741, loss_bbox_rf: 0.0938, loss: 0.3696, grad_norm: 1.4967\n",
      "2021-05-14 18:52:43,713 - mmdet - INFO - Epoch [86][450/655]\tlr: 1.000e-03, eta: 1:23:51, time: 0.535, data_time: 0.007, memory: 1887, loss_cls: 0.2211, loss_bbox: 0.0853, loss_bbox_rf: 0.1087, loss: 0.4151, grad_norm: 1.4289\n",
      "2021-05-14 18:53:10,414 - mmdet - INFO - Epoch [86][500/655]\tlr: 1.000e-03, eta: 1:23:25, time: 0.534, data_time: 0.007, memory: 1887, loss_cls: 0.2138, loss_bbox: 0.0835, loss_bbox_rf: 0.1060, loss: 0.4033, grad_norm: 1.5099\n",
      "2021-05-14 18:53:37,087 - mmdet - INFO - Epoch [86][550/655]\tlr: 1.000e-03, eta: 1:22:58, time: 0.533, data_time: 0.007, memory: 1887, loss_cls: 0.2081, loss_bbox: 0.0788, loss_bbox_rf: 0.0994, loss: 0.3864, grad_norm: 1.5111\n",
      "2021-05-14 18:54:03,784 - mmdet - INFO - Epoch [86][600/655]\tlr: 1.000e-03, eta: 1:22:31, time: 0.534, data_time: 0.007, memory: 1887, loss_cls: 0.2164, loss_bbox: 0.0831, loss_bbox_rf: 0.1051, loss: 0.4046, grad_norm: 1.6018\n",
      "2021-05-14 18:54:30,428 - mmdet - INFO - Epoch [86][650/655]\tlr: 1.000e-03, eta: 1:22:04, time: 0.533, data_time: 0.007, memory: 1887, loss_cls: 0.2209, loss_bbox: 0.0850, loss_bbox_rf: 0.1083, loss: 0.4142, grad_norm: 1.4974\n",
      "2021-05-14 18:54:33,183 - mmdet - INFO - Saving checkpoint at 86 epochs\n"
     ]
    },
    {
     "name": "stdout",
     "output_type": "stream",
     "text": [
      "[>>>>>>>>>>>>>>>>>>>>>>>>>>>>>] 655/655, 19.1 task/s, elapsed: 34s, ETA:     0s"
     ]
    },
    {
     "name": "stderr",
     "output_type": "stream",
     "text": [
      "2021-05-14 18:55:08,565 - mmdet - INFO - Evaluating bbox...\n"
     ]
    },
    {
     "name": "stdout",
     "output_type": "stream",
     "text": [
      "Loading and preparing results...\n",
      "DONE (t=0.11s)\n",
      "creating index...\n",
      "index created!\n",
      "Running per image evaluation...\n",
      "Evaluate annotation type *bbox*\n",
      "DONE (t=4.68s).\n",
      "Accumulating evaluation results...\n"
     ]
    },
    {
     "name": "stderr",
     "output_type": "stream",
     "text": [
      "2021-05-14 18:55:14,282 - mmdet - INFO - Epoch(val) [86][655]\tbbox_mAP: 0.1920, bbox_mAP_50: 0.2800, bbox_mAP_75: 0.1970, bbox_mAP_s: 0.0260, bbox_mAP_m: 0.1560, bbox_mAP_l: 0.4270, bbox_mAP_copypaste: 0.192 0.280 0.197 0.026 0.156 0.427\n"
     ]
    },
    {
     "name": "stdout",
     "output_type": "stream",
     "text": [
      "DONE (t=0.84s).\n",
      "Average Precision  (AP) @[ IoU=0.50:0.95 | area=   all | maxDets=100 ] = 0.192\n",
      "Average Precision  (AP) @[ IoU=0.50      | area=   all | maxDets=1000 ] = 0.280\n",
      "Average Precision  (AP) @[ IoU=0.75      | area=   all | maxDets=1000 ] = 0.197\n",
      "Average Precision  (AP) @[ IoU=0.50:0.95 | area= small | maxDets=1000 ] = 0.026\n",
      "Average Precision  (AP) @[ IoU=0.50:0.95 | area=medium | maxDets=1000 ] = 0.156\n",
      "Average Precision  (AP) @[ IoU=0.50:0.95 | area= large | maxDets=1000 ] = 0.427\n",
      "Average Recall     (AR) @[ IoU=0.50:0.95 | area=   all | maxDets=100 ] = 0.315\n",
      "Average Recall     (AR) @[ IoU=0.50:0.95 | area=   all | maxDets=300 ] = 0.315\n",
      "Average Recall     (AR) @[ IoU=0.50:0.95 | area=   all | maxDets=1000 ] = 0.315\n",
      "Average Recall     (AR) @[ IoU=0.50:0.95 | area= small | maxDets=1000 ] = 0.080\n",
      "Average Recall     (AR) @[ IoU=0.50:0.95 | area=medium | maxDets=1000 ] = 0.270\n",
      "Average Recall     (AR) @[ IoU=0.50:0.95 | area= large | maxDets=1000 ] = 0.587\n"
     ]
    },
    {
     "name": "stderr",
     "output_type": "stream",
     "text": [
      "2021-05-14 18:55:43,233 - mmdet - INFO - Epoch [87][50/655]\tlr: 1.000e-03, eta: 1:21:34, time: 0.579, data_time: 0.052, memory: 1887, loss_cls: 0.2105, loss_bbox: 0.0808, loss_bbox_rf: 0.1027, loss: 0.3940, grad_norm: 1.4138\n",
      "2021-05-14 18:56:09,870 - mmdet - INFO - Epoch [87][100/655]\tlr: 1.000e-03, eta: 1:21:07, time: 0.533, data_time: 0.007, memory: 1887, loss_cls: 0.1942, loss_bbox: 0.0736, loss_bbox_rf: 0.0929, loss: 0.3607, grad_norm: 1.5036\n",
      "2021-05-14 18:56:36,524 - mmdet - INFO - Epoch [87][150/655]\tlr: 1.000e-03, eta: 1:20:41, time: 0.533, data_time: 0.007, memory: 1887, loss_cls: 0.2044, loss_bbox: 0.0773, loss_bbox_rf: 0.0980, loss: 0.3796, grad_norm: 1.4302\n",
      "2021-05-14 18:57:03,191 - mmdet - INFO - Epoch [87][200/655]\tlr: 1.000e-03, eta: 1:20:14, time: 0.533, data_time: 0.007, memory: 1887, loss_cls: 0.2058, loss_bbox: 0.0787, loss_bbox_rf: 0.0989, loss: 0.3834, grad_norm: 1.4465\n",
      "2021-05-14 18:57:29,915 - mmdet - INFO - Epoch [87][250/655]\tlr: 1.000e-03, eta: 1:19:47, time: 0.534, data_time: 0.007, memory: 1887, loss_cls: 0.2020, loss_bbox: 0.0772, loss_bbox_rf: 0.0979, loss: 0.3770, grad_norm: 1.5007\n",
      "2021-05-14 18:57:56,603 - mmdet - INFO - Epoch [87][300/655]\tlr: 1.000e-03, eta: 1:19:20, time: 0.534, data_time: 0.007, memory: 1887, loss_cls: 0.2035, loss_bbox: 0.0803, loss_bbox_rf: 0.1021, loss: 0.3859, grad_norm: 1.4153\n",
      "2021-05-14 18:58:23,214 - mmdet - INFO - Epoch [87][350/655]\tlr: 1.000e-03, eta: 1:18:53, time: 0.532, data_time: 0.007, memory: 1887, loss_cls: 0.2057, loss_bbox: 0.0777, loss_bbox_rf: 0.0987, loss: 0.3821, grad_norm: 1.4670\n",
      "2021-05-14 18:58:49,802 - mmdet - INFO - Epoch [87][400/655]\tlr: 1.000e-03, eta: 1:18:26, time: 0.532, data_time: 0.007, memory: 1887, loss_cls: 0.2102, loss_bbox: 0.0835, loss_bbox_rf: 0.1064, loss: 0.4001, grad_norm: 1.4949\n",
      "2021-05-14 18:59:16,350 - mmdet - INFO - Epoch [87][450/655]\tlr: 1.000e-03, eta: 1:17:59, time: 0.531, data_time: 0.007, memory: 1887, loss_cls: 0.2072, loss_bbox: 0.0810, loss_bbox_rf: 0.1029, loss: 0.3911, grad_norm: 1.4945\n",
      "2021-05-14 18:59:42,857 - mmdet - INFO - Epoch [87][500/655]\tlr: 1.000e-03, eta: 1:17:33, time: 0.530, data_time: 0.007, memory: 1887, loss_cls: 0.2146, loss_bbox: 0.0822, loss_bbox_rf: 0.1043, loss: 0.4011, grad_norm: 1.3266\n",
      "2021-05-14 19:00:09,350 - mmdet - INFO - Epoch [87][550/655]\tlr: 1.000e-03, eta: 1:17:06, time: 0.530, data_time: 0.007, memory: 1887, loss_cls: 0.2132, loss_bbox: 0.0791, loss_bbox_rf: 0.1005, loss: 0.3929, grad_norm: 1.4385\n",
      "2021-05-14 19:00:35,871 - mmdet - INFO - Epoch [87][600/655]\tlr: 1.000e-03, eta: 1:16:39, time: 0.530, data_time: 0.006, memory: 1887, loss_cls: 0.1983, loss_bbox: 0.0735, loss_bbox_rf: 0.0928, loss: 0.3647, grad_norm: 1.5258\n",
      "2021-05-14 19:01:02,468 - mmdet - INFO - Epoch [87][650/655]\tlr: 1.000e-03, eta: 1:16:12, time: 0.532, data_time: 0.007, memory: 1887, loss_cls: 0.2226, loss_bbox: 0.0842, loss_bbox_rf: 0.1070, loss: 0.4138, grad_norm: 1.5593\n",
      "2021-05-14 19:01:05,230 - mmdet - INFO - Saving checkpoint at 87 epochs\n"
     ]
    },
    {
     "name": "stdout",
     "output_type": "stream",
     "text": [
      "[>>>>>>>>>>>>>>>>>>>>>>>>>>>>>] 655/655, 19.0 task/s, elapsed: 34s, ETA:     0s"
     ]
    },
    {
     "name": "stderr",
     "output_type": "stream",
     "text": [
      "2021-05-14 19:01:41,476 - mmdet - INFO - Evaluating bbox...\n"
     ]
    },
    {
     "name": "stdout",
     "output_type": "stream",
     "text": [
      "Loading and preparing results...\n",
      "DONE (t=0.10s)\n",
      "creating index...\n",
      "index created!\n",
      "Running per image evaluation...\n",
      "Evaluate annotation type *bbox*\n",
      "DONE (t=4.63s).\n",
      "Accumulating evaluation results...\n"
     ]
    },
    {
     "name": "stderr",
     "output_type": "stream",
     "text": [
      "2021-05-14 19:01:47,695 - mmdet - INFO - Epoch(val) [87][655]\tbbox_mAP: 0.1920, bbox_mAP_50: 0.2790, bbox_mAP_75: 0.1980, bbox_mAP_s: 0.0270, bbox_mAP_m: 0.1530, bbox_mAP_l: 0.4270, bbox_mAP_copypaste: 0.192 0.279 0.198 0.027 0.153 0.427\n"
     ]
    },
    {
     "name": "stdout",
     "output_type": "stream",
     "text": [
      "DONE (t=1.41s).\n",
      "Average Precision  (AP) @[ IoU=0.50:0.95 | area=   all | maxDets=100 ] = 0.192\n",
      "Average Precision  (AP) @[ IoU=0.50      | area=   all | maxDets=1000 ] = 0.279\n",
      "Average Precision  (AP) @[ IoU=0.75      | area=   all | maxDets=1000 ] = 0.198\n",
      "Average Precision  (AP) @[ IoU=0.50:0.95 | area= small | maxDets=1000 ] = 0.027\n",
      "Average Precision  (AP) @[ IoU=0.50:0.95 | area=medium | maxDets=1000 ] = 0.153\n",
      "Average Precision  (AP) @[ IoU=0.50:0.95 | area= large | maxDets=1000 ] = 0.427\n",
      "Average Recall     (AR) @[ IoU=0.50:0.95 | area=   all | maxDets=100 ] = 0.318\n",
      "Average Recall     (AR) @[ IoU=0.50:0.95 | area=   all | maxDets=300 ] = 0.318\n",
      "Average Recall     (AR) @[ IoU=0.50:0.95 | area=   all | maxDets=1000 ] = 0.318\n",
      "Average Recall     (AR) @[ IoU=0.50:0.95 | area= small | maxDets=1000 ] = 0.080\n",
      "Average Recall     (AR) @[ IoU=0.50:0.95 | area=medium | maxDets=1000 ] = 0.270\n",
      "Average Recall     (AR) @[ IoU=0.50:0.95 | area= large | maxDets=1000 ] = 0.594\n"
     ]
    },
    {
     "name": "stderr",
     "output_type": "stream",
     "text": [
      "2021-05-14 19:02:16,668 - mmdet - INFO - Epoch [88][50/655]\tlr: 1.000e-03, eta: 1:15:42, time: 0.579, data_time: 0.052, memory: 1887, loss_cls: 0.1965, loss_bbox: 0.0719, loss_bbox_rf: 0.0908, loss: 0.3592, grad_norm: 1.5162\n",
      "2021-05-14 19:02:43,281 - mmdet - INFO - Epoch [88][100/655]\tlr: 1.000e-03, eta: 1:15:15, time: 0.532, data_time: 0.007, memory: 1887, loss_cls: 0.1946, loss_bbox: 0.0719, loss_bbox_rf: 0.0909, loss: 0.3574, grad_norm: 1.3628\n",
      "2021-05-14 19:03:09,990 - mmdet - INFO - Epoch [88][150/655]\tlr: 1.000e-03, eta: 1:14:49, time: 0.534, data_time: 0.007, memory: 1887, loss_cls: 0.1940, loss_bbox: 0.0713, loss_bbox_rf: 0.0900, loss: 0.3552, grad_norm: 1.3938\n",
      "2021-05-14 19:03:36,513 - mmdet - INFO - Epoch [88][200/655]\tlr: 1.000e-03, eta: 1:14:22, time: 0.530, data_time: 0.007, memory: 1887, loss_cls: 0.1948, loss_bbox: 0.0747, loss_bbox_rf: 0.0941, loss: 0.3637, grad_norm: 1.4320\n",
      "2021-05-14 19:04:03,032 - mmdet - INFO - Epoch [88][250/655]\tlr: 1.000e-03, eta: 1:13:55, time: 0.530, data_time: 0.007, memory: 1887, loss_cls: 0.2213, loss_bbox: 0.0901, loss_bbox_rf: 0.1151, loss: 0.4265, grad_norm: 1.3964\n",
      "2021-05-14 19:04:29,689 - mmdet - INFO - Epoch [88][300/655]\tlr: 1.000e-03, eta: 1:13:28, time: 0.533, data_time: 0.007, memory: 1887, loss_cls: 0.2314, loss_bbox: 0.0911, loss_bbox_rf: 0.1164, loss: 0.4389, grad_norm: 1.5076\n",
      "2021-05-14 19:04:56,387 - mmdet - INFO - Epoch [88][350/655]\tlr: 1.000e-03, eta: 1:13:01, time: 0.534, data_time: 0.007, memory: 1887, loss_cls: 0.1891, loss_bbox: 0.0670, loss_bbox_rf: 0.0840, loss: 0.3401, grad_norm: 1.4173\n",
      "2021-05-14 19:05:23,008 - mmdet - INFO - Epoch [88][400/655]\tlr: 1.000e-03, eta: 1:12:34, time: 0.532, data_time: 0.007, memory: 1887, loss_cls: 0.2004, loss_bbox: 0.0754, loss_bbox_rf: 0.0954, loss: 0.3711, grad_norm: 1.5052\n",
      "2021-05-14 19:05:49,544 - mmdet - INFO - Epoch [88][450/655]\tlr: 1.000e-03, eta: 1:12:07, time: 0.531, data_time: 0.007, memory: 1887, loss_cls: 0.2064, loss_bbox: 0.0807, loss_bbox_rf: 0.1029, loss: 0.3901, grad_norm: 1.4149\n",
      "2021-05-14 19:06:16,168 - mmdet - INFO - Epoch [88][500/655]\tlr: 1.000e-03, eta: 1:11:41, time: 0.532, data_time: 0.007, memory: 1887, loss_cls: 0.2129, loss_bbox: 0.0879, loss_bbox_rf: 0.1123, loss: 0.4130, grad_norm: 1.4897\n",
      "2021-05-14 19:06:42,756 - mmdet - INFO - Epoch [88][550/655]\tlr: 1.000e-03, eta: 1:11:14, time: 0.532, data_time: 0.007, memory: 1887, loss_cls: 0.2139, loss_bbox: 0.0844, loss_bbox_rf: 0.1075, loss: 0.4058, grad_norm: 1.4699\n",
      "2021-05-14 19:07:09,286 - mmdet - INFO - Epoch [88][600/655]\tlr: 1.000e-03, eta: 1:10:47, time: 0.531, data_time: 0.007, memory: 1887, loss_cls: 0.1896, loss_bbox: 0.0705, loss_bbox_rf: 0.0885, loss: 0.3486, grad_norm: 1.4256\n",
      "2021-05-14 19:07:35,873 - mmdet - INFO - Epoch [88][650/655]\tlr: 1.000e-03, eta: 1:10:20, time: 0.532, data_time: 0.007, memory: 1887, loss_cls: 0.2099, loss_bbox: 0.0790, loss_bbox_rf: 0.1002, loss: 0.3890, grad_norm: 1.5288\n",
      "2021-05-14 19:07:38,607 - mmdet - INFO - Saving checkpoint at 88 epochs\n"
     ]
    },
    {
     "name": "stdout",
     "output_type": "stream",
     "text": [
      "[>>>>>>>>>>>>>>>>>>>>>>>>>>>>>] 655/655, 18.7 task/s, elapsed: 35s, ETA:     0s"
     ]
    },
    {
     "name": "stderr",
     "output_type": "stream",
     "text": [
      "2021-05-14 19:08:14,960 - mmdet - INFO - Evaluating bbox...\n"
     ]
    },
    {
     "name": "stdout",
     "output_type": "stream",
     "text": [
      "Loading and preparing results...\n",
      "DONE (t=0.11s)\n",
      "creating index...\n",
      "index created!\n",
      "Running per image evaluation...\n",
      "Evaluate annotation type *bbox*\n",
      "DONE (t=4.62s).\n",
      "Accumulating evaluation results...\n"
     ]
    },
    {
     "name": "stderr",
     "output_type": "stream",
     "text": [
      "2021-05-14 19:08:20,605 - mmdet - INFO - Epoch(val) [88][655]\tbbox_mAP: 0.1910, bbox_mAP_50: 0.2790, bbox_mAP_75: 0.1970, bbox_mAP_s: 0.0250, bbox_mAP_m: 0.1530, bbox_mAP_l: 0.4260, bbox_mAP_copypaste: 0.191 0.279 0.197 0.025 0.153 0.426\n"
     ]
    },
    {
     "name": "stdout",
     "output_type": "stream",
     "text": [
      "DONE (t=0.83s).\n",
      "Average Precision  (AP) @[ IoU=0.50:0.95 | area=   all | maxDets=100 ] = 0.191\n",
      "Average Precision  (AP) @[ IoU=0.50      | area=   all | maxDets=1000 ] = 0.279\n",
      "Average Precision  (AP) @[ IoU=0.75      | area=   all | maxDets=1000 ] = 0.197\n",
      "Average Precision  (AP) @[ IoU=0.50:0.95 | area= small | maxDets=1000 ] = 0.025\n",
      "Average Precision  (AP) @[ IoU=0.50:0.95 | area=medium | maxDets=1000 ] = 0.153\n",
      "Average Precision  (AP) @[ IoU=0.50:0.95 | area= large | maxDets=1000 ] = 0.426\n",
      "Average Recall     (AR) @[ IoU=0.50:0.95 | area=   all | maxDets=100 ] = 0.316\n",
      "Average Recall     (AR) @[ IoU=0.50:0.95 | area=   all | maxDets=300 ] = 0.316\n",
      "Average Recall     (AR) @[ IoU=0.50:0.95 | area=   all | maxDets=1000 ] = 0.316\n",
      "Average Recall     (AR) @[ IoU=0.50:0.95 | area= small | maxDets=1000 ] = 0.080\n",
      "Average Recall     (AR) @[ IoU=0.50:0.95 | area=medium | maxDets=1000 ] = 0.264\n",
      "Average Recall     (AR) @[ IoU=0.50:0.95 | area= large | maxDets=1000 ] = 0.592\n"
     ]
    },
    {
     "name": "stderr",
     "output_type": "stream",
     "text": [
      "2021-05-14 19:08:49,680 - mmdet - INFO - Epoch [89][50/655]\tlr: 1.000e-03, eta: 1:09:50, time: 0.581, data_time: 0.052, memory: 1887, loss_cls: 0.2008, loss_bbox: 0.0759, loss_bbox_rf: 0.0962, loss: 0.3728, grad_norm: 1.4169\n",
      "2021-05-14 19:09:16,560 - mmdet - INFO - Epoch [89][100/655]\tlr: 1.000e-03, eta: 1:09:24, time: 0.538, data_time: 0.007, memory: 1887, loss_cls: 0.2072, loss_bbox: 0.0811, loss_bbox_rf: 0.1030, loss: 0.3914, grad_norm: 1.5291\n",
      "2021-05-14 19:09:43,351 - mmdet - INFO - Epoch [89][150/655]\tlr: 1.000e-03, eta: 1:08:57, time: 0.536, data_time: 0.007, memory: 1887, loss_cls: 0.2091, loss_bbox: 0.0810, loss_bbox_rf: 0.1029, loss: 0.3930, grad_norm: 1.4831\n",
      "2021-05-14 19:10:09,951 - mmdet - INFO - Epoch [89][200/655]\tlr: 1.000e-03, eta: 1:08:30, time: 0.532, data_time: 0.007, memory: 1887, loss_cls: 0.1995, loss_bbox: 0.0765, loss_bbox_rf: 0.0966, loss: 0.3727, grad_norm: 1.4141\n",
      "2021-05-14 19:10:36,595 - mmdet - INFO - Epoch [89][250/655]\tlr: 1.000e-03, eta: 1:08:03, time: 0.533, data_time: 0.007, memory: 1887, loss_cls: 0.2125, loss_bbox: 0.0844, loss_bbox_rf: 0.1074, loss: 0.4043, grad_norm: 1.3854\n",
      "2021-05-14 19:11:03,579 - mmdet - INFO - Epoch [89][300/655]\tlr: 1.000e-03, eta: 1:07:36, time: 0.540, data_time: 0.007, memory: 1887, loss_cls: 0.1973, loss_bbox: 0.0741, loss_bbox_rf: 0.0934, loss: 0.3648, grad_norm: 1.4683\n",
      "2021-05-14 19:11:30,313 - mmdet - INFO - Epoch [89][350/655]\tlr: 1.000e-03, eta: 1:07:09, time: 0.535, data_time: 0.007, memory: 1887, loss_cls: 0.2119, loss_bbox: 0.0816, loss_bbox_rf: 0.1040, loss: 0.3976, grad_norm: 1.5482\n",
      "2021-05-14 19:11:57,077 - mmdet - INFO - Epoch [89][400/655]\tlr: 1.000e-03, eta: 1:06:42, time: 0.535, data_time: 0.007, memory: 1887, loss_cls: 0.1991, loss_bbox: 0.0750, loss_bbox_rf: 0.0951, loss: 0.3692, grad_norm: 1.3756\n",
      "2021-05-14 19:12:23,995 - mmdet - INFO - Epoch [89][450/655]\tlr: 1.000e-03, eta: 1:06:16, time: 0.538, data_time: 0.007, memory: 1887, loss_cls: 0.2053, loss_bbox: 0.0785, loss_bbox_rf: 0.0996, loss: 0.3834, grad_norm: 1.4429\n",
      "2021-05-14 19:12:50,754 - mmdet - INFO - Epoch [89][500/655]\tlr: 1.000e-03, eta: 1:05:49, time: 0.535, data_time: 0.007, memory: 1887, loss_cls: 0.2165, loss_bbox: 0.0855, loss_bbox_rf: 0.1088, loss: 0.4108, grad_norm: 1.5925\n",
      "2021-05-14 19:13:17,569 - mmdet - INFO - Epoch [89][550/655]\tlr: 1.000e-03, eta: 1:05:22, time: 0.536, data_time: 0.007, memory: 1887, loss_cls: 0.1905, loss_bbox: 0.0714, loss_bbox_rf: 0.0901, loss: 0.3520, grad_norm: 1.4980\n",
      "2021-05-14 19:13:44,384 - mmdet - INFO - Epoch [89][600/655]\tlr: 1.000e-03, eta: 1:04:55, time: 0.536, data_time: 0.007, memory: 1887, loss_cls: 0.1941, loss_bbox: 0.0719, loss_bbox_rf: 0.0906, loss: 0.3565, grad_norm: 1.4296\n",
      "2021-05-14 19:14:11,369 - mmdet - INFO - Epoch [89][650/655]\tlr: 1.000e-03, eta: 1:04:28, time: 0.540, data_time: 0.007, memory: 1887, loss_cls: 0.2049, loss_bbox: 0.0790, loss_bbox_rf: 0.1006, loss: 0.3846, grad_norm: 1.4517\n",
      "2021-05-14 19:14:14,123 - mmdet - INFO - Saving checkpoint at 89 epochs\n"
     ]
    },
    {
     "name": "stdout",
     "output_type": "stream",
     "text": [
      "[>>>>>>>>>>>>>>>>>>>>>>>>>>>>>] 655/655, 18.5 task/s, elapsed: 35s, ETA:     0s"
     ]
    },
    {
     "name": "stderr",
     "output_type": "stream",
     "text": [
      "2021-05-14 19:14:51,235 - mmdet - INFO - Evaluating bbox...\n"
     ]
    },
    {
     "name": "stdout",
     "output_type": "stream",
     "text": [
      "Loading and preparing results...\n",
      "DONE (t=0.11s)\n",
      "creating index...\n",
      "index created!\n",
      "Running per image evaluation...\n",
      "Evaluate annotation type *bbox*\n",
      "DONE (t=4.73s).\n",
      "Accumulating evaluation results...\n"
     ]
    },
    {
     "name": "stderr",
     "output_type": "stream",
     "text": [
      "2021-05-14 19:14:56,953 - mmdet - INFO - Epoch(val) [89][655]\tbbox_mAP: 0.1910, bbox_mAP_50: 0.2790, bbox_mAP_75: 0.1960, bbox_mAP_s: 0.0260, bbox_mAP_m: 0.1510, bbox_mAP_l: 0.4250, bbox_mAP_copypaste: 0.191 0.279 0.196 0.026 0.151 0.425\n"
     ]
    },
    {
     "name": "stdout",
     "output_type": "stream",
     "text": [
      "DONE (t=0.80s).\n",
      "Average Precision  (AP) @[ IoU=0.50:0.95 | area=   all | maxDets=100 ] = 0.191\n",
      "Average Precision  (AP) @[ IoU=0.50      | area=   all | maxDets=1000 ] = 0.279\n",
      "Average Precision  (AP) @[ IoU=0.75      | area=   all | maxDets=1000 ] = 0.196\n",
      "Average Precision  (AP) @[ IoU=0.50:0.95 | area= small | maxDets=1000 ] = 0.026\n",
      "Average Precision  (AP) @[ IoU=0.50:0.95 | area=medium | maxDets=1000 ] = 0.151\n",
      "Average Precision  (AP) @[ IoU=0.50:0.95 | area= large | maxDets=1000 ] = 0.425\n",
      "Average Recall     (AR) @[ IoU=0.50:0.95 | area=   all | maxDets=100 ] = 0.312\n",
      "Average Recall     (AR) @[ IoU=0.50:0.95 | area=   all | maxDets=300 ] = 0.312\n",
      "Average Recall     (AR) @[ IoU=0.50:0.95 | area=   all | maxDets=1000 ] = 0.312\n",
      "Average Recall     (AR) @[ IoU=0.50:0.95 | area= small | maxDets=1000 ] = 0.079\n",
      "Average Recall     (AR) @[ IoU=0.50:0.95 | area=medium | maxDets=1000 ] = 0.265\n",
      "Average Recall     (AR) @[ IoU=0.50:0.95 | area= large | maxDets=1000 ] = 0.587\n"
     ]
    },
    {
     "name": "stderr",
     "output_type": "stream",
     "text": [
      "2021-05-14 19:15:26,319 - mmdet - INFO - Epoch [90][50/655]\tlr: 1.000e-03, eta: 1:03:59, time: 0.587, data_time: 0.052, memory: 1887, loss_cls: 0.1970, loss_bbox: 0.0734, loss_bbox_rf: 0.0929, loss: 0.3633, grad_norm: 1.4320\n",
      "2021-05-14 19:15:53,318 - mmdet - INFO - Epoch [90][100/655]\tlr: 1.000e-03, eta: 1:03:32, time: 0.540, data_time: 0.008, memory: 1887, loss_cls: 0.1990, loss_bbox: 0.0780, loss_bbox_rf: 0.0993, loss: 0.3763, grad_norm: 1.3955\n",
      "2021-05-14 19:16:20,120 - mmdet - INFO - Epoch [90][150/655]\tlr: 1.000e-03, eta: 1:03:05, time: 0.536, data_time: 0.007, memory: 1887, loss_cls: 0.2032, loss_bbox: 0.0778, loss_bbox_rf: 0.0987, loss: 0.3798, grad_norm: 1.3880\n",
      "2021-05-14 19:16:47,155 - mmdet - INFO - Epoch [90][200/655]\tlr: 1.000e-03, eta: 1:02:38, time: 0.541, data_time: 0.007, memory: 1887, loss_cls: 0.1889, loss_bbox: 0.0703, loss_bbox_rf: 0.0888, loss: 0.3481, grad_norm: 1.3812\n",
      "2021-05-14 19:17:13,963 - mmdet - INFO - Epoch [90][250/655]\tlr: 1.000e-03, eta: 1:02:12, time: 0.536, data_time: 0.007, memory: 1887, loss_cls: 0.1928, loss_bbox: 0.0712, loss_bbox_rf: 0.0899, loss: 0.3539, grad_norm: 1.4821\n",
      "2021-05-14 19:17:40,845 - mmdet - INFO - Epoch [90][300/655]\tlr: 1.000e-03, eta: 1:01:45, time: 0.538, data_time: 0.007, memory: 1887, loss_cls: 0.1976, loss_bbox: 0.0759, loss_bbox_rf: 0.0963, loss: 0.3698, grad_norm: 1.3856\n",
      "2021-05-14 19:18:08,405 - mmdet - INFO - Epoch [90][350/655]\tlr: 1.000e-03, eta: 1:01:18, time: 0.551, data_time: 0.008, memory: 1887, loss_cls: 0.2020, loss_bbox: 0.0776, loss_bbox_rf: 0.0985, loss: 0.3781, grad_norm: 1.5009\n",
      "2021-05-14 19:18:35,344 - mmdet - INFO - Epoch [90][400/655]\tlr: 1.000e-03, eta: 1:00:51, time: 0.539, data_time: 0.007, memory: 1887, loss_cls: 0.2150, loss_bbox: 0.0861, loss_bbox_rf: 0.1095, loss: 0.4106, grad_norm: 1.5059\n",
      "2021-05-14 19:19:02,485 - mmdet - INFO - Epoch [90][450/655]\tlr: 1.000e-03, eta: 1:00:24, time: 0.543, data_time: 0.007, memory: 1887, loss_cls: 0.1963, loss_bbox: 0.0742, loss_bbox_rf: 0.0941, loss: 0.3646, grad_norm: 1.5035\n",
      "2021-05-14 19:19:29,372 - mmdet - INFO - Epoch [90][500/655]\tlr: 1.000e-03, eta: 0:59:58, time: 0.538, data_time: 0.007, memory: 1887, loss_cls: 0.1953, loss_bbox: 0.0755, loss_bbox_rf: 0.0955, loss: 0.3664, grad_norm: 1.4476\n",
      "2021-05-14 19:19:56,369 - mmdet - INFO - Epoch [90][550/655]\tlr: 1.000e-03, eta: 0:59:31, time: 0.540, data_time: 0.007, memory: 1887, loss_cls: 0.1962, loss_bbox: 0.0742, loss_bbox_rf: 0.0939, loss: 0.3643, grad_norm: 1.5044\n",
      "2021-05-14 19:20:23,571 - mmdet - INFO - Epoch [90][600/655]\tlr: 1.000e-03, eta: 0:59:04, time: 0.544, data_time: 0.008, memory: 1887, loss_cls: 0.2023, loss_bbox: 0.0802, loss_bbox_rf: 0.1019, loss: 0.3844, grad_norm: 1.4690\n",
      "2021-05-14 19:20:50,459 - mmdet - INFO - Epoch [90][650/655]\tlr: 1.000e-03, eta: 0:58:37, time: 0.538, data_time: 0.007, memory: 1887, loss_cls: 0.2141, loss_bbox: 0.0854, loss_bbox_rf: 0.1081, loss: 0.4076, grad_norm: 1.5087\n",
      "2021-05-14 19:20:53,247 - mmdet - INFO - Saving checkpoint at 90 epochs\n"
     ]
    },
    {
     "name": "stdout",
     "output_type": "stream",
     "text": [
      "[>>>>>>>>>>>>>>>>>>>>>>>>>>>>>] 655/655, 18.3 task/s, elapsed: 36s, ETA:     0s"
     ]
    },
    {
     "name": "stderr",
     "output_type": "stream",
     "text": [
      "2021-05-14 19:21:30,759 - mmdet - INFO - Evaluating bbox...\n"
     ]
    },
    {
     "name": "stdout",
     "output_type": "stream",
     "text": [
      "Loading and preparing results...\n",
      "DONE (t=0.11s)\n",
      "creating index...\n",
      "index created!\n",
      "Running per image evaluation...\n",
      "Evaluate annotation type *bbox*\n",
      "DONE (t=4.91s).\n",
      "Accumulating evaluation results...\n"
     ]
    },
    {
     "name": "stderr",
     "output_type": "stream",
     "text": [
      "2021-05-14 19:21:36,746 - mmdet - INFO - Epoch(val) [90][655]\tbbox_mAP: 0.1900, bbox_mAP_50: 0.2770, bbox_mAP_75: 0.1960, bbox_mAP_s: 0.0250, bbox_mAP_m: 0.1500, bbox_mAP_l: 0.4250, bbox_mAP_copypaste: 0.190 0.277 0.196 0.025 0.150 0.425\n"
     ]
    },
    {
     "name": "stdout",
     "output_type": "stream",
     "text": [
      "DONE (t=0.88s).\n",
      "Average Precision  (AP) @[ IoU=0.50:0.95 | area=   all | maxDets=100 ] = 0.190\n",
      "Average Precision  (AP) @[ IoU=0.50      | area=   all | maxDets=1000 ] = 0.277\n",
      "Average Precision  (AP) @[ IoU=0.75      | area=   all | maxDets=1000 ] = 0.196\n",
      "Average Precision  (AP) @[ IoU=0.50:0.95 | area= small | maxDets=1000 ] = 0.025\n",
      "Average Precision  (AP) @[ IoU=0.50:0.95 | area=medium | maxDets=1000 ] = 0.150\n",
      "Average Precision  (AP) @[ IoU=0.50:0.95 | area= large | maxDets=1000 ] = 0.425\n",
      "Average Recall     (AR) @[ IoU=0.50:0.95 | area=   all | maxDets=100 ] = 0.314\n",
      "Average Recall     (AR) @[ IoU=0.50:0.95 | area=   all | maxDets=300 ] = 0.314\n",
      "Average Recall     (AR) @[ IoU=0.50:0.95 | area=   all | maxDets=1000 ] = 0.314\n",
      "Average Recall     (AR) @[ IoU=0.50:0.95 | area= small | maxDets=1000 ] = 0.077\n",
      "Average Recall     (AR) @[ IoU=0.50:0.95 | area=medium | maxDets=1000 ] = 0.267\n",
      "Average Recall     (AR) @[ IoU=0.50:0.95 | area= large | maxDets=1000 ] = 0.588\n"
     ]
    },
    {
     "name": "stderr",
     "output_type": "stream",
     "text": [
      "2021-05-14 19:22:05,973 - mmdet - INFO - Epoch [91][50/655]\tlr: 1.000e-04, eta: 0:58:08, time: 0.584, data_time: 0.052, memory: 1887, loss_cls: 0.2050, loss_bbox: 0.0800, loss_bbox_rf: 0.1017, loss: 0.3868, grad_norm: 1.4209\n",
      "2021-05-14 19:22:32,778 - mmdet - INFO - Epoch [91][100/655]\tlr: 1.000e-04, eta: 0:57:41, time: 0.536, data_time: 0.007, memory: 1887, loss_cls: 0.1992, loss_bbox: 0.0769, loss_bbox_rf: 0.0980, loss: 0.3740, grad_norm: 1.3512\n",
      "2021-05-14 19:22:59,694 - mmdet - INFO - Epoch [91][150/655]\tlr: 1.000e-04, eta: 0:57:14, time: 0.538, data_time: 0.007, memory: 1887, loss_cls: 0.2004, loss_bbox: 0.0755, loss_bbox_rf: 0.0964, loss: 0.3723, grad_norm: 1.4151\n",
      "2021-05-14 19:23:26,712 - mmdet - INFO - Epoch [91][200/655]\tlr: 1.000e-04, eta: 0:56:47, time: 0.540, data_time: 0.007, memory: 1887, loss_cls: 0.1957, loss_bbox: 0.0749, loss_bbox_rf: 0.0950, loss: 0.3656, grad_norm: 1.3294\n",
      "2021-05-14 19:23:53,678 - mmdet - INFO - Epoch [91][250/655]\tlr: 1.000e-04, eta: 0:56:20, time: 0.539, data_time: 0.008, memory: 1887, loss_cls: 0.1849, loss_bbox: 0.0679, loss_bbox_rf: 0.0860, loss: 0.3388, grad_norm: 1.3803\n",
      "2021-05-14 19:24:20,389 - mmdet - INFO - Epoch [91][300/655]\tlr: 1.000e-04, eta: 0:55:53, time: 0.534, data_time: 0.007, memory: 1887, loss_cls: 0.1892, loss_bbox: 0.0722, loss_bbox_rf: 0.0913, loss: 0.3527, grad_norm: 1.3697\n",
      "2021-05-14 19:24:47,253 - mmdet - INFO - Epoch [91][350/655]\tlr: 1.000e-04, eta: 0:55:27, time: 0.537, data_time: 0.007, memory: 1887, loss_cls: 0.2072, loss_bbox: 0.0792, loss_bbox_rf: 0.1009, loss: 0.3873, grad_norm: 1.4081\n",
      "2021-05-14 19:25:14,096 - mmdet - INFO - Epoch [91][400/655]\tlr: 1.000e-04, eta: 0:55:00, time: 0.537, data_time: 0.007, memory: 1887, loss_cls: 0.1943, loss_bbox: 0.0758, loss_bbox_rf: 0.0965, loss: 0.3666, grad_norm: 1.3397\n",
      "2021-05-14 19:25:40,844 - mmdet - INFO - Epoch [91][450/655]\tlr: 1.000e-04, eta: 0:54:33, time: 0.535, data_time: 0.007, memory: 1887, loss_cls: 0.1868, loss_bbox: 0.0701, loss_bbox_rf: 0.0888, loss: 0.3457, grad_norm: 1.2942\n",
      "2021-05-14 19:26:07,803 - mmdet - INFO - Epoch [91][500/655]\tlr: 1.000e-04, eta: 0:54:06, time: 0.539, data_time: 0.008, memory: 1887, loss_cls: 0.2069, loss_bbox: 0.0819, loss_bbox_rf: 0.1051, loss: 0.3939, grad_norm: 1.2893\n",
      "2021-05-14 19:26:34,663 - mmdet - INFO - Epoch [91][550/655]\tlr: 1.000e-04, eta: 0:53:39, time: 0.537, data_time: 0.007, memory: 1887, loss_cls: 0.1947, loss_bbox: 0.0725, loss_bbox_rf: 0.0924, loss: 0.3596, grad_norm: 1.3500\n",
      "2021-05-14 19:27:01,539 - mmdet - INFO - Epoch [91][600/655]\tlr: 1.000e-04, eta: 0:53:12, time: 0.538, data_time: 0.007, memory: 1887, loss_cls: 0.1960, loss_bbox: 0.0754, loss_bbox_rf: 0.0961, loss: 0.3674, grad_norm: 1.2787\n",
      "2021-05-14 19:27:28,534 - mmdet - INFO - Epoch [91][650/655]\tlr: 1.000e-04, eta: 0:52:46, time: 0.540, data_time: 0.007, memory: 1887, loss_cls: 0.1913, loss_bbox: 0.0729, loss_bbox_rf: 0.0927, loss: 0.3569, grad_norm: 1.3334\n",
      "2021-05-14 19:27:31,301 - mmdet - INFO - Saving checkpoint at 91 epochs\n"
     ]
    },
    {
     "name": "stdout",
     "output_type": "stream",
     "text": [
      "[>>>>>>>>>>>>>>>>>>>>>>>>>>>>>] 655/655, 18.6 task/s, elapsed: 35s, ETA:     0s"
     ]
    },
    {
     "name": "stderr",
     "output_type": "stream",
     "text": [
      "2021-05-14 19:28:08,407 - mmdet - INFO - Evaluating bbox...\n"
     ]
    },
    {
     "name": "stdout",
     "output_type": "stream",
     "text": [
      "Loading and preparing results...\n",
      "DONE (t=0.10s)\n",
      "creating index...\n",
      "index created!\n",
      "Running per image evaluation...\n",
      "Evaluate annotation type *bbox*\n",
      "DONE (t=5.32s).\n",
      "Accumulating evaluation results...\n"
     ]
    },
    {
     "name": "stderr",
     "output_type": "stream",
     "text": [
      "2021-05-14 19:28:14,712 - mmdet - INFO - Epoch(val) [91][655]\tbbox_mAP: 0.1910, bbox_mAP_50: 0.2780, bbox_mAP_75: 0.1960, bbox_mAP_s: 0.0240, bbox_mAP_m: 0.1530, bbox_mAP_l: 0.4250, bbox_mAP_copypaste: 0.191 0.278 0.196 0.024 0.153 0.425\n"
     ]
    },
    {
     "name": "stdout",
     "output_type": "stream",
     "text": [
      "DONE (t=0.80s).\n",
      "Average Precision  (AP) @[ IoU=0.50:0.95 | area=   all | maxDets=100 ] = 0.191\n",
      "Average Precision  (AP) @[ IoU=0.50      | area=   all | maxDets=1000 ] = 0.278\n",
      "Average Precision  (AP) @[ IoU=0.75      | area=   all | maxDets=1000 ] = 0.196\n",
      "Average Precision  (AP) @[ IoU=0.50:0.95 | area= small | maxDets=1000 ] = 0.024\n",
      "Average Precision  (AP) @[ IoU=0.50:0.95 | area=medium | maxDets=1000 ] = 0.153\n",
      "Average Precision  (AP) @[ IoU=0.50:0.95 | area= large | maxDets=1000 ] = 0.425\n",
      "Average Recall     (AR) @[ IoU=0.50:0.95 | area=   all | maxDets=100 ] = 0.316\n",
      "Average Recall     (AR) @[ IoU=0.50:0.95 | area=   all | maxDets=300 ] = 0.316\n",
      "Average Recall     (AR) @[ IoU=0.50:0.95 | area=   all | maxDets=1000 ] = 0.316\n",
      "Average Recall     (AR) @[ IoU=0.50:0.95 | area= small | maxDets=1000 ] = 0.079\n",
      "Average Recall     (AR) @[ IoU=0.50:0.95 | area=medium | maxDets=1000 ] = 0.267\n",
      "Average Recall     (AR) @[ IoU=0.50:0.95 | area= large | maxDets=1000 ] = 0.591\n"
     ]
    },
    {
     "name": "stderr",
     "output_type": "stream",
     "text": [
      "2021-05-14 19:28:43,947 - mmdet - INFO - Epoch [92][50/655]\tlr: 1.000e-04, eta: 0:52:16, time: 0.584, data_time: 0.052, memory: 1887, loss_cls: 0.1844, loss_bbox: 0.0689, loss_bbox_rf: 0.0871, loss: 0.3403, grad_norm: 1.3224\n",
      "2021-05-14 19:29:11,084 - mmdet - INFO - Epoch [92][100/655]\tlr: 1.000e-04, eta: 0:51:49, time: 0.543, data_time: 0.007, memory: 1887, loss_cls: 0.2197, loss_bbox: 0.0882, loss_bbox_rf: 0.1130, loss: 0.4209, grad_norm: 1.3688\n",
      "2021-05-14 19:29:37,852 - mmdet - INFO - Epoch [92][150/655]\tlr: 1.000e-04, eta: 0:51:22, time: 0.535, data_time: 0.007, memory: 1887, loss_cls: 0.1915, loss_bbox: 0.0727, loss_bbox_rf: 0.0923, loss: 0.3565, grad_norm: 1.3013\n",
      "2021-05-14 19:30:04,675 - mmdet - INFO - Epoch [92][200/655]\tlr: 1.000e-04, eta: 0:50:56, time: 0.536, data_time: 0.007, memory: 1887, loss_cls: 0.1859, loss_bbox: 0.0721, loss_bbox_rf: 0.0916, loss: 0.3496, grad_norm: 1.3377\n",
      "2021-05-14 19:30:31,615 - mmdet - INFO - Epoch [92][250/655]\tlr: 1.000e-04, eta: 0:50:29, time: 0.539, data_time: 0.007, memory: 1887, loss_cls: 0.2113, loss_bbox: 0.0833, loss_bbox_rf: 0.1068, loss: 0.4014, grad_norm: 1.3518\n",
      "2021-05-14 19:30:58,471 - mmdet - INFO - Epoch [92][300/655]\tlr: 1.000e-04, eta: 0:50:02, time: 0.537, data_time: 0.007, memory: 1887, loss_cls: 0.1992, loss_bbox: 0.0769, loss_bbox_rf: 0.0980, loss: 0.3742, grad_norm: 1.3069\n",
      "2021-05-14 19:31:25,663 - mmdet - INFO - Epoch [92][350/655]\tlr: 1.000e-04, eta: 0:49:35, time: 0.544, data_time: 0.008, memory: 1887, loss_cls: 0.2064, loss_bbox: 0.0824, loss_bbox_rf: 0.1055, loss: 0.3943, grad_norm: 1.2841\n",
      "2021-05-14 19:31:52,457 - mmdet - INFO - Epoch [92][400/655]\tlr: 1.000e-04, eta: 0:49:08, time: 0.536, data_time: 0.007, memory: 1887, loss_cls: 0.1904, loss_bbox: 0.0718, loss_bbox_rf: 0.0910, loss: 0.3532, grad_norm: 1.2982\n",
      "2021-05-14 19:32:19,377 - mmdet - INFO - Epoch [92][450/655]\tlr: 1.000e-04, eta: 0:48:42, time: 0.538, data_time: 0.007, memory: 1887, loss_cls: 0.1917, loss_bbox: 0.0722, loss_bbox_rf: 0.0918, loss: 0.3556, grad_norm: 1.3508\n",
      "2021-05-14 19:32:46,196 - mmdet - INFO - Epoch [92][500/655]\tlr: 1.000e-04, eta: 0:48:15, time: 0.536, data_time: 0.007, memory: 1887, loss_cls: 0.1974, loss_bbox: 0.0741, loss_bbox_rf: 0.0944, loss: 0.3659, grad_norm: 1.2348\n",
      "2021-05-14 19:33:13,296 - mmdet - INFO - Epoch [92][550/655]\tlr: 1.000e-04, eta: 0:47:48, time: 0.542, data_time: 0.008, memory: 1887, loss_cls: 0.1897, loss_bbox: 0.0725, loss_bbox_rf: 0.0926, loss: 0.3547, grad_norm: 1.2369\n",
      "2021-05-14 19:33:40,062 - mmdet - INFO - Epoch [92][600/655]\tlr: 1.000e-04, eta: 0:47:21, time: 0.535, data_time: 0.007, memory: 1887, loss_cls: 0.1811, loss_bbox: 0.0665, loss_bbox_rf: 0.0841, loss: 0.3317, grad_norm: 1.3060\n",
      "2021-05-14 19:34:07,435 - mmdet - INFO - Epoch [92][650/655]\tlr: 1.000e-04, eta: 0:46:54, time: 0.547, data_time: 0.008, memory: 1887, loss_cls: 0.1930, loss_bbox: 0.0729, loss_bbox_rf: 0.0927, loss: 0.3585, grad_norm: 1.3736\n",
      "2021-05-14 19:34:10,234 - mmdet - INFO - Saving checkpoint at 92 epochs\n"
     ]
    },
    {
     "name": "stdout",
     "output_type": "stream",
     "text": [
      "[>>>>>>>>>>>>>>>>>>>>>>>>>>>>>] 655/655, 18.5 task/s, elapsed: 35s, ETA:     0s"
     ]
    },
    {
     "name": "stderr",
     "output_type": "stream",
     "text": [
      "2021-05-14 19:34:46,812 - mmdet - INFO - Evaluating bbox...\n"
     ]
    },
    {
     "name": "stdout",
     "output_type": "stream",
     "text": [
      "Loading and preparing results...\n",
      "DONE (t=0.10s)\n",
      "creating index...\n",
      "index created!\n",
      "Running per image evaluation...\n",
      "Evaluate annotation type *bbox*\n",
      "DONE (t=4.56s).\n",
      "Accumulating evaluation results...\n"
     ]
    },
    {
     "name": "stderr",
     "output_type": "stream",
     "text": [
      "2021-05-14 19:34:52,362 - mmdet - INFO - Epoch(val) [92][655]\tbbox_mAP: 0.1900, bbox_mAP_50: 0.2780, bbox_mAP_75: 0.1960, bbox_mAP_s: 0.0240, bbox_mAP_m: 0.1530, bbox_mAP_l: 0.4250, bbox_mAP_copypaste: 0.190 0.278 0.196 0.024 0.153 0.425\n"
     ]
    },
    {
     "name": "stdout",
     "output_type": "stream",
     "text": [
      "DONE (t=0.80s).\n",
      "Average Precision  (AP) @[ IoU=0.50:0.95 | area=   all | maxDets=100 ] = 0.190\n",
      "Average Precision  (AP) @[ IoU=0.50      | area=   all | maxDets=1000 ] = 0.278\n",
      "Average Precision  (AP) @[ IoU=0.75      | area=   all | maxDets=1000 ] = 0.196\n",
      "Average Precision  (AP) @[ IoU=0.50:0.95 | area= small | maxDets=1000 ] = 0.024\n",
      "Average Precision  (AP) @[ IoU=0.50:0.95 | area=medium | maxDets=1000 ] = 0.153\n",
      "Average Precision  (AP) @[ IoU=0.50:0.95 | area= large | maxDets=1000 ] = 0.425\n",
      "Average Recall     (AR) @[ IoU=0.50:0.95 | area=   all | maxDets=100 ] = 0.315\n",
      "Average Recall     (AR) @[ IoU=0.50:0.95 | area=   all | maxDets=300 ] = 0.315\n",
      "Average Recall     (AR) @[ IoU=0.50:0.95 | area=   all | maxDets=1000 ] = 0.315\n",
      "Average Recall     (AR) @[ IoU=0.50:0.95 | area= small | maxDets=1000 ] = 0.079\n",
      "Average Recall     (AR) @[ IoU=0.50:0.95 | area=medium | maxDets=1000 ] = 0.266\n",
      "Average Recall     (AR) @[ IoU=0.50:0.95 | area= large | maxDets=1000 ] = 0.590\n"
     ]
    },
    {
     "name": "stderr",
     "output_type": "stream",
     "text": [
      "2021-05-14 19:35:21,521 - mmdet - INFO - Epoch [93][50/655]\tlr: 1.000e-04, eta: 0:46:25, time: 0.583, data_time: 0.052, memory: 1887, loss_cls: 0.1849, loss_bbox: 0.0674, loss_bbox_rf: 0.0852, loss: 0.3375, grad_norm: 1.3355\n",
      "2021-05-14 19:35:48,406 - mmdet - INFO - Epoch [93][100/655]\tlr: 1.000e-04, eta: 0:45:58, time: 0.538, data_time: 0.007, memory: 1887, loss_cls: 0.1896, loss_bbox: 0.0730, loss_bbox_rf: 0.0926, loss: 0.3551, grad_norm: 1.2912\n",
      "2021-05-14 19:36:15,271 - mmdet - INFO - Epoch [93][150/655]\tlr: 1.000e-04, eta: 0:45:31, time: 0.537, data_time: 0.008, memory: 1887, loss_cls: 0.1981, loss_bbox: 0.0758, loss_bbox_rf: 0.0967, loss: 0.3706, grad_norm: 1.2696\n",
      "2021-05-14 19:36:42,181 - mmdet - INFO - Epoch [93][200/655]\tlr: 1.000e-04, eta: 0:45:04, time: 0.538, data_time: 0.008, memory: 1887, loss_cls: 0.2061, loss_bbox: 0.0813, loss_bbox_rf: 0.1043, loss: 0.3916, grad_norm: 1.3553\n",
      "2021-05-14 19:37:09,206 - mmdet - INFO - Epoch [93][250/655]\tlr: 1.000e-04, eta: 0:44:37, time: 0.540, data_time: 0.007, memory: 1887, loss_cls: 0.1904, loss_bbox: 0.0741, loss_bbox_rf: 0.0941, loss: 0.3586, grad_norm: 1.3333\n",
      "2021-05-14 19:37:36,123 - mmdet - INFO - Epoch [93][300/655]\tlr: 1.000e-04, eta: 0:44:11, time: 0.538, data_time: 0.007, memory: 1887, loss_cls: 0.1843, loss_bbox: 0.0679, loss_bbox_rf: 0.0862, loss: 0.3384, grad_norm: 1.2665\n",
      "2021-05-14 19:38:02,935 - mmdet - INFO - Epoch [93][350/655]\tlr: 1.000e-04, eta: 0:43:44, time: 0.536, data_time: 0.007, memory: 1887, loss_cls: 0.1967, loss_bbox: 0.0736, loss_bbox_rf: 0.0940, loss: 0.3643, grad_norm: 1.3409\n",
      "2021-05-14 19:38:29,825 - mmdet - INFO - Epoch [93][400/655]\tlr: 1.000e-04, eta: 0:43:17, time: 0.538, data_time: 0.007, memory: 1887, loss_cls: 0.1922, loss_bbox: 0.0725, loss_bbox_rf: 0.0920, loss: 0.3567, grad_norm: 1.2327\n",
      "2021-05-14 19:38:56,613 - mmdet - INFO - Epoch [93][450/655]\tlr: 1.000e-04, eta: 0:42:50, time: 0.536, data_time: 0.007, memory: 1887, loss_cls: 0.1891, loss_bbox: 0.0711, loss_bbox_rf: 0.0904, loss: 0.3507, grad_norm: 1.3042\n",
      "2021-05-14 19:39:23,564 - mmdet - INFO - Epoch [93][500/655]\tlr: 1.000e-04, eta: 0:42:23, time: 0.539, data_time: 0.007, memory: 1887, loss_cls: 0.1981, loss_bbox: 0.0762, loss_bbox_rf: 0.0969, loss: 0.3712, grad_norm: 1.2526\n",
      "2021-05-14 19:39:50,387 - mmdet - INFO - Epoch [93][550/655]\tlr: 1.000e-04, eta: 0:41:56, time: 0.536, data_time: 0.007, memory: 1887, loss_cls: 0.1971, loss_bbox: 0.0757, loss_bbox_rf: 0.0965, loss: 0.3693, grad_norm: 1.2923\n",
      "2021-05-14 19:40:17,282 - mmdet - INFO - Epoch [93][600/655]\tlr: 1.000e-04, eta: 0:41:30, time: 0.538, data_time: 0.007, memory: 1887, loss_cls: 0.1916, loss_bbox: 0.0755, loss_bbox_rf: 0.0963, loss: 0.3634, grad_norm: 1.2767\n",
      "2021-05-14 19:40:44,147 - mmdet - INFO - Epoch [93][650/655]\tlr: 1.000e-04, eta: 0:41:03, time: 0.537, data_time: 0.008, memory: 1887, loss_cls: 0.1982, loss_bbox: 0.0760, loss_bbox_rf: 0.0969, loss: 0.3711, grad_norm: 1.2814\n",
      "2021-05-14 19:40:46,922 - mmdet - INFO - Saving checkpoint at 93 epochs\n"
     ]
    },
    {
     "name": "stdout",
     "output_type": "stream",
     "text": [
      "[>>>>>>>>>>>>>>>>>>>>>>>>>>>>>] 655/655, 18.6 task/s, elapsed: 35s, ETA:     0s"
     ]
    },
    {
     "name": "stderr",
     "output_type": "stream",
     "text": [
      "2021-05-14 19:41:23,984 - mmdet - INFO - Evaluating bbox...\n"
     ]
    },
    {
     "name": "stdout",
     "output_type": "stream",
     "text": [
      "Loading and preparing results...\n",
      "DONE (t=0.11s)\n",
      "creating index...\n",
      "index created!\n",
      "Running per image evaluation...\n",
      "Evaluate annotation type *bbox*\n",
      "DONE (t=4.56s).\n",
      "Accumulating evaluation results...\n"
     ]
    },
    {
     "name": "stderr",
     "output_type": "stream",
     "text": [
      "2021-05-14 19:41:29,526 - mmdet - INFO - Epoch(val) [93][655]\tbbox_mAP: 0.1900, bbox_mAP_50: 0.2780, bbox_mAP_75: 0.1960, bbox_mAP_s: 0.0240, bbox_mAP_m: 0.1530, bbox_mAP_l: 0.4250, bbox_mAP_copypaste: 0.190 0.278 0.196 0.024 0.153 0.425\n"
     ]
    },
    {
     "name": "stdout",
     "output_type": "stream",
     "text": [
      "DONE (t=0.79s).\n",
      "Average Precision  (AP) @[ IoU=0.50:0.95 | area=   all | maxDets=100 ] = 0.190\n",
      "Average Precision  (AP) @[ IoU=0.50      | area=   all | maxDets=1000 ] = 0.278\n",
      "Average Precision  (AP) @[ IoU=0.75      | area=   all | maxDets=1000 ] = 0.196\n",
      "Average Precision  (AP) @[ IoU=0.50:0.95 | area= small | maxDets=1000 ] = 0.024\n",
      "Average Precision  (AP) @[ IoU=0.50:0.95 | area=medium | maxDets=1000 ] = 0.153\n",
      "Average Precision  (AP) @[ IoU=0.50:0.95 | area= large | maxDets=1000 ] = 0.425\n",
      "Average Recall     (AR) @[ IoU=0.50:0.95 | area=   all | maxDets=100 ] = 0.315\n",
      "Average Recall     (AR) @[ IoU=0.50:0.95 | area=   all | maxDets=300 ] = 0.315\n",
      "Average Recall     (AR) @[ IoU=0.50:0.95 | area=   all | maxDets=1000 ] = 0.315\n",
      "Average Recall     (AR) @[ IoU=0.50:0.95 | area= small | maxDets=1000 ] = 0.079\n",
      "Average Recall     (AR) @[ IoU=0.50:0.95 | area=medium | maxDets=1000 ] = 0.266\n",
      "Average Recall     (AR) @[ IoU=0.50:0.95 | area= large | maxDets=1000 ] = 0.590\n"
     ]
    },
    {
     "name": "stderr",
     "output_type": "stream",
     "text": [
      "2021-05-14 19:41:58,761 - mmdet - INFO - Epoch [94][50/655]\tlr: 1.000e-04, eta: 0:40:33, time: 0.584, data_time: 0.052, memory: 1887, loss_cls: 0.2086, loss_bbox: 0.0852, loss_bbox_rf: 0.1090, loss: 0.4028, grad_norm: 1.3139\n",
      "2021-05-14 19:42:25,753 - mmdet - INFO - Epoch [94][100/655]\tlr: 1.000e-04, eta: 0:40:06, time: 0.540, data_time: 0.007, memory: 1887, loss_cls: 0.1859, loss_bbox: 0.0701, loss_bbox_rf: 0.0892, loss: 0.3452, grad_norm: 1.2635\n",
      "2021-05-14 19:42:52,553 - mmdet - INFO - Epoch [94][150/655]\tlr: 1.000e-04, eta: 0:39:40, time: 0.536, data_time: 0.007, memory: 1887, loss_cls: 0.2009, loss_bbox: 0.0768, loss_bbox_rf: 0.0978, loss: 0.3754, grad_norm: 1.2176\n",
      "2021-05-14 19:43:19,353 - mmdet - INFO - Epoch [94][200/655]\tlr: 1.000e-04, eta: 0:39:13, time: 0.536, data_time: 0.007, memory: 1887, loss_cls: 0.1886, loss_bbox: 0.0686, loss_bbox_rf: 0.0871, loss: 0.3443, grad_norm: 1.2943\n",
      "2021-05-14 19:43:46,080 - mmdet - INFO - Epoch [94][250/655]\tlr: 1.000e-04, eta: 0:38:46, time: 0.535, data_time: 0.007, memory: 1887, loss_cls: 0.1913, loss_bbox: 0.0718, loss_bbox_rf: 0.0913, loss: 0.3544, grad_norm: 1.2018\n",
      "2021-05-14 19:44:12,910 - mmdet - INFO - Epoch [94][300/655]\tlr: 1.000e-04, eta: 0:38:19, time: 0.537, data_time: 0.007, memory: 1887, loss_cls: 0.1907, loss_bbox: 0.0746, loss_bbox_rf: 0.0947, loss: 0.3600, grad_norm: 1.2606\n",
      "2021-05-14 19:44:39,777 - mmdet - INFO - Epoch [94][350/655]\tlr: 1.000e-04, eta: 0:37:52, time: 0.537, data_time: 0.007, memory: 1887, loss_cls: 0.1920, loss_bbox: 0.0711, loss_bbox_rf: 0.0905, loss: 0.3537, grad_norm: 1.3477\n",
      "2021-05-14 19:45:06,778 - mmdet - INFO - Epoch [94][400/655]\tlr: 1.000e-04, eta: 0:37:25, time: 0.540, data_time: 0.007, memory: 1887, loss_cls: 0.1962, loss_bbox: 0.0780, loss_bbox_rf: 0.0998, loss: 0.3740, grad_norm: 1.2113\n",
      "2021-05-14 19:45:33,486 - mmdet - INFO - Epoch [94][450/655]\tlr: 1.000e-04, eta: 0:36:59, time: 0.534, data_time: 0.007, memory: 1887, loss_cls: 0.1886, loss_bbox: 0.0718, loss_bbox_rf: 0.0911, loss: 0.3516, grad_norm: 1.2190\n",
      "2021-05-14 19:46:00,314 - mmdet - INFO - Epoch [94][500/655]\tlr: 1.000e-04, eta: 0:36:32, time: 0.537, data_time: 0.007, memory: 1887, loss_cls: 0.1899, loss_bbox: 0.0715, loss_bbox_rf: 0.0908, loss: 0.3522, grad_norm: 1.3336\n",
      "2021-05-14 19:46:27,197 - mmdet - INFO - Epoch [94][550/655]\tlr: 1.000e-04, eta: 0:36:05, time: 0.538, data_time: 0.007, memory: 1887, loss_cls: 0.1931, loss_bbox: 0.0736, loss_bbox_rf: 0.0933, loss: 0.3600, grad_norm: 1.3820\n",
      "2021-05-14 19:46:54,124 - mmdet - INFO - Epoch [94][600/655]\tlr: 1.000e-04, eta: 0:35:38, time: 0.539, data_time: 0.007, memory: 1887, loss_cls: 0.1883, loss_bbox: 0.0706, loss_bbox_rf: 0.0898, loss: 0.3487, grad_norm: 1.2252\n",
      "2021-05-14 19:47:21,042 - mmdet - INFO - Epoch [94][650/655]\tlr: 1.000e-04, eta: 0:35:11, time: 0.538, data_time: 0.007, memory: 1887, loss_cls: 0.1846, loss_bbox: 0.0682, loss_bbox_rf: 0.0864, loss: 0.3392, grad_norm: 1.2600\n",
      "2021-05-14 19:47:23,803 - mmdet - INFO - Saving checkpoint at 94 epochs\n"
     ]
    },
    {
     "name": "stdout",
     "output_type": "stream",
     "text": [
      "[>>>>>>>>>>>>>>>>>>>>>>>>>>>>>] 655/655, 18.3 task/s, elapsed: 36s, ETA:     0s"
     ]
    },
    {
     "name": "stderr",
     "output_type": "stream",
     "text": [
      "2021-05-14 19:48:01,336 - mmdet - INFO - Evaluating bbox...\n"
     ]
    },
    {
     "name": "stdout",
     "output_type": "stream",
     "text": [
      "Loading and preparing results...\n",
      "DONE (t=0.11s)\n",
      "creating index...\n",
      "index created!\n",
      "Running per image evaluation...\n",
      "Evaluate annotation type *bbox*\n",
      "DONE (t=4.76s).\n",
      "Accumulating evaluation results...\n"
     ]
    },
    {
     "name": "stderr",
     "output_type": "stream",
     "text": [
      "2021-05-14 19:48:07,129 - mmdet - INFO - Epoch(val) [94][655]\tbbox_mAP: 0.1900, bbox_mAP_50: 0.2780, bbox_mAP_75: 0.1960, bbox_mAP_s: 0.0250, bbox_mAP_m: 0.1520, bbox_mAP_l: 0.4240, bbox_mAP_copypaste: 0.190 0.278 0.196 0.025 0.152 0.424\n"
     ]
    },
    {
     "name": "stdout",
     "output_type": "stream",
     "text": [
      "DONE (t=0.83s).\n",
      "Average Precision  (AP) @[ IoU=0.50:0.95 | area=   all | maxDets=100 ] = 0.190\n",
      "Average Precision  (AP) @[ IoU=0.50      | area=   all | maxDets=1000 ] = 0.278\n",
      "Average Precision  (AP) @[ IoU=0.75      | area=   all | maxDets=1000 ] = 0.196\n",
      "Average Precision  (AP) @[ IoU=0.50:0.95 | area= small | maxDets=1000 ] = 0.025\n",
      "Average Precision  (AP) @[ IoU=0.50:0.95 | area=medium | maxDets=1000 ] = 0.152\n",
      "Average Precision  (AP) @[ IoU=0.50:0.95 | area= large | maxDets=1000 ] = 0.424\n",
      "Average Recall     (AR) @[ IoU=0.50:0.95 | area=   all | maxDets=100 ] = 0.314\n",
      "Average Recall     (AR) @[ IoU=0.50:0.95 | area=   all | maxDets=300 ] = 0.314\n",
      "Average Recall     (AR) @[ IoU=0.50:0.95 | area=   all | maxDets=1000 ] = 0.314\n",
      "Average Recall     (AR) @[ IoU=0.50:0.95 | area= small | maxDets=1000 ] = 0.079\n",
      "Average Recall     (AR) @[ IoU=0.50:0.95 | area=medium | maxDets=1000 ] = 0.266\n",
      "Average Recall     (AR) @[ IoU=0.50:0.95 | area= large | maxDets=1000 ] = 0.589\n"
     ]
    },
    {
     "name": "stderr",
     "output_type": "stream",
     "text": [
      "2021-05-14 19:48:36,274 - mmdet - INFO - Epoch [95][50/655]\tlr: 1.000e-04, eta: 0:34:42, time: 0.583, data_time: 0.052, memory: 1887, loss_cls: 0.1947, loss_bbox: 0.0744, loss_bbox_rf: 0.0951, loss: 0.3643, grad_norm: 1.2807\n",
      "2021-05-14 19:49:03,081 - mmdet - INFO - Epoch [95][100/655]\tlr: 1.000e-04, eta: 0:34:15, time: 0.536, data_time: 0.007, memory: 1887, loss_cls: 0.1908, loss_bbox: 0.0718, loss_bbox_rf: 0.0911, loss: 0.3537, grad_norm: 1.2451\n",
      "2021-05-14 19:49:29,985 - mmdet - INFO - Epoch [95][150/655]\tlr: 1.000e-04, eta: 0:33:48, time: 0.538, data_time: 0.008, memory: 1887, loss_cls: 0.1838, loss_bbox: 0.0655, loss_bbox_rf: 0.0833, loss: 0.3326, grad_norm: 1.3077\n",
      "2021-05-14 19:49:56,872 - mmdet - INFO - Epoch [95][200/655]\tlr: 1.000e-04, eta: 0:33:21, time: 0.538, data_time: 0.007, memory: 1887, loss_cls: 0.1799, loss_bbox: 0.0646, loss_bbox_rf: 0.0815, loss: 0.3261, grad_norm: 1.2453\n",
      "2021-05-14 19:50:23,659 - mmdet - INFO - Epoch [95][250/655]\tlr: 1.000e-04, eta: 0:32:54, time: 0.536, data_time: 0.007, memory: 1887, loss_cls: 0.2039, loss_bbox: 0.0822, loss_bbox_rf: 0.1051, loss: 0.3913, grad_norm: 1.2485\n",
      "2021-05-14 19:50:50,480 - mmdet - INFO - Epoch [95][300/655]\tlr: 1.000e-04, eta: 0:32:28, time: 0.536, data_time: 0.007, memory: 1887, loss_cls: 0.1783, loss_bbox: 0.0656, loss_bbox_rf: 0.0830, loss: 0.3268, grad_norm: 1.2512\n",
      "2021-05-14 19:51:17,455 - mmdet - INFO - Epoch [95][350/655]\tlr: 1.000e-04, eta: 0:32:01, time: 0.539, data_time: 0.007, memory: 1887, loss_cls: 0.1899, loss_bbox: 0.0711, loss_bbox_rf: 0.0907, loss: 0.3517, grad_norm: 1.2764\n",
      "2021-05-14 19:51:44,377 - mmdet - INFO - Epoch [95][400/655]\tlr: 1.000e-04, eta: 0:31:34, time: 0.538, data_time: 0.007, memory: 1887, loss_cls: 0.2048, loss_bbox: 0.0798, loss_bbox_rf: 0.1021, loss: 0.3867, grad_norm: 1.2171\n",
      "2021-05-14 19:52:11,547 - mmdet - INFO - Epoch [95][450/655]\tlr: 1.000e-04, eta: 0:31:07, time: 0.543, data_time: 0.008, memory: 1887, loss_cls: 0.1889, loss_bbox: 0.0756, loss_bbox_rf: 0.0963, loss: 0.3609, grad_norm: 1.2391\n",
      "2021-05-14 19:52:38,463 - mmdet - INFO - Epoch [95][500/655]\tlr: 1.000e-04, eta: 0:30:40, time: 0.538, data_time: 0.008, memory: 1887, loss_cls: 0.1915, loss_bbox: 0.0745, loss_bbox_rf: 0.0947, loss: 0.3607, grad_norm: 1.2375\n",
      "2021-05-14 19:53:05,309 - mmdet - INFO - Epoch [95][550/655]\tlr: 1.000e-04, eta: 0:30:13, time: 0.537, data_time: 0.007, memory: 1887, loss_cls: 0.1931, loss_bbox: 0.0713, loss_bbox_rf: 0.0907, loss: 0.3551, grad_norm: 1.3184\n",
      "2021-05-14 19:53:31,988 - mmdet - INFO - Epoch [95][600/655]\tlr: 1.000e-04, eta: 0:29:47, time: 0.534, data_time: 0.007, memory: 1887, loss_cls: 0.1951, loss_bbox: 0.0764, loss_bbox_rf: 0.0975, loss: 0.3690, grad_norm: 1.2687\n",
      "2021-05-14 19:53:58,777 - mmdet - INFO - Epoch [95][650/655]\tlr: 1.000e-04, eta: 0:29:20, time: 0.536, data_time: 0.007, memory: 1887, loss_cls: 0.1886, loss_bbox: 0.0700, loss_bbox_rf: 0.0887, loss: 0.3473, grad_norm: 1.2632\n",
      "2021-05-14 19:54:01,536 - mmdet - INFO - Saving checkpoint at 95 epochs\n"
     ]
    },
    {
     "name": "stdout",
     "output_type": "stream",
     "text": [
      "[>>>>>>>>>>>>>>>>>>>>>>>>>>>>>] 655/655, 19.0 task/s, elapsed: 35s, ETA:     0s"
     ]
    },
    {
     "name": "stderr",
     "output_type": "stream",
     "text": [
      "2021-05-14 19:54:37,852 - mmdet - INFO - Evaluating bbox...\n"
     ]
    },
    {
     "name": "stdout",
     "output_type": "stream",
     "text": [
      "Loading and preparing results...\n",
      "DONE (t=0.10s)\n",
      "creating index...\n",
      "index created!\n",
      "Running per image evaluation...\n",
      "Evaluate annotation type *bbox*\n",
      "DONE (t=4.78s).\n",
      "Accumulating evaluation results...\n"
     ]
    },
    {
     "name": "stderr",
     "output_type": "stream",
     "text": [
      "2021-05-14 19:54:43,648 - mmdet - INFO - Epoch(val) [95][655]\tbbox_mAP: 0.1900, bbox_mAP_50: 0.2780, bbox_mAP_75: 0.1950, bbox_mAP_s: 0.0240, bbox_mAP_m: 0.1540, bbox_mAP_l: 0.4240, bbox_mAP_copypaste: 0.190 0.278 0.195 0.024 0.154 0.424\n"
     ]
    },
    {
     "name": "stdout",
     "output_type": "stream",
     "text": [
      "DONE (t=0.83s).\n",
      "Average Precision  (AP) @[ IoU=0.50:0.95 | area=   all | maxDets=100 ] = 0.190\n",
      "Average Precision  (AP) @[ IoU=0.50      | area=   all | maxDets=1000 ] = 0.278\n",
      "Average Precision  (AP) @[ IoU=0.75      | area=   all | maxDets=1000 ] = 0.195\n",
      "Average Precision  (AP) @[ IoU=0.50:0.95 | area= small | maxDets=1000 ] = 0.024\n",
      "Average Precision  (AP) @[ IoU=0.50:0.95 | area=medium | maxDets=1000 ] = 0.154\n",
      "Average Precision  (AP) @[ IoU=0.50:0.95 | area= large | maxDets=1000 ] = 0.424\n",
      "Average Recall     (AR) @[ IoU=0.50:0.95 | area=   all | maxDets=100 ] = 0.313\n",
      "Average Recall     (AR) @[ IoU=0.50:0.95 | area=   all | maxDets=300 ] = 0.313\n",
      "Average Recall     (AR) @[ IoU=0.50:0.95 | area=   all | maxDets=1000 ] = 0.313\n",
      "Average Recall     (AR) @[ IoU=0.50:0.95 | area= small | maxDets=1000 ] = 0.078\n",
      "Average Recall     (AR) @[ IoU=0.50:0.95 | area=medium | maxDets=1000 ] = 0.268\n",
      "Average Recall     (AR) @[ IoU=0.50:0.95 | area= large | maxDets=1000 ] = 0.585\n"
     ]
    },
    {
     "name": "stderr",
     "output_type": "stream",
     "text": [
      "2021-05-14 19:55:12,878 - mmdet - INFO - Epoch [96][50/655]\tlr: 1.000e-04, eta: 0:28:50, time: 0.584, data_time: 0.052, memory: 1887, loss_cls: 0.1839, loss_bbox: 0.0693, loss_bbox_rf: 0.0880, loss: 0.3413, grad_norm: 1.2895\n",
      "2021-05-14 19:55:39,755 - mmdet - INFO - Epoch [96][100/655]\tlr: 1.000e-04, eta: 0:28:23, time: 0.538, data_time: 0.007, memory: 1887, loss_cls: 0.2051, loss_bbox: 0.0803, loss_bbox_rf: 0.1028, loss: 0.3883, grad_norm: 1.3270\n",
      "2021-05-14 19:56:06,766 - mmdet - INFO - Epoch [96][150/655]\tlr: 1.000e-04, eta: 0:27:57, time: 0.540, data_time: 0.007, memory: 1887, loss_cls: 0.1948, loss_bbox: 0.0758, loss_bbox_rf: 0.0966, loss: 0.3673, grad_norm: 1.2670\n",
      "2021-05-14 19:56:33,582 - mmdet - INFO - Epoch [96][200/655]\tlr: 1.000e-04, eta: 0:27:30, time: 0.536, data_time: 0.007, memory: 1887, loss_cls: 0.1990, loss_bbox: 0.0756, loss_bbox_rf: 0.0966, loss: 0.3713, grad_norm: 1.2504\n",
      "2021-05-14 19:57:00,456 - mmdet - INFO - Epoch [96][250/655]\tlr: 1.000e-04, eta: 0:27:03, time: 0.537, data_time: 0.007, memory: 1887, loss_cls: 0.1920, loss_bbox: 0.0747, loss_bbox_rf: 0.0953, loss: 0.3620, grad_norm: 1.2111\n",
      "2021-05-14 19:57:27,313 - mmdet - INFO - Epoch [96][300/655]\tlr: 1.000e-04, eta: 0:26:36, time: 0.537, data_time: 0.007, memory: 1887, loss_cls: 0.1838, loss_bbox: 0.0680, loss_bbox_rf: 0.0860, loss: 0.3378, grad_norm: 1.2617\n",
      "2021-05-14 19:57:54,160 - mmdet - INFO - Epoch [96][350/655]\tlr: 1.000e-04, eta: 0:26:09, time: 0.537, data_time: 0.007, memory: 1887, loss_cls: 0.1789, loss_bbox: 0.0668, loss_bbox_rf: 0.0851, loss: 0.3308, grad_norm: 1.2537\n",
      "2021-05-14 19:58:21,170 - mmdet - INFO - Epoch [96][400/655]\tlr: 1.000e-04, eta: 0:25:42, time: 0.540, data_time: 0.007, memory: 1887, loss_cls: 0.1828, loss_bbox: 0.0680, loss_bbox_rf: 0.0861, loss: 0.3368, grad_norm: 1.2096\n",
      "2021-05-14 19:58:48,115 - mmdet - INFO - Epoch [96][450/655]\tlr: 1.000e-04, eta: 0:25:16, time: 0.539, data_time: 0.007, memory: 1887, loss_cls: 0.1945, loss_bbox: 0.0739, loss_bbox_rf: 0.0942, loss: 0.3627, grad_norm: 1.2968\n",
      "2021-05-14 19:59:14,916 - mmdet - INFO - Epoch [96][500/655]\tlr: 1.000e-04, eta: 0:24:49, time: 0.536, data_time: 0.007, memory: 1887, loss_cls: 0.2074, loss_bbox: 0.0805, loss_bbox_rf: 0.1030, loss: 0.3909, grad_norm: 1.2058\n",
      "2021-05-14 19:59:41,822 - mmdet - INFO - Epoch [96][550/655]\tlr: 1.000e-04, eta: 0:24:22, time: 0.538, data_time: 0.007, memory: 1887, loss_cls: 0.1872, loss_bbox: 0.0697, loss_bbox_rf: 0.0884, loss: 0.3453, grad_norm: 1.2366\n",
      "2021-05-14 20:00:08,613 - mmdet - INFO - Epoch [96][600/655]\tlr: 1.000e-04, eta: 0:23:55, time: 0.536, data_time: 0.007, memory: 1887, loss_cls: 0.1978, loss_bbox: 0.0755, loss_bbox_rf: 0.0966, loss: 0.3699, grad_norm: 1.2715\n",
      "2021-05-14 20:00:35,484 - mmdet - INFO - Epoch [96][650/655]\tlr: 1.000e-04, eta: 0:23:28, time: 0.537, data_time: 0.007, memory: 1887, loss_cls: 0.1955, loss_bbox: 0.0727, loss_bbox_rf: 0.0926, loss: 0.3608, grad_norm: 1.2142\n",
      "2021-05-14 20:00:38,250 - mmdet - INFO - Saving checkpoint at 96 epochs\n"
     ]
    },
    {
     "name": "stdout",
     "output_type": "stream",
     "text": [
      "[>>>>>>>>>>>>>>>>>>>>>>>>>>>>>] 655/655, 18.5 task/s, elapsed: 35s, ETA:     0s"
     ]
    },
    {
     "name": "stderr",
     "output_type": "stream",
     "text": [
      "2021-05-14 20:01:15,492 - mmdet - INFO - Evaluating bbox...\n"
     ]
    },
    {
     "name": "stdout",
     "output_type": "stream",
     "text": [
      "Loading and preparing results...\n",
      "DONE (t=0.11s)\n",
      "creating index...\n",
      "index created!\n",
      "Running per image evaluation...\n",
      "Evaluate annotation type *bbox*\n",
      "DONE (t=4.57s).\n",
      "Accumulating evaluation results...\n"
     ]
    },
    {
     "name": "stderr",
     "output_type": "stream",
     "text": [
      "2021-05-14 20:01:21,028 - mmdet - INFO - Epoch(val) [96][655]\tbbox_mAP: 0.1900, bbox_mAP_50: 0.2770, bbox_mAP_75: 0.1960, bbox_mAP_s: 0.0240, bbox_mAP_m: 0.1530, bbox_mAP_l: 0.4240, bbox_mAP_copypaste: 0.190 0.277 0.196 0.024 0.153 0.424\n"
     ]
    },
    {
     "name": "stdout",
     "output_type": "stream",
     "text": [
      "DONE (t=0.77s).\n",
      "Average Precision  (AP) @[ IoU=0.50:0.95 | area=   all | maxDets=100 ] = 0.190\n",
      "Average Precision  (AP) @[ IoU=0.50      | area=   all | maxDets=1000 ] = 0.277\n",
      "Average Precision  (AP) @[ IoU=0.75      | area=   all | maxDets=1000 ] = 0.196\n",
      "Average Precision  (AP) @[ IoU=0.50:0.95 | area= small | maxDets=1000 ] = 0.024\n",
      "Average Precision  (AP) @[ IoU=0.50:0.95 | area=medium | maxDets=1000 ] = 0.153\n",
      "Average Precision  (AP) @[ IoU=0.50:0.95 | area= large | maxDets=1000 ] = 0.424\n",
      "Average Recall     (AR) @[ IoU=0.50:0.95 | area=   all | maxDets=100 ] = 0.314\n",
      "Average Recall     (AR) @[ IoU=0.50:0.95 | area=   all | maxDets=300 ] = 0.314\n",
      "Average Recall     (AR) @[ IoU=0.50:0.95 | area=   all | maxDets=1000 ] = 0.314\n",
      "Average Recall     (AR) @[ IoU=0.50:0.95 | area= small | maxDets=1000 ] = 0.078\n",
      "Average Recall     (AR) @[ IoU=0.50:0.95 | area=medium | maxDets=1000 ] = 0.264\n",
      "Average Recall     (AR) @[ IoU=0.50:0.95 | area= large | maxDets=1000 ] = 0.590\n"
     ]
    },
    {
     "name": "stderr",
     "output_type": "stream",
     "text": [
      "2021-05-14 20:01:50,232 - mmdet - INFO - Epoch [97][50/655]\tlr: 1.000e-04, eta: 0:22:59, time: 0.584, data_time: 0.053, memory: 1887, loss_cls: 0.2022, loss_bbox: 0.0768, loss_bbox_rf: 0.0982, loss: 0.3771, grad_norm: 1.2154\n",
      "2021-05-14 20:02:17,260 - mmdet - INFO - Epoch [97][100/655]\tlr: 1.000e-04, eta: 0:22:32, time: 0.541, data_time: 0.008, memory: 1887, loss_cls: 0.1926, loss_bbox: 0.0709, loss_bbox_rf: 0.0903, loss: 0.3538, grad_norm: 1.1995\n",
      "2021-05-14 20:02:44,096 - mmdet - INFO - Epoch [97][150/655]\tlr: 1.000e-04, eta: 0:22:05, time: 0.537, data_time: 0.007, memory: 1887, loss_cls: 0.1812, loss_bbox: 0.0680, loss_bbox_rf: 0.0860, loss: 0.3352, grad_norm: 1.2433\n",
      "2021-05-14 20:03:10,884 - mmdet - INFO - Epoch [97][200/655]\tlr: 1.000e-04, eta: 0:21:38, time: 0.536, data_time: 0.007, memory: 1887, loss_cls: 0.1846, loss_bbox: 0.0687, loss_bbox_rf: 0.0877, loss: 0.3410, grad_norm: 1.2609\n",
      "2021-05-14 20:03:37,713 - mmdet - INFO - Epoch [97][250/655]\tlr: 1.000e-04, eta: 0:21:11, time: 0.537, data_time: 0.007, memory: 1887, loss_cls: 0.2012, loss_bbox: 0.0780, loss_bbox_rf: 0.0996, loss: 0.3788, grad_norm: 1.2778\n",
      "2021-05-14 20:04:04,845 - mmdet - INFO - Epoch [97][300/655]\tlr: 1.000e-04, eta: 0:20:45, time: 0.543, data_time: 0.008, memory: 1887, loss_cls: 0.1995, loss_bbox: 0.0787, loss_bbox_rf: 0.1007, loss: 0.3789, grad_norm: 1.2783\n",
      "2021-05-14 20:04:31,765 - mmdet - INFO - Epoch [97][350/655]\tlr: 1.000e-04, eta: 0:20:18, time: 0.538, data_time: 0.007, memory: 1887, loss_cls: 0.1844, loss_bbox: 0.0695, loss_bbox_rf: 0.0883, loss: 0.3423, grad_norm: 1.2474\n",
      "2021-05-14 20:04:58,785 - mmdet - INFO - Epoch [97][400/655]\tlr: 1.000e-04, eta: 0:19:51, time: 0.540, data_time: 0.007, memory: 1887, loss_cls: 0.1850, loss_bbox: 0.0727, loss_bbox_rf: 0.0924, loss: 0.3501, grad_norm: 1.2412\n",
      "2021-05-14 20:05:26,093 - mmdet - INFO - Epoch [97][450/655]\tlr: 1.000e-04, eta: 0:19:24, time: 0.546, data_time: 0.007, memory: 1887, loss_cls: 0.1924, loss_bbox: 0.0724, loss_bbox_rf: 0.0921, loss: 0.3569, grad_norm: 1.2871\n",
      "2021-05-14 20:05:52,893 - mmdet - INFO - Epoch [97][500/655]\tlr: 1.000e-04, eta: 0:18:57, time: 0.536, data_time: 0.007, memory: 1887, loss_cls: 0.1952, loss_bbox: 0.0758, loss_bbox_rf: 0.0970, loss: 0.3680, grad_norm: 1.2462\n",
      "2021-05-14 20:06:19,801 - mmdet - INFO - Epoch [97][550/655]\tlr: 1.000e-04, eta: 0:18:30, time: 0.538, data_time: 0.008, memory: 1887, loss_cls: 0.1853, loss_bbox: 0.0688, loss_bbox_rf: 0.0872, loss: 0.3413, grad_norm: 1.2492\n",
      "2021-05-14 20:06:46,583 - mmdet - INFO - Epoch [97][600/655]\tlr: 1.000e-04, eta: 0:18:04, time: 0.536, data_time: 0.007, memory: 1887, loss_cls: 0.1999, loss_bbox: 0.0800, loss_bbox_rf: 0.1021, loss: 0.3820, grad_norm: 1.2969\n",
      "2021-05-14 20:07:13,633 - mmdet - INFO - Epoch [97][650/655]\tlr: 1.000e-04, eta: 0:17:37, time: 0.541, data_time: 0.008, memory: 1887, loss_cls: 0.1887, loss_bbox: 0.0695, loss_bbox_rf: 0.0885, loss: 0.3467, grad_norm: 1.2579\n",
      "2021-05-14 20:07:16,410 - mmdet - INFO - Saving checkpoint at 97 epochs\n"
     ]
    },
    {
     "name": "stdout",
     "output_type": "stream",
     "text": [
      "[>>>>>>>>>>>>>>>>>>>>>>>>>>>>>] 655/655, 18.7 task/s, elapsed: 35s, ETA:     0s"
     ]
    },
    {
     "name": "stderr",
     "output_type": "stream",
     "text": [
      "2021-05-14 20:07:53,339 - mmdet - INFO - Evaluating bbox...\n"
     ]
    },
    {
     "name": "stdout",
     "output_type": "stream",
     "text": [
      "Loading and preparing results...\n",
      "DONE (t=0.11s)\n",
      "creating index...\n",
      "index created!\n",
      "Running per image evaluation...\n",
      "Evaluate annotation type *bbox*\n",
      "DONE (t=4.72s).\n",
      "Accumulating evaluation results...\n"
     ]
    },
    {
     "name": "stderr",
     "output_type": "stream",
     "text": [
      "2021-05-14 20:07:59,125 - mmdet - INFO - Epoch(val) [97][655]\tbbox_mAP: 0.1900, bbox_mAP_50: 0.2770, bbox_mAP_75: 0.1960, bbox_mAP_s: 0.0250, bbox_mAP_m: 0.1530, bbox_mAP_l: 0.4240, bbox_mAP_copypaste: 0.190 0.277 0.196 0.025 0.153 0.424\n"
     ]
    },
    {
     "name": "stdout",
     "output_type": "stream",
     "text": [
      "DONE (t=0.87s).\n",
      "Average Precision  (AP) @[ IoU=0.50:0.95 | area=   all | maxDets=100 ] = 0.190\n",
      "Average Precision  (AP) @[ IoU=0.50      | area=   all | maxDets=1000 ] = 0.277\n",
      "Average Precision  (AP) @[ IoU=0.75      | area=   all | maxDets=1000 ] = 0.196\n",
      "Average Precision  (AP) @[ IoU=0.50:0.95 | area= small | maxDets=1000 ] = 0.025\n",
      "Average Precision  (AP) @[ IoU=0.50:0.95 | area=medium | maxDets=1000 ] = 0.153\n",
      "Average Precision  (AP) @[ IoU=0.50:0.95 | area= large | maxDets=1000 ] = 0.424\n",
      "Average Recall     (AR) @[ IoU=0.50:0.95 | area=   all | maxDets=100 ] = 0.315\n",
      "Average Recall     (AR) @[ IoU=0.50:0.95 | area=   all | maxDets=300 ] = 0.315\n",
      "Average Recall     (AR) @[ IoU=0.50:0.95 | area=   all | maxDets=1000 ] = 0.315\n",
      "Average Recall     (AR) @[ IoU=0.50:0.95 | area= small | maxDets=1000 ] = 0.079\n",
      "Average Recall     (AR) @[ IoU=0.50:0.95 | area=medium | maxDets=1000 ] = 0.266\n",
      "Average Recall     (AR) @[ IoU=0.50:0.95 | area= large | maxDets=1000 ] = 0.590\n"
     ]
    },
    {
     "name": "stderr",
     "output_type": "stream",
     "text": [
      "2021-05-14 20:08:28,232 - mmdet - INFO - Epoch [98][50/655]\tlr: 1.000e-04, eta: 0:17:07, time: 0.582, data_time: 0.052, memory: 1887, loss_cls: 0.1904, loss_bbox: 0.0708, loss_bbox_rf: 0.0902, loss: 0.3514, grad_norm: 1.1989\n",
      "2021-05-14 20:08:55,080 - mmdet - INFO - Epoch [98][100/655]\tlr: 1.000e-04, eta: 0:16:40, time: 0.537, data_time: 0.007, memory: 1887, loss_cls: 0.1781, loss_bbox: 0.0655, loss_bbox_rf: 0.0829, loss: 0.3265, grad_norm: 1.2390\n",
      "2021-05-14 20:09:21,911 - mmdet - INFO - Epoch [98][150/655]\tlr: 1.000e-04, eta: 0:16:14, time: 0.537, data_time: 0.007, memory: 1887, loss_cls: 0.1962, loss_bbox: 0.0748, loss_bbox_rf: 0.0954, loss: 0.3663, grad_norm: 1.3225\n",
      "2021-05-14 20:09:49,441 - mmdet - INFO - Epoch [98][200/655]\tlr: 1.000e-04, eta: 0:15:47, time: 0.551, data_time: 0.008, memory: 1887, loss_cls: 0.1912, loss_bbox: 0.0741, loss_bbox_rf: 0.0941, loss: 0.3594, grad_norm: 1.1978\n",
      "2021-05-14 20:10:16,144 - mmdet - INFO - Epoch [98][250/655]\tlr: 1.000e-04, eta: 0:15:20, time: 0.534, data_time: 0.007, memory: 1887, loss_cls: 0.1970, loss_bbox: 0.0758, loss_bbox_rf: 0.0971, loss: 0.3700, grad_norm: 1.2301\n",
      "2021-05-14 20:10:42,801 - mmdet - INFO - Epoch [98][300/655]\tlr: 1.000e-04, eta: 0:14:53, time: 0.533, data_time: 0.007, memory: 1887, loss_cls: 0.1875, loss_bbox: 0.0724, loss_bbox_rf: 0.0920, loss: 0.3519, grad_norm: 1.1956\n",
      "2021-05-14 20:11:09,664 - mmdet - INFO - Epoch [98][350/655]\tlr: 1.000e-04, eta: 0:14:26, time: 0.537, data_time: 0.007, memory: 1887, loss_cls: 0.2086, loss_bbox: 0.0806, loss_bbox_rf: 0.1032, loss: 0.3924, grad_norm: 1.1757\n",
      "2021-05-14 20:11:36,669 - mmdet - INFO - Epoch [98][400/655]\tlr: 1.000e-04, eta: 0:13:59, time: 0.540, data_time: 0.007, memory: 1887, loss_cls: 0.1918, loss_bbox: 0.0710, loss_bbox_rf: 0.0904, loss: 0.3533, grad_norm: 1.2716\n",
      "2021-05-14 20:12:03,658 - mmdet - INFO - Epoch [98][450/655]\tlr: 1.000e-04, eta: 0:13:33, time: 0.540, data_time: 0.007, memory: 1887, loss_cls: 0.1942, loss_bbox: 0.0748, loss_bbox_rf: 0.0953, loss: 0.3642, grad_norm: 1.2352\n",
      "2021-05-14 20:12:30,627 - mmdet - INFO - Epoch [98][500/655]\tlr: 1.000e-04, eta: 0:13:06, time: 0.539, data_time: 0.008, memory: 1887, loss_cls: 0.1803, loss_bbox: 0.0671, loss_bbox_rf: 0.0852, loss: 0.3325, grad_norm: 1.2035\n",
      "2021-05-14 20:12:57,516 - mmdet - INFO - Epoch [98][550/655]\tlr: 1.000e-04, eta: 0:12:39, time: 0.538, data_time: 0.007, memory: 1887, loss_cls: 0.1844, loss_bbox: 0.0688, loss_bbox_rf: 0.0872, loss: 0.3404, grad_norm: 1.2193\n",
      "2021-05-14 20:13:24,450 - mmdet - INFO - Epoch [98][600/655]\tlr: 1.000e-04, eta: 0:12:12, time: 0.539, data_time: 0.007, memory: 1887, loss_cls: 0.1988, loss_bbox: 0.0785, loss_bbox_rf: 0.1001, loss: 0.3774, grad_norm: 1.2527\n",
      "2021-05-14 20:13:51,215 - mmdet - INFO - Epoch [98][650/655]\tlr: 1.000e-04, eta: 0:11:45, time: 0.535, data_time: 0.007, memory: 1887, loss_cls: 0.1867, loss_bbox: 0.0698, loss_bbox_rf: 0.0889, loss: 0.3454, grad_norm: 1.2114\n",
      "2021-05-14 20:13:53,973 - mmdet - INFO - Saving checkpoint at 98 epochs\n"
     ]
    },
    {
     "name": "stdout",
     "output_type": "stream",
     "text": [
      "[>>>>>>>>>>>>>>>>>>>>>>>>>>>>>] 655/655, 18.0 task/s, elapsed: 36s, ETA:     0s"
     ]
    },
    {
     "name": "stderr",
     "output_type": "stream",
     "text": [
      "2021-05-14 20:14:32,174 - mmdet - INFO - Evaluating bbox...\n"
     ]
    },
    {
     "name": "stdout",
     "output_type": "stream",
     "text": [
      "Loading and preparing results...\n",
      "DONE (t=0.10s)\n",
      "creating index...\n",
      "index created!\n",
      "Running per image evaluation...\n",
      "Evaluate annotation type *bbox*\n",
      "DONE (t=4.58s).\n",
      "Accumulating evaluation results...\n"
     ]
    },
    {
     "name": "stderr",
     "output_type": "stream",
     "text": [
      "2021-05-14 20:14:37,803 - mmdet - INFO - Epoch(val) [98][655]\tbbox_mAP: 0.1900, bbox_mAP_50: 0.2770, bbox_mAP_75: 0.1950, bbox_mAP_s: 0.0250, bbox_mAP_m: 0.1530, bbox_mAP_l: 0.4240, bbox_mAP_copypaste: 0.190 0.277 0.195 0.025 0.153 0.424\n"
     ]
    },
    {
     "name": "stdout",
     "output_type": "stream",
     "text": [
      "DONE (t=0.86s).\n",
      "Average Precision  (AP) @[ IoU=0.50:0.95 | area=   all | maxDets=100 ] = 0.190\n",
      "Average Precision  (AP) @[ IoU=0.50      | area=   all | maxDets=1000 ] = 0.277\n",
      "Average Precision  (AP) @[ IoU=0.75      | area=   all | maxDets=1000 ] = 0.195\n",
      "Average Precision  (AP) @[ IoU=0.50:0.95 | area= small | maxDets=1000 ] = 0.025\n",
      "Average Precision  (AP) @[ IoU=0.50:0.95 | area=medium | maxDets=1000 ] = 0.153\n",
      "Average Precision  (AP) @[ IoU=0.50:0.95 | area= large | maxDets=1000 ] = 0.424\n",
      "Average Recall     (AR) @[ IoU=0.50:0.95 | area=   all | maxDets=100 ] = 0.314\n",
      "Average Recall     (AR) @[ IoU=0.50:0.95 | area=   all | maxDets=300 ] = 0.314\n",
      "Average Recall     (AR) @[ IoU=0.50:0.95 | area=   all | maxDets=1000 ] = 0.314\n",
      "Average Recall     (AR) @[ IoU=0.50:0.95 | area= small | maxDets=1000 ] = 0.078\n",
      "Average Recall     (AR) @[ IoU=0.50:0.95 | area=medium | maxDets=1000 ] = 0.266\n",
      "Average Recall     (AR) @[ IoU=0.50:0.95 | area= large | maxDets=1000 ] = 0.589\n"
     ]
    },
    {
     "name": "stderr",
     "output_type": "stream",
     "text": [
      "2021-05-14 20:15:07,281 - mmdet - INFO - Epoch [99][50/655]\tlr: 1.000e-04, eta: 0:11:16, time: 0.589, data_time: 0.052, memory: 1887, loss_cls: 0.2049, loss_bbox: 0.0816, loss_bbox_rf: 0.1045, loss: 0.3910, grad_norm: 1.2114\n",
      "2021-05-14 20:15:34,191 - mmdet - INFO - Epoch [99][100/655]\tlr: 1.000e-04, eta: 0:10:49, time: 0.538, data_time: 0.007, memory: 1887, loss_cls: 0.1925, loss_bbox: 0.0737, loss_bbox_rf: 0.0940, loss: 0.3602, grad_norm: 1.2523\n",
      "2021-05-14 20:16:01,697 - mmdet - INFO - Epoch [99][150/655]\tlr: 1.000e-04, eta: 0:10:22, time: 0.550, data_time: 0.008, memory: 1887, loss_cls: 0.1966, loss_bbox: 0.0755, loss_bbox_rf: 0.0963, loss: 0.3684, grad_norm: 1.2300\n",
      "2021-05-14 20:16:28,884 - mmdet - INFO - Epoch [99][200/655]\tlr: 1.000e-04, eta: 0:09:55, time: 0.544, data_time: 0.007, memory: 1887, loss_cls: 0.1931, loss_bbox: 0.0746, loss_bbox_rf: 0.0949, loss: 0.3625, grad_norm: 1.1976\n",
      "2021-05-14 20:16:56,072 - mmdet - INFO - Epoch [99][250/655]\tlr: 1.000e-04, eta: 0:09:28, time: 0.544, data_time: 0.007, memory: 1887, loss_cls: 0.1867, loss_bbox: 0.0716, loss_bbox_rf: 0.0908, loss: 0.3492, grad_norm: 1.2175\n",
      "2021-05-14 20:17:22,937 - mmdet - INFO - Epoch [99][300/655]\tlr: 1.000e-04, eta: 0:09:02, time: 0.537, data_time: 0.007, memory: 1887, loss_cls: 0.1865, loss_bbox: 0.0676, loss_bbox_rf: 0.0857, loss: 0.3397, grad_norm: 1.2300\n",
      "2021-05-14 20:17:49,887 - mmdet - INFO - Epoch [99][350/655]\tlr: 1.000e-04, eta: 0:08:35, time: 0.539, data_time: 0.007, memory: 1887, loss_cls: 0.1946, loss_bbox: 0.0733, loss_bbox_rf: 0.0937, loss: 0.3617, grad_norm: 1.2166\n",
      "2021-05-14 20:18:16,711 - mmdet - INFO - Epoch [99][400/655]\tlr: 1.000e-04, eta: 0:08:08, time: 0.536, data_time: 0.007, memory: 1887, loss_cls: 0.1786, loss_bbox: 0.0658, loss_bbox_rf: 0.0834, loss: 0.3277, grad_norm: 1.1961\n",
      "2021-05-14 20:18:43,585 - mmdet - INFO - Epoch [99][450/655]\tlr: 1.000e-04, eta: 0:07:41, time: 0.537, data_time: 0.007, memory: 1887, loss_cls: 0.1990, loss_bbox: 0.0754, loss_bbox_rf: 0.0962, loss: 0.3705, grad_norm: 1.2448\n",
      "2021-05-14 20:19:10,387 - mmdet - INFO - Epoch [99][500/655]\tlr: 1.000e-04, eta: 0:07:14, time: 0.536, data_time: 0.007, memory: 1887, loss_cls: 0.1747, loss_bbox: 0.0653, loss_bbox_rf: 0.0827, loss: 0.3227, grad_norm: 1.2357\n",
      "2021-05-14 20:19:37,153 - mmdet - INFO - Epoch [99][550/655]\tlr: 1.000e-04, eta: 0:06:47, time: 0.535, data_time: 0.007, memory: 1887, loss_cls: 0.1839, loss_bbox: 0.0666, loss_bbox_rf: 0.0841, loss: 0.3347, grad_norm: 1.1948\n",
      "2021-05-14 20:20:03,871 - mmdet - INFO - Epoch [99][600/655]\tlr: 1.000e-04, eta: 0:06:21, time: 0.534, data_time: 0.007, memory: 1887, loss_cls: 0.1920, loss_bbox: 0.0732, loss_bbox_rf: 0.0933, loss: 0.3585, grad_norm: 1.2360\n",
      "2021-05-14 20:20:30,816 - mmdet - INFO - Epoch [99][650/655]\tlr: 1.000e-04, eta: 0:05:54, time: 0.539, data_time: 0.007, memory: 1887, loss_cls: 0.2002, loss_bbox: 0.0779, loss_bbox_rf: 0.0996, loss: 0.3777, grad_norm: 1.2412\n",
      "2021-05-14 20:20:33,586 - mmdet - INFO - Saving checkpoint at 99 epochs\n"
     ]
    },
    {
     "name": "stdout",
     "output_type": "stream",
     "text": [
      "[>>>>>>>>>>>>>>>>>>>>>>>>>>>>>] 655/655, 18.4 task/s, elapsed: 36s, ETA:     0s"
     ]
    },
    {
     "name": "stderr",
     "output_type": "stream",
     "text": [
      "2021-05-14 20:21:10,904 - mmdet - INFO - Evaluating bbox...\n"
     ]
    },
    {
     "name": "stdout",
     "output_type": "stream",
     "text": [
      "Loading and preparing results...\n",
      "DONE (t=0.10s)\n",
      "creating index...\n",
      "index created!\n",
      "Running per image evaluation...\n",
      "Evaluate annotation type *bbox*\n",
      "DONE (t=4.48s).\n",
      "Accumulating evaluation results...\n"
     ]
    },
    {
     "name": "stderr",
     "output_type": "stream",
     "text": [
      "2021-05-14 20:21:16,350 - mmdet - INFO - Epoch(val) [99][655]\tbbox_mAP: 0.1900, bbox_mAP_50: 0.2770, bbox_mAP_75: 0.1950, bbox_mAP_s: 0.0250, bbox_mAP_m: 0.1530, bbox_mAP_l: 0.4240, bbox_mAP_copypaste: 0.190 0.277 0.195 0.025 0.153 0.424\n"
     ]
    },
    {
     "name": "stdout",
     "output_type": "stream",
     "text": [
      "DONE (t=0.78s).\n",
      "Average Precision  (AP) @[ IoU=0.50:0.95 | area=   all | maxDets=100 ] = 0.190\n",
      "Average Precision  (AP) @[ IoU=0.50      | area=   all | maxDets=1000 ] = 0.277\n",
      "Average Precision  (AP) @[ IoU=0.75      | area=   all | maxDets=1000 ] = 0.195\n",
      "Average Precision  (AP) @[ IoU=0.50:0.95 | area= small | maxDets=1000 ] = 0.025\n",
      "Average Precision  (AP) @[ IoU=0.50:0.95 | area=medium | maxDets=1000 ] = 0.153\n",
      "Average Precision  (AP) @[ IoU=0.50:0.95 | area= large | maxDets=1000 ] = 0.424\n",
      "Average Recall     (AR) @[ IoU=0.50:0.95 | area=   all | maxDets=100 ] = 0.312\n",
      "Average Recall     (AR) @[ IoU=0.50:0.95 | area=   all | maxDets=300 ] = 0.312\n",
      "Average Recall     (AR) @[ IoU=0.50:0.95 | area=   all | maxDets=1000 ] = 0.312\n",
      "Average Recall     (AR) @[ IoU=0.50:0.95 | area= small | maxDets=1000 ] = 0.078\n",
      "Average Recall     (AR) @[ IoU=0.50:0.95 | area=medium | maxDets=1000 ] = 0.267\n",
      "Average Recall     (AR) @[ IoU=0.50:0.95 | area= large | maxDets=1000 ] = 0.585\n"
     ]
    },
    {
     "name": "stderr",
     "output_type": "stream",
     "text": [
      "2021-05-14 20:21:45,485 - mmdet - INFO - Epoch [100][50/655]\tlr: 1.000e-04, eta: 0:05:24, time: 0.582, data_time: 0.052, memory: 1887, loss_cls: 0.1921, loss_bbox: 0.0737, loss_bbox_rf: 0.0940, loss: 0.3598, grad_norm: 1.1997\n",
      "2021-05-14 20:22:12,286 - mmdet - INFO - Epoch [100][100/655]\tlr: 1.000e-04, eta: 0:04:57, time: 0.536, data_time: 0.007, memory: 1887, loss_cls: 0.1775, loss_bbox: 0.0626, loss_bbox_rf: 0.0793, loss: 0.3194, grad_norm: 1.2976\n",
      "2021-05-14 20:22:39,125 - mmdet - INFO - Epoch [100][150/655]\tlr: 1.000e-04, eta: 0:04:31, time: 0.537, data_time: 0.007, memory: 1887, loss_cls: 0.1843, loss_bbox: 0.0688, loss_bbox_rf: 0.0875, loss: 0.3405, grad_norm: 1.1701\n",
      "2021-05-14 20:23:05,937 - mmdet - INFO - Epoch [100][200/655]\tlr: 1.000e-04, eta: 0:04:04, time: 0.536, data_time: 0.007, memory: 1887, loss_cls: 0.1858, loss_bbox: 0.0705, loss_bbox_rf: 0.0897, loss: 0.3460, grad_norm: 1.2311\n",
      "2021-05-14 20:23:32,834 - mmdet - INFO - Epoch [100][250/655]\tlr: 1.000e-04, eta: 0:03:37, time: 0.538, data_time: 0.007, memory: 1887, loss_cls: 0.1928, loss_bbox: 0.0720, loss_bbox_rf: 0.0916, loss: 0.3563, grad_norm: 1.1597\n",
      "2021-05-14 20:23:59,760 - mmdet - INFO - Epoch [100][300/655]\tlr: 1.000e-04, eta: 0:03:10, time: 0.539, data_time: 0.008, memory: 1887, loss_cls: 0.1843, loss_bbox: 0.0684, loss_bbox_rf: 0.0868, loss: 0.3395, grad_norm: 1.1939\n",
      "2021-05-14 20:24:26,759 - mmdet - INFO - Epoch [100][350/655]\tlr: 1.000e-04, eta: 0:02:43, time: 0.540, data_time: 0.008, memory: 1887, loss_cls: 0.1818, loss_bbox: 0.0724, loss_bbox_rf: 0.0919, loss: 0.3462, grad_norm: 1.2031\n",
      "2021-05-14 20:24:53,782 - mmdet - INFO - Epoch [100][400/655]\tlr: 1.000e-04, eta: 0:02:16, time: 0.540, data_time: 0.008, memory: 1887, loss_cls: 0.1890, loss_bbox: 0.0737, loss_bbox_rf: 0.0940, loss: 0.3567, grad_norm: 1.2004\n",
      "2021-05-14 20:25:20,710 - mmdet - INFO - Epoch [100][450/655]\tlr: 1.000e-04, eta: 0:01:50, time: 0.539, data_time: 0.008, memory: 1887, loss_cls: 0.1887, loss_bbox: 0.0685, loss_bbox_rf: 0.0865, loss: 0.3437, grad_norm: 1.2716\n",
      "2021-05-14 20:25:47,532 - mmdet - INFO - Epoch [100][500/655]\tlr: 1.000e-04, eta: 0:01:23, time: 0.536, data_time: 0.007, memory: 1887, loss_cls: 0.1963, loss_bbox: 0.0743, loss_bbox_rf: 0.0948, loss: 0.3654, grad_norm: 1.2357\n",
      "2021-05-14 20:26:14,428 - mmdet - INFO - Epoch [100][550/655]\tlr: 1.000e-04, eta: 0:00:56, time: 0.538, data_time: 0.008, memory: 1887, loss_cls: 0.1971, loss_bbox: 0.0765, loss_bbox_rf: 0.0982, loss: 0.3718, grad_norm: 1.1922\n",
      "2021-05-14 20:26:41,647 - mmdet - INFO - Epoch [100][600/655]\tlr: 1.000e-04, eta: 0:00:29, time: 0.544, data_time: 0.008, memory: 1887, loss_cls: 0.2041, loss_bbox: 0.0799, loss_bbox_rf: 0.1023, loss: 0.3864, grad_norm: 1.1907\n",
      "2021-05-14 20:27:08,960 - mmdet - INFO - Epoch [100][650/655]\tlr: 1.000e-04, eta: 0:00:02, time: 0.546, data_time: 0.007, memory: 1887, loss_cls: 0.1921, loss_bbox: 0.0753, loss_bbox_rf: 0.0961, loss: 0.3635, grad_norm: 1.1933\n",
      "2021-05-14 20:27:11,734 - mmdet - INFO - Saving checkpoint at 100 epochs\n"
     ]
    },
    {
     "name": "stdout",
     "output_type": "stream",
     "text": [
      "[>>>>>>>>>>>>>>>>>>>>>>>>>>>>>] 655/655, 18.3 task/s, elapsed: 36s, ETA:     0s"
     ]
    },
    {
     "name": "stderr",
     "output_type": "stream",
     "text": [
      "2021-05-14 20:27:49,339 - mmdet - INFO - Evaluating bbox...\n"
     ]
    },
    {
     "name": "stdout",
     "output_type": "stream",
     "text": [
      "Loading and preparing results...\n",
      "DONE (t=0.11s)\n",
      "creating index...\n",
      "index created!\n",
      "Running per image evaluation...\n",
      "Evaluate annotation type *bbox*\n",
      "DONE (t=4.61s).\n",
      "Accumulating evaluation results...\n"
     ]
    },
    {
     "name": "stderr",
     "output_type": "stream",
     "text": [
      "2021-05-14 20:27:54,981 - mmdet - INFO - Epoch(val) [100][655]\tbbox_mAP: 0.1900, bbox_mAP_50: 0.2770, bbox_mAP_75: 0.1960, bbox_mAP_s: 0.0250, bbox_mAP_m: 0.1530, bbox_mAP_l: 0.4240, bbox_mAP_copypaste: 0.190 0.277 0.196 0.025 0.153 0.424\n"
     ]
    },
    {
     "name": "stdout",
     "output_type": "stream",
     "text": [
      "DONE (t=0.84s).\n",
      "Average Precision  (AP) @[ IoU=0.50:0.95 | area=   all | maxDets=100 ] = 0.190\n",
      "Average Precision  (AP) @[ IoU=0.50      | area=   all | maxDets=1000 ] = 0.277\n",
      "Average Precision  (AP) @[ IoU=0.75      | area=   all | maxDets=1000 ] = 0.196\n",
      "Average Precision  (AP) @[ IoU=0.50:0.95 | area= small | maxDets=1000 ] = 0.025\n",
      "Average Precision  (AP) @[ IoU=0.50:0.95 | area=medium | maxDets=1000 ] = 0.153\n",
      "Average Precision  (AP) @[ IoU=0.50:0.95 | area= large | maxDets=1000 ] = 0.424\n",
      "Average Recall     (AR) @[ IoU=0.50:0.95 | area=   all | maxDets=100 ] = 0.315\n",
      "Average Recall     (AR) @[ IoU=0.50:0.95 | area=   all | maxDets=300 ] = 0.315\n",
      "Average Recall     (AR) @[ IoU=0.50:0.95 | area=   all | maxDets=1000 ] = 0.315\n",
      "Average Recall     (AR) @[ IoU=0.50:0.95 | area= small | maxDets=1000 ] = 0.078\n",
      "Average Recall     (AR) @[ IoU=0.50:0.95 | area=medium | maxDets=1000 ] = 0.267\n",
      "Average Recall     (AR) @[ IoU=0.50:0.95 | area= large | maxDets=1000 ] = 0.589\n"
     ]
    },
    {
     "data": {
      "text/html": [
       "<br/>Waiting for W&B process to finish, PID 6055<br/>Program ended successfully."
      ],
      "text/plain": [
       "<IPython.core.display.HTML object>"
      ]
     },
     "metadata": {},
     "output_type": "display_data"
    },
    {
     "data": {
      "application/vnd.jupyter.widget-view+json": {
       "model_id": "212702ba26cc40c385062f3ba364368b",
       "version_major": 2,
       "version_minor": 0
      },
      "text/plain": [
       "VBox(children=(Label(value=' 0.00MB of 0.00MB uploaded (0.00MB deduped)\\r'), FloatProgress(value=1.0, max=1.0)…"
      ]
     },
     "metadata": {},
     "output_type": "display_data"
    },
    {
     "data": {
      "text/html": [
       "Find user logs for this run at: <code>/opt/ml/code/mmdetection_trash/wandb/run-20210514_092016-23q1eam7/logs/debug.log</code>"
      ],
      "text/plain": [
       "<IPython.core.display.HTML object>"
      ]
     },
     "metadata": {},
     "output_type": "display_data"
    },
    {
     "data": {
      "text/html": [
       "Find internal logs for this run at: <code>/opt/ml/code/mmdetection_trash/wandb/run-20210514_092016-23q1eam7/logs/debug-internal.log</code>"
      ],
      "text/plain": [
       "<IPython.core.display.HTML object>"
      ]
     },
     "metadata": {},
     "output_type": "display_data"
    },
    {
     "data": {
      "text/html": [
       "<h3>Run summary:</h3><br/><style>\n",
       "    table.wandb td:nth-child(1) { padding: 0 10px; text-align: right }\n",
       "    </style><table class=\"wandb\">\n",
       "<tr><td>train/loss_cls</td><td>0.19205</td></tr><tr><td>train/loss_bbox</td><td>0.07529</td></tr><tr><td>train/loss_bbox_rf</td><td>0.09612</td></tr><tr><td>train/loss</td><td>0.36346</td></tr><tr><td>train/grad_norm</td><td>1.19327</td></tr><tr><td>learning_rate</td><td>0.0001</td></tr><tr><td>momentum</td><td>0.9</td></tr><tr><td>_runtime</td><td>40058</td></tr><tr><td>_timestamp</td><td>1621024074</td></tr><tr><td>_step</td><td>65501</td></tr><tr><td>val/bbox_mAP</td><td>0.19</td></tr><tr><td>val/bbox_mAP_50</td><td>0.277</td></tr><tr><td>val/bbox_mAP_75</td><td>0.196</td></tr><tr><td>val/bbox_mAP_s</td><td>0.025</td></tr><tr><td>val/bbox_mAP_m</td><td>0.153</td></tr><tr><td>val/bbox_mAP_l</td><td>0.424</td></tr></table>"
      ],
      "text/plain": [
       "<IPython.core.display.HTML object>"
      ]
     },
     "metadata": {},
     "output_type": "display_data"
    },
    {
     "data": {
      "text/html": [
       "<h3>Run history:</h3><br/><style>\n",
       "    table.wandb td:nth-child(1) { padding: 0 10px; text-align: right }\n",
       "    </style><table class=\"wandb\">\n",
       "<tr><td>train/loss_cls</td><td>█▇█▇▇▇▇▆▆▆▆▅▅▄▅▄▄▄▃▃▃▃▃▅▂▂▂▂▂▂▁▁▁▁▁▁▁▁▁▁</td></tr><tr><td>train/loss_bbox</td><td>█▆▅▅▄▄▄▄▄▄▄▃▃▃▃▃▃▃▃▃▃▃▂▃▂▂▂▁▁▁▁▁▁▁▁▁▁▁▁▁</td></tr><tr><td>train/loss_bbox_rf</td><td>█▆▅▅▄▄▄▄▄▃▄▃▃▃▃▃▃▃▂▃▂▂▂▃▂▂▂▁▁▁▁▁▁▁▁▁▁▁▁▁</td></tr><tr><td>train/loss</td><td>█▇▆▆▆▅▅▅▅▄▅▄▄▄▄▄▃▄▃▃▃▃▂▄▂▂▂▂▁▁▁▁▁▁▁▁▁▁▁▁</td></tr><tr><td>train/grad_norm</td><td>▃▃▄▃▄▄▅▅▅▅▅▅▅▅▅▅▅▆▄▄▄▃▃█▂▂▂▂▂▂▁▁▁▁▁▁▁▁▁▁</td></tr><tr><td>learning_rate</td><td>████████████████████████▂▂▂▂▂▂▂▂▂▂▂▂▁▁▁▁</td></tr><tr><td>momentum</td><td>▁▁▁▁▁▁▁▁▁▁▁▁▁▁▁▁▁▁▁▁▁▁▁▁▁▁▁▁▁▁▁▁▁▁▁▁▁▁▁▁</td></tr><tr><td>_runtime</td><td>▁▁▁▁▂▂▂▂▂▃▃▃▃▃▃▄▄▄▄▄▅▅▅▅▅▅▆▆▆▆▆▇▇▇▇▇▇███</td></tr><tr><td>_timestamp</td><td>▁▁▁▁▂▂▂▂▂▃▃▃▃▃▃▄▄▄▄▄▅▅▅▅▅▅▆▆▆▆▆▇▇▇▇▇▇███</td></tr><tr><td>_step</td><td>▁▁▁▁▂▂▂▂▂▃▃▃▃▃▃▄▄▄▄▄▅▅▅▅▅▅▆▆▆▆▆▇▇▇▇▇▇███</td></tr><tr><td>val/bbox_mAP</td><td>▁▂▄▄▅▆▆▆▆▆▆▇▇▇▇▆▇▇▇▇▆██▆████████████████</td></tr><tr><td>val/bbox_mAP_50</td><td>▁▃▄▄▆▆▆▆▇▇▇▇▇▇▇▆▇█▇▇▇██▆████████████████</td></tr><tr><td>val/bbox_mAP_75</td><td>▁▃▄▄▅▆▆▆▆▆▆▇▇▇▆▆▇▇▇▇▆██▆████████████████</td></tr><tr><td>val/bbox_mAP_s</td><td>▁▄▅▅▇▇█▇▇▇▇▆▆▅▆▆▆▅▅▅▆▆▆▅▅▆▆▆▆▅▅▅▅▅▆▅▅▅▅▅</td></tr><tr><td>val/bbox_mAP_m</td><td>▁▂▅▄▆▇▇▆▇▆▆▇▇▆▆▆▇▇▇▆▆██▆██▇██▇▇▇▇▇▇▇▇▇▇▇</td></tr><tr><td>val/bbox_mAP_l</td><td>▁▂▃▃▅▅▅▅▇▆▆▇▇▇▆▅▆▇▇▇▆▇█▇████████████████</td></tr></table><br/>"
      ],
      "text/plain": [
       "<IPython.core.display.HTML object>"
      ]
     },
     "metadata": {},
     "output_type": "display_data"
    },
    {
     "data": {
      "text/html": [
       "Synced 5 W&B file(s), 0 media file(s), 0 artifact file(s) and 0 other file(s)"
      ],
      "text/plain": [
       "<IPython.core.display.HTML object>"
      ]
     },
     "metadata": {},
     "output_type": "display_data"
    },
    {
     "data": {
      "text/html": [
       "\n",
       "                    <br/>Synced <strong style=\"color:#cdcd00\">iconic-sunset-4</strong>: <a href=\"https://wandb.ai/k1smet14/mmdetection_trash/runs/23q1eam7\" target=\"_blank\">https://wandb.ai/k1smet14/mmdetection_trash/runs/23q1eam7</a><br/>\n",
       "                "
      ],
      "text/plain": [
       "<IPython.core.display.HTML object>"
      ]
     },
     "metadata": {},
     "output_type": "display_data"
    }
   ],
   "source": [
    "train_detector(model, datasets[0], cfg, distributed=False, validate=True)"
   ]
  },
  {
   "cell_type": "code",
   "execution_count": 2,
   "metadata": {},
   "outputs": [],
   "source": [
    "import mmcv\n",
    "from mmcv import Config\n",
    "from mmdet.datasets import (build_dataloader, build_dataset,\n",
    "                            replace_ImageToTensor)\n",
    "from mmdet.models import build_detector\n",
    "from mmdet.apis import single_gpu_test\n",
    "from mmcv.runner import load_checkpoint\n",
    "import os\n",
    "from mmcv.parallel import MMDataParallel\n",
    "import pandas as pd\n",
    "from pandas import DataFrame\n",
    "from pycocotools.coco import COCO\n",
    "import numpy as np"
   ]
  },
  {
   "cell_type": "code",
   "execution_count": 6,
   "metadata": {},
   "outputs": [],
   "source": [
    "classes = (\"UNKNOWN\", \"General trash\", \"Paper\", \"Paper pack\", \"Metal\", \"Glass\", \n",
    "           \"Plastic\", \"Styrofoam\", \"Plastic bag\", \"Battery\", \"Clothing\")\n",
    "# config file 들고오기\n",
    "cfg = Config.fromfile('./configs/vfnet/vfnet_x101_64x4d_fpn_mstrain_2x_coco.py')\n",
    "\n",
    "PREFIX = '../../input/data/'\n",
    "\n",
    "epoch = 24\n",
    "\n",
    "# dataset 바꾸기\n",
    "cfg.data.train.classes = classes\n",
    "cfg.data.train.img_prefix = PREFIX\n",
    "cfg.data.train.ann_file = PREFIX + 'train.json'\n",
    "cfg.data.train.pipeline[2]['img_scale'] = (512, 512)\n",
    "\n",
    "cfg.data.val.classes = classes\n",
    "cfg.data.val.img_prefix = PREFIX\n",
    "cfg.data.val.ann_file = PREFIX + 'val.json'\n",
    "cfg.data.val.pipeline[1]['img_scale'] = (512, 512)\n",
    "\n",
    "cfg.data.test.classes = classes\n",
    "cfg.data.test.img_prefix = PREFIX\n",
    "cfg.data.test.ann_file = PREFIX + 'test.json'\n",
    "cfg.data.test.pipeline[1]['img_scale'] = (512, 512)\n",
    "\n",
    "cfg.data.samples_per_gpu = 4\n",
    "\n",
    "cfg.seed=90\n",
    "cfg.gpu_ids = [0]\n",
    "cfg.work_dir = './work_dirs/vfnet_x101_64x4d_fpn_mstrain_2x_coco'\n",
    "\n",
    "cfg.model.bbox_head.num_classes = 11\n",
    "\n",
    "cfg.optimizer_config.grad_clip = dict(max_norm=35, norm_type=2)\n",
    "cfg.model.train_cfg = None\n",
    "\n",
    "# checkpoint path\n",
    "checkpoint_path = os.path.join(cfg.work_dir, f'best_bbox_mAP_50.pth')"
   ]
  },
  {
   "cell_type": "code",
   "execution_count": 7,
   "metadata": {},
   "outputs": [
    {
     "name": "stdout",
     "output_type": "stream",
     "text": [
      "loading annotations into memory...\n",
      "Done (t=0.01s)\n",
      "creating index...\n",
      "index created!\n"
     ]
    }
   ],
   "source": [
    "dataset = build_dataset(cfg.data.test)\n",
    "data_loader = build_dataloader(\n",
    "        dataset,\n",
    "        samples_per_gpu=1,\n",
    "        workers_per_gpu=cfg.data.workers_per_gpu,\n",
    "        dist=False,\n",
    "        shuffle=False)"
   ]
  },
  {
   "cell_type": "code",
   "execution_count": 8,
   "metadata": {},
   "outputs": [
    {
     "name": "stderr",
     "output_type": "stream",
     "text": [
      "2021-05-13 06:13:54,379 - mmdet - INFO - load model from: open-mmlab://resnext101_64x4d\n",
      "2021-05-13 06:13:54,381 - mmdet - INFO - Use load_from_openmmlab loader\n"
     ]
    },
    {
     "name": "stdout",
     "output_type": "stream",
     "text": [
      "Use load_from_local loader\n"
     ]
    },
    {
     "ename": "OSError",
     "evalue": "./work_dirs/vfnet_x101_64x4d_fpn_mstrain_2x_coco/best_bbox_mAP_50.pth is not a checkpoint file",
     "output_type": "error",
     "traceback": [
      "\u001b[0;31m---------------------------------------------------------------------------\u001b[0m",
      "\u001b[0;31mOSError\u001b[0m                                   Traceback (most recent call last)",
      "\u001b[0;32m<ipython-input-8-4c366b0b63bd>\u001b[0m in \u001b[0;36m<module>\u001b[0;34m\u001b[0m\n\u001b[1;32m      1\u001b[0m \u001b[0mmodel\u001b[0m \u001b[0;34m=\u001b[0m \u001b[0mbuild_detector\u001b[0m\u001b[0;34m(\u001b[0m\u001b[0mcfg\u001b[0m\u001b[0;34m.\u001b[0m\u001b[0mmodel\u001b[0m\u001b[0;34m,\u001b[0m \u001b[0mtest_cfg\u001b[0m\u001b[0;34m=\u001b[0m\u001b[0mcfg\u001b[0m\u001b[0;34m.\u001b[0m\u001b[0mget\u001b[0m\u001b[0;34m(\u001b[0m\u001b[0;34m'test_cfg'\u001b[0m\u001b[0;34m)\u001b[0m\u001b[0;34m)\u001b[0m\u001b[0;34m\u001b[0m\u001b[0;34m\u001b[0m\u001b[0m\n\u001b[0;32m----> 2\u001b[0;31m \u001b[0mcheckpoint\u001b[0m \u001b[0;34m=\u001b[0m \u001b[0mload_checkpoint\u001b[0m\u001b[0;34m(\u001b[0m\u001b[0mmodel\u001b[0m\u001b[0;34m,\u001b[0m \u001b[0mcheckpoint_path\u001b[0m\u001b[0;34m,\u001b[0m \u001b[0mmap_location\u001b[0m\u001b[0;34m=\u001b[0m\u001b[0;34m'cpu'\u001b[0m\u001b[0;34m)\u001b[0m\u001b[0;34m\u001b[0m\u001b[0;34m\u001b[0m\u001b[0m\n\u001b[0m\u001b[1;32m      3\u001b[0m \u001b[0;34m\u001b[0m\u001b[0m\n\u001b[1;32m      4\u001b[0m \u001b[0mmodel\u001b[0m\u001b[0;34m.\u001b[0m\u001b[0mCLASSES\u001b[0m \u001b[0;34m=\u001b[0m \u001b[0mdataset\u001b[0m\u001b[0;34m.\u001b[0m\u001b[0mCLASSES\u001b[0m\u001b[0;34m\u001b[0m\u001b[0;34m\u001b[0m\u001b[0m\n\u001b[1;32m      5\u001b[0m \u001b[0mmodel\u001b[0m \u001b[0;34m=\u001b[0m \u001b[0mMMDataParallel\u001b[0m\u001b[0;34m(\u001b[0m\u001b[0mmodel\u001b[0m\u001b[0;34m.\u001b[0m\u001b[0mcuda\u001b[0m\u001b[0;34m(\u001b[0m\u001b[0;34m)\u001b[0m\u001b[0;34m,\u001b[0m \u001b[0mdevice_ids\u001b[0m\u001b[0;34m=\u001b[0m\u001b[0;34m[\u001b[0m\u001b[0;36m0\u001b[0m\u001b[0;34m]\u001b[0m\u001b[0;34m)\u001b[0m\u001b[0;34m\u001b[0m\u001b[0;34m\u001b[0m\u001b[0m\n",
      "\u001b[0;32m/opt/conda/lib/python3.7/site-packages/mmcv/runner/checkpoint.py\u001b[0m in \u001b[0;36mload_checkpoint\u001b[0;34m(model, filename, map_location, strict, logger, revise_keys)\u001b[0m\n\u001b[1;32m    527\u001b[0m         \u001b[0mdict\u001b[0m \u001b[0;32mor\u001b[0m \u001b[0mOrderedDict\u001b[0m\u001b[0;34m:\u001b[0m \u001b[0mThe\u001b[0m \u001b[0mloaded\u001b[0m \u001b[0mcheckpoint\u001b[0m\u001b[0;34m.\u001b[0m\u001b[0;34m\u001b[0m\u001b[0;34m\u001b[0m\u001b[0m\n\u001b[1;32m    528\u001b[0m     \"\"\"\n\u001b[0;32m--> 529\u001b[0;31m     \u001b[0mcheckpoint\u001b[0m \u001b[0;34m=\u001b[0m \u001b[0m_load_checkpoint\u001b[0m\u001b[0;34m(\u001b[0m\u001b[0mfilename\u001b[0m\u001b[0;34m,\u001b[0m \u001b[0mmap_location\u001b[0m\u001b[0;34m,\u001b[0m \u001b[0mlogger\u001b[0m\u001b[0;34m)\u001b[0m\u001b[0;34m\u001b[0m\u001b[0;34m\u001b[0m\u001b[0m\n\u001b[0m\u001b[1;32m    530\u001b[0m     \u001b[0;31m# OrderedDict is a subclass of dict\u001b[0m\u001b[0;34m\u001b[0m\u001b[0;34m\u001b[0m\u001b[0;34m\u001b[0m\u001b[0m\n\u001b[1;32m    531\u001b[0m     \u001b[0;32mif\u001b[0m \u001b[0;32mnot\u001b[0m \u001b[0misinstance\u001b[0m\u001b[0;34m(\u001b[0m\u001b[0mcheckpoint\u001b[0m\u001b[0;34m,\u001b[0m \u001b[0mdict\u001b[0m\u001b[0;34m)\u001b[0m\u001b[0;34m:\u001b[0m\u001b[0;34m\u001b[0m\u001b[0;34m\u001b[0m\u001b[0m\n",
      "\u001b[0;32m/opt/conda/lib/python3.7/site-packages/mmcv/runner/checkpoint.py\u001b[0m in \u001b[0;36m_load_checkpoint\u001b[0;34m(filename, map_location, logger)\u001b[0m\n\u001b[1;32m    465\u001b[0m            \u001b[0minformation\u001b[0m\u001b[0;34m,\u001b[0m \u001b[0mwhich\u001b[0m \u001b[0mdepends\u001b[0m \u001b[0mon\u001b[0m \u001b[0mthe\u001b[0m \u001b[0mcheckpoint\u001b[0m\u001b[0;34m.\u001b[0m\u001b[0;34m\u001b[0m\u001b[0;34m\u001b[0m\u001b[0m\n\u001b[1;32m    466\u001b[0m     \"\"\"\n\u001b[0;32m--> 467\u001b[0;31m     \u001b[0;32mreturn\u001b[0m \u001b[0mCheckpointLoader\u001b[0m\u001b[0;34m.\u001b[0m\u001b[0mload_checkpoint\u001b[0m\u001b[0;34m(\u001b[0m\u001b[0mfilename\u001b[0m\u001b[0;34m,\u001b[0m \u001b[0mmap_location\u001b[0m\u001b[0;34m,\u001b[0m \u001b[0mlogger\u001b[0m\u001b[0;34m)\u001b[0m\u001b[0;34m\u001b[0m\u001b[0;34m\u001b[0m\u001b[0m\n\u001b[0m\u001b[1;32m    468\u001b[0m \u001b[0;34m\u001b[0m\u001b[0m\n\u001b[1;32m    469\u001b[0m \u001b[0;34m\u001b[0m\u001b[0m\n",
      "\u001b[0;32m/opt/conda/lib/python3.7/site-packages/mmcv/runner/checkpoint.py\u001b[0m in \u001b[0;36mload_checkpoint\u001b[0;34m(cls, filename, map_location, logger)\u001b[0m\n\u001b[1;32m    242\u001b[0m         \u001b[0mclass_name\u001b[0m \u001b[0;34m=\u001b[0m \u001b[0mcheckpoint_loader\u001b[0m\u001b[0;34m.\u001b[0m\u001b[0m__name__\u001b[0m\u001b[0;34m\u001b[0m\u001b[0;34m\u001b[0m\u001b[0m\n\u001b[1;32m    243\u001b[0m         \u001b[0mmmcv\u001b[0m\u001b[0;34m.\u001b[0m\u001b[0mprint_log\u001b[0m\u001b[0;34m(\u001b[0m\u001b[0;34mf'Use {class_name} loader'\u001b[0m\u001b[0;34m,\u001b[0m \u001b[0mlogger\u001b[0m\u001b[0;34m)\u001b[0m\u001b[0;34m\u001b[0m\u001b[0;34m\u001b[0m\u001b[0m\n\u001b[0;32m--> 244\u001b[0;31m         \u001b[0;32mreturn\u001b[0m \u001b[0mcheckpoint_loader\u001b[0m\u001b[0;34m(\u001b[0m\u001b[0mfilename\u001b[0m\u001b[0;34m,\u001b[0m \u001b[0mmap_location\u001b[0m\u001b[0;34m)\u001b[0m\u001b[0;34m\u001b[0m\u001b[0;34m\u001b[0m\u001b[0m\n\u001b[0m\u001b[1;32m    245\u001b[0m \u001b[0;34m\u001b[0m\u001b[0m\n\u001b[1;32m    246\u001b[0m \u001b[0;34m\u001b[0m\u001b[0m\n",
      "\u001b[0;32m/opt/conda/lib/python3.7/site-packages/mmcv/runner/checkpoint.py\u001b[0m in \u001b[0;36mload_from_local\u001b[0;34m(filename, map_location)\u001b[0m\n\u001b[1;32m    258\u001b[0m \u001b[0;34m\u001b[0m\u001b[0m\n\u001b[1;32m    259\u001b[0m     \u001b[0;32mif\u001b[0m \u001b[0;32mnot\u001b[0m \u001b[0mosp\u001b[0m\u001b[0;34m.\u001b[0m\u001b[0misfile\u001b[0m\u001b[0;34m(\u001b[0m\u001b[0mfilename\u001b[0m\u001b[0;34m)\u001b[0m\u001b[0;34m:\u001b[0m\u001b[0;34m\u001b[0m\u001b[0;34m\u001b[0m\u001b[0m\n\u001b[0;32m--> 260\u001b[0;31m         \u001b[0;32mraise\u001b[0m \u001b[0mIOError\u001b[0m\u001b[0;34m(\u001b[0m\u001b[0;34mf'{filename} is not a checkpoint file'\u001b[0m\u001b[0;34m)\u001b[0m\u001b[0;34m\u001b[0m\u001b[0;34m\u001b[0m\u001b[0m\n\u001b[0m\u001b[1;32m    261\u001b[0m     \u001b[0mcheckpoint\u001b[0m \u001b[0;34m=\u001b[0m \u001b[0mtorch\u001b[0m\u001b[0;34m.\u001b[0m\u001b[0mload\u001b[0m\u001b[0;34m(\u001b[0m\u001b[0mfilename\u001b[0m\u001b[0;34m,\u001b[0m \u001b[0mmap_location\u001b[0m\u001b[0;34m=\u001b[0m\u001b[0mmap_location\u001b[0m\u001b[0;34m)\u001b[0m\u001b[0;34m\u001b[0m\u001b[0;34m\u001b[0m\u001b[0m\n\u001b[1;32m    262\u001b[0m     \u001b[0;32mreturn\u001b[0m \u001b[0mcheckpoint\u001b[0m\u001b[0;34m\u001b[0m\u001b[0;34m\u001b[0m\u001b[0m\n",
      "\u001b[0;31mOSError\u001b[0m: ./work_dirs/vfnet_x101_64x4d_fpn_mstrain_2x_coco/best_bbox_mAP_50.pth is not a checkpoint file"
     ]
    }
   ],
   "source": [
    "model = build_detector(cfg.model, test_cfg=cfg.get('test_cfg'))\n",
    "checkpoint = load_checkpoint(model, checkpoint_path, map_location='cpu')\n",
    "\n",
    "model.CLASSES = dataset.CLASSES\n",
    "model = MMDataParallel(model.cuda(), device_ids=[0])"
   ]
  },
  {
   "cell_type": "code",
   "execution_count": 16,
   "metadata": {},
   "outputs": [
    {
     "name": "stdout",
     "output_type": "stream",
     "text": [
      "[>>>>>>>>>>>>>>>>>>>>>>>>>>>>>>] 837/837, 8.5 task/s, elapsed: 98s, ETA:     0s"
     ]
    }
   ],
   "source": [
    "output = single_gpu_test(model, data_loader, show_score_thr=0.05)"
   ]
  },
  {
   "cell_type": "code",
   "execution_count": 17,
   "metadata": {},
   "outputs": [
    {
     "name": "stdout",
     "output_type": "stream",
     "text": [
      "loading annotations into memory...\n",
      "Done (t=0.01s)\n",
      "creating index...\n",
      "index created!\n"
     ]
    },
    {
     "data": {
      "text/html": [
       "<div>\n",
       "<style scoped>\n",
       "    .dataframe tbody tr th:only-of-type {\n",
       "        vertical-align: middle;\n",
       "    }\n",
       "\n",
       "    .dataframe tbody tr th {\n",
       "        vertical-align: top;\n",
       "    }\n",
       "\n",
       "    .dataframe thead th {\n",
       "        text-align: right;\n",
       "    }\n",
       "</style>\n",
       "<table border=\"1\" class=\"dataframe\">\n",
       "  <thead>\n",
       "    <tr style=\"text-align: right;\">\n",
       "      <th></th>\n",
       "      <th>PredictionString</th>\n",
       "      <th>image_id</th>\n",
       "    </tr>\n",
       "  </thead>\n",
       "  <tbody>\n",
       "    <tr>\n",
       "      <th>0</th>\n",
       "      <td>0 0.06772634 228.28596 149.0423 249.09592 236....</td>\n",
       "      <td>batch_01_vt/0021.jpg</td>\n",
       "    </tr>\n",
       "    <tr>\n",
       "      <th>1</th>\n",
       "      <td>0 0.1134868 284.8081 151.96843 486.8694 434.62...</td>\n",
       "      <td>batch_01_vt/0028.jpg</td>\n",
       "    </tr>\n",
       "    <tr>\n",
       "      <th>2</th>\n",
       "      <td>0 0.11189955 68.59096 171.01566 372.83655 379....</td>\n",
       "      <td>batch_01_vt/0031.jpg</td>\n",
       "    </tr>\n",
       "    <tr>\n",
       "      <th>3</th>\n",
       "      <td>0 0.057285193 29.397675 124.40297 385.30334 37...</td>\n",
       "      <td>batch_01_vt/0032.jpg</td>\n",
       "    </tr>\n",
       "    <tr>\n",
       "      <th>4</th>\n",
       "      <td>0 0.17107947 237.8103 266.21378 383.67017 377....</td>\n",
       "      <td>batch_01_vt/0070.jpg</td>\n",
       "    </tr>\n",
       "  </tbody>\n",
       "</table>\n",
       "</div>"
      ],
      "text/plain": [
       "                                    PredictionString              image_id\n",
       "0  0 0.06772634 228.28596 149.0423 249.09592 236....  batch_01_vt/0021.jpg\n",
       "1  0 0.1134868 284.8081 151.96843 486.8694 434.62...  batch_01_vt/0028.jpg\n",
       "2  0 0.11189955 68.59096 171.01566 372.83655 379....  batch_01_vt/0031.jpg\n",
       "3  0 0.057285193 29.397675 124.40297 385.30334 37...  batch_01_vt/0032.jpg\n",
       "4  0 0.17107947 237.8103 266.21378 383.67017 377....  batch_01_vt/0070.jpg"
      ]
     },
     "execution_count": 17,
     "metadata": {},
     "output_type": "execute_result"
    }
   ],
   "source": [
    "prediction_strings = []\n",
    "file_names = []\n",
    "coco = COCO(cfg.data.test.ann_file)\n",
    "imag_ids = coco.getImgIds()\n",
    "\n",
    "class_num = 11\n",
    "for i, out in enumerate(output):\n",
    "    prediction_string = ''\n",
    "    image_info = coco.loadImgs(coco.getImgIds(imgIds=i))[0]\n",
    "    for j in range(class_num):\n",
    "        for o in out[j]:\n",
    "            prediction_string += str(j) + ' ' + str(o[4]) + ' ' + str(o[0]) + ' ' + str(o[1]) + ' ' + str(\n",
    "                o[2]) + ' ' + str(o[3]) + ' '\n",
    "        \n",
    "    prediction_strings.append(prediction_string)\n",
    "    file_names.append(image_info['file_name'])\n",
    "\n",
    "\n",
    "submission = pd.DataFrame()\n",
    "submission['PredictionString'] = prediction_strings\n",
    "submission['image_id'] = file_names\n",
    "submission.to_csv(os.path.join(cfg.work_dir, f'submission_{epoch}.csv'), index=None)\n",
    "submission.head()"
   ]
  },
  {
   "cell_type": "code",
   "execution_count": null,
   "metadata": {},
   "outputs": [],
   "source": []
  }
 ],
 "metadata": {
  "kernelspec": {
   "display_name": "Python 3",
   "language": "python",
   "name": "python3"
  },
  "language_info": {
   "codemirror_mode": {
    "name": "ipython",
    "version": 3
   },
   "file_extension": ".py",
   "mimetype": "text/x-python",
   "name": "python",
   "nbconvert_exporter": "python",
   "pygments_lexer": "ipython3",
   "version": "3.7.7"
  },
  "pycharm": {
   "stem_cell": {
    "cell_type": "raw",
    "metadata": {
     "collapsed": false
    },
    "source": []
   }
  }
 },
 "nbformat": 4,
 "nbformat_minor": 4
}
