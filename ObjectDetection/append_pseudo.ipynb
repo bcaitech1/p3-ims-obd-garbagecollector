{
 "cells": [
  {
   "cell_type": "code",
   "execution_count": 14,
   "id": "b88bab50-1d26-47a2-8f94-43b3957ffc97",
   "metadata": {},
   "outputs": [],
   "source": [
    "import json\n",
    "import numpy as np\n",
    "import pandas as pd"
   ]
  },
  {
   "cell_type": "code",
   "execution_count": 111,
   "id": "9a5ab7b7-6bff-44c5-b8d4-24306e74b3c2",
   "metadata": {},
   "outputs": [],
   "source": [
    "def append_pseudo_labeling(new_json, submission_path, score_threshold):\n",
    "    submission = np.array(pd.read_csv(submission_path))\n",
    "    \n",
    "    for data in submission:\n",
    "        if isinstance(data[0], str):\n",
    "\n",
    "            img_id = len(new_json['images'])\n",
    "\n",
    "            exist_box = False\n",
    "            data[0] = data[0].split()\n",
    "            for i in range(0, len(data[0]), 6):\n",
    "                if float(data[0][i+1]) > score_threshold:\n",
    "                    exist_box = True\n",
    "                    anno_id = len(new_json['annotations'])\n",
    "                    new_json['annotations'].append({'id': anno_id,\n",
    "                                                    'image_id': img_id,\n",
    "                                                    'category_id': int(data[0][i]),\n",
    "                                                    'segmentation': 0,\n",
    "                                                    'area': 0,\n",
    "                                                    'bbox': [float(data[0][i+2]),\n",
    "                                                             float(data[0][i+3]),\n",
    "                                                             float(data[0][i+4])-float(data[0][i+2]),\n",
    "                                                             float(data[0][i+5])-float(data[0][i+3])\n",
    "                                                            ],\n",
    "                                                    'iscrowd': 0\n",
    "                                                   })\n",
    "\n",
    "            if exist_box:\n",
    "                new_json['images'].append({'license': 0,\n",
    "                                           'url': None,\n",
    "                                           'file_name': data[1],\n",
    "                                           'height': 512,\n",
    "                                           'width': 512,\n",
    "                                           'date_captured': None,\n",
    "                                           'id': img_id\n",
    "                                           })\n",
    "\n",
    "    return new_json"
   ]
  },
  {
   "cell_type": "code",
   "execution_count": 112,
   "id": "bba4df4a-604c-411b-8826-c92414e76600",
   "metadata": {},
   "outputs": [],
   "source": [
    "# 1. make new json\n",
    "score_threshold = 0.9\n",
    "submission_path = '/opt/ml/code/mmdetection_trash/Mybaseline/submissions/sm20_423.csv'\n",
    "\n",
    "test_json = {}\n",
    "with open(f'/opt/ml/input/data/test.json', 'r') as f:\n",
    "    test_json.update(json.load(f))\n",
    "\n",
    "new_json = {'info':[], 'licenses':[], 'images':[], 'categories':[], 'annotations':[]}\n",
    "new_json['info'] = test_json['info']\n",
    "new_json['licenses'] = test_json['licenses']\n",
    "new_json['categories'] = test_json['categories']\n",
    "\n",
    "new_json = append_pseudo_labeling(new_json, submission_path, score_threshold)\n",
    "\n",
    "save_path = '/opt/ml/input/data/pseudo.json'\n",
    "with open(save_path, 'w') as f:\n",
    "    json.dump(new_json, f)"
   ]
  },
  {
   "cell_type": "code",
   "execution_count": 62,
   "id": "bcb09687-c863-481d-b1e9-ab731552ba6c",
   "metadata": {},
   "outputs": [
    {
     "ename": "KeyboardInterrupt",
     "evalue": "",
     "output_type": "error",
     "traceback": [
      "\u001b[0;31m---------------------------------------------------------------------------\u001b[0m",
      "\u001b[0;31mKeyboardInterrupt\u001b[0m                         Traceback (most recent call last)",
      "\u001b[0;32m<ipython-input-62-3479deccef82>\u001b[0m in \u001b[0;36m<module>\u001b[0;34m\u001b[0m\n\u001b[1;32m     12\u001b[0m \u001b[0msave_path\u001b[0m \u001b[0;34m=\u001b[0m \u001b[0;34m'/opt/ml/input/data/pseudo.json'\u001b[0m\u001b[0;34m\u001b[0m\u001b[0;34m\u001b[0m\u001b[0m\n\u001b[1;32m     13\u001b[0m \u001b[0;32mwith\u001b[0m \u001b[0mopen\u001b[0m\u001b[0;34m(\u001b[0m\u001b[0msave_path\u001b[0m\u001b[0;34m,\u001b[0m \u001b[0;34m'w'\u001b[0m\u001b[0;34m)\u001b[0m \u001b[0;32mas\u001b[0m \u001b[0mf\u001b[0m\u001b[0;34m:\u001b[0m\u001b[0;34m\u001b[0m\u001b[0;34m\u001b[0m\u001b[0m\n\u001b[0;32m---> 14\u001b[0;31m     \u001b[0mjson\u001b[0m\u001b[0;34m.\u001b[0m\u001b[0mdump\u001b[0m\u001b[0;34m(\u001b[0m\u001b[0mnew_json\u001b[0m\u001b[0;34m,\u001b[0m \u001b[0mf\u001b[0m\u001b[0;34m)\u001b[0m\u001b[0;34m\u001b[0m\u001b[0;34m\u001b[0m\u001b[0m\n\u001b[0m",
      "\u001b[0;32m/opt/conda/lib/python3.7/json/__init__.py\u001b[0m in \u001b[0;36mdump\u001b[0;34m(obj, fp, skipkeys, ensure_ascii, check_circular, allow_nan, cls, indent, separators, default, sort_keys, **kw)\u001b[0m\n\u001b[1;32m    178\u001b[0m     \u001b[0;31m# a debuggability cost\u001b[0m\u001b[0;34m\u001b[0m\u001b[0;34m\u001b[0m\u001b[0;34m\u001b[0m\u001b[0m\n\u001b[1;32m    179\u001b[0m     \u001b[0;32mfor\u001b[0m \u001b[0mchunk\u001b[0m \u001b[0;32min\u001b[0m \u001b[0miterable\u001b[0m\u001b[0;34m:\u001b[0m\u001b[0;34m\u001b[0m\u001b[0;34m\u001b[0m\u001b[0m\n\u001b[0;32m--> 180\u001b[0;31m         \u001b[0mfp\u001b[0m\u001b[0;34m.\u001b[0m\u001b[0mwrite\u001b[0m\u001b[0;34m(\u001b[0m\u001b[0mchunk\u001b[0m\u001b[0;34m)\u001b[0m\u001b[0;34m\u001b[0m\u001b[0;34m\u001b[0m\u001b[0m\n\u001b[0m\u001b[1;32m    181\u001b[0m \u001b[0;34m\u001b[0m\u001b[0m\n\u001b[1;32m    182\u001b[0m \u001b[0;34m\u001b[0m\u001b[0m\n",
      "\u001b[0;31mKeyboardInterrupt\u001b[0m: "
     ]
    }
   ],
   "source": [
    "# 2. append to train data\n",
    "score_threshold = 0.5\n",
    "submission_path = '/opt/ml/code/mmdetection_trash/Mybaseline/submissions/faster_rcnn_resnet101_fpn0.1.csv'\n",
    "\n",
    "new_json = {}\n",
    "with open(f'/opt/ml/input/data/train.json', 'r') as f:\n",
    "    new_json.update(json.load(f))\n",
    "\n",
    "new_json = append_pseudo_labeling(new_json, submission_path, score_threshold)\n",
    "PL_json = {'root': new_json}\n",
    "\n",
    "save_path = '/opt/ml/input/data/pseudo.json'\n",
    "with open(save_path, 'w') as f:\n",
    "    json.dump(new_json, f)"
   ]
  }
 ],
 "metadata": {
  "kernelspec": {
   "display_name": "Python 3",
   "language": "python",
   "name": "python3"
  },
  "language_info": {
   "codemirror_mode": {
    "name": "ipython",
    "version": 3
   },
   "file_extension": ".py",
   "mimetype": "text/x-python",
   "name": "python",
   "nbconvert_exporter": "python",
   "pygments_lexer": "ipython3",
   "version": "3.7.7"
  }
 },
 "nbformat": 4,
 "nbformat_minor": 5
}
