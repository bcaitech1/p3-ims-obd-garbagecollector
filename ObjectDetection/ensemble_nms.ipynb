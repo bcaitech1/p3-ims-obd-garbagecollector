{
 "cells": [
  {
   "cell_type": "code",
   "execution_count": 13,
   "id": "1ccb94ff-18fc-4e36-8af6-d93b47fda99d",
   "metadata": {},
   "outputs": [],
   "source": [
    "import pandas as pd\n",
    "from ensemble_boxes import *\n",
    "import numpy as np\n",
    "from pycocotools.coco import COCO\n",
    "from tqdm import tqdm\n",
    "import warnings"
   ]
  },
  {
   "cell_type": "code",
   "execution_count": 19,
   "id": "3bfe3d8c-2a6f-421c-a6ee-f77c7e1c2c81",
   "metadata": {},
   "outputs": [],
   "source": [
    "dir_path = '/opt/ml/code/mmdetection_trash/Mybaseline/ensemble/final'\n",
    "\n",
    "submission_files = ['(config11)kfold_ensemble_512_wbf_ths0.0.csv',\n",
    "                    'sabl_faster_resnest50_pafpn_kfold.csv',\n",
    "                    'sm25_sm20+testMS[384,512,1024].csv',\n",
    "                    'swin_b_tta_36.csv']\n",
    "\n",
    "weights = [5.2**3,\n",
    "          5.232**3,\n",
    "          4.943**3,\n",
    "          4.946**3]\n",
    "\n",
    "#                     ['(config11)fold0_test_512.csv',\n",
    "#                     '(config11)fold0_flip_512.csv',\n",
    "#                     '(config11)fold0_rotate_512.csv',\n",
    "#                     '(config11)fold0_rotateR_512.csv'] + \\\n",
    "#                     ['(config11)fold1_test_512.csv',\n",
    "#                     '(config11)fold1_flip_512.csv',\n",
    "#                     '(config11)fold1_rotate_512.csv',\n",
    "#                     '(config11)fold1_rotateR_512.csv'] + \\\n",
    "#                     ['(config11)fold2_test_512.csv',\n",
    "#                     '(config11)fold2_flip_512.csv',\n",
    "#                     '(config11)fold2_rotate_512.csv',\n",
    "#                     '(config11)fold2_rotateR_512.csv'] + \\\n",
    "#                     ['(config11)fold3_test_512.csv',\n",
    "#                     '(config11)fold3_flip_512.csv',\n",
    "#                     '(config11)fold3_rotate_512.csv',\n",
    "#                     '(config11)fold3_rotateR_512.csv'] + \\\n",
    "#                     ['(config11)fold4_test_512.csv',\n",
    "#                     '(config11)fold4_flip_512.csv',\n",
    "#                     '(config11)fold4_rotate_512.csv',\n",
    "#                     '(config11)fold4_rotateR_512.csv']# + \\\n",
    "#                     ['(config11)fold0_test_1024.csv',\n",
    "#                     '(config11)fold0_flip_1024.csv',\n",
    "#                     '(config11)fold0_rotate_1024.csv',\n",
    "#                     '(config11)fold0_rotateR_1024.csv'] + \\\n",
    "#                     ['(config11)fold1_test_1024.csv',\n",
    "#                     '(config11)fold1_flip_1024.csv',\n",
    "#                     '(config11)fold1_rotate_1024.csv',\n",
    "#                     '(config11)fold1_rotateR_1024.csv'] + \\\n",
    "#                     ['(config11)fold2_test_1024.csv',\n",
    "#                     '(config11)fold2_flip_1024.csv',\n",
    "#                     '(config11)fold2_rotate_1024.csv',\n",
    "#                     '(config11)fold2_rotateR_1024.csv'] + \\\n",
    "#                     ['(config11)fold3_test_1024.csv',\n",
    "#                     '(config11)fold3_flip_1024.csv',\n",
    "#                     '(config11)fold3_rotate_1024.csv',\n",
    "#                     '(config11)fold3_rotateR_1024.csv'] + \\\n",
    "#                     ['(config11)fold4_test_1024.csv',\n",
    "#                     '(config11)fold4_flip_1024.csv',\n",
    "#                     '(config11)fold4_rotate_1024.csv',\n",
    "#                     '(config11)fold4_rotateR_1024.csv']\n",
    "submission_df = [pd.read_csv(f'{dir_path}/{file}') for file in submission_files]"
   ]
  },
  {
   "cell_type": "code",
   "execution_count": 20,
   "id": "9cd3b1cb-df04-450c-8fb8-4a7329577617",
   "metadata": {},
   "outputs": [],
   "source": [
    "image_ids = submission_df[0]['image_id'].tolist()"
   ]
  },
  {
   "cell_type": "code",
   "execution_count": 21,
   "id": "74f3ae18-da3a-4ebe-aacc-6f38c00fc451",
   "metadata": {},
   "outputs": [
    {
     "name": "stdout",
     "output_type": "stream",
     "text": [
      "loading annotations into memory...\n",
      "Done (t=0.01s)\n",
      "creating index...\n",
      "index created!\n"
     ]
    }
   ],
   "source": [
    "annotation = '/opt/ml/input/data/test.json'\n",
    "coco = COCO(annotation)\n",
    "warnings.filterwarnings(action='ignore')"
   ]
  },
  {
   "cell_type": "code",
   "execution_count": 22,
   "id": "2f33dd4e-2fa3-4f3e-ae16-1519190ad53c",
   "metadata": {},
   "outputs": [
    {
     "name": "stderr",
     "output_type": "stream",
     "text": [
      "837it [00:25, 33.42it/s]\n"
     ]
    }
   ],
   "source": [
    "prediction_strings = []\n",
    "file_names = []\n",
    "iou_thr = 0.4\n",
    "\n",
    "for i, image_id in tqdm(enumerate(image_ids)):\n",
    "    prediction_string = ''\n",
    "    boxes_list = []\n",
    "    scores_list = []\n",
    "    labels_list = []\n",
    "    image_info = coco.loadImgs(i)[0]\n",
    "    for df in submission_df:\n",
    "        predict_string = df[df['image_id'] == image_id]['PredictionString'].tolist()[0]\n",
    "        predict_list = str(predict_string).split()\n",
    "        if len(predict_list)==0 or len(predict_list)==1:\n",
    "            continue\n",
    "        predict_list = np.reshape(predict_list, (-1, 6))\n",
    "        box_list = []\n",
    "        for box in predict_list[:, 2:6].tolist():\n",
    "            box[0] = float(box[0]) / image_info['width']\n",
    "            box[1] = float(box[1]) / image_info['height']\n",
    "            box[2] = float(box[2]) / image_info['width']\n",
    "            box[3] = float(box[3]) / image_info['height']\n",
    "            box_list.append(box)\n",
    "        boxes_list.append(box_list)\n",
    "        scores_list.append(list(map(float, predict_list[:, 1].tolist())))\n",
    "        labels_list.append(list(map(int, predict_list[:, 0].tolist())))\n",
    "    \n",
    "    if len(boxes_list):\n",
    "        boxes, scores, labels = weighted_boxes_fusion(boxes_list, scores_list, labels_list, weights=weights)#nms(boxes_list, scores_list, labels_list, iou_thr=iou_thr)\n",
    "        for box, score, label in zip(boxes, scores, labels):\n",
    "            if score > 0.0:\n",
    "                prediction_string += str(int(label)) + ' ' + str(score) + ' ' + str(box[0] * image_info['width']) + ' ' + str(box[1] * image_info['height']) + ' ' + str(box[2] * image_info['width']) + ' ' + str(box[3] * image_info['height']) + ' '\n",
    "    \n",
    "    prediction_strings.append(prediction_string)\n",
    "    file_names.append(image_id)"
   ]
  },
  {
   "cell_type": "code",
   "execution_count": 23,
   "id": "68aafb11-dcb1-4fe8-a7ae-2dc0ed3b76d3",
   "metadata": {},
   "outputs": [
    {
     "data": {
      "text/html": [
       "<div>\n",
       "<style scoped>\n",
       "    .dataframe tbody tr th:only-of-type {\n",
       "        vertical-align: middle;\n",
       "    }\n",
       "\n",
       "    .dataframe tbody tr th {\n",
       "        vertical-align: top;\n",
       "    }\n",
       "\n",
       "    .dataframe thead th {\n",
       "        text-align: right;\n",
       "    }\n",
       "</style>\n",
       "<table border=\"1\" class=\"dataframe\">\n",
       "  <thead>\n",
       "    <tr style=\"text-align: right;\">\n",
       "      <th></th>\n",
       "      <th>PredictionString</th>\n",
       "      <th>image_id</th>\n",
       "    </tr>\n",
       "  </thead>\n",
       "  <tbody>\n",
       "    <tr>\n",
       "      <th>0</th>\n",
       "      <td>8 0.9962050914764404 170.8434600830078 234.363...</td>\n",
       "      <td>batch_01_vt/0021.jpg</td>\n",
       "    </tr>\n",
       "    <tr>\n",
       "      <th>1</th>\n",
       "      <td>8 0.9757473468780518 156.59963989257812 63.001...</td>\n",
       "      <td>batch_01_vt/0028.jpg</td>\n",
       "    </tr>\n",
       "    <tr>\n",
       "      <th>2</th>\n",
       "      <td>1 0.9128338694572449 74.40225982666016 167.755...</td>\n",
       "      <td>batch_01_vt/0031.jpg</td>\n",
       "    </tr>\n",
       "    <tr>\n",
       "      <th>3</th>\n",
       "      <td>8 1.2444509267807007 66.1553726196289 147.9190...</td>\n",
       "      <td>batch_01_vt/0032.jpg</td>\n",
       "    </tr>\n",
       "    <tr>\n",
       "      <th>4</th>\n",
       "      <td>8 0.9991155862808228 150.00592041015625 0.1535...</td>\n",
       "      <td>batch_01_vt/0070.jpg</td>\n",
       "    </tr>\n",
       "  </tbody>\n",
       "</table>\n",
       "</div>"
      ],
      "text/plain": [
       "                                    PredictionString              image_id\n",
       "0  8 0.9962050914764404 170.8434600830078 234.363...  batch_01_vt/0021.jpg\n",
       "1  8 0.9757473468780518 156.59963989257812 63.001...  batch_01_vt/0028.jpg\n",
       "2  1 0.9128338694572449 74.40225982666016 167.755...  batch_01_vt/0031.jpg\n",
       "3  8 1.2444509267807007 66.1553726196289 147.9190...  batch_01_vt/0032.jpg\n",
       "4  8 0.9991155862808228 150.00592041015625 0.1535...  batch_01_vt/0070.jpg"
      ]
     },
     "execution_count": 23,
     "metadata": {},
     "output_type": "execute_result"
    }
   ],
   "source": [
    "submission = pd.DataFrame()\n",
    "submission['PredictionString'] = prediction_strings\n",
    "submission['image_id'] = file_names\n",
    "submission.to_csv('/opt/ml/code/mmdetection_trash/Mybaseline/ensemble/final/ffinal_iouthr0.55_withoutyolo_3time.csv', index=False)\n",
    "\n",
    "submission.head()"
   ]
  },
  {
   "cell_type": "code",
   "execution_count": null,
   "id": "12cfdb5c-4cc7-4603-8126-ef4584303e01",
   "metadata": {},
   "outputs": [],
   "source": []
  }
 ],
 "metadata": {
  "kernelspec": {
   "display_name": "Python 3",
   "language": "python",
   "name": "python3"
  },
  "language_info": {
   "codemirror_mode": {
    "name": "ipython",
    "version": 3
   },
   "file_extension": ".py",
   "mimetype": "text/x-python",
   "name": "python",
   "nbconvert_exporter": "python",
   "pygments_lexer": "ipython3",
   "version": "3.7.7"
  }
 },
 "nbformat": 4,
 "nbformat_minor": 5
}
