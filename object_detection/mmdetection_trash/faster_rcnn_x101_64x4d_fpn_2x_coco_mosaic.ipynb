{
 "cells": [
  {
   "cell_type": "code",
   "execution_count": 1,
   "metadata": {
    "pycharm": {
     "name": "#%%\n"
    }
   },
   "outputs": [],
   "source": [
    "from mmcv import Config\n",
    "from mmdet.datasets import build_dataset\n",
    "from mmdet.models import build_detector\n",
    "from mmdet.apis import train_detector\n",
    "from mmdet.datasets import (build_dataloader, build_dataset,\n",
    "                            replace_ImageToTensor)"
   ]
  },
  {
   "cell_type": "code",
   "execution_count": 2,
   "metadata": {
    "pycharm": {
     "name": "#%%\n"
    }
   },
   "outputs": [],
   "source": [
    "classes = (\"UNKNOWN\", \"General trash\", \"Paper\", \"Paper pack\", \"Metal\", \"Glass\", \n",
    "           \"Plastic\", \"Styrofoam\", \"Plastic bag\", \"Battery\", \"Clothing\")\n",
    "# config file 들고오기\n",
    "cfg = Config.fromfile('./configs/faster_rcnn/faster_rcnn_x101_64x4d_fpn_2x_coco_mosaic.py')\n",
    "\n",
    "PREFIX = '../../input/data/'\n",
    "\n",
    "\n",
    "# dataset 바꾸기\n",
    "cfg.data.train.classes = classes\n",
    "cfg.data.train.img_prefix = PREFIX\n",
    "cfg.data.train.ann_file = PREFIX + 'train.json'\n",
    "cfg.data.train.pipeline[3]['img_scale'] = (512, 512)\n",
    "\n",
    "cfg.data.val.classes = classes\n",
    "cfg.data.val.img_prefix = PREFIX\n",
    "cfg.data.val.ann_file = PREFIX + 'val.json'\n",
    "cfg.data.val.pipeline[1]['img_scale'] = (512, 512)\n",
    "\n",
    "cfg.data.test.classes = classes\n",
    "cfg.data.test.img_prefix = PREFIX\n",
    "cfg.data.test.ann_file = PREFIX + 'test.json'\n",
    "cfg.data.test.pipeline[1]['img_scale'] = (512, 512)\n",
    "\n",
    "cfg.data.samples_per_gpu = 4\n",
    "\n",
    "cfg.seed=2020\n",
    "cfg.gpu_ids = [0]\n",
    "cfg.work_dir = './work_dirs/faster_rcnn_x101_64x4d_fpn_2x_coco_mosaic'\n",
    "\n",
    "cfg.model.roi_head.bbox_head.num_classes = 11\n",
    "# for i in range(len(cfg.model.roi_head.bbox_head)):\n",
    "#     cfg.model.roi_head.bbox_head[i].num_classes = 11\n",
    "\n",
    "cfg.optimizer_config.grad_clip = dict(max_norm=35, norm_type=2)\n",
    "\n",
    "cfg.optimizer.lr = 1e-3\n",
    "cfg.checkpoint_config.interval = 5"
   ]
  },
  {
   "cell_type": "code",
   "execution_count": 3,
   "metadata": {
    "pycharm": {
     "name": "#%%\n"
    }
   },
   "outputs": [
    {
     "name": "stderr",
     "output_type": "stream",
     "text": [
      "2021-05-16 14:41:36,984 - mmdet - INFO - load model from: open-mmlab://resnext101_64x4d\n",
      "2021-05-16 14:41:36,985 - mmdet - INFO - Use load_from_openmmlab loader\n"
     ]
    }
   ],
   "source": [
    "model = build_detector(cfg.model)"
   ]
  },
  {
   "cell_type": "code",
   "execution_count": 4,
   "metadata": {},
   "outputs": [
    {
     "name": "stdout",
     "output_type": "stream",
     "text": [
      "key =  model\n",
      "{'type': 'FasterRCNN', 'pretrained': 'open-mmlab://resnext101_64x4d', 'backbone': {'type': 'ResNeXt', 'depth': 101, 'num_stages': 4, 'out_indices': (0, 1, 2, 3), 'frozen_stages': 1, 'norm_cfg': {'type': 'BN', 'requires_grad': True}, 'norm_eval': True, 'style': 'pytorch', 'groups': 64, 'base_width': 4}, 'neck': {'type': 'FPN', 'in_channels': [256, 512, 1024, 2048], 'out_channels': 256, 'num_outs': 5}, 'rpn_head': {'type': 'RPNHead', 'in_channels': 256, 'feat_channels': 256, 'anchor_generator': {'type': 'AnchorGenerator', 'scales': [8], 'ratios': [0.5, 1.0, 2.0], 'strides': [4, 8, 16, 32, 64]}, 'bbox_coder': {'type': 'DeltaXYWHBBoxCoder', 'target_means': [0.0, 0.0, 0.0, 0.0], 'target_stds': [1.0, 1.0, 1.0, 1.0]}, 'loss_cls': {'type': 'CrossEntropyLoss', 'use_sigmoid': True, 'loss_weight': 1.0}, 'loss_bbox': {'type': 'L1Loss', 'loss_weight': 1.0}}, 'roi_head': {'type': 'StandardRoIHead', 'bbox_roi_extractor': {'type': 'SingleRoIExtractor', 'roi_layer': {'type': 'RoIAlign', 'output_size': 7, 'sampling_ratio': 0}, 'out_channels': 256, 'featmap_strides': [4, 8, 16, 32]}, 'bbox_head': {'type': 'Shared2FCBBoxHead', 'in_channels': 256, 'fc_out_channels': 1024, 'roi_feat_size': 7, 'num_classes': 11, 'bbox_coder': {'type': 'DeltaXYWHBBoxCoder', 'target_means': [0.0, 0.0, 0.0, 0.0], 'target_stds': [0.1, 0.1, 0.2, 0.2]}, 'reg_class_agnostic': False, 'loss_cls': {'type': 'CrossEntropyLoss', 'use_sigmoid': False, 'loss_weight': 1.0}, 'loss_bbox': {'type': 'L1Loss', 'loss_weight': 1.0}}, 'train_cfg': {'assigner': {'type': 'MaxIoUAssigner', 'pos_iou_thr': 0.5, 'neg_iou_thr': 0.5, 'min_pos_iou': 0.5, 'match_low_quality': False, 'ignore_iof_thr': -1}, 'sampler': {'type': 'RandomSampler', 'num': 512, 'pos_fraction': 0.25, 'neg_pos_ub': -1, 'add_gt_as_proposals': True}, 'pos_weight': -1, 'debug': False}, 'test_cfg': {'score_thr': 0.05, 'nms': {'type': 'nms', 'iou_threshold': 0.5}, 'max_per_img': 100}}, 'train_cfg': {'rpn': {'assigner': {'type': 'MaxIoUAssigner', 'pos_iou_thr': 0.7, 'neg_iou_thr': 0.3, 'min_pos_iou': 0.3, 'match_low_quality': True, 'ignore_iof_thr': -1}, 'sampler': {'type': 'RandomSampler', 'num': 256, 'pos_fraction': 0.5, 'neg_pos_ub': -1, 'add_gt_as_proposals': False}, 'allowed_border': -1, 'pos_weight': -1, 'debug': False}, 'rpn_proposal': {'nms_pre': 2000, 'max_per_img': 1000, 'nms': {'type': 'nms', 'iou_threshold': 0.7}, 'min_bbox_size': 0}, 'rcnn': {'assigner': {'type': 'MaxIoUAssigner', 'pos_iou_thr': 0.5, 'neg_iou_thr': 0.5, 'min_pos_iou': 0.5, 'match_low_quality': False, 'ignore_iof_thr': -1}, 'sampler': {'type': 'RandomSampler', 'num': 512, 'pos_fraction': 0.25, 'neg_pos_ub': -1, 'add_gt_as_proposals': True}, 'pos_weight': -1, 'debug': False}}, 'test_cfg': {'rpn': {'nms_pre': 1000, 'max_per_img': 1000, 'nms': {'type': 'nms', 'iou_threshold': 0.7}, 'min_bbox_size': 0}, 'rcnn': {'score_thr': 0.05, 'nms': {'type': 'nms', 'iou_threshold': 0.5}, 'max_per_img': 100}}}\n",
      "key =  dataset_type\n",
      "MosaicCocoDataset\n",
      "key =  data_root\n",
      "data/coco/\n",
      "key =  img_norm_cfg\n",
      "{'mean': [123.675, 116.28, 103.53], 'std': [58.395, 57.12, 57.375], 'to_rgb': True}\n",
      "key =  train_pipeline\n",
      "[{'type': 'LoadMultiImageFromFile'}, {'type': 'LoadMultiAnnotations', 'with_bbox': True}, {'type': 'Mosaic'}, {'type': 'Resize', 'img_scale': (1333, 800), 'keep_ratio': True}, {'type': 'RandomFlip', 'flip_ratio': 0.5}, {'type': 'Normalize', 'mean': [123.675, 116.28, 103.53], 'std': [58.395, 57.12, 57.375], 'to_rgb': True}, {'type': 'Pad', 'size_divisor': 32}, {'type': 'DefaultFormatBundle'}, {'type': 'Collect', 'keys': ['img', 'gt_bboxes', 'gt_labels']}]\n",
      "key =  test_pipeline\n",
      "[{'type': 'LoadImageFromFile'}, {'type': 'MultiScaleFlipAug', 'img_scale': (1333, 800), 'flip': False, 'transforms': [{'type': 'Resize', 'keep_ratio': True}, {'type': 'RandomFlip'}, {'type': 'Normalize', 'mean': [123.675, 116.28, 103.53], 'std': [58.395, 57.12, 57.375], 'to_rgb': True}, {'type': 'Pad', 'size_divisor': 32}, {'type': 'ImageToTensor', 'keys': ['img']}, {'type': 'Collect', 'keys': ['img']}]}]\n",
      "key =  data\n",
      "{'samples_per_gpu': 4, 'workers_per_gpu': 2, 'train': {'type': 'MosaicCocoDataset', 'ann_file': '../../input/data/train.json', 'img_prefix': '../../input/data/', 'pipeline': [{'type': 'LoadMultiImageFromFile'}, {'type': 'LoadMultiAnnotations', 'with_bbox': True}, {'type': 'Mosaic'}, {'type': 'Resize', 'img_scale': (512, 512), 'keep_ratio': True}, {'type': 'RandomFlip', 'flip_ratio': 0.5}, {'type': 'Normalize', 'mean': [123.675, 116.28, 103.53], 'std': [58.395, 57.12, 57.375], 'to_rgb': True}, {'type': 'Pad', 'size_divisor': 32}, {'type': 'DefaultFormatBundle'}, {'type': 'Collect', 'keys': ['img', 'gt_bboxes', 'gt_labels']}], 'classes': ('UNKNOWN', 'General trash', 'Paper', 'Paper pack', 'Metal', 'Glass', 'Plastic', 'Styrofoam', 'Plastic bag', 'Battery', 'Clothing')}, 'val': {'type': 'MosaicCocoDataset', 'ann_file': '../../input/data/val.json', 'img_prefix': '../../input/data/', 'pipeline': [{'type': 'LoadImageFromFile'}, {'type': 'MultiScaleFlipAug', 'img_scale': (512, 512), 'flip': False, 'transforms': [{'type': 'Resize', 'keep_ratio': True}, {'type': 'RandomFlip'}, {'type': 'Normalize', 'mean': [123.675, 116.28, 103.53], 'std': [58.395, 57.12, 57.375], 'to_rgb': True}, {'type': 'Pad', 'size_divisor': 32}, {'type': 'ImageToTensor', 'keys': ['img']}, {'type': 'Collect', 'keys': ['img']}]}], 'classes': ('UNKNOWN', 'General trash', 'Paper', 'Paper pack', 'Metal', 'Glass', 'Plastic', 'Styrofoam', 'Plastic bag', 'Battery', 'Clothing')}, 'test': {'type': 'MosaicCocoDataset', 'ann_file': '../../input/data/test.json', 'img_prefix': '../../input/data/', 'pipeline': [{'type': 'LoadImageFromFile'}, {'type': 'MultiScaleFlipAug', 'img_scale': (512, 512), 'flip': False, 'transforms': [{'type': 'Resize', 'keep_ratio': True}, {'type': 'RandomFlip'}, {'type': 'Normalize', 'mean': [123.675, 116.28, 103.53], 'std': [58.395, 57.12, 57.375], 'to_rgb': True}, {'type': 'Pad', 'size_divisor': 32}, {'type': 'ImageToTensor', 'keys': ['img']}, {'type': 'Collect', 'keys': ['img']}]}], 'classes': ('UNKNOWN', 'General trash', 'Paper', 'Paper pack', 'Metal', 'Glass', 'Plastic', 'Styrofoam', 'Plastic bag', 'Battery', 'Clothing')}}\n",
      "key =  evaluation\n",
      "{'interval': 1, 'metric': 'bbox'}\n",
      "key =  optimizer\n",
      "{'type': 'SGD', 'lr': 0.001, 'momentum': 0.9, 'weight_decay': 0.0001}\n",
      "key =  optimizer_config\n",
      "{'grad_clip': {'max_norm': 35, 'norm_type': 2}}\n",
      "key =  lr_config\n",
      "{'policy': 'step', 'warmup': 'linear', 'warmup_iters': 500, 'warmup_ratio': 0.001, 'step': [16, 22]}\n",
      "key =  runner\n",
      "{'type': 'EpochBasedRunner', 'max_epochs': 24}\n",
      "key =  checkpoint_config\n",
      "{'interval': 5}\n",
      "key =  log_config\n",
      "{'interval': 50, 'hooks': [{'type': 'TextLoggerHook'}]}\n",
      "key =  custom_hooks\n",
      "[{'type': 'NumClassCheckHook'}]\n",
      "key =  dist_params\n",
      "{'backend': 'nccl'}\n",
      "key =  log_level\n",
      "INFO\n",
      "key =  load_from\n",
      "None\n",
      "key =  resume_from\n",
      "None\n",
      "key =  workflow\n",
      "[('train', 1)]\n",
      "key =  seed\n",
      "2020\n",
      "key =  gpu_ids\n",
      "[0]\n",
      "key =  work_dir\n",
      "./work_dirs/faster_rcnn_x101_64x4d_fpn_2x_coco_mosaic\n"
     ]
    }
   ],
   "source": [
    "for k in cfg.keys():\n",
    "    print(\"key = \",k)\n",
    "    print(cfg[k])\n",
    "    "
   ]
  },
  {
   "cell_type": "code",
   "execution_count": 5,
   "metadata": {
    "pycharm": {
     "name": "#%%\n"
    }
   },
   "outputs": [
    {
     "name": "stdout",
     "output_type": "stream",
     "text": [
      "loading annotations into memory...\n",
      "Done (t=3.43s)\n",
      "creating index...\n",
      "index created!\n"
     ]
    }
   ],
   "source": [
    "datasets = [build_dataset(cfg.data.train)]"
   ]
  },
  {
   "cell_type": "code",
   "execution_count": null,
   "metadata": {
    "pycharm": {
     "name": "#%%\n"
    }
   },
   "outputs": [
    {
     "name": "stdout",
     "output_type": "stream",
     "text": [
      "loading annotations into memory...\n"
     ]
    },
    {
     "name": "stderr",
     "output_type": "stream",
     "text": [
      "2021-05-16 14:41:45,124 - mmdet - INFO - Start running, host: root@28e81ee99bc4, work_dir: /opt/ml/code/mmdetection_trash/work_dirs/faster_rcnn_x101_64x4d_fpn_2x_coco_mosaic\n",
      "2021-05-16 14:41:45,126 - mmdet - INFO - workflow: [('train', 1)], max: 24 epochs\n"
     ]
    },
    {
     "name": "stdout",
     "output_type": "stream",
     "text": [
      "Done (t=1.19s)\n",
      "creating index...\n",
      "index created!\n"
     ]
    },
    {
     "name": "stderr",
     "output_type": "stream",
     "text": [
      "2021-05-16 14:42:25,467 - mmdet - INFO - Epoch [1][50/655]\tlr: 9.890e-05, eta: 3:30:40, time: 0.807, data_time: 0.052, memory: 5379, loss_rpn_cls: 0.6853, loss_rpn_bbox: 0.1658, loss_cls: 1.0482, acc: 81.1025, loss_bbox: 0.0671, loss: 1.9665, grad_norm: 13.7867\n",
      "2021-05-16 14:43:03,693 - mmdet - INFO - Epoch [1][100/655]\tlr: 1.988e-04, eta: 3:24:31, time: 0.765, data_time: 0.006, memory: 5379, loss_rpn_cls: 0.5624, loss_rpn_bbox: 0.1421, loss_cls: 0.3294, acc: 94.8838, loss_bbox: 0.1322, loss: 1.1662, grad_norm: 3.7145\n",
      "2021-05-16 14:43:42,383 - mmdet - INFO - Epoch [1][150/655]\tlr: 2.987e-04, eta: 3:22:50, time: 0.774, data_time: 0.006, memory: 5379, loss_rpn_cls: 0.3703, loss_rpn_bbox: 0.1345, loss_cls: 0.4897, acc: 89.7051, loss_bbox: 0.3676, loss: 1.3621, grad_norm: 4.1744\n",
      "2021-05-16 14:44:21,606 - mmdet - INFO - Epoch [1][200/655]\tlr: 3.986e-04, eta: 3:22:22, time: 0.784, data_time: 0.006, memory: 5380, loss_rpn_cls: 0.3096, loss_rpn_bbox: 0.1289, loss_cls: 0.5535, acc: 86.6533, loss_bbox: 0.5082, loss: 1.5002, grad_norm: 4.6359\n",
      "2021-05-16 14:45:00,625 - mmdet - INFO - Epoch [1][250/655]\tlr: 4.985e-04, eta: 3:21:36, time: 0.780, data_time: 0.006, memory: 5380, loss_rpn_cls: 0.2774, loss_rpn_bbox: 0.1268, loss_cls: 0.5517, acc: 85.8594, loss_bbox: 0.5524, loss: 1.5083, grad_norm: 5.1986\n",
      "2021-05-16 14:45:39,827 - mmdet - INFO - Epoch [1][300/655]\tlr: 5.984e-04, eta: 3:21:03, time: 0.784, data_time: 0.006, memory: 5380, loss_rpn_cls: 0.2698, loss_rpn_bbox: 0.1470, loss_cls: 0.5892, acc: 84.4824, loss_bbox: 0.6057, loss: 1.6116, grad_norm: 7.1200\n",
      "2021-05-16 14:46:18,698 - mmdet - INFO - Epoch [1][350/655]\tlr: 6.983e-04, eta: 3:20:13, time: 0.777, data_time: 0.006, memory: 5380, loss_rpn_cls: 0.2375, loss_rpn_bbox: 0.1335, loss_cls: 0.6001, acc: 83.9609, loss_bbox: 0.6119, loss: 1.5831, grad_norm: 8.2774\n",
      "2021-05-16 14:46:57,458 - mmdet - INFO - Epoch [1][400/655]\tlr: 7.982e-04, eta: 3:19:22, time: 0.775, data_time: 0.006, memory: 5380, loss_rpn_cls: 0.2250, loss_rpn_bbox: 0.1417, loss_cls: 0.5906, acc: 83.8896, loss_bbox: 0.6336, loss: 1.5908, grad_norm: 7.1626\n",
      "2021-05-16 14:47:36,869 - mmdet - INFO - Epoch [1][450/655]\tlr: 8.981e-04, eta: 3:18:55, time: 0.788, data_time: 0.006, memory: 5380, loss_rpn_cls: 0.2127, loss_rpn_bbox: 0.1284, loss_cls: 0.5769, acc: 83.7559, loss_bbox: 0.6551, loss: 1.5732, grad_norm: 6.0217\n",
      "2021-05-16 14:48:15,385 - mmdet - INFO - Epoch [1][500/655]\tlr: 9.980e-04, eta: 3:17:59, time: 0.770, data_time: 0.006, memory: 5380, loss_rpn_cls: 0.1877, loss_rpn_bbox: 0.1207, loss_cls: 0.5576, acc: 84.5811, loss_bbox: 0.6081, loss: 1.4741, grad_norm: 7.0433\n",
      "2021-05-16 14:48:53,918 - mmdet - INFO - Epoch [1][550/655]\tlr: 1.000e-03, eta: 3:17:06, time: 0.771, data_time: 0.006, memory: 5380, loss_rpn_cls: 0.2048, loss_rpn_bbox: 0.1389, loss_cls: 0.5959, acc: 83.4150, loss_bbox: 0.6574, loss: 1.5969, grad_norm: 6.8348\n",
      "2021-05-16 14:49:32,561 - mmdet - INFO - Epoch [1][600/655]\tlr: 1.000e-03, eta: 3:16:19, time: 0.773, data_time: 0.006, memory: 5380, loss_rpn_cls: 0.1863, loss_rpn_bbox: 0.1218, loss_cls: 0.5619, acc: 83.5146, loss_bbox: 0.6634, loss: 1.5334, grad_norm: 6.5712\n",
      "2021-05-16 14:50:11,010 - mmdet - INFO - Epoch [1][650/655]\tlr: 1.000e-03, eta: 3:15:28, time: 0.769, data_time: 0.006, memory: 5380, loss_rpn_cls: 0.1782, loss_rpn_bbox: 0.1200, loss_cls: 0.5600, acc: 83.8428, loss_bbox: 0.6465, loss: 1.5047, grad_norm: 6.6678\n"
     ]
    },
    {
     "name": "stdout",
     "output_type": "stream",
     "text": [
      "[>>>>>>>>>>>>>>>>>>>>>>>>>>>>>] 655/655, 10.3 task/s, elapsed: 64s, ETA:     0s"
     ]
    },
    {
     "name": "stderr",
     "output_type": "stream",
     "text": [
      "2021-05-16 14:51:20,479 - mmdet - INFO - Evaluating bbox...\n"
     ]
    },
    {
     "name": "stdout",
     "output_type": "stream",
     "text": [
      "Loading and preparing results...\n",
      "DONE (t=1.15s)\n",
      "creating index...\n",
      "index created!\n",
      "Running per image evaluation...\n",
      "Evaluate annotation type *bbox*\n",
      "DONE (t=8.83s).\n",
      "Accumulating evaluation results...\n"
     ]
    },
    {
     "name": "stderr",
     "output_type": "stream",
     "text": [
      "2021-05-16 14:51:32,109 - mmdet - INFO - Epoch(val) [1][655]\tbbox_mAP: 0.0200, bbox_mAP_50: 0.0640, bbox_mAP_75: 0.0050, bbox_mAP_s: 0.0010, bbox_mAP_m: 0.0240, bbox_mAP_l: 0.0420, bbox_mAP_copypaste: 0.020 0.064 0.005 0.001 0.024 0.042\n"
     ]
    },
    {
     "name": "stdout",
     "output_type": "stream",
     "text": [
      "DONE (t=1.53s).\n",
      "Average Precision  (AP) @[ IoU=0.50:0.95 | area=   all | maxDets=100 ] = 0.020\n",
      "Average Precision  (AP) @[ IoU=0.50      | area=   all | maxDets=1000 ] = 0.064\n",
      "Average Precision  (AP) @[ IoU=0.75      | area=   all | maxDets=1000 ] = 0.005\n",
      "Average Precision  (AP) @[ IoU=0.50:0.95 | area= small | maxDets=1000 ] = 0.001\n",
      "Average Precision  (AP) @[ IoU=0.50:0.95 | area=medium | maxDets=1000 ] = 0.024\n",
      "Average Precision  (AP) @[ IoU=0.50:0.95 | area= large | maxDets=1000 ] = 0.042\n",
      "Average Recall     (AR) @[ IoU=0.50:0.95 | area=   all | maxDets=100 ] = 0.080\n",
      "Average Recall     (AR) @[ IoU=0.50:0.95 | area=   all | maxDets=300 ] = 0.080\n",
      "Average Recall     (AR) @[ IoU=0.50:0.95 | area=   all | maxDets=1000 ] = 0.080\n",
      "Average Recall     (AR) @[ IoU=0.50:0.95 | area= small | maxDets=1000 ] = 0.004\n",
      "Average Recall     (AR) @[ IoU=0.50:0.95 | area=medium | maxDets=1000 ] = 0.051\n",
      "Average Recall     (AR) @[ IoU=0.50:0.95 | area= large | maxDets=1000 ] = 0.199\n"
     ]
    },
    {
     "name": "stderr",
     "output_type": "stream",
     "text": [
      "2021-05-16 14:52:12,985 - mmdet - INFO - Epoch [2][50/655]\tlr: 1.000e-03, eta: 3:14:04, time: 0.817, data_time: 0.052, memory: 5380, loss_rpn_cls: 0.1867, loss_rpn_bbox: 0.1331, loss_cls: 0.5831, acc: 82.9541, loss_bbox: 0.6876, loss: 1.5904, grad_norm: 6.3968\n",
      "2021-05-16 14:52:51,460 - mmdet - INFO - Epoch [2][100/655]\tlr: 1.000e-03, eta: 3:13:19, time: 0.770, data_time: 0.006, memory: 5380, loss_rpn_cls: 0.1697, loss_rpn_bbox: 0.1154, loss_cls: 0.5382, acc: 84.4639, loss_bbox: 0.6209, loss: 1.4442, grad_norm: 6.8370\n",
      "2021-05-16 14:53:30,040 - mmdet - INFO - Epoch [2][150/655]\tlr: 1.000e-03, eta: 3:12:37, time: 0.772, data_time: 0.006, memory: 5380, loss_rpn_cls: 0.1729, loss_rpn_bbox: 0.1204, loss_cls: 0.5478, acc: 84.1797, loss_bbox: 0.6448, loss: 1.4859, grad_norm: 6.5753\n",
      "2021-05-16 14:54:08,537 - mmdet - INFO - Epoch [2][200/655]\tlr: 1.000e-03, eta: 3:11:54, time: 0.770, data_time: 0.006, memory: 5380, loss_rpn_cls: 0.1593, loss_rpn_bbox: 0.1123, loss_cls: 0.5493, acc: 83.6670, loss_bbox: 0.6638, loss: 1.4848, grad_norm: 6.8558\n",
      "2021-05-16 14:55:05,953 - mmdet - INFO - Epoch [2][250/655]\tlr: 1.000e-03, eta: 3:16:21, time: 1.148, data_time: 0.007, memory: 5380, loss_rpn_cls: 0.1617, loss_rpn_bbox: 0.1186, loss_cls: 0.5602, acc: 83.8672, loss_bbox: 0.6516, loss: 1.4921, grad_norm: 7.1206\n",
      "2021-05-16 14:56:26,640 - mmdet - INFO - Epoch [2][300/655]\tlr: 1.000e-03, eta: 3:26:14, time: 1.614, data_time: 0.007, memory: 5380, loss_rpn_cls: 0.1672, loss_rpn_bbox: 0.1261, loss_cls: 0.5565, acc: 83.5254, loss_bbox: 0.6629, loss: 1.5128, grad_norm: 6.6121\n",
      "2021-05-16 14:57:46,928 - mmdet - INFO - Epoch [2][350/655]\tlr: 1.000e-03, eta: 3:34:54, time: 1.606, data_time: 0.007, memory: 5380, loss_rpn_cls: 0.1632, loss_rpn_bbox: 0.1217, loss_cls: 0.5401, acc: 84.0791, loss_bbox: 0.6528, loss: 1.4778, grad_norm: 6.6142\n",
      "2021-05-16 14:59:07,804 - mmdet - INFO - Epoch [2][400/655]\tlr: 1.000e-03, eta: 3:42:45, time: 1.618, data_time: 0.007, memory: 5380, loss_rpn_cls: 0.1509, loss_rpn_bbox: 0.1216, loss_cls: 0.5047, acc: 84.9717, loss_bbox: 0.6267, loss: 1.4039, grad_norm: 6.3055\n",
      "2021-05-16 15:00:28,948 - mmdet - INFO - Epoch [2][450/655]\tlr: 1.000e-03, eta: 3:49:50, time: 1.623, data_time: 0.007, memory: 5380, loss_rpn_cls: 0.1519, loss_rpn_bbox: 0.1148, loss_cls: 0.5339, acc: 84.3281, loss_bbox: 0.6440, loss: 1.4446, grad_norm: 6.8852\n",
      "2021-05-16 15:01:49,538 - mmdet - INFO - Epoch [2][500/655]\tlr: 1.000e-03, eta: 3:56:04, time: 1.612, data_time: 0.007, memory: 5380, loss_rpn_cls: 0.1371, loss_rpn_bbox: 0.1090, loss_cls: 0.4957, acc: 85.0664, loss_bbox: 0.6060, loss: 1.3478, grad_norm: 6.3954\n",
      "2021-05-16 15:03:10,015 - mmdet - INFO - Epoch [2][550/655]\tlr: 1.000e-03, eta: 4:01:39, time: 1.610, data_time: 0.007, memory: 5380, loss_rpn_cls: 0.1480, loss_rpn_bbox: 0.1192, loss_cls: 0.5251, acc: 84.5537, loss_bbox: 0.6309, loss: 1.4231, grad_norm: 6.6530\n",
      "2021-05-16 15:04:30,645 - mmdet - INFO - Epoch [2][600/655]\tlr: 1.000e-03, eta: 4:06:43, time: 1.613, data_time: 0.008, memory: 5380, loss_rpn_cls: 0.1391, loss_rpn_bbox: 0.1112, loss_cls: 0.5219, acc: 84.2051, loss_bbox: 0.6511, loss: 1.4233, grad_norm: 6.5562\n",
      "2021-05-16 15:05:51,155 - mmdet - INFO - Epoch [2][650/655]\tlr: 1.000e-03, eta: 4:11:16, time: 1.610, data_time: 0.007, memory: 5380, loss_rpn_cls: 0.1331, loss_rpn_bbox: 0.1052, loss_cls: 0.4886, acc: 85.3232, loss_bbox: 0.6062, loss: 1.3331, grad_norm: 6.3679\n"
     ]
    },
    {
     "name": "stdout",
     "output_type": "stream",
     "text": [
      "[>>>>>>>>>>>>>>>>>>>>>>>>>>>>>] 655/655, 4.5 task/s, elapsed: 147s, ETA:     0s"
     ]
    },
    {
     "name": "stderr",
     "output_type": "stream",
     "text": [
      "2021-05-16 15:08:27,644 - mmdet - INFO - Evaluating bbox...\n"
     ]
    },
    {
     "name": "stdout",
     "output_type": "stream",
     "text": [
      "Loading and preparing results...\n",
      "DONE (t=0.66s)\n",
      "creating index...\n",
      "index created!\n",
      "Running per image evaluation...\n",
      "Evaluate annotation type *bbox*\n",
      "DONE (t=9.18s).\n",
      "Accumulating evaluation results...\n"
     ]
    },
    {
     "name": "stderr",
     "output_type": "stream",
     "text": [
      "2021-05-16 15:08:39,038 - mmdet - INFO - Epoch(val) [2][655]\tbbox_mAP: 0.0510, bbox_mAP_50: 0.1280, bbox_mAP_75: 0.0300, bbox_mAP_s: 0.0040, bbox_mAP_m: 0.0460, bbox_mAP_l: 0.1140, bbox_mAP_copypaste: 0.051 0.128 0.030 0.004 0.046 0.114\n"
     ]
    },
    {
     "name": "stdout",
     "output_type": "stream",
     "text": [
      "DONE (t=1.43s).\n",
      "Average Precision  (AP) @[ IoU=0.50:0.95 | area=   all | maxDets=100 ] = 0.051\n",
      "Average Precision  (AP) @[ IoU=0.50      | area=   all | maxDets=1000 ] = 0.128\n",
      "Average Precision  (AP) @[ IoU=0.75      | area=   all | maxDets=1000 ] = 0.030\n",
      "Average Precision  (AP) @[ IoU=0.50:0.95 | area= small | maxDets=1000 ] = 0.004\n",
      "Average Precision  (AP) @[ IoU=0.50:0.95 | area=medium | maxDets=1000 ] = 0.046\n",
      "Average Precision  (AP) @[ IoU=0.50:0.95 | area= large | maxDets=1000 ] = 0.114\n",
      "Average Recall     (AR) @[ IoU=0.50:0.95 | area=   all | maxDets=100 ] = 0.137\n",
      "Average Recall     (AR) @[ IoU=0.50:0.95 | area=   all | maxDets=300 ] = 0.137\n",
      "Average Recall     (AR) @[ IoU=0.50:0.95 | area=   all | maxDets=1000 ] = 0.137\n",
      "Average Recall     (AR) @[ IoU=0.50:0.95 | area= small | maxDets=1000 ] = 0.014\n",
      "Average Recall     (AR) @[ IoU=0.50:0.95 | area=medium | maxDets=1000 ] = 0.104\n",
      "Average Recall     (AR) @[ IoU=0.50:0.95 | area= large | maxDets=1000 ] = 0.299\n"
     ]
    },
    {
     "name": "stderr",
     "output_type": "stream",
     "text": [
      "2021-05-16 15:10:02,601 - mmdet - INFO - Epoch [3][50/655]\tlr: 1.000e-03, eta: 4:14:53, time: 1.671, data_time: 0.053, memory: 5380, loss_rpn_cls: 0.1549, loss_rpn_bbox: 0.1233, loss_cls: 0.5252, acc: 84.2666, loss_bbox: 0.6496, loss: 1.4530, grad_norm: 6.7680\n",
      "2021-05-16 15:11:21,863 - mmdet - INFO - Epoch [3][100/655]\tlr: 1.000e-03, eta: 4:18:24, time: 1.585, data_time: 0.007, memory: 5380, loss_rpn_cls: 0.1308, loss_rpn_bbox: 0.1074, loss_cls: 0.4986, acc: 85.1426, loss_bbox: 0.6139, loss: 1.3506, grad_norm: 6.6566\n",
      "2021-05-16 15:12:31,858 - mmdet - INFO - Epoch [3][150/655]\tlr: 1.000e-03, eta: 4:20:04, time: 1.400, data_time: 0.007, memory: 5380, loss_rpn_cls: 0.1296, loss_rpn_bbox: 0.1115, loss_cls: 0.5123, acc: 84.3721, loss_bbox: 0.6327, loss: 1.3861, grad_norm: 6.9555\n",
      "2021-05-16 15:13:40,029 - mmdet - INFO - Epoch [3][200/655]\tlr: 1.000e-03, eta: 4:21:16, time: 1.364, data_time: 0.007, memory: 5380, loss_rpn_cls: 0.1278, loss_rpn_bbox: 0.1041, loss_cls: 0.4898, acc: 85.0693, loss_bbox: 0.6067, loss: 1.3283, grad_norm: 6.4220\n",
      "2021-05-16 15:14:34,146 - mmdet - INFO - Epoch [3][250/655]\tlr: 1.000e-03, eta: 4:20:12, time: 1.082, data_time: 0.007, memory: 5380, loss_rpn_cls: 0.1360, loss_rpn_bbox: 0.1070, loss_cls: 0.5149, acc: 84.6299, loss_bbox: 0.6267, loss: 1.3845, grad_norm: 7.0618\n",
      "2021-05-16 15:15:12,437 - mmdet - INFO - Epoch [3][300/655]\tlr: 1.000e-03, eta: 4:16:49, time: 0.766, data_time: 0.006, memory: 5380, loss_rpn_cls: 0.1319, loss_rpn_bbox: 0.1117, loss_cls: 0.5158, acc: 84.3232, loss_bbox: 0.6450, loss: 1.4045, grad_norm: 6.4237\n"
     ]
    }
   ],
   "source": [
    "train_detector(model, datasets[0], cfg, distributed=False, validate=True)"
   ]
  },
  {
   "cell_type": "code",
   "execution_count": null,
   "metadata": {},
   "outputs": [],
   "source": []
  }
 ],
 "metadata": {
  "kernelspec": {
   "display_name": "Python 3",
   "language": "python",
   "name": "python3"
  },
  "language_info": {
   "codemirror_mode": {
    "name": "ipython",
    "version": 3
   },
   "file_extension": ".py",
   "mimetype": "text/x-python",
   "name": "python",
   "nbconvert_exporter": "python",
   "pygments_lexer": "ipython3",
   "version": "3.7.7"
  },
  "pycharm": {
   "stem_cell": {
    "cell_type": "raw",
    "metadata": {
     "collapsed": false
    },
    "source": []
   }
  }
 },
 "nbformat": 4,
 "nbformat_minor": 4
}
