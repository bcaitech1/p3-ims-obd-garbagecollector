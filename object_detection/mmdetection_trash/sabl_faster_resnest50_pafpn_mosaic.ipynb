{
 "cells": [
  {
   "cell_type": "code",
   "execution_count": 1,
   "metadata": {
    "pycharm": {
     "name": "#%%\n"
    }
   },
   "outputs": [],
   "source": [
    "from mmcv import Config\n",
    "from mmdet.datasets import build_dataset\n",
    "from mmdet.models import build_detector\n",
    "from mmdet.apis import train_detector\n",
    "from mmdet.datasets import (build_dataloader, build_dataset,\n",
    "                            replace_ImageToTensor)\n",
    "import os\n",
    "import torch.distributed as dist\n",
    "os.environ['MASTER_ADDR'] = 'localhost'\n",
    "os.environ['MASTER_PORT'] = '6008'\n",
    "dist.init_process_group('gloo', rank=0, world_size=1)"
   ]
  },
  {
   "cell_type": "code",
   "execution_count": 2,
   "metadata": {
    "pycharm": {
     "name": "#%%\n"
    }
   },
   "outputs": [],
   "source": [
    "classes = (\"UNKNOWN\", \"General trash\", \"Paper\", \"Paper pack\", \"Metal\", \"Glass\", \n",
    "           \"Plastic\", \"Styrofoam\", \"Plastic bag\", \"Battery\", \"Clothing\")\n",
    "# config file 들고오기\n",
    "cfg = Config.fromfile('./configs/faster_rcnn/sabl_faster_resnest50_pafpn_mosaic.py')\n",
    "\n",
    "PREFIX = '/opt/ml/input/data/'\n",
    "\n",
    "\n",
    "# dataset 바꾸기\n",
    "cfg.data.train.classes = classes\n",
    "cfg.data.train.img_prefix = PREFIX\n",
    "cfg.data.train.ann_file = PREFIX + 'train.json'\n",
    "cfg.data.train.pipeline[3]['img_scale'] = (512, 512)\n",
    "\n",
    "cfg.data.val.classes = classes\n",
    "cfg.data.val.img_prefix = PREFIX\n",
    "cfg.data.val.ann_file = PREFIX + 'val.json'\n",
    "cfg.data.val.pipeline[1]['img_scale'] = (512, 512)\n",
    "\n",
    "cfg.data.test.classes = classes\n",
    "cfg.data.test.img_prefix = PREFIX\n",
    "cfg.data.test.ann_file = PREFIX + 'test.json'\n",
    "cfg.data.test.pipeline[1]['img_scale'] = (512, 512)\n",
    "\n",
    "cfg.data.samples_per_gpu = 8\n",
    "\n",
    "cfg.seed=2020\n",
    "cfg.gpu_ids = [0]\n",
    "cfg.work_dir = './work_dirs/sabl_faster_resnest50_pafpn_mosaic'\n",
    "\n",
    "cfg.model.roi_head.bbox_head.num_classes = 11\n",
    "# for i in range(len(cfg.model.roi_head.bbox_head)):\n",
    "#     cfg.model.roi_head.bbox_head[i].num_classes = 11\n",
    "\n",
    "cfg.optimizer_config.grad_clip = dict(max_norm=35, norm_type=2)\n",
    "\n",
    "cfg.optimizer.lr = 1e-3\n",
    "cfg.checkpoint_config.interval = 5"
   ]
  },
  {
   "cell_type": "code",
   "execution_count": 3,
   "metadata": {
    "pycharm": {
     "name": "#%%\n"
    }
   },
   "outputs": [
    {
     "name": "stderr",
     "output_type": "stream",
     "text": [
      "2021-05-16 15:53:04,783 - mmdet - INFO - load model from: open-mmlab://resnest50\n",
      "2021-05-16 15:53:04,784 - mmdet - INFO - Use load_from_openmmlab loader\n"
     ]
    }
   ],
   "source": [
    "model = build_detector(cfg.model)"
   ]
  },
  {
   "cell_type": "code",
   "execution_count": 4,
   "metadata": {},
   "outputs": [
    {
     "name": "stdout",
     "output_type": "stream",
     "text": [
      "key =  model\n",
      "{'type': 'FasterRCNN', 'pretrained': 'open-mmlab://resnest50', 'backbone': {'type': 'ResNeSt', 'depth': 50, 'num_stages': 4, 'out_indices': (0, 1, 2, 3), 'frozen_stages': 1, 'norm_cfg': {'type': 'SyncBN', 'requires_grad': True}, 'norm_eval': False, 'style': 'pytorch', 'stem_channels': 64, 'radix': 2, 'reduction_factor': 4, 'avg_down_stride': True}, 'neck': {'type': 'PAFPN', 'in_channels': [256, 512, 1024, 2048], 'out_channels': 256, 'num_outs': 5}, 'rpn_head': {'type': 'RPNHead', 'in_channels': 256, 'feat_channels': 256, 'anchor_generator': {'type': 'AnchorGenerator', 'scales': [8], 'ratios': [0.5, 1.0, 2.0], 'strides': [4, 8, 16, 32, 64]}, 'bbox_coder': {'type': 'DeltaXYWHBBoxCoder', 'target_means': [0.0, 0.0, 0.0, 0.0], 'target_stds': [1.0, 1.0, 1.0, 1.0]}, 'loss_cls': {'type': 'CrossEntropyLoss', 'use_sigmoid': True, 'loss_weight': 1.0}, 'loss_bbox': {'type': 'L1Loss', 'loss_weight': 1.0}}, 'roi_head': {'type': 'StandardRoIHead', 'bbox_roi_extractor': {'type': 'SingleRoIExtractor', 'roi_layer': {'type': 'RoIAlign', 'output_size': 7, 'sampling_ratio': 0}, 'out_channels': 256, 'featmap_strides': [4, 8, 16, 32]}, 'bbox_head': {'type': 'SABLHead', 'num_classes': 11, 'cls_in_channels': 256, 'reg_in_channels': 256, 'roi_feat_size': 7, 'reg_feat_up_ratio': 2, 'reg_pre_kernel': 3, 'reg_post_kernel': 3, 'reg_pre_num': 2, 'reg_post_num': 1, 'cls_out_channels': 1024, 'reg_offset_out_channels': 256, 'reg_cls_out_channels': 256, 'num_cls_fcs': 1, 'num_reg_fcs': 0, 'reg_class_agnostic': True, 'norm_cfg': None, 'bbox_coder': {'type': 'BucketingBBoxCoder', 'num_buckets': 14, 'scale_factor': 1.7}, 'loss_cls': {'type': 'CrossEntropyLoss', 'use_sigmoid': False, 'loss_weight': 1.0}, 'loss_bbox_cls': {'type': 'CrossEntropyLoss', 'use_sigmoid': True, 'loss_weight': 1.0}, 'loss_bbox_reg': {'type': 'SmoothL1Loss', 'beta': 0.1, 'loss_weight': 1.0}}, 'train_cfg': {'assigner': {'type': 'MaxIoUAssigner', 'pos_iou_thr': 0.5, 'neg_iou_thr': 0.5, 'min_pos_iou': 0.5, 'match_low_quality': False, 'ignore_iof_thr': -1}, 'sampler': {'type': 'RandomSampler', 'num': 512, 'pos_fraction': 0.25, 'neg_pos_ub': -1, 'add_gt_as_proposals': True}, 'pos_weight': -1, 'debug': False}, 'test_cfg': {'score_thr': 0.05, 'nms': {'type': 'nms', 'iou_threshold': 0.5}, 'max_per_img': 100}}, 'train_cfg': {'rpn': {'assigner': {'type': 'MaxIoUAssigner', 'pos_iou_thr': 0.7, 'neg_iou_thr': 0.3, 'min_pos_iou': 0.3, 'match_low_quality': True, 'ignore_iof_thr': -1}, 'sampler': {'type': 'RandomSampler', 'num': 256, 'pos_fraction': 0.5, 'neg_pos_ub': -1, 'add_gt_as_proposals': False}, 'allowed_border': -1, 'pos_weight': -1, 'debug': False}, 'rpn_proposal': {'nms_pre': 2000, 'max_per_img': 1000, 'nms': {'type': 'nms', 'iou_threshold': 0.7}, 'min_bbox_size': 0}, 'rcnn': {'assigner': {'type': 'MaxIoUAssigner', 'pos_iou_thr': 0.5, 'neg_iou_thr': 0.5, 'min_pos_iou': 0.5, 'match_low_quality': False, 'ignore_iof_thr': -1}, 'sampler': {'type': 'RandomSampler', 'num': 512, 'pos_fraction': 0.25, 'neg_pos_ub': -1, 'add_gt_as_proposals': True}, 'pos_weight': -1, 'debug': False}}, 'test_cfg': {'rpn': {'nms_pre': 1000, 'max_per_img': 1000, 'nms': {'type': 'nms', 'iou_threshold': 0.7}, 'min_bbox_size': 0}, 'rcnn': {'score_thr': 0.05, 'nms': {'type': 'nms', 'iou_threshold': 0.5}, 'max_per_img': 100}}}\n",
      "key =  dataset_type\n",
      "MosaicCocoDataset\n",
      "key =  data_root\n",
      "/opt/ml/input/data/\n",
      "key =  img_norm_cfg\n",
      "{'mean': [123.68, 116.779, 103.939], 'std': [58.393, 57.12, 57.375], 'to_rgb': True}\n",
      "key =  train_pipeline\n",
      "[{'type': 'LoadMultiImageFromFile'}, {'type': 'LoadMultiAnnotations', 'with_bbox': True}, {'type': 'Mosaic'}, {'type': 'Resize', 'img_scale': [(1333, 640), (1333, 800)], 'multiscale_mode': 'range', 'keep_ratio': True}, {'type': 'RandomFlip', 'flip_ratio': 0.5}, {'type': 'Normalize', 'mean': [123.68, 116.779, 103.939], 'std': [58.393, 57.12, 57.375], 'to_rgb': True}, {'type': 'Pad', 'size_divisor': 32}, {'type': 'DefaultFormatBundle'}, {'type': 'Collect', 'keys': ['img', 'gt_bboxes', 'gt_labels']}]\n",
      "key =  test_pipeline\n",
      "[{'type': 'LoadImageFromFile'}, {'type': 'MultiScaleFlipAug', 'img_scale': (1333, 800), 'flip': False, 'transforms': [{'type': 'Resize', 'keep_ratio': True}, {'type': 'RandomFlip'}, {'type': 'Normalize', 'mean': [123.68, 116.779, 103.939], 'std': [58.393, 57.12, 57.375], 'to_rgb': True}, {'type': 'Pad', 'size_divisor': 32}, {'type': 'ImageToTensor', 'keys': ['img']}, {'type': 'Collect', 'keys': ['img']}]}]\n",
      "key =  classes\n",
      "('UNKNOWN', 'General trash', 'Paper', 'Paper pack', 'Metal', 'Glass', 'Plastic', 'Styrofoam', 'Plastic bag', 'Battery', 'Clothing')\n",
      "key =  data\n",
      "{'samples_per_gpu': 4, 'workers_per_gpu': 2, 'train': {'type': 'MosaicCocoDataset', 'classes': ('UNKNOWN', 'General trash', 'Paper', 'Paper pack', 'Metal', 'Glass', 'Plastic', 'Styrofoam', 'Plastic bag', 'Battery', 'Clothing'), 'ann_file': '/opt/ml/input/data/train.json', 'img_prefix': '/opt/ml/input/data/', 'pipeline': [{'type': 'LoadMultiImageFromFile'}, {'type': 'LoadMultiAnnotations', 'with_bbox': True}, {'type': 'Mosaic'}, {'type': 'Resize', 'img_scale': (512, 512), 'multiscale_mode': 'range', 'keep_ratio': True}, {'type': 'RandomFlip', 'flip_ratio': 0.5}, {'type': 'Normalize', 'mean': [123.68, 116.779, 103.939], 'std': [58.393, 57.12, 57.375], 'to_rgb': True}, {'type': 'Pad', 'size_divisor': 32}, {'type': 'DefaultFormatBundle'}, {'type': 'Collect', 'keys': ['img', 'gt_bboxes', 'gt_labels']}]}, 'val': {'type': 'MosaicCocoDataset', 'classes': ('UNKNOWN', 'General trash', 'Paper', 'Paper pack', 'Metal', 'Glass', 'Plastic', 'Styrofoam', 'Plastic bag', 'Battery', 'Clothing'), 'ann_file': '/opt/ml/input/data/val.json', 'img_prefix': '/opt/ml/input/data/', 'pipeline': [{'type': 'LoadImageFromFile'}, {'type': 'MultiScaleFlipAug', 'img_scale': (512, 512), 'flip': False, 'transforms': [{'type': 'Resize', 'keep_ratio': True}, {'type': 'RandomFlip'}, {'type': 'Normalize', 'mean': [123.68, 116.779, 103.939], 'std': [58.393, 57.12, 57.375], 'to_rgb': True}, {'type': 'Pad', 'size_divisor': 32}, {'type': 'ImageToTensor', 'keys': ['img']}, {'type': 'Collect', 'keys': ['img']}]}]}, 'test': {'type': 'MosaicCocoDataset', 'classes': ('UNKNOWN', 'General trash', 'Paper', 'Paper pack', 'Metal', 'Glass', 'Plastic', 'Styrofoam', 'Plastic bag', 'Battery', 'Clothing'), 'ann_file': '/opt/ml/input/data/test.json', 'img_prefix': '/opt/ml/input/data/', 'pipeline': [{'type': 'LoadImageFromFile'}, {'type': 'MultiScaleFlipAug', 'img_scale': (512, 512), 'flip': False, 'transforms': [{'type': 'Resize', 'keep_ratio': True}, {'type': 'RandomFlip'}, {'type': 'Normalize', 'mean': [123.68, 116.779, 103.939], 'std': [58.393, 57.12, 57.375], 'to_rgb': True}, {'type': 'Pad', 'size_divisor': 32}, {'type': 'ImageToTensor', 'keys': ['img']}, {'type': 'Collect', 'keys': ['img']}]}]}}\n",
      "key =  optimizer\n",
      "{'type': 'SGD', 'lr': 0.001, 'momentum': 0.9, 'weight_decay': 0.0001}\n",
      "key =  optimizer_config\n",
      "{'grad_clip': {'max_norm': 35, 'norm_type': 2}}\n",
      "key =  lr_config\n",
      "{'policy': 'step', 'warmup': 'linear', 'warmup_iters': 500, 'warmup_ratio': 0.001, 'step': [8, 11]}\n",
      "key =  runner\n",
      "{'type': 'EpochBasedRunner', 'max_epochs': 12}\n",
      "key =  checkpoint_config\n",
      "{'interval': 5}\n",
      "key =  log_config\n",
      "{'interval': 50, 'hooks': [{'type': 'TextLoggerHook'}]}\n",
      "key =  custom_hooks\n",
      "[{'type': 'NumClassCheckHook'}]\n",
      "key =  dist_params\n",
      "{'backend': 'nccl'}\n",
      "key =  log_level\n",
      "INFO\n",
      "key =  load_from\n",
      "None\n",
      "key =  resume_from\n",
      "None\n",
      "key =  workflow\n",
      "[('train', 1)]\n",
      "key =  norm_cfg\n",
      "{'type': 'SyncBN', 'requires_grad': True}\n",
      "key =  seed\n",
      "2020\n",
      "key =  gpu_ids\n",
      "[0]\n",
      "key =  work_dir\n",
      "./work_dirs/sabl_faster_resnest50_pafpn_mosaic\n"
     ]
    }
   ],
   "source": [
    "for k in cfg.keys():\n",
    "    print(\"key = \",k)\n",
    "    print(cfg[k])\n",
    "    "
   ]
  },
  {
   "cell_type": "code",
   "execution_count": 5,
   "metadata": {
    "pycharm": {
     "name": "#%%\n"
    }
   },
   "outputs": [
    {
     "name": "stdout",
     "output_type": "stream",
     "text": [
      "loading annotations into memory...\n",
      "Done (t=4.99s)\n",
      "creating index...\n",
      "index created!\n"
     ]
    }
   ],
   "source": [
    "datasets = [build_dataset(cfg.data.train)]"
   ]
  },
  {
   "cell_type": "code",
   "execution_count": null,
   "metadata": {
    "pycharm": {
     "name": "#%%\n"
    }
   },
   "outputs": [
    {
     "name": "stdout",
     "output_type": "stream",
     "text": [
      "loading annotations into memory...\n"
     ]
    },
    {
     "name": "stderr",
     "output_type": "stream",
     "text": [
      "2021-05-16 15:53:14,886 - mmdet - INFO - Start running, host: root@28e81ee99bc4, work_dir: /opt/ml/code/p3-ims-obd-garbagecollector/object_detection/mmdetection_trash/work_dirs/sabl_faster_resnest50_pafpn_mosaic\n",
      "2021-05-16 15:53:14,887 - mmdet - INFO - workflow: [('train', 1)], max: 12 epochs\n"
     ]
    },
    {
     "name": "stdout",
     "output_type": "stream",
     "text": [
      "Done (t=1.60s)\n",
      "creating index...\n",
      "index created!\n"
     ]
    },
    {
     "name": "stderr",
     "output_type": "stream",
     "text": [
      "2021-05-16 15:53:42,907 - mmdet - INFO - Epoch [1][50/655]\tlr: 9.890e-05, eta: 1:12:56, time: 0.560, data_time: 0.053, memory: 3310, loss_rpn_cls: 0.6707, loss_rpn_bbox: 0.2292, loss_cls: 1.2619, acc: 70.4688, loss_bbox_cls: 0.3401, loss_bbox_reg: 0.2396, loss: 2.7414, grad_norm: 27.8914\n",
      "2021-05-16 15:54:08,158 - mmdet - INFO - Epoch [1][100/655]\tlr: 1.988e-04, eta: 1:08:53, time: 0.505, data_time: 0.006, memory: 3310, loss_rpn_cls: 0.5529, loss_rpn_bbox: 0.1872, loss_cls: 0.4190, acc: 93.4932, loss_bbox_cls: 0.1878, loss_bbox_reg: 0.1760, loss: 1.5229, grad_norm: 6.1843\n"
     ]
    }
   ],
   "source": [
    "train_detector(model, datasets[0], cfg, distributed=False, validate=True)"
   ]
  },
  {
   "cell_type": "code",
   "execution_count": null,
   "metadata": {},
   "outputs": [],
   "source": []
  }
 ],
 "metadata": {
  "kernelspec": {
   "display_name": "Python 3",
   "language": "python",
   "name": "python3"
  },
  "language_info": {
   "codemirror_mode": {
    "name": "ipython",
    "version": 3
   },
   "file_extension": ".py",
   "mimetype": "text/x-python",
   "name": "python",
   "nbconvert_exporter": "python",
   "pygments_lexer": "ipython3",
   "version": "3.7.7"
  },
  "pycharm": {
   "stem_cell": {
    "cell_type": "raw",
    "metadata": {
     "collapsed": false
    },
    "source": []
   }
  }
 },
 "nbformat": 4,
 "nbformat_minor": 4
}
